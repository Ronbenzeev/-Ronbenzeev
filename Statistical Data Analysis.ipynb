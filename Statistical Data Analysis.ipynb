{
 "cells": [
  {
   "cell_type": "markdown",
   "metadata": {},
   "source": [
    "Project aim is: determine which of the plans brings in more revenue in order to adjust the advertising budget.\n",
    "\n",
    "Step 1: Open the data file and study the general information\n",
    "\n",
    "Step 2: Prepare the data\n",
    "\n",
    "Step 3: Analyze the data\n",
    "\n",
    "Step 4: Test the hypotheses\n",
    "\n",
    "Step 5: Overall conclusion"
   ]
  },
  {
   "cell_type": "markdown",
   "metadata": {},
   "source": [
    "# Step 1. Open the data file and study the general information"
   ]
  },
  {
   "cell_type": "markdown",
   "metadata": {},
   "source": [
    "Let's import the tools that we will use in this project."
   ]
  },
  {
   "cell_type": "code",
   "execution_count": 5,
   "metadata": {},
   "outputs": [
    {
     "name": "stdout",
     "output_type": "stream",
     "text": [
      "Defaulting to user installation because normal site-packages is not writeable\n",
      "Requirement already up-to-date: sidetable in /home/jovyan/.local/lib/python3.7/site-packages (0.9.0)\n",
      "Requirement already satisfied, skipping upgrade: pandas>=1.0 in /home/jovyan/.local/lib/python3.7/site-packages (from sidetable) (1.3.5)\n",
      "Requirement already satisfied, skipping upgrade: numpy>=1.17.3; platform_machine != \"aarch64\" and platform_machine != \"arm64\" and python_version < \"3.10\" in /opt/conda/lib/python3.7/site-packages (from pandas>=1.0->sidetable) (1.19.5)\n",
      "Requirement already satisfied, skipping upgrade: pytz>=2017.3 in /opt/conda/lib/python3.7/site-packages (from pandas>=1.0->sidetable) (2021.1)\n",
      "Requirement already satisfied, skipping upgrade: python-dateutil>=2.7.3 in /opt/conda/lib/python3.7/site-packages (from pandas>=1.0->sidetable) (2.8.1)\n",
      "Requirement already satisfied, skipping upgrade: six>=1.5 in /opt/conda/lib/python3.7/site-packages (from python-dateutil>=2.7.3->pandas>=1.0->sidetable) (1.15.0)\n",
      "Note: you may need to restart the kernel to use updated packages.\n"
     ]
    }
   ],
   "source": [
    "pip install -U sidetable"
   ]
  },
  {
   "cell_type": "code",
   "execution_count": 6,
   "metadata": {},
   "outputs": [],
   "source": [
    "import pandas as pd\n",
    "from matplotlib import pyplot as plt\n",
    "import numpy as np\n",
    "import sidetable\n",
    "import warnings\n",
    "import datetime as dt\n",
    "import seaborn as sns"
   ]
  },
  {
   "cell_type": "markdown",
   "metadata": {},
   "source": [
    "Let's read the data."
   ]
  },
  {
   "cell_type": "code",
   "execution_count": 7,
   "metadata": {},
   "outputs": [],
   "source": [
    "try:\n",
    "    calls = pd.read_csv(r'C:\\Users\\Ron\\Documents\\megaline_calls.csv')\n",
    "except:\n",
    "    calls = pd.read_csv('/datasets/megaline_calls.csv')"
   ]
  },
  {
   "cell_type": "code",
   "execution_count": 8,
   "metadata": {},
   "outputs": [],
   "source": [
    "try:\n",
    "    internet = pd.read_csv(r'C:\\Users\\Ron\\Documents\\megaline_internet.csv')\n",
    "except:\n",
    "    internet = pd.read_csv('/datasets/megaline_internet.csv')"
   ]
  },
  {
   "cell_type": "code",
   "execution_count": 9,
   "metadata": {},
   "outputs": [],
   "source": [
    "try:\n",
    "    messages = pd.read_csv(r'C:\\Users\\Ron\\Documents\\megaline_messages.csv')\n",
    "except:\n",
    "    messages = pd.read_csv('/datasets/megaline_messages.csv')"
   ]
  },
  {
   "cell_type": "code",
   "execution_count": 10,
   "metadata": {},
   "outputs": [],
   "source": [
    "try:\n",
    "    plans = pd.read_csv(r'C:\\Users\\Ron\\Documents\\megaline_plans.csv')\n",
    "except:\n",
    "    plans = pd.read_csv('/datasets/megaline_plans.csv')"
   ]
  },
  {
   "cell_type": "code",
   "execution_count": 11,
   "metadata": {},
   "outputs": [],
   "source": [
    "try:\n",
    "    users = pd.read_csv(r'C:\\Users\\Ron\\Documents\\megaline_users.csv')\n",
    "except:\n",
    "    users = pd.read_csv('/datasets/megaline_users.csv')"
   ]
  },
  {
   "cell_type": "markdown",
   "metadata": {},
   "source": [
    "Let's study the data at first glance."
   ]
  },
  {
   "cell_type": "code",
   "execution_count": 12,
   "metadata": {},
   "outputs": [
    {
     "data": {
      "text/html": [
       "<div>\n",
       "<style scoped>\n",
       "    .dataframe tbody tr th:only-of-type {\n",
       "        vertical-align: middle;\n",
       "    }\n",
       "\n",
       "    .dataframe tbody tr th {\n",
       "        vertical-align: top;\n",
       "    }\n",
       "\n",
       "    .dataframe thead th {\n",
       "        text-align: right;\n",
       "    }\n",
       "</style>\n",
       "<table border=\"1\" class=\"dataframe\">\n",
       "  <thead>\n",
       "    <tr style=\"text-align: right;\">\n",
       "      <th></th>\n",
       "      <th>id</th>\n",
       "      <th>user_id</th>\n",
       "      <th>call_date</th>\n",
       "      <th>duration</th>\n",
       "    </tr>\n",
       "  </thead>\n",
       "  <tbody>\n",
       "    <tr>\n",
       "      <td>0</td>\n",
       "      <td>1000_93</td>\n",
       "      <td>1000</td>\n",
       "      <td>2018-12-27</td>\n",
       "      <td>8.52</td>\n",
       "    </tr>\n",
       "    <tr>\n",
       "      <td>1</td>\n",
       "      <td>1000_145</td>\n",
       "      <td>1000</td>\n",
       "      <td>2018-12-27</td>\n",
       "      <td>13.66</td>\n",
       "    </tr>\n",
       "    <tr>\n",
       "      <td>2</td>\n",
       "      <td>1000_247</td>\n",
       "      <td>1000</td>\n",
       "      <td>2018-12-27</td>\n",
       "      <td>14.48</td>\n",
       "    </tr>\n",
       "    <tr>\n",
       "      <td>3</td>\n",
       "      <td>1000_309</td>\n",
       "      <td>1000</td>\n",
       "      <td>2018-12-28</td>\n",
       "      <td>5.76</td>\n",
       "    </tr>\n",
       "    <tr>\n",
       "      <td>4</td>\n",
       "      <td>1000_380</td>\n",
       "      <td>1000</td>\n",
       "      <td>2018-12-30</td>\n",
       "      <td>4.22</td>\n",
       "    </tr>\n",
       "  </tbody>\n",
       "</table>\n",
       "</div>"
      ],
      "text/plain": [
       "         id  user_id   call_date  duration\n",
       "0   1000_93     1000  2018-12-27      8.52\n",
       "1  1000_145     1000  2018-12-27     13.66\n",
       "2  1000_247     1000  2018-12-27     14.48\n",
       "3  1000_309     1000  2018-12-28      5.76\n",
       "4  1000_380     1000  2018-12-30      4.22"
      ]
     },
     "execution_count": 12,
     "metadata": {},
     "output_type": "execute_result"
    }
   ],
   "source": [
    "calls.head()"
   ]
  },
  {
   "cell_type": "code",
   "execution_count": 13,
   "metadata": {},
   "outputs": [
    {
     "name": "stdout",
     "output_type": "stream",
     "text": [
      "<class 'pandas.core.frame.DataFrame'>\n",
      "RangeIndex: 137735 entries, 0 to 137734\n",
      "Data columns (total 4 columns):\n",
      "id           137735 non-null object\n",
      "user_id      137735 non-null int64\n",
      "call_date    137735 non-null object\n",
      "duration     137735 non-null float64\n",
      "dtypes: float64(1), int64(1), object(2)\n",
      "memory usage: 4.2+ MB\n"
     ]
    }
   ],
   "source": [
    "calls.info()"
   ]
  },
  {
   "cell_type": "markdown",
   "metadata": {},
   "source": [
    "The call_date column on calls needs to be data time and not object."
   ]
  },
  {
   "cell_type": "code",
   "execution_count": 10,
   "metadata": {},
   "outputs": [
    {
     "data": {
      "text/html": [
       "<div>\n",
       "<style scoped>\n",
       "    .dataframe tbody tr th:only-of-type {\n",
       "        vertical-align: middle;\n",
       "    }\n",
       "\n",
       "    .dataframe tbody tr th {\n",
       "        vertical-align: top;\n",
       "    }\n",
       "\n",
       "    .dataframe thead th {\n",
       "        text-align: right;\n",
       "    }\n",
       "</style>\n",
       "<table border=\"1\" class=\"dataframe\">\n",
       "  <thead>\n",
       "    <tr style=\"text-align: right;\">\n",
       "      <th></th>\n",
       "      <th>missing</th>\n",
       "      <th>total</th>\n",
       "      <th>percent</th>\n",
       "    </tr>\n",
       "  </thead>\n",
       "  <tbody>\n",
       "    <tr>\n",
       "      <th>id</th>\n",
       "      <td>0</td>\n",
       "      <td>137735</td>\n",
       "      <td>0.0</td>\n",
       "    </tr>\n",
       "    <tr>\n",
       "      <th>user_id</th>\n",
       "      <td>0</td>\n",
       "      <td>137735</td>\n",
       "      <td>0.0</td>\n",
       "    </tr>\n",
       "    <tr>\n",
       "      <th>call_date</th>\n",
       "      <td>0</td>\n",
       "      <td>137735</td>\n",
       "      <td>0.0</td>\n",
       "    </tr>\n",
       "    <tr>\n",
       "      <th>duration</th>\n",
       "      <td>0</td>\n",
       "      <td>137735</td>\n",
       "      <td>0.0</td>\n",
       "    </tr>\n",
       "  </tbody>\n",
       "</table>\n",
       "</div>"
      ],
      "text/plain": [
       "           missing   total  percent\n",
       "id               0  137735      0.0\n",
       "user_id          0  137735      0.0\n",
       "call_date        0  137735      0.0\n",
       "duration         0  137735      0.0"
      ]
     },
     "execution_count": 10,
     "metadata": {},
     "output_type": "execute_result"
    }
   ],
   "source": [
    "calls.stb.missing()"
   ]
  },
  {
   "cell_type": "code",
   "execution_count": 11,
   "metadata": {},
   "outputs": [
    {
     "data": {
      "text/html": [
       "<div>\n",
       "<style scoped>\n",
       "    .dataframe tbody tr th:only-of-type {\n",
       "        vertical-align: middle;\n",
       "    }\n",
       "\n",
       "    .dataframe tbody tr th {\n",
       "        vertical-align: top;\n",
       "    }\n",
       "\n",
       "    .dataframe thead th {\n",
       "        text-align: right;\n",
       "    }\n",
       "</style>\n",
       "<table border=\"1\" class=\"dataframe\">\n",
       "  <thead>\n",
       "    <tr style=\"text-align: right;\">\n",
       "      <th></th>\n",
       "      <th>user_id</th>\n",
       "      <th>duration</th>\n",
       "    </tr>\n",
       "  </thead>\n",
       "  <tbody>\n",
       "    <tr>\n",
       "      <th>count</th>\n",
       "      <td>137735.000000</td>\n",
       "      <td>137735.000000</td>\n",
       "    </tr>\n",
       "    <tr>\n",
       "      <th>mean</th>\n",
       "      <td>1247.658046</td>\n",
       "      <td>6.745927</td>\n",
       "    </tr>\n",
       "    <tr>\n",
       "      <th>std</th>\n",
       "      <td>139.416268</td>\n",
       "      <td>5.839241</td>\n",
       "    </tr>\n",
       "    <tr>\n",
       "      <th>min</th>\n",
       "      <td>1000.000000</td>\n",
       "      <td>0.000000</td>\n",
       "    </tr>\n",
       "    <tr>\n",
       "      <th>25%</th>\n",
       "      <td>1128.000000</td>\n",
       "      <td>1.290000</td>\n",
       "    </tr>\n",
       "    <tr>\n",
       "      <th>50%</th>\n",
       "      <td>1247.000000</td>\n",
       "      <td>5.980000</td>\n",
       "    </tr>\n",
       "    <tr>\n",
       "      <th>75%</th>\n",
       "      <td>1365.000000</td>\n",
       "      <td>10.690000</td>\n",
       "    </tr>\n",
       "    <tr>\n",
       "      <th>max</th>\n",
       "      <td>1499.000000</td>\n",
       "      <td>37.600000</td>\n",
       "    </tr>\n",
       "  </tbody>\n",
       "</table>\n",
       "</div>"
      ],
      "text/plain": [
       "             user_id       duration\n",
       "count  137735.000000  137735.000000\n",
       "mean     1247.658046       6.745927\n",
       "std       139.416268       5.839241\n",
       "min      1000.000000       0.000000\n",
       "25%      1128.000000       1.290000\n",
       "50%      1247.000000       5.980000\n",
       "75%      1365.000000      10.690000\n",
       "max      1499.000000      37.600000"
      ]
     },
     "execution_count": 11,
     "metadata": {},
     "output_type": "execute_result"
    }
   ],
   "source": [
    "calls.describe()"
   ]
  },
  {
   "cell_type": "markdown",
   "metadata": {},
   "source": [
    "Look like we have some outliers in the duration column. "
   ]
  },
  {
   "cell_type": "code",
   "execution_count": 12,
   "metadata": {},
   "outputs": [
    {
     "data": {
      "image/png": "[encoded data removed]",
      "text/plain": [
       "<Figure size 432x288 with 1 Axes>"
      ]
     },
     "metadata": {
      "needs_background": "light"
     },
     "output_type": "display_data"
    }
   ],
   "source": [
    "calls['duration'].plot(kind='hist')\n",
    "plt.show()"
   ]
  },
  {
   "cell_type": "markdown",
   "metadata": {},
   "source": [
    "The majority of the calls are between 2.5 - 12 minutes. There are a lot of calls with no duration. We will consider them as missed calls."
   ]
  },
  {
   "cell_type": "code",
   "execution_count": 13,
   "metadata": {},
   "outputs": [
    {
     "data": {
      "text/html": [
       "<div>\n",
       "<style scoped>\n",
       "    .dataframe tbody tr th:only-of-type {\n",
       "        vertical-align: middle;\n",
       "    }\n",
       "\n",
       "    .dataframe tbody tr th {\n",
       "        vertical-align: top;\n",
       "    }\n",
       "\n",
       "    .dataframe thead th {\n",
       "        text-align: right;\n",
       "    }\n",
       "</style>\n",
       "<table border=\"1\" class=\"dataframe\">\n",
       "  <thead>\n",
       "    <tr style=\"text-align: right;\">\n",
       "      <th></th>\n",
       "      <th>id</th>\n",
       "      <th>user_id</th>\n",
       "      <th>session_date</th>\n",
       "      <th>mb_used</th>\n",
       "    </tr>\n",
       "  </thead>\n",
       "  <tbody>\n",
       "    <tr>\n",
       "      <th>0</th>\n",
       "      <td>1000_13</td>\n",
       "      <td>1000</td>\n",
       "      <td>2018-12-29</td>\n",
       "      <td>89.86</td>\n",
       "    </tr>\n",
       "    <tr>\n",
       "      <th>1</th>\n",
       "      <td>1000_204</td>\n",
       "      <td>1000</td>\n",
       "      <td>2018-12-31</td>\n",
       "      <td>0.00</td>\n",
       "    </tr>\n",
       "    <tr>\n",
       "      <th>2</th>\n",
       "      <td>1000_379</td>\n",
       "      <td>1000</td>\n",
       "      <td>2018-12-28</td>\n",
       "      <td>660.40</td>\n",
       "    </tr>\n",
       "    <tr>\n",
       "      <th>3</th>\n",
       "      <td>1000_413</td>\n",
       "      <td>1000</td>\n",
       "      <td>2018-12-26</td>\n",
       "      <td>270.99</td>\n",
       "    </tr>\n",
       "    <tr>\n",
       "      <th>4</th>\n",
       "      <td>1000_442</td>\n",
       "      <td>1000</td>\n",
       "      <td>2018-12-27</td>\n",
       "      <td>880.22</td>\n",
       "    </tr>\n",
       "  </tbody>\n",
       "</table>\n",
       "</div>"
      ],
      "text/plain": [
       "         id  user_id session_date  mb_used\n",
       "0   1000_13     1000   2018-12-29    89.86\n",
       "1  1000_204     1000   2018-12-31     0.00\n",
       "2  1000_379     1000   2018-12-28   660.40\n",
       "3  1000_413     1000   2018-12-26   270.99\n",
       "4  1000_442     1000   2018-12-27   880.22"
      ]
     },
     "execution_count": 13,
     "metadata": {},
     "output_type": "execute_result"
    }
   ],
   "source": [
    "internet.head()"
   ]
  },
  {
   "cell_type": "code",
   "execution_count": 14,
   "metadata": {},
   "outputs": [
    {
     "name": "stdout",
     "output_type": "stream",
     "text": [
      "<class 'pandas.core.frame.DataFrame'>\n",
      "RangeIndex: 104825 entries, 0 to 104824\n",
      "Data columns (total 4 columns):\n",
      " #   Column        Non-Null Count   Dtype  \n",
      "---  ------        --------------   -----  \n",
      " 0   id            104825 non-null  object \n",
      " 1   user_id       104825 non-null  int64  \n",
      " 2   session_date  104825 non-null  object \n",
      " 3   mb_used       104825 non-null  float64\n",
      "dtypes: float64(1), int64(1), object(2)\n",
      "memory usage: 3.2+ MB\n"
     ]
    }
   ],
   "source": [
    "internet.info()"
   ]
  },
  {
   "cell_type": "markdown",
   "metadata": {},
   "source": [
    "The session_date column on the internet data needs to be data time and not object."
   ]
  },
  {
   "cell_type": "code",
   "execution_count": 15,
   "metadata": {},
   "outputs": [
    {
     "data": {
      "text/html": [
       "<div>\n",
       "<style scoped>\n",
       "    .dataframe tbody tr th:only-of-type {\n",
       "        vertical-align: middle;\n",
       "    }\n",
       "\n",
       "    .dataframe tbody tr th {\n",
       "        vertical-align: top;\n",
       "    }\n",
       "\n",
       "    .dataframe thead th {\n",
       "        text-align: right;\n",
       "    }\n",
       "</style>\n",
       "<table border=\"1\" class=\"dataframe\">\n",
       "  <thead>\n",
       "    <tr style=\"text-align: right;\">\n",
       "      <th></th>\n",
       "      <th>user_id</th>\n",
       "      <th>mb_used</th>\n",
       "    </tr>\n",
       "  </thead>\n",
       "  <tbody>\n",
       "    <tr>\n",
       "      <th>count</th>\n",
       "      <td>104825.000000</td>\n",
       "      <td>104825.000000</td>\n",
       "    </tr>\n",
       "    <tr>\n",
       "      <th>mean</th>\n",
       "      <td>1242.496361</td>\n",
       "      <td>366.713701</td>\n",
       "    </tr>\n",
       "    <tr>\n",
       "      <th>std</th>\n",
       "      <td>142.053913</td>\n",
       "      <td>277.170542</td>\n",
       "    </tr>\n",
       "    <tr>\n",
       "      <th>min</th>\n",
       "      <td>1000.000000</td>\n",
       "      <td>0.000000</td>\n",
       "    </tr>\n",
       "    <tr>\n",
       "      <th>25%</th>\n",
       "      <td>1122.000000</td>\n",
       "      <td>136.080000</td>\n",
       "    </tr>\n",
       "    <tr>\n",
       "      <th>50%</th>\n",
       "      <td>1236.000000</td>\n",
       "      <td>343.980000</td>\n",
       "    </tr>\n",
       "    <tr>\n",
       "      <th>75%</th>\n",
       "      <td>1367.000000</td>\n",
       "      <td>554.610000</td>\n",
       "    </tr>\n",
       "    <tr>\n",
       "      <th>max</th>\n",
       "      <td>1499.000000</td>\n",
       "      <td>1693.470000</td>\n",
       "    </tr>\n",
       "  </tbody>\n",
       "</table>\n",
       "</div>"
      ],
      "text/plain": [
       "             user_id        mb_used\n",
       "count  104825.000000  104825.000000\n",
       "mean     1242.496361     366.713701\n",
       "std       142.053913     277.170542\n",
       "min      1000.000000       0.000000\n",
       "25%      1122.000000     136.080000\n",
       "50%      1236.000000     343.980000\n",
       "75%      1367.000000     554.610000\n",
       "max      1499.000000    1693.470000"
      ]
     },
     "execution_count": 15,
     "metadata": {},
     "output_type": "execute_result"
    }
   ],
   "source": [
    "internet.describe()"
   ]
  },
  {
   "cell_type": "markdown",
   "metadata": {},
   "source": [
    "There is a massive difference between Q3 to the max in the mb_used column."
   ]
  },
  {
   "cell_type": "code",
   "execution_count": 16,
   "metadata": {},
   "outputs": [
    {
     "data": {
      "image/png": "[encoded data removed]",
      "text/plain": [
       "<Figure size 432x288 with 1 Axes>"
      ]
     },
     "metadata": {
      "needs_background": "light"
     },
     "output_type": "display_data"
    }
   ],
   "source": [
    "internet['mb_used'].plot(kind='hist')\n",
    "plt.show()"
   ]
  },
  {
   "cell_type": "markdown",
   "metadata": {},
   "source": [
    "Most of the mb_used is between 0 - 550 megabytes per month."
   ]
  },
  {
   "cell_type": "code",
   "execution_count": 17,
   "metadata": {},
   "outputs": [
    {
     "data": {
      "text/html": [
       "<div>\n",
       "<style scoped>\n",
       "    .dataframe tbody tr th:only-of-type {\n",
       "        vertical-align: middle;\n",
       "    }\n",
       "\n",
       "    .dataframe tbody tr th {\n",
       "        vertical-align: top;\n",
       "    }\n",
       "\n",
       "    .dataframe thead th {\n",
       "        text-align: right;\n",
       "    }\n",
       "</style>\n",
       "<table border=\"1\" class=\"dataframe\">\n",
       "  <thead>\n",
       "    <tr style=\"text-align: right;\">\n",
       "      <th></th>\n",
       "      <th>missing</th>\n",
       "      <th>total</th>\n",
       "      <th>percent</th>\n",
       "    </tr>\n",
       "  </thead>\n",
       "  <tbody>\n",
       "    <tr>\n",
       "      <th>id</th>\n",
       "      <td>0</td>\n",
       "      <td>104825</td>\n",
       "      <td>0.0</td>\n",
       "    </tr>\n",
       "    <tr>\n",
       "      <th>user_id</th>\n",
       "      <td>0</td>\n",
       "      <td>104825</td>\n",
       "      <td>0.0</td>\n",
       "    </tr>\n",
       "    <tr>\n",
       "      <th>session_date</th>\n",
       "      <td>0</td>\n",
       "      <td>104825</td>\n",
       "      <td>0.0</td>\n",
       "    </tr>\n",
       "    <tr>\n",
       "      <th>mb_used</th>\n",
       "      <td>0</td>\n",
       "      <td>104825</td>\n",
       "      <td>0.0</td>\n",
       "    </tr>\n",
       "  </tbody>\n",
       "</table>\n",
       "</div>"
      ],
      "text/plain": [
       "              missing   total  percent\n",
       "id                  0  104825      0.0\n",
       "user_id             0  104825      0.0\n",
       "session_date        0  104825      0.0\n",
       "mb_used             0  104825      0.0"
      ]
     },
     "execution_count": 17,
     "metadata": {},
     "output_type": "execute_result"
    }
   ],
   "source": [
    "internet.stb.missing()"
   ]
  },
  {
   "cell_type": "code",
   "execution_count": 18,
   "metadata": {},
   "outputs": [
    {
     "data": {
      "text/html": [
       "<div>\n",
       "<style scoped>\n",
       "    .dataframe tbody tr th:only-of-type {\n",
       "        vertical-align: middle;\n",
       "    }\n",
       "\n",
       "    .dataframe tbody tr th {\n",
       "        vertical-align: top;\n",
       "    }\n",
       "\n",
       "    .dataframe thead th {\n",
       "        text-align: right;\n",
       "    }\n",
       "</style>\n",
       "<table border=\"1\" class=\"dataframe\">\n",
       "  <thead>\n",
       "    <tr style=\"text-align: right;\">\n",
       "      <th></th>\n",
       "      <th>id</th>\n",
       "      <th>user_id</th>\n",
       "      <th>message_date</th>\n",
       "    </tr>\n",
       "  </thead>\n",
       "  <tbody>\n",
       "    <tr>\n",
       "      <th>0</th>\n",
       "      <td>1000_125</td>\n",
       "      <td>1000</td>\n",
       "      <td>2018-12-27</td>\n",
       "    </tr>\n",
       "    <tr>\n",
       "      <th>1</th>\n",
       "      <td>1000_160</td>\n",
       "      <td>1000</td>\n",
       "      <td>2018-12-31</td>\n",
       "    </tr>\n",
       "    <tr>\n",
       "      <th>2</th>\n",
       "      <td>1000_223</td>\n",
       "      <td>1000</td>\n",
       "      <td>2018-12-31</td>\n",
       "    </tr>\n",
       "    <tr>\n",
       "      <th>3</th>\n",
       "      <td>1000_251</td>\n",
       "      <td>1000</td>\n",
       "      <td>2018-12-27</td>\n",
       "    </tr>\n",
       "    <tr>\n",
       "      <th>4</th>\n",
       "      <td>1000_255</td>\n",
       "      <td>1000</td>\n",
       "      <td>2018-12-26</td>\n",
       "    </tr>\n",
       "  </tbody>\n",
       "</table>\n",
       "</div>"
      ],
      "text/plain": [
       "         id  user_id message_date\n",
       "0  1000_125     1000   2018-12-27\n",
       "1  1000_160     1000   2018-12-31\n",
       "2  1000_223     1000   2018-12-31\n",
       "3  1000_251     1000   2018-12-27\n",
       "4  1000_255     1000   2018-12-26"
      ]
     },
     "execution_count": 18,
     "metadata": {},
     "output_type": "execute_result"
    }
   ],
   "source": [
    "messages.head()"
   ]
  },
  {
   "cell_type": "code",
   "execution_count": 19,
   "metadata": {},
   "outputs": [
    {
     "name": "stdout",
     "output_type": "stream",
     "text": [
      "<class 'pandas.core.frame.DataFrame'>\n",
      "RangeIndex: 76051 entries, 0 to 76050\n",
      "Data columns (total 3 columns):\n",
      " #   Column        Non-Null Count  Dtype \n",
      "---  ------        --------------  ----- \n",
      " 0   id            76051 non-null  object\n",
      " 1   user_id       76051 non-null  int64 \n",
      " 2   message_date  76051 non-null  object\n",
      "dtypes: int64(1), object(2)\n",
      "memory usage: 1.7+ MB\n"
     ]
    }
   ],
   "source": [
    "messages.info()"
   ]
  },
  {
   "cell_type": "markdown",
   "metadata": {},
   "source": [
    "The message_date column on the messages data needs to be data time and not object."
   ]
  },
  {
   "cell_type": "code",
   "execution_count": 20,
   "metadata": {},
   "outputs": [
    {
     "data": {
      "text/html": [
       "<div>\n",
       "<style scoped>\n",
       "    .dataframe tbody tr th:only-of-type {\n",
       "        vertical-align: middle;\n",
       "    }\n",
       "\n",
       "    .dataframe tbody tr th {\n",
       "        vertical-align: top;\n",
       "    }\n",
       "\n",
       "    .dataframe thead th {\n",
       "        text-align: right;\n",
       "    }\n",
       "</style>\n",
       "<table border=\"1\" class=\"dataframe\">\n",
       "  <thead>\n",
       "    <tr style=\"text-align: right;\">\n",
       "      <th></th>\n",
       "      <th>user_id</th>\n",
       "    </tr>\n",
       "  </thead>\n",
       "  <tbody>\n",
       "    <tr>\n",
       "      <th>count</th>\n",
       "      <td>76051.000000</td>\n",
       "    </tr>\n",
       "    <tr>\n",
       "      <th>mean</th>\n",
       "      <td>1245.972768</td>\n",
       "    </tr>\n",
       "    <tr>\n",
       "      <th>std</th>\n",
       "      <td>139.843635</td>\n",
       "    </tr>\n",
       "    <tr>\n",
       "      <th>min</th>\n",
       "      <td>1000.000000</td>\n",
       "    </tr>\n",
       "    <tr>\n",
       "      <th>25%</th>\n",
       "      <td>1123.000000</td>\n",
       "    </tr>\n",
       "    <tr>\n",
       "      <th>50%</th>\n",
       "      <td>1251.000000</td>\n",
       "    </tr>\n",
       "    <tr>\n",
       "      <th>75%</th>\n",
       "      <td>1362.000000</td>\n",
       "    </tr>\n",
       "    <tr>\n",
       "      <th>max</th>\n",
       "      <td>1497.000000</td>\n",
       "    </tr>\n",
       "  </tbody>\n",
       "</table>\n",
       "</div>"
      ],
      "text/plain": [
       "            user_id\n",
       "count  76051.000000\n",
       "mean    1245.972768\n",
       "std      139.843635\n",
       "min     1000.000000\n",
       "25%     1123.000000\n",
       "50%     1251.000000\n",
       "75%     1362.000000\n",
       "max     1497.000000"
      ]
     },
     "execution_count": 20,
     "metadata": {},
     "output_type": "execute_result"
    }
   ],
   "source": [
    "messages.describe()"
   ]
  },
  {
   "cell_type": "code",
   "execution_count": 21,
   "metadata": {},
   "outputs": [
    {
     "data": {
      "text/html": [
       "<div>\n",
       "<style scoped>\n",
       "    .dataframe tbody tr th:only-of-type {\n",
       "        vertical-align: middle;\n",
       "    }\n",
       "\n",
       "    .dataframe tbody tr th {\n",
       "        vertical-align: top;\n",
       "    }\n",
       "\n",
       "    .dataframe thead th {\n",
       "        text-align: right;\n",
       "    }\n",
       "</style>\n",
       "<table border=\"1\" class=\"dataframe\">\n",
       "  <thead>\n",
       "    <tr style=\"text-align: right;\">\n",
       "      <th></th>\n",
       "      <th>messages_included</th>\n",
       "      <th>mb_per_month_included</th>\n",
       "      <th>minutes_included</th>\n",
       "      <th>usd_monthly_pay</th>\n",
       "      <th>usd_per_gb</th>\n",
       "      <th>usd_per_message</th>\n",
       "      <th>usd_per_minute</th>\n",
       "      <th>plan_name</th>\n",
       "    </tr>\n",
       "  </thead>\n",
       "  <tbody>\n",
       "    <tr>\n",
       "      <th>0</th>\n",
       "      <td>50</td>\n",
       "      <td>15360</td>\n",
       "      <td>500</td>\n",
       "      <td>20</td>\n",
       "      <td>10</td>\n",
       "      <td>0.03</td>\n",
       "      <td>0.03</td>\n",
       "      <td>surf</td>\n",
       "    </tr>\n",
       "    <tr>\n",
       "      <th>1</th>\n",
       "      <td>1000</td>\n",
       "      <td>30720</td>\n",
       "      <td>3000</td>\n",
       "      <td>70</td>\n",
       "      <td>7</td>\n",
       "      <td>0.01</td>\n",
       "      <td>0.01</td>\n",
       "      <td>ultimate</td>\n",
       "    </tr>\n",
       "  </tbody>\n",
       "</table>\n",
       "</div>"
      ],
      "text/plain": [
       "   messages_included  mb_per_month_included  minutes_included  \\\n",
       "0                 50                  15360               500   \n",
       "1               1000                  30720              3000   \n",
       "\n",
       "   usd_monthly_pay  usd_per_gb  usd_per_message  usd_per_minute plan_name  \n",
       "0               20          10             0.03            0.03      surf  \n",
       "1               70           7             0.01            0.01  ultimate  "
      ]
     },
     "execution_count": 21,
     "metadata": {},
     "output_type": "execute_result"
    }
   ],
   "source": [
    "plans.head()"
   ]
  },
  {
   "cell_type": "code",
   "execution_count": 22,
   "metadata": {},
   "outputs": [
    {
     "name": "stdout",
     "output_type": "stream",
     "text": [
      "<class 'pandas.core.frame.DataFrame'>\n",
      "RangeIndex: 2 entries, 0 to 1\n",
      "Data columns (total 8 columns):\n",
      " #   Column                 Non-Null Count  Dtype  \n",
      "---  ------                 --------------  -----  \n",
      " 0   messages_included      2 non-null      int64  \n",
      " 1   mb_per_month_included  2 non-null      int64  \n",
      " 2   minutes_included       2 non-null      int64  \n",
      " 3   usd_monthly_pay        2 non-null      int64  \n",
      " 4   usd_per_gb             2 non-null      int64  \n",
      " 5   usd_per_message        2 non-null      float64\n",
      " 6   usd_per_minute         2 non-null      float64\n",
      " 7   plan_name              2 non-null      object \n",
      "dtypes: float64(2), int64(5), object(1)\n",
      "memory usage: 256.0+ bytes\n"
     ]
    }
   ],
   "source": [
    "plans.info()"
   ]
  },
  {
   "cell_type": "code",
   "execution_count": 23,
   "metadata": {},
   "outputs": [
    {
     "data": {
      "text/html": [
       "<div>\n",
       "<style scoped>\n",
       "    .dataframe tbody tr th:only-of-type {\n",
       "        vertical-align: middle;\n",
       "    }\n",
       "\n",
       "    .dataframe tbody tr th {\n",
       "        vertical-align: top;\n",
       "    }\n",
       "\n",
       "    .dataframe thead th {\n",
       "        text-align: right;\n",
       "    }\n",
       "</style>\n",
       "<table border=\"1\" class=\"dataframe\">\n",
       "  <thead>\n",
       "    <tr style=\"text-align: right;\">\n",
       "      <th></th>\n",
       "      <th>messages_included</th>\n",
       "      <th>mb_per_month_included</th>\n",
       "      <th>minutes_included</th>\n",
       "      <th>usd_monthly_pay</th>\n",
       "      <th>usd_per_gb</th>\n",
       "      <th>usd_per_message</th>\n",
       "      <th>usd_per_minute</th>\n",
       "    </tr>\n",
       "  </thead>\n",
       "  <tbody>\n",
       "    <tr>\n",
       "      <th>count</th>\n",
       "      <td>2.000000</td>\n",
       "      <td>2.000000</td>\n",
       "      <td>2.000000</td>\n",
       "      <td>2.000000</td>\n",
       "      <td>2.00000</td>\n",
       "      <td>2.000000</td>\n",
       "      <td>2.000000</td>\n",
       "    </tr>\n",
       "    <tr>\n",
       "      <th>mean</th>\n",
       "      <td>525.000000</td>\n",
       "      <td>23040.000000</td>\n",
       "      <td>1750.000000</td>\n",
       "      <td>45.000000</td>\n",
       "      <td>8.50000</td>\n",
       "      <td>0.020000</td>\n",
       "      <td>0.020000</td>\n",
       "    </tr>\n",
       "    <tr>\n",
       "      <th>std</th>\n",
       "      <td>671.751442</td>\n",
       "      <td>10861.160159</td>\n",
       "      <td>1767.766953</td>\n",
       "      <td>35.355339</td>\n",
       "      <td>2.12132</td>\n",
       "      <td>0.014142</td>\n",
       "      <td>0.014142</td>\n",
       "    </tr>\n",
       "    <tr>\n",
       "      <th>min</th>\n",
       "      <td>50.000000</td>\n",
       "      <td>15360.000000</td>\n",
       "      <td>500.000000</td>\n",
       "      <td>20.000000</td>\n",
       "      <td>7.00000</td>\n",
       "      <td>0.010000</td>\n",
       "      <td>0.010000</td>\n",
       "    </tr>\n",
       "    <tr>\n",
       "      <th>25%</th>\n",
       "      <td>287.500000</td>\n",
       "      <td>19200.000000</td>\n",
       "      <td>1125.000000</td>\n",
       "      <td>32.500000</td>\n",
       "      <td>7.75000</td>\n",
       "      <td>0.015000</td>\n",
       "      <td>0.015000</td>\n",
       "    </tr>\n",
       "    <tr>\n",
       "      <th>50%</th>\n",
       "      <td>525.000000</td>\n",
       "      <td>23040.000000</td>\n",
       "      <td>1750.000000</td>\n",
       "      <td>45.000000</td>\n",
       "      <td>8.50000</td>\n",
       "      <td>0.020000</td>\n",
       "      <td>0.020000</td>\n",
       "    </tr>\n",
       "    <tr>\n",
       "      <th>75%</th>\n",
       "      <td>762.500000</td>\n",
       "      <td>26880.000000</td>\n",
       "      <td>2375.000000</td>\n",
       "      <td>57.500000</td>\n",
       "      <td>9.25000</td>\n",
       "      <td>0.025000</td>\n",
       "      <td>0.025000</td>\n",
       "    </tr>\n",
       "    <tr>\n",
       "      <th>max</th>\n",
       "      <td>1000.000000</td>\n",
       "      <td>30720.000000</td>\n",
       "      <td>3000.000000</td>\n",
       "      <td>70.000000</td>\n",
       "      <td>10.00000</td>\n",
       "      <td>0.030000</td>\n",
       "      <td>0.030000</td>\n",
       "    </tr>\n",
       "  </tbody>\n",
       "</table>\n",
       "</div>"
      ],
      "text/plain": [
       "       messages_included  mb_per_month_included  minutes_included  \\\n",
       "count           2.000000               2.000000          2.000000   \n",
       "mean          525.000000           23040.000000       1750.000000   \n",
       "std           671.751442           10861.160159       1767.766953   \n",
       "min            50.000000           15360.000000        500.000000   \n",
       "25%           287.500000           19200.000000       1125.000000   \n",
       "50%           525.000000           23040.000000       1750.000000   \n",
       "75%           762.500000           26880.000000       2375.000000   \n",
       "max          1000.000000           30720.000000       3000.000000   \n",
       "\n",
       "       usd_monthly_pay  usd_per_gb  usd_per_message  usd_per_minute  \n",
       "count         2.000000     2.00000         2.000000        2.000000  \n",
       "mean         45.000000     8.50000         0.020000        0.020000  \n",
       "std          35.355339     2.12132         0.014142        0.014142  \n",
       "min          20.000000     7.00000         0.010000        0.010000  \n",
       "25%          32.500000     7.75000         0.015000        0.015000  \n",
       "50%          45.000000     8.50000         0.020000        0.020000  \n",
       "75%          57.500000     9.25000         0.025000        0.025000  \n",
       "max          70.000000    10.00000         0.030000        0.030000  "
      ]
     },
     "execution_count": 23,
     "metadata": {},
     "output_type": "execute_result"
    }
   ],
   "source": [
    "plans.describe()"
   ]
  },
  {
   "cell_type": "code",
   "execution_count": 24,
   "metadata": {},
   "outputs": [
    {
     "data": {
      "text/html": [
       "<div>\n",
       "<style scoped>\n",
       "    .dataframe tbody tr th:only-of-type {\n",
       "        vertical-align: middle;\n",
       "    }\n",
       "\n",
       "    .dataframe tbody tr th {\n",
       "        vertical-align: top;\n",
       "    }\n",
       "\n",
       "    .dataframe thead th {\n",
       "        text-align: right;\n",
       "    }\n",
       "</style>\n",
       "<table border=\"1\" class=\"dataframe\">\n",
       "  <thead>\n",
       "    <tr style=\"text-align: right;\">\n",
       "      <th></th>\n",
       "      <th>user_id</th>\n",
       "      <th>first_name</th>\n",
       "      <th>last_name</th>\n",
       "      <th>age</th>\n",
       "      <th>city</th>\n",
       "      <th>reg_date</th>\n",
       "      <th>plan</th>\n",
       "      <th>churn_date</th>\n",
       "    </tr>\n",
       "  </thead>\n",
       "  <tbody>\n",
       "    <tr>\n",
       "      <th>0</th>\n",
       "      <td>1000</td>\n",
       "      <td>Anamaria</td>\n",
       "      <td>Bauer</td>\n",
       "      <td>45</td>\n",
       "      <td>Atlanta-Sandy Springs-Roswell, GA MSA</td>\n",
       "      <td>2018-12-24</td>\n",
       "      <td>ultimate</td>\n",
       "      <td>NaN</td>\n",
       "    </tr>\n",
       "    <tr>\n",
       "      <th>1</th>\n",
       "      <td>1001</td>\n",
       "      <td>Mickey</td>\n",
       "      <td>Wilkerson</td>\n",
       "      <td>28</td>\n",
       "      <td>Seattle-Tacoma-Bellevue, WA MSA</td>\n",
       "      <td>2018-08-13</td>\n",
       "      <td>surf</td>\n",
       "      <td>NaN</td>\n",
       "    </tr>\n",
       "    <tr>\n",
       "      <th>2</th>\n",
       "      <td>1002</td>\n",
       "      <td>Carlee</td>\n",
       "      <td>Hoffman</td>\n",
       "      <td>36</td>\n",
       "      <td>Las Vegas-Henderson-Paradise, NV MSA</td>\n",
       "      <td>2018-10-21</td>\n",
       "      <td>surf</td>\n",
       "      <td>NaN</td>\n",
       "    </tr>\n",
       "    <tr>\n",
       "      <th>3</th>\n",
       "      <td>1003</td>\n",
       "      <td>Reynaldo</td>\n",
       "      <td>Jenkins</td>\n",
       "      <td>52</td>\n",
       "      <td>Tulsa, OK MSA</td>\n",
       "      <td>2018-01-28</td>\n",
       "      <td>surf</td>\n",
       "      <td>NaN</td>\n",
       "    </tr>\n",
       "    <tr>\n",
       "      <th>4</th>\n",
       "      <td>1004</td>\n",
       "      <td>Leonila</td>\n",
       "      <td>Thompson</td>\n",
       "      <td>40</td>\n",
       "      <td>Seattle-Tacoma-Bellevue, WA MSA</td>\n",
       "      <td>2018-05-23</td>\n",
       "      <td>surf</td>\n",
       "      <td>NaN</td>\n",
       "    </tr>\n",
       "  </tbody>\n",
       "</table>\n",
       "</div>"
      ],
      "text/plain": [
       "   user_id first_name  last_name  age                                   city  \\\n",
       "0     1000   Anamaria      Bauer   45  Atlanta-Sandy Springs-Roswell, GA MSA   \n",
       "1     1001     Mickey  Wilkerson   28        Seattle-Tacoma-Bellevue, WA MSA   \n",
       "2     1002     Carlee    Hoffman   36   Las Vegas-Henderson-Paradise, NV MSA   \n",
       "3     1003   Reynaldo    Jenkins   52                          Tulsa, OK MSA   \n",
       "4     1004    Leonila   Thompson   40        Seattle-Tacoma-Bellevue, WA MSA   \n",
       "\n",
       "     reg_date      plan churn_date  \n",
       "0  2018-12-24  ultimate        NaN  \n",
       "1  2018-08-13      surf        NaN  \n",
       "2  2018-10-21      surf        NaN  \n",
       "3  2018-01-28      surf        NaN  \n",
       "4  2018-05-23      surf        NaN  "
      ]
     },
     "execution_count": 24,
     "metadata": {},
     "output_type": "execute_result"
    }
   ],
   "source": [
    "users.head()"
   ]
  },
  {
   "cell_type": "code",
   "execution_count": 25,
   "metadata": {},
   "outputs": [
    {
     "name": "stdout",
     "output_type": "stream",
     "text": [
      "<class 'pandas.core.frame.DataFrame'>\n",
      "RangeIndex: 500 entries, 0 to 499\n",
      "Data columns (total 8 columns):\n",
      " #   Column      Non-Null Count  Dtype \n",
      "---  ------      --------------  ----- \n",
      " 0   user_id     500 non-null    int64 \n",
      " 1   first_name  500 non-null    object\n",
      " 2   last_name   500 non-null    object\n",
      " 3   age         500 non-null    int64 \n",
      " 4   city        500 non-null    object\n",
      " 5   reg_date    500 non-null    object\n",
      " 6   plan        500 non-null    object\n",
      " 7   churn_date  34 non-null     object\n",
      "dtypes: int64(2), object(6)\n",
      "memory usage: 31.4+ KB\n"
     ]
    }
   ],
   "source": [
    "users.info()"
   ]
  },
  {
   "cell_type": "markdown",
   "metadata": {},
   "source": [
    "There are missing values in churn_date. This is because those users are still active."
   ]
  },
  {
   "cell_type": "code",
   "execution_count": 26,
   "metadata": {},
   "outputs": [
    {
     "data": {
      "text/html": [
       "<div>\n",
       "<style scoped>\n",
       "    .dataframe tbody tr th:only-of-type {\n",
       "        vertical-align: middle;\n",
       "    }\n",
       "\n",
       "    .dataframe tbody tr th {\n",
       "        vertical-align: top;\n",
       "    }\n",
       "\n",
       "    .dataframe thead th {\n",
       "        text-align: right;\n",
       "    }\n",
       "</style>\n",
       "<table border=\"1\" class=\"dataframe\">\n",
       "  <thead>\n",
       "    <tr style=\"text-align: right;\">\n",
       "      <th></th>\n",
       "      <th>user_id</th>\n",
       "      <th>first_name</th>\n",
       "      <th>last_name</th>\n",
       "      <th>age</th>\n",
       "      <th>city</th>\n",
       "      <th>reg_date</th>\n",
       "      <th>plan</th>\n",
       "      <th>churn_date</th>\n",
       "    </tr>\n",
       "  </thead>\n",
       "  <tbody>\n",
       "    <tr>\n",
       "      <th>0</th>\n",
       "      <td>1000</td>\n",
       "      <td>Anamaria</td>\n",
       "      <td>Bauer</td>\n",
       "      <td>45</td>\n",
       "      <td>Atlanta-Sandy Springs-Roswell, GA MSA</td>\n",
       "      <td>2018-12-24</td>\n",
       "      <td>ultimate</td>\n",
       "      <td>NaN</td>\n",
       "    </tr>\n",
       "    <tr>\n",
       "      <th>1</th>\n",
       "      <td>1001</td>\n",
       "      <td>Mickey</td>\n",
       "      <td>Wilkerson</td>\n",
       "      <td>28</td>\n",
       "      <td>Seattle-Tacoma-Bellevue, WA MSA</td>\n",
       "      <td>2018-08-13</td>\n",
       "      <td>surf</td>\n",
       "      <td>NaN</td>\n",
       "    </tr>\n",
       "    <tr>\n",
       "      <th>2</th>\n",
       "      <td>1002</td>\n",
       "      <td>Carlee</td>\n",
       "      <td>Hoffman</td>\n",
       "      <td>36</td>\n",
       "      <td>Las Vegas-Henderson-Paradise, NV MSA</td>\n",
       "      <td>2018-10-21</td>\n",
       "      <td>surf</td>\n",
       "      <td>NaN</td>\n",
       "    </tr>\n",
       "    <tr>\n",
       "      <th>3</th>\n",
       "      <td>1003</td>\n",
       "      <td>Reynaldo</td>\n",
       "      <td>Jenkins</td>\n",
       "      <td>52</td>\n",
       "      <td>Tulsa, OK MSA</td>\n",
       "      <td>2018-01-28</td>\n",
       "      <td>surf</td>\n",
       "      <td>NaN</td>\n",
       "    </tr>\n",
       "    <tr>\n",
       "      <th>4</th>\n",
       "      <td>1004</td>\n",
       "      <td>Leonila</td>\n",
       "      <td>Thompson</td>\n",
       "      <td>40</td>\n",
       "      <td>Seattle-Tacoma-Bellevue, WA MSA</td>\n",
       "      <td>2018-05-23</td>\n",
       "      <td>surf</td>\n",
       "      <td>NaN</td>\n",
       "    </tr>\n",
       "    <tr>\n",
       "      <th>...</th>\n",
       "      <td>...</td>\n",
       "      <td>...</td>\n",
       "      <td>...</td>\n",
       "      <td>...</td>\n",
       "      <td>...</td>\n",
       "      <td>...</td>\n",
       "      <td>...</td>\n",
       "      <td>...</td>\n",
       "    </tr>\n",
       "    <tr>\n",
       "      <th>495</th>\n",
       "      <td>1495</td>\n",
       "      <td>Fidel</td>\n",
       "      <td>Sharpe</td>\n",
       "      <td>67</td>\n",
       "      <td>New York-Newark-Jersey City, NY-NJ-PA MSA</td>\n",
       "      <td>2018-09-04</td>\n",
       "      <td>surf</td>\n",
       "      <td>NaN</td>\n",
       "    </tr>\n",
       "    <tr>\n",
       "      <th>496</th>\n",
       "      <td>1496</td>\n",
       "      <td>Ariel</td>\n",
       "      <td>Shepherd</td>\n",
       "      <td>49</td>\n",
       "      <td>New Orleans-Metairie, LA MSA</td>\n",
       "      <td>2018-02-20</td>\n",
       "      <td>surf</td>\n",
       "      <td>NaN</td>\n",
       "    </tr>\n",
       "    <tr>\n",
       "      <th>497</th>\n",
       "      <td>1497</td>\n",
       "      <td>Donte</td>\n",
       "      <td>Barrera</td>\n",
       "      <td>49</td>\n",
       "      <td>Los Angeles-Long Beach-Anaheim, CA MSA</td>\n",
       "      <td>2018-12-10</td>\n",
       "      <td>ultimate</td>\n",
       "      <td>NaN</td>\n",
       "    </tr>\n",
       "    <tr>\n",
       "      <th>498</th>\n",
       "      <td>1498</td>\n",
       "      <td>Scot</td>\n",
       "      <td>Williamson</td>\n",
       "      <td>51</td>\n",
       "      <td>New York-Newark-Jersey City, NY-NJ-PA MSA</td>\n",
       "      <td>2018-02-04</td>\n",
       "      <td>surf</td>\n",
       "      <td>NaN</td>\n",
       "    </tr>\n",
       "    <tr>\n",
       "      <th>499</th>\n",
       "      <td>1499</td>\n",
       "      <td>Shena</td>\n",
       "      <td>Dickson</td>\n",
       "      <td>37</td>\n",
       "      <td>Orlando-Kissimmee-Sanford, FL MSA</td>\n",
       "      <td>2018-05-06</td>\n",
       "      <td>surf</td>\n",
       "      <td>NaN</td>\n",
       "    </tr>\n",
       "  </tbody>\n",
       "</table>\n",
       "<p>466 rows × 8 columns</p>\n",
       "</div>"
      ],
      "text/plain": [
       "     user_id first_name   last_name  age  \\\n",
       "0       1000   Anamaria       Bauer   45   \n",
       "1       1001     Mickey   Wilkerson   28   \n",
       "2       1002     Carlee     Hoffman   36   \n",
       "3       1003   Reynaldo     Jenkins   52   \n",
       "4       1004    Leonila    Thompson   40   \n",
       "..       ...        ...         ...  ...   \n",
       "495     1495      Fidel      Sharpe   67   \n",
       "496     1496      Ariel    Shepherd   49   \n",
       "497     1497      Donte     Barrera   49   \n",
       "498     1498       Scot  Williamson   51   \n",
       "499     1499      Shena     Dickson   37   \n",
       "\n",
       "                                          city    reg_date      plan  \\\n",
       "0        Atlanta-Sandy Springs-Roswell, GA MSA  2018-12-24  ultimate   \n",
       "1              Seattle-Tacoma-Bellevue, WA MSA  2018-08-13      surf   \n",
       "2         Las Vegas-Henderson-Paradise, NV MSA  2018-10-21      surf   \n",
       "3                                Tulsa, OK MSA  2018-01-28      surf   \n",
       "4              Seattle-Tacoma-Bellevue, WA MSA  2018-05-23      surf   \n",
       "..                                         ...         ...       ...   \n",
       "495  New York-Newark-Jersey City, NY-NJ-PA MSA  2018-09-04      surf   \n",
       "496               New Orleans-Metairie, LA MSA  2018-02-20      surf   \n",
       "497     Los Angeles-Long Beach-Anaheim, CA MSA  2018-12-10  ultimate   \n",
       "498  New York-Newark-Jersey City, NY-NJ-PA MSA  2018-02-04      surf   \n",
       "499          Orlando-Kissimmee-Sanford, FL MSA  2018-05-06      surf   \n",
       "\n",
       "    churn_date  \n",
       "0          NaN  \n",
       "1          NaN  \n",
       "2          NaN  \n",
       "3          NaN  \n",
       "4          NaN  \n",
       "..         ...  \n",
       "495        NaN  \n",
       "496        NaN  \n",
       "497        NaN  \n",
       "498        NaN  \n",
       "499        NaN  \n",
       "\n",
       "[466 rows x 8 columns]"
      ]
     },
     "execution_count": 26,
     "metadata": {},
     "output_type": "execute_result"
    }
   ],
   "source": [
    "users[users.churn_date.isnull()]"
   ]
  },
  {
   "cell_type": "code",
   "execution_count": 27,
   "metadata": {},
   "outputs": [
    {
     "data": {
      "text/html": [
       "<div>\n",
       "<style scoped>\n",
       "    .dataframe tbody tr th:only-of-type {\n",
       "        vertical-align: middle;\n",
       "    }\n",
       "\n",
       "    .dataframe tbody tr th {\n",
       "        vertical-align: top;\n",
       "    }\n",
       "\n",
       "    .dataframe thead th {\n",
       "        text-align: right;\n",
       "    }\n",
       "</style>\n",
       "<table border=\"1\" class=\"dataframe\">\n",
       "  <thead>\n",
       "    <tr style=\"text-align: right;\">\n",
       "      <th></th>\n",
       "      <th>user_id</th>\n",
       "      <th>first_name</th>\n",
       "      <th>last_name</th>\n",
       "      <th>age</th>\n",
       "      <th>city</th>\n",
       "      <th>reg_date</th>\n",
       "      <th>plan</th>\n",
       "      <th>churn_date</th>\n",
       "    </tr>\n",
       "  </thead>\n",
       "  <tbody>\n",
       "    <tr>\n",
       "      <th>6</th>\n",
       "      <td>1006</td>\n",
       "      <td>Jesusa</td>\n",
       "      <td>Bradford</td>\n",
       "      <td>73</td>\n",
       "      <td>San Francisco-Oakland-Berkeley, CA MSA</td>\n",
       "      <td>2018-11-27</td>\n",
       "      <td>ultimate</td>\n",
       "      <td>2018-12-18</td>\n",
       "    </tr>\n",
       "    <tr>\n",
       "      <th>12</th>\n",
       "      <td>1012</td>\n",
       "      <td>Jonelle</td>\n",
       "      <td>Mcbride</td>\n",
       "      <td>59</td>\n",
       "      <td>Chicago-Naperville-Elgin, IL-IN-WI MSA</td>\n",
       "      <td>2018-06-28</td>\n",
       "      <td>surf</td>\n",
       "      <td>2018-11-16</td>\n",
       "    </tr>\n",
       "    <tr>\n",
       "      <th>22</th>\n",
       "      <td>1022</td>\n",
       "      <td>Bo</td>\n",
       "      <td>Snow</td>\n",
       "      <td>73</td>\n",
       "      <td>New York-Newark-Jersey City, NY-NJ-PA MSA</td>\n",
       "      <td>2018-04-20</td>\n",
       "      <td>surf</td>\n",
       "      <td>2018-09-07</td>\n",
       "    </tr>\n",
       "    <tr>\n",
       "      <th>40</th>\n",
       "      <td>1040</td>\n",
       "      <td>Paris</td>\n",
       "      <td>Santos</td>\n",
       "      <td>72</td>\n",
       "      <td>Philadelphia-Camden-Wilmington, PA-NJ-DE-MD MSA</td>\n",
       "      <td>2018-12-23</td>\n",
       "      <td>surf</td>\n",
       "      <td>2018-12-30</td>\n",
       "    </tr>\n",
       "    <tr>\n",
       "      <th>50</th>\n",
       "      <td>1050</td>\n",
       "      <td>Jone</td>\n",
       "      <td>Owen</td>\n",
       "      <td>23</td>\n",
       "      <td>Miami-Fort Lauderdale-West Palm Beach, FL MSA</td>\n",
       "      <td>2018-03-20</td>\n",
       "      <td>ultimate</td>\n",
       "      <td>2018-10-07</td>\n",
       "    </tr>\n",
       "    <tr>\n",
       "      <th>54</th>\n",
       "      <td>1054</td>\n",
       "      <td>Denis</td>\n",
       "      <td>Frost</td>\n",
       "      <td>50</td>\n",
       "      <td>Phoenix-Mesa-Chandler, AZ MSA</td>\n",
       "      <td>2018-04-21</td>\n",
       "      <td>surf</td>\n",
       "      <td>2018-12-31</td>\n",
       "    </tr>\n",
       "    <tr>\n",
       "      <th>67</th>\n",
       "      <td>1067</td>\n",
       "      <td>Robt</td>\n",
       "      <td>Allen</td>\n",
       "      <td>37</td>\n",
       "      <td>Grand Rapids-Kentwood, MI MSA</td>\n",
       "      <td>2018-09-24</td>\n",
       "      <td>surf</td>\n",
       "      <td>2018-11-24</td>\n",
       "    </tr>\n",
       "    <tr>\n",
       "      <th>83</th>\n",
       "      <td>1083</td>\n",
       "      <td>Lyndia</td>\n",
       "      <td>Acevedo</td>\n",
       "      <td>65</td>\n",
       "      <td>Los Angeles-Long Beach-Anaheim, CA MSA</td>\n",
       "      <td>2018-10-26</td>\n",
       "      <td>surf</td>\n",
       "      <td>2018-12-18</td>\n",
       "    </tr>\n",
       "    <tr>\n",
       "      <th>84</th>\n",
       "      <td>1084</td>\n",
       "      <td>Wiley</td>\n",
       "      <td>Mckinney</td>\n",
       "      <td>21</td>\n",
       "      <td>Miami-Fort Lauderdale-West Palm Beach, FL MSA</td>\n",
       "      <td>2018-06-04</td>\n",
       "      <td>surf</td>\n",
       "      <td>2018-11-11</td>\n",
       "    </tr>\n",
       "    <tr>\n",
       "      <th>94</th>\n",
       "      <td>1094</td>\n",
       "      <td>Walter</td>\n",
       "      <td>Petersen</td>\n",
       "      <td>54</td>\n",
       "      <td>Los Angeles-Long Beach-Anaheim, CA MSA</td>\n",
       "      <td>2018-10-30</td>\n",
       "      <td>surf</td>\n",
       "      <td>2018-12-12</td>\n",
       "    </tr>\n",
       "    <tr>\n",
       "      <th>106</th>\n",
       "      <td>1106</td>\n",
       "      <td>Eddy</td>\n",
       "      <td>Garrison</td>\n",
       "      <td>47</td>\n",
       "      <td>New York-Newark-Jersey City, NY-NJ-PA MSA</td>\n",
       "      <td>2018-05-10</td>\n",
       "      <td>surf</td>\n",
       "      <td>2018-11-14</td>\n",
       "    </tr>\n",
       "    <tr>\n",
       "      <th>129</th>\n",
       "      <td>1129</td>\n",
       "      <td>Marin</td>\n",
       "      <td>Bolton</td>\n",
       "      <td>70</td>\n",
       "      <td>Baton Rouge, LA MSA</td>\n",
       "      <td>2018-11-10</td>\n",
       "      <td>surf</td>\n",
       "      <td>2018-12-27</td>\n",
       "    </tr>\n",
       "    <tr>\n",
       "      <th>172</th>\n",
       "      <td>1172</td>\n",
       "      <td>Weldon</td>\n",
       "      <td>Robinson</td>\n",
       "      <td>72</td>\n",
       "      <td>Boston-Cambridge-Newton, MA-NH MSA</td>\n",
       "      <td>2018-03-30</td>\n",
       "      <td>surf</td>\n",
       "      <td>2018-11-29</td>\n",
       "    </tr>\n",
       "    <tr>\n",
       "      <th>180</th>\n",
       "      <td>1180</td>\n",
       "      <td>Wonda</td>\n",
       "      <td>Hays</td>\n",
       "      <td>24</td>\n",
       "      <td>New York-Newark-Jersey City, NY-NJ-PA MSA</td>\n",
       "      <td>2018-12-01</td>\n",
       "      <td>surf</td>\n",
       "      <td>2018-12-22</td>\n",
       "    </tr>\n",
       "    <tr>\n",
       "      <th>186</th>\n",
       "      <td>1186</td>\n",
       "      <td>Josiah</td>\n",
       "      <td>Douglas</td>\n",
       "      <td>55</td>\n",
       "      <td>Las Vegas-Henderson-Paradise, NV MSA</td>\n",
       "      <td>2018-12-22</td>\n",
       "      <td>ultimate</td>\n",
       "      <td>2018-12-31</td>\n",
       "    </tr>\n",
       "    <tr>\n",
       "      <th>191</th>\n",
       "      <td>1191</td>\n",
       "      <td>Zack</td>\n",
       "      <td>Waters</td>\n",
       "      <td>75</td>\n",
       "      <td>St. Louis, MO-IL MSA</td>\n",
       "      <td>2018-01-21</td>\n",
       "      <td>ultimate</td>\n",
       "      <td>2018-11-30</td>\n",
       "    </tr>\n",
       "    <tr>\n",
       "      <th>220</th>\n",
       "      <td>1220</td>\n",
       "      <td>Jack</td>\n",
       "      <td>Strong</td>\n",
       "      <td>26</td>\n",
       "      <td>Cincinnati, OH-KY-IN MSA</td>\n",
       "      <td>2018-04-22</td>\n",
       "      <td>surf</td>\n",
       "      <td>2018-10-13</td>\n",
       "    </tr>\n",
       "    <tr>\n",
       "      <th>246</th>\n",
       "      <td>1246</td>\n",
       "      <td>Stevie</td>\n",
       "      <td>Moran</td>\n",
       "      <td>69</td>\n",
       "      <td>Tampa-St. Petersburg-Clearwater, FL MSA</td>\n",
       "      <td>2018-01-09</td>\n",
       "      <td>ultimate</td>\n",
       "      <td>2018-07-31</td>\n",
       "    </tr>\n",
       "    <tr>\n",
       "      <th>269</th>\n",
       "      <td>1269</td>\n",
       "      <td>Irving</td>\n",
       "      <td>Thompson</td>\n",
       "      <td>39</td>\n",
       "      <td>Dallas-Fort Worth-Arlington, TX MSA</td>\n",
       "      <td>2018-09-13</td>\n",
       "      <td>ultimate</td>\n",
       "      <td>2018-12-15</td>\n",
       "    </tr>\n",
       "    <tr>\n",
       "      <th>281</th>\n",
       "      <td>1281</td>\n",
       "      <td>Zack</td>\n",
       "      <td>Hardy</td>\n",
       "      <td>39</td>\n",
       "      <td>Charlotte-Concord-Gastonia, NC-SC MSA</td>\n",
       "      <td>2018-07-23</td>\n",
       "      <td>surf</td>\n",
       "      <td>2018-11-14</td>\n",
       "    </tr>\n",
       "    <tr>\n",
       "      <th>296</th>\n",
       "      <td>1296</td>\n",
       "      <td>Weston</td>\n",
       "      <td>Conley</td>\n",
       "      <td>36</td>\n",
       "      <td>Miami-Fort Lauderdale-West Palm Beach, FL MSA</td>\n",
       "      <td>2018-10-20</td>\n",
       "      <td>ultimate</td>\n",
       "      <td>2018-12-18</td>\n",
       "    </tr>\n",
       "    <tr>\n",
       "      <th>298</th>\n",
       "      <td>1298</td>\n",
       "      <td>Loyce</td>\n",
       "      <td>Cooley</td>\n",
       "      <td>53</td>\n",
       "      <td>Nashville-Davidson–Murfreesboro–Franklin, TN MSA</td>\n",
       "      <td>2018-09-21</td>\n",
       "      <td>surf</td>\n",
       "      <td>2018-12-19</td>\n",
       "    </tr>\n",
       "    <tr>\n",
       "      <th>300</th>\n",
       "      <td>1300</td>\n",
       "      <td>Rene</td>\n",
       "      <td>Frost</td>\n",
       "      <td>23</td>\n",
       "      <td>New York-Newark-Jersey City, NY-NJ-PA MSA</td>\n",
       "      <td>2018-10-21</td>\n",
       "      <td>surf</td>\n",
       "      <td>2018-12-19</td>\n",
       "    </tr>\n",
       "    <tr>\n",
       "      <th>315</th>\n",
       "      <td>1315</td>\n",
       "      <td>Mora</td>\n",
       "      <td>Schroeder</td>\n",
       "      <td>45</td>\n",
       "      <td>Raleigh-Cary, NC MSA</td>\n",
       "      <td>2018-04-26</td>\n",
       "      <td>surf</td>\n",
       "      <td>2018-10-03</td>\n",
       "    </tr>\n",
       "    <tr>\n",
       "      <th>358</th>\n",
       "      <td>1358</td>\n",
       "      <td>Vaughn</td>\n",
       "      <td>Maldonado</td>\n",
       "      <td>20</td>\n",
       "      <td>New York-Newark-Jersey City, NY-NJ-PA MSA</td>\n",
       "      <td>2018-04-26</td>\n",
       "      <td>surf</td>\n",
       "      <td>2018-10-22</td>\n",
       "    </tr>\n",
       "    <tr>\n",
       "      <th>363</th>\n",
       "      <td>1363</td>\n",
       "      <td>Sandee</td>\n",
       "      <td>Lott</td>\n",
       "      <td>33</td>\n",
       "      <td>Seattle-Tacoma-Bellevue, WA MSA</td>\n",
       "      <td>2018-01-05</td>\n",
       "      <td>ultimate</td>\n",
       "      <td>2018-08-16</td>\n",
       "    </tr>\n",
       "    <tr>\n",
       "      <th>402</th>\n",
       "      <td>1402</td>\n",
       "      <td>Jesus</td>\n",
       "      <td>Berry</td>\n",
       "      <td>25</td>\n",
       "      <td>New York-Newark-Jersey City, NY-NJ-PA MSA</td>\n",
       "      <td>2018-06-11</td>\n",
       "      <td>surf</td>\n",
       "      <td>2018-12-26</td>\n",
       "    </tr>\n",
       "    <tr>\n",
       "      <th>414</th>\n",
       "      <td>1414</td>\n",
       "      <td>Georgianne</td>\n",
       "      <td>Herring</td>\n",
       "      <td>30</td>\n",
       "      <td>Urban Honolulu, HI MSA</td>\n",
       "      <td>2018-03-03</td>\n",
       "      <td>surf</td>\n",
       "      <td>2018-09-01</td>\n",
       "    </tr>\n",
       "    <tr>\n",
       "      <th>416</th>\n",
       "      <td>1416</td>\n",
       "      <td>Deja</td>\n",
       "      <td>Moss</td>\n",
       "      <td>25</td>\n",
       "      <td>Minneapolis-St. Paul-Bloomington, MN-WI MSA</td>\n",
       "      <td>2018-10-03</td>\n",
       "      <td>surf</td>\n",
       "      <td>2018-11-21</td>\n",
       "    </tr>\n",
       "    <tr>\n",
       "      <th>441</th>\n",
       "      <td>1441</td>\n",
       "      <td>Piedad</td>\n",
       "      <td>Myers</td>\n",
       "      <td>23</td>\n",
       "      <td>Atlanta-Sandy Springs-Roswell, GA MSA</td>\n",
       "      <td>2018-03-08</td>\n",
       "      <td>ultimate</td>\n",
       "      <td>2018-08-19</td>\n",
       "    </tr>\n",
       "    <tr>\n",
       "      <th>451</th>\n",
       "      <td>1451</td>\n",
       "      <td>Lenard</td>\n",
       "      <td>Harding</td>\n",
       "      <td>53</td>\n",
       "      <td>Charlotte-Concord-Gastonia, NC-SC MSA</td>\n",
       "      <td>2018-02-15</td>\n",
       "      <td>ultimate</td>\n",
       "      <td>2018-12-10</td>\n",
       "    </tr>\n",
       "    <tr>\n",
       "      <th>466</th>\n",
       "      <td>1466</td>\n",
       "      <td>Alphonse</td>\n",
       "      <td>Harmon</td>\n",
       "      <td>56</td>\n",
       "      <td>Los Angeles-Long Beach-Anaheim, CA MSA</td>\n",
       "      <td>2018-01-26</td>\n",
       "      <td>surf</td>\n",
       "      <td>2018-09-17</td>\n",
       "    </tr>\n",
       "    <tr>\n",
       "      <th>467</th>\n",
       "      <td>1467</td>\n",
       "      <td>Nickolas</td>\n",
       "      <td>Deleon</td>\n",
       "      <td>64</td>\n",
       "      <td>Atlanta-Sandy Springs-Roswell, GA MSA</td>\n",
       "      <td>2018-01-31</td>\n",
       "      <td>ultimate</td>\n",
       "      <td>2018-11-18</td>\n",
       "    </tr>\n",
       "    <tr>\n",
       "      <th>491</th>\n",
       "      <td>1491</td>\n",
       "      <td>Terina</td>\n",
       "      <td>Jensen</td>\n",
       "      <td>22</td>\n",
       "      <td>Grand Rapids-Kentwood, MI MSA</td>\n",
       "      <td>2018-04-27</td>\n",
       "      <td>surf</td>\n",
       "      <td>2018-09-18</td>\n",
       "    </tr>\n",
       "  </tbody>\n",
       "</table>\n",
       "</div>"
      ],
      "text/plain": [
       "     user_id  first_name  last_name  age  \\\n",
       "6       1006      Jesusa   Bradford   73   \n",
       "12      1012     Jonelle    Mcbride   59   \n",
       "22      1022          Bo       Snow   73   \n",
       "40      1040       Paris     Santos   72   \n",
       "50      1050        Jone       Owen   23   \n",
       "54      1054       Denis      Frost   50   \n",
       "67      1067        Robt      Allen   37   \n",
       "83      1083      Lyndia    Acevedo   65   \n",
       "84      1084       Wiley   Mckinney   21   \n",
       "94      1094      Walter   Petersen   54   \n",
       "106     1106        Eddy   Garrison   47   \n",
       "129     1129       Marin     Bolton   70   \n",
       "172     1172      Weldon   Robinson   72   \n",
       "180     1180       Wonda       Hays   24   \n",
       "186     1186      Josiah    Douglas   55   \n",
       "191     1191        Zack     Waters   75   \n",
       "220     1220        Jack     Strong   26   \n",
       "246     1246      Stevie      Moran   69   \n",
       "269     1269      Irving   Thompson   39   \n",
       "281     1281        Zack      Hardy   39   \n",
       "296     1296      Weston     Conley   36   \n",
       "298     1298       Loyce     Cooley   53   \n",
       "300     1300        Rene      Frost   23   \n",
       "315     1315        Mora  Schroeder   45   \n",
       "358     1358      Vaughn  Maldonado   20   \n",
       "363     1363      Sandee       Lott   33   \n",
       "402     1402       Jesus      Berry   25   \n",
       "414     1414  Georgianne    Herring   30   \n",
       "416     1416        Deja       Moss   25   \n",
       "441     1441      Piedad      Myers   23   \n",
       "451     1451      Lenard    Harding   53   \n",
       "466     1466    Alphonse     Harmon   56   \n",
       "467     1467    Nickolas     Deleon   64   \n",
       "491     1491      Terina     Jensen   22   \n",
       "\n",
       "                                                 city    reg_date      plan  \\\n",
       "6              San Francisco-Oakland-Berkeley, CA MSA  2018-11-27  ultimate   \n",
       "12             Chicago-Naperville-Elgin, IL-IN-WI MSA  2018-06-28      surf   \n",
       "22          New York-Newark-Jersey City, NY-NJ-PA MSA  2018-04-20      surf   \n",
       "40    Philadelphia-Camden-Wilmington, PA-NJ-DE-MD MSA  2018-12-23      surf   \n",
       "50      Miami-Fort Lauderdale-West Palm Beach, FL MSA  2018-03-20  ultimate   \n",
       "54                      Phoenix-Mesa-Chandler, AZ MSA  2018-04-21      surf   \n",
       "67                      Grand Rapids-Kentwood, MI MSA  2018-09-24      surf   \n",
       "83             Los Angeles-Long Beach-Anaheim, CA MSA  2018-10-26      surf   \n",
       "84      Miami-Fort Lauderdale-West Palm Beach, FL MSA  2018-06-04      surf   \n",
       "94             Los Angeles-Long Beach-Anaheim, CA MSA  2018-10-30      surf   \n",
       "106         New York-Newark-Jersey City, NY-NJ-PA MSA  2018-05-10      surf   \n",
       "129                               Baton Rouge, LA MSA  2018-11-10      surf   \n",
       "172                Boston-Cambridge-Newton, MA-NH MSA  2018-03-30      surf   \n",
       "180         New York-Newark-Jersey City, NY-NJ-PA MSA  2018-12-01      surf   \n",
       "186              Las Vegas-Henderson-Paradise, NV MSA  2018-12-22  ultimate   \n",
       "191                              St. Louis, MO-IL MSA  2018-01-21  ultimate   \n",
       "220                          Cincinnati, OH-KY-IN MSA  2018-04-22      surf   \n",
       "246           Tampa-St. Petersburg-Clearwater, FL MSA  2018-01-09  ultimate   \n",
       "269               Dallas-Fort Worth-Arlington, TX MSA  2018-09-13  ultimate   \n",
       "281             Charlotte-Concord-Gastonia, NC-SC MSA  2018-07-23      surf   \n",
       "296     Miami-Fort Lauderdale-West Palm Beach, FL MSA  2018-10-20  ultimate   \n",
       "298  Nashville-Davidson–Murfreesboro–Franklin, TN MSA  2018-09-21      surf   \n",
       "300         New York-Newark-Jersey City, NY-NJ-PA MSA  2018-10-21      surf   \n",
       "315                              Raleigh-Cary, NC MSA  2018-04-26      surf   \n",
       "358         New York-Newark-Jersey City, NY-NJ-PA MSA  2018-04-26      surf   \n",
       "363                   Seattle-Tacoma-Bellevue, WA MSA  2018-01-05  ultimate   \n",
       "402         New York-Newark-Jersey City, NY-NJ-PA MSA  2018-06-11      surf   \n",
       "414                            Urban Honolulu, HI MSA  2018-03-03      surf   \n",
       "416       Minneapolis-St. Paul-Bloomington, MN-WI MSA  2018-10-03      surf   \n",
       "441             Atlanta-Sandy Springs-Roswell, GA MSA  2018-03-08  ultimate   \n",
       "451             Charlotte-Concord-Gastonia, NC-SC MSA  2018-02-15  ultimate   \n",
       "466            Los Angeles-Long Beach-Anaheim, CA MSA  2018-01-26      surf   \n",
       "467             Atlanta-Sandy Springs-Roswell, GA MSA  2018-01-31  ultimate   \n",
       "491                     Grand Rapids-Kentwood, MI MSA  2018-04-27      surf   \n",
       "\n",
       "     churn_date  \n",
       "6    2018-12-18  \n",
       "12   2018-11-16  \n",
       "22   2018-09-07  \n",
       "40   2018-12-30  \n",
       "50   2018-10-07  \n",
       "54   2018-12-31  \n",
       "67   2018-11-24  \n",
       "83   2018-12-18  \n",
       "84   2018-11-11  \n",
       "94   2018-12-12  \n",
       "106  2018-11-14  \n",
       "129  2018-12-27  \n",
       "172  2018-11-29  \n",
       "180  2018-12-22  \n",
       "186  2018-12-31  \n",
       "191  2018-11-30  \n",
       "220  2018-10-13  \n",
       "246  2018-07-31  \n",
       "269  2018-12-15  \n",
       "281  2018-11-14  \n",
       "296  2018-12-18  \n",
       "298  2018-12-19  \n",
       "300  2018-12-19  \n",
       "315  2018-10-03  \n",
       "358  2018-10-22  \n",
       "363  2018-08-16  \n",
       "402  2018-12-26  \n",
       "414  2018-09-01  \n",
       "416  2018-11-21  \n",
       "441  2018-08-19  \n",
       "451  2018-12-10  \n",
       "466  2018-09-17  \n",
       "467  2018-11-18  \n",
       "491  2018-09-18  "
      ]
     },
     "execution_count": 27,
     "metadata": {},
     "output_type": "execute_result"
    }
   ],
   "source": [
    "users[users.churn_date.notna()]"
   ]
  },
  {
   "cell_type": "code",
   "execution_count": 28,
   "metadata": {},
   "outputs": [
    {
     "data": {
      "text/html": [
       "<div>\n",
       "<style scoped>\n",
       "    .dataframe tbody tr th:only-of-type {\n",
       "        vertical-align: middle;\n",
       "    }\n",
       "\n",
       "    .dataframe tbody tr th {\n",
       "        vertical-align: top;\n",
       "    }\n",
       "\n",
       "    .dataframe thead th {\n",
       "        text-align: right;\n",
       "    }\n",
       "</style>\n",
       "<table border=\"1\" class=\"dataframe\">\n",
       "  <thead>\n",
       "    <tr style=\"text-align: right;\">\n",
       "      <th></th>\n",
       "      <th>user_id</th>\n",
       "      <th>age</th>\n",
       "    </tr>\n",
       "  </thead>\n",
       "  <tbody>\n",
       "    <tr>\n",
       "      <th>count</th>\n",
       "      <td>500.000000</td>\n",
       "      <td>500.000000</td>\n",
       "    </tr>\n",
       "    <tr>\n",
       "      <th>mean</th>\n",
       "      <td>1249.500000</td>\n",
       "      <td>45.486000</td>\n",
       "    </tr>\n",
       "    <tr>\n",
       "      <th>std</th>\n",
       "      <td>144.481833</td>\n",
       "      <td>16.972269</td>\n",
       "    </tr>\n",
       "    <tr>\n",
       "      <th>min</th>\n",
       "      <td>1000.000000</td>\n",
       "      <td>18.000000</td>\n",
       "    </tr>\n",
       "    <tr>\n",
       "      <th>25%</th>\n",
       "      <td>1124.750000</td>\n",
       "      <td>30.000000</td>\n",
       "    </tr>\n",
       "    <tr>\n",
       "      <th>50%</th>\n",
       "      <td>1249.500000</td>\n",
       "      <td>46.000000</td>\n",
       "    </tr>\n",
       "    <tr>\n",
       "      <th>75%</th>\n",
       "      <td>1374.250000</td>\n",
       "      <td>61.000000</td>\n",
       "    </tr>\n",
       "    <tr>\n",
       "      <th>max</th>\n",
       "      <td>1499.000000</td>\n",
       "      <td>75.000000</td>\n",
       "    </tr>\n",
       "  </tbody>\n",
       "</table>\n",
       "</div>"
      ],
      "text/plain": [
       "           user_id         age\n",
       "count   500.000000  500.000000\n",
       "mean   1249.500000   45.486000\n",
       "std     144.481833   16.972269\n",
       "min    1000.000000   18.000000\n",
       "25%    1124.750000   30.000000\n",
       "50%    1249.500000   46.000000\n",
       "75%    1374.250000   61.000000\n",
       "max    1499.000000   75.000000"
      ]
     },
     "execution_count": 28,
     "metadata": {},
     "output_type": "execute_result"
    }
   ],
   "source": [
    "users.describe()"
   ]
  },
  {
   "cell_type": "markdown",
   "metadata": {},
   "source": [
    "# Step 2. Prepare the data\n"
   ]
  },
  {
   "cell_type": "markdown",
   "metadata": {},
   "source": [
    "There are missing values in the user data in the churn_date column. This is because this user is still active. let's create another category called 'active user.'"
   ]
  },
  {
   "cell_type": "code",
   "execution_count": 29,
   "metadata": {},
   "outputs": [],
   "source": [
    "users['churn_date'] = users['churn_date'].fillna('active_user')"
   ]
  },
  {
   "cell_type": "markdown",
   "metadata": {},
   "source": [
    "Convert the data to the necessary types\n"
   ]
  },
  {
   "cell_type": "code",
   "execution_count": 30,
   "metadata": {},
   "outputs": [],
   "source": [
    "calls['call_date'] = pd.to_datetime(calls['call_date'], format='%Y-%m-%d')\n",
    "internet['session_date'] = pd.to_datetime(internet['session_date'], format='%Y-%m-%d')\n",
    "messages['message_date'] = pd.to_datetime(messages['message_date'], format='%Y-%m-%d')\n",
    "users['reg_date'] = pd.to_datetime(users['reg_date'], format='%Y-%m-%d')"
   ]
  },
  {
   "cell_type": "markdown",
   "metadata": {},
   "source": [
    "Let's convert those columns to int."
   ]
  },
  {
   "cell_type": "code",
   "execution_count": 31,
   "metadata": {},
   "outputs": [],
   "source": [
    "calls['duration'] = calls['duration'].astype(np.int64, errors='ignore')\n",
    "internet['mb_used'] = internet['mb_used'].astype(np.int64, errors='ignore')"
   ]
  },
  {
   "cell_type": "markdown",
   "metadata": {},
   "source": [
    "We need to round up call duration to complete minutes."
   ]
  },
  {
   "cell_type": "code",
   "execution_count": 32,
   "metadata": {},
   "outputs": [],
   "source": [
    "calls['duration'] = np.ceil(calls['duration'])"
   ]
  },
  {
   "cell_type": "markdown",
   "metadata": {},
   "source": [
    "We will need to create another column that takes only the month from each column to do this."
   ]
  },
  {
   "cell_type": "code",
   "execution_count": 33,
   "metadata": {},
   "outputs": [],
   "source": [
    "calls['month'] = pd.DatetimeIndex(calls['call_date']).month\n",
    "internet['month'] = pd.DatetimeIndex(internet['session_date']).month\n",
    "messages['month'] = pd.DatetimeIndex(messages['message_date']).month"
   ]
  },
  {
   "cell_type": "markdown",
   "metadata": {},
   "source": [
    "That good. Let's group the user_id and the month by (duration, mb_used, and SMS) for each data. Then, we will convert them into to data frame."
   ]
  },
  {
   "cell_type": "code",
   "execution_count": 34,
   "metadata": {},
   "outputs": [],
   "source": [
    "data_used_per_user = internet.groupby(['user_id', 'month'])['mb_used'].sum()\n",
    "sms_per_user = messages.groupby(['user_id', 'month'])['message_date'].count()\n",
    "calls_per_user = calls.groupby(['user_id', 'month'])['duration'].sum()"
   ]
  },
  {
   "cell_type": "code",
   "execution_count": 35,
   "metadata": {},
   "outputs": [],
   "source": [
    "calls_per_user = calls_per_user.to_frame()\n",
    "sms_per_user = sms_per_user.to_frame()\n",
    "data_used_per_user = data_used_per_user.to_frame()"
   ]
  },
  {
   "cell_type": "code",
   "execution_count": 36,
   "metadata": {},
   "outputs": [],
   "source": [
    "data_frames = [data_used_per_user, calls_per_user, sms_per_user]"
   ]
  },
  {
   "cell_type": "markdown",
   "metadata": {},
   "source": [
    "We will elegantly merge them with a lambda function by user id and the month."
   ]
  },
  {
   "cell_type": "code",
   "execution_count": 37,
   "metadata": {},
   "outputs": [],
   "source": [
    "from functools import reduce"
   ]
  },
  {
   "cell_type": "code",
   "execution_count": 38,
   "metadata": {},
   "outputs": [],
   "source": [
    "data_merged = reduce(lambda left,right: pd.merge(left,right,on=['user_id', 'month'], how='outer'), data_frames)"
   ]
  },
  {
   "cell_type": "markdown",
   "metadata": {},
   "source": [
    "merge users plan to data_merged:"
   ]
  },
  {
   "cell_type": "code",
   "execution_count": 39,
   "metadata": {},
   "outputs": [],
   "source": [
    "megaline_plan_per_user = users[['user_id', 'plan']]"
   ]
  },
  {
   "cell_type": "code",
   "execution_count": 40,
   "metadata": {},
   "outputs": [],
   "source": [
    "data_frames2 = [data_merged, megaline_plan_per_user]"
   ]
  },
  {
   "cell_type": "code",
   "execution_count": 41,
   "metadata": {},
   "outputs": [],
   "source": [
    "data_merged2 = reduce(lambda left,right: pd.merge(left,right,on=['user_id'], how='outer'), data_frames2)"
   ]
  },
  {
   "cell_type": "markdown",
   "metadata": {},
   "source": [
    "Let's change the names of the columns for better understanding."
   ]
  },
  {
   "cell_type": "code",
   "execution_count": 42,
   "metadata": {},
   "outputs": [],
   "source": [
    "data_merged2.rename(columns={'mb_used': 'gb_used', 'message_date': 'messages_count'}, inplace=True)\n"
   ]
  },
  {
   "cell_type": "code",
   "execution_count": 43,
   "metadata": {},
   "outputs": [
    {
     "data": {
      "text/html": [
       "<div>\n",
       "<style scoped>\n",
       "    .dataframe tbody tr th:only-of-type {\n",
       "        vertical-align: middle;\n",
       "    }\n",
       "\n",
       "    .dataframe tbody tr th {\n",
       "        vertical-align: top;\n",
       "    }\n",
       "\n",
       "    .dataframe thead th {\n",
       "        text-align: right;\n",
       "    }\n",
       "</style>\n",
       "<table border=\"1\" class=\"dataframe\">\n",
       "  <thead>\n",
       "    <tr style=\"text-align: right;\">\n",
       "      <th></th>\n",
       "      <th>user_id</th>\n",
       "      <th>gb_used</th>\n",
       "      <th>duration</th>\n",
       "      <th>messages_count</th>\n",
       "      <th>plan</th>\n",
       "    </tr>\n",
       "  </thead>\n",
       "  <tbody>\n",
       "    <tr>\n",
       "      <th>0</th>\n",
       "      <td>1000</td>\n",
       "      <td>1899.0</td>\n",
       "      <td>108.0</td>\n",
       "      <td>11.0</td>\n",
       "      <td>ultimate</td>\n",
       "    </tr>\n",
       "    <tr>\n",
       "      <th>1</th>\n",
       "      <td>1001</td>\n",
       "      <td>6908.0</td>\n",
       "      <td>160.0</td>\n",
       "      <td>30.0</td>\n",
       "      <td>surf</td>\n",
       "    </tr>\n",
       "    <tr>\n",
       "      <th>2</th>\n",
       "      <td>1001</td>\n",
       "      <td>13294.0</td>\n",
       "      <td>278.0</td>\n",
       "      <td>44.0</td>\n",
       "      <td>surf</td>\n",
       "    </tr>\n",
       "    <tr>\n",
       "      <th>3</th>\n",
       "      <td>1001</td>\n",
       "      <td>22308.0</td>\n",
       "      <td>348.0</td>\n",
       "      <td>53.0</td>\n",
       "      <td>surf</td>\n",
       "    </tr>\n",
       "    <tr>\n",
       "      <th>4</th>\n",
       "      <td>1001</td>\n",
       "      <td>18477.0</td>\n",
       "      <td>379.0</td>\n",
       "      <td>36.0</td>\n",
       "      <td>surf</td>\n",
       "    </tr>\n",
       "  </tbody>\n",
       "</table>\n",
       "</div>"
      ],
      "text/plain": [
       "   user_id  gb_used  duration  messages_count      plan\n",
       "0     1000   1899.0     108.0            11.0  ultimate\n",
       "1     1001   6908.0     160.0            30.0      surf\n",
       "2     1001  13294.0     278.0            44.0      surf\n",
       "3     1001  22308.0     348.0            53.0      surf\n",
       "4     1001  18477.0     379.0            36.0      surf"
      ]
     },
     "execution_count": 43,
     "metadata": {},
     "output_type": "execute_result"
    }
   ],
   "source": [
    "data_merged2.head()"
   ]
  },
  {
   "cell_type": "markdown",
   "metadata": {},
   "source": [
    "Now let's convert the mg column to GB."
   ]
  },
  {
   "cell_type": "code",
   "execution_count": 44,
   "metadata": {},
   "outputs": [],
   "source": [
    "data_merged2['gb_used'] = data_merged2['gb_used'] / 1000"
   ]
  },
  {
   "cell_type": "code",
   "execution_count": 45,
   "metadata": {},
   "outputs": [
    {
     "data": {
      "text/html": [
       "<div>\n",
       "<style scoped>\n",
       "    .dataframe tbody tr th:only-of-type {\n",
       "        vertical-align: middle;\n",
       "    }\n",
       "\n",
       "    .dataframe tbody tr th {\n",
       "        vertical-align: top;\n",
       "    }\n",
       "\n",
       "    .dataframe thead th {\n",
       "        text-align: right;\n",
       "    }\n",
       "</style>\n",
       "<table border=\"1\" class=\"dataframe\">\n",
       "  <thead>\n",
       "    <tr style=\"text-align: right;\">\n",
       "      <th></th>\n",
       "      <th>user_id</th>\n",
       "      <th>gb_used</th>\n",
       "      <th>duration</th>\n",
       "      <th>messages_count</th>\n",
       "      <th>plan</th>\n",
       "    </tr>\n",
       "  </thead>\n",
       "  <tbody>\n",
       "    <tr>\n",
       "      <th>0</th>\n",
       "      <td>1000</td>\n",
       "      <td>1.899</td>\n",
       "      <td>108.0</td>\n",
       "      <td>11.0</td>\n",
       "      <td>ultimate</td>\n",
       "    </tr>\n",
       "    <tr>\n",
       "      <th>1</th>\n",
       "      <td>1001</td>\n",
       "      <td>6.908</td>\n",
       "      <td>160.0</td>\n",
       "      <td>30.0</td>\n",
       "      <td>surf</td>\n",
       "    </tr>\n",
       "    <tr>\n",
       "      <th>2</th>\n",
       "      <td>1001</td>\n",
       "      <td>13.294</td>\n",
       "      <td>278.0</td>\n",
       "      <td>44.0</td>\n",
       "      <td>surf</td>\n",
       "    </tr>\n",
       "    <tr>\n",
       "      <th>3</th>\n",
       "      <td>1001</td>\n",
       "      <td>22.308</td>\n",
       "      <td>348.0</td>\n",
       "      <td>53.0</td>\n",
       "      <td>surf</td>\n",
       "    </tr>\n",
       "    <tr>\n",
       "      <th>4</th>\n",
       "      <td>1001</td>\n",
       "      <td>18.477</td>\n",
       "      <td>379.0</td>\n",
       "      <td>36.0</td>\n",
       "      <td>surf</td>\n",
       "    </tr>\n",
       "  </tbody>\n",
       "</table>\n",
       "</div>"
      ],
      "text/plain": [
       "   user_id  gb_used  duration  messages_count      plan\n",
       "0     1000    1.899     108.0            11.0  ultimate\n",
       "1     1001    6.908     160.0            30.0      surf\n",
       "2     1001   13.294     278.0            44.0      surf\n",
       "3     1001   22.308     348.0            53.0      surf\n",
       "4     1001   18.477     379.0            36.0      surf"
      ]
     },
     "execution_count": 45,
     "metadata": {},
     "output_type": "execute_result"
    }
   ],
   "source": [
    "data_merged2.head()"
   ]
  },
  {
   "cell_type": "code",
   "execution_count": 46,
   "metadata": {},
   "outputs": [],
   "source": [
    "data_merged2['gb_used'] = np.ceil(data_merged2['gb_used'])"
   ]
  },
  {
   "cell_type": "code",
   "execution_count": 47,
   "metadata": {},
   "outputs": [
    {
     "data": {
      "text/html": [
       "<div>\n",
       "<style scoped>\n",
       "    .dataframe tbody tr th:only-of-type {\n",
       "        vertical-align: middle;\n",
       "    }\n",
       "\n",
       "    .dataframe tbody tr th {\n",
       "        vertical-align: top;\n",
       "    }\n",
       "\n",
       "    .dataframe thead th {\n",
       "        text-align: right;\n",
       "    }\n",
       "</style>\n",
       "<table border=\"1\" class=\"dataframe\">\n",
       "  <thead>\n",
       "    <tr style=\"text-align: right;\">\n",
       "      <th></th>\n",
       "      <th>user_id</th>\n",
       "      <th>gb_used</th>\n",
       "      <th>duration</th>\n",
       "      <th>messages_count</th>\n",
       "      <th>plan</th>\n",
       "    </tr>\n",
       "  </thead>\n",
       "  <tbody>\n",
       "    <tr>\n",
       "      <th>0</th>\n",
       "      <td>1000</td>\n",
       "      <td>2.0</td>\n",
       "      <td>108.0</td>\n",
       "      <td>11.0</td>\n",
       "      <td>ultimate</td>\n",
       "    </tr>\n",
       "    <tr>\n",
       "      <th>1</th>\n",
       "      <td>1001</td>\n",
       "      <td>7.0</td>\n",
       "      <td>160.0</td>\n",
       "      <td>30.0</td>\n",
       "      <td>surf</td>\n",
       "    </tr>\n",
       "    <tr>\n",
       "      <th>2</th>\n",
       "      <td>1001</td>\n",
       "      <td>14.0</td>\n",
       "      <td>278.0</td>\n",
       "      <td>44.0</td>\n",
       "      <td>surf</td>\n",
       "    </tr>\n",
       "    <tr>\n",
       "      <th>3</th>\n",
       "      <td>1001</td>\n",
       "      <td>23.0</td>\n",
       "      <td>348.0</td>\n",
       "      <td>53.0</td>\n",
       "      <td>surf</td>\n",
       "    </tr>\n",
       "    <tr>\n",
       "      <th>4</th>\n",
       "      <td>1001</td>\n",
       "      <td>19.0</td>\n",
       "      <td>379.0</td>\n",
       "      <td>36.0</td>\n",
       "      <td>surf</td>\n",
       "    </tr>\n",
       "  </tbody>\n",
       "</table>\n",
       "</div>"
      ],
      "text/plain": [
       "   user_id  gb_used  duration  messages_count      plan\n",
       "0     1000      2.0     108.0            11.0  ultimate\n",
       "1     1001      7.0     160.0            30.0      surf\n",
       "2     1001     14.0     278.0            44.0      surf\n",
       "3     1001     23.0     348.0            53.0      surf\n",
       "4     1001     19.0     379.0            36.0      surf"
      ]
     },
     "execution_count": 47,
     "metadata": {},
     "output_type": "execute_result"
    }
   ],
   "source": [
    "data_merged2.head()"
   ]
  },
  {
   "cell_type": "markdown",
   "metadata": {},
   "source": [
    "Now we have excellent merge data with the  mb_used round up to a gigabyte, the duration that rounds up to minutes, SMS, and the plan for each user_id."
   ]
  },
  {
   "cell_type": "markdown",
   "metadata": {},
   "source": [
    "Let's create a function that calculates the user's revenue based on the logic of the plans."
   ]
  },
  {
   "cell_type": "code",
   "execution_count": 48,
   "metadata": {},
   "outputs": [],
   "source": [
    "def rev(row):\n",
    "\n",
    "    total_revenue = 0\n",
    "\n",
    "    plan = row['plan']\n",
    "    gb_used = row['gb_used']\n",
    "    duration = row['duration']\n",
    "    messages_count = row['messages_count']\n",
    "    if plan == 'surf':\n",
    "        fee=20\n",
    "        if duration>500:\n",
    "            call_revenue=(duration - 500) * 0.03\n",
    "        else:\n",
    "            call_revenue=0\n",
    "        if gb_used> 15:\n",
    "            gb_revenue = (gb_used-15) * 10\n",
    "        else:\n",
    "            gb_revenue = 0\n",
    "        if messages_count> 50:\n",
    "            messages_count_revenue = (messages_count-50) * 0.03\n",
    "        else:\n",
    "            messages_count_revenue = 0\n",
    "    else:\n",
    "        if plan == 'ultimate':\n",
    "            fee=70\n",
    "        if duration>3000:\n",
    "            call_revenue=(duration-3000) * 0.01\n",
    "        else:\n",
    "            call_revenue=0\n",
    "        if gb_used> 30:\n",
    "            gb_revenue = (gb_used-30) * 7\n",
    "        else:\n",
    "            gb_revenue = 0\n",
    "        if messages_count> 1000:\n",
    "            messages_count_revenue = (messages_count-1000) * 0.01\n",
    "        else:\n",
    "            messages_count_revenue = 0\n",
    "    total_revenue=fee+call_revenue+messages_count_revenue+gb_revenue\n",
    "    return total_revenue           "
   ]
  },
  {
   "cell_type": "markdown",
   "metadata": {},
   "source": [
    "Now let's apply the function to our data with a new column."
   ]
  },
  {
   "cell_type": "code",
   "execution_count": 49,
   "metadata": {},
   "outputs": [
    {
     "data": {
      "text/html": [
       "<div>\n",
       "<style scoped>\n",
       "    .dataframe tbody tr th:only-of-type {\n",
       "        vertical-align: middle;\n",
       "    }\n",
       "\n",
       "    .dataframe tbody tr th {\n",
       "        vertical-align: top;\n",
       "    }\n",
       "\n",
       "    .dataframe thead th {\n",
       "        text-align: right;\n",
       "    }\n",
       "</style>\n",
       "<table border=\"1\" class=\"dataframe\">\n",
       "  <thead>\n",
       "    <tr style=\"text-align: right;\">\n",
       "      <th></th>\n",
       "      <th>user_id</th>\n",
       "      <th>gb_used</th>\n",
       "      <th>duration</th>\n",
       "      <th>messages_count</th>\n",
       "      <th>plan</th>\n",
       "      <th>total_revenue</th>\n",
       "    </tr>\n",
       "  </thead>\n",
       "  <tbody>\n",
       "    <tr>\n",
       "      <th>0</th>\n",
       "      <td>1000</td>\n",
       "      <td>2.0</td>\n",
       "      <td>108.0</td>\n",
       "      <td>11.0</td>\n",
       "      <td>ultimate</td>\n",
       "      <td>70.00</td>\n",
       "    </tr>\n",
       "    <tr>\n",
       "      <th>1</th>\n",
       "      <td>1001</td>\n",
       "      <td>7.0</td>\n",
       "      <td>160.0</td>\n",
       "      <td>30.0</td>\n",
       "      <td>surf</td>\n",
       "      <td>20.00</td>\n",
       "    </tr>\n",
       "    <tr>\n",
       "      <th>2</th>\n",
       "      <td>1001</td>\n",
       "      <td>14.0</td>\n",
       "      <td>278.0</td>\n",
       "      <td>44.0</td>\n",
       "      <td>surf</td>\n",
       "      <td>20.00</td>\n",
       "    </tr>\n",
       "    <tr>\n",
       "      <th>3</th>\n",
       "      <td>1001</td>\n",
       "      <td>23.0</td>\n",
       "      <td>348.0</td>\n",
       "      <td>53.0</td>\n",
       "      <td>surf</td>\n",
       "      <td>100.09</td>\n",
       "    </tr>\n",
       "    <tr>\n",
       "      <th>4</th>\n",
       "      <td>1001</td>\n",
       "      <td>19.0</td>\n",
       "      <td>379.0</td>\n",
       "      <td>36.0</td>\n",
       "      <td>surf</td>\n",
       "      <td>60.00</td>\n",
       "    </tr>\n",
       "  </tbody>\n",
       "</table>\n",
       "</div>"
      ],
      "text/plain": [
       "   user_id  gb_used  duration  messages_count      plan  total_revenue\n",
       "0     1000      2.0     108.0            11.0  ultimate          70.00\n",
       "1     1001      7.0     160.0            30.0      surf          20.00\n",
       "2     1001     14.0     278.0            44.0      surf          20.00\n",
       "3     1001     23.0     348.0            53.0      surf         100.09\n",
       "4     1001     19.0     379.0            36.0      surf          60.00"
      ]
     },
     "execution_count": 49,
     "metadata": {},
     "output_type": "execute_result"
    }
   ],
   "source": [
    "data_merged2['total_revenue'] = data_merged2.apply(rev, axis=1)\n",
    "data_merged2.head()"
   ]
  },
  {
   "cell_type": "markdown",
   "metadata": {},
   "source": [
    "# Step 3. Analyze the data\n"
   ]
  },
  {
   "cell_type": "markdown",
   "metadata": {},
   "source": [
    "Step 3. Analyze the data\n",
    "use the describe mathod to Calculate the mean, dispersion, and standard deviation\n",
    "and plot a histograms. Describe the distributions."
   ]
  },
  {
   "cell_type": "markdown",
   "metadata": {},
   "source": [
    "Let's start looking at each column."
   ]
  },
  {
   "cell_type": "code",
   "execution_count": 50,
   "metadata": {},
   "outputs": [
    {
     "data": {
      "text/plain": [
       "count    2277.000000\n",
       "mean       17.351339\n",
       "std         7.860854\n",
       "min         1.000000\n",
       "25%        13.000000\n",
       "50%        17.000000\n",
       "75%        22.000000\n",
       "max        71.000000\n",
       "Name: gb_used, dtype: float64"
      ]
     },
     "execution_count": 50,
     "metadata": {},
     "output_type": "execute_result"
    }
   ],
   "source": [
    "data_merged2['gb_used'].describe()"
   ]
  },
  {
   "cell_type": "markdown",
   "metadata": {},
   "source": [
    "The average user uses 17 GB a month.\n",
    "Std is 7.860854.\n",
    "The Median is 17.\n",
    "The distribution is positively skewed if the mean is greater than the median—let's look at this with a histogram."
   ]
  },
  {
   "cell_type": "code",
   "execution_count": 51,
   "metadata": {},
   "outputs": [
    {
     "data": {
      "image/png": "[encoded data removed]",
      "text/plain": [
       "<Figure size 432x288 with 1 Axes>"
      ]
     },
     "metadata": {
      "needs_background": "light"
     },
     "output_type": "display_data"
    }
   ],
   "source": [
    "gb_used_hist = data_merged2['gb_used'].plot(kind='hist', bins=10, ec='black')\n",
    "gb_used_hist.set_title('GB USED PER USER',fontsize=18)\n",
    "gb_used_hist.set_xlabel('GB USED', fontsize=15, color='blue')\n",
    "\n",
    "plt.show()"
   ]
  },
  {
   "cell_type": "markdown",
   "metadata": {},
   "source": [
    "We can see that the majority of the users use between 15 to 25 GB, and that is just between the two plan GB usage borders.\n",
    "The data is skewed a bit to the right."
   ]
  },
  {
   "cell_type": "code",
   "execution_count": 52,
   "metadata": {},
   "outputs": [
    {
     "data": {
      "text/plain": [
       "count    1806.000000\n",
       "mean       42.110188\n",
       "std        33.122931\n",
       "min         1.000000\n",
       "25%        17.000000\n",
       "50%        34.000000\n",
       "75%        59.000000\n",
       "max       266.000000\n",
       "Name: messages_count, dtype: float64"
      ]
     },
     "execution_count": 52,
     "metadata": {},
     "output_type": "execute_result"
    }
   ],
   "source": [
    "data_merged2['messages_count'].describe()"
   ]
  },
  {
   "cell_type": "markdown",
   "metadata": {},
   "source": [
    "Average user texts 42 times a month.\n",
    "The median is 34 texts a month.\n",
    "std is 33.122931"
   ]
  },
  {
   "cell_type": "code",
   "execution_count": 53,
   "metadata": {},
   "outputs": [
    {
     "data": {
      "image/png": "[encoded data removed]",
      "text/plain": [
       "<Figure size 432x288 with 1 Axes>"
      ]
     },
     "metadata": {
      "needs_background": "light"
     },
     "output_type": "display_data"
    }
   ],
   "source": [
    "num_messages_hist = data_merged2['messages_count'].plot(kind='hist', color='0.5', ec='red')\n",
    "num_messages_hist.set_title('MESSAGES PER USER', fontsize=18)\n",
    "num_messages_hist.set_xlabel('NUMBER OF MESSAGES', fontsize=15, color='blue')\n",
    "plt.show()"
   ]
  },
  {
   "cell_type": "markdown",
   "metadata": {},
   "source": [
    "messages_count is an account for SMS count. we can see that the data hes a right skew distribution. and there are some outliers (heavy Sleep texter on the right)."
   ]
  },
  {
   "cell_type": "code",
   "execution_count": 54,
   "metadata": {},
   "outputs": [
    {
     "data": {
      "text/plain": [
       "count     2303\n",
       "unique       2\n",
       "top       surf\n",
       "freq      1579\n",
       "Name: plan, dtype: object"
      ]
     },
     "execution_count": 54,
     "metadata": {},
     "output_type": "execute_result"
    }
   ],
   "source": [
    "data_merged2['plan'].describe()"
   ]
  },
  {
   "cell_type": "markdown",
   "metadata": {},
   "source": [
    "We need numeric values to see std, mean, median, and plot histograms. Let's use a function to analyze the plan."
   ]
  },
  {
   "cell_type": "code",
   "execution_count": 55,
   "metadata": {},
   "outputs": [],
   "source": [
    "def plan_id(row):\n",
    "    plan_id = row['plan']\n",
    "    if plan_id == 'surf':\n",
    "        return 1\n",
    "    elif plan_id == 'ultimate':\n",
    "        return 2    \n",
    "    else:\n",
    "        return 0\n",
    "    \n",
    "data_merged2['plan_id'] = data_merged2.apply(plan_id, axis=1)"
   ]
  },
  {
   "cell_type": "markdown",
   "metadata": {},
   "source": [
    "We created a plan id column."
   ]
  },
  {
   "cell_type": "code",
   "execution_count": 56,
   "metadata": {},
   "outputs": [
    {
     "data": {
      "text/html": [
       "<div>\n",
       "<style scoped>\n",
       "    .dataframe tbody tr th:only-of-type {\n",
       "        vertical-align: middle;\n",
       "    }\n",
       "\n",
       "    .dataframe tbody tr th {\n",
       "        vertical-align: top;\n",
       "    }\n",
       "\n",
       "    .dataframe thead th {\n",
       "        text-align: right;\n",
       "    }\n",
       "</style>\n",
       "<table border=\"1\" class=\"dataframe\">\n",
       "  <thead>\n",
       "    <tr style=\"text-align: right;\">\n",
       "      <th></th>\n",
       "      <th>user_id</th>\n",
       "      <th>gb_used</th>\n",
       "      <th>duration</th>\n",
       "      <th>messages_count</th>\n",
       "      <th>plan</th>\n",
       "      <th>total_revenue</th>\n",
       "      <th>plan_id</th>\n",
       "    </tr>\n",
       "  </thead>\n",
       "  <tbody>\n",
       "    <tr>\n",
       "      <th>0</th>\n",
       "      <td>1000</td>\n",
       "      <td>2.0</td>\n",
       "      <td>108.0</td>\n",
       "      <td>11.0</td>\n",
       "      <td>ultimate</td>\n",
       "      <td>70.0</td>\n",
       "      <td>2</td>\n",
       "    </tr>\n",
       "    <tr>\n",
       "      <th>1</th>\n",
       "      <td>1001</td>\n",
       "      <td>7.0</td>\n",
       "      <td>160.0</td>\n",
       "      <td>30.0</td>\n",
       "      <td>surf</td>\n",
       "      <td>20.0</td>\n",
       "      <td>1</td>\n",
       "    </tr>\n",
       "    <tr>\n",
       "      <th>2</th>\n",
       "      <td>1001</td>\n",
       "      <td>14.0</td>\n",
       "      <td>278.0</td>\n",
       "      <td>44.0</td>\n",
       "      <td>surf</td>\n",
       "      <td>20.0</td>\n",
       "      <td>1</td>\n",
       "    </tr>\n",
       "  </tbody>\n",
       "</table>\n",
       "</div>"
      ],
      "text/plain": [
       "   user_id  gb_used  duration  messages_count      plan  total_revenue  \\\n",
       "0     1000      2.0     108.0            11.0  ultimate           70.0   \n",
       "1     1001      7.0     160.0            30.0      surf           20.0   \n",
       "2     1001     14.0     278.0            44.0      surf           20.0   \n",
       "\n",
       "   plan_id  \n",
       "0        2  \n",
       "1        1  \n",
       "2        1  "
      ]
     },
     "execution_count": 56,
     "metadata": {},
     "output_type": "execute_result"
    }
   ],
   "source": [
    "data_merged2.head(3)"
   ]
  },
  {
   "cell_type": "code",
   "execution_count": 57,
   "metadata": {},
   "outputs": [
    {
     "data": {
      "text/plain": [
       "count    2303.000000\n",
       "mean        1.314373\n",
       "std         0.464366\n",
       "min         1.000000\n",
       "25%         1.000000\n",
       "50%         1.000000\n",
       "75%         2.000000\n",
       "max         2.000000\n",
       "Name: plan_id, dtype: float64"
      ]
     },
     "execution_count": 57,
     "metadata": {},
     "output_type": "execute_result"
    }
   ],
   "source": [
    "data_merged2['plan_id'].describe()"
   ]
  },
  {
   "cell_type": "markdown",
   "metadata": {},
   "source": [
    "Mean is 1.314373.\n",
    "The Median is 1.\n",
    "Std is 0.464366.\n",
    "Let's plot a histogram to look at the data more clearly."
   ]
  },
  {
   "cell_type": "code",
   "execution_count": 58,
   "metadata": {},
   "outputs": [
    {
     "data": {
      "image/png": "[encoded data removed]",
      "text/plain": [
       "<Figure size 432x288 with 1 Axes>"
      ]
     },
     "metadata": {
      "needs_background": "light"
     },
     "output_type": "display_data"
    }
   ],
   "source": [
    "id_plan_hist = data_merged2['plan_id'].plot(kind='hist', ec='black')\n",
    "id_plan_hist.set_title('PLANS', fontsize=18)\n",
    "id_plan_hist.set_xlabel('1 = SURF PLAN    |    2 = ULTIMATE PLAN', fontsize=15, color='blue')\n",
    "plt.show()"
   ]
  },
  {
   "cell_type": "markdown",
   "metadata": {},
   "source": [
    "There are far more \"surf\" users than \"ultimate.\" we can visually see it with a pie chart. "
   ]
  },
  {
   "cell_type": "code",
   "execution_count": 59,
   "metadata": {},
   "outputs": [
    {
     "data": {
      "image/png": "[encoded data removed]",
      "text/plain": [
       "<Figure size 720x864 with 1 Axes>"
      ]
     },
     "metadata": {},
     "output_type": "display_data"
    }
   ],
   "source": [
    "pie_chart_plan = data_merged2.plan.value_counts().plot(kind='pie', figsize=(10, 12), autopct='%1.1f%%', fontsize=15)\n",
    "pie_chart_plan.set_title('plans', color='blue', fontsize=18) \n",
    "plt.show()"
   ]
  },
  {
   "cell_type": "markdown",
   "metadata": {},
   "source": [
    "69% use the \"surf\" plan, and 31% use the \"ultimate\" plan."
   ]
  },
  {
   "cell_type": "code",
   "execution_count": 60,
   "metadata": {},
   "outputs": [
    {
     "data": {
      "text/plain": [
       "count    2303.000000\n",
       "mean       65.737173\n",
       "std        47.973770\n",
       "min        20.000000\n",
       "25%        22.895000\n",
       "50%        70.000000\n",
       "75%        70.000000\n",
       "max       596.980000\n",
       "Name: total_revenue, dtype: float64"
      ]
     },
     "execution_count": 60,
     "metadata": {},
     "output_type": "execute_result"
    }
   ],
   "source": [
    "data_merged2['total_revenue'].describe()"
   ]
  },
  {
   "cell_type": "markdown",
   "metadata": {},
   "source": [
    "The average user is worth the company 65.737173 dollars a month.\n",
    "The median revenue is 70.000000 dollars.\n",
    "Std is 47.973770."
   ]
  },
  {
   "cell_type": "code",
   "execution_count": 61,
   "metadata": {},
   "outputs": [
    {
     "data": {
      "image/png": "[encoded data removed]",
      "text/plain": [
       "<Figure size 432x288 with 1 Axes>"
      ]
     },
     "metadata": {
      "needs_background": "light"
     },
     "output_type": "display_data"
    }
   ],
   "source": [
    "rev_hist = data_merged2['total_revenue'].plot(kind='hist', bins=100, ec='black', color='green')\n",
    "rev_hist.set_title('REVENUE PER USER', fontsize=18)\n",
    "rev_hist.set_xlabel(\"REVENUE IN DOLLARS\", color='blue', fontsize=15)\n",
    "plt.show()"
   ]
  },
  {
   "cell_type": "markdown",
   "metadata": {},
   "source": [
    "We can see more \"surfer\" users than \"ultimate\" users, around 20 dollars. Maybe it's time to double down on a third plan, primarily because of the vast amount of internet usage and the majority of surfer users exceeding the limits of their plans. "
   ]
  },
  {
   "cell_type": "markdown",
   "metadata": {},
   "source": [
    "# Step 4. Test the hypotheses\n"
   ]
  },
  {
   "cell_type": "markdown",
   "metadata": {},
   "source": [
    "Let's create two variables: one that slices the revenue to the ultimate plan and the surf plan."
   ]
  },
  {
   "cell_type": "code",
   "execution_count": 62,
   "metadata": {},
   "outputs": [],
   "source": [
    "ultimate_user = data_merged2.query('plan == \"ultimate\"')['total_revenue']"
   ]
  },
  {
   "cell_type": "code",
   "execution_count": 63,
   "metadata": {},
   "outputs": [],
   "source": [
    "surf_user = data_merged2.query('plan == \"surf\"')['total_revenue']"
   ]
  },
  {
   "cell_type": "markdown",
   "metadata": {},
   "source": [
    "Let's use the Levene library to find if the variance is equal between the two samples or not."
   ]
  },
  {
   "cell_type": "markdown",
   "metadata": {},
   "source": [
    "We will need to choose a significant level to be the threshold that determines when we will reject the null hypothesis. Our significant level will be 0.05 percent."
   ]
  },
  {
   "cell_type": "code",
   "execution_count": 64,
   "metadata": {},
   "outputs": [],
   "source": [
    "from scipy.stats import levene"
   ]
  },
  {
   "cell_type": "code",
   "execution_count": 65,
   "metadata": {},
   "outputs": [
    {
     "data": {
      "text/plain": [
       "LeveneResult(statistic=598.5327016131625, pvalue=1.0952810329877642e-117)"
      ]
     },
     "execution_count": 65,
     "metadata": {},
     "output_type": "execute_result"
    }
   ],
   "source": [
    "levene(ultimate_user, surf_user, center='mean')"
   ]
  },
  {
   "cell_type": "markdown",
   "metadata": {},
   "source": [
    "pvalue=1.095 is above 0.05, we will consider the variances equal."
   ]
  },
  {
   "cell_type": "markdown",
   "metadata": {},
   "source": [
    "Now let's do an independent t-test with the two variables and the equal_var=True because of the Levene test results."
   ]
  },
  {
   "cell_type": "code",
   "execution_count": 66,
   "metadata": {},
   "outputs": [],
   "source": [
    "from scipy.stats import ttest_ind"
   ]
  },
  {
   "cell_type": "code",
   "execution_count": 67,
   "metadata": {},
   "outputs": [
    {
     "name": "stdout",
     "output_type": "stream",
     "text": [
      "p-value: 2.5412291384701134e-06\n",
      "We reject the null hypothesis\n"
     ]
    }
   ],
   "source": [
    "alpha = 0.05 # set a critical statistical significance level\n",
    "\n",
    "results = ttest_ind(ultimate_user, surf_user, equal_var=True) # test the hypothesis that the means of the two independent populations are equal\n",
    "\n",
    "print('p-value:', results.pvalue)# print the p-value you get\n",
    "\n",
    "if results.pvalue < alpha: #compare the p-value you get with the significance level:\n",
    "    print(\"We reject the null hypothesis\")\n",
    "else:\n",
    "    print(\"We can't reject the null hypothesis\")"
   ]
  },
  {
   "cell_type": "markdown",
   "metadata": {},
   "source": [
    "We reject the null hypothesis, which means that The average revenue from Ultimate and Surf calling plans users differs."
   ]
  },
  {
   "cell_type": "markdown",
   "metadata": {},
   "source": [
    "Now let us test the hypothesis that The average revenue from users in the NY-NJ area is different from that of the users from other regions.\n"
   ]
  },
  {
   "cell_type": "markdown",
   "metadata": {},
   "source": [
    "First, let's merge the city from user data to our data_merge2 by the user_id."
   ]
  },
  {
   "cell_type": "code",
   "execution_count": 68,
   "metadata": {},
   "outputs": [],
   "source": [
    "megaline_city_per_user = users[['user_id', 'city']]"
   ]
  },
  {
   "cell_type": "code",
   "execution_count": 69,
   "metadata": {},
   "outputs": [],
   "source": [
    "data_frames3 = [data_merged2, megaline_city_per_user]\n",
    "data_merged3 = reduce(lambda left,right: pd.merge(left,right,on=['user_id'], how='outer'), data_frames3)"
   ]
  },
  {
   "cell_type": "code",
   "execution_count": 70,
   "metadata": {},
   "outputs": [
    {
     "data": {
      "text/html": [
       "<div>\n",
       "<style scoped>\n",
       "    .dataframe tbody tr th:only-of-type {\n",
       "        vertical-align: middle;\n",
       "    }\n",
       "\n",
       "    .dataframe tbody tr th {\n",
       "        vertical-align: top;\n",
       "    }\n",
       "\n",
       "    .dataframe thead th {\n",
       "        text-align: right;\n",
       "    }\n",
       "</style>\n",
       "<table border=\"1\" class=\"dataframe\">\n",
       "  <thead>\n",
       "    <tr style=\"text-align: right;\">\n",
       "      <th></th>\n",
       "      <th>user_id</th>\n",
       "      <th>gb_used</th>\n",
       "      <th>duration</th>\n",
       "      <th>messages_count</th>\n",
       "      <th>plan</th>\n",
       "      <th>total_revenue</th>\n",
       "      <th>plan_id</th>\n",
       "      <th>city</th>\n",
       "    </tr>\n",
       "  </thead>\n",
       "  <tbody>\n",
       "    <tr>\n",
       "      <th>0</th>\n",
       "      <td>1000</td>\n",
       "      <td>2.0</td>\n",
       "      <td>108.0</td>\n",
       "      <td>11.0</td>\n",
       "      <td>ultimate</td>\n",
       "      <td>70.00</td>\n",
       "      <td>2</td>\n",
       "      <td>Atlanta-Sandy Springs-Roswell, GA MSA</td>\n",
       "    </tr>\n",
       "    <tr>\n",
       "      <th>1</th>\n",
       "      <td>1001</td>\n",
       "      <td>7.0</td>\n",
       "      <td>160.0</td>\n",
       "      <td>30.0</td>\n",
       "      <td>surf</td>\n",
       "      <td>20.00</td>\n",
       "      <td>1</td>\n",
       "      <td>Seattle-Tacoma-Bellevue, WA MSA</td>\n",
       "    </tr>\n",
       "    <tr>\n",
       "      <th>2</th>\n",
       "      <td>1001</td>\n",
       "      <td>14.0</td>\n",
       "      <td>278.0</td>\n",
       "      <td>44.0</td>\n",
       "      <td>surf</td>\n",
       "      <td>20.00</td>\n",
       "      <td>1</td>\n",
       "      <td>Seattle-Tacoma-Bellevue, WA MSA</td>\n",
       "    </tr>\n",
       "    <tr>\n",
       "      <th>3</th>\n",
       "      <td>1001</td>\n",
       "      <td>23.0</td>\n",
       "      <td>348.0</td>\n",
       "      <td>53.0</td>\n",
       "      <td>surf</td>\n",
       "      <td>100.09</td>\n",
       "      <td>1</td>\n",
       "      <td>Seattle-Tacoma-Bellevue, WA MSA</td>\n",
       "    </tr>\n",
       "    <tr>\n",
       "      <th>4</th>\n",
       "      <td>1001</td>\n",
       "      <td>19.0</td>\n",
       "      <td>379.0</td>\n",
       "      <td>36.0</td>\n",
       "      <td>surf</td>\n",
       "      <td>60.00</td>\n",
       "      <td>1</td>\n",
       "      <td>Seattle-Tacoma-Bellevue, WA MSA</td>\n",
       "    </tr>\n",
       "  </tbody>\n",
       "</table>\n",
       "</div>"
      ],
      "text/plain": [
       "   user_id  gb_used  duration  messages_count      plan  total_revenue  \\\n",
       "0     1000      2.0     108.0            11.0  ultimate          70.00   \n",
       "1     1001      7.0     160.0            30.0      surf          20.00   \n",
       "2     1001     14.0     278.0            44.0      surf          20.00   \n",
       "3     1001     23.0     348.0            53.0      surf         100.09   \n",
       "4     1001     19.0     379.0            36.0      surf          60.00   \n",
       "\n",
       "   plan_id                                   city  \n",
       "0        2  Atlanta-Sandy Springs-Roswell, GA MSA  \n",
       "1        1        Seattle-Tacoma-Bellevue, WA MSA  \n",
       "2        1        Seattle-Tacoma-Bellevue, WA MSA  \n",
       "3        1        Seattle-Tacoma-Bellevue, WA MSA  \n",
       "4        1        Seattle-Tacoma-Bellevue, WA MSA  "
      ]
     },
     "execution_count": 70,
     "metadata": {},
     "output_type": "execute_result"
    }
   ],
   "source": [
    "data_merged3.head()"
   ]
  },
  {
   "cell_type": "markdown",
   "metadata": {},
   "source": [
    "the city is merged!"
   ]
  },
  {
   "cell_type": "code",
   "execution_count": 71,
   "metadata": {},
   "outputs": [
    {
     "data": {
      "text/plain": [
       "New York-Newark-Jersey City, NY-NJ-PA MSA          378\n",
       "Los Angeles-Long Beach-Anaheim, CA MSA             132\n",
       "Chicago-Naperville-Elgin, IL-IN-WI MSA              94\n",
       "Dallas-Fort Worth-Arlington, TX MSA                 89\n",
       "Philadelphia-Camden-Wilmington, PA-NJ-DE-MD MSA     82\n",
       "                                                  ... \n",
       "Omaha-Council Bluffs, NE-IA MSA                      3\n",
       "El Paso, TX MSA                                      2\n",
       "Jacksonville, FL MSA                                 2\n",
       "Raleigh-Cary, NC MSA                                 2\n",
       "Cape Coral-Fort Myers, FL MSA                        1\n",
       "Name: city, Length: 73, dtype: int64"
      ]
     },
     "execution_count": 71,
     "metadata": {},
     "output_type": "execute_result"
    }
   ],
   "source": [
    "data_merged3['city'].value_counts()"
   ]
  },
  {
   "cell_type": "markdown",
   "metadata": {},
   "source": [
    "We will need to create two slices from the city column: one for New York and the other regions."
   ]
  },
  {
   "cell_type": "code",
   "execution_count": 72,
   "metadata": {},
   "outputs": [],
   "source": [
    "user_rev_per_new_york = data_merged3.query('city == \"New York-Newark-Jersey City, NY-NJ-PA MSA\"')['total_revenue']"
   ]
  },
  {
   "cell_type": "code",
   "execution_count": 73,
   "metadata": {},
   "outputs": [],
   "source": [
    "user_rev_per_other_region = data_merged3.query('city != \"New York-Newark-Jersey City, NY-NJ-PA MSA\"')['total_revenue']"
   ]
  },
  {
   "cell_type": "markdown",
   "metadata": {},
   "source": [
    "First, let's check if the variance is equal or not."
   ]
  },
  {
   "cell_type": "code",
   "execution_count": 74,
   "metadata": {},
   "outputs": [
    {
     "data": {
      "text/plain": [
       "LeveneResult(statistic=2.2389901423287375, pvalue=0.13470598298901465)"
      ]
     },
     "execution_count": 74,
     "metadata": {},
     "output_type": "execute_result"
    }
   ],
   "source": [
    "levene(user_rev_per_new_york, user_rev_per_other_region, center='mean')"
   ]
  },
  {
   "cell_type": "markdown",
   "metadata": {},
   "source": [
    "pvalue=0.13470598298901465 is way above our threshold of 0.05. So the variance is considered equal."
   ]
  },
  {
   "cell_type": "code",
   "execution_count": 75,
   "metadata": {},
   "outputs": [
    {
     "name": "stdout",
     "output_type": "stream",
     "text": [
      "p-value: 0.09792640256064623\n",
      "We can't reject the null hypothesis\n"
     ]
    }
   ],
   "source": [
    "alpha = 0.05 # your code: set a critical statistical significance level\n",
    "\n",
    "results = ttest_ind(user_rev_per_new_york, user_rev_per_other_region, equal_var=True) # your code: test the hypothesis that the means of the two independent populations are equal\n",
    "\n",
    "print('p-value:', results.pvalue)# your code: print the p-value you get)\n",
    "\n",
    "if results.pvalue < alpha: # your code: compare the p-value you get with the significance level):\n",
    "    print(\"We reject the null hypothesis\")\n",
    "else:\n",
    "    print(\"We can't reject the null hypothesis\")"
   ]
  },
  {
   "cell_type": "markdown",
   "metadata": {},
   "source": [
    "We reject the null hypothesis, which means that The average revenue from users in the NY-NJ area is different from that of users from other regions."
   ]
  },
  {
   "cell_type": "markdown",
   "metadata": {},
   "source": [
    "One thing we can do is to create a correlation heatmap between different columns in our data."
   ]
  },
  {
   "cell_type": "markdown",
   "metadata": {},
   "source": [
    "H0: The null hypothesis in the second question is that The average revenue from users in the NY-NJ area is not different from that of the users from other regions.\n",
    "\n",
    "H1:The alternative hypothesis is The average revenue from users in the NY-NJ area is different from that of the users from other regions."
   ]
  },
  {
   "cell_type": "markdown",
   "metadata": {},
   "source": [
    "First, we will create a revenue column for new york users and clients in other regions using our variable from the test."
   ]
  },
  {
   "cell_type": "code",
   "execution_count": 76,
   "metadata": {},
   "outputs": [],
   "source": [
    "data_merged3['user_rev_per_new_york'] = user_rev_per_new_york"
   ]
  },
  {
   "cell_type": "code",
   "execution_count": 77,
   "metadata": {},
   "outputs": [],
   "source": [
    "data_merged3['user_rev_per_other_region'] = user_rev_per_other_region"
   ]
  },
  {
   "cell_type": "code",
   "execution_count": 78,
   "metadata": {},
   "outputs": [
    {
     "data": {
      "text/html": [
       "<div>\n",
       "<style scoped>\n",
       "    .dataframe tbody tr th:only-of-type {\n",
       "        vertical-align: middle;\n",
       "    }\n",
       "\n",
       "    .dataframe tbody tr th {\n",
       "        vertical-align: top;\n",
       "    }\n",
       "\n",
       "    .dataframe thead th {\n",
       "        text-align: right;\n",
       "    }\n",
       "</style>\n",
       "<table border=\"1\" class=\"dataframe\">\n",
       "  <thead>\n",
       "    <tr style=\"text-align: right;\">\n",
       "      <th></th>\n",
       "      <th>missing</th>\n",
       "      <th>total</th>\n",
       "      <th>percent</th>\n",
       "    </tr>\n",
       "  </thead>\n",
       "  <tbody>\n",
       "    <tr>\n",
       "      <th>user_rev_per_new_york</th>\n",
       "      <td>1925</td>\n",
       "      <td>2303</td>\n",
       "      <td>83.586626</td>\n",
       "    </tr>\n",
       "    <tr>\n",
       "      <th>messages_count</th>\n",
       "      <td>497</td>\n",
       "      <td>2303</td>\n",
       "      <td>21.580547</td>\n",
       "    </tr>\n",
       "    <tr>\n",
       "      <th>user_rev_per_other_region</th>\n",
       "      <td>378</td>\n",
       "      <td>2303</td>\n",
       "      <td>16.413374</td>\n",
       "    </tr>\n",
       "    <tr>\n",
       "      <th>duration</th>\n",
       "      <td>45</td>\n",
       "      <td>2303</td>\n",
       "      <td>1.953973</td>\n",
       "    </tr>\n",
       "    <tr>\n",
       "      <th>gb_used</th>\n",
       "      <td>26</td>\n",
       "      <td>2303</td>\n",
       "      <td>1.128962</td>\n",
       "    </tr>\n",
       "    <tr>\n",
       "      <th>user_id</th>\n",
       "      <td>0</td>\n",
       "      <td>2303</td>\n",
       "      <td>0.000000</td>\n",
       "    </tr>\n",
       "    <tr>\n",
       "      <th>plan</th>\n",
       "      <td>0</td>\n",
       "      <td>2303</td>\n",
       "      <td>0.000000</td>\n",
       "    </tr>\n",
       "    <tr>\n",
       "      <th>total_revenue</th>\n",
       "      <td>0</td>\n",
       "      <td>2303</td>\n",
       "      <td>0.000000</td>\n",
       "    </tr>\n",
       "    <tr>\n",
       "      <th>plan_id</th>\n",
       "      <td>0</td>\n",
       "      <td>2303</td>\n",
       "      <td>0.000000</td>\n",
       "    </tr>\n",
       "    <tr>\n",
       "      <th>city</th>\n",
       "      <td>0</td>\n",
       "      <td>2303</td>\n",
       "      <td>0.000000</td>\n",
       "    </tr>\n",
       "  </tbody>\n",
       "</table>\n",
       "</div>"
      ],
      "text/plain": [
       "                           missing  total    percent\n",
       "user_rev_per_new_york         1925   2303  83.586626\n",
       "messages_count                 497   2303  21.580547\n",
       "user_rev_per_other_region      378   2303  16.413374\n",
       "duration                        45   2303   1.953973\n",
       "gb_used                         26   2303   1.128962\n",
       "user_id                          0   2303   0.000000\n",
       "plan                             0   2303   0.000000\n",
       "total_revenue                    0   2303   0.000000\n",
       "plan_id                          0   2303   0.000000\n",
       "city                             0   2303   0.000000"
      ]
     },
     "execution_count": 78,
     "metadata": {},
     "output_type": "execute_result"
    }
   ],
   "source": [
    "data_merged3.stb.missing()"
   ]
  },
  {
   "cell_type": "markdown",
   "metadata": {},
   "source": [
    "We are dealing with some missing values in the data. Let's fill each column by its median. We will not touch a column that has below 5% missing values."
   ]
  },
  {
   "cell_type": "code",
   "execution_count": 79,
   "metadata": {},
   "outputs": [],
   "source": [
    "data_merged3['user_rev_per_new_york'] = data_merged3['user_rev_per_new_york'].fillna(data_merged3['user_rev_per_new_york'].median())\n",
    "data_merged3['user_rev_per_other_region'] = data_merged3['user_rev_per_other_region'].fillna(data_merged3['user_rev_per_new_york'].median())"
   ]
  },
  {
   "cell_type": "code",
   "execution_count": 80,
   "metadata": {},
   "outputs": [
    {
     "data": {
      "text/html": [
       "<div>\n",
       "<style scoped>\n",
       "    .dataframe tbody tr th:only-of-type {\n",
       "        vertical-align: middle;\n",
       "    }\n",
       "\n",
       "    .dataframe tbody tr th {\n",
       "        vertical-align: top;\n",
       "    }\n",
       "\n",
       "    .dataframe thead th {\n",
       "        text-align: right;\n",
       "    }\n",
       "</style>\n",
       "<table border=\"1\" class=\"dataframe\">\n",
       "  <thead>\n",
       "    <tr style=\"text-align: right;\">\n",
       "      <th></th>\n",
       "      <th>missing</th>\n",
       "      <th>total</th>\n",
       "      <th>percent</th>\n",
       "    </tr>\n",
       "  </thead>\n",
       "  <tbody>\n",
       "    <tr>\n",
       "      <th>messages_count</th>\n",
       "      <td>497</td>\n",
       "      <td>2303</td>\n",
       "      <td>21.580547</td>\n",
       "    </tr>\n",
       "    <tr>\n",
       "      <th>duration</th>\n",
       "      <td>45</td>\n",
       "      <td>2303</td>\n",
       "      <td>1.953973</td>\n",
       "    </tr>\n",
       "    <tr>\n",
       "      <th>gb_used</th>\n",
       "      <td>26</td>\n",
       "      <td>2303</td>\n",
       "      <td>1.128962</td>\n",
       "    </tr>\n",
       "    <tr>\n",
       "      <th>user_id</th>\n",
       "      <td>0</td>\n",
       "      <td>2303</td>\n",
       "      <td>0.000000</td>\n",
       "    </tr>\n",
       "    <tr>\n",
       "      <th>plan</th>\n",
       "      <td>0</td>\n",
       "      <td>2303</td>\n",
       "      <td>0.000000</td>\n",
       "    </tr>\n",
       "    <tr>\n",
       "      <th>total_revenue</th>\n",
       "      <td>0</td>\n",
       "      <td>2303</td>\n",
       "      <td>0.000000</td>\n",
       "    </tr>\n",
       "    <tr>\n",
       "      <th>plan_id</th>\n",
       "      <td>0</td>\n",
       "      <td>2303</td>\n",
       "      <td>0.000000</td>\n",
       "    </tr>\n",
       "    <tr>\n",
       "      <th>city</th>\n",
       "      <td>0</td>\n",
       "      <td>2303</td>\n",
       "      <td>0.000000</td>\n",
       "    </tr>\n",
       "    <tr>\n",
       "      <th>user_rev_per_new_york</th>\n",
       "      <td>0</td>\n",
       "      <td>2303</td>\n",
       "      <td>0.000000</td>\n",
       "    </tr>\n",
       "    <tr>\n",
       "      <th>user_rev_per_other_region</th>\n",
       "      <td>0</td>\n",
       "      <td>2303</td>\n",
       "      <td>0.000000</td>\n",
       "    </tr>\n",
       "  </tbody>\n",
       "</table>\n",
       "</div>"
      ],
      "text/plain": [
       "                           missing  total    percent\n",
       "messages_count                 497   2303  21.580547\n",
       "duration                        45   2303   1.953973\n",
       "gb_used                         26   2303   1.128962\n",
       "user_id                          0   2303   0.000000\n",
       "plan                             0   2303   0.000000\n",
       "total_revenue                    0   2303   0.000000\n",
       "plan_id                          0   2303   0.000000\n",
       "city                             0   2303   0.000000\n",
       "user_rev_per_new_york            0   2303   0.000000\n",
       "user_rev_per_other_region        0   2303   0.000000"
      ]
     },
     "execution_count": 80,
     "metadata": {},
     "output_type": "execute_result"
    }
   ],
   "source": [
    "data_merged3.stb.missing()"
   ]
  },
  {
   "cell_type": "markdown",
   "metadata": {},
   "source": [
    "Now we are ready to create the heatmap."
   ]
  },
  {
   "cell_type": "code",
   "execution_count": 81,
   "metadata": {},
   "outputs": [],
   "source": [
    "heatmap = data_merged3.pivot_table(index='user_id', values=['user_rev_per_new_york', 'user_rev_per_other_region', 'plan_id', 'duration', 'messages_count', 'gb_used', 'total_revenue'], aggfunc='mean')"
   ]
  },
  {
   "cell_type": "code",
   "execution_count": 82,
   "metadata": {},
   "outputs": [
    {
     "data": {
      "image/png": "[encoded data removed]",
      "text/plain": [
       "<Figure size 576x216 with 2 Axes>"
      ]
     },
     "metadata": {
      "needs_background": "light"
     },
     "output_type": "display_data"
    }
   ],
   "source": [
    "plt.figure(figsize=(8, 3))\n",
    "\n",
    "heatmap = sns.heatmap(heatmap.corr(), vmin=-1, vmax=1, annot=True)\n",
    "\n",
    "heatmap.set_title('Correlation Heatmap', fontdict={'fontsize':12}, pad=12);"
   ]
  },
  {
   "cell_type": "markdown",
   "metadata": {},
   "source": [
    "We find some answers: revenue for users in new york has a negative correlation from users in other regions."
   ]
  },
  {
   "cell_type": "markdown",
   "metadata": {},
   "source": [
    " Here the negative correlation between new york to other regions is not too high, but it is still negative. With the t-test, we can reject the null hypothesis and root with The alternative hypothesis that the average revenue from users in the NY-NJ area is different from that of the users from other regions."
   ]
  },
  {
   "cell_type": "code",
   "execution_count": 83,
   "metadata": {},
   "outputs": [
    {
     "data": {
      "image/png": "[encoded data removed]",
      "text/plain": [
       "<Figure size 720x864 with 1 Axes>"
      ]
     },
     "metadata": {},
     "output_type": "display_data"
    }
   ],
   "source": [
    "pie_chart_plan = data_merged3.city.value_counts().plot(kind='pie', figsize=(10, 12), autopct='%1.1f%%', fontsize=15)\n",
    "pie_chart_plan.set_title('regions', color='blue', fontsize=18)\n",
    "labels = ['NY', 'OTHER REGIONS']\n",
    "plt.show()"
   ]
  },
  {
   "cell_type": "markdown",
   "metadata": {},
   "source": [
    "New York accounts for 16% of the company users, the rest is from other regions, but it is clear that the company's most significant area is new york."
   ]
  },
  {
   "cell_type": "markdown",
   "metadata": {},
   "source": [
    "<div class=\"alert alert-danger\" role=\"alert\">\n",
    "<b>Reviewer's comment v1:</b>\n",
    "    \n",
    "The same comments here. "
   ]
  },
  {
   "cell_type": "markdown",
   "metadata": {},
   "source": [
    "<div class=\"alert alert-success\" role=\"alert\">\n",
    "<b>Reviewer's comment v2:</b>\n",
    "    \n",
    "- Well done! Hypotheses have been tested correctly. "
   ]
  },
  {
   "cell_type": "markdown",
   "metadata": {},
   "source": [
    "# Step 5. Write an overall conclusion\n"
   ]
  },
  {
   "cell_type": "markdown",
   "metadata": {},
   "source": [
    "We came a long way from the beginning of the project.\n",
    "\n",
    "- First, we learned the different datasets that were given to us.\n",
    "\n",
    "\n",
    "- Then we prepare the data by changing data types, rounding up the necessary column on duration and GB usage. We filled the missing values on the churn_date column for active users. We check zero's in our data. We create a column for the month in all the datasets and merge the SMS, internet and calls column by the month and user_id. Then we also marge the plan for each user. We create a function to calculate the revenue per user and apply it to a revenue per user column in our merge data.\n",
    "\n",
    "\n",
    "- We analyze each column in our data. First, we find the mean, median, and std. Then, we plot a histogram for the columns to see the data distribution.\n",
    "\n",
    "\n",
    "- We find far more \"surfer\" users than \"ultimate\" users. Maybe it's time to double down on a third plan, primarily because of the vast amount of internet usage and the majority of surfer users exceeding the limits of their plans.\n",
    "\n",
    "\n",
    "- The average user is worth the company 38.059053  dollars a month.\n",
    "\n",
    "\n",
    "- We concluded that we could not reject our hypothesis that The average revenue from users of Ultimate and Surf calling plans differs.\n",
    "\n",
    "\n",
    "- We also conclude that we can't reject our second hypothesis that The average revenue from users in the NY-NJ area is different from that of users from other regions.\n",
    "\n",
    "\n",
    "- We create a heatmap on our table and find that users from new york have a negative correlation from people in other regions. This doesn't give us a sufficient answer, but it still makes our case stronger because we can't reject the hypothesis.\n",
    "\n",
    "\n",
    "- On the other hand, we find a strong correlation of 0.77 between gb_used to the total revenue.\n",
    "\n",
    "\n",
    "- And a strong correlation of 0.71 with people in another region to the gb_used.\n",
    "\n",
    "\n",
    "- Maybe it's time to expand market share in other regions.\n",
    "\n",
    "- Maybe it's a good idea to create a new plan that focuses on gb_used."
   ]
  },
  {
   "cell_type": "markdown",
   "metadata": {},
   "source": [
    "<div class=\"alert alert-success\">\n",
    "<b>Reviewer's comment v1</b>\n",
    " \n",
    "Overall you conducted great research with correct interim findings, clean code and nice visualisation.\n",
    "\n",
    "Great that you shared structured results and your observations.\n",
    "   "
   ]
  }
 ],
 "metadata": {
  "ExecuteTimeLog": [
   {
    "duration": 32687,
    "start_time": "2021-12-06T20:53:41.288Z"
   },
   {
    "duration": 17126,
    "start_time": "2021-12-06T20:54:19.550Z"
   },
   {
    "duration": 1154,
    "start_time": "2021-12-06T20:54:36.678Z"
   },
   {
    "duration": 136,
    "start_time": "2021-12-06T20:55:24.336Z"
   },
   {
    "duration": 168,
    "start_time": "2021-12-06T20:56:27.128Z"
   },
   {
    "duration": 156,
    "start_time": "2021-12-06T20:57:08.927Z"
   },
   {
    "duration": 110,
    "start_time": "2021-12-06T20:58:20.442Z"
   },
   {
    "duration": 74,
    "start_time": "2021-12-06T20:59:24.016Z"
   },
   {
    "duration": 2329,
    "start_time": "2021-12-06T21:03:26.144Z"
   },
   {
    "duration": 3,
    "start_time": "2021-12-06T21:03:28.475Z"
   },
   {
    "duration": 189,
    "start_time": "2021-12-06T21:03:28.480Z"
   },
   {
    "duration": 156,
    "start_time": "2021-12-06T21:03:28.671Z"
   },
   {
    "duration": 120,
    "start_time": "2021-12-06T21:03:28.829Z"
   },
   {
    "duration": 69,
    "start_time": "2021-12-06T21:03:28.951Z"
   },
   {
    "duration": 104,
    "start_time": "2021-12-06T21:03:29.022Z"
   },
   {
    "duration": 12,
    "start_time": "2021-12-06T21:03:29.128Z"
   },
   {
    "duration": 10,
    "start_time": "2021-12-06T21:03:58.336Z"
   },
   {
    "duration": 22,
    "start_time": "2021-12-06T21:04:20.512Z"
   },
   {
    "duration": 37,
    "start_time": "2021-12-06T21:05:27.481Z"
   },
   {
    "duration": 22,
    "start_time": "2021-12-06T21:06:19.126Z"
   },
   {
    "duration": 8,
    "start_time": "2021-12-06T21:08:08.446Z"
   },
   {
    "duration": 18,
    "start_time": "2021-12-06T21:08:22.882Z"
   },
   {
    "duration": 18,
    "start_time": "2021-12-06T21:08:41.532Z"
   },
   {
    "duration": 28,
    "start_time": "2021-12-06T21:09:42.625Z"
   },
   {
    "duration": 7,
    "start_time": "2021-12-06T21:10:44.051Z"
   },
   {
    "duration": 15,
    "start_time": "2021-12-06T21:11:20.987Z"
   },
   {
    "duration": 13,
    "start_time": "2021-12-06T21:11:47.780Z"
   },
   {
    "duration": 16,
    "start_time": "2021-12-06T21:14:05.764Z"
   },
   {
    "duration": 9,
    "start_time": "2021-12-06T21:14:51.181Z"
   },
   {
    "duration": 29,
    "start_time": "2021-12-06T21:15:25.943Z"
   },
   {
    "duration": 10,
    "start_time": "2021-12-06T21:15:51.132Z"
   },
   {
    "duration": 10,
    "start_time": "2021-12-06T21:16:41.424Z"
   },
   {
    "duration": 9,
    "start_time": "2021-12-06T21:16:56.802Z"
   },
   {
    "duration": 18,
    "start_time": "2021-12-06T21:18:02.935Z"
   },
   {
    "duration": 12096,
    "start_time": "2021-12-07T08:21:05.640Z"
   },
   {
    "duration": 2295,
    "start_time": "2021-12-07T08:21:20.251Z"
   },
   {
    "duration": 4,
    "start_time": "2021-12-07T08:21:34.691Z"
   },
   {
    "duration": 330,
    "start_time": "2021-12-07T08:21:43.300Z"
   },
   {
    "duration": 263,
    "start_time": "2021-12-07T08:21:43.721Z"
   },
   {
    "duration": 196,
    "start_time": "2021-12-07T08:21:44.270Z"
   },
   {
    "duration": 124,
    "start_time": "2021-12-07T08:21:44.680Z"
   },
   {
    "duration": 19,
    "start_time": "2021-12-07T08:21:56.150Z"
   },
   {
    "duration": 77,
    "start_time": "2021-12-07T08:26:49.799Z"
   },
   {
    "duration": 37,
    "start_time": "2021-12-07T08:28:07.340Z"
   },
   {
    "duration": 2028,
    "start_time": "2021-12-07T09:22:41.842Z"
   },
   {
    "duration": 494,
    "start_time": "2021-12-07T09:23:49.781Z"
   },
   {
    "duration": 368,
    "start_time": "2021-12-07T09:24:10.252Z"
   },
   {
    "duration": 293,
    "start_time": "2021-12-07T09:30:07.954Z"
   },
   {
    "duration": 26,
    "start_time": "2021-12-07T09:34:10.147Z"
   },
   {
    "duration": 304,
    "start_time": "2021-12-07T09:36:22.111Z"
   },
   {
    "duration": 18,
    "start_time": "2021-12-07T09:42:07.280Z"
   },
   {
    "duration": 459,
    "start_time": "2021-12-07T09:47:38.636Z"
   },
   {
    "duration": 342,
    "start_time": "2021-12-07T09:47:57.262Z"
   },
   {
    "duration": 408,
    "start_time": "2021-12-07T09:48:15.668Z"
   },
   {
    "duration": 14,
    "start_time": "2021-12-07T09:48:23.865Z"
   },
   {
    "duration": 14,
    "start_time": "2021-12-07T09:48:25.228Z"
   },
   {
    "duration": 40,
    "start_time": "2021-12-07T09:48:26.427Z"
   },
   {
    "duration": 306,
    "start_time": "2021-12-07T09:48:28.123Z"
   },
   {
    "duration": 4,
    "start_time": "2021-12-07T09:48:37.872Z"
   },
   {
    "duration": 260,
    "start_time": "2021-12-07T09:48:38.837Z"
   },
   {
    "duration": 221,
    "start_time": "2021-12-07T09:48:39.853Z"
   },
   {
    "duration": 213,
    "start_time": "2021-12-07T09:48:40.310Z"
   },
   {
    "duration": 126,
    "start_time": "2021-12-07T09:48:41.111Z"
   },
   {
    "duration": 129,
    "start_time": "2021-12-07T09:48:42.727Z"
   },
   {
    "duration": 13,
    "start_time": "2021-12-07T09:48:44.813Z"
   },
   {
    "duration": 29,
    "start_time": "2021-12-07T09:48:45.553Z"
   },
   {
    "duration": 49,
    "start_time": "2021-12-07T09:48:46.439Z"
   },
   {
    "duration": 29,
    "start_time": "2021-12-07T09:48:46.743Z"
   },
   {
    "duration": 303,
    "start_time": "2021-12-07T09:48:47.143Z"
   },
   {
    "duration": 11,
    "start_time": "2021-12-07T09:48:48.717Z"
   },
   {
    "duration": 23,
    "start_time": "2021-12-07T09:48:49.289Z"
   },
   {
    "duration": 25,
    "start_time": "2021-12-07T09:48:51.699Z"
   },
   {
    "duration": 308,
    "start_time": "2021-12-07T09:48:52.652Z"
   },
   {
    "duration": 66,
    "start_time": "2021-12-07T09:48:54.150Z"
   },
   {
    "duration": 13,
    "start_time": "2021-12-07T09:48:54.720Z"
   },
   {
    "duration": 22,
    "start_time": "2021-12-07T09:48:59.157Z"
   },
   {
    "duration": 17,
    "start_time": "2021-12-07T09:49:01.373Z"
   },
   {
    "duration": 14,
    "start_time": "2021-12-07T09:49:02.109Z"
   },
   {
    "duration": 13,
    "start_time": "2021-12-07T09:49:03.560Z"
   },
   {
    "duration": 43,
    "start_time": "2021-12-07T09:49:06.870Z"
   },
   {
    "duration": 21,
    "start_time": "2021-12-07T09:49:11.518Z"
   },
   {
    "duration": 20,
    "start_time": "2021-12-07T09:49:15.000Z"
   },
   {
    "duration": 12,
    "start_time": "2021-12-07T09:49:17.520Z"
   },
   {
    "duration": 22,
    "start_time": "2021-12-07T09:52:37.029Z"
   },
   {
    "duration": 24,
    "start_time": "2021-12-07T09:53:31.779Z"
   },
   {
    "duration": 24,
    "start_time": "2021-12-07T09:53:50.163Z"
   },
   {
    "duration": 32,
    "start_time": "2021-12-07T09:55:37.540Z"
   },
   {
    "duration": 20,
    "start_time": "2021-12-07T09:59:05.793Z"
   },
   {
    "duration": 12063,
    "start_time": "2021-12-07T15:04:39.617Z"
   },
   {
    "duration": 1627,
    "start_time": "2021-12-07T15:05:27.845Z"
   },
   {
    "duration": 271,
    "start_time": "2021-12-07T15:05:47.804Z"
   },
   {
    "duration": 229,
    "start_time": "2021-12-07T15:05:48.113Z"
   },
   {
    "duration": 198,
    "start_time": "2021-12-07T15:05:49.387Z"
   },
   {
    "duration": 127,
    "start_time": "2021-12-07T15:05:49.588Z"
   },
   {
    "duration": 162,
    "start_time": "2021-12-07T15:05:49.718Z"
   },
   {
    "duration": 15,
    "start_time": "2021-12-07T15:05:49.883Z"
   },
   {
    "duration": 30,
    "start_time": "2021-12-07T15:05:55.880Z"
   },
   {
    "duration": 3690,
    "start_time": "2021-12-07T15:07:36.929Z"
   },
   {
    "duration": 6,
    "start_time": "2021-12-07T15:07:42.860Z"
   },
   {
    "duration": 290,
    "start_time": "2021-12-07T15:07:46.931Z"
   },
   {
    "duration": 269,
    "start_time": "2021-12-07T15:07:47.260Z"
   },
   {
    "duration": 194,
    "start_time": "2021-12-07T15:07:47.532Z"
   },
   {
    "duration": 140,
    "start_time": "2021-12-07T15:07:47.769Z"
   },
   {
    "duration": 152,
    "start_time": "2021-12-07T15:07:47.986Z"
   },
   {
    "duration": 13,
    "start_time": "2021-12-07T15:07:48.846Z"
   },
   {
    "duration": 30,
    "start_time": "2021-12-07T15:07:49.579Z"
   },
   {
    "duration": 49,
    "start_time": "2021-12-07T15:07:50.769Z"
   },
   {
    "duration": 29,
    "start_time": "2021-12-07T15:07:51.549Z"
   },
   {
    "duration": 949,
    "start_time": "2021-12-07T15:07:53.946Z"
   },
   {
    "duration": 13,
    "start_time": "2021-12-07T15:08:38.804Z"
   },
   {
    "duration": 26,
    "start_time": "2021-12-07T15:08:39.932Z"
   },
   {
    "duration": 27,
    "start_time": "2021-12-07T15:08:43.499Z"
   },
   {
    "duration": 309,
    "start_time": "2021-12-07T15:08:45.389Z"
   },
   {
    "duration": 40,
    "start_time": "2021-12-07T15:08:48.080Z"
   },
   {
    "duration": 11,
    "start_time": "2021-12-07T15:08:49.829Z"
   },
   {
    "duration": 22,
    "start_time": "2021-12-07T15:08:50.647Z"
   },
   {
    "duration": 18,
    "start_time": "2021-12-07T15:08:52.529Z"
   },
   {
    "duration": 12,
    "start_time": "2021-12-07T15:08:54.024Z"
   },
   {
    "duration": 14,
    "start_time": "2021-12-07T15:08:54.999Z"
   },
   {
    "duration": 42,
    "start_time": "2021-12-07T15:08:55.698Z"
   },
   {
    "duration": 16,
    "start_time": "2021-12-07T15:08:56.559Z"
   },
   {
    "duration": 15,
    "start_time": "2021-12-07T15:09:00.809Z"
   },
   {
    "duration": 23,
    "start_time": "2021-12-07T15:09:02.469Z"
   },
   {
    "duration": 23,
    "start_time": "2021-12-07T15:09:26.269Z"
   },
   {
    "duration": 19,
    "start_time": "2021-12-07T15:09:28.934Z"
   },
   {
    "duration": 29,
    "start_time": "2021-12-07T15:18:00.185Z"
   },
   {
    "duration": 24,
    "start_time": "2021-12-07T15:19:12.217Z"
   },
   {
    "duration": 20,
    "start_time": "2021-12-07T15:19:59.412Z"
   },
   {
    "duration": 15,
    "start_time": "2021-12-07T15:21:37.821Z"
   },
   {
    "duration": 29,
    "start_time": "2021-12-07T15:21:46.603Z"
   },
   {
    "duration": 24,
    "start_time": "2021-12-07T15:21:49.234Z"
   },
   {
    "duration": 18,
    "start_time": "2021-12-07T15:21:57.433Z"
   },
   {
    "duration": 14,
    "start_time": "2021-12-07T15:22:11.123Z"
   },
   {
    "duration": 6,
    "start_time": "2021-12-07T15:31:42.772Z"
   },
   {
    "duration": 593,
    "start_time": "2021-12-07T15:35:01.216Z"
   },
   {
    "duration": 4255,
    "start_time": "2021-12-07T15:35:23.025Z"
   },
   {
    "duration": 2704,
    "start_time": "2021-12-07T15:36:03.731Z"
   },
   {
    "duration": 16,
    "start_time": "2021-12-07T15:36:19.521Z"
   },
   {
    "duration": 7,
    "start_time": "2021-12-07T15:36:54.951Z"
   },
   {
    "duration": 7,
    "start_time": "2021-12-07T15:36:58.818Z"
   },
   {
    "duration": 16,
    "start_time": "2021-12-07T15:37:06.142Z"
   },
   {
    "duration": 26,
    "start_time": "2021-12-07T15:46:51.520Z"
   },
   {
    "duration": 21,
    "start_time": "2021-12-07T15:49:28.263Z"
   },
   {
    "duration": 314,
    "start_time": "2021-12-07T15:52:54.145Z"
   },
   {
    "duration": 15,
    "start_time": "2021-12-07T15:54:43.751Z"
   },
   {
    "duration": 13,
    "start_time": "2021-12-07T15:55:00.343Z"
   },
   {
    "duration": 15,
    "start_time": "2021-12-07T15:55:16.064Z"
   },
   {
    "duration": 17,
    "start_time": "2021-12-07T15:56:11.027Z"
   },
   {
    "duration": 188,
    "start_time": "2021-12-07T15:56:11.120Z"
   },
   {
    "duration": 1334,
    "start_time": "2021-12-07T15:56:09.978Z"
   },
   {
    "duration": 120,
    "start_time": "2021-12-07T15:56:11.393Z"
   },
   {
    "duration": 13,
    "start_time": "2021-12-07T15:56:29.564Z"
   },
   {
    "duration": 20,
    "start_time": "2021-12-07T15:57:20.296Z"
   },
   {
    "duration": 7,
    "start_time": "2021-12-07T15:58:22.772Z"
   },
   {
    "duration": 21,
    "start_time": "2021-12-07T15:58:23.920Z"
   },
   {
    "duration": 5201,
    "start_time": "2021-12-07T15:58:51.807Z"
   },
   {
    "duration": 1198,
    "start_time": "2021-12-07T15:58:55.813Z"
   },
   {
    "duration": 19,
    "start_time": "2021-12-07T15:59:35.740Z"
   },
   {
    "duration": 93,
    "start_time": "2021-12-07T16:01:25.115Z"
   },
   {
    "duration": 20,
    "start_time": "2021-12-07T16:01:26.819Z"
   },
   {
    "duration": 8,
    "start_time": "2021-12-07T16:02:39.616Z"
   },
   {
    "duration": 5,
    "start_time": "2021-12-07T16:02:42.558Z"
   },
   {
    "duration": 20,
    "start_time": "2021-12-07T16:02:43.655Z"
   },
   {
    "duration": 5,
    "start_time": "2021-12-07T16:03:32.460Z"
   },
   {
    "duration": 21,
    "start_time": "2021-12-07T16:03:32.734Z"
   },
   {
    "duration": 6,
    "start_time": "2021-12-07T16:10:16.266Z"
   },
   {
    "duration": 21,
    "start_time": "2021-12-07T16:10:18.810Z"
   },
   {
    "duration": 33,
    "start_time": "2021-12-07T16:13:45.234Z"
   },
   {
    "duration": 5,
    "start_time": "2021-12-07T16:14:47.644Z"
   },
   {
    "duration": 22,
    "start_time": "2021-12-07T16:14:51.095Z"
   },
   {
    "duration": 32,
    "start_time": "2021-12-07T16:14:54.354Z"
   },
   {
    "duration": 384,
    "start_time": "2021-12-07T16:15:55.990Z"
   },
   {
    "duration": 15,
    "start_time": "2021-12-07T16:16:26.445Z"
   },
   {
    "duration": 11483,
    "start_time": "2021-12-07T20:24:20.025Z"
   },
   {
    "duration": 1662,
    "start_time": "2021-12-07T20:24:32.296Z"
   },
   {
    "duration": 4,
    "start_time": "2021-12-07T20:24:37.469Z"
   },
   {
    "duration": 240,
    "start_time": "2021-12-07T20:24:47.651Z"
   },
   {
    "duration": 213,
    "start_time": "2021-12-07T20:24:48.758Z"
   },
   {
    "duration": 164,
    "start_time": "2021-12-07T20:24:49.343Z"
   },
   {
    "duration": 102,
    "start_time": "2021-12-07T20:24:49.791Z"
   },
   {
    "duration": 167,
    "start_time": "2021-12-07T20:24:50.390Z"
   },
   {
    "duration": 17,
    "start_time": "2021-12-07T20:24:51.170Z"
   },
   {
    "duration": 45,
    "start_time": "2021-12-07T20:24:52.060Z"
   },
   {
    "duration": 48,
    "start_time": "2021-12-07T20:24:52.386Z"
   },
   {
    "duration": 31,
    "start_time": "2021-12-07T20:24:52.551Z"
   },
   {
    "duration": 2617,
    "start_time": "2021-12-07T20:24:52.876Z"
   },
   {
    "duration": 13,
    "start_time": "2021-12-07T20:24:55.496Z"
   },
   {
    "duration": 27,
    "start_time": "2021-12-07T20:24:55.512Z"
   },
   {
    "duration": 29,
    "start_time": "2021-12-07T20:24:55.566Z"
   },
   {
    "duration": 362,
    "start_time": "2021-12-07T20:24:55.598Z"
   },
   {
    "duration": 38,
    "start_time": "2021-12-07T20:24:55.967Z"
   },
   {
    "duration": 11,
    "start_time": "2021-12-07T20:24:56.007Z"
   },
   {
    "duration": 50,
    "start_time": "2021-12-07T20:24:56.022Z"
   },
   {
    "duration": 16,
    "start_time": "2021-12-07T20:24:56.074Z"
   },
   {
    "duration": 13,
    "start_time": "2021-12-07T20:24:56.093Z"
   },
   {
    "duration": 18,
    "start_time": "2021-12-07T20:24:56.108Z"
   },
   {
    "duration": 78,
    "start_time": "2021-12-07T20:24:56.129Z"
   },
   {
    "duration": 17,
    "start_time": "2021-12-07T20:24:56.210Z"
   },
   {
    "duration": 45,
    "start_time": "2021-12-07T20:24:56.231Z"
   },
   {
    "duration": 24,
    "start_time": "2021-12-07T20:24:56.279Z"
   },
   {
    "duration": 24,
    "start_time": "2021-12-07T20:24:56.426Z"
   },
   {
    "duration": 19,
    "start_time": "2021-12-07T20:24:56.730Z"
   },
   {
    "duration": 29,
    "start_time": "2021-12-07T20:24:58.491Z"
   },
   {
    "duration": 409,
    "start_time": "2021-12-07T20:24:59.120Z"
   },
   {
    "duration": 445,
    "start_time": "2021-12-07T20:24:59.612Z"
   },
   {
    "duration": 414,
    "start_time": "2021-12-07T20:25:00.074Z"
   },
   {
    "duration": 6,
    "start_time": "2021-12-07T20:25:01.448Z"
   },
   {
    "duration": 8,
    "start_time": "2021-12-07T20:25:01.976Z"
   },
   {
    "duration": 20,
    "start_time": "2021-12-07T20:25:02.832Z"
   },
   {
    "duration": 31,
    "start_time": "2021-12-07T20:25:06.971Z"
   },
   {
    "duration": 25,
    "start_time": "2021-12-07T20:25:21.997Z"
   },
   {
    "duration": 21,
    "start_time": "2021-12-07T20:25:23.316Z"
   },
   {
    "duration": 327,
    "start_time": "2021-12-07T20:25:23.642Z"
   },
   {
    "duration": 16,
    "start_time": "2021-12-07T20:25:24.138Z"
   },
   {
    "duration": 12,
    "start_time": "2021-12-07T20:25:24.466Z"
   },
   {
    "duration": 15,
    "start_time": "2021-12-07T20:25:27.037Z"
   },
   {
    "duration": 16,
    "start_time": "2021-12-07T20:25:31.092Z"
   },
   {
    "duration": 524,
    "start_time": "2021-12-07T20:25:32.311Z"
   },
   {
    "duration": 13,
    "start_time": "2021-12-07T20:31:51.851Z"
   },
   {
    "duration": 12,
    "start_time": "2021-12-07T20:32:05.663Z"
   },
   {
    "duration": 5,
    "start_time": "2021-12-07T20:38:53.376Z"
   },
   {
    "duration": 5,
    "start_time": "2021-12-07T20:39:39.335Z"
   },
   {
    "duration": 76,
    "start_time": "2021-12-07T20:39:42.780Z"
   },
   {
    "duration": 4815,
    "start_time": "2021-12-07T20:39:43.099Z"
   },
   {
    "duration": 1269,
    "start_time": "2021-12-07T20:39:46.650Z"
   },
   {
    "duration": 1268,
    "start_time": "2021-12-07T20:39:46.654Z"
   },
   {
    "duration": 1267,
    "start_time": "2021-12-07T20:39:46.657Z"
   },
   {
    "duration": 1266,
    "start_time": "2021-12-07T20:39:46.660Z"
   },
   {
    "duration": 1265,
    "start_time": "2021-12-07T20:39:46.663Z"
   },
   {
    "duration": 1266,
    "start_time": "2021-12-07T20:39:46.665Z"
   },
   {
    "duration": 1265,
    "start_time": "2021-12-07T20:39:46.668Z"
   },
   {
    "duration": 1264,
    "start_time": "2021-12-07T20:39:46.671Z"
   },
   {
    "duration": 1263,
    "start_time": "2021-12-07T20:39:46.674Z"
   },
   {
    "duration": 1264,
    "start_time": "2021-12-07T20:39:46.676Z"
   },
   {
    "duration": 1210,
    "start_time": "2021-12-07T20:39:46.732Z"
   },
   {
    "duration": 13,
    "start_time": "2021-12-07T20:39:48.942Z"
   },
   {
    "duration": 17,
    "start_time": "2021-12-07T20:40:00.132Z"
   },
   {
    "duration": 13,
    "start_time": "2021-12-07T20:40:01.291Z"
   },
   {
    "duration": 7944,
    "start_time": "2021-12-07T20:40:41.770Z"
   },
   {
    "duration": 5,
    "start_time": "2021-12-07T20:41:33.262Z"
   },
   {
    "duration": 11444,
    "start_time": "2021-12-07T20:41:37.631Z"
   },
   {
    "duration": 4,
    "start_time": "2021-12-07T20:44:33.532Z"
   },
   {
    "duration": 5,
    "start_time": "2021-12-07T20:44:51.775Z"
   },
   {
    "duration": 6,
    "start_time": "2021-12-07T20:45:48.536Z"
   },
   {
    "duration": 6,
    "start_time": "2021-12-07T20:46:07.107Z"
   },
   {
    "duration": 7,
    "start_time": "2021-12-07T20:46:11.329Z"
   },
   {
    "duration": 5,
    "start_time": "2021-12-07T20:46:12.598Z"
   },
   {
    "duration": 6,
    "start_time": "2021-12-07T20:46:14.228Z"
   },
   {
    "duration": 6,
    "start_time": "2021-12-07T20:46:14.828Z"
   },
   {
    "duration": 34,
    "start_time": "2021-12-07T20:46:15.156Z"
   },
   {
    "duration": 36,
    "start_time": "2021-12-07T20:46:15.590Z"
   },
   {
    "duration": 32,
    "start_time": "2021-12-07T20:46:17.050Z"
   },
   {
    "duration": 24,
    "start_time": "2021-12-07T20:46:17.558Z"
   },
   {
    "duration": 380,
    "start_time": "2021-12-07T20:46:18.118Z"
   },
   {
    "duration": 22,
    "start_time": "2021-12-07T20:46:18.502Z"
   },
   {
    "duration": 12,
    "start_time": "2021-12-07T20:46:18.620Z"
   },
   {
    "duration": 16,
    "start_time": "2021-12-07T20:46:18.958Z"
   },
   {
    "duration": 16,
    "start_time": "2021-12-07T20:46:20.201Z"
   },
   {
    "duration": 11,
    "start_time": "2021-12-07T20:46:20.939Z"
   },
   {
    "duration": 11,
    "start_time": "2021-12-07T20:46:21.410Z"
   },
   {
    "duration": 5,
    "start_time": "2021-12-07T21:16:59.831Z"
   },
   {
    "duration": 5,
    "start_time": "2021-12-07T21:17:03.471Z"
   },
   {
    "duration": 6,
    "start_time": "2021-12-07T21:17:05.158Z"
   },
   {
    "duration": 16,
    "start_time": "2021-12-07T21:17:12.152Z"
   },
   {
    "duration": 19,
    "start_time": "2021-12-07T21:17:15.841Z"
   },
   {
    "duration": 4762,
    "start_time": "2021-12-07T21:19:08.318Z"
   },
   {
    "duration": 7,
    "start_time": "2021-12-07T21:19:16.573Z"
   },
   {
    "duration": 247,
    "start_time": "2021-12-07T21:19:18.853Z"
   },
   {
    "duration": 236,
    "start_time": "2021-12-07T21:19:19.103Z"
   },
   {
    "duration": 214,
    "start_time": "2021-12-07T21:19:19.343Z"
   },
   {
    "duration": 106,
    "start_time": "2021-12-07T21:19:19.562Z"
   },
   {
    "duration": 166,
    "start_time": "2021-12-07T21:19:19.670Z"
   },
   {
    "duration": 16,
    "start_time": "2021-12-07T21:19:19.839Z"
   },
   {
    "duration": 46,
    "start_time": "2021-12-07T21:19:19.944Z"
   },
   {
    "duration": 80,
    "start_time": "2021-12-07T21:19:20.263Z"
   },
   {
    "duration": 31,
    "start_time": "2021-12-07T21:19:20.417Z"
   },
   {
    "duration": 323,
    "start_time": "2021-12-07T21:19:20.733Z"
   },
   {
    "duration": 17,
    "start_time": "2021-12-07T21:19:21.059Z"
   },
   {
    "duration": 25,
    "start_time": "2021-12-07T21:19:21.201Z"
   },
   {
    "duration": 26,
    "start_time": "2021-12-07T21:19:21.503Z"
   },
   {
    "duration": 613,
    "start_time": "2021-12-07T21:19:21.841Z"
   },
   {
    "duration": 80,
    "start_time": "2021-12-07T21:19:22.458Z"
   },
   {
    "duration": 33,
    "start_time": "2021-12-07T21:19:22.543Z"
   },
   {
    "duration": 37,
    "start_time": "2021-12-07T21:19:22.580Z"
   },
   {
    "duration": 26,
    "start_time": "2021-12-07T21:19:22.755Z"
   },
   {
    "duration": 24,
    "start_time": "2021-12-07T21:19:22.932Z"
   },
   {
    "duration": 24,
    "start_time": "2021-12-07T21:19:23.084Z"
   },
   {
    "duration": 57,
    "start_time": "2021-12-07T21:19:23.236Z"
   },
   {
    "duration": 15,
    "start_time": "2021-12-07T21:19:23.413Z"
   },
   {
    "duration": 20,
    "start_time": "2021-12-07T21:19:23.586Z"
   },
   {
    "duration": 23,
    "start_time": "2021-12-07T21:19:23.931Z"
   },
   {
    "duration": 23,
    "start_time": "2021-12-07T21:19:24.073Z"
   },
   {
    "duration": 20,
    "start_time": "2021-12-07T21:19:24.391Z"
   },
   {
    "duration": 28,
    "start_time": "2021-12-07T21:19:30.513Z"
   },
   {
    "duration": 26,
    "start_time": "2021-12-07T21:19:30.901Z"
   },
   {
    "duration": 21,
    "start_time": "2021-12-07T21:19:31.422Z"
   },
   {
    "duration": 5,
    "start_time": "2021-12-07T21:19:34.316Z"
   },
   {
    "duration": 5,
    "start_time": "2021-12-07T21:19:44.071Z"
   },
   {
    "duration": 8,
    "start_time": "2021-12-07T21:19:47.872Z"
   },
   {
    "duration": 6,
    "start_time": "2021-12-07T21:19:53.353Z"
   },
   {
    "duration": 5,
    "start_time": "2021-12-07T21:19:54.133Z"
   },
   {
    "duration": 7,
    "start_time": "2021-12-07T21:19:54.941Z"
   },
   {
    "duration": 5,
    "start_time": "2021-12-07T21:19:56.001Z"
   },
   {
    "duration": 29,
    "start_time": "2021-12-07T21:19:56.203Z"
   },
   {
    "duration": 31,
    "start_time": "2021-12-07T21:19:56.412Z"
   },
   {
    "duration": 29,
    "start_time": "2021-12-07T21:19:57.133Z"
   },
   {
    "duration": 24,
    "start_time": "2021-12-07T21:19:57.973Z"
   },
   {
    "duration": 315,
    "start_time": "2021-12-07T21:19:59.707Z"
   },
   {
    "duration": 42,
    "start_time": "2021-12-07T21:20:00.025Z"
   },
   {
    "duration": 20,
    "start_time": "2021-12-07T21:20:00.413Z"
   },
   {
    "duration": 13,
    "start_time": "2021-12-07T21:20:01.363Z"
   },
   {
    "duration": 22,
    "start_time": "2021-12-07T21:20:03.121Z"
   },
   {
    "duration": 12,
    "start_time": "2021-12-07T21:20:06.881Z"
   },
   {
    "duration": 12,
    "start_time": "2021-12-07T21:20:08.048Z"
   },
   {
    "duration": 3590,
    "start_time": "2021-12-07T21:21:51.176Z"
   },
   {
    "duration": 7,
    "start_time": "2021-12-07T21:21:54.770Z"
   },
   {
    "duration": 341,
    "start_time": "2021-12-07T21:21:54.782Z"
   },
   {
    "duration": 323,
    "start_time": "2021-12-07T21:21:55.127Z"
   },
   {
    "duration": 208,
    "start_time": "2021-12-07T21:21:55.453Z"
   },
   {
    "duration": 120,
    "start_time": "2021-12-07T21:21:55.665Z"
   },
   {
    "duration": 157,
    "start_time": "2021-12-07T21:21:55.788Z"
   },
   {
    "duration": 16,
    "start_time": "2021-12-07T21:21:55.948Z"
   },
   {
    "duration": 32,
    "start_time": "2021-12-07T21:21:56.173Z"
   },
   {
    "duration": 47,
    "start_time": "2021-12-07T21:21:57.172Z"
   },
   {
    "duration": 32,
    "start_time": "2021-12-07T21:21:57.602Z"
   },
   {
    "duration": 324,
    "start_time": "2021-12-07T21:21:58.504Z"
   },
   {
    "duration": 12,
    "start_time": "2021-12-07T21:21:59.254Z"
   },
   {
    "duration": 28,
    "start_time": "2021-12-07T21:21:59.553Z"
   },
   {
    "duration": 28,
    "start_time": "2021-12-07T21:22:00.541Z"
   },
   {
    "duration": 318,
    "start_time": "2021-12-07T21:22:01.394Z"
   },
   {
    "duration": 41,
    "start_time": "2021-12-07T21:22:02.289Z"
   },
   {
    "duration": 11,
    "start_time": "2021-12-07T21:22:02.700Z"
   },
   {
    "duration": 21,
    "start_time": "2021-12-07T21:22:03.037Z"
   },
   {
    "duration": 17,
    "start_time": "2021-12-07T21:22:03.872Z"
   },
   {
    "duration": 22,
    "start_time": "2021-12-07T21:22:04.263Z"
   },
   {
    "duration": 18,
    "start_time": "2021-12-07T21:22:04.572Z"
   },
   {
    "duration": 43,
    "start_time": "2021-12-07T21:22:04.933Z"
   },
   {
    "duration": 17,
    "start_time": "2021-12-07T21:22:05.874Z"
   },
   {
    "duration": 20,
    "start_time": "2021-12-07T21:22:06.390Z"
   },
   {
    "duration": 40,
    "start_time": "2021-12-07T21:22:07.262Z"
   },
   {
    "duration": 23,
    "start_time": "2021-12-07T21:22:07.692Z"
   },
   {
    "duration": 20,
    "start_time": "2021-12-07T21:22:09.004Z"
   },
   {
    "duration": 29,
    "start_time": "2021-12-07T21:22:11.713Z"
   },
   {
    "duration": 24,
    "start_time": "2021-12-07T21:22:12.138Z"
   },
   {
    "duration": 17,
    "start_time": "2021-12-07T21:22:12.651Z"
   },
   {
    "duration": 6,
    "start_time": "2021-12-07T21:22:13.690Z"
   },
   {
    "duration": 6,
    "start_time": "2021-12-07T21:22:16.214Z"
   },
   {
    "duration": 5,
    "start_time": "2021-12-07T21:22:19.522Z"
   },
   {
    "duration": 5,
    "start_time": "2021-12-07T21:22:20.043Z"
   },
   {
    "duration": 25,
    "start_time": "2021-12-07T21:22:20.221Z"
   },
   {
    "duration": 30,
    "start_time": "2021-12-07T21:22:20.377Z"
   },
   {
    "duration": 29,
    "start_time": "2021-12-07T21:22:20.722Z"
   },
   {
    "duration": 33,
    "start_time": "2021-12-07T21:22:21.063Z"
   },
   {
    "duration": 334,
    "start_time": "2021-12-07T21:22:21.403Z"
   },
   {
    "duration": 28,
    "start_time": "2021-12-07T21:22:21.740Z"
   },
   {
    "duration": 13,
    "start_time": "2021-12-07T21:22:21.953Z"
   },
   {
    "duration": 25,
    "start_time": "2021-12-07T21:22:22.324Z"
   },
   {
    "duration": 28,
    "start_time": "2021-12-07T21:22:22.884Z"
   },
   {
    "duration": 22,
    "start_time": "2021-12-07T21:22:23.060Z"
   },
   {
    "duration": 21,
    "start_time": "2021-12-07T21:22:23.824Z"
   },
   {
    "duration": 7,
    "start_time": "2021-12-07T21:22:48.083Z"
   },
   {
    "duration": 9,
    "start_time": "2021-12-07T21:22:55.574Z"
   },
   {
    "duration": 5,
    "start_time": "2021-12-07T21:22:56.115Z"
   },
   {
    "duration": 21,
    "start_time": "2021-12-07T21:22:56.271Z"
   },
   {
    "duration": 29,
    "start_time": "2021-12-07T21:22:56.442Z"
   },
   {
    "duration": 28,
    "start_time": "2021-12-07T21:22:56.803Z"
   },
   {
    "duration": 37,
    "start_time": "2021-12-07T21:22:57.243Z"
   },
   {
    "duration": 624,
    "start_time": "2021-12-07T21:22:57.694Z"
   },
   {
    "duration": 23,
    "start_time": "2021-12-07T21:22:58.322Z"
   },
   {
    "duration": 19,
    "start_time": "2021-12-07T21:22:58.854Z"
   },
   {
    "duration": 22,
    "start_time": "2021-12-07T21:22:59.733Z"
   },
   {
    "duration": 16,
    "start_time": "2021-12-07T21:23:00.423Z"
   },
   {
    "duration": 18,
    "start_time": "2021-12-07T21:23:01.194Z"
   },
   {
    "duration": 13,
    "start_time": "2021-12-07T21:23:05.232Z"
   },
   {
    "duration": 6,
    "start_time": "2021-12-07T21:23:53.373Z"
   },
   {
    "duration": 15,
    "start_time": "2021-12-07T21:24:13.325Z"
   },
   {
    "duration": 7,
    "start_time": "2021-12-07T21:24:23.272Z"
   },
   {
    "duration": 22,
    "start_time": "2021-12-07T21:24:23.842Z"
   },
   {
    "duration": 6,
    "start_time": "2021-12-07T21:24:54.034Z"
   },
   {
    "duration": 7,
    "start_time": "2021-12-07T21:24:55.256Z"
   },
   {
    "duration": 19,
    "start_time": "2021-12-07T21:24:56.262Z"
   },
   {
    "duration": 6,
    "start_time": "2021-12-07T21:25:38.323Z"
   },
   {
    "duration": 12,
    "start_time": "2021-12-07T21:25:39.243Z"
   },
   {
    "duration": 5,
    "start_time": "2021-12-07T21:26:29.953Z"
   },
   {
    "duration": 6,
    "start_time": "2021-12-07T21:26:30.643Z"
   },
   {
    "duration": 5,
    "start_time": "2021-12-07T21:26:31.073Z"
   },
   {
    "duration": 12,
    "start_time": "2021-12-07T21:26:31.512Z"
   },
   {
    "duration": 7,
    "start_time": "2021-12-07T21:26:38.470Z"
   },
   {
    "duration": 7,
    "start_time": "2021-12-07T21:26:38.950Z"
   },
   {
    "duration": 9,
    "start_time": "2021-12-07T21:26:39.305Z"
   },
   {
    "duration": 19,
    "start_time": "2021-12-07T21:26:39.762Z"
   },
   {
    "duration": 350,
    "start_time": "2021-12-07T21:27:21.748Z"
   },
   {
    "duration": 6,
    "start_time": "2021-12-07T21:27:42.383Z"
   },
   {
    "duration": 9,
    "start_time": "2021-12-07T21:28:43.935Z"
   },
   {
    "duration": 5,
    "start_time": "2021-12-07T21:29:39.396Z"
   },
   {
    "duration": 6,
    "start_time": "2021-12-07T21:29:39.856Z"
   },
   {
    "duration": 7,
    "start_time": "2021-12-07T21:29:40.607Z"
   },
   {
    "duration": 5063,
    "start_time": "2021-12-07T21:29:57.266Z"
   },
   {
    "duration": 7,
    "start_time": "2021-12-07T21:30:02.334Z"
   },
   {
    "duration": 286,
    "start_time": "2021-12-07T21:30:04.419Z"
   },
   {
    "duration": 243,
    "start_time": "2021-12-07T21:30:05.098Z"
   },
   {
    "duration": 222,
    "start_time": "2021-12-07T21:30:06.273Z"
   },
   {
    "duration": 116,
    "start_time": "2021-12-07T21:30:06.498Z"
   },
   {
    "duration": 136,
    "start_time": "2021-12-07T21:30:06.949Z"
   },
   {
    "duration": 14,
    "start_time": "2021-12-07T21:30:09.138Z"
   },
   {
    "duration": 31,
    "start_time": "2021-12-07T21:30:15.864Z"
   },
   {
    "duration": 47,
    "start_time": "2021-12-07T21:30:17.248Z"
   },
   {
    "duration": 30,
    "start_time": "2021-12-07T21:30:17.688Z"
   },
   {
    "duration": 322,
    "start_time": "2021-12-07T21:30:20.908Z"
   },
   {
    "duration": 13,
    "start_time": "2021-12-07T21:30:22.065Z"
   },
   {
    "duration": 25,
    "start_time": "2021-12-07T21:30:24.298Z"
   },
   {
    "duration": 27,
    "start_time": "2021-12-07T21:30:25.618Z"
   },
   {
    "duration": 511,
    "start_time": "2021-12-07T21:30:28.126Z"
   },
   {
    "duration": 67,
    "start_time": "2021-12-07T21:30:28.760Z"
   },
   {
    "duration": 17,
    "start_time": "2021-12-07T21:30:32.019Z"
   },
   {
    "duration": 23,
    "start_time": "2021-12-07T21:30:32.429Z"
   },
   {
    "duration": 25,
    "start_time": "2021-12-07T21:30:35.408Z"
   },
   {
    "duration": 13,
    "start_time": "2021-12-07T21:30:36.148Z"
   },
   {
    "duration": 15,
    "start_time": "2021-12-07T21:30:38.316Z"
   },
   {
    "duration": 42,
    "start_time": "2021-12-07T21:30:38.467Z"
   },
   {
    "duration": 15,
    "start_time": "2021-12-07T21:30:38.633Z"
   },
   {
    "duration": 13,
    "start_time": "2021-12-07T21:30:38.798Z"
   },
   {
    "duration": 24,
    "start_time": "2021-12-07T21:30:39.107Z"
   },
   {
    "duration": 45,
    "start_time": "2021-12-07T21:30:39.268Z"
   },
   {
    "duration": 27,
    "start_time": "2021-12-07T21:30:39.645Z"
   },
   {
    "duration": 47,
    "start_time": "2021-12-07T21:30:42.829Z"
   },
   {
    "duration": 37,
    "start_time": "2021-12-07T21:30:43.635Z"
   },
   {
    "duration": 28,
    "start_time": "2021-12-07T21:30:43.737Z"
   },
   {
    "duration": 8,
    "start_time": "2021-12-07T21:30:46.119Z"
   },
   {
    "duration": 7,
    "start_time": "2021-12-07T21:30:50.786Z"
   },
   {
    "duration": 7,
    "start_time": "2021-12-07T21:30:51.298Z"
   },
   {
    "duration": 6,
    "start_time": "2021-12-07T21:30:51.840Z"
   },
   {
    "duration": 11,
    "start_time": "2021-12-07T21:30:52.449Z"
   },
   {
    "duration": 5,
    "start_time": "2021-12-07T21:31:10.019Z"
   },
   {
    "duration": 5,
    "start_time": "2021-12-07T21:31:13.208Z"
   },
   {
    "duration": 6,
    "start_time": "2021-12-07T21:31:15.528Z"
   },
   {
    "duration": 14,
    "start_time": "2021-12-07T21:31:17.288Z"
   },
   {
    "duration": 8,
    "start_time": "2021-12-07T21:31:23.256Z"
   },
   {
    "duration": 10,
    "start_time": "2021-12-07T21:31:24.136Z"
   },
   {
    "duration": 5,
    "start_time": "2021-12-07T21:37:08.397Z"
   },
   {
    "duration": 8,
    "start_time": "2021-12-07T21:37:15.518Z"
   },
   {
    "duration": 6,
    "start_time": "2021-12-07T21:38:17.597Z"
   },
   {
    "duration": 7,
    "start_time": "2021-12-07T21:38:18.266Z"
   },
   {
    "duration": 8,
    "start_time": "2021-12-07T21:38:19.078Z"
   },
   {
    "duration": 6,
    "start_time": "2021-12-07T21:38:32.079Z"
   },
   {
    "duration": 9,
    "start_time": "2021-12-07T21:38:32.088Z"
   },
   {
    "duration": 39,
    "start_time": "2021-12-07T21:38:32.100Z"
   },
   {
    "duration": 30,
    "start_time": "2021-12-07T21:38:32.575Z"
   },
   {
    "duration": 24,
    "start_time": "2021-12-07T21:38:32.869Z"
   },
   {
    "duration": 22,
    "start_time": "2021-12-07T21:38:33.160Z"
   },
   {
    "duration": 313,
    "start_time": "2021-12-07T21:38:33.721Z"
   },
   {
    "duration": 14,
    "start_time": "2021-12-07T21:38:34.037Z"
   },
   {
    "duration": 13,
    "start_time": "2021-12-07T21:38:35.339Z"
   },
   {
    "duration": 14,
    "start_time": "2021-12-07T21:38:36.088Z"
   },
   {
    "duration": 16,
    "start_time": "2021-12-07T21:38:38.958Z"
   },
   {
    "duration": 13,
    "start_time": "2021-12-07T21:38:42.146Z"
   },
   {
    "duration": 17,
    "start_time": "2021-12-07T21:38:44.108Z"
   },
   {
    "duration": 5,
    "start_time": "2021-12-07T21:39:40.517Z"
   },
   {
    "duration": 12,
    "start_time": "2021-12-07T21:39:45.999Z"
   },
   {
    "duration": 8,
    "start_time": "2021-12-07T21:39:46.154Z"
   },
   {
    "duration": 8,
    "start_time": "2021-12-07T21:39:52.538Z"
   },
   {
    "duration": 6,
    "start_time": "2021-12-07T21:44:03.148Z"
   },
   {
    "duration": 8,
    "start_time": "2021-12-07T21:44:04.169Z"
   },
   {
    "duration": 12,
    "start_time": "2021-12-07T21:55:20.248Z"
   },
   {
    "duration": 10214,
    "start_time": "2021-12-08T16:03:23.961Z"
   },
   {
    "duration": 1622,
    "start_time": "2021-12-08T16:03:34.177Z"
   },
   {
    "duration": 4,
    "start_time": "2021-12-08T16:03:38.777Z"
   },
   {
    "duration": 594,
    "start_time": "2021-12-08T16:03:40.568Z"
   },
   {
    "duration": 327,
    "start_time": "2021-12-08T16:03:47.145Z"
   },
   {
    "duration": 218,
    "start_time": "2021-12-08T16:03:47.660Z"
   },
   {
    "duration": 92,
    "start_time": "2021-12-08T16:03:47.929Z"
   },
   {
    "duration": 131,
    "start_time": "2021-12-08T16:04:00.501Z"
   },
   {
    "duration": 13,
    "start_time": "2021-12-08T16:04:01.705Z"
   },
   {
    "duration": 24,
    "start_time": "2021-12-08T16:04:02.450Z"
   },
   {
    "duration": 36,
    "start_time": "2021-12-08T16:04:04.106Z"
   },
   {
    "duration": 26,
    "start_time": "2021-12-08T16:04:05.032Z"
   },
   {
    "duration": 624,
    "start_time": "2021-12-08T16:04:06.622Z"
   },
   {
    "duration": 9,
    "start_time": "2021-12-08T16:04:08.240Z"
   },
   {
    "duration": 19,
    "start_time": "2021-12-08T16:04:10.118Z"
   },
   {
    "duration": 24,
    "start_time": "2021-12-08T16:04:14.975Z"
   },
   {
    "duration": 201,
    "start_time": "2021-12-08T16:04:15.437Z"
   },
   {
    "duration": 29,
    "start_time": "2021-12-08T16:04:17.503Z"
   },
   {
    "duration": 9,
    "start_time": "2021-12-08T16:04:18.408Z"
   },
   {
    "duration": 17,
    "start_time": "2021-12-08T16:04:21.183Z"
   },
   {
    "duration": 13,
    "start_time": "2021-12-08T16:04:21.823Z"
   },
   {
    "duration": 11,
    "start_time": "2021-12-08T16:04:23.311Z"
   },
   {
    "duration": 10,
    "start_time": "2021-12-08T16:04:23.952Z"
   },
   {
    "duration": 28,
    "start_time": "2021-12-08T16:04:24.422Z"
   },
   {
    "duration": 13,
    "start_time": "2021-12-08T16:04:25.509Z"
   },
   {
    "duration": 15,
    "start_time": "2021-12-08T16:04:25.999Z"
   },
   {
    "duration": 18,
    "start_time": "2021-12-08T16:04:26.745Z"
   },
   {
    "duration": 16,
    "start_time": "2021-12-08T16:04:27.802Z"
   },
   {
    "duration": 16,
    "start_time": "2021-12-08T16:04:28.296Z"
   },
   {
    "duration": 24,
    "start_time": "2021-12-08T16:04:31.050Z"
   },
   {
    "duration": 17,
    "start_time": "2021-12-08T16:04:39.826Z"
   },
   {
    "duration": 14,
    "start_time": "2021-12-08T16:04:40.924Z"
   },
   {
    "duration": 5,
    "start_time": "2021-12-08T16:04:46.089Z"
   },
   {
    "duration": 5,
    "start_time": "2021-12-08T16:04:47.197Z"
   },
   {
    "duration": 4,
    "start_time": "2021-12-08T16:04:47.763Z"
   },
   {
    "duration": 5,
    "start_time": "2021-12-08T16:04:48.225Z"
   },
   {
    "duration": 5,
    "start_time": "2021-12-08T16:04:55.256Z"
   },
   {
    "duration": 8,
    "start_time": "2021-12-08T16:04:55.694Z"
   },
   {
    "duration": 5,
    "start_time": "2021-12-08T16:04:56.521Z"
   },
   {
    "duration": 7,
    "start_time": "2021-12-08T16:04:57.731Z"
   },
   {
    "duration": 5,
    "start_time": "2021-12-08T16:05:00.531Z"
   },
   {
    "duration": 7,
    "start_time": "2021-12-08T16:05:01.368Z"
   },
   {
    "duration": 4,
    "start_time": "2021-12-08T16:05:03.191Z"
   },
   {
    "duration": 4,
    "start_time": "2021-12-08T16:05:04.736Z"
   },
   {
    "duration": 15,
    "start_time": "2021-12-08T16:05:05.255Z"
   },
   {
    "duration": 20,
    "start_time": "2021-12-08T16:05:07.289Z"
   },
   {
    "duration": 29,
    "start_time": "2021-12-08T16:05:21.515Z"
   },
   {
    "duration": 19,
    "start_time": "2021-12-08T16:05:26.523Z"
   },
   {
    "duration": 259,
    "start_time": "2021-12-08T16:05:30.974Z"
   },
   {
    "duration": 12,
    "start_time": "2021-12-08T16:05:35.904Z"
   },
   {
    "duration": 10,
    "start_time": "2021-12-08T16:05:54.717Z"
   },
   {
    "duration": 10,
    "start_time": "2021-12-08T16:05:55.947Z"
   },
   {
    "duration": 11,
    "start_time": "2021-12-08T16:05:58.706Z"
   },
   {
    "duration": 9,
    "start_time": "2021-12-08T16:06:00.513Z"
   },
   {
    "duration": 9,
    "start_time": "2021-12-08T16:06:02.793Z"
   },
   {
    "duration": 10,
    "start_time": "2021-12-08T16:06:03.767Z"
   },
   {
    "duration": -115,
    "start_time": "2021-12-08T16:06:30.174Z"
   },
   {
    "duration": 8,
    "start_time": "2021-12-08T16:06:31.800Z"
   },
   {
    "duration": 87,
    "start_time": "2021-12-08T16:06:40.313Z"
   },
   {
    "duration": 17,
    "start_time": "2021-12-08T16:23:53.619Z"
   },
   {
    "duration": 17,
    "start_time": "2021-12-08T16:25:02.635Z"
   },
   {
    "duration": 265,
    "start_time": "2021-12-08T16:25:22.252Z"
   },
   {
    "duration": 9,
    "start_time": "2021-12-08T16:25:45.100Z"
   },
   {
    "duration": 18,
    "start_time": "2021-12-08T16:26:06.748Z"
   },
   {
    "duration": 14,
    "start_time": "2021-12-08T16:26:07.229Z"
   },
   {
    "duration": 12,
    "start_time": "2021-12-08T16:26:07.761Z"
   },
   {
    "duration": 9,
    "start_time": "2021-12-08T16:26:22.654Z"
   },
   {
    "duration": 6,
    "start_time": "2021-12-08T16:27:07.272Z"
   },
   {
    "duration": 6,
    "start_time": "2021-12-08T16:27:25.475Z"
   },
   {
    "duration": 7,
    "start_time": "2021-12-08T16:27:50.988Z"
   },
   {
    "duration": 22,
    "start_time": "2021-12-08T16:28:52.121Z"
   },
   {
    "duration": 17,
    "start_time": "2021-12-08T16:29:08.881Z"
   },
   {
    "duration": 16,
    "start_time": "2021-12-08T16:30:04.591Z"
   },
   {
    "duration": 15,
    "start_time": "2021-12-08T16:30:16.368Z"
   },
   {
    "duration": 3,
    "start_time": "2021-12-08T16:34:22.878Z"
   },
   {
    "duration": 250,
    "start_time": "2021-12-08T16:35:06.307Z"
   },
   {
    "duration": 19,
    "start_time": "2021-12-08T16:36:45.066Z"
   },
   {
    "duration": 4,
    "start_time": "2021-12-08T16:36:48.858Z"
   },
   {
    "duration": 23,
    "start_time": "2021-12-08T16:37:45.595Z"
   },
   {
    "duration": 4,
    "start_time": "2021-12-08T16:37:58.983Z"
   },
   {
    "duration": 254,
    "start_time": "2021-12-08T16:39:07.770Z"
   },
   {
    "duration": 256,
    "start_time": "2021-12-08T16:40:24.187Z"
   },
   {
    "duration": 16,
    "start_time": "2021-12-08T16:41:10.658Z"
   },
   {
    "duration": 16,
    "start_time": "2021-12-08T16:41:14.042Z"
   },
   {
    "duration": 3,
    "start_time": "2021-12-08T16:41:39.188Z"
   },
   {
    "duration": 12,
    "start_time": "2021-12-08T16:41:57.776Z"
   },
   {
    "duration": 12,
    "start_time": "2021-12-08T16:42:22.849Z"
   },
   {
    "duration": 11,
    "start_time": "2021-12-08T16:42:32.911Z"
   },
   {
    "duration": 7,
    "start_time": "2021-12-08T16:49:46.918Z"
   },
   {
    "duration": 7,
    "start_time": "2021-12-08T16:50:21.293Z"
   },
   {
    "duration": 7,
    "start_time": "2021-12-08T16:50:54.283Z"
   },
   {
    "duration": 8,
    "start_time": "2021-12-08T16:51:14.182Z"
   },
   {
    "duration": 3,
    "start_time": "2021-12-08T16:59:44.552Z"
   },
   {
    "duration": 385,
    "start_time": "2021-12-08T17:02:08.824Z"
   },
   {
    "duration": 2,
    "start_time": "2021-12-08T17:03:56.512Z"
   },
   {
    "duration": 3,
    "start_time": "2021-12-08T17:03:57.825Z"
   },
   {
    "duration": 17,
    "start_time": "2021-12-08T17:03:58.647Z"
   },
   {
    "duration": 15,
    "start_time": "2021-12-08T17:04:37.869Z"
   },
   {
    "duration": 13,
    "start_time": "2021-12-08T17:05:16.073Z"
   },
   {
    "duration": 13,
    "start_time": "2021-12-08T17:05:25.603Z"
   },
   {
    "duration": 3,
    "start_time": "2021-12-08T17:10:05.849Z"
   },
   {
    "duration": 15,
    "start_time": "2021-12-08T17:10:06.616Z"
   },
   {
    "duration": 11,
    "start_time": "2021-12-08T17:10:07.354Z"
   },
   {
    "duration": 274,
    "start_time": "2021-12-08T17:43:39.427Z"
   },
   {
    "duration": 249,
    "start_time": "2021-12-08T17:43:55.135Z"
   },
   {
    "duration": 296,
    "start_time": "2021-12-08T17:44:58.596Z"
   },
   {
    "duration": 12,
    "start_time": "2021-12-08T17:50:19.540Z"
   },
   {
    "duration": 2,
    "start_time": "2021-12-08T17:51:33.879Z"
   },
   {
    "duration": 408,
    "start_time": "2021-12-08T17:51:50.347Z"
   },
   {
    "duration": 2,
    "start_time": "2021-12-08T17:52:34.406Z"
   },
   {
    "duration": 14,
    "start_time": "2021-12-08T17:52:35.643Z"
   },
   {
    "duration": 3,
    "start_time": "2021-12-08T17:53:15.903Z"
   },
   {
    "duration": 425,
    "start_time": "2021-12-08T17:53:59.641Z"
   },
   {
    "duration": 246,
    "start_time": "2021-12-08T17:55:14.588Z"
   },
   {
    "duration": 4,
    "start_time": "2021-12-08T17:55:47.223Z"
   },
   {
    "duration": 3,
    "start_time": "2021-12-08T17:55:58.699Z"
   },
   {
    "duration": 412,
    "start_time": "2021-12-08T17:56:01.085Z"
   },
   {
    "duration": 3,
    "start_time": "2021-12-08T17:57:09.762Z"
   },
   {
    "duration": 397,
    "start_time": "2021-12-08T17:57:12.749Z"
   },
   {
    "duration": 3,
    "start_time": "2021-12-08T17:58:02.904Z"
   },
   {
    "duration": 546,
    "start_time": "2021-12-08T17:58:12.209Z"
   },
   {
    "duration": 3,
    "start_time": "2021-12-08T17:58:41.661Z"
   },
   {
    "duration": 3,
    "start_time": "2021-12-08T17:58:43.441Z"
   },
   {
    "duration": 949,
    "start_time": "2021-12-08T17:58:46.511Z"
   },
   {
    "duration": 261,
    "start_time": "2021-12-08T17:59:10.022Z"
   },
   {
    "duration": 409,
    "start_time": "2021-12-08T17:59:49.311Z"
   },
   {
    "duration": 11,
    "start_time": "2021-12-08T18:48:30.341Z"
   },
   {
    "duration": 438,
    "start_time": "2021-12-08T18:50:45.187Z"
   },
   {
    "duration": 334,
    "start_time": "2021-12-08T18:50:57.230Z"
   },
   {
    "duration": 3,
    "start_time": "2021-12-08T18:51:05.324Z"
   },
   {
    "duration": 423,
    "start_time": "2021-12-08T18:51:07.138Z"
   },
   {
    "duration": 9,
    "start_time": "2021-12-08T18:51:34.586Z"
   },
   {
    "duration": 13,
    "start_time": "2021-12-08T18:51:51.027Z"
   },
   {
    "duration": 17,
    "start_time": "2021-12-08T18:59:49.452Z"
   },
   {
    "duration": 6,
    "start_time": "2021-12-08T19:01:22.076Z"
   },
   {
    "duration": 24,
    "start_time": "2021-12-08T19:03:22.852Z"
   },
   {
    "duration": 4,
    "start_time": "2021-12-08T19:08:44.643Z"
   },
   {
    "duration": 7,
    "start_time": "2021-12-08T19:09:04.350Z"
   },
   {
    "duration": 2,
    "start_time": "2021-12-08T19:09:26.950Z"
   },
   {
    "duration": 8,
    "start_time": "2021-12-08T19:09:28.527Z"
   },
   {
    "duration": 10,
    "start_time": "2021-12-08T19:09:34.672Z"
   },
   {
    "duration": 15,
    "start_time": "2021-12-08T19:10:02.820Z"
   },
   {
    "duration": 79,
    "start_time": "2021-12-08T20:00:27.553Z"
   },
   {
    "duration": 94,
    "start_time": "2021-12-08T20:01:00.877Z"
   },
   {
    "duration": 80,
    "start_time": "2021-12-08T20:01:17.520Z"
   },
   {
    "duration": 80,
    "start_time": "2021-12-08T20:01:29.659Z"
   },
   {
    "duration": 116,
    "start_time": "2021-12-08T20:01:43.457Z"
   },
   {
    "duration": 88,
    "start_time": "2021-12-08T20:02:10.906Z"
   },
   {
    "duration": 95,
    "start_time": "2021-12-08T20:03:28.541Z"
   },
   {
    "duration": 5,
    "start_time": "2021-12-08T20:04:33.106Z"
   },
   {
    "duration": 4208,
    "start_time": "2021-12-08T20:06:24.477Z"
   },
   {
    "duration": 3862,
    "start_time": "2021-12-08T20:07:26.060Z"
   },
   {
    "duration": 5,
    "start_time": "2021-12-08T20:08:32.969Z"
   },
   {
    "duration": 644,
    "start_time": "2021-12-08T20:08:36.486Z"
   },
   {
    "duration": 8,
    "start_time": "2021-12-08T20:10:24.142Z"
   },
   {
    "duration": 42,
    "start_time": "2021-12-08T20:10:29.030Z"
   },
   {
    "duration": 85,
    "start_time": "2021-12-08T20:10:49.381Z"
   },
   {
    "duration": 51,
    "start_time": "2021-12-08T20:12:28.938Z"
   },
   {
    "duration": 7964,
    "start_time": "2021-12-09T07:29:46.855Z"
   },
   {
    "duration": 1271,
    "start_time": "2021-12-09T07:29:58.735Z"
   },
   {
    "duration": 3,
    "start_time": "2021-12-09T07:30:05.255Z"
   },
   {
    "duration": 210,
    "start_time": "2021-12-09T07:30:16.522Z"
   },
   {
    "duration": 181,
    "start_time": "2021-12-09T07:30:17.083Z"
   },
   {
    "duration": 155,
    "start_time": "2021-12-09T07:30:32.394Z"
   },
   {
    "duration": 104,
    "start_time": "2021-12-09T07:30:32.889Z"
   },
   {
    "duration": 112,
    "start_time": "2021-12-09T07:30:33.364Z"
   },
   {
    "duration": 12,
    "start_time": "2021-12-09T07:30:34.854Z"
   },
   {
    "duration": 20,
    "start_time": "2021-12-09T07:30:37.079Z"
   },
   {
    "duration": 33,
    "start_time": "2021-12-09T07:30:40.359Z"
   },
   {
    "duration": 23,
    "start_time": "2021-12-09T07:30:40.673Z"
   },
   {
    "duration": 748,
    "start_time": "2021-12-09T07:30:41.115Z"
   },
   {
    "duration": 8,
    "start_time": "2021-12-09T07:30:41.865Z"
   },
   {
    "duration": 18,
    "start_time": "2021-12-09T07:30:42.009Z"
   },
   {
    "duration": 19,
    "start_time": "2021-12-09T07:30:42.677Z"
   },
   {
    "duration": 185,
    "start_time": "2021-12-09T07:30:43.075Z"
   },
   {
    "duration": 27,
    "start_time": "2021-12-09T07:30:43.654Z"
   },
   {
    "duration": 8,
    "start_time": "2021-12-09T07:30:43.896Z"
   },
   {
    "duration": 15,
    "start_time": "2021-12-09T07:30:44.097Z"
   },
   {
    "duration": 12,
    "start_time": "2021-12-09T07:30:44.513Z"
   },
   {
    "duration": 8,
    "start_time": "2021-12-09T07:30:44.699Z"
   },
   {
    "duration": 9,
    "start_time": "2021-12-09T07:30:44.939Z"
   },
   {
    "duration": 28,
    "start_time": "2021-12-09T07:30:45.109Z"
   },
   {
    "duration": 10,
    "start_time": "2021-12-09T07:30:45.339Z"
   },
   {
    "duration": 10,
    "start_time": "2021-12-09T07:30:45.515Z"
   },
   {
    "duration": 15,
    "start_time": "2021-12-09T07:30:46.115Z"
   },
   {
    "duration": 14,
    "start_time": "2021-12-09T07:30:46.309Z"
   },
   {
    "duration": 13,
    "start_time": "2021-12-09T07:30:46.708Z"
   },
   {
    "duration": 18,
    "start_time": "2021-12-09T07:30:48.981Z"
   },
   {
    "duration": 15,
    "start_time": "2021-12-09T07:30:50.055Z"
   },
   {
    "duration": 13,
    "start_time": "2021-12-09T07:30:50.641Z"
   },
   {
    "duration": 5,
    "start_time": "2021-12-09T07:30:52.607Z"
   },
   {
    "duration": 5,
    "start_time": "2021-12-09T07:30:54.227Z"
   },
   {
    "duration": 4,
    "start_time": "2021-12-09T07:30:56.965Z"
   },
   {
    "duration": 4,
    "start_time": "2021-12-09T07:30:57.175Z"
   },
   {
    "duration": 5,
    "start_time": "2021-12-09T07:30:57.975Z"
   },
   {
    "duration": 9,
    "start_time": "2021-12-09T07:30:58.365Z"
   },
   {
    "duration": 5,
    "start_time": "2021-12-09T07:31:00.259Z"
   },
   {
    "duration": 7,
    "start_time": "2021-12-09T07:31:11.142Z"
   },
   {
    "duration": 4,
    "start_time": "2021-12-09T07:31:12.828Z"
   },
   {
    "duration": 6,
    "start_time": "2021-12-09T07:31:13.654Z"
   },
   {
    "duration": 4,
    "start_time": "2021-12-09T07:31:17.207Z"
   },
   {
    "duration": 6,
    "start_time": "2021-12-09T07:31:19.014Z"
   },
   {
    "duration": 14,
    "start_time": "2021-12-09T07:31:19.590Z"
   },
   {
    "duration": 17,
    "start_time": "2021-12-09T07:31:20.203Z"
   },
   {
    "duration": 21,
    "start_time": "2021-12-09T07:31:25.291Z"
   },
   {
    "duration": 14,
    "start_time": "2021-12-09T07:31:26.365Z"
   },
   {
    "duration": 173,
    "start_time": "2021-12-09T07:31:27.603Z"
   },
   {
    "duration": 16,
    "start_time": "2021-12-09T07:31:27.861Z"
   },
   {
    "duration": 9,
    "start_time": "2021-12-09T07:31:28.665Z"
   },
   {
    "duration": 10,
    "start_time": "2021-12-09T07:31:29.305Z"
   },
   {
    "duration": 10,
    "start_time": "2021-12-09T07:31:31.711Z"
   },
   {
    "duration": 8,
    "start_time": "2021-12-09T07:31:32.453Z"
   },
   {
    "duration": 8,
    "start_time": "2021-12-09T07:31:32.977Z"
   },
   {
    "duration": 9,
    "start_time": "2021-12-09T07:31:33.676Z"
   },
   {
    "duration": 7,
    "start_time": "2021-12-09T07:31:34.555Z"
   },
   {
    "duration": 5,
    "start_time": "2021-12-09T07:31:34.991Z"
   },
   {
    "duration": 17,
    "start_time": "2021-12-09T07:31:42.662Z"
   },
   {
    "duration": 14,
    "start_time": "2021-12-09T07:31:42.959Z"
   },
   {
    "duration": 11,
    "start_time": "2021-12-09T07:31:45.031Z"
   },
   {
    "duration": 75,
    "start_time": "2021-12-09T07:31:50.646Z"
   },
   {
    "duration": 16,
    "start_time": "2021-12-09T07:31:52.005Z"
   },
   {
    "duration": 15,
    "start_time": "2021-12-09T07:31:53.403Z"
   },
   {
    "duration": 13,
    "start_time": "2021-12-09T07:31:55.895Z"
   },
   {
    "duration": 3,
    "start_time": "2021-12-09T07:31:57.242Z"
   },
   {
    "duration": 7,
    "start_time": "2021-12-09T07:31:58.631Z"
   },
   {
    "duration": 20,
    "start_time": "2021-12-09T07:32:04.595Z"
   },
   {
    "duration": 3,
    "start_time": "2021-12-09T07:32:05.055Z"
   },
   {
    "duration": 6,
    "start_time": "2021-12-09T07:32:05.334Z"
   },
   {
    "duration": 12,
    "start_time": "2021-12-09T07:32:06.465Z"
   },
   {
    "duration": 3,
    "start_time": "2021-12-09T07:32:07.734Z"
   },
   {
    "duration": 7,
    "start_time": "2021-12-09T07:32:08.313Z"
   },
   {
    "duration": 2,
    "start_time": "2021-12-09T07:32:12.422Z"
   },
   {
    "duration": 3,
    "start_time": "2021-12-09T07:32:16.418Z"
   },
   {
    "duration": 13,
    "start_time": "2021-12-09T07:32:24.805Z"
   },
   {
    "duration": 10,
    "start_time": "2021-12-09T07:32:30.074Z"
   },
   {
    "duration": 10,
    "start_time": "2021-12-09T07:32:43.376Z"
   },
   {
    "duration": 3,
    "start_time": "2021-12-09T07:32:53.111Z"
   },
   {
    "duration": 6,
    "start_time": "2021-12-09T07:32:55.813Z"
   },
   {
    "duration": 3,
    "start_time": "2021-12-09T07:33:00.815Z"
   },
   {
    "duration": 7,
    "start_time": "2021-12-09T07:33:06.523Z"
   },
   {
    "duration": 9,
    "start_time": "2021-12-09T07:33:15.954Z"
   },
   {
    "duration": 5,
    "start_time": "2021-12-09T07:33:20.977Z"
   },
   {
    "duration": 49,
    "start_time": "2021-12-09T07:33:33.149Z"
   },
   {
    "duration": 7,
    "start_time": "2021-12-09T07:35:53.121Z"
   },
   {
    "duration": 8,
    "start_time": "2021-12-09T07:36:06.876Z"
   },
   {
    "duration": 184,
    "start_time": "2021-12-09T07:38:01.155Z"
   },
   {
    "duration": 189,
    "start_time": "2021-12-09T07:38:14.685Z"
   },
   {
    "duration": 7,
    "start_time": "2021-12-09T07:39:17.956Z"
   },
   {
    "duration": 170,
    "start_time": "2021-12-09T07:40:18.660Z"
   },
   {
    "duration": 8,
    "start_time": "2021-12-09T07:41:24.883Z"
   },
   {
    "duration": 181,
    "start_time": "2021-12-09T07:41:37.844Z"
   },
   {
    "duration": 6,
    "start_time": "2021-12-09T07:42:07.418Z"
   },
   {
    "duration": 364,
    "start_time": "2021-12-09T07:42:23.735Z"
   },
   {
    "duration": 1031,
    "start_time": "2021-12-09T07:42:36.715Z"
   },
   {
    "duration": 92,
    "start_time": "2021-12-09T07:45:08.517Z"
   },
   {
    "duration": 161,
    "start_time": "2021-12-09T07:45:16.428Z"
   },
   {
    "duration": 265,
    "start_time": "2021-12-09T07:51:33.520Z"
   },
   {
    "duration": 252,
    "start_time": "2021-12-09T07:51:47.008Z"
   },
   {
    "duration": 465,
    "start_time": "2021-12-09T07:51:52.748Z"
   },
   {
    "duration": 24,
    "start_time": "2021-12-09T07:52:07.040Z"
   },
   {
    "duration": 10,
    "start_time": "2021-12-09T07:52:22.935Z"
   },
   {
    "duration": 8,
    "start_time": "2021-12-09T07:53:01.547Z"
   },
   {
    "duration": 184,
    "start_time": "2021-12-09T07:53:35.744Z"
   },
   {
    "duration": 8,
    "start_time": "2021-12-09T07:55:29.205Z"
   },
   {
    "duration": 267,
    "start_time": "2021-12-09T07:56:14.070Z"
   },
   {
    "duration": 184,
    "start_time": "2021-12-09T07:56:31.639Z"
   },
   {
    "duration": 4,
    "start_time": "2021-12-09T08:04:01.717Z"
   },
   {
    "duration": 7,
    "start_time": "2021-12-09T08:04:22.678Z"
   },
   {
    "duration": 7,
    "start_time": "2021-12-09T08:06:49.144Z"
   },
   {
    "duration": 11,
    "start_time": "2021-12-09T08:07:07.308Z"
   },
   {
    "duration": 968,
    "start_time": "2021-12-09T08:08:05.555Z"
   },
   {
    "duration": 10,
    "start_time": "2021-12-09T08:33:24.219Z"
   },
   {
    "duration": 320,
    "start_time": "2021-12-09T08:33:51.960Z"
   },
   {
    "duration": 277,
    "start_time": "2021-12-09T08:36:56.268Z"
   },
   {
    "duration": 281,
    "start_time": "2021-12-09T08:37:03.318Z"
   },
   {
    "duration": 274,
    "start_time": "2021-12-09T08:37:07.558Z"
   },
   {
    "duration": 11,
    "start_time": "2021-12-09T08:37:12.935Z"
   },
   {
    "duration": 420,
    "start_time": "2021-12-09T08:37:13.416Z"
   },
   {
    "duration": 15,
    "start_time": "2021-12-09T08:37:45.983Z"
   },
   {
    "duration": 11,
    "start_time": "2021-12-09T08:38:01.915Z"
   },
   {
    "duration": 7,
    "start_time": "2021-12-09T08:41:57.025Z"
   },
   {
    "duration": 6,
    "start_time": "2021-12-09T08:42:34.352Z"
   },
   {
    "duration": 5,
    "start_time": "2021-12-09T08:42:51.626Z"
   },
   {
    "duration": 11,
    "start_time": "2021-12-09T08:43:35.577Z"
   },
   {
    "duration": 6,
    "start_time": "2021-12-09T08:45:07.376Z"
   },
   {
    "duration": 10,
    "start_time": "2021-12-09T08:45:15.035Z"
   },
   {
    "duration": 2,
    "start_time": "2021-12-09T08:53:02.953Z"
   },
   {
    "duration": 278,
    "start_time": "2021-12-09T08:53:03.679Z"
   },
   {
    "duration": 2094,
    "start_time": "2021-12-09T08:55:36.301Z"
   },
   {
    "duration": 5,
    "start_time": "2021-12-09T08:55:44.931Z"
   },
   {
    "duration": 5,
    "start_time": "2021-12-09T08:55:45.552Z"
   },
   {
    "duration": 10,
    "start_time": "2021-12-09T08:55:52.058Z"
   },
   {
    "duration": 5,
    "start_time": "2021-12-09T08:56:45.304Z"
   },
   {
    "duration": 5,
    "start_time": "2021-12-09T09:00:39.983Z"
   },
   {
    "duration": 6,
    "start_time": "2021-12-09T09:01:14.172Z"
   },
   {
    "duration": 6,
    "start_time": "2021-12-09T09:08:21.781Z"
   },
   {
    "duration": 90,
    "start_time": "2021-12-09T09:17:13.409Z"
   },
   {
    "duration": 4742,
    "start_time": "2021-12-09T09:17:35.142Z"
   },
   {
    "duration": 7,
    "start_time": "2021-12-09T09:18:14.830Z"
   },
   {
    "duration": 11,
    "start_time": "2021-12-09T09:18:15.490Z"
   },
   {
    "duration": 6,
    "start_time": "2021-12-09T09:18:16.192Z"
   },
   {
    "duration": 947,
    "start_time": "2021-12-09T09:18:16.922Z"
   },
   {
    "duration": 4151,
    "start_time": "2021-12-09T09:18:17.871Z"
   },
   {
    "duration": 3878,
    "start_time": "2021-12-09T09:22:20.461Z"
   },
   {
    "duration": 6,
    "start_time": "2021-12-09T09:23:01.102Z"
   },
   {
    "duration": 5,
    "start_time": "2021-12-09T09:23:33.170Z"
   },
   {
    "duration": 5,
    "start_time": "2021-12-09T09:24:11.311Z"
   },
   {
    "duration": 10,
    "start_time": "2021-12-09T09:24:38.439Z"
   },
   {
    "duration": 6,
    "start_time": "2021-12-09T09:25:32.151Z"
   },
   {
    "duration": 6,
    "start_time": "2021-12-09T09:25:53.680Z"
   },
   {
    "duration": 4,
    "start_time": "2021-12-09T09:33:38.001Z"
   },
   {
    "duration": 5,
    "start_time": "2021-12-09T09:33:38.659Z"
   },
   {
    "duration": 3,
    "start_time": "2021-12-09T09:33:40.229Z"
   },
   {
    "duration": 6,
    "start_time": "2021-12-09T09:33:41.268Z"
   },
   {
    "duration": 3,
    "start_time": "2021-12-09T09:34:26.812Z"
   },
   {
    "duration": 7,
    "start_time": "2021-12-09T09:34:27.371Z"
   },
   {
    "duration": 3,
    "start_time": "2021-12-09T09:35:36.960Z"
   },
   {
    "duration": 8,
    "start_time": "2021-12-09T09:35:45.617Z"
   },
   {
    "duration": 7,
    "start_time": "2021-12-09T09:35:56.855Z"
   },
   {
    "duration": 8,
    "start_time": "2021-12-09T09:37:26.207Z"
   },
   {
    "duration": 8,
    "start_time": "2021-12-09T09:37:50.601Z"
   },
   {
    "duration": 8,
    "start_time": "2021-12-09T09:39:07.349Z"
   },
   {
    "duration": 455,
    "start_time": "2021-12-09T09:39:42.993Z"
   },
   {
    "duration": 419,
    "start_time": "2021-12-09T09:39:43.562Z"
   },
   {
    "duration": 278,
    "start_time": "2021-12-09T09:39:58.132Z"
   },
   {
    "duration": 8,
    "start_time": "2021-12-09T09:40:11.320Z"
   },
   {
    "duration": 333,
    "start_time": "2021-12-09T09:40:22.563Z"
   },
   {
    "duration": 23,
    "start_time": "2021-12-09T09:53:25.010Z"
   },
   {
    "duration": 4,
    "start_time": "2021-12-09T09:55:46.910Z"
   },
   {
    "duration": 5,
    "start_time": "2021-12-09T09:56:08.621Z"
   },
   {
    "duration": 10,
    "start_time": "2021-12-09T10:04:56.781Z"
   },
   {
    "duration": 10,
    "start_time": "2021-12-09T10:05:12.422Z"
   },
   {
    "duration": 5,
    "start_time": "2021-12-09T10:06:58.632Z"
   },
   {
    "duration": 5,
    "start_time": "2021-12-09T10:07:48.022Z"
   },
   {
    "duration": 5,
    "start_time": "2021-12-09T10:08:11.312Z"
   },
   {
    "duration": 6,
    "start_time": "2021-12-09T10:08:47.072Z"
   },
   {
    "duration": 277,
    "start_time": "2021-12-09T10:09:12.115Z"
   },
   {
    "duration": 5,
    "start_time": "2021-12-09T10:09:26.713Z"
   },
   {
    "duration": 6,
    "start_time": "2021-12-09T10:22:36.771Z"
   },
   {
    "duration": 5,
    "start_time": "2021-12-09T10:23:00.591Z"
   },
   {
    "duration": 2,
    "start_time": "2021-12-09T10:23:02.121Z"
   },
   {
    "duration": 50,
    "start_time": "2021-12-09T10:25:45.261Z"
   },
   {
    "duration": 262,
    "start_time": "2021-12-09T10:32:13.738Z"
   },
   {
    "duration": 2,
    "start_time": "2021-12-09T10:34:47.540Z"
   },
   {
    "duration": 259,
    "start_time": "2021-12-09T10:34:50.188Z"
   },
   {
    "duration": 271,
    "start_time": "2021-12-09T10:35:06.500Z"
   },
   {
    "duration": 3,
    "start_time": "2021-12-09T10:36:05.132Z"
   },
   {
    "duration": 5,
    "start_time": "2021-12-09T10:36:07.870Z"
   },
   {
    "duration": 5,
    "start_time": "2021-12-09T10:36:08.661Z"
   },
   {
    "duration": 5,
    "start_time": "2021-12-09T10:37:02.328Z"
   },
   {
    "duration": 4,
    "start_time": "2021-12-09T10:37:09.150Z"
   },
   {
    "duration": 5,
    "start_time": "2021-12-09T10:40:56.082Z"
   },
   {
    "duration": 11,
    "start_time": "2021-12-09T10:45:07.322Z"
   },
   {
    "duration": 2,
    "start_time": "2021-12-09T10:45:08.346Z"
   },
   {
    "duration": 5,
    "start_time": "2021-12-09T10:45:08.938Z"
   },
   {
    "duration": 5,
    "start_time": "2021-12-09T10:45:09.394Z"
   },
   {
    "duration": 4,
    "start_time": "2021-12-09T10:45:09.809Z"
   },
   {
    "duration": 3,
    "start_time": "2021-12-09T10:45:10.321Z"
   },
   {
    "duration": 2,
    "start_time": "2021-12-09T10:45:11.482Z"
   },
   {
    "duration": 6,
    "start_time": "2021-12-09T10:45:12.182Z"
   },
   {
    "duration": 4,
    "start_time": "2021-12-09T10:48:05.391Z"
   },
   {
    "duration": 384,
    "start_time": "2021-12-09T10:48:25.702Z"
   },
   {
    "duration": 291,
    "start_time": "2021-12-09T10:48:39.712Z"
   },
   {
    "duration": 4,
    "start_time": "2021-12-09T10:48:56.220Z"
   },
   {
    "duration": 4,
    "start_time": "2021-12-09T10:48:56.596Z"
   },
   {
    "duration": 3,
    "start_time": "2021-12-09T10:48:58.152Z"
   },
   {
    "duration": 6,
    "start_time": "2021-12-09T10:49:04.303Z"
   },
   {
    "duration": 283,
    "start_time": "2021-12-09T10:51:11.612Z"
   },
   {
    "duration": 355,
    "start_time": "2021-12-09T10:52:50.370Z"
   },
   {
    "duration": 3,
    "start_time": "2021-12-09T10:54:33.902Z"
   },
   {
    "duration": 282,
    "start_time": "2021-12-09T10:54:35.202Z"
   },
   {
    "duration": 280,
    "start_time": "2021-12-09T10:54:58.453Z"
   },
   {
    "duration": 7,
    "start_time": "2021-12-09T10:55:30.241Z"
   },
   {
    "duration": 5,
    "start_time": "2021-12-09T10:55:58.682Z"
   },
   {
    "duration": 6,
    "start_time": "2021-12-09T10:56:34.582Z"
   },
   {
    "duration": 4,
    "start_time": "2021-12-09T11:03:56.666Z"
   },
   {
    "duration": 7,
    "start_time": "2021-12-09T11:03:57.894Z"
   },
   {
    "duration": 11,
    "start_time": "2021-12-09T11:03:59.113Z"
   },
   {
    "duration": 3,
    "start_time": "2021-12-09T11:04:58.676Z"
   },
   {
    "duration": 7,
    "start_time": "2021-12-09T11:04:59.207Z"
   },
   {
    "duration": 11,
    "start_time": "2021-12-09T11:04:59.493Z"
   },
   {
    "duration": 6,
    "start_time": "2021-12-09T11:08:10.076Z"
   },
   {
    "duration": 7,
    "start_time": "2021-12-09T11:09:49.462Z"
   },
   {
    "duration": 5,
    "start_time": "2021-12-09T11:10:26.277Z"
   },
   {
    "duration": 4,
    "start_time": "2021-12-09T11:10:43.806Z"
   },
   {
    "duration": 4,
    "start_time": "2021-12-09T11:10:44.906Z"
   },
   {
    "duration": 5,
    "start_time": "2021-12-09T11:11:33.954Z"
   },
   {
    "duration": 6,
    "start_time": "2021-12-09T11:14:21.564Z"
   },
   {
    "duration": 10889,
    "start_time": "2021-12-09T18:11:44.983Z"
   },
   {
    "duration": 1619,
    "start_time": "2021-12-09T18:11:58.575Z"
   },
   {
    "duration": 4,
    "start_time": "2021-12-09T18:12:03.740Z"
   },
   {
    "duration": 238,
    "start_time": "2021-12-09T18:12:04.702Z"
   },
   {
    "duration": 214,
    "start_time": "2021-12-09T18:12:05.164Z"
   },
   {
    "duration": 182,
    "start_time": "2021-12-09T18:12:06.851Z"
   },
   {
    "duration": 124,
    "start_time": "2021-12-09T18:12:07.036Z"
   },
   {
    "duration": 119,
    "start_time": "2021-12-09T18:12:07.401Z"
   },
   {
    "duration": 19,
    "start_time": "2021-12-09T18:12:07.899Z"
   },
   {
    "duration": 28,
    "start_time": "2021-12-09T18:12:10.873Z"
   },
   {
    "duration": 55,
    "start_time": "2021-12-09T18:12:11.810Z"
   },
   {
    "duration": 29,
    "start_time": "2021-12-09T18:12:11.870Z"
   },
   {
    "duration": 1078,
    "start_time": "2021-12-09T18:12:11.935Z"
   },
   {
    "duration": 11038,
    "start_time": "2021-12-09T21:18:51.424Z"
   },
   {
    "duration": 1655,
    "start_time": "2021-12-09T21:19:05.334Z"
   },
   {
    "duration": 4,
    "start_time": "2021-12-09T21:19:18.472Z"
   },
   {
    "duration": 239,
    "start_time": "2021-12-09T21:19:46.925Z"
   },
   {
    "duration": 284,
    "start_time": "2021-12-09T21:19:47.894Z"
   },
   {
    "duration": 172,
    "start_time": "2021-12-09T21:19:52.335Z"
   },
   {
    "duration": 118,
    "start_time": "2021-12-09T21:19:54.365Z"
   },
   {
    "duration": 114,
    "start_time": "2021-12-09T21:19:54.905Z"
   },
   {
    "duration": 16,
    "start_time": "2021-12-09T21:19:58.303Z"
   },
   {
    "duration": 28,
    "start_time": "2021-12-09T21:20:01.255Z"
   },
   {
    "duration": 44,
    "start_time": "2021-12-09T21:20:07.515Z"
   },
   {
    "duration": 31,
    "start_time": "2021-12-09T21:20:09.083Z"
   },
   {
    "duration": 897,
    "start_time": "2021-12-09T21:20:22.135Z"
   },
   {
    "duration": 11,
    "start_time": "2021-12-09T21:22:24.555Z"
   },
   {
    "duration": 23,
    "start_time": "2021-12-09T21:22:35.815Z"
   },
   {
    "duration": 25,
    "start_time": "2021-12-09T21:22:38.495Z"
   },
   {
    "duration": 308,
    "start_time": "2021-12-09T21:23:09.685Z"
   },
   {
    "duration": 21,
    "start_time": "2021-12-09T21:26:12.314Z"
   },
   {
    "duration": 23,
    "start_time": "2021-12-09T21:26:13.995Z"
   },
   {
    "duration": 19,
    "start_time": "2021-12-09T21:26:27.585Z"
   },
   {
    "duration": 30,
    "start_time": "2021-12-09T21:31:27.295Z"
   },
   {
    "duration": 21,
    "start_time": "2021-12-09T21:31:27.615Z"
   },
   {
    "duration": 19,
    "start_time": "2021-12-09T21:31:27.935Z"
   },
   {
    "duration": 7,
    "start_time": "2021-12-09T21:31:28.825Z"
   },
   {
    "duration": 5,
    "start_time": "2021-12-09T21:31:29.432Z"
   },
   {
    "duration": 5,
    "start_time": "2021-12-09T21:31:30.575Z"
   },
   {
    "duration": 5,
    "start_time": "2021-12-09T21:32:30.473Z"
   },
   {
    "duration": 5,
    "start_time": "2021-12-09T21:32:31.154Z"
   },
   {
    "duration": 11,
    "start_time": "2021-12-09T21:32:32.096Z"
   },
   {
    "duration": 6,
    "start_time": "2021-12-09T21:32:39.585Z"
   },
   {
    "duration": 8,
    "start_time": "2021-12-09T21:32:39.914Z"
   },
   {
    "duration": 8,
    "start_time": "2021-12-09T21:32:44.926Z"
   },
   {
    "duration": 9,
    "start_time": "2021-12-09T21:33:48.193Z"
   },
   {
    "duration": 6,
    "start_time": "2021-12-09T21:33:49.334Z"
   },
   {
    "duration": 8,
    "start_time": "2021-12-09T21:33:50.584Z"
   },
   {
    "duration": 5,
    "start_time": "2021-12-09T21:34:29.306Z"
   },
   {
    "duration": 5,
    "start_time": "2021-12-09T21:34:30.745Z"
   },
   {
    "duration": 6,
    "start_time": "2021-12-09T21:34:31.302Z"
   },
   {
    "duration": 5,
    "start_time": "2021-12-09T21:34:31.642Z"
   },
   {
    "duration": 5,
    "start_time": "2021-12-09T21:34:32.057Z"
   },
   {
    "duration": 5,
    "start_time": "2021-12-09T21:34:32.227Z"
   },
   {
    "duration": 11,
    "start_time": "2021-12-09T21:34:32.588Z"
   },
   {
    "duration": 6,
    "start_time": "2021-12-09T21:34:32.805Z"
   },
   {
    "duration": 8,
    "start_time": "2021-12-09T21:34:34.833Z"
   },
   {
    "duration": 5,
    "start_time": "2021-12-09T21:34:35.972Z"
   },
   {
    "duration": 9,
    "start_time": "2021-12-09T21:34:36.989Z"
   },
   {
    "duration": 5,
    "start_time": "2021-12-09T21:34:52.104Z"
   },
   {
    "duration": 21,
    "start_time": "2021-12-09T21:34:52.645Z"
   },
   {
    "duration": 29,
    "start_time": "2021-12-09T21:35:01.495Z"
   },
   {
    "duration": 27,
    "start_time": "2021-12-09T21:35:10.750Z"
   },
   {
    "duration": 21,
    "start_time": "2021-12-09T21:35:12.336Z"
   },
   {
    "duration": 281,
    "start_time": "2021-12-09T21:35:18.625Z"
   },
   {
    "duration": 339,
    "start_time": "2021-12-09T21:35:29.405Z"
   },
   {
    "duration": 16,
    "start_time": "2021-12-09T21:35:34.416Z"
   },
   {
    "duration": 13,
    "start_time": "2021-12-09T21:35:37.816Z"
   },
   {
    "duration": 13,
    "start_time": "2021-12-09T21:35:44.846Z"
   },
   {
    "duration": 15,
    "start_time": "2021-12-09T21:35:54.794Z"
   },
   {
    "duration": 11,
    "start_time": "2021-12-09T21:35:55.224Z"
   },
   {
    "duration": 10,
    "start_time": "2021-12-09T21:35:56.354Z"
   },
   {
    "duration": 10,
    "start_time": "2021-12-09T21:35:57.683Z"
   },
   {
    "duration": 12,
    "start_time": "2021-12-09T21:36:00.144Z"
   },
   {
    "duration": 8,
    "start_time": "2021-12-09T21:36:10.135Z"
   },
   {
    "duration": 23,
    "start_time": "2021-12-09T21:39:13.844Z"
   },
   {
    "duration": 18,
    "start_time": "2021-12-09T21:39:14.433Z"
   },
   {
    "duration": 15,
    "start_time": "2021-12-09T21:39:14.975Z"
   },
   {
    "duration": 24,
    "start_time": "2021-12-09T21:39:30.470Z"
   },
   {
    "duration": 20,
    "start_time": "2021-12-09T21:39:33.735Z"
   },
   {
    "duration": 21,
    "start_time": "2021-12-09T21:39:35.915Z"
   },
   {
    "duration": 17,
    "start_time": "2021-12-09T21:43:48.954Z"
   },
   {
    "duration": 5,
    "start_time": "2021-12-09T21:43:49.409Z"
   },
   {
    "duration": 9,
    "start_time": "2021-12-09T21:43:55.515Z"
   },
   {
    "duration": 21,
    "start_time": "2021-12-09T21:44:32.334Z"
   },
   {
    "duration": 4,
    "start_time": "2021-12-09T21:44:33.414Z"
   },
   {
    "duration": 10,
    "start_time": "2021-12-09T21:44:36.314Z"
   },
   {
    "duration": 27,
    "start_time": "2021-12-09T21:44:40.694Z"
   },
   {
    "duration": 4,
    "start_time": "2021-12-09T21:44:44.824Z"
   },
   {
    "duration": 9,
    "start_time": "2021-12-09T21:44:46.595Z"
   },
   {
    "duration": 19,
    "start_time": "2021-12-09T21:44:53.643Z"
   },
   {
    "duration": 5,
    "start_time": "2021-12-09T21:44:54.434Z"
   },
   {
    "duration": 11,
    "start_time": "2021-12-09T21:44:55.195Z"
   },
   {
    "duration": 4,
    "start_time": "2021-12-09T21:48:12.005Z"
   },
   {
    "duration": 3,
    "start_time": "2021-12-09T21:48:12.705Z"
   },
   {
    "duration": 20,
    "start_time": "2021-12-09T21:48:15.002Z"
   },
   {
    "duration": 14,
    "start_time": "2021-12-09T21:48:19.094Z"
   },
   {
    "duration": 16,
    "start_time": "2021-12-09T21:49:11.015Z"
   },
   {
    "duration": 4,
    "start_time": "2021-12-09T21:49:59.795Z"
   },
   {
    "duration": 10,
    "start_time": "2021-12-09T21:50:00.692Z"
   },
   {
    "duration": 4,
    "start_time": "2021-12-09T21:50:03.624Z"
   },
   {
    "duration": 11,
    "start_time": "2021-12-09T21:50:05.566Z"
   },
   {
    "duration": 7,
    "start_time": "2021-12-09T21:55:02.574Z"
   },
   {
    "duration": 81,
    "start_time": "2021-12-09T21:56:12.706Z"
   },
   {
    "duration": 396,
    "start_time": "2021-12-09T22:02:27.233Z"
   },
   {
    "duration": 12,
    "start_time": "2021-12-09T22:02:28.815Z"
   },
   {
    "duration": 305,
    "start_time": "2021-12-09T22:02:29.383Z"
   },
   {
    "duration": 10,
    "start_time": "2021-12-09T22:02:29.987Z"
   },
   {
    "duration": 52,
    "start_time": "2021-12-09T22:02:30.357Z"
   },
   {
    "duration": 14,
    "start_time": "2021-12-09T22:02:30.696Z"
   },
   {
    "duration": 11,
    "start_time": "2021-12-09T22:02:31.563Z"
   },
   {
    "duration": 285,
    "start_time": "2021-12-09T22:02:32.165Z"
   },
   {
    "duration": 257,
    "start_time": "2021-12-09T22:02:32.644Z"
   },
   {
    "duration": 11,
    "start_time": "2021-12-09T22:02:33.096Z"
   },
   {
    "duration": 276,
    "start_time": "2021-12-09T22:02:33.546Z"
   },
   {
    "duration": 14,
    "start_time": "2021-12-09T22:02:34.405Z"
   },
   {
    "duration": 3,
    "start_time": "2021-12-09T22:02:34.595Z"
   },
   {
    "duration": 8,
    "start_time": "2021-12-09T22:02:34.805Z"
   },
   {
    "duration": 7,
    "start_time": "2021-12-09T22:02:35.027Z"
   },
   {
    "duration": 4,
    "start_time": "2021-12-09T22:02:35.238Z"
   },
   {
    "duration": 5,
    "start_time": "2021-12-09T22:02:35.466Z"
   },
   {
    "duration": 3,
    "start_time": "2021-12-09T22:02:36.393Z"
   },
   {
    "duration": 7,
    "start_time": "2021-12-09T22:02:37.124Z"
   },
   {
    "duration": 5,
    "start_time": "2021-12-09T22:02:44.716Z"
   },
   {
    "duration": 10,
    "start_time": "2021-12-09T22:02:52.884Z"
   },
   {
    "duration": 16,
    "start_time": "2021-12-09T22:02:55.515Z"
   },
   {
    "duration": 8,
    "start_time": "2021-12-09T22:03:00.623Z"
   },
   {
    "duration": 8,
    "start_time": "2021-12-09T22:03:12.121Z"
   },
   {
    "duration": 9,
    "start_time": "2021-12-09T22:03:20.616Z"
   },
   {
    "duration": 5,
    "start_time": "2021-12-09T22:03:27.935Z"
   },
   {
    "duration": 5,
    "start_time": "2021-12-09T22:03:31.866Z"
   },
   {
    "duration": 7,
    "start_time": "2021-12-09T22:03:47.328Z"
   },
   {
    "duration": 13947,
    "start_time": "2021-12-10T14:53:16.886Z"
   },
   {
    "duration": 1724,
    "start_time": "2021-12-10T14:53:30.836Z"
   },
   {
    "duration": 4,
    "start_time": "2021-12-10T14:53:35.352Z"
   },
   {
    "duration": 235,
    "start_time": "2021-12-10T14:53:38.662Z"
   },
   {
    "duration": 241,
    "start_time": "2021-12-10T14:53:39.123Z"
   },
   {
    "duration": 179,
    "start_time": "2021-12-10T14:53:39.713Z"
   },
   {
    "duration": 154,
    "start_time": "2021-12-10T14:53:40.323Z"
   },
   {
    "duration": 157,
    "start_time": "2021-12-10T14:53:40.801Z"
   },
   {
    "duration": 18,
    "start_time": "2021-12-10T14:53:41.872Z"
   },
   {
    "duration": 28,
    "start_time": "2021-12-10T14:53:43.253Z"
   },
   {
    "duration": 46,
    "start_time": "2021-12-10T14:53:54.390Z"
   },
   {
    "duration": 28,
    "start_time": "2021-12-10T14:53:54.752Z"
   },
   {
    "duration": 904,
    "start_time": "2021-12-10T14:53:56.904Z"
   },
   {
    "duration": 12,
    "start_time": "2021-12-10T14:54:05.591Z"
   },
   {
    "duration": 26,
    "start_time": "2021-12-10T14:54:07.202Z"
   },
   {
    "duration": 26,
    "start_time": "2021-12-10T14:54:11.571Z"
   },
   {
    "duration": 313,
    "start_time": "2021-12-10T14:54:14.904Z"
   },
   {
    "duration": 39,
    "start_time": "2021-12-10T14:54:16.992Z"
   },
   {
    "duration": 11,
    "start_time": "2021-12-10T14:54:17.973Z"
   },
   {
    "duration": 21,
    "start_time": "2021-12-10T14:54:18.702Z"
   },
   {
    "duration": 17,
    "start_time": "2021-12-10T14:54:20.212Z"
   },
   {
    "duration": 14,
    "start_time": "2021-12-10T14:54:21.045Z"
   },
   {
    "duration": 14,
    "start_time": "2021-12-10T14:54:21.993Z"
   },
   {
    "duration": 47,
    "start_time": "2021-12-10T14:54:22.552Z"
   },
   {
    "duration": 15,
    "start_time": "2021-12-10T14:54:23.444Z"
   },
   {
    "duration": 14,
    "start_time": "2021-12-10T14:54:24.353Z"
   },
   {
    "duration": 22,
    "start_time": "2021-12-10T14:54:26.091Z"
   },
   {
    "duration": 23,
    "start_time": "2021-12-10T14:54:27.325Z"
   },
   {
    "duration": 19,
    "start_time": "2021-12-10T14:54:28.451Z"
   },
   {
    "duration": 27,
    "start_time": "2021-12-10T14:54:35.222Z"
   },
   {
    "duration": 22,
    "start_time": "2021-12-10T14:54:35.803Z"
   },
   {
    "duration": 19,
    "start_time": "2021-12-10T14:54:36.344Z"
   },
   {
    "duration": 6,
    "start_time": "2021-12-10T14:54:37.233Z"
   },
   {
    "duration": 6,
    "start_time": "2021-12-10T14:54:42.321Z"
   },
   {
    "duration": 6,
    "start_time": "2021-12-10T14:54:43.233Z"
   },
   {
    "duration": 5,
    "start_time": "2021-12-10T14:54:43.962Z"
   },
   {
    "duration": 5,
    "start_time": "2021-12-10T14:54:46.539Z"
   },
   {
    "duration": 7,
    "start_time": "2021-12-10T14:54:47.167Z"
   },
   {
    "duration": 12,
    "start_time": "2021-12-10T14:54:48.230Z"
   },
   {
    "duration": 6,
    "start_time": "2021-12-10T14:54:50.927Z"
   },
   {
    "duration": 8,
    "start_time": "2021-12-10T14:54:51.308Z"
   },
   {
    "duration": 6,
    "start_time": "2021-12-10T14:54:52.138Z"
   },
   {
    "duration": 8,
    "start_time": "2021-12-10T14:55:03.728Z"
   },
   {
    "duration": 5,
    "start_time": "2021-12-10T14:55:06.929Z"
   },
   {
    "duration": 20,
    "start_time": "2021-12-10T14:55:07.494Z"
   },
   {
    "duration": 29,
    "start_time": "2021-12-10T14:55:08.325Z"
   },
   {
    "duration": 30,
    "start_time": "2021-12-10T14:55:12.665Z"
   },
   {
    "duration": 21,
    "start_time": "2021-12-10T14:55:13.834Z"
   },
   {
    "duration": 294,
    "start_time": "2021-12-10T14:55:29.012Z"
   },
   {
    "duration": 18,
    "start_time": "2021-12-10T14:55:36.114Z"
   },
   {
    "duration": 12,
    "start_time": "2021-12-10T14:55:38.364Z"
   },
   {
    "duration": 13,
    "start_time": "2021-12-10T14:55:39.543Z"
   },
   {
    "duration": 17,
    "start_time": "2021-12-10T14:55:43.801Z"
   },
   {
    "duration": 11,
    "start_time": "2021-12-10T14:55:46.728Z"
   },
   {
    "duration": 10,
    "start_time": "2021-12-10T14:55:48.031Z"
   },
   {
    "duration": 12,
    "start_time": "2021-12-10T14:55:48.741Z"
   },
   {
    "duration": 11,
    "start_time": "2021-12-10T14:55:50.043Z"
   },
   {
    "duration": 7,
    "start_time": "2021-12-10T14:55:51.015Z"
   },
   {
    "duration": 23,
    "start_time": "2021-12-10T14:56:02.652Z"
   },
   {
    "duration": 19,
    "start_time": "2021-12-10T14:56:03.502Z"
   },
   {
    "duration": 15,
    "start_time": "2021-12-10T14:56:10.630Z"
   },
   {
    "duration": 91,
    "start_time": "2021-12-10T14:56:11.342Z"
   },
   {
    "duration": 20,
    "start_time": "2021-12-10T14:56:12.831Z"
   },
   {
    "duration": 22,
    "start_time": "2021-12-10T14:56:15.124Z"
   },
   {
    "duration": 18,
    "start_time": "2021-12-10T14:56:25.857Z"
   },
   {
    "duration": 4,
    "start_time": "2021-12-10T14:56:26.903Z"
   },
   {
    "duration": 10,
    "start_time": "2021-12-10T14:56:27.843Z"
   },
   {
    "duration": 26,
    "start_time": "2021-12-10T14:56:30.973Z"
   },
   {
    "duration": 5,
    "start_time": "2021-12-10T14:56:32.090Z"
   },
   {
    "duration": 9,
    "start_time": "2021-12-10T14:56:32.824Z"
   },
   {
    "duration": 15,
    "start_time": "2021-12-10T14:56:33.903Z"
   },
   {
    "duration": 4,
    "start_time": "2021-12-10T14:56:37.223Z"
   },
   {
    "duration": 9,
    "start_time": "2021-12-10T14:56:37.713Z"
   },
   {
    "duration": 4,
    "start_time": "2021-12-10T14:56:44.738Z"
   },
   {
    "duration": 3,
    "start_time": "2021-12-10T14:56:46.413Z"
   },
   {
    "duration": 20,
    "start_time": "2021-12-10T14:56:50.937Z"
   },
   {
    "duration": 16,
    "start_time": "2021-12-10T14:56:51.852Z"
   },
   {
    "duration": 14,
    "start_time": "2021-12-10T14:56:56.748Z"
   },
   {
    "duration": 5,
    "start_time": "2021-12-10T14:57:00.433Z"
   },
   {
    "duration": 9,
    "start_time": "2021-12-10T14:57:00.964Z"
   },
   {
    "duration": 4,
    "start_time": "2021-12-10T14:57:02.031Z"
   },
   {
    "duration": 10,
    "start_time": "2021-12-10T14:57:02.754Z"
   },
   {
    "duration": 14,
    "start_time": "2021-12-10T14:57:21.077Z"
   },
   {
    "duration": 8,
    "start_time": "2021-12-10T14:57:22.943Z"
   },
   {
    "duration": 81,
    "start_time": "2021-12-10T14:57:39.345Z"
   },
   {
    "duration": 10,
    "start_time": "2021-12-10T14:58:47.269Z"
   },
   {
    "duration": 11,
    "start_time": "2021-12-10T15:05:41.414Z"
   },
   {
    "duration": 310,
    "start_time": "2021-12-10T15:08:45.094Z"
   },
   {
    "duration": 11,
    "start_time": "2021-12-10T15:09:01.837Z"
   },
   {
    "duration": 327,
    "start_time": "2021-12-10T15:24:55.155Z"
   },
   {
    "duration": 11,
    "start_time": "2021-12-10T15:24:56.001Z"
   },
   {
    "duration": 315,
    "start_time": "2021-12-10T15:24:58.142Z"
   },
   {
    "duration": 10,
    "start_time": "2021-12-10T15:25:33.083Z"
   },
   {
    "duration": 40,
    "start_time": "2021-12-10T15:27:14.695Z"
   },
   {
    "duration": 47,
    "start_time": "2021-12-10T15:27:19.530Z"
   },
   {
    "duration": 14,
    "start_time": "2021-12-10T15:28:04.872Z"
   },
   {
    "duration": 11,
    "start_time": "2021-12-10T15:28:12.403Z"
   },
   {
    "duration": 300,
    "start_time": "2021-12-10T15:30:25.690Z"
   },
   {
    "duration": 275,
    "start_time": "2021-12-10T15:34:02.983Z"
   },
   {
    "duration": 13,
    "start_time": "2021-12-10T15:35:47.365Z"
   },
   {
    "duration": 12,
    "start_time": "2021-12-10T15:44:12.900Z"
   },
   {
    "duration": 292,
    "start_time": "2021-12-10T15:46:16.732Z"
   },
   {
    "duration": 14,
    "start_time": "2021-12-10T17:40:22.987Z"
   },
   {
    "duration": 459,
    "start_time": "2021-12-10T17:42:14.726Z"
   },
   {
    "duration": 9,
    "start_time": "2021-12-10T17:42:22.104Z"
   },
   {
    "duration": 7,
    "start_time": "2021-12-10T17:42:23.026Z"
   },
   {
    "duration": 8,
    "start_time": "2021-12-10T17:45:21.583Z"
   },
   {
    "duration": 8,
    "start_time": "2021-12-10T17:45:44.325Z"
   },
   {
    "duration": 7,
    "start_time": "2021-12-10T17:47:12.486Z"
   },
   {
    "duration": 8,
    "start_time": "2021-12-10T17:47:15.844Z"
   },
   {
    "duration": 4,
    "start_time": "2021-12-10T17:48:50.623Z"
   },
   {
    "duration": 5,
    "start_time": "2021-12-10T17:48:51.563Z"
   },
   {
    "duration": 5,
    "start_time": "2021-12-10T17:48:52.356Z"
   },
   {
    "duration": 8,
    "start_time": "2021-12-10T17:49:55.025Z"
   },
   {
    "duration": 10,
    "start_time": "2021-12-10T17:50:17.492Z"
   },
   {
    "duration": 8,
    "start_time": "2021-12-10T17:51:36.766Z"
   },
   {
    "duration": 4,
    "start_time": "2021-12-10T17:51:55.617Z"
   },
   {
    "duration": 7,
    "start_time": "2021-12-10T17:52:09.112Z"
   },
   {
    "duration": 7,
    "start_time": "2021-12-10T17:52:22.378Z"
   },
   {
    "duration": 4,
    "start_time": "2021-12-10T17:52:38.005Z"
   },
   {
    "duration": 4,
    "start_time": "2021-12-10T17:52:43.187Z"
   },
   {
    "duration": 6,
    "start_time": "2021-12-10T17:52:43.924Z"
   },
   {
    "duration": 6,
    "start_time": "2021-12-10T17:52:44.486Z"
   },
   {
    "duration": 3,
    "start_time": "2021-12-10T17:52:52.338Z"
   },
   {
    "duration": 9,
    "start_time": "2021-12-10T17:52:53.285Z"
   },
   {
    "duration": 8,
    "start_time": "2021-12-10T17:53:17.685Z"
   },
   {
    "duration": 7,
    "start_time": "2021-12-10T17:53:21.138Z"
   },
   {
    "duration": 3,
    "start_time": "2021-12-10T17:53:27.946Z"
   },
   {
    "duration": 6,
    "start_time": "2021-12-10T17:53:28.495Z"
   },
   {
    "duration": 6,
    "start_time": "2021-12-10T17:53:28.873Z"
   },
   {
    "duration": 6,
    "start_time": "2021-12-10T17:54:23.917Z"
   },
   {
    "duration": 7,
    "start_time": "2021-12-10T17:58:31.268Z"
   },
   {
    "duration": 8,
    "start_time": "2021-12-10T17:58:37.329Z"
   },
   {
    "duration": 8,
    "start_time": "2021-12-10T17:58:44.895Z"
   },
   {
    "duration": 6,
    "start_time": "2021-12-10T18:00:04.078Z"
   },
   {
    "duration": 6,
    "start_time": "2021-12-10T18:00:13.877Z"
   },
   {
    "duration": 5,
    "start_time": "2021-12-10T18:00:22.407Z"
   },
   {
    "duration": 3,
    "start_time": "2021-12-10T18:01:10.423Z"
   },
   {
    "duration": 4,
    "start_time": "2021-12-10T18:01:10.698Z"
   },
   {
    "duration": 5,
    "start_time": "2021-12-10T18:01:10.875Z"
   },
   {
    "duration": 5,
    "start_time": "2021-12-10T18:01:11.040Z"
   },
   {
    "duration": 4,
    "start_time": "2021-12-10T18:01:13.096Z"
   },
   {
    "duration": 291,
    "start_time": "2021-12-10T18:01:13.874Z"
   },
   {
    "duration": 294,
    "start_time": "2021-12-10T18:01:44.067Z"
   },
   {
    "duration": 4,
    "start_time": "2021-12-10T18:01:59.726Z"
   },
   {
    "duration": 5,
    "start_time": "2021-12-10T18:02:00.106Z"
   },
   {
    "duration": 6,
    "start_time": "2021-12-10T18:05:48.716Z"
   },
   {
    "duration": 5,
    "start_time": "2021-12-10T18:05:50.626Z"
   },
   {
    "duration": 6,
    "start_time": "2021-12-10T18:05:51.795Z"
   },
   {
    "duration": 302,
    "start_time": "2021-12-10T18:06:16.903Z"
   },
   {
    "duration": 7,
    "start_time": "2021-12-10T18:06:57.347Z"
   },
   {
    "duration": 8,
    "start_time": "2021-12-10T18:07:35.347Z"
   },
   {
    "duration": 7,
    "start_time": "2021-12-10T18:11:56.369Z"
   },
   {
    "duration": 309,
    "start_time": "2021-12-10T18:13:11.797Z"
   },
   {
    "duration": 566,
    "start_time": "2021-12-10T18:13:42.997Z"
   },
   {
    "duration": 7,
    "start_time": "2021-12-10T18:13:56.998Z"
   },
   {
    "duration": 7,
    "start_time": "2021-12-10T18:13:57.487Z"
   },
   {
    "duration": 17,
    "start_time": "2021-12-10T18:15:39.596Z"
   },
   {
    "duration": 8,
    "start_time": "2021-12-10T18:15:40.527Z"
   },
   {
    "duration": 8,
    "start_time": "2021-12-10T18:15:41.067Z"
   },
   {
    "duration": 3,
    "start_time": "2021-12-10T18:16:04.916Z"
   },
   {
    "duration": 7,
    "start_time": "2021-12-10T18:16:05.489Z"
   },
   {
    "duration": 6,
    "start_time": "2021-12-10T18:16:07.717Z"
   },
   {
    "duration": 7,
    "start_time": "2021-12-10T18:16:08.567Z"
   },
   {
    "duration": 6,
    "start_time": "2021-12-10T18:17:08.114Z"
   },
   {
    "duration": 6,
    "start_time": "2021-12-10T18:17:17.942Z"
   },
   {
    "duration": 5,
    "start_time": "2021-12-10T18:17:35.879Z"
   },
   {
    "duration": 7,
    "start_time": "2021-12-10T18:18:13.127Z"
   },
   {
    "duration": 17,
    "start_time": "2021-12-10T18:19:17.094Z"
   },
   {
    "duration": 7,
    "start_time": "2021-12-10T18:19:20.340Z"
   },
   {
    "duration": 7,
    "start_time": "2021-12-10T18:19:34.085Z"
   },
   {
    "duration": 4,
    "start_time": "2021-12-10T18:19:35.876Z"
   },
   {
    "duration": 5,
    "start_time": "2021-12-10T18:19:36.575Z"
   },
   {
    "duration": 5,
    "start_time": "2021-12-10T18:19:47.773Z"
   },
   {
    "duration": 5,
    "start_time": "2021-12-10T18:19:51.021Z"
   },
   {
    "duration": 3,
    "start_time": "2021-12-10T18:22:03.089Z"
   },
   {
    "duration": 5,
    "start_time": "2021-12-10T18:22:04.498Z"
   },
   {
    "duration": 5,
    "start_time": "2021-12-10T18:22:05.215Z"
   },
   {
    "duration": 5,
    "start_time": "2021-12-10T18:22:07.198Z"
   },
   {
    "duration": 97,
    "start_time": "2021-12-10T18:23:51.268Z"
   },
   {
    "duration": 6,
    "start_time": "2021-12-10T18:23:56.424Z"
   },
   {
    "duration": 5,
    "start_time": "2021-12-10T18:23:57.375Z"
   },
   {
    "duration": 6,
    "start_time": "2021-12-10T18:24:00.546Z"
   },
   {
    "duration": 5,
    "start_time": "2021-12-10T18:24:36.515Z"
   },
   {
    "duration": 5,
    "start_time": "2021-12-10T18:24:37.707Z"
   },
   {
    "duration": 6,
    "start_time": "2021-12-10T18:24:39.522Z"
   },
   {
    "duration": 6,
    "start_time": "2021-12-10T18:24:45.567Z"
   },
   {
    "duration": 6,
    "start_time": "2021-12-10T18:24:46.828Z"
   },
   {
    "duration": 6,
    "start_time": "2021-12-10T18:26:50.739Z"
   },
   {
    "duration": 5,
    "start_time": "2021-12-10T18:34:18.707Z"
   },
   {
    "duration": 9,
    "start_time": "2021-12-10T18:34:19.377Z"
   },
   {
    "duration": 9,
    "start_time": "2021-12-10T18:37:22.028Z"
   },
   {
    "duration": 8,
    "start_time": "2021-12-10T18:41:47.137Z"
   },
   {
    "duration": 7,
    "start_time": "2021-12-10T18:41:50.698Z"
   },
   {
    "duration": 7,
    "start_time": "2021-12-10T18:41:51.713Z"
   },
   {
    "duration": 6,
    "start_time": "2021-12-10T18:42:12.327Z"
   },
   {
    "duration": 5,
    "start_time": "2021-12-10T18:42:16.857Z"
   },
   {
    "duration": 5,
    "start_time": "2021-12-10T18:42:23.196Z"
   },
   {
    "duration": 9,
    "start_time": "2021-12-10T18:42:57.807Z"
   },
   {
    "duration": 8,
    "start_time": "2021-12-10T18:43:11.674Z"
   },
   {
    "duration": 6,
    "start_time": "2021-12-10T18:46:28.526Z"
   },
   {
    "duration": 6,
    "start_time": "2021-12-10T18:46:29.827Z"
   },
   {
    "duration": 5,
    "start_time": "2021-12-10T18:46:32.691Z"
   },
   {
    "duration": 8,
    "start_time": "2021-12-10T18:46:47.586Z"
   },
   {
    "duration": 1074,
    "start_time": "2021-12-10T18:47:21.437Z"
   },
   {
    "duration": 6,
    "start_time": "2021-12-10T18:47:40.249Z"
   },
   {
    "duration": 7,
    "start_time": "2021-12-10T18:48:14.127Z"
   },
   {
    "duration": 5,
    "start_time": "2021-12-10T18:48:15.177Z"
   },
   {
    "duration": 5,
    "start_time": "2021-12-10T18:48:31.943Z"
   },
   {
    "duration": 7,
    "start_time": "2021-12-10T18:49:29.850Z"
   },
   {
    "duration": 5,
    "start_time": "2021-12-10T18:50:55.256Z"
   },
   {
    "duration": 6,
    "start_time": "2021-12-10T18:51:23.226Z"
   },
   {
    "duration": 5,
    "start_time": "2021-12-10T18:51:57.976Z"
   },
   {
    "duration": 6,
    "start_time": "2021-12-10T18:52:09.255Z"
   },
   {
    "duration": 7,
    "start_time": "2021-12-10T18:53:19.584Z"
   },
   {
    "duration": 6,
    "start_time": "2021-12-10T18:54:07.895Z"
   },
   {
    "duration": 4565,
    "start_time": "2021-12-10T19:45:08.113Z"
   },
   {
    "duration": 6,
    "start_time": "2021-12-10T19:45:12.683Z"
   },
   {
    "duration": 300,
    "start_time": "2021-12-10T19:45:16.125Z"
   },
   {
    "duration": 296,
    "start_time": "2021-12-10T19:45:17.473Z"
   },
   {
    "duration": 238,
    "start_time": "2021-12-10T19:45:17.853Z"
   },
   {
    "duration": 115,
    "start_time": "2021-12-10T19:45:18.403Z"
   },
   {
    "duration": 148,
    "start_time": "2021-12-10T19:45:19.504Z"
   },
   {
    "duration": 12,
    "start_time": "2021-12-10T19:45:19.883Z"
   },
   {
    "duration": 34,
    "start_time": "2021-12-10T19:45:20.073Z"
   },
   {
    "duration": 46,
    "start_time": "2021-12-10T19:45:20.393Z"
   },
   {
    "duration": 30,
    "start_time": "2021-12-10T19:45:20.553Z"
   },
   {
    "duration": 320,
    "start_time": "2021-12-10T19:45:20.903Z"
   },
   {
    "duration": 11,
    "start_time": "2021-12-10T19:45:21.253Z"
   },
   {
    "duration": 29,
    "start_time": "2021-12-10T19:45:21.513Z"
   },
   {
    "duration": 27,
    "start_time": "2021-12-10T19:45:21.803Z"
   },
   {
    "duration": 315,
    "start_time": "2021-12-10T19:45:22.124Z"
   },
   {
    "duration": 39,
    "start_time": "2021-12-10T19:45:22.471Z"
   },
   {
    "duration": 10,
    "start_time": "2021-12-10T19:45:22.641Z"
   },
   {
    "duration": 22,
    "start_time": "2021-12-10T19:45:22.821Z"
   },
   {
    "duration": 16,
    "start_time": "2021-12-10T19:45:23.173Z"
   },
   {
    "duration": 14,
    "start_time": "2021-12-10T19:45:23.361Z"
   },
   {
    "duration": 14,
    "start_time": "2021-12-10T19:45:23.544Z"
   },
   {
    "duration": 146,
    "start_time": "2021-12-10T19:45:23.708Z"
   },
   {
    "duration": 15,
    "start_time": "2021-12-10T19:45:23.903Z"
   },
   {
    "duration": 15,
    "start_time": "2021-12-10T19:45:24.101Z"
   },
   {
    "duration": 24,
    "start_time": "2021-12-10T19:45:24.444Z"
   },
   {
    "duration": 36,
    "start_time": "2021-12-10T19:45:24.609Z"
   },
   {
    "duration": 24,
    "start_time": "2021-12-10T19:45:24.788Z"
   },
   {
    "duration": 31,
    "start_time": "2021-12-10T19:45:25.363Z"
   },
   {
    "duration": 23,
    "start_time": "2021-12-10T19:45:25.533Z"
   },
   {
    "duration": 18,
    "start_time": "2021-12-10T19:45:25.733Z"
   },
   {
    "duration": 6,
    "start_time": "2021-12-10T19:45:25.923Z"
   },
   {
    "duration": 6,
    "start_time": "2021-12-10T19:45:26.294Z"
   },
   {
    "duration": 5,
    "start_time": "2021-12-10T19:45:26.453Z"
   },
   {
    "duration": 6,
    "start_time": "2021-12-10T19:45:26.663Z"
   },
   {
    "duration": 6,
    "start_time": "2021-12-10T19:45:27.024Z"
   },
   {
    "duration": 5,
    "start_time": "2021-12-10T19:45:27.211Z"
   },
   {
    "duration": 13,
    "start_time": "2021-12-10T19:45:27.395Z"
   },
   {
    "duration": 7,
    "start_time": "2021-12-10T19:45:27.583Z"
   },
   {
    "duration": 8,
    "start_time": "2021-12-10T19:45:27.753Z"
   },
   {
    "duration": 6,
    "start_time": "2021-12-10T19:45:27.976Z"
   },
   {
    "duration": 8,
    "start_time": "2021-12-10T19:45:28.154Z"
   },
   {
    "duration": 5,
    "start_time": "2021-12-10T19:45:28.533Z"
   },
   {
    "duration": 20,
    "start_time": "2021-12-10T19:45:28.743Z"
   },
   {
    "duration": 32,
    "start_time": "2021-12-10T19:45:28.944Z"
   },
   {
    "duration": 33,
    "start_time": "2021-12-10T19:45:29.614Z"
   },
   {
    "duration": 23,
    "start_time": "2021-12-10T19:45:30.412Z"
   },
   {
    "duration": 302,
    "start_time": "2021-12-10T19:45:31.252Z"
   },
   {
    "duration": 17,
    "start_time": "2021-12-10T19:45:31.883Z"
   },
   {
    "duration": 12,
    "start_time": "2021-12-10T19:45:33.358Z"
   },
   {
    "duration": 15,
    "start_time": "2021-12-10T19:45:34.453Z"
   },
   {
    "duration": 15,
    "start_time": "2021-12-10T19:45:35.444Z"
   },
   {
    "duration": 12,
    "start_time": "2021-12-10T19:45:35.894Z"
   },
   {
    "duration": 11,
    "start_time": "2021-12-10T19:45:36.302Z"
   },
   {
    "duration": 11,
    "start_time": "2021-12-10T19:45:36.624Z"
   },
   {
    "duration": 10,
    "start_time": "2021-12-10T19:45:36.923Z"
   },
   {
    "duration": 9,
    "start_time": "2021-12-10T19:45:37.122Z"
   },
   {
    "duration": 30,
    "start_time": "2021-12-10T19:45:38.234Z"
   },
   {
    "duration": 24,
    "start_time": "2021-12-10T19:45:38.382Z"
   },
   {
    "duration": 19,
    "start_time": "2021-12-10T19:45:38.598Z"
   },
   {
    "duration": 38,
    "start_time": "2021-12-10T19:45:39.453Z"
   },
   {
    "duration": 34,
    "start_time": "2021-12-10T19:45:39.912Z"
   },
   {
    "duration": 33,
    "start_time": "2021-12-10T19:45:40.295Z"
   },
   {
    "duration": 28,
    "start_time": "2021-12-10T19:45:40.624Z"
   },
   {
    "duration": 4,
    "start_time": "2021-12-10T19:45:41.271Z"
   },
   {
    "duration": 10,
    "start_time": "2021-12-10T19:45:41.419Z"
   },
   {
    "duration": 26,
    "start_time": "2021-12-10T19:45:41.854Z"
   },
   {
    "duration": 4,
    "start_time": "2021-12-10T19:45:42.294Z"
   },
   {
    "duration": 9,
    "start_time": "2021-12-10T19:45:42.488Z"
   },
   {
    "duration": 18,
    "start_time": "2021-12-10T19:45:42.680Z"
   },
   {
    "duration": 4,
    "start_time": "2021-12-10T19:45:42.871Z"
   },
   {
    "duration": 11,
    "start_time": "2021-12-10T19:45:43.073Z"
   },
   {
    "duration": 4,
    "start_time": "2021-12-10T19:45:43.454Z"
   },
   {
    "duration": 4,
    "start_time": "2021-12-10T19:45:44.203Z"
   },
   {
    "duration": 18,
    "start_time": "2021-12-10T19:45:44.658Z"
   },
   {
    "duration": 17,
    "start_time": "2021-12-10T19:45:45.075Z"
   },
   {
    "duration": 15,
    "start_time": "2021-12-10T19:45:45.756Z"
   },
   {
    "duration": 5,
    "start_time": "2021-12-10T19:45:45.983Z"
   },
   {
    "duration": 10,
    "start_time": "2021-12-10T19:45:46.352Z"
   },
   {
    "duration": 4,
    "start_time": "2021-12-10T19:45:46.573Z"
   },
   {
    "duration": 11,
    "start_time": "2021-12-10T19:45:46.764Z"
   },
   {
    "duration": 14,
    "start_time": "2021-12-10T19:45:46.963Z"
   },
   {
    "duration": 8,
    "start_time": "2021-12-10T19:45:48.522Z"
   },
   {
    "duration": 87,
    "start_time": "2021-12-10T19:45:49.883Z"
   },
   {
    "duration": 12,
    "start_time": "2021-12-10T19:45:52.064Z"
   },
   {
    "duration": 311,
    "start_time": "2021-12-10T19:45:53.772Z"
   },
   {
    "duration": 11,
    "start_time": "2021-12-10T19:45:54.114Z"
   },
   {
    "duration": 305,
    "start_time": "2021-12-10T19:45:54.981Z"
   },
   {
    "duration": 9,
    "start_time": "2021-12-10T19:45:55.513Z"
   },
   {
    "duration": 73,
    "start_time": "2021-12-10T19:45:56.218Z"
   },
   {
    "duration": 21,
    "start_time": "2021-12-10T19:45:57.174Z"
   },
   {
    "duration": 13,
    "start_time": "2021-12-10T19:45:57.293Z"
   },
   {
    "duration": 311,
    "start_time": "2021-12-10T19:45:58.053Z"
   },
   {
    "duration": 269,
    "start_time": "2021-12-10T19:45:58.933Z"
   },
   {
    "duration": 12,
    "start_time": "2021-12-10T19:45:59.604Z"
   },
   {
    "duration": 481,
    "start_time": "2021-12-10T19:46:01.563Z"
   },
   {
    "duration": 500,
    "start_time": "2021-12-10T19:46:12.854Z"
   },
   {
    "duration": 15,
    "start_time": "2021-12-10T19:46:17.893Z"
   },
   {
    "duration": 9,
    "start_time": "2021-12-10T19:46:20.485Z"
   },
   {
    "duration": 12,
    "start_time": "2021-12-10T19:46:23.203Z"
   },
   {
    "duration": 5,
    "start_time": "2021-12-10T19:46:23.854Z"
   },
   {
    "duration": 6,
    "start_time": "2021-12-10T19:46:25.293Z"
   },
   {
    "duration": 6,
    "start_time": "2021-12-10T19:46:26.293Z"
   },
   {
    "duration": 5,
    "start_time": "2021-12-10T19:46:29.523Z"
   },
   {
    "duration": 7,
    "start_time": "2021-12-10T19:46:29.753Z"
   },
   {
    "duration": 6,
    "start_time": "2021-12-10T19:46:30.123Z"
   },
   {
    "duration": 5,
    "start_time": "2021-12-10T19:46:32.935Z"
   },
   {
    "duration": 6,
    "start_time": "2021-12-10T19:46:38.964Z"
   },
   {
    "duration": 11,
    "start_time": "2021-12-10T19:46:39.363Z"
   },
   {
    "duration": 18,
    "start_time": "2021-12-10T19:46:40.494Z"
   },
   {
    "duration": 10,
    "start_time": "2021-12-10T19:46:44.944Z"
   },
   {
    "duration": 9,
    "start_time": "2021-12-10T19:46:49.305Z"
   },
   {
    "duration": 8,
    "start_time": "2021-12-10T19:46:49.775Z"
   },
   {
    "duration": 7,
    "start_time": "2021-12-10T19:47:10.678Z"
   },
   {
    "duration": 8,
    "start_time": "2021-12-10T19:47:11.513Z"
   },
   {
    "duration": 6,
    "start_time": "2021-12-10T19:47:13.684Z"
   },
   {
    "duration": 10,
    "start_time": "2021-12-10T19:47:17.079Z"
   },
   {
    "duration": 9,
    "start_time": "2021-12-10T19:47:18.483Z"
   },
   {
    "duration": 5,
    "start_time": "2021-12-10T19:47:20.171Z"
   },
   {
    "duration": 6,
    "start_time": "2021-12-10T19:47:27.214Z"
   },
   {
    "duration": 6,
    "start_time": "2021-12-10T19:47:35.992Z"
   },
   {
    "duration": 5,
    "start_time": "2021-12-10T19:52:44.143Z"
   },
   {
    "duration": 10,
    "start_time": "2021-12-10T19:52:44.512Z"
   },
   {
    "duration": 17,
    "start_time": "2021-12-10T19:52:45.058Z"
   },
   {
    "duration": 9,
    "start_time": "2021-12-10T19:52:46.964Z"
   },
   {
    "duration": 9,
    "start_time": "2021-12-10T19:52:48.282Z"
   },
   {
    "duration": 8,
    "start_time": "2021-12-10T19:52:52.373Z"
   },
   {
    "duration": 7,
    "start_time": "2021-12-10T19:52:54.782Z"
   },
   {
    "duration": 5,
    "start_time": "2021-12-10T19:52:56.204Z"
   },
   {
    "duration": 6,
    "start_time": "2021-12-10T19:52:56.811Z"
   },
   {
    "duration": 5,
    "start_time": "2021-12-10T19:52:57.743Z"
   },
   {
    "duration": 7,
    "start_time": "2021-12-10T19:53:00.420Z"
   },
   {
    "duration": 5,
    "start_time": "2021-12-10T19:53:27.234Z"
   },
   {
    "duration": 6,
    "start_time": "2021-12-10T19:54:00.948Z"
   },
   {
    "duration": 5,
    "start_time": "2021-12-10T19:54:23.572Z"
   },
   {
    "duration": 6,
    "start_time": "2021-12-10T19:54:23.854Z"
   },
   {
    "duration": 19,
    "start_time": "2021-12-10T19:54:37.105Z"
   },
   {
    "duration": 18,
    "start_time": "2021-12-10T19:55:17.694Z"
   },
   {
    "duration": 22,
    "start_time": "2021-12-10T19:56:11.103Z"
   },
   {
    "duration": 391,
    "start_time": "2021-12-10T20:01:12.551Z"
   },
   {
    "duration": 307,
    "start_time": "2021-12-10T20:01:30.015Z"
   },
   {
    "duration": 10,
    "start_time": "2021-12-10T20:01:40.542Z"
   },
   {
    "duration": 20,
    "start_time": "2021-12-10T20:01:56.063Z"
   },
   {
    "duration": 9,
    "start_time": "2021-12-10T20:02:04.156Z"
   },
   {
    "duration": 21,
    "start_time": "2021-12-10T20:02:11.164Z"
   },
   {
    "duration": 10,
    "start_time": "2021-12-10T20:03:39.593Z"
   },
   {
    "duration": 22,
    "start_time": "2021-12-10T20:03:41.417Z"
   },
   {
    "duration": 23,
    "start_time": "2021-12-10T20:03:58.253Z"
   },
   {
    "duration": 95,
    "start_time": "2021-12-10T20:05:04.594Z"
   },
   {
    "duration": 296,
    "start_time": "2021-12-10T20:07:11.533Z"
   },
   {
    "duration": 7,
    "start_time": "2021-12-10T20:07:33.013Z"
   },
   {
    "duration": 24,
    "start_time": "2021-12-10T20:07:34.604Z"
   },
   {
    "duration": 7,
    "start_time": "2021-12-10T20:08:11.505Z"
   },
   {
    "duration": 21,
    "start_time": "2021-12-10T20:08:14.023Z"
   },
   {
    "duration": 18,
    "start_time": "2021-12-10T20:11:16.714Z"
   },
   {
    "duration": 842,
    "start_time": "2021-12-10T20:11:29.602Z"
   },
   {
    "duration": 349,
    "start_time": "2021-12-10T20:12:13.429Z"
   },
   {
    "duration": 309,
    "start_time": "2021-12-10T20:12:23.004Z"
   },
   {
    "duration": 17,
    "start_time": "2021-12-10T20:12:30.122Z"
   },
   {
    "duration": 628,
    "start_time": "2021-12-10T20:12:39.742Z"
   },
   {
    "duration": 17,
    "start_time": "2021-12-10T20:16:11.081Z"
   },
   {
    "duration": 602,
    "start_time": "2021-12-10T20:16:12.162Z"
   },
   {
    "duration": 5,
    "start_time": "2021-12-10T20:19:59.373Z"
   },
   {
    "duration": 5,
    "start_time": "2021-12-10T20:19:59.763Z"
   },
   {
    "duration": 21,
    "start_time": "2021-12-10T20:20:00.893Z"
   },
   {
    "duration": 21,
    "start_time": "2021-12-10T20:20:36.773Z"
   },
   {
    "duration": 17,
    "start_time": "2021-12-10T20:20:41.134Z"
   },
   {
    "duration": 725,
    "start_time": "2021-12-10T20:20:42.222Z"
   },
   {
    "duration": 20,
    "start_time": "2021-12-10T20:20:58.411Z"
   },
   {
    "duration": 9,
    "start_time": "2021-12-10T20:21:26.246Z"
   },
   {
    "duration": 19,
    "start_time": "2021-12-10T20:21:28.003Z"
   },
   {
    "duration": 16,
    "start_time": "2021-12-10T20:21:33.384Z"
   },
   {
    "duration": 601,
    "start_time": "2021-12-10T20:21:37.062Z"
   },
   {
    "duration": 19,
    "start_time": "2021-12-10T20:23:52.611Z"
   },
   {
    "duration": 8,
    "start_time": "2021-12-10T20:24:03.764Z"
   },
   {
    "duration": 19,
    "start_time": "2021-12-10T20:24:11.193Z"
   },
   {
    "duration": 125,
    "start_time": "2021-12-10T20:24:46.302Z"
   },
   {
    "duration": 16,
    "start_time": "2021-12-10T20:25:03.292Z"
   },
   {
    "duration": 3592,
    "start_time": "2021-12-10T21:34:18.793Z"
   },
   {
    "duration": 6,
    "start_time": "2021-12-10T21:34:22.389Z"
   },
   {
    "duration": 299,
    "start_time": "2021-12-10T21:34:22.398Z"
   },
   {
    "duration": 252,
    "start_time": "2021-12-10T21:34:22.700Z"
   },
   {
    "duration": 193,
    "start_time": "2021-12-10T21:34:22.956Z"
   },
   {
    "duration": 122,
    "start_time": "2021-12-10T21:34:23.152Z"
   },
   {
    "duration": 149,
    "start_time": "2021-12-10T21:34:23.277Z"
   },
   {
    "duration": 14,
    "start_time": "2021-12-10T21:34:23.429Z"
   },
   {
    "duration": 31,
    "start_time": "2021-12-10T21:34:23.673Z"
   },
   {
    "duration": 45,
    "start_time": "2021-12-10T21:34:24.854Z"
   },
   {
    "duration": 33,
    "start_time": "2021-12-10T21:34:25.124Z"
   },
   {
    "duration": 323,
    "start_time": "2021-12-10T21:34:26.072Z"
   },
   {
    "duration": 12,
    "start_time": "2021-12-10T21:34:26.538Z"
   },
   {
    "duration": 25,
    "start_time": "2021-12-10T21:34:26.773Z"
   },
   {
    "duration": 29,
    "start_time": "2021-12-10T21:34:27.343Z"
   },
   {
    "duration": 313,
    "start_time": "2021-12-10T21:34:27.722Z"
   },
   {
    "duration": 40,
    "start_time": "2021-12-10T21:34:28.169Z"
   },
   {
    "duration": 11,
    "start_time": "2021-12-10T21:34:28.352Z"
   },
   {
    "duration": 21,
    "start_time": "2021-12-10T21:34:28.601Z"
   },
   {
    "duration": 17,
    "start_time": "2021-12-10T21:34:28.993Z"
   },
   {
    "duration": 13,
    "start_time": "2021-12-10T21:34:29.213Z"
   },
   {
    "duration": 14,
    "start_time": "2021-12-10T21:34:29.402Z"
   },
   {
    "duration": 42,
    "start_time": "2021-12-10T21:34:29.613Z"
   },
   {
    "duration": 17,
    "start_time": "2021-12-10T21:34:29.813Z"
   },
   {
    "duration": 14,
    "start_time": "2021-12-10T21:34:30.033Z"
   },
   {
    "duration": 22,
    "start_time": "2021-12-10T21:34:30.413Z"
   },
   {
    "duration": 23,
    "start_time": "2021-12-10T21:34:30.613Z"
   },
   {
    "duration": 20,
    "start_time": "2021-12-10T21:34:30.809Z"
   },
   {
    "duration": 31,
    "start_time": "2021-12-10T21:34:31.501Z"
   },
   {
    "duration": 23,
    "start_time": "2021-12-10T21:34:31.703Z"
   },
   {
    "duration": 18,
    "start_time": "2021-12-10T21:34:31.869Z"
   },
   {
    "duration": 5,
    "start_time": "2021-12-10T21:34:32.094Z"
   },
   {
    "duration": 6,
    "start_time": "2021-12-10T21:34:32.493Z"
   },
   {
    "duration": 5,
    "start_time": "2021-12-10T21:34:32.744Z"
   },
   {
    "duration": 5,
    "start_time": "2021-12-10T21:34:32.941Z"
   },
   {
    "duration": 5,
    "start_time": "2021-12-10T21:34:33.340Z"
   },
   {
    "duration": 6,
    "start_time": "2021-12-10T21:34:33.534Z"
   },
   {
    "duration": 11,
    "start_time": "2021-12-10T21:34:33.693Z"
   },
   {
    "duration": 7,
    "start_time": "2021-12-10T21:34:33.884Z"
   },
   {
    "duration": 8,
    "start_time": "2021-12-10T21:34:34.054Z"
   },
   {
    "duration": 6,
    "start_time": "2021-12-10T21:34:34.283Z"
   },
   {
    "duration": 9,
    "start_time": "2021-12-10T21:34:34.443Z"
   },
   {
    "duration": 5,
    "start_time": "2021-12-10T21:34:34.834Z"
   },
   {
    "duration": 20,
    "start_time": "2021-12-10T21:34:35.032Z"
   },
   {
    "duration": 31,
    "start_time": "2021-12-10T21:34:35.214Z"
   },
   {
    "duration": 30,
    "start_time": "2021-12-10T21:34:35.953Z"
   },
   {
    "duration": 21,
    "start_time": "2021-12-10T21:34:36.301Z"
   },
   {
    "duration": 291,
    "start_time": "2021-12-10T21:34:36.983Z"
   },
   {
    "duration": 15,
    "start_time": "2021-12-10T21:34:37.276Z"
   },
   {
    "duration": 14,
    "start_time": "2021-12-10T21:34:37.533Z"
   },
   {
    "duration": 13,
    "start_time": "2021-12-10T21:34:37.924Z"
   },
   {
    "duration": 15,
    "start_time": "2021-12-10T21:34:38.313Z"
   },
   {
    "duration": 12,
    "start_time": "2021-12-10T21:34:38.470Z"
   },
   {
    "duration": 11,
    "start_time": "2021-12-10T21:34:38.653Z"
   },
   {
    "duration": 11,
    "start_time": "2021-12-10T21:34:38.859Z"
   },
   {
    "duration": 12,
    "start_time": "2021-12-10T21:34:39.022Z"
   },
   {
    "duration": 8,
    "start_time": "2021-12-10T21:34:39.221Z"
   },
   {
    "duration": 25,
    "start_time": "2021-12-10T21:34:39.810Z"
   },
   {
    "duration": 20,
    "start_time": "2021-12-10T21:34:39.978Z"
   },
   {
    "duration": 17,
    "start_time": "2021-12-10T21:34:40.164Z"
   },
   {
    "duration": 24,
    "start_time": "2021-12-10T21:34:40.364Z"
   },
   {
    "duration": 25,
    "start_time": "2021-12-10T21:34:40.613Z"
   },
   {
    "duration": 24,
    "start_time": "2021-12-10T21:34:40.822Z"
   },
   {
    "duration": 20,
    "start_time": "2021-12-10T21:34:41.203Z"
   },
   {
    "duration": 4,
    "start_time": "2021-12-10T21:34:41.408Z"
   },
   {
    "duration": 13,
    "start_time": "2021-12-10T21:34:41.650Z"
   },
   {
    "duration": 32,
    "start_time": "2021-12-10T21:34:42.013Z"
   },
   {
    "duration": 5,
    "start_time": "2021-12-10T21:34:42.213Z"
   },
   {
    "duration": 11,
    "start_time": "2021-12-10T21:34:42.573Z"
   },
   {
    "duration": 20,
    "start_time": "2021-12-10T21:34:42.783Z"
   },
   {
    "duration": 4,
    "start_time": "2021-12-10T21:34:42.963Z"
   },
   {
    "duration": 10,
    "start_time": "2021-12-10T21:34:43.184Z"
   },
   {
    "duration": 4,
    "start_time": "2021-12-10T21:34:43.613Z"
   },
   {
    "duration": 4,
    "start_time": "2021-12-10T21:34:43.831Z"
   },
   {
    "duration": 19,
    "start_time": "2021-12-10T21:34:44.041Z"
   },
   {
    "duration": 15,
    "start_time": "2021-12-10T21:34:44.203Z"
   },
   {
    "duration": 15,
    "start_time": "2021-12-10T21:34:44.605Z"
   },
   {
    "duration": 5,
    "start_time": "2021-12-10T21:34:44.813Z"
   },
   {
    "duration": 12,
    "start_time": "2021-12-10T21:34:45.004Z"
   },
   {
    "duration": 4,
    "start_time": "2021-12-10T21:34:45.184Z"
   },
   {
    "duration": 12,
    "start_time": "2021-12-10T21:34:45.393Z"
   },
   {
    "duration": 15,
    "start_time": "2021-12-10T21:34:45.592Z"
   },
   {
    "duration": 8,
    "start_time": "2021-12-10T21:34:46.235Z"
   },
   {
    "duration": 86,
    "start_time": "2021-12-10T21:34:46.594Z"
   },
   {
    "duration": 15,
    "start_time": "2021-12-10T21:34:47.369Z"
   },
   {
    "duration": 312,
    "start_time": "2021-12-10T21:34:48.002Z"
   },
   {
    "duration": 11,
    "start_time": "2021-12-10T21:34:48.453Z"
   },
   {
    "duration": 297,
    "start_time": "2021-12-10T21:34:48.873Z"
   },
   {
    "duration": 9,
    "start_time": "2021-12-10T21:34:49.600Z"
   },
   {
    "duration": 39,
    "start_time": "2021-12-10T21:34:50.022Z"
   },
   {
    "duration": 15,
    "start_time": "2021-12-10T21:34:50.493Z"
   },
   {
    "duration": 11,
    "start_time": "2021-12-10T21:34:50.781Z"
   },
   {
    "duration": 288,
    "start_time": "2021-12-10T21:34:51.137Z"
   },
   {
    "duration": 283,
    "start_time": "2021-12-10T21:34:51.563Z"
   },
   {
    "duration": 11,
    "start_time": "2021-12-10T21:34:52.202Z"
   },
   {
    "duration": 280,
    "start_time": "2021-12-10T21:34:52.803Z"
   },
   {
    "duration": 16,
    "start_time": "2021-12-10T21:34:54.103Z"
   },
   {
    "duration": 9,
    "start_time": "2021-12-10T21:34:54.504Z"
   },
   {
    "duration": 8,
    "start_time": "2021-12-10T21:34:54.703Z"
   },
   {
    "duration": 3,
    "start_time": "2021-12-10T21:34:55.113Z"
   },
   {
    "duration": 5,
    "start_time": "2021-12-10T21:34:55.554Z"
   },
   {
    "duration": 6,
    "start_time": "2021-12-10T21:34:55.773Z"
   },
   {
    "duration": 5,
    "start_time": "2021-12-10T21:34:55.973Z"
   },
   {
    "duration": 8,
    "start_time": "2021-12-10T21:34:56.523Z"
   },
   {
    "duration": 7,
    "start_time": "2021-12-10T21:34:56.743Z"
   },
   {
    "duration": 5,
    "start_time": "2021-12-10T21:34:57.170Z"
   },
   {
    "duration": 5,
    "start_time": "2021-12-10T21:34:58.273Z"
   },
   {
    "duration": 10,
    "start_time": "2021-12-10T21:34:58.433Z"
   },
   {
    "duration": 18,
    "start_time": "2021-12-10T21:34:58.771Z"
   },
   {
    "duration": 8,
    "start_time": "2021-12-10T21:34:59.824Z"
   },
   {
    "duration": 8,
    "start_time": "2021-12-10T21:35:00.682Z"
   },
   {
    "duration": 10,
    "start_time": "2021-12-10T21:35:00.843Z"
   },
   {
    "duration": 9,
    "start_time": "2021-12-10T21:35:01.843Z"
   },
   {
    "duration": 5,
    "start_time": "2021-12-10T21:35:01.983Z"
   },
   {
    "duration": 5,
    "start_time": "2021-12-10T21:35:02.191Z"
   },
   {
    "duration": 6,
    "start_time": "2021-12-10T21:35:02.393Z"
   },
   {
    "duration": 7,
    "start_time": "2021-12-10T21:35:02.622Z"
   },
   {
    "duration": 5,
    "start_time": "2021-12-10T21:35:02.993Z"
   },
   {
    "duration": 6,
    "start_time": "2021-12-10T21:35:04.963Z"
   },
   {
    "duration": 5,
    "start_time": "2021-12-10T21:35:05.079Z"
   },
   {
    "duration": 24,
    "start_time": "2021-12-10T21:35:08.008Z"
   },
   {
    "duration": 10,
    "start_time": "2021-12-10T21:35:08.035Z"
   },
   {
    "duration": 38,
    "start_time": "2021-12-10T21:35:08.049Z"
   },
   {
    "duration": 20,
    "start_time": "2021-12-10T21:35:08.091Z"
   },
   {
    "duration": 691,
    "start_time": "2021-12-10T21:35:08.113Z"
   },
   {
    "duration": 72092,
    "start_time": "2021-12-11T09:54:27.346Z"
   },
   {
    "duration": 1271,
    "start_time": "2021-12-11T09:55:39.440Z"
   },
   {
    "duration": 572,
    "start_time": "2021-12-11T09:55:40.712Z"
   },
   {
    "duration": 299,
    "start_time": "2021-12-11T09:55:41.286Z"
   },
   {
    "duration": 208,
    "start_time": "2021-12-11T09:55:41.587Z"
   },
   {
    "duration": 89,
    "start_time": "2021-12-11T09:55:41.796Z"
   },
   {
    "duration": 112,
    "start_time": "2021-12-11T09:55:41.887Z"
   },
   {
    "duration": 11,
    "start_time": "2021-12-11T09:55:42.002Z"
   },
   {
    "duration": 23,
    "start_time": "2021-12-11T09:55:42.015Z"
   },
   {
    "duration": 47,
    "start_time": "2021-12-11T09:55:42.039Z"
   },
   {
    "duration": 22,
    "start_time": "2021-12-11T09:55:42.088Z"
   },
   {
    "duration": 56409,
    "start_time": "2021-12-11T09:55:42.111Z"
   },
   {
    "duration": 8,
    "start_time": "2021-12-11T09:56:38.521Z"
   },
   {
    "duration": 32,
    "start_time": "2021-12-11T09:56:38.531Z"
   },
   {
    "duration": 19,
    "start_time": "2021-12-11T09:56:38.565Z"
   },
   {
    "duration": 196,
    "start_time": "2021-12-11T09:56:38.585Z"
   },
   {
    "duration": 27,
    "start_time": "2021-12-11T09:56:38.783Z"
   },
   {
    "duration": 7,
    "start_time": "2021-12-11T09:56:38.811Z"
   },
   {
    "duration": 17,
    "start_time": "2021-12-11T09:56:38.819Z"
   },
   {
    "duration": 33,
    "start_time": "2021-12-11T09:56:38.838Z"
   },
   {
    "duration": 9,
    "start_time": "2021-12-11T09:56:38.872Z"
   },
   {
    "duration": 10,
    "start_time": "2021-12-11T09:56:38.883Z"
   },
   {
    "duration": 24,
    "start_time": "2021-12-11T09:56:38.897Z"
   },
   {
    "duration": 10,
    "start_time": "2021-12-11T09:56:38.924Z"
   },
   {
    "duration": 9,
    "start_time": "2021-12-11T09:56:38.964Z"
   },
   {
    "duration": 19,
    "start_time": "2021-12-11T09:56:38.974Z"
   },
   {
    "duration": 25,
    "start_time": "2021-12-11T09:56:38.994Z"
   },
   {
    "duration": 18,
    "start_time": "2021-12-11T09:56:39.020Z"
   },
   {
    "duration": 31,
    "start_time": "2021-12-11T09:56:39.040Z"
   },
   {
    "duration": 13,
    "start_time": "2021-12-11T09:56:39.073Z"
   },
   {
    "duration": 12,
    "start_time": "2021-12-11T09:56:39.088Z"
   },
   {
    "duration": 4,
    "start_time": "2021-12-11T09:56:39.101Z"
   },
   {
    "duration": 9,
    "start_time": "2021-12-11T09:56:39.107Z"
   },
   {
    "duration": 8,
    "start_time": "2021-12-11T09:56:39.117Z"
   },
   {
    "duration": 10,
    "start_time": "2021-12-11T09:56:39.127Z"
   },
   {
    "duration": 24,
    "start_time": "2021-12-11T09:56:39.139Z"
   },
   {
    "duration": 15,
    "start_time": "2021-12-11T09:56:39.165Z"
   },
   {
    "duration": 11,
    "start_time": "2021-12-11T09:56:39.182Z"
   },
   {
    "duration": 11,
    "start_time": "2021-12-11T09:56:39.195Z"
   },
   {
    "duration": 9,
    "start_time": "2021-12-11T09:56:39.208Z"
   },
   {
    "duration": 14,
    "start_time": "2021-12-11T09:56:39.219Z"
   },
   {
    "duration": 15,
    "start_time": "2021-12-11T09:56:39.235Z"
   },
   {
    "duration": 10,
    "start_time": "2021-12-11T09:56:39.252Z"
   },
   {
    "duration": 21,
    "start_time": "2021-12-11T09:56:39.264Z"
   },
   {
    "duration": 18,
    "start_time": "2021-12-11T09:56:39.287Z"
   },
   {
    "duration": 20,
    "start_time": "2021-12-11T09:56:39.307Z"
   },
   {
    "duration": 13,
    "start_time": "2021-12-11T09:56:39.329Z"
   },
   {
    "duration": 180,
    "start_time": "2021-12-11T09:56:39.344Z"
   },
   {
    "duration": 10,
    "start_time": "2021-12-11T09:56:39.526Z"
   },
   {
    "duration": 8,
    "start_time": "2021-12-11T09:56:39.537Z"
   },
   {
    "duration": 8,
    "start_time": "2021-12-11T09:56:39.563Z"
   },
   {
    "duration": 13,
    "start_time": "2021-12-11T09:56:39.573Z"
   },
   {
    "duration": 11,
    "start_time": "2021-12-11T09:56:39.588Z"
   },
   {
    "duration": 93,
    "start_time": "2021-12-11T09:56:39.601Z"
   },
   {
    "duration": 14,
    "start_time": "2021-12-11T09:56:39.695Z"
   },
   {
    "duration": 10,
    "start_time": "2021-12-11T09:56:39.711Z"
   },
   {
    "duration": 8,
    "start_time": "2021-12-11T09:56:39.722Z"
   },
   {
    "duration": 31,
    "start_time": "2021-12-11T09:56:39.732Z"
   },
   {
    "duration": 13,
    "start_time": "2021-12-11T09:56:39.765Z"
   },
   {
    "duration": 11,
    "start_time": "2021-12-11T09:56:39.779Z"
   },
   {
    "duration": 18,
    "start_time": "2021-12-11T09:56:39.791Z"
   },
   {
    "duration": 21,
    "start_time": "2021-12-11T09:56:39.812Z"
   },
   {
    "duration": 39,
    "start_time": "2021-12-11T09:56:39.835Z"
   },
   {
    "duration": 13,
    "start_time": "2021-12-11T09:56:39.876Z"
   },
   {
    "duration": 4,
    "start_time": "2021-12-11T09:56:39.890Z"
   },
   {
    "duration": 12,
    "start_time": "2021-12-11T09:56:39.895Z"
   },
   {
    "duration": 28,
    "start_time": "2021-12-11T09:56:39.908Z"
   },
   {
    "duration": 21,
    "start_time": "2021-12-11T09:56:39.942Z"
   },
   {
    "duration": 6,
    "start_time": "2021-12-11T09:56:39.966Z"
   },
   {
    "duration": 15,
    "start_time": "2021-12-11T09:56:39.974Z"
   },
   {
    "duration": 2,
    "start_time": "2021-12-11T09:56:39.991Z"
   },
   {
    "duration": 21,
    "start_time": "2021-12-11T09:56:39.995Z"
   },
   {
    "duration": 14,
    "start_time": "2021-12-11T09:56:40.018Z"
   },
   {
    "duration": 10,
    "start_time": "2021-12-11T09:56:40.034Z"
   },
   {
    "duration": 18,
    "start_time": "2021-12-11T09:56:40.046Z"
   },
   {
    "duration": 9,
    "start_time": "2021-12-11T09:56:40.066Z"
   },
   {
    "duration": 12,
    "start_time": "2021-12-11T09:56:40.076Z"
   },
   {
    "duration": 9,
    "start_time": "2021-12-11T09:56:40.090Z"
   },
   {
    "duration": 12,
    "start_time": "2021-12-11T09:56:40.101Z"
   },
   {
    "duration": 6,
    "start_time": "2021-12-11T09:56:40.115Z"
   },
   {
    "duration": 13,
    "start_time": "2021-12-11T09:56:40.122Z"
   },
   {
    "duration": 12,
    "start_time": "2021-12-11T09:56:40.136Z"
   },
   {
    "duration": 13,
    "start_time": "2021-12-11T09:56:40.150Z"
   },
   {
    "duration": 50,
    "start_time": "2021-12-11T09:56:40.165Z"
   },
   {
    "duration": 8,
    "start_time": "2021-12-11T09:56:40.217Z"
   },
   {
    "duration": 185,
    "start_time": "2021-12-11T09:56:40.226Z"
   },
   {
    "duration": 7,
    "start_time": "2021-12-11T09:56:40.413Z"
   },
   {
    "duration": 182,
    "start_time": "2021-12-11T09:56:40.422Z"
   },
   {
    "duration": 7,
    "start_time": "2021-12-11T09:56:40.605Z"
   },
   {
    "duration": 25,
    "start_time": "2021-12-11T09:56:40.613Z"
   },
   {
    "duration": 25,
    "start_time": "2021-12-11T09:56:40.639Z"
   },
   {
    "duration": 10,
    "start_time": "2021-12-11T09:56:40.666Z"
   },
   {
    "duration": 178,
    "start_time": "2021-12-11T09:56:40.678Z"
   },
   {
    "duration": 167,
    "start_time": "2021-12-11T09:56:40.857Z"
   },
   {
    "duration": 9,
    "start_time": "2021-12-11T09:56:41.027Z"
   },
   {
    "duration": 177,
    "start_time": "2021-12-11T09:56:41.038Z"
   },
   {
    "duration": 10,
    "start_time": "2021-12-11T09:56:41.218Z"
   },
   {
    "duration": 8,
    "start_time": "2021-12-11T09:56:41.230Z"
   },
   {
    "duration": 6,
    "start_time": "2021-12-11T09:56:41.239Z"
   },
   {
    "duration": 2,
    "start_time": "2021-12-11T09:56:41.264Z"
   },
   {
    "duration": 417,
    "start_time": "2021-12-11T09:56:41.268Z"
   },
   {
    "duration": -1697,
    "start_time": "2021-12-11T09:56:43.385Z"
   },
   {
    "duration": -1703,
    "start_time": "2021-12-11T09:56:43.391Z"
   },
   {
    "duration": -1706,
    "start_time": "2021-12-11T09:56:43.396Z"
   },
   {
    "duration": -1714,
    "start_time": "2021-12-11T09:56:43.405Z"
   },
   {
    "duration": -1718,
    "start_time": "2021-12-11T09:56:43.410Z"
   },
   {
    "duration": -1721,
    "start_time": "2021-12-11T09:56:43.415Z"
   },
   {
    "duration": -1728,
    "start_time": "2021-12-11T09:56:43.424Z"
   },
   {
    "duration": -1732,
    "start_time": "2021-12-11T09:56:43.429Z"
   },
   {
    "duration": -1735,
    "start_time": "2021-12-11T09:56:43.433Z"
   },
   {
    "duration": -1738,
    "start_time": "2021-12-11T09:56:43.438Z"
   },
   {
    "duration": -1741,
    "start_time": "2021-12-11T09:56:43.442Z"
   },
   {
    "duration": -1744,
    "start_time": "2021-12-11T09:56:43.447Z"
   },
   {
    "duration": -1747,
    "start_time": "2021-12-11T09:56:43.451Z"
   },
   {
    "duration": -1751,
    "start_time": "2021-12-11T09:56:43.456Z"
   },
   {
    "duration": -1753,
    "start_time": "2021-12-11T09:56:43.460Z"
   },
   {
    "duration": -1757,
    "start_time": "2021-12-11T09:56:43.465Z"
   },
   {
    "duration": -1760,
    "start_time": "2021-12-11T09:56:43.469Z"
   },
   {
    "duration": -1763,
    "start_time": "2021-12-11T09:56:43.474Z"
   },
   {
    "duration": -1766,
    "start_time": "2021-12-11T09:56:43.478Z"
   },
   {
    "duration": -1768,
    "start_time": "2021-12-11T09:56:43.482Z"
   },
   {
    "duration": -1793,
    "start_time": "2021-12-11T09:56:43.508Z"
   },
   {
    "duration": -1803,
    "start_time": "2021-12-11T09:56:43.519Z"
   },
   {
    "duration": -1813,
    "start_time": "2021-12-11T09:56:43.531Z"
   },
   {
    "duration": -1818,
    "start_time": "2021-12-11T09:56:43.537Z"
   },
   {
    "duration": 5,
    "start_time": "2021-12-11T09:58:13.892Z"
   },
   {
    "duration": 224,
    "start_time": "2021-12-11T09:58:21.438Z"
   },
   {
    "duration": 257,
    "start_time": "2021-12-11T09:58:24.838Z"
   },
   {
    "duration": 229,
    "start_time": "2021-12-11T09:58:41.964Z"
   },
   {
    "duration": 239,
    "start_time": "2021-12-11T09:58:49.958Z"
   },
   {
    "duration": 12,
    "start_time": "2021-12-11T10:05:33.805Z"
   },
   {
    "duration": 84,
    "start_time": "2021-12-11T10:20:21.966Z"
   },
   {
    "duration": 342,
    "start_time": "2021-12-11T14:21:32.835Z"
   },
   {
    "duration": 291,
    "start_time": "2021-12-11T14:21:33.345Z"
   },
   {
    "duration": 12068,
    "start_time": "2021-12-11T14:21:55.356Z"
   },
   {
    "duration": 1602,
    "start_time": "2021-12-11T14:22:07.428Z"
   },
   {
    "duration": 3322,
    "start_time": "2021-12-11T14:29:45.575Z"
   },
   {
    "duration": 4,
    "start_time": "2021-12-11T14:29:48.901Z"
   },
   {
    "duration": 231,
    "start_time": "2021-12-11T14:29:48.908Z"
   },
   {
    "duration": 216,
    "start_time": "2021-12-11T14:29:49.142Z"
   },
   {
    "duration": 180,
    "start_time": "2021-12-11T14:29:49.360Z"
   },
   {
    "duration": 103,
    "start_time": "2021-12-11T14:29:49.645Z"
   },
   {
    "duration": 163,
    "start_time": "2021-12-11T14:29:49.809Z"
   },
   {
    "duration": 18,
    "start_time": "2021-12-11T14:29:50.154Z"
   },
   {
    "duration": 26,
    "start_time": "2021-12-11T14:29:50.475Z"
   },
   {
    "duration": 44,
    "start_time": "2021-12-11T14:29:51.012Z"
   },
   {
    "duration": 28,
    "start_time": "2021-12-11T14:29:51.159Z"
   },
   {
    "duration": 825,
    "start_time": "2021-12-11T14:29:51.554Z"
   },
   {
    "duration": 11,
    "start_time": "2021-12-11T14:29:52.382Z"
   },
   {
    "duration": 40,
    "start_time": "2021-12-11T14:29:52.396Z"
   },
   {
    "duration": 24,
    "start_time": "2021-12-11T14:29:52.499Z"
   },
   {
    "duration": 285,
    "start_time": "2021-12-11T14:29:53.056Z"
   },
   {
    "duration": 36,
    "start_time": "2021-12-11T14:29:53.504Z"
   },
   {
    "duration": 11,
    "start_time": "2021-12-11T14:29:53.693Z"
   },
   {
    "duration": 20,
    "start_time": "2021-12-11T14:29:53.875Z"
   },
   {
    "duration": 16,
    "start_time": "2021-12-11T14:29:54.232Z"
   },
   {
    "duration": 13,
    "start_time": "2021-12-11T14:29:54.405Z"
   },
   {
    "duration": 14,
    "start_time": "2021-12-11T14:29:54.595Z"
   },
   {
    "duration": 43,
    "start_time": "2021-12-11T14:29:54.856Z"
   },
   {
    "duration": 15,
    "start_time": "2021-12-11T14:29:54.985Z"
   },
   {
    "duration": 15,
    "start_time": "2021-12-11T14:29:55.365Z"
   },
   {
    "duration": 22,
    "start_time": "2021-12-11T14:29:55.747Z"
   },
   {
    "duration": 22,
    "start_time": "2021-12-11T14:29:56.005Z"
   },
   {
    "duration": 19,
    "start_time": "2021-12-11T14:29:56.213Z"
   },
   {
    "duration": 26,
    "start_time": "2021-12-11T14:29:58.232Z"
   },
   {
    "duration": 20,
    "start_time": "2021-12-11T14:29:58.261Z"
   },
   {
    "duration": 17,
    "start_time": "2021-12-11T14:29:58.301Z"
   },
   {
    "duration": 5,
    "start_time": "2021-12-11T14:29:58.555Z"
   },
   {
    "duration": 5,
    "start_time": "2021-12-11T14:29:58.974Z"
   },
   {
    "duration": 3767,
    "start_time": "2021-12-11T14:38:03.023Z"
   },
   {
    "duration": 5,
    "start_time": "2021-12-11T14:38:06.793Z"
   },
   {
    "duration": 216,
    "start_time": "2021-12-11T14:38:10.565Z"
   },
   {
    "duration": 210,
    "start_time": "2021-12-11T14:38:10.834Z"
   },
   {
    "duration": 153,
    "start_time": "2021-12-11T14:38:11.046Z"
   },
   {
    "duration": 114,
    "start_time": "2021-12-11T14:38:11.203Z"
   },
   {
    "duration": 295,
    "start_time": "2021-12-11T14:38:11.535Z"
   },
   {
    "duration": 12,
    "start_time": "2021-12-11T14:38:11.913Z"
   },
   {
    "duration": 35,
    "start_time": "2021-12-11T14:38:12.077Z"
   },
   {
    "duration": 48,
    "start_time": "2021-12-11T14:38:12.465Z"
   },
   {
    "duration": 31,
    "start_time": "2021-12-11T14:38:12.700Z"
   },
   {
    "duration": 300,
    "start_time": "2021-12-11T14:38:13.023Z"
   },
   {
    "duration": 12,
    "start_time": "2021-12-11T14:38:13.568Z"
   },
   {
    "duration": 22,
    "start_time": "2021-12-11T14:38:13.806Z"
   },
   {
    "duration": 25,
    "start_time": "2021-12-11T14:38:14.166Z"
   },
   {
    "duration": 371,
    "start_time": "2021-12-11T14:38:14.525Z"
   },
   {
    "duration": 37,
    "start_time": "2021-12-11T14:38:14.914Z"
   },
   {
    "duration": 11,
    "start_time": "2021-12-11T14:38:15.082Z"
   },
   {
    "duration": 19,
    "start_time": "2021-12-11T14:38:15.275Z"
   },
   {
    "duration": 15,
    "start_time": "2021-12-11T14:38:15.623Z"
   },
   {
    "duration": 12,
    "start_time": "2021-12-11T14:38:15.887Z"
   },
   {
    "duration": 15,
    "start_time": "2021-12-11T14:38:16.048Z"
   },
   {
    "duration": 38,
    "start_time": "2021-12-11T14:38:16.224Z"
   },
   {
    "duration": 14,
    "start_time": "2021-12-11T14:38:16.408Z"
   },
   {
    "duration": 14,
    "start_time": "2021-12-11T14:38:16.566Z"
   },
   {
    "duration": 21,
    "start_time": "2021-12-11T14:38:16.951Z"
   },
   {
    "duration": 22,
    "start_time": "2021-12-11T14:38:17.141Z"
   },
   {
    "duration": 19,
    "start_time": "2021-12-11T14:38:17.314Z"
   },
   {
    "duration": 26,
    "start_time": "2021-12-11T14:38:18.109Z"
   },
   {
    "duration": 20,
    "start_time": "2021-12-11T14:38:18.300Z"
   },
   {
    "duration": 16,
    "start_time": "2021-12-11T14:38:18.843Z"
   },
   {
    "duration": 13,
    "start_time": "2021-12-11T14:38:18.862Z"
   },
   {
    "duration": 6,
    "start_time": "2021-12-11T14:38:19.117Z"
   },
   {
    "duration": 5,
    "start_time": "2021-12-11T14:38:19.476Z"
   },
   {
    "duration": 6,
    "start_time": "2021-12-11T14:38:19.678Z"
   },
   {
    "duration": 5,
    "start_time": "2021-12-11T14:38:20.317Z"
   },
   {
    "duration": 5,
    "start_time": "2021-12-11T14:38:20.551Z"
   },
   {
    "duration": 11,
    "start_time": "2021-12-11T14:38:20.751Z"
   },
   {
    "duration": 6,
    "start_time": "2021-12-11T14:38:20.994Z"
   },
   {
    "duration": 8,
    "start_time": "2021-12-11T14:38:21.167Z"
   },
   {
    "duration": 6,
    "start_time": "2021-12-11T14:38:21.361Z"
   },
   {
    "duration": 8,
    "start_time": "2021-12-11T14:38:21.641Z"
   },
   {
    "duration": 5,
    "start_time": "2021-12-11T14:38:22.001Z"
   },
   {
    "duration": 19,
    "start_time": "2021-12-11T14:38:22.197Z"
   },
   {
    "duration": 28,
    "start_time": "2021-12-11T14:38:22.432Z"
   },
   {
    "duration": 28,
    "start_time": "2021-12-11T14:38:22.803Z"
   },
   {
    "duration": 22,
    "start_time": "2021-12-11T14:38:23.250Z"
   },
   {
    "duration": 277,
    "start_time": "2021-12-11T14:38:23.616Z"
   },
   {
    "duration": 17,
    "start_time": "2021-12-11T14:38:23.996Z"
   },
   {
    "duration": 13,
    "start_time": "2021-12-11T14:38:24.419Z"
   },
   {
    "duration": 13,
    "start_time": "2021-12-11T14:38:24.864Z"
   },
   {
    "duration": 18,
    "start_time": "2021-12-11T14:38:25.511Z"
   },
   {
    "duration": 12,
    "start_time": "2021-12-11T14:38:25.706Z"
   },
   {
    "duration": 11,
    "start_time": "2021-12-11T14:38:25.962Z"
   },
   {
    "duration": 12,
    "start_time": "2021-12-11T14:38:26.142Z"
   },
   {
    "duration": 12,
    "start_time": "2021-12-11T14:38:26.413Z"
   },
   {
    "duration": 10,
    "start_time": "2021-12-11T14:38:26.600Z"
   },
   {
    "duration": 24,
    "start_time": "2021-12-11T14:38:27.152Z"
   },
   {
    "duration": 19,
    "start_time": "2021-12-11T14:38:27.385Z"
   },
   {
    "duration": 16,
    "start_time": "2021-12-11T14:38:27.589Z"
   },
   {
    "duration": 25,
    "start_time": "2021-12-11T14:38:27.831Z"
   },
   {
    "duration": 23,
    "start_time": "2021-12-11T14:38:28.015Z"
   },
   {
    "duration": 23,
    "start_time": "2021-12-11T14:38:28.229Z"
   },
   {
    "duration": 18,
    "start_time": "2021-12-11T14:38:28.653Z"
   },
   {
    "duration": 4,
    "start_time": "2021-12-11T14:38:28.864Z"
   },
   {
    "duration": 10,
    "start_time": "2021-12-11T14:38:29.117Z"
   },
   {
    "duration": 25,
    "start_time": "2021-12-11T14:38:29.294Z"
   },
   {
    "duration": 4,
    "start_time": "2021-12-11T14:38:29.560Z"
   },
   {
    "duration": 11,
    "start_time": "2021-12-11T14:38:30.107Z"
   },
   {
    "duration": 21,
    "start_time": "2021-12-11T14:38:30.121Z"
   },
   {
    "duration": 4,
    "start_time": "2021-12-11T14:38:30.205Z"
   },
   {
    "duration": 10,
    "start_time": "2021-12-11T14:38:30.435Z"
   },
   {
    "duration": 4,
    "start_time": "2021-12-11T14:38:30.894Z"
   },
   {
    "duration": 4,
    "start_time": "2021-12-11T14:38:31.064Z"
   },
   {
    "duration": 18,
    "start_time": "2021-12-11T14:38:31.344Z"
   },
   {
    "duration": 13,
    "start_time": "2021-12-11T14:38:31.733Z"
   },
   {
    "duration": 13,
    "start_time": "2021-12-11T14:38:32.170Z"
   },
   {
    "duration": 5,
    "start_time": "2021-12-11T14:38:32.366Z"
   },
   {
    "duration": 9,
    "start_time": "2021-12-11T14:38:32.622Z"
   },
   {
    "duration": 4,
    "start_time": "2021-12-11T14:38:32.825Z"
   },
   {
    "duration": 10,
    "start_time": "2021-12-11T14:38:33.058Z"
   },
   {
    "duration": 14,
    "start_time": "2021-12-11T14:38:33.270Z"
   },
   {
    "duration": 6,
    "start_time": "2021-12-11T14:38:33.965Z"
   },
   {
    "duration": 78,
    "start_time": "2021-12-11T14:38:34.449Z"
   },
   {
    "duration": 10,
    "start_time": "2021-12-11T14:38:35.654Z"
   },
   {
    "duration": 279,
    "start_time": "2021-12-11T14:38:36.322Z"
   },
   {
    "duration": 11,
    "start_time": "2021-12-11T14:38:36.744Z"
   },
   {
    "duration": 284,
    "start_time": "2021-12-11T14:38:37.206Z"
   },
   {
    "duration": 9,
    "start_time": "2021-12-11T14:38:37.964Z"
   },
   {
    "duration": 36,
    "start_time": "2021-12-11T14:38:38.091Z"
   },
   {
    "duration": 13,
    "start_time": "2021-12-11T14:38:38.554Z"
   },
   {
    "duration": 10,
    "start_time": "2021-12-11T14:38:38.749Z"
   },
   {
    "duration": 298,
    "start_time": "2021-12-11T14:38:39.191Z"
   },
   {
    "duration": 235,
    "start_time": "2021-12-11T14:38:39.633Z"
   },
   {
    "duration": 11,
    "start_time": "2021-12-11T14:38:40.360Z"
   },
   {
    "duration": 275,
    "start_time": "2021-12-11T14:38:40.840Z"
   },
   {
    "duration": 14,
    "start_time": "2021-12-11T14:38:42.251Z"
   },
   {
    "duration": 9,
    "start_time": "2021-12-11T14:38:42.693Z"
   },
   {
    "duration": 6,
    "start_time": "2021-12-11T14:38:42.908Z"
   },
   {
    "duration": 3,
    "start_time": "2021-12-11T14:38:43.353Z"
   },
   {
    "duration": 120,
    "start_time": "2021-12-11T14:38:43.856Z"
   },
   {
    "duration": 450,
    "start_time": "2021-12-11T14:38:44.082Z"
   },
   {
    "duration": 662,
    "start_time": "2021-12-11T14:38:44.857Z"
   },
   {
    "duration": -424,
    "start_time": "2021-12-11T14:38:45.947Z"
   },
   {
    "duration": -429,
    "start_time": "2021-12-11T14:38:45.953Z"
   },
   {
    "duration": -432,
    "start_time": "2021-12-11T14:38:45.957Z"
   },
   {
    "duration": 290,
    "start_time": "2021-12-11T14:38:45.680Z"
   },
   {
    "duration": 5,
    "start_time": "2021-12-11T14:39:04.377Z"
   },
   {
    "duration": 11,
    "start_time": "2021-12-11T14:39:04.550Z"
   },
   {
    "duration": 25,
    "start_time": "2021-12-11T14:39:04.717Z"
   },
   {
    "duration": 9,
    "start_time": "2021-12-11T14:39:05.844Z"
   },
   {
    "duration": 9,
    "start_time": "2021-12-11T14:39:09.872Z"
   },
   {
    "duration": 9,
    "start_time": "2021-12-11T14:39:10.418Z"
   },
   {
    "duration": 283,
    "start_time": "2021-12-11T14:39:11.024Z"
   },
   {
    "duration": -138,
    "start_time": "2021-12-11T14:39:11.449Z"
   },
   {
    "duration": 280,
    "start_time": "2021-12-11T14:39:13.395Z"
   },
   {
    "duration": -291,
    "start_time": "2021-12-11T14:39:13.969Z"
   },
   {
    "duration": 328,
    "start_time": "2021-12-11T14:39:13.767Z"
   },
   {
    "duration": 359,
    "start_time": "2021-12-11T14:39:14.209Z"
   },
   {
    "duration": 6,
    "start_time": "2021-12-11T14:39:16.014Z"
   },
   {
    "duration": 6,
    "start_time": "2021-12-11T14:39:16.259Z"
   },
   {
    "duration": 24,
    "start_time": "2021-12-11T14:39:16.515Z"
   },
   {
    "duration": 8,
    "start_time": "2021-12-11T14:39:17.325Z"
   },
   {
    "duration": 27,
    "start_time": "2021-12-11T14:39:17.510Z"
   },
   {
    "duration": 24,
    "start_time": "2021-12-11T14:39:18.059Z"
   },
   {
    "duration": 670,
    "start_time": "2021-12-11T14:39:18.243Z"
   },
   {
    "duration": 264,
    "start_time": "2021-12-11T14:44:22.246Z"
   },
   {
    "duration": 273,
    "start_time": "2021-12-11T14:44:22.879Z"
   },
   {
    "duration": 25,
    "start_time": "2021-12-11T15:58:07.395Z"
   },
   {
    "duration": 5,
    "start_time": "2021-12-11T15:58:09.735Z"
   },
   {
    "duration": 10,
    "start_time": "2021-12-11T15:58:10.515Z"
   },
   {
    "duration": 17,
    "start_time": "2021-12-11T15:58:24.315Z"
   },
   {
    "duration": 4,
    "start_time": "2021-12-11T15:58:25.218Z"
   },
   {
    "duration": 10,
    "start_time": "2021-12-11T15:58:25.264Z"
   },
   {
    "duration": 4,
    "start_time": "2021-12-11T15:58:26.425Z"
   },
   {
    "duration": 4,
    "start_time": "2021-12-11T15:58:26.956Z"
   },
   {
    "duration": 21,
    "start_time": "2021-12-11T15:58:29.116Z"
   },
   {
    "duration": 14,
    "start_time": "2021-12-11T15:58:32.486Z"
   },
   {
    "duration": 15,
    "start_time": "2021-12-11T15:58:52.853Z"
   },
   {
    "duration": 5,
    "start_time": "2021-12-11T15:58:53.167Z"
   },
   {
    "duration": 9,
    "start_time": "2021-12-11T15:58:53.574Z"
   },
   {
    "duration": 3,
    "start_time": "2021-12-11T15:58:54.119Z"
   },
   {
    "duration": 10,
    "start_time": "2021-12-11T15:58:54.835Z"
   },
   {
    "duration": 13,
    "start_time": "2021-12-11T15:58:55.775Z"
   },
   {
    "duration": 7,
    "start_time": "2021-12-11T15:59:00.638Z"
   },
   {
    "duration": 80,
    "start_time": "2021-12-11T15:59:06.326Z"
   },
   {
    "duration": 6897,
    "start_time": "2021-12-11T21:08:42.022Z"
   },
   {
    "duration": 1268,
    "start_time": "2021-12-11T21:08:48.922Z"
   },
   {
    "duration": 188,
    "start_time": "2021-12-11T21:08:50.192Z"
   },
   {
    "duration": 165,
    "start_time": "2021-12-11T21:08:50.382Z"
   },
   {
    "duration": 130,
    "start_time": "2021-12-11T21:08:50.549Z"
   },
   {
    "duration": 90,
    "start_time": "2021-12-11T21:08:50.681Z"
   },
   {
    "duration": 104,
    "start_time": "2021-12-11T21:08:50.773Z"
   },
   {
    "duration": 12,
    "start_time": "2021-12-11T21:08:50.879Z"
   },
   {
    "duration": 25,
    "start_time": "2021-12-11T21:08:50.892Z"
   },
   {
    "duration": 32,
    "start_time": "2021-12-11T21:08:52.542Z"
   },
   {
    "duration": 22,
    "start_time": "2021-12-11T21:08:53.110Z"
   },
   {
    "duration": 553,
    "start_time": "2021-12-11T21:08:54.302Z"
   },
   {
    "duration": 8,
    "start_time": "2021-12-11T21:08:55.906Z"
   },
   {
    "duration": 30,
    "start_time": "2021-12-11T21:08:56.452Z"
   },
   {
    "duration": 18,
    "start_time": "2021-12-11T21:09:07.444Z"
   },
   {
    "duration": 211,
    "start_time": "2021-12-11T21:09:11.870Z"
   },
   {
    "duration": 3,
    "start_time": "2021-12-11T21:10:41.179Z"
   },
   {
    "duration": 217,
    "start_time": "2021-12-11T21:10:44.110Z"
   },
   {
    "duration": 160,
    "start_time": "2021-12-11T21:10:44.329Z"
   },
   {
    "duration": 139,
    "start_time": "2021-12-11T21:10:44.491Z"
   },
   {
    "duration": 83,
    "start_time": "2021-12-11T21:10:44.661Z"
   },
   {
    "duration": 98,
    "start_time": "2021-12-11T21:10:44.800Z"
   },
   {
    "duration": 9,
    "start_time": "2021-12-11T21:10:45.682Z"
   },
   {
    "duration": 20,
    "start_time": "2021-12-11T21:10:45.836Z"
   },
   {
    "duration": 32,
    "start_time": "2021-12-11T21:10:46.661Z"
   },
   {
    "duration": 21,
    "start_time": "2021-12-11T21:10:46.825Z"
   },
   {
    "duration": 176,
    "start_time": "2021-12-11T21:10:47.699Z"
   },
   {
    "duration": 8,
    "start_time": "2021-12-11T21:10:49.218Z"
   },
   {
    "duration": 19,
    "start_time": "2021-12-11T21:10:50.558Z"
   },
   {
    "duration": 18,
    "start_time": "2021-12-11T21:10:50.851Z"
   },
   {
    "duration": 251,
    "start_time": "2021-12-11T21:10:51.632Z"
   },
   {
    "duration": 35,
    "start_time": "2021-12-11T21:10:52.382Z"
   },
   {
    "duration": 8,
    "start_time": "2021-12-11T21:10:53.122Z"
   },
   {
    "duration": 17,
    "start_time": "2021-12-11T21:10:53.262Z"
   },
   {
    "duration": 13,
    "start_time": "2021-12-11T21:10:54.032Z"
   },
   {
    "duration": 8,
    "start_time": "2021-12-11T21:10:55.023Z"
   },
   {
    "duration": 9,
    "start_time": "2021-12-11T21:10:55.152Z"
   },
   {
    "duration": 25,
    "start_time": "2021-12-11T21:10:56.181Z"
   },
   {
    "duration": 10,
    "start_time": "2021-12-11T21:10:56.302Z"
   },
   {
    "duration": 10,
    "start_time": "2021-12-11T21:10:57.076Z"
   },
   {
    "duration": 15,
    "start_time": "2021-12-11T21:10:57.872Z"
   },
   {
    "duration": 22,
    "start_time": "2021-12-11T21:10:58.043Z"
   },
   {
    "duration": 12,
    "start_time": "2021-12-11T21:10:59.891Z"
   },
   {
    "duration": 19,
    "start_time": "2021-12-11T21:11:01.978Z"
   },
   {
    "duration": 14,
    "start_time": "2021-12-11T21:11:02.160Z"
   },
   {
    "duration": 11,
    "start_time": "2021-12-11T21:11:02.622Z"
   },
   {
    "duration": 4,
    "start_time": "2021-12-11T21:11:02.763Z"
   },
   {
    "duration": 5,
    "start_time": "2021-12-11T21:11:03.455Z"
   },
   {
    "duration": 4,
    "start_time": "2021-12-11T21:11:04.902Z"
   },
   {
    "duration": 4,
    "start_time": "2021-12-11T21:11:05.552Z"
   },
   {
    "duration": 8534,
    "start_time": "2021-12-12T16:27:37.422Z"
   },
   {
    "duration": 1211,
    "start_time": "2021-12-12T16:27:45.959Z"
   },
   {
    "duration": 3,
    "start_time": "2021-12-12T16:27:49.654Z"
   },
   {
    "duration": 216,
    "start_time": "2021-12-12T16:27:52.375Z"
   },
   {
    "duration": 223,
    "start_time": "2021-12-12T16:27:53.204Z"
   },
   {
    "duration": 187,
    "start_time": "2021-12-12T16:27:53.544Z"
   },
   {
    "duration": 157,
    "start_time": "2021-12-12T16:27:53.735Z"
   },
   {
    "duration": 132,
    "start_time": "2021-12-12T16:27:53.906Z"
   },
   {
    "duration": 11,
    "start_time": "2021-12-12T16:27:54.236Z"
   },
   {
    "duration": 21,
    "start_time": "2021-12-12T16:27:54.404Z"
   },
   {
    "duration": 33,
    "start_time": "2021-12-12T16:27:54.776Z"
   },
   {
    "duration": 22,
    "start_time": "2021-12-12T16:27:54.937Z"
   },
   {
    "duration": 758,
    "start_time": "2021-12-12T16:27:55.296Z"
   },
   {
    "duration": 22,
    "start_time": "2021-12-12T16:27:56.056Z"
   },
   {
    "duration": 35,
    "start_time": "2021-12-12T16:27:56.081Z"
   },
   {
    "duration": 20,
    "start_time": "2021-12-12T16:27:56.196Z"
   },
   {
    "duration": 182,
    "start_time": "2021-12-12T16:27:56.554Z"
   },
   {
    "duration": 32,
    "start_time": "2021-12-12T16:27:57.187Z"
   },
   {
    "duration": 7,
    "start_time": "2021-12-12T16:27:57.336Z"
   },
   {
    "duration": 15,
    "start_time": "2021-12-12T16:27:57.536Z"
   },
   {
    "duration": 16,
    "start_time": "2021-12-12T16:27:57.875Z"
   },
   {
    "duration": 9,
    "start_time": "2021-12-12T16:27:58.046Z"
   },
   {
    "duration": 9,
    "start_time": "2021-12-12T16:27:58.252Z"
   },
   {
    "duration": 25,
    "start_time": "2021-12-12T16:27:58.636Z"
   },
   {
    "duration": 10,
    "start_time": "2021-12-12T16:27:58.806Z"
   },
   {
    "duration": 9,
    "start_time": "2021-12-12T16:27:59.199Z"
   },
   {
    "duration": 16,
    "start_time": "2021-12-12T16:28:00.026Z"
   },
   {
    "duration": 15,
    "start_time": "2021-12-12T16:28:00.581Z"
   },
   {
    "duration": 15,
    "start_time": "2021-12-12T16:28:01.736Z"
   },
   {
    "duration": 20,
    "start_time": "2021-12-12T16:30:06.969Z"
   },
   {
    "duration": 6,
    "start_time": "2021-12-12T16:30:31.416Z"
   },
   {
    "duration": 16,
    "start_time": "2021-12-12T16:31:08.037Z"
   },
   {
    "duration": 13,
    "start_time": "2021-12-12T16:31:19.314Z"
   },
   {
    "duration": 93,
    "start_time": "2021-12-12T16:31:37.577Z"
   },
   {
    "duration": 4,
    "start_time": "2021-12-12T16:32:13.135Z"
   },
   {
    "duration": 5,
    "start_time": "2021-12-12T16:32:35.557Z"
   },
   {
    "duration": 39,
    "start_time": "2021-12-12T16:33:07.064Z"
   },
   {
    "duration": 5,
    "start_time": "2021-12-12T16:35:19.464Z"
   },
   {
    "duration": 4,
    "start_time": "2021-12-12T16:35:33.537Z"
   },
   {
    "duration": 4,
    "start_time": "2021-12-12T16:35:53.168Z"
   },
   {
    "duration": 5,
    "start_time": "2021-12-12T16:36:04.238Z"
   },
   {
    "duration": 7,
    "start_time": "2021-12-12T16:37:47.295Z"
   },
   {
    "duration": 4,
    "start_time": "2021-12-12T16:37:51.542Z"
   },
   {
    "duration": 5,
    "start_time": "2021-12-12T16:38:07.324Z"
   },
   {
    "duration": 7,
    "start_time": "2021-12-12T16:39:31.735Z"
   },
   {
    "duration": 5,
    "start_time": "2021-12-12T16:49:57.453Z"
   },
   {
    "duration": 5,
    "start_time": "2021-12-12T16:50:11.672Z"
   },
   {
    "duration": 3450,
    "start_time": "2021-12-12T17:19:08.229Z"
   },
   {
    "duration": 4,
    "start_time": "2021-12-12T17:19:14.876Z"
   },
   {
    "duration": 282,
    "start_time": "2021-12-12T17:19:15.210Z"
   },
   {
    "duration": 197,
    "start_time": "2021-12-12T17:19:15.532Z"
   },
   {
    "duration": 207,
    "start_time": "2021-12-12T17:19:15.843Z"
   },
   {
    "duration": 147,
    "start_time": "2021-12-12T17:19:16.053Z"
   },
   {
    "duration": 180,
    "start_time": "2021-12-12T17:19:16.213Z"
   },
   {
    "duration": 10,
    "start_time": "2021-12-12T17:19:16.551Z"
   },
   {
    "duration": 21,
    "start_time": "2021-12-12T17:19:16.738Z"
   },
   {
    "duration": 33,
    "start_time": "2021-12-12T17:19:17.098Z"
   },
   {
    "duration": 24,
    "start_time": "2021-12-12T17:19:17.269Z"
   },
   {
    "duration": 199,
    "start_time": "2021-12-12T17:19:17.625Z"
   },
   {
    "duration": 9,
    "start_time": "2021-12-12T17:19:17.960Z"
   },
   {
    "duration": 18,
    "start_time": "2021-12-12T17:19:18.143Z"
   },
   {
    "duration": 21,
    "start_time": "2021-12-12T17:19:18.438Z"
   },
   {
    "duration": 192,
    "start_time": "2021-12-12T17:19:18.755Z"
   },
   {
    "duration": 35,
    "start_time": "2021-12-12T17:19:19.058Z"
   },
   {
    "duration": 8,
    "start_time": "2021-12-12T17:19:19.448Z"
   },
   {
    "duration": 15,
    "start_time": "2021-12-12T17:19:19.600Z"
   },
   {
    "duration": 11,
    "start_time": "2021-12-12T17:19:19.923Z"
   },
   {
    "duration": 9,
    "start_time": "2021-12-12T17:19:20.073Z"
   },
   {
    "duration": 10,
    "start_time": "2021-12-12T17:19:20.237Z"
   },
   {
    "duration": 30,
    "start_time": "2021-12-12T17:19:20.384Z"
   },
   {
    "duration": 10,
    "start_time": "2021-12-12T17:19:22.541Z"
   },
   {
    "duration": 10,
    "start_time": "2021-12-12T17:19:22.698Z"
   },
   {
    "duration": 16,
    "start_time": "2021-12-12T17:19:23.002Z"
   },
   {
    "duration": 16,
    "start_time": "2021-12-12T17:19:24.758Z"
   },
   {
    "duration": 14,
    "start_time": "2021-12-12T17:19:24.889Z"
   },
   {
    "duration": 3,
    "start_time": "2021-12-12T17:19:34.509Z"
   },
   {
    "duration": 43,
    "start_time": "2021-12-12T17:19:36.238Z"
   },
   {
    "duration": 6,
    "start_time": "2021-12-12T17:19:43.788Z"
   },
   {
    "duration": 5,
    "start_time": "2021-12-12T17:19:47.306Z"
   },
   {
    "duration": 17,
    "start_time": "2021-12-12T17:19:55.928Z"
   },
   {
    "duration": 14,
    "start_time": "2021-12-12T17:19:56.669Z"
   },
   {
    "duration": 11,
    "start_time": "2021-12-12T17:19:57.609Z"
   },
   {
    "duration": 3,
    "start_time": "2021-12-12T17:22:55.538Z"
   },
   {
    "duration": 109,
    "start_time": "2021-12-12T17:22:56.469Z"
   },
   {
    "duration": 6,
    "start_time": "2021-12-12T17:22:58.255Z"
   },
   {
    "duration": 4,
    "start_time": "2021-12-12T17:23:03.208Z"
   },
   {
    "duration": 36,
    "start_time": "2021-12-12T17:23:07.809Z"
   },
   {
    "duration": 29,
    "start_time": "2021-12-12T17:23:58.658Z"
   },
   {
    "duration": 4,
    "start_time": "2021-12-12T17:24:21.939Z"
   },
   {
    "duration": 35,
    "start_time": "2021-12-12T17:25:33.092Z"
   },
   {
    "duration": 31,
    "start_time": "2021-12-12T17:25:33.436Z"
   },
   {
    "duration": 5,
    "start_time": "2021-12-12T17:25:33.756Z"
   },
   {
    "duration": 3,
    "start_time": "2021-12-12T17:25:34.388Z"
   },
   {
    "duration": 3,
    "start_time": "2021-12-12T17:25:36.518Z"
   },
   {
    "duration": 14,
    "start_time": "2021-12-12T17:25:37.119Z"
   },
   {
    "duration": 35,
    "start_time": "2021-12-12T17:26:50.588Z"
   },
   {
    "duration": 31,
    "start_time": "2021-12-12T17:26:51.056Z"
   },
   {
    "duration": 5,
    "start_time": "2021-12-12T17:26:51.358Z"
   },
   {
    "duration": 3,
    "start_time": "2021-12-12T17:26:51.515Z"
   },
   {
    "duration": 3,
    "start_time": "2021-12-12T17:26:52.386Z"
   },
   {
    "duration": 14,
    "start_time": "2021-12-12T17:26:53.268Z"
   },
   {
    "duration": 4,
    "start_time": "2021-12-12T17:26:56.328Z"
   },
   {
    "duration": 2,
    "start_time": "2021-12-12T17:26:56.738Z"
   },
   {
    "duration": 8,
    "start_time": "2021-12-12T17:26:58.852Z"
   },
   {
    "duration": 16,
    "start_time": "2021-12-12T17:27:25.698Z"
   },
   {
    "duration": 4,
    "start_time": "2021-12-12T17:30:27.788Z"
   },
   {
    "duration": 3,
    "start_time": "2021-12-12T17:30:54.469Z"
   },
   {
    "duration": 10,
    "start_time": "2021-12-12T17:31:04.946Z"
   },
   {
    "duration": 4,
    "start_time": "2021-12-12T17:31:14.762Z"
   },
   {
    "duration": 10,
    "start_time": "2021-12-12T17:31:15.473Z"
   },
   {
    "duration": 4,
    "start_time": "2021-12-12T17:35:43.009Z"
   },
   {
    "duration": 10,
    "start_time": "2021-12-12T17:35:43.637Z"
   },
   {
    "duration": 7578,
    "start_time": "2021-12-12T17:36:16.276Z"
   },
   {
    "duration": 5021,
    "start_time": "2021-12-12T17:36:40.404Z"
   },
   {
    "duration": 4,
    "start_time": "2021-12-12T17:36:58.487Z"
   },
   {
    "duration": 11,
    "start_time": "2021-12-12T17:37:07.048Z"
   },
   {
    "duration": 4607,
    "start_time": "2021-12-12T17:38:02.608Z"
   },
   {
    "duration": 4,
    "start_time": "2021-12-12T17:38:13.958Z"
   },
   {
    "duration": 11,
    "start_time": "2021-12-12T17:38:16.528Z"
   },
   {
    "duration": 5178,
    "start_time": "2021-12-12T17:40:19.998Z"
   },
   {
    "duration": 369,
    "start_time": "2021-12-12T17:40:38.498Z"
   },
   {
    "duration": 422,
    "start_time": "2021-12-12T17:41:28.839Z"
   },
   {
    "duration": 40,
    "start_time": "2021-12-12T17:43:52.861Z"
   },
   {
    "duration": 4,
    "start_time": "2021-12-12T17:43:53.184Z"
   },
   {
    "duration": 3,
    "start_time": "2021-12-12T17:43:53.346Z"
   },
   {
    "duration": 3,
    "start_time": "2021-12-12T17:43:53.702Z"
   },
   {
    "duration": 13,
    "start_time": "2021-12-12T17:43:53.841Z"
   },
   {
    "duration": 6,
    "start_time": "2021-12-12T17:43:54.316Z"
   },
   {
    "duration": 3,
    "start_time": "2021-12-12T17:43:54.472Z"
   },
   {
    "duration": 8,
    "start_time": "2021-12-12T17:43:54.925Z"
   },
   {
    "duration": 5,
    "start_time": "2021-12-12T17:44:02.489Z"
   },
   {
    "duration": 9,
    "start_time": "2021-12-12T17:44:11.121Z"
   },
   {
    "duration": 4,
    "start_time": "2021-12-12T17:44:11.271Z"
   },
   {
    "duration": 4,
    "start_time": "2021-12-12T17:44:11.434Z"
   },
   {
    "duration": 10,
    "start_time": "2021-12-12T17:44:19.383Z"
   },
   {
    "duration": 33,
    "start_time": "2021-12-12T17:45:40.517Z"
   },
   {
    "duration": 4,
    "start_time": "2021-12-12T17:45:45.336Z"
   },
   {
    "duration": 3,
    "start_time": "2021-12-12T17:45:45.485Z"
   },
   {
    "duration": 3,
    "start_time": "2021-12-12T17:45:46.884Z"
   },
   {
    "duration": 13,
    "start_time": "2021-12-12T17:45:48.956Z"
   },
   {
    "duration": 3,
    "start_time": "2021-12-12T17:45:51.399Z"
   },
   {
    "duration": 3,
    "start_time": "2021-12-12T17:45:51.555Z"
   },
   {
    "duration": 11,
    "start_time": "2021-12-12T17:45:51.712Z"
   },
   {
    "duration": 4,
    "start_time": "2021-12-12T17:45:52.045Z"
   },
   {
    "duration": 4,
    "start_time": "2021-12-12T17:45:53.778Z"
   },
   {
    "duration": 4,
    "start_time": "2021-12-12T17:45:54.217Z"
   },
   {
    "duration": 10,
    "start_time": "2021-12-12T17:45:54.386Z"
   },
   {
    "duration": 3,
    "start_time": "2021-12-12T17:47:22.857Z"
   },
   {
    "duration": 4,
    "start_time": "2021-12-12T17:47:26.926Z"
   },
   {
    "duration": 4,
    "start_time": "2021-12-12T17:47:27.439Z"
   },
   {
    "duration": 9,
    "start_time": "2021-12-12T17:47:28.299Z"
   },
   {
    "duration": 5,
    "start_time": "2021-12-12T17:47:55.228Z"
   },
   {
    "duration": 6,
    "start_time": "2021-12-12T18:13:35.068Z"
   },
   {
    "duration": 64,
    "start_time": "2021-12-12T18:14:08.658Z"
   },
   {
    "duration": 60,
    "start_time": "2021-12-12T18:16:45.589Z"
   },
   {
    "duration": 8,
    "start_time": "2021-12-12T18:16:53.037Z"
   },
   {
    "duration": 7,
    "start_time": "2021-12-12T18:17:35.059Z"
   },
   {
    "duration": 186,
    "start_time": "2021-12-12T18:19:09.761Z"
   },
   {
    "duration": 5274,
    "start_time": "2021-12-12T18:20:29.566Z"
   },
   {
    "duration": 8,
    "start_time": "2021-12-12T18:20:44.264Z"
   },
   {
    "duration": 5896,
    "start_time": "2021-12-12T18:21:51.132Z"
   },
   {
    "duration": 202,
    "start_time": "2021-12-12T18:21:58.494Z"
   },
   {
    "duration": 6,
    "start_time": "2021-12-12T18:25:18.177Z"
   },
   {
    "duration": 37,
    "start_time": "2021-12-12T18:25:25.788Z"
   },
   {
    "duration": 10,
    "start_time": "2021-12-12T18:25:36.868Z"
   },
   {
    "duration": 8,
    "start_time": "2021-12-12T18:25:41.489Z"
   },
   {
    "duration": 199,
    "start_time": "2021-12-12T18:26:26.438Z"
   },
   {
    "duration": 167,
    "start_time": "2021-12-12T18:27:37.149Z"
   },
   {
    "duration": 4205,
    "start_time": "2021-12-12T18:27:51.275Z"
   },
   {
    "duration": 12,
    "start_time": "2021-12-12T18:28:12.910Z"
   },
   {
    "duration": 8,
    "start_time": "2021-12-12T18:28:58.341Z"
   },
   {
    "duration": 6,
    "start_time": "2021-12-12T18:30:24.822Z"
   },
   {
    "duration": 2921,
    "start_time": "2021-12-12T18:30:55.645Z"
   },
   {
    "duration": 4,
    "start_time": "2021-12-12T18:30:58.568Z"
   },
   {
    "duration": 252,
    "start_time": "2021-12-12T18:31:02.935Z"
   },
   {
    "duration": 205,
    "start_time": "2021-12-12T18:31:03.646Z"
   },
   {
    "duration": 177,
    "start_time": "2021-12-12T18:31:04.121Z"
   },
   {
    "duration": 127,
    "start_time": "2021-12-12T18:31:04.509Z"
   },
   {
    "duration": 146,
    "start_time": "2021-12-12T18:31:04.740Z"
   },
   {
    "duration": 10,
    "start_time": "2021-12-12T18:31:05.425Z"
   },
   {
    "duration": 21,
    "start_time": "2021-12-12T18:31:05.860Z"
   },
   {
    "duration": 39,
    "start_time": "2021-12-12T18:31:06.708Z"
   },
   {
    "duration": 22,
    "start_time": "2021-12-12T18:31:06.880Z"
   },
   {
    "duration": 223,
    "start_time": "2021-12-12T18:31:07.266Z"
   },
   {
    "duration": 9,
    "start_time": "2021-12-12T18:31:08.064Z"
   },
   {
    "duration": 28,
    "start_time": "2021-12-12T18:31:08.500Z"
   },
   {
    "duration": 26,
    "start_time": "2021-12-12T18:31:09.826Z"
   },
   {
    "duration": 229,
    "start_time": "2021-12-12T18:31:10.438Z"
   },
   {
    "duration": 37,
    "start_time": "2021-12-12T18:31:10.900Z"
   },
   {
    "duration": 34,
    "start_time": "2021-12-12T18:31:11.108Z"
   },
   {
    "duration": 2851,
    "start_time": "2021-12-12T18:36:07.952Z"
   },
   {
    "duration": 3,
    "start_time": "2021-12-12T18:46:08.653Z"
   },
   {
    "duration": 229,
    "start_time": "2021-12-12T18:46:14.369Z"
   },
   {
    "duration": 192,
    "start_time": "2021-12-12T18:46:14.804Z"
   },
   {
    "duration": 164,
    "start_time": "2021-12-12T18:46:15.243Z"
   },
   {
    "duration": 449,
    "start_time": "2021-12-12T18:46:15.778Z"
   },
   {
    "duration": 174,
    "start_time": "2021-12-12T18:46:16.328Z"
   },
   {
    "duration": 10,
    "start_time": "2021-12-12T18:46:17.457Z"
   },
   {
    "duration": 22,
    "start_time": "2021-12-12T18:46:17.826Z"
   },
   {
    "duration": 33,
    "start_time": "2021-12-12T18:46:18.913Z"
   },
   {
    "duration": 22,
    "start_time": "2021-12-12T18:46:19.352Z"
   },
   {
    "duration": 283,
    "start_time": "2021-12-12T18:46:21.214Z"
   },
   {
    "duration": 8,
    "start_time": "2021-12-12T18:46:22.688Z"
   },
   {
    "duration": 23,
    "start_time": "2021-12-12T18:46:22.819Z"
   },
   {
    "duration": 20,
    "start_time": "2021-12-12T18:46:23.160Z"
   },
   {
    "duration": 194,
    "start_time": "2021-12-12T18:46:23.689Z"
   },
   {
    "duration": 29,
    "start_time": "2021-12-12T18:46:23.957Z"
   },
   {
    "duration": 7,
    "start_time": "2021-12-12T18:46:24.138Z"
   },
   {
    "duration": 15,
    "start_time": "2021-12-12T18:46:24.319Z"
   },
   {
    "duration": 12,
    "start_time": "2021-12-12T18:46:24.659Z"
   },
   {
    "duration": 9,
    "start_time": "2021-12-12T18:46:24.835Z"
   },
   {
    "duration": 10,
    "start_time": "2021-12-12T18:46:25.022Z"
   },
   {
    "duration": 26,
    "start_time": "2021-12-12T18:46:25.181Z"
   },
   {
    "duration": 10,
    "start_time": "2021-12-12T18:46:25.550Z"
   },
   {
    "duration": 11,
    "start_time": "2021-12-12T18:46:25.701Z"
   },
   {
    "duration": 16,
    "start_time": "2021-12-12T18:46:26.048Z"
   },
   {
    "duration": 16,
    "start_time": "2021-12-12T18:46:26.491Z"
   },
   {
    "duration": 14,
    "start_time": "2021-12-12T18:46:26.676Z"
   },
   {
    "duration": 3,
    "start_time": "2021-12-12T18:46:34.168Z"
   },
   {
    "duration": 43,
    "start_time": "2021-12-12T18:46:35.536Z"
   },
   {
    "duration": 6,
    "start_time": "2021-12-12T18:46:38.298Z"
   },
   {
    "duration": 6,
    "start_time": "2021-12-12T18:46:41.077Z"
   },
   {
    "duration": 36,
    "start_time": "2021-12-12T18:46:46.744Z"
   },
   {
    "duration": 30,
    "start_time": "2021-12-12T18:46:52.108Z"
   },
   {
    "duration": 4,
    "start_time": "2021-12-12T18:46:55.635Z"
   },
   {
    "duration": 3,
    "start_time": "2021-12-12T18:46:57.142Z"
   },
   {
    "duration": 2,
    "start_time": "2021-12-12T18:46:59.944Z"
   },
   {
    "duration": 14,
    "start_time": "2021-12-12T18:47:03.818Z"
   },
   {
    "duration": 4,
    "start_time": "2021-12-12T18:47:09.439Z"
   },
   {
    "duration": 3,
    "start_time": "2021-12-12T18:47:09.949Z"
   },
   {
    "duration": 8,
    "start_time": "2021-12-12T18:47:11.438Z"
   },
   {
    "duration": 4,
    "start_time": "2021-12-12T18:47:14.837Z"
   },
   {
    "duration": 10,
    "start_time": "2021-12-12T18:47:28.539Z"
   },
   {
    "duration": 11,
    "start_time": "2021-12-12T18:47:50.014Z"
   },
   {
    "duration": 5,
    "start_time": "2021-12-12T18:48:07.845Z"
   },
   {
    "duration": 9,
    "start_time": "2021-12-12T18:48:08.368Z"
   },
   {
    "duration": 10,
    "start_time": "2021-12-12T18:48:43.176Z"
   },
   {
    "duration": 3,
    "start_time": "2021-12-12T18:48:44.398Z"
   },
   {
    "duration": 9,
    "start_time": "2021-12-12T18:48:45.394Z"
   },
   {
    "duration": 7,
    "start_time": "2021-12-12T18:49:00.933Z"
   },
   {
    "duration": 12,
    "start_time": "2021-12-12T18:49:35.815Z"
   },
   {
    "duration": 6,
    "start_time": "2021-12-12T18:49:50.069Z"
   },
   {
    "duration": 50,
    "start_time": "2021-12-12T18:49:57.647Z"
   },
   {
    "duration": 9,
    "start_time": "2021-12-12T18:50:06.179Z"
   },
   {
    "duration": 179,
    "start_time": "2021-12-12T18:50:19.574Z"
   },
   {
    "duration": 9,
    "start_time": "2021-12-12T18:50:22.038Z"
   },
   {
    "duration": 175,
    "start_time": "2021-12-12T18:50:32.445Z"
   },
   {
    "duration": 7,
    "start_time": "2021-12-12T18:50:34.907Z"
   },
   {
    "duration": 25,
    "start_time": "2021-12-12T18:50:40.145Z"
   },
   {
    "duration": 10,
    "start_time": "2021-12-12T18:50:41.436Z"
   },
   {
    "duration": 10,
    "start_time": "2021-12-12T18:50:42.909Z"
   },
   {
    "duration": 173,
    "start_time": "2021-12-12T18:50:45.197Z"
   },
   {
    "duration": 166,
    "start_time": "2021-12-12T18:51:02.630Z"
   },
   {
    "duration": 167,
    "start_time": "2021-12-12T18:52:49.046Z"
   },
   {
    "duration": 331,
    "start_time": "2021-12-12T18:55:34.384Z"
   },
   {
    "duration": 2685,
    "start_time": "2021-12-12T19:57:47.832Z"
   },
   {
    "duration": 5,
    "start_time": "2021-12-12T19:57:53.953Z"
   },
   {
    "duration": 212,
    "start_time": "2021-12-12T19:57:59.453Z"
   },
   {
    "duration": 199,
    "start_time": "2021-12-12T19:57:59.882Z"
   },
   {
    "duration": 166,
    "start_time": "2021-12-12T19:58:00.083Z"
   },
   {
    "duration": 122,
    "start_time": "2021-12-12T19:58:00.251Z"
   },
   {
    "duration": 169,
    "start_time": "2021-12-12T19:58:00.953Z"
   },
   {
    "duration": 10,
    "start_time": "2021-12-12T19:58:01.272Z"
   },
   {
    "duration": 23,
    "start_time": "2021-12-12T19:58:02.073Z"
   },
   {
    "duration": 34,
    "start_time": "2021-12-12T19:58:03.082Z"
   },
   {
    "duration": 24,
    "start_time": "2021-12-12T19:58:03.372Z"
   },
   {
    "duration": 197,
    "start_time": "2021-12-12T19:58:04.042Z"
   },
   {
    "duration": 9,
    "start_time": "2021-12-12T19:58:05.031Z"
   },
   {
    "duration": 18,
    "start_time": "2021-12-12T19:58:05.202Z"
   },
   {
    "duration": 20,
    "start_time": "2021-12-12T19:58:05.762Z"
   },
   {
    "duration": 201,
    "start_time": "2021-12-12T19:58:06.130Z"
   },
   {
    "duration": 29,
    "start_time": "2021-12-12T19:58:07.702Z"
   },
   {
    "duration": 8,
    "start_time": "2021-12-12T19:58:07.851Z"
   },
   {
    "duration": 19,
    "start_time": "2021-12-12T19:58:08.236Z"
   },
   {
    "duration": 13,
    "start_time": "2021-12-12T19:58:09.752Z"
   },
   {
    "duration": 9,
    "start_time": "2021-12-12T19:58:09.896Z"
   },
   {
    "duration": 11,
    "start_time": "2021-12-12T19:58:10.050Z"
   },
   {
    "duration": 24,
    "start_time": "2021-12-12T19:58:10.472Z"
   },
   {
    "duration": 10,
    "start_time": "2021-12-12T19:58:10.658Z"
   },
   {
    "duration": 14,
    "start_time": "2021-12-12T19:58:10.801Z"
   },
   {
    "duration": 15,
    "start_time": "2021-12-12T19:58:11.460Z"
   },
   {
    "duration": 14,
    "start_time": "2021-12-12T19:58:11.621Z"
   },
   {
    "duration": 13,
    "start_time": "2021-12-12T19:58:15.112Z"
   },
   {
    "duration": 4,
    "start_time": "2021-12-12T19:58:33.940Z"
   },
   {
    "duration": 45,
    "start_time": "2021-12-12T19:58:35.218Z"
   },
   {
    "duration": 6,
    "start_time": "2021-12-12T19:58:36.653Z"
   },
   {
    "duration": 6,
    "start_time": "2021-12-12T19:58:52.139Z"
   },
   {
    "duration": 35,
    "start_time": "2021-12-12T19:58:57.822Z"
   },
   {
    "duration": 31,
    "start_time": "2021-12-12T19:59:12.003Z"
   },
   {
    "duration": 5,
    "start_time": "2021-12-12T19:59:13.731Z"
   },
   {
    "duration": 3,
    "start_time": "2021-12-12T19:59:14.483Z"
   },
   {
    "duration": 3,
    "start_time": "2021-12-12T19:59:18.092Z"
   },
   {
    "duration": 13,
    "start_time": "2021-12-12T19:59:18.544Z"
   },
   {
    "duration": 4,
    "start_time": "2021-12-12T19:59:21.667Z"
   },
   {
    "duration": 3,
    "start_time": "2021-12-12T19:59:22.084Z"
   },
   {
    "duration": 7,
    "start_time": "2021-12-12T19:59:22.707Z"
   },
   {
    "duration": 4,
    "start_time": "2021-12-12T19:59:27.119Z"
   },
   {
    "duration": 9,
    "start_time": "2021-12-12T19:59:27.698Z"
   },
   {
    "duration": 3,
    "start_time": "2021-12-12T19:59:32.796Z"
   },
   {
    "duration": 9,
    "start_time": "2021-12-12T19:59:33.460Z"
   },
   {
    "duration": 3,
    "start_time": "2021-12-12T19:59:42.952Z"
   },
   {
    "duration": 10,
    "start_time": "2021-12-12T19:59:43.822Z"
   },
   {
    "duration": 6,
    "start_time": "2021-12-12T20:00:02.183Z"
   },
   {
    "duration": 54,
    "start_time": "2021-12-12T20:00:04.443Z"
   },
   {
    "duration": 8,
    "start_time": "2021-12-12T20:00:37.450Z"
   },
   {
    "duration": 7,
    "start_time": "2021-12-12T20:01:49.658Z"
   },
   {
    "duration": 208,
    "start_time": "2021-12-12T20:02:26.140Z"
   },
   {
    "duration": 5,
    "start_time": "2021-12-12T20:03:40.335Z"
   },
   {
    "duration": 11,
    "start_time": "2021-12-12T20:03:40.812Z"
   },
   {
    "duration": 3,
    "start_time": "2021-12-12T20:03:41.515Z"
   },
   {
    "duration": 9,
    "start_time": "2021-12-12T20:03:41.693Z"
   },
   {
    "duration": 3,
    "start_time": "2021-12-12T20:03:41.904Z"
   },
   {
    "duration": 10,
    "start_time": "2021-12-12T20:03:42.238Z"
   },
   {
    "duration": 2718,
    "start_time": "2021-12-12T20:04:12.972Z"
   },
   {
    "duration": 3,
    "start_time": "2021-12-12T20:04:20.763Z"
   },
   {
    "duration": 224,
    "start_time": "2021-12-12T20:04:41.891Z"
   },
   {
    "duration": 193,
    "start_time": "2021-12-12T20:04:42.117Z"
   },
   {
    "duration": 176,
    "start_time": "2021-12-12T20:04:42.312Z"
   },
   {
    "duration": 127,
    "start_time": "2021-12-12T20:04:42.491Z"
   },
   {
    "duration": 147,
    "start_time": "2021-12-12T20:04:42.638Z"
   },
   {
    "duration": 9,
    "start_time": "2021-12-12T20:04:42.993Z"
   },
   {
    "duration": 20,
    "start_time": "2021-12-12T20:04:43.147Z"
   },
   {
    "duration": 35,
    "start_time": "2021-12-12T20:04:43.520Z"
   },
   {
    "duration": 24,
    "start_time": "2021-12-12T20:04:43.760Z"
   },
   {
    "duration": 182,
    "start_time": "2021-12-12T20:04:44.160Z"
   },
   {
    "duration": 8,
    "start_time": "2021-12-12T20:04:44.596Z"
   },
   {
    "duration": 17,
    "start_time": "2021-12-12T20:04:44.792Z"
   },
   {
    "duration": 18,
    "start_time": "2021-12-12T20:04:45.187Z"
   },
   {
    "duration": 266,
    "start_time": "2021-12-12T20:04:45.542Z"
   },
   {
    "duration": 26,
    "start_time": "2021-12-12T20:04:45.911Z"
   },
   {
    "duration": 7,
    "start_time": "2021-12-12T20:04:46.107Z"
   },
   {
    "duration": 14,
    "start_time": "2021-12-12T20:04:46.322Z"
   },
   {
    "duration": 11,
    "start_time": "2021-12-12T20:04:46.672Z"
   },
   {
    "duration": 9,
    "start_time": "2021-12-12T20:04:46.852Z"
   },
   {
    "duration": 10,
    "start_time": "2021-12-12T20:04:47.062Z"
   },
   {
    "duration": 25,
    "start_time": "2021-12-12T20:04:47.226Z"
   },
   {
    "duration": 10,
    "start_time": "2021-12-12T20:04:47.412Z"
   },
   {
    "duration": 10,
    "start_time": "2021-12-12T20:04:47.582Z"
   },
   {
    "duration": 14,
    "start_time": "2021-12-12T20:04:47.972Z"
   },
   {
    "duration": 14,
    "start_time": "2021-12-12T20:04:48.462Z"
   },
   {
    "duration": 13,
    "start_time": "2021-12-12T20:04:48.890Z"
   },
   {
    "duration": 4,
    "start_time": "2021-12-12T20:06:21.750Z"
   },
   {
    "duration": 42,
    "start_time": "2021-12-12T20:06:23.082Z"
   },
   {
    "duration": 6,
    "start_time": "2021-12-12T20:06:40.260Z"
   },
   {
    "duration": 4,
    "start_time": "2021-12-12T20:06:43.131Z"
   },
   {
    "duration": 35,
    "start_time": "2021-12-12T20:06:45.218Z"
   },
   {
    "duration": 29,
    "start_time": "2021-12-12T20:06:46.771Z"
   },
   {
    "duration": 30,
    "start_time": "2021-12-12T20:07:05.995Z"
   },
   {
    "duration": 4,
    "start_time": "2021-12-12T20:07:10.965Z"
   },
   {
    "duration": 3,
    "start_time": "2021-12-12T20:07:17.891Z"
   },
   {
    "duration": 3,
    "start_time": "2021-12-12T20:07:21.534Z"
   },
   {
    "duration": 15,
    "start_time": "2021-12-12T20:07:22.112Z"
   },
   {
    "duration": 4,
    "start_time": "2021-12-12T20:07:30.835Z"
   },
   {
    "duration": 3,
    "start_time": "2021-12-12T20:07:31.458Z"
   },
   {
    "duration": 8,
    "start_time": "2021-12-12T20:07:36.859Z"
   },
   {
    "duration": 4,
    "start_time": "2021-12-12T20:09:29.597Z"
   },
   {
    "duration": 10,
    "start_time": "2021-12-12T20:09:30.980Z"
   },
   {
    "duration": 4,
    "start_time": "2021-12-12T20:10:51.006Z"
   },
   {
    "duration": 9,
    "start_time": "2021-12-12T20:10:52.371Z"
   },
   {
    "duration": 4,
    "start_time": "2021-12-12T20:10:57.198Z"
   },
   {
    "duration": 9,
    "start_time": "2021-12-12T20:10:58.455Z"
   },
   {
    "duration": 5,
    "start_time": "2021-12-12T20:12:14.831Z"
   },
   {
    "duration": 50,
    "start_time": "2021-12-12T20:12:17.963Z"
   },
   {
    "duration": 9,
    "start_time": "2021-12-12T20:13:14.023Z"
   },
   {
    "duration": 184,
    "start_time": "2021-12-12T20:30:24.441Z"
   },
   {
    "duration": 5411,
    "start_time": "2021-12-12T20:34:42.140Z"
   },
   {
    "duration": 4970,
    "start_time": "2021-12-12T20:36:48.296Z"
   },
   {
    "duration": 4478,
    "start_time": "2021-12-12T20:45:24.822Z"
   },
   {
    "duration": 6,
    "start_time": "2021-12-12T20:45:49.537Z"
   },
   {
    "duration": 142,
    "start_time": "2021-12-12T20:45:50.812Z"
   },
   {
    "duration": 8,
    "start_time": "2021-12-12T20:45:52.943Z"
   },
   {
    "duration": 168,
    "start_time": "2021-12-12T20:45:53.262Z"
   },
   {
    "duration": 643,
    "start_time": "2021-12-12T20:47:59.109Z"
   },
   {
    "duration": 354,
    "start_time": "2021-12-12T20:48:30.498Z"
   },
   {
    "duration": 8,
    "start_time": "2021-12-12T20:52:45.800Z"
   },
   {
    "duration": 191,
    "start_time": "2021-12-12T20:53:10.212Z"
   },
   {
    "duration": 8,
    "start_time": "2021-12-12T20:53:27.731Z"
   },
   {
    "duration": 24,
    "start_time": "2021-12-12T20:53:36.359Z"
   },
   {
    "duration": 11,
    "start_time": "2021-12-12T20:53:43.539Z"
   },
   {
    "duration": 9,
    "start_time": "2021-12-12T20:53:47.921Z"
   },
   {
    "duration": 519,
    "start_time": "2021-12-12T20:57:54.581Z"
   },
   {
    "duration": 280,
    "start_time": "2021-12-12T20:58:13.011Z"
   },
   {
    "duration": 186,
    "start_time": "2021-12-12T20:58:45.001Z"
   },
   {
    "duration": 178,
    "start_time": "2021-12-12T20:59:21.622Z"
   },
   {
    "duration": 520,
    "start_time": "2021-12-12T21:00:31.381Z"
   },
   {
    "duration": 181,
    "start_time": "2021-12-12T21:00:43.292Z"
   },
   {
    "duration": 430,
    "start_time": "2021-12-12T21:03:07.151Z"
   },
   {
    "duration": 184,
    "start_time": "2021-12-12T21:03:20.262Z"
   },
   {
    "duration": 176,
    "start_time": "2021-12-12T21:07:17.971Z"
   },
   {
    "duration": 184,
    "start_time": "2021-12-12T21:07:58.681Z"
   },
   {
    "duration": 8,
    "start_time": "2021-12-12T21:08:23.598Z"
   },
   {
    "duration": 297,
    "start_time": "2021-12-12T21:12:04.831Z"
   },
   {
    "duration": 273,
    "start_time": "2021-12-12T21:12:50.570Z"
   },
   {
    "duration": 187,
    "start_time": "2021-12-12T21:12:57.191Z"
   },
   {
    "duration": 317,
    "start_time": "2021-12-12T21:14:20.450Z"
   },
   {
    "duration": 187,
    "start_time": "2021-12-12T21:14:54.161Z"
   },
   {
    "duration": 180,
    "start_time": "2021-12-12T21:15:25.459Z"
   },
   {
    "duration": 193,
    "start_time": "2021-12-12T21:15:47.638Z"
   },
   {
    "duration": 189,
    "start_time": "2021-12-12T21:16:06.071Z"
   },
   {
    "duration": 190,
    "start_time": "2021-12-12T21:16:28.291Z"
   },
   {
    "duration": 181,
    "start_time": "2021-12-12T21:17:07.041Z"
   },
   {
    "duration": 174,
    "start_time": "2021-12-12T21:17:27.170Z"
   },
   {
    "duration": 184,
    "start_time": "2021-12-12T21:17:54.939Z"
   },
   {
    "duration": 8,
    "start_time": "2021-12-12T21:17:57.121Z"
   },
   {
    "duration": 185,
    "start_time": "2021-12-12T21:17:58.439Z"
   },
   {
    "duration": 7,
    "start_time": "2021-12-12T21:18:03.922Z"
   },
   {
    "duration": 26,
    "start_time": "2021-12-12T21:18:05.348Z"
   },
   {
    "duration": 10,
    "start_time": "2021-12-12T21:18:08.870Z"
   },
   {
    "duration": 10,
    "start_time": "2021-12-12T21:18:11.961Z"
   },
   {
    "duration": 381,
    "start_time": "2021-12-12T21:21:24.820Z"
   },
   {
    "duration": 616,
    "start_time": "2021-12-12T21:22:31.091Z"
   },
   {
    "duration": 180,
    "start_time": "2021-12-12T21:22:48.941Z"
   },
   {
    "duration": 711,
    "start_time": "2021-12-12T21:23:01.420Z"
   },
   {
    "duration": 161,
    "start_time": "2021-12-12T21:23:15.600Z"
   },
   {
    "duration": 232,
    "start_time": "2021-12-12T21:25:35.140Z"
   },
   {
    "duration": 291,
    "start_time": "2021-12-12T21:25:47.251Z"
   },
   {
    "duration": 191,
    "start_time": "2021-12-12T21:26:27.770Z"
   },
   {
    "duration": 645,
    "start_time": "2021-12-12T21:26:50.841Z"
   },
   {
    "duration": 180,
    "start_time": "2021-12-12T21:27:14.101Z"
   },
   {
    "duration": 157,
    "start_time": "2021-12-12T21:29:53.280Z"
   },
   {
    "duration": 163,
    "start_time": "2021-12-12T21:30:28.359Z"
   },
   {
    "duration": 1212,
    "start_time": "2021-12-12T21:30:50.438Z"
   },
   {
    "duration": 155,
    "start_time": "2021-12-12T21:34:36.470Z"
   },
   {
    "duration": 248,
    "start_time": "2021-12-12T21:35:18.310Z"
   },
   {
    "duration": 166,
    "start_time": "2021-12-12T21:36:26.668Z"
   },
   {
    "duration": 161,
    "start_time": "2021-12-12T21:36:45.171Z"
   },
   {
    "duration": 121,
    "start_time": "2021-12-12T21:39:07.081Z"
   },
   {
    "duration": 115,
    "start_time": "2021-12-12T21:39:19.480Z"
   },
   {
    "duration": 589,
    "start_time": "2021-12-12T21:39:29.671Z"
   },
   {
    "duration": 168,
    "start_time": "2021-12-12T21:44:51.360Z"
   },
   {
    "duration": 169,
    "start_time": "2021-12-12T21:46:22.280Z"
   },
   {
    "duration": 174,
    "start_time": "2021-12-12T21:46:59.511Z"
   },
   {
    "duration": 167,
    "start_time": "2021-12-12T21:47:27.142Z"
   },
   {
    "duration": 163,
    "start_time": "2021-12-12T21:48:11.829Z"
   },
   {
    "duration": 10,
    "start_time": "2021-12-12T21:48:16.189Z"
   },
   {
    "duration": 4541,
    "start_time": "2021-12-12T21:53:05.912Z"
   },
   {
    "duration": 540,
    "start_time": "2021-12-12T21:53:19.510Z"
   },
   {
    "duration": 417,
    "start_time": "2021-12-12T21:53:30.500Z"
   },
   {
    "duration": 110,
    "start_time": "2021-12-12T21:54:25.529Z"
   },
   {
    "duration": 398,
    "start_time": "2021-12-12T21:54:33.620Z"
   },
   {
    "duration": 314,
    "start_time": "2021-12-12T21:54:47.352Z"
   },
   {
    "duration": 247,
    "start_time": "2021-12-12T21:55:10.011Z"
   },
   {
    "duration": 292,
    "start_time": "2021-12-12T21:55:29.941Z"
   },
   {
    "duration": 280,
    "start_time": "2021-12-12T21:56:50.260Z"
   },
   {
    "duration": 190,
    "start_time": "2021-12-12T21:57:45.141Z"
   },
   {
    "duration": 278,
    "start_time": "2021-12-12T21:58:48.072Z"
   },
   {
    "duration": 254,
    "start_time": "2021-12-12T21:58:56.520Z"
   },
   {
    "duration": 620,
    "start_time": "2021-12-12T22:10:15.808Z"
   },
   {
    "duration": 11,
    "start_time": "2021-12-12T22:10:35.028Z"
   },
   {
    "duration": 4275,
    "start_time": "2021-12-12T22:10:36.302Z"
   },
   {
    "duration": -265,
    "start_time": "2021-12-12T22:10:40.844Z"
   },
   {
    "duration": -275,
    "start_time": "2021-12-12T22:10:40.854Z"
   },
   {
    "duration": -283,
    "start_time": "2021-12-12T22:10:40.863Z"
   },
   {
    "duration": -312,
    "start_time": "2021-12-12T22:10:40.893Z"
   },
   {
    "duration": -324,
    "start_time": "2021-12-12T22:10:40.906Z"
   },
   {
    "duration": -328,
    "start_time": "2021-12-12T22:10:40.911Z"
   },
   {
    "duration": -338,
    "start_time": "2021-12-12T22:10:40.922Z"
   },
   {
    "duration": -342,
    "start_time": "2021-12-12T22:10:40.927Z"
   },
   {
    "duration": 4,
    "start_time": "2021-12-12T22:10:40.980Z"
   },
   {
    "duration": 9,
    "start_time": "2021-12-12T22:10:41.162Z"
   },
   {
    "duration": 11,
    "start_time": "2021-12-12T22:10:41.350Z"
   },
   {
    "duration": 7,
    "start_time": "2021-12-12T22:10:42.028Z"
   },
   {
    "duration": 5253,
    "start_time": "2021-12-12T22:10:42.468Z"
   },
   {
    "duration": -503,
    "start_time": "2021-12-12T22:10:48.226Z"
   },
   {
    "duration": -509,
    "start_time": "2021-12-12T22:10:48.233Z"
   },
   {
    "duration": -513,
    "start_time": "2021-12-12T22:10:48.238Z"
   },
   {
    "duration": -518,
    "start_time": "2021-12-12T22:10:48.244Z"
   },
   {
    "duration": -522,
    "start_time": "2021-12-12T22:10:48.249Z"
   },
   {
    "duration": -529,
    "start_time": "2021-12-12T22:10:48.257Z"
   },
   {
    "duration": -536,
    "start_time": "2021-12-12T22:10:48.265Z"
   },
   {
    "duration": 798,
    "start_time": "2021-12-12T22:10:50.581Z"
   },
   {
    "duration": -184,
    "start_time": "2021-12-12T22:10:51.565Z"
   },
   {
    "duration": -197,
    "start_time": "2021-12-12T22:10:51.579Z"
   },
   {
    "duration": 4552,
    "start_time": "2021-12-12T22:10:52.381Z"
   },
   {
    "duration": -585,
    "start_time": "2021-12-12T22:10:57.519Z"
   },
   {
    "duration": -596,
    "start_time": "2021-12-12T22:10:57.531Z"
   },
   {
    "duration": -603,
    "start_time": "2021-12-12T22:10:57.539Z"
   },
   {
    "duration": 5,
    "start_time": "2021-12-12T22:11:53.491Z"
   },
   {
    "duration": 7,
    "start_time": "2021-12-12T22:11:58.630Z"
   },
   {
    "duration": 14,
    "start_time": "2021-12-12T22:12:20.890Z"
   },
   {
    "duration": 14,
    "start_time": "2021-12-12T22:15:03.920Z"
   },
   {
    "duration": 6119,
    "start_time": "2021-12-12T22:35:02.574Z"
   },
   {
    "duration": 4,
    "start_time": "2021-12-12T22:35:44.561Z"
   },
   {
    "duration": 280,
    "start_time": "2021-12-12T22:35:50.704Z"
   },
   {
    "duration": 659,
    "start_time": "2021-12-12T22:35:51.121Z"
   },
   {
    "duration": 323,
    "start_time": "2021-12-12T22:35:51.781Z"
   },
   {
    "duration": 147,
    "start_time": "2021-12-12T22:35:52.106Z"
   },
   {
    "duration": 142,
    "start_time": "2021-12-12T22:35:52.255Z"
   },
   {
    "duration": 9,
    "start_time": "2021-12-12T22:35:52.399Z"
   },
   {
    "duration": 23,
    "start_time": "2021-12-12T22:35:52.514Z"
   },
   {
    "duration": 36,
    "start_time": "2021-12-12T22:35:52.875Z"
   },
   {
    "duration": 22,
    "start_time": "2021-12-12T22:35:53.065Z"
   },
   {
    "duration": 186,
    "start_time": "2021-12-12T22:35:53.453Z"
   },
   {
    "duration": 9,
    "start_time": "2021-12-12T22:35:53.853Z"
   },
   {
    "duration": 19,
    "start_time": "2021-12-12T22:35:54.033Z"
   },
   {
    "duration": 21,
    "start_time": "2021-12-12T22:35:54.596Z"
   },
   {
    "duration": 309,
    "start_time": "2021-12-12T22:35:54.953Z"
   },
   {
    "duration": 29,
    "start_time": "2021-12-12T22:35:55.324Z"
   },
   {
    "duration": 8,
    "start_time": "2021-12-12T22:35:55.544Z"
   },
   {
    "duration": 16,
    "start_time": "2021-12-12T22:35:55.744Z"
   },
   {
    "duration": 15,
    "start_time": "2021-12-12T22:35:56.094Z"
   },
   {
    "duration": 9,
    "start_time": "2021-12-12T22:35:56.304Z"
   },
   {
    "duration": 11,
    "start_time": "2021-12-12T22:35:56.463Z"
   },
   {
    "duration": 27,
    "start_time": "2021-12-12T22:35:56.664Z"
   },
   {
    "duration": 10,
    "start_time": "2021-12-12T22:35:56.831Z"
   },
   {
    "duration": 10,
    "start_time": "2021-12-12T22:35:57.024Z"
   },
   {
    "duration": 16,
    "start_time": "2021-12-12T22:35:57.403Z"
   },
   {
    "duration": 15,
    "start_time": "2021-12-12T22:35:57.774Z"
   },
   {
    "duration": 13,
    "start_time": "2021-12-12T22:35:58.004Z"
   },
   {
    "duration": 4,
    "start_time": "2021-12-12T22:35:58.757Z"
   },
   {
    "duration": 43,
    "start_time": "2021-12-12T22:35:59.424Z"
   },
   {
    "duration": 7,
    "start_time": "2021-12-12T22:35:59.813Z"
   },
   {
    "duration": 5,
    "start_time": "2021-12-12T22:36:00.194Z"
   },
   {
    "duration": 36,
    "start_time": "2021-12-12T22:36:00.753Z"
   },
   {
    "duration": 30,
    "start_time": "2021-12-12T22:36:01.515Z"
   },
   {
    "duration": 4,
    "start_time": "2021-12-12T22:36:01.703Z"
   },
   {
    "duration": 4,
    "start_time": "2021-12-12T22:36:01.903Z"
   },
   {
    "duration": 3,
    "start_time": "2021-12-12T22:36:02.283Z"
   },
   {
    "duration": 14,
    "start_time": "2021-12-12T22:36:02.482Z"
   },
   {
    "duration": 3,
    "start_time": "2021-12-12T22:36:03.365Z"
   },
   {
    "duration": 3,
    "start_time": "2021-12-12T22:36:03.561Z"
   },
   {
    "duration": 7,
    "start_time": "2021-12-12T22:36:03.754Z"
   },
   {
    "duration": 4,
    "start_time": "2021-12-12T22:36:04.125Z"
   },
   {
    "duration": 10,
    "start_time": "2021-12-12T22:36:04.332Z"
   },
   {
    "duration": 4,
    "start_time": "2021-12-12T22:36:04.744Z"
   },
   {
    "duration": 10,
    "start_time": "2021-12-12T22:36:04.954Z"
   },
   {
    "duration": 3,
    "start_time": "2021-12-12T22:36:05.163Z"
   },
   {
    "duration": 9,
    "start_time": "2021-12-12T22:36:05.373Z"
   },
   {
    "duration": 6,
    "start_time": "2021-12-12T22:36:06.204Z"
   },
   {
    "duration": 53,
    "start_time": "2021-12-12T22:36:07.594Z"
   },
   {
    "duration": 9,
    "start_time": "2021-12-12T22:36:18.821Z"
   },
   {
    "duration": 177,
    "start_time": "2021-12-12T22:36:20.254Z"
   },
   {
    "duration": 10,
    "start_time": "2021-12-12T22:36:21.393Z"
   },
   {
    "duration": 189,
    "start_time": "2021-12-12T22:36:22.393Z"
   },
   {
    "duration": 6,
    "start_time": "2021-12-12T22:36:23.403Z"
   },
   {
    "duration": 25,
    "start_time": "2021-12-12T22:36:24.372Z"
   },
   {
    "duration": 10,
    "start_time": "2021-12-12T22:36:25.491Z"
   },
   {
    "duration": 8,
    "start_time": "2021-12-12T22:36:25.842Z"
   },
   {
    "duration": 188,
    "start_time": "2021-12-12T22:36:30.953Z"
   },
   {
    "duration": 169,
    "start_time": "2021-12-12T22:36:33.314Z"
   },
   {
    "duration": 9,
    "start_time": "2021-12-12T22:36:36.805Z"
   },
   {
    "duration": 241,
    "start_time": "2021-12-12T22:36:40.682Z"
   },
   {
    "duration": 10,
    "start_time": "2021-12-12T22:50:27.691Z"
   },
   {
    "duration": 6,
    "start_time": "2021-12-12T22:50:29.473Z"
   },
   {
    "duration": 5,
    "start_time": "2021-12-12T22:50:44.490Z"
   },
   {
    "duration": 11,
    "start_time": "2021-12-12T23:26:59.062Z"
   },
   {
    "duration": 7,
    "start_time": "2021-12-12T23:27:16.131Z"
   },
   {
    "duration": 5,
    "start_time": "2021-12-12T23:27:16.889Z"
   },
   {
    "duration": 544,
    "start_time": "2021-12-12T23:29:30.693Z"
   },
   {
    "duration": 338,
    "start_time": "2021-12-12T23:29:46.232Z"
   },
   {
    "duration": 2,
    "start_time": "2021-12-12T23:30:38.310Z"
   },
   {
    "duration": 3,
    "start_time": "2021-12-12T23:30:41.529Z"
   },
   {
    "duration": 7,
    "start_time": "2021-12-12T23:35:11.090Z"
   },
   {
    "duration": 6,
    "start_time": "2021-12-12T23:35:11.513Z"
   },
   {
    "duration": 3,
    "start_time": "2021-12-12T23:35:13.414Z"
   },
   {
    "duration": 549,
    "start_time": "2021-12-12T23:35:14.050Z"
   },
   {
    "duration": 3,
    "start_time": "2021-12-12T23:35:19.573Z"
   },
   {
    "duration": 406,
    "start_time": "2021-12-12T23:36:47.326Z"
   },
   {
    "duration": 355,
    "start_time": "2021-12-12T23:37:10.902Z"
   },
   {
    "duration": 6,
    "start_time": "2021-12-12T23:37:32.543Z"
   },
   {
    "duration": 3,
    "start_time": "2021-12-12T23:42:28.805Z"
   },
   {
    "duration": 3,
    "start_time": "2021-12-12T23:43:31.696Z"
   },
   {
    "duration": 3,
    "start_time": "2021-12-12T23:49:09.130Z"
   },
   {
    "duration": 338,
    "start_time": "2021-12-12T23:54:02.953Z"
   },
   {
    "duration": 6,
    "start_time": "2021-12-12T23:54:20.172Z"
   },
   {
    "duration": 5,
    "start_time": "2021-12-12T23:54:43.174Z"
   },
   {
    "duration": 5,
    "start_time": "2021-12-12T23:54:54.584Z"
   },
   {
    "duration": 4,
    "start_time": "2021-12-12T23:55:29.765Z"
   },
   {
    "duration": 4,
    "start_time": "2021-12-12T23:55:49.680Z"
   },
   {
    "duration": 6,
    "start_time": "2021-12-12T23:56:49.873Z"
   },
   {
    "duration": 128,
    "start_time": "2021-12-12T23:57:38.250Z"
   },
   {
    "duration": 113,
    "start_time": "2021-12-12T23:57:47.497Z"
   },
   {
    "duration": 4268,
    "start_time": "2021-12-13T00:06:25.103Z"
   },
   {
    "duration": 347,
    "start_time": "2021-12-13T00:06:49.788Z"
   },
   {
    "duration": 5,
    "start_time": "2021-12-13T00:06:58.179Z"
   },
   {
    "duration": 4,
    "start_time": "2021-12-13T00:14:36.276Z"
   },
   {
    "duration": 7,
    "start_time": "2021-12-13T00:14:38.842Z"
   },
   {
    "duration": 12,
    "start_time": "2021-12-13T00:14:45.160Z"
   },
   {
    "duration": 7,
    "start_time": "2021-12-13T00:14:58.260Z"
   },
   {
    "duration": 6,
    "start_time": "2021-12-13T00:15:23.348Z"
   },
   {
    "duration": 6,
    "start_time": "2021-12-13T00:15:27.952Z"
   },
   {
    "duration": 5,
    "start_time": "2021-12-13T00:17:30.761Z"
   },
   {
    "duration": 5,
    "start_time": "2021-12-13T00:19:35.604Z"
   },
   {
    "duration": 4,
    "start_time": "2021-12-13T00:21:27.320Z"
   },
   {
    "duration": 7,
    "start_time": "2021-12-13T00:21:27.740Z"
   },
   {
    "duration": 11,
    "start_time": "2021-12-13T00:21:29.070Z"
   },
   {
    "duration": 12,
    "start_time": "2021-12-13T00:21:41.480Z"
   },
   {
    "duration": 8,
    "start_time": "2021-12-13T00:21:45.738Z"
   },
   {
    "duration": 6,
    "start_time": "2021-12-13T00:21:48.955Z"
   },
   {
    "duration": 6,
    "start_time": "2021-12-13T00:21:49.290Z"
   },
   {
    "duration": 5,
    "start_time": "2021-12-13T00:21:50.959Z"
   },
   {
    "duration": 7,
    "start_time": "2021-12-13T00:22:21.178Z"
   },
   {
    "duration": 5,
    "start_time": "2021-12-13T00:23:43.540Z"
   },
   {
    "duration": 4,
    "start_time": "2021-12-13T00:25:55.640Z"
   },
   {
    "duration": 3,
    "start_time": "2021-12-13T00:26:05.261Z"
   },
   {
    "duration": 15,
    "start_time": "2021-12-13T00:26:07.376Z"
   },
   {
    "duration": 5,
    "start_time": "2021-12-13T00:26:19.858Z"
   },
   {
    "duration": 14,
    "start_time": "2021-12-13T00:26:23.000Z"
   },
   {
    "duration": 344,
    "start_time": "2021-12-13T00:26:31.849Z"
   },
   {
    "duration": 368,
    "start_time": "2021-12-13T00:26:32.813Z"
   },
   {
    "duration": 13,
    "start_time": "2021-12-13T00:28:07.023Z"
   },
   {
    "duration": 466,
    "start_time": "2021-12-13T00:28:14.016Z"
   },
   {
    "duration": 5,
    "start_time": "2021-12-13T00:31:06.536Z"
   },
   {
    "duration": 5,
    "start_time": "2021-12-13T00:31:06.909Z"
   },
   {
    "duration": 4,
    "start_time": "2021-12-13T00:31:07.499Z"
   },
   {
    "duration": 7,
    "start_time": "2021-12-13T00:31:07.664Z"
   },
   {
    "duration": 3,
    "start_time": "2021-12-13T00:31:08.291Z"
   },
   {
    "duration": 5,
    "start_time": "2021-12-13T00:31:08.503Z"
   },
   {
    "duration": 4,
    "start_time": "2021-12-13T00:31:10.919Z"
   },
   {
    "duration": 7,
    "start_time": "2021-12-13T00:31:11.538Z"
   },
   {
    "duration": 12,
    "start_time": "2021-12-13T00:31:12.069Z"
   },
   {
    "duration": 6,
    "start_time": "2021-12-13T00:31:13.037Z"
   },
   {
    "duration": 8,
    "start_time": "2021-12-13T00:31:14.029Z"
   },
   {
    "duration": 6,
    "start_time": "2021-12-13T00:31:14.450Z"
   },
   {
    "duration": 5,
    "start_time": "2021-12-13T00:31:15.377Z"
   },
   {
    "duration": 5,
    "start_time": "2021-12-13T00:31:16.543Z"
   },
   {
    "duration": 4,
    "start_time": "2021-12-13T00:31:17.469Z"
   },
   {
    "duration": 4,
    "start_time": "2021-12-13T00:31:17.652Z"
   },
   {
    "duration": 15,
    "start_time": "2021-12-13T00:31:18.035Z"
   },
   {
    "duration": 6,
    "start_time": "2021-12-13T00:31:19.056Z"
   },
   {
    "duration": 14,
    "start_time": "2021-12-13T00:31:19.210Z"
   },
   {
    "duration": 11,
    "start_time": "2021-12-13T00:31:20.421Z"
   },
   {
    "duration": 405,
    "start_time": "2021-12-13T00:31:21.039Z"
   },
   {
    "duration": 4,
    "start_time": "2021-12-13T00:33:20.543Z"
   },
   {
    "duration": 3,
    "start_time": "2021-12-13T00:33:20.728Z"
   },
   {
    "duration": 17,
    "start_time": "2021-12-13T00:33:21.287Z"
   },
   {
    "duration": 5,
    "start_time": "2021-12-13T00:33:22.314Z"
   },
   {
    "duration": 13,
    "start_time": "2021-12-13T00:33:22.649Z"
   },
   {
    "duration": 11,
    "start_time": "2021-12-13T00:33:24.226Z"
   },
   {
    "duration": 415,
    "start_time": "2021-12-13T00:33:25.116Z"
   },
   {
    "duration": -159,
    "start_time": "2021-12-13T10:55:46.134Z"
   },
   {
    "duration": -206,
    "start_time": "2021-12-13T10:55:46.183Z"
   },
   {
    "duration": -210,
    "start_time": "2021-12-13T10:55:46.189Z"
   },
   {
    "duration": -215,
    "start_time": "2021-12-13T10:55:46.195Z"
   },
   {
    "duration": -218,
    "start_time": "2021-12-13T10:55:46.200Z"
   },
   {
    "duration": -220,
    "start_time": "2021-12-13T10:55:46.204Z"
   },
   {
    "duration": -223,
    "start_time": "2021-12-13T10:55:46.208Z"
   },
   {
    "duration": 181,
    "start_time": "2021-12-13T10:55:52.246Z"
   },
   {
    "duration": 99742,
    "start_time": "2021-12-13T11:00:52.972Z"
   },
   {
    "duration": 3,
    "start_time": "2021-12-13T11:02:32.716Z"
   },
   {
    "duration": 178,
    "start_time": "2021-12-13T11:02:32.722Z"
   },
   {
    "duration": 145,
    "start_time": "2021-12-13T11:02:32.902Z"
   },
   {
    "duration": 117,
    "start_time": "2021-12-13T11:02:33.048Z"
   },
   {
    "duration": 75,
    "start_time": "2021-12-13T11:02:33.167Z"
   },
   {
    "duration": 141,
    "start_time": "2021-12-13T11:02:33.244Z"
   },
   {
    "duration": 9,
    "start_time": "2021-12-13T11:02:33.387Z"
   },
   {
    "duration": 32803,
    "start_time": "2021-12-13T11:09:50.618Z"
   },
   {
    "duration": 4,
    "start_time": "2021-12-13T11:10:23.423Z"
   },
   {
    "duration": 194,
    "start_time": "2021-12-13T11:10:23.430Z"
   },
   {
    "duration": 152,
    "start_time": "2021-12-13T11:10:23.627Z"
   },
   {
    "duration": 182,
    "start_time": "2021-12-13T11:10:23.781Z"
   },
   {
    "duration": 71,
    "start_time": "2021-12-13T11:10:23.965Z"
   },
   {
    "duration": 115,
    "start_time": "2021-12-13T11:10:24.038Z"
   },
   {
    "duration": 9,
    "start_time": "2021-12-13T11:10:24.156Z"
   },
   {
    "duration": 25,
    "start_time": "2021-12-13T11:10:24.166Z"
   },
   {
    "duration": 17267,
    "start_time": "2021-12-13T11:13:40.960Z"
   },
   {
    "duration": 99851,
    "start_time": "2021-12-13T11:14:20.427Z"
   },
   {
    "duration": 3,
    "start_time": "2021-12-13T11:16:00.281Z"
   },
   {
    "duration": 259,
    "start_time": "2021-12-13T11:16:00.286Z"
   },
   {
    "duration": 197,
    "start_time": "2021-12-13T11:16:00.546Z"
   },
   {
    "duration": 125,
    "start_time": "2021-12-13T11:16:00.745Z"
   },
   {
    "duration": 73,
    "start_time": "2021-12-13T11:16:00.872Z"
   },
   {
    "duration": 107,
    "start_time": "2021-12-13T11:16:00.947Z"
   },
   {
    "duration": 9,
    "start_time": "2021-12-13T11:16:01.057Z"
   },
   {
    "duration": 28,
    "start_time": "2021-12-13T11:16:01.068Z"
   },
   {
    "duration": 100019,
    "start_time": "2021-12-13T11:22:37.190Z"
   },
   {
    "duration": 4,
    "start_time": "2021-12-13T11:24:17.211Z"
   },
   {
    "duration": 258,
    "start_time": "2021-12-13T11:24:17.217Z"
   },
   {
    "duration": 278,
    "start_time": "2021-12-13T11:24:17.477Z"
   },
   {
    "duration": 231,
    "start_time": "2021-12-13T11:24:17.756Z"
   },
   {
    "duration": 231,
    "start_time": "2021-12-13T11:24:17.989Z"
   },
   {
    "duration": 186,
    "start_time": "2021-12-13T11:24:18.222Z"
   },
   {
    "duration": 9,
    "start_time": "2021-12-13T11:24:18.410Z"
   },
   {
    "duration": 22,
    "start_time": "2021-12-13T11:24:18.420Z"
   },
   {
    "duration": 36,
    "start_time": "2021-12-13T11:28:14.142Z"
   },
   {
    "duration": 23,
    "start_time": "2021-12-13T11:28:15.493Z"
   },
   {
    "duration": 48886,
    "start_time": "2021-12-13T11:28:20.297Z"
   },
   {
    "duration": 4,
    "start_time": "2021-12-13T11:29:09.185Z"
   },
   {
    "duration": 175,
    "start_time": "2021-12-13T11:29:09.191Z"
   },
   {
    "duration": 148,
    "start_time": "2021-12-13T11:29:09.368Z"
   },
   {
    "duration": 123,
    "start_time": "2021-12-13T11:29:09.517Z"
   },
   {
    "duration": 74,
    "start_time": "2021-12-13T11:29:09.642Z"
   },
   {
    "duration": 104,
    "start_time": "2021-12-13T11:29:09.717Z"
   },
   {
    "duration": 8,
    "start_time": "2021-12-13T11:29:09.865Z"
   },
   {
    "duration": 29,
    "start_time": "2021-12-13T11:29:09.875Z"
   },
   {
    "duration": 40,
    "start_time": "2021-12-13T11:29:09.906Z"
   },
   {
    "duration": 22,
    "start_time": "2021-12-13T11:29:09.948Z"
   },
   {
    "duration": 455,
    "start_time": "2021-12-13T11:29:09.972Z"
   },
   {
    "duration": 8,
    "start_time": "2021-12-13T11:29:10.430Z"
   },
   {
    "duration": 22,
    "start_time": "2021-12-13T11:29:10.440Z"
   },
   {
    "duration": 35,
    "start_time": "2021-12-13T11:29:10.463Z"
   },
   {
    "duration": 66603,
    "start_time": "2021-12-13T11:30:29.615Z"
   },
   {
    "duration": 3,
    "start_time": "2021-12-13T11:31:36.220Z"
   },
   {
    "duration": 32835,
    "start_time": "2021-12-13T11:37:54.394Z"
   },
   {
    "duration": 10774,
    "start_time": "2021-12-13T15:25:20.146Z"
   },
   {
    "duration": 1497,
    "start_time": "2021-12-13T15:25:33.022Z"
   },
   {
    "duration": 4,
    "start_time": "2021-12-13T15:25:37.421Z"
   },
   {
    "duration": 229,
    "start_time": "2021-12-13T15:25:38.729Z"
   },
   {
    "duration": 397,
    "start_time": "2021-12-13T15:26:51.638Z"
   },
   {
    "duration": -145,
    "start_time": "2021-12-13T15:26:52.183Z"
   },
   {
    "duration": -150,
    "start_time": "2021-12-13T15:26:52.189Z"
   },
   {
    "duration": -154,
    "start_time": "2021-12-13T15:26:52.195Z"
   },
   {
    "duration": -158,
    "start_time": "2021-12-13T15:26:52.200Z"
   },
   {
    "duration": -262,
    "start_time": "2021-12-13T15:26:52.306Z"
   },
   {
    "duration": -266,
    "start_time": "2021-12-13T15:26:52.311Z"
   },
   {
    "duration": -269,
    "start_time": "2021-12-13T15:26:52.316Z"
   },
   {
    "duration": -272,
    "start_time": "2021-12-13T15:26:52.320Z"
   },
   {
    "duration": -275,
    "start_time": "2021-12-13T15:26:52.325Z"
   },
   {
    "duration": 196,
    "start_time": "2021-12-13T15:26:52.285Z"
   },
   {
    "duration": 151,
    "start_time": "2021-12-13T15:26:52.484Z"
   },
   {
    "duration": 99,
    "start_time": "2021-12-13T15:26:52.638Z"
   },
   {
    "duration": 128,
    "start_time": "2021-12-13T15:26:52.739Z"
   },
   {
    "duration": 15,
    "start_time": "2021-12-13T15:26:52.869Z"
   },
   {
    "duration": 27,
    "start_time": "2021-12-13T15:26:52.886Z"
   },
   {
    "duration": 12,
    "start_time": "2021-12-13T15:28:47.403Z"
   },
   {
    "duration": 27,
    "start_time": "2021-12-13T15:28:48.995Z"
   },
   {
    "duration": 40,
    "start_time": "2021-12-13T15:28:52.412Z"
   },
   {
    "duration": 28,
    "start_time": "2021-12-13T15:28:53.833Z"
   },
   {
    "duration": 810,
    "start_time": "2021-12-13T15:28:57.433Z"
   },
   {
    "duration": 11,
    "start_time": "2021-12-13T15:29:04.851Z"
   },
   {
    "duration": 23,
    "start_time": "2021-12-13T15:29:07.467Z"
   },
   {
    "duration": 28,
    "start_time": "2021-12-13T15:29:09.444Z"
   },
   {
    "duration": 289,
    "start_time": "2021-12-13T15:29:14.675Z"
   },
   {
    "duration": 38,
    "start_time": "2021-12-13T15:29:18.947Z"
   },
   {
    "duration": 12,
    "start_time": "2021-12-13T15:29:21.402Z"
   },
   {
    "duration": 21,
    "start_time": "2021-12-13T15:29:22.195Z"
   },
   {
    "duration": 17,
    "start_time": "2021-12-13T15:29:23.570Z"
   },
   {
    "duration": 14,
    "start_time": "2021-12-13T15:29:25.530Z"
   },
   {
    "duration": 14,
    "start_time": "2021-12-13T15:29:25.954Z"
   },
   {
    "duration": 39,
    "start_time": "2021-12-13T15:29:28.190Z"
   },
   {
    "duration": 15,
    "start_time": "2021-12-13T15:29:28.672Z"
   },
   {
    "duration": 14,
    "start_time": "2021-12-13T15:29:31.394Z"
   },
   {
    "duration": 22,
    "start_time": "2021-12-13T15:29:32.532Z"
   },
   {
    "duration": 21,
    "start_time": "2021-12-13T15:29:33.779Z"
   },
   {
    "duration": 19,
    "start_time": "2021-12-13T15:29:34.406Z"
   },
   {
    "duration": 4,
    "start_time": "2021-12-13T15:29:40.547Z"
   },
   {
    "duration": 55,
    "start_time": "2021-12-13T15:29:44.022Z"
   },
   {
    "duration": 7,
    "start_time": "2021-12-13T15:29:46.311Z"
   },
   {
    "duration": 6,
    "start_time": "2021-12-13T15:29:49.090Z"
   },
   {
    "duration": 44,
    "start_time": "2021-12-13T15:29:56.797Z"
   },
   {
    "duration": 45,
    "start_time": "2021-12-13T15:29:59.292Z"
   },
   {
    "duration": 6,
    "start_time": "2021-12-13T15:30:00.651Z"
   },
   {
    "duration": 4,
    "start_time": "2021-12-13T15:30:02.708Z"
   },
   {
    "duration": 4,
    "start_time": "2021-12-13T15:30:05.643Z"
   },
   {
    "duration": 17,
    "start_time": "2021-12-13T15:30:06.417Z"
   },
   {
    "duration": 6,
    "start_time": "2021-12-13T15:30:10.547Z"
   },
   {
    "duration": 3,
    "start_time": "2021-12-13T15:30:11.564Z"
   },
   {
    "duration": 9,
    "start_time": "2021-12-13T15:30:12.312Z"
   },
   {
    "duration": 5,
    "start_time": "2021-12-13T15:30:16.196Z"
   },
   {
    "duration": 13,
    "start_time": "2021-12-13T15:30:17.931Z"
   },
   {
    "duration": 5,
    "start_time": "2021-12-13T15:30:22.402Z"
   },
   {
    "duration": 14,
    "start_time": "2021-12-13T15:30:29.075Z"
   },
   {
    "duration": 5,
    "start_time": "2021-12-13T15:30:33.670Z"
   },
   {
    "duration": 14,
    "start_time": "2021-12-13T15:30:38.678Z"
   },
   {
    "duration": 7,
    "start_time": "2021-12-13T15:30:55.869Z"
   },
   {
    "duration": 79,
    "start_time": "2021-12-13T15:31:00.869Z"
   },
   {
    "duration": 10,
    "start_time": "2021-12-13T15:31:06.814Z"
   },
   {
    "duration": 308,
    "start_time": "2021-12-13T15:31:09.724Z"
   },
   {
    "duration": 10,
    "start_time": "2021-12-13T15:31:11.914Z"
   },
   {
    "duration": 370,
    "start_time": "2021-12-13T15:31:16.556Z"
   },
   {
    "duration": 9,
    "start_time": "2021-12-13T15:31:29.571Z"
   },
   {
    "duration": 54,
    "start_time": "2021-12-13T15:31:33.358Z"
   },
   {
    "duration": 14,
    "start_time": "2021-12-13T15:31:34.560Z"
   },
   {
    "duration": 10,
    "start_time": "2021-12-13T15:31:35.176Z"
   },
   {
    "duration": 283,
    "start_time": "2021-12-13T15:31:40.143Z"
   },
   {
    "duration": 256,
    "start_time": "2021-12-13T15:31:43.317Z"
   },
   {
    "duration": 12,
    "start_time": "2021-12-13T15:31:47.435Z"
   },
   {
    "duration": 392,
    "start_time": "2021-12-13T15:31:59.173Z"
   },
   {
    "duration": 9,
    "start_time": "2021-12-13T15:32:35.089Z"
   },
   {
    "duration": 8,
    "start_time": "2021-12-13T15:32:36.147Z"
   },
   {
    "duration": 3,
    "start_time": "2021-12-13T15:32:54.523Z"
   },
   {
    "duration": 7,
    "start_time": "2021-12-13T15:32:55.327Z"
   },
   {
    "duration": 4,
    "start_time": "2021-12-13T15:36:02.309Z"
   },
   {
    "duration": 7,
    "start_time": "2021-12-13T15:36:11.869Z"
   },
   {
    "duration": 3,
    "start_time": "2021-12-13T15:38:09.439Z"
   },
   {
    "duration": 6,
    "start_time": "2021-12-13T15:39:19.625Z"
   },
   {
    "duration": 5,
    "start_time": "2021-12-13T15:41:58.189Z"
   },
   {
    "duration": 9,
    "start_time": "2021-12-13T15:41:58.992Z"
   },
   {
    "duration": 18,
    "start_time": "2021-12-13T15:42:00.052Z"
   },
   {
    "duration": 9,
    "start_time": "2021-12-13T15:42:05.407Z"
   },
   {
    "duration": 9,
    "start_time": "2021-12-13T15:42:15.452Z"
   },
   {
    "duration": 9,
    "start_time": "2021-12-13T15:42:16.201Z"
   },
   {
    "duration": 7,
    "start_time": "2021-12-13T15:43:22.958Z"
   },
   {
    "duration": 6,
    "start_time": "2021-12-13T15:45:09.497Z"
   },
   {
    "duration": 4,
    "start_time": "2021-12-13T15:47:17.473Z"
   },
   {
    "duration": 5,
    "start_time": "2021-12-13T15:47:18.240Z"
   },
   {
    "duration": 20,
    "start_time": "2021-12-13T15:47:19.369Z"
   },
   {
    "duration": 9,
    "start_time": "2021-12-13T15:47:31.345Z"
   },
   {
    "duration": 27,
    "start_time": "2021-12-13T15:47:32.648Z"
   },
   {
    "duration": 17,
    "start_time": "2021-12-13T15:47:37.946Z"
   },
   {
    "duration": 615,
    "start_time": "2021-12-13T15:47:38.921Z"
   },
   {
    "duration": 18,
    "start_time": "2021-12-13T16:02:44.396Z"
   },
   {
    "duration": 707,
    "start_time": "2021-12-13T16:02:46.892Z"
   },
   {
    "duration": 1629,
    "start_time": "2021-12-13T16:10:50.606Z"
   },
   {
    "duration": 780,
    "start_time": "2021-12-13T16:14:10.943Z"
   },
   {
    "duration": 698,
    "start_time": "2021-12-13T16:15:33.663Z"
   },
   {
    "duration": 1597,
    "start_time": "2021-12-13T16:16:10.480Z"
   },
   {
    "duration": 3657,
    "start_time": "2021-12-13T16:25:07.249Z"
   },
   {
    "duration": 6,
    "start_time": "2021-12-13T16:25:11.662Z"
   },
   {
    "duration": 291,
    "start_time": "2021-12-13T16:25:14.056Z"
   },
   {
    "duration": 215,
    "start_time": "2021-12-13T16:25:14.528Z"
   },
   {
    "duration": 199,
    "start_time": "2021-12-13T16:25:14.875Z"
   },
   {
    "duration": 110,
    "start_time": "2021-12-13T16:25:15.317Z"
   },
   {
    "duration": 172,
    "start_time": "2021-12-13T16:25:16.104Z"
   },
   {
    "duration": 12,
    "start_time": "2021-12-13T16:25:17.056Z"
   },
   {
    "duration": 28,
    "start_time": "2021-12-13T16:25:17.420Z"
   },
   {
    "duration": 43,
    "start_time": "2021-12-13T16:25:20.631Z"
   },
   {
    "duration": 28,
    "start_time": "2021-12-13T16:25:21.175Z"
   },
   {
    "duration": 341,
    "start_time": "2021-12-13T16:25:23.390Z"
   },
   {
    "duration": 12,
    "start_time": "2021-12-13T16:25:24.544Z"
   },
   {
    "duration": 23,
    "start_time": "2021-12-13T16:25:25.255Z"
   },
   {
    "duration": 25,
    "start_time": "2021-12-13T16:25:25.687Z"
   },
   {
    "duration": 309,
    "start_time": "2021-12-13T16:25:26.480Z"
   },
   {
    "duration": 36,
    "start_time": "2021-12-13T16:25:26.880Z"
   },
   {
    "duration": 12,
    "start_time": "2021-12-13T16:25:27.073Z"
   },
   {
    "duration": 21,
    "start_time": "2021-12-13T16:25:27.278Z"
   },
   {
    "duration": 16,
    "start_time": "2021-12-13T16:25:27.654Z"
   },
   {
    "duration": 13,
    "start_time": "2021-12-13T16:25:27.855Z"
   },
   {
    "duration": 14,
    "start_time": "2021-12-13T16:25:28.016Z"
   },
   {
    "duration": 44,
    "start_time": "2021-12-13T16:25:28.225Z"
   },
   {
    "duration": 17,
    "start_time": "2021-12-13T16:25:28.407Z"
   },
   {
    "duration": 13,
    "start_time": "2021-12-13T16:25:28.615Z"
   },
   {
    "duration": 22,
    "start_time": "2021-12-13T16:25:29.027Z"
   },
   {
    "duration": 22,
    "start_time": "2021-12-13T16:25:29.261Z"
   },
   {
    "duration": 19,
    "start_time": "2021-12-13T16:25:29.550Z"
   },
   {
    "duration": 5,
    "start_time": "2021-12-13T16:25:31.547Z"
   },
   {
    "duration": 56,
    "start_time": "2021-12-13T16:25:32.114Z"
   },
   {
    "duration": 8,
    "start_time": "2021-12-13T16:25:33.151Z"
   },
   {
    "duration": 6,
    "start_time": "2021-12-13T16:25:33.992Z"
   },
   {
    "duration": 61,
    "start_time": "2021-12-13T16:25:35.145Z"
   },
   {
    "duration": 39,
    "start_time": "2021-12-13T16:25:35.872Z"
   },
   {
    "duration": 7,
    "start_time": "2021-12-13T16:25:36.250Z"
   },
   {
    "duration": 4,
    "start_time": "2021-12-13T16:25:36.650Z"
   },
   {
    "duration": 4,
    "start_time": "2021-12-13T16:25:37.399Z"
   },
   {
    "duration": 18,
    "start_time": "2021-12-13T16:25:37.729Z"
   },
   {
    "duration": 5,
    "start_time": "2021-12-13T16:25:38.976Z"
   },
   {
    "duration": 4,
    "start_time": "2021-12-13T16:25:39.369Z"
   },
   {
    "duration": 10,
    "start_time": "2021-12-13T16:25:39.784Z"
   },
   {
    "duration": 5,
    "start_time": "2021-12-13T16:25:41.208Z"
   },
   {
    "duration": 13,
    "start_time": "2021-12-13T16:25:46.064Z"
   },
   {
    "duration": 5,
    "start_time": "2021-12-13T16:25:48.845Z"
   },
   {
    "duration": 13,
    "start_time": "2021-12-13T16:25:51.545Z"
   },
   {
    "duration": 4,
    "start_time": "2021-12-13T16:25:52.994Z"
   },
   {
    "duration": 13,
    "start_time": "2021-12-13T16:25:53.975Z"
   },
   {
    "duration": 8,
    "start_time": "2021-12-13T16:25:59.217Z"
   },
   {
    "duration": 124,
    "start_time": "2021-12-13T16:26:08.161Z"
   },
   {
    "duration": 13,
    "start_time": "2021-12-13T16:26:14.202Z"
   },
   {
    "duration": 370,
    "start_time": "2021-12-13T16:26:18.881Z"
   },
   {
    "duration": 11,
    "start_time": "2021-12-13T16:26:22.848Z"
   },
   {
    "duration": 299,
    "start_time": "2021-12-13T16:26:23.809Z"
   },
   {
    "duration": 9,
    "start_time": "2021-12-13T16:26:24.417Z"
   },
   {
    "duration": 40,
    "start_time": "2021-12-13T16:26:24.802Z"
   },
   {
    "duration": 15,
    "start_time": "2021-12-13T16:26:25.304Z"
   },
   {
    "duration": 10,
    "start_time": "2021-12-13T16:26:25.501Z"
   },
   {
    "duration": 291,
    "start_time": "2021-12-13T16:26:25.898Z"
   },
   {
    "duration": 254,
    "start_time": "2021-12-13T16:26:26.307Z"
   },
   {
    "duration": 11,
    "start_time": "2021-12-13T16:26:27.631Z"
   },
   {
    "duration": 404,
    "start_time": "2021-12-13T16:26:29.033Z"
   },
   {
    "duration": 8,
    "start_time": "2021-12-13T16:26:33.352Z"
   },
   {
    "duration": 7,
    "start_time": "2021-12-13T16:26:33.913Z"
   },
   {
    "duration": 4,
    "start_time": "2021-12-13T16:26:36.025Z"
   },
   {
    "duration": 8,
    "start_time": "2021-12-13T16:26:36.504Z"
   },
   {
    "duration": 3,
    "start_time": "2021-12-13T16:26:38.112Z"
   },
   {
    "duration": 7,
    "start_time": "2021-12-13T16:26:38.844Z"
   },
   {
    "duration": 5,
    "start_time": "2021-12-13T16:26:56.696Z"
   },
   {
    "duration": 13,
    "start_time": "2021-12-13T16:26:57.164Z"
   },
   {
    "duration": 22,
    "start_time": "2021-12-13T16:26:59.529Z"
   },
   {
    "duration": 11,
    "start_time": "2021-12-13T16:27:02.160Z"
   },
   {
    "duration": 10,
    "start_time": "2021-12-13T16:27:03.792Z"
   },
   {
    "duration": 11,
    "start_time": "2021-12-13T16:27:05.674Z"
   },
   {
    "duration": 8,
    "start_time": "2021-12-13T16:27:07.150Z"
   },
   {
    "duration": 6,
    "start_time": "2021-12-13T16:27:08.532Z"
   },
   {
    "duration": 6,
    "start_time": "2021-12-13T16:27:33.271Z"
   },
   {
    "duration": 5,
    "start_time": "2021-12-13T16:27:33.695Z"
   },
   {
    "duration": 22,
    "start_time": "2021-12-13T16:27:35.529Z"
   },
   {
    "duration": 8,
    "start_time": "2021-12-13T16:27:36.714Z"
   },
   {
    "duration": 23,
    "start_time": "2021-12-13T16:27:37.104Z"
   },
   {
    "duration": 19,
    "start_time": "2021-12-13T16:27:38.925Z"
   },
   {
    "duration": 855,
    "start_time": "2021-12-13T16:27:39.665Z"
   },
   {
    "duration": 2024,
    "start_time": "2021-12-13T16:27:49.999Z"
   },
   {
    "duration": 292,
    "start_time": "2021-12-14T12:59:23.834Z"
   },
   {
    "duration": 7602,
    "start_time": "2021-12-14T12:59:28.926Z"
   },
   {
    "duration": 1103,
    "start_time": "2021-12-14T12:59:36.530Z"
   },
   {
    "duration": 586,
    "start_time": "2021-12-14T12:59:37.635Z"
   },
   {
    "duration": 324,
    "start_time": "2021-12-14T12:59:38.223Z"
   },
   {
    "duration": 211,
    "start_time": "2021-12-14T12:59:38.549Z"
   },
   {
    "duration": 131,
    "start_time": "2021-12-14T12:59:38.761Z"
   },
   {
    "duration": 118,
    "start_time": "2021-12-14T12:59:38.894Z"
   },
   {
    "duration": 10,
    "start_time": "2021-12-14T12:59:39.014Z"
   },
   {
    "duration": 22,
    "start_time": "2021-12-14T12:59:39.026Z"
   },
   {
    "duration": 28,
    "start_time": "2021-12-14T12:59:39.049Z"
   },
   {
    "duration": 22,
    "start_time": "2021-12-14T12:59:39.079Z"
   },
   {
    "duration": 808,
    "start_time": "2021-12-14T12:59:39.102Z"
   },
   {
    "duration": 7,
    "start_time": "2021-12-14T12:59:39.911Z"
   },
   {
    "duration": 21,
    "start_time": "2021-12-14T12:59:39.920Z"
   },
   {
    "duration": 16,
    "start_time": "2021-12-14T12:59:39.943Z"
   },
   {
    "duration": 186,
    "start_time": "2021-12-14T12:59:39.960Z"
   },
   {
    "duration": 25,
    "start_time": "2021-12-14T12:59:40.148Z"
   },
   {
    "duration": 24,
    "start_time": "2021-12-14T12:59:40.175Z"
   },
   {
    "duration": 14,
    "start_time": "2021-12-14T12:59:40.201Z"
   },
   {
    "duration": 10,
    "start_time": "2021-12-14T12:59:40.216Z"
   },
   {
    "duration": 7,
    "start_time": "2021-12-14T12:59:40.228Z"
   },
   {
    "duration": 8,
    "start_time": "2021-12-14T12:59:40.236Z"
   },
   {
    "duration": 56,
    "start_time": "2021-12-14T12:59:40.246Z"
   },
   {
    "duration": 8,
    "start_time": "2021-12-14T12:59:40.304Z"
   },
   {
    "duration": 11,
    "start_time": "2021-12-14T12:59:40.313Z"
   },
   {
    "duration": 15,
    "start_time": "2021-12-14T12:59:40.326Z"
   },
   {
    "duration": 13,
    "start_time": "2021-12-14T12:59:40.345Z"
   },
   {
    "duration": 35,
    "start_time": "2021-12-14T12:59:40.360Z"
   },
   {
    "duration": 5,
    "start_time": "2021-12-14T12:59:40.397Z"
   },
   {
    "duration": 42,
    "start_time": "2021-12-14T12:59:40.404Z"
   },
   {
    "duration": 5,
    "start_time": "2021-12-14T12:59:40.448Z"
   },
   {
    "duration": 6,
    "start_time": "2021-12-14T12:59:40.454Z"
   },
   {
    "duration": 51,
    "start_time": "2021-12-14T12:59:40.461Z"
   },
   {
    "duration": 29,
    "start_time": "2021-12-14T12:59:40.513Z"
   },
   {
    "duration": 3,
    "start_time": "2021-12-14T12:59:40.544Z"
   },
   {
    "duration": 7,
    "start_time": "2021-12-14T12:59:40.548Z"
   },
   {
    "duration": 11,
    "start_time": "2021-12-14T12:59:40.556Z"
   },
   {
    "duration": 22,
    "start_time": "2021-12-14T12:59:40.569Z"
   },
   {
    "duration": 3,
    "start_time": "2021-12-14T12:59:40.592Z"
   },
   {
    "duration": 7,
    "start_time": "2021-12-14T12:59:40.597Z"
   },
   {
    "duration": 9,
    "start_time": "2021-12-14T12:59:40.605Z"
   },
   {
    "duration": 4,
    "start_time": "2021-12-14T12:59:40.616Z"
   },
   {
    "duration": 13,
    "start_time": "2021-12-14T12:59:40.621Z"
   },
   {
    "duration": 4,
    "start_time": "2021-12-14T12:59:40.636Z"
   },
   {
    "duration": 13,
    "start_time": "2021-12-14T12:59:40.642Z"
   },
   {
    "duration": 5,
    "start_time": "2021-12-14T12:59:40.656Z"
   },
   {
    "duration": 25,
    "start_time": "2021-12-14T12:59:40.663Z"
   },
   {
    "duration": 7,
    "start_time": "2021-12-14T12:59:40.691Z"
   },
   {
    "duration": 60,
    "start_time": "2021-12-14T12:59:40.700Z"
   },
   {
    "duration": 11,
    "start_time": "2021-12-14T12:59:40.762Z"
   },
   {
    "duration": 17,
    "start_time": "2021-12-14T12:59:40.774Z"
   },
   {
    "duration": 175,
    "start_time": "2021-12-14T12:59:40.793Z"
   },
   {
    "duration": 7,
    "start_time": "2021-12-14T12:59:40.969Z"
   },
   {
    "duration": 246,
    "start_time": "2021-12-14T12:59:40.978Z"
   },
   {
    "duration": 7,
    "start_time": "2021-12-14T12:59:41.226Z"
   },
   {
    "duration": 27,
    "start_time": "2021-12-14T12:59:41.235Z"
   },
   {
    "duration": 26,
    "start_time": "2021-12-14T12:59:41.263Z"
   },
   {
    "duration": 13,
    "start_time": "2021-12-14T12:59:41.291Z"
   },
   {
    "duration": 186,
    "start_time": "2021-12-14T12:59:41.306Z"
   },
   {
    "duration": 171,
    "start_time": "2021-12-14T12:59:41.494Z"
   },
   {
    "duration": 8,
    "start_time": "2021-12-14T12:59:41.666Z"
   },
   {
    "duration": 250,
    "start_time": "2021-12-14T12:59:41.676Z"
   },
   {
    "duration": 5,
    "start_time": "2021-12-14T12:59:41.928Z"
   },
   {
    "duration": 31,
    "start_time": "2021-12-14T12:59:41.934Z"
   },
   {
    "duration": 29,
    "start_time": "2021-12-14T12:59:41.967Z"
   },
   {
    "duration": 16,
    "start_time": "2021-12-14T12:59:41.998Z"
   },
   {
    "duration": 23,
    "start_time": "2021-12-14T12:59:42.016Z"
   },
   {
    "duration": 14,
    "start_time": "2021-12-14T12:59:42.040Z"
   },
   {
    "duration": 25,
    "start_time": "2021-12-14T12:59:42.056Z"
   },
   {
    "duration": 25,
    "start_time": "2021-12-14T12:59:42.082Z"
   },
   {
    "duration": 30,
    "start_time": "2021-12-14T12:59:42.108Z"
   },
   {
    "duration": 26,
    "start_time": "2021-12-14T12:59:42.139Z"
   },
   {
    "duration": 15,
    "start_time": "2021-12-14T12:59:42.166Z"
   },
   {
    "duration": 18,
    "start_time": "2021-12-14T12:59:42.183Z"
   },
   {
    "duration": 11,
    "start_time": "2021-12-14T12:59:42.203Z"
   },
   {
    "duration": 19,
    "start_time": "2021-12-14T12:59:42.215Z"
   },
   {
    "duration": 13,
    "start_time": "2021-12-14T12:59:42.235Z"
   },
   {
    "duration": 4,
    "start_time": "2021-12-14T12:59:42.249Z"
   },
   {
    "duration": 17,
    "start_time": "2021-12-14T12:59:42.255Z"
   },
   {
    "duration": 4,
    "start_time": "2021-12-14T12:59:42.274Z"
   },
   {
    "duration": 14,
    "start_time": "2021-12-14T12:59:42.283Z"
   },
   {
    "duration": 11,
    "start_time": "2021-12-14T12:59:42.299Z"
   },
   {
    "duration": 490,
    "start_time": "2021-12-14T12:59:42.312Z"
   },
   {
    "duration": 994,
    "start_time": "2021-12-14T12:59:42.804Z"
   },
   {
    "duration": 8967,
    "start_time": "2021-12-15T18:46:40.252Z"
   },
   {
    "duration": 1435,
    "start_time": "2021-12-15T18:46:49.221Z"
   },
   {
    "duration": 216,
    "start_time": "2021-12-15T18:46:50.658Z"
   },
   {
    "duration": 203,
    "start_time": "2021-12-15T18:46:51.126Z"
   },
   {
    "duration": 179,
    "start_time": "2021-12-15T18:46:52.138Z"
   },
   {
    "duration": 120,
    "start_time": "2021-12-15T18:46:52.602Z"
   },
   {
    "duration": 148,
    "start_time": "2021-12-15T18:46:52.894Z"
   },
   {
    "duration": 12,
    "start_time": "2021-12-15T18:46:53.608Z"
   },
   {
    "duration": 20,
    "start_time": "2021-12-15T18:46:54.439Z"
   },
   {
    "duration": 33,
    "start_time": "2021-12-15T18:46:55.159Z"
   },
   {
    "duration": 24,
    "start_time": "2021-12-15T18:46:56.048Z"
   },
   {
    "duration": 787,
    "start_time": "2021-12-15T18:46:56.400Z"
   },
   {
    "duration": 9,
    "start_time": "2021-12-15T18:46:57.334Z"
   },
   {
    "duration": 18,
    "start_time": "2021-12-15T18:46:57.557Z"
   },
   {
    "duration": 20,
    "start_time": "2021-12-15T18:46:58.272Z"
   },
   {
    "duration": 191,
    "start_time": "2021-12-15T18:46:59.079Z"
   },
   {
    "duration": 27,
    "start_time": "2021-12-15T18:46:59.856Z"
   },
   {
    "duration": 8,
    "start_time": "2021-12-15T18:47:00.548Z"
   },
   {
    "duration": 15,
    "start_time": "2021-12-15T18:47:01.082Z"
   },
   {
    "duration": 12,
    "start_time": "2021-12-15T18:47:02.880Z"
   },
   {
    "duration": 12,
    "start_time": "2021-12-15T18:47:03.227Z"
   },
   {
    "duration": 10,
    "start_time": "2021-12-15T18:47:05.954Z"
   },
   {
    "duration": 28,
    "start_time": "2021-12-15T18:47:06.404Z"
   },
   {
    "duration": 12,
    "start_time": "2021-12-15T18:47:07.096Z"
   },
   {
    "duration": 10,
    "start_time": "2021-12-15T18:47:07.584Z"
   },
   {
    "duration": 16,
    "start_time": "2021-12-15T18:47:08.392Z"
   },
   {
    "duration": 42,
    "start_time": "2021-12-15T18:47:09.153Z"
   },
   {
    "duration": 15,
    "start_time": "2021-12-15T18:47:09.728Z"
   },
   {
    "duration": 4,
    "start_time": "2021-12-15T18:47:17.841Z"
   },
   {
    "duration": 47,
    "start_time": "2021-12-15T18:47:20.227Z"
   },
   {
    "duration": 7,
    "start_time": "2021-12-15T18:47:21.002Z"
   },
   {
    "duration": 5,
    "start_time": "2021-12-15T18:47:22.944Z"
   },
   {
    "duration": 35,
    "start_time": "2021-12-15T18:47:28.112Z"
   },
   {
    "duration": 37,
    "start_time": "2021-12-15T18:47:38.370Z"
   },
   {
    "duration": 4,
    "start_time": "2021-12-15T18:47:40.685Z"
   },
   {
    "duration": 4,
    "start_time": "2021-12-15T18:47:41.728Z"
   },
   {
    "duration": 4,
    "start_time": "2021-12-15T18:47:42.950Z"
   },
   {
    "duration": 14,
    "start_time": "2021-12-15T18:47:43.185Z"
   },
   {
    "duration": 4,
    "start_time": "2021-12-15T18:47:48.451Z"
   },
   {
    "duration": 3,
    "start_time": "2021-12-15T18:47:50.026Z"
   },
   {
    "duration": 8,
    "start_time": "2021-12-15T18:47:50.369Z"
   },
   {
    "duration": 3,
    "start_time": "2021-12-15T18:48:08.150Z"
   },
   {
    "duration": 10,
    "start_time": "2021-12-15T18:48:10.490Z"
   },
   {
    "duration": 3,
    "start_time": "2021-12-15T18:48:17.720Z"
   },
   {
    "duration": 9,
    "start_time": "2021-12-15T18:48:20.097Z"
   },
   {
    "duration": 3,
    "start_time": "2021-12-15T18:48:25.600Z"
   },
   {
    "duration": 13,
    "start_time": "2021-12-15T18:48:26.079Z"
   },
   {
    "duration": 7440,
    "start_time": "2021-12-15T23:22:40.662Z"
   },
   {
    "duration": 1187,
    "start_time": "2021-12-15T23:22:48.104Z"
   },
   {
    "duration": 190,
    "start_time": "2021-12-15T23:22:49.293Z"
   },
   {
    "duration": 160,
    "start_time": "2021-12-15T23:22:49.485Z"
   },
   {
    "duration": 129,
    "start_time": "2021-12-15T23:22:49.647Z"
   },
   {
    "duration": 95,
    "start_time": "2021-12-15T23:22:49.778Z"
   },
   {
    "duration": 99,
    "start_time": "2021-12-15T23:22:49.875Z"
   },
   {
    "duration": 9,
    "start_time": "2021-12-15T23:22:49.976Z"
   },
   {
    "duration": 18,
    "start_time": "2021-12-15T23:22:49.987Z"
   },
   {
    "duration": 29,
    "start_time": "2021-12-15T23:22:50.007Z"
   },
   {
    "duration": 20,
    "start_time": "2021-12-15T23:22:50.037Z"
   },
   {
    "duration": 570,
    "start_time": "2021-12-15T23:22:50.059Z"
   },
   {
    "duration": 7,
    "start_time": "2021-12-15T23:22:50.630Z"
   },
   {
    "duration": 18,
    "start_time": "2021-12-15T23:22:50.638Z"
   },
   {
    "duration": 33,
    "start_time": "2021-12-15T23:22:50.657Z"
   },
   {
    "duration": 177,
    "start_time": "2021-12-15T23:22:50.691Z"
   },
   {
    "duration": 29,
    "start_time": "2021-12-15T23:22:50.869Z"
   },
   {
    "duration": 6,
    "start_time": "2021-12-15T23:22:50.899Z"
   },
   {
    "duration": 15,
    "start_time": "2021-12-15T23:22:50.906Z"
   },
   {
    "duration": 10,
    "start_time": "2021-12-15T23:22:50.923Z"
   },
   {
    "duration": 8,
    "start_time": "2021-12-15T23:22:50.935Z"
   },
   {
    "duration": 12,
    "start_time": "2021-12-15T23:22:50.945Z"
   },
   {
    "duration": 24,
    "start_time": "2021-12-15T23:22:50.989Z"
   },
   {
    "duration": 10,
    "start_time": "2021-12-15T23:22:51.015Z"
   },
   {
    "duration": 11,
    "start_time": "2021-12-15T23:22:51.028Z"
   },
   {
    "duration": 15,
    "start_time": "2021-12-15T23:22:51.041Z"
   },
   {
    "duration": 43,
    "start_time": "2021-12-15T23:22:51.057Z"
   },
   {
    "duration": 16,
    "start_time": "2021-12-15T23:22:51.102Z"
   },
   {
    "duration": 3,
    "start_time": "2021-12-15T23:22:51.120Z"
   },
   {
    "duration": 43,
    "start_time": "2021-12-15T23:22:51.124Z"
   },
   {
    "duration": 19,
    "start_time": "2021-12-15T23:22:51.169Z"
   },
   {
    "duration": 4,
    "start_time": "2021-12-15T23:22:51.190Z"
   },
   {
    "duration": 36,
    "start_time": "2021-12-15T23:22:51.195Z"
   },
   {
    "duration": 30,
    "start_time": "2021-12-15T23:22:51.233Z"
   },
   {
    "duration": 24,
    "start_time": "2021-12-15T23:22:51.265Z"
   },
   {
    "duration": 5,
    "start_time": "2021-12-15T23:22:51.291Z"
   },
   {
    "duration": 3,
    "start_time": "2021-12-15T23:22:51.590Z"
   },
   {
    "duration": 12,
    "start_time": "2021-12-15T23:22:51.764Z"
   },
   {
    "duration": 4,
    "start_time": "2021-12-15T23:22:52.303Z"
   },
   {
    "duration": 2,
    "start_time": "2021-12-15T23:22:52.493Z"
   },
   {
    "duration": 6,
    "start_time": "2021-12-15T23:22:52.686Z"
   },
   {
    "duration": 3,
    "start_time": "2021-12-15T23:22:53.065Z"
   },
   {
    "duration": 9,
    "start_time": "2021-12-15T23:22:53.241Z"
   },
   {
    "duration": 4,
    "start_time": "2021-12-15T23:22:53.606Z"
   },
   {
    "duration": 11,
    "start_time": "2021-12-15T23:22:53.797Z"
   },
   {
    "duration": 3,
    "start_time": "2021-12-15T23:22:53.997Z"
   },
   {
    "duration": 8,
    "start_time": "2021-12-15T23:22:54.182Z"
   },
   {
    "duration": 5,
    "start_time": "2021-12-15T23:22:55.478Z"
   },
   {
    "duration": 5,
    "start_time": "2021-12-15T23:44:28.778Z"
   },
   {
    "duration": 45,
    "start_time": "2021-12-15T23:44:35.387Z"
   },
   {
    "duration": 11744,
    "start_time": "2021-12-19T14:23:10.457Z"
   },
   {
    "duration": 1992,
    "start_time": "2021-12-19T14:23:22.203Z"
   },
   {
    "duration": 258,
    "start_time": "2021-12-19T14:23:24.199Z"
   },
   {
    "duration": 186,
    "start_time": "2021-12-19T14:23:24.460Z"
   },
   {
    "duration": 151,
    "start_time": "2021-12-19T14:23:24.648Z"
   },
   {
    "duration": 114,
    "start_time": "2021-12-19T14:23:24.802Z"
   },
   {
    "duration": 115,
    "start_time": "2021-12-19T14:23:24.918Z"
   },
   {
    "duration": 17,
    "start_time": "2021-12-19T14:23:25.036Z"
   },
   {
    "duration": 43,
    "start_time": "2021-12-19T14:23:25.056Z"
   },
   {
    "duration": 67,
    "start_time": "2021-12-19T14:23:27.798Z"
   },
   {
    "duration": 29,
    "start_time": "2021-12-19T14:23:29.797Z"
   },
   {
    "duration": 787,
    "start_time": "2021-12-19T14:23:34.159Z"
   },
   {
    "duration": 15,
    "start_time": "2021-12-19T14:23:36.403Z"
   },
   {
    "duration": 25,
    "start_time": "2021-12-19T14:23:37.518Z"
   },
   {
    "duration": 28,
    "start_time": "2021-12-19T14:23:38.759Z"
   },
   {
    "duration": 300,
    "start_time": "2021-12-19T14:23:44.900Z"
   },
   {
    "duration": 40,
    "start_time": "2021-12-19T14:23:50.132Z"
   },
   {
    "duration": 10,
    "start_time": "2021-12-19T14:23:51.292Z"
   },
   {
    "duration": 21,
    "start_time": "2021-12-19T14:23:54.377Z"
   },
   {
    "duration": 15,
    "start_time": "2021-12-19T14:23:56.126Z"
   },
   {
    "duration": 14,
    "start_time": "2021-12-19T14:23:58.539Z"
   },
   {
    "duration": 14,
    "start_time": "2021-12-19T14:23:59.091Z"
   },
   {
    "duration": 41,
    "start_time": "2021-12-19T14:24:09.876Z"
   },
   {
    "duration": 15,
    "start_time": "2021-12-19T14:24:10.301Z"
   },
   {
    "duration": 13,
    "start_time": "2021-12-19T14:24:10.519Z"
   },
   {
    "duration": 23,
    "start_time": "2021-12-19T14:24:11.037Z"
   },
   {
    "duration": 23,
    "start_time": "2021-12-19T14:24:11.298Z"
   },
   {
    "duration": 19,
    "start_time": "2021-12-19T14:24:11.522Z"
   },
   {
    "duration": 5,
    "start_time": "2021-12-19T14:24:13.190Z"
   },
   {
    "duration": 65,
    "start_time": "2021-12-19T14:24:15.190Z"
   },
   {
    "duration": 9,
    "start_time": "2021-12-19T14:24:18.477Z"
   },
   {
    "duration": 7,
    "start_time": "2021-12-19T14:24:22.397Z"
   },
   {
    "duration": 52,
    "start_time": "2021-12-19T14:24:24.076Z"
   },
   {
    "duration": 44,
    "start_time": "2021-12-19T14:24:25.027Z"
   },
   {
    "duration": 5,
    "start_time": "2021-12-19T14:24:25.254Z"
   },
   {
    "duration": 4,
    "start_time": "2021-12-19T14:24:25.456Z"
   },
   {
    "duration": 3,
    "start_time": "2021-12-19T14:24:25.840Z"
   },
   {
    "duration": 20,
    "start_time": "2021-12-19T14:24:26.038Z"
   },
   {
    "duration": 5,
    "start_time": "2021-12-19T14:24:29.187Z"
   },
   {
    "duration": 6,
    "start_time": "2021-12-19T14:24:29.718Z"
   },
   {
    "duration": 10,
    "start_time": "2021-12-19T14:24:30.070Z"
   },
   {
    "duration": 5,
    "start_time": "2021-12-19T14:24:30.687Z"
   },
   {
    "duration": 13,
    "start_time": "2021-12-19T14:24:30.914Z"
   },
   {
    "duration": 5,
    "start_time": "2021-12-19T14:24:31.628Z"
   },
   {
    "duration": 15,
    "start_time": "2021-12-19T14:24:32.196Z"
   },
   {
    "duration": 4,
    "start_time": "2021-12-19T14:24:32.518Z"
   },
   {
    "duration": 13,
    "start_time": "2021-12-19T14:24:35.398Z"
   },
   {
    "duration": 81,
    "start_time": "2021-12-19T15:24:51.370Z"
   },
   {
    "duration": 107,
    "start_time": "2021-12-19T15:25:37.442Z"
   },
   {
    "duration": 3322,
    "start_time": "2021-12-19T15:27:13.150Z"
   },
   {
    "duration": 5,
    "start_time": "2021-12-19T15:27:16.890Z"
   },
   {
    "duration": 229,
    "start_time": "2021-12-19T15:27:20.078Z"
   },
   {
    "duration": 189,
    "start_time": "2021-12-19T15:27:20.309Z"
   },
   {
    "duration": 180,
    "start_time": "2021-12-19T15:27:20.501Z"
   },
   {
    "duration": 85,
    "start_time": "2021-12-19T15:27:20.684Z"
   },
   {
    "duration": 117,
    "start_time": "2021-12-19T15:27:20.854Z"
   },
   {
    "duration": 13,
    "start_time": "2021-12-19T15:27:21.371Z"
   },
   {
    "duration": 28,
    "start_time": "2021-12-19T15:27:21.740Z"
   },
   {
    "duration": 45,
    "start_time": "2021-12-19T15:27:22.125Z"
   },
   {
    "duration": 30,
    "start_time": "2021-12-19T15:27:22.350Z"
   },
   {
    "duration": 317,
    "start_time": "2021-12-19T15:27:23.166Z"
   },
   {
    "duration": 12,
    "start_time": "2021-12-19T15:27:23.563Z"
   },
   {
    "duration": 27,
    "start_time": "2021-12-19T15:27:23.762Z"
   },
   {
    "duration": 26,
    "start_time": "2021-12-19T15:27:24.172Z"
   },
   {
    "duration": 383,
    "start_time": "2021-12-19T15:27:24.596Z"
   },
   {
    "duration": 40,
    "start_time": "2021-12-19T15:27:25.211Z"
   },
   {
    "duration": 11,
    "start_time": "2021-12-19T15:27:25.425Z"
   },
   {
    "duration": 20,
    "start_time": "2021-12-19T15:27:25.672Z"
   },
   {
    "duration": 16,
    "start_time": "2021-12-19T15:27:26.028Z"
   },
   {
    "duration": 14,
    "start_time": "2021-12-19T15:27:26.238Z"
   },
   {
    "duration": 14,
    "start_time": "2021-12-19T15:27:26.450Z"
   },
   {
    "duration": 37,
    "start_time": "2021-12-19T15:27:26.642Z"
   },
   {
    "duration": 14,
    "start_time": "2021-12-19T15:27:26.842Z"
   },
   {
    "duration": 17,
    "start_time": "2021-12-19T15:27:27.037Z"
   },
   {
    "duration": 28,
    "start_time": "2021-12-19T15:27:27.430Z"
   },
   {
    "duration": 21,
    "start_time": "2021-12-19T15:27:27.672Z"
   },
   {
    "duration": 17,
    "start_time": "2021-12-19T15:27:27.869Z"
   },
   {
    "duration": 4,
    "start_time": "2021-12-19T15:27:28.947Z"
   },
   {
    "duration": 62,
    "start_time": "2021-12-19T15:27:29.652Z"
   },
   {
    "duration": 6,
    "start_time": "2021-12-19T15:27:30.197Z"
   },
   {
    "duration": 6,
    "start_time": "2021-12-19T15:27:30.672Z"
   },
   {
    "duration": 49,
    "start_time": "2021-12-19T15:27:31.793Z"
   },
   {
    "duration": 41,
    "start_time": "2021-12-19T15:27:32.534Z"
   },
   {
    "duration": 5,
    "start_time": "2021-12-19T15:27:32.716Z"
   },
   {
    "duration": 4,
    "start_time": "2021-12-19T15:27:32.937Z"
   },
   {
    "duration": 4,
    "start_time": "2021-12-19T15:27:33.750Z"
   },
   {
    "duration": 19,
    "start_time": "2021-12-19T15:27:34.261Z"
   },
   {
    "duration": 5,
    "start_time": "2021-12-19T15:27:34.907Z"
   },
   {
    "duration": 4,
    "start_time": "2021-12-19T15:27:35.331Z"
   },
   {
    "duration": 12,
    "start_time": "2021-12-19T15:27:35.926Z"
   },
   {
    "duration": 6,
    "start_time": "2021-12-19T15:27:36.457Z"
   },
   {
    "duration": 13,
    "start_time": "2021-12-19T15:27:36.619Z"
   },
   {
    "duration": 5,
    "start_time": "2021-12-19T15:27:37.316Z"
   },
   {
    "duration": 13,
    "start_time": "2021-12-19T15:27:37.501Z"
   },
   {
    "duration": 4,
    "start_time": "2021-12-19T15:27:37.710Z"
   },
   {
    "duration": 13,
    "start_time": "2021-12-19T15:27:37.894Z"
   },
   {
    "duration": 88,
    "start_time": "2021-12-19T15:27:46.482Z"
   },
   {
    "duration": 9,
    "start_time": "2021-12-19T15:31:52.201Z"
   },
   {
    "duration": 83,
    "start_time": "2021-12-19T15:31:58.840Z"
   },
   {
    "duration": 11,
    "start_time": "2021-12-19T15:32:55.293Z"
   },
   {
    "duration": 3334,
    "start_time": "2021-12-19T15:35:40.910Z"
   },
   {
    "duration": 4,
    "start_time": "2021-12-19T15:35:47.417Z"
   },
   {
    "duration": 259,
    "start_time": "2021-12-19T15:35:49.599Z"
   },
   {
    "duration": 196,
    "start_time": "2021-12-19T15:35:50.068Z"
   },
   {
    "duration": 158,
    "start_time": "2021-12-19T15:35:50.311Z"
   },
   {
    "duration": 131,
    "start_time": "2021-12-19T15:35:50.574Z"
   },
   {
    "duration": 102,
    "start_time": "2021-12-19T15:35:50.833Z"
   },
   {
    "duration": 13,
    "start_time": "2021-12-19T15:35:51.199Z"
   },
   {
    "duration": 29,
    "start_time": "2021-12-19T15:35:51.565Z"
   },
   {
    "duration": 48,
    "start_time": "2021-12-19T15:35:52.039Z"
   },
   {
    "duration": 31,
    "start_time": "2021-12-19T15:35:53.265Z"
   },
   {
    "duration": 312,
    "start_time": "2021-12-19T15:35:53.614Z"
   },
   {
    "duration": 11,
    "start_time": "2021-12-19T15:35:54.639Z"
   },
   {
    "duration": 24,
    "start_time": "2021-12-19T15:35:54.846Z"
   },
   {
    "duration": 27,
    "start_time": "2021-12-19T15:35:55.813Z"
   },
   {
    "duration": 330,
    "start_time": "2021-12-19T15:35:57.068Z"
   },
   {
    "duration": 39,
    "start_time": "2021-12-19T15:35:58.345Z"
   },
   {
    "duration": 10,
    "start_time": "2021-12-19T15:35:58.507Z"
   },
   {
    "duration": 22,
    "start_time": "2021-12-19T15:35:58.692Z"
   },
   {
    "duration": 18,
    "start_time": "2021-12-19T15:35:59.560Z"
   },
   {
    "duration": 14,
    "start_time": "2021-12-19T15:36:00.502Z"
   },
   {
    "duration": 13,
    "start_time": "2021-12-19T15:36:00.664Z"
   },
   {
    "duration": 43,
    "start_time": "2021-12-19T15:36:03.934Z"
   },
   {
    "duration": 14,
    "start_time": "2021-12-19T15:36:04.311Z"
   },
   {
    "duration": 13,
    "start_time": "2021-12-19T15:36:05.159Z"
   },
   {
    "duration": 22,
    "start_time": "2021-12-19T15:36:06.544Z"
   },
   {
    "duration": 25,
    "start_time": "2021-12-19T15:36:07.472Z"
   },
   {
    "duration": 20,
    "start_time": "2021-12-19T15:36:08.526Z"
   },
   {
    "duration": 4,
    "start_time": "2021-12-19T15:36:17.881Z"
   },
   {
    "duration": 63,
    "start_time": "2021-12-19T15:36:20.924Z"
   },
   {
    "duration": 7,
    "start_time": "2021-12-19T15:36:22.513Z"
   },
   {
    "duration": 6,
    "start_time": "2021-12-19T15:36:23.749Z"
   },
   {
    "duration": 48,
    "start_time": "2021-12-19T15:36:25.808Z"
   },
   {
    "duration": 40,
    "start_time": "2021-12-19T15:36:28.440Z"
   },
   {
    "duration": 5,
    "start_time": "2021-12-19T15:36:28.719Z"
   },
   {
    "duration": 4,
    "start_time": "2021-12-19T15:36:29.129Z"
   },
   {
    "duration": 4,
    "start_time": "2021-12-19T15:36:29.726Z"
   },
   {
    "duration": 18,
    "start_time": "2021-12-19T15:36:29.912Z"
   },
   {
    "duration": 5,
    "start_time": "2021-12-19T15:36:31.566Z"
   },
   {
    "duration": 4,
    "start_time": "2021-12-19T15:36:32.094Z"
   },
   {
    "duration": 10,
    "start_time": "2021-12-19T15:36:32.407Z"
   },
   {
    "duration": 5,
    "start_time": "2021-12-19T15:36:33.238Z"
   },
   {
    "duration": 14,
    "start_time": "2021-12-19T15:36:33.589Z"
   },
   {
    "duration": 5,
    "start_time": "2021-12-19T15:36:34.846Z"
   },
   {
    "duration": 14,
    "start_time": "2021-12-19T15:36:35.320Z"
   },
   {
    "duration": 5,
    "start_time": "2021-12-19T15:36:36.398Z"
   },
   {
    "duration": 14,
    "start_time": "2021-12-19T15:36:36.951Z"
   },
   {
    "duration": 12,
    "start_time": "2021-12-19T15:36:40.145Z"
   },
   {
    "duration": 82,
    "start_time": "2021-12-19T15:36:50.007Z"
   },
   {
    "duration": 14,
    "start_time": "2021-12-19T15:37:00.742Z"
   },
   {
    "duration": 304,
    "start_time": "2021-12-19T15:37:08.706Z"
   },
   {
    "duration": 11,
    "start_time": "2021-12-19T15:37:18.022Z"
   },
   {
    "duration": 296,
    "start_time": "2021-12-19T15:37:19.367Z"
   },
   {
    "duration": 9,
    "start_time": "2021-12-19T15:37:20.749Z"
   },
   {
    "duration": 38,
    "start_time": "2021-12-19T15:37:22.081Z"
   },
   {
    "duration": 15,
    "start_time": "2021-12-19T15:37:23.423Z"
   },
   {
    "duration": 12,
    "start_time": "2021-12-19T15:37:23.848Z"
   },
   {
    "duration": 323,
    "start_time": "2021-12-19T15:37:25.304Z"
   },
   {
    "duration": 267,
    "start_time": "2021-12-19T15:37:27.599Z"
   },
   {
    "duration": 10,
    "start_time": "2021-12-19T15:37:34.963Z"
   },
   {
    "duration": 495,
    "start_time": "2021-12-19T15:37:41.016Z"
   },
   {
    "duration": 421,
    "start_time": "2021-12-19T15:42:51.054Z"
   },
   {
    "duration": 309,
    "start_time": "2021-12-19T15:43:10.483Z"
   },
   {
    "duration": 636,
    "start_time": "2021-12-19T15:43:27.052Z"
   },
   {
    "duration": 9,
    "start_time": "2021-12-19T15:46:34.641Z"
   },
   {
    "duration": 7,
    "start_time": "2021-12-19T15:46:37.607Z"
   },
   {
    "duration": 4,
    "start_time": "2021-12-19T15:46:40.185Z"
   },
   {
    "duration": 8,
    "start_time": "2021-12-19T15:46:41.033Z"
   },
   {
    "duration": 4,
    "start_time": "2021-12-19T15:47:30.650Z"
   },
   {
    "duration": 7,
    "start_time": "2021-12-19T15:47:32.297Z"
   },
   {
    "duration": 4,
    "start_time": "2021-12-19T15:48:04.441Z"
   },
   {
    "duration": 9,
    "start_time": "2021-12-19T15:48:05.220Z"
   },
   {
    "duration": 16,
    "start_time": "2021-12-19T15:48:05.675Z"
   },
   {
    "duration": 8,
    "start_time": "2021-12-19T15:48:09.451Z"
   },
   {
    "duration": 8,
    "start_time": "2021-12-19T15:48:12.408Z"
   },
   {
    "duration": 8,
    "start_time": "2021-12-19T15:48:12.636Z"
   },
   {
    "duration": 7,
    "start_time": "2021-12-19T15:48:15.190Z"
   },
   {
    "duration": 8,
    "start_time": "2021-12-19T15:48:58.744Z"
   },
   {
    "duration": 6,
    "start_time": "2021-12-19T15:49:09.465Z"
   },
   {
    "duration": 5,
    "start_time": "2021-12-19T15:49:09.930Z"
   },
   {
    "duration": 22,
    "start_time": "2021-12-19T15:49:10.522Z"
   },
   {
    "duration": 8,
    "start_time": "2021-12-19T15:49:16.580Z"
   },
   {
    "duration": 19,
    "start_time": "2021-12-19T15:49:17.836Z"
   },
   {
    "duration": 24,
    "start_time": "2021-12-19T15:49:20.789Z"
   },
   {
    "duration": 1160,
    "start_time": "2021-12-19T15:49:21.411Z"
   },
   {
    "duration": 1778,
    "start_time": "2021-12-19T15:51:21.716Z"
   },
   {
    "duration": 3581,
    "start_time": "2021-12-19T16:08:33.455Z"
   },
   {
    "duration": 4,
    "start_time": "2021-12-19T16:08:37.051Z"
   },
   {
    "duration": 230,
    "start_time": "2021-12-19T16:08:42.618Z"
   },
   {
    "duration": 190,
    "start_time": "2021-12-19T16:08:43.086Z"
   },
   {
    "duration": 143,
    "start_time": "2021-12-19T16:08:43.529Z"
   },
   {
    "duration": 97,
    "start_time": "2021-12-19T16:08:43.990Z"
   },
   {
    "duration": 99,
    "start_time": "2021-12-19T16:08:45.148Z"
   },
   {
    "duration": 12,
    "start_time": "2021-12-19T16:08:46.381Z"
   },
   {
    "duration": 29,
    "start_time": "2021-12-19T16:08:47.575Z"
   },
   {
    "duration": 45,
    "start_time": "2021-12-19T16:08:49.982Z"
   },
   {
    "duration": 30,
    "start_time": "2021-12-19T16:08:50.734Z"
   },
   {
    "duration": 327,
    "start_time": "2021-12-19T16:08:51.784Z"
   },
   {
    "duration": 12,
    "start_time": "2021-12-19T16:08:53.326Z"
   },
   {
    "duration": 25,
    "start_time": "2021-12-19T16:08:53.783Z"
   },
   {
    "duration": 25,
    "start_time": "2021-12-19T16:08:54.885Z"
   },
   {
    "duration": 318,
    "start_time": "2021-12-19T16:08:56.192Z"
   },
   {
    "duration": 42,
    "start_time": "2021-12-19T16:08:57.509Z"
   },
   {
    "duration": 14,
    "start_time": "2021-12-19T16:08:57.920Z"
   },
   {
    "duration": 20,
    "start_time": "2021-12-19T16:08:58.510Z"
   },
   {
    "duration": 16,
    "start_time": "2021-12-19T16:08:59.518Z"
   },
   {
    "duration": 13,
    "start_time": "2021-12-19T16:09:00.029Z"
   },
   {
    "duration": 15,
    "start_time": "2021-12-19T16:09:00.535Z"
   },
   {
    "duration": 42,
    "start_time": "2021-12-19T16:09:01.031Z"
   },
   {
    "duration": 15,
    "start_time": "2021-12-19T16:09:01.573Z"
   },
   {
    "duration": 15,
    "start_time": "2021-12-19T16:09:02.064Z"
   },
   {
    "duration": 22,
    "start_time": "2021-12-19T16:09:05.311Z"
   },
   {
    "duration": 22,
    "start_time": "2021-12-19T16:09:05.935Z"
   },
   {
    "duration": 21,
    "start_time": "2021-12-19T16:09:06.373Z"
   },
   {
    "duration": 7,
    "start_time": "2021-12-19T16:09:08.543Z"
   },
   {
    "duration": 69,
    "start_time": "2021-12-19T16:09:10.415Z"
   },
   {
    "duration": 8,
    "start_time": "2021-12-19T16:09:11.264Z"
   },
   {
    "duration": 8,
    "start_time": "2021-12-19T16:09:11.622Z"
   },
   {
    "duration": 61,
    "start_time": "2021-12-19T16:09:12.599Z"
   },
   {
    "duration": 39,
    "start_time": "2021-12-19T16:09:13.247Z"
   },
   {
    "duration": 7,
    "start_time": "2021-12-19T16:09:13.423Z"
   },
   {
    "duration": 4,
    "start_time": "2021-12-19T16:09:13.591Z"
   },
   {
    "duration": 3,
    "start_time": "2021-12-19T16:09:14.198Z"
   },
   {
    "duration": 19,
    "start_time": "2021-12-19T16:09:14.776Z"
   },
   {
    "duration": 5,
    "start_time": "2021-12-19T16:09:15.305Z"
   },
   {
    "duration": 4,
    "start_time": "2021-12-19T16:09:15.510Z"
   },
   {
    "duration": 10,
    "start_time": "2021-12-19T16:09:15.857Z"
   },
   {
    "duration": 6,
    "start_time": "2021-12-19T16:09:16.132Z"
   },
   {
    "duration": 13,
    "start_time": "2021-12-19T16:09:16.238Z"
   },
   {
    "duration": 4,
    "start_time": "2021-12-19T16:09:16.614Z"
   },
   {
    "duration": 14,
    "start_time": "2021-12-19T16:09:16.990Z"
   },
   {
    "duration": 4,
    "start_time": "2021-12-19T16:09:17.197Z"
   },
   {
    "duration": 14,
    "start_time": "2021-12-19T16:09:17.385Z"
   },
   {
    "duration": 8,
    "start_time": "2021-12-19T16:09:18.771Z"
   },
   {
    "duration": 147,
    "start_time": "2021-12-19T16:09:24.991Z"
   },
   {
    "duration": 13,
    "start_time": "2021-12-19T16:09:49.295Z"
   },
   {
    "duration": 452,
    "start_time": "2021-12-19T16:09:49.737Z"
   },
   {
    "duration": 11,
    "start_time": "2021-12-19T16:09:50.721Z"
   },
   {
    "duration": 300,
    "start_time": "2021-12-19T16:09:51.441Z"
   },
   {
    "duration": 10,
    "start_time": "2021-12-19T16:09:52.247Z"
   },
   {
    "duration": 37,
    "start_time": "2021-12-19T16:09:52.769Z"
   },
   {
    "duration": 26,
    "start_time": "2021-12-19T16:09:53.095Z"
   },
   {
    "duration": 14,
    "start_time": "2021-12-19T16:09:53.263Z"
   },
   {
    "duration": 481,
    "start_time": "2021-12-19T16:09:53.628Z"
   },
   {
    "duration": 314,
    "start_time": "2021-12-19T16:09:54.112Z"
   },
   {
    "duration": 10,
    "start_time": "2021-12-19T16:09:54.751Z"
   },
   {
    "duration": 13675,
    "start_time": "2021-12-20T10:34:52.093Z"
   },
   {
    "duration": 1876,
    "start_time": "2021-12-20T10:35:05.771Z"
   },
   {
    "duration": 652,
    "start_time": "2021-12-20T10:35:07.649Z"
   },
   {
    "duration": 342,
    "start_time": "2021-12-20T10:35:08.304Z"
   },
   {
    "duration": 399,
    "start_time": "2021-12-20T10:35:08.648Z"
   },
   {
    "duration": 230,
    "start_time": "2021-12-20T10:35:09.049Z"
   },
   {
    "duration": 232,
    "start_time": "2021-12-20T10:35:09.281Z"
   },
   {
    "duration": 21,
    "start_time": "2021-12-20T10:35:09.518Z"
   },
   {
    "duration": 29,
    "start_time": "2021-12-20T10:35:09.542Z"
   },
   {
    "duration": 48,
    "start_time": "2021-12-20T10:35:09.574Z"
   },
   {
    "duration": 53,
    "start_time": "2021-12-20T10:35:09.624Z"
   },
   {
    "duration": 3442,
    "start_time": "2021-12-20T10:35:09.680Z"
   },
   {
    "duration": 12,
    "start_time": "2021-12-20T10:35:13.124Z"
   },
   {
    "duration": 47,
    "start_time": "2021-12-20T10:35:13.139Z"
   },
   {
    "duration": 29,
    "start_time": "2021-12-20T10:35:13.189Z"
   },
   {
    "duration": 350,
    "start_time": "2021-12-20T10:35:13.220Z"
   },
   {
    "duration": 40,
    "start_time": "2021-12-20T10:35:13.572Z"
   },
   {
    "duration": 10,
    "start_time": "2021-12-20T10:35:13.615Z"
   },
   {
    "duration": 53,
    "start_time": "2021-12-20T10:35:13.628Z"
   },
   {
    "duration": 16,
    "start_time": "2021-12-20T10:35:13.684Z"
   },
   {
    "duration": 12,
    "start_time": "2021-12-20T10:35:13.702Z"
   },
   {
    "duration": 15,
    "start_time": "2021-12-20T10:35:13.716Z"
   },
   {
    "duration": 68,
    "start_time": "2021-12-20T10:35:13.737Z"
   },
   {
    "duration": 15,
    "start_time": "2021-12-20T10:35:13.809Z"
   },
   {
    "duration": 48,
    "start_time": "2021-12-20T10:35:13.827Z"
   },
   {
    "duration": 21,
    "start_time": "2021-12-20T10:35:13.878Z"
   },
   {
    "duration": 29,
    "start_time": "2021-12-20T10:35:13.902Z"
   },
   {
    "duration": 47,
    "start_time": "2021-12-20T10:35:13.933Z"
   },
   {
    "duration": 6,
    "start_time": "2021-12-20T10:35:13.983Z"
   },
   {
    "duration": 86,
    "start_time": "2021-12-20T10:35:13.991Z"
   },
   {
    "duration": 7,
    "start_time": "2021-12-20T10:35:14.079Z"
   },
   {
    "duration": 6,
    "start_time": "2021-12-20T10:35:14.089Z"
   },
   {
    "duration": 70,
    "start_time": "2021-12-20T10:35:14.097Z"
   },
   {
    "duration": 44,
    "start_time": "2021-12-20T10:35:14.169Z"
   },
   {
    "duration": 5,
    "start_time": "2021-12-20T10:35:14.215Z"
   },
   {
    "duration": 7,
    "start_time": "2021-12-20T10:35:14.223Z"
   },
   {
    "duration": 10,
    "start_time": "2021-12-20T10:35:14.232Z"
   },
   {
    "duration": 39,
    "start_time": "2021-12-20T10:35:14.244Z"
   },
   {
    "duration": 5,
    "start_time": "2021-12-20T10:35:14.286Z"
   },
   {
    "duration": 7,
    "start_time": "2021-12-20T10:35:14.293Z"
   },
   {
    "duration": 13,
    "start_time": "2021-12-20T10:35:14.302Z"
   },
   {
    "duration": 5,
    "start_time": "2021-12-20T10:35:14.317Z"
   },
   {
    "duration": 53,
    "start_time": "2021-12-20T10:35:14.324Z"
   },
   {
    "duration": 4,
    "start_time": "2021-12-20T10:35:14.379Z"
   },
   {
    "duration": 16,
    "start_time": "2021-12-20T10:35:14.386Z"
   },
   {
    "duration": 9,
    "start_time": "2021-12-20T10:35:14.404Z"
   },
   {
    "duration": 18,
    "start_time": "2021-12-20T10:35:14.415Z"
   },
   {
    "duration": 38,
    "start_time": "2021-12-20T10:35:14.436Z"
   },
   {
    "duration": 100,
    "start_time": "2021-12-20T10:35:14.477Z"
   },
   {
    "duration": 10,
    "start_time": "2021-12-20T10:35:14.579Z"
   },
   {
    "duration": 329,
    "start_time": "2021-12-20T10:35:14.591Z"
   },
   {
    "duration": 10,
    "start_time": "2021-12-20T10:35:14.923Z"
   },
   {
    "duration": 406,
    "start_time": "2021-12-20T10:35:14.936Z"
   },
   {
    "duration": 9,
    "start_time": "2021-12-20T10:35:15.345Z"
   },
   {
    "duration": 39,
    "start_time": "2021-12-20T10:35:15.368Z"
   },
   {
    "duration": 15,
    "start_time": "2021-12-20T10:35:15.410Z"
   },
   {
    "duration": 40,
    "start_time": "2021-12-20T10:35:15.428Z"
   },
   {
    "duration": 327,
    "start_time": "2021-12-20T10:35:15.471Z"
   },
   {
    "duration": 305,
    "start_time": "2021-12-20T10:35:15.800Z"
   },
   {
    "duration": 9,
    "start_time": "2021-12-20T10:35:16.108Z"
   },
   {
    "duration": 613,
    "start_time": "2021-12-20T10:35:16.119Z"
   },
   {
    "duration": 8,
    "start_time": "2021-12-20T10:35:16.734Z"
   },
   {
    "duration": 28,
    "start_time": "2021-12-20T10:35:16.744Z"
   },
   {
    "duration": 7,
    "start_time": "2021-12-20T10:35:16.774Z"
   },
   {
    "duration": 13,
    "start_time": "2021-12-20T10:35:16.783Z"
   },
   {
    "duration": 7,
    "start_time": "2021-12-20T10:35:16.798Z"
   },
   {
    "duration": 12,
    "start_time": "2021-12-20T10:35:16.807Z"
   },
   {
    "duration": 44,
    "start_time": "2021-12-20T10:35:16.826Z"
   },
   {
    "duration": 14,
    "start_time": "2021-12-20T10:35:16.873Z"
   },
   {
    "duration": 22,
    "start_time": "2021-12-20T10:35:16.889Z"
   },
   {
    "duration": 12,
    "start_time": "2021-12-20T10:35:16.914Z"
   },
   {
    "duration": 43,
    "start_time": "2021-12-20T10:35:16.928Z"
   },
   {
    "duration": 11,
    "start_time": "2021-12-20T10:35:16.973Z"
   },
   {
    "duration": 12,
    "start_time": "2021-12-20T10:35:16.986Z"
   },
   {
    "duration": 11,
    "start_time": "2021-12-20T10:35:17.001Z"
   },
   {
    "duration": 11,
    "start_time": "2021-12-20T10:35:17.014Z"
   },
   {
    "duration": 40,
    "start_time": "2021-12-20T10:35:17.028Z"
   },
   {
    "duration": 23,
    "start_time": "2021-12-20T10:35:17.071Z"
   },
   {
    "duration": 11,
    "start_time": "2021-12-20T10:35:17.097Z"
   },
   {
    "duration": 66,
    "start_time": "2021-12-20T10:35:17.111Z"
   },
   {
    "duration": 19,
    "start_time": "2021-12-20T10:35:17.181Z"
   },
   {
    "duration": 804,
    "start_time": "2021-12-20T10:35:17.203Z"
   },
   {
    "duration": 1875,
    "start_time": "2021-12-20T10:35:18.009Z"
   },
   {
    "duration": 24,
    "start_time": "2021-12-20T10:37:10.088Z"
   },
   {
    "duration": 10876,
    "start_time": "2021-12-20T11:15:55.608Z"
   },
   {
    "duration": 1573,
    "start_time": "2021-12-20T11:16:09.312Z"
   },
   {
    "duration": 235,
    "start_time": "2021-12-20T11:16:10.889Z"
   },
   {
    "duration": 227,
    "start_time": "2021-12-20T11:16:11.127Z"
   },
   {
    "duration": 524,
    "start_time": "2021-12-20T11:16:11.356Z"
   },
   {
    "duration": 119,
    "start_time": "2021-12-20T11:16:11.884Z"
   },
   {
    "duration": 149,
    "start_time": "2021-12-20T11:16:12.220Z"
   },
   {
    "duration": 16,
    "start_time": "2021-12-20T11:16:12.747Z"
   },
   {
    "duration": 29,
    "start_time": "2021-12-20T11:16:12.937Z"
   },
   {
    "duration": 44,
    "start_time": "2021-12-20T11:16:13.607Z"
   },
   {
    "duration": 39,
    "start_time": "2021-12-20T11:16:13.762Z"
   },
   {
    "duration": 892,
    "start_time": "2021-12-20T11:16:14.488Z"
   },
   {
    "duration": 12,
    "start_time": "2021-12-20T11:16:15.383Z"
   },
   {
    "duration": 25,
    "start_time": "2021-12-20T11:16:15.465Z"
   },
   {
    "duration": 24,
    "start_time": "2021-12-20T11:16:16.248Z"
   },
   {
    "duration": 311,
    "start_time": "2021-12-20T11:16:16.595Z"
   },
   {
    "duration": 37,
    "start_time": "2021-12-20T11:16:17.256Z"
   },
   {
    "duration": 11,
    "start_time": "2021-12-20T11:16:17.416Z"
   },
   {
    "duration": 21,
    "start_time": "2021-12-20T11:16:18.038Z"
   },
   {
    "duration": 19,
    "start_time": "2021-12-20T11:16:18.925Z"
   },
   {
    "duration": 13,
    "start_time": "2021-12-20T11:16:19.686Z"
   },
   {
    "duration": 13,
    "start_time": "2021-12-20T11:16:20.568Z"
   },
   {
    "duration": 41,
    "start_time": "2021-12-20T11:16:22.286Z"
   },
   {
    "duration": 15,
    "start_time": "2021-12-20T11:16:22.888Z"
   },
   {
    "duration": 14,
    "start_time": "2021-12-20T11:16:23.796Z"
   },
   {
    "duration": 24,
    "start_time": "2021-12-20T11:16:24.994Z"
   },
   {
    "duration": 114,
    "start_time": "2021-12-20T11:16:25.258Z"
   },
   {
    "duration": 21,
    "start_time": "2021-12-20T11:16:26.448Z"
   },
   {
    "duration": 5,
    "start_time": "2021-12-20T11:16:30.896Z"
   },
   {
    "duration": 61,
    "start_time": "2021-12-20T11:16:31.271Z"
   },
   {
    "duration": 7,
    "start_time": "2021-12-20T11:16:31.699Z"
   },
   {
    "duration": 5,
    "start_time": "2021-12-20T11:16:33.018Z"
   },
   {
    "duration": 49,
    "start_time": "2021-12-20T11:16:33.692Z"
   },
   {
    "duration": 58,
    "start_time": "2021-12-20T11:16:34.105Z"
   },
   {
    "duration": 7,
    "start_time": "2021-12-20T11:16:34.302Z"
   },
   {
    "duration": 4,
    "start_time": "2021-12-20T11:16:34.467Z"
   },
   {
    "duration": 3,
    "start_time": "2021-12-20T11:16:34.850Z"
   },
   {
    "duration": 18,
    "start_time": "2021-12-20T11:16:35.030Z"
   },
   {
    "duration": 6,
    "start_time": "2021-12-20T11:16:36.473Z"
   },
   {
    "duration": 4,
    "start_time": "2021-12-20T11:16:36.664Z"
   },
   {
    "duration": 13,
    "start_time": "2021-12-20T11:16:36.844Z"
   },
   {
    "duration": 6,
    "start_time": "2021-12-20T11:16:37.108Z"
   },
   {
    "duration": 15,
    "start_time": "2021-12-20T11:16:39.047Z"
   },
   {
    "duration": 6,
    "start_time": "2021-12-20T11:16:39.065Z"
   },
   {
    "duration": 14,
    "start_time": "2021-12-20T11:16:39.074Z"
   },
   {
    "duration": 5,
    "start_time": "2021-12-20T11:16:39.090Z"
   },
   {
    "duration": 14,
    "start_time": "2021-12-20T11:16:39.098Z"
   },
   {
    "duration": 8,
    "start_time": "2021-12-20T11:16:41.985Z"
   },
   {
    "duration": 85,
    "start_time": "2021-12-20T11:16:43.858Z"
   },
   {
    "duration": 11,
    "start_time": "2021-12-20T11:18:08.365Z"
   },
   {
    "duration": 471,
    "start_time": "2021-12-20T11:18:08.715Z"
   },
   {
    "duration": 24,
    "start_time": "2021-12-20T11:18:09.189Z"
   },
   {
    "duration": 460,
    "start_time": "2021-12-20T11:18:09.405Z"
   },
   {
    "duration": 9,
    "start_time": "2021-12-20T11:18:10.130Z"
   },
   {
    "duration": 65,
    "start_time": "2021-12-20T11:18:10.535Z"
   },
   {
    "duration": 16,
    "start_time": "2021-12-20T11:18:11.147Z"
   },
   {
    "duration": 10,
    "start_time": "2021-12-20T11:18:11.364Z"
   },
   {
    "duration": 315,
    "start_time": "2021-12-20T11:18:11.688Z"
   },
   {
    "duration": 278,
    "start_time": "2021-12-20T11:18:12.078Z"
   },
   {
    "duration": 10,
    "start_time": "2021-12-20T11:18:14.419Z"
   },
   {
    "duration": 550,
    "start_time": "2021-12-20T11:18:15.225Z"
   },
   {
    "duration": 10,
    "start_time": "2021-12-20T11:18:17.950Z"
   },
   {
    "duration": 7,
    "start_time": "2021-12-20T11:18:18.130Z"
   },
   {
    "duration": 4,
    "start_time": "2021-12-20T11:18:18.738Z"
   },
   {
    "duration": 7,
    "start_time": "2021-12-20T11:18:18.920Z"
   },
   {
    "duration": 4,
    "start_time": "2021-12-20T11:18:19.949Z"
   },
   {
    "duration": 6,
    "start_time": "2021-12-20T11:18:20.151Z"
   },
   {
    "duration": 5,
    "start_time": "2021-12-20T11:18:21.300Z"
   },
   {
    "duration": 10,
    "start_time": "2021-12-20T11:18:21.454Z"
   },
   {
    "duration": 23,
    "start_time": "2021-12-20T11:18:21.630Z"
   },
   {
    "duration": 9,
    "start_time": "2021-12-20T11:18:22.210Z"
   },
   {
    "duration": 11,
    "start_time": "2021-12-20T11:18:22.600Z"
   },
   {
    "duration": 10,
    "start_time": "2021-12-20T11:18:22.768Z"
   },
   {
    "duration": 9,
    "start_time": "2021-12-20T11:18:23.341Z"
   },
   {
    "duration": 9,
    "start_time": "2021-12-20T11:18:23.715Z"
   },
   {
    "duration": 5,
    "start_time": "2021-12-20T11:18:24.855Z"
   },
   {
    "duration": 6,
    "start_time": "2021-12-20T11:18:25.124Z"
   },
   {
    "duration": 24,
    "start_time": "2021-12-20T11:18:25.248Z"
   },
   {
    "duration": 8,
    "start_time": "2021-12-20T11:18:25.624Z"
   },
   {
    "duration": 22,
    "start_time": "2021-12-20T11:18:25.827Z"
   },
   {
    "duration": 17,
    "start_time": "2021-12-20T11:18:26.312Z"
   },
   {
    "duration": 733,
    "start_time": "2021-12-20T11:18:26.777Z"
   },
   {
    "duration": 1714,
    "start_time": "2021-12-20T11:18:28.208Z"
   },
   {
    "duration": 1411,
    "start_time": "2022-01-16T14:28:06.993Z"
   },
   {
    "duration": 13371,
    "start_time": "2022-01-16T14:28:14.882Z"
   },
   {
    "duration": 718,
    "start_time": "2022-01-16T14:29:13.496Z"
   },
   {
    "duration": 1011,
    "start_time": "2022-01-16T14:58:13.934Z"
   },
   {
    "duration": 3915,
    "start_time": "2022-01-16T14:58:25.302Z"
   },
   {
    "duration": 4,
    "start_time": "2022-01-16T14:59:37.462Z"
   },
   {
    "duration": 419,
    "start_time": "2022-01-16T14:59:38.810Z"
   },
   {
    "duration": 376,
    "start_time": "2022-01-16T14:59:39.282Z"
   },
   {
    "duration": 373,
    "start_time": "2022-01-16T14:59:39.741Z"
   },
   {
    "duration": 267,
    "start_time": "2022-01-16T14:59:40.214Z"
   },
   {
    "duration": 287,
    "start_time": "2022-01-16T14:59:40.691Z"
   },
   {
    "duration": 18,
    "start_time": "2022-01-16T14:59:42.024Z"
   },
   {
    "duration": 23,
    "start_time": "2022-01-16T14:59:47.613Z"
   }
  ],
  "kernelspec": {
   "display_name": "Python 3",
   "language": "python",
   "name": "python3"
  },
  "language_info": {
   "codemirror_mode": {
    "name": "ipython",
    "version": 3
   },
   "file_extension": ".py",
   "mimetype": "text/x-python",
   "name": "python",
   "nbconvert_exporter": "python",
   "pygments_lexer": "ipython3",
   "version": "3.8.8"
  },
  "toc": {
   "base_numbering": 1,
   "nav_menu": {},
   "number_sections": true,
   "sideBar": true,
   "skip_h1_title": true,
   "title_cell": "Table of Contents",
   "title_sidebar": "Contents",
   "toc_cell": false,
   "toc_position": {},
   "toc_section_display": true,
   "toc_window_display": false
  }
 },
 "nbformat": 4,
 "nbformat_minor": 2
}
