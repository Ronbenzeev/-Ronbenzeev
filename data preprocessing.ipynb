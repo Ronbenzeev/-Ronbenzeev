{
 "cells": [
  {
   "cell_type": "markdown",
   "metadata": {},
   "source": [
    "# Analyzing borrowers’ risk of defaulting\n",
    "\n",
    "Your project is to prepare a report for a bank’s loan division. You’ll need to find out if a customer’s marital status and number of children has an impact on whether they will default on a loan. The bank already has some data on customers’ credit worthiness.\n",
    "\n",
    "Your report will be considered when building a **credit scoring** of a potential customer. A ** credit scoring ** is used to evaluate the ability of a potential borrower to repay their loan."
   ]
  },
  {
   "cell_type": "markdown",
   "metadata": {},
   "source": [
    "## Open the data file and have a look at the general information. "
   ]
  },
  {
   "cell_type": "code",
   "execution_count": 1,
   "metadata": {},
   "outputs": [],
   "source": [
    "import pandas as pd"
   ]
  },
  {
   "cell_type": "code",
   "execution_count": 2,
   "metadata": {},
   "outputs": [
    {
     "name": "stdout",
     "output_type": "stream",
     "text": [
      "Defaulting to user installation because normal site-packages is not writeable\n",
      "Requirement already up-to-date: sidetable in /home/jovyan/.local/lib/python3.7/site-packages (0.9.0)\n",
      "Requirement already satisfied, skipping upgrade: pandas>=1.0 in /home/jovyan/.local/lib/python3.7/site-packages (from sidetable) (1.3.4)\n",
      "Requirement already satisfied, skipping upgrade: numpy>=1.17.3; platform_machine != \"aarch64\" and platform_machine != \"arm64\" and python_version < \"3.10\" in /opt/conda/lib/python3.7/site-packages (from pandas>=1.0->sidetable) (1.19.5)\n",
      "Requirement already satisfied, skipping upgrade: python-dateutil>=2.7.3 in /opt/conda/lib/python3.7/site-packages (from pandas>=1.0->sidetable) (2.8.1)\n",
      "Requirement already satisfied, skipping upgrade: pytz>=2017.3 in /opt/conda/lib/python3.7/site-packages (from pandas>=1.0->sidetable) (2021.1)\n",
      "Requirement already satisfied, skipping upgrade: six>=1.5 in /opt/conda/lib/python3.7/site-packages (from python-dateutil>=2.7.3->pandas>=1.0->sidetable) (1.15.0)\n",
      "Note: you may need to restart the kernel to use updated packages.\n"
     ]
    }
   ],
   "source": [
    "pip install -U sidetable"
   ]
  },
  {
   "cell_type": "code",
   "execution_count": 3,
   "metadata": {},
   "outputs": [],
   "source": [
    "import sidetable"
   ]
  },
  {
   "cell_type": "markdown",
   "metadata": {},
   "source": [
    "Let's read the Data file and give it a short name: data."
   ]
  },
  {
   "cell_type": "code",
   "execution_count": 4,
   "metadata": {},
   "outputs": [],
   "source": [
    "try:\n",
    "    data = pd.read_csv(r'C:\\Users\\Ron\\Documents\\credit_scoring_eng.csv')\n",
    "except:\n",
    "    data = pd.read_csv('/datasets/credit_scoring_eng.csv')"
   ]
  },
  {
   "cell_type": "markdown",
   "metadata": {},
   "source": [
    "Let's see how the data look by looking at the first five rows."
   ]
  },
  {
   "cell_type": "code",
   "execution_count": 5,
   "metadata": {},
   "outputs": [
    {
     "data": {
      "text/html": [
       "<div>\n",
       "<style scoped>\n",
       "    .dataframe tbody tr th:only-of-type {\n",
       "        vertical-align: middle;\n",
       "    }\n",
       "\n",
       "    .dataframe tbody tr th {\n",
       "        vertical-align: top;\n",
       "    }\n",
       "\n",
       "    .dataframe thead th {\n",
       "        text-align: right;\n",
       "    }\n",
       "</style>\n",
       "<table border=\"1\" class=\"dataframe\">\n",
       "  <thead>\n",
       "    <tr style=\"text-align: right;\">\n",
       "      <th></th>\n",
       "      <th>children</th>\n",
       "      <th>days_employed</th>\n",
       "      <th>dob_years</th>\n",
       "      <th>education</th>\n",
       "      <th>education_id</th>\n",
       "      <th>family_status</th>\n",
       "      <th>family_status_id</th>\n",
       "      <th>gender</th>\n",
       "      <th>income_type</th>\n",
       "      <th>debt</th>\n",
       "      <th>total_income</th>\n",
       "      <th>purpose</th>\n",
       "    </tr>\n",
       "  </thead>\n",
       "  <tbody>\n",
       "    <tr>\n",
       "      <th>0</th>\n",
       "      <td>1</td>\n",
       "      <td>-8437.673028</td>\n",
       "      <td>42</td>\n",
       "      <td>bachelor's degree</td>\n",
       "      <td>0</td>\n",
       "      <td>married</td>\n",
       "      <td>0</td>\n",
       "      <td>F</td>\n",
       "      <td>employee</td>\n",
       "      <td>0</td>\n",
       "      <td>40620.102</td>\n",
       "      <td>purchase of the house</td>\n",
       "    </tr>\n",
       "    <tr>\n",
       "      <th>1</th>\n",
       "      <td>1</td>\n",
       "      <td>-4024.803754</td>\n",
       "      <td>36</td>\n",
       "      <td>secondary education</td>\n",
       "      <td>1</td>\n",
       "      <td>married</td>\n",
       "      <td>0</td>\n",
       "      <td>F</td>\n",
       "      <td>employee</td>\n",
       "      <td>0</td>\n",
       "      <td>17932.802</td>\n",
       "      <td>car purchase</td>\n",
       "    </tr>\n",
       "    <tr>\n",
       "      <th>2</th>\n",
       "      <td>0</td>\n",
       "      <td>-5623.422610</td>\n",
       "      <td>33</td>\n",
       "      <td>Secondary Education</td>\n",
       "      <td>1</td>\n",
       "      <td>married</td>\n",
       "      <td>0</td>\n",
       "      <td>M</td>\n",
       "      <td>employee</td>\n",
       "      <td>0</td>\n",
       "      <td>23341.752</td>\n",
       "      <td>purchase of the house</td>\n",
       "    </tr>\n",
       "    <tr>\n",
       "      <th>3</th>\n",
       "      <td>3</td>\n",
       "      <td>-4124.747207</td>\n",
       "      <td>32</td>\n",
       "      <td>secondary education</td>\n",
       "      <td>1</td>\n",
       "      <td>married</td>\n",
       "      <td>0</td>\n",
       "      <td>M</td>\n",
       "      <td>employee</td>\n",
       "      <td>0</td>\n",
       "      <td>42820.568</td>\n",
       "      <td>supplementary education</td>\n",
       "    </tr>\n",
       "    <tr>\n",
       "      <th>4</th>\n",
       "      <td>0</td>\n",
       "      <td>340266.072047</td>\n",
       "      <td>53</td>\n",
       "      <td>secondary education</td>\n",
       "      <td>1</td>\n",
       "      <td>civil partnership</td>\n",
       "      <td>1</td>\n",
       "      <td>F</td>\n",
       "      <td>retiree</td>\n",
       "      <td>0</td>\n",
       "      <td>25378.572</td>\n",
       "      <td>to have a wedding</td>\n",
       "    </tr>\n",
       "  </tbody>\n",
       "</table>\n",
       "</div>"
      ],
      "text/plain": [
       "   children  days_employed  dob_years            education  education_id  \\\n",
       "0         1   -8437.673028         42    bachelor's degree             0   \n",
       "1         1   -4024.803754         36  secondary education             1   \n",
       "2         0   -5623.422610         33  Secondary Education             1   \n",
       "3         3   -4124.747207         32  secondary education             1   \n",
       "4         0  340266.072047         53  secondary education             1   \n",
       "\n",
       "       family_status  family_status_id gender income_type  debt  total_income  \\\n",
       "0            married                 0      F    employee     0     40620.102   \n",
       "1            married                 0      F    employee     0     17932.802   \n",
       "2            married                 0      M    employee     0     23341.752   \n",
       "3            married                 0      M    employee     0     42820.568   \n",
       "4  civil partnership                 1      F     retiree     0     25378.572   \n",
       "\n",
       "                   purpose  \n",
       "0    purchase of the house  \n",
       "1             car purchase  \n",
       "2    purchase of the house  \n",
       "3  supplementary education  \n",
       "4        to have a wedding  "
      ]
     },
     "execution_count": 5,
     "metadata": {},
     "output_type": "execute_result"
    }
   ],
   "source": [
    "data.head()"
   ]
  },
  {
   "cell_type": "markdown",
   "metadata": {},
   "source": [
    "### Conclusion"
   ]
  },
  {
   "cell_type": "markdown",
   "metadata": {},
   "source": [
    "We read the data, explore it to get familiar with it and look if we find something at first glance.\n",
    "\n",
    "And at first glance, I already see some weird stuff like \"-\" in the \"days_employed\" column, duplicated with case sensitivity in the education column."
   ]
  },
  {
   "cell_type": "markdown",
   "metadata": {},
   "source": [
    "## Data preprocessing"
   ]
  },
  {
   "cell_type": "markdown",
   "metadata": {},
   "source": [
    "### Processing missing values"
   ]
  },
  {
   "cell_type": "markdown",
   "metadata": {},
   "source": [
    "Ok, let's chack and see the info of the data to see if I have duplicate or missing values and if I have the correct data type to each column."
   ]
  },
  {
   "cell_type": "code",
   "execution_count": 6,
   "metadata": {},
   "outputs": [
    {
     "name": "stdout",
     "output_type": "stream",
     "text": [
      "<class 'pandas.core.frame.DataFrame'>\n",
      "RangeIndex: 21525 entries, 0 to 21524\n",
      "Data columns (total 12 columns):\n",
      " #   Column            Non-Null Count  Dtype  \n",
      "---  ------            --------------  -----  \n",
      " 0   children          21525 non-null  int64  \n",
      " 1   days_employed     19351 non-null  float64\n",
      " 2   dob_years         21525 non-null  int64  \n",
      " 3   education         21525 non-null  object \n",
      " 4   education_id      21525 non-null  int64  \n",
      " 5   family_status     21525 non-null  object \n",
      " 6   family_status_id  21525 non-null  int64  \n",
      " 7   gender            21525 non-null  object \n",
      " 8   income_type       21525 non-null  object \n",
      " 9   debt              21525 non-null  int64  \n",
      " 10  total_income      19351 non-null  float64\n",
      " 11  purpose           21525 non-null  object \n",
      "dtypes: float64(2), int64(5), object(5)\n",
      "memory usage: 2.0+ MB\n"
     ]
    }
   ],
   "source": [
    "data.info()"
   ]
  },
  {
   "cell_type": "markdown",
   "metadata": {},
   "source": [
    "After reading the info of the data, we can see that we have some missing value in the days_employed column and the total_income.\n",
    "\n",
    "Also, maybe I could change the data type of the total_income to integer from float just that it will be easier to read the data and make faster calculations.\n",
    "\n",
    "but let double check if I do have missing values in the columns mentioned above be calling isnull() method and the sum()"
   ]
  },
  {
   "cell_type": "code",
   "execution_count": 7,
   "metadata": {},
   "outputs": [
    {
     "name": "stdout",
     "output_type": "stream",
     "text": [
      "days_employed\n",
      "total_income\n"
     ]
    }
   ],
   "source": [
    "for i in data:\n",
    "    if data[i].isnull().sum()>0:\n",
    "        print(i)"
   ]
  },
  {
   "cell_type": "markdown",
   "metadata": {},
   "source": [
    "Let's look at the percentage of missing values in columns:"
   ]
  },
  {
   "cell_type": "code",
   "execution_count": 8,
   "metadata": {},
   "outputs": [
    {
     "data": {
      "text/plain": [
       "children             0.000000\n",
       "days_employed       10.099884\n",
       "dob_years            0.000000\n",
       "education            0.000000\n",
       "education_id         0.000000\n",
       "family_status        0.000000\n",
       "family_status_id     0.000000\n",
       "gender               0.000000\n",
       "income_type          0.000000\n",
       "debt                 0.000000\n",
       "total_income        10.099884\n",
       "purpose              0.000000\n",
       "dtype: float64"
      ]
     },
     "execution_count": 8,
     "metadata": {},
     "output_type": "execute_result"
    }
   ],
   "source": [
    "data.isna().sum()*100/len(data)\n",
    "\n",
    "pd.DataFrame(round((data.isna().mean()*100),2)).style.background_gradient('coolwarm')\n",
    "\n",
    "data.isna().mean() * 100"
   ]
  },
  {
   "cell_type": "code",
   "execution_count": 9,
   "metadata": {},
   "outputs": [
    {
     "data": {
      "text/html": [
       "<div>\n",
       "<style scoped>\n",
       "    .dataframe tbody tr th:only-of-type {\n",
       "        vertical-align: middle;\n",
       "    }\n",
       "\n",
       "    .dataframe tbody tr th {\n",
       "        vertical-align: top;\n",
       "    }\n",
       "\n",
       "    .dataframe thead th {\n",
       "        text-align: right;\n",
       "    }\n",
       "</style>\n",
       "<table border=\"1\" class=\"dataframe\">\n",
       "  <thead>\n",
       "    <tr style=\"text-align: right;\">\n",
       "      <th></th>\n",
       "      <th>missing</th>\n",
       "      <th>total</th>\n",
       "      <th>percent</th>\n",
       "    </tr>\n",
       "  </thead>\n",
       "  <tbody>\n",
       "    <tr>\n",
       "      <th>days_employed</th>\n",
       "      <td>2174</td>\n",
       "      <td>21525</td>\n",
       "      <td>10.099884</td>\n",
       "    </tr>\n",
       "    <tr>\n",
       "      <th>total_income</th>\n",
       "      <td>2174</td>\n",
       "      <td>21525</td>\n",
       "      <td>10.099884</td>\n",
       "    </tr>\n",
       "    <tr>\n",
       "      <th>children</th>\n",
       "      <td>0</td>\n",
       "      <td>21525</td>\n",
       "      <td>0.000000</td>\n",
       "    </tr>\n",
       "    <tr>\n",
       "      <th>dob_years</th>\n",
       "      <td>0</td>\n",
       "      <td>21525</td>\n",
       "      <td>0.000000</td>\n",
       "    </tr>\n",
       "    <tr>\n",
       "      <th>education</th>\n",
       "      <td>0</td>\n",
       "      <td>21525</td>\n",
       "      <td>0.000000</td>\n",
       "    </tr>\n",
       "    <tr>\n",
       "      <th>education_id</th>\n",
       "      <td>0</td>\n",
       "      <td>21525</td>\n",
       "      <td>0.000000</td>\n",
       "    </tr>\n",
       "    <tr>\n",
       "      <th>family_status</th>\n",
       "      <td>0</td>\n",
       "      <td>21525</td>\n",
       "      <td>0.000000</td>\n",
       "    </tr>\n",
       "    <tr>\n",
       "      <th>family_status_id</th>\n",
       "      <td>0</td>\n",
       "      <td>21525</td>\n",
       "      <td>0.000000</td>\n",
       "    </tr>\n",
       "    <tr>\n",
       "      <th>gender</th>\n",
       "      <td>0</td>\n",
       "      <td>21525</td>\n",
       "      <td>0.000000</td>\n",
       "    </tr>\n",
       "    <tr>\n",
       "      <th>income_type</th>\n",
       "      <td>0</td>\n",
       "      <td>21525</td>\n",
       "      <td>0.000000</td>\n",
       "    </tr>\n",
       "    <tr>\n",
       "      <th>debt</th>\n",
       "      <td>0</td>\n",
       "      <td>21525</td>\n",
       "      <td>0.000000</td>\n",
       "    </tr>\n",
       "    <tr>\n",
       "      <th>purpose</th>\n",
       "      <td>0</td>\n",
       "      <td>21525</td>\n",
       "      <td>0.000000</td>\n",
       "    </tr>\n",
       "  </tbody>\n",
       "</table>\n",
       "</div>"
      ],
      "text/plain": [
       "                  missing  total    percent\n",
       "days_employed        2174  21525  10.099884\n",
       "total_income         2174  21525  10.099884\n",
       "children                0  21525   0.000000\n",
       "dob_years               0  21525   0.000000\n",
       "education               0  21525   0.000000\n",
       "education_id            0  21525   0.000000\n",
       "family_status           0  21525   0.000000\n",
       "family_status_id        0  21525   0.000000\n",
       "gender                  0  21525   0.000000\n",
       "income_type             0  21525   0.000000\n",
       "debt                    0  21525   0.000000\n",
       "purpose                 0  21525   0.000000"
      ]
     },
     "execution_count": 9,
     "metadata": {},
     "output_type": "execute_result"
    }
   ],
   "source": [
    "data.stb.missing()"
   ]
  },
  {
   "cell_type": "markdown",
   "metadata": {},
   "source": [
    "Yup. I was right. the days_employed and the total_income column has missing values.\n",
    "Let's review each column separately."
   ]
  },
  {
   "cell_type": "code",
   "execution_count": 10,
   "metadata": {
    "scrolled": true
   },
   "outputs": [
    {
     "data": {
      "text/html": [
       "<div>\n",
       "<style scoped>\n",
       "    .dataframe tbody tr th:only-of-type {\n",
       "        vertical-align: middle;\n",
       "    }\n",
       "\n",
       "    .dataframe tbody tr th {\n",
       "        vertical-align: top;\n",
       "    }\n",
       "\n",
       "    .dataframe thead th {\n",
       "        text-align: right;\n",
       "    }\n",
       "</style>\n",
       "<table border=\"1\" class=\"dataframe\">\n",
       "  <thead>\n",
       "    <tr style=\"text-align: right;\">\n",
       "      <th></th>\n",
       "      <th>children</th>\n",
       "      <th>days_employed</th>\n",
       "      <th>dob_years</th>\n",
       "      <th>education</th>\n",
       "      <th>education_id</th>\n",
       "      <th>family_status</th>\n",
       "      <th>family_status_id</th>\n",
       "      <th>gender</th>\n",
       "      <th>income_type</th>\n",
       "      <th>debt</th>\n",
       "      <th>total_income</th>\n",
       "      <th>purpose</th>\n",
       "    </tr>\n",
       "  </thead>\n",
       "  <tbody>\n",
       "    <tr>\n",
       "      <th>12</th>\n",
       "      <td>0</td>\n",
       "      <td>NaN</td>\n",
       "      <td>65</td>\n",
       "      <td>secondary education</td>\n",
       "      <td>1</td>\n",
       "      <td>civil partnership</td>\n",
       "      <td>1</td>\n",
       "      <td>M</td>\n",
       "      <td>retiree</td>\n",
       "      <td>0</td>\n",
       "      <td>NaN</td>\n",
       "      <td>to have a wedding</td>\n",
       "    </tr>\n",
       "    <tr>\n",
       "      <th>26</th>\n",
       "      <td>0</td>\n",
       "      <td>NaN</td>\n",
       "      <td>41</td>\n",
       "      <td>secondary education</td>\n",
       "      <td>1</td>\n",
       "      <td>married</td>\n",
       "      <td>0</td>\n",
       "      <td>M</td>\n",
       "      <td>civil servant</td>\n",
       "      <td>0</td>\n",
       "      <td>NaN</td>\n",
       "      <td>education</td>\n",
       "    </tr>\n",
       "    <tr>\n",
       "      <th>29</th>\n",
       "      <td>0</td>\n",
       "      <td>NaN</td>\n",
       "      <td>63</td>\n",
       "      <td>secondary education</td>\n",
       "      <td>1</td>\n",
       "      <td>unmarried</td>\n",
       "      <td>4</td>\n",
       "      <td>F</td>\n",
       "      <td>retiree</td>\n",
       "      <td>0</td>\n",
       "      <td>NaN</td>\n",
       "      <td>building a real estate</td>\n",
       "    </tr>\n",
       "    <tr>\n",
       "      <th>41</th>\n",
       "      <td>0</td>\n",
       "      <td>NaN</td>\n",
       "      <td>50</td>\n",
       "      <td>secondary education</td>\n",
       "      <td>1</td>\n",
       "      <td>married</td>\n",
       "      <td>0</td>\n",
       "      <td>F</td>\n",
       "      <td>civil servant</td>\n",
       "      <td>0</td>\n",
       "      <td>NaN</td>\n",
       "      <td>second-hand car purchase</td>\n",
       "    </tr>\n",
       "    <tr>\n",
       "      <th>55</th>\n",
       "      <td>0</td>\n",
       "      <td>NaN</td>\n",
       "      <td>54</td>\n",
       "      <td>secondary education</td>\n",
       "      <td>1</td>\n",
       "      <td>civil partnership</td>\n",
       "      <td>1</td>\n",
       "      <td>F</td>\n",
       "      <td>retiree</td>\n",
       "      <td>1</td>\n",
       "      <td>NaN</td>\n",
       "      <td>to have a wedding</td>\n",
       "    </tr>\n",
       "    <tr>\n",
       "      <th>...</th>\n",
       "      <td>...</td>\n",
       "      <td>...</td>\n",
       "      <td>...</td>\n",
       "      <td>...</td>\n",
       "      <td>...</td>\n",
       "      <td>...</td>\n",
       "      <td>...</td>\n",
       "      <td>...</td>\n",
       "      <td>...</td>\n",
       "      <td>...</td>\n",
       "      <td>...</td>\n",
       "      <td>...</td>\n",
       "    </tr>\n",
       "    <tr>\n",
       "      <th>21489</th>\n",
       "      <td>2</td>\n",
       "      <td>NaN</td>\n",
       "      <td>47</td>\n",
       "      <td>Secondary Education</td>\n",
       "      <td>1</td>\n",
       "      <td>married</td>\n",
       "      <td>0</td>\n",
       "      <td>M</td>\n",
       "      <td>business</td>\n",
       "      <td>0</td>\n",
       "      <td>NaN</td>\n",
       "      <td>purchase of a car</td>\n",
       "    </tr>\n",
       "    <tr>\n",
       "      <th>21495</th>\n",
       "      <td>1</td>\n",
       "      <td>NaN</td>\n",
       "      <td>50</td>\n",
       "      <td>secondary education</td>\n",
       "      <td>1</td>\n",
       "      <td>civil partnership</td>\n",
       "      <td>1</td>\n",
       "      <td>F</td>\n",
       "      <td>employee</td>\n",
       "      <td>0</td>\n",
       "      <td>NaN</td>\n",
       "      <td>wedding ceremony</td>\n",
       "    </tr>\n",
       "    <tr>\n",
       "      <th>21497</th>\n",
       "      <td>0</td>\n",
       "      <td>NaN</td>\n",
       "      <td>48</td>\n",
       "      <td>BACHELOR'S DEGREE</td>\n",
       "      <td>0</td>\n",
       "      <td>married</td>\n",
       "      <td>0</td>\n",
       "      <td>F</td>\n",
       "      <td>business</td>\n",
       "      <td>0</td>\n",
       "      <td>NaN</td>\n",
       "      <td>building a property</td>\n",
       "    </tr>\n",
       "    <tr>\n",
       "      <th>21502</th>\n",
       "      <td>1</td>\n",
       "      <td>NaN</td>\n",
       "      <td>42</td>\n",
       "      <td>secondary education</td>\n",
       "      <td>1</td>\n",
       "      <td>married</td>\n",
       "      <td>0</td>\n",
       "      <td>F</td>\n",
       "      <td>employee</td>\n",
       "      <td>0</td>\n",
       "      <td>NaN</td>\n",
       "      <td>building a real estate</td>\n",
       "    </tr>\n",
       "    <tr>\n",
       "      <th>21510</th>\n",
       "      <td>2</td>\n",
       "      <td>NaN</td>\n",
       "      <td>28</td>\n",
       "      <td>secondary education</td>\n",
       "      <td>1</td>\n",
       "      <td>married</td>\n",
       "      <td>0</td>\n",
       "      <td>F</td>\n",
       "      <td>employee</td>\n",
       "      <td>0</td>\n",
       "      <td>NaN</td>\n",
       "      <td>car purchase</td>\n",
       "    </tr>\n",
       "  </tbody>\n",
       "</table>\n",
       "<p>2174 rows × 12 columns</p>\n",
       "</div>"
      ],
      "text/plain": [
       "       children  days_employed  dob_years            education  education_id  \\\n",
       "12            0            NaN         65  secondary education             1   \n",
       "26            0            NaN         41  secondary education             1   \n",
       "29            0            NaN         63  secondary education             1   \n",
       "41            0            NaN         50  secondary education             1   \n",
       "55            0            NaN         54  secondary education             1   \n",
       "...         ...            ...        ...                  ...           ...   \n",
       "21489         2            NaN         47  Secondary Education             1   \n",
       "21495         1            NaN         50  secondary education             1   \n",
       "21497         0            NaN         48    BACHELOR'S DEGREE             0   \n",
       "21502         1            NaN         42  secondary education             1   \n",
       "21510         2            NaN         28  secondary education             1   \n",
       "\n",
       "           family_status  family_status_id gender    income_type  debt  \\\n",
       "12     civil partnership                 1      M        retiree     0   \n",
       "26               married                 0      M  civil servant     0   \n",
       "29             unmarried                 4      F        retiree     0   \n",
       "41               married                 0      F  civil servant     0   \n",
       "55     civil partnership                 1      F        retiree     1   \n",
       "...                  ...               ...    ...            ...   ...   \n",
       "21489            married                 0      M       business     0   \n",
       "21495  civil partnership                 1      F       employee     0   \n",
       "21497            married                 0      F       business     0   \n",
       "21502            married                 0      F       employee     0   \n",
       "21510            married                 0      F       employee     0   \n",
       "\n",
       "       total_income                   purpose  \n",
       "12              NaN         to have a wedding  \n",
       "26              NaN                 education  \n",
       "29              NaN    building a real estate  \n",
       "41              NaN  second-hand car purchase  \n",
       "55              NaN         to have a wedding  \n",
       "...             ...                       ...  \n",
       "21489           NaN         purchase of a car  \n",
       "21495           NaN          wedding ceremony  \n",
       "21497           NaN       building a property  \n",
       "21502           NaN    building a real estate  \n",
       "21510           NaN              car purchase  \n",
       "\n",
       "[2174 rows x 12 columns]"
      ]
     },
     "execution_count": 10,
     "metadata": {},
     "output_type": "execute_result"
    }
   ],
   "source": [
    "data[data.days_employed.isnull()]"
   ]
  },
  {
   "cell_type": "code",
   "execution_count": 11,
   "metadata": {},
   "outputs": [
    {
     "data": {
      "text/html": [
       "<div>\n",
       "<style scoped>\n",
       "    .dataframe tbody tr th:only-of-type {\n",
       "        vertical-align: middle;\n",
       "    }\n",
       "\n",
       "    .dataframe tbody tr th {\n",
       "        vertical-align: top;\n",
       "    }\n",
       "\n",
       "    .dataframe thead th {\n",
       "        text-align: right;\n",
       "    }\n",
       "</style>\n",
       "<table border=\"1\" class=\"dataframe\">\n",
       "  <thead>\n",
       "    <tr style=\"text-align: right;\">\n",
       "      <th></th>\n",
       "      <th>children</th>\n",
       "      <th>days_employed</th>\n",
       "      <th>dob_years</th>\n",
       "      <th>education</th>\n",
       "      <th>education_id</th>\n",
       "      <th>family_status</th>\n",
       "      <th>family_status_id</th>\n",
       "      <th>gender</th>\n",
       "      <th>income_type</th>\n",
       "      <th>debt</th>\n",
       "      <th>total_income</th>\n",
       "      <th>purpose</th>\n",
       "    </tr>\n",
       "  </thead>\n",
       "  <tbody>\n",
       "    <tr>\n",
       "      <th>12</th>\n",
       "      <td>0</td>\n",
       "      <td>NaN</td>\n",
       "      <td>65</td>\n",
       "      <td>secondary education</td>\n",
       "      <td>1</td>\n",
       "      <td>civil partnership</td>\n",
       "      <td>1</td>\n",
       "      <td>M</td>\n",
       "      <td>retiree</td>\n",
       "      <td>0</td>\n",
       "      <td>NaN</td>\n",
       "      <td>to have a wedding</td>\n",
       "    </tr>\n",
       "    <tr>\n",
       "      <th>26</th>\n",
       "      <td>0</td>\n",
       "      <td>NaN</td>\n",
       "      <td>41</td>\n",
       "      <td>secondary education</td>\n",
       "      <td>1</td>\n",
       "      <td>married</td>\n",
       "      <td>0</td>\n",
       "      <td>M</td>\n",
       "      <td>civil servant</td>\n",
       "      <td>0</td>\n",
       "      <td>NaN</td>\n",
       "      <td>education</td>\n",
       "    </tr>\n",
       "    <tr>\n",
       "      <th>29</th>\n",
       "      <td>0</td>\n",
       "      <td>NaN</td>\n",
       "      <td>63</td>\n",
       "      <td>secondary education</td>\n",
       "      <td>1</td>\n",
       "      <td>unmarried</td>\n",
       "      <td>4</td>\n",
       "      <td>F</td>\n",
       "      <td>retiree</td>\n",
       "      <td>0</td>\n",
       "      <td>NaN</td>\n",
       "      <td>building a real estate</td>\n",
       "    </tr>\n",
       "    <tr>\n",
       "      <th>41</th>\n",
       "      <td>0</td>\n",
       "      <td>NaN</td>\n",
       "      <td>50</td>\n",
       "      <td>secondary education</td>\n",
       "      <td>1</td>\n",
       "      <td>married</td>\n",
       "      <td>0</td>\n",
       "      <td>F</td>\n",
       "      <td>civil servant</td>\n",
       "      <td>0</td>\n",
       "      <td>NaN</td>\n",
       "      <td>second-hand car purchase</td>\n",
       "    </tr>\n",
       "    <tr>\n",
       "      <th>55</th>\n",
       "      <td>0</td>\n",
       "      <td>NaN</td>\n",
       "      <td>54</td>\n",
       "      <td>secondary education</td>\n",
       "      <td>1</td>\n",
       "      <td>civil partnership</td>\n",
       "      <td>1</td>\n",
       "      <td>F</td>\n",
       "      <td>retiree</td>\n",
       "      <td>1</td>\n",
       "      <td>NaN</td>\n",
       "      <td>to have a wedding</td>\n",
       "    </tr>\n",
       "    <tr>\n",
       "      <th>...</th>\n",
       "      <td>...</td>\n",
       "      <td>...</td>\n",
       "      <td>...</td>\n",
       "      <td>...</td>\n",
       "      <td>...</td>\n",
       "      <td>...</td>\n",
       "      <td>...</td>\n",
       "      <td>...</td>\n",
       "      <td>...</td>\n",
       "      <td>...</td>\n",
       "      <td>...</td>\n",
       "      <td>...</td>\n",
       "    </tr>\n",
       "    <tr>\n",
       "      <th>21489</th>\n",
       "      <td>2</td>\n",
       "      <td>NaN</td>\n",
       "      <td>47</td>\n",
       "      <td>Secondary Education</td>\n",
       "      <td>1</td>\n",
       "      <td>married</td>\n",
       "      <td>0</td>\n",
       "      <td>M</td>\n",
       "      <td>business</td>\n",
       "      <td>0</td>\n",
       "      <td>NaN</td>\n",
       "      <td>purchase of a car</td>\n",
       "    </tr>\n",
       "    <tr>\n",
       "      <th>21495</th>\n",
       "      <td>1</td>\n",
       "      <td>NaN</td>\n",
       "      <td>50</td>\n",
       "      <td>secondary education</td>\n",
       "      <td>1</td>\n",
       "      <td>civil partnership</td>\n",
       "      <td>1</td>\n",
       "      <td>F</td>\n",
       "      <td>employee</td>\n",
       "      <td>0</td>\n",
       "      <td>NaN</td>\n",
       "      <td>wedding ceremony</td>\n",
       "    </tr>\n",
       "    <tr>\n",
       "      <th>21497</th>\n",
       "      <td>0</td>\n",
       "      <td>NaN</td>\n",
       "      <td>48</td>\n",
       "      <td>BACHELOR'S DEGREE</td>\n",
       "      <td>0</td>\n",
       "      <td>married</td>\n",
       "      <td>0</td>\n",
       "      <td>F</td>\n",
       "      <td>business</td>\n",
       "      <td>0</td>\n",
       "      <td>NaN</td>\n",
       "      <td>building a property</td>\n",
       "    </tr>\n",
       "    <tr>\n",
       "      <th>21502</th>\n",
       "      <td>1</td>\n",
       "      <td>NaN</td>\n",
       "      <td>42</td>\n",
       "      <td>secondary education</td>\n",
       "      <td>1</td>\n",
       "      <td>married</td>\n",
       "      <td>0</td>\n",
       "      <td>F</td>\n",
       "      <td>employee</td>\n",
       "      <td>0</td>\n",
       "      <td>NaN</td>\n",
       "      <td>building a real estate</td>\n",
       "    </tr>\n",
       "    <tr>\n",
       "      <th>21510</th>\n",
       "      <td>2</td>\n",
       "      <td>NaN</td>\n",
       "      <td>28</td>\n",
       "      <td>secondary education</td>\n",
       "      <td>1</td>\n",
       "      <td>married</td>\n",
       "      <td>0</td>\n",
       "      <td>F</td>\n",
       "      <td>employee</td>\n",
       "      <td>0</td>\n",
       "      <td>NaN</td>\n",
       "      <td>car purchase</td>\n",
       "    </tr>\n",
       "  </tbody>\n",
       "</table>\n",
       "<p>2174 rows × 12 columns</p>\n",
       "</div>"
      ],
      "text/plain": [
       "       children  days_employed  dob_years            education  education_id  \\\n",
       "12            0            NaN         65  secondary education             1   \n",
       "26            0            NaN         41  secondary education             1   \n",
       "29            0            NaN         63  secondary education             1   \n",
       "41            0            NaN         50  secondary education             1   \n",
       "55            0            NaN         54  secondary education             1   \n",
       "...         ...            ...        ...                  ...           ...   \n",
       "21489         2            NaN         47  Secondary Education             1   \n",
       "21495         1            NaN         50  secondary education             1   \n",
       "21497         0            NaN         48    BACHELOR'S DEGREE             0   \n",
       "21502         1            NaN         42  secondary education             1   \n",
       "21510         2            NaN         28  secondary education             1   \n",
       "\n",
       "           family_status  family_status_id gender    income_type  debt  \\\n",
       "12     civil partnership                 1      M        retiree     0   \n",
       "26               married                 0      M  civil servant     0   \n",
       "29             unmarried                 4      F        retiree     0   \n",
       "41               married                 0      F  civil servant     0   \n",
       "55     civil partnership                 1      F        retiree     1   \n",
       "...                  ...               ...    ...            ...   ...   \n",
       "21489            married                 0      M       business     0   \n",
       "21495  civil partnership                 1      F       employee     0   \n",
       "21497            married                 0      F       business     0   \n",
       "21502            married                 0      F       employee     0   \n",
       "21510            married                 0      F       employee     0   \n",
       "\n",
       "       total_income                   purpose  \n",
       "12              NaN         to have a wedding  \n",
       "26              NaN                 education  \n",
       "29              NaN    building a real estate  \n",
       "41              NaN  second-hand car purchase  \n",
       "55              NaN         to have a wedding  \n",
       "...             ...                       ...  \n",
       "21489           NaN         purchase of a car  \n",
       "21495           NaN          wedding ceremony  \n",
       "21497           NaN       building a property  \n",
       "21502           NaN    building a real estate  \n",
       "21510           NaN              car purchase  \n",
       "\n",
       "[2174 rows x 12 columns]"
      ]
     },
     "execution_count": 11,
     "metadata": {},
     "output_type": "execute_result"
    }
   ],
   "source": [
    "data[data.total_income.isnull()]"
   ]
  },
  {
   "cell_type": "markdown",
   "metadata": {},
   "source": [
    "Ok, it looks like I got an array of missing values, so it seems that in every row on the days_employed column, we have a missing valeu on the total_income column.\n",
    "\n",
    "But it is normal and logical that those people who do not report the number of days they work will not have a value in the total income column.\n",
    "\n",
    "And also, we cannot restore the data in this column because this data is filled manually by the employee or the company system.\n",
    "Let's look at the rows that don't have missing values in the investigated columns."
   ]
  },
  {
   "cell_type": "code",
   "execution_count": 12,
   "metadata": {},
   "outputs": [
    {
     "data": {
      "text/html": [
       "<div>\n",
       "<style scoped>\n",
       "    .dataframe tbody tr th:only-of-type {\n",
       "        vertical-align: middle;\n",
       "    }\n",
       "\n",
       "    .dataframe tbody tr th {\n",
       "        vertical-align: top;\n",
       "    }\n",
       "\n",
       "    .dataframe thead th {\n",
       "        text-align: right;\n",
       "    }\n",
       "</style>\n",
       "<table border=\"1\" class=\"dataframe\">\n",
       "  <thead>\n",
       "    <tr style=\"text-align: right;\">\n",
       "      <th></th>\n",
       "      <th>children</th>\n",
       "      <th>days_employed</th>\n",
       "      <th>dob_years</th>\n",
       "      <th>education</th>\n",
       "      <th>education_id</th>\n",
       "      <th>family_status</th>\n",
       "      <th>family_status_id</th>\n",
       "      <th>gender</th>\n",
       "      <th>income_type</th>\n",
       "      <th>debt</th>\n",
       "      <th>total_income</th>\n",
       "      <th>purpose</th>\n",
       "    </tr>\n",
       "  </thead>\n",
       "  <tbody>\n",
       "    <tr>\n",
       "      <th>0</th>\n",
       "      <td>1</td>\n",
       "      <td>-8437.673028</td>\n",
       "      <td>42</td>\n",
       "      <td>bachelor's degree</td>\n",
       "      <td>0</td>\n",
       "      <td>married</td>\n",
       "      <td>0</td>\n",
       "      <td>F</td>\n",
       "      <td>employee</td>\n",
       "      <td>0</td>\n",
       "      <td>40620.102</td>\n",
       "      <td>purchase of the house</td>\n",
       "    </tr>\n",
       "    <tr>\n",
       "      <th>1</th>\n",
       "      <td>1</td>\n",
       "      <td>-4024.803754</td>\n",
       "      <td>36</td>\n",
       "      <td>secondary education</td>\n",
       "      <td>1</td>\n",
       "      <td>married</td>\n",
       "      <td>0</td>\n",
       "      <td>F</td>\n",
       "      <td>employee</td>\n",
       "      <td>0</td>\n",
       "      <td>17932.802</td>\n",
       "      <td>car purchase</td>\n",
       "    </tr>\n",
       "    <tr>\n",
       "      <th>2</th>\n",
       "      <td>0</td>\n",
       "      <td>-5623.422610</td>\n",
       "      <td>33</td>\n",
       "      <td>Secondary Education</td>\n",
       "      <td>1</td>\n",
       "      <td>married</td>\n",
       "      <td>0</td>\n",
       "      <td>M</td>\n",
       "      <td>employee</td>\n",
       "      <td>0</td>\n",
       "      <td>23341.752</td>\n",
       "      <td>purchase of the house</td>\n",
       "    </tr>\n",
       "    <tr>\n",
       "      <th>3</th>\n",
       "      <td>3</td>\n",
       "      <td>-4124.747207</td>\n",
       "      <td>32</td>\n",
       "      <td>secondary education</td>\n",
       "      <td>1</td>\n",
       "      <td>married</td>\n",
       "      <td>0</td>\n",
       "      <td>M</td>\n",
       "      <td>employee</td>\n",
       "      <td>0</td>\n",
       "      <td>42820.568</td>\n",
       "      <td>supplementary education</td>\n",
       "    </tr>\n",
       "    <tr>\n",
       "      <th>4</th>\n",
       "      <td>0</td>\n",
       "      <td>340266.072047</td>\n",
       "      <td>53</td>\n",
       "      <td>secondary education</td>\n",
       "      <td>1</td>\n",
       "      <td>civil partnership</td>\n",
       "      <td>1</td>\n",
       "      <td>F</td>\n",
       "      <td>retiree</td>\n",
       "      <td>0</td>\n",
       "      <td>25378.572</td>\n",
       "      <td>to have a wedding</td>\n",
       "    </tr>\n",
       "    <tr>\n",
       "      <th>...</th>\n",
       "      <td>...</td>\n",
       "      <td>...</td>\n",
       "      <td>...</td>\n",
       "      <td>...</td>\n",
       "      <td>...</td>\n",
       "      <td>...</td>\n",
       "      <td>...</td>\n",
       "      <td>...</td>\n",
       "      <td>...</td>\n",
       "      <td>...</td>\n",
       "      <td>...</td>\n",
       "      <td>...</td>\n",
       "    </tr>\n",
       "    <tr>\n",
       "      <th>21520</th>\n",
       "      <td>1</td>\n",
       "      <td>-4529.316663</td>\n",
       "      <td>43</td>\n",
       "      <td>secondary education</td>\n",
       "      <td>1</td>\n",
       "      <td>civil partnership</td>\n",
       "      <td>1</td>\n",
       "      <td>F</td>\n",
       "      <td>business</td>\n",
       "      <td>0</td>\n",
       "      <td>35966.698</td>\n",
       "      <td>housing transactions</td>\n",
       "    </tr>\n",
       "    <tr>\n",
       "      <th>21521</th>\n",
       "      <td>0</td>\n",
       "      <td>343937.404131</td>\n",
       "      <td>67</td>\n",
       "      <td>secondary education</td>\n",
       "      <td>1</td>\n",
       "      <td>married</td>\n",
       "      <td>0</td>\n",
       "      <td>F</td>\n",
       "      <td>retiree</td>\n",
       "      <td>0</td>\n",
       "      <td>24959.969</td>\n",
       "      <td>purchase of a car</td>\n",
       "    </tr>\n",
       "    <tr>\n",
       "      <th>21522</th>\n",
       "      <td>1</td>\n",
       "      <td>-2113.346888</td>\n",
       "      <td>38</td>\n",
       "      <td>secondary education</td>\n",
       "      <td>1</td>\n",
       "      <td>civil partnership</td>\n",
       "      <td>1</td>\n",
       "      <td>M</td>\n",
       "      <td>employee</td>\n",
       "      <td>1</td>\n",
       "      <td>14347.610</td>\n",
       "      <td>property</td>\n",
       "    </tr>\n",
       "    <tr>\n",
       "      <th>21523</th>\n",
       "      <td>3</td>\n",
       "      <td>-3112.481705</td>\n",
       "      <td>38</td>\n",
       "      <td>secondary education</td>\n",
       "      <td>1</td>\n",
       "      <td>married</td>\n",
       "      <td>0</td>\n",
       "      <td>M</td>\n",
       "      <td>employee</td>\n",
       "      <td>1</td>\n",
       "      <td>39054.888</td>\n",
       "      <td>buying my own car</td>\n",
       "    </tr>\n",
       "    <tr>\n",
       "      <th>21524</th>\n",
       "      <td>2</td>\n",
       "      <td>-1984.507589</td>\n",
       "      <td>40</td>\n",
       "      <td>secondary education</td>\n",
       "      <td>1</td>\n",
       "      <td>married</td>\n",
       "      <td>0</td>\n",
       "      <td>F</td>\n",
       "      <td>employee</td>\n",
       "      <td>0</td>\n",
       "      <td>13127.587</td>\n",
       "      <td>to buy a car</td>\n",
       "    </tr>\n",
       "  </tbody>\n",
       "</table>\n",
       "<p>19351 rows × 12 columns</p>\n",
       "</div>"
      ],
      "text/plain": [
       "       children  days_employed  dob_years            education  education_id  \\\n",
       "0             1   -8437.673028         42    bachelor's degree             0   \n",
       "1             1   -4024.803754         36  secondary education             1   \n",
       "2             0   -5623.422610         33  Secondary Education             1   \n",
       "3             3   -4124.747207         32  secondary education             1   \n",
       "4             0  340266.072047         53  secondary education             1   \n",
       "...         ...            ...        ...                  ...           ...   \n",
       "21520         1   -4529.316663         43  secondary education             1   \n",
       "21521         0  343937.404131         67  secondary education             1   \n",
       "21522         1   -2113.346888         38  secondary education             1   \n",
       "21523         3   -3112.481705         38  secondary education             1   \n",
       "21524         2   -1984.507589         40  secondary education             1   \n",
       "\n",
       "           family_status  family_status_id gender income_type  debt  \\\n",
       "0                married                 0      F    employee     0   \n",
       "1                married                 0      F    employee     0   \n",
       "2                married                 0      M    employee     0   \n",
       "3                married                 0      M    employee     0   \n",
       "4      civil partnership                 1      F     retiree     0   \n",
       "...                  ...               ...    ...         ...   ...   \n",
       "21520  civil partnership                 1      F    business     0   \n",
       "21521            married                 0      F     retiree     0   \n",
       "21522  civil partnership                 1      M    employee     1   \n",
       "21523            married                 0      M    employee     1   \n",
       "21524            married                 0      F    employee     0   \n",
       "\n",
       "       total_income                  purpose  \n",
       "0         40620.102    purchase of the house  \n",
       "1         17932.802             car purchase  \n",
       "2         23341.752    purchase of the house  \n",
       "3         42820.568  supplementary education  \n",
       "4         25378.572        to have a wedding  \n",
       "...             ...                      ...  \n",
       "21520     35966.698     housing transactions  \n",
       "21521     24959.969        purchase of a car  \n",
       "21522     14347.610                 property  \n",
       "21523     39054.888        buying my own car  \n",
       "21524     13127.587             to buy a car  \n",
       "\n",
       "[19351 rows x 12 columns]"
      ]
     },
     "execution_count": 12,
     "metadata": {},
     "output_type": "execute_result"
    }
   ],
   "source": [
    "data[data['days_employed'].notna()]"
   ]
  },
  {
   "cell_type": "code",
   "execution_count": 13,
   "metadata": {},
   "outputs": [
    {
     "data": {
      "text/html": [
       "<div>\n",
       "<style scoped>\n",
       "    .dataframe tbody tr th:only-of-type {\n",
       "        vertical-align: middle;\n",
       "    }\n",
       "\n",
       "    .dataframe tbody tr th {\n",
       "        vertical-align: top;\n",
       "    }\n",
       "\n",
       "    .dataframe thead th {\n",
       "        text-align: right;\n",
       "    }\n",
       "</style>\n",
       "<table border=\"1\" class=\"dataframe\">\n",
       "  <thead>\n",
       "    <tr style=\"text-align: right;\">\n",
       "      <th></th>\n",
       "      <th>children</th>\n",
       "      <th>days_employed</th>\n",
       "      <th>dob_years</th>\n",
       "      <th>education</th>\n",
       "      <th>education_id</th>\n",
       "      <th>family_status</th>\n",
       "      <th>family_status_id</th>\n",
       "      <th>gender</th>\n",
       "      <th>income_type</th>\n",
       "      <th>debt</th>\n",
       "      <th>total_income</th>\n",
       "      <th>purpose</th>\n",
       "    </tr>\n",
       "  </thead>\n",
       "  <tbody>\n",
       "    <tr>\n",
       "      <th>0</th>\n",
       "      <td>1</td>\n",
       "      <td>-8437.673028</td>\n",
       "      <td>42</td>\n",
       "      <td>bachelor's degree</td>\n",
       "      <td>0</td>\n",
       "      <td>married</td>\n",
       "      <td>0</td>\n",
       "      <td>F</td>\n",
       "      <td>employee</td>\n",
       "      <td>0</td>\n",
       "      <td>40620.102</td>\n",
       "      <td>purchase of the house</td>\n",
       "    </tr>\n",
       "    <tr>\n",
       "      <th>1</th>\n",
       "      <td>1</td>\n",
       "      <td>-4024.803754</td>\n",
       "      <td>36</td>\n",
       "      <td>secondary education</td>\n",
       "      <td>1</td>\n",
       "      <td>married</td>\n",
       "      <td>0</td>\n",
       "      <td>F</td>\n",
       "      <td>employee</td>\n",
       "      <td>0</td>\n",
       "      <td>17932.802</td>\n",
       "      <td>car purchase</td>\n",
       "    </tr>\n",
       "    <tr>\n",
       "      <th>2</th>\n",
       "      <td>0</td>\n",
       "      <td>-5623.422610</td>\n",
       "      <td>33</td>\n",
       "      <td>Secondary Education</td>\n",
       "      <td>1</td>\n",
       "      <td>married</td>\n",
       "      <td>0</td>\n",
       "      <td>M</td>\n",
       "      <td>employee</td>\n",
       "      <td>0</td>\n",
       "      <td>23341.752</td>\n",
       "      <td>purchase of the house</td>\n",
       "    </tr>\n",
       "    <tr>\n",
       "      <th>3</th>\n",
       "      <td>3</td>\n",
       "      <td>-4124.747207</td>\n",
       "      <td>32</td>\n",
       "      <td>secondary education</td>\n",
       "      <td>1</td>\n",
       "      <td>married</td>\n",
       "      <td>0</td>\n",
       "      <td>M</td>\n",
       "      <td>employee</td>\n",
       "      <td>0</td>\n",
       "      <td>42820.568</td>\n",
       "      <td>supplementary education</td>\n",
       "    </tr>\n",
       "    <tr>\n",
       "      <th>4</th>\n",
       "      <td>0</td>\n",
       "      <td>340266.072047</td>\n",
       "      <td>53</td>\n",
       "      <td>secondary education</td>\n",
       "      <td>1</td>\n",
       "      <td>civil partnership</td>\n",
       "      <td>1</td>\n",
       "      <td>F</td>\n",
       "      <td>retiree</td>\n",
       "      <td>0</td>\n",
       "      <td>25378.572</td>\n",
       "      <td>to have a wedding</td>\n",
       "    </tr>\n",
       "    <tr>\n",
       "      <th>...</th>\n",
       "      <td>...</td>\n",
       "      <td>...</td>\n",
       "      <td>...</td>\n",
       "      <td>...</td>\n",
       "      <td>...</td>\n",
       "      <td>...</td>\n",
       "      <td>...</td>\n",
       "      <td>...</td>\n",
       "      <td>...</td>\n",
       "      <td>...</td>\n",
       "      <td>...</td>\n",
       "      <td>...</td>\n",
       "    </tr>\n",
       "    <tr>\n",
       "      <th>21520</th>\n",
       "      <td>1</td>\n",
       "      <td>-4529.316663</td>\n",
       "      <td>43</td>\n",
       "      <td>secondary education</td>\n",
       "      <td>1</td>\n",
       "      <td>civil partnership</td>\n",
       "      <td>1</td>\n",
       "      <td>F</td>\n",
       "      <td>business</td>\n",
       "      <td>0</td>\n",
       "      <td>35966.698</td>\n",
       "      <td>housing transactions</td>\n",
       "    </tr>\n",
       "    <tr>\n",
       "      <th>21521</th>\n",
       "      <td>0</td>\n",
       "      <td>343937.404131</td>\n",
       "      <td>67</td>\n",
       "      <td>secondary education</td>\n",
       "      <td>1</td>\n",
       "      <td>married</td>\n",
       "      <td>0</td>\n",
       "      <td>F</td>\n",
       "      <td>retiree</td>\n",
       "      <td>0</td>\n",
       "      <td>24959.969</td>\n",
       "      <td>purchase of a car</td>\n",
       "    </tr>\n",
       "    <tr>\n",
       "      <th>21522</th>\n",
       "      <td>1</td>\n",
       "      <td>-2113.346888</td>\n",
       "      <td>38</td>\n",
       "      <td>secondary education</td>\n",
       "      <td>1</td>\n",
       "      <td>civil partnership</td>\n",
       "      <td>1</td>\n",
       "      <td>M</td>\n",
       "      <td>employee</td>\n",
       "      <td>1</td>\n",
       "      <td>14347.610</td>\n",
       "      <td>property</td>\n",
       "    </tr>\n",
       "    <tr>\n",
       "      <th>21523</th>\n",
       "      <td>3</td>\n",
       "      <td>-3112.481705</td>\n",
       "      <td>38</td>\n",
       "      <td>secondary education</td>\n",
       "      <td>1</td>\n",
       "      <td>married</td>\n",
       "      <td>0</td>\n",
       "      <td>M</td>\n",
       "      <td>employee</td>\n",
       "      <td>1</td>\n",
       "      <td>39054.888</td>\n",
       "      <td>buying my own car</td>\n",
       "    </tr>\n",
       "    <tr>\n",
       "      <th>21524</th>\n",
       "      <td>2</td>\n",
       "      <td>-1984.507589</td>\n",
       "      <td>40</td>\n",
       "      <td>secondary education</td>\n",
       "      <td>1</td>\n",
       "      <td>married</td>\n",
       "      <td>0</td>\n",
       "      <td>F</td>\n",
       "      <td>employee</td>\n",
       "      <td>0</td>\n",
       "      <td>13127.587</td>\n",
       "      <td>to buy a car</td>\n",
       "    </tr>\n",
       "  </tbody>\n",
       "</table>\n",
       "<p>19351 rows × 12 columns</p>\n",
       "</div>"
      ],
      "text/plain": [
       "       children  days_employed  dob_years            education  education_id  \\\n",
       "0             1   -8437.673028         42    bachelor's degree             0   \n",
       "1             1   -4024.803754         36  secondary education             1   \n",
       "2             0   -5623.422610         33  Secondary Education             1   \n",
       "3             3   -4124.747207         32  secondary education             1   \n",
       "4             0  340266.072047         53  secondary education             1   \n",
       "...         ...            ...        ...                  ...           ...   \n",
       "21520         1   -4529.316663         43  secondary education             1   \n",
       "21521         0  343937.404131         67  secondary education             1   \n",
       "21522         1   -2113.346888         38  secondary education             1   \n",
       "21523         3   -3112.481705         38  secondary education             1   \n",
       "21524         2   -1984.507589         40  secondary education             1   \n",
       "\n",
       "           family_status  family_status_id gender income_type  debt  \\\n",
       "0                married                 0      F    employee     0   \n",
       "1                married                 0      F    employee     0   \n",
       "2                married                 0      M    employee     0   \n",
       "3                married                 0      M    employee     0   \n",
       "4      civil partnership                 1      F     retiree     0   \n",
       "...                  ...               ...    ...         ...   ...   \n",
       "21520  civil partnership                 1      F    business     0   \n",
       "21521            married                 0      F     retiree     0   \n",
       "21522  civil partnership                 1      M    employee     1   \n",
       "21523            married                 0      M    employee     1   \n",
       "21524            married                 0      F    employee     0   \n",
       "\n",
       "       total_income                  purpose  \n",
       "0         40620.102    purchase of the house  \n",
       "1         17932.802             car purchase  \n",
       "2         23341.752    purchase of the house  \n",
       "3         42820.568  supplementary education  \n",
       "4         25378.572        to have a wedding  \n",
       "...             ...                      ...  \n",
       "21520     35966.698     housing transactions  \n",
       "21521     24959.969        purchase of a car  \n",
       "21522     14347.610                 property  \n",
       "21523     39054.888        buying my own car  \n",
       "21524     13127.587             to buy a car  \n",
       "\n",
       "[19351 rows x 12 columns]"
      ]
     },
     "execution_count": 13,
     "metadata": {},
     "output_type": "execute_result"
    }
   ],
   "source": [
    "data[data['total_income'].notna()]"
   ]
  },
  {
   "cell_type": "markdown",
   "metadata": {},
   "source": [
    "After looking at the days_employed column, we can see values with a ''-'' sign, which doesn't make sense. Let's dig deeper."
   ]
  },
  {
   "cell_type": "code",
   "execution_count": 14,
   "metadata": {},
   "outputs": [
    {
     "data": {
      "text/plain": [
       "count     19351.000000\n",
       "mean      63046.497661\n",
       "std      140827.311974\n",
       "min      -18388.949901\n",
       "25%       -2747.423625\n",
       "50%       -1203.369529\n",
       "75%        -291.095954\n",
       "max      401755.400475\n",
       "Name: days_employed, dtype: float64"
      ]
     },
     "execution_count": 14,
     "metadata": {},
     "output_type": "execute_result"
    }
   ],
   "source": [
    "data['days_employed'].describe()"
   ]
  },
  {
   "cell_type": "markdown",
   "metadata": {},
   "source": [
    "We can see that the Data in the days_employed is 75% negative, and it doesn't make any sense. However, Our project question wasn't related to this data, so that we can leave this at it is and make sure we ask the engineer about this.\n",
    "or we can also use the abs() method. \n",
    "\n",
    "For now, let's Fill the missing values in the total income column.\n",
    "\n",
    "We can elegantly do that by filling it with the median total income by the income type and education id."
   ]
  },
  {
   "cell_type": "code",
   "execution_count": 15,
   "metadata": {},
   "outputs": [],
   "source": [
    "data['total_income']=data['total_income'].abs()"
   ]
  },
  {
   "cell_type": "code",
   "execution_count": 16,
   "metadata": {},
   "outputs": [
    {
     "data": {
      "text/plain": [
       "count     19351.000000\n",
       "mean      26787.568355\n",
       "std       16475.450632\n",
       "min        3306.762000\n",
       "25%       16488.504500\n",
       "50%       23202.870000\n",
       "75%       32549.611000\n",
       "max      362496.645000\n",
       "Name: total_income, dtype: float64"
      ]
     },
     "execution_count": 16,
     "metadata": {},
     "output_type": "execute_result"
    }
   ],
   "source": [
    "data['total_income'].describe()"
   ]
  },
  {
   "cell_type": "code",
   "execution_count": 17,
   "metadata": {},
   "outputs": [],
   "source": [
    "data['total_income']= data['total_income'].fillna(data.groupby(['income_type', 'education_id'])['total_income'].transform('median'))"
   ]
  },
  {
   "cell_type": "code",
   "execution_count": 18,
   "metadata": {},
   "outputs": [
    {
     "data": {
      "text/html": [
       "<div>\n",
       "<style scoped>\n",
       "    .dataframe tbody tr th:only-of-type {\n",
       "        vertical-align: middle;\n",
       "    }\n",
       "\n",
       "    .dataframe tbody tr th {\n",
       "        vertical-align: top;\n",
       "    }\n",
       "\n",
       "    .dataframe thead th {\n",
       "        text-align: right;\n",
       "    }\n",
       "</style>\n",
       "<table border=\"1\" class=\"dataframe\">\n",
       "  <thead>\n",
       "    <tr style=\"text-align: right;\">\n",
       "      <th></th>\n",
       "      <th>children</th>\n",
       "      <th>days_employed</th>\n",
       "      <th>dob_years</th>\n",
       "      <th>education</th>\n",
       "      <th>education_id</th>\n",
       "      <th>family_status</th>\n",
       "      <th>family_status_id</th>\n",
       "      <th>gender</th>\n",
       "      <th>income_type</th>\n",
       "      <th>debt</th>\n",
       "      <th>total_income</th>\n",
       "      <th>purpose</th>\n",
       "    </tr>\n",
       "  </thead>\n",
       "  <tbody>\n",
       "  </tbody>\n",
       "</table>\n",
       "</div>"
      ],
      "text/plain": [
       "Empty DataFrame\n",
       "Columns: [children, days_employed, dob_years, education, education_id, family_status, family_status_id, gender, income_type, debt, total_income, purpose]\n",
       "Index: []"
      ]
     },
     "execution_count": 18,
     "metadata": {},
     "output_type": "execute_result"
    }
   ],
   "source": [
    "data[data.total_income.isnull()]"
   ]
  },
  {
   "cell_type": "code",
   "execution_count": 19,
   "metadata": {},
   "outputs": [
    {
     "name": "stdout",
     "output_type": "stream",
     "text": [
      "<class 'pandas.core.frame.DataFrame'>\n",
      "RangeIndex: 21525 entries, 0 to 21524\n",
      "Data columns (total 12 columns):\n",
      " #   Column            Non-Null Count  Dtype  \n",
      "---  ------            --------------  -----  \n",
      " 0   children          21525 non-null  int64  \n",
      " 1   days_employed     19351 non-null  float64\n",
      " 2   dob_years         21525 non-null  int64  \n",
      " 3   education         21525 non-null  object \n",
      " 4   education_id      21525 non-null  int64  \n",
      " 5   family_status     21525 non-null  object \n",
      " 6   family_status_id  21525 non-null  int64  \n",
      " 7   gender            21525 non-null  object \n",
      " 8   income_type       21525 non-null  object \n",
      " 9   debt              21525 non-null  int64  \n",
      " 10  total_income      21525 non-null  float64\n",
      " 11  purpose           21525 non-null  object \n",
      "dtypes: float64(2), int64(5), object(5)\n",
      "memory usage: 2.0+ MB\n"
     ]
    }
   ],
   "source": [
    "data.info()"
   ]
  },
  {
   "cell_type": "markdown",
   "metadata": {},
   "source": [
    "and now there are no missing values in the total income.\n",
    "\n",
    "For now, let's explore all the columns in the data table."
   ]
  },
  {
   "cell_type": "code",
   "execution_count": 20,
   "metadata": {},
   "outputs": [
    {
     "data": {
      "text/plain": [
       "count    21525.000000\n",
       "mean         0.538908\n",
       "std          1.381587\n",
       "min         -1.000000\n",
       "25%          0.000000\n",
       "50%          0.000000\n",
       "75%          1.000000\n",
       "max         20.000000\n",
       "Name: children, dtype: float64"
      ]
     },
     "execution_count": 20,
     "metadata": {},
     "output_type": "execute_result"
    }
   ],
   "source": [
    "data['children'].describe()"
   ]
  },
  {
   "cell_type": "markdown",
   "metadata": {},
   "source": [
    "We can see wired values in the children column like \"-1\" and \"20,\" which is impossible to have negative children and very much suspicion to have 20 children.\n",
    "\n",
    "Because this is not persistent in the majority of the column data, we will consider this a mistype.\n",
    "\n",
    "Let's fix this."
   ]
  },
  {
   "cell_type": "code",
   "execution_count": 21,
   "metadata": {},
   "outputs": [],
   "source": [
    "data['children']=data['children'].abs()"
   ]
  },
  {
   "cell_type": "code",
   "execution_count": 22,
   "metadata": {
    "scrolled": true
   },
   "outputs": [
    {
     "data": {
      "text/plain": [
       "count    21525.000000\n",
       "mean         0.543275\n",
       "std          1.379876\n",
       "min          0.000000\n",
       "25%          0.000000\n",
       "50%          0.000000\n",
       "75%          1.000000\n",
       "max         20.000000\n",
       "Name: children, dtype: float64"
      ]
     },
     "execution_count": 22,
     "metadata": {},
     "output_type": "execute_result"
    }
   ],
   "source": [
    "data['children'].describe()"
   ]
  },
  {
   "cell_type": "code",
   "execution_count": 23,
   "metadata": {},
   "outputs": [],
   "source": [
    "data[\"children\"]=data[\"children\"].replace(20, 2, regex=True)"
   ]
  },
  {
   "cell_type": "code",
   "execution_count": 24,
   "metadata": {},
   "outputs": [
    {
     "data": {
      "text/plain": [
       "count    21525.000000\n",
       "mean         0.479721\n",
       "std          0.755528\n",
       "min          0.000000\n",
       "25%          0.000000\n",
       "50%          0.000000\n",
       "75%          1.000000\n",
       "max          5.000000\n",
       "Name: children, dtype: float64"
      ]
     },
     "execution_count": 24,
     "metadata": {},
     "output_type": "execute_result"
    }
   ],
   "source": [
    "data['children'].describe(include = all)"
   ]
  },
  {
   "cell_type": "code",
   "execution_count": 25,
   "metadata": {},
   "outputs": [
    {
     "data": {
      "text/plain": [
       "array([1, 0, 3, 2, 4, 5])"
      ]
     },
     "execution_count": 25,
     "metadata": {},
     "output_type": "execute_result"
    }
   ],
   "source": [
    "data['children'].unique()"
   ]
  },
  {
   "cell_type": "markdown",
   "metadata": {},
   "source": [
    "Now we can see that there are four categories to the education column, and it matches the array of the four ids in the education id column.\n",
    "\n",
    "Let's move on to the dob_years column."
   ]
  },
  {
   "cell_type": "code",
   "execution_count": 26,
   "metadata": {},
   "outputs": [
    {
     "data": {
      "text/plain": [
       "array([42, 36, 33, 32, 53, 27, 43, 50, 35, 41, 40, 65, 54, 56, 26, 48, 24,\n",
       "       21, 57, 67, 28, 63, 62, 47, 34, 68, 25, 31, 30, 20, 49, 37, 45, 61,\n",
       "       64, 44, 52, 46, 23, 38, 39, 51,  0, 59, 29, 60, 55, 58, 71, 22, 73,\n",
       "       66, 69, 19, 72, 70, 74, 75])"
      ]
     },
     "execution_count": 26,
     "metadata": {},
     "output_type": "execute_result"
    }
   ],
   "source": [
    "data['dob_years'].unique()"
   ]
  },
  {
   "cell_type": "code",
   "execution_count": 27,
   "metadata": {},
   "outputs": [
    {
     "data": {
      "text/plain": [
       "count    21525.000000\n",
       "mean        43.293380\n",
       "std         12.574584\n",
       "min          0.000000\n",
       "25%         33.000000\n",
       "50%         42.000000\n",
       "75%         53.000000\n",
       "max         75.000000\n",
       "Name: dob_years, dtype: float64"
      ]
     },
     "execution_count": 27,
     "metadata": {},
     "output_type": "execute_result"
    }
   ],
   "source": [
    "data['dob_years'].describe()"
   ]
  },
  {
   "cell_type": "markdown",
   "metadata": {},
   "source": [
    "Look like we found some wrong value in the dob_yeaes like age 0, which is impossible.\n",
    "\n",
    "Let's change it to the average age in our column, which is 43."
   ]
  },
  {
   "cell_type": "code",
   "execution_count": 28,
   "metadata": {},
   "outputs": [],
   "source": [
    "data[\"dob_years\"]=data[\"dob_years\"].replace(0, 43, regex=True)"
   ]
  },
  {
   "cell_type": "code",
   "execution_count": 29,
   "metadata": {},
   "outputs": [
    {
     "data": {
      "text/plain": [
       "count    21525.000000\n",
       "mean        43.495145\n",
       "std         12.218213\n",
       "min         19.000000\n",
       "25%         34.000000\n",
       "50%         43.000000\n",
       "75%         53.000000\n",
       "max         75.000000\n",
       "Name: dob_years, dtype: float64"
      ]
     },
     "execution_count": 29,
     "metadata": {},
     "output_type": "execute_result"
    }
   ],
   "source": [
    "data['dob_years'].describe()"
   ]
  },
  {
   "cell_type": "code",
   "execution_count": 30,
   "metadata": {},
   "outputs": [
    {
     "data": {
      "text/plain": [
       "count    21525.000000\n",
       "mean         0.817236\n",
       "std          0.548138\n",
       "min          0.000000\n",
       "25%          1.000000\n",
       "50%          1.000000\n",
       "75%          1.000000\n",
       "max          4.000000\n",
       "Name: education_id, dtype: float64"
      ]
     },
     "execution_count": 30,
     "metadata": {},
     "output_type": "execute_result"
    }
   ],
   "source": [
    "data['education_id'].describe()"
   ]
  },
  {
   "cell_type": "markdown",
   "metadata": {},
   "source": [
    "Now it looks better. Let's move on to the family status column."
   ]
  },
  {
   "cell_type": "code",
   "execution_count": 31,
   "metadata": {},
   "outputs": [
    {
     "data": {
      "text/plain": [
       "array(['married', 'civil partnership', 'widow / widower', 'divorced',\n",
       "       'unmarried'], dtype=object)"
      ]
     },
     "execution_count": 31,
     "metadata": {},
     "output_type": "execute_result"
    }
   ],
   "source": [
    "data['family_status'].unique()"
   ]
  },
  {
   "cell_type": "code",
   "execution_count": 32,
   "metadata": {},
   "outputs": [
    {
     "data": {
      "text/plain": [
       "count       21525\n",
       "unique          5\n",
       "top       married\n",
       "freq        12380\n",
       "Name: family_status, dtype: object"
      ]
     },
     "execution_count": 32,
     "metadata": {},
     "output_type": "execute_result"
    }
   ],
   "source": [
    "data['family_status'].describe()"
   ]
  },
  {
   "cell_type": "code",
   "execution_count": 33,
   "metadata": {},
   "outputs": [
    {
     "data": {
      "text/plain": [
       "array([0, 1, 2, 3, 4])"
      ]
     },
     "execution_count": 33,
     "metadata": {},
     "output_type": "execute_result"
    }
   ],
   "source": [
    "data['family_status_id'].unique()"
   ]
  },
  {
   "cell_type": "code",
   "execution_count": 34,
   "metadata": {},
   "outputs": [
    {
     "data": {
      "text/plain": [
       "count     21525\n",
       "unique        3\n",
       "top           F\n",
       "freq      14236\n",
       "Name: gender, dtype: object"
      ]
     },
     "execution_count": 34,
     "metadata": {},
     "output_type": "execute_result"
    }
   ],
   "source": [
    "data['gender'].describe()"
   ]
  },
  {
   "cell_type": "code",
   "execution_count": 35,
   "metadata": {},
   "outputs": [
    {
     "data": {
      "text/plain": [
       "array(['F', 'M', 'XNA'], dtype=object)"
      ]
     },
     "execution_count": 35,
     "metadata": {},
     "output_type": "execute_result"
    }
   ],
   "source": [
    "data['gender'].unique()"
   ]
  },
  {
   "cell_type": "code",
   "execution_count": 36,
   "metadata": {},
   "outputs": [
    {
     "data": {
      "text/html": [
       "<div>\n",
       "<style scoped>\n",
       "    .dataframe tbody tr th:only-of-type {\n",
       "        vertical-align: middle;\n",
       "    }\n",
       "\n",
       "    .dataframe tbody tr th {\n",
       "        vertical-align: top;\n",
       "    }\n",
       "\n",
       "    .dataframe thead th {\n",
       "        text-align: right;\n",
       "    }\n",
       "</style>\n",
       "<table border=\"1\" class=\"dataframe\">\n",
       "  <thead>\n",
       "    <tr style=\"text-align: right;\">\n",
       "      <th></th>\n",
       "      <th>gender</th>\n",
       "      <th>count</th>\n",
       "      <th>percent</th>\n",
       "      <th>cumulative_count</th>\n",
       "      <th>cumulative_percent</th>\n",
       "    </tr>\n",
       "  </thead>\n",
       "  <tbody>\n",
       "    <tr>\n",
       "      <th>0</th>\n",
       "      <td>F</td>\n",
       "      <td>14236</td>\n",
       "      <td>66.137050</td>\n",
       "      <td>14236</td>\n",
       "      <td>66.137050</td>\n",
       "    </tr>\n",
       "    <tr>\n",
       "      <th>1</th>\n",
       "      <td>M</td>\n",
       "      <td>7288</td>\n",
       "      <td>33.858304</td>\n",
       "      <td>21524</td>\n",
       "      <td>99.995354</td>\n",
       "    </tr>\n",
       "    <tr>\n",
       "      <th>2</th>\n",
       "      <td>XNA</td>\n",
       "      <td>1</td>\n",
       "      <td>0.004646</td>\n",
       "      <td>21525</td>\n",
       "      <td>100.000000</td>\n",
       "    </tr>\n",
       "  </tbody>\n",
       "</table>\n",
       "</div>"
      ],
      "text/plain": [
       "  gender  count    percent  cumulative_count  cumulative_percent\n",
       "0      F  14236  66.137050             14236           66.137050\n",
       "1      M   7288  33.858304             21524           99.995354\n",
       "2    XNA      1   0.004646             21525          100.000000"
      ]
     },
     "execution_count": 36,
     "metadata": {},
     "output_type": "execute_result"
    }
   ],
   "source": [
    "data.stb.freq(['gender'])"
   ]
  },
  {
   "cell_type": "markdown",
   "metadata": {},
   "source": [
    "I didn't understand what 'XNA' stands for.\n",
    "Can you please be more specific about what kind of error this is?"
   ]
  },
  {
   "cell_type": "code",
   "execution_count": 37,
   "metadata": {},
   "outputs": [
    {
     "data": {
      "text/plain": [
       "count        21525\n",
       "unique           8\n",
       "top       employee\n",
       "freq         11119\n",
       "Name: income_type, dtype: object"
      ]
     },
     "execution_count": 37,
     "metadata": {},
     "output_type": "execute_result"
    }
   ],
   "source": [
    "data['income_type'].describe()"
   ]
  },
  {
   "cell_type": "code",
   "execution_count": 38,
   "metadata": {},
   "outputs": [
    {
     "data": {
      "text/plain": [
       "array(['employee', 'retiree', 'business', 'civil servant', 'unemployed',\n",
       "       'entrepreneur', 'student', 'paternity / maternity leave'],\n",
       "      dtype=object)"
      ]
     },
     "execution_count": 38,
     "metadata": {},
     "output_type": "execute_result"
    }
   ],
   "source": [
    "data['income_type'].unique()"
   ]
  },
  {
   "cell_type": "code",
   "execution_count": 39,
   "metadata": {},
   "outputs": [
    {
     "data": {
      "text/plain": [
       "count    21525.000000\n",
       "mean         0.080883\n",
       "std          0.272661\n",
       "min          0.000000\n",
       "25%          0.000000\n",
       "50%          0.000000\n",
       "75%          0.000000\n",
       "max          1.000000\n",
       "Name: debt, dtype: float64"
      ]
     },
     "execution_count": 39,
     "metadata": {},
     "output_type": "execute_result"
    }
   ],
   "source": [
    "data['debt'].describe()"
   ]
  },
  {
   "cell_type": "code",
   "execution_count": 40,
   "metadata": {},
   "outputs": [
    {
     "data": {
      "text/plain": [
       "array([0, 1])"
      ]
     },
     "execution_count": 40,
     "metadata": {},
     "output_type": "execute_result"
    }
   ],
   "source": [
    "data['debt'].unique()"
   ]
  },
  {
   "cell_type": "code",
   "execution_count": 41,
   "metadata": {},
   "outputs": [
    {
     "data": {
      "text/html": [
       "<div>\n",
       "<style scoped>\n",
       "    .dataframe tbody tr th:only-of-type {\n",
       "        vertical-align: middle;\n",
       "    }\n",
       "\n",
       "    .dataframe tbody tr th {\n",
       "        vertical-align: top;\n",
       "    }\n",
       "\n",
       "    .dataframe thead th {\n",
       "        text-align: right;\n",
       "    }\n",
       "</style>\n",
       "<table border=\"1\" class=\"dataframe\">\n",
       "  <thead>\n",
       "    <tr style=\"text-align: right;\">\n",
       "      <th></th>\n",
       "      <th>children</th>\n",
       "      <th>days_employed</th>\n",
       "      <th>dob_years</th>\n",
       "      <th>education</th>\n",
       "      <th>education_id</th>\n",
       "      <th>family_status</th>\n",
       "      <th>family_status_id</th>\n",
       "      <th>gender</th>\n",
       "      <th>income_type</th>\n",
       "      <th>debt</th>\n",
       "      <th>total_income</th>\n",
       "      <th>purpose</th>\n",
       "    </tr>\n",
       "  </thead>\n",
       "  <tbody>\n",
       "  </tbody>\n",
       "</table>\n",
       "</div>"
      ],
      "text/plain": [
       "Empty DataFrame\n",
       "Columns: [children, days_employed, dob_years, education, education_id, family_status, family_status_id, gender, income_type, debt, total_income, purpose]\n",
       "Index: []"
      ]
     },
     "execution_count": 41,
     "metadata": {},
     "output_type": "execute_result"
    }
   ],
   "source": [
    "data[data.debt.isnull()]"
   ]
  },
  {
   "cell_type": "code",
   "execution_count": 42,
   "metadata": {},
   "outputs": [
    {
     "data": {
      "text/plain": [
       "count                21525\n",
       "unique                  38\n",
       "top       wedding ceremony\n",
       "freq                   797\n",
       "Name: purpose, dtype: object"
      ]
     },
     "execution_count": 42,
     "metadata": {},
     "output_type": "execute_result"
    }
   ],
   "source": [
    "data['purpose'].describe()"
   ]
  },
  {
   "cell_type": "code",
   "execution_count": 43,
   "metadata": {},
   "outputs": [
    {
     "data": {
      "text/plain": [
       "array(['purchase of the house', 'car purchase', 'supplementary education',\n",
       "       'to have a wedding', 'housing transactions', 'education',\n",
       "       'having a wedding', 'purchase of the house for my family',\n",
       "       'buy real estate', 'buy commercial real estate',\n",
       "       'buy residential real estate', 'construction of own property',\n",
       "       'property', 'building a property', 'buying a second-hand car',\n",
       "       'buying my own car', 'transactions with commercial real estate',\n",
       "       'building a real estate', 'housing',\n",
       "       'transactions with my real estate', 'cars', 'to become educated',\n",
       "       'second-hand car purchase', 'getting an education', 'car',\n",
       "       'wedding ceremony', 'to get a supplementary education',\n",
       "       'purchase of my own house', 'real estate transactions',\n",
       "       'getting higher education', 'to own a car', 'purchase of a car',\n",
       "       'profile education', 'university education',\n",
       "       'buying property for renting out', 'to buy a car',\n",
       "       'housing renovation', 'going to university'], dtype=object)"
      ]
     },
     "execution_count": 43,
     "metadata": {},
     "output_type": "execute_result"
    }
   ],
   "source": [
    "data['purpose'].unique()"
   ]
  },
  {
   "cell_type": "markdown",
   "metadata": {},
   "source": [
    "let us see if we have 0's on the table"
   ]
  },
  {
   "cell_type": "code",
   "execution_count": 44,
   "metadata": {},
   "outputs": [
    {
     "name": "stdout",
     "output_type": "stream",
     "text": [
      "children 14149\n",
      "days_employed 0\n",
      "dob_years 0\n",
      "education 0\n",
      "education_id 5260\n",
      "family_status 0\n",
      "family_status_id 12380\n",
      "gender 0\n",
      "income_type 0\n",
      "debt 19784\n",
      "total_income 0\n",
      "purpose 0\n"
     ]
    }
   ],
   "source": [
    "for i in data:\n",
    "    print(i, len(data[data[i]==0]))"
   ]
  },
  {
   "cell_type": "markdown",
   "metadata": {},
   "source": [
    "looking good. We do have some 0's on some columns, but it makes sense in thous columns"
   ]
  },
  {
   "cell_type": "markdown",
   "metadata": {},
   "source": [
    "### Conclusion"
   ]
  },
  {
   "cell_type": "markdown",
   "metadata": {},
   "source": [
    "So far, we have explored different columns in the data and find that we have missing values in the days_imployed and the total income column.\n",
    "\n",
    "We then filled the missing valeu of the total income with the median of the income type and education id.\n",
    "\n",
    "Then we concluded that there is not much we can do about the days_iployed column.\n",
    "\n",
    "We replaced wired values from the children column (20 children) and concluded that this was a typo and it was meant to be 2. in the age (0), we replaced it with a mean age of 43."
   ]
  },
  {
   "cell_type": "markdown",
   "metadata": {},
   "source": [
    "Let's see if we need to change some data types in the table."
   ]
  },
  {
   "cell_type": "markdown",
   "metadata": {},
   "source": [
    "### Data type replacement"
   ]
  },
  {
   "cell_type": "code",
   "execution_count": 45,
   "metadata": {},
   "outputs": [
    {
     "name": "stdout",
     "output_type": "stream",
     "text": [
      "<class 'pandas.core.frame.DataFrame'>\n",
      "RangeIndex: 21525 entries, 0 to 21524\n",
      "Data columns (total 12 columns):\n",
      " #   Column            Non-Null Count  Dtype  \n",
      "---  ------            --------------  -----  \n",
      " 0   children          21525 non-null  int64  \n",
      " 1   days_employed     19351 non-null  float64\n",
      " 2   dob_years         21525 non-null  int64  \n",
      " 3   education         21525 non-null  object \n",
      " 4   education_id      21525 non-null  int64  \n",
      " 5   family_status     21525 non-null  object \n",
      " 6   family_status_id  21525 non-null  int64  \n",
      " 7   gender            21525 non-null  object \n",
      " 8   income_type       21525 non-null  object \n",
      " 9   debt              21525 non-null  int64  \n",
      " 10  total_income      21525 non-null  float64\n",
      " 11  purpose           21525 non-null  object \n",
      "dtypes: float64(2), int64(5), object(5)\n",
      "memory usage: 2.0+ MB\n"
     ]
    }
   ],
   "source": [
    "data.info()"
   ]
  },
  {
   "cell_type": "code",
   "execution_count": 46,
   "metadata": {},
   "outputs": [],
   "source": [
    "import numpy as np"
   ]
  },
  {
   "cell_type": "code",
   "execution_count": 47,
   "metadata": {},
   "outputs": [],
   "source": [
    "data['days_employed'] = data['days_employed'].fillna(0).astype(np.int64, errors='ignore')"
   ]
  },
  {
   "cell_type": "code",
   "execution_count": 48,
   "metadata": {},
   "outputs": [],
   "source": [
    "data['total_income'] = data['total_income'].fillna(0).astype(np.int64, errors='ignore')"
   ]
  },
  {
   "cell_type": "markdown",
   "metadata": {},
   "source": [
    "Now its look will be better!"
   ]
  },
  {
   "cell_type": "code",
   "execution_count": 49,
   "metadata": {},
   "outputs": [
    {
     "name": "stdout",
     "output_type": "stream",
     "text": [
      "<class 'pandas.core.frame.DataFrame'>\n",
      "RangeIndex: 21525 entries, 0 to 21524\n",
      "Data columns (total 12 columns):\n",
      " #   Column            Non-Null Count  Dtype \n",
      "---  ------            --------------  ----- \n",
      " 0   children          21525 non-null  int64 \n",
      " 1   days_employed     21525 non-null  int64 \n",
      " 2   dob_years         21525 non-null  int64 \n",
      " 3   education         21525 non-null  object\n",
      " 4   education_id      21525 non-null  int64 \n",
      " 5   family_status     21525 non-null  object\n",
      " 6   family_status_id  21525 non-null  int64 \n",
      " 7   gender            21525 non-null  object\n",
      " 8   income_type       21525 non-null  object\n",
      " 9   debt              21525 non-null  int64 \n",
      " 10  total_income      21525 non-null  int64 \n",
      " 11  purpose           21525 non-null  object\n",
      "dtypes: int64(7), object(5)\n",
      "memory usage: 2.0+ MB\n"
     ]
    }
   ],
   "source": [
    "data.info()"
   ]
  },
  {
   "cell_type": "markdown",
   "metadata": {},
   "source": [
    "I've got some unknown error while trying to do this."
   ]
  },
  {
   "cell_type": "markdown",
   "metadata": {},
   "source": [
    "### Conclusion"
   ]
  },
  {
   "cell_type": "markdown",
   "metadata": {},
   "source": [
    "We changed the total_income and the days_employed columns from float to int, making it easier to make calculations on this column."
   ]
  },
  {
   "cell_type": "markdown",
   "metadata": {},
   "source": [
    "### Processing duplicates"
   ]
  },
  {
   "cell_type": "code",
   "execution_count": 50,
   "metadata": {},
   "outputs": [
    {
     "data": {
      "text/plain": [
       "54"
      ]
     },
     "execution_count": 50,
     "metadata": {},
     "output_type": "execute_result"
    }
   ],
   "source": [
    "data.duplicated().sum()"
   ]
  },
  {
   "cell_type": "code",
   "execution_count": 51,
   "metadata": {},
   "outputs": [
    {
     "data": {
      "text/plain": [
       "21510"
      ]
     },
     "execution_count": 51,
     "metadata": {},
     "output_type": "execute_result"
    }
   ],
   "source": [
    "data['education'].duplicated().sum()"
   ]
  },
  {
   "cell_type": "code",
   "execution_count": 52,
   "metadata": {},
   "outputs": [
    {
     "data": {
      "text/plain": [
       "array([\"bachelor's degree\", 'secondary education', 'Secondary Education',\n",
       "       'SECONDARY EDUCATION', \"BACHELOR'S DEGREE\", 'some college',\n",
       "       'primary education', \"Bachelor's Degree\", 'SOME COLLEGE',\n",
       "       'Some College', 'PRIMARY EDUCATION', 'Primary Education',\n",
       "       'Graduate Degree', 'GRADUATE DEGREE', 'graduate degree'],\n",
       "      dtype=object)"
      ]
     },
     "execution_count": 52,
     "metadata": {},
     "output_type": "execute_result"
    }
   ],
   "source": [
    "data['education'].unique()"
   ]
  },
  {
   "cell_type": "markdown",
   "metadata": {},
   "source": [
    "Look like we have some duplicate values with case sensitivity in the education column.\n",
    "\n",
    "let's remove them with the lower() method."
   ]
  },
  {
   "cell_type": "code",
   "execution_count": 53,
   "metadata": {},
   "outputs": [],
   "source": [
    "data['education'] = data['education'].str.lower()"
   ]
  },
  {
   "cell_type": "code",
   "execution_count": 54,
   "metadata": {},
   "outputs": [
    {
     "data": {
      "text/html": [
       "<div>\n",
       "<style scoped>\n",
       "    .dataframe tbody tr th:only-of-type {\n",
       "        vertical-align: middle;\n",
       "    }\n",
       "\n",
       "    .dataframe tbody tr th {\n",
       "        vertical-align: top;\n",
       "    }\n",
       "\n",
       "    .dataframe thead th {\n",
       "        text-align: right;\n",
       "    }\n",
       "</style>\n",
       "<table border=\"1\" class=\"dataframe\">\n",
       "  <thead>\n",
       "    <tr style=\"text-align: right;\">\n",
       "      <th></th>\n",
       "      <th>children</th>\n",
       "      <th>days_employed</th>\n",
       "      <th>dob_years</th>\n",
       "      <th>education</th>\n",
       "      <th>education_id</th>\n",
       "      <th>family_status</th>\n",
       "      <th>family_status_id</th>\n",
       "      <th>gender</th>\n",
       "      <th>income_type</th>\n",
       "      <th>debt</th>\n",
       "      <th>total_income</th>\n",
       "      <th>purpose</th>\n",
       "    </tr>\n",
       "  </thead>\n",
       "  <tbody>\n",
       "    <tr>\n",
       "      <th>0</th>\n",
       "      <td>1</td>\n",
       "      <td>-8437</td>\n",
       "      <td>42</td>\n",
       "      <td>bachelor's degree</td>\n",
       "      <td>0</td>\n",
       "      <td>married</td>\n",
       "      <td>0</td>\n",
       "      <td>F</td>\n",
       "      <td>employee</td>\n",
       "      <td>0</td>\n",
       "      <td>40620</td>\n",
       "      <td>purchase of the house</td>\n",
       "    </tr>\n",
       "    <tr>\n",
       "      <th>1</th>\n",
       "      <td>1</td>\n",
       "      <td>-4024</td>\n",
       "      <td>36</td>\n",
       "      <td>secondary education</td>\n",
       "      <td>1</td>\n",
       "      <td>married</td>\n",
       "      <td>0</td>\n",
       "      <td>F</td>\n",
       "      <td>employee</td>\n",
       "      <td>0</td>\n",
       "      <td>17932</td>\n",
       "      <td>car purchase</td>\n",
       "    </tr>\n",
       "    <tr>\n",
       "      <th>2</th>\n",
       "      <td>0</td>\n",
       "      <td>-5623</td>\n",
       "      <td>33</td>\n",
       "      <td>secondary education</td>\n",
       "      <td>1</td>\n",
       "      <td>married</td>\n",
       "      <td>0</td>\n",
       "      <td>M</td>\n",
       "      <td>employee</td>\n",
       "      <td>0</td>\n",
       "      <td>23341</td>\n",
       "      <td>purchase of the house</td>\n",
       "    </tr>\n",
       "    <tr>\n",
       "      <th>3</th>\n",
       "      <td>3</td>\n",
       "      <td>-4124</td>\n",
       "      <td>32</td>\n",
       "      <td>secondary education</td>\n",
       "      <td>1</td>\n",
       "      <td>married</td>\n",
       "      <td>0</td>\n",
       "      <td>M</td>\n",
       "      <td>employee</td>\n",
       "      <td>0</td>\n",
       "      <td>42820</td>\n",
       "      <td>supplementary education</td>\n",
       "    </tr>\n",
       "    <tr>\n",
       "      <th>4</th>\n",
       "      <td>0</td>\n",
       "      <td>340266</td>\n",
       "      <td>53</td>\n",
       "      <td>secondary education</td>\n",
       "      <td>1</td>\n",
       "      <td>civil partnership</td>\n",
       "      <td>1</td>\n",
       "      <td>F</td>\n",
       "      <td>retiree</td>\n",
       "      <td>0</td>\n",
       "      <td>25378</td>\n",
       "      <td>to have a wedding</td>\n",
       "    </tr>\n",
       "    <tr>\n",
       "      <th>...</th>\n",
       "      <td>...</td>\n",
       "      <td>...</td>\n",
       "      <td>...</td>\n",
       "      <td>...</td>\n",
       "      <td>...</td>\n",
       "      <td>...</td>\n",
       "      <td>...</td>\n",
       "      <td>...</td>\n",
       "      <td>...</td>\n",
       "      <td>...</td>\n",
       "      <td>...</td>\n",
       "      <td>...</td>\n",
       "    </tr>\n",
       "    <tr>\n",
       "      <th>21449</th>\n",
       "      <td>1</td>\n",
       "      <td>-4529</td>\n",
       "      <td>43</td>\n",
       "      <td>secondary education</td>\n",
       "      <td>1</td>\n",
       "      <td>civil partnership</td>\n",
       "      <td>1</td>\n",
       "      <td>F</td>\n",
       "      <td>business</td>\n",
       "      <td>0</td>\n",
       "      <td>35966</td>\n",
       "      <td>housing transactions</td>\n",
       "    </tr>\n",
       "    <tr>\n",
       "      <th>21450</th>\n",
       "      <td>0</td>\n",
       "      <td>343937</td>\n",
       "      <td>67</td>\n",
       "      <td>secondary education</td>\n",
       "      <td>1</td>\n",
       "      <td>married</td>\n",
       "      <td>0</td>\n",
       "      <td>F</td>\n",
       "      <td>retiree</td>\n",
       "      <td>0</td>\n",
       "      <td>24959</td>\n",
       "      <td>purchase of a car</td>\n",
       "    </tr>\n",
       "    <tr>\n",
       "      <th>21451</th>\n",
       "      <td>1</td>\n",
       "      <td>-2113</td>\n",
       "      <td>38</td>\n",
       "      <td>secondary education</td>\n",
       "      <td>1</td>\n",
       "      <td>civil partnership</td>\n",
       "      <td>1</td>\n",
       "      <td>M</td>\n",
       "      <td>employee</td>\n",
       "      <td>1</td>\n",
       "      <td>14347</td>\n",
       "      <td>property</td>\n",
       "    </tr>\n",
       "    <tr>\n",
       "      <th>21452</th>\n",
       "      <td>3</td>\n",
       "      <td>-3112</td>\n",
       "      <td>38</td>\n",
       "      <td>secondary education</td>\n",
       "      <td>1</td>\n",
       "      <td>married</td>\n",
       "      <td>0</td>\n",
       "      <td>M</td>\n",
       "      <td>employee</td>\n",
       "      <td>1</td>\n",
       "      <td>39054</td>\n",
       "      <td>buying my own car</td>\n",
       "    </tr>\n",
       "    <tr>\n",
       "      <th>21453</th>\n",
       "      <td>2</td>\n",
       "      <td>-1984</td>\n",
       "      <td>40</td>\n",
       "      <td>secondary education</td>\n",
       "      <td>1</td>\n",
       "      <td>married</td>\n",
       "      <td>0</td>\n",
       "      <td>F</td>\n",
       "      <td>employee</td>\n",
       "      <td>0</td>\n",
       "      <td>13127</td>\n",
       "      <td>to buy a car</td>\n",
       "    </tr>\n",
       "  </tbody>\n",
       "</table>\n",
       "<p>21454 rows × 12 columns</p>\n",
       "</div>"
      ],
      "text/plain": [
       "       children  days_employed  dob_years            education  education_id  \\\n",
       "0             1          -8437         42    bachelor's degree             0   \n",
       "1             1          -4024         36  secondary education             1   \n",
       "2             0          -5623         33  secondary education             1   \n",
       "3             3          -4124         32  secondary education             1   \n",
       "4             0         340266         53  secondary education             1   \n",
       "...         ...            ...        ...                  ...           ...   \n",
       "21449         1          -4529         43  secondary education             1   \n",
       "21450         0         343937         67  secondary education             1   \n",
       "21451         1          -2113         38  secondary education             1   \n",
       "21452         3          -3112         38  secondary education             1   \n",
       "21453         2          -1984         40  secondary education             1   \n",
       "\n",
       "           family_status  family_status_id gender income_type  debt  \\\n",
       "0                married                 0      F    employee     0   \n",
       "1                married                 0      F    employee     0   \n",
       "2                married                 0      M    employee     0   \n",
       "3                married                 0      M    employee     0   \n",
       "4      civil partnership                 1      F     retiree     0   \n",
       "...                  ...               ...    ...         ...   ...   \n",
       "21449  civil partnership                 1      F    business     0   \n",
       "21450            married                 0      F     retiree     0   \n",
       "21451  civil partnership                 1      M    employee     1   \n",
       "21452            married                 0      M    employee     1   \n",
       "21453            married                 0      F    employee     0   \n",
       "\n",
       "       total_income                  purpose  \n",
       "0             40620    purchase of the house  \n",
       "1             17932             car purchase  \n",
       "2             23341    purchase of the house  \n",
       "3             42820  supplementary education  \n",
       "4             25378        to have a wedding  \n",
       "...             ...                      ...  \n",
       "21449         35966     housing transactions  \n",
       "21450         24959        purchase of a car  \n",
       "21451         14347                 property  \n",
       "21452         39054        buying my own car  \n",
       "21453         13127             to buy a car  \n",
       "\n",
       "[21454 rows x 12 columns]"
      ]
     },
     "execution_count": 54,
     "metadata": {},
     "output_type": "execute_result"
    }
   ],
   "source": [
    "data.drop_duplicates().reset_index(drop=True)"
   ]
  },
  {
   "cell_type": "code",
   "execution_count": 57,
   "metadata": {},
   "outputs": [
    {
     "data": {
      "text/plain": [
       "71"
      ]
     },
     "execution_count": 57,
     "metadata": {},
     "output_type": "execute_result"
    }
   ],
   "source": [
    "data.duplicated().sum()"
   ]
  },
  {
   "cell_type": "code",
   "execution_count": 58,
   "metadata": {},
   "outputs": [
    {
     "data": {
      "text/plain": [
       "21520"
      ]
     },
     "execution_count": 58,
     "metadata": {},
     "output_type": "execute_result"
    }
   ],
   "source": [
    "data['education'].duplicated().sum()"
   ]
  },
  {
   "cell_type": "code",
   "execution_count": 56,
   "metadata": {},
   "outputs": [
    {
     "data": {
      "text/html": [
       "<div>\n",
       "<style scoped>\n",
       "    .dataframe tbody tr th:only-of-type {\n",
       "        vertical-align: middle;\n",
       "    }\n",
       "\n",
       "    .dataframe tbody tr th {\n",
       "        vertical-align: top;\n",
       "    }\n",
       "\n",
       "    .dataframe thead th {\n",
       "        text-align: right;\n",
       "    }\n",
       "</style>\n",
       "<table border=\"1\" class=\"dataframe\">\n",
       "  <thead>\n",
       "    <tr style=\"text-align: right;\">\n",
       "      <th></th>\n",
       "      <th>education</th>\n",
       "      <th>count</th>\n",
       "      <th>percent</th>\n",
       "      <th>cumulative_count</th>\n",
       "      <th>cumulative_percent</th>\n",
       "    </tr>\n",
       "  </thead>\n",
       "  <tbody>\n",
       "    <tr>\n",
       "      <th>0</th>\n",
       "      <td>secondary education</td>\n",
       "      <td>15233</td>\n",
       "      <td>70.768873</td>\n",
       "      <td>15233</td>\n",
       "      <td>70.768873</td>\n",
       "    </tr>\n",
       "    <tr>\n",
       "      <th>1</th>\n",
       "      <td>bachelor's degree</td>\n",
       "      <td>5260</td>\n",
       "      <td>24.436702</td>\n",
       "      <td>20493</td>\n",
       "      <td>95.205575</td>\n",
       "    </tr>\n",
       "    <tr>\n",
       "      <th>2</th>\n",
       "      <td>some college</td>\n",
       "      <td>744</td>\n",
       "      <td>3.456446</td>\n",
       "      <td>21237</td>\n",
       "      <td>98.662021</td>\n",
       "    </tr>\n",
       "    <tr>\n",
       "      <th>3</th>\n",
       "      <td>primary education</td>\n",
       "      <td>282</td>\n",
       "      <td>1.310105</td>\n",
       "      <td>21519</td>\n",
       "      <td>99.972125</td>\n",
       "    </tr>\n",
       "    <tr>\n",
       "      <th>4</th>\n",
       "      <td>graduate degree</td>\n",
       "      <td>6</td>\n",
       "      <td>0.027875</td>\n",
       "      <td>21525</td>\n",
       "      <td>100.000000</td>\n",
       "    </tr>\n",
       "  </tbody>\n",
       "</table>\n",
       "</div>"
      ],
      "text/plain": [
       "             education  count    percent  cumulative_count  cumulative_percent\n",
       "0  secondary education  15233  70.768873             15233           70.768873\n",
       "1    bachelor's degree   5260  24.436702             20493           95.205575\n",
       "2         some college    744   3.456446             21237           98.662021\n",
       "3    primary education    282   1.310105             21519           99.972125\n",
       "4      graduate degree      6   0.027875             21525          100.000000"
      ]
     },
     "execution_count": 56,
     "metadata": {},
     "output_type": "execute_result"
    }
   ],
   "source": [
    "data.stb.freq(['education'])"
   ]
  },
  {
   "cell_type": "code",
   "execution_count": 59,
   "metadata": {},
   "outputs": [
    {
     "data": {
      "text/plain": [
       "21520"
      ]
     },
     "execution_count": 59,
     "metadata": {},
     "output_type": "execute_result"
    }
   ],
   "source": [
    "data['education'].duplicated().sum()"
   ]
  },
  {
   "cell_type": "code",
   "execution_count": 60,
   "metadata": {},
   "outputs": [
    {
     "data": {
      "text/plain": [
       "array([\"bachelor's degree\", 'secondary education', 'some college',\n",
       "       'primary education', 'graduate degree'], dtype=object)"
      ]
     },
     "execution_count": 60,
     "metadata": {},
     "output_type": "execute_result"
    }
   ],
   "source": [
    "data['education'].unique()"
   ]
  },
  {
   "cell_type": "code",
   "execution_count": 61,
   "metadata": {},
   "outputs": [
    {
     "data": {
      "text/plain": [
       "array([0, 1, 2, 3, 4])"
      ]
     },
     "execution_count": 61,
     "metadata": {},
     "output_type": "execute_result"
    }
   ],
   "source": [
    "data['education_id'].unique()"
   ]
  },
  {
   "cell_type": "code",
   "execution_count": null,
   "metadata": {},
   "outputs": [],
   "source": []
  },
  {
   "cell_type": "code",
   "execution_count": 52,
   "metadata": {},
   "outputs": [
    {
     "data": {
      "text/plain": [
       "count    21525.000000\n",
       "mean         0.817236\n",
       "std          0.548138\n",
       "min          0.000000\n",
       "25%          1.000000\n",
       "50%          1.000000\n",
       "75%          1.000000\n",
       "max          4.000000\n",
       "Name: education_id, dtype: float64"
      ]
     },
     "execution_count": 52,
     "metadata": {},
     "output_type": "execute_result"
    }
   ],
   "source": [
    "data['education_id'].describe()"
   ]
  },
  {
   "cell_type": "markdown",
   "metadata": {},
   "source": [
    "### Conclusion"
   ]
  },
  {
   "cell_type": "markdown",
   "metadata": {},
   "source": [
    "we noticed that there is duplicated values with case sensitivity early on, and we eliminated them with the power of lower()\n",
    "\n",
    "Than we chacked that the number of categories in education column is mach the number of ids in the education id column."
   ]
  },
  {
   "cell_type": "markdown",
   "metadata": {},
   "source": [
    "Let us see how we will decide who is poor, the general middle class, and the wealthy using the describe() method."
   ]
  },
  {
   "cell_type": "markdown",
   "metadata": {},
   "source": [
    "### Categorizing Data"
   ]
  },
  {
   "cell_type": "code",
   "execution_count": 53,
   "metadata": {},
   "outputs": [
    {
     "data": {
      "text/plain": [
       "count     21525.000000\n",
       "mean      26456.597412\n",
       "std       15703.769010\n",
       "min        3306.762000\n",
       "25%       17235.090000\n",
       "50%       22959.405000\n",
       "75%       31703.887000\n",
       "max      362496.645000\n",
       "Name: total_income, dtype: float64"
      ]
     },
     "execution_count": 53,
     "metadata": {},
     "output_type": "execute_result"
    }
   ],
   "source": [
    "data['total_income'].describe()"
   ]
  },
  {
   "cell_type": "markdown",
   "metadata": {},
   "source": [
    "With the described method, income is already visually categorized into groups of min, 25%, 50%, 75%, and max.\n",
    "\n",
    "Let's say that below 25% is considered poor.\n",
    "\n",
    "Between 25% and 75% is considered middle class.\n",
    "\n",
    "And above 75% is considered wealthy.\n",
    "\n",
    "Let's define a function that will help us do so!"
   ]
  },
  {
   "cell_type": "code",
   "execution_count": 54,
   "metadata": {},
   "outputs": [],
   "source": [
    "def income_group(row):\n",
    "    income_group = row['total_income']\n",
    "    if income_group < 17235:\n",
    "        return 'poor'\n",
    "    elif income_group >= 17235 and income_group <= 31703:\n",
    "        return 'middle_class'    \n",
    "    elif income_group > 31703:\n",
    "        return 'wealthy'\n",
    "    else:\n",
    "        return 'other'\n",
    "    \n",
    "data['income_groups'] = data.apply(income_group, axis=1)"
   ]
  },
  {
   "cell_type": "code",
   "execution_count": 55,
   "metadata": {},
   "outputs": [
    {
     "data": {
      "text/plain": [
       "middle_class    10762\n",
       "wealthy          5382\n",
       "poor             5381\n",
       "Name: income_groups, dtype: int64"
      ]
     },
     "execution_count": 55,
     "metadata": {},
     "output_type": "execute_result"
    }
   ],
   "source": [
    "data['income_groups'].value_counts()"
   ]
  },
  {
   "cell_type": "code",
   "execution_count": 56,
   "metadata": {},
   "outputs": [
    {
     "data": {
      "text/plain": [
       "count            21525\n",
       "unique               3\n",
       "top       middle_class\n",
       "freq             10762\n",
       "Name: income_groups, dtype: object"
      ]
     },
     "execution_count": 56,
     "metadata": {},
     "output_type": "execute_result"
    }
   ],
   "source": [
    "data['income_groups'].describe()"
   ]
  },
  {
   "cell_type": "code",
   "execution_count": 57,
   "metadata": {},
   "outputs": [
    {
     "data": {
      "text/plain": [
       "array(['wealthy', 'middle_class', 'poor'], dtype=object)"
      ]
     },
     "execution_count": 57,
     "metadata": {},
     "output_type": "execute_result"
    }
   ],
   "source": [
    "data.income_groups.unique()"
   ]
  },
  {
   "cell_type": "code",
   "execution_count": 58,
   "metadata": {},
   "outputs": [
    {
     "data": {
      "text/plain": [
       "array(['purchase of the house', 'car purchase', 'supplementary education',\n",
       "       'to have a wedding', 'housing transactions', 'education',\n",
       "       'having a wedding', 'purchase of the house for my family',\n",
       "       'buy real estate', 'buy commercial real estate',\n",
       "       'buy residential real estate', 'construction of own property',\n",
       "       'property', 'building a property', 'buying a second-hand car',\n",
       "       'buying my own car', 'transactions with commercial real estate',\n",
       "       'building a real estate', 'housing',\n",
       "       'transactions with my real estate', 'cars', 'to become educated',\n",
       "       'second-hand car purchase', 'getting an education', 'car',\n",
       "       'wedding ceremony', 'to get a supplementary education',\n",
       "       'purchase of my own house', 'real estate transactions',\n",
       "       'getting higher education', 'to own a car', 'purchase of a car',\n",
       "       'profile education', 'university education',\n",
       "       'buying property for renting out', 'to buy a car',\n",
       "       'housing renovation', 'going to university'], dtype=object)"
      ]
     },
     "execution_count": 58,
     "metadata": {},
     "output_type": "execute_result"
    }
   ],
   "source": [
    "data.purpose.unique()"
   ]
  },
  {
   "cell_type": "code",
   "execution_count": 59,
   "metadata": {},
   "outputs": [],
   "source": [
    "from pymystem3 import Mystem\n",
    "from collections import Counter"
   ]
  },
  {
   "cell_type": "code",
   "execution_count": 60,
   "metadata": {},
   "outputs": [],
   "source": [
    "m=Mystem()"
   ]
  },
  {
   "cell_type": "code",
   "execution_count": 61,
   "metadata": {},
   "outputs": [
    {
     "data": {
      "text/plain": [
       "['to', ' ', 'become', ' ', 'educated', '\\n']"
      ]
     },
     "execution_count": 61,
     "metadata": {},
     "output_type": "execute_result"
    }
   ],
   "source": [
    "m.lemmatize(\"to become educated\")"
   ]
  },
  {
   "cell_type": "code",
   "execution_count": 62,
   "metadata": {},
   "outputs": [],
   "source": [
    "study_cat = ['education', 'educated', 'university']\n",
    "\n",
    "house_cat = ['house', 'housing', 'residential', 'estate', 'construction', 'property']\n",
    "\n",
    "car_cat = ['car', 'cars', 'second-hand']\n",
    "\n",
    "wedding_cat = ['wedding']"
   ]
  },
  {
   "cell_type": "code",
   "execution_count": 63,
   "metadata": {},
   "outputs": [],
   "source": [
    "def lemmatization_func(line):\n",
    "    lemmatized=m.lemmatize(line)\n",
    "    return lemmatized"
   ]
  },
  {
   "cell_type": "code",
   "execution_count": 64,
   "metadata": {},
   "outputs": [
    {
     "data": {
      "text/plain": [
       "'purchase of the house'"
      ]
     },
     "execution_count": 64,
     "metadata": {},
     "output_type": "execute_result"
    }
   ],
   "source": [
    "example=data.loc[0]['purpose']\n",
    "example"
   ]
  },
  {
   "cell_type": "code",
   "execution_count": 65,
   "metadata": {},
   "outputs": [
    {
     "data": {
      "text/plain": [
       "['purchase', ' ', 'of', ' ', 'the', ' ', 'house', '\\n']"
      ]
     },
     "execution_count": 65,
     "metadata": {},
     "output_type": "execute_result"
    }
   ],
   "source": [
    "lemmatization_func(example)"
   ]
  },
  {
   "cell_type": "code",
   "execution_count": 66,
   "metadata": {},
   "outputs": [
    {
     "data": {
      "text/plain": [
       "False"
      ]
     },
     "execution_count": 66,
     "metadata": {},
     "output_type": "execute_result"
    }
   ],
   "source": [
    "any(word in lemmatization_func(example) for word in study_cat)"
   ]
  },
  {
   "cell_type": "code",
   "execution_count": 67,
   "metadata": {},
   "outputs": [],
   "source": [
    "def lemmatization_func(line):\n",
    "    lemmatized=m.lemmatize(line)\n",
    "    if any(word in lemmatized for word in study_cat):\n",
    "        return 'study'\n",
    "    elif any(word in lemmatized for word in house_cat):\n",
    "        return 'house'\n",
    "    elif any(word in lemmatized for word in car_cat):\n",
    "        return 'car'\n",
    "    elif any(word in lemmatized for word in wedding_cat):\n",
    "        return 'wedding'\n",
    "    else:\n",
    "        return 'other'\n",
    "    return lemmatized"
   ]
  },
  {
   "cell_type": "code",
   "execution_count": 68,
   "metadata": {},
   "outputs": [],
   "source": [
    "data['clean_purpose']= data['purpose'].apply(lemmatization_func)"
   ]
  },
  {
   "cell_type": "code",
   "execution_count": 69,
   "metadata": {},
   "outputs": [
    {
     "data": {
      "text/plain": [
       "house      10840\n",
       "car         4315\n",
       "study       4022\n",
       "wedding     2348\n",
       "Name: clean_purpose, dtype: int64"
      ]
     },
     "execution_count": 69,
     "metadata": {},
     "output_type": "execute_result"
    }
   ],
   "source": [
    "data['clean_purpose'].value_counts()"
   ]
  },
  {
   "cell_type": "markdown",
   "metadata": {},
   "source": [
    "### Conclusion"
   ]
  },
  {
   "cell_type": "markdown",
   "metadata": {},
   "source": [
    "I decided to categorize the total income column into three general categories.\n",
    "\n",
    "poor people with an income below 17,235\n",
    "\n",
    "the middle class between 17,235 and 31,703\n",
    "\n",
    "And the wealthy with an income above 31,703.\n",
    "\n",
    "In the purpose column, we noticed repeated reasons people wanted to take a loan, and we synthesized it into four columns based on that."
   ]
  },
  {
   "cell_type": "markdown",
   "metadata": {},
   "source": [
    "## Answer these questions"
   ]
  },
  {
   "cell_type": "markdown",
   "metadata": {},
   "source": [
    "- Is there a relation between having kids and repaying a loan on time?"
   ]
  },
  {
   "cell_type": "code",
   "execution_count": 70,
   "metadata": {},
   "outputs": [
    {
     "data": {
      "text/html": [
       "<div>\n",
       "<style scoped>\n",
       "    .dataframe tbody tr th:only-of-type {\n",
       "        vertical-align: middle;\n",
       "    }\n",
       "\n",
       "    .dataframe tbody tr th {\n",
       "        vertical-align: top;\n",
       "    }\n",
       "\n",
       "    .dataframe thead th {\n",
       "        text-align: right;\n",
       "    }\n",
       "</style>\n",
       "<table border=\"1\" class=\"dataframe\">\n",
       "  <thead>\n",
       "    <tr style=\"text-align: right;\">\n",
       "      <th></th>\n",
       "      <th>children</th>\n",
       "      <th>days_employed</th>\n",
       "      <th>dob_years</th>\n",
       "      <th>education</th>\n",
       "      <th>education_id</th>\n",
       "      <th>family_status</th>\n",
       "      <th>family_status_id</th>\n",
       "      <th>gender</th>\n",
       "      <th>income_type</th>\n",
       "      <th>debt</th>\n",
       "      <th>total_income</th>\n",
       "      <th>purpose</th>\n",
       "      <th>income_groups</th>\n",
       "      <th>clean_purpose</th>\n",
       "    </tr>\n",
       "  </thead>\n",
       "  <tbody>\n",
       "    <tr>\n",
       "      <td>0</td>\n",
       "      <td>1</td>\n",
       "      <td>-8437.673028</td>\n",
       "      <td>42</td>\n",
       "      <td>bachelor's degree</td>\n",
       "      <td>0</td>\n",
       "      <td>married</td>\n",
       "      <td>0</td>\n",
       "      <td>F</td>\n",
       "      <td>employee</td>\n",
       "      <td>0</td>\n",
       "      <td>40620.102</td>\n",
       "      <td>purchase of the house</td>\n",
       "      <td>wealthy</td>\n",
       "      <td>house</td>\n",
       "    </tr>\n",
       "    <tr>\n",
       "      <td>1</td>\n",
       "      <td>1</td>\n",
       "      <td>-4024.803754</td>\n",
       "      <td>36</td>\n",
       "      <td>secondary education</td>\n",
       "      <td>1</td>\n",
       "      <td>married</td>\n",
       "      <td>0</td>\n",
       "      <td>F</td>\n",
       "      <td>employee</td>\n",
       "      <td>0</td>\n",
       "      <td>17932.802</td>\n",
       "      <td>car purchase</td>\n",
       "      <td>middle_class</td>\n",
       "      <td>car</td>\n",
       "    </tr>\n",
       "    <tr>\n",
       "      <td>2</td>\n",
       "      <td>0</td>\n",
       "      <td>-5623.422610</td>\n",
       "      <td>33</td>\n",
       "      <td>secondary education</td>\n",
       "      <td>1</td>\n",
       "      <td>married</td>\n",
       "      <td>0</td>\n",
       "      <td>M</td>\n",
       "      <td>employee</td>\n",
       "      <td>0</td>\n",
       "      <td>23341.752</td>\n",
       "      <td>purchase of the house</td>\n",
       "      <td>middle_class</td>\n",
       "      <td>house</td>\n",
       "    </tr>\n",
       "    <tr>\n",
       "      <td>3</td>\n",
       "      <td>3</td>\n",
       "      <td>-4124.747207</td>\n",
       "      <td>32</td>\n",
       "      <td>secondary education</td>\n",
       "      <td>1</td>\n",
       "      <td>married</td>\n",
       "      <td>0</td>\n",
       "      <td>M</td>\n",
       "      <td>employee</td>\n",
       "      <td>0</td>\n",
       "      <td>42820.568</td>\n",
       "      <td>supplementary education</td>\n",
       "      <td>wealthy</td>\n",
       "      <td>study</td>\n",
       "    </tr>\n",
       "    <tr>\n",
       "      <td>4</td>\n",
       "      <td>0</td>\n",
       "      <td>340266.072047</td>\n",
       "      <td>53</td>\n",
       "      <td>secondary education</td>\n",
       "      <td>1</td>\n",
       "      <td>civil partnership</td>\n",
       "      <td>1</td>\n",
       "      <td>F</td>\n",
       "      <td>retiree</td>\n",
       "      <td>0</td>\n",
       "      <td>25378.572</td>\n",
       "      <td>to have a wedding</td>\n",
       "      <td>middle_class</td>\n",
       "      <td>wedding</td>\n",
       "    </tr>\n",
       "    <tr>\n",
       "      <td>...</td>\n",
       "      <td>...</td>\n",
       "      <td>...</td>\n",
       "      <td>...</td>\n",
       "      <td>...</td>\n",
       "      <td>...</td>\n",
       "      <td>...</td>\n",
       "      <td>...</td>\n",
       "      <td>...</td>\n",
       "      <td>...</td>\n",
       "      <td>...</td>\n",
       "      <td>...</td>\n",
       "      <td>...</td>\n",
       "      <td>...</td>\n",
       "      <td>...</td>\n",
       "    </tr>\n",
       "    <tr>\n",
       "      <td>21520</td>\n",
       "      <td>1</td>\n",
       "      <td>-4529.316663</td>\n",
       "      <td>43</td>\n",
       "      <td>secondary education</td>\n",
       "      <td>1</td>\n",
       "      <td>civil partnership</td>\n",
       "      <td>1</td>\n",
       "      <td>F</td>\n",
       "      <td>business</td>\n",
       "      <td>0</td>\n",
       "      <td>35966.698</td>\n",
       "      <td>housing transactions</td>\n",
       "      <td>wealthy</td>\n",
       "      <td>house</td>\n",
       "    </tr>\n",
       "    <tr>\n",
       "      <td>21521</td>\n",
       "      <td>0</td>\n",
       "      <td>343937.404131</td>\n",
       "      <td>67</td>\n",
       "      <td>secondary education</td>\n",
       "      <td>1</td>\n",
       "      <td>married</td>\n",
       "      <td>0</td>\n",
       "      <td>F</td>\n",
       "      <td>retiree</td>\n",
       "      <td>0</td>\n",
       "      <td>24959.969</td>\n",
       "      <td>purchase of a car</td>\n",
       "      <td>middle_class</td>\n",
       "      <td>car</td>\n",
       "    </tr>\n",
       "    <tr>\n",
       "      <td>21522</td>\n",
       "      <td>1</td>\n",
       "      <td>-2113.346888</td>\n",
       "      <td>38</td>\n",
       "      <td>secondary education</td>\n",
       "      <td>1</td>\n",
       "      <td>civil partnership</td>\n",
       "      <td>1</td>\n",
       "      <td>M</td>\n",
       "      <td>employee</td>\n",
       "      <td>1</td>\n",
       "      <td>14347.610</td>\n",
       "      <td>property</td>\n",
       "      <td>poor</td>\n",
       "      <td>house</td>\n",
       "    </tr>\n",
       "    <tr>\n",
       "      <td>21523</td>\n",
       "      <td>3</td>\n",
       "      <td>-3112.481705</td>\n",
       "      <td>38</td>\n",
       "      <td>secondary education</td>\n",
       "      <td>1</td>\n",
       "      <td>married</td>\n",
       "      <td>0</td>\n",
       "      <td>M</td>\n",
       "      <td>employee</td>\n",
       "      <td>1</td>\n",
       "      <td>39054.888</td>\n",
       "      <td>buying my own car</td>\n",
       "      <td>wealthy</td>\n",
       "      <td>car</td>\n",
       "    </tr>\n",
       "    <tr>\n",
       "      <td>21524</td>\n",
       "      <td>2</td>\n",
       "      <td>-1984.507589</td>\n",
       "      <td>40</td>\n",
       "      <td>secondary education</td>\n",
       "      <td>1</td>\n",
       "      <td>married</td>\n",
       "      <td>0</td>\n",
       "      <td>F</td>\n",
       "      <td>employee</td>\n",
       "      <td>0</td>\n",
       "      <td>13127.587</td>\n",
       "      <td>to buy a car</td>\n",
       "      <td>poor</td>\n",
       "      <td>car</td>\n",
       "    </tr>\n",
       "  </tbody>\n",
       "</table>\n",
       "<p>21525 rows × 14 columns</p>\n",
       "</div>"
      ],
      "text/plain": [
       "       children  days_employed  dob_years            education  education_id  \\\n",
       "0             1   -8437.673028         42    bachelor's degree             0   \n",
       "1             1   -4024.803754         36  secondary education             1   \n",
       "2             0   -5623.422610         33  secondary education             1   \n",
       "3             3   -4124.747207         32  secondary education             1   \n",
       "4             0  340266.072047         53  secondary education             1   \n",
       "...         ...            ...        ...                  ...           ...   \n",
       "21520         1   -4529.316663         43  secondary education             1   \n",
       "21521         0  343937.404131         67  secondary education             1   \n",
       "21522         1   -2113.346888         38  secondary education             1   \n",
       "21523         3   -3112.481705         38  secondary education             1   \n",
       "21524         2   -1984.507589         40  secondary education             1   \n",
       "\n",
       "           family_status  family_status_id gender income_type  debt  \\\n",
       "0                married                 0      F    employee     0   \n",
       "1                married                 0      F    employee     0   \n",
       "2                married                 0      M    employee     0   \n",
       "3                married                 0      M    employee     0   \n",
       "4      civil partnership                 1      F     retiree     0   \n",
       "...                  ...               ...    ...         ...   ...   \n",
       "21520  civil partnership                 1      F    business     0   \n",
       "21521            married                 0      F     retiree     0   \n",
       "21522  civil partnership                 1      M    employee     1   \n",
       "21523            married                 0      M    employee     1   \n",
       "21524            married                 0      F    employee     0   \n",
       "\n",
       "       total_income                  purpose income_groups clean_purpose  \n",
       "0         40620.102    purchase of the house       wealthy         house  \n",
       "1         17932.802             car purchase  middle_class           car  \n",
       "2         23341.752    purchase of the house  middle_class         house  \n",
       "3         42820.568  supplementary education       wealthy         study  \n",
       "4         25378.572        to have a wedding  middle_class       wedding  \n",
       "...             ...                      ...           ...           ...  \n",
       "21520     35966.698     housing transactions       wealthy         house  \n",
       "21521     24959.969        purchase of a car  middle_class           car  \n",
       "21522     14347.610                 property          poor         house  \n",
       "21523     39054.888        buying my own car       wealthy           car  \n",
       "21524     13127.587             to buy a car          poor           car  \n",
       "\n",
       "[21525 rows x 14 columns]"
      ]
     },
     "execution_count": 70,
     "metadata": {},
     "output_type": "execute_result"
    }
   ],
   "source": [
    "data"
   ]
  },
  {
   "cell_type": "code",
   "execution_count": 71,
   "metadata": {},
   "outputs": [
    {
     "data": {
      "text/html": [
       "<div>\n",
       "<style scoped>\n",
       "    .dataframe tbody tr th:only-of-type {\n",
       "        vertical-align: middle;\n",
       "    }\n",
       "\n",
       "    .dataframe tbody tr th {\n",
       "        vertical-align: top;\n",
       "    }\n",
       "\n",
       "    .dataframe thead th {\n",
       "        text-align: right;\n",
       "    }\n",
       "</style>\n",
       "<table border=\"1\" class=\"dataframe\">\n",
       "  <thead>\n",
       "    <tr style=\"text-align: right;\">\n",
       "      <th></th>\n",
       "      <th>children</th>\n",
       "      <th>debt</th>\n",
       "    </tr>\n",
       "  </thead>\n",
       "  <tbody>\n",
       "    <tr>\n",
       "      <td>0</td>\n",
       "      <td>0</td>\n",
       "      <td>14149</td>\n",
       "    </tr>\n",
       "    <tr>\n",
       "      <td>1</td>\n",
       "      <td>1</td>\n",
       "      <td>4865</td>\n",
       "    </tr>\n",
       "    <tr>\n",
       "      <td>2</td>\n",
       "      <td>2</td>\n",
       "      <td>2131</td>\n",
       "    </tr>\n",
       "    <tr>\n",
       "      <td>3</td>\n",
       "      <td>3</td>\n",
       "      <td>330</td>\n",
       "    </tr>\n",
       "    <tr>\n",
       "      <td>4</td>\n",
       "      <td>4</td>\n",
       "      <td>41</td>\n",
       "    </tr>\n",
       "    <tr>\n",
       "      <td>5</td>\n",
       "      <td>5</td>\n",
       "      <td>9</td>\n",
       "    </tr>\n",
       "    <tr>\n",
       "      <td>6</td>\n",
       "      <td>All</td>\n",
       "      <td>21525</td>\n",
       "    </tr>\n",
       "  </tbody>\n",
       "</table>\n",
       "</div>"
      ],
      "text/plain": [
       "  children   debt\n",
       "0        0  14149\n",
       "1        1   4865\n",
       "2        2   2131\n",
       "3        3    330\n",
       "4        4     41\n",
       "5        5      9\n",
       "6      All  21525"
      ]
     },
     "execution_count": 71,
     "metadata": {},
     "output_type": "execute_result"
    }
   ],
   "source": [
    "children_status = data.pivot_table(index='children', values='debt', aggfunc='count',\n",
    "                                 margins=True).reset_index()\n",
    "children_status"
   ]
  },
  {
   "cell_type": "code",
   "execution_count": 72,
   "metadata": {},
   "outputs": [
    {
     "data": {
      "text/html": [
       "<div>\n",
       "<style scoped>\n",
       "    .dataframe tbody tr th:only-of-type {\n",
       "        vertical-align: middle;\n",
       "    }\n",
       "\n",
       "    .dataframe tbody tr th {\n",
       "        vertical-align: top;\n",
       "    }\n",
       "\n",
       "    .dataframe thead th {\n",
       "        text-align: right;\n",
       "    }\n",
       "</style>\n",
       "<table border=\"1\" class=\"dataframe\">\n",
       "  <thead>\n",
       "    <tr style=\"text-align: right;\">\n",
       "      <th></th>\n",
       "      <th>children</th>\n",
       "      <th>debt</th>\n",
       "    </tr>\n",
       "  </thead>\n",
       "  <tbody>\n",
       "    <tr>\n",
       "      <td>0</td>\n",
       "      <td>0</td>\n",
       "      <td>0.075129</td>\n",
       "    </tr>\n",
       "    <tr>\n",
       "      <td>1</td>\n",
       "      <td>1</td>\n",
       "      <td>0.091470</td>\n",
       "    </tr>\n",
       "    <tr>\n",
       "      <td>2</td>\n",
       "      <td>2</td>\n",
       "      <td>0.094791</td>\n",
       "    </tr>\n",
       "    <tr>\n",
       "      <td>3</td>\n",
       "      <td>3</td>\n",
       "      <td>0.081818</td>\n",
       "    </tr>\n",
       "    <tr>\n",
       "      <td>4</td>\n",
       "      <td>4</td>\n",
       "      <td>0.097561</td>\n",
       "    </tr>\n",
       "    <tr>\n",
       "      <td>5</td>\n",
       "      <td>5</td>\n",
       "      <td>0.000000</td>\n",
       "    </tr>\n",
       "  </tbody>\n",
       "</table>\n",
       "</div>"
      ],
      "text/plain": [
       "   children      debt\n",
       "0         0  0.075129\n",
       "1         1  0.091470\n",
       "2         2  0.094791\n",
       "3         3  0.081818\n",
       "4         4  0.097561\n",
       "5         5  0.000000"
      ]
     },
     "execution_count": 72,
     "metadata": {},
     "output_type": "execute_result"
    }
   ],
   "source": [
    "data.groupby(['children'])['debt'].mean().reset_index()"
   ]
  },
  {
   "cell_type": "code",
   "execution_count": 73,
   "metadata": {},
   "outputs": [
    {
     "data": {
      "text/html": [
       "<div>\n",
       "<style scoped>\n",
       "    .dataframe tbody tr th:only-of-type {\n",
       "        vertical-align: middle;\n",
       "    }\n",
       "\n",
       "    .dataframe tbody tr th {\n",
       "        vertical-align: top;\n",
       "    }\n",
       "\n",
       "    .dataframe thead tr th {\n",
       "        text-align: left;\n",
       "    }\n",
       "\n",
       "    .dataframe thead tr:last-of-type th {\n",
       "        text-align: right;\n",
       "    }\n",
       "</style>\n",
       "<table border=\"1\" class=\"dataframe\">\n",
       "  <thead>\n",
       "    <tr>\n",
       "      <th></th>\n",
       "      <th>mean</th>\n",
       "      <th>sum</th>\n",
       "      <th>count</th>\n",
       "    </tr>\n",
       "    <tr>\n",
       "      <th></th>\n",
       "      <th>debt</th>\n",
       "      <th>debt</th>\n",
       "      <th>debt</th>\n",
       "    </tr>\n",
       "    <tr>\n",
       "      <th>children</th>\n",
       "      <th></th>\n",
       "      <th></th>\n",
       "      <th></th>\n",
       "    </tr>\n",
       "  </thead>\n",
       "  <tbody>\n",
       "    <tr>\n",
       "      <td>0</td>\n",
       "      <td>0.075129</td>\n",
       "      <td>1063</td>\n",
       "      <td>14149</td>\n",
       "    </tr>\n",
       "    <tr>\n",
       "      <td>1</td>\n",
       "      <td>0.091470</td>\n",
       "      <td>445</td>\n",
       "      <td>4865</td>\n",
       "    </tr>\n",
       "    <tr>\n",
       "      <td>2</td>\n",
       "      <td>0.094791</td>\n",
       "      <td>202</td>\n",
       "      <td>2131</td>\n",
       "    </tr>\n",
       "    <tr>\n",
       "      <td>3</td>\n",
       "      <td>0.081818</td>\n",
       "      <td>27</td>\n",
       "      <td>330</td>\n",
       "    </tr>\n",
       "    <tr>\n",
       "      <td>4</td>\n",
       "      <td>0.097561</td>\n",
       "      <td>4</td>\n",
       "      <td>41</td>\n",
       "    </tr>\n",
       "    <tr>\n",
       "      <td>5</td>\n",
       "      <td>0.000000</td>\n",
       "      <td>0</td>\n",
       "      <td>9</td>\n",
       "    </tr>\n",
       "  </tbody>\n",
       "</table>\n",
       "</div>"
      ],
      "text/plain": [
       "              mean   sum  count\n",
       "              debt  debt   debt\n",
       "children                       \n",
       "0         0.075129  1063  14149\n",
       "1         0.091470   445   4865\n",
       "2         0.094791   202   2131\n",
       "3         0.081818    27    330\n",
       "4         0.097561     4     41\n",
       "5         0.000000     0      9"
      ]
     },
     "execution_count": 73,
     "metadata": {},
     "output_type": "execute_result"
    }
   ],
   "source": [
    "data.pivot_table(index='children', values='debt', aggfunc=['mean', 'sum', 'count'])"
   ]
  },
  {
   "cell_type": "markdown",
   "metadata": {},
   "source": [
    "### Conclusion"
   ]
  },
  {
   "cell_type": "markdown",
   "metadata": {},
   "source": [
    "more people without kids take loans, but if we look at the percentage of people with kids, we can see that they are much more likely not to repay the loan."
   ]
  },
  {
   "cell_type": "markdown",
   "metadata": {},
   "source": [
    "- Is there a relation between marital status and repaying a loan on time?"
   ]
  },
  {
   "cell_type": "code",
   "execution_count": 74,
   "metadata": {},
   "outputs": [
    {
     "data": {
      "text/html": [
       "<div>\n",
       "<style scoped>\n",
       "    .dataframe tbody tr th:only-of-type {\n",
       "        vertical-align: middle;\n",
       "    }\n",
       "\n",
       "    .dataframe tbody tr th {\n",
       "        vertical-align: top;\n",
       "    }\n",
       "\n",
       "    .dataframe thead th {\n",
       "        text-align: right;\n",
       "    }\n",
       "</style>\n",
       "<table border=\"1\" class=\"dataframe\">\n",
       "  <thead>\n",
       "    <tr style=\"text-align: right;\">\n",
       "      <th>debt</th>\n",
       "      <th>family_status</th>\n",
       "      <th>0</th>\n",
       "      <th>1</th>\n",
       "      <th>All</th>\n",
       "    </tr>\n",
       "  </thead>\n",
       "  <tbody>\n",
       "    <tr>\n",
       "      <td>0</td>\n",
       "      <td>civil partnership</td>\n",
       "      <td>3789</td>\n",
       "      <td>388</td>\n",
       "      <td>4177</td>\n",
       "    </tr>\n",
       "    <tr>\n",
       "      <td>1</td>\n",
       "      <td>divorced</td>\n",
       "      <td>1110</td>\n",
       "      <td>85</td>\n",
       "      <td>1195</td>\n",
       "    </tr>\n",
       "    <tr>\n",
       "      <td>2</td>\n",
       "      <td>married</td>\n",
       "      <td>11449</td>\n",
       "      <td>931</td>\n",
       "      <td>12380</td>\n",
       "    </tr>\n",
       "    <tr>\n",
       "      <td>3</td>\n",
       "      <td>unmarried</td>\n",
       "      <td>2539</td>\n",
       "      <td>274</td>\n",
       "      <td>2813</td>\n",
       "    </tr>\n",
       "    <tr>\n",
       "      <td>4</td>\n",
       "      <td>widow / widower</td>\n",
       "      <td>897</td>\n",
       "      <td>63</td>\n",
       "      <td>960</td>\n",
       "    </tr>\n",
       "    <tr>\n",
       "      <td>5</td>\n",
       "      <td>All</td>\n",
       "      <td>19784</td>\n",
       "      <td>1741</td>\n",
       "      <td>21525</td>\n",
       "    </tr>\n",
       "  </tbody>\n",
       "</table>\n",
       "</div>"
      ],
      "text/plain": [
       "debt      family_status      0     1    All\n",
       "0     civil partnership   3789   388   4177\n",
       "1              divorced   1110    85   1195\n",
       "2               married  11449   931  12380\n",
       "3             unmarried   2539   274   2813\n",
       "4       widow / widower    897    63    960\n",
       "5                   All  19784  1741  21525"
      ]
     },
     "execution_count": 74,
     "metadata": {},
     "output_type": "execute_result"
    }
   ],
   "source": [
    "family_status = data.pivot_table(index='family_status', columns = 'debt', values='family_status_id', aggfunc='count',\n",
    "                                 margins=True).reset_index()\n",
    "family_status"
   ]
  },
  {
   "cell_type": "code",
   "execution_count": 75,
   "metadata": {},
   "outputs": [
    {
     "data": {
      "text/html": [
       "<div>\n",
       "<style scoped>\n",
       "    .dataframe tbody tr th:only-of-type {\n",
       "        vertical-align: middle;\n",
       "    }\n",
       "\n",
       "    .dataframe tbody tr th {\n",
       "        vertical-align: top;\n",
       "    }\n",
       "\n",
       "    .dataframe thead th {\n",
       "        text-align: right;\n",
       "    }\n",
       "</style>\n",
       "<table border=\"1\" class=\"dataframe\">\n",
       "  <thead>\n",
       "    <tr style=\"text-align: right;\">\n",
       "      <th></th>\n",
       "      <th>family_status</th>\n",
       "      <th>debt</th>\n",
       "    </tr>\n",
       "  </thead>\n",
       "  <tbody>\n",
       "    <tr>\n",
       "      <td>0</td>\n",
       "      <td>civil partnership</td>\n",
       "      <td>0.092890</td>\n",
       "    </tr>\n",
       "    <tr>\n",
       "      <td>1</td>\n",
       "      <td>divorced</td>\n",
       "      <td>0.071130</td>\n",
       "    </tr>\n",
       "    <tr>\n",
       "      <td>2</td>\n",
       "      <td>married</td>\n",
       "      <td>0.075202</td>\n",
       "    </tr>\n",
       "    <tr>\n",
       "      <td>3</td>\n",
       "      <td>unmarried</td>\n",
       "      <td>0.097405</td>\n",
       "    </tr>\n",
       "    <tr>\n",
       "      <td>4</td>\n",
       "      <td>widow / widower</td>\n",
       "      <td>0.065625</td>\n",
       "    </tr>\n",
       "  </tbody>\n",
       "</table>\n",
       "</div>"
      ],
      "text/plain": [
       "       family_status      debt\n",
       "0  civil partnership  0.092890\n",
       "1           divorced  0.071130\n",
       "2            married  0.075202\n",
       "3          unmarried  0.097405\n",
       "4    widow / widower  0.065625"
      ]
     },
     "execution_count": 75,
     "metadata": {},
     "output_type": "execute_result"
    }
   ],
   "source": [
    "data.groupby(['family_status'])['debt'].mean().reset_index()"
   ]
  },
  {
   "cell_type": "markdown",
   "metadata": {},
   "source": [
    "### Conclusion"
   ]
  },
  {
   "cell_type": "markdown",
   "metadata": {},
   "source": [
    "we find that people who didn't get married or just in a civil partnership\n",
    "have a higher percentage of not repaying the loan."
   ]
  },
  {
   "cell_type": "markdown",
   "metadata": {},
   "source": [
    "Is there a relation between income level and repaying a loan on time?"
   ]
  },
  {
   "cell_type": "code",
   "execution_count": 76,
   "metadata": {},
   "outputs": [
    {
     "data": {
      "text/html": [
       "<div>\n",
       "<style scoped>\n",
       "    .dataframe tbody tr th:only-of-type {\n",
       "        vertical-align: middle;\n",
       "    }\n",
       "\n",
       "    .dataframe tbody tr th {\n",
       "        vertical-align: top;\n",
       "    }\n",
       "\n",
       "    .dataframe thead th {\n",
       "        text-align: right;\n",
       "    }\n",
       "</style>\n",
       "<table border=\"1\" class=\"dataframe\">\n",
       "  <thead>\n",
       "    <tr style=\"text-align: right;\">\n",
       "      <th></th>\n",
       "      <th>income_groups</th>\n",
       "      <th>debt</th>\n",
       "    </tr>\n",
       "  </thead>\n",
       "  <tbody>\n",
       "    <tr>\n",
       "      <td>0</td>\n",
       "      <td>middle_class</td>\n",
       "      <td>10762</td>\n",
       "    </tr>\n",
       "    <tr>\n",
       "      <td>1</td>\n",
       "      <td>poor</td>\n",
       "      <td>5381</td>\n",
       "    </tr>\n",
       "    <tr>\n",
       "      <td>2</td>\n",
       "      <td>wealthy</td>\n",
       "      <td>5382</td>\n",
       "    </tr>\n",
       "    <tr>\n",
       "      <td>3</td>\n",
       "      <td>All</td>\n",
       "      <td>21525</td>\n",
       "    </tr>\n",
       "  </tbody>\n",
       "</table>\n",
       "</div>"
      ],
      "text/plain": [
       "  income_groups   debt\n",
       "0  middle_class  10762\n",
       "1          poor   5381\n",
       "2       wealthy   5382\n",
       "3           All  21525"
      ]
     },
     "execution_count": 76,
     "metadata": {},
     "output_type": "execute_result"
    }
   ],
   "source": [
    "income_level = data.pivot_table(index='income_groups', values='debt', aggfunc='count',\n",
    "                                 margins=True).reset_index()\n",
    "income_level"
   ]
  },
  {
   "cell_type": "code",
   "execution_count": 77,
   "metadata": {},
   "outputs": [
    {
     "data": {
      "text/html": [
       "<div>\n",
       "<style scoped>\n",
       "    .dataframe tbody tr th:only-of-type {\n",
       "        vertical-align: middle;\n",
       "    }\n",
       "\n",
       "    .dataframe tbody tr th {\n",
       "        vertical-align: top;\n",
       "    }\n",
       "\n",
       "    .dataframe thead th {\n",
       "        text-align: right;\n",
       "    }\n",
       "</style>\n",
       "<table border=\"1\" class=\"dataframe\">\n",
       "  <thead>\n",
       "    <tr style=\"text-align: right;\">\n",
       "      <th></th>\n",
       "      <th>income_groups</th>\n",
       "      <th>debt</th>\n",
       "    </tr>\n",
       "  </thead>\n",
       "  <tbody>\n",
       "    <tr>\n",
       "      <td>0</td>\n",
       "      <td>middle_class</td>\n",
       "      <td>0.087251</td>\n",
       "    </tr>\n",
       "    <tr>\n",
       "      <td>1</td>\n",
       "      <td>poor</td>\n",
       "      <td>0.079353</td>\n",
       "    </tr>\n",
       "    <tr>\n",
       "      <td>2</td>\n",
       "      <td>wealthy</td>\n",
       "      <td>0.069677</td>\n",
       "    </tr>\n",
       "  </tbody>\n",
       "</table>\n",
       "</div>"
      ],
      "text/plain": [
       "  income_groups      debt\n",
       "0  middle_class  0.087251\n",
       "1          poor  0.079353\n",
       "2       wealthy  0.069677"
      ]
     },
     "execution_count": 77,
     "metadata": {},
     "output_type": "execute_result"
    }
   ],
   "source": [
    "data.groupby(['income_groups'])['debt'].mean().reset_index()"
   ]
  },
  {
   "cell_type": "markdown",
   "metadata": {},
   "source": [
    "### Conclusion"
   ]
  },
  {
   "cell_type": "markdown",
   "metadata": {},
   "source": [
    "most of the people from the middle class take a loan and have a hard time repaying the loan.\n",
    "\n",
    "Although poor people make less than the middle class, they have a higher chance to repay the loan on time.\n",
    "\n",
    "The wealthy people have the highest chance to pay the loan on time, but they tend to get away from such obligations."
   ]
  },
  {
   "cell_type": "markdown",
   "metadata": {},
   "source": [
    "- How do different loan purposes affect on-time repayment of the loan?"
   ]
  },
  {
   "cell_type": "code",
   "execution_count": 78,
   "metadata": {},
   "outputs": [
    {
     "data": {
      "text/html": [
       "<div>\n",
       "<style scoped>\n",
       "    .dataframe tbody tr th:only-of-type {\n",
       "        vertical-align: middle;\n",
       "    }\n",
       "\n",
       "    .dataframe tbody tr th {\n",
       "        vertical-align: top;\n",
       "    }\n",
       "\n",
       "    .dataframe thead th {\n",
       "        text-align: right;\n",
       "    }\n",
       "</style>\n",
       "<table border=\"1\" class=\"dataframe\">\n",
       "  <thead>\n",
       "    <tr style=\"text-align: right;\">\n",
       "      <th></th>\n",
       "      <th>clean_purpose</th>\n",
       "      <th>debt</th>\n",
       "    </tr>\n",
       "  </thead>\n",
       "  <tbody>\n",
       "    <tr>\n",
       "      <td>0</td>\n",
       "      <td>car</td>\n",
       "      <td>4315</td>\n",
       "    </tr>\n",
       "    <tr>\n",
       "      <td>1</td>\n",
       "      <td>house</td>\n",
       "      <td>10840</td>\n",
       "    </tr>\n",
       "    <tr>\n",
       "      <td>2</td>\n",
       "      <td>study</td>\n",
       "      <td>4022</td>\n",
       "    </tr>\n",
       "    <tr>\n",
       "      <td>3</td>\n",
       "      <td>wedding</td>\n",
       "      <td>2348</td>\n",
       "    </tr>\n",
       "    <tr>\n",
       "      <td>4</td>\n",
       "      <td>All</td>\n",
       "      <td>21525</td>\n",
       "    </tr>\n",
       "  </tbody>\n",
       "</table>\n",
       "</div>"
      ],
      "text/plain": [
       "  clean_purpose   debt\n",
       "0           car   4315\n",
       "1         house  10840\n",
       "2         study   4022\n",
       "3       wedding   2348\n",
       "4           All  21525"
      ]
     },
     "execution_count": 78,
     "metadata": {},
     "output_type": "execute_result"
    }
   ],
   "source": [
    "loan_purposes = data.pivot_table(index='clean_purpose', values='debt', aggfunc='count',\n",
    "                                 margins=True).reset_index()\n",
    "loan_purposes"
   ]
  },
  {
   "cell_type": "code",
   "execution_count": 79,
   "metadata": {},
   "outputs": [
    {
     "data": {
      "text/html": [
       "<div>\n",
       "<style scoped>\n",
       "    .dataframe tbody tr th:only-of-type {\n",
       "        vertical-align: middle;\n",
       "    }\n",
       "\n",
       "    .dataframe tbody tr th {\n",
       "        vertical-align: top;\n",
       "    }\n",
       "\n",
       "    .dataframe thead th {\n",
       "        text-align: right;\n",
       "    }\n",
       "</style>\n",
       "<table border=\"1\" class=\"dataframe\">\n",
       "  <thead>\n",
       "    <tr style=\"text-align: right;\">\n",
       "      <th></th>\n",
       "      <th>clean_purpose</th>\n",
       "      <th>debt</th>\n",
       "    </tr>\n",
       "  </thead>\n",
       "  <tbody>\n",
       "    <tr>\n",
       "      <td>0</td>\n",
       "      <td>car</td>\n",
       "      <td>0.093395</td>\n",
       "    </tr>\n",
       "    <tr>\n",
       "      <td>1</td>\n",
       "      <td>house</td>\n",
       "      <td>0.072140</td>\n",
       "    </tr>\n",
       "    <tr>\n",
       "      <td>2</td>\n",
       "      <td>study</td>\n",
       "      <td>0.091994</td>\n",
       "    </tr>\n",
       "    <tr>\n",
       "      <td>3</td>\n",
       "      <td>wedding</td>\n",
       "      <td>0.079216</td>\n",
       "    </tr>\n",
       "  </tbody>\n",
       "</table>\n",
       "</div>"
      ],
      "text/plain": [
       "  clean_purpose      debt\n",
       "0           car  0.093395\n",
       "1         house  0.072140\n",
       "2         study  0.091994\n",
       "3       wedding  0.079216"
      ]
     },
     "execution_count": 79,
     "metadata": {},
     "output_type": "execute_result"
    }
   ],
   "source": [
    "data.groupby(['clean_purpose'])['debt'].mean().reset_index()"
   ]
  },
  {
   "cell_type": "markdown",
   "metadata": {},
   "source": [
    "### Conclusion"
   ]
  },
  {
   "cell_type": "markdown",
   "metadata": {},
   "source": [
    "more than 50% of people who take a loan have the purpose of using the money for a house-related activity.\n",
    "\n",
    "But as far as concerning repaying the loan on time, the people who took a loan for study or purchased a car have a lower chance to repay the loan on time."
   ]
  },
  {
   "cell_type": "markdown",
   "metadata": {},
   "source": [
    "## General conclusion"
   ]
  },
  {
   "cell_type": "markdown",
   "metadata": {},
   "source": [
    "we started by cleaning the data from missing values, duplicated values.\n",
    "Than we categories the required column to prepare the data to answer the four questions that was given to us.\n",
    "\n",
    "We answered the question and concluded that people without kids should have a higher credit score because they are more likely to pay the loan on time.\n",
    "\n",
    "People who get married on their life need to get an upgrade on their credit score because they are more likely to pay a loan on time.\n",
    "\n",
    "People who took a loan for a wedding or buying a house should have a higher credit score than people who took a loan to buy a car or pay for their education.\n",
    "\n",
    "And finally, poor people and wealthy people should have a higher credit score than people in the middle class because they have a higher percentage to pay the loan back on time."
   ]
  },
  {
   "cell_type": "code",
   "execution_count": null,
   "metadata": {},
   "outputs": [],
   "source": []
  }
 ],
 "metadata": {
  "ExecuteTimeLog": [
   {
    "duration": 264,
    "start_time": "2021-10-20T14:32:28.348Z"
   },
   {
    "duration": 190,
    "start_time": "2021-10-20T14:33:06.424Z"
   },
   {
    "duration": 935,
    "start_time": "2021-10-20T14:33:15.058Z"
   },
   {
    "duration": 183,
    "start_time": "2021-10-20T14:33:23.648Z"
   },
   {
    "duration": 183,
    "start_time": "2021-10-20T14:34:58.834Z"
   },
   {
    "duration": 198,
    "start_time": "2021-10-20T14:37:43.573Z"
   },
   {
    "duration": 242,
    "start_time": "2021-10-20T14:38:09.532Z"
   },
   {
    "duration": -1039,
    "start_time": "2021-10-20T14:38:10.814Z"
   },
   {
    "duration": 181,
    "start_time": "2021-10-20T14:40:31.867Z"
   },
   {
    "duration": 503,
    "start_time": "2021-10-20T14:53:54.351Z"
   },
   {
    "duration": 45,
    "start_time": "2021-10-20T14:54:04.758Z"
   },
   {
    "duration": 19,
    "start_time": "2021-10-20T14:54:08.573Z"
   },
   {
    "duration": 11,
    "start_time": "2021-10-20T14:58:38.207Z"
   },
   {
    "duration": 13,
    "start_time": "2021-10-20T15:07:37.163Z"
   },
   {
    "duration": 23,
    "start_time": "2021-10-20T15:09:05.035Z"
   },
   {
    "duration": 6,
    "start_time": "2021-10-20T15:14:01.895Z"
   },
   {
    "duration": 7,
    "start_time": "2021-10-20T15:18:13.576Z"
   },
   {
    "duration": 23,
    "start_time": "2021-10-20T15:18:20.366Z"
   },
   {
    "duration": 19,
    "start_time": "2021-10-20T15:20:41.046Z"
   },
   {
    "duration": 421,
    "start_time": "2021-10-21T19:27:19.157Z"
   },
   {
    "duration": 344,
    "start_time": "2021-10-21T19:27:27.165Z"
   },
   {
    "duration": 784,
    "start_time": "2021-10-21T19:27:35.660Z"
   },
   {
    "duration": 386,
    "start_time": "2021-10-21T19:27:59.687Z"
   },
   {
    "duration": 4,
    "start_time": "2021-10-21T19:28:14.334Z"
   },
   {
    "duration": 59,
    "start_time": "2021-10-21T19:28:14.805Z"
   },
   {
    "duration": 26,
    "start_time": "2021-10-21T19:28:15.046Z"
   },
   {
    "duration": 16,
    "start_time": "2021-10-21T19:28:17.501Z"
   },
   {
    "duration": 15,
    "start_time": "2021-10-21T19:28:17.663Z"
   },
   {
    "duration": 34,
    "start_time": "2021-10-21T19:28:17.854Z"
   },
   {
    "duration": 10,
    "start_time": "2021-10-21T19:30:26.982Z"
   },
   {
    "duration": 37,
    "start_time": "2021-10-21T19:37:52.417Z"
   },
   {
    "duration": 38,
    "start_time": "2021-10-21T19:40:00.211Z"
   },
   {
    "duration": 12,
    "start_time": "2021-10-21T19:44:50.970Z"
   },
   {
    "duration": 5,
    "start_time": "2021-10-21T19:52:58.556Z"
   },
   {
    "duration": 12,
    "start_time": "2021-10-21T19:53:14.612Z"
   },
   {
    "duration": 6,
    "start_time": "2021-10-21T20:01:01.431Z"
   },
   {
    "duration": 12,
    "start_time": "2021-10-21T20:01:11.007Z"
   },
   {
    "duration": 13,
    "start_time": "2021-10-21T20:04:15.663Z"
   },
   {
    "duration": 11,
    "start_time": "2021-10-21T20:05:51.080Z"
   },
   {
    "duration": 13,
    "start_time": "2021-10-21T20:06:34.807Z"
   },
   {
    "duration": 7,
    "start_time": "2021-10-21T20:08:55.664Z"
   },
   {
    "duration": 247,
    "start_time": "2021-10-23T18:53:29.427Z"
   },
   {
    "duration": 717,
    "start_time": "2021-10-23T18:57:40.247Z"
   },
   {
    "duration": 55,
    "start_time": "2021-10-23T18:57:41.707Z"
   },
   {
    "duration": 27,
    "start_time": "2021-10-23T18:57:49.429Z"
   },
   {
    "duration": 14,
    "start_time": "2021-10-23T18:58:05.511Z"
   },
   {
    "duration": 13,
    "start_time": "2021-10-23T19:13:51.281Z"
   },
   {
    "duration": 14,
    "start_time": "2021-10-23T19:14:24.678Z"
   },
   {
    "duration": 31,
    "start_time": "2021-10-23T19:14:49.914Z"
   },
   {
    "duration": 32,
    "start_time": "2021-10-23T19:14:56.626Z"
   },
   {
    "duration": 263,
    "start_time": "2021-10-25T07:44:08.380Z"
   },
   {
    "duration": 746,
    "start_time": "2021-10-25T07:45:32.729Z"
   },
   {
    "duration": 53,
    "start_time": "2021-10-25T07:45:33.477Z"
   },
   {
    "duration": 27,
    "start_time": "2021-10-25T07:45:34.139Z"
   },
   {
    "duration": 15,
    "start_time": "2021-10-25T07:45:44.882Z"
   },
   {
    "duration": 14,
    "start_time": "2021-10-25T07:45:48.766Z"
   },
   {
    "duration": 37,
    "start_time": "2021-10-25T07:45:54.011Z"
   },
   {
    "duration": 34,
    "start_time": "2021-10-25T07:45:55.841Z"
   },
   {
    "duration": 12,
    "start_time": "2021-10-25T07:46:39.252Z"
   },
   {
    "duration": 11,
    "start_time": "2021-10-25T07:46:53.481Z"
   },
   {
    "duration": 6,
    "start_time": "2021-10-25T08:09:22.351Z"
   },
   {
    "duration": 11,
    "start_time": "2021-10-25T08:11:29.791Z"
   },
   {
    "duration": 13,
    "start_time": "2021-10-25T08:12:19.825Z"
   },
   {
    "duration": 12,
    "start_time": "2021-10-25T08:12:26.016Z"
   },
   {
    "duration": 4,
    "start_time": "2021-10-25T08:12:41.522Z"
   },
   {
    "duration": 11,
    "start_time": "2021-10-25T08:13:01.872Z"
   },
   {
    "duration": 4,
    "start_time": "2021-10-25T08:13:30.897Z"
   },
   {
    "duration": 6,
    "start_time": "2021-10-25T08:13:36.679Z"
   },
   {
    "duration": 6,
    "start_time": "2021-10-25T08:14:05.661Z"
   },
   {
    "duration": 13,
    "start_time": "2021-10-25T08:14:07.537Z"
   },
   {
    "duration": 5,
    "start_time": "2021-10-25T08:14:11.842Z"
   },
   {
    "duration": 10,
    "start_time": "2021-10-25T08:14:32.170Z"
   },
   {
    "duration": 12,
    "start_time": "2021-10-25T08:15:34.173Z"
   },
   {
    "duration": 230,
    "start_time": "2021-10-25T08:15:37.682Z"
   },
   {
    "duration": 14,
    "start_time": "2021-10-25T08:16:12.682Z"
   },
   {
    "duration": 13,
    "start_time": "2021-10-25T08:16:14.824Z"
   },
   {
    "duration": 698,
    "start_time": "2021-10-25T08:19:57.523Z"
   },
   {
    "duration": 56,
    "start_time": "2021-10-25T08:19:58.292Z"
   },
   {
    "duration": 28,
    "start_time": "2021-10-25T08:19:59.155Z"
   },
   {
    "duration": 17,
    "start_time": "2021-10-25T08:20:05.837Z"
   },
   {
    "duration": 14,
    "start_time": "2021-10-25T08:20:09.438Z"
   },
   {
    "duration": 35,
    "start_time": "2021-10-25T08:20:17.628Z"
   },
   {
    "duration": 35,
    "start_time": "2021-10-25T08:20:21.276Z"
   },
   {
    "duration": 76,
    "start_time": "2021-10-25T08:20:28.421Z"
   },
   {
    "duration": 36,
    "start_time": "2021-10-25T08:20:35.930Z"
   },
   {
    "duration": 38,
    "start_time": "2021-10-25T08:20:40.592Z"
   },
   {
    "duration": 15,
    "start_time": "2021-10-25T08:20:48.549Z"
   },
   {
    "duration": 15,
    "start_time": "2021-10-25T08:21:06.610Z"
   },
   {
    "duration": 11,
    "start_time": "2021-10-25T08:22:41.374Z"
   },
   {
    "duration": 5,
    "start_time": "2021-10-25T08:26:11.646Z"
   },
   {
    "duration": 12,
    "start_time": "2021-10-25T08:26:23.518Z"
   },
   {
    "duration": 10,
    "start_time": "2021-10-25T08:41:46.216Z"
   },
   {
    "duration": 39,
    "start_time": "2021-10-25T08:45:19.019Z"
   },
   {
    "duration": 11,
    "start_time": "2021-10-25T08:45:53.362Z"
   },
   {
    "duration": 39,
    "start_time": "2021-10-25T08:46:23.363Z"
   },
   {
    "duration": 14,
    "start_time": "2021-10-25T08:46:38.474Z"
   },
   {
    "duration": 5,
    "start_time": "2021-10-25T08:46:58.299Z"
   },
   {
    "duration": 12,
    "start_time": "2021-10-25T08:47:00.875Z"
   },
   {
    "duration": 7,
    "start_time": "2021-10-25T08:49:36.360Z"
   },
   {
    "duration": 9,
    "start_time": "2021-10-25T08:50:05.202Z"
   },
   {
    "duration": 239,
    "start_time": "2021-10-25T10:13:42.732Z"
   },
   {
    "duration": 7,
    "start_time": "2021-10-25T10:13:50.152Z"
   },
   {
    "duration": 16,
    "start_time": "2021-10-25T10:14:06.737Z"
   },
   {
    "duration": 7,
    "start_time": "2021-10-25T10:14:21.265Z"
   },
   {
    "duration": 8,
    "start_time": "2021-10-25T10:14:52.210Z"
   },
   {
    "duration": 14,
    "start_time": "2021-10-25T10:15:08.234Z"
   },
   {
    "duration": 6,
    "start_time": "2021-10-25T10:15:14.153Z"
   },
   {
    "duration": 98,
    "start_time": "2021-10-28T16:15:09.091Z"
   },
   {
    "duration": 317,
    "start_time": "2021-10-28T16:20:57.938Z"
   },
   {
    "duration": 272,
    "start_time": "2021-10-28T16:21:10.662Z"
   },
   {
    "duration": 757,
    "start_time": "2021-10-28T16:21:35.968Z"
   },
   {
    "duration": 78,
    "start_time": "2021-10-28T16:21:36.729Z"
   },
   {
    "duration": 29,
    "start_time": "2021-10-28T16:21:37.528Z"
   },
   {
    "duration": 18,
    "start_time": "2021-10-28T16:21:41.204Z"
   },
   {
    "duration": 15,
    "start_time": "2021-10-28T16:21:43.066Z"
   },
   {
    "duration": 34,
    "start_time": "2021-10-28T16:21:44.200Z"
   },
   {
    "duration": 35,
    "start_time": "2021-10-28T16:21:45.407Z"
   },
   {
    "duration": 104,
    "start_time": "2021-10-28T16:21:46.658Z"
   },
   {
    "duration": 35,
    "start_time": "2021-10-28T16:21:48.402Z"
   },
   {
    "duration": 37,
    "start_time": "2021-10-28T16:21:52.455Z"
   },
   {
    "duration": 12,
    "start_time": "2021-10-28T16:21:59.495Z"
   },
   {
    "duration": 12,
    "start_time": "2021-10-28T16:22:05.385Z"
   },
   {
    "duration": 12,
    "start_time": "2021-10-28T16:22:33.019Z"
   },
   {
    "duration": 5,
    "start_time": "2021-10-28T16:22:43.385Z"
   },
   {
    "duration": 11,
    "start_time": "2021-10-28T16:22:44.808Z"
   },
   {
    "duration": 5,
    "start_time": "2021-10-28T16:22:46.372Z"
   },
   {
    "duration": 11,
    "start_time": "2021-10-28T16:22:49.672Z"
   },
   {
    "duration": 6,
    "start_time": "2021-10-28T16:22:53.487Z"
   },
   {
    "duration": 7,
    "start_time": "2021-10-28T16:23:00.984Z"
   },
   {
    "duration": 14,
    "start_time": "2021-10-28T16:23:20.979Z"
   },
   {
    "duration": 7,
    "start_time": "2021-10-28T16:23:22.538Z"
   },
   {
    "duration": 6,
    "start_time": "2021-10-28T16:23:24.959Z"
   },
   {
    "duration": 10,
    "start_time": "2021-10-28T16:24:27.663Z"
   },
   {
    "duration": 10,
    "start_time": "2021-10-28T16:25:37.832Z"
   },
   {
    "duration": 8,
    "start_time": "2021-10-28T16:26:15.496Z"
   },
   {
    "duration": 350,
    "start_time": "2021-10-28T16:27:09.104Z"
   },
   {
    "duration": 8,
    "start_time": "2021-10-28T16:27:26.826Z"
   },
   {
    "duration": 13,
    "start_time": "2021-10-28T16:29:36.882Z"
   },
   {
    "duration": 7,
    "start_time": "2021-10-28T16:31:02.312Z"
   },
   {
    "duration": 15,
    "start_time": "2021-10-28T16:31:57.714Z"
   },
   {
    "duration": 8,
    "start_time": "2021-10-28T16:33:02.069Z"
   },
   {
    "duration": 18,
    "start_time": "2021-10-28T17:22:09.286Z"
   },
   {
    "duration": 6,
    "start_time": "2021-10-28T17:22:41.357Z"
   },
   {
    "duration": 14,
    "start_time": "2021-10-28T17:23:23.095Z"
   },
   {
    "duration": 8,
    "start_time": "2021-10-28T17:23:54.902Z"
   },
   {
    "duration": 10,
    "start_time": "2021-10-28T17:25:01.759Z"
   },
   {
    "duration": 6,
    "start_time": "2021-10-28T17:25:35.910Z"
   },
   {
    "duration": 18,
    "start_time": "2021-10-28T17:26:53.023Z"
   },
   {
    "duration": 8,
    "start_time": "2021-10-28T17:27:14.885Z"
   },
   {
    "duration": 414,
    "start_time": "2021-10-31T20:56:02.716Z"
   },
   {
    "duration": 2,
    "start_time": "2021-10-31T20:59:36.817Z"
   },
   {
    "duration": 41,
    "start_time": "2021-10-31T20:59:36.989Z"
   },
   {
    "duration": 11,
    "start_time": "2021-10-31T20:59:37.148Z"
   },
   {
    "duration": 10,
    "start_time": "2021-10-31T20:59:37.947Z"
   },
   {
    "duration": 11,
    "start_time": "2021-10-31T20:59:38.122Z"
   },
   {
    "duration": 21,
    "start_time": "2021-10-31T20:59:38.275Z"
   },
   {
    "duration": 20,
    "start_time": "2021-10-31T20:59:38.434Z"
   },
   {
    "duration": 107,
    "start_time": "2021-10-31T20:59:38.621Z"
   },
   {
    "duration": 23,
    "start_time": "2021-10-31T20:59:38.777Z"
   },
   {
    "duration": 22,
    "start_time": "2021-10-31T20:59:38.937Z"
   },
   {
    "duration": 8,
    "start_time": "2021-10-31T20:59:39.107Z"
   },
   {
    "duration": 9,
    "start_time": "2021-10-31T20:59:39.268Z"
   },
   {
    "duration": 8,
    "start_time": "2021-10-31T20:59:39.434Z"
   },
   {
    "duration": 3,
    "start_time": "2021-10-31T20:59:39.932Z"
   },
   {
    "duration": 9,
    "start_time": "2021-10-31T20:59:40.362Z"
   },
   {
    "duration": 4,
    "start_time": "2021-10-31T20:59:40.777Z"
   },
   {
    "duration": 8,
    "start_time": "2021-10-31T20:59:41.207Z"
   },
   {
    "duration": 5,
    "start_time": "2021-10-31T20:59:41.369Z"
   },
   {
    "duration": 6,
    "start_time": "2021-10-31T20:59:45.167Z"
   },
   {
    "duration": 10,
    "start_time": "2021-10-31T20:59:45.985Z"
   },
   {
    "duration": 5,
    "start_time": "2021-10-31T20:59:46.835Z"
   },
   {
    "duration": 4,
    "start_time": "2021-10-31T20:59:49.025Z"
   },
   {
    "duration": 4,
    "start_time": "2021-10-31T21:03:56.598Z"
   },
   {
    "duration": 5,
    "start_time": "2021-10-31T21:03:57.460Z"
   },
   {
    "duration": 9,
    "start_time": "2021-10-31T21:04:22.034Z"
   },
   {
    "duration": 4,
    "start_time": "2021-10-31T21:12:44.375Z"
   },
   {
    "duration": 8,
    "start_time": "2021-10-31T21:12:45.980Z"
   },
   {
    "duration": 8,
    "start_time": "2021-10-31T21:18:23.567Z"
   },
   {
    "duration": 455,
    "start_time": "2021-10-31T21:20:51.906Z"
   },
   {
    "duration": 106,
    "start_time": "2021-10-31T21:20:57.617Z"
   },
   {
    "duration": 122,
    "start_time": "2021-10-31T21:21:03.951Z"
   },
   {
    "duration": 108,
    "start_time": "2021-10-31T21:21:07.919Z"
   },
   {
    "duration": 3,
    "start_time": "2021-10-31T21:21:16.982Z"
   },
   {
    "duration": 43,
    "start_time": "2021-10-31T21:21:17.800Z"
   },
   {
    "duration": 12,
    "start_time": "2021-10-31T21:21:18.616Z"
   },
   {
    "duration": 11,
    "start_time": "2021-10-31T21:21:24.464Z"
   },
   {
    "duration": 11,
    "start_time": "2021-10-31T21:21:27.105Z"
   },
   {
    "duration": 22,
    "start_time": "2021-10-31T21:21:31.986Z"
   },
   {
    "duration": 22,
    "start_time": "2021-10-31T21:21:33.694Z"
   },
   {
    "duration": 108,
    "start_time": "2021-10-31T21:21:39.664Z"
   },
   {
    "duration": 116,
    "start_time": "2021-10-31T21:22:12.825Z"
   },
   {
    "duration": 351,
    "start_time": "2021-10-31T21:23:29.601Z"
   },
   {
    "duration": 382,
    "start_time": "2021-10-31T21:23:55.541Z"
   },
   {
    "duration": 127,
    "start_time": "2021-10-31T21:24:44.985Z"
   },
   {
    "duration": 127,
    "start_time": "2021-10-31T21:24:59.930Z"
   },
   {
    "duration": 359,
    "start_time": "2021-10-31T21:25:08.619Z"
   },
   {
    "duration": 22,
    "start_time": "2021-10-31T21:25:18.255Z"
   },
   {
    "duration": 374,
    "start_time": "2021-10-31T21:25:24.642Z"
   },
   {
    "duration": 22,
    "start_time": "2021-10-31T21:25:26.441Z"
   },
   {
    "duration": 347,
    "start_time": "2021-10-31T21:26:26.370Z"
   },
   {
    "duration": 352,
    "start_time": "2021-10-31T21:34:30.216Z"
   },
   {
    "duration": 9,
    "start_time": "2021-10-31T21:34:58.566Z"
   },
   {
    "duration": 8,
    "start_time": "2021-10-31T21:36:15.593Z"
   },
   {
    "duration": 8,
    "start_time": "2021-10-31T21:36:22.506Z"
   },
   {
    "duration": 21,
    "start_time": "2021-10-31T21:36:48.388Z"
   },
   {
    "duration": 8,
    "start_time": "2021-10-31T21:36:53.962Z"
   },
   {
    "duration": 276,
    "start_time": "2021-11-01T15:36:58.689Z"
   },
   {
    "duration": 241,
    "start_time": "2021-11-01T15:37:11.597Z"
   },
   {
    "duration": 706,
    "start_time": "2021-11-01T15:37:44.502Z"
   },
   {
    "duration": 690,
    "start_time": "2021-11-01T15:38:34.050Z"
   },
   {
    "duration": 57,
    "start_time": "2021-11-01T15:38:35.924Z"
   },
   {
    "duration": 28,
    "start_time": "2021-11-01T15:38:36.741Z"
   },
   {
    "duration": 14,
    "start_time": "2021-11-01T15:38:41.337Z"
   },
   {
    "duration": 16,
    "start_time": "2021-11-01T15:38:42.270Z"
   },
   {
    "duration": 32,
    "start_time": "2021-11-01T15:38:43.122Z"
   },
   {
    "duration": 34,
    "start_time": "2021-11-01T15:38:43.873Z"
   },
   {
    "duration": 34,
    "start_time": "2021-11-01T15:38:44.607Z"
   },
   {
    "duration": 38,
    "start_time": "2021-11-01T15:38:45.289Z"
   },
   {
    "duration": 11,
    "start_time": "2021-11-01T15:38:46.098Z"
   },
   {
    "duration": 12,
    "start_time": "2021-11-01T15:38:47.573Z"
   },
   {
    "duration": 13,
    "start_time": "2021-11-01T15:38:47.809Z"
   },
   {
    "duration": 10,
    "start_time": "2021-11-01T15:38:48.265Z"
   },
   {
    "duration": 5,
    "start_time": "2021-11-01T15:38:48.859Z"
   },
   {
    "duration": 10,
    "start_time": "2021-11-01T15:38:49.393Z"
   },
   {
    "duration": 6,
    "start_time": "2021-11-01T15:38:49.880Z"
   },
   {
    "duration": 15,
    "start_time": "2021-11-01T15:38:50.347Z"
   },
   {
    "duration": 7,
    "start_time": "2021-11-01T15:38:50.762Z"
   },
   {
    "duration": 7,
    "start_time": "2021-11-01T15:38:51.235Z"
   },
   {
    "duration": 19,
    "start_time": "2021-11-01T15:38:51.685Z"
   },
   {
    "duration": 6,
    "start_time": "2021-11-01T15:38:52.125Z"
   },
   {
    "duration": 6,
    "start_time": "2021-11-01T15:38:52.553Z"
   },
   {
    "duration": 14,
    "start_time": "2021-11-01T15:38:52.962Z"
   },
   {
    "duration": 8,
    "start_time": "2021-11-01T15:38:53.361Z"
   },
   {
    "duration": 12,
    "start_time": "2021-11-01T15:38:53.767Z"
   },
   {
    "duration": 5,
    "start_time": "2021-11-01T15:38:54.705Z"
   },
   {
    "duration": 11,
    "start_time": "2021-11-01T15:38:55.306Z"
   },
   {
    "duration": 10,
    "start_time": "2021-11-01T15:38:55.775Z"
   },
   {
    "duration": 6,
    "start_time": "2021-11-01T15:38:56.233Z"
   },
   {
    "duration": 12,
    "start_time": "2021-11-01T15:38:56.665Z"
   },
   {
    "duration": 7,
    "start_time": "2021-11-01T15:38:57.103Z"
   },
   {
    "duration": 13,
    "start_time": "2021-11-01T15:38:57.644Z"
   },
   {
    "duration": 7,
    "start_time": "2021-11-01T15:38:58.108Z"
   },
   {
    "duration": 14,
    "start_time": "2021-11-01T15:38:58.611Z"
   },
   {
    "duration": 7,
    "start_time": "2021-11-01T15:38:59.104Z"
   },
   {
    "duration": 11,
    "start_time": "2021-11-01T15:38:59.601Z"
   },
   {
    "duration": 6,
    "start_time": "2021-11-01T15:39:00.101Z"
   },
   {
    "duration": 12,
    "start_time": "2021-11-01T15:39:00.522Z"
   },
   {
    "duration": 7,
    "start_time": "2021-11-01T15:39:01.016Z"
   },
   {
    "duration": 14,
    "start_time": "2021-11-01T15:39:03.547Z"
   },
   {
    "duration": 13,
    "start_time": "2021-11-01T15:43:59.615Z"
   },
   {
    "duration": 5,
    "start_time": "2021-11-01T15:44:00.699Z"
   },
   {
    "duration": 22,
    "start_time": "2021-11-01T15:44:06.865Z"
   },
   {
    "duration": 75,
    "start_time": "2021-11-01T15:54:06.486Z"
   },
   {
    "duration": 37,
    "start_time": "2021-11-01T15:54:46.143Z"
   },
   {
    "duration": 10,
    "start_time": "2021-11-01T16:12:13.869Z"
   },
   {
    "duration": 12,
    "start_time": "2021-11-01T16:12:42.167Z"
   },
   {
    "duration": 4,
    "start_time": "2021-11-01T16:38:12.506Z"
   },
   {
    "duration": 296,
    "start_time": "2021-11-01T16:40:48.788Z"
   },
   {
    "duration": 242,
    "start_time": "2021-11-01T16:40:59.659Z"
   },
   {
    "duration": 4,
    "start_time": "2021-11-01T16:43:32.122Z"
   },
   {
    "duration": 488,
    "start_time": "2021-11-01T16:43:49.336Z"
   },
   {
    "duration": 502,
    "start_time": "2021-11-01T16:44:23.254Z"
   },
   {
    "duration": 84,
    "start_time": "2021-11-01T16:44:52.891Z"
   },
   {
    "duration": 479,
    "start_time": "2021-11-01T16:44:58.473Z"
   },
   {
    "duration": 4,
    "start_time": "2021-11-01T16:50:40.798Z"
   },
   {
    "duration": 609,
    "start_time": "2021-11-01T16:51:16.796Z"
   },
   {
    "duration": 381,
    "start_time": "2021-11-01T16:57:19.410Z"
   },
   {
    "duration": 381,
    "start_time": "2021-11-01T16:58:04.954Z"
   },
   {
    "duration": 396,
    "start_time": "2021-11-01T16:58:18.202Z"
   },
   {
    "duration": 398,
    "start_time": "2021-11-01T17:00:11.008Z"
   },
   {
    "duration": 9,
    "start_time": "2021-11-01T17:01:00.337Z"
   },
   {
    "duration": 87,
    "start_time": "2021-11-01T17:29:54.561Z"
   },
   {
    "duration": 7,
    "start_time": "2021-11-01T17:30:32.832Z"
   },
   {
    "duration": 7,
    "start_time": "2021-11-01T17:31:14.648Z"
   },
   {
    "duration": 7,
    "start_time": "2021-11-01T17:31:41.505Z"
   },
   {
    "duration": 7,
    "start_time": "2021-11-01T17:31:54.535Z"
   },
   {
    "duration": 398,
    "start_time": "2021-11-01T17:34:56.354Z"
   },
   {
    "duration": 452,
    "start_time": "2021-11-01T17:35:30.417Z"
   },
   {
    "duration": 400,
    "start_time": "2021-11-01T17:36:32.459Z"
   },
   {
    "duration": 6,
    "start_time": "2021-11-01T17:37:32.403Z"
   },
   {
    "duration": 216,
    "start_time": "2021-11-02T07:21:21.526Z"
   },
   {
    "duration": 567,
    "start_time": "2021-11-02T07:21:29.487Z"
   },
   {
    "duration": 44,
    "start_time": "2021-11-02T07:21:30.130Z"
   },
   {
    "duration": 18,
    "start_time": "2021-11-02T07:21:30.677Z"
   },
   {
    "duration": 11,
    "start_time": "2021-11-02T07:21:33.163Z"
   },
   {
    "duration": 10,
    "start_time": "2021-11-02T07:21:33.572Z"
   },
   {
    "duration": 19,
    "start_time": "2021-11-02T07:21:34.074Z"
   },
   {
    "duration": 19,
    "start_time": "2021-11-02T07:21:34.516Z"
   },
   {
    "duration": 21,
    "start_time": "2021-11-02T07:21:34.959Z"
   },
   {
    "duration": 22,
    "start_time": "2021-11-02T07:21:35.362Z"
   },
   {
    "duration": 10,
    "start_time": "2021-11-02T07:21:35.800Z"
   },
   {
    "duration": 9,
    "start_time": "2021-11-02T07:21:36.252Z"
   },
   {
    "duration": 9,
    "start_time": "2021-11-02T07:21:36.680Z"
   },
   {
    "duration": 9,
    "start_time": "2021-11-02T07:21:37.128Z"
   },
   {
    "duration": 4,
    "start_time": "2021-11-02T07:21:37.555Z"
   },
   {
    "duration": 9,
    "start_time": "2021-11-02T07:21:38.031Z"
   },
   {
    "duration": 4,
    "start_time": "2021-11-02T07:21:38.467Z"
   },
   {
    "duration": 9,
    "start_time": "2021-11-02T07:21:38.879Z"
   },
   {
    "duration": 4,
    "start_time": "2021-11-02T07:21:39.325Z"
   },
   {
    "duration": 4,
    "start_time": "2021-11-02T07:21:39.769Z"
   },
   {
    "duration": 9,
    "start_time": "2021-11-02T07:21:40.139Z"
   },
   {
    "duration": 5,
    "start_time": "2021-11-02T07:21:40.520Z"
   },
   {
    "duration": 5,
    "start_time": "2021-11-02T07:21:41.547Z"
   },
   {
    "duration": 8,
    "start_time": "2021-11-02T07:21:41.799Z"
   },
   {
    "duration": 5,
    "start_time": "2021-11-02T07:21:41.996Z"
   },
   {
    "duration": 8,
    "start_time": "2021-11-02T07:21:42.187Z"
   },
   {
    "duration": 4,
    "start_time": "2021-11-02T07:21:42.345Z"
   },
   {
    "duration": 8,
    "start_time": "2021-11-02T07:21:42.687Z"
   },
   {
    "duration": 9,
    "start_time": "2021-11-02T07:21:42.859Z"
   },
   {
    "duration": 4,
    "start_time": "2021-11-02T07:21:43.201Z"
   },
   {
    "duration": 9,
    "start_time": "2021-11-02T07:21:43.387Z"
   },
   {
    "duration": 5,
    "start_time": "2021-11-02T07:21:43.713Z"
   },
   {
    "duration": 8,
    "start_time": "2021-11-02T07:21:43.898Z"
   },
   {
    "duration": 5,
    "start_time": "2021-11-02T07:21:44.270Z"
   },
   {
    "duration": 8,
    "start_time": "2021-11-02T07:21:44.452Z"
   },
   {
    "duration": 4,
    "start_time": "2021-11-02T07:21:44.644Z"
   },
   {
    "duration": 8,
    "start_time": "2021-11-02T07:21:44.818Z"
   },
   {
    "duration": 5,
    "start_time": "2021-11-02T07:21:44.975Z"
   },
   {
    "duration": 10,
    "start_time": "2021-11-02T07:21:45.172Z"
   },
   {
    "duration": 4,
    "start_time": "2021-11-02T07:21:45.336Z"
   },
   {
    "duration": 24,
    "start_time": "2021-11-02T07:21:45.513Z"
   },
   {
    "duration": 2,
    "start_time": "2021-11-02T07:21:45.690Z"
   },
   {
    "duration": 12,
    "start_time": "2021-11-02T07:21:48.449Z"
   },
   {
    "duration": 4,
    "start_time": "2021-11-02T07:21:49.346Z"
   },
   {
    "duration": 11,
    "start_time": "2021-11-02T07:21:49.926Z"
   },
   {
    "duration": 8,
    "start_time": "2021-11-02T07:21:57.472Z"
   },
   {
    "duration": 2,
    "start_time": "2021-11-02T07:22:01.795Z"
   },
   {
    "duration": 5,
    "start_time": "2021-11-02T07:22:05.067Z"
   },
   {
    "duration": 9,
    "start_time": "2021-11-02T07:22:06.733Z"
   },
   {
    "duration": 5,
    "start_time": "2021-11-02T07:26:09.441Z"
   },
   {
    "duration": 4,
    "start_time": "2021-11-02T07:39:59.684Z"
   },
   {
    "duration": 198,
    "start_time": "2021-11-02T07:43:14.821Z"
   },
   {
    "duration": 2,
    "start_time": "2021-11-02T07:43:18.566Z"
   },
   {
    "duration": 236,
    "start_time": "2021-11-02T07:43:19.614Z"
   },
   {
    "duration": 287,
    "start_time": "2021-11-02T07:43:19.907Z"
   },
   {
    "duration": 125528,
    "start_time": "2021-11-02T07:43:31.036Z"
   },
   {
    "duration": 574,
    "start_time": "2021-11-02T07:49:13.742Z"
   },
   {
    "duration": 3,
    "start_time": "2021-11-02T07:49:14.853Z"
   },
   {
    "duration": 216,
    "start_time": "2021-11-02T07:50:12.799Z"
   },
   {
    "duration": 3,
    "start_time": "2021-11-02T07:56:07.249Z"
   },
   {
    "duration": 505,
    "start_time": "2021-11-02T07:56:07.980Z"
   },
   {
    "duration": 1177,
    "start_time": "2021-11-02T07:56:40.362Z"
   },
   {
    "duration": 176,
    "start_time": "2021-11-02T08:03:17.051Z"
   },
   {
    "duration": 3,
    "start_time": "2021-11-02T08:03:17.606Z"
   },
   {
    "duration": 3,
    "start_time": "2021-11-02T08:04:23.969Z"
   },
   {
    "duration": 3,
    "start_time": "2021-11-02T08:04:27.354Z"
   },
   {
    "duration": 3,
    "start_time": "2021-11-02T08:04:30.690Z"
   },
   {
    "duration": 635,
    "start_time": "2021-11-02T08:07:54.870Z"
   },
   {
    "duration": 5,
    "start_time": "2021-11-02T08:11:43.868Z"
   },
   {
    "duration": 4,
    "start_time": "2021-11-02T08:12:16.246Z"
   },
   {
    "duration": 5,
    "start_time": "2021-11-02T08:12:36.852Z"
   },
   {
    "duration": 6,
    "start_time": "2021-11-02T08:13:14.055Z"
   },
   {
    "duration": 4,
    "start_time": "2021-11-02T08:14:04.718Z"
   },
   {
    "duration": 5,
    "start_time": "2021-11-02T08:15:01.231Z"
   },
   {
    "duration": 4,
    "start_time": "2021-11-02T08:15:59.694Z"
   },
   {
    "duration": 5,
    "start_time": "2021-11-02T08:17:27.175Z"
   },
   {
    "duration": 6,
    "start_time": "2021-11-02T08:27:13.585Z"
   },
   {
    "duration": 183,
    "start_time": "2021-11-02T08:28:12.477Z"
   },
   {
    "duration": 3,
    "start_time": "2021-11-02T08:28:21.338Z"
   },
   {
    "duration": 5,
    "start_time": "2021-11-02T08:28:21.881Z"
   },
   {
    "duration": 65,
    "start_time": "2021-11-02T08:28:46.852Z"
   },
   {
    "duration": 4,
    "start_time": "2021-11-02T08:29:43.602Z"
   },
   {
    "duration": 6,
    "start_time": "2021-11-02T08:29:45.377Z"
   },
   {
    "duration": 5,
    "start_time": "2021-11-02T08:29:46.714Z"
   },
   {
    "duration": 185,
    "start_time": "2021-11-02T08:34:09.036Z"
   },
   {
    "duration": 3,
    "start_time": "2021-11-02T08:34:15.621Z"
   },
   {
    "duration": 3,
    "start_time": "2021-11-02T08:34:16.115Z"
   },
   {
    "duration": 5,
    "start_time": "2021-11-02T08:34:16.906Z"
   },
   {
    "duration": 5,
    "start_time": "2021-11-02T08:34:17.682Z"
   },
   {
    "duration": 4,
    "start_time": "2021-11-02T08:34:18.982Z"
   },
   {
    "duration": 4,
    "start_time": "2021-11-02T08:34:45.988Z"
   },
   {
    "duration": 1530,
    "start_time": "2021-11-02T09:19:19.312Z"
   },
   {
    "duration": 24,
    "start_time": "2021-11-02T09:20:22.630Z"
   },
   {
    "duration": 1323,
    "start_time": "2021-11-02T09:20:36.734Z"
   },
   {
    "duration": 4,
    "start_time": "2021-11-02T09:20:59.791Z"
   },
   {
    "duration": 4,
    "start_time": "2021-11-02T09:21:00.579Z"
   },
   {
    "duration": 1457,
    "start_time": "2021-11-02T09:21:01.658Z"
   },
   {
    "duration": 1383,
    "start_time": "2021-11-02T09:23:28.248Z"
   },
   {
    "duration": 1461,
    "start_time": "2021-11-02T09:23:33.872Z"
   },
   {
    "duration": 7,
    "start_time": "2021-11-02T09:23:36.743Z"
   },
   {
    "duration": 199,
    "start_time": "2021-11-02T09:37:44.550Z"
   },
   {
    "duration": 13,
    "start_time": "2021-11-02T09:38:35.541Z"
   },
   {
    "duration": 32,
    "start_time": "2021-11-02T09:38:52.728Z"
   },
   {
    "duration": 180,
    "start_time": "2021-11-02T09:40:46.383Z"
   },
   {
    "duration": 183,
    "start_time": "2021-11-02T09:41:09.476Z"
   },
   {
    "duration": 193,
    "start_time": "2021-11-02T09:41:39.526Z"
   },
   {
    "duration": 174,
    "start_time": "2021-11-02T09:49:33.360Z"
   },
   {
    "duration": 63,
    "start_time": "2021-11-02T09:55:19.794Z"
   },
   {
    "duration": 10,
    "start_time": "2021-11-02T09:55:29.976Z"
   },
   {
    "duration": 13,
    "start_time": "2021-11-02T09:55:59.400Z"
   },
   {
    "duration": 11,
    "start_time": "2021-11-02T09:57:03.186Z"
   },
   {
    "duration": 11,
    "start_time": "2021-11-02T10:04:13.645Z"
   },
   {
    "duration": 19,
    "start_time": "2021-11-02T10:04:26.409Z"
   },
   {
    "duration": 12,
    "start_time": "2021-11-02T10:07:11.795Z"
   },
   {
    "duration": 12,
    "start_time": "2021-11-02T10:07:43.332Z"
   },
   {
    "duration": 18,
    "start_time": "2021-11-02T10:09:31.493Z"
   },
   {
    "duration": 186,
    "start_time": "2021-11-02T10:10:16.236Z"
   },
   {
    "duration": 192,
    "start_time": "2021-11-02T10:10:24.804Z"
   },
   {
    "duration": 175,
    "start_time": "2021-11-02T10:10:42.496Z"
   },
   {
    "duration": 17,
    "start_time": "2021-11-02T10:10:48.381Z"
   },
   {
    "duration": 203,
    "start_time": "2021-11-02T10:12:36.197Z"
   },
   {
    "duration": 43,
    "start_time": "2021-11-02T10:12:50.751Z"
   },
   {
    "duration": 38,
    "start_time": "2021-11-02T10:13:48.193Z"
   },
   {
    "duration": 232,
    "start_time": "2021-11-02T10:15:33.992Z"
   },
   {
    "duration": 236,
    "start_time": "2021-11-02T10:15:58.419Z"
   },
   {
    "duration": 20,
    "start_time": "2021-11-02T10:16:15.633Z"
   },
   {
    "duration": 322,
    "start_time": "2021-11-02T10:16:16.791Z"
   },
   {
    "duration": 187,
    "start_time": "2021-11-02T10:17:36.698Z"
   },
   {
    "duration": 181,
    "start_time": "2021-11-02T10:17:57.167Z"
   },
   {
    "duration": 21,
    "start_time": "2021-11-02T10:18:20.238Z"
   },
   {
    "duration": 19,
    "start_time": "2021-11-02T10:18:37.262Z"
   },
   {
    "duration": 20,
    "start_time": "2021-11-02T10:19:14.630Z"
   },
   {
    "duration": 18,
    "start_time": "2021-11-02T10:19:26.383Z"
   },
   {
    "duration": 9,
    "start_time": "2021-11-02T10:29:24.825Z"
   },
   {
    "duration": 12,
    "start_time": "2021-11-02T10:30:02.019Z"
   },
   {
    "duration": 9,
    "start_time": "2021-11-02T10:30:25.320Z"
   },
   {
    "duration": 11,
    "start_time": "2021-11-02T10:33:14.265Z"
   },
   {
    "duration": 3,
    "start_time": "2021-11-02T10:45:04.372Z"
   },
   {
    "duration": 866,
    "start_time": "2021-11-02T10:46:54.550Z"
   },
   {
    "duration": 5,
    "start_time": "2021-11-02T10:47:09.101Z"
   },
   {
    "duration": 4380,
    "start_time": "2021-11-02T10:47:17.548Z"
   },
   {
    "duration": 5,
    "start_time": "2021-11-02T10:51:58.994Z"
   },
   {
    "duration": 198,
    "start_time": "2021-11-02T10:54:16.359Z"
   },
   {
    "duration": 923,
    "start_time": "2021-11-02T10:54:58.737Z"
   },
   {
    "duration": 193,
    "start_time": "2021-11-02T10:57:43.769Z"
   },
   {
    "duration": 197,
    "start_time": "2021-11-02T11:01:38.819Z"
   },
   {
    "duration": 21,
    "start_time": "2021-11-02T11:02:06.149Z"
   },
   {
    "duration": 217,
    "start_time": "2021-11-02T11:06:40.098Z"
   },
   {
    "duration": 7,
    "start_time": "2021-11-02T11:07:12.202Z"
   },
   {
    "duration": 8,
    "start_time": "2021-11-02T11:07:30.778Z"
   },
   {
    "duration": 5,
    "start_time": "2021-11-02T11:07:47.731Z"
   },
   {
    "duration": 3,
    "start_time": "2021-11-02T11:07:48.448Z"
   },
   {
    "duration": 19,
    "start_time": "2021-11-02T11:07:49.249Z"
   },
   {
    "duration": 641,
    "start_time": "2021-11-02T11:07:49.739Z"
   },
   {
    "duration": 9,
    "start_time": "2021-11-02T11:07:50.383Z"
   },
   {
    "duration": 3,
    "start_time": "2021-11-02T11:07:50.706Z"
   },
   {
    "duration": 9,
    "start_time": "2021-11-02T11:07:51.394Z"
   },
   {
    "duration": 4,
    "start_time": "2021-11-02T11:07:51.876Z"
   },
   {
    "duration": 5,
    "start_time": "2021-11-02T11:07:52.356Z"
   },
   {
    "duration": 4,
    "start_time": "2021-11-02T11:07:52.972Z"
   },
   {
    "duration": 1387,
    "start_time": "2021-11-02T11:07:53.850Z"
   },
   {
    "duration": 7,
    "start_time": "2021-11-02T11:07:55.239Z"
   },
   {
    "duration": 21,
    "start_time": "2021-11-02T11:08:09.356Z"
   },
   {
    "duration": 19,
    "start_time": "2021-11-02T11:08:18.867Z"
   },
   {
    "duration": 9,
    "start_time": "2021-11-02T11:08:21.520Z"
   },
   {
    "duration": 38,
    "start_time": "2021-11-02T11:08:27.989Z"
   },
   {
    "duration": 9,
    "start_time": "2021-11-02T11:08:34.075Z"
   },
   {
    "duration": 36,
    "start_time": "2021-11-02T11:11:27.525Z"
   },
   {
    "duration": 63,
    "start_time": "2021-11-02T11:11:57.806Z"
   },
   {
    "duration": 12,
    "start_time": "2021-11-02T11:22:09.071Z"
   },
   {
    "duration": 2,
    "start_time": "2021-11-02T11:22:36.224Z"
   },
   {
    "duration": 41,
    "start_time": "2021-11-02T11:22:37.000Z"
   },
   {
    "duration": 12,
    "start_time": "2021-11-02T11:22:37.675Z"
   },
   {
    "duration": 10,
    "start_time": "2021-11-02T11:22:40.695Z"
   },
   {
    "duration": 11,
    "start_time": "2021-11-02T11:22:41.732Z"
   },
   {
    "duration": 21,
    "start_time": "2021-11-02T11:22:42.761Z"
   },
   {
    "duration": 21,
    "start_time": "2021-11-02T11:22:44.175Z"
   },
   {
    "duration": 21,
    "start_time": "2021-11-02T11:22:48.173Z"
   },
   {
    "duration": 22,
    "start_time": "2021-11-02T11:22:49.337Z"
   },
   {
    "duration": 9,
    "start_time": "2021-11-02T11:22:50.464Z"
   },
   {
    "duration": 8,
    "start_time": "2021-11-02T11:22:51.390Z"
   },
   {
    "duration": 8,
    "start_time": "2021-11-02T11:22:52.246Z"
   },
   {
    "duration": 11,
    "start_time": "2021-11-02T11:22:53.143Z"
   },
   {
    "duration": 8,
    "start_time": "2021-11-02T11:22:53.991Z"
   },
   {
    "duration": 4,
    "start_time": "2021-11-02T11:22:55.336Z"
   },
   {
    "duration": 8,
    "start_time": "2021-11-02T11:22:56.176Z"
   },
   {
    "duration": 4,
    "start_time": "2021-11-02T11:22:57.158Z"
   },
   {
    "duration": 8,
    "start_time": "2021-11-02T11:22:58.030Z"
   },
   {
    "duration": 4,
    "start_time": "2021-11-02T11:22:59.016Z"
   },
   {
    "duration": 5,
    "start_time": "2021-11-02T11:22:59.855Z"
   },
   {
    "duration": 10,
    "start_time": "2021-11-02T11:23:00.851Z"
   },
   {
    "duration": 5,
    "start_time": "2021-11-02T11:23:01.888Z"
   },
   {
    "duration": 5,
    "start_time": "2021-11-02T11:23:02.824Z"
   },
   {
    "duration": 8,
    "start_time": "2021-11-02T11:23:03.522Z"
   },
   {
    "duration": 5,
    "start_time": "2021-11-02T11:23:04.304Z"
   },
   {
    "duration": 9,
    "start_time": "2021-11-02T11:23:05.120Z"
   },
   {
    "duration": 4,
    "start_time": "2021-11-02T11:23:05.832Z"
   },
   {
    "duration": 8,
    "start_time": "2021-11-02T11:23:06.598Z"
   },
   {
    "duration": 8,
    "start_time": "2021-11-02T11:23:07.287Z"
   },
   {
    "duration": 4,
    "start_time": "2021-11-02T11:23:08.143Z"
   },
   {
    "duration": 9,
    "start_time": "2021-11-02T11:23:08.918Z"
   },
   {
    "duration": 4,
    "start_time": "2021-11-02T11:23:09.521Z"
   },
   {
    "duration": 9,
    "start_time": "2021-11-02T11:23:10.051Z"
   },
   {
    "duration": 4,
    "start_time": "2021-11-02T11:23:10.695Z"
   },
   {
    "duration": 8,
    "start_time": "2021-11-02T11:23:11.492Z"
   },
   {
    "duration": 5,
    "start_time": "2021-11-02T11:23:12.200Z"
   },
   {
    "duration": 10,
    "start_time": "2021-11-02T11:23:12.886Z"
   },
   {
    "duration": 4,
    "start_time": "2021-11-02T11:23:13.583Z"
   },
   {
    "duration": 9,
    "start_time": "2021-11-02T11:23:14.470Z"
   },
   {
    "duration": 6,
    "start_time": "2021-11-02T11:23:15.346Z"
   },
   {
    "duration": 28,
    "start_time": "2021-11-02T11:23:16.114Z"
   },
   {
    "duration": 2,
    "start_time": "2021-11-02T11:23:16.792Z"
   },
   {
    "duration": 10,
    "start_time": "2021-11-02T11:23:19.065Z"
   },
   {
    "duration": 3,
    "start_time": "2021-11-02T11:23:20.301Z"
   },
   {
    "duration": 11,
    "start_time": "2021-11-02T11:23:21.015Z"
   },
   {
    "duration": 9,
    "start_time": "2021-11-02T11:23:25.248Z"
   },
   {
    "duration": 2,
    "start_time": "2021-11-02T11:23:26.042Z"
   },
   {
    "duration": 217,
    "start_time": "2021-11-02T11:23:27.289Z"
   },
   {
    "duration": 7,
    "start_time": "2021-11-02T11:23:28.182Z"
   },
   {
    "duration": 5,
    "start_time": "2021-11-02T11:23:28.840Z"
   },
   {
    "duration": 3,
    "start_time": "2021-11-02T11:23:29.318Z"
   },
   {
    "duration": 19,
    "start_time": "2021-11-02T11:23:29.902Z"
   },
   {
    "duration": 652,
    "start_time": "2021-11-02T11:23:30.385Z"
   },
   {
    "duration": 3,
    "start_time": "2021-11-02T11:23:31.039Z"
   },
   {
    "duration": 3,
    "start_time": "2021-11-02T11:23:31.383Z"
   },
   {
    "duration": 8,
    "start_time": "2021-11-02T11:23:31.928Z"
   },
   {
    "duration": 4,
    "start_time": "2021-11-02T11:23:32.432Z"
   },
   {
    "duration": 4,
    "start_time": "2021-11-02T11:23:32.967Z"
   },
   {
    "duration": 4,
    "start_time": "2021-11-02T11:23:33.651Z"
   },
   {
    "duration": 1392,
    "start_time": "2021-11-02T11:23:36.223Z"
   },
   {
    "duration": 7,
    "start_time": "2021-11-02T11:23:37.617Z"
   },
   {
    "duration": 20,
    "start_time": "2021-11-02T11:23:40.661Z"
   },
   {
    "duration": 22,
    "start_time": "2021-11-02T11:23:41.497Z"
   },
   {
    "duration": 10,
    "start_time": "2021-11-02T11:23:42.718Z"
   },
   {
    "duration": 42,
    "start_time": "2021-11-02T11:23:48.449Z"
   },
   {
    "duration": 10,
    "start_time": "2021-11-02T11:23:49.313Z"
   },
   {
    "duration": 63,
    "start_time": "2021-11-02T11:23:55.745Z"
   },
   {
    "duration": 2783,
    "start_time": "2021-11-02T11:24:39.144Z"
   },
   {
    "duration": 193,
    "start_time": "2021-11-02T11:26:26.676Z"
   },
   {
    "duration": 317,
    "start_time": "2021-11-03T08:52:28.463Z"
   },
   {
    "duration": 752,
    "start_time": "2021-11-03T08:52:35.223Z"
   },
   {
    "duration": 56,
    "start_time": "2021-11-03T08:52:35.977Z"
   },
   {
    "duration": 27,
    "start_time": "2021-11-03T08:52:36.382Z"
   },
   {
    "duration": 15,
    "start_time": "2021-11-03T08:52:38.992Z"
   },
   {
    "duration": 14,
    "start_time": "2021-11-03T08:52:39.392Z"
   },
   {
    "duration": 32,
    "start_time": "2021-11-03T08:52:39.806Z"
   },
   {
    "duration": 34,
    "start_time": "2021-11-03T08:52:40.229Z"
   },
   {
    "duration": 35,
    "start_time": "2021-11-03T08:52:40.635Z"
   },
   {
    "duration": 34,
    "start_time": "2021-11-03T08:52:41.197Z"
   },
   {
    "duration": 11,
    "start_time": "2021-11-03T08:52:41.582Z"
   },
   {
    "duration": 13,
    "start_time": "2021-11-03T08:52:41.801Z"
   },
   {
    "duration": 12,
    "start_time": "2021-11-03T08:52:41.981Z"
   },
   {
    "duration": 15,
    "start_time": "2021-11-03T08:52:42.166Z"
   },
   {
    "duration": 11,
    "start_time": "2021-11-03T08:52:42.336Z"
   },
   {
    "duration": 5,
    "start_time": "2021-11-03T08:52:42.718Z"
   },
   {
    "duration": 11,
    "start_time": "2021-11-03T08:52:42.927Z"
   },
   {
    "duration": 5,
    "start_time": "2021-11-03T08:52:43.142Z"
   },
   {
    "duration": 13,
    "start_time": "2021-11-03T08:52:43.351Z"
   },
   {
    "duration": 6,
    "start_time": "2021-11-03T08:52:43.861Z"
   },
   {
    "duration": 7,
    "start_time": "2021-11-03T08:52:44.050Z"
   },
   {
    "duration": 15,
    "start_time": "2021-11-03T08:52:44.242Z"
   },
   {
    "duration": 7,
    "start_time": "2021-11-03T08:52:44.429Z"
   },
   {
    "duration": 6,
    "start_time": "2021-11-03T08:52:44.637Z"
   },
   {
    "duration": 11,
    "start_time": "2021-11-03T08:52:44.836Z"
   },
   {
    "duration": 6,
    "start_time": "2021-11-03T08:52:45.030Z"
   },
   {
    "duration": 15,
    "start_time": "2021-11-03T08:52:45.228Z"
   },
   {
    "duration": 5,
    "start_time": "2021-11-03T08:52:45.446Z"
   },
   {
    "duration": 12,
    "start_time": "2021-11-03T08:52:45.667Z"
   },
   {
    "duration": 13,
    "start_time": "2021-11-03T08:52:45.880Z"
   },
   {
    "duration": 7,
    "start_time": "2021-11-03T08:52:46.082Z"
   },
   {
    "duration": 14,
    "start_time": "2021-11-03T08:52:46.289Z"
   },
   {
    "duration": 6,
    "start_time": "2021-11-03T08:52:46.484Z"
   },
   {
    "duration": 14,
    "start_time": "2021-11-03T08:52:46.689Z"
   },
   {
    "duration": 7,
    "start_time": "2021-11-03T08:52:46.893Z"
   },
   {
    "duration": 14,
    "start_time": "2021-11-03T08:52:47.104Z"
   },
   {
    "duration": 6,
    "start_time": "2021-11-03T08:52:47.323Z"
   },
   {
    "duration": 11,
    "start_time": "2021-11-03T08:52:47.520Z"
   },
   {
    "duration": 5,
    "start_time": "2021-11-03T08:52:47.735Z"
   },
   {
    "duration": 13,
    "start_time": "2021-11-03T08:52:47.924Z"
   },
   {
    "duration": 6,
    "start_time": "2021-11-03T08:52:48.122Z"
   },
   {
    "duration": 39,
    "start_time": "2021-11-03T08:52:48.338Z"
   },
   {
    "duration": 3,
    "start_time": "2021-11-03T08:52:48.557Z"
   },
   {
    "duration": 16,
    "start_time": "2021-11-03T08:52:50.572Z"
   },
   {
    "duration": 5,
    "start_time": "2021-11-03T08:52:51.070Z"
   },
   {
    "duration": 14,
    "start_time": "2021-11-03T08:52:51.256Z"
   },
   {
    "duration": 11,
    "start_time": "2021-11-03T08:52:55.847Z"
   },
   {
    "duration": 3,
    "start_time": "2021-11-03T08:52:56.401Z"
   },
   {
    "duration": 390,
    "start_time": "2021-11-03T08:52:56.639Z"
   },
   {
    "duration": 10,
    "start_time": "2021-11-03T08:52:57.228Z"
   },
   {
    "duration": 9,
    "start_time": "2021-11-03T08:52:58.348Z"
   },
   {
    "duration": 8,
    "start_time": "2021-11-03T08:53:00.381Z"
   },
   {
    "duration": 4,
    "start_time": "2021-11-03T08:53:03.408Z"
   },
   {
    "duration": 897,
    "start_time": "2021-11-03T08:53:03.900Z"
   },
   {
    "duration": 5,
    "start_time": "2021-11-03T08:53:12.344Z"
   },
   {
    "duration": 4,
    "start_time": "2021-11-03T08:53:13.468Z"
   },
   {
    "duration": 13,
    "start_time": "2021-11-03T08:53:43.052Z"
   },
   {
    "duration": 6,
    "start_time": "2021-11-03T08:53:43.638Z"
   },
   {
    "duration": 7,
    "start_time": "2021-11-03T08:53:44.333Z"
   },
   {
    "duration": 5,
    "start_time": "2021-11-03T08:53:45.048Z"
   },
   {
    "duration": 1934,
    "start_time": "2021-11-03T08:53:45.813Z"
   },
   {
    "duration": 13,
    "start_time": "2021-11-03T08:54:55.631Z"
   },
   {
    "duration": 7,
    "start_time": "2021-11-03T08:55:26.262Z"
   },
   {
    "duration": 19,
    "start_time": "2021-11-03T08:57:25.178Z"
   },
   {
    "duration": 8,
    "start_time": "2021-11-03T08:57:57.090Z"
   },
   {
    "duration": 3,
    "start_time": "2021-11-03T08:57:57.990Z"
   },
   {
    "duration": 24,
    "start_time": "2021-11-03T08:57:58.541Z"
   },
   {
    "duration": 905,
    "start_time": "2021-11-03T08:57:58.982Z"
   },
   {
    "duration": 5,
    "start_time": "2021-11-03T08:57:59.890Z"
   },
   {
    "duration": 12,
    "start_time": "2021-11-03T08:57:59.898Z"
   },
   {
    "duration": 7,
    "start_time": "2021-11-03T08:58:00.286Z"
   },
   {
    "duration": 5,
    "start_time": "2021-11-03T08:58:00.726Z"
   },
   {
    "duration": 6,
    "start_time": "2021-11-03T08:58:01.165Z"
   },
   {
    "duration": 5,
    "start_time": "2021-11-03T08:58:01.570Z"
   },
   {
    "duration": 1910,
    "start_time": "2021-11-03T08:58:01.997Z"
   },
   {
    "duration": 27,
    "start_time": "2021-11-03T08:58:03.910Z"
   },
   {
    "duration": 34,
    "start_time": "2021-11-03T08:58:04.342Z"
   },
   {
    "duration": 29,
    "start_time": "2021-11-03T08:58:05.374Z"
   },
   {
    "duration": 14,
    "start_time": "2021-11-03T08:58:07.038Z"
   },
   {
    "duration": 62,
    "start_time": "2021-11-03T08:58:13.296Z"
   },
   {
    "duration": 16,
    "start_time": "2021-11-03T08:58:17.895Z"
   },
   {
    "duration": 289,
    "start_time": "2021-11-03T08:58:23.482Z"
   },
   {
    "duration": 32,
    "start_time": "2021-11-03T08:59:24.437Z"
   },
   {
    "duration": 15,
    "start_time": "2021-11-03T08:59:39.310Z"
   },
   {
    "duration": 34,
    "start_time": "2021-11-03T09:03:03.586Z"
   },
   {
    "duration": 15,
    "start_time": "2021-11-03T09:03:55.938Z"
   },
   {
    "duration": 4,
    "start_time": "2021-11-03T09:07:53.147Z"
   },
   {
    "duration": 54,
    "start_time": "2021-11-03T09:07:54.018Z"
   },
   {
    "duration": 18,
    "start_time": "2021-11-03T09:07:57.428Z"
   },
   {
    "duration": 4,
    "start_time": "2021-11-03T11:39:57.423Z"
   },
   {
    "duration": 55,
    "start_time": "2021-11-03T11:39:58.177Z"
   },
   {
    "duration": 17,
    "start_time": "2021-11-03T11:39:58.863Z"
   },
   {
    "duration": 15,
    "start_time": "2021-11-03T11:40:09.584Z"
   },
   {
    "duration": 15,
    "start_time": "2021-11-03T11:40:10.253Z"
   },
   {
    "duration": 34,
    "start_time": "2021-11-03T11:40:11.056Z"
   },
   {
    "duration": 34,
    "start_time": "2021-11-03T11:40:11.634Z"
   },
   {
    "duration": 35,
    "start_time": "2021-11-03T11:40:12.276Z"
   },
   {
    "duration": 36,
    "start_time": "2021-11-03T11:40:12.831Z"
   },
   {
    "duration": 12,
    "start_time": "2021-11-03T11:40:13.474Z"
   },
   {
    "duration": 12,
    "start_time": "2021-11-03T11:40:14.046Z"
   },
   {
    "duration": 12,
    "start_time": "2021-11-03T11:40:14.712Z"
   },
   {
    "duration": 15,
    "start_time": "2021-11-03T11:40:15.246Z"
   },
   {
    "duration": 11,
    "start_time": "2021-11-03T11:40:15.907Z"
   },
   {
    "duration": 5,
    "start_time": "2021-11-03T11:40:16.642Z"
   },
   {
    "duration": 11,
    "start_time": "2021-11-03T11:40:17.246Z"
   },
   {
    "duration": 5,
    "start_time": "2021-11-03T11:40:17.704Z"
   },
   {
    "duration": 10,
    "start_time": "2021-11-03T11:40:18.240Z"
   },
   {
    "duration": 6,
    "start_time": "2021-11-03T11:40:18.691Z"
   },
   {
    "duration": 7,
    "start_time": "2021-11-03T11:40:19.211Z"
   },
   {
    "duration": 11,
    "start_time": "2021-11-03T11:40:19.681Z"
   },
   {
    "duration": 5,
    "start_time": "2021-11-03T11:40:20.136Z"
   },
   {
    "duration": 12,
    "start_time": "2021-11-03T11:40:20.687Z"
   },
   {
    "duration": 10,
    "start_time": "2021-11-03T11:40:21.135Z"
   },
   {
    "duration": 6,
    "start_time": "2021-11-03T11:40:21.601Z"
   },
   {
    "duration": 12,
    "start_time": "2021-11-03T11:40:22.086Z"
   },
   {
    "duration": 6,
    "start_time": "2021-11-03T11:40:22.566Z"
   },
   {
    "duration": 13,
    "start_time": "2021-11-03T11:40:23.023Z"
   },
   {
    "duration": 6,
    "start_time": "2021-11-03T11:40:23.519Z"
   },
   {
    "duration": 12,
    "start_time": "2021-11-03T11:40:24.024Z"
   },
   {
    "duration": 6,
    "start_time": "2021-11-03T11:40:24.448Z"
   },
   {
    "duration": 11,
    "start_time": "2021-11-03T11:40:24.902Z"
   },
   {
    "duration": 7,
    "start_time": "2021-11-03T11:40:25.391Z"
   },
   {
    "duration": 12,
    "start_time": "2021-11-03T11:40:25.878Z"
   },
   {
    "duration": 14,
    "start_time": "2021-11-03T11:40:26.438Z"
   },
   {
    "duration": 8,
    "start_time": "2021-11-03T11:40:26.919Z"
   },
   {
    "duration": 41,
    "start_time": "2021-11-03T11:40:27.351Z"
   },
   {
    "duration": 3,
    "start_time": "2021-11-03T11:40:27.800Z"
   },
   {
    "duration": 14,
    "start_time": "2021-11-03T11:40:29.798Z"
   },
   {
    "duration": 5,
    "start_time": "2021-11-03T11:40:30.273Z"
   },
   {
    "duration": 15,
    "start_time": "2021-11-03T11:40:30.750Z"
   },
   {
    "duration": 6,
    "start_time": "2021-11-03T11:40:32.974Z"
   },
   {
    "duration": 14,
    "start_time": "2021-11-03T11:40:33.429Z"
   },
   {
    "duration": 7,
    "start_time": "2021-11-03T11:40:33.961Z"
   },
   {
    "duration": 7,
    "start_time": "2021-11-03T11:40:34.425Z"
   },
   {
    "duration": 15,
    "start_time": "2021-11-03T11:40:34.911Z"
   },
   {
    "duration": 11,
    "start_time": "2021-11-03T11:40:36.822Z"
   },
   {
    "duration": 3,
    "start_time": "2021-11-03T11:40:37.264Z"
   },
   {
    "duration": 385,
    "start_time": "2021-11-03T11:40:37.739Z"
   },
   {
    "duration": 11,
    "start_time": "2021-11-03T11:40:38.231Z"
   },
   {
    "duration": 16,
    "start_time": "2021-11-03T11:40:38.703Z"
   },
   {
    "duration": 6,
    "start_time": "2021-11-03T11:40:39.200Z"
   },
   {
    "duration": 7,
    "start_time": "2021-11-03T11:40:39.698Z"
   },
   {
    "duration": 3,
    "start_time": "2021-11-03T11:40:40.192Z"
   },
   {
    "duration": 27,
    "start_time": "2021-11-03T11:40:40.663Z"
   },
   {
    "duration": 1017,
    "start_time": "2021-11-03T11:40:41.134Z"
   },
   {
    "duration": 4,
    "start_time": "2021-11-03T11:40:42.155Z"
   },
   {
    "duration": 13,
    "start_time": "2021-11-03T11:40:42.162Z"
   },
   {
    "duration": 13,
    "start_time": "2021-11-03T11:40:42.504Z"
   },
   {
    "duration": 6,
    "start_time": "2021-11-03T11:40:42.953Z"
   },
   {
    "duration": 8,
    "start_time": "2021-11-03T11:40:43.391Z"
   },
   {
    "duration": 6,
    "start_time": "2021-11-03T11:40:43.810Z"
   },
   {
    "duration": 1950,
    "start_time": "2021-11-03T11:40:44.254Z"
   },
   {
    "duration": 25,
    "start_time": "2021-11-03T11:40:46.206Z"
   },
   {
    "duration": 35,
    "start_time": "2021-11-03T11:40:47.769Z"
   },
   {
    "duration": 35,
    "start_time": "2021-11-03T11:40:48.554Z"
   },
   {
    "duration": 13,
    "start_time": "2021-11-03T11:40:49.060Z"
   },
   {
    "duration": 61,
    "start_time": "2021-11-03T11:40:51.128Z"
   },
   {
    "duration": 15,
    "start_time": "2021-11-03T11:40:51.641Z"
   },
   {
    "duration": 33,
    "start_time": "2021-11-03T11:40:53.393Z"
   },
   {
    "duration": 15,
    "start_time": "2021-11-03T11:40:53.838Z"
   },
   {
    "duration": 31,
    "start_time": "2021-11-03T11:40:55.912Z"
   },
   {
    "duration": 14,
    "start_time": "2021-11-03T11:40:56.473Z"
   },
   {
    "duration": 827,
    "start_time": "2021-11-03T19:18:12.326Z"
   },
   {
    "duration": 58,
    "start_time": "2021-11-03T19:18:13.156Z"
   },
   {
    "duration": 28,
    "start_time": "2021-11-03T19:18:13.221Z"
   },
   {
    "duration": 15,
    "start_time": "2021-11-03T19:18:13.252Z"
   },
   {
    "duration": 16,
    "start_time": "2021-11-03T19:18:13.270Z"
   },
   {
    "duration": 35,
    "start_time": "2021-11-03T19:18:13.322Z"
   },
   {
    "duration": 65,
    "start_time": "2021-11-03T19:18:13.360Z"
   },
   {
    "duration": 35,
    "start_time": "2021-11-03T19:18:13.428Z"
   },
   {
    "duration": 64,
    "start_time": "2021-11-03T19:18:13.465Z"
   },
   {
    "duration": 12,
    "start_time": "2021-11-03T19:18:13.531Z"
   },
   {
    "duration": 13,
    "start_time": "2021-11-03T19:18:13.545Z"
   },
   {
    "duration": 12,
    "start_time": "2021-11-03T19:18:13.560Z"
   },
   {
    "duration": 51,
    "start_time": "2021-11-03T19:18:13.574Z"
   },
   {
    "duration": 10,
    "start_time": "2021-11-03T19:18:13.627Z"
   },
   {
    "duration": 6,
    "start_time": "2021-11-03T19:18:13.639Z"
   },
   {
    "duration": 14,
    "start_time": "2021-11-03T19:18:13.648Z"
   },
   {
    "duration": 5,
    "start_time": "2021-11-03T19:18:13.665Z"
   },
   {
    "duration": 57,
    "start_time": "2021-11-03T19:18:13.672Z"
   },
   {
    "duration": 5,
    "start_time": "2021-11-03T19:18:13.732Z"
   },
   {
    "duration": 18,
    "start_time": "2021-11-03T19:18:13.739Z"
   },
   {
    "duration": 11,
    "start_time": "2021-11-03T19:18:13.759Z"
   },
   {
    "duration": 4,
    "start_time": "2021-11-03T19:18:13.773Z"
   },
   {
    "duration": 47,
    "start_time": "2021-11-03T19:18:13.783Z"
   },
   {
    "duration": 11,
    "start_time": "2021-11-03T19:18:13.834Z"
   },
   {
    "duration": 7,
    "start_time": "2021-11-03T19:18:13.847Z"
   },
   {
    "duration": 13,
    "start_time": "2021-11-03T19:18:13.856Z"
   },
   {
    "duration": 52,
    "start_time": "2021-11-03T19:18:13.872Z"
   },
   {
    "duration": 13,
    "start_time": "2021-11-03T19:18:13.927Z"
   },
   {
    "duration": 10,
    "start_time": "2021-11-03T19:18:13.942Z"
   },
   {
    "duration": 12,
    "start_time": "2021-11-03T19:18:13.955Z"
   },
   {
    "duration": 8,
    "start_time": "2021-11-03T19:18:13.969Z"
   },
   {
    "duration": 52,
    "start_time": "2021-11-03T19:18:13.980Z"
   },
   {
    "duration": 5,
    "start_time": "2021-11-03T19:18:14.035Z"
   },
   {
    "duration": 14,
    "start_time": "2021-11-03T19:18:14.043Z"
   },
   {
    "duration": 14,
    "start_time": "2021-11-03T19:18:14.060Z"
   },
   {
    "duration": 48,
    "start_time": "2021-11-03T19:18:14.076Z"
   },
   {
    "duration": 37,
    "start_time": "2021-11-03T19:18:14.126Z"
   },
   {
    "duration": 3,
    "start_time": "2021-11-03T19:18:14.166Z"
   },
   {
    "duration": 19,
    "start_time": "2021-11-03T19:18:14.172Z"
   },
   {
    "duration": 6,
    "start_time": "2021-11-03T19:18:14.223Z"
   },
   {
    "duration": 20,
    "start_time": "2021-11-03T19:18:14.232Z"
   },
   {
    "duration": 13,
    "start_time": "2021-11-03T19:18:14.255Z"
   },
   {
    "duration": 17,
    "start_time": "2021-11-03T19:18:14.270Z"
   },
   {
    "duration": 39,
    "start_time": "2021-11-03T19:18:14.289Z"
   },
   {
    "duration": 7,
    "start_time": "2021-11-03T19:18:14.330Z"
   },
   {
    "duration": 13,
    "start_time": "2021-11-03T19:18:14.339Z"
   },
   {
    "duration": 11,
    "start_time": "2021-11-03T19:18:14.354Z"
   },
   {
    "duration": 3,
    "start_time": "2021-11-03T19:18:14.367Z"
   },
   {
    "duration": 414,
    "start_time": "2021-11-03T19:18:14.373Z"
   },
   {
    "duration": 9,
    "start_time": "2021-11-03T19:18:14.790Z"
   },
   {
    "duration": 25,
    "start_time": "2021-11-03T19:18:14.801Z"
   },
   {
    "duration": 5,
    "start_time": "2021-11-03T19:18:14.828Z"
   },
   {
    "duration": 10,
    "start_time": "2021-11-03T19:18:14.836Z"
   },
   {
    "duration": 8,
    "start_time": "2021-11-03T19:18:14.849Z"
   },
   {
    "duration": 3,
    "start_time": "2021-11-03T19:18:14.859Z"
   },
   {
    "duration": 928,
    "start_time": "2021-11-03T19:18:14.864Z"
   },
   {
    "duration": 5,
    "start_time": "2021-11-03T19:18:15.795Z"
   },
   {
    "duration": 10,
    "start_time": "2021-11-03T19:18:15.802Z"
   },
   {
    "duration": 12,
    "start_time": "2021-11-03T19:18:15.823Z"
   },
   {
    "duration": 7,
    "start_time": "2021-11-03T19:18:15.837Z"
   },
   {
    "duration": 6,
    "start_time": "2021-11-03T19:18:15.847Z"
   },
   {
    "duration": 8,
    "start_time": "2021-11-03T19:18:15.856Z"
   },
   {
    "duration": 2179,
    "start_time": "2021-11-03T19:18:15.867Z"
   },
   {
    "duration": 18,
    "start_time": "2021-11-03T19:18:18.055Z"
   },
   {
    "duration": 89,
    "start_time": "2021-11-03T19:18:18.076Z"
   },
   {
    "duration": 54,
    "start_time": "2021-11-03T19:18:18.169Z"
   },
   {
    "duration": 19,
    "start_time": "2021-11-03T19:18:18.226Z"
   },
   {
    "duration": 75,
    "start_time": "2021-11-03T19:18:18.253Z"
   },
   {
    "duration": 13,
    "start_time": "2021-11-03T19:18:18.331Z"
   },
   {
    "duration": 32,
    "start_time": "2021-11-03T19:18:18.347Z"
   },
   {
    "duration": 42,
    "start_time": "2021-11-03T19:18:18.381Z"
   },
   {
    "duration": 28,
    "start_time": "2021-11-03T19:18:18.426Z"
   },
   {
    "duration": 12,
    "start_time": "2021-11-03T19:18:18.457Z"
   },
   {
    "duration": 679,
    "start_time": "2021-11-03T19:21:08.887Z"
   },
   {
    "duration": 43,
    "start_time": "2021-11-03T19:21:09.568Z"
   },
   {
    "duration": 17,
    "start_time": "2021-11-03T19:21:09.613Z"
   },
   {
    "duration": 27,
    "start_time": "2021-11-03T19:21:09.632Z"
   },
   {
    "duration": 12,
    "start_time": "2021-11-03T19:21:09.661Z"
   },
   {
    "duration": 13,
    "start_time": "2021-11-03T19:21:09.848Z"
   },
   {
    "duration": 9,
    "start_time": "2021-11-03T19:21:09.863Z"
   },
   {
    "duration": 11,
    "start_time": "2021-11-03T19:21:09.874Z"
   },
   {
    "duration": 9,
    "start_time": "2021-11-03T19:21:09.886Z"
   },
   {
    "duration": 3,
    "start_time": "2021-11-03T19:21:09.896Z"
   },
   {
    "duration": 9,
    "start_time": "2021-11-03T19:21:09.901Z"
   },
   {
    "duration": 3,
    "start_time": "2021-11-03T19:21:09.912Z"
   },
   {
    "duration": 31,
    "start_time": "2021-11-03T19:21:09.916Z"
   },
   {
    "duration": 7,
    "start_time": "2021-11-03T19:21:09.950Z"
   },
   {
    "duration": 5,
    "start_time": "2021-11-03T19:21:09.960Z"
   },
   {
    "duration": 11,
    "start_time": "2021-11-03T19:21:09.967Z"
   },
   {
    "duration": 4,
    "start_time": "2021-11-03T19:21:09.980Z"
   },
   {
    "duration": 13,
    "start_time": "2021-11-03T19:21:09.989Z"
   },
   {
    "duration": 50,
    "start_time": "2021-11-03T19:21:10.004Z"
   },
   {
    "duration": 8,
    "start_time": "2021-11-03T19:21:10.057Z"
   },
   {
    "duration": 14,
    "start_time": "2021-11-03T19:21:10.067Z"
   },
   {
    "duration": 6,
    "start_time": "2021-11-03T19:21:10.083Z"
   },
   {
    "duration": 62,
    "start_time": "2021-11-03T19:21:10.091Z"
   },
   {
    "duration": 7,
    "start_time": "2021-11-03T19:21:10.155Z"
   },
   {
    "duration": 13,
    "start_time": "2021-11-03T19:21:10.165Z"
   },
   {
    "duration": 14,
    "start_time": "2021-11-03T19:21:10.180Z"
   },
   {
    "duration": 9,
    "start_time": "2021-11-03T19:21:10.197Z"
   },
   {
    "duration": 5,
    "start_time": "2021-11-03T19:21:10.208Z"
   },
   {
    "duration": 13,
    "start_time": "2021-11-03T19:21:10.248Z"
   },
   {
    "duration": 12,
    "start_time": "2021-11-03T19:21:10.263Z"
   },
   {
    "duration": 7,
    "start_time": "2021-11-03T19:21:10.277Z"
   },
   {
    "duration": 26,
    "start_time": "2021-11-03T19:21:10.286Z"
   },
   {
    "duration": 32,
    "start_time": "2021-11-03T19:21:10.314Z"
   },
   {
    "duration": 16,
    "start_time": "2021-11-03T19:21:10.349Z"
   },
   {
    "duration": 4,
    "start_time": "2021-11-03T19:21:10.367Z"
   },
   {
    "duration": 13,
    "start_time": "2021-11-03T19:21:10.373Z"
   },
   {
    "duration": 5,
    "start_time": "2021-11-03T19:21:10.388Z"
   },
   {
    "duration": 10,
    "start_time": "2021-11-03T19:21:10.394Z"
   },
   {
    "duration": 43,
    "start_time": "2021-11-03T19:21:10.406Z"
   },
   {
    "duration": 6,
    "start_time": "2021-11-03T19:21:10.455Z"
   },
   {
    "duration": 8,
    "start_time": "2021-11-03T19:21:10.463Z"
   },
   {
    "duration": 8,
    "start_time": "2021-11-03T19:21:10.473Z"
   },
   {
    "duration": 2,
    "start_time": "2021-11-03T19:21:10.483Z"
   },
   {
    "duration": 294,
    "start_time": "2021-11-03T19:21:10.486Z"
   },
   {
    "duration": 7,
    "start_time": "2021-11-03T19:21:10.782Z"
   },
   {
    "duration": 11,
    "start_time": "2021-11-03T19:21:10.791Z"
   },
   {
    "duration": 7,
    "start_time": "2021-11-03T19:21:10.803Z"
   },
   {
    "duration": 6,
    "start_time": "2021-11-03T19:21:10.812Z"
   },
   {
    "duration": 25,
    "start_time": "2021-11-03T19:21:10.820Z"
   },
   {
    "duration": 7,
    "start_time": "2021-11-03T19:21:10.847Z"
   },
   {
    "duration": 739,
    "start_time": "2021-11-03T19:21:10.857Z"
   },
   {
    "duration": 3,
    "start_time": "2021-11-03T19:21:11.598Z"
   },
   {
    "duration": 6,
    "start_time": "2021-11-03T19:21:11.603Z"
   },
   {
    "duration": 13,
    "start_time": "2021-11-03T19:21:11.611Z"
   },
   {
    "duration": 21,
    "start_time": "2021-11-03T19:21:11.625Z"
   },
   {
    "duration": 7,
    "start_time": "2021-11-03T19:21:11.649Z"
   },
   {
    "duration": 7,
    "start_time": "2021-11-03T19:21:11.658Z"
   },
   {
    "duration": 1557,
    "start_time": "2021-11-03T19:21:11.667Z"
   },
   {
    "duration": 22,
    "start_time": "2021-11-03T19:21:13.225Z"
   },
   {
    "duration": 26,
    "start_time": "2021-11-03T19:21:13.250Z"
   },
   {
    "duration": 23,
    "start_time": "2021-11-03T19:21:13.278Z"
   },
   {
    "duration": 8,
    "start_time": "2021-11-03T19:21:13.303Z"
   },
   {
    "duration": 46,
    "start_time": "2021-11-03T19:21:13.345Z"
   },
   {
    "duration": 9,
    "start_time": "2021-11-03T19:21:13.393Z"
   },
   {
    "duration": 43,
    "start_time": "2021-11-03T19:21:13.404Z"
   },
   {
    "duration": 14,
    "start_time": "2021-11-03T19:21:13.449Z"
   },
   {
    "duration": 20,
    "start_time": "2021-11-03T19:21:13.465Z"
   },
   {
    "duration": 9,
    "start_time": "2021-11-03T19:21:13.487Z"
   },
   {
    "duration": 6,
    "start_time": "2021-11-03T19:30:49.516Z"
   },
   {
    "duration": 741,
    "start_time": "2021-11-08T14:57:19.220Z"
   },
   {
    "duration": 276,
    "start_time": "2021-11-08T14:57:20.734Z"
   },
   {
    "duration": 35,
    "start_time": "2021-11-08T14:57:25.756Z"
   },
   {
    "duration": 16,
    "start_time": "2021-11-08T14:57:41.625Z"
   },
   {
    "duration": 23,
    "start_time": "2021-11-08T14:57:43.632Z"
   },
   {
    "duration": 14,
    "start_time": "2021-11-08T14:59:51.705Z"
   },
   {
    "duration": 767,
    "start_time": "2021-11-08T15:00:01.075Z"
   },
   {
    "duration": 374,
    "start_time": "2021-11-08T15:29:57.533Z"
   },
   {
    "duration": 356,
    "start_time": "2021-11-08T15:30:28.084Z"
   },
   {
    "duration": 223,
    "start_time": "2021-11-08T15:30:28.669Z"
   },
   {
    "duration": 4,
    "start_time": "2021-11-08T15:30:42.939Z"
   },
   {
    "duration": 89,
    "start_time": "2021-11-08T15:31:18.927Z"
   },
   {
    "duration": 81,
    "start_time": "2021-11-08T15:31:36.396Z"
   },
   {
    "duration": 128,
    "start_time": "2021-11-08T15:43:28.116Z"
   },
   {
    "duration": 85,
    "start_time": "2021-11-08T15:43:35.899Z"
   },
   {
    "duration": 104,
    "start_time": "2021-11-08T15:44:12.369Z"
   },
   {
    "duration": 90,
    "start_time": "2021-11-08T15:44:17.039Z"
   },
   {
    "duration": 14,
    "start_time": "2021-11-08T16:20:56.034Z"
   },
   {
    "duration": 15,
    "start_time": "2021-11-08T16:21:05.536Z"
   },
   {
    "duration": 12,
    "start_time": "2021-11-08T16:21:07.921Z"
   },
   {
    "duration": 12,
    "start_time": "2021-11-08T16:26:56.705Z"
   },
   {
    "duration": 5,
    "start_time": "2021-11-08T16:27:27.702Z"
   },
   {
    "duration": 13,
    "start_time": "2021-11-08T16:27:29.944Z"
   },
   {
    "duration": 12,
    "start_time": "2021-11-08T16:28:19.515Z"
   },
   {
    "duration": 13,
    "start_time": "2021-11-08T16:28:33.059Z"
   },
   {
    "duration": 14,
    "start_time": "2021-11-08T16:29:20.892Z"
   },
   {
    "duration": 7,
    "start_time": "2021-11-08T16:29:24.751Z"
   },
   {
    "duration": 13,
    "start_time": "2021-11-08T16:29:37.635Z"
   },
   {
    "duration": 305,
    "start_time": "2021-11-08T16:33:18.820Z"
   },
   {
    "duration": 296,
    "start_time": "2021-11-08T16:46:36.967Z"
   },
   {
    "duration": 307,
    "start_time": "2021-11-08T16:46:43.566Z"
   },
   {
    "duration": 3,
    "start_time": "2021-11-08T16:46:56.810Z"
   },
   {
    "duration": 263,
    "start_time": "2021-11-08T16:46:58.318Z"
   },
   {
    "duration": 22,
    "start_time": "2021-11-08T16:47:00.782Z"
   },
   {
    "duration": 17,
    "start_time": "2021-11-08T16:47:04.014Z"
   },
   {
    "duration": 16,
    "start_time": "2021-11-08T16:47:05.289Z"
   },
   {
    "duration": 33,
    "start_time": "2021-11-08T16:47:06.415Z"
   },
   {
    "duration": 45,
    "start_time": "2021-11-08T16:47:10.199Z"
   },
   {
    "duration": 38,
    "start_time": "2021-11-08T16:47:10.886Z"
   },
   {
    "duration": 35,
    "start_time": "2021-11-08T16:47:14.126Z"
   },
   {
    "duration": 38,
    "start_time": "2021-11-08T16:47:14.574Z"
   },
   {
    "duration": 13,
    "start_time": "2021-11-08T16:47:15.629Z"
   },
   {
    "duration": 4,
    "start_time": "2021-11-08T16:47:18.022Z"
   },
   {
    "duration": 12,
    "start_time": "2021-11-08T16:47:18.624Z"
   },
   {
    "duration": 13,
    "start_time": "2021-11-08T16:47:19.377Z"
   },
   {
    "duration": 18,
    "start_time": "2021-11-08T16:47:19.972Z"
   },
   {
    "duration": 14,
    "start_time": "2021-11-08T16:47:20.807Z"
   },
   {
    "duration": 13,
    "start_time": "2021-11-08T16:47:22.193Z"
   },
   {
    "duration": 5,
    "start_time": "2021-11-08T16:47:23.725Z"
   },
   {
    "duration": 11,
    "start_time": "2021-11-08T16:47:24.590Z"
   },
   {
    "duration": 5,
    "start_time": "2021-11-08T16:47:25.315Z"
   },
   {
    "duration": 11,
    "start_time": "2021-11-08T16:47:26.485Z"
   },
   {
    "duration": 7,
    "start_time": "2021-11-08T16:47:31.558Z"
   },
   {
    "duration": 20,
    "start_time": "2021-11-08T16:47:32.716Z"
   },
   {
    "duration": 12,
    "start_time": "2021-11-08T16:47:33.630Z"
   },
   {
    "duration": 6,
    "start_time": "2021-11-08T16:47:40.575Z"
   },
   {
    "duration": 18,
    "start_time": "2021-11-08T16:47:40.583Z"
   },
   {
    "duration": 12,
    "start_time": "2021-11-08T16:47:40.604Z"
   },
   {
    "duration": 8,
    "start_time": "2021-11-08T16:47:40.618Z"
   },
   {
    "duration": 14,
    "start_time": "2021-11-08T16:47:41.441Z"
   },
   {
    "duration": 6,
    "start_time": "2021-11-08T16:47:43.294Z"
   },
   {
    "duration": 13,
    "start_time": "2021-11-08T16:47:44.141Z"
   },
   {
    "duration": 7,
    "start_time": "2021-11-08T16:47:44.660Z"
   },
   {
    "duration": 13,
    "start_time": "2021-11-08T16:47:54.504Z"
   },
   {
    "duration": 7,
    "start_time": "2021-11-08T16:47:55.153Z"
   },
   {
    "duration": 13,
    "start_time": "2021-11-08T16:47:56.062Z"
   },
   {
    "duration": 6,
    "start_time": "2021-11-08T16:47:57.119Z"
   },
   {
    "duration": 12,
    "start_time": "2021-11-08T16:47:59.976Z"
   },
   {
    "duration": 13,
    "start_time": "2021-11-08T16:48:03.511Z"
   },
   {
    "duration": 7,
    "start_time": "2021-11-08T16:48:05.159Z"
   },
   {
    "duration": 38,
    "start_time": "2021-11-08T16:48:06.825Z"
   },
   {
    "duration": 19,
    "start_time": "2021-11-08T16:48:12.964Z"
   },
   {
    "duration": 425,
    "start_time": "2021-11-08T16:48:15.234Z"
   },
   {
    "duration": 5,
    "start_time": "2021-11-08T16:48:17.622Z"
   },
   {
    "duration": 289,
    "start_time": "2021-11-08T16:49:09.119Z"
   },
   {
    "duration": 5,
    "start_time": "2021-11-08T16:50:24.654Z"
   },
   {
    "duration": 37,
    "start_time": "2021-11-08T16:50:25.775Z"
   },
   {
    "duration": 8,
    "start_time": "2021-11-08T16:50:29.031Z"
   },
   {
    "duration": 16,
    "start_time": "2021-11-08T16:50:30.510Z"
   },
   {
    "duration": 302,
    "start_time": "2021-11-08T16:50:39.248Z"
   },
   {
    "duration": 5,
    "start_time": "2021-11-08T16:50:50.600Z"
   },
   {
    "duration": 6,
    "start_time": "2021-11-08T16:54:04.752Z"
   },
   {
    "duration": 16,
    "start_time": "2021-11-08T16:54:07.919Z"
   },
   {
    "duration": 334,
    "start_time": "2021-11-08T16:54:18.609Z"
   },
   {
    "duration": 5,
    "start_time": "2021-11-08T16:57:49.352Z"
   },
   {
    "duration": 334,
    "start_time": "2021-11-08T17:02:35.468Z"
   },
   {
    "duration": 378,
    "start_time": "2021-11-08T17:02:43.083Z"
   },
   {
    "duration": 275,
    "start_time": "2021-11-08T17:02:47.724Z"
   },
   {
    "duration": 6,
    "start_time": "2021-11-08T17:03:02.546Z"
   },
   {
    "duration": 301,
    "start_time": "2021-11-08T17:05:25.475Z"
   },
   {
    "duration": 31,
    "start_time": "2021-11-08T17:08:48.101Z"
   },
   {
    "duration": 8,
    "start_time": "2021-11-08T17:09:25.039Z"
   },
   {
    "duration": 7,
    "start_time": "2021-11-08T17:10:55.332Z"
   },
   {
    "duration": 7,
    "start_time": "2021-11-08T17:11:11.663Z"
   },
   {
    "duration": 8,
    "start_time": "2021-11-08T17:11:48.580Z"
   },
   {
    "duration": 7,
    "start_time": "2021-11-08T17:12:20.556Z"
   },
   {
    "duration": 7,
    "start_time": "2021-11-08T17:12:21.261Z"
   },
   {
    "duration": 17,
    "start_time": "2021-11-08T17:12:23.750Z"
   },
   {
    "duration": 64,
    "start_time": "2021-11-08T17:14:06.173Z"
   },
   {
    "duration": 60,
    "start_time": "2021-11-08T17:14:19.663Z"
   },
   {
    "duration": 8,
    "start_time": "2021-11-08T17:14:24.476Z"
   },
   {
    "duration": 31,
    "start_time": "2021-11-08T17:14:49.758Z"
   },
   {
    "duration": 11,
    "start_time": "2021-11-08T17:15:36.686Z"
   },
   {
    "duration": 27,
    "start_time": "2021-11-08T17:15:39.342Z"
   },
   {
    "duration": 406,
    "start_time": "2021-11-08T17:15:40.128Z"
   },
   {
    "duration": 11,
    "start_time": "2021-11-08T17:15:40.537Z"
   },
   {
    "duration": 15,
    "start_time": "2021-11-08T17:15:40.933Z"
   },
   {
    "duration": 7,
    "start_time": "2021-11-08T17:15:41.382Z"
   },
   {
    "duration": 8,
    "start_time": "2021-11-08T17:15:42.542Z"
   },
   {
    "duration": 8,
    "start_time": "2021-11-08T17:15:43.302Z"
   },
   {
    "duration": 4,
    "start_time": "2021-11-08T17:15:43.782Z"
   },
   {
    "duration": 975,
    "start_time": "2021-11-08T17:15:43.986Z"
   },
   {
    "duration": 5,
    "start_time": "2021-11-08T17:15:44.964Z"
   },
   {
    "duration": 8,
    "start_time": "2021-11-08T17:15:44.972Z"
   },
   {
    "duration": 15,
    "start_time": "2021-11-08T17:15:44.983Z"
   },
   {
    "duration": 6,
    "start_time": "2021-11-08T17:15:45.798Z"
   },
   {
    "duration": 6,
    "start_time": "2021-11-08T17:15:46.246Z"
   },
   {
    "duration": 6,
    "start_time": "2021-11-08T17:15:47.083Z"
   },
   {
    "duration": 2249,
    "start_time": "2021-11-08T17:15:47.790Z"
   },
   {
    "duration": 30,
    "start_time": "2021-11-08T17:15:50.042Z"
   },
   {
    "duration": 49,
    "start_time": "2021-11-08T17:17:20.254Z"
   },
   {
    "duration": 3,
    "start_time": "2021-11-08T17:20:46.310Z"
   },
   {
    "duration": 253,
    "start_time": "2021-11-08T17:20:47.434Z"
   },
   {
    "duration": 18,
    "start_time": "2021-11-08T17:20:49.160Z"
   },
   {
    "duration": 15,
    "start_time": "2021-11-08T17:20:52.014Z"
   },
   {
    "duration": 15,
    "start_time": "2021-11-08T17:20:52.792Z"
   },
   {
    "duration": 31,
    "start_time": "2021-11-08T17:20:53.736Z"
   },
   {
    "duration": 34,
    "start_time": "2021-11-08T17:20:56.986Z"
   },
   {
    "duration": 37,
    "start_time": "2021-11-08T17:20:57.592Z"
   },
   {
    "duration": 38,
    "start_time": "2021-11-08T17:20:58.800Z"
   },
   {
    "duration": 40,
    "start_time": "2021-11-08T17:20:59.647Z"
   },
   {
    "duration": 11,
    "start_time": "2021-11-08T17:21:01.110Z"
   },
   {
    "duration": 5,
    "start_time": "2021-11-08T17:21:03.022Z"
   },
   {
    "duration": 14,
    "start_time": "2021-11-08T17:21:03.489Z"
   },
   {
    "duration": 12,
    "start_time": "2021-11-08T17:21:03.927Z"
   },
   {
    "duration": 12,
    "start_time": "2021-11-08T17:21:04.390Z"
   },
   {
    "duration": 17,
    "start_time": "2021-11-08T17:21:04.840Z"
   },
   {
    "duration": 11,
    "start_time": "2021-11-08T17:21:05.757Z"
   },
   {
    "duration": 4,
    "start_time": "2021-11-08T17:21:06.959Z"
   },
   {
    "duration": 12,
    "start_time": "2021-11-08T17:21:08.095Z"
   },
   {
    "duration": 6,
    "start_time": "2021-11-08T17:21:08.503Z"
   },
   {
    "duration": 12,
    "start_time": "2021-11-08T17:21:09.390Z"
   },
   {
    "duration": 6,
    "start_time": "2021-11-08T17:21:10.249Z"
   },
   {
    "duration": 7,
    "start_time": "2021-11-08T17:21:11.118Z"
   },
   {
    "duration": 11,
    "start_time": "2021-11-08T17:21:11.438Z"
   },
   {
    "duration": 6,
    "start_time": "2021-11-08T17:21:12.256Z"
   },
   {
    "duration": 11,
    "start_time": "2021-11-08T17:21:12.680Z"
   },
   {
    "duration": 11,
    "start_time": "2021-11-08T17:21:13.088Z"
   },
   {
    "duration": 6,
    "start_time": "2021-11-08T17:21:13.959Z"
   },
   {
    "duration": 12,
    "start_time": "2021-11-08T17:21:14.463Z"
   },
   {
    "duration": 6,
    "start_time": "2021-11-08T17:21:14.926Z"
   },
   {
    "duration": 13,
    "start_time": "2021-11-08T17:21:15.335Z"
   },
   {
    "duration": 8,
    "start_time": "2021-11-08T17:21:15.705Z"
   },
   {
    "duration": 13,
    "start_time": "2021-11-08T17:21:17.390Z"
   },
   {
    "duration": 7,
    "start_time": "2021-11-08T17:21:17.639Z"
   },
   {
    "duration": 11,
    "start_time": "2021-11-08T17:21:17.813Z"
   },
   {
    "duration": 6,
    "start_time": "2021-11-08T17:21:17.997Z"
   },
   {
    "duration": 13,
    "start_time": "2021-11-08T17:21:18.180Z"
   },
   {
    "duration": 15,
    "start_time": "2021-11-08T17:21:18.344Z"
   },
   {
    "duration": 7,
    "start_time": "2021-11-08T17:21:18.528Z"
   },
   {
    "duration": 41,
    "start_time": "2021-11-08T17:21:19.407Z"
   },
   {
    "duration": 15,
    "start_time": "2021-11-08T17:21:21.503Z"
   },
   {
    "duration": 310,
    "start_time": "2021-11-08T17:21:22.175Z"
   },
   {
    "duration": 14,
    "start_time": "2021-11-08T17:21:22.960Z"
   },
   {
    "duration": 608,
    "start_time": "2021-11-08T19:35:23.029Z"
   },
   {
    "duration": 221,
    "start_time": "2021-11-08T19:35:23.639Z"
   },
   {
    "duration": 16,
    "start_time": "2021-11-08T19:35:23.862Z"
   },
   {
    "duration": 11,
    "start_time": "2021-11-08T19:35:23.880Z"
   },
   {
    "duration": 11,
    "start_time": "2021-11-08T19:35:23.892Z"
   },
   {
    "duration": 47924,
    "start_time": "2021-11-08T19:35:23.905Z"
   },
   {
    "duration": 20,
    "start_time": "2021-11-08T19:36:11.831Z"
   },
   {
    "duration": 21,
    "start_time": "2021-11-08T19:36:11.853Z"
   },
   {
    "duration": 22,
    "start_time": "2021-11-08T19:36:11.876Z"
   },
   {
    "duration": 20,
    "start_time": "2021-11-08T19:36:11.900Z"
   },
   {
    "duration": 7,
    "start_time": "2021-11-08T19:36:11.921Z"
   },
   {
    "duration": 3,
    "start_time": "2021-11-08T19:36:11.930Z"
   },
   {
    "duration": 36,
    "start_time": "2021-11-08T19:36:11.934Z"
   },
   {
    "duration": 7,
    "start_time": "2021-11-08T19:36:11.972Z"
   },
   {
    "duration": 7,
    "start_time": "2021-11-08T19:36:11.981Z"
   },
   {
    "duration": 11,
    "start_time": "2021-11-08T19:36:11.991Z"
   },
   {
    "duration": 8,
    "start_time": "2021-11-08T19:36:12.004Z"
   },
   {
    "duration": 4,
    "start_time": "2021-11-08T19:36:12.014Z"
   },
   {
    "duration": 49,
    "start_time": "2021-11-08T19:36:12.020Z"
   },
   {
    "duration": 4,
    "start_time": "2021-11-08T19:36:12.071Z"
   },
   {
    "duration": 16,
    "start_time": "2021-11-08T19:36:12.076Z"
   },
   {
    "duration": 11,
    "start_time": "2021-11-08T19:36:12.093Z"
   },
   {
    "duration": 6,
    "start_time": "2021-11-08T19:36:12.108Z"
   },
   {
    "duration": 14,
    "start_time": "2021-11-08T19:36:12.116Z"
   },
   {
    "duration": 10,
    "start_time": "2021-11-08T19:36:12.132Z"
   },
   {
    "duration": 21,
    "start_time": "2021-11-08T19:36:12.143Z"
   },
   {
    "duration": 8,
    "start_time": "2021-11-08T19:36:12.166Z"
   },
   {
    "duration": 9,
    "start_time": "2021-11-08T19:36:12.175Z"
   },
   {
    "duration": 12,
    "start_time": "2021-11-08T19:36:12.186Z"
   },
   {
    "duration": 12,
    "start_time": "2021-11-08T19:36:12.200Z"
   },
   {
    "duration": 13,
    "start_time": "2021-11-08T19:36:12.213Z"
   },
   {
    "duration": 9,
    "start_time": "2021-11-08T19:36:12.228Z"
   },
   {
    "duration": 28,
    "start_time": "2021-11-08T19:36:12.238Z"
   },
   {
    "duration": 5,
    "start_time": "2021-11-08T19:36:12.267Z"
   },
   {
    "duration": 12,
    "start_time": "2021-11-08T19:36:12.273Z"
   },
   {
    "duration": 6,
    "start_time": "2021-11-08T19:36:12.286Z"
   },
   {
    "duration": 13,
    "start_time": "2021-11-08T19:36:12.293Z"
   },
   {
    "duration": 12,
    "start_time": "2021-11-08T19:36:12.308Z"
   },
   {
    "duration": 9,
    "start_time": "2021-11-08T19:36:12.321Z"
   },
   {
    "duration": 49,
    "start_time": "2021-11-08T19:36:12.332Z"
   },
   {
    "duration": 11,
    "start_time": "2021-11-08T19:36:12.383Z"
   },
   {
    "duration": 360,
    "start_time": "2021-11-08T19:36:12.396Z"
   },
   {
    "duration": -1906,
    "start_time": "2021-11-08T19:36:14.666Z"
   },
   {
    "duration": -1914,
    "start_time": "2021-11-08T19:36:14.675Z"
   },
   {
    "duration": -1919,
    "start_time": "2021-11-08T19:36:14.682Z"
   },
   {
    "duration": -1925,
    "start_time": "2021-11-08T19:36:14.689Z"
   },
   {
    "duration": -1929,
    "start_time": "2021-11-08T19:36:14.695Z"
   },
   {
    "duration": -1934,
    "start_time": "2021-11-08T19:36:14.701Z"
   },
   {
    "duration": -1938,
    "start_time": "2021-11-08T19:36:14.707Z"
   },
   {
    "duration": -1943,
    "start_time": "2021-11-08T19:36:14.713Z"
   },
   {
    "duration": -1948,
    "start_time": "2021-11-08T19:36:14.719Z"
   },
   {
    "duration": -1953,
    "start_time": "2021-11-08T19:36:14.726Z"
   },
   {
    "duration": -1957,
    "start_time": "2021-11-08T19:36:14.731Z"
   },
   {
    "duration": -1961,
    "start_time": "2021-11-08T19:36:14.737Z"
   },
   {
    "duration": -1966,
    "start_time": "2021-11-08T19:36:14.743Z"
   },
   {
    "duration": -1970,
    "start_time": "2021-11-08T19:36:14.749Z"
   },
   {
    "duration": -1974,
    "start_time": "2021-11-08T19:36:14.754Z"
   },
   {
    "duration": -1988,
    "start_time": "2021-11-08T19:36:14.769Z"
   },
   {
    "duration": -1994,
    "start_time": "2021-11-08T19:36:14.776Z"
   },
   {
    "duration": -1998,
    "start_time": "2021-11-08T19:36:14.782Z"
   },
   {
    "duration": -2002,
    "start_time": "2021-11-08T19:36:14.787Z"
   },
   {
    "duration": -2006,
    "start_time": "2021-11-08T19:36:14.793Z"
   },
   {
    "duration": -2011,
    "start_time": "2021-11-08T19:36:14.799Z"
   },
   {
    "duration": -2019,
    "start_time": "2021-11-08T19:36:14.808Z"
   },
   {
    "duration": -2023,
    "start_time": "2021-11-08T19:36:14.814Z"
   },
   {
    "duration": -2028,
    "start_time": "2021-11-08T19:36:14.820Z"
   },
   {
    "duration": -2032,
    "start_time": "2021-11-08T19:36:14.825Z"
   },
   {
    "duration": -2036,
    "start_time": "2021-11-08T19:36:14.831Z"
   },
   {
    "duration": -2041,
    "start_time": "2021-11-08T19:36:14.837Z"
   },
   {
    "duration": -2048,
    "start_time": "2021-11-08T19:36:14.845Z"
   },
   {
    "duration": -2052,
    "start_time": "2021-11-08T19:36:14.851Z"
   },
   {
    "duration": -2057,
    "start_time": "2021-11-08T19:36:14.857Z"
   },
   {
    "duration": -2061,
    "start_time": "2021-11-08T19:36:14.862Z"
   },
   {
    "duration": -2094,
    "start_time": "2021-11-08T19:36:14.897Z"
   },
   {
    "duration": -2104,
    "start_time": "2021-11-08T19:36:14.908Z"
   },
   {
    "duration": -2121,
    "start_time": "2021-11-08T19:36:14.927Z"
   },
   {
    "duration": -2144,
    "start_time": "2021-11-08T19:36:14.951Z"
   },
   {
    "duration": -2129,
    "start_time": "2021-11-08T19:36:14.992Z"
   },
   {
    "duration": -2137,
    "start_time": "2021-11-08T19:36:15.002Z"
   },
   {
    "duration": 11,
    "start_time": "2021-11-08T19:36:41.601Z"
   },
   {
    "duration": 402,
    "start_time": "2021-11-08T19:36:43.788Z"
   },
   {
    "duration": 15,
    "start_time": "2021-11-08T19:36:48.072Z"
   },
   {
    "duration": 5,
    "start_time": "2021-11-08T19:36:48.647Z"
   },
   {
    "duration": 6,
    "start_time": "2021-11-08T19:36:49.222Z"
   },
   {
    "duration": 12,
    "start_time": "2021-11-08T19:36:51.566Z"
   },
   {
    "duration": 32,
    "start_time": "2021-11-08T19:36:52.055Z"
   },
   {
    "duration": 6,
    "start_time": "2021-11-08T19:36:54.573Z"
   },
   {
    "duration": 4,
    "start_time": "2021-11-08T19:36:55.038Z"
   },
   {
    "duration": 9,
    "start_time": "2021-11-08T19:36:55.494Z"
   },
   {
    "duration": 9,
    "start_time": "2021-11-08T19:37:02.350Z"
   },
   {
    "duration": 218,
    "start_time": "2021-11-08T19:37:04.150Z"
   },
   {
    "duration": 8,
    "start_time": "2021-11-08T19:37:05.918Z"
   },
   {
    "duration": 9,
    "start_time": "2021-11-08T19:37:06.366Z"
   },
   {
    "duration": 6,
    "start_time": "2021-11-08T19:37:06.894Z"
   },
   {
    "duration": 6,
    "start_time": "2021-11-08T19:37:07.461Z"
   },
   {
    "duration": 6,
    "start_time": "2021-11-08T19:37:08.221Z"
   },
   {
    "duration": 3,
    "start_time": "2021-11-08T19:37:08.887Z"
   },
   {
    "duration": 607,
    "start_time": "2021-11-08T19:37:09.318Z"
   },
   {
    "duration": 3,
    "start_time": "2021-11-08T19:37:09.927Z"
   },
   {
    "duration": 3,
    "start_time": "2021-11-08T19:37:10.318Z"
   },
   {
    "duration": 8,
    "start_time": "2021-11-08T19:37:10.587Z"
   },
   {
    "duration": 4,
    "start_time": "2021-11-08T19:37:10.863Z"
   },
   {
    "duration": 4,
    "start_time": "2021-11-08T19:37:11.088Z"
   },
   {
    "duration": 4,
    "start_time": "2021-11-08T19:37:11.277Z"
   },
   {
    "duration": 1462,
    "start_time": "2021-11-08T19:37:11.485Z"
   },
   {
    "duration": 7,
    "start_time": "2021-11-08T19:37:12.964Z"
   },
   {
    "duration": 39,
    "start_time": "2021-11-08T19:37:16.182Z"
   },
   {
    "duration": 24,
    "start_time": "2021-11-08T19:37:16.618Z"
   },
   {
    "duration": 10,
    "start_time": "2021-11-08T19:37:17.061Z"
   },
   {
    "duration": 26,
    "start_time": "2021-11-08T19:37:17.612Z"
   },
   {
    "duration": 38,
    "start_time": "2021-11-08T19:37:19.932Z"
   },
   {
    "duration": 11,
    "start_time": "2021-11-08T19:37:20.138Z"
   },
   {
    "duration": 21,
    "start_time": "2021-11-08T19:37:21.076Z"
   },
   {
    "duration": 9,
    "start_time": "2021-11-08T19:37:21.301Z"
   },
   {
    "duration": 19,
    "start_time": "2021-11-08T19:37:22.197Z"
   },
   {
    "duration": 10,
    "start_time": "2021-11-08T19:37:22.397Z"
   },
   {
    "duration": 8255,
    "start_time": "2021-11-10T15:12:38.728Z"
   },
   {
    "duration": 544,
    "start_time": "2021-11-10T15:23:49.518Z"
   },
   {
    "duration": 320,
    "start_time": "2021-11-10T15:26:24.778Z"
   },
   {
    "duration": 282,
    "start_time": "2021-11-10T15:28:02.517Z"
   },
   {
    "duration": 2800,
    "start_time": "2021-11-10T15:29:32.667Z"
   },
   {
    "duration": 2,
    "start_time": "2021-11-10T15:30:54.187Z"
   },
   {
    "duration": 268,
    "start_time": "2021-11-10T15:31:50.937Z"
   },
   {
    "duration": 263,
    "start_time": "2021-11-10T15:31:58.757Z"
   },
   {
    "duration": 2,
    "start_time": "2021-11-10T15:32:23.126Z"
   },
   {
    "duration": 2603,
    "start_time": "2021-11-10T15:32:23.705Z"
   },
   {
    "duration": 469,
    "start_time": "2021-11-10T15:32:44.891Z"
   },
   {
    "duration": 675,
    "start_time": "2021-11-10T15:33:03.131Z"
   },
   {
    "duration": 3,
    "start_time": "2021-11-10T15:33:15.692Z"
   },
   {
    "duration": 2521,
    "start_time": "2021-11-10T15:33:16.480Z"
   },
   {
    "duration": 3,
    "start_time": "2021-11-10T15:33:19.004Z"
   },
   {
    "duration": 150,
    "start_time": "2021-11-10T15:33:25.492Z"
   },
   {
    "duration": 24,
    "start_time": "2021-11-10T15:33:30.715Z"
   },
   {
    "duration": 15,
    "start_time": "2021-11-10T15:33:45.551Z"
   },
   {
    "duration": 12,
    "start_time": "2021-11-10T15:33:49.171Z"
   },
   {
    "duration": 762,
    "start_time": "2021-11-10T15:33:50.371Z"
   },
   {
    "duration": 22,
    "start_time": "2021-11-10T15:34:06.382Z"
   },
   {
    "duration": 295,
    "start_time": "2021-11-10T15:36:37.787Z"
   },
   {
    "duration": 67,
    "start_time": "2021-11-10T15:36:49.032Z"
   },
   {
    "duration": 20,
    "start_time": "2021-11-10T15:36:54.341Z"
   },
   {
    "duration": 20,
    "start_time": "2021-11-10T15:36:54.912Z"
   },
   {
    "duration": 22,
    "start_time": "2021-11-10T15:36:55.841Z"
   },
   {
    "duration": 20,
    "start_time": "2021-11-10T15:36:55.995Z"
   },
   {
    "duration": 9,
    "start_time": "2021-11-10T15:36:57.502Z"
   },
   {
    "duration": 3,
    "start_time": "2021-11-10T15:37:06.779Z"
   },
   {
    "duration": 8,
    "start_time": "2021-11-10T15:37:09.430Z"
   },
   {
    "duration": 8,
    "start_time": "2021-11-10T15:37:10.530Z"
   },
   {
    "duration": 8,
    "start_time": "2021-11-10T15:37:11.172Z"
   },
   {
    "duration": 15,
    "start_time": "2021-11-10T15:37:12.111Z"
   },
   {
    "duration": 8,
    "start_time": "2021-11-10T15:37:14.012Z"
   },
   {
    "duration": 3,
    "start_time": "2021-11-10T15:37:15.532Z"
   },
   {
    "duration": 8,
    "start_time": "2021-11-10T15:37:17.050Z"
   },
   {
    "duration": 3,
    "start_time": "2021-11-10T15:37:17.771Z"
   },
   {
    "duration": 7,
    "start_time": "2021-11-10T15:37:19.062Z"
   },
   {
    "duration": 4,
    "start_time": "2021-11-10T15:37:30.211Z"
   },
   {
    "duration": 8,
    "start_time": "2021-11-10T15:37:45.531Z"
   },
   {
    "duration": 5,
    "start_time": "2021-11-10T15:37:48.805Z"
   },
   {
    "duration": 5,
    "start_time": "2021-11-10T15:37:49.710Z"
   },
   {
    "duration": 7,
    "start_time": "2021-11-10T15:37:50.320Z"
   },
   {
    "duration": 4,
    "start_time": "2021-11-10T15:37:54.731Z"
   },
   {
    "duration": 32,
    "start_time": "2021-11-10T15:37:54.738Z"
   },
   {
    "duration": 22,
    "start_time": "2021-11-10T15:37:54.773Z"
   },
   {
    "duration": 5,
    "start_time": "2021-11-10T15:37:56.430Z"
   },
   {
    "duration": 8,
    "start_time": "2021-11-10T15:37:57.690Z"
   },
   {
    "duration": 5,
    "start_time": "2021-11-10T15:37:58.391Z"
   },
   {
    "duration": 8,
    "start_time": "2021-11-10T15:37:59.048Z"
   },
   {
    "duration": 9,
    "start_time": "2021-11-10T15:46:51.392Z"
   },
   {
    "duration": 5,
    "start_time": "2021-11-10T15:46:52.150Z"
   },
   {
    "duration": 8,
    "start_time": "2021-11-10T15:46:53.012Z"
   },
   {
    "duration": 5,
    "start_time": "2021-11-10T15:46:53.832Z"
   },
   {
    "duration": 8,
    "start_time": "2021-11-10T15:46:56.339Z"
   },
   {
    "duration": 9,
    "start_time": "2021-11-10T15:46:57.260Z"
   },
   {
    "duration": 6,
    "start_time": "2021-11-10T15:46:58.308Z"
   },
   {
    "duration": 22,
    "start_time": "2021-11-10T15:47:05.230Z"
   },
   {
    "duration": 15,
    "start_time": "2021-11-10T15:47:11.440Z"
   },
   {
    "duration": 278,
    "start_time": "2021-11-10T15:48:00.481Z"
   },
   {
    "duration": 14,
    "start_time": "2021-11-10T15:48:12.042Z"
   },
   {
    "duration": 279,
    "start_time": "2021-11-10T15:48:15.371Z"
   },
   {
    "duration": 90,
    "start_time": "2021-11-10T15:54:10.132Z"
   },
   {
    "duration": 264,
    "start_time": "2021-11-10T15:55:42.171Z"
   },
   {
    "duration": 92,
    "start_time": "2021-11-10T15:56:05.499Z"
   },
   {
    "duration": 3,
    "start_time": "2021-11-10T15:59:25.172Z"
   },
   {
    "duration": 5,
    "start_time": "2021-11-10T16:00:11.439Z"
   },
   {
    "duration": 3,
    "start_time": "2021-11-10T16:00:28.491Z"
   },
   {
    "duration": 3,
    "start_time": "2021-11-10T16:00:29.110Z"
   },
   {
    "duration": 14,
    "start_time": "2021-11-10T16:00:31.148Z"
   },
   {
    "duration": 14,
    "start_time": "2021-11-10T16:00:43.520Z"
   },
   {
    "duration": 13,
    "start_time": "2021-11-10T16:00:56.340Z"
   },
   {
    "duration": 4,
    "start_time": "2021-11-10T16:32:23.544Z"
   },
   {
    "duration": 2,
    "start_time": "2021-11-10T16:33:32.955Z"
   },
   {
    "duration": 400,
    "start_time": "2021-11-10T16:33:33.924Z"
   },
   {
    "duration": 2,
    "start_time": "2021-11-10T16:33:46.711Z"
   },
   {
    "duration": 4,
    "start_time": "2021-11-10T16:33:48.463Z"
   },
   {
    "duration": 4,
    "start_time": "2021-11-10T16:33:52.812Z"
   },
   {
    "duration": 14,
    "start_time": "2021-11-10T16:33:56.083Z"
   },
   {
    "duration": 2,
    "start_time": "2021-11-10T16:35:45.403Z"
   },
   {
    "duration": 4,
    "start_time": "2021-11-10T16:35:45.965Z"
   },
   {
    "duration": 4,
    "start_time": "2021-11-10T16:35:49.267Z"
   },
   {
    "duration": 14,
    "start_time": "2021-11-10T16:35:52.000Z"
   },
   {
    "duration": 3,
    "start_time": "2021-11-10T16:36:39.464Z"
   },
   {
    "duration": 4,
    "start_time": "2021-11-10T16:36:39.954Z"
   },
   {
    "duration": 4,
    "start_time": "2021-11-10T16:36:40.653Z"
   },
   {
    "duration": 15,
    "start_time": "2021-11-10T16:36:42.109Z"
   },
   {
    "duration": 17,
    "start_time": "2021-11-10T16:43:44.181Z"
   },
   {
    "duration": 5,
    "start_time": "2021-11-10T16:43:47.717Z"
   },
   {
    "duration": 6,
    "start_time": "2021-11-10T16:43:48.652Z"
   },
   {
    "duration": 10,
    "start_time": "2021-11-10T16:43:50.684Z"
   },
   {
    "duration": 35,
    "start_time": "2021-11-10T16:43:54.060Z"
   },
   {
    "duration": 18,
    "start_time": "2021-11-10T16:45:18.973Z"
   },
   {
    "duration": 7,
    "start_time": "2021-11-10T16:45:20.214Z"
   },
   {
    "duration": 5,
    "start_time": "2021-11-10T16:45:21.223Z"
   },
   {
    "duration": 10,
    "start_time": "2021-11-10T16:45:29.074Z"
   },
   {
    "duration": 31,
    "start_time": "2021-11-10T16:45:30.263Z"
   },
   {
    "duration": 276,
    "start_time": "2021-11-10T16:45:33.993Z"
   },
   {
    "duration": 31,
    "start_time": "2021-11-10T16:45:41.468Z"
   },
   {
    "duration": 20,
    "start_time": "2021-11-10T16:45:44.412Z"
   },
   {
    "duration": 9,
    "start_time": "2021-11-10T16:45:49.192Z"
   },
   {
    "duration": 16,
    "start_time": "2021-11-10T16:47:51.702Z"
   },
   {
    "duration": 5,
    "start_time": "2021-11-10T16:47:53.218Z"
   },
   {
    "duration": 6,
    "start_time": "2021-11-10T16:47:55.413Z"
   },
   {
    "duration": 305,
    "start_time": "2021-11-10T16:48:07.103Z"
   },
   {
    "duration": 499,
    "start_time": "2021-11-10T16:48:22.403Z"
   },
   {
    "duration": 2602,
    "start_time": "2021-11-10T16:48:23.985Z"
   },
   {
    "duration": 4,
    "start_time": "2021-11-10T16:48:26.590Z"
   },
   {
    "duration": 130,
    "start_time": "2021-11-10T16:48:30.575Z"
   },
   {
    "duration": 23,
    "start_time": "2021-11-10T16:48:37.783Z"
   },
   {
    "duration": 16,
    "start_time": "2021-11-10T16:48:42.321Z"
   },
   {
    "duration": 10,
    "start_time": "2021-11-10T16:48:43.149Z"
   },
   {
    "duration": 950,
    "start_time": "2021-11-10T16:48:47.157Z"
   },
   {
    "duration": 21,
    "start_time": "2021-11-10T16:48:53.634Z"
   },
   {
    "duration": 70,
    "start_time": "2021-11-10T16:49:07.566Z"
   },
   {
    "duration": 18,
    "start_time": "2021-11-10T16:49:08.656Z"
   },
   {
    "duration": 19,
    "start_time": "2021-11-10T16:49:10.889Z"
   },
   {
    "duration": 22,
    "start_time": "2021-11-10T16:49:11.806Z"
   },
   {
    "duration": 9,
    "start_time": "2021-11-10T16:49:16.287Z"
   },
   {
    "duration": 4,
    "start_time": "2021-11-10T16:49:21.231Z"
   },
   {
    "duration": 9,
    "start_time": "2021-11-10T16:49:22.730Z"
   },
   {
    "duration": 8,
    "start_time": "2021-11-10T16:49:24.751Z"
   },
   {
    "duration": 8,
    "start_time": "2021-11-10T16:49:25.275Z"
   },
   {
    "duration": 16,
    "start_time": "2021-11-10T16:49:26.056Z"
   },
   {
    "duration": 9,
    "start_time": "2021-11-10T16:49:28.968Z"
   },
   {
    "duration": 4,
    "start_time": "2021-11-10T16:49:42.702Z"
   },
   {
    "duration": 10,
    "start_time": "2021-11-10T16:49:44.473Z"
   },
   {
    "duration": 4,
    "start_time": "2021-11-10T16:49:48.406Z"
   },
   {
    "duration": 8,
    "start_time": "2021-11-10T16:49:50.586Z"
   },
   {
    "duration": 5,
    "start_time": "2021-11-10T16:49:55.784Z"
   },
   {
    "duration": 4,
    "start_time": "2021-11-10T16:49:59.694Z"
   },
   {
    "duration": 8,
    "start_time": "2021-11-10T16:50:00.714Z"
   },
   {
    "duration": 4,
    "start_time": "2021-11-10T16:50:06.326Z"
   },
   {
    "duration": 8,
    "start_time": "2021-11-10T16:50:07.432Z"
   },
   {
    "duration": 8,
    "start_time": "2021-11-10T16:50:10.275Z"
   },
   {
    "duration": 6,
    "start_time": "2021-11-10T16:50:14.673Z"
   },
   {
    "duration": 8,
    "start_time": "2021-11-10T16:50:15.724Z"
   },
   {
    "duration": 4,
    "start_time": "2021-11-10T16:50:19.324Z"
   },
   {
    "duration": 9,
    "start_time": "2021-11-10T16:50:20.977Z"
   },
   {
    "duration": 5,
    "start_time": "2021-11-10T16:50:24.076Z"
   },
   {
    "duration": 21,
    "start_time": "2021-11-10T16:51:26.333Z"
   },
   {
    "duration": 19,
    "start_time": "2021-11-10T16:51:26.871Z"
   },
   {
    "duration": 8,
    "start_time": "2021-11-10T16:51:27.049Z"
   },
   {
    "duration": 20,
    "start_time": "2021-11-10T16:51:27.429Z"
   },
   {
    "duration": 20,
    "start_time": "2021-11-10T16:51:27.597Z"
   },
   {
    "duration": 8,
    "start_time": "2021-11-10T16:51:27.945Z"
   },
   {
    "duration": 4,
    "start_time": "2021-11-10T16:51:28.614Z"
   },
   {
    "duration": 9,
    "start_time": "2021-11-10T16:51:28.795Z"
   },
   {
    "duration": 8,
    "start_time": "2021-11-10T16:51:28.967Z"
   },
   {
    "duration": 8,
    "start_time": "2021-11-10T16:51:29.152Z"
   },
   {
    "duration": 14,
    "start_time": "2021-11-10T16:51:29.374Z"
   },
   {
    "duration": 7,
    "start_time": "2021-11-10T16:51:29.692Z"
   },
   {
    "duration": 4,
    "start_time": "2021-11-10T16:51:30.014Z"
   },
   {
    "duration": 8,
    "start_time": "2021-11-10T16:51:31.238Z"
   },
   {
    "duration": 3,
    "start_time": "2021-11-10T16:51:31.385Z"
   },
   {
    "duration": 7,
    "start_time": "2021-11-10T16:51:31.685Z"
   },
   {
    "duration": 4,
    "start_time": "2021-11-10T16:51:33.922Z"
   },
   {
    "duration": 5,
    "start_time": "2021-11-10T16:51:35.142Z"
   },
   {
    "duration": 8,
    "start_time": "2021-11-10T16:51:37.066Z"
   },
   {
    "duration": 4,
    "start_time": "2021-11-10T16:51:40.185Z"
   },
   {
    "duration": 8,
    "start_time": "2021-11-10T16:51:40.891Z"
   },
   {
    "duration": 8,
    "start_time": "2021-11-10T16:51:42.881Z"
   },
   {
    "duration": 5,
    "start_time": "2021-11-10T16:51:46.181Z"
   },
   {
    "duration": 8,
    "start_time": "2021-11-10T16:51:53.322Z"
   },
   {
    "duration": 5,
    "start_time": "2021-11-10T16:51:56.672Z"
   },
   {
    "duration": 133,
    "start_time": "2021-11-10T16:52:50.482Z"
   },
   {
    "duration": 16,
    "start_time": "2021-11-10T16:53:12.437Z"
   },
   {
    "duration": 18,
    "start_time": "2021-11-10T17:02:11.368Z"
   },
   {
    "duration": 5,
    "start_time": "2021-11-10T17:02:13.521Z"
   },
   {
    "duration": 5,
    "start_time": "2021-11-10T17:02:40.804Z"
   },
   {
    "duration": 17,
    "start_time": "2021-11-10T17:04:05.074Z"
   },
   {
    "duration": 5,
    "start_time": "2021-11-10T17:04:06.148Z"
   },
   {
    "duration": 5,
    "start_time": "2021-11-10T17:04:10.226Z"
   },
   {
    "duration": 368,
    "start_time": "2021-11-10T17:04:25.292Z"
   },
   {
    "duration": 6,
    "start_time": "2021-11-10T17:04:42.500Z"
   },
   {
    "duration": 280,
    "start_time": "2021-11-10T17:04:44.105Z"
   },
   {
    "duration": 573,
    "start_time": "2021-11-10T17:05:04.795Z"
   },
   {
    "duration": 2640,
    "start_time": "2021-11-10T17:05:05.370Z"
   },
   {
    "duration": 7,
    "start_time": "2021-11-10T17:05:14.400Z"
   },
   {
    "duration": 375,
    "start_time": "2021-11-10T17:05:16.609Z"
   },
   {
    "duration": 22,
    "start_time": "2021-11-10T17:05:20.260Z"
   },
   {
    "duration": 16,
    "start_time": "2021-11-10T17:05:28.757Z"
   },
   {
    "duration": 11,
    "start_time": "2021-11-10T17:05:30.577Z"
   },
   {
    "duration": 841,
    "start_time": "2021-11-10T17:05:32.376Z"
   },
   {
    "duration": 22,
    "start_time": "2021-11-10T17:05:37.848Z"
   },
   {
    "duration": 68,
    "start_time": "2021-11-10T17:05:43.267Z"
   },
   {
    "duration": 18,
    "start_time": "2021-11-10T17:05:45.689Z"
   },
   {
    "duration": 23,
    "start_time": "2021-11-10T17:05:48.274Z"
   },
   {
    "duration": 20,
    "start_time": "2021-11-10T17:05:51.260Z"
   },
   {
    "duration": 10,
    "start_time": "2021-11-10T17:05:55.029Z"
   },
   {
    "duration": 4,
    "start_time": "2021-11-10T17:06:16.891Z"
   },
   {
    "duration": 9,
    "start_time": "2021-11-10T17:06:17.920Z"
   },
   {
    "duration": 8,
    "start_time": "2021-11-10T17:06:19.280Z"
   },
   {
    "duration": 9,
    "start_time": "2021-11-10T17:06:20.420Z"
   },
   {
    "duration": 15,
    "start_time": "2021-11-10T17:06:21.171Z"
   },
   {
    "duration": 7,
    "start_time": "2021-11-10T17:06:26.499Z"
   },
   {
    "duration": 4,
    "start_time": "2021-11-10T17:06:34.033Z"
   },
   {
    "duration": 8,
    "start_time": "2021-11-10T17:06:40.695Z"
   },
   {
    "duration": 4,
    "start_time": "2021-11-10T17:06:45.263Z"
   },
   {
    "duration": 8,
    "start_time": "2021-11-10T17:06:50.690Z"
   },
   {
    "duration": 4,
    "start_time": "2021-11-10T17:06:55.488Z"
   },
   {
    "duration": 5,
    "start_time": "2021-11-10T17:06:59.709Z"
   },
   {
    "duration": 8,
    "start_time": "2021-11-10T17:07:00.553Z"
   },
   {
    "duration": 4,
    "start_time": "2021-11-10T17:07:04.414Z"
   },
   {
    "duration": 8,
    "start_time": "2021-11-10T17:07:04.772Z"
   },
   {
    "duration": 9,
    "start_time": "2021-11-10T17:07:08.920Z"
   },
   {
    "duration": 5,
    "start_time": "2021-11-10T17:07:11.230Z"
   },
   {
    "duration": 8,
    "start_time": "2021-11-10T17:07:12.999Z"
   },
   {
    "duration": 5,
    "start_time": "2021-11-10T17:07:17.131Z"
   },
   {
    "duration": 8,
    "start_time": "2021-11-10T17:07:18.069Z"
   },
   {
    "duration": 5,
    "start_time": "2021-11-10T17:07:18.701Z"
   },
   {
    "duration": 14,
    "start_time": "2021-11-10T17:07:24.324Z"
   },
   {
    "duration": 8,
    "start_time": "2021-11-10T17:07:33.689Z"
   },
   {
    "duration": 5,
    "start_time": "2021-11-10T17:07:34.088Z"
   },
   {
    "duration": 8,
    "start_time": "2021-11-10T17:07:34.899Z"
   },
   {
    "duration": 5,
    "start_time": "2021-11-10T17:07:38.590Z"
   },
   {
    "duration": 8,
    "start_time": "2021-11-10T17:07:39.413Z"
   },
   {
    "duration": 8,
    "start_time": "2021-11-10T17:07:42.835Z"
   },
   {
    "duration": 6,
    "start_time": "2021-11-10T17:07:44.874Z"
   },
   {
    "duration": 25,
    "start_time": "2021-11-10T17:07:48.021Z"
   },
   {
    "duration": 15,
    "start_time": "2021-11-10T17:08:01.584Z"
   },
   {
    "duration": 3,
    "start_time": "2021-11-10T17:08:04.298Z"
   },
   {
    "duration": 4,
    "start_time": "2021-11-10T17:08:05.815Z"
   },
   {
    "duration": 4,
    "start_time": "2021-11-10T17:08:07.849Z"
   },
   {
    "duration": 14,
    "start_time": "2021-11-10T17:08:11.419Z"
   },
   {
    "duration": 355,
    "start_time": "2021-11-10T17:08:33.231Z"
   },
   {
    "duration": 10,
    "start_time": "2021-11-10T17:13:42.567Z"
   },
   {
    "duration": 16,
    "start_time": "2021-11-10T17:13:51.277Z"
   },
   {
    "duration": 7,
    "start_time": "2021-11-10T17:13:52.260Z"
   },
   {
    "duration": 6,
    "start_time": "2021-11-10T17:13:53.554Z"
   },
   {
    "duration": 10,
    "start_time": "2021-11-10T17:13:55.195Z"
   },
   {
    "duration": 6,
    "start_time": "2021-11-10T17:13:57.359Z"
   },
   {
    "duration": 34,
    "start_time": "2021-11-10T17:13:58.461Z"
   },
   {
    "duration": 16,
    "start_time": "2021-11-10T17:14:02.374Z"
   },
   {
    "duration": 6,
    "start_time": "2021-11-10T17:14:03.370Z"
   },
   {
    "duration": 5,
    "start_time": "2021-11-10T17:14:06.629Z"
   },
   {
    "duration": 5,
    "start_time": "2021-11-10T17:14:09.245Z"
   },
   {
    "duration": 5,
    "start_time": "2021-11-10T17:15:15.712Z"
   },
   {
    "duration": 10,
    "start_time": "2021-11-10T17:15:17.408Z"
   },
   {
    "duration": 31,
    "start_time": "2021-11-10T17:15:18.250Z"
   },
   {
    "duration": 14,
    "start_time": "2021-11-10T17:15:33.963Z"
   },
   {
    "duration": 517,
    "start_time": "2021-11-10T17:16:18.320Z"
   },
   {
    "duration": 2629,
    "start_time": "2021-11-10T17:16:19.224Z"
   },
   {
    "duration": 7,
    "start_time": "2021-11-10T17:16:25.544Z"
   },
   {
    "duration": 134,
    "start_time": "2021-11-10T17:16:27.642Z"
   },
   {
    "duration": 23,
    "start_time": "2021-11-10T17:16:31.531Z"
   },
   {
    "duration": 17,
    "start_time": "2021-11-10T17:16:35.236Z"
   },
   {
    "duration": 11,
    "start_time": "2021-11-10T17:16:37.094Z"
   },
   {
    "duration": 876,
    "start_time": "2021-11-10T17:16:38.774Z"
   },
   {
    "duration": 19,
    "start_time": "2021-11-10T17:16:41.691Z"
   },
   {
    "duration": 66,
    "start_time": "2021-11-10T17:16:47.351Z"
   },
   {
    "duration": 17,
    "start_time": "2021-11-10T17:16:48.259Z"
   },
   {
    "duration": 20,
    "start_time": "2021-11-10T17:16:50.023Z"
   },
   {
    "duration": 20,
    "start_time": "2021-11-10T17:16:52.498Z"
   },
   {
    "duration": 8,
    "start_time": "2021-11-10T17:16:56.111Z"
   },
   {
    "duration": 4,
    "start_time": "2021-11-10T17:16:59.835Z"
   },
   {
    "duration": 9,
    "start_time": "2021-11-10T17:17:00.386Z"
   },
   {
    "duration": 8,
    "start_time": "2021-11-10T17:17:01.279Z"
   },
   {
    "duration": 8,
    "start_time": "2021-11-10T17:17:02.097Z"
   },
   {
    "duration": 15,
    "start_time": "2021-11-10T17:17:04.316Z"
   },
   {
    "duration": 8,
    "start_time": "2021-11-10T17:17:06.215Z"
   },
   {
    "duration": 4,
    "start_time": "2021-11-10T17:17:08.393Z"
   },
   {
    "duration": 8,
    "start_time": "2021-11-10T17:17:09.837Z"
   },
   {
    "duration": 4,
    "start_time": "2021-11-10T17:17:12.297Z"
   },
   {
    "duration": 8,
    "start_time": "2021-11-10T17:17:13.356Z"
   },
   {
    "duration": 4,
    "start_time": "2021-11-10T17:17:16.256Z"
   },
   {
    "duration": 5,
    "start_time": "2021-11-10T17:17:17.244Z"
   },
   {
    "duration": 9,
    "start_time": "2021-11-10T17:17:18.140Z"
   },
   {
    "duration": 4,
    "start_time": "2021-11-10T17:17:24.185Z"
   },
   {
    "duration": 8,
    "start_time": "2021-11-10T17:17:24.978Z"
   },
   {
    "duration": 7,
    "start_time": "2021-11-10T17:17:25.899Z"
   },
   {
    "duration": 5,
    "start_time": "2021-11-10T17:17:27.873Z"
   },
   {
    "duration": 7,
    "start_time": "2021-11-10T17:17:28.871Z"
   },
   {
    "duration": 4,
    "start_time": "2021-11-10T17:17:30.889Z"
   },
   {
    "duration": 8,
    "start_time": "2021-11-10T17:17:31.794Z"
   },
   {
    "duration": 5,
    "start_time": "2021-11-10T17:17:33.289Z"
   },
   {
    "duration": 14,
    "start_time": "2021-11-10T17:17:33.754Z"
   },
   {
    "duration": 8,
    "start_time": "2021-11-10T17:17:46.212Z"
   },
   {
    "duration": 6,
    "start_time": "2021-11-10T17:17:46.987Z"
   },
   {
    "duration": 8,
    "start_time": "2021-11-10T17:17:50.053Z"
   },
   {
    "duration": 5,
    "start_time": "2021-11-10T17:17:51.664Z"
   },
   {
    "duration": 9,
    "start_time": "2021-11-10T17:17:55.078Z"
   },
   {
    "duration": 8,
    "start_time": "2021-11-10T17:18:00.319Z"
   },
   {
    "duration": 5,
    "start_time": "2021-11-10T17:18:03.986Z"
   },
   {
    "duration": 23,
    "start_time": "2021-11-10T17:18:06.907Z"
   },
   {
    "duration": 13,
    "start_time": "2021-11-10T17:18:11.581Z"
   },
   {
    "duration": 2,
    "start_time": "2021-11-10T17:18:13.564Z"
   },
   {
    "duration": 4,
    "start_time": "2021-11-10T17:18:16.348Z"
   },
   {
    "duration": 5,
    "start_time": "2021-11-10T17:18:17.209Z"
   },
   {
    "duration": 14,
    "start_time": "2021-11-10T17:18:21.320Z"
   },
   {
    "duration": 16,
    "start_time": "2021-11-10T17:18:38.031Z"
   },
   {
    "duration": 5,
    "start_time": "2021-11-10T17:18:39.778Z"
   },
   {
    "duration": 5,
    "start_time": "2021-11-10T17:18:48.177Z"
   },
   {
    "duration": 10,
    "start_time": "2021-11-10T17:19:03.334Z"
   },
   {
    "duration": 32,
    "start_time": "2021-11-10T17:19:05.443Z"
   },
   {
    "duration": 17,
    "start_time": "2021-11-10T17:19:10.157Z"
   },
   {
    "duration": 19,
    "start_time": "2021-11-10T17:19:14.945Z"
   },
   {
    "duration": 16,
    "start_time": "2021-11-10T17:19:37.075Z"
   },
   {
    "duration": 6,
    "start_time": "2021-11-10T17:19:38.103Z"
   }
  ],
  "kernelspec": {
   "display_name": "Python 3",
   "language": "python",
   "name": "python3"
  },
  "language_info": {
   "codemirror_mode": {
    "name": "ipython",
    "version": 3
   },
   "file_extension": ".py",
   "mimetype": "text/x-python",
   "name": "python",
   "nbconvert_exporter": "python",
   "pygments_lexer": "ipython3",
   "version": "3.8.8"
  },
  "toc": {
   "base_numbering": 1,
   "nav_menu": {},
   "number_sections": true,
   "sideBar": true,
   "skip_h1_title": true,
   "title_cell": "Table of Contents",
   "title_sidebar": "Contents",
   "toc_cell": false,
   "toc_position": {},
   "toc_section_display": true,
   "toc_window_display": false
  }
 },
 "nbformat": 4,
 "nbformat_minor": 2
}
