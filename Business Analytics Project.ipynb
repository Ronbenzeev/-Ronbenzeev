{
 "cells": [
  {
   "cell_type": "markdown",
   "metadata": {},
   "source": [
    "<h1> Yandex.Afisha project.</h1>"
   ]
  },
  {
   "cell_type": "markdown",
   "metadata": {},
   "source": [
    "<h2> Project description</h2>\n",
    "\n",
    "<p>You've done beautifully in the Practicum course, and you've been offered an internship in the analytical department at Yandex.Afisha. Your first task is to help optimize marketing expenses.</p>\n",
    "\n",
    "<p>You have:\n",
    "Server logs with data on Yandex.Afisha visits from June 2017 through May 2018\n",
    "Dump file with all orders for the period\n",
    "Marketing expenses statistics</p>\n",
    "\n",
    "<p>You are going to study:\n",
    "How people use the product\n",
    "When they start to buy\n",
    "How much money each customer brings\n",
    "When they pay off</p>\n",
    "\n",
    "**Step 1. Download the data and prepare it for analysis**\n",
    "\n",
    "Store the data on visits, orders, and expenses in variables. Optimize the data for analysis. Make sure each column contains the correct data type.\n",
    "\n",
    "**Step 2. Make reports and calculate metrics**\n",
    "\n",
    "**Product**\n",
    "\n",
    "- How many people use it every day, week, and month?\n",
    "- How many sessions are there per day? (One user might have more than one session.)\n",
    "- What is the length of each session?\n",
    "- How often do users come back?\n",
    "\n",
    "**Sales**\n",
    "\n",
    "- When do people start buying? (In KPI analysis, we're usually interested in knowing the time that elapses between registration and conversion — when the user becomes a customer. For example, if registration and the first purchase occur on the same day, the user might fall into category Conversion 0d. If the first purchase happens the next day, it will be Conversion 1d. You can use any approach that lets you compare the conversions of different cohorts, so that you can determine which cohort, or marketing channel, is most effective.)\n",
    "- How many orders do they make during a given period of time?\n",
    "- What is the average purchase size?\n",
    "- How much money do they bring? (LTV)\n",
    "\n",
    "**Marketing**\n",
    "- How much money was spent? Overall/per source/over time\n",
    "- How much did customer acquisition from each of the sources cost?\n",
    "- How worthwhile where the investments? (ROI)\n",
    "\n",
    "\n",
    "**Step 3. Write a conclusion: advise marketing experts how much money to invest and where.**\n",
    "- What sources/platforms would you recommend? Back up your choice: what metrics did you focus on? Why? What conclusions did you draw after finding the metric values?\n",
    "\n",
    "<h2>Description of the data</h2>\n",
    "\n",
    "The visits table (server logs with data on website visits):\n",
    "\n",
    "- Uid — user's unique identifier\n",
    "- Device — user's device\n",
    "- Start Ts — session start date and time\n",
    "- End Ts — session end date and time\n",
    "- Source Id — identifier of the ad source the user came from\n",
    "- All dates in this table are in YYYY-MM-DD format.\n",
    "\n",
    "The orders table (data on orders):\n",
    "\n",
    "- Uid — unique identifier of the user making an order\n",
    "- Buy Ts — order date and time\n",
    "- Revenue — Yandex.Afisha's revenue from the order\n",
    "- The costs table (data on marketing expenses):\n",
    "- source_id — ad source identifier\n",
    "- dt — date\n",
    "- costs — expenses on this ad source on this day"
   ]
  },
  {
   "cell_type": "markdown",
   "metadata": {},
   "source": [
    "# Step 1. Download the data and prepare it for analysis\n"
   ]
  },
  {
   "cell_type": "code",
   "execution_count": null,
   "metadata": {},
   "outputs": [],
   "source": [
    "#!pip install -q plotly==5.5.0"
   ]
  },
  {
   "cell_type": "code",
   "execution_count": null,
   "metadata": {},
   "outputs": [],
   "source": [
    "#pip install -U sidetable"
   ]
  },
  {
   "cell_type": "code",
   "execution_count": null,
   "metadata": {},
   "outputs": [],
   "source": [
    "import pandas as pd\n",
    "import numpy as np\n",
    "import sidetable\n",
    "import seaborn as sns\n",
    "import matplotlib.pyplot as plt\n",
    "from datetime import datetime\n",
    "import plotly.express as px\n",
    "import plotly.graph_objects as go\n",
    "import warnings\n",
    "warnings.filterwarnings(\"ignore\")"
   ]
  },
  {
   "cell_type": "code",
   "execution_count": null,
   "metadata": {},
   "outputs": [],
   "source": [
    "visits = pd.read_csv('/datasets/visits_log_us.csv')\n",
    "orders = pd.read_csv('/datasets/orders_log_us.csv')\n",
    "costs = pd.read_csv('/datasets/costs_us.csv')"
   ]
  },
  {
   "cell_type": "markdown",
   "metadata": {},
   "source": [
    "Let's look at our visits data\n"
   ]
  },
  {
   "cell_type": "code",
   "execution_count": null,
   "metadata": {},
   "outputs": [],
   "source": [
    "visits.head()"
   ]
  },
  {
   "cell_type": "markdown",
   "metadata": {},
   "source": [
    "Let's look at our visits data.\n",
    "We have the device, end, and the start of the session, user id, and source id.\n",
    "Let's look at the info.\n"
   ]
  },
  {
   "cell_type": "code",
   "execution_count": null,
   "metadata": {},
   "outputs": [],
   "source": [
    "visits.info()"
   ]
  },
  {
   "cell_type": "markdown",
   "metadata": {},
   "source": [
    "We can see that a device is an object, but it can be a category data type.\n",
    "The End Ts and Start Ts also can be changed to DateTime.\n",
    "Let's look at missing values.\n"
   ]
  },
  {
   "cell_type": "code",
   "execution_count": null,
   "metadata": {},
   "outputs": [],
   "source": [
    "visits.stb.missing()"
   ]
  },
  {
   "cell_type": "markdown",
   "metadata": {},
   "source": [
    "No missing values. Let's look at the described method."
   ]
  },
  {
   "cell_type": "code",
   "execution_count": null,
   "metadata": {},
   "outputs": [],
   "source": [
    "visits.describe()"
   ]
  },
  {
   "cell_type": "code",
   "execution_count": null,
   "metadata": {},
   "outputs": [],
   "source": [
    "visits.stb.freq(['Device'])"
   ]
  },
  {
   "cell_type": "markdown",
   "metadata": {},
   "source": [
    "There are two types of devices: desktop and touch.\n",
    "73% of the visitors come from the desktop, and the rest come from the touch."
   ]
  },
  {
   "cell_type": "markdown",
   "metadata": {},
   "source": [
    "Let's look at the other databases with the same step as we did on the visits table."
   ]
  },
  {
   "cell_type": "code",
   "execution_count": null,
   "metadata": {},
   "outputs": [],
   "source": [
    "orders.head()"
   ]
  },
  {
   "cell_type": "markdown",
   "metadata": {},
   "source": [
    "We have Buy Ts as the date of orders, order revenue, and user id."
   ]
  },
  {
   "cell_type": "code",
   "execution_count": null,
   "metadata": {},
   "outputs": [],
   "source": [
    "orders.info()"
   ]
  },
  {
   "cell_type": "markdown",
   "metadata": {},
   "source": [
    "We need to change Buy Ts to date time."
   ]
  },
  {
   "cell_type": "code",
   "execution_count": null,
   "metadata": {},
   "outputs": [],
   "source": [
    "orders.stb.missing()"
   ]
  },
  {
   "cell_type": "code",
   "execution_count": null,
   "metadata": {},
   "outputs": [],
   "source": [
    "orders.describe()"
   ]
  },
  {
   "cell_type": "code",
   "execution_count": null,
   "metadata": {},
   "outputs": [],
   "source": [
    "orders.stb.missing()"
   ]
  },
  {
   "cell_type": "code",
   "execution_count": null,
   "metadata": {},
   "outputs": [],
   "source": [
    "costs.head()"
   ]
  },
  {
   "cell_type": "code",
   "execution_count": null,
   "metadata": {},
   "outputs": [],
   "source": [
    "costs.info()"
   ]
  },
  {
   "cell_type": "markdown",
   "metadata": {},
   "source": [
    "We need to change dt to DateTime.\n"
   ]
  },
  {
   "cell_type": "code",
   "execution_count": null,
   "metadata": {},
   "outputs": [],
   "source": [
    "costs.stb.missing()"
   ]
  },
  {
   "cell_type": "code",
   "execution_count": null,
   "metadata": {},
   "outputs": [],
   "source": [
    "costs.describe()"
   ]
  },
  {
   "cell_type": "markdown",
   "metadata": {},
   "source": [
    "Let's change data types on the visitor's table and give the columns better names.\n"
   ]
  },
  {
   "cell_type": "code",
   "execution_count": null,
   "metadata": {},
   "outputs": [],
   "source": [
    "visits.head(1)"
   ]
  },
  {
   "cell_type": "code",
   "execution_count": null,
   "metadata": {},
   "outputs": [],
   "source": [
    "visits['End Ts'] = pd.to_datetime(visits['End Ts'])"
   ]
  },
  {
   "cell_type": "code",
   "execution_count": null,
   "metadata": {},
   "outputs": [],
   "source": [
    "visits['Start Ts'] = pd.to_datetime(visits['Start Ts'])"
   ]
  },
  {
   "cell_type": "code",
   "execution_count": null,
   "metadata": {},
   "outputs": [],
   "source": [
    "visits['Device'] = visits['Device'].astype('category')"
   ]
  },
  {
   "cell_type": "code",
   "execution_count": null,
   "metadata": {},
   "outputs": [],
   "source": [
    "visits.columns = ['Device', 'session_end', 'Source_Id', 'session_start', 'Uid']"
   ]
  },
  {
   "cell_type": "code",
   "execution_count": null,
   "metadata": {},
   "outputs": [],
   "source": [
    "visits.head(1)"
   ]
  },
  {
   "cell_type": "code",
   "execution_count": null,
   "metadata": {},
   "outputs": [],
   "source": [
    "visits.info()"
   ]
  },
  {
   "cell_type": "code",
   "execution_count": null,
   "metadata": {},
   "outputs": [],
   "source": [
    "visits.head(1)"
   ]
  },
  {
   "cell_type": "markdown",
   "metadata": {},
   "source": [
    "Same with the order table."
   ]
  },
  {
   "cell_type": "code",
   "execution_count": null,
   "metadata": {},
   "outputs": [],
   "source": [
    "orders.head(1)"
   ]
  },
  {
   "cell_type": "code",
   "execution_count": null,
   "metadata": {},
   "outputs": [],
   "source": [
    "orders['Buy Ts'] = pd.to_datetime(orders['Buy Ts'])"
   ]
  },
  {
   "cell_type": "code",
   "execution_count": null,
   "metadata": {},
   "outputs": [],
   "source": [
    "orders = orders.rename(columns={\"Buy Ts\" : \"order_date\"})"
   ]
  },
  {
   "cell_type": "code",
   "execution_count": null,
   "metadata": {},
   "outputs": [],
   "source": [
    "orders.info()"
   ]
  },
  {
   "cell_type": "markdown",
   "metadata": {},
   "source": [
    "Same with costs table.\n"
   ]
  },
  {
   "cell_type": "code",
   "execution_count": null,
   "metadata": {},
   "outputs": [],
   "source": [
    "costs.head(1)"
   ]
  },
  {
   "cell_type": "code",
   "execution_count": null,
   "metadata": {},
   "outputs": [],
   "source": [
    "costs['dt'] = pd.to_datetime(costs['dt'])"
   ]
  },
  {
   "cell_type": "code",
   "execution_count": null,
   "metadata": {},
   "outputs": [],
   "source": [
    "costs=costs.rename(columns={'dt': 'cost_date'})"
   ]
  },
  {
   "cell_type": "code",
   "execution_count": null,
   "metadata": {},
   "outputs": [],
   "source": [
    "costs.info()"
   ]
  },
  {
   "cell_type": "markdown",
   "metadata": {},
   "source": [
    "The data is clean and ready for analysis.\n"
   ]
  },
  {
   "cell_type": "markdown",
   "metadata": {},
   "source": [
    "# Step 2. Make reports and calculate metrics:\n"
   ]
  },
  {
   "cell_type": "markdown",
   "metadata": {},
   "source": [
    "**1) Product**"
   ]
  },
  {
   "cell_type": "markdown",
   "metadata": {},
   "source": [
    "**How many people use it every day, week, and month?**"
   ]
  },
  {
   "cell_type": "markdown",
   "metadata": {},
   "source": [
    "Let's create additional date parameters to help us in the cohort analysis."
   ]
  },
  {
   "cell_type": "code",
   "execution_count": null,
   "metadata": {},
   "outputs": [],
   "source": [
    "visits.head()"
   ]
  },
  {
   "cell_type": "code",
   "execution_count": null,
   "metadata": {},
   "outputs": [],
   "source": [
    "visits['session_day'] = visits['session_start'].astype('datetime64[D]')\n",
    "visits['session_week'] = visits['session_start'].astype('datetime64[W]')\n",
    "visits['session_month'] = visits['session_start'].astype('datetime64[M]')"
   ]
  },
  {
   "cell_type": "markdown",
   "metadata": {},
   "source": [
    "Let's create DAU from the visits table.\n"
   ]
  },
  {
   "cell_type": "code",
   "execution_count": null,
   "metadata": {},
   "outputs": [],
   "source": [
    "dau=visits.groupby(visits['session_day'])['Uid'].nunique().reset_index()\n",
    "dau.head()"
   ]
  },
  {
   "cell_type": "markdown",
   "metadata": {},
   "source": [
    "lets plot the data of the DAU"
   ]
  },
  {
   "cell_type": "code",
   "execution_count": null,
   "metadata": {},
   "outputs": [],
   "source": [
    "fig = px.line(dau,x='session_day', y='Uid', title='DAU',\n",
    "             labels=dict(session_day=\"time\", Uid=\"num of DAU\")\n",
    "             )\n",
    "#adding reference line with average DAU over time\n",
    "fig.add_hline(y=dau['Uid'].mean(),line_dash=\"dash\", line_color=\"purple\", annotation_text=\"average DAU\",\n",
    "             annotation_position=\"top left\")\n",
    "fig.show()\n"
   ]
  },
  {
   "cell_type": "code",
   "execution_count": null,
   "metadata": {},
   "outputs": [],
   "source": [
    "dau['Uid'].mean()"
   ]
  },
  {
   "cell_type": "markdown",
   "metadata": {},
   "source": [
    "The average DAU is 907.\n",
    "Before Oct 2017, the  DAU was below average, but between Oct 2017 to Jan 2018, there was a spike in DAU.\n",
    "We can notice the influence of seasonality and Black Friday."
   ]
  },
  {
   "cell_type": "markdown",
   "metadata": {},
   "source": [
    "Let's look at the weekly active users.\n"
   ]
  },
  {
   "cell_type": "code",
   "execution_count": null,
   "metadata": {},
   "outputs": [],
   "source": [
    "wau=visits.groupby(visits['session_week'])['Uid'].nunique().reset_index()\n",
    "wau.head()"
   ]
  },
  {
   "cell_type": "code",
   "execution_count": null,
   "metadata": {},
   "outputs": [],
   "source": [
    "fig = px.line(wau,x='session_week', y='Uid', title='WAU',\n",
    "             labels=dict(session_week=\"time\", Uid=\"num of WAU\")\n",
    "             )\n",
    "fig.add_hline(y=wau['Uid'].mean(),line_dash=\"dash\", line_color=\"purple\", annotation_text=\"average DAU\",\n",
    "             annotation_position=\"top left\")\n",
    "fig.show()"
   ]
  },
  {
   "cell_type": "code",
   "execution_count": null,
   "metadata": {},
   "outputs": [],
   "source": [
    "wau['Uid'].mean()"
   ]
  },
  {
   "cell_type": "markdown",
   "metadata": {},
   "source": [
    "The average weekly user is 5724.\n",
    "Until Oct 2017, the WAU was below the mean, but it was above the mean between 0ct 2017 to April 2018 and then fell below the average."
   ]
  },
  {
   "cell_type": "markdown",
   "metadata": {},
   "source": [
    "Let's look at the monthly active users."
   ]
  },
  {
   "cell_type": "code",
   "execution_count": null,
   "metadata": {},
   "outputs": [],
   "source": [
    "mau=visits.groupby(['session_month'])['Uid'].nunique().reset_index()\n",
    "mau.head()"
   ]
  },
  {
   "cell_type": "code",
   "execution_count": null,
   "metadata": {},
   "outputs": [],
   "source": [
    "fig = px.line(mau,x='session_month', y='Uid', title='MAU',\n",
    "             labels=dict(session_month=\"time\", Uid=\"num of MAU\")\n",
    "             )\n",
    "fig.add_hline(y=mau['Uid'].mean(),line_dash=\"dash\", line_color=\"purple\", annotation_text=\"average DAU\",\n",
    "             annotation_position=\"top left\")\n",
    "\n",
    "fig.show()"
   ]
  },
  {
   "cell_type": "code",
   "execution_count": null,
   "metadata": {},
   "outputs": [],
   "source": [
    "mau['Uid'].mean()"
   ]
  },
  {
   "cell_type": "markdown",
   "metadata": {},
   "source": [
    "The MAU is 23228.\n",
    "Until the third quarter of September, the MAU was below average, but it has maintained above average since then."
   ]
  },
  {
   "cell_type": "markdown",
   "metadata": {},
   "source": [
    "**How many sessions are there per day? (One user might have more than one session.)**"
   ]
  },
  {
   "cell_type": "code",
   "execution_count": null,
   "metadata": {},
   "outputs": [],
   "source": [
    "s_per_day=visits.groupby(visits['session_start']).agg({'Uid': 'nunique'}).reset_index()\n",
    "s_per_day.head()"
   ]
  },
  {
   "cell_type": "code",
   "execution_count": null,
   "metadata": {},
   "outputs": [],
   "source": [
    "fig = px.line(s_per_day,x='Uid', y='session_start', title='session per day',\n",
    "             labels=dict(session_start=\"time\", Uid=\"num of session\")\n",
    "             )\n",
    "fig.show()"
   ]
  },
  {
   "cell_type": "markdown",
   "metadata": {},
   "source": [
    "We usually see no more than five sessions per day from the visual. But it's a little hard to understand it.\n",
    "Let's use the describe method to get some context."
   ]
  },
  {
   "cell_type": "code",
   "execution_count": null,
   "metadata": {},
   "outputs": [],
   "source": [
    "s_per_day['Uid'].value_counts()"
   ]
  },
  {
   "cell_type": "code",
   "execution_count": null,
   "metadata": {},
   "outputs": [],
   "source": [
    "s_per_day.stb.freq(['Uid'])"
   ]
  },
  {
   "cell_type": "markdown",
   "metadata": {},
   "source": [
    "60% made one session, 26% made two sessions, 9.5% made 3 sessions.\n",
    "users who did more than three sessions are less than 5% of our data."
   ]
  },
  {
   "cell_type": "code",
   "execution_count": null,
   "metadata": {},
   "outputs": [],
   "source": [
    "s_per_day.describe()"
   ]
  },
  {
   "cell_type": "markdown",
   "metadata": {},
   "source": [
    "There was 224303 session in our data with an average session of 1.6.\n",
    "Most of the visits were one session, and the maximum session per user was 19.\n"
   ]
  },
  {
   "cell_type": "markdown",
   "metadata": {},
   "source": [
    "**What is the length of each session?**"
   ]
  },
  {
   "cell_type": "code",
   "execution_count": null,
   "metadata": {},
   "outputs": [],
   "source": [
    "visits.head(1)"
   ]
  },
  {
   "cell_type": "markdown",
   "metadata": {},
   "source": [
    "Let's create a duration column in our visits column in seconds."
   ]
  },
  {
   "cell_type": "code",
   "execution_count": null,
   "metadata": {},
   "outputs": [],
   "source": [
    "visits['duration'] = (visits['session_end'] - visits['session_start']).dt.seconds"
   ]
  },
  {
   "cell_type": "code",
   "execution_count": null,
   "metadata": {},
   "outputs": [],
   "source": [
    "visits.head(1)"
   ]
  },
  {
   "cell_type": "code",
   "execution_count": null,
   "metadata": {},
   "outputs": [],
   "source": [
    "d_per_s = visits.groupby(['session_start'])['duration'].sum().reset_index()\n",
    "d_per_s.head()"
   ]
  },
  {
   "cell_type": "code",
   "execution_count": null,
   "metadata": {},
   "outputs": [],
   "source": [
    "fig = px.line(d_per_s,x='session_start', y='duration', title='duration per session',\n",
    "             labels=dict(session_start=\"time\", duration=\"duration in sec\")\n",
    "             )\n",
    "fig.show()"
   ]
  },
  {
   "cell_type": "markdown",
   "metadata": {},
   "source": [
    "It is hard to understand what is going on in this visual. Let's look at the described method and histogram."
   ]
  },
  {
   "cell_type": "code",
   "execution_count": null,
   "metadata": {},
   "outputs": [],
   "source": [
    "d_per_s['duration'].plot(kind='hist', bins=70)\n",
    "plt.xlabel('duration')\n",
    "plt.show()"
   ]
  },
  {
   "cell_type": "markdown",
   "metadata": {},
   "source": [
    "Hard to see from the histogram the exact picture, but we can see that there is no more than 10000 seconds duration.\n",
    "We can also see that most of the data is closer to 500 - 1000 sec, but that is hard to determine. let's look at the describe()"
   ]
  },
  {
   "cell_type": "code",
   "execution_count": null,
   "metadata": {},
   "outputs": [],
   "source": [
    "d_per_s['duration'].describe()"
   ]
  },
  {
   "cell_type": "markdown",
   "metadata": {},
   "source": [
    "The avg duration per session is 1031 sec. The median duration is 540. but the mean affected a lot by outliers like 0's(a user that might be got by mistake) and primarily by high duration period like the max: 84480 sec. (People who forgot their computer open.)"
   ]
  },
  {
   "cell_type": "markdown",
   "metadata": {},
   "source": [
    "Let's remove 0's from this column. We will not remove extremely high duration because we dont really know in what duration a user didn't use his device."
   ]
  },
  {
   "cell_type": "code",
   "execution_count": null,
   "metadata": {},
   "outputs": [],
   "source": [
    "d_per_s = d_per_s[d_per_s['duration'] != 0]"
   ]
  },
  {
   "cell_type": "code",
   "execution_count": null,
   "metadata": {},
   "outputs": [],
   "source": [
    "d_per_s['duration'].describe()"
   ]
  },
  {
   "cell_type": "markdown",
   "metadata": {},
   "source": [
    "The mode of a set of data values is the value that appears most often. It is the value at which the data is most likely to be sampled.\n",
    "Let's look at the mode."
   ]
  },
  {
   "cell_type": "code",
   "execution_count": null,
   "metadata": {},
   "outputs": [],
   "source": [
    "asl = d_per_s['duration'].mode()\n",
    "asl"
   ]
  },
  {
   "cell_type": "code",
   "execution_count": null,
   "metadata": {},
   "outputs": [],
   "source": [
    "60 / 60"
   ]
  },
  {
   "cell_type": "markdown",
   "metadata": {},
   "source": [
    "The average session length is 1 minutes."
   ]
  },
  {
   "cell_type": "markdown",
   "metadata": {},
   "source": [
    "**How often do users come back?**"
   ]
  },
  {
   "cell_type": "markdown",
   "metadata": {},
   "source": [
    "We need to calculate the retention rate. From here, we will create a monthly cohort and calculate each month's retention rate. But first, let's find our first session for each user and merge it back to the original data."
   ]
  },
  {
   "cell_type": "code",
   "execution_count": null,
   "metadata": {},
   "outputs": [],
   "source": [
    "visits.head(1)"
   ]
  },
  {
   "cell_type": "code",
   "execution_count": null,
   "metadata": {},
   "outputs": [],
   "source": [
    "min_visit = visits.groupby(['Uid'])['session_start'].min().reset_index()\n",
    "min_visit.columns = ['Uid', 'first_session']\n",
    "min_visit.head()"
   ]
  },
  {
   "cell_type": "code",
   "execution_count": null,
   "metadata": {},
   "outputs": [],
   "source": [
    "visits = visits.merge(min_visit, how='inner', on=['Uid'])\n",
    "visits.head()"
   ]
  },
  {
   "cell_type": "markdown",
   "metadata": {},
   "source": [
    "Let's create a  monthly cohort column from each first_session and calculate the age of each cohort."
   ]
  },
  {
   "cell_type": "code",
   "execution_count": null,
   "metadata": {},
   "outputs": [],
   "source": [
    "visits['cohort'] = visits['first_session'].astype('datetime64[M]')\n",
    "visits['age'] = ((pd.to_datetime(visits['session_start']) - pd.to_datetime(visits['first_session'])) / np.timedelta64(1,'M'))\\\n",
    "                                                                        .round().astype('int')\n",
    "visits.head()"
   ]
  },
  {
   "cell_type": "markdown",
   "metadata": {},
   "source": [
    "Now let's calculate the retention rate for each cohort with a pivot table.\n"
   ]
  },
  {
   "cell_type": "code",
   "execution_count": null,
   "metadata": {},
   "outputs": [],
   "source": [
    "cohorts = visits.pivot_table(index='cohort', columns='age', values='Uid', aggfunc='nunique').fillna(0)\n",
    "cohorts"
   ]
  },
  {
   "cell_type": "markdown",
   "metadata": {},
   "source": [
    "Now we have the number of unique users in each cohort. The retention rate is in %; let's calculate it."
   ]
  },
  {
   "cell_type": "code",
   "execution_count": null,
   "metadata": {},
   "outputs": [],
   "source": [
    "retention=cohorts.iloc[:,0:].div(cohorts[0], axis=0)\n",
    "retention"
   ]
  },
  {
   "cell_type": "markdown",
   "metadata": {},
   "source": [
    "Let's visualize it with a heatmap."
   ]
  },
  {
   "cell_type": "code",
   "execution_count": null,
   "metadata": {},
   "outputs": [],
   "source": [
    "# the first line just formats cohort into a str for a nicer output\n",
    "plt.figure(figsize=(13, 9))\n",
    "retention.index=retention.index.astype(str)\n",
    "sns.heatmap(retention, annot=True, fmt='.1%', linewidths=1, linecolor='grey',  vmax=0.1, cbar_kws= {'orientation': 'horizontal'} \n",
    "            ).set(title = 'Retention Rate')\n",
    "\n",
    "plt.show()"
   ]
  },
  {
   "cell_type": "markdown",
   "metadata": {},
   "source": [
    "For the first cohort, we see a retention rate of 74% after one month, then a decrease in month two but then an increase again.\n",
    "Maybe it is because of the holiday season.\n",
    "Cohorts from 06 - 11 in 2017 had a retention rate of more than 70% after the first month except month 07.\n",
    "The cohorts in 2017 perform much better than the cohorts in 2018 regarding retention rate, but we need to remember that these are different months."
   ]
  },
  {
   "cell_type": "markdown",
   "metadata": {},
   "source": [
    "**2) Sales**"
   ]
  },
  {
   "cell_type": "markdown",
   "metadata": {},
   "source": [
    "**When do people start buying? (In KPI analysis, we're usually interested in knowing the time that elapses between registration and conversion — when the user becomes a customer. For example, if registration and the first purchase occur on the same day, the user might fall into category Conversion 0d. If the first purchase happens the next day, it will be Conversion 1d. You can use any approach that lets you compare the conversions of different cohorts, so that you can determine which cohort, or marketing channel, is most effective.)**"
   ]
  },
  {
   "cell_type": "markdown",
   "metadata": {},
   "source": [
    "First, let's find the first order."
   ]
  },
  {
   "cell_type": "code",
   "execution_count": null,
   "metadata": {},
   "outputs": [],
   "source": [
    "orders.head(1)"
   ]
  },
  {
   "cell_type": "markdown",
   "metadata": {},
   "source": [
    "We will group the user id and take the first order date of each user. Then we will merge it again with our original data."
   ]
  },
  {
   "cell_type": "code",
   "execution_count": null,
   "metadata": {},
   "outputs": [],
   "source": [
    "first_order = orders.groupby(['Uid'])['order_date'].min().reset_index()\n",
    "first_order.columns = ['Uid', 'first_order']\n",
    "first_order.head()"
   ]
  },
  {
   "cell_type": "markdown",
   "metadata": {},
   "source": [
    "Let's merge the first order back to the order data."
   ]
  },
  {
   "cell_type": "code",
   "execution_count": null,
   "metadata": {},
   "outputs": [],
   "source": [
    "orders = orders.merge(first_order, on=['Uid'], how='left')\n",
    "orders.head()"
   ]
  },
  {
   "cell_type": "markdown",
   "metadata": {},
   "source": [
    "Now that we have our first order let's merge the first session into the order table."
   ]
  },
  {
   "cell_type": "code",
   "execution_count": null,
   "metadata": {},
   "outputs": [],
   "source": [
    "orders = orders.merge(min_visit, on=['Uid'], how='left')\n",
    "orders.head()"
   ]
  },
  {
   "cell_type": "markdown",
   "metadata": {},
   "source": [
    "Let's calculate the average conversion time and plot it."
   ]
  },
  {
   "cell_type": "code",
   "execution_count": null,
   "metadata": {},
   "outputs": [],
   "source": [
    "orders['conversion']=((pd.to_datetime(orders['first_order'])-pd.to_datetime(orders['first_session']))/np.timedelta64(1,'D')).astype('int')"
   ]
  },
  {
   "cell_type": "code",
   "execution_count": null,
   "metadata": {},
   "outputs": [],
   "source": [
    "fig = px.histogram(orders, x=\"conversion\",nbins=30)\n",
    "fig.show()"
   ]
  },
  {
   "cell_type": "code",
   "execution_count": null,
   "metadata": {},
   "outputs": [],
   "source": [
    "orders['conversion'].describe()"
   ]
  },
  {
   "cell_type": "markdown",
   "metadata": {},
   "source": [
    "We have a lot of 0's in the table.\n",
    "This is because not every session becomes a conversion."
   ]
  },
  {
   "cell_type": "code",
   "execution_count": null,
   "metadata": {},
   "outputs": [],
   "source": [
    "orders['conversion'].value_counts()"
   ]
  },
  {
   "cell_type": "markdown",
   "metadata": {},
   "source": [
    "Let's remove people who didn't convert."
   ]
  },
  {
   "cell_type": "code",
   "execution_count": null,
   "metadata": {},
   "outputs": [],
   "source": [
    "conversion = orders[orders['conversion'] != 0]\n",
    "conversion.head()"
   ]
  },
  {
   "cell_type": "code",
   "execution_count": null,
   "metadata": {},
   "outputs": [],
   "source": [
    "fig = px.histogram(conversion, x=\"conversion\",nbins=30)\n",
    "fig.show()"
   ]
  },
  {
   "cell_type": "code",
   "execution_count": null,
   "metadata": {},
   "outputs": [],
   "source": [
    "conversion['conversion'].describe()"
   ]
  },
  {
   "cell_type": "markdown",
   "metadata": {},
   "source": [
    "The data is skewed to the right, which dramatically affects our average. Let's take the median."
   ]
  },
  {
   "cell_type": "code",
   "execution_count": null,
   "metadata": {},
   "outputs": [],
   "source": [
    "conversion['conversion'].median()"
   ]
  },
  {
   "cell_type": "markdown",
   "metadata": {},
   "source": [
    "So, on average it takes 21 days to convert for a user. But how many users converted at all? "
   ]
  },
  {
   "cell_type": "code",
   "execution_count": null,
   "metadata": {},
   "outputs": [],
   "source": [
    "print(' The overall conversion is {:.1%}'.format(orders['Uid'].nunique()/visits['Uid'].nunique()))"
   ]
  },
  {
   "cell_type": "markdown",
   "metadata": {},
   "source": [
    "**How many orders do they make during a given period of time?**"
   ]
  },
  {
   "cell_type": "markdown",
   "metadata": {},
   "source": [
    "We need to create cohorts for the orders.\n",
    "First, let's create the date of each user's first order month to define our cohorts. "
   ]
  },
  {
   "cell_type": "markdown",
   "metadata": {},
   "source": [
    "First, let's create the date of each user's first order month to define our cohorts. "
   ]
  },
  {
   "cell_type": "code",
   "execution_count": null,
   "metadata": {},
   "outputs": [],
   "source": [
    "orders['first_order_month'] = orders['first_order'].astype('datetime64[M]')\n",
    "orders.head()"
   ]
  },
  {
   "cell_type": "markdown",
   "metadata": {},
   "source": [
    "Let's create the month of each order."
   ]
  },
  {
   "cell_type": "code",
   "execution_count": null,
   "metadata": {},
   "outputs": [],
   "source": [
    "orders['month'] = orders['order_date'].astype('datetime64[M]')"
   ]
  },
  {
   "cell_type": "code",
   "execution_count": null,
   "metadata": {},
   "outputs": [],
   "source": [
    "cohort_sizes = orders.groupby('first_order_month').agg({'Uid': 'nunique'}).reset_index()\n",
    "cohort_sizes.columns = ['first_order_month', 'cohort_size']\n",
    "cohort_sizes.head()"
   ]
  },
  {
   "cell_type": "code",
   "execution_count": null,
   "metadata": {},
   "outputs": [],
   "source": [
    "#calculating number of orders for cohort and month\n",
    "cohort_orders=orders.groupby(['first_order_month','month'])['Revenue'].count().reset_index()\n",
    "cohort_orders.columns=['first_order_month','month','orders']\n",
    "#merge cohort_orders with cohort size\n",
    "cohort_orders=cohort_orders.merge(cohort_sizes,on=['first_order_month'])\n",
    "cohort_orders['age_month'] = ((cohort_orders['month'] - cohort_orders['first_order_month']) / np.timedelta64(1,'M')).round()\n",
    "cohort_orders['orders_per_buyer']=cohort_orders['orders']/cohort_orders['cohort_size']\n",
    "cohort_orders.head()\n",
    " "
   ]
  },
  {
   "cell_type": "code",
   "execution_count": null,
   "metadata": {},
   "outputs": [],
   "source": [
    "cohort_piv=cohort_orders.pivot_table(\n",
    "    index='first_order_month', \n",
    "    columns='age_month', \n",
    "    values='orders_per_buyer', \n",
    "    aggfunc='sum'\n",
    ")\n",
    "\n",
    "cohort_piv.round(2).fillna('')"
   ]
  },
  {
   "cell_type": "code",
   "execution_count": null,
   "metadata": {},
   "outputs": [],
   "source": [
    "plt.figure(figsize=(13, 9))\n",
    "sns.heatmap(cohort_piv, annot=True, fmt='.1%', linewidths=1, linecolor='grey',  vmax=0.1, cbar_kws= {'orientation': 'horizontal'} \n",
    "            ).set(title = 'orders per user')\n",
    "plt.xlabel(\"age\")\n",
    "plt.ylabel(\"cohorts\")\n",
    "plt.show()"
   ]
  },
  {
   "cell_type": "markdown",
   "metadata": {},
   "source": [
    "The first month of each cohort is the best. The first cohorts 06-2017  he's the best performance, and we can see even a rise in order per user after three months and after seven months a decrease.\n",
    "The 08-2017 and 09-2017 also perform well compared to other cohorts."
   ]
  },
  {
   "cell_type": "markdown",
   "metadata": {},
   "source": [
    "**What is the average purchase size?**\n"
   ]
  },
  {
   "cell_type": "code",
   "execution_count": null,
   "metadata": {},
   "outputs": [],
   "source": [
    "avg_check=orders.groupby(['Uid'])['Revenue'].sum().reset_index()\n",
    "avg_check = avg_check[avg_check['Revenue'] != 0]\n",
    "avg_check.plot(kind='hist', x='Uid', y='Revenue')\n",
    "plt.show()"
   ]
  },
  {
   "cell_type": "markdown",
   "metadata": {},
   "source": [
    "Hard to understand from the histogram. let's use the describe()"
   ]
  },
  {
   "cell_type": "code",
   "execution_count": null,
   "metadata": {},
   "outputs": [],
   "source": [
    "avg_check['Revenue'].describe()"
   ]
  },
  {
   "cell_type": "code",
   "execution_count": null,
   "metadata": {},
   "outputs": [],
   "source": [
    "avg_check['Revenue'].mode()"
   ]
  },
  {
   "cell_type": "markdown",
   "metadata": {},
   "source": [
    "the average purchase size is 2.44"
   ]
  },
  {
   "cell_type": "markdown",
   "metadata": {},
   "source": [
    "**Let's look at the avg order size for each cohort month**"
   ]
  },
  {
   "cell_type": "code",
   "execution_count": null,
   "metadata": {},
   "outputs": [],
   "source": [
    "avg_cohort=orders.groupby(['first_order_month','month'])['Revenue'].mean().reset_index()\n",
    "avg_cohort['age_month'] = ((avg_cohort['month'] - avg_cohort['first_order_month']) / np.timedelta64(1,'M')).round()\n",
    "avg_cohort.head()"
   ]
  },
  {
   "cell_type": "code",
   "execution_count": null,
   "metadata": {},
   "outputs": [],
   "source": [
    "avg_cohort_piv=avg_cohort.pivot_table(\n",
    "    index='first_order_month', \n",
    "    columns='age_month', \n",
    "    values='Revenue', \n",
    "    aggfunc='mean'\n",
    ")\n",
    "\n",
    "avg_cohort_piv.round(2).fillna('')"
   ]
  },
  {
   "cell_type": "markdown",
   "metadata": {},
   "source": [
    "**How much money do they bring? (LTV)**"
   ]
  },
  {
   "cell_type": "code",
   "execution_count": null,
   "metadata": {},
   "outputs": [],
   "source": [
    "#get the revenue per cohort in each month\n",
    "ltv_cohort=orders.groupby(['first_order_month','month'])['Revenue'].sum().reset_index()\n",
    "ltv_cohort.columns = ['first_order_month','month','revenue']\n",
    "#merge with the cohort size\n",
    "ltv_cohort=ltv_cohort.merge(cohort_sizes,on=['first_order_month'])\n",
    "ltv_cohort['age']=((ltv_cohort['month'] - ltv_cohort['first_order_month']) / np.timedelta64(1,'M')).round()\n",
    "ltv_cohort['ltv']=ltv_cohort['revenue']/ltv_cohort['cohort_size']\n",
    "ltv_cohort"
   ]
  },
  {
   "cell_type": "code",
   "execution_count": null,
   "metadata": {},
   "outputs": [],
   "source": [
    "ltv_cohort_piv=ltv_cohort.pivot_table(\n",
    "    index='first_order_month', \n",
    "    columns='age', \n",
    "    values='ltv', \n",
    "    aggfunc='sum'\n",
    ").cumsum(axis=1)"
   ]
  },
  {
   "cell_type": "code",
   "execution_count": null,
   "metadata": {},
   "outputs": [],
   "source": [
    "plt.figure(figsize=(13, 9))\n",
    "ltv_cohort_piv.index=ltv_cohort_piv.index.astype(str)\n",
    "sns.heatmap(ltv_cohort_piv, annot=True, fmt='.2f', linewidths=1, linecolor='grey', cbar_kws= {'orientation': 'horizontal'} \n",
    "            ).set(title ='LTV')\n",
    "plt.xlabel(\"age\")\n",
    "plt.ylabel(\"cohorts\")\n",
    "plt.show()"
   ]
  },
  {
   "cell_type": "markdown",
   "metadata": {},
   "source": [
    "LTV is always going up. The two cohorts that really stood out are 09-2017 and 06-2017."
   ]
  },
  {
   "cell_type": "markdown",
   "metadata": {},
   "source": [
    "**3) Marketing**"
   ]
  },
  {
   "cell_type": "markdown",
   "metadata": {},
   "source": [
    "**How much money was spent? Overall/per source/over time**"
   ]
  },
  {
   "cell_type": "markdown",
   "metadata": {},
   "source": [
    "To answer this question we just need **costs** table. Group costs by source and visualize it."
   ]
  },
  {
   "cell_type": "code",
   "execution_count": null,
   "metadata": {},
   "outputs": [],
   "source": [
    "costs.head()"
   ]
  },
  {
   "cell_type": "code",
   "execution_count": null,
   "metadata": {},
   "outputs": [],
   "source": [
    "#sorting cost for futher visualization\n",
    "costs=costs.sort_values(by=['cost_date','source_id'])\n",
    "costs.head()"
   ]
  },
  {
   "cell_type": "code",
   "execution_count": null,
   "metadata": {},
   "outputs": [],
   "source": [
    "print('Total marketing cost is {}'.format(costs['costs'].sum()))"
   ]
  },
  {
   "cell_type": "markdown",
   "metadata": {},
   "source": [
    "**Let's see what how it's split across sources**"
   ]
  },
  {
   "cell_type": "code",
   "execution_count": null,
   "metadata": {},
   "outputs": [],
   "source": [
    "marketing_per_source=costs.groupby(['source_id'])['costs'].sum().reset_index()\n",
    "marketing_per_source.sort_values(by='costs', ascending=False).head()"
   ]
  },
  {
   "cell_type": "markdown",
   "metadata": {},
   "source": [
    "In that exact order, the top 5 costly sources in terms of ad spend are 3, 4, 5, 2, 1."
   ]
  },
  {
   "cell_type": "code",
   "execution_count": null,
   "metadata": {},
   "outputs": [],
   "source": [
    "#plotting costs over time\n",
    "import plotly.express as px\n",
    "\n",
    "fig = px.line(costs, x=\"cost_date\", y=\"costs\", color='source_id', title='Cost per source')\n",
    "fig.show()"
   ]
  },
  {
   "cell_type": "markdown",
   "metadata": {},
   "source": [
    "In this visual, we can see that each source behaves the same over time in terms of cost. Source 3 leads the dance here."
   ]
  },
  {
   "cell_type": "markdown",
   "metadata": {},
   "source": [
    "**How much did customer acquisition from each of the sources cost?**\n"
   ]
  },
  {
   "cell_type": "markdown",
   "metadata": {},
   "source": [
    "For customer acquistion we will calculate it based on **customers** not visitors. Let's do it by month. We need to group costs and customers by month then."
   ]
  },
  {
   "cell_type": "code",
   "execution_count": null,
   "metadata": {},
   "outputs": [],
   "source": [
    "costs['costs_month'] = costs['cost_date'].astype('datetime64[M]')"
   ]
  },
  {
   "cell_type": "code",
   "execution_count": null,
   "metadata": {},
   "outputs": [],
   "source": [
    "marketing_by_month=costs.groupby(['costs_month'])['costs'].sum().reset_index()\n",
    "marketing_by_month.head()"
   ]
  },
  {
   "cell_type": "code",
   "execution_count": null,
   "metadata": {},
   "outputs": [],
   "source": [
    "buyers_per_moth=orders.groupby(['first_order_month'])['Uid'].nunique().reset_index()\n",
    "buyers_per_moth.columns=['costs_month','buyers']\n",
    "buyers_per_moth.head()"
   ]
  },
  {
   "cell_type": "code",
   "execution_count": null,
   "metadata": {},
   "outputs": [],
   "source": [
    "CAC_per_month=marketing_by_month.merge(buyers_per_moth,how='left',on=['costs_month'])\n",
    "CAC_per_month['CAC']=CAC_per_month['costs']/CAC_per_month['buyers']\n",
    "CAC_per_month.head()"
   ]
  },
  {
   "cell_type": "code",
   "execution_count": null,
   "metadata": {},
   "outputs": [],
   "source": [
    "fig = px.line(CAC_per_month, x=\"costs_month\", y=\"CAC\", title='CAC')\n",
    "fig.show()"
   ]
  },
  {
   "cell_type": "markdown",
   "metadata": {},
   "source": [
    "It looks like the CAC starts around 9, and for starters, he goes up, but it decreases dramatically in the end.\n"
   ]
  },
  {
   "cell_type": "markdown",
   "metadata": {},
   "source": [
    "#### CAC per source"
   ]
  },
  {
   "cell_type": "markdown",
   "metadata": {},
   "source": [
    "In order to calculate CAC per source we need to know the original source of the user. If we check our original dataset we will see that users can come from different sources"
   ]
  },
  {
   "cell_type": "markdown",
   "metadata": {},
   "source": [
    "We look at orders table because even if the user didn't buy smth, he still came from the  first source"
   ]
  },
  {
   "cell_type": "code",
   "execution_count": null,
   "metadata": {},
   "outputs": [],
   "source": [
    "visits.head(1)"
   ]
  },
  {
   "cell_type": "code",
   "execution_count": null,
   "metadata": {},
   "outputs": [],
   "source": [
    "visits.groupby(['Uid'])['Source_Id'].nunique().value_counts()"
   ]
  },
  {
   "cell_type": "markdown",
   "metadata": {},
   "source": [
    "Not all users have one source, let's define the first that they came from as the main source."
   ]
  },
  {
   "cell_type": "code",
   "execution_count": null,
   "metadata": {},
   "outputs": [],
   "source": [
    "first_source=visits.sort_values('Source_Id').groupby('Uid').first()['Source_Id'].reset_index()\n",
    "first_source.columns=['Uid','first_source']\n",
    "first_source.head()"
   ]
  },
  {
   "cell_type": "code",
   "execution_count": null,
   "metadata": {},
   "outputs": [],
   "source": [
    "orders=orders.merge(first_source, on=['Uid'], how='left')\n",
    "orders.head()"
   ]
  },
  {
   "cell_type": "markdown",
   "metadata": {},
   "source": [
    "Let's see how CAC was changing for each source across time"
   ]
  },
  {
   "cell_type": "code",
   "execution_count": null,
   "metadata": {},
   "outputs": [],
   "source": [
    "costs.head(1)"
   ]
  },
  {
   "cell_type": "code",
   "execution_count": null,
   "metadata": {},
   "outputs": [],
   "source": [
    "marketing_by_month_source=costs.groupby(['costs_month','source_id'])['costs'].sum().reset_index()\n",
    "marketing_by_month_source.head()"
   ]
  },
  {
   "cell_type": "code",
   "execution_count": null,
   "metadata": {},
   "outputs": [],
   "source": [
    "buyers_per_moth_source=orders.groupby(['first_order_month','first_source'])['Uid'].nunique().reset_index()\n",
    "buyers_per_moth_source.columns=['costs_month','source_id','buyers']\n",
    "buyers_per_moth_source.head()"
   ]
  },
  {
   "cell_type": "code",
   "execution_count": null,
   "metadata": {},
   "outputs": [],
   "source": [
    "#actual cac calculations\n",
    "CAC_per_month_source=marketing_by_month_source.merge(buyers_per_moth_source,how='left',on=['costs_month','source_id'])\n",
    "CAC_per_month_source['CAC']=CAC_per_month_source['costs']/CAC_per_month_source['buyers']\n",
    "CAC_per_month_source.head()"
   ]
  },
  {
   "cell_type": "code",
   "execution_count": null,
   "metadata": {},
   "outputs": [],
   "source": [
    "#plotting cac dynamics\n",
    "fig = px.line(CAC_per_month_source, x=\"costs_month\", y=\"CAC\",color='source_id',title='CAC')\n",
    "fig.show()"
   ]
  },
  {
   "cell_type": "markdown",
   "metadata": {},
   "source": [
    "It seems like source one is not utilizing enough. We sow that he is only number 5 in total cost per source, but in terms of price per acquisition source, one is the cheapest, and we should put more money on it."
   ]
  },
  {
   "cell_type": "markdown",
   "metadata": {},
   "source": [
    "How worthwhile where the investments? (ROI)"
   ]
  },
  {
   "cell_type": "markdown",
   "metadata": {},
   "source": [
    "**In genereal, ROI=LTV/CAC**\n",
    "    <div>\n",
    "We already have calculations on CAC per month and we have info on ltv in ltv_cohort. So let's merge and work it out!"
   ]
  },
  {
   "cell_type": "code",
   "execution_count": null,
   "metadata": {},
   "outputs": [],
   "source": [
    "CAC_per_month_ROI=CAC_per_month[['costs_month','CAC']]\n",
    "CAC_per_month_ROI.columns=['first_order_month','CAC']\n",
    "ROI=ltv_cohort.merge(CAC_per_month_ROI,on=['first_order_month'],how='left')\n",
    "ROI.head()"
   ]
  },
  {
   "cell_type": "code",
   "execution_count": null,
   "metadata": {},
   "outputs": [],
   "source": [
    "ROI['ROI']=ROI['ltv']/ROI['CAC']\n",
    "roi_piv = ROI.pivot_table(\n",
    "    index='first_order_month', columns='age', values='ROI', aggfunc='mean'\n",
    ").cumsum(axis=1).round(2) "
   ]
  },
  {
   "cell_type": "code",
   "execution_count": null,
   "metadata": {},
   "outputs": [],
   "source": [
    "plt.figure(figsize=(13, 9))\n",
    "roi_piv.index=roi_piv.index.astype(str)\n",
    "sns.heatmap(roi_piv, annot=True, fmt='.2f', linewidths=1, linecolor='grey', cbar_kws= {'orientation': 'horizontal'} \n",
    "            ).set(title ='ROI per cohort')\n",
    "plt.show()"
   ]
  },
  {
   "cell_type": "markdown",
   "metadata": {},
   "source": [
    "We can see that the first cohort closed with the second higher ROI; the 09-2017 also performed well and finished first. The cohort of 02-2018 ended with the lowest ROI. "
   ]
  },
  {
   "cell_type": "code",
   "execution_count": null,
   "metadata": {},
   "outputs": [],
   "source": [
    "ltv_per_source=orders.groupby(['first_source'])['Uid','Revenue'].agg({'Uid':'nunique','Revenue':'sum'}).reset_index()\n",
    "ltv_per_source.columns=['source_id','buyers','revenue']\n",
    "ltv_per_source['ltv']=ltv_per_source['revenue']/ltv_per_source['buyers']\n",
    "ltv_per_source\n"
   ]
  },
  {
   "cell_type": "code",
   "execution_count": null,
   "metadata": {},
   "outputs": [],
   "source": [
    "roi_per_source=marketing_per_source.merge(ltv_per_source,on=['source_id'])\n",
    "roi_per_source['cac']=roi_per_source['costs']/roi_per_source['buyers']\n",
    "roi_per_source['romi']=roi_per_source['ltv']/roi_per_source['cac']\n",
    "roi_per_source"
   ]
  },
  {
   "cell_type": "markdown",
   "metadata": {},
   "source": [
    "**I have already done it, but there is a problem with the jupyter hub it got data lost. My final task and conclusion were lost /: \n",
    "I did it again, though.**"
   ]
  },
  {
   "cell_type": "markdown",
   "metadata": {},
   "source": [
    "**version 2: I have already done it, but there is a problem with the jupyter hub it got data lost. My final task and conclusion were lost /: \n",
    "I did it again, though.**"
   ]
  },
  {
   "cell_type": "markdown",
   "metadata": {},
   "source": [
    "**this is the third time /: I have already done it, but there is a problem with the jupyter hub it got data lost. My final task and conclusion were lost /: \n",
    "I did it again, though.**"
   ]
  },
  {
   "cell_type": "code",
   "execution_count": null,
   "metadata": {},
   "outputs": [],
   "source": [
    "fig = px.bar(roi_per_source, x='source_id', y='romi', labels={\n",
    "                     \"source_id\": \"source\", 'romi': 'return on marketing invesment'}, title='ROI PER SOURCE')\n",
    "fig.update_xaxes(type='category')\n",
    "fig.show()"
   ]
  },
  {
   "cell_type": "markdown",
   "metadata": {},
   "source": [
    "We see that source one is the winner in terms of ROI. Also, he is only the 5th expensive source, and he has the cheapest cost per acquisition. The company should start pumping more money into this channel, and maybe it is a good idea to take it from source 3. also, source number one has a good potential in terms of ROI and CAC."
   ]
  },
  {
   "cell_type": "markdown",
   "metadata": {},
   "source": [
    "# Step 3. Write a conclusion: advise marketing experts how much money to invest and where."
   ]
  },
  {
   "cell_type": "markdown",
   "metadata": {},
   "source": [
    "We have come a long way since the mission was put on our desk.\n",
    "\n",
    "\n",
    "**Step 1. Download the data and prepare it for analysis**\n",
    "\n",
    "- We store the data on a variable.\n",
    "- We learned about our data.\n",
    "- We checked for duplicated values.\n",
    "- We change data types.\n",
    "- We change the names of the columns for a better understanding.\n",
    "\n",
    "**Step 2. Make reports and calculate metrics:**\n",
    "\n",
    "- We checked daily active users and found The average DAU is 907.\n",
    "\n",
    "\n",
    "- Before Oct 2017, the  DAU was below average, but between Oct 2017 to Jan 2018, there was a spike in DAU. \n",
    "\n",
    "\n",
    "- We can notice the influence of seasonality and Black Friday.\n",
    "\n",
    "\n",
    "- The average weekly user is 5724.\n",
    "\n",
    "\n",
    "- Until Oct 2017, the WAU was below the mean, but it was above the mean between 0ct 2017 to April 2018 and then fell below the average.\n",
    "\n",
    "\n",
    "- The MAU is 23228.\n",
    "\n",
    "\n",
    "- Until the third quarter of September, the MAU was below average, but it has maintained above average since then.\n",
    "\n",
    "\n",
    "- 60%  of users made one session, 26% made two sessions, 9.5% made three sessions.\n",
    "\n",
    "\n",
    "- Users who did more than three sessions are less than 5% of our data.\n",
    "\n",
    "\n",
    "**- There was 224303 session in our data with an average session of 1.6.**\n",
    "\n",
    "\n",
    "- Most of the visits were one session, and the maximum session per user was 19.\n",
    "\n",
    "\n",
    "- The avg duration per session is 1031 sec. The median duration is 540. but the mean affected a lot by outliers like 0's(a user that might be got by mistake) and primarily by high duration period like the max: 84480 sec. (People who forgot their computer open.)\n",
    "\n",
    "\n",
    "- The average session length is 1 minute.\n",
    "\n",
    "\n",
    "**- On average, it takes 21 days to convert for a user.**\n",
    "\n",
    "\n",
    "**- The overall conversion is 16.0%**\n",
    "\n",
    "\n",
    "- The first month of each cohort is the best. The first cohorts 06-2017  he's the best performance, and we can see even a rise in order per user after three months and after seven months a decrease.\n",
    "\n",
    "\n",
    "- The 08-2017 and 09-2017 also perform well compared to other cohorts.\n",
    "\n",
    "**- The average purchase size is 2.44.**\n",
    "\n",
    "- LTV is always going up. However, the two cohorts that stood out were 09-2017 and 06-2017.\n",
    "\n",
    "\n",
    "**- The total marketing cost is 329131.62**\n",
    "\n",
    "\n",
    "- Each source behaves the same over time in terms of cost. Source 3 leads the dance.\n",
    "\n",
    "\n",
    "**- CAC starts around 9, and for starters, he goes up, but it decreases dramatically in the End.**\n",
    "\n",
    "\n",
    "**- Source one is not utilized enough. We sow that he is only number 5 in total cost per source, but in terms of price per acquisition source, one is the cheapest, and we should put more money on it.**\n",
    "\n",
    "\n",
    "**- I recommend taking the budget from source three and investing more in source one.**\n",
    "\n",
    "\n",
    "**- The first cohort closed with the second higher ROI; the 09-2017 also performed well and finished first. Unfortunately, the cohort of 02-2018 ended with the lowest ROI.**\n",
    "\n",
    "\n",
    "**- We see that source one is the winner in terms of ROI. Also, he is only the 5th expensive source, and he has the cheapest cost per acquisition. The company should start pumping more money into this channel, and maybe it is a good idea to take it from source 3. also, source number two has a good potential in terms of ROI and CAC.**\n"
   ]
  },
  {
   "cell_type": "code",
   "execution_count": null,
   "metadata": {},
   "outputs": [],
   "source": []
  }
 ],
 "metadata": {
  "ExecuteTimeLog": [
   {
    "duration": 967,
    "start_time": "2022-02-03T16:28:31.272Z"
   },
   {
    "duration": 7762,
    "start_time": "2022-02-03T16:29:20.422Z"
   },
   {
    "duration": 580,
    "start_time": "2022-02-03T16:29:28.187Z"
   },
   {
    "duration": 581,
    "start_time": "2022-02-03T16:35:06.141Z"
   },
   {
    "duration": 11,
    "start_time": "2022-02-03T16:35:17.831Z"
   },
   {
    "duration": 7,
    "start_time": "2022-02-03T16:35:32.781Z"
   },
   {
    "duration": 640,
    "start_time": "2022-02-03T16:35:53.312Z"
   },
   {
    "duration": 16,
    "start_time": "2022-02-03T16:36:09.390Z"
   },
   {
    "duration": 7,
    "start_time": "2022-02-03T16:36:24.192Z"
   },
   {
    "duration": 15,
    "start_time": "2022-02-03T16:36:40.312Z"
   },
   {
    "duration": 3,
    "start_time": "2022-02-03T16:41:32.312Z"
   },
   {
    "duration": 558,
    "start_time": "2022-02-03T16:41:35.001Z"
   },
   {
    "duration": 6,
    "start_time": "2022-02-03T16:41:35.731Z"
   },
   {
    "duration": 6,
    "start_time": "2022-02-03T16:41:35.920Z"
   },
   {
    "duration": 11,
    "start_time": "2022-02-03T16:41:36.091Z"
   },
   {
    "duration": 13,
    "start_time": "2022-02-03T16:41:36.236Z"
   },
   {
    "duration": 7,
    "start_time": "2022-02-03T16:42:22.480Z"
   },
   {
    "duration": 7,
    "start_time": "2022-02-03T16:42:33.611Z"
   },
   {
    "duration": 517,
    "start_time": "2022-02-03T16:42:55.032Z"
   },
   {
    "duration": 8,
    "start_time": "2022-02-03T16:42:57.341Z"
   },
   {
    "duration": 7,
    "start_time": "2022-02-03T16:43:02.150Z"
   },
   {
    "duration": 9,
    "start_time": "2022-02-03T16:43:14.491Z"
   },
   {
    "duration": 9,
    "start_time": "2022-02-03T16:43:27.841Z"
   },
   {
    "duration": 9,
    "start_time": "2022-02-03T16:43:51.091Z"
   },
   {
    "duration": 7,
    "start_time": "2022-02-03T16:44:26.290Z"
   },
   {
    "duration": 313,
    "start_time": "2022-02-03T16:55:22.581Z"
   },
   {
    "duration": 20,
    "start_time": "2022-02-03T16:55:26.682Z"
   },
   {
    "duration": 17,
    "start_time": "2022-02-03T16:56:29.272Z"
   },
   {
    "duration": 7,
    "start_time": "2022-02-03T16:56:43.922Z"
   },
   {
    "duration": 6,
    "start_time": "2022-02-03T16:56:52.101Z"
   },
   {
    "duration": 12,
    "start_time": "2022-02-03T16:57:19.093Z"
   },
   {
    "duration": 14,
    "start_time": "2022-02-03T16:58:19.021Z"
   },
   {
    "duration": 580,
    "start_time": "2022-02-03T17:00:09.931Z"
   },
   {
    "duration": 7,
    "start_time": "2022-02-03T17:00:10.513Z"
   },
   {
    "duration": 48,
    "start_time": "2022-02-03T17:00:10.522Z"
   },
   {
    "duration": 103,
    "start_time": "2022-02-03T17:00:21.711Z"
   },
   {
    "duration": 36,
    "start_time": "2022-02-03T17:00:22.620Z"
   },
   {
    "duration": 7,
    "start_time": "2022-02-03T17:00:24.829Z"
   },
   {
    "duration": 8,
    "start_time": "2022-02-03T17:00:26.012Z"
   },
   {
    "duration": 21,
    "start_time": "2022-02-03T17:00:26.972Z"
   },
   {
    "duration": 20,
    "start_time": "2022-02-03T17:00:30.432Z"
   },
   {
    "duration": 8,
    "start_time": "2022-02-03T17:00:32.851Z"
   },
   {
    "duration": 6,
    "start_time": "2022-02-03T17:00:36.521Z"
   },
   {
    "duration": 13,
    "start_time": "2022-02-03T17:00:39.910Z"
   },
   {
    "duration": 14,
    "start_time": "2022-02-03T17:00:42.521Z"
   },
   {
    "duration": 7,
    "start_time": "2022-02-03T17:25:42.250Z"
   },
   {
    "duration": 6,
    "start_time": "2022-02-03T17:29:08.323Z"
   },
   {
    "duration": 66,
    "start_time": "2022-02-03T17:29:09.652Z"
   },
   {
    "duration": 72,
    "start_time": "2022-02-03T17:29:10.940Z"
   },
   {
    "duration": -705,
    "start_time": "2022-02-03T17:35:25.054Z"
   },
   {
    "duration": 10,
    "start_time": "2022-02-03T17:35:29.580Z"
   },
   {
    "duration": 12,
    "start_time": "2022-02-03T17:36:44.032Z"
   },
   {
    "duration": 67,
    "start_time": "2022-02-03T17:36:47.421Z"
   },
   {
    "duration": 65,
    "start_time": "2022-02-03T17:36:47.866Z"
   },
   {
    "duration": 9,
    "start_time": "2022-02-03T17:36:49.972Z"
   },
   {
    "duration": 5,
    "start_time": "2022-02-03T17:36:58.442Z"
   },
   {
    "duration": 5,
    "start_time": "2022-02-03T17:36:58.839Z"
   },
   {
    "duration": 1140,
    "start_time": "2022-02-03T17:37:00.499Z"
   },
   {
    "duration": -550,
    "start_time": "2022-02-03T17:37:02.190Z"
   },
   {
    "duration": 3226,
    "start_time": "2022-02-03T17:37:35.460Z"
   },
   {
    "duration": 3,
    "start_time": "2022-02-03T17:37:41.838Z"
   },
   {
    "duration": 520,
    "start_time": "2022-02-03T17:37:42.271Z"
   },
   {
    "duration": 2274,
    "start_time": "2022-02-03T17:37:44.529Z"
   },
   {
    "duration": 2,
    "start_time": "2022-02-03T17:37:46.805Z"
   },
   {
    "duration": 578,
    "start_time": "2022-02-03T17:37:46.809Z"
   },
   {
    "duration": 9,
    "start_time": "2022-02-03T17:37:50.841Z"
   },
   {
    "duration": 49,
    "start_time": "2022-02-03T17:37:51.461Z"
   },
   {
    "duration": 92,
    "start_time": "2022-02-03T17:37:51.770Z"
   },
   {
    "duration": 39,
    "start_time": "2022-02-03T17:37:51.945Z"
   },
   {
    "duration": 7,
    "start_time": "2022-02-03T17:37:52.131Z"
   },
   {
    "duration": 9,
    "start_time": "2022-02-03T17:37:52.280Z"
   },
   {
    "duration": 17,
    "start_time": "2022-02-03T17:37:52.427Z"
   },
   {
    "duration": 18,
    "start_time": "2022-02-03T17:37:54.569Z"
   },
   {
    "duration": 7,
    "start_time": "2022-02-03T17:37:54.698Z"
   },
   {
    "duration": 6,
    "start_time": "2022-02-03T17:37:56.879Z"
   },
   {
    "duration": 12,
    "start_time": "2022-02-03T17:37:56.991Z"
   },
   {
    "duration": 15,
    "start_time": "2022-02-03T17:37:58.909Z"
   },
   {
    "duration": 8,
    "start_time": "2022-02-03T17:38:02.696Z"
   },
   {
    "duration": 2,
    "start_time": "2022-02-03T17:39:27.311Z"
   },
   {
    "duration": 8,
    "start_time": "2022-02-03T17:39:30.961Z"
   },
   {
    "duration": 347,
    "start_time": "2022-02-03T17:46:48.619Z"
   },
   {
    "duration": 7,
    "start_time": "2022-02-03T17:46:55.600Z"
   },
   {
    "duration": 47,
    "start_time": "2022-02-03T17:52:09.340Z"
   },
   {
    "duration": 863,
    "start_time": "2022-02-04T08:08:36.341Z"
   },
   {
    "duration": 1150,
    "start_time": "2022-02-04T08:13:03.173Z"
   },
   {
    "duration": 586,
    "start_time": "2022-02-04T08:13:04.325Z"
   },
   {
    "duration": 11,
    "start_time": "2022-02-04T08:13:04.913Z"
   },
   {
    "duration": 17089,
    "start_time": "2022-02-04T08:14:11.711Z"
   },
   {
    "duration": 4,
    "start_time": "2022-02-04T08:14:28.803Z"
   },
   {
    "duration": 594,
    "start_time": "2022-02-04T08:14:28.808Z"
   },
   {
    "duration": 9,
    "start_time": "2022-02-04T08:14:32.970Z"
   },
   {
    "duration": 59,
    "start_time": "2022-02-04T08:14:35.442Z"
   },
   {
    "duration": 109,
    "start_time": "2022-02-04T08:14:35.851Z"
   },
   {
    "duration": 41,
    "start_time": "2022-02-04T08:14:36.680Z"
   },
   {
    "duration": 8,
    "start_time": "2022-02-04T08:14:37.538Z"
   },
   {
    "duration": 12,
    "start_time": "2022-02-04T08:14:38.940Z"
   },
   {
    "duration": 17,
    "start_time": "2022-02-04T08:14:39.270Z"
   },
   {
    "duration": 18,
    "start_time": "2022-02-04T08:14:41.050Z"
   },
   {
    "duration": 7,
    "start_time": "2022-02-04T08:14:41.431Z"
   },
   {
    "duration": 9,
    "start_time": "2022-02-04T08:14:44.761Z"
   },
   {
    "duration": 13,
    "start_time": "2022-02-04T08:14:47.451Z"
   },
   {
    "duration": 14,
    "start_time": "2022-02-04T08:14:50.478Z"
   },
   {
    "duration": 7,
    "start_time": "2022-02-04T08:14:54.873Z"
   },
   {
    "duration": 69,
    "start_time": "2022-02-04T08:14:57.491Z"
   },
   {
    "duration": 73,
    "start_time": "2022-02-04T08:15:01.099Z"
   },
   {
    "duration": 3,
    "start_time": "2022-02-04T08:15:03.940Z"
   },
   {
    "duration": 9,
    "start_time": "2022-02-04T08:15:06.760Z"
   },
   {
    "duration": 24,
    "start_time": "2022-02-04T08:15:10.091Z"
   },
   {
    "duration": 8,
    "start_time": "2022-02-04T08:15:21.740Z"
   },
   {
    "duration": 7,
    "start_time": "2022-02-04T08:16:00.006Z"
   },
   {
    "duration": 58,
    "start_time": "2022-02-04T08:16:08.256Z"
   },
   {
    "duration": 13,
    "start_time": "2022-02-04T08:16:30.212Z"
   },
   {
    "duration": 11,
    "start_time": "2022-02-04T08:16:35.991Z"
   },
   {
    "duration": 9,
    "start_time": "2022-02-04T08:17:03.161Z"
   },
   {
    "duration": 7,
    "start_time": "2022-02-04T08:17:12.359Z"
   },
   {
    "duration": 7,
    "start_time": "2022-02-04T08:17:52.062Z"
   },
   {
    "duration": 5,
    "start_time": "2022-02-04T08:19:45.980Z"
   },
   {
    "duration": 11,
    "start_time": "2022-02-04T08:20:50.551Z"
   },
   {
    "duration": 10,
    "start_time": "2022-02-04T08:21:39.221Z"
   },
   {
    "duration": 99737,
    "start_time": "2022-02-04T10:25:57.666Z"
   },
   {
    "duration": 3,
    "start_time": "2022-02-04T10:28:13.173Z"
   },
   {
    "duration": 678,
    "start_time": "2022-02-04T10:28:14.893Z"
   },
   {
    "duration": 13,
    "start_time": "2022-02-04T10:28:18.273Z"
   },
   {
    "duration": 57,
    "start_time": "2022-02-04T10:28:22.092Z"
   },
   {
    "duration": 105,
    "start_time": "2022-02-04T10:28:22.492Z"
   },
   {
    "duration": 39,
    "start_time": "2022-02-04T10:28:22.951Z"
   },
   {
    "duration": 8,
    "start_time": "2022-02-04T10:28:23.503Z"
   },
   {
    "duration": 13,
    "start_time": "2022-02-04T10:28:24.123Z"
   },
   {
    "duration": 17,
    "start_time": "2022-02-04T10:28:24.663Z"
   },
   {
    "duration": 17,
    "start_time": "2022-02-04T10:28:25.180Z"
   },
   {
    "duration": 7,
    "start_time": "2022-02-04T10:28:25.703Z"
   },
   {
    "duration": 10,
    "start_time": "2022-02-04T10:28:26.210Z"
   },
   {
    "duration": 13,
    "start_time": "2022-02-04T10:28:26.672Z"
   },
   {
    "duration": 15,
    "start_time": "2022-02-04T10:28:27.253Z"
   },
   {
    "duration": 9,
    "start_time": "2022-02-04T10:28:29.541Z"
   },
   {
    "duration": 74,
    "start_time": "2022-02-04T10:28:30.843Z"
   },
   {
    "duration": 70,
    "start_time": "2022-02-04T10:28:32.823Z"
   },
   {
    "duration": 3,
    "start_time": "2022-02-04T10:28:35.873Z"
   },
   {
    "duration": 10,
    "start_time": "2022-02-04T10:28:37.152Z"
   },
   {
    "duration": 24,
    "start_time": "2022-02-04T10:28:37.613Z"
   },
   {
    "duration": 10,
    "start_time": "2022-02-04T10:28:41.872Z"
   },
   {
    "duration": 8,
    "start_time": "2022-02-04T10:28:45.451Z"
   },
   {
    "duration": 12,
    "start_time": "2022-02-04T10:28:47.012Z"
   },
   {
    "duration": 15,
    "start_time": "2022-02-04T10:28:50.452Z"
   },
   {
    "duration": 10,
    "start_time": "2022-02-04T10:28:54.193Z"
   },
   {
    "duration": 7,
    "start_time": "2022-02-04T10:28:57.721Z"
   },
   {
    "duration": 4,
    "start_time": "2022-02-04T10:31:15.362Z"
   },
   {
    "duration": 10,
    "start_time": "2022-02-04T10:31:18.023Z"
   },
   {
    "duration": 9,
    "start_time": "2022-02-04T10:31:25.452Z"
   },
   {
    "duration": 10,
    "start_time": "2022-02-04T10:31:27.672Z"
   },
   {
    "duration": 5,
    "start_time": "2022-02-04T10:31:29.190Z"
   },
   {
    "duration": 4,
    "start_time": "2022-02-04T10:31:37.879Z"
   },
   {
    "duration": 9,
    "start_time": "2022-02-04T10:31:39.231Z"
   },
   {
    "duration": 9,
    "start_time": "2022-02-04T10:56:28.121Z"
   },
   {
    "duration": 10,
    "start_time": "2022-02-04T10:58:29.323Z"
   },
   {
    "duration": 10,
    "start_time": "2022-02-04T10:58:58.022Z"
   },
   {
    "duration": 9,
    "start_time": "2022-02-04T10:59:04.912Z"
   },
   {
    "duration": 10,
    "start_time": "2022-02-04T11:00:51.486Z"
   },
   {
    "duration": 11,
    "start_time": "2022-02-04T11:01:09.752Z"
   },
   {
    "duration": 11,
    "start_time": "2022-02-04T11:01:15.871Z"
   },
   {
    "duration": 9,
    "start_time": "2022-02-04T11:02:16.142Z"
   },
   {
    "duration": 5,
    "start_time": "2022-02-04T11:02:17.052Z"
   },
   {
    "duration": 19,
    "start_time": "2022-02-04T11:04:30.351Z"
   },
   {
    "duration": 8,
    "start_time": "2022-02-04T11:06:35.931Z"
   },
   {
    "duration": 2774,
    "start_time": "2022-02-04T11:08:48.460Z"
   },
   {
    "duration": 58,
    "start_time": "2022-02-04T11:09:33.629Z"
   },
   {
    "duration": 3790,
    "start_time": "2022-02-04T11:10:33.739Z"
   },
   {
    "duration": 171,
    "start_time": "2022-02-04T11:10:57.829Z"
   },
   {
    "duration": 320,
    "start_time": "2022-02-04T11:12:12.368Z"
   },
   {
    "duration": 205,
    "start_time": "2022-02-04T11:18:23.088Z"
   },
   {
    "duration": 3568,
    "start_time": "2022-02-04T11:18:42.818Z"
   },
   {
    "duration": 3237,
    "start_time": "2022-02-04T11:21:43.057Z"
   },
   {
    "duration": 62,
    "start_time": "2022-02-04T11:29:36.195Z"
   },
   {
    "duration": 43660,
    "start_time": "2022-02-04T11:30:44.797Z"
   },
   {
    "duration": 3,
    "start_time": "2022-02-04T11:31:28.460Z"
   },
   {
    "duration": 3387,
    "start_time": "2022-02-04T11:31:28.464Z"
   },
   {
    "duration": 3137,
    "start_time": "2022-02-04T11:31:37.325Z"
   },
   {
    "duration": 99078,
    "start_time": "2022-02-04T11:34:02.966Z"
   },
   {
    "duration": 3,
    "start_time": "2022-02-04T11:35:42.047Z"
   },
   {
    "duration": 3258,
    "start_time": "2022-02-04T11:36:21.746Z"
   },
   {
    "duration": 3,
    "start_time": "2022-02-04T11:38:27.627Z"
   },
   {
    "duration": 3195,
    "start_time": "2022-02-04T11:38:29.948Z"
   },
   {
    "duration": 3,
    "start_time": "2022-02-04T11:39:09.187Z"
   },
   {
    "duration": 3149,
    "start_time": "2022-02-04T11:40:02.546Z"
   },
   {
    "duration": 3172,
    "start_time": "2022-02-04T11:52:40.916Z"
   },
   {
    "duration": 6603,
    "start_time": "2022-02-04T11:53:58.276Z"
   },
   {
    "duration": 43557,
    "start_time": "2022-02-05T04:15:38.123Z"
   },
   {
    "duration": 1278,
    "start_time": "2022-02-05T04:16:48.346Z"
   },
   {
    "duration": 668,
    "start_time": "2022-02-05T04:16:53.966Z"
   },
   {
    "duration": 13,
    "start_time": "2022-02-05T04:16:54.746Z"
   },
   {
    "duration": 64,
    "start_time": "2022-02-05T04:16:57.226Z"
   },
   {
    "duration": 112,
    "start_time": "2022-02-05T04:16:57.626Z"
   },
   {
    "duration": 65,
    "start_time": "2022-02-05T04:16:57.876Z"
   },
   {
    "duration": 8,
    "start_time": "2022-02-05T04:16:58.105Z"
   },
   {
    "duration": 12,
    "start_time": "2022-02-05T04:16:58.286Z"
   },
   {
    "duration": 18,
    "start_time": "2022-02-05T04:16:58.475Z"
   },
   {
    "duration": 20,
    "start_time": "2022-02-05T04:16:58.685Z"
   },
   {
    "duration": 8,
    "start_time": "2022-02-05T04:16:59.025Z"
   },
   {
    "duration": 10,
    "start_time": "2022-02-05T04:16:59.205Z"
   },
   {
    "duration": 14,
    "start_time": "2022-02-05T04:16:59.403Z"
   },
   {
    "duration": 16,
    "start_time": "2022-02-05T04:16:59.565Z"
   },
   {
    "duration": 8,
    "start_time": "2022-02-05T04:17:00.116Z"
   },
   {
    "duration": 90,
    "start_time": "2022-02-05T04:17:00.305Z"
   },
   {
    "duration": 91,
    "start_time": "2022-02-05T04:17:00.465Z"
   },
   {
    "duration": 4,
    "start_time": "2022-02-05T04:17:00.625Z"
   },
   {
    "duration": 9,
    "start_time": "2022-02-05T04:17:00.835Z"
   },
   {
    "duration": 28,
    "start_time": "2022-02-05T04:17:02.534Z"
   },
   {
    "duration": 10,
    "start_time": "2022-02-05T04:17:02.688Z"
   },
   {
    "duration": 8,
    "start_time": "2022-02-05T04:17:03.046Z"
   },
   {
    "duration": 14,
    "start_time": "2022-02-05T04:17:03.225Z"
   },
   {
    "duration": 4,
    "start_time": "2022-02-05T04:17:03.406Z"
   },
   {
    "duration": 11,
    "start_time": "2022-02-05T04:17:03.595Z"
   },
   {
    "duration": 8,
    "start_time": "2022-02-05T04:17:03.765Z"
   },
   {
    "duration": 8,
    "start_time": "2022-02-05T04:17:04.146Z"
   },
   {
    "duration": 5,
    "start_time": "2022-02-05T04:17:04.315Z"
   },
   {
    "duration": 4,
    "start_time": "2022-02-05T04:17:04.495Z"
   },
   {
    "duration": 10,
    "start_time": "2022-02-05T04:17:04.665Z"
   },
   {
    "duration": 10,
    "start_time": "2022-02-05T04:17:08.786Z"
   },
   {
    "duration": 69,
    "start_time": "2022-02-05T04:17:11.596Z"
   },
   {
    "duration": 187,
    "start_time": "2022-02-05T04:17:11.986Z"
   },
   {
    "duration": 311,
    "start_time": "2022-02-05T04:17:19.357Z"
   },
   {
    "duration": 4222,
    "start_time": "2022-02-05T04:17:25.107Z"
   },
   {
    "duration": 7085,
    "start_time": "2022-02-05T04:17:41.167Z"
   },
   {
    "duration": 7281,
    "start_time": "2022-02-05T04:22:11.987Z"
   },
   {
    "duration": 5,
    "start_time": "2022-02-05T04:22:58.455Z"
   },
   {
    "duration": 3478,
    "start_time": "2022-02-05T04:24:57.296Z"
   },
   {
    "duration": 7285,
    "start_time": "2022-02-05T04:25:12.266Z"
   },
   {
    "duration": 3513,
    "start_time": "2022-02-05T04:26:26.667Z"
   },
   {
    "duration": 7048,
    "start_time": "2022-02-05T04:28:51.466Z"
   },
   {
    "duration": 1339,
    "start_time": "2022-02-05T04:34:22.932Z"
   },
   {
    "duration": 276,
    "start_time": "2022-02-05T04:34:49.706Z"
   },
   {
    "duration": 7108,
    "start_time": "2022-02-05T04:37:54.956Z"
   },
   {
    "duration": 274,
    "start_time": "2022-02-05T04:42:36.780Z"
   },
   {
    "duration": 437,
    "start_time": "2022-02-05T04:42:48.906Z"
   },
   {
    "duration": 451,
    "start_time": "2022-02-05T04:45:32.624Z"
   },
   {
    "duration": 447,
    "start_time": "2022-02-05T04:47:12.153Z"
   },
   {
    "duration": 414,
    "start_time": "2022-02-05T04:48:29.504Z"
   },
   {
    "duration": 700,
    "start_time": "2022-02-05T04:49:21.184Z"
   },
   {
    "duration": 33417,
    "start_time": "2022-02-05T04:54:17.391Z"
   },
   {
    "duration": 2015,
    "start_time": "2022-02-05T04:54:50.811Z"
   },
   {
    "duration": 691,
    "start_time": "2022-02-05T04:54:53.298Z"
   },
   {
    "duration": 20,
    "start_time": "2022-02-05T04:54:56.280Z"
   },
   {
    "duration": 92,
    "start_time": "2022-02-05T04:54:58.850Z"
   },
   {
    "duration": 112,
    "start_time": "2022-02-05T04:54:59.619Z"
   },
   {
    "duration": 69,
    "start_time": "2022-02-05T04:55:00.454Z"
   },
   {
    "duration": 8,
    "start_time": "2022-02-05T04:55:03.642Z"
   },
   {
    "duration": 12,
    "start_time": "2022-02-05T04:55:03.820Z"
   },
   {
    "duration": 18,
    "start_time": "2022-02-05T04:55:03.987Z"
   },
   {
    "duration": 20,
    "start_time": "2022-02-05T04:55:04.164Z"
   },
   {
    "duration": 8,
    "start_time": "2022-02-05T04:55:04.326Z"
   },
   {
    "duration": 10,
    "start_time": "2022-02-05T04:55:04.528Z"
   },
   {
    "duration": 14,
    "start_time": "2022-02-05T04:55:04.689Z"
   },
   {
    "duration": 15,
    "start_time": "2022-02-05T04:55:04.899Z"
   },
   {
    "duration": 8,
    "start_time": "2022-02-05T04:55:05.411Z"
   },
   {
    "duration": 96,
    "start_time": "2022-02-05T04:55:05.832Z"
   },
   {
    "duration": 86,
    "start_time": "2022-02-05T04:55:06.008Z"
   },
   {
    "duration": 3,
    "start_time": "2022-02-05T04:55:06.188Z"
   },
   {
    "duration": 9,
    "start_time": "2022-02-05T04:55:06.348Z"
   },
   {
    "duration": 27,
    "start_time": "2022-02-05T04:55:06.538Z"
   },
   {
    "duration": 9,
    "start_time": "2022-02-05T04:55:06.721Z"
   },
   {
    "duration": 8,
    "start_time": "2022-02-05T04:55:07.090Z"
   },
   {
    "duration": 14,
    "start_time": "2022-02-05T04:55:07.248Z"
   },
   {
    "duration": 4,
    "start_time": "2022-02-05T04:55:07.433Z"
   },
   {
    "duration": 11,
    "start_time": "2022-02-05T04:55:07.608Z"
   },
   {
    "duration": 8,
    "start_time": "2022-02-05T04:55:07.779Z"
   },
   {
    "duration": 8,
    "start_time": "2022-02-05T04:55:09.219Z"
   },
   {
    "duration": 6,
    "start_time": "2022-02-05T04:55:09.229Z"
   },
   {
    "duration": 7,
    "start_time": "2022-02-05T04:55:09.236Z"
   },
   {
    "duration": 12,
    "start_time": "2022-02-05T04:55:09.245Z"
   },
   {
    "duration": 9,
    "start_time": "2022-02-05T04:55:12.859Z"
   },
   {
    "duration": 68,
    "start_time": "2022-02-05T04:55:13.018Z"
   },
   {
    "duration": 192,
    "start_time": "2022-02-05T04:55:15.090Z"
   },
   {
    "duration": 316,
    "start_time": "2022-02-05T04:55:21.809Z"
   },
   {
    "duration": 7654,
    "start_time": "2022-02-05T04:55:22.449Z"
   },
   {
    "duration": 3428,
    "start_time": "2022-02-05T04:56:02.249Z"
   },
   {
    "duration": 5,
    "start_time": "2022-02-05T04:56:23.998Z"
   },
   {
    "duration": 3471,
    "start_time": "2022-02-05T04:57:34.841Z"
   },
   {
    "duration": 6901,
    "start_time": "2022-02-05T04:58:47.612Z"
   },
   {
    "duration": 6945,
    "start_time": "2022-02-05T04:59:45.651Z"
   },
   {
    "duration": 265,
    "start_time": "2022-02-05T05:03:14.099Z"
   },
   {
    "duration": 256,
    "start_time": "2022-02-05T05:07:02.149Z"
   },
   {
    "duration": 7078,
    "start_time": "2022-02-05T05:07:15.402Z"
   },
   {
    "duration": 6976,
    "start_time": "2022-02-05T05:08:08.501Z"
   },
   {
    "duration": 6861,
    "start_time": "2022-02-05T05:08:48.662Z"
   },
   {
    "duration": 3284,
    "start_time": "2022-02-05T05:21:14.831Z"
   },
   {
    "duration": 259,
    "start_time": "2022-02-05T05:21:41.489Z"
   },
   {
    "duration": 8,
    "start_time": "2022-02-05T05:22:00.270Z"
   },
   {
    "duration": 180,
    "start_time": "2022-02-05T05:22:30.510Z"
   },
   {
    "duration": 172,
    "start_time": "2022-02-05T05:22:45.791Z"
   },
   {
    "duration": 182,
    "start_time": "2022-02-05T05:23:37.320Z"
   },
   {
    "duration": 19,
    "start_time": "2022-02-05T05:24:20.840Z"
   },
   {
    "duration": 21,
    "start_time": "2022-02-05T05:24:30.861Z"
   },
   {
    "duration": 178,
    "start_time": "2022-02-05T05:25:23.482Z"
   },
   {
    "duration": 3,
    "start_time": "2022-02-05T05:25:27.530Z"
   },
   {
    "duration": 7000,
    "start_time": "2022-02-05T05:25:28.273Z"
   },
   {
    "duration": 5,
    "start_time": "2022-02-05T05:25:35.275Z"
   },
   {
    "duration": 9,
    "start_time": "2022-02-05T05:26:02.119Z"
   },
   {
    "duration": 20,
    "start_time": "2022-02-05T05:26:03.238Z"
   },
   {
    "duration": 19,
    "start_time": "2022-02-05T05:26:29.770Z"
   },
   {
    "duration": 19,
    "start_time": "2022-02-05T05:26:53.099Z"
   },
   {
    "duration": 1664,
    "start_time": "2022-02-05T05:27:25.560Z"
   },
   {
    "duration": 85,
    "start_time": "2022-02-05T05:29:36.212Z"
   },
   {
    "duration": 245,
    "start_time": "2022-02-05T05:30:19.748Z"
   },
   {
    "duration": 237,
    "start_time": "2022-02-05T05:31:24.551Z"
   },
   {
    "duration": 5,
    "start_time": "2022-02-05T05:32:07.170Z"
   },
   {
    "duration": 250,
    "start_time": "2022-02-05T05:41:40.819Z"
   },
   {
    "duration": 77,
    "start_time": "2022-02-05T05:41:59.299Z"
   },
   {
    "duration": 267,
    "start_time": "2022-02-05T05:42:37.229Z"
   },
   {
    "duration": 427,
    "start_time": "2022-02-05T05:42:51.488Z"
   },
   {
    "duration": 5,
    "start_time": "2022-02-05T05:45:33.539Z"
   },
   {
    "duration": 66170,
    "start_time": "2022-02-05T05:51:31.943Z"
   },
   {
    "duration": 1290,
    "start_time": "2022-02-05T05:52:43.413Z"
   },
   {
    "duration": 683,
    "start_time": "2022-02-05T05:52:44.706Z"
   },
   {
    "duration": 12,
    "start_time": "2022-02-05T05:52:47.633Z"
   },
   {
    "duration": 66,
    "start_time": "2022-02-05T05:52:48.632Z"
   },
   {
    "duration": 114,
    "start_time": "2022-02-05T05:52:49.063Z"
   },
   {
    "duration": 60,
    "start_time": "2022-02-05T05:52:49.452Z"
   },
   {
    "duration": 8,
    "start_time": "2022-02-05T05:52:49.642Z"
   },
   {
    "duration": 13,
    "start_time": "2022-02-05T05:52:49.802Z"
   },
   {
    "duration": 17,
    "start_time": "2022-02-05T05:52:49.948Z"
   },
   {
    "duration": 21,
    "start_time": "2022-02-05T05:52:50.098Z"
   },
   {
    "duration": 9,
    "start_time": "2022-02-05T05:52:50.270Z"
   },
   {
    "duration": 10,
    "start_time": "2022-02-05T05:52:50.417Z"
   },
   {
    "duration": 14,
    "start_time": "2022-02-05T05:52:50.571Z"
   },
   {
    "duration": 15,
    "start_time": "2022-02-05T05:52:50.752Z"
   },
   {
    "duration": 8,
    "start_time": "2022-02-05T05:52:51.277Z"
   },
   {
    "duration": 89,
    "start_time": "2022-02-05T05:52:51.422Z"
   },
   {
    "duration": 83,
    "start_time": "2022-02-05T05:52:51.582Z"
   },
   {
    "duration": 3,
    "start_time": "2022-02-05T05:52:51.752Z"
   },
   {
    "duration": 9,
    "start_time": "2022-02-05T05:52:51.914Z"
   },
   {
    "duration": 26,
    "start_time": "2022-02-05T05:52:52.092Z"
   },
   {
    "duration": 9,
    "start_time": "2022-02-05T05:52:52.252Z"
   },
   {
    "duration": 8,
    "start_time": "2022-02-05T05:52:52.600Z"
   },
   {
    "duration": 14,
    "start_time": "2022-02-05T05:52:52.746Z"
   },
   {
    "duration": 4,
    "start_time": "2022-02-05T05:52:52.921Z"
   },
   {
    "duration": 11,
    "start_time": "2022-02-05T05:52:53.083Z"
   },
   {
    "duration": 8,
    "start_time": "2022-02-05T05:52:53.242Z"
   },
   {
    "duration": 8,
    "start_time": "2022-02-05T05:52:53.582Z"
   },
   {
    "duration": 4,
    "start_time": "2022-02-05T05:52:53.772Z"
   },
   {
    "duration": 4,
    "start_time": "2022-02-05T05:52:53.942Z"
   },
   {
    "duration": 9,
    "start_time": "2022-02-05T05:52:54.099Z"
   },
   {
    "duration": 9,
    "start_time": "2022-02-05T05:52:56.014Z"
   },
   {
    "duration": 360,
    "start_time": "2022-02-05T05:52:56.412Z"
   },
   {
    "duration": 94,
    "start_time": "2022-02-05T05:53:38.852Z"
   },
   {
    "duration": 189,
    "start_time": "2022-02-05T05:53:47.151Z"
   },
   {
    "duration": 98,
    "start_time": "2022-02-05T05:53:59.241Z"
   },
   {
    "duration": 97,
    "start_time": "2022-02-05T05:54:15.844Z"
   },
   {
    "duration": 295,
    "start_time": "2022-02-05T05:54:18.423Z"
   },
   {
    "duration": 768,
    "start_time": "2022-02-05T05:54:38.599Z"
   },
   {
    "duration": 269,
    "start_time": "2022-02-05T05:54:54.593Z"
   },
   {
    "duration": 5,
    "start_time": "2022-02-05T05:55:11.462Z"
   },
   {
    "duration": 334,
    "start_time": "2022-02-05T05:55:13.543Z"
   },
   {
    "duration": 99,
    "start_time": "2022-02-05T05:55:44.602Z"
   },
   {
    "duration": 397,
    "start_time": "2022-02-05T05:55:47.193Z"
   },
   {
    "duration": 5,
    "start_time": "2022-02-05T05:55:54.063Z"
   },
   {
    "duration": 96,
    "start_time": "2022-02-05T05:56:03.423Z"
   },
   {
    "duration": 258,
    "start_time": "2022-02-05T05:56:12.892Z"
   },
   {
    "duration": 5,
    "start_time": "2022-02-05T05:56:16.421Z"
   },
   {
    "duration": 701,
    "start_time": "2022-02-05T05:56:46.512Z"
   },
   {
    "duration": 250,
    "start_time": "2022-02-05T06:36:34.023Z"
   },
   {
    "duration": 4,
    "start_time": "2022-02-05T06:36:38.764Z"
   },
   {
    "duration": 12,
    "start_time": "2022-02-05T06:51:10.062Z"
   },
   {
    "duration": 351,
    "start_time": "2022-02-05T06:58:16.813Z"
   },
   {
    "duration": 88,
    "start_time": "2022-02-05T06:58:27.152Z"
   },
   {
    "duration": 7209,
    "start_time": "2022-02-05T06:59:55.262Z"
   },
   {
    "duration": 7011,
    "start_time": "2022-02-05T07:01:08.682Z"
   },
   {
    "duration": 18,
    "start_time": "2022-02-05T07:02:33.642Z"
   },
   {
    "duration": 321,
    "start_time": "2022-02-05T07:03:50.992Z"
   },
   {
    "duration": 289,
    "start_time": "2022-02-05T07:03:56.543Z"
   },
   {
    "duration": 16,
    "start_time": "2022-02-05T07:04:18.203Z"
   },
   {
    "duration": 86,
    "start_time": "2022-02-05T07:04:34.342Z"
   },
   {
    "duration": 7102,
    "start_time": "2022-02-05T07:04:48.845Z"
   },
   {
    "duration": 7063,
    "start_time": "2022-02-05T07:07:02.252Z"
   },
   {
    "duration": 6857,
    "start_time": "2022-02-05T07:07:42.604Z"
   },
   {
    "duration": 93,
    "start_time": "2022-02-05T07:12:25.928Z"
   },
   {
    "duration": 7,
    "start_time": "2022-02-05T07:12:45.632Z"
   },
   {
    "duration": 12,
    "start_time": "2022-02-05T07:25:26.542Z"
   },
   {
    "duration": 9,
    "start_time": "2022-02-05T07:27:02.763Z"
   },
   {
    "duration": 11,
    "start_time": "2022-02-05T07:27:07.423Z"
   },
   {
    "duration": 13,
    "start_time": "2022-02-05T07:29:58.753Z"
   },
   {
    "duration": 11,
    "start_time": "2022-02-05T07:30:01.873Z"
   },
   {
    "duration": 690,
    "start_time": "2022-02-05T07:32:07.032Z"
   },
   {
    "duration": 87,
    "start_time": "2022-02-05T07:36:07.782Z"
   },
   {
    "duration": 98,
    "start_time": "2022-02-05T07:36:16.231Z"
   },
   {
    "duration": 100,
    "start_time": "2022-02-05T07:37:43.342Z"
   },
   {
    "duration": 6986,
    "start_time": "2022-02-05T07:38:43.192Z"
   },
   {
    "duration": 19,
    "start_time": "2022-02-05T07:40:27.482Z"
   },
   {
    "duration": 3,
    "start_time": "2022-02-05T07:41:29.333Z"
   },
   {
    "duration": 287,
    "start_time": "2022-02-05T07:43:02.112Z"
   },
   {
    "duration": 276,
    "start_time": "2022-02-05T07:43:08.162Z"
   },
   {
    "duration": 14,
    "start_time": "2022-02-05T07:44:55.553Z"
   },
   {
    "duration": 11,
    "start_time": "2022-02-05T07:44:56.503Z"
   },
   {
    "duration": 98,
    "start_time": "2022-02-05T07:45:00.262Z"
   },
   {
    "duration": 3,
    "start_time": "2022-02-05T07:46:17.883Z"
   },
   {
    "duration": 7,
    "start_time": "2022-02-05T08:29:37.570Z"
   },
   {
    "duration": 15,
    "start_time": "2022-02-05T08:30:53.542Z"
   },
   {
    "duration": 7,
    "start_time": "2022-02-05T08:31:21.421Z"
   },
   {
    "duration": 10,
    "start_time": "2022-02-05T08:34:10.857Z"
   },
   {
    "duration": 6,
    "start_time": "2022-02-05T08:34:13.954Z"
   },
   {
    "duration": 11,
    "start_time": "2022-02-05T08:34:27.054Z"
   },
   {
    "duration": 3954,
    "start_time": "2022-02-05T08:35:18.038Z"
   },
   {
    "duration": 5,
    "start_time": "2022-02-05T08:44:08.328Z"
   },
   {
    "duration": 12,
    "start_time": "2022-02-05T08:46:03.565Z"
   },
   {
    "duration": 4,
    "start_time": "2022-02-05T08:47:19.406Z"
   },
   {
    "duration": 6,
    "start_time": "2022-02-05T08:47:27.233Z"
   },
   {
    "duration": 6,
    "start_time": "2022-02-05T08:48:36.948Z"
   },
   {
    "duration": 4,
    "start_time": "2022-02-05T08:48:52.452Z"
   },
   {
    "duration": 12,
    "start_time": "2022-02-05T09:00:28.486Z"
   },
   {
    "duration": 90,
    "start_time": "2022-02-05T09:01:15.947Z"
   },
   {
    "duration": 90,
    "start_time": "2022-02-05T09:10:50.647Z"
   },
   {
    "duration": 89,
    "start_time": "2022-02-05T09:11:05.346Z"
   },
   {
    "duration": 142,
    "start_time": "2022-02-05T09:12:06.117Z"
   },
   {
    "duration": 17708,
    "start_time": "2022-02-05T09:32:54.008Z"
   },
   {
    "duration": 4,
    "start_time": "2022-02-05T09:33:55.596Z"
   },
   {
    "duration": 663,
    "start_time": "2022-02-05T09:33:58.198Z"
   },
   {
    "duration": 11,
    "start_time": "2022-02-05T09:34:01.573Z"
   },
   {
    "duration": 62,
    "start_time": "2022-02-05T09:34:03.837Z"
   },
   {
    "duration": 118,
    "start_time": "2022-02-05T09:34:04.557Z"
   },
   {
    "duration": 44,
    "start_time": "2022-02-05T09:34:04.948Z"
   },
   {
    "duration": 9,
    "start_time": "2022-02-05T09:34:05.421Z"
   },
   {
    "duration": 13,
    "start_time": "2022-02-05T09:34:05.661Z"
   },
   {
    "duration": 19,
    "start_time": "2022-02-05T09:34:05.847Z"
   },
   {
    "duration": 21,
    "start_time": "2022-02-05T09:34:06.548Z"
   },
   {
    "duration": 9,
    "start_time": "2022-02-05T09:34:06.941Z"
   },
   {
    "duration": 12,
    "start_time": "2022-02-05T09:34:07.217Z"
   },
   {
    "duration": 14,
    "start_time": "2022-02-05T09:34:07.628Z"
   },
   {
    "duration": 16,
    "start_time": "2022-02-05T09:34:07.837Z"
   },
   {
    "duration": 9,
    "start_time": "2022-02-05T09:34:08.737Z"
   },
   {
    "duration": 84,
    "start_time": "2022-02-05T09:34:08.905Z"
   },
   {
    "duration": 80,
    "start_time": "2022-02-05T09:34:09.047Z"
   },
   {
    "duration": 4,
    "start_time": "2022-02-05T09:34:09.207Z"
   },
   {
    "duration": 8,
    "start_time": "2022-02-05T09:34:09.353Z"
   },
   {
    "duration": 27,
    "start_time": "2022-02-05T09:34:09.518Z"
   },
   {
    "duration": 10,
    "start_time": "2022-02-05T09:34:09.661Z"
   },
   {
    "duration": 9,
    "start_time": "2022-02-05T09:34:10.017Z"
   },
   {
    "duration": 15,
    "start_time": "2022-02-05T09:34:10.345Z"
   },
   {
    "duration": 4,
    "start_time": "2022-02-05T09:34:10.533Z"
   },
   {
    "duration": 12,
    "start_time": "2022-02-05T09:34:10.677Z"
   },
   {
    "duration": 9,
    "start_time": "2022-02-05T09:34:10.861Z"
   },
   {
    "duration": 8,
    "start_time": "2022-02-05T09:34:12.168Z"
   },
   {
    "duration": 4,
    "start_time": "2022-02-05T09:34:12.307Z"
   },
   {
    "duration": 4,
    "start_time": "2022-02-05T09:34:12.478Z"
   },
   {
    "duration": 11,
    "start_time": "2022-02-05T09:34:12.667Z"
   },
   {
    "duration": 10,
    "start_time": "2022-02-05T09:34:32.669Z"
   },
   {
    "duration": 87,
    "start_time": "2022-02-05T09:34:33.109Z"
   },
   {
    "duration": 107,
    "start_time": "2022-02-05T09:34:35.439Z"
   },
   {
    "duration": 3,
    "start_time": "2022-02-05T09:34:39.094Z"
   },
   {
    "duration": 466,
    "start_time": "2022-02-05T09:34:42.294Z"
   },
   {
    "duration": 6,
    "start_time": "2022-02-05T09:34:57.043Z"
   },
   {
    "duration": 268,
    "start_time": "2022-02-05T09:35:08.542Z"
   },
   {
    "duration": 5,
    "start_time": "2022-02-05T09:35:12.693Z"
   },
   {
    "duration": 6335,
    "start_time": "2022-02-05T09:35:15.129Z"
   },
   {
    "duration": 89,
    "start_time": "2022-02-05T09:35:25.117Z"
   },
   {
    "duration": 260,
    "start_time": "2022-02-05T09:35:28.317Z"
   },
   {
    "duration": 6,
    "start_time": "2022-02-05T09:35:32.301Z"
   },
   {
    "duration": 81,
    "start_time": "2022-02-05T09:35:35.208Z"
   },
   {
    "duration": 426,
    "start_time": "2022-02-05T09:35:37.893Z"
   },
   {
    "duration": 6,
    "start_time": "2022-02-05T09:35:38.667Z"
   },
   {
    "duration": 12,
    "start_time": "2022-02-05T09:35:42.453Z"
   },
   {
    "duration": 82,
    "start_time": "2022-02-05T09:35:43.254Z"
   },
   {
    "duration": 7114,
    "start_time": "2022-02-05T09:35:44.407Z"
   },
   {
    "duration": 11,
    "start_time": "2022-02-05T09:35:51.525Z"
   },
   {
    "duration": 64,
    "start_time": "2022-02-05T09:35:51.538Z"
   },
   {
    "duration": 11,
    "start_time": "2022-02-05T09:36:02.293Z"
   },
   {
    "duration": 14,
    "start_time": "2022-02-05T09:36:03.413Z"
   },
   {
    "duration": 11,
    "start_time": "2022-02-05T09:36:04.579Z"
   },
   {
    "duration": 97,
    "start_time": "2022-02-05T09:36:05.478Z"
   },
   {
    "duration": 7439,
    "start_time": "2022-02-05T09:36:06.533Z"
   },
   {
    "duration": 16,
    "start_time": "2022-02-05T09:36:30.188Z"
   },
   {
    "duration": 7,
    "start_time": "2022-02-05T09:36:32.997Z"
   },
   {
    "duration": 4,
    "start_time": "2022-02-05T09:36:35.517Z"
   },
   {
    "duration": 12,
    "start_time": "2022-02-05T09:36:40.176Z"
   },
   {
    "duration": 91,
    "start_time": "2022-02-05T09:36:40.918Z"
   },
   {
    "duration": 146,
    "start_time": "2022-02-05T09:36:42.861Z"
   },
   {
    "duration": 132,
    "start_time": "2022-02-05T09:39:55.928Z"
   },
   {
    "duration": 4698,
    "start_time": "2022-02-05T09:40:55.661Z"
   },
   {
    "duration": 100192,
    "start_time": "2022-02-05T09:44:00.673Z"
   },
   {
    "duration": 4,
    "start_time": "2022-02-05T09:45:40.867Z"
   },
   {
    "duration": 656,
    "start_time": "2022-02-05T09:45:40.873Z"
   },
   {
    "duration": 10,
    "start_time": "2022-02-05T09:45:41.530Z"
   },
   {
    "duration": 61,
    "start_time": "2022-02-05T09:45:56.073Z"
   },
   {
    "duration": 112,
    "start_time": "2022-02-05T09:45:58.880Z"
   },
   {
    "duration": 50,
    "start_time": "2022-02-05T09:46:00.306Z"
   },
   {
    "duration": 9,
    "start_time": "2022-02-05T09:46:01.117Z"
   },
   {
    "duration": 16,
    "start_time": "2022-02-05T09:46:01.929Z"
   },
   {
    "duration": 20,
    "start_time": "2022-02-05T09:46:02.677Z"
   },
   {
    "duration": 22,
    "start_time": "2022-02-05T09:46:03.366Z"
   },
   {
    "duration": 12,
    "start_time": "2022-02-05T09:46:03.969Z"
   },
   {
    "duration": 11,
    "start_time": "2022-02-05T09:46:04.717Z"
   },
   {
    "duration": 14,
    "start_time": "2022-02-05T09:46:05.354Z"
   },
   {
    "duration": 17,
    "start_time": "2022-02-05T09:46:06.337Z"
   },
   {
    "duration": 9,
    "start_time": "2022-02-05T09:46:26.057Z"
   },
   {
    "duration": 97,
    "start_time": "2022-02-05T09:46:26.069Z"
   },
   {
    "duration": 81,
    "start_time": "2022-02-05T09:47:23.719Z"
   },
   {
    "duration": 3,
    "start_time": "2022-02-05T09:47:27.274Z"
   },
   {
    "duration": 11,
    "start_time": "2022-02-05T09:47:28.297Z"
   },
   {
    "duration": 29,
    "start_time": "2022-02-05T09:47:31.633Z"
   },
   {
    "duration": 9,
    "start_time": "2022-02-05T09:47:32.505Z"
   },
   {
    "duration": 8,
    "start_time": "2022-02-05T09:47:33.754Z"
   },
   {
    "duration": 14,
    "start_time": "2022-02-05T09:47:34.620Z"
   },
   {
    "duration": 4,
    "start_time": "2022-02-05T09:47:35.471Z"
   },
   {
    "duration": 11,
    "start_time": "2022-02-05T09:47:36.313Z"
   },
   {
    "duration": 7,
    "start_time": "2022-02-05T09:47:38.778Z"
   },
   {
    "duration": 8,
    "start_time": "2022-02-05T09:47:39.764Z"
   },
   {
    "duration": 5,
    "start_time": "2022-02-05T09:47:39.953Z"
   },
   {
    "duration": 4,
    "start_time": "2022-02-05T09:47:40.137Z"
   },
   {
    "duration": 12,
    "start_time": "2022-02-05T09:47:40.894Z"
   },
   {
    "duration": 9,
    "start_time": "2022-02-05T09:47:44.633Z"
   },
   {
    "duration": 90,
    "start_time": "2022-02-05T09:47:45.555Z"
   },
   {
    "duration": 92,
    "start_time": "2022-02-05T09:47:49.904Z"
   },
   {
    "duration": 3,
    "start_time": "2022-02-05T09:47:52.377Z"
   },
   {
    "duration": 271,
    "start_time": "2022-02-05T09:47:53.593Z"
   },
   {
    "duration": 5,
    "start_time": "2022-02-05T09:48:02.785Z"
   },
   {
    "duration": 754,
    "start_time": "2022-02-05T09:48:05.764Z"
   },
   {
    "duration": 88,
    "start_time": "2022-02-05T09:48:08.144Z"
   },
   {
    "duration": 249,
    "start_time": "2022-02-05T09:48:09.215Z"
   },
   {
    "duration": 5,
    "start_time": "2022-02-05T09:48:11.784Z"
   },
   {
    "duration": 80,
    "start_time": "2022-02-05T09:48:13.169Z"
   },
   {
    "duration": 248,
    "start_time": "2022-02-05T09:48:14.424Z"
   },
   {
    "duration": 5,
    "start_time": "2022-02-05T09:48:18.504Z"
   },
   {
    "duration": 15,
    "start_time": "2022-02-05T09:48:20.964Z"
   },
   {
    "duration": 84,
    "start_time": "2022-02-05T09:48:21.704Z"
   },
   {
    "duration": 7239,
    "start_time": "2022-02-05T09:48:24.095Z"
   },
   {
    "duration": 7,
    "start_time": "2022-02-05T09:48:45.753Z"
   },
   {
    "duration": 18,
    "start_time": "2022-02-05T09:48:46.484Z"
   },
   {
    "duration": 11,
    "start_time": "2022-02-05T09:48:49.225Z"
   },
   {
    "duration": 15,
    "start_time": "2022-02-05T09:48:49.913Z"
   },
   {
    "duration": 12,
    "start_time": "2022-02-05T09:48:51.295Z"
   },
   {
    "duration": 97,
    "start_time": "2022-02-05T09:48:52.153Z"
   },
   {
    "duration": 7426,
    "start_time": "2022-02-05T09:48:53.433Z"
   },
   {
    "duration": 41,
    "start_time": "2022-02-05T09:49:00.861Z"
   },
   {
    "duration": 7,
    "start_time": "2022-02-05T09:49:02.176Z"
   },
   {
    "duration": 4,
    "start_time": "2022-02-05T09:49:03.170Z"
   },
   {
    "duration": 11,
    "start_time": "2022-02-05T09:49:19.409Z"
   },
   {
    "duration": 86,
    "start_time": "2022-02-05T09:49:20.209Z"
   },
   {
    "duration": 155,
    "start_time": "2022-02-05T09:49:21.075Z"
   },
   {
    "duration": 3620,
    "start_time": "2022-02-05T09:49:28.645Z"
   },
   {
    "duration": 98,
    "start_time": "2022-02-05T09:51:25.761Z"
   },
   {
    "duration": 114,
    "start_time": "2022-02-05T09:58:08.594Z"
   },
   {
    "duration": 94,
    "start_time": "2022-02-05T09:58:19.245Z"
   },
   {
    "duration": 105,
    "start_time": "2022-02-05T10:00:12.316Z"
   },
   {
    "duration": 279,
    "start_time": "2022-02-05T10:04:16.241Z"
   },
   {
    "duration": 99,
    "start_time": "2022-02-05T10:04:26.463Z"
   },
   {
    "duration": 22,
    "start_time": "2022-02-05T10:04:30.625Z"
   },
   {
    "duration": 1016,
    "start_time": "2022-02-05T10:06:58.169Z"
   },
   {
    "duration": 10,
    "start_time": "2022-02-05T10:33:31.194Z"
   },
   {
    "duration": 10834,
    "start_time": "2022-02-06T15:16:03.899Z"
   },
   {
    "duration": 1660,
    "start_time": "2022-02-06T15:16:14.736Z"
   },
   {
    "duration": 1248,
    "start_time": "2022-02-06T15:16:16.398Z"
   },
   {
    "duration": 16,
    "start_time": "2022-02-06T15:16:17.649Z"
   },
   {
    "duration": 79,
    "start_time": "2022-02-06T15:16:23.755Z"
   },
   {
    "duration": 137,
    "start_time": "2022-02-06T15:16:24.604Z"
   },
   {
    "duration": 71,
    "start_time": "2022-02-06T15:16:25.055Z"
   },
   {
    "duration": 10,
    "start_time": "2022-02-06T15:16:25.279Z"
   },
   {
    "duration": 16,
    "start_time": "2022-02-06T15:16:25.706Z"
   },
   {
    "duration": 22,
    "start_time": "2022-02-06T15:16:26.265Z"
   },
   {
    "duration": 24,
    "start_time": "2022-02-06T15:16:26.473Z"
   },
   {
    "duration": 11,
    "start_time": "2022-02-06T15:16:27.204Z"
   },
   {
    "duration": 13,
    "start_time": "2022-02-06T15:16:27.935Z"
   },
   {
    "duration": 17,
    "start_time": "2022-02-06T15:16:30.246Z"
   },
   {
    "duration": 22,
    "start_time": "2022-02-06T15:16:34.674Z"
   },
   {
    "duration": 12,
    "start_time": "2022-02-06T15:16:36.566Z"
   },
   {
    "duration": 116,
    "start_time": "2022-02-06T15:16:41.324Z"
   },
   {
    "duration": 114,
    "start_time": "2022-02-06T15:16:41.765Z"
   },
   {
    "duration": 4,
    "start_time": "2022-02-06T15:16:43.190Z"
   },
   {
    "duration": 13,
    "start_time": "2022-02-06T15:16:44.298Z"
   },
   {
    "duration": 33,
    "start_time": "2022-02-06T15:16:45.466Z"
   },
   {
    "duration": 11,
    "start_time": "2022-02-06T15:16:48.704Z"
   },
   {
    "duration": 10,
    "start_time": "2022-02-06T15:16:50.358Z"
   },
   {
    "duration": 18,
    "start_time": "2022-02-06T15:16:54.125Z"
   },
   {
    "duration": 5,
    "start_time": "2022-02-06T15:16:56.405Z"
   },
   {
    "duration": 16,
    "start_time": "2022-02-06T15:16:56.413Z"
   },
   {
    "duration": 10,
    "start_time": "2022-02-06T15:16:57.276Z"
   },
   {
    "duration": 11,
    "start_time": "2022-02-06T15:16:59.784Z"
   },
   {
    "duration": 6,
    "start_time": "2022-02-06T15:17:01.264Z"
   },
   {
    "duration": 5,
    "start_time": "2022-02-06T15:17:01.330Z"
   },
   {
    "duration": 14,
    "start_time": "2022-02-06T15:17:03.882Z"
   },
   {
    "duration": 11,
    "start_time": "2022-02-06T15:17:07.961Z"
   },
   {
    "duration": 112,
    "start_time": "2022-02-06T15:17:10.025Z"
   },
   {
    "duration": 118,
    "start_time": "2022-02-06T15:17:12.730Z"
   },
   {
    "duration": 426,
    "start_time": "2022-02-06T15:17:16.258Z"
   },
   {
    "duration": 1118,
    "start_time": "2022-02-06T15:17:17.848Z"
   },
   {
    "duration": 7,
    "start_time": "2022-02-06T15:17:40.033Z"
   },
   {
    "duration": 870,
    "start_time": "2022-02-06T15:17:57.624Z"
   },
   {
    "duration": 120,
    "start_time": "2022-02-06T15:18:03.185Z"
   },
   {
    "duration": 523,
    "start_time": "2022-02-06T15:18:04.733Z"
   },
   {
    "duration": 7,
    "start_time": "2022-02-06T15:18:18.579Z"
   },
   {
    "duration": 106,
    "start_time": "2022-02-06T15:18:21.535Z"
   },
   {
    "duration": 392,
    "start_time": "2022-02-06T15:18:24.320Z"
   },
   {
    "duration": 5,
    "start_time": "2022-02-06T15:18:27.175Z"
   },
   {
    "duration": 15,
    "start_time": "2022-02-06T15:18:32.225Z"
   },
   {
    "duration": 109,
    "start_time": "2022-02-06T15:18:34.716Z"
   },
   {
    "duration": 11564,
    "start_time": "2022-02-06T15:18:40.316Z"
   },
   {
    "duration": 9,
    "start_time": "2022-02-06T15:19:35.884Z"
   },
   {
    "duration": 21,
    "start_time": "2022-02-06T15:20:27.326Z"
   },
   {
    "duration": 14,
    "start_time": "2022-02-06T15:20:29.587Z"
   },
   {
    "duration": 16,
    "start_time": "2022-02-06T15:20:32.383Z"
   },
   {
    "duration": 18,
    "start_time": "2022-02-06T15:20:32.707Z"
   },
   {
    "duration": 131,
    "start_time": "2022-02-06T15:20:33.810Z"
   },
   {
    "duration": 11216,
    "start_time": "2022-02-06T15:20:35.802Z"
   },
   {
    "duration": 60,
    "start_time": "2022-02-06T15:20:47.021Z"
   },
   {
    "duration": 11,
    "start_time": "2022-02-06T15:20:47.084Z"
   },
   {
    "duration": 6,
    "start_time": "2022-02-06T15:20:47.097Z"
   },
   {
    "duration": 69,
    "start_time": "2022-02-06T15:20:47.105Z"
   },
   {
    "duration": 218,
    "start_time": "2022-02-06T15:20:47.176Z"
   },
   {
    "duration": 480,
    "start_time": "2022-02-06T15:20:47.396Z"
   },
   {
    "duration": 292,
    "start_time": "2022-02-06T15:20:47.879Z"
   },
   {
    "duration": 196,
    "start_time": "2022-02-06T15:20:48.251Z"
   },
   {
    "duration": 27,
    "start_time": "2022-02-06T15:20:49.846Z"
   },
   {
    "duration": 1303,
    "start_time": "2022-02-06T15:20:51.719Z"
   },
   {
    "duration": 11,
    "start_time": "2022-02-06T15:31:54.121Z"
   },
   {
    "duration": 313,
    "start_time": "2022-02-06T15:57:06.841Z"
   },
   {
    "duration": 24,
    "start_time": "2022-02-06T15:59:37.961Z"
   },
   {
    "duration": 25,
    "start_time": "2022-02-06T16:00:35.622Z"
   },
   {
    "duration": 10,
    "start_time": "2022-02-06T16:01:41.321Z"
   },
   {
    "duration": 25,
    "start_time": "2022-02-06T16:01:46.489Z"
   },
   {
    "duration": 23,
    "start_time": "2022-02-06T16:07:04.573Z"
   },
   {
    "duration": 34,
    "start_time": "2022-02-06T16:07:28.955Z"
   },
   {
    "duration": 108,
    "start_time": "2022-02-06T16:12:31.533Z"
   },
   {
    "duration": 104241,
    "start_time": "2022-02-06T16:17:53.365Z"
   },
   {
    "duration": 789,
    "start_time": "2022-02-06T16:21:05.354Z"
   },
   {
    "duration": 104972,
    "start_time": "2022-02-06T16:22:40.504Z"
   },
   {
    "duration": 1181,
    "start_time": "2022-02-06T16:25:07.722Z"
   },
   {
    "duration": 579,
    "start_time": "2022-02-06T16:25:10.015Z"
   },
   {
    "duration": 11,
    "start_time": "2022-02-06T16:25:11.290Z"
   },
   {
    "duration": 59,
    "start_time": "2022-02-06T16:25:11.542Z"
   },
   {
    "duration": 111,
    "start_time": "2022-02-06T16:25:11.602Z"
   },
   {
    "duration": 57,
    "start_time": "2022-02-06T16:25:11.714Z"
   },
   {
    "duration": 8,
    "start_time": "2022-02-06T16:25:12.264Z"
   },
   {
    "duration": 12,
    "start_time": "2022-02-06T16:25:12.339Z"
   },
   {
    "duration": 17,
    "start_time": "2022-02-06T16:25:12.619Z"
   },
   {
    "duration": 19,
    "start_time": "2022-02-06T16:25:12.721Z"
   },
   {
    "duration": 9,
    "start_time": "2022-02-06T16:25:12.823Z"
   },
   {
    "duration": 10,
    "start_time": "2022-02-06T16:25:13.009Z"
   },
   {
    "duration": 13,
    "start_time": "2022-02-06T16:25:13.131Z"
   },
   {
    "duration": 14,
    "start_time": "2022-02-06T16:25:13.263Z"
   },
   {
    "duration": 8,
    "start_time": "2022-02-06T16:25:14.082Z"
   },
   {
    "duration": 88,
    "start_time": "2022-02-06T16:25:14.306Z"
   },
   {
    "duration": 79,
    "start_time": "2022-02-06T16:25:14.476Z"
   },
   {
    "duration": 4,
    "start_time": "2022-02-06T16:25:14.618Z"
   },
   {
    "duration": 9,
    "start_time": "2022-02-06T16:25:14.736Z"
   },
   {
    "duration": 28,
    "start_time": "2022-02-06T16:25:14.851Z"
   },
   {
    "duration": 9,
    "start_time": "2022-02-06T16:25:14.882Z"
   },
   {
    "duration": 8,
    "start_time": "2022-02-06T16:25:15.326Z"
   },
   {
    "duration": 13,
    "start_time": "2022-02-06T16:25:15.487Z"
   },
   {
    "duration": 4,
    "start_time": "2022-02-06T16:25:15.769Z"
   },
   {
    "duration": 11,
    "start_time": "2022-02-06T16:25:15.959Z"
   },
   {
    "duration": 8,
    "start_time": "2022-02-06T16:25:16.173Z"
   },
   {
    "duration": 7,
    "start_time": "2022-02-06T16:25:16.247Z"
   },
   {
    "duration": 5,
    "start_time": "2022-02-06T16:25:16.329Z"
   },
   {
    "duration": 4,
    "start_time": "2022-02-06T16:25:16.756Z"
   },
   {
    "duration": 10,
    "start_time": "2022-02-06T16:25:16.989Z"
   },
   {
    "duration": 9,
    "start_time": "2022-02-06T16:25:17.706Z"
   },
   {
    "duration": 89,
    "start_time": "2022-02-06T16:25:17.774Z"
   },
   {
    "duration": 92,
    "start_time": "2022-02-06T16:25:18.469Z"
   },
   {
    "duration": 278,
    "start_time": "2022-02-06T16:25:18.882Z"
   },
   {
    "duration": 253,
    "start_time": "2022-02-06T16:26:24.491Z"
   },
   {
    "duration": 5,
    "start_time": "2022-02-06T16:26:27.973Z"
   },
   {
    "duration": 704,
    "start_time": "2022-02-06T16:26:59.032Z"
   },
   {
    "duration": -1991,
    "start_time": "2022-02-06T16:27:01.729Z"
   },
   {
    "duration": 207,
    "start_time": "2022-02-06T16:27:01.214Z"
   },
   {
    "duration": 86,
    "start_time": "2022-02-06T16:27:13.214Z"
   },
   {
    "duration": 251,
    "start_time": "2022-02-06T16:27:15.149Z"
   },
   {
    "duration": 5,
    "start_time": "2022-02-06T16:27:20.588Z"
   },
   {
    "duration": 88,
    "start_time": "2022-02-06T16:27:21.552Z"
   },
   {
    "duration": 385,
    "start_time": "2022-02-06T16:27:22.084Z"
   },
   {
    "duration": 6,
    "start_time": "2022-02-06T16:27:22.754Z"
   },
   {
    "duration": 11,
    "start_time": "2022-02-06T16:27:25.421Z"
   },
   {
    "duration": 87,
    "start_time": "2022-02-06T16:27:25.434Z"
   },
   {
    "duration": 6834,
    "start_time": "2022-02-06T16:27:26.263Z"
   },
   {
    "duration": 16,
    "start_time": "2022-02-06T16:27:33.100Z"
   },
   {
    "duration": 115071,
    "start_time": "2022-02-06T16:29:04.550Z"
   },
   {
    "duration": 1169,
    "start_time": "2022-02-06T16:30:59.623Z"
   },
   {
    "duration": 586,
    "start_time": "2022-02-06T16:31:00.795Z"
   },
   {
    "duration": 14,
    "start_time": "2022-02-06T16:31:01.383Z"
   },
   {
    "duration": 66,
    "start_time": "2022-02-06T16:31:01.399Z"
   },
   {
    "duration": 120,
    "start_time": "2022-02-06T16:31:01.467Z"
   },
   {
    "duration": 65,
    "start_time": "2022-02-06T16:31:01.589Z"
   },
   {
    "duration": 8,
    "start_time": "2022-02-06T16:31:01.656Z"
   },
   {
    "duration": 21,
    "start_time": "2022-02-06T16:31:01.668Z"
   },
   {
    "duration": 30,
    "start_time": "2022-02-06T16:31:01.692Z"
   },
   {
    "duration": 20,
    "start_time": "2022-02-06T16:31:01.724Z"
   },
   {
    "duration": 9,
    "start_time": "2022-02-06T16:31:01.747Z"
   },
   {
    "duration": 11,
    "start_time": "2022-02-06T16:31:01.759Z"
   },
   {
    "duration": 46,
    "start_time": "2022-02-06T16:31:01.771Z"
   },
   {
    "duration": 15,
    "start_time": "2022-02-06T16:31:01.819Z"
   },
   {
    "duration": 9,
    "start_time": "2022-02-06T16:31:01.836Z"
   },
   {
    "duration": 114,
    "start_time": "2022-02-06T16:31:01.847Z"
   },
   {
    "duration": 85,
    "start_time": "2022-02-06T16:31:01.963Z"
   },
   {
    "duration": 4,
    "start_time": "2022-02-06T16:31:02.050Z"
   },
   {
    "duration": 12,
    "start_time": "2022-02-06T16:31:02.056Z"
   },
   {
    "duration": 47,
    "start_time": "2022-02-06T16:31:02.070Z"
   },
   {
    "duration": 7,
    "start_time": "2022-02-06T16:31:02.119Z"
   },
   {
    "duration": 10,
    "start_time": "2022-02-06T16:31:02.128Z"
   },
   {
    "duration": 18,
    "start_time": "2022-02-06T16:31:02.140Z"
   },
   {
    "duration": 5,
    "start_time": "2022-02-06T16:31:02.160Z"
   },
   {
    "duration": 10,
    "start_time": "2022-02-06T16:31:02.166Z"
   },
   {
    "duration": 7,
    "start_time": "2022-02-06T16:31:02.180Z"
   },
   {
    "duration": 6,
    "start_time": "2022-02-06T16:31:02.213Z"
   },
   {
    "duration": 5,
    "start_time": "2022-02-06T16:31:02.221Z"
   },
   {
    "duration": 8,
    "start_time": "2022-02-06T16:31:02.227Z"
   },
   {
    "duration": 11,
    "start_time": "2022-02-06T16:31:02.237Z"
   },
   {
    "duration": 12,
    "start_time": "2022-02-06T16:31:02.250Z"
   },
   {
    "duration": 103,
    "start_time": "2022-02-06T16:31:02.264Z"
   },
   {
    "duration": 97,
    "start_time": "2022-02-06T16:31:02.369Z"
   },
   {
    "duration": 273,
    "start_time": "2022-02-06T16:31:02.468Z"
   },
   {
    "duration": 714,
    "start_time": "2022-02-06T16:31:02.742Z"
   },
   {
    "duration": 6,
    "start_time": "2022-02-06T16:31:03.457Z"
   },
   {
    "duration": 731,
    "start_time": "2022-02-06T16:31:03.465Z"
   },
   {
    "duration": -29189,
    "start_time": "2022-02-06T16:31:33.387Z"
   },
   {
    "duration": -29196,
    "start_time": "2022-02-06T16:31:33.395Z"
   },
   {
    "duration": -29200,
    "start_time": "2022-02-06T16:31:33.400Z"
   },
   {
    "duration": -29212,
    "start_time": "2022-02-06T16:31:33.413Z"
   },
   {
    "duration": -29218,
    "start_time": "2022-02-06T16:31:33.420Z"
   },
   {
    "duration": -29225,
    "start_time": "2022-02-06T16:31:33.428Z"
   },
   {
    "duration": -29228,
    "start_time": "2022-02-06T16:31:33.432Z"
   },
   {
    "duration": -29233,
    "start_time": "2022-02-06T16:31:33.438Z"
   },
   {
    "duration": -29239,
    "start_time": "2022-02-06T16:31:33.445Z"
   },
   {
    "duration": -29245,
    "start_time": "2022-02-06T16:31:33.452Z"
   },
   {
    "duration": -29255,
    "start_time": "2022-02-06T16:31:33.462Z"
   },
   {
    "duration": -29283,
    "start_time": "2022-02-06T16:31:33.491Z"
   },
   {
    "duration": -29289,
    "start_time": "2022-02-06T16:31:33.498Z"
   },
   {
    "duration": -29293,
    "start_time": "2022-02-06T16:31:33.503Z"
   },
   {
    "duration": -29299,
    "start_time": "2022-02-06T16:31:33.510Z"
   },
   {
    "duration": -29307,
    "start_time": "2022-02-06T16:31:33.519Z"
   },
   {
    "duration": -29314,
    "start_time": "2022-02-06T16:31:33.527Z"
   },
   {
    "duration": -29322,
    "start_time": "2022-02-06T16:31:33.536Z"
   },
   {
    "duration": -29326,
    "start_time": "2022-02-06T16:31:33.541Z"
   },
   {
    "duration": -29332,
    "start_time": "2022-02-06T16:31:33.548Z"
   },
   {
    "duration": -29340,
    "start_time": "2022-02-06T16:31:33.557Z"
   },
   {
    "duration": -29347,
    "start_time": "2022-02-06T16:31:33.565Z"
   },
   {
    "duration": -29355,
    "start_time": "2022-02-06T16:31:33.574Z"
   },
   {
    "duration": -29361,
    "start_time": "2022-02-06T16:31:33.581Z"
   },
   {
    "duration": -29366,
    "start_time": "2022-02-06T16:31:33.587Z"
   },
   {
    "duration": -29370,
    "start_time": "2022-02-06T16:31:33.592Z"
   },
   {
    "duration": -29373,
    "start_time": "2022-02-06T16:31:33.596Z"
   },
   {
    "duration": -29377,
    "start_time": "2022-02-06T16:31:33.601Z"
   },
   {
    "duration": -29382,
    "start_time": "2022-02-06T16:31:33.607Z"
   },
   {
    "duration": -29386,
    "start_time": "2022-02-06T16:31:33.612Z"
   },
   {
    "duration": -29388,
    "start_time": "2022-02-06T16:31:33.616Z"
   },
   {
    "duration": 204,
    "start_time": "2022-02-06T16:31:13.240Z"
   },
   {
    "duration": 3255,
    "start_time": "2022-02-06T16:33:17.386Z"
   },
   {
    "duration": 49175,
    "start_time": "2022-02-06T16:35:01.962Z"
   },
   {
    "duration": 32798,
    "start_time": "2022-02-06T16:35:51.139Z"
   },
   {
    "duration": 1208,
    "start_time": "2022-02-06T16:36:27.095Z"
   },
   {
    "duration": 593,
    "start_time": "2022-02-06T16:36:30.228Z"
   },
   {
    "duration": 13,
    "start_time": "2022-02-06T16:36:30.869Z"
   },
   {
    "duration": 60,
    "start_time": "2022-02-06T16:36:31.286Z"
   },
   {
    "duration": 110,
    "start_time": "2022-02-06T16:36:32.056Z"
   },
   {
    "duration": 58,
    "start_time": "2022-02-06T16:36:32.476Z"
   },
   {
    "duration": 8,
    "start_time": "2022-02-06T16:36:32.781Z"
   },
   {
    "duration": 14,
    "start_time": "2022-02-06T16:36:32.988Z"
   },
   {
    "duration": 17,
    "start_time": "2022-02-06T16:36:33.146Z"
   },
   {
    "duration": 20,
    "start_time": "2022-02-06T16:36:33.366Z"
   },
   {
    "duration": 9,
    "start_time": "2022-02-06T16:36:33.976Z"
   },
   {
    "duration": 9,
    "start_time": "2022-02-06T16:36:34.197Z"
   },
   {
    "duration": 14,
    "start_time": "2022-02-06T16:36:34.388Z"
   },
   {
    "duration": 14,
    "start_time": "2022-02-06T16:36:34.586Z"
   },
   {
    "duration": 8,
    "start_time": "2022-02-06T16:36:35.206Z"
   },
   {
    "duration": 86,
    "start_time": "2022-02-06T16:36:35.427Z"
   },
   {
    "duration": 77,
    "start_time": "2022-02-06T16:36:35.632Z"
   },
   {
    "duration": 4,
    "start_time": "2022-02-06T16:36:35.846Z"
   },
   {
    "duration": 8,
    "start_time": "2022-02-06T16:36:36.076Z"
   },
   {
    "duration": 26,
    "start_time": "2022-02-06T16:36:36.367Z"
   },
   {
    "duration": 9,
    "start_time": "2022-02-06T16:36:36.691Z"
   },
   {
    "duration": 7,
    "start_time": "2022-02-06T16:36:37.406Z"
   },
   {
    "duration": 26,
    "start_time": "2022-02-06T16:36:37.646Z"
   },
   {
    "duration": 5,
    "start_time": "2022-02-06T16:36:37.865Z"
   },
   {
    "duration": 11,
    "start_time": "2022-02-06T16:36:38.072Z"
   },
   {
    "duration": 8,
    "start_time": "2022-02-06T16:36:38.284Z"
   },
   {
    "duration": 10,
    "start_time": "2022-02-06T16:36:38.699Z"
   },
   {
    "duration": 6,
    "start_time": "2022-02-06T16:36:38.901Z"
   },
   {
    "duration": 4,
    "start_time": "2022-02-06T16:36:39.102Z"
   },
   {
    "duration": 10,
    "start_time": "2022-02-06T16:36:39.302Z"
   },
   {
    "duration": 8,
    "start_time": "2022-02-06T16:36:40.405Z"
   },
   {
    "duration": 96,
    "start_time": "2022-02-06T16:36:40.617Z"
   },
   {
    "duration": 87,
    "start_time": "2022-02-06T16:36:41.094Z"
   },
   {
    "duration": 266,
    "start_time": "2022-02-06T16:36:41.537Z"
   },
   {
    "duration": 725,
    "start_time": "2022-02-06T16:36:41.805Z"
   },
   {
    "duration": 6,
    "start_time": "2022-02-06T16:36:42.532Z"
   },
   {
    "duration": 609,
    "start_time": "2022-02-06T16:36:58.976Z"
   },
   {
    "duration": 88,
    "start_time": "2022-02-06T16:37:00.960Z"
   },
   {
    "duration": 354,
    "start_time": "2022-02-06T16:37:01.496Z"
   },
   {
    "duration": 5,
    "start_time": "2022-02-06T16:37:04.365Z"
   },
   {
    "duration": 80,
    "start_time": "2022-02-06T16:37:05.044Z"
   },
   {
    "duration": 241,
    "start_time": "2022-02-06T16:37:05.494Z"
   },
   {
    "duration": 5,
    "start_time": "2022-02-06T16:37:05.916Z"
   },
   {
    "duration": 10,
    "start_time": "2022-02-06T16:37:07.277Z"
   },
   {
    "duration": 82,
    "start_time": "2022-02-06T16:37:08.005Z"
   },
   {
    "duration": 6934,
    "start_time": "2022-02-06T16:37:08.536Z"
   },
   {
    "duration": 9,
    "start_time": "2022-02-06T16:37:15.473Z"
   },
   {
    "duration": 17,
    "start_time": "2022-02-06T16:38:12.447Z"
   },
   {
    "duration": 13,
    "start_time": "2022-02-06T16:38:13.917Z"
   },
   {
    "duration": 17,
    "start_time": "2022-02-06T16:38:15.331Z"
   },
   {
    "duration": 12,
    "start_time": "2022-02-06T16:38:15.772Z"
   },
   {
    "duration": 88,
    "start_time": "2022-02-06T16:38:16.774Z"
   },
   {
    "duration": 6822,
    "start_time": "2022-02-06T16:38:17.713Z"
   },
   {
    "duration": 17,
    "start_time": "2022-02-06T16:38:24.539Z"
   },
   {
    "duration": 5,
    "start_time": "2022-02-06T16:38:24.558Z"
   },
   {
    "duration": 50,
    "start_time": "2022-02-06T16:38:24.565Z"
   },
   {
    "duration": 13,
    "start_time": "2022-02-06T16:38:24.616Z"
   },
   {
    "duration": 188,
    "start_time": "2022-02-06T16:38:24.631Z"
   },
   {
    "duration": 233,
    "start_time": "2022-02-06T16:38:24.821Z"
   },
   {
    "duration": 91,
    "start_time": "2022-02-06T16:39:39.327Z"
   },
   {
    "duration": 120,
    "start_time": "2022-02-06T16:40:03.856Z"
   },
   {
    "duration": 21,
    "start_time": "2022-02-06T16:40:07.176Z"
   },
   {
    "duration": 963,
    "start_time": "2022-02-06T16:40:11.957Z"
   },
   {
    "duration": 7,
    "start_time": "2022-02-06T16:40:19.696Z"
   },
   {
    "duration": 27,
    "start_time": "2022-02-06T16:40:22.415Z"
   },
   {
    "duration": 22,
    "start_time": "2022-02-06T16:40:23.787Z"
   },
   {
    "duration": 49,
    "start_time": "2022-02-06T16:40:26.848Z"
   },
   {
    "duration": 29,
    "start_time": "2022-02-06T16:40:29.415Z"
   },
   {
    "duration": 513,
    "start_time": "2022-02-06T16:40:33.543Z"
   },
   {
    "duration": 7,
    "start_time": "2022-02-06T16:40:43.916Z"
   },
   {
    "duration": 9,
    "start_time": "2022-02-06T16:41:15.817Z"
   },
   {
    "duration": 45,
    "start_time": "2022-02-06T16:43:38.413Z"
   },
   {
    "duration": 2465,
    "start_time": "2022-02-06T16:43:40.186Z"
   },
   {
    "duration": 26,
    "start_time": "2022-02-06T16:44:02.396Z"
   },
   {
    "duration": 476,
    "start_time": "2022-02-06T16:44:06.914Z"
   },
   {
    "duration": 8,
    "start_time": "2022-02-06T16:44:13.716Z"
   },
   {
    "duration": 6,
    "start_time": "2022-02-06T16:45:11.877Z"
   },
   {
    "duration": 6,
    "start_time": "2022-02-06T16:47:45.805Z"
   },
   {
    "duration": 24,
    "start_time": "2022-02-06T16:49:17.743Z"
   },
   {
    "duration": 13,
    "start_time": "2022-02-06T16:49:47.235Z"
   },
   {
    "duration": 394,
    "start_time": "2022-02-06T16:50:08.547Z"
   },
   {
    "duration": 8,
    "start_time": "2022-02-06T16:50:46.234Z"
   },
   {
    "duration": 6,
    "start_time": "2022-02-06T16:53:12.180Z"
   },
   {
    "duration": 6,
    "start_time": "2022-02-06T16:56:08.465Z"
   },
   {
    "duration": 2346,
    "start_time": "2022-02-06T17:00:41.385Z"
   },
   {
    "duration": 7,
    "start_time": "2022-02-06T17:00:59.674Z"
   },
   {
    "duration": 16,
    "start_time": "2022-02-06T17:01:33.382Z"
   },
   {
    "duration": 192,
    "start_time": "2022-02-06T17:02:08.044Z"
   },
   {
    "duration": 202,
    "start_time": "2022-02-06T17:02:48.292Z"
   },
   {
    "duration": 215,
    "start_time": "2022-02-06T17:03:08.794Z"
   },
   {
    "duration": 15,
    "start_time": "2022-02-06T17:03:18.106Z"
   },
   {
    "duration": 15,
    "start_time": "2022-02-06T17:48:01.310Z"
   },
   {
    "duration": 62,
    "start_time": "2022-02-06T18:01:39.401Z"
   },
   {
    "duration": 56,
    "start_time": "2022-02-06T18:01:46.161Z"
   },
   {
    "duration": 13,
    "start_time": "2022-02-06T18:02:21.979Z"
   },
   {
    "duration": 3045,
    "start_time": "2022-02-06T18:10:59.064Z"
   },
   {
    "duration": -1287,
    "start_time": "2022-02-06T18:11:03.399Z"
   },
   {
    "duration": 8,
    "start_time": "2022-02-06T18:11:28.432Z"
   },
   {
    "duration": 14,
    "start_time": "2022-02-06T18:11:31.093Z"
   },
   {
    "duration": 207,
    "start_time": "2022-02-06T18:17:19.313Z"
   },
   {
    "duration": 22,
    "start_time": "2022-02-06T18:18:02.105Z"
   },
   {
    "duration": 31,
    "start_time": "2022-02-06T18:21:02.409Z"
   },
   {
    "duration": 769,
    "start_time": "2022-02-06T18:24:48.518Z"
   },
   {
    "duration": 777,
    "start_time": "2022-02-06T18:26:18.317Z"
   },
   {
    "duration": 774,
    "start_time": "2022-02-06T18:26:27.906Z"
   },
   {
    "duration": 548,
    "start_time": "2022-02-06T18:30:08.676Z"
   },
   {
    "duration": 655,
    "start_time": "2022-02-06T18:31:10.936Z"
   },
   {
    "duration": 202,
    "start_time": "2022-02-06T18:31:39.256Z"
   },
   {
    "duration": 268,
    "start_time": "2022-02-06T18:31:55.382Z"
   },
   {
    "duration": 202,
    "start_time": "2022-02-06T18:32:08.435Z"
   },
   {
    "duration": 9,
    "start_time": "2022-02-06T18:35:24.117Z"
   },
   {
    "duration": 211,
    "start_time": "2022-02-06T18:38:15.113Z"
   },
   {
    "duration": 9,
    "start_time": "2022-02-06T18:38:24.846Z"
   },
   {
    "duration": 6,
    "start_time": "2022-02-06T18:39:15.866Z"
   },
   {
    "duration": 16,
    "start_time": "2022-02-06T20:01:56.462Z"
   },
   {
    "duration": 31,
    "start_time": "2022-02-06T20:02:27.773Z"
   },
   {
    "duration": 804,
    "start_time": "2022-02-06T20:03:28.279Z"
   },
   {
    "duration": 150,
    "start_time": "2022-02-06T20:07:43.119Z"
   },
   {
    "duration": 15,
    "start_time": "2022-02-06T20:10:31.001Z"
   },
   {
    "duration": 687,
    "start_time": "2022-02-06T20:11:00.390Z"
   },
   {
    "duration": 99938,
    "start_time": "2022-02-06T21:13:13.672Z"
   },
   {
    "duration": 3,
    "start_time": "2022-02-06T21:21:03.384Z"
   },
   {
    "duration": 534,
    "start_time": "2022-02-06T21:21:08.433Z"
   },
   {
    "duration": 10,
    "start_time": "2022-02-06T21:21:11.390Z"
   },
   {
    "duration": 3,
    "start_time": "2022-02-06T21:29:41.540Z"
   },
   {
    "duration": 524,
    "start_time": "2022-02-06T21:29:43.959Z"
   },
   {
    "duration": 9,
    "start_time": "2022-02-06T21:30:32.990Z"
   },
   {
    "duration": 67,
    "start_time": "2022-02-06T21:36:06.591Z"
   },
   {
    "duration": 67,
    "start_time": "2022-02-06T21:36:11.514Z"
   },
   {
    "duration": 106,
    "start_time": "2022-02-06T21:36:50.911Z"
   },
   {
    "duration": 38,
    "start_time": "2022-02-06T21:38:12.675Z"
   },
   {
    "duration": 31,
    "start_time": "2022-02-06T21:39:46.545Z"
   },
   {
    "duration": 8,
    "start_time": "2022-02-06T21:43:25.144Z"
   },
   {
    "duration": 13,
    "start_time": "2022-02-06T21:45:22.370Z"
   },
   {
    "duration": 17,
    "start_time": "2022-02-06T21:47:24.617Z"
   },
   {
    "duration": 19,
    "start_time": "2022-02-06T21:47:28.933Z"
   },
   {
    "duration": 7,
    "start_time": "2022-02-06T21:47:35.154Z"
   },
   {
    "duration": 14,
    "start_time": "2022-02-06T21:48:28.894Z"
   },
   {
    "duration": 15,
    "start_time": "2022-02-06T21:48:38.025Z"
   },
   {
    "duration": 8,
    "start_time": "2022-02-06T21:50:10.493Z"
   },
   {
    "duration": 77,
    "start_time": "2022-02-06T21:50:18.415Z"
   },
   {
    "duration": 75,
    "start_time": "2022-02-06T21:50:19.244Z"
   },
   {
    "duration": 23,
    "start_time": "2022-02-06T21:50:21.552Z"
   },
   {
    "duration": 10,
    "start_time": "2022-02-06T21:51:31.897Z"
   },
   {
    "duration": 14,
    "start_time": "2022-02-06T21:51:34.202Z"
   },
   {
    "duration": 13,
    "start_time": "2022-02-06T21:51:34.444Z"
   },
   {
    "duration": 4,
    "start_time": "2022-02-06T21:51:34.702Z"
   },
   {
    "duration": 3,
    "start_time": "2022-02-06T21:51:36.525Z"
   },
   {
    "duration": 8,
    "start_time": "2022-02-06T21:51:51.376Z"
   },
   {
    "duration": 12,
    "start_time": "2022-02-06T21:52:01.805Z"
   },
   {
    "duration": 8,
    "start_time": "2022-02-06T21:52:19.906Z"
   },
   {
    "duration": 6,
    "start_time": "2022-02-06T21:52:57.774Z"
   },
   {
    "duration": 15,
    "start_time": "2022-02-06T21:52:58.984Z"
   },
   {
    "duration": 4,
    "start_time": "2022-02-06T21:52:59.662Z"
   },
   {
    "duration": 11,
    "start_time": "2022-02-06T21:53:00.285Z"
   },
   {
    "duration": 7,
    "start_time": "2022-02-06T21:53:04.016Z"
   },
   {
    "duration": 7,
    "start_time": "2022-02-06T21:53:32.584Z"
   },
   {
    "duration": 4,
    "start_time": "2022-02-06T21:53:35.044Z"
   },
   {
    "duration": 3,
    "start_time": "2022-02-06T21:53:36.582Z"
   },
   {
    "duration": 10,
    "start_time": "2022-02-06T21:54:16.814Z"
   },
   {
    "duration": 9,
    "start_time": "2022-02-06T21:54:34.134Z"
   },
   {
    "duration": 77,
    "start_time": "2022-02-06T21:54:42.186Z"
   },
   {
    "duration": 77,
    "start_time": "2022-02-06T21:54:53.265Z"
   },
   {
    "duration": 3,
    "start_time": "2022-02-06T21:54:54.734Z"
   },
   {
    "duration": 260,
    "start_time": "2022-02-06T21:54:55.974Z"
   },
   {
    "duration": 4,
    "start_time": "2022-02-06T21:55:04.775Z"
   },
   {
    "duration": 73,
    "start_time": "2022-02-06T22:02:31.258Z"
   },
   {
    "duration": 377,
    "start_time": "2022-02-06T22:02:33.635Z"
   },
   {
    "duration": 4,
    "start_time": "2022-02-06T22:02:41.704Z"
   },
   {
    "duration": 71,
    "start_time": "2022-02-06T22:02:43.625Z"
   },
   {
    "duration": 69,
    "start_time": "2022-02-06T22:03:14.274Z"
   },
   {
    "duration": 224,
    "start_time": "2022-02-06T22:03:16.624Z"
   },
   {
    "duration": 4,
    "start_time": "2022-02-06T22:03:19.945Z"
   },
   {
    "duration": 10,
    "start_time": "2022-02-06T22:03:31.545Z"
   },
   {
    "duration": 74,
    "start_time": "2022-02-06T22:03:32.575Z"
   },
   {
    "duration": 6610,
    "start_time": "2022-02-06T22:03:37.335Z"
   },
   {
    "duration": 6,
    "start_time": "2022-02-06T22:03:44.847Z"
   },
   {
    "duration": 403,
    "start_time": "2022-02-06T22:04:45.264Z"
   },
   {
    "duration": 16,
    "start_time": "2022-02-06T22:04:58.884Z"
   },
   {
    "duration": 16,
    "start_time": "2022-02-06T22:09:01.845Z"
   },
   {
    "duration": 10,
    "start_time": "2022-02-06T22:09:09.663Z"
   },
   {
    "duration": 13,
    "start_time": "2022-02-06T22:10:06.033Z"
   },
   {
    "duration": 11,
    "start_time": "2022-02-06T22:10:08.135Z"
   },
   {
    "duration": 84,
    "start_time": "2022-02-06T22:10:22.265Z"
   },
   {
    "duration": 6695,
    "start_time": "2022-02-06T22:10:24.955Z"
   },
   {
    "duration": 16,
    "start_time": "2022-02-06T22:11:00.306Z"
   },
   {
    "duration": 6,
    "start_time": "2022-02-06T22:11:10.345Z"
   },
   {
    "duration": 4,
    "start_time": "2022-02-06T22:11:12.065Z"
   },
   {
    "duration": 11,
    "start_time": "2022-02-06T22:11:34.821Z"
   },
   {
    "duration": 75,
    "start_time": "2022-02-06T22:11:38.493Z"
   },
   {
    "duration": 120,
    "start_time": "2022-02-06T22:11:44.875Z"
   },
   {
    "duration": 87,
    "start_time": "2022-02-06T22:11:53.265Z"
   },
   {
    "duration": 124,
    "start_time": "2022-02-06T22:12:03.994Z"
   },
   {
    "duration": 31,
    "start_time": "2022-02-06T22:12:26.326Z"
   },
   {
    "duration": 934,
    "start_time": "2022-02-06T22:12:35.295Z"
   },
   {
    "duration": 8,
    "start_time": "2022-02-06T22:12:48.485Z"
   },
   {
    "duration": 19,
    "start_time": "2022-02-06T22:14:18.865Z"
   },
   {
    "duration": 20,
    "start_time": "2022-02-06T22:14:45.395Z"
   },
   {
    "duration": 43,
    "start_time": "2022-02-06T22:14:47.705Z"
   },
   {
    "duration": 2506,
    "start_time": "2022-02-06T22:15:09.538Z"
   },
   {
    "duration": 186,
    "start_time": "2022-02-06T22:15:12.157Z"
   },
   {
    "duration": 21,
    "start_time": "2022-02-06T22:15:30.444Z"
   },
   {
    "duration": 492,
    "start_time": "2022-02-06T22:15:33.715Z"
   },
   {
    "duration": 9,
    "start_time": "2022-02-06T22:16:04.985Z"
   },
   {
    "duration": 5,
    "start_time": "2022-02-06T22:16:14.894Z"
   },
   {
    "duration": 12,
    "start_time": "2022-02-06T22:17:00.795Z"
   },
   {
    "duration": 270,
    "start_time": "2022-02-06T22:17:04.404Z"
   },
   {
    "duration": 8,
    "start_time": "2022-02-06T22:17:11.225Z"
   },
   {
    "duration": 5,
    "start_time": "2022-02-06T22:17:24.371Z"
   },
   {
    "duration": 15,
    "start_time": "2022-02-06T22:17:42.831Z"
   },
   {
    "duration": 15,
    "start_time": "2022-02-06T22:33:33.717Z"
   },
   {
    "duration": 15,
    "start_time": "2022-02-06T22:33:59.927Z"
   },
   {
    "duration": 8,
    "start_time": "2022-02-06T22:34:15.686Z"
   },
   {
    "duration": 15,
    "start_time": "2022-02-06T22:34:16.457Z"
   },
   {
    "duration": 23,
    "start_time": "2022-02-06T22:34:21.246Z"
   },
   {
    "duration": 32,
    "start_time": "2022-02-06T22:34:24.006Z"
   },
   {
    "duration": 937,
    "start_time": "2022-02-06T22:34:29.677Z"
   },
   {
    "duration": 210,
    "start_time": "2022-02-06T22:41:16.265Z"
   },
   {
    "duration": 210,
    "start_time": "2022-02-06T22:43:29.771Z"
   },
   {
    "duration": 9,
    "start_time": "2022-02-06T22:44:17.777Z"
   },
   {
    "duration": 5,
    "start_time": "2022-02-06T22:44:37.847Z"
   },
   {
    "duration": 15,
    "start_time": "2022-02-06T22:44:52.407Z"
   },
   {
    "duration": 29,
    "start_time": "2022-02-06T22:44:54.017Z"
   },
   {
    "duration": 9,
    "start_time": "2022-02-06T22:45:17.035Z"
   },
   {
    "duration": 6,
    "start_time": "2022-02-06T22:45:19.157Z"
   },
   {
    "duration": 17,
    "start_time": "2022-02-06T22:45:21.210Z"
   },
   {
    "duration": 30,
    "start_time": "2022-02-06T22:45:24.197Z"
   },
   {
    "duration": 750,
    "start_time": "2022-02-06T22:46:25.377Z"
   },
   {
    "duration": 665,
    "start_time": "2022-02-06T22:47:21.058Z"
   },
   {
    "duration": 99822,
    "start_time": "2022-02-06T23:24:59.810Z"
   },
   {
    "duration": 3,
    "start_time": "2022-02-06T23:26:39.634Z"
   },
   {
    "duration": 553,
    "start_time": "2022-02-06T23:26:39.639Z"
   },
   {
    "duration": 8,
    "start_time": "2022-02-06T23:26:40.194Z"
   },
   {
    "duration": 58,
    "start_time": "2022-02-06T23:26:40.204Z"
   },
   {
    "duration": 106,
    "start_time": "2022-02-06T23:26:40.264Z"
   },
   {
    "duration": 48,
    "start_time": "2022-02-06T23:26:40.372Z"
   },
   {
    "duration": 31,
    "start_time": "2022-02-06T23:26:40.422Z"
   },
   {
    "duration": 7,
    "start_time": "2022-02-06T23:26:40.455Z"
   },
   {
    "duration": 11,
    "start_time": "2022-02-06T23:26:40.464Z"
   },
   {
    "duration": 39,
    "start_time": "2022-02-06T23:26:40.477Z"
   },
   {
    "duration": 17,
    "start_time": "2022-02-06T23:26:40.518Z"
   },
   {
    "duration": 7,
    "start_time": "2022-02-06T23:26:40.536Z"
   },
   {
    "duration": 9,
    "start_time": "2022-02-06T23:26:40.545Z"
   },
   {
    "duration": 11,
    "start_time": "2022-02-06T23:26:40.556Z"
   },
   {
    "duration": 44,
    "start_time": "2022-02-06T23:26:40.569Z"
   },
   {
    "duration": 7,
    "start_time": "2022-02-06T23:26:40.615Z"
   },
   {
    "duration": 77,
    "start_time": "2022-02-06T23:26:40.623Z"
   },
   {
    "duration": 71,
    "start_time": "2022-02-06T23:26:40.712Z"
   },
   {
    "duration": 35,
    "start_time": "2022-02-06T23:26:40.784Z"
   },
   {
    "duration": 2,
    "start_time": "2022-02-06T23:26:40.821Z"
   },
   {
    "duration": 10,
    "start_time": "2022-02-06T23:26:40.825Z"
   },
   {
    "duration": 12,
    "start_time": "2022-02-06T23:26:40.838Z"
   },
   {
    "duration": 7,
    "start_time": "2022-02-06T23:26:40.851Z"
   },
   {
    "duration": 7,
    "start_time": "2022-02-06T23:26:40.860Z"
   },
   {
    "duration": 12,
    "start_time": "2022-02-06T23:26:40.869Z"
   },
   {
    "duration": 29,
    "start_time": "2022-02-06T23:26:40.883Z"
   },
   {
    "duration": 9,
    "start_time": "2022-02-06T23:26:40.914Z"
   },
   {
    "duration": 11507,
    "start_time": "2022-02-07T01:08:29.396Z"
   },
   {
    "duration": 1612,
    "start_time": "2022-02-07T01:08:40.906Z"
   },
   {
    "duration": 770,
    "start_time": "2022-02-07T01:08:42.520Z"
   },
   {
    "duration": 17,
    "start_time": "2022-02-07T01:08:43.292Z"
   },
   {
    "duration": 76,
    "start_time": "2022-02-07T01:08:48.503Z"
   },
   {
    "duration": 155,
    "start_time": "2022-02-07T01:08:49.653Z"
   },
   {
    "duration": 69,
    "start_time": "2022-02-07T01:08:50.674Z"
   },
   {
    "duration": 57,
    "start_time": "2022-02-07T01:08:51.184Z"
   },
   {
    "duration": 11,
    "start_time": "2022-02-07T01:08:52.533Z"
   },
   {
    "duration": 17,
    "start_time": "2022-02-07T01:08:53.423Z"
   },
   {
    "duration": 24,
    "start_time": "2022-02-07T01:08:54.324Z"
   },
   {
    "duration": 24,
    "start_time": "2022-02-07T01:08:54.764Z"
   },
   {
    "duration": 11,
    "start_time": "2022-02-07T01:08:55.204Z"
   },
   {
    "duration": 14,
    "start_time": "2022-02-07T01:08:55.683Z"
   },
   {
    "duration": 18,
    "start_time": "2022-02-07T01:08:56.664Z"
   },
   {
    "duration": 20,
    "start_time": "2022-02-07T01:08:57.175Z"
   },
   {
    "duration": 11,
    "start_time": "2022-02-07T01:08:58.174Z"
   },
   {
    "duration": 109,
    "start_time": "2022-02-07T01:08:58.694Z"
   },
   {
    "duration": 111,
    "start_time": "2022-02-07T01:08:58.894Z"
   },
   {
    "duration": 37,
    "start_time": "2022-02-07T01:08:59.270Z"
   },
   {
    "duration": 4,
    "start_time": "2022-02-07T01:08:59.853Z"
   },
   {
    "duration": 14,
    "start_time": "2022-02-07T01:09:00.653Z"
   },
   {
    "duration": 237,
    "start_time": "2022-02-07T01:09:00.934Z"
   },
   {
    "duration": 95,
    "start_time": "2022-02-07T01:09:01.434Z"
   },
   {
    "duration": 11,
    "start_time": "2022-02-07T01:09:03.563Z"
   },
   {
    "duration": 17,
    "start_time": "2022-02-07T01:09:03.837Z"
   },
   {
    "duration": 5,
    "start_time": "2022-02-07T01:09:04.424Z"
   },
   {
    "duration": 14,
    "start_time": "2022-02-07T01:09:04.844Z"
   },
   {
    "duration": 10,
    "start_time": "2022-02-07T01:09:05.223Z"
   },
   {
    "duration": 10,
    "start_time": "2022-02-07T01:09:05.783Z"
   },
   {
    "duration": 6,
    "start_time": "2022-02-07T01:09:08.375Z"
   },
   {
    "duration": 5,
    "start_time": "2022-02-07T01:09:10.164Z"
   },
   {
    "duration": 14,
    "start_time": "2022-02-07T01:09:10.663Z"
   },
   {
    "duration": 13,
    "start_time": "2022-02-07T01:09:18.204Z"
   },
   {
    "duration": 114,
    "start_time": "2022-02-07T01:09:21.424Z"
   },
   {
    "duration": 128,
    "start_time": "2022-02-07T01:09:23.543Z"
   },
   {
    "duration": 21903,
    "start_time": "2022-02-07T01:10:33.954Z"
   },
   {
    "duration": 169,
    "start_time": "2022-02-07T01:11:22.804Z"
   },
   {
    "duration": 4708,
    "start_time": "2022-02-07T01:12:45.816Z"
   },
   {
    "duration": 305,
    "start_time": "2022-02-07T01:13:09.615Z"
   },
   {
    "duration": 6,
    "start_time": "2022-02-07T01:13:40.254Z"
   },
   {
    "duration": 131,
    "start_time": "2022-02-07T01:14:02.004Z"
   },
   {
    "duration": 83,
    "start_time": "2022-02-07T01:14:02.994Z"
   },
   {
    "duration": 90,
    "start_time": "2022-02-07T01:14:40.892Z"
   },
   {
    "duration": 6,
    "start_time": "2022-02-07T01:14:48.504Z"
   },
   {
    "duration": 114,
    "start_time": "2022-02-07T01:14:53.155Z"
   },
   {
    "duration": 89,
    "start_time": "2022-02-07T01:15:19.714Z"
   },
   {
    "duration": 7,
    "start_time": "2022-02-07T01:15:29.123Z"
   },
   {
    "duration": 16,
    "start_time": "2022-02-07T01:15:35.883Z"
   },
   {
    "duration": 114,
    "start_time": "2022-02-07T01:15:36.213Z"
   },
   {
    "duration": 10845,
    "start_time": "2022-02-07T01:15:38.359Z"
   },
   {
    "duration": 9,
    "start_time": "2022-02-07T01:16:06.184Z"
   },
   {
    "duration": 24,
    "start_time": "2022-02-07T01:16:06.692Z"
   },
   {
    "duration": 21,
    "start_time": "2022-02-07T01:16:07.803Z"
   },
   {
    "duration": 15,
    "start_time": "2022-02-07T01:16:09.234Z"
   },
   {
    "duration": 17,
    "start_time": "2022-02-07T01:16:12.234Z"
   },
   {
    "duration": 16,
    "start_time": "2022-02-07T01:16:12.865Z"
   },
   {
    "duration": 130,
    "start_time": "2022-02-07T01:16:13.064Z"
   },
   {
    "duration": 10429,
    "start_time": "2022-02-07T01:16:13.350Z"
   },
   {
    "duration": 17,
    "start_time": "2022-02-07T01:16:23.782Z"
   },
   {
    "duration": 8,
    "start_time": "2022-02-07T01:16:23.802Z"
   },
   {
    "duration": 61,
    "start_time": "2022-02-07T01:16:23.812Z"
   },
   {
    "duration": 16,
    "start_time": "2022-02-07T01:16:35.424Z"
   },
   {
    "duration": 122,
    "start_time": "2022-02-07T01:16:35.633Z"
   },
   {
    "duration": 208,
    "start_time": "2022-02-07T01:16:36.145Z"
   },
   {
    "duration": 128,
    "start_time": "2022-02-07T01:16:37.714Z"
   },
   {
    "duration": 175,
    "start_time": "2022-02-07T01:16:38.073Z"
   },
   {
    "duration": 28,
    "start_time": "2022-02-07T01:16:38.704Z"
   },
   {
    "duration": 1441,
    "start_time": "2022-02-07T01:16:42.174Z"
   },
   {
    "duration": 11,
    "start_time": "2022-02-07T01:17:21.494Z"
   },
   {
    "duration": 26,
    "start_time": "2022-02-07T01:17:41.563Z"
   },
   {
    "duration": 33,
    "start_time": "2022-02-07T01:17:43.124Z"
   },
   {
    "duration": 97,
    "start_time": "2022-02-07T01:17:47.790Z"
   },
   {
    "duration": 136,
    "start_time": "2022-02-07T01:17:49.224Z"
   },
   {
    "duration": 455,
    "start_time": "2022-02-07T01:17:52.104Z"
   },
   {
    "duration": 12,
    "start_time": "2022-02-07T01:18:00.564Z"
   },
   {
    "duration": 9,
    "start_time": "2022-02-07T01:18:01.554Z"
   },
   {
    "duration": 17,
    "start_time": "2022-02-07T01:18:02.455Z"
   },
   {
    "duration": 166,
    "start_time": "2022-02-07T01:18:03.395Z"
   },
   {
    "duration": 11,
    "start_time": "2022-02-07T01:18:03.833Z"
   },
   {
    "duration": 6,
    "start_time": "2022-02-07T01:18:05.325Z"
   },
   {
    "duration": 24,
    "start_time": "2022-02-07T01:18:07.406Z"
   },
   {
    "duration": 21,
    "start_time": "2022-02-07T01:18:23.493Z"
   },
   {
    "duration": 9,
    "start_time": "2022-02-07T01:18:24.994Z"
   },
   {
    "duration": 22,
    "start_time": "2022-02-07T01:18:25.782Z"
   },
   {
    "duration": 31,
    "start_time": "2022-02-07T01:18:30.474Z"
   },
   {
    "duration": 53,
    "start_time": "2022-02-07T01:18:31.214Z"
   },
   {
    "duration": 1038,
    "start_time": "2022-02-07T01:18:37.834Z"
   },
   {
    "duration": 794,
    "start_time": "2022-02-07T01:18:40.024Z"
   },
   {
    "duration": 11,
    "start_time": "2022-02-07T01:19:09.634Z"
   },
   {
    "duration": 8,
    "start_time": "2022-02-07T01:19:10.381Z"
   },
   {
    "duration": 21,
    "start_time": "2022-02-07T01:19:11.695Z"
   },
   {
    "duration": 47,
    "start_time": "2022-02-07T01:19:12.123Z"
   },
   {
    "duration": 35,
    "start_time": "2022-02-07T01:19:13.944Z"
   },
   {
    "duration": 21,
    "start_time": "2022-02-07T01:19:22.024Z"
   },
   {
    "duration": 898,
    "start_time": "2022-02-07T01:19:22.474Z"
   },
   {
    "duration": 101,
    "start_time": "2022-02-07T01:22:45.114Z"
   },
   {
    "duration": 269,
    "start_time": "2022-02-07T01:25:15.552Z"
   },
   {
    "duration": 12,
    "start_time": "2022-02-07T01:25:20.024Z"
   },
   {
    "duration": 283,
    "start_time": "2022-02-07T01:25:42.724Z"
   },
   {
    "duration": 16,
    "start_time": "2022-02-07T01:25:50.843Z"
   },
   {
    "duration": 6,
    "start_time": "2022-02-07T01:26:18.634Z"
   },
   {
    "duration": 14,
    "start_time": "2022-02-07T01:26:53.604Z"
   },
   {
    "duration": 274,
    "start_time": "2022-02-07T01:27:05.564Z"
   },
   {
    "duration": 272,
    "start_time": "2022-02-07T01:27:25.062Z"
   },
   {
    "duration": 272,
    "start_time": "2022-02-07T01:27:47.495Z"
   },
   {
    "duration": 233,
    "start_time": "2022-02-07T01:27:59.914Z"
   },
   {
    "duration": 16,
    "start_time": "2022-02-07T01:29:20.924Z"
   },
   {
    "duration": 10,
    "start_time": "2022-02-07T01:36:15.535Z"
   },
   {
    "duration": 98,
    "start_time": "2022-02-07T01:37:04.443Z"
   },
   {
    "duration": 5,
    "start_time": "2022-02-07T01:37:31.545Z"
   },
   {
    "duration": 251,
    "start_time": "2022-02-07T01:37:54.295Z"
   },
   {
    "duration": 5,
    "start_time": "2022-02-07T01:38:08.446Z"
   },
   {
    "duration": 14,
    "start_time": "2022-02-07T01:38:18.734Z"
   },
   {
    "duration": 19,
    "start_time": "2022-02-07T01:38:57.765Z"
   },
   {
    "duration": 270,
    "start_time": "2022-02-07T01:39:24.895Z"
   },
   {
    "duration": 246,
    "start_time": "2022-02-07T01:40:04.815Z"
   },
   {
    "duration": 294,
    "start_time": "2022-02-07T01:40:24.335Z"
   },
   {
    "duration": 20,
    "start_time": "2022-02-07T01:41:12.614Z"
   },
   {
    "duration": 260,
    "start_time": "2022-02-07T01:41:13.484Z"
   },
   {
    "duration": 248,
    "start_time": "2022-02-07T01:41:43.204Z"
   },
   {
    "duration": 5,
    "start_time": "2022-02-07T01:41:53.825Z"
   },
   {
    "duration": 14,
    "start_time": "2022-02-07T01:41:54.954Z"
   },
   {
    "duration": 19,
    "start_time": "2022-02-07T01:41:56.604Z"
   },
   {
    "duration": 3074,
    "start_time": "2022-02-07T01:41:58.415Z"
   },
   {
    "duration": 19,
    "start_time": "2022-02-07T01:42:53.639Z"
   },
   {
    "duration": 80,
    "start_time": "2022-02-07T01:43:42.001Z"
   },
   {
    "duration": 19,
    "start_time": "2022-02-07T01:47:57.634Z"
   },
   {
    "duration": 170,
    "start_time": "2022-02-07T01:48:15.284Z"
   },
   {
    "duration": 183,
    "start_time": "2022-02-07T01:48:36.263Z"
   },
   {
    "duration": 177,
    "start_time": "2022-02-07T01:48:56.514Z"
   },
   {
    "duration": 17351,
    "start_time": "2022-02-07T01:50:29.243Z"
   },
   {
    "duration": 18213,
    "start_time": "2022-02-07T01:53:50.381Z"
   },
   {
    "duration": 477,
    "start_time": "2022-02-07T01:54:16.364Z"
   },
   {
    "duration": 187,
    "start_time": "2022-02-07T01:54:21.043Z"
   },
   {
    "duration": 12,
    "start_time": "2022-02-07T01:57:20.524Z"
   },
   {
    "duration": 262,
    "start_time": "2022-02-07T01:57:33.514Z"
   },
   {
    "duration": 17,
    "start_time": "2022-02-07T01:57:46.793Z"
   },
   {
    "duration": 268,
    "start_time": "2022-02-07T01:58:53.204Z"
   },
   {
    "duration": 268,
    "start_time": "2022-02-07T01:59:19.906Z"
   },
   {
    "duration": 265,
    "start_time": "2022-02-07T01:59:51.734Z"
   },
   {
    "duration": 102,
    "start_time": "2022-02-07T02:01:29.674Z"
   },
   {
    "duration": 11,
    "start_time": "2022-02-07T02:01:39.164Z"
   },
   {
    "duration": 16,
    "start_time": "2022-02-07T02:01:50.343Z"
   },
   {
    "duration": 42,
    "start_time": "2022-02-07T02:02:23.194Z"
   },
   {
    "duration": 44,
    "start_time": "2022-02-07T02:03:12.024Z"
   },
   {
    "duration": 262,
    "start_time": "2022-02-07T02:05:23.694Z"
   },
   {
    "duration": 26,
    "start_time": "2022-02-07T02:08:22.754Z"
   },
   {
    "duration": 30,
    "start_time": "2022-02-07T02:08:44.524Z"
   },
   {
    "duration": 937,
    "start_time": "2022-02-07T02:08:54.224Z"
   },
   {
    "duration": 3,
    "start_time": "2022-02-07T02:17:55.334Z"
   },
   {
    "duration": 258,
    "start_time": "2022-02-07T02:19:21.774Z"
   },
   {
    "duration": 251,
    "start_time": "2022-02-07T02:19:44.123Z"
   },
   {
    "duration": 20,
    "start_time": "2022-02-07T02:19:49.082Z"
   },
   {
    "duration": 183,
    "start_time": "2022-02-07T02:19:58.453Z"
   },
   {
    "duration": 193,
    "start_time": "2022-02-07T02:20:25.824Z"
   },
   {
    "duration": 16,
    "start_time": "2022-02-07T02:21:30.853Z"
   },
   {
    "duration": 7989,
    "start_time": "2022-02-07T02:31:29.389Z"
   },
   {
    "duration": 1304,
    "start_time": "2022-02-07T02:31:43.619Z"
   },
   {
    "duration": 709,
    "start_time": "2022-02-07T02:31:44.926Z"
   },
   {
    "duration": 14,
    "start_time": "2022-02-07T02:31:45.638Z"
   },
   {
    "duration": 65,
    "start_time": "2022-02-07T02:31:46.136Z"
   },
   {
    "duration": 124,
    "start_time": "2022-02-07T02:31:46.949Z"
   },
   {
    "duration": 65,
    "start_time": "2022-02-07T02:31:47.288Z"
   },
   {
    "duration": 44,
    "start_time": "2022-02-07T02:31:50.438Z"
   },
   {
    "duration": 9,
    "start_time": "2022-02-07T02:31:51.828Z"
   },
   {
    "duration": 14,
    "start_time": "2022-02-07T02:31:52.318Z"
   },
   {
    "duration": 19,
    "start_time": "2022-02-07T02:31:52.675Z"
   },
   {
    "duration": 20,
    "start_time": "2022-02-07T02:31:52.808Z"
   },
   {
    "duration": 9,
    "start_time": "2022-02-07T02:31:52.998Z"
   },
   {
    "duration": 11,
    "start_time": "2022-02-07T02:31:53.188Z"
   },
   {
    "duration": 15,
    "start_time": "2022-02-07T02:31:53.527Z"
   },
   {
    "duration": 15,
    "start_time": "2022-02-07T02:31:54.389Z"
   },
   {
    "duration": 9,
    "start_time": "2022-02-07T02:31:55.059Z"
   },
   {
    "duration": 88,
    "start_time": "2022-02-07T02:31:55.218Z"
   },
   {
    "duration": 87,
    "start_time": "2022-02-07T02:31:55.638Z"
   },
   {
    "duration": 260,
    "start_time": "2022-02-07T02:31:55.818Z"
   },
   {
    "duration": 258,
    "start_time": "2022-02-07T02:31:56.080Z"
   },
   {
    "duration": 357,
    "start_time": "2022-02-07T02:31:56.341Z"
   },
   {
    "duration": 15,
    "start_time": "2022-02-07T02:31:57.888Z"
   },
   {
    "duration": 10,
    "start_time": "2022-02-07T02:31:58.038Z"
   },
   {
    "duration": 8,
    "start_time": "2022-02-07T02:31:58.378Z"
   },
   {
    "duration": 13,
    "start_time": "2022-02-07T02:31:58.869Z"
   },
   {
    "duration": 4,
    "start_time": "2022-02-07T02:31:59.017Z"
   },
   {
    "duration": 11,
    "start_time": "2022-02-07T02:31:59.168Z"
   },
   {
    "duration": 8,
    "start_time": "2022-02-07T02:31:59.789Z"
   },
   {
    "duration": 9,
    "start_time": "2022-02-07T02:32:00.068Z"
   },
   {
    "duration": 5,
    "start_time": "2022-02-07T02:32:00.618Z"
   },
   {
    "duration": 4,
    "start_time": "2022-02-07T02:32:00.758Z"
   },
   {
    "duration": 13,
    "start_time": "2022-02-07T02:32:01.189Z"
   },
   {
    "duration": 9,
    "start_time": "2022-02-07T02:32:05.769Z"
   },
   {
    "duration": 90,
    "start_time": "2022-02-07T02:32:05.888Z"
   },
   {
    "duration": 108,
    "start_time": "2022-02-07T02:32:07.263Z"
   },
   {
    "duration": 12870,
    "start_time": "2022-02-07T02:32:08.118Z"
   },
   {
    "duration": 101,
    "start_time": "2022-02-07T02:32:20.991Z"
   },
   {
    "duration": 668,
    "start_time": "2022-02-07T02:32:21.094Z"
   },
   {
    "duration": 5,
    "start_time": "2022-02-07T02:32:21.764Z"
   },
   {
    "duration": 179,
    "start_time": "2022-02-07T02:32:21.771Z"
   },
   {
    "duration": 113,
    "start_time": "2022-02-07T02:32:21.952Z"
   },
   {
    "duration": 4,
    "start_time": "2022-02-07T02:32:22.067Z"
   },
   {
    "duration": 121,
    "start_time": "2022-02-07T02:32:22.074Z"
   },
   {
    "duration": 64,
    "start_time": "2022-02-07T02:32:22.197Z"
   },
   {
    "duration": 5,
    "start_time": "2022-02-07T02:32:47.328Z"
   },
   {
    "duration": 63,
    "start_time": "2022-02-07T02:32:50.729Z"
   },
   {
    "duration": 5,
    "start_time": "2022-02-07T02:32:51.389Z"
   },
   {
    "duration": 11,
    "start_time": "2022-02-07T02:32:54.579Z"
   },
   {
    "duration": 93,
    "start_time": "2022-02-07T02:32:54.888Z"
   },
   {
    "duration": 6867,
    "start_time": "2022-02-07T02:32:55.308Z"
   },
   {
    "duration": 7,
    "start_time": "2022-02-07T02:33:04.425Z"
   },
   {
    "duration": 19,
    "start_time": "2022-02-07T02:33:04.973Z"
   },
   {
    "duration": 20,
    "start_time": "2022-02-07T02:33:06.396Z"
   },
   {
    "duration": 12,
    "start_time": "2022-02-07T02:33:08.737Z"
   },
   {
    "duration": 15,
    "start_time": "2022-02-07T02:33:09.558Z"
   },
   {
    "duration": 12,
    "start_time": "2022-02-07T02:33:09.738Z"
   },
   {
    "duration": 101,
    "start_time": "2022-02-07T02:33:09.958Z"
   },
   {
    "duration": 7138,
    "start_time": "2022-02-07T02:33:10.098Z"
   },
   {
    "duration": 20,
    "start_time": "2022-02-07T02:33:17.239Z"
   },
   {
    "duration": 49,
    "start_time": "2022-02-07T02:33:17.261Z"
   },
   {
    "duration": 6,
    "start_time": "2022-02-07T02:33:17.313Z"
   },
   {
    "duration": 15,
    "start_time": "2022-02-07T02:33:17.321Z"
   },
   {
    "duration": 194,
    "start_time": "2022-02-07T02:33:17.338Z"
   },
   {
    "duration": 307,
    "start_time": "2022-02-07T02:33:17.534Z"
   },
   {
    "duration": 204,
    "start_time": "2022-02-07T02:33:17.843Z"
   },
   {
    "duration": 226,
    "start_time": "2022-02-07T02:33:18.049Z"
   },
   {
    "duration": 35,
    "start_time": "2022-02-07T02:33:18.277Z"
   },
   {
    "duration": 882,
    "start_time": "2022-02-07T02:33:18.314Z"
   },
   {
    "duration": 8,
    "start_time": "2022-02-07T02:33:35.218Z"
   },
   {
    "duration": 19,
    "start_time": "2022-02-07T02:33:36.328Z"
   },
   {
    "duration": 23,
    "start_time": "2022-02-07T02:33:37.369Z"
   },
   {
    "duration": 52,
    "start_time": "2022-02-07T02:33:38.635Z"
   },
   {
    "duration": 21,
    "start_time": "2022-02-07T02:33:42.047Z"
   },
   {
    "duration": 341,
    "start_time": "2022-02-07T02:33:46.615Z"
   },
   {
    "duration": 10,
    "start_time": "2022-02-07T02:33:51.829Z"
   },
   {
    "duration": 7,
    "start_time": "2022-02-07T02:33:55.759Z"
   },
   {
    "duration": 14,
    "start_time": "2022-02-07T02:33:59.590Z"
   },
   {
    "duration": 114,
    "start_time": "2022-02-07T02:34:02.469Z"
   },
   {
    "duration": 9,
    "start_time": "2022-02-07T02:34:09.159Z"
   },
   {
    "duration": 5,
    "start_time": "2022-02-07T02:34:13.159Z"
   },
   {
    "duration": 19,
    "start_time": "2022-02-07T02:34:18.998Z"
   },
   {
    "duration": 17,
    "start_time": "2022-02-07T02:35:09.558Z"
   },
   {
    "duration": 8,
    "start_time": "2022-02-07T02:35:26.259Z"
   },
   {
    "duration": 23,
    "start_time": "2022-02-07T02:36:00.767Z"
   },
   {
    "duration": 23,
    "start_time": "2022-02-07T02:36:01.533Z"
   },
   {
    "duration": 33,
    "start_time": "2022-02-07T02:36:02.547Z"
   },
   {
    "duration": 774,
    "start_time": "2022-02-07T02:36:05.479Z"
   },
   {
    "duration": 775,
    "start_time": "2022-02-07T02:36:11.627Z"
   },
   {
    "duration": 11,
    "start_time": "2022-02-07T02:36:13.818Z"
   },
   {
    "duration": 6,
    "start_time": "2022-02-07T02:36:14.308Z"
   },
   {
    "duration": 17,
    "start_time": "2022-02-07T02:36:57.788Z"
   },
   {
    "duration": 32,
    "start_time": "2022-02-07T02:36:58.678Z"
   },
   {
    "duration": 25,
    "start_time": "2022-02-07T02:37:54.598Z"
   },
   {
    "duration": 18,
    "start_time": "2022-02-07T02:37:55.538Z"
   },
   {
    "duration": 657,
    "start_time": "2022-02-07T02:37:58.498Z"
   },
   {
    "duration": 9,
    "start_time": "2022-02-07T02:38:32.419Z"
   },
   {
    "duration": 12,
    "start_time": "2022-02-07T02:38:33.280Z"
   },
   {
    "duration": 5,
    "start_time": "2022-02-07T02:38:36.847Z"
   },
   {
    "duration": 11,
    "start_time": "2022-02-07T02:39:02.409Z"
   },
   {
    "duration": 149,
    "start_time": "2022-02-07T02:39:07.738Z"
   },
   {
    "duration": 10,
    "start_time": "2022-02-07T02:46:44.799Z"
   },
   {
    "duration": 8,
    "start_time": "2022-02-07T02:46:49.169Z"
   },
   {
    "duration": 9,
    "start_time": "2022-02-07T02:48:24.789Z"
   },
   {
    "duration": 5,
    "start_time": "2022-02-07T02:49:34.529Z"
   },
   {
    "duration": 12,
    "start_time": "2022-02-07T02:49:42.479Z"
   },
   {
    "duration": 17,
    "start_time": "2022-02-07T02:51:04.059Z"
   },
   {
    "duration": 16,
    "start_time": "2022-02-07T02:51:05.927Z"
   },
   {
    "duration": 54,
    "start_time": "2022-02-07T02:51:07.579Z"
   },
   {
    "duration": 13,
    "start_time": "2022-02-07T02:51:20.994Z"
   },
   {
    "duration": 135,
    "start_time": "2022-02-07T02:51:24.788Z"
   },
   {
    "duration": 9345,
    "start_time": "2022-02-07T02:56:55.639Z"
   },
   {
    "duration": 417,
    "start_time": "2022-02-07T03:00:23.520Z"
   },
   {
    "duration": 9401,
    "start_time": "2022-02-07T03:00:42.440Z"
   },
   {
    "duration": 55,
    "start_time": "2022-02-07T03:00:57.800Z"
   },
   {
    "duration": 11,
    "start_time": "2022-02-07T03:04:39.452Z"
   },
   {
    "duration": 271,
    "start_time": "2022-02-07T03:05:10.783Z"
   },
   {
    "duration": 13,
    "start_time": "2022-02-07T03:05:25.141Z"
   },
   {
    "duration": 20,
    "start_time": "2022-02-07T03:06:58.042Z"
   },
   {
    "duration": 249,
    "start_time": "2022-02-07T03:08:23.793Z"
   },
   {
    "duration": 20,
    "start_time": "2022-02-07T03:08:50.541Z"
   },
   {
    "duration": 258,
    "start_time": "2022-02-07T03:08:54.252Z"
   },
   {
    "duration": 260,
    "start_time": "2022-02-07T03:09:06.143Z"
   },
   {
    "duration": 20,
    "start_time": "2022-02-07T03:09:37.743Z"
   },
   {
    "duration": 3074,
    "start_time": "2022-02-07T03:09:49.521Z"
   },
   {
    "duration": 14,
    "start_time": "2022-02-07T03:10:09.113Z"
   },
   {
    "duration": 82,
    "start_time": "2022-02-07T03:10:49.669Z"
   },
   {
    "duration": 17,
    "start_time": "2022-02-07T03:17:54.841Z"
   },
   {
    "duration": 19,
    "start_time": "2022-02-07T03:18:00.701Z"
   },
   {
    "duration": 634,
    "start_time": "2022-02-07T03:18:01.341Z"
   },
   {
    "duration": 13,
    "start_time": "2022-02-07T03:20:28.004Z"
   },
   {
    "duration": 255,
    "start_time": "2022-02-07T03:21:50.331Z"
   },
   {
    "duration": 25,
    "start_time": "2022-02-07T03:22:16.511Z"
   },
   {
    "duration": 10581,
    "start_time": "2022-02-08T06:38:06.174Z"
   },
   {
    "duration": 1522,
    "start_time": "2022-02-08T06:38:16.757Z"
   },
   {
    "duration": 751,
    "start_time": "2022-02-08T06:38:18.282Z"
   },
   {
    "duration": 15,
    "start_time": "2022-02-08T06:38:19.036Z"
   },
   {
    "duration": 959,
    "start_time": "2022-02-08T06:38:19.053Z"
   },
   {
    "duration": 361,
    "start_time": "2022-02-08T06:38:20.015Z"
   },
   {
    "duration": 318,
    "start_time": "2022-02-08T06:38:20.379Z"
   },
   {
    "duration": 295,
    "start_time": "2022-02-08T06:38:20.701Z"
   },
   {
    "duration": 253,
    "start_time": "2022-02-08T06:38:20.999Z"
   },
   {
    "duration": 263,
    "start_time": "2022-02-08T06:38:21.255Z"
   },
   {
    "duration": 47,
    "start_time": "2022-02-08T06:38:21.521Z"
   },
   {
    "duration": 24,
    "start_time": "2022-02-08T06:38:21.570Z"
   },
   {
    "duration": 11,
    "start_time": "2022-02-08T06:38:21.596Z"
   },
   {
    "duration": 31,
    "start_time": "2022-02-08T06:38:21.610Z"
   },
   {
    "duration": 22,
    "start_time": "2022-02-08T06:38:21.644Z"
   },
   {
    "duration": 35,
    "start_time": "2022-02-08T06:38:21.669Z"
   },
   {
    "duration": 29,
    "start_time": "2022-02-08T06:38:21.706Z"
   },
   {
    "duration": 135,
    "start_time": "2022-02-08T06:38:21.740Z"
   },
   {
    "duration": 114,
    "start_time": "2022-02-08T06:38:21.877Z"
   },
   {
    "duration": 59,
    "start_time": "2022-02-08T06:38:21.994Z"
   },
   {
    "duration": 5,
    "start_time": "2022-02-08T06:38:22.056Z"
   },
   {
    "duration": 19,
    "start_time": "2022-02-08T06:38:22.064Z"
   },
   {
    "duration": 41,
    "start_time": "2022-02-08T06:38:22.091Z"
   },
   {
    "duration": 18,
    "start_time": "2022-02-08T06:38:22.136Z"
   },
   {
    "duration": 24,
    "start_time": "2022-02-08T06:38:22.157Z"
   },
   {
    "duration": 24,
    "start_time": "2022-02-08T06:38:22.183Z"
   },
   {
    "duration": 7,
    "start_time": "2022-02-08T06:38:22.232Z"
   },
   {
    "duration": 25,
    "start_time": "2022-02-08T06:38:22.241Z"
   },
   {
    "duration": 11,
    "start_time": "2022-02-08T06:38:22.268Z"
   },
   {
    "duration": 20,
    "start_time": "2022-02-08T06:38:22.282Z"
   },
   {
    "duration": 8,
    "start_time": "2022-02-08T06:38:22.334Z"
   },
   {
    "duration": 12,
    "start_time": "2022-02-08T06:38:22.346Z"
   },
   {
    "duration": 25,
    "start_time": "2022-02-08T06:38:22.361Z"
   },
   {
    "duration": 21,
    "start_time": "2022-02-08T06:38:22.389Z"
   },
   {
    "duration": 143,
    "start_time": "2022-02-08T06:38:22.413Z"
   },
   {
    "duration": 131,
    "start_time": "2022-02-08T06:38:22.558Z"
   },
   {
    "duration": 22162,
    "start_time": "2022-02-08T06:38:22.692Z"
   },
   {
    "duration": 149,
    "start_time": "2022-02-08T06:38:44.857Z"
   },
   {
    "duration": 729,
    "start_time": "2022-02-08T06:38:45.009Z"
   },
   {
    "duration": 5,
    "start_time": "2022-02-08T06:38:45.741Z"
   },
   {
    "duration": 236,
    "start_time": "2022-02-08T06:38:45.749Z"
   },
   {
    "duration": 123,
    "start_time": "2022-02-08T06:38:45.988Z"
   },
   {
    "duration": 6,
    "start_time": "2022-02-08T06:38:46.113Z"
   },
   {
    "duration": 122,
    "start_time": "2022-02-08T06:38:46.133Z"
   },
   {
    "duration": 96,
    "start_time": "2022-02-08T06:38:46.258Z"
   },
   {
    "duration": 7,
    "start_time": "2022-02-08T06:38:46.357Z"
   },
   {
    "duration": 17,
    "start_time": "2022-02-08T06:38:46.367Z"
   },
   {
    "duration": 148,
    "start_time": "2022-02-08T06:38:46.387Z"
   },
   {
    "duration": 10861,
    "start_time": "2022-02-08T06:38:46.538Z"
   },
   {
    "duration": 38,
    "start_time": "2022-02-08T06:38:57.403Z"
   },
   {
    "duration": 25,
    "start_time": "2022-02-08T06:38:57.443Z"
   },
   {
    "duration": 77,
    "start_time": "2022-02-08T06:38:57.471Z"
   },
   {
    "duration": 14,
    "start_time": "2022-02-08T06:38:57.550Z"
   },
   {
    "duration": 74,
    "start_time": "2022-02-08T06:38:57.566Z"
   },
   {
    "duration": 15,
    "start_time": "2022-02-08T06:38:57.642Z"
   },
   {
    "duration": 291,
    "start_time": "2022-02-08T06:38:57.660Z"
   },
   {
    "duration": 10985,
    "start_time": "2022-02-08T06:38:57.954Z"
   },
   {
    "duration": 17,
    "start_time": "2022-02-08T06:39:08.942Z"
   },
   {
    "duration": 368,
    "start_time": "2022-02-08T06:39:08.962Z"
   },
   {
    "duration": 19,
    "start_time": "2022-02-08T06:39:09.333Z"
   },
   {
    "duration": 28,
    "start_time": "2022-02-08T06:39:09.355Z"
   },
   {
    "duration": 184,
    "start_time": "2022-02-08T06:39:09.386Z"
   },
   {
    "duration": 277,
    "start_time": "2022-02-08T06:39:09.573Z"
   },
   {
    "duration": 137,
    "start_time": "2022-02-08T06:39:09.853Z"
   },
   {
    "duration": 162,
    "start_time": "2022-02-08T06:39:09.993Z"
   },
   {
    "duration": 26,
    "start_time": "2022-02-08T06:39:10.158Z"
   },
   {
    "duration": 1312,
    "start_time": "2022-02-08T06:39:10.187Z"
   },
   {
    "duration": 10,
    "start_time": "2022-02-08T06:39:11.508Z"
   },
   {
    "duration": 666,
    "start_time": "2022-02-08T06:39:11.521Z"
   },
   {
    "duration": 30,
    "start_time": "2022-02-08T06:39:12.189Z"
   },
   {
    "duration": 99,
    "start_time": "2022-02-08T06:39:12.221Z"
   },
   {
    "duration": 32,
    "start_time": "2022-02-08T06:39:12.323Z"
   },
   {
    "duration": 481,
    "start_time": "2022-02-08T06:39:12.357Z"
   },
   {
    "duration": 12,
    "start_time": "2022-02-08T06:39:12.840Z"
   },
   {
    "duration": 8,
    "start_time": "2022-02-08T06:39:12.854Z"
   },
   {
    "duration": 19,
    "start_time": "2022-02-08T06:39:12.864Z"
   },
   {
    "duration": 190,
    "start_time": "2022-02-08T06:39:12.885Z"
   },
   {
    "duration": 10,
    "start_time": "2022-02-08T06:39:13.077Z"
   },
   {
    "duration": 6,
    "start_time": "2022-02-08T06:39:13.089Z"
   },
   {
    "duration": 34,
    "start_time": "2022-02-08T06:39:13.098Z"
   },
   {
    "duration": 21,
    "start_time": "2022-02-08T06:39:13.134Z"
   },
   {
    "duration": 11,
    "start_time": "2022-02-08T06:39:13.157Z"
   },
   {
    "duration": 29,
    "start_time": "2022-02-08T06:39:13.170Z"
   },
   {
    "duration": 36,
    "start_time": "2022-02-08T06:39:13.201Z"
   },
   {
    "duration": 49,
    "start_time": "2022-02-08T06:39:13.239Z"
   },
   {
    "duration": 1375,
    "start_time": "2022-02-08T06:39:13.291Z"
   },
   {
    "duration": 3466,
    "start_time": "2022-02-08T06:39:14.669Z"
   },
   {
    "duration": 14,
    "start_time": "2022-02-08T06:39:18.138Z"
   },
   {
    "duration": 16,
    "start_time": "2022-02-08T06:39:18.155Z"
   },
   {
    "duration": 82,
    "start_time": "2022-02-08T06:39:18.174Z"
   },
   {
    "duration": 177,
    "start_time": "2022-02-08T06:39:18.259Z"
   },
   {
    "duration": 107,
    "start_time": "2022-02-08T06:39:18.439Z"
   },
   {
    "duration": 20,
    "start_time": "2022-02-08T06:39:18.549Z"
   },
   {
    "duration": 932,
    "start_time": "2022-02-08T06:39:18.571Z"
   },
   {
    "duration": 10,
    "start_time": "2022-02-08T06:39:19.506Z"
   },
   {
    "duration": 18,
    "start_time": "2022-02-08T06:39:19.519Z"
   },
   {
    "duration": 6,
    "start_time": "2022-02-08T06:39:19.540Z"
   },
   {
    "duration": 15,
    "start_time": "2022-02-08T06:39:19.549Z"
   },
   {
    "duration": 275,
    "start_time": "2022-02-08T06:39:19.566Z"
   },
   {
    "duration": 8,
    "start_time": "2022-02-08T06:39:19.843Z"
   },
   {
    "duration": 13,
    "start_time": "2022-02-08T06:39:19.854Z"
   },
   {
    "duration": 10,
    "start_time": "2022-02-08T06:39:19.870Z"
   },
   {
    "duration": 15,
    "start_time": "2022-02-08T06:39:19.882Z"
   },
   {
    "duration": 19,
    "start_time": "2022-02-08T06:39:19.932Z"
   },
   {
    "duration": 17,
    "start_time": "2022-02-08T06:39:19.954Z"
   },
   {
    "duration": 100,
    "start_time": "2022-02-08T06:39:19.973Z"
   },
   {
    "duration": 18,
    "start_time": "2022-02-08T06:39:20.075Z"
   },
   {
    "duration": 200,
    "start_time": "2022-02-08T06:39:20.096Z"
   },
   {
    "duration": 17776,
    "start_time": "2022-02-08T06:39:20.298Z"
   },
   {
    "duration": 107,
    "start_time": "2022-02-08T06:39:38.077Z"
   },
   {
    "duration": 11,
    "start_time": "2022-02-08T06:39:38.186Z"
   },
   {
    "duration": 34,
    "start_time": "2022-02-08T06:39:38.199Z"
   },
   {
    "duration": 43,
    "start_time": "2022-02-08T06:39:38.235Z"
   },
   {
    "duration": 19,
    "start_time": "2022-02-08T06:39:38.280Z"
   },
   {
    "duration": 134,
    "start_time": "2022-02-08T06:39:38.301Z"
   },
   {
    "duration": 25,
    "start_time": "2022-02-08T06:39:38.438Z"
   },
   {
    "duration": 26,
    "start_time": "2022-02-08T06:39:38.467Z"
   },
   {
    "duration": 1136,
    "start_time": "2022-02-08T06:39:38.496Z"
   },
   {
    "duration": 15,
    "start_time": "2022-02-08T06:39:39.634Z"
   },
   {
    "duration": 38,
    "start_time": "2022-02-08T06:39:39.651Z"
   },
   {
    "duration": 8184,
    "start_time": "2022-02-08T09:56:19.402Z"
   },
   {
    "duration": 89,
    "start_time": "2022-02-08T09:56:47.521Z"
   },
   {
    "duration": 1259,
    "start_time": "2022-02-08T10:00:40.557Z"
   },
   {
    "duration": 79,
    "start_time": "2022-02-08T10:01:50.437Z"
   },
   {
    "duration": 330,
    "start_time": "2022-02-08T10:02:27.006Z"
   },
   {
    "duration": 3,
    "start_time": "2022-02-08T10:02:35.482Z"
   },
   {
    "duration": 656,
    "start_time": "2022-02-08T10:02:37.202Z"
   },
   {
    "duration": 13,
    "start_time": "2022-02-08T10:02:40.081Z"
   },
   {
    "duration": 61,
    "start_time": "2022-02-08T10:02:45.779Z"
   },
   {
    "duration": 119,
    "start_time": "2022-02-08T10:02:52.740Z"
   },
   {
    "duration": 62,
    "start_time": "2022-02-08T10:02:57.040Z"
   },
   {
    "duration": 45,
    "start_time": "2022-02-08T10:03:01.868Z"
   },
   {
    "duration": 10,
    "start_time": "2022-02-08T10:03:09.860Z"
   },
   {
    "duration": 14,
    "start_time": "2022-02-08T10:03:11.211Z"
   },
   {
    "duration": 19,
    "start_time": "2022-02-08T10:03:16.434Z"
   },
   {
    "duration": 20,
    "start_time": "2022-02-08T10:03:19.960Z"
   },
   {
    "duration": 20,
    "start_time": "2022-02-08T10:03:58.890Z"
   },
   {
    "duration": 9,
    "start_time": "2022-02-08T10:04:03.635Z"
   },
   {
    "duration": 10,
    "start_time": "2022-02-08T10:04:06.333Z"
   },
   {
    "duration": 14,
    "start_time": "2022-02-08T10:04:17.267Z"
   },
   {
    "duration": 15,
    "start_time": "2022-02-08T10:04:18.114Z"
   },
   {
    "duration": 8,
    "start_time": "2022-02-08T10:04:23.049Z"
   },
   {
    "duration": 86,
    "start_time": "2022-02-08T10:04:29.775Z"
   },
   {
    "duration": 84,
    "start_time": "2022-02-08T10:04:30.399Z"
   },
   {
    "duration": 29,
    "start_time": "2022-02-08T10:04:30.959Z"
   },
   {
    "duration": 5,
    "start_time": "2022-02-08T10:04:31.914Z"
   },
   {
    "duration": 10,
    "start_time": "2022-02-08T10:04:35.008Z"
   },
   {
    "duration": 15,
    "start_time": "2022-02-08T10:04:37.684Z"
   },
   {
    "duration": 9,
    "start_time": "2022-02-08T10:04:42.780Z"
   },
   {
    "duration": 8,
    "start_time": "2022-02-08T10:04:44.982Z"
   },
   {
    "duration": 14,
    "start_time": "2022-02-08T10:04:50.296Z"
   },
   {
    "duration": 4,
    "start_time": "2022-02-08T10:04:50.697Z"
   },
   {
    "duration": 11,
    "start_time": "2022-02-08T10:04:51.070Z"
   },
   {
    "duration": 8,
    "start_time": "2022-02-08T10:04:56.812Z"
   },
   {
    "duration": 8,
    "start_time": "2022-02-08T10:04:57.745Z"
   },
   {
    "duration": 4,
    "start_time": "2022-02-08T10:04:58.728Z"
   },
   {
    "duration": 4,
    "start_time": "2022-02-08T10:05:00.932Z"
   },
   {
    "duration": 14,
    "start_time": "2022-02-08T10:05:01.782Z"
   },
   {
    "duration": 10,
    "start_time": "2022-02-08T10:08:26.533Z"
   },
   {
    "duration": 91,
    "start_time": "2022-02-08T10:08:28.878Z"
   },
   {
    "duration": 108,
    "start_time": "2022-02-08T10:08:29.981Z"
   },
   {
    "duration": 13199,
    "start_time": "2022-02-08T10:08:59.135Z"
   },
   {
    "duration": 107,
    "start_time": "2022-02-08T10:09:51.437Z"
   },
   {
    "duration": 13,
    "start_time": "2022-02-08T10:10:08.686Z"
   },
   {
    "duration": 95,
    "start_time": "2022-02-08T10:10:10.982Z"
   },
   {
    "duration": 108,
    "start_time": "2022-02-08T10:11:15.940Z"
   },
   {
    "duration": 532,
    "start_time": "2022-02-08T10:11:19.858Z"
   },
   {
    "duration": 91,
    "start_time": "2022-02-08T10:15:20.143Z"
   },
   {
    "duration": 63,
    "start_time": "2022-02-08T10:15:23.805Z"
   },
   {
    "duration": 5,
    "start_time": "2022-02-08T10:15:36.269Z"
   },
   {
    "duration": 89,
    "start_time": "2022-02-08T10:15:39.560Z"
   },
   {
    "duration": 61,
    "start_time": "2022-02-08T10:15:41.506Z"
   },
   {
    "duration": 5,
    "start_time": "2022-02-08T10:15:46.121Z"
   },
   {
    "duration": 16,
    "start_time": "2022-02-08T10:16:07.495Z"
   },
   {
    "duration": 103,
    "start_time": "2022-02-08T10:16:13.308Z"
   },
   {
    "duration": 7258,
    "start_time": "2022-02-08T10:16:15.230Z"
   },
   {
    "duration": 361,
    "start_time": "2022-02-08T10:18:51.150Z"
   },
   {
    "duration": 85,
    "start_time": "2022-02-08T10:19:16.844Z"
   },
   {
    "duration": 179,
    "start_time": "2022-02-08T10:19:35.340Z"
   },
   {
    "duration": 7217,
    "start_time": "2022-02-08T10:19:41.618Z"
   },
   {
    "duration": 7,
    "start_time": "2022-02-08T10:21:15.397Z"
   },
   {
    "duration": 18,
    "start_time": "2022-02-08T10:21:20.350Z"
   },
   {
    "duration": 16,
    "start_time": "2022-02-08T10:22:42.126Z"
   },
   {
    "duration": 11,
    "start_time": "2022-02-08T10:23:17.989Z"
   },
   {
    "duration": 18,
    "start_time": "2022-02-08T10:23:21.088Z"
   },
   {
    "duration": 13,
    "start_time": "2022-02-08T10:23:22.028Z"
   },
   {
    "duration": 95,
    "start_time": "2022-02-08T10:23:28.104Z"
   },
   {
    "duration": 7284,
    "start_time": "2022-02-08T10:23:29.507Z"
   },
   {
    "duration": 7040,
    "start_time": "2022-02-08T10:24:46.784Z"
   },
   {
    "duration": 641,
    "start_time": "2022-02-08T10:26:00.038Z"
   },
   {
    "duration": 357,
    "start_time": "2022-02-08T10:26:43.250Z"
   },
   {
    "duration": 273,
    "start_time": "2022-02-08T10:27:37.723Z"
   },
   {
    "duration": 594,
    "start_time": "2022-02-08T10:30:56.437Z"
   },
   {
    "duration": 270,
    "start_time": "2022-02-08T10:31:57.796Z"
   },
   {
    "duration": 366,
    "start_time": "2022-02-08T10:32:56.940Z"
   },
   {
    "duration": 340,
    "start_time": "2022-02-08T10:33:19.636Z"
   },
   {
    "duration": 16,
    "start_time": "2022-02-08T10:37:33.796Z"
   },
   {
    "duration": 7,
    "start_time": "2022-02-08T10:38:03.055Z"
   },
   {
    "duration": 5,
    "start_time": "2022-02-08T10:38:46.852Z"
   },
   {
    "duration": 4,
    "start_time": "2022-02-08T10:39:18.142Z"
   },
   {
    "duration": 9,
    "start_time": "2022-02-08T10:46:54.474Z"
   },
   {
    "duration": 8,
    "start_time": "2022-02-08T10:46:57.394Z"
   },
   {
    "duration": 4,
    "start_time": "2022-02-08T10:46:59.165Z"
   },
   {
    "duration": 15,
    "start_time": "2022-02-08T10:47:05.375Z"
   },
   {
    "duration": 7,
    "start_time": "2022-02-08T10:47:10.296Z"
   },
   {
    "duration": 15,
    "start_time": "2022-02-08T10:47:32.724Z"
   },
   {
    "duration": 7,
    "start_time": "2022-02-08T10:47:44.619Z"
   },
   {
    "duration": 4,
    "start_time": "2022-02-08T10:48:00.476Z"
   },
   {
    "duration": 12,
    "start_time": "2022-02-08T10:48:21.224Z"
   },
   {
    "duration": 88,
    "start_time": "2022-02-08T10:48:21.972Z"
   },
   {
    "duration": 133,
    "start_time": "2022-02-08T10:48:28.367Z"
   },
   {
    "duration": 206,
    "start_time": "2022-02-08T10:48:29.522Z"
   },
   {
    "duration": 130,
    "start_time": "2022-02-08T10:48:30.777Z"
   },
   {
    "duration": 21,
    "start_time": "2022-02-08T10:48:32.081Z"
   },
   {
    "duration": 1043,
    "start_time": "2022-02-08T10:48:55.006Z"
   },
   {
    "duration": 1247,
    "start_time": "2022-02-08T10:49:44.873Z"
   },
   {
    "duration": 995,
    "start_time": "2022-02-08T10:50:03.549Z"
   },
   {
    "duration": 13,
    "start_time": "2022-02-08T10:50:30.560Z"
   },
   {
    "duration": 86,
    "start_time": "2022-02-08T10:50:31.253Z"
   },
   {
    "duration": 140,
    "start_time": "2022-02-08T10:50:32.633Z"
   },
   {
    "duration": 3377,
    "start_time": "2022-02-08T10:50:33.733Z"
   },
   {
    "duration": -950,
    "start_time": "2022-02-08T10:50:38.062Z"
   },
   {
    "duration": -956,
    "start_time": "2022-02-08T10:50:38.069Z"
   },
   {
    "duration": 977,
    "start_time": "2022-02-08T10:50:38.085Z"
   },
   {
    "duration": 140,
    "start_time": "2022-02-08T10:51:29.965Z"
   },
   {
    "duration": 233,
    "start_time": "2022-02-08T10:51:31.603Z"
   },
   {
    "duration": 129,
    "start_time": "2022-02-08T10:51:37.333Z"
   },
   {
    "duration": 88,
    "start_time": "2022-02-08T10:51:54.825Z"
   },
   {
    "duration": 296,
    "start_time": "2022-02-08T10:52:02.125Z"
   },
   {
    "duration": 976,
    "start_time": "2022-02-08T10:52:04.209Z"
   },
   {
    "duration": 283,
    "start_time": "2022-02-08T10:52:15.815Z"
   },
   {
    "duration": 133,
    "start_time": "2022-02-08T10:52:30.136Z"
   },
   {
    "duration": 297,
    "start_time": "2022-02-08T10:52:32.526Z"
   },
   {
    "duration": 92,
    "start_time": "2022-02-08T10:53:11.208Z"
   },
   {
    "duration": 34,
    "start_time": "2022-02-08T10:53:15.028Z"
   },
   {
    "duration": 1125,
    "start_time": "2022-02-08T10:53:21.458Z"
   },
   {
    "duration": 8,
    "start_time": "2022-02-08T10:54:09.597Z"
   },
   {
    "duration": 21,
    "start_time": "2022-02-08T10:54:12.724Z"
   },
   {
    "duration": 24,
    "start_time": "2022-02-08T10:54:16.516Z"
   },
   {
    "duration": 50,
    "start_time": "2022-02-08T10:54:20.128Z"
   },
   {
    "duration": 22,
    "start_time": "2022-02-08T10:54:31.543Z"
   },
   {
    "duration": 361,
    "start_time": "2022-02-08T10:54:33.555Z"
   },
   {
    "duration": 10,
    "start_time": "2022-02-08T10:54:50.965Z"
   },
   {
    "duration": 7,
    "start_time": "2022-02-08T10:54:54.009Z"
   },
   {
    "duration": 14,
    "start_time": "2022-02-08T10:54:59.067Z"
   },
   {
    "duration": 220,
    "start_time": "2022-02-08T10:55:01.765Z"
   },
   {
    "duration": 9,
    "start_time": "2022-02-08T10:55:06.994Z"
   },
   {
    "duration": 6,
    "start_time": "2022-02-08T10:55:16.113Z"
   },
   {
    "duration": 18,
    "start_time": "2022-02-08T10:55:20.218Z"
   },
   {
    "duration": 16,
    "start_time": "2022-02-08T10:55:54.088Z"
   },
   {
    "duration": 8,
    "start_time": "2022-02-08T10:55:56.018Z"
   },
   {
    "duration": 16,
    "start_time": "2022-02-08T10:55:56.767Z"
   },
   {
    "duration": 22,
    "start_time": "2022-02-08T10:55:59.041Z"
   },
   {
    "duration": 34,
    "start_time": "2022-02-08T10:56:08.376Z"
   },
   {
    "duration": 899,
    "start_time": "2022-02-08T10:57:05.116Z"
   },
   {
    "duration": 884,
    "start_time": "2022-02-08T11:03:01.056Z"
   },
   {
    "duration": 817,
    "start_time": "2022-02-08T11:04:02.437Z"
   },
   {
    "duration": 1223,
    "start_time": "2022-02-08T11:05:01.656Z"
   },
   {
    "duration": 1006,
    "start_time": "2022-02-08T11:05:21.294Z"
   },
   {
    "duration": 225,
    "start_time": "2022-02-08T11:06:11.913Z"
   },
   {
    "duration": 11,
    "start_time": "2022-02-08T11:06:34.688Z"
   },
   {
    "duration": 7,
    "start_time": "2022-02-08T11:06:35.474Z"
   },
   {
    "duration": 18,
    "start_time": "2022-02-08T11:07:06.285Z"
   },
   {
    "duration": 39,
    "start_time": "2022-02-08T11:07:07.541Z"
   },
   {
    "duration": 26,
    "start_time": "2022-02-08T11:07:34.820Z"
   },
   {
    "duration": 20,
    "start_time": "2022-02-08T11:07:39.056Z"
   },
   {
    "duration": 28,
    "start_time": "2022-02-08T11:08:21.981Z"
   },
   {
    "duration": 15,
    "start_time": "2022-02-08T11:08:23.139Z"
   },
   {
    "duration": 748,
    "start_time": "2022-02-08T11:08:35.890Z"
   },
   {
    "duration": 12,
    "start_time": "2022-02-08T11:09:39.104Z"
   },
   {
    "duration": 12,
    "start_time": "2022-02-08T11:09:44.240Z"
   },
   {
    "duration": 4,
    "start_time": "2022-02-08T11:09:45.234Z"
   },
   {
    "duration": 13,
    "start_time": "2022-02-08T11:10:04.477Z"
   },
   {
    "duration": 160,
    "start_time": "2022-02-08T11:10:13.764Z"
   },
   {
    "duration": 111,
    "start_time": "2022-02-08T11:13:52.782Z"
   },
   {
    "duration": 89,
    "start_time": "2022-02-08T11:14:12.752Z"
   },
   {
    "duration": 159,
    "start_time": "2022-02-08T11:14:42.463Z"
   },
   {
    "duration": 634,
    "start_time": "2022-02-08T11:15:28.867Z"
   },
   {
    "duration": 153,
    "start_time": "2022-02-08T11:15:42.245Z"
   },
   {
    "duration": 10,
    "start_time": "2022-02-08T11:15:52.827Z"
   },
   {
    "duration": 9,
    "start_time": "2022-02-08T11:15:54.822Z"
   },
   {
    "duration": 5,
    "start_time": "2022-02-08T11:15:57.706Z"
   },
   {
    "duration": 12,
    "start_time": "2022-02-08T11:15:58.193Z"
   },
   {
    "duration": 17,
    "start_time": "2022-02-08T11:15:59.112Z"
   },
   {
    "duration": 15,
    "start_time": "2022-02-08T11:15:59.964Z"
   },
   {
    "duration": 58,
    "start_time": "2022-02-08T11:16:00.095Z"
   },
   {
    "duration": 22235,
    "start_time": "2022-02-08T18:51:06.775Z"
   },
   {
    "duration": 12207,
    "start_time": "2022-02-08T18:51:29.014Z"
   },
   {
    "duration": 1912,
    "start_time": "2022-02-08T18:54:50.339Z"
   },
   {
    "duration": 834,
    "start_time": "2022-02-08T18:54:52.254Z"
   },
   {
    "duration": 23,
    "start_time": "2022-02-08T18:54:58.323Z"
   },
   {
    "duration": 85,
    "start_time": "2022-02-08T18:54:59.987Z"
   },
   {
    "duration": 146,
    "start_time": "2022-02-08T18:55:00.796Z"
   },
   {
    "duration": 74,
    "start_time": "2022-02-08T18:55:01.294Z"
   },
   {
    "duration": 58,
    "start_time": "2022-02-08T18:55:01.495Z"
   },
   {
    "duration": 11,
    "start_time": "2022-02-08T18:55:02.156Z"
   },
   {
    "duration": 16,
    "start_time": "2022-02-08T18:55:02.594Z"
   },
   {
    "duration": 22,
    "start_time": "2022-02-08T18:55:03.284Z"
   },
   {
    "duration": 26,
    "start_time": "2022-02-08T18:55:03.537Z"
   },
   {
    "duration": 28,
    "start_time": "2022-02-08T18:55:03.856Z"
   },
   {
    "duration": 13,
    "start_time": "2022-02-08T18:55:04.166Z"
   },
   {
    "duration": 13,
    "start_time": "2022-02-08T18:55:04.877Z"
   },
   {
    "duration": 18,
    "start_time": "2022-02-08T18:55:05.556Z"
   },
   {
    "duration": 21,
    "start_time": "2022-02-08T18:55:05.866Z"
   },
   {
    "duration": 11,
    "start_time": "2022-02-08T18:55:06.449Z"
   },
   {
    "duration": 191,
    "start_time": "2022-02-08T18:55:06.776Z"
   },
   {
    "duration": 133,
    "start_time": "2022-02-08T18:55:06.970Z"
   },
   {
    "duration": 40,
    "start_time": "2022-02-08T18:55:07.160Z"
   },
   {
    "duration": 4,
    "start_time": "2022-02-08T18:55:07.346Z"
   },
   {
    "duration": 12,
    "start_time": "2022-02-08T18:55:07.519Z"
   },
   {
    "duration": 18,
    "start_time": "2022-02-08T18:55:07.856Z"
   },
   {
    "duration": 12,
    "start_time": "2022-02-08T18:55:08.076Z"
   },
   {
    "duration": 10,
    "start_time": "2022-02-08T18:55:08.476Z"
   },
   {
    "duration": 18,
    "start_time": "2022-02-08T18:55:08.716Z"
   },
   {
    "duration": 5,
    "start_time": "2022-02-08T18:55:08.894Z"
   },
   {
    "duration": 13,
    "start_time": "2022-02-08T18:55:09.116Z"
   },
   {
    "duration": 11,
    "start_time": "2022-02-08T18:55:09.263Z"
   },
   {
    "duration": 10,
    "start_time": "2022-02-08T18:55:09.946Z"
   },
   {
    "duration": 6,
    "start_time": "2022-02-08T18:55:10.246Z"
   },
   {
    "duration": 5,
    "start_time": "2022-02-08T18:55:10.445Z"
   },
   {
    "duration": 14,
    "start_time": "2022-02-08T18:55:10.719Z"
   },
   {
    "duration": 12,
    "start_time": "2022-02-08T18:56:08.857Z"
   },
   {
    "duration": 147,
    "start_time": "2022-02-08T18:56:09.368Z"
   },
   {
    "duration": 153,
    "start_time": "2022-02-08T18:56:10.526Z"
   },
   {
    "duration": 833,
    "start_time": "2022-02-08T18:56:11.997Z"
   },
   {
    "duration": 7,
    "start_time": "2022-02-08T18:56:20.208Z"
   },
   {
    "duration": 124,
    "start_time": "2022-02-08T18:56:21.917Z"
   },
   {
    "duration": 92,
    "start_time": "2022-02-08T18:56:22.182Z"
   },
   {
    "duration": 7,
    "start_time": "2022-02-08T18:56:22.877Z"
   },
   {
    "duration": 166,
    "start_time": "2022-02-08T18:56:24.995Z"
   },
   {
    "duration": 97,
    "start_time": "2022-02-08T18:56:25.896Z"
   },
   {
    "duration": 6,
    "start_time": "2022-02-08T18:56:27.326Z"
   },
   {
    "duration": 22,
    "start_time": "2022-02-08T18:56:30.320Z"
   },
   {
    "duration": 302,
    "start_time": "2022-02-08T18:56:32.016Z"
   },
   {
    "duration": 12196,
    "start_time": "2022-02-08T18:56:32.986Z"
   },
   {
    "duration": 50,
    "start_time": "2022-02-08T18:56:45.187Z"
   },
   {
    "duration": 33,
    "start_time": "2022-02-08T18:56:45.241Z"
   },
   {
    "duration": 73,
    "start_time": "2022-02-08T18:56:45.277Z"
   },
   {
    "duration": 19,
    "start_time": "2022-02-08T18:56:45.353Z"
   },
   {
    "duration": 82,
    "start_time": "2022-02-08T18:56:45.374Z"
   },
   {
    "duration": 17,
    "start_time": "2022-02-08T18:56:45.459Z"
   },
   {
    "duration": 300,
    "start_time": "2022-02-08T18:56:45.479Z"
   },
   {
    "duration": 12497,
    "start_time": "2022-02-08T18:56:45.781Z"
   },
   {
    "duration": 1416,
    "start_time": "2022-02-08T18:56:58.281Z"
   },
   {
    "duration": 16,
    "start_time": "2022-02-08T18:56:59.701Z"
   },
   {
    "duration": 18,
    "start_time": "2022-02-08T18:56:59.733Z"
   },
   {
    "duration": 18,
    "start_time": "2022-02-08T18:56:59.756Z"
   },
   {
    "duration": 9,
    "start_time": "2022-02-08T18:56:59.778Z"
   },
   {
    "duration": 47,
    "start_time": "2022-02-08T18:56:59.790Z"
   },
   {
    "duration": 38,
    "start_time": "2022-02-08T18:56:59.841Z"
   },
   {
    "duration": 150,
    "start_time": "2022-02-08T18:56:59.882Z"
   },
   {
    "duration": 242,
    "start_time": "2022-02-08T18:57:00.038Z"
   },
   {
    "duration": 170,
    "start_time": "2022-02-08T18:57:00.283Z"
   },
   {
    "duration": 227,
    "start_time": "2022-02-08T18:57:00.457Z"
   },
   {
    "duration": 45,
    "start_time": "2022-02-08T18:57:00.688Z"
   },
   {
    "duration": 1581,
    "start_time": "2022-02-08T18:57:22.366Z"
   },
   {
    "duration": 14,
    "start_time": "2022-02-08T18:57:35.414Z"
   },
   {
    "duration": 24,
    "start_time": "2022-02-08T18:57:36.967Z"
   },
   {
    "duration": 44,
    "start_time": "2022-02-08T18:57:38.407Z"
   },
   {
    "duration": 108,
    "start_time": "2022-02-08T18:57:40.207Z"
   },
   {
    "duration": 150,
    "start_time": "2022-02-08T18:57:41.707Z"
   },
   {
    "duration": 627,
    "start_time": "2022-02-08T18:57:43.249Z"
   },
   {
    "duration": 12,
    "start_time": "2022-02-08T18:57:47.508Z"
   },
   {
    "duration": 10,
    "start_time": "2022-02-08T18:57:48.855Z"
   },
   {
    "duration": 19,
    "start_time": "2022-02-08T18:57:50.147Z"
   },
   {
    "duration": 188,
    "start_time": "2022-02-08T18:57:50.938Z"
   },
   {
    "duration": 12,
    "start_time": "2022-02-08T18:58:02.876Z"
   },
   {
    "duration": 8,
    "start_time": "2022-02-08T18:58:05.956Z"
   },
   {
    "duration": 33,
    "start_time": "2022-02-08T18:58:07.215Z"
   },
   {
    "duration": 24,
    "start_time": "2022-02-08T18:58:10.364Z"
   },
   {
    "duration": 9,
    "start_time": "2022-02-08T18:58:10.737Z"
   },
   {
    "duration": 21,
    "start_time": "2022-02-08T18:58:11.080Z"
   },
   {
    "duration": 34,
    "start_time": "2022-02-08T18:58:11.334Z"
   },
   {
    "duration": 65,
    "start_time": "2022-02-08T18:58:11.726Z"
   },
   {
    "duration": 1500,
    "start_time": "2022-02-08T18:58:12.755Z"
   },
   {
    "duration": 389,
    "start_time": "2022-02-08T18:58:26.167Z"
   },
   {
    "duration": 14,
    "start_time": "2022-02-08T18:58:32.106Z"
   },
   {
    "duration": 9,
    "start_time": "2022-02-08T18:58:32.756Z"
   },
   {
    "duration": 23,
    "start_time": "2022-02-08T18:58:35.346Z"
   },
   {
    "duration": 52,
    "start_time": "2022-02-08T18:58:35.696Z"
   },
   {
    "duration": 37,
    "start_time": "2022-02-08T18:58:37.689Z"
   },
   {
    "duration": 20,
    "start_time": "2022-02-08T18:58:38.285Z"
   },
   {
    "duration": 1248,
    "start_time": "2022-02-08T18:58:39.007Z"
   },
   {
    "duration": 14,
    "start_time": "2022-02-08T18:58:45.945Z"
   },
   {
    "duration": 18,
    "start_time": "2022-02-08T18:58:46.917Z"
   },
   {
    "duration": 5,
    "start_time": "2022-02-08T18:58:47.794Z"
   },
   {
    "duration": 15,
    "start_time": "2022-02-08T18:58:50.475Z"
   },
   {
    "duration": 256,
    "start_time": "2022-02-08T18:58:52.048Z"
   },
   {
    "duration": 11,
    "start_time": "2022-02-08T18:58:57.596Z"
   },
   {
    "duration": 11,
    "start_time": "2022-02-08T18:58:58.447Z"
   },
   {
    "duration": 6,
    "start_time": "2022-02-08T18:58:59.796Z"
   },
   {
    "duration": 16,
    "start_time": "2022-02-08T18:59:00.541Z"
   },
   {
    "duration": 21,
    "start_time": "2022-02-08T18:59:02.009Z"
   },
   {
    "duration": 18,
    "start_time": "2022-02-08T18:59:02.847Z"
   },
   {
    "duration": 106,
    "start_time": "2022-02-08T18:59:04.349Z"
   },
   {
    "duration": 26,
    "start_time": "2022-02-08T18:59:10.747Z"
   },
   {
    "duration": 187,
    "start_time": "2022-02-08T18:59:11.678Z"
   },
   {
    "duration": 20616,
    "start_time": "2022-02-08T18:59:13.296Z"
   },
   {
    "duration": 124,
    "start_time": "2022-02-08T18:59:33.915Z"
   },
   {
    "duration": 13,
    "start_time": "2022-02-08T18:59:52.148Z"
   },
   {
    "duration": 24,
    "start_time": "2022-02-08T18:59:52.164Z"
   },
   {
    "duration": 46,
    "start_time": "2022-02-08T18:59:52.192Z"
   },
   {
    "duration": 26,
    "start_time": "2022-02-08T18:59:52.242Z"
   },
   {
    "duration": 288,
    "start_time": "2022-02-08T18:59:52.271Z"
   },
   {
    "duration": 23,
    "start_time": "2022-02-08T19:00:06.056Z"
   },
   {
    "duration": 24,
    "start_time": "2022-02-08T19:00:08.774Z"
   },
   {
    "duration": 941,
    "start_time": "2022-02-08T19:00:09.527Z"
   },
   {
    "duration": 15,
    "start_time": "2022-02-08T19:00:23.956Z"
   },
   {
    "duration": 30,
    "start_time": "2022-02-08T19:00:25.647Z"
   },
   {
    "duration": 487,
    "start_time": "2022-02-08T19:28:57.367Z"
   },
   {
    "duration": 28,
    "start_time": "2022-02-08T19:29:28.687Z"
   },
   {
    "duration": 275,
    "start_time": "2022-02-08T19:31:12.966Z"
   },
   {
    "duration": 18,
    "start_time": "2022-02-08T19:31:18.076Z"
   },
   {
    "duration": 259,
    "start_time": "2022-02-08T19:31:24.196Z"
   },
   {
    "duration": 353,
    "start_time": "2022-02-08T19:32:02.719Z"
   },
   {
    "duration": 328,
    "start_time": "2022-02-08T19:32:20.007Z"
   },
   {
    "duration": 4296,
    "start_time": "2022-02-08T19:33:10.977Z"
   },
   {
    "duration": 30,
    "start_time": "2022-02-08T19:33:31.667Z"
   },
   {
    "duration": 12,
    "start_time": "2022-02-08T19:34:04.138Z"
   },
   {
    "duration": 43,
    "start_time": "2022-02-08T19:34:27.088Z"
   },
   {
    "duration": 9,
    "start_time": "2022-02-08T19:34:29.737Z"
   },
   {
    "duration": 24,
    "start_time": "2022-02-08T19:34:31.966Z"
   },
   {
    "duration": 84,
    "start_time": "2022-02-08T19:35:00.117Z"
   },
   {
    "duration": 76,
    "start_time": "2022-02-08T19:36:29.445Z"
   },
   {
    "duration": 76,
    "start_time": "2022-02-08T19:39:38.423Z"
   },
   {
    "duration": 78,
    "start_time": "2022-02-08T19:40:23.625Z"
   },
   {
    "duration": 27308,
    "start_time": "2022-02-09T09:01:08.000Z"
   },
   {
    "duration": 12008,
    "start_time": "2022-02-09T09:01:44.071Z"
   },
   {
    "duration": 1755,
    "start_time": "2022-02-09T09:01:59.078Z"
   },
   {
    "duration": 4,
    "start_time": "2022-02-09T09:02:03.282Z"
   },
   {
    "duration": 928,
    "start_time": "2022-02-09T09:02:08.396Z"
   },
   {
    "duration": 17,
    "start_time": "2022-02-09T09:02:36.986Z"
   },
   {
    "duration": 78,
    "start_time": "2022-02-09T09:02:39.480Z"
   },
   {
    "duration": 195,
    "start_time": "2022-02-09T09:02:41.319Z"
   },
   {
    "duration": 71,
    "start_time": "2022-02-09T09:02:42.730Z"
   },
   {
    "duration": 62,
    "start_time": "2022-02-09T09:02:43.170Z"
   },
   {
    "duration": 14,
    "start_time": "2022-02-09T09:02:44.681Z"
   },
   {
    "duration": 21,
    "start_time": "2022-02-09T09:02:45.879Z"
   },
   {
    "duration": 23,
    "start_time": "2022-02-09T09:02:46.811Z"
   },
   {
    "duration": 31,
    "start_time": "2022-02-09T09:02:47.260Z"
   },
   {
    "duration": 23,
    "start_time": "2022-02-09T09:02:47.790Z"
   },
   {
    "duration": 17,
    "start_time": "2022-02-09T09:02:48.231Z"
   },
   {
    "duration": 17,
    "start_time": "2022-02-09T09:02:48.757Z"
   },
   {
    "duration": 20,
    "start_time": "2022-02-09T09:02:49.908Z"
   },
   {
    "duration": 22,
    "start_time": "2022-02-09T09:02:50.379Z"
   },
   {
    "duration": 12,
    "start_time": "2022-02-09T09:02:51.309Z"
   },
   {
    "duration": 160,
    "start_time": "2022-02-09T09:02:51.751Z"
   },
   {
    "duration": 110,
    "start_time": "2022-02-09T09:02:52.289Z"
   },
   {
    "duration": 50,
    "start_time": "2022-02-09T09:02:52.929Z"
   },
   {
    "duration": 7,
    "start_time": "2022-02-09T09:02:53.431Z"
   },
   {
    "duration": 13,
    "start_time": "2022-02-09T09:02:54.120Z"
   },
   {
    "duration": 19,
    "start_time": "2022-02-09T09:02:54.871Z"
   },
   {
    "duration": 14,
    "start_time": "2022-02-09T09:02:55.420Z"
   },
   {
    "duration": 11,
    "start_time": "2022-02-09T09:02:57.350Z"
   },
   {
    "duration": 27,
    "start_time": "2022-02-09T09:02:57.798Z"
   },
   {
    "duration": 6,
    "start_time": "2022-02-09T09:02:58.371Z"
   },
   {
    "duration": 14,
    "start_time": "2022-02-09T09:02:58.851Z"
   },
   {
    "duration": 10,
    "start_time": "2022-02-09T09:02:59.450Z"
   },
   {
    "duration": 11,
    "start_time": "2022-02-09T09:03:00.409Z"
   },
   {
    "duration": 6,
    "start_time": "2022-02-09T09:03:00.980Z"
   },
   {
    "duration": 4,
    "start_time": "2022-02-09T09:03:01.391Z"
   },
   {
    "duration": 14,
    "start_time": "2022-02-09T09:03:01.871Z"
   },
   {
    "duration": 18,
    "start_time": "2022-02-09T09:03:07.018Z"
   },
   {
    "duration": 111,
    "start_time": "2022-02-09T09:03:07.769Z"
   },
   {
    "duration": 120,
    "start_time": "2022-02-09T09:03:08.941Z"
   },
   {
    "duration": 1018,
    "start_time": "2022-02-09T09:03:11.305Z"
   },
   {
    "duration": 6,
    "start_time": "2022-02-09T09:03:15.041Z"
   },
   {
    "duration": 115,
    "start_time": "2022-02-09T09:03:17.691Z"
   },
   {
    "duration": 90,
    "start_time": "2022-02-09T09:03:18.381Z"
   },
   {
    "duration": 6,
    "start_time": "2022-02-09T09:03:20.451Z"
   },
   {
    "duration": 152,
    "start_time": "2022-02-09T09:03:22.917Z"
   },
   {
    "duration": 87,
    "start_time": "2022-02-09T09:03:23.671Z"
   },
   {
    "duration": 6,
    "start_time": "2022-02-09T09:03:25.009Z"
   },
   {
    "duration": 15,
    "start_time": "2022-02-09T09:03:29.210Z"
   },
   {
    "duration": 244,
    "start_time": "2022-02-09T09:03:30.021Z"
   },
   {
    "duration": 10914,
    "start_time": "2022-02-09T09:03:30.810Z"
   },
   {
    "duration": 10,
    "start_time": "2022-02-09T09:04:01.110Z"
   },
   {
    "duration": 25,
    "start_time": "2022-02-09T09:04:01.680Z"
   },
   {
    "duration": 20,
    "start_time": "2022-02-09T09:04:05.757Z"
   },
   {
    "duration": 47,
    "start_time": "2022-02-09T09:04:28.859Z"
   },
   {
    "duration": 28,
    "start_time": "2022-02-09T09:04:31.299Z"
   },
   {
    "duration": 21,
    "start_time": "2022-02-09T09:04:31.887Z"
   },
   {
    "duration": 164,
    "start_time": "2022-02-09T09:04:36.859Z"
   },
   {
    "duration": 17167,
    "start_time": "2022-02-09T09:04:37.918Z"
   },
   {
    "duration": 1288,
    "start_time": "2022-02-09T09:04:55.089Z"
   },
   {
    "duration": 17,
    "start_time": "2022-02-09T09:04:56.380Z"
   },
   {
    "duration": 11,
    "start_time": "2022-02-09T09:05:34.647Z"
   },
   {
    "duration": 17,
    "start_time": "2022-02-09T09:05:35.639Z"
   },
   {
    "duration": 9,
    "start_time": "2022-02-09T09:05:37.619Z"
   },
   {
    "duration": 6,
    "start_time": "2022-02-09T09:05:38.399Z"
   },
   {
    "duration": 20,
    "start_time": "2022-02-09T09:05:43.279Z"
   },
   {
    "duration": 112,
    "start_time": "2022-02-09T09:05:44.019Z"
   },
   {
    "duration": 170,
    "start_time": "2022-02-09T09:05:44.577Z"
   },
   {
    "duration": 134,
    "start_time": "2022-02-09T09:05:46.238Z"
   },
   {
    "duration": 236,
    "start_time": "2022-02-09T09:05:48.531Z"
   },
   {
    "duration": 29,
    "start_time": "2022-02-09T09:05:51.379Z"
   },
   {
    "duration": 1496,
    "start_time": "2022-02-09T09:05:53.588Z"
   },
   {
    "duration": 11,
    "start_time": "2022-02-09T09:05:58.189Z"
   },
   {
    "duration": 25,
    "start_time": "2022-02-09T09:05:59.089Z"
   },
   {
    "duration": 32,
    "start_time": "2022-02-09T09:05:59.859Z"
   },
   {
    "duration": 99,
    "start_time": "2022-02-09T09:06:00.629Z"
   },
   {
    "duration": 140,
    "start_time": "2022-02-09T09:06:01.598Z"
   },
   {
    "duration": 616,
    "start_time": "2022-02-09T09:06:02.549Z"
   },
   {
    "duration": 12,
    "start_time": "2022-02-09T09:06:07.906Z"
   },
   {
    "duration": 8,
    "start_time": "2022-02-09T09:06:08.927Z"
   },
   {
    "duration": 20,
    "start_time": "2022-02-09T09:06:09.717Z"
   },
   {
    "duration": 229,
    "start_time": "2022-02-09T09:06:10.779Z"
   },
   {
    "duration": 12,
    "start_time": "2022-02-09T09:06:35.698Z"
   },
   {
    "duration": 7,
    "start_time": "2022-02-09T09:06:37.028Z"
   },
   {
    "duration": 23,
    "start_time": "2022-02-09T09:06:53.379Z"
   },
   {
    "duration": 22,
    "start_time": "2022-02-09T09:06:56.839Z"
   },
   {
    "duration": 9,
    "start_time": "2022-02-09T09:06:58.379Z"
   },
   {
    "duration": 20,
    "start_time": "2022-02-09T09:06:59.129Z"
   },
   {
    "duration": 30,
    "start_time": "2022-02-09T09:07:00.399Z"
   },
   {
    "duration": 49,
    "start_time": "2022-02-09T09:07:01.279Z"
   },
   {
    "duration": 1315,
    "start_time": "2022-02-09T09:07:02.069Z"
   },
   {
    "duration": 490,
    "start_time": "2022-02-09T09:07:16.800Z"
   },
   {
    "duration": 12,
    "start_time": "2022-02-09T09:07:25.719Z"
   },
   {
    "duration": 8,
    "start_time": "2022-02-09T09:07:26.478Z"
   },
   {
    "duration": 23,
    "start_time": "2022-02-09T09:07:29.477Z"
   },
   {
    "duration": 52,
    "start_time": "2022-02-09T09:07:29.808Z"
   },
   {
    "duration": 34,
    "start_time": "2022-02-09T09:07:31.495Z"
   },
   {
    "duration": 19,
    "start_time": "2022-02-09T09:07:32.539Z"
   },
   {
    "duration": 1063,
    "start_time": "2022-02-09T09:07:33.039Z"
   },
   {
    "duration": 11,
    "start_time": "2022-02-09T09:07:42.277Z"
   },
   {
    "duration": 20,
    "start_time": "2022-02-09T09:07:43.336Z"
   },
   {
    "duration": 6,
    "start_time": "2022-02-09T09:07:43.937Z"
   },
   {
    "duration": 15,
    "start_time": "2022-02-09T09:07:49.819Z"
   },
   {
    "duration": 229,
    "start_time": "2022-02-09T09:07:51.859Z"
   },
   {
    "duration": 9,
    "start_time": "2022-02-09T09:08:30.131Z"
   },
   {
    "duration": 10,
    "start_time": "2022-02-09T09:08:30.659Z"
   },
   {
    "duration": 5,
    "start_time": "2022-02-09T09:08:32.018Z"
   },
   {
    "duration": 14,
    "start_time": "2022-02-09T09:08:32.787Z"
   },
   {
    "duration": 20,
    "start_time": "2022-02-09T09:08:33.269Z"
   },
   {
    "duration": 18,
    "start_time": "2022-02-09T09:08:33.878Z"
   },
   {
    "duration": 76,
    "start_time": "2022-02-09T09:08:34.839Z"
   },
   {
    "duration": 25,
    "start_time": "2022-02-09T09:08:39.800Z"
   },
   {
    "duration": 228,
    "start_time": "2022-02-09T09:08:40.428Z"
   },
   {
    "duration": 18830,
    "start_time": "2022-02-09T09:08:41.377Z"
   },
   {
    "duration": 115,
    "start_time": "2022-02-09T09:09:00.210Z"
   },
   {
    "duration": 12,
    "start_time": "2022-02-09T09:09:05.159Z"
   },
   {
    "duration": 15,
    "start_time": "2022-02-09T09:09:05.548Z"
   },
   {
    "duration": 26,
    "start_time": "2022-02-09T09:09:06.079Z"
   },
   {
    "duration": 20,
    "start_time": "2022-02-09T09:09:06.579Z"
   },
   {
    "duration": 223,
    "start_time": "2022-02-09T09:09:07.468Z"
   },
   {
    "duration": 23,
    "start_time": "2022-02-09T09:09:20.668Z"
   },
   {
    "duration": 23,
    "start_time": "2022-02-09T09:09:21.559Z"
   },
   {
    "duration": 1242,
    "start_time": "2022-02-09T09:09:22.070Z"
   },
   {
    "duration": 22360,
    "start_time": "2022-02-09T11:15:30.562Z"
   },
   {
    "duration": 14277,
    "start_time": "2022-02-09T11:15:52.925Z"
   },
   {
    "duration": 1804,
    "start_time": "2022-02-09T11:16:07.205Z"
   },
   {
    "duration": 857,
    "start_time": "2022-02-09T11:16:09.012Z"
   },
   {
    "duration": 5,
    "start_time": "2022-02-09T11:16:11.401Z"
   },
   {
    "duration": 830,
    "start_time": "2022-02-09T11:16:12.870Z"
   },
   {
    "duration": 18,
    "start_time": "2022-02-09T11:16:14.751Z"
   },
   {
    "duration": 745,
    "start_time": "2022-02-09T11:16:15.080Z"
   },
   {
    "duration": 149,
    "start_time": "2022-02-09T11:16:15.987Z"
   },
   {
    "duration": 175,
    "start_time": "2022-02-09T11:16:16.370Z"
   },
   {
    "duration": 277,
    "start_time": "2022-02-09T11:16:16.557Z"
   },
   {
    "duration": 11,
    "start_time": "2022-02-09T11:16:17.070Z"
   },
   {
    "duration": 20,
    "start_time": "2022-02-09T11:16:17.420Z"
   },
   {
    "duration": 23,
    "start_time": "2022-02-09T11:16:17.750Z"
   },
   {
    "duration": 24,
    "start_time": "2022-02-09T11:16:17.908Z"
   },
   {
    "duration": 24,
    "start_time": "2022-02-09T11:16:18.090Z"
   },
   {
    "duration": 12,
    "start_time": "2022-02-09T11:16:18.236Z"
   },
   {
    "duration": 14,
    "start_time": "2022-02-09T11:16:18.390Z"
   },
   {
    "duration": 19,
    "start_time": "2022-02-09T11:16:19.001Z"
   },
   {
    "duration": 21,
    "start_time": "2022-02-09T11:16:19.529Z"
   },
   {
    "duration": 11,
    "start_time": "2022-02-09T11:16:19.880Z"
   },
   {
    "duration": 110,
    "start_time": "2022-02-09T11:16:22.341Z"
   },
   {
    "duration": 1184,
    "start_time": "2022-02-09T11:16:22.510Z"
   },
   {
    "duration": 49,
    "start_time": "2022-02-09T11:16:23.697Z"
   },
   {
    "duration": 4,
    "start_time": "2022-02-09T11:16:23.749Z"
   },
   {
    "duration": 12,
    "start_time": "2022-02-09T11:16:24.961Z"
   },
   {
    "duration": 18,
    "start_time": "2022-02-09T11:16:25.115Z"
   },
   {
    "duration": 12,
    "start_time": "2022-02-09T11:16:25.268Z"
   },
   {
    "duration": 13,
    "start_time": "2022-02-09T11:16:25.950Z"
   },
   {
    "duration": 19,
    "start_time": "2022-02-09T11:16:26.470Z"
   },
   {
    "duration": 5,
    "start_time": "2022-02-09T11:16:26.620Z"
   },
   {
    "duration": 14,
    "start_time": "2022-02-09T11:16:26.768Z"
   },
   {
    "duration": 11,
    "start_time": "2022-02-09T11:16:26.900Z"
   },
   {
    "duration": 11,
    "start_time": "2022-02-09T11:16:27.870Z"
   },
   {
    "duration": 5,
    "start_time": "2022-02-09T11:16:28.020Z"
   },
   {
    "duration": 5,
    "start_time": "2022-02-09T11:16:28.230Z"
   },
   {
    "duration": 15,
    "start_time": "2022-02-09T11:16:28.561Z"
   },
   {
    "duration": 14,
    "start_time": "2022-02-09T11:16:31.592Z"
   },
   {
    "duration": 111,
    "start_time": "2022-02-09T11:16:31.720Z"
   },
   {
    "duration": 128,
    "start_time": "2022-02-09T11:16:32.050Z"
   },
   {
    "duration": 966,
    "start_time": "2022-02-09T11:16:34.152Z"
   },
   {
    "duration": 6,
    "start_time": "2022-02-09T11:16:35.121Z"
   },
   {
    "duration": 119,
    "start_time": "2022-02-09T11:16:35.681Z"
   },
   {
    "duration": 101,
    "start_time": "2022-02-09T11:16:35.873Z"
   },
   {
    "duration": 6,
    "start_time": "2022-02-09T11:16:36.074Z"
   },
   {
    "duration": 127,
    "start_time": "2022-02-09T11:16:37.280Z"
   },
   {
    "duration": 89,
    "start_time": "2022-02-09T11:16:37.723Z"
   },
   {
    "duration": 5,
    "start_time": "2022-02-09T11:16:49.421Z"
   },
   {
    "duration": 17,
    "start_time": "2022-02-09T11:16:50.381Z"
   },
   {
    "duration": 264,
    "start_time": "2022-02-09T11:16:50.548Z"
   },
   {
    "duration": 11835,
    "start_time": "2022-02-09T11:16:50.815Z"
   },
   {
    "duration": 22,
    "start_time": "2022-02-09T11:17:02.653Z"
   },
   {
    "duration": 33,
    "start_time": "2022-02-09T11:17:02.678Z"
   },
   {
    "duration": 22,
    "start_time": "2022-02-09T11:17:02.770Z"
   },
   {
    "duration": 18,
    "start_time": "2022-02-09T11:17:31.758Z"
   },
   {
    "duration": 18,
    "start_time": "2022-02-09T11:17:32.627Z"
   },
   {
    "duration": 17,
    "start_time": "2022-02-09T11:17:32.690Z"
   },
   {
    "duration": 138,
    "start_time": "2022-02-09T11:17:34.118Z"
   },
   {
    "duration": 12174,
    "start_time": "2022-02-09T11:17:34.974Z"
   },
   {
    "duration": 1131,
    "start_time": "2022-02-09T11:18:00.024Z"
   },
   {
    "duration": 19,
    "start_time": "2022-02-09T11:18:28.751Z"
   },
   {
    "duration": 11,
    "start_time": "2022-02-09T11:18:30.251Z"
   },
   {
    "duration": 20,
    "start_time": "2022-02-09T11:18:31.041Z"
   },
   {
    "duration": 9,
    "start_time": "2022-02-09T11:18:32.071Z"
   },
   {
    "duration": 5,
    "start_time": "2022-02-09T11:18:36.541Z"
   },
   {
    "duration": 15,
    "start_time": "2022-02-09T11:18:38.681Z"
   },
   {
    "duration": 124,
    "start_time": "2022-02-09T11:18:38.878Z"
   },
   {
    "duration": 206,
    "start_time": "2022-02-09T11:18:39.290Z"
   },
   {
    "duration": 135,
    "start_time": "2022-02-09T11:18:39.810Z"
   },
   {
    "duration": 186,
    "start_time": "2022-02-09T11:18:40.252Z"
   },
   {
    "duration": 27,
    "start_time": "2022-02-09T11:18:40.738Z"
   },
   {
    "duration": 1502,
    "start_time": "2022-02-09T11:18:41.118Z"
   },
   {
    "duration": 11,
    "start_time": "2022-02-09T11:18:50.241Z"
   },
   {
    "duration": 26,
    "start_time": "2022-02-09T11:18:50.670Z"
   },
   {
    "duration": 33,
    "start_time": "2022-02-09T11:18:51.070Z"
   },
   {
    "duration": 102,
    "start_time": "2022-02-09T11:18:51.479Z"
   },
   {
    "duration": 141,
    "start_time": "2022-02-09T11:18:51.870Z"
   },
   {
    "duration": 474,
    "start_time": "2022-02-09T11:18:52.076Z"
   },
   {
    "duration": 20,
    "start_time": "2022-02-09T11:18:52.552Z"
   },
   {
    "duration": 9,
    "start_time": "2022-02-09T11:18:53.108Z"
   },
   {
    "duration": 17,
    "start_time": "2022-02-09T11:18:53.560Z"
   },
   {
    "duration": 173,
    "start_time": "2022-02-09T11:18:53.828Z"
   },
   {
    "duration": 11,
    "start_time": "2022-02-09T11:18:54.520Z"
   },
   {
    "duration": 8,
    "start_time": "2022-02-09T11:18:55.060Z"
   },
   {
    "duration": 23,
    "start_time": "2022-02-09T11:18:56.131Z"
   },
   {
    "duration": 20,
    "start_time": "2022-02-09T11:18:57.679Z"
   },
   {
    "duration": 10,
    "start_time": "2022-02-09T11:18:58.362Z"
   },
   {
    "duration": 21,
    "start_time": "2022-02-09T11:18:58.590Z"
   },
   {
    "duration": 34,
    "start_time": "2022-02-09T11:18:58.830Z"
   },
   {
    "duration": 49,
    "start_time": "2022-02-09T11:18:59.170Z"
   },
   {
    "duration": 1242,
    "start_time": "2022-02-09T11:18:59.540Z"
   },
   {
    "duration": 340,
    "start_time": "2022-02-09T11:19:03.049Z"
   },
   {
    "duration": 12,
    "start_time": "2022-02-09T11:19:04.371Z"
   },
   {
    "duration": 7,
    "start_time": "2022-02-09T11:19:04.530Z"
   },
   {
    "duration": 22,
    "start_time": "2022-02-09T11:19:05.721Z"
   },
   {
    "duration": 50,
    "start_time": "2022-02-09T11:19:05.901Z"
   },
   {
    "duration": 36,
    "start_time": "2022-02-09T11:19:06.511Z"
   },
   {
    "duration": 22,
    "start_time": "2022-02-09T11:19:06.700Z"
   },
   {
    "duration": 1086,
    "start_time": "2022-02-09T11:19:06.880Z"
   },
   {
    "duration": 13,
    "start_time": "2022-02-09T11:19:11.399Z"
   },
   {
    "duration": 15,
    "start_time": "2022-02-09T11:19:11.650Z"
   },
   {
    "duration": 5,
    "start_time": "2022-02-09T11:19:11.891Z"
   },
   {
    "duration": 15,
    "start_time": "2022-02-09T11:19:13.038Z"
   },
   {
    "duration": 237,
    "start_time": "2022-02-09T11:19:13.482Z"
   },
   {
    "duration": 10,
    "start_time": "2022-02-09T11:19:15.481Z"
   },
   {
    "duration": 11,
    "start_time": "2022-02-09T11:19:15.668Z"
   },
   {
    "duration": 5,
    "start_time": "2022-02-09T11:19:16.219Z"
   },
   {
    "duration": 13,
    "start_time": "2022-02-09T11:19:16.661Z"
   },
   {
    "duration": 21,
    "start_time": "2022-02-09T11:19:17.150Z"
   },
   {
    "duration": 19,
    "start_time": "2022-02-09T11:19:17.641Z"
   },
   {
    "duration": 82,
    "start_time": "2022-02-09T11:19:17.940Z"
   },
   {
    "duration": 19,
    "start_time": "2022-02-09T11:19:20.501Z"
   },
   {
    "duration": 185,
    "start_time": "2022-02-09T11:19:21.570Z"
   },
   {
    "duration": 18711,
    "start_time": "2022-02-09T11:19:22.681Z"
   },
   {
    "duration": 131,
    "start_time": "2022-02-09T11:19:41.394Z"
   },
   {
    "duration": 11,
    "start_time": "2022-02-09T11:19:41.528Z"
   },
   {
    "duration": 37,
    "start_time": "2022-02-09T11:19:41.542Z"
   },
   {
    "duration": 27,
    "start_time": "2022-02-09T11:19:41.581Z"
   },
   {
    "duration": 18,
    "start_time": "2022-02-09T11:19:41.610Z"
   },
   {
    "duration": 257,
    "start_time": "2022-02-09T11:19:41.631Z"
   },
   {
    "duration": 22,
    "start_time": "2022-02-09T11:19:41.891Z"
   },
   {
    "duration": 53,
    "start_time": "2022-02-09T11:19:41.916Z"
   },
   {
    "duration": 1091,
    "start_time": "2022-02-09T11:19:41.972Z"
   },
   {
    "duration": 16,
    "start_time": "2022-02-09T11:19:43.069Z"
   },
   {
    "duration": 34,
    "start_time": "2022-02-09T11:19:43.087Z"
   },
   {
    "duration": 8,
    "start_time": "2022-02-09T11:19:43.124Z"
   },
   {
    "duration": 52,
    "start_time": "2022-02-09T11:19:43.134Z"
   },
   {
    "duration": 104,
    "start_time": "2022-02-09T11:19:43.188Z"
   },
   {
    "duration": 536,
    "start_time": "2022-02-09T11:19:43.295Z"
   }
  ],
  "kernelspec": {
   "display_name": "Python 3",
   "language": "python",
   "name": "python3"
  },
  "language_info": {
   "codemirror_mode": {
    "name": "ipython",
    "version": 3
   },
   "file_extension": ".py",
   "mimetype": "text/x-python",
   "name": "python",
   "nbconvert_exporter": "python",
   "pygments_lexer": "ipython3",
   "version": "3.8.8"
  },
  "toc": {
   "base_numbering": 1,
   "nav_menu": {},
   "number_sections": true,
   "sideBar": true,
   "skip_h1_title": true,
   "title_cell": "Table of Contents",
   "title_sidebar": "Contents",
   "toc_cell": false,
   "toc_position": {},
   "toc_section_display": true,
   "toc_window_display": false
  }
 },
 "nbformat": 4,
 "nbformat_minor": 2
}
