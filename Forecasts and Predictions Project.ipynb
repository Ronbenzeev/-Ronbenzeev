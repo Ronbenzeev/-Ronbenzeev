{
 "cells": [
  {
   "cell_type": "markdown",
   "metadata": {},
   "source": [
    "# Forecast and prediction project."
   ]
  },
  {
   "cell_type": "markdown",
   "metadata": {},
   "source": [
    "# Project description\n"
   ]
  },
  {
   "cell_type": "markdown",
   "metadata": {},
   "source": [
    "One of the most common problems gyms and other services face is customer churn. How do you know if a customer is no longer with you? You can calculate churn based on people who get rid of their accounts or don't renew their contracts. However, sometimes it's not obvious that a client has left: they may walk out on tiptoes.\n",
    "\n",
    "\n",
    "Churn indicators vary from field to field. If a user buys from an online store rarely but regularly, you can't say they're a runaway. But if for two weeks they haven't opened a channel that's updated daily, that's a reason to worry: your follower might have gotten bored and left you.\n",
    "\n",
    "\n",
    "For a gym, it makes sense to say a customer has left if they don't come for a month. Of course, it's possible they're in Cancun and will resume their visits when they return, but's that's not a typical case. Usually, if a customer joins, comes a few times, then disappears, they're unlikely to come back.\n",
    "\n",
    "\n",
    "In order to fight churn, Model Fitness has digitized a number of its customer profiles. Your task is to analyze them and come up with a customer retention strategy."
   ]
  },
  {
   "cell_type": "markdown",
   "metadata": {},
   "source": [
    "- Learn to predict the probability of churn (for the upcoming month) for each customer\n",
    "\n",
    "\n",
    "- Draw up typical user portraits: select the most outstanding groups and describe their main features\n",
    "\n",
    "\n",
    "- Analyze the factors that impact churn most\n",
    "\n",
    "- Draw basic conclusions and develop recommendations on how to improve customer service:\n",
    "\n",
    "1) Identify target groups\n",
    "\n",
    "2) Suggest measures to cut churn\n",
    "\n",
    "3) Describe any other patterns you see with respect to interaction with customers"
   ]
  },
  {
   "cell_type": "markdown",
   "metadata": {},
   "source": [
    "# Step 1. Download the data\n"
   ]
  },
  {
   "cell_type": "markdown",
   "metadata": {},
   "source": [
    "Let's import the needed packages and libraries for the project.\n"
   ]
  },
  {
   "cell_type": "code",
   "execution_count": 1,
   "metadata": {},
   "outputs": [
    {
     "name": "stdout",
     "output_type": "stream",
     "text": [
      "Collecting sidetable\n",
      "  Downloading sidetable-0.9.0-py3-none-any.whl (17 kB)\n",
      "Requirement already satisfied: pandas>=1.0 in /opt/conda/lib/python3.9/site-packages (from sidetable) (1.2.4)\n",
      "Requirement already satisfied: python-dateutil>=2.7.3 in /opt/conda/lib/python3.9/site-packages (from pandas>=1.0->sidetable) (2.8.1)\n",
      "Requirement already satisfied: pytz>=2017.3 in /opt/conda/lib/python3.9/site-packages (from pandas>=1.0->sidetable) (2021.1)\n",
      "Requirement already satisfied: numpy>=1.16.5 in /opt/conda/lib/python3.9/site-packages (from pandas>=1.0->sidetable) (1.21.1)\n",
      "Requirement already satisfied: six>=1.5 in /opt/conda/lib/python3.9/site-packages (from python-dateutil>=2.7.3->pandas>=1.0->sidetable) (1.16.0)\n",
      "Installing collected packages: sidetable\n",
      "Successfully installed sidetable-0.9.0\n",
      "Note: you may need to restart the kernel to use updated packages.\n"
     ]
    }
   ],
   "source": [
    "pip install -U sidetable"
   ]
  },
  {
   "cell_type": "code",
   "execution_count": 2,
   "metadata": {},
   "outputs": [],
   "source": [
    "import pandas as pd\n",
    "import sidetable\n",
    "import seaborn as sns\n",
    "import numpy as np\n",
    "from matplotlib import pyplot as plt\n",
    "from sklearn.preprocessing import StandardScaler\n",
    "from sklearn.model_selection import train_test_split\n",
    "from sklearn.linear_model import LogisticRegression\n",
    "from sklearn.ensemble import RandomForestClassifier\n",
    "from sklearn.metrics import accuracy_score, precision_score, recall_score, f1_score\n",
    "from sklearn.cluster import KMeans\n",
    "from scipy.cluster.hierarchy import dendrogram, linkage"
   ]
  },
  {
   "cell_type": "markdown",
   "metadata": {},
   "source": [
    "Let's read the data and look at the first five rows."
   ]
  },
  {
   "cell_type": "code",
   "execution_count": 3,
   "metadata": {},
   "outputs": [],
   "source": [
    "gym = pd.read_csv('/datasets/gym_churn_us.csv')"
   ]
  },
  {
   "cell_type": "code",
   "execution_count": 4,
   "metadata": {},
   "outputs": [
    {
     "data": {
      "text/html": [
       "<div>\n",
       "<style scoped>\n",
       "    .dataframe tbody tr th:only-of-type {\n",
       "        vertical-align: middle;\n",
       "    }\n",
       "\n",
       "    .dataframe tbody tr th {\n",
       "        vertical-align: top;\n",
       "    }\n",
       "\n",
       "    .dataframe thead th {\n",
       "        text-align: right;\n",
       "    }\n",
       "</style>\n",
       "<table border=\"1\" class=\"dataframe\">\n",
       "  <thead>\n",
       "    <tr style=\"text-align: right;\">\n",
       "      <th></th>\n",
       "      <th>gender</th>\n",
       "      <th>Near_Location</th>\n",
       "      <th>Partner</th>\n",
       "      <th>Promo_friends</th>\n",
       "      <th>Phone</th>\n",
       "      <th>Contract_period</th>\n",
       "      <th>Group_visits</th>\n",
       "      <th>Age</th>\n",
       "      <th>Avg_additional_charges_total</th>\n",
       "      <th>Month_to_end_contract</th>\n",
       "      <th>Lifetime</th>\n",
       "      <th>Avg_class_frequency_total</th>\n",
       "      <th>Avg_class_frequency_current_month</th>\n",
       "      <th>Churn</th>\n",
       "    </tr>\n",
       "  </thead>\n",
       "  <tbody>\n",
       "    <tr>\n",
       "      <th>0</th>\n",
       "      <td>1</td>\n",
       "      <td>1</td>\n",
       "      <td>1</td>\n",
       "      <td>1</td>\n",
       "      <td>0</td>\n",
       "      <td>6</td>\n",
       "      <td>1</td>\n",
       "      <td>29</td>\n",
       "      <td>14.227470</td>\n",
       "      <td>5.0</td>\n",
       "      <td>3</td>\n",
       "      <td>0.020398</td>\n",
       "      <td>0.000000</td>\n",
       "      <td>0</td>\n",
       "    </tr>\n",
       "    <tr>\n",
       "      <th>1</th>\n",
       "      <td>0</td>\n",
       "      <td>1</td>\n",
       "      <td>0</td>\n",
       "      <td>0</td>\n",
       "      <td>1</td>\n",
       "      <td>12</td>\n",
       "      <td>1</td>\n",
       "      <td>31</td>\n",
       "      <td>113.202938</td>\n",
       "      <td>12.0</td>\n",
       "      <td>7</td>\n",
       "      <td>1.922936</td>\n",
       "      <td>1.910244</td>\n",
       "      <td>0</td>\n",
       "    </tr>\n",
       "    <tr>\n",
       "      <th>2</th>\n",
       "      <td>0</td>\n",
       "      <td>1</td>\n",
       "      <td>1</td>\n",
       "      <td>0</td>\n",
       "      <td>1</td>\n",
       "      <td>1</td>\n",
       "      <td>0</td>\n",
       "      <td>28</td>\n",
       "      <td>129.448479</td>\n",
       "      <td>1.0</td>\n",
       "      <td>2</td>\n",
       "      <td>1.859098</td>\n",
       "      <td>1.736502</td>\n",
       "      <td>0</td>\n",
       "    </tr>\n",
       "    <tr>\n",
       "      <th>3</th>\n",
       "      <td>0</td>\n",
       "      <td>1</td>\n",
       "      <td>1</td>\n",
       "      <td>1</td>\n",
       "      <td>1</td>\n",
       "      <td>12</td>\n",
       "      <td>1</td>\n",
       "      <td>33</td>\n",
       "      <td>62.669863</td>\n",
       "      <td>12.0</td>\n",
       "      <td>2</td>\n",
       "      <td>3.205633</td>\n",
       "      <td>3.357215</td>\n",
       "      <td>0</td>\n",
       "    </tr>\n",
       "    <tr>\n",
       "      <th>4</th>\n",
       "      <td>1</td>\n",
       "      <td>1</td>\n",
       "      <td>1</td>\n",
       "      <td>1</td>\n",
       "      <td>1</td>\n",
       "      <td>1</td>\n",
       "      <td>0</td>\n",
       "      <td>26</td>\n",
       "      <td>198.362265</td>\n",
       "      <td>1.0</td>\n",
       "      <td>3</td>\n",
       "      <td>1.113884</td>\n",
       "      <td>1.120078</td>\n",
       "      <td>0</td>\n",
       "    </tr>\n",
       "  </tbody>\n",
       "</table>\n",
       "</div>"
      ],
      "text/plain": [
       "   gender  Near_Location  Partner  Promo_friends  Phone  Contract_period  \\\n",
       "0       1              1        1              1      0                6   \n",
       "1       0              1        0              0      1               12   \n",
       "2       0              1        1              0      1                1   \n",
       "3       0              1        1              1      1               12   \n",
       "4       1              1        1              1      1                1   \n",
       "\n",
       "   Group_visits  Age  Avg_additional_charges_total  Month_to_end_contract  \\\n",
       "0             1   29                     14.227470                    5.0   \n",
       "1             1   31                    113.202938                   12.0   \n",
       "2             0   28                    129.448479                    1.0   \n",
       "3             1   33                     62.669863                   12.0   \n",
       "4             0   26                    198.362265                    1.0   \n",
       "\n",
       "   Lifetime  Avg_class_frequency_total  Avg_class_frequency_current_month  \\\n",
       "0         3                   0.020398                           0.000000   \n",
       "1         7                   1.922936                           1.910244   \n",
       "2         2                   1.859098                           1.736502   \n",
       "3         2                   3.205633                           3.357215   \n",
       "4         3                   1.113884                           1.120078   \n",
       "\n",
       "   Churn  \n",
       "0      0  \n",
       "1      0  \n",
       "2      0  \n",
       "3      0  \n",
       "4      0  "
      ]
     },
     "execution_count": 4,
     "metadata": {},
     "output_type": "execute_result"
    }
   ],
   "source": [
    "gym.head()"
   ]
  },
  {
   "cell_type": "markdown",
   "metadata": {},
   "source": [
    "Let's explore the data a bit."
   ]
  },
  {
   "cell_type": "code",
   "execution_count": 5,
   "metadata": {},
   "outputs": [
    {
     "name": "stdout",
     "output_type": "stream",
     "text": [
      "<class 'pandas.core.frame.DataFrame'>\n",
      "RangeIndex: 4000 entries, 0 to 3999\n",
      "Data columns (total 14 columns):\n",
      " #   Column                             Non-Null Count  Dtype  \n",
      "---  ------                             --------------  -----  \n",
      " 0   gender                             4000 non-null   int64  \n",
      " 1   Near_Location                      4000 non-null   int64  \n",
      " 2   Partner                            4000 non-null   int64  \n",
      " 3   Promo_friends                      4000 non-null   int64  \n",
      " 4   Phone                              4000 non-null   int64  \n",
      " 5   Contract_period                    4000 non-null   int64  \n",
      " 6   Group_visits                       4000 non-null   int64  \n",
      " 7   Age                                4000 non-null   int64  \n",
      " 8   Avg_additional_charges_total       4000 non-null   float64\n",
      " 9   Month_to_end_contract              4000 non-null   float64\n",
      " 10  Lifetime                           4000 non-null   int64  \n",
      " 11  Avg_class_frequency_total          4000 non-null   float64\n",
      " 12  Avg_class_frequency_current_month  4000 non-null   float64\n",
      " 13  Churn                              4000 non-null   int64  \n",
      "dtypes: float64(4), int64(10)\n",
      "memory usage: 437.6 KB\n"
     ]
    }
   ],
   "source": [
    "gym.info()"
   ]
  },
  {
   "cell_type": "markdown",
   "metadata": {},
   "source": [
    "There are no missing values, and the data types are int and float."
   ]
  },
  {
   "cell_type": "markdown",
   "metadata": {},
   "source": [
    "Let's look at each column."
   ]
  },
  {
   "cell_type": "code",
   "execution_count": 6,
   "metadata": {},
   "outputs": [
    {
     "data": {
      "text/html": [
       "<div>\n",
       "<style scoped>\n",
       "    .dataframe tbody tr th:only-of-type {\n",
       "        vertical-align: middle;\n",
       "    }\n",
       "\n",
       "    .dataframe tbody tr th {\n",
       "        vertical-align: top;\n",
       "    }\n",
       "\n",
       "    .dataframe thead th {\n",
       "        text-align: right;\n",
       "    }\n",
       "</style>\n",
       "<table border=\"1\" class=\"dataframe\">\n",
       "  <thead>\n",
       "    <tr style=\"text-align: right;\">\n",
       "      <th></th>\n",
       "      <th>gender</th>\n",
       "      <th>count</th>\n",
       "      <th>percent</th>\n",
       "      <th>cumulative_count</th>\n",
       "      <th>cumulative_percent</th>\n",
       "    </tr>\n",
       "  </thead>\n",
       "  <tbody>\n",
       "    <tr>\n",
       "      <th>0</th>\n",
       "      <td>1</td>\n",
       "      <td>2041</td>\n",
       "      <td>51.025</td>\n",
       "      <td>2041</td>\n",
       "      <td>51.025</td>\n",
       "    </tr>\n",
       "    <tr>\n",
       "      <th>1</th>\n",
       "      <td>0</td>\n",
       "      <td>1959</td>\n",
       "      <td>48.975</td>\n",
       "      <td>4000</td>\n",
       "      <td>100.000</td>\n",
       "    </tr>\n",
       "  </tbody>\n",
       "</table>\n",
       "</div>"
      ],
      "text/plain": [
       "   gender  count  percent  cumulative_count  cumulative_percent\n",
       "0       1   2041   51.025              2041              51.025\n",
       "1       0   1959   48.975              4000             100.000"
      ]
     },
     "execution_count": 6,
     "metadata": {},
     "output_type": "execute_result"
    }
   ],
   "source": [
    "gym.stb.freq(['gender'])"
   ]
  },
  {
   "cell_type": "markdown",
   "metadata": {},
   "source": [
    "we dont know who is male or female, but as we can see, they distribute almost at 50%"
   ]
  },
  {
   "cell_type": "code",
   "execution_count": 7,
   "metadata": {},
   "outputs": [
    {
     "data": {
      "text/html": [
       "<div>\n",
       "<style scoped>\n",
       "    .dataframe tbody tr th:only-of-type {\n",
       "        vertical-align: middle;\n",
       "    }\n",
       "\n",
       "    .dataframe tbody tr th {\n",
       "        vertical-align: top;\n",
       "    }\n",
       "\n",
       "    .dataframe thead th {\n",
       "        text-align: right;\n",
       "    }\n",
       "</style>\n",
       "<table border=\"1\" class=\"dataframe\">\n",
       "  <thead>\n",
       "    <tr style=\"text-align: right;\">\n",
       "      <th></th>\n",
       "      <th>Near_Location</th>\n",
       "      <th>count</th>\n",
       "      <th>percent</th>\n",
       "      <th>cumulative_count</th>\n",
       "      <th>cumulative_percent</th>\n",
       "    </tr>\n",
       "  </thead>\n",
       "  <tbody>\n",
       "    <tr>\n",
       "      <th>0</th>\n",
       "      <td>1</td>\n",
       "      <td>3381</td>\n",
       "      <td>84.525</td>\n",
       "      <td>3381</td>\n",
       "      <td>84.525</td>\n",
       "    </tr>\n",
       "    <tr>\n",
       "      <th>1</th>\n",
       "      <td>0</td>\n",
       "      <td>619</td>\n",
       "      <td>15.475</td>\n",
       "      <td>4000</td>\n",
       "      <td>100.000</td>\n",
       "    </tr>\n",
       "  </tbody>\n",
       "</table>\n",
       "</div>"
      ],
      "text/plain": [
       "   Near_Location  count  percent  cumulative_count  cumulative_percent\n",
       "0              1   3381   84.525              3381              84.525\n",
       "1              0    619   15.475              4000             100.000"
      ]
     },
     "execution_count": 7,
     "metadata": {},
     "output_type": "execute_result"
    }
   ],
   "source": [
    "gym.stb.freq(['Near_Location'])"
   ]
  },
  {
   "cell_type": "markdown",
   "metadata": {},
   "source": [
    "84% of the user are living nearby."
   ]
  },
  {
   "cell_type": "code",
   "execution_count": 8,
   "metadata": {},
   "outputs": [
    {
     "data": {
      "text/html": [
       "<div>\n",
       "<style scoped>\n",
       "    .dataframe tbody tr th:only-of-type {\n",
       "        vertical-align: middle;\n",
       "    }\n",
       "\n",
       "    .dataframe tbody tr th {\n",
       "        vertical-align: top;\n",
       "    }\n",
       "\n",
       "    .dataframe thead th {\n",
       "        text-align: right;\n",
       "    }\n",
       "</style>\n",
       "<table border=\"1\" class=\"dataframe\">\n",
       "  <thead>\n",
       "    <tr style=\"text-align: right;\">\n",
       "      <th></th>\n",
       "      <th>Partner</th>\n",
       "      <th>count</th>\n",
       "      <th>percent</th>\n",
       "      <th>cumulative_count</th>\n",
       "      <th>cumulative_percent</th>\n",
       "    </tr>\n",
       "  </thead>\n",
       "  <tbody>\n",
       "    <tr>\n",
       "      <th>0</th>\n",
       "      <td>0</td>\n",
       "      <td>2053</td>\n",
       "      <td>51.325</td>\n",
       "      <td>2053</td>\n",
       "      <td>51.325</td>\n",
       "    </tr>\n",
       "    <tr>\n",
       "      <th>1</th>\n",
       "      <td>1</td>\n",
       "      <td>1947</td>\n",
       "      <td>48.675</td>\n",
       "      <td>4000</td>\n",
       "      <td>100.000</td>\n",
       "    </tr>\n",
       "  </tbody>\n",
       "</table>\n",
       "</div>"
      ],
      "text/plain": [
       "   Partner  count  percent  cumulative_count  cumulative_percent\n",
       "0        0   2053   51.325              2053              51.325\n",
       "1        1   1947   48.675              4000             100.000"
      ]
     },
     "execution_count": 8,
     "metadata": {},
     "output_type": "execute_result"
    }
   ],
   "source": [
    "gym.stb.freq(['Partner'])"
   ]
  },
  {
   "cell_type": "markdown",
   "metadata": {},
   "source": [
    "We can see that more than 48% of the customers come from partner companies.\n"
   ]
  },
  {
   "cell_type": "code",
   "execution_count": 9,
   "metadata": {},
   "outputs": [
    {
     "data": {
      "text/html": [
       "<div>\n",
       "<style scoped>\n",
       "    .dataframe tbody tr th:only-of-type {\n",
       "        vertical-align: middle;\n",
       "    }\n",
       "\n",
       "    .dataframe tbody tr th {\n",
       "        vertical-align: top;\n",
       "    }\n",
       "\n",
       "    .dataframe thead th {\n",
       "        text-align: right;\n",
       "    }\n",
       "</style>\n",
       "<table border=\"1\" class=\"dataframe\">\n",
       "  <thead>\n",
       "    <tr style=\"text-align: right;\">\n",
       "      <th></th>\n",
       "      <th>Promo_friends</th>\n",
       "      <th>count</th>\n",
       "      <th>percent</th>\n",
       "      <th>cumulative_count</th>\n",
       "      <th>cumulative_percent</th>\n",
       "    </tr>\n",
       "  </thead>\n",
       "  <tbody>\n",
       "    <tr>\n",
       "      <th>0</th>\n",
       "      <td>0</td>\n",
       "      <td>2766</td>\n",
       "      <td>69.15</td>\n",
       "      <td>2766</td>\n",
       "      <td>69.15</td>\n",
       "    </tr>\n",
       "    <tr>\n",
       "      <th>1</th>\n",
       "      <td>1</td>\n",
       "      <td>1234</td>\n",
       "      <td>30.85</td>\n",
       "      <td>4000</td>\n",
       "      <td>100.00</td>\n",
       "    </tr>\n",
       "  </tbody>\n",
       "</table>\n",
       "</div>"
      ],
      "text/plain": [
       "   Promo_friends  count  percent  cumulative_count  cumulative_percent\n",
       "0              0   2766    69.15              2766               69.15\n",
       "1              1   1234    30.85              4000              100.00"
      ]
     },
     "execution_count": 9,
     "metadata": {},
     "output_type": "execute_result"
    }
   ],
   "source": [
    "gym.stb.freq(['Promo_friends'])"
   ]
  },
  {
   "cell_type": "markdown",
   "metadata": {},
   "source": [
    "We can see that more than 30% of the customers come from through promo friends."
   ]
  },
  {
   "cell_type": "code",
   "execution_count": 10,
   "metadata": {},
   "outputs": [
    {
     "data": {
      "text/html": [
       "<div>\n",
       "<style scoped>\n",
       "    .dataframe tbody tr th:only-of-type {\n",
       "        vertical-align: middle;\n",
       "    }\n",
       "\n",
       "    .dataframe tbody tr th {\n",
       "        vertical-align: top;\n",
       "    }\n",
       "\n",
       "    .dataframe thead th {\n",
       "        text-align: right;\n",
       "    }\n",
       "</style>\n",
       "<table border=\"1\" class=\"dataframe\">\n",
       "  <thead>\n",
       "    <tr style=\"text-align: right;\">\n",
       "      <th></th>\n",
       "      <th>Contract_period</th>\n",
       "      <th>count</th>\n",
       "      <th>percent</th>\n",
       "      <th>cumulative_count</th>\n",
       "      <th>cumulative_percent</th>\n",
       "    </tr>\n",
       "  </thead>\n",
       "  <tbody>\n",
       "    <tr>\n",
       "      <th>0</th>\n",
       "      <td>1</td>\n",
       "      <td>2207</td>\n",
       "      <td>55.175</td>\n",
       "      <td>2207</td>\n",
       "      <td>55.175</td>\n",
       "    </tr>\n",
       "    <tr>\n",
       "      <th>1</th>\n",
       "      <td>12</td>\n",
       "      <td>960</td>\n",
       "      <td>24.000</td>\n",
       "      <td>3167</td>\n",
       "      <td>79.175</td>\n",
       "    </tr>\n",
       "    <tr>\n",
       "      <th>2</th>\n",
       "      <td>6</td>\n",
       "      <td>833</td>\n",
       "      <td>20.825</td>\n",
       "      <td>4000</td>\n",
       "      <td>100.000</td>\n",
       "    </tr>\n",
       "  </tbody>\n",
       "</table>\n",
       "</div>"
      ],
      "text/plain": [
       "   Contract_period  count  percent  cumulative_count  cumulative_percent\n",
       "0                1   2207   55.175              2207              55.175\n",
       "1               12    960   24.000              3167              79.175\n",
       "2                6    833   20.825              4000             100.000"
      ]
     },
     "execution_count": 10,
     "metadata": {},
     "output_type": "execute_result"
    }
   ],
   "source": [
    "gym.stb.freq(['Contract_period'])"
   ]
  },
  {
   "cell_type": "markdown",
   "metadata": {},
   "source": [
    "More than 55% pay month to month, 24% have a 1-year contract, and 20% have a 6-month contract."
   ]
  },
  {
   "cell_type": "code",
   "execution_count": 11,
   "metadata": {},
   "outputs": [
    {
     "data": {
      "text/html": [
       "<div>\n",
       "<style scoped>\n",
       "    .dataframe tbody tr th:only-of-type {\n",
       "        vertical-align: middle;\n",
       "    }\n",
       "\n",
       "    .dataframe tbody tr th {\n",
       "        vertical-align: top;\n",
       "    }\n",
       "\n",
       "    .dataframe thead th {\n",
       "        text-align: right;\n",
       "    }\n",
       "</style>\n",
       "<table border=\"1\" class=\"dataframe\">\n",
       "  <thead>\n",
       "    <tr style=\"text-align: right;\">\n",
       "      <th></th>\n",
       "      <th>Group_visits</th>\n",
       "      <th>count</th>\n",
       "      <th>percent</th>\n",
       "      <th>cumulative_count</th>\n",
       "      <th>cumulative_percent</th>\n",
       "    </tr>\n",
       "  </thead>\n",
       "  <tbody>\n",
       "    <tr>\n",
       "      <th>0</th>\n",
       "      <td>0</td>\n",
       "      <td>2351</td>\n",
       "      <td>58.775</td>\n",
       "      <td>2351</td>\n",
       "      <td>58.775</td>\n",
       "    </tr>\n",
       "    <tr>\n",
       "      <th>1</th>\n",
       "      <td>1</td>\n",
       "      <td>1649</td>\n",
       "      <td>41.225</td>\n",
       "      <td>4000</td>\n",
       "      <td>100.000</td>\n",
       "    </tr>\n",
       "  </tbody>\n",
       "</table>\n",
       "</div>"
      ],
      "text/plain": [
       "   Group_visits  count  percent  cumulative_count  cumulative_percent\n",
       "0             0   2351   58.775              2351              58.775\n",
       "1             1   1649   41.225              4000             100.000"
      ]
     },
     "execution_count": 11,
     "metadata": {},
     "output_type": "execute_result"
    }
   ],
   "source": [
    "gym.stb.freq(['Group_visits'])"
   ]
  },
  {
   "cell_type": "markdown",
   "metadata": {},
   "source": [
    "41% of our customers participate in a group session."
   ]
  },
  {
   "cell_type": "code",
   "execution_count": 12,
   "metadata": {},
   "outputs": [
    {
     "data": {
      "text/html": [
       "<div>\n",
       "<style scoped>\n",
       "    .dataframe tbody tr th:only-of-type {\n",
       "        vertical-align: middle;\n",
       "    }\n",
       "\n",
       "    .dataframe tbody tr th {\n",
       "        vertical-align: top;\n",
       "    }\n",
       "\n",
       "    .dataframe thead th {\n",
       "        text-align: right;\n",
       "    }\n",
       "</style>\n",
       "<table border=\"1\" class=\"dataframe\">\n",
       "  <thead>\n",
       "    <tr style=\"text-align: right;\">\n",
       "      <th></th>\n",
       "      <th>Age</th>\n",
       "      <th>count</th>\n",
       "      <th>percent</th>\n",
       "      <th>cumulative_count</th>\n",
       "      <th>cumulative_percent</th>\n",
       "    </tr>\n",
       "  </thead>\n",
       "  <tbody>\n",
       "    <tr>\n",
       "      <th>0</th>\n",
       "      <td>29</td>\n",
       "      <td>468</td>\n",
       "      <td>11.700</td>\n",
       "      <td>468</td>\n",
       "      <td>11.700</td>\n",
       "    </tr>\n",
       "    <tr>\n",
       "      <th>1</th>\n",
       "      <td>30</td>\n",
       "      <td>457</td>\n",
       "      <td>11.425</td>\n",
       "      <td>925</td>\n",
       "      <td>23.125</td>\n",
       "    </tr>\n",
       "    <tr>\n",
       "      <th>2</th>\n",
       "      <td>28</td>\n",
       "      <td>447</td>\n",
       "      <td>11.175</td>\n",
       "      <td>1372</td>\n",
       "      <td>34.300</td>\n",
       "    </tr>\n",
       "    <tr>\n",
       "      <th>3</th>\n",
       "      <td>31</td>\n",
       "      <td>434</td>\n",
       "      <td>10.850</td>\n",
       "      <td>1806</td>\n",
       "      <td>45.150</td>\n",
       "    </tr>\n",
       "    <tr>\n",
       "      <th>4</th>\n",
       "      <td>27</td>\n",
       "      <td>378</td>\n",
       "      <td>9.450</td>\n",
       "      <td>2184</td>\n",
       "      <td>54.600</td>\n",
       "    </tr>\n",
       "    <tr>\n",
       "      <th>5</th>\n",
       "      <td>32</td>\n",
       "      <td>364</td>\n",
       "      <td>9.100</td>\n",
       "      <td>2548</td>\n",
       "      <td>63.700</td>\n",
       "    </tr>\n",
       "    <tr>\n",
       "      <th>6</th>\n",
       "      <td>26</td>\n",
       "      <td>300</td>\n",
       "      <td>7.500</td>\n",
       "      <td>2848</td>\n",
       "      <td>71.200</td>\n",
       "    </tr>\n",
       "    <tr>\n",
       "      <th>7</th>\n",
       "      <td>33</td>\n",
       "      <td>253</td>\n",
       "      <td>6.325</td>\n",
       "      <td>3101</td>\n",
       "      <td>77.525</td>\n",
       "    </tr>\n",
       "    <tr>\n",
       "      <th>8</th>\n",
       "      <td>25</td>\n",
       "      <td>231</td>\n",
       "      <td>5.775</td>\n",
       "      <td>3332</td>\n",
       "      <td>83.300</td>\n",
       "    </tr>\n",
       "    <tr>\n",
       "      <th>9</th>\n",
       "      <td>34</td>\n",
       "      <td>174</td>\n",
       "      <td>4.350</td>\n",
       "      <td>3506</td>\n",
       "      <td>87.650</td>\n",
       "    </tr>\n",
       "    <tr>\n",
       "      <th>10</th>\n",
       "      <td>24</td>\n",
       "      <td>148</td>\n",
       "      <td>3.700</td>\n",
       "      <td>3654</td>\n",
       "      <td>91.350</td>\n",
       "    </tr>\n",
       "    <tr>\n",
       "      <th>11</th>\n",
       "      <td>35</td>\n",
       "      <td>98</td>\n",
       "      <td>2.450</td>\n",
       "      <td>3752</td>\n",
       "      <td>93.800</td>\n",
       "    </tr>\n",
       "    <tr>\n",
       "      <th>12</th>\n",
       "      <td>23</td>\n",
       "      <td>82</td>\n",
       "      <td>2.050</td>\n",
       "      <td>3834</td>\n",
       "      <td>95.850</td>\n",
       "    </tr>\n",
       "    <tr>\n",
       "      <th>13</th>\n",
       "      <td>36</td>\n",
       "      <td>48</td>\n",
       "      <td>1.200</td>\n",
       "      <td>3882</td>\n",
       "      <td>97.050</td>\n",
       "    </tr>\n",
       "    <tr>\n",
       "      <th>14</th>\n",
       "      <td>22</td>\n",
       "      <td>33</td>\n",
       "      <td>0.825</td>\n",
       "      <td>3915</td>\n",
       "      <td>97.875</td>\n",
       "    </tr>\n",
       "    <tr>\n",
       "      <th>15</th>\n",
       "      <td>37</td>\n",
       "      <td>29</td>\n",
       "      <td>0.725</td>\n",
       "      <td>3944</td>\n",
       "      <td>98.600</td>\n",
       "    </tr>\n",
       "    <tr>\n",
       "      <th>16</th>\n",
       "      <td>21</td>\n",
       "      <td>24</td>\n",
       "      <td>0.600</td>\n",
       "      <td>3968</td>\n",
       "      <td>99.200</td>\n",
       "    </tr>\n",
       "    <tr>\n",
       "      <th>17</th>\n",
       "      <td>20</td>\n",
       "      <td>14</td>\n",
       "      <td>0.350</td>\n",
       "      <td>3982</td>\n",
       "      <td>99.550</td>\n",
       "    </tr>\n",
       "    <tr>\n",
       "      <th>18</th>\n",
       "      <td>38</td>\n",
       "      <td>10</td>\n",
       "      <td>0.250</td>\n",
       "      <td>3992</td>\n",
       "      <td>99.800</td>\n",
       "    </tr>\n",
       "    <tr>\n",
       "      <th>19</th>\n",
       "      <td>39</td>\n",
       "      <td>3</td>\n",
       "      <td>0.075</td>\n",
       "      <td>3995</td>\n",
       "      <td>99.875</td>\n",
       "    </tr>\n",
       "    <tr>\n",
       "      <th>20</th>\n",
       "      <td>19</td>\n",
       "      <td>2</td>\n",
       "      <td>0.050</td>\n",
       "      <td>3997</td>\n",
       "      <td>99.925</td>\n",
       "    </tr>\n",
       "    <tr>\n",
       "      <th>21</th>\n",
       "      <td>18</td>\n",
       "      <td>2</td>\n",
       "      <td>0.050</td>\n",
       "      <td>3999</td>\n",
       "      <td>99.975</td>\n",
       "    </tr>\n",
       "    <tr>\n",
       "      <th>22</th>\n",
       "      <td>41</td>\n",
       "      <td>1</td>\n",
       "      <td>0.025</td>\n",
       "      <td>4000</td>\n",
       "      <td>100.000</td>\n",
       "    </tr>\n",
       "  </tbody>\n",
       "</table>\n",
       "</div>"
      ],
      "text/plain": [
       "    Age  count  percent  cumulative_count  cumulative_percent\n",
       "0    29    468   11.700               468              11.700\n",
       "1    30    457   11.425               925              23.125\n",
       "2    28    447   11.175              1372              34.300\n",
       "3    31    434   10.850              1806              45.150\n",
       "4    27    378    9.450              2184              54.600\n",
       "5    32    364    9.100              2548              63.700\n",
       "6    26    300    7.500              2848              71.200\n",
       "7    33    253    6.325              3101              77.525\n",
       "8    25    231    5.775              3332              83.300\n",
       "9    34    174    4.350              3506              87.650\n",
       "10   24    148    3.700              3654              91.350\n",
       "11   35     98    2.450              3752              93.800\n",
       "12   23     82    2.050              3834              95.850\n",
       "13   36     48    1.200              3882              97.050\n",
       "14   22     33    0.825              3915              97.875\n",
       "15   37     29    0.725              3944              98.600\n",
       "16   21     24    0.600              3968              99.200\n",
       "17   20     14    0.350              3982              99.550\n",
       "18   38     10    0.250              3992              99.800\n",
       "19   39      3    0.075              3995              99.875\n",
       "20   19      2    0.050              3997              99.925\n",
       "21   18      2    0.050              3999              99.975\n",
       "22   41      1    0.025              4000             100.000"
      ]
     },
     "execution_count": 12,
     "metadata": {},
     "output_type": "execute_result"
    }
   ],
   "source": [
    "gym.stb.freq(['Age'])"
   ]
  },
  {
   "cell_type": "markdown",
   "metadata": {},
   "source": [
    "The most common age in the gym is 29, 30, 28, 31, and 27.\n",
    "they account for more than 50% of the total customer."
   ]
  },
  {
   "cell_type": "code",
   "execution_count": 13,
   "metadata": {},
   "outputs": [
    {
     "data": {
      "text/plain": [
       "count    4000.000000\n",
       "mean      146.943728\n",
       "std        96.355602\n",
       "min         0.148205\n",
       "25%        68.868830\n",
       "50%       136.220159\n",
       "75%       210.949625\n",
       "max       552.590740\n",
       "Name: Avg_additional_charges_total, dtype: float64"
      ]
     },
     "execution_count": 13,
     "metadata": {},
     "output_type": "execute_result"
    }
   ],
   "source": [
    "gym.Avg_additional_charges_total.describe()"
   ]
  },
  {
   "cell_type": "markdown",
   "metadata": {},
   "source": [
    "Our customer spends on average 146 on additional goods.\n"
   ]
  },
  {
   "cell_type": "code",
   "execution_count": 14,
   "metadata": {},
   "outputs": [
    {
     "data": {
      "text/plain": [
       "count    4000.000000\n",
       "mean        4.322750\n",
       "std         4.191297\n",
       "min         1.000000\n",
       "25%         1.000000\n",
       "50%         1.000000\n",
       "75%         6.000000\n",
       "max        12.000000\n",
       "Name: Month_to_end_contract, dtype: float64"
      ]
     },
     "execution_count": 14,
     "metadata": {},
     "output_type": "execute_result"
    }
   ],
   "source": [
    "gym.Month_to_end_contract.describe()"
   ]
  },
  {
   "cell_type": "code",
   "execution_count": 15,
   "metadata": {},
   "outputs": [
    {
     "data": {
      "image/png": "[encoded data removed]",
      "text/plain": [
       "<Figure size 432x288 with 1 Axes>"
      ]
     },
     "metadata": {
      "needs_background": "light"
     },
     "output_type": "display_data"
    }
   ],
   "source": [
    "gym.Month_to_end_contract.hist()\n",
    "plt.show()"
   ]
  },
  {
   "cell_type": "markdown",
   "metadata": {},
   "source": [
    "55% of our customers have just one month to their contract."
   ]
  },
  {
   "cell_type": "code",
   "execution_count": 16,
   "metadata": {},
   "outputs": [
    {
     "data": {
      "text/html": [
       "<div>\n",
       "<style scoped>\n",
       "    .dataframe tbody tr th:only-of-type {\n",
       "        vertical-align: middle;\n",
       "    }\n",
       "\n",
       "    .dataframe tbody tr th {\n",
       "        vertical-align: top;\n",
       "    }\n",
       "\n",
       "    .dataframe thead th {\n",
       "        text-align: right;\n",
       "    }\n",
       "</style>\n",
       "<table border=\"1\" class=\"dataframe\">\n",
       "  <thead>\n",
       "    <tr style=\"text-align: right;\">\n",
       "      <th></th>\n",
       "      <th>Month_to_end_contract</th>\n",
       "      <th>count</th>\n",
       "      <th>percent</th>\n",
       "      <th>cumulative_count</th>\n",
       "      <th>cumulative_percent</th>\n",
       "    </tr>\n",
       "  </thead>\n",
       "  <tbody>\n",
       "    <tr>\n",
       "      <th>0</th>\n",
       "      <td>1.0</td>\n",
       "      <td>2207</td>\n",
       "      <td>55.175</td>\n",
       "      <td>2207</td>\n",
       "      <td>55.175</td>\n",
       "    </tr>\n",
       "    <tr>\n",
       "      <th>1</th>\n",
       "      <td>6.0</td>\n",
       "      <td>645</td>\n",
       "      <td>16.125</td>\n",
       "      <td>2852</td>\n",
       "      <td>71.300</td>\n",
       "    </tr>\n",
       "    <tr>\n",
       "      <th>2</th>\n",
       "      <td>12.0</td>\n",
       "      <td>524</td>\n",
       "      <td>13.100</td>\n",
       "      <td>3376</td>\n",
       "      <td>84.400</td>\n",
       "    </tr>\n",
       "    <tr>\n",
       "      <th>3</th>\n",
       "      <td>11.0</td>\n",
       "      <td>181</td>\n",
       "      <td>4.525</td>\n",
       "      <td>3557</td>\n",
       "      <td>88.925</td>\n",
       "    </tr>\n",
       "    <tr>\n",
       "      <th>4</th>\n",
       "      <td>5.0</td>\n",
       "      <td>130</td>\n",
       "      <td>3.250</td>\n",
       "      <td>3687</td>\n",
       "      <td>92.175</td>\n",
       "    </tr>\n",
       "    <tr>\n",
       "      <th>5</th>\n",
       "      <td>10.0</td>\n",
       "      <td>82</td>\n",
       "      <td>2.050</td>\n",
       "      <td>3769</td>\n",
       "      <td>94.225</td>\n",
       "    </tr>\n",
       "    <tr>\n",
       "      <th>6</th>\n",
       "      <td>9.0</td>\n",
       "      <td>73</td>\n",
       "      <td>1.825</td>\n",
       "      <td>3842</td>\n",
       "      <td>96.050</td>\n",
       "    </tr>\n",
       "    <tr>\n",
       "      <th>7</th>\n",
       "      <td>4.0</td>\n",
       "      <td>58</td>\n",
       "      <td>1.450</td>\n",
       "      <td>3900</td>\n",
       "      <td>97.500</td>\n",
       "    </tr>\n",
       "    <tr>\n",
       "      <th>8</th>\n",
       "      <td>8.0</td>\n",
       "      <td>38</td>\n",
       "      <td>0.950</td>\n",
       "      <td>3938</td>\n",
       "      <td>98.450</td>\n",
       "    </tr>\n",
       "    <tr>\n",
       "      <th>9</th>\n",
       "      <td>7.0</td>\n",
       "      <td>25</td>\n",
       "      <td>0.625</td>\n",
       "      <td>3963</td>\n",
       "      <td>99.075</td>\n",
       "    </tr>\n",
       "    <tr>\n",
       "      <th>10</th>\n",
       "      <td>3.0</td>\n",
       "      <td>23</td>\n",
       "      <td>0.575</td>\n",
       "      <td>3986</td>\n",
       "      <td>99.650</td>\n",
       "    </tr>\n",
       "    <tr>\n",
       "      <th>11</th>\n",
       "      <td>2.0</td>\n",
       "      <td>14</td>\n",
       "      <td>0.350</td>\n",
       "      <td>4000</td>\n",
       "      <td>100.000</td>\n",
       "    </tr>\n",
       "  </tbody>\n",
       "</table>\n",
       "</div>"
      ],
      "text/plain": [
       "    Month_to_end_contract  count  percent  cumulative_count  \\\n",
       "0                     1.0   2207   55.175              2207   \n",
       "1                     6.0    645   16.125              2852   \n",
       "2                    12.0    524   13.100              3376   \n",
       "3                    11.0    181    4.525              3557   \n",
       "4                     5.0    130    3.250              3687   \n",
       "5                    10.0     82    2.050              3769   \n",
       "6                     9.0     73    1.825              3842   \n",
       "7                     4.0     58    1.450              3900   \n",
       "8                     8.0     38    0.950              3938   \n",
       "9                     7.0     25    0.625              3963   \n",
       "10                    3.0     23    0.575              3986   \n",
       "11                    2.0     14    0.350              4000   \n",
       "\n",
       "    cumulative_percent  \n",
       "0               55.175  \n",
       "1               71.300  \n",
       "2               84.400  \n",
       "3               88.925  \n",
       "4               92.175  \n",
       "5               94.225  \n",
       "6               96.050  \n",
       "7               97.500  \n",
       "8               98.450  \n",
       "9               99.075  \n",
       "10              99.650  \n",
       "11             100.000  "
      ]
     },
     "execution_count": 16,
     "metadata": {},
     "output_type": "execute_result"
    }
   ],
   "source": [
    "gym.stb.freq(['Month_to_end_contract'])"
   ]
  },
  {
   "cell_type": "code",
   "execution_count": 17,
   "metadata": {},
   "outputs": [
    {
     "data": {
      "text/plain": [
       "count    4000.000000\n",
       "mean        3.724750\n",
       "std         3.749267\n",
       "min         0.000000\n",
       "25%         1.000000\n",
       "50%         3.000000\n",
       "75%         5.000000\n",
       "max        31.000000\n",
       "Name: Lifetime, dtype: float64"
      ]
     },
     "execution_count": 17,
     "metadata": {},
     "output_type": "execute_result"
    }
   ],
   "source": [
    "gym.Lifetime.describe()"
   ]
  },
  {
   "cell_type": "markdown",
   "metadata": {},
   "source": [
    "The avg lifetime of our customers is 3.7 months.\n"
   ]
  },
  {
   "cell_type": "code",
   "execution_count": 18,
   "metadata": {},
   "outputs": [
    {
     "data": {
      "text/html": [
       "<div>\n",
       "<style scoped>\n",
       "    .dataframe tbody tr th:only-of-type {\n",
       "        vertical-align: middle;\n",
       "    }\n",
       "\n",
       "    .dataframe tbody tr th {\n",
       "        vertical-align: top;\n",
       "    }\n",
       "\n",
       "    .dataframe thead th {\n",
       "        text-align: right;\n",
       "    }\n",
       "</style>\n",
       "<table border=\"1\" class=\"dataframe\">\n",
       "  <thead>\n",
       "    <tr style=\"text-align: right;\">\n",
       "      <th></th>\n",
       "      <th>Lifetime</th>\n",
       "      <th>count</th>\n",
       "      <th>percent</th>\n",
       "      <th>cumulative_count</th>\n",
       "      <th>cumulative_percent</th>\n",
       "    </tr>\n",
       "  </thead>\n",
       "  <tbody>\n",
       "    <tr>\n",
       "      <th>0</th>\n",
       "      <td>1</td>\n",
       "      <td>843</td>\n",
       "      <td>21.075</td>\n",
       "      <td>843</td>\n",
       "      <td>21.075</td>\n",
       "    </tr>\n",
       "    <tr>\n",
       "      <th>1</th>\n",
       "      <td>2</td>\n",
       "      <td>610</td>\n",
       "      <td>15.250</td>\n",
       "      <td>1453</td>\n",
       "      <td>36.325</td>\n",
       "    </tr>\n",
       "    <tr>\n",
       "      <th>2</th>\n",
       "      <td>3</td>\n",
       "      <td>490</td>\n",
       "      <td>12.250</td>\n",
       "      <td>1943</td>\n",
       "      <td>48.575</td>\n",
       "    </tr>\n",
       "    <tr>\n",
       "      <th>3</th>\n",
       "      <td>0</td>\n",
       "      <td>487</td>\n",
       "      <td>12.175</td>\n",
       "      <td>2430</td>\n",
       "      <td>60.750</td>\n",
       "    </tr>\n",
       "    <tr>\n",
       "      <th>4</th>\n",
       "      <td>4</td>\n",
       "      <td>383</td>\n",
       "      <td>9.575</td>\n",
       "      <td>2813</td>\n",
       "      <td>70.325</td>\n",
       "    </tr>\n",
       "    <tr>\n",
       "      <th>5</th>\n",
       "      <td>5</td>\n",
       "      <td>273</td>\n",
       "      <td>6.825</td>\n",
       "      <td>3086</td>\n",
       "      <td>77.150</td>\n",
       "    </tr>\n",
       "    <tr>\n",
       "      <th>6</th>\n",
       "      <td>6</td>\n",
       "      <td>220</td>\n",
       "      <td>5.500</td>\n",
       "      <td>3306</td>\n",
       "      <td>82.650</td>\n",
       "    </tr>\n",
       "    <tr>\n",
       "      <th>7</th>\n",
       "      <td>7</td>\n",
       "      <td>167</td>\n",
       "      <td>4.175</td>\n",
       "      <td>3473</td>\n",
       "      <td>86.825</td>\n",
       "    </tr>\n",
       "    <tr>\n",
       "      <th>8</th>\n",
       "      <td>8</td>\n",
       "      <td>111</td>\n",
       "      <td>2.775</td>\n",
       "      <td>3584</td>\n",
       "      <td>89.600</td>\n",
       "    </tr>\n",
       "    <tr>\n",
       "      <th>9</th>\n",
       "      <td>9</td>\n",
       "      <td>100</td>\n",
       "      <td>2.500</td>\n",
       "      <td>3684</td>\n",
       "      <td>92.100</td>\n",
       "    </tr>\n",
       "    <tr>\n",
       "      <th>10</th>\n",
       "      <td>10</td>\n",
       "      <td>76</td>\n",
       "      <td>1.900</td>\n",
       "      <td>3760</td>\n",
       "      <td>94.000</td>\n",
       "    </tr>\n",
       "    <tr>\n",
       "      <th>11</th>\n",
       "      <td>12</td>\n",
       "      <td>53</td>\n",
       "      <td>1.325</td>\n",
       "      <td>3813</td>\n",
       "      <td>95.325</td>\n",
       "    </tr>\n",
       "    <tr>\n",
       "      <th>12</th>\n",
       "      <td>11</td>\n",
       "      <td>48</td>\n",
       "      <td>1.200</td>\n",
       "      <td>3861</td>\n",
       "      <td>96.525</td>\n",
       "    </tr>\n",
       "    <tr>\n",
       "      <th>13</th>\n",
       "      <td>13</td>\n",
       "      <td>28</td>\n",
       "      <td>0.700</td>\n",
       "      <td>3889</td>\n",
       "      <td>97.225</td>\n",
       "    </tr>\n",
       "    <tr>\n",
       "      <th>14</th>\n",
       "      <td>15</td>\n",
       "      <td>24</td>\n",
       "      <td>0.600</td>\n",
       "      <td>3913</td>\n",
       "      <td>97.825</td>\n",
       "    </tr>\n",
       "    <tr>\n",
       "      <th>15</th>\n",
       "      <td>14</td>\n",
       "      <td>24</td>\n",
       "      <td>0.600</td>\n",
       "      <td>3937</td>\n",
       "      <td>98.425</td>\n",
       "    </tr>\n",
       "    <tr>\n",
       "      <th>16</th>\n",
       "      <td>16</td>\n",
       "      <td>15</td>\n",
       "      <td>0.375</td>\n",
       "      <td>3952</td>\n",
       "      <td>98.800</td>\n",
       "    </tr>\n",
       "    <tr>\n",
       "      <th>17</th>\n",
       "      <td>17</td>\n",
       "      <td>11</td>\n",
       "      <td>0.275</td>\n",
       "      <td>3963</td>\n",
       "      <td>99.075</td>\n",
       "    </tr>\n",
       "    <tr>\n",
       "      <th>18</th>\n",
       "      <td>20</td>\n",
       "      <td>7</td>\n",
       "      <td>0.175</td>\n",
       "      <td>3970</td>\n",
       "      <td>99.250</td>\n",
       "    </tr>\n",
       "    <tr>\n",
       "      <th>19</th>\n",
       "      <td>19</td>\n",
       "      <td>7</td>\n",
       "      <td>0.175</td>\n",
       "      <td>3977</td>\n",
       "      <td>99.425</td>\n",
       "    </tr>\n",
       "    <tr>\n",
       "      <th>20</th>\n",
       "      <td>18</td>\n",
       "      <td>7</td>\n",
       "      <td>0.175</td>\n",
       "      <td>3984</td>\n",
       "      <td>99.600</td>\n",
       "    </tr>\n",
       "    <tr>\n",
       "      <th>21</th>\n",
       "      <td>21</td>\n",
       "      <td>5</td>\n",
       "      <td>0.125</td>\n",
       "      <td>3989</td>\n",
       "      <td>99.725</td>\n",
       "    </tr>\n",
       "    <tr>\n",
       "      <th>22</th>\n",
       "      <td>26</td>\n",
       "      <td>2</td>\n",
       "      <td>0.050</td>\n",
       "      <td>3991</td>\n",
       "      <td>99.775</td>\n",
       "    </tr>\n",
       "    <tr>\n",
       "      <th>23</th>\n",
       "      <td>24</td>\n",
       "      <td>2</td>\n",
       "      <td>0.050</td>\n",
       "      <td>3993</td>\n",
       "      <td>99.825</td>\n",
       "    </tr>\n",
       "    <tr>\n",
       "      <th>24</th>\n",
       "      <td>23</td>\n",
       "      <td>2</td>\n",
       "      <td>0.050</td>\n",
       "      <td>3995</td>\n",
       "      <td>99.875</td>\n",
       "    </tr>\n",
       "    <tr>\n",
       "      <th>25</th>\n",
       "      <td>22</td>\n",
       "      <td>2</td>\n",
       "      <td>0.050</td>\n",
       "      <td>3997</td>\n",
       "      <td>99.925</td>\n",
       "    </tr>\n",
       "    <tr>\n",
       "      <th>26</th>\n",
       "      <td>31</td>\n",
       "      <td>1</td>\n",
       "      <td>0.025</td>\n",
       "      <td>3998</td>\n",
       "      <td>99.950</td>\n",
       "    </tr>\n",
       "    <tr>\n",
       "      <th>27</th>\n",
       "      <td>29</td>\n",
       "      <td>1</td>\n",
       "      <td>0.025</td>\n",
       "      <td>3999</td>\n",
       "      <td>99.975</td>\n",
       "    </tr>\n",
       "    <tr>\n",
       "      <th>28</th>\n",
       "      <td>27</td>\n",
       "      <td>1</td>\n",
       "      <td>0.025</td>\n",
       "      <td>4000</td>\n",
       "      <td>100.000</td>\n",
       "    </tr>\n",
       "  </tbody>\n",
       "</table>\n",
       "</div>"
      ],
      "text/plain": [
       "    Lifetime  count  percent  cumulative_count  cumulative_percent\n",
       "0          1    843   21.075               843              21.075\n",
       "1          2    610   15.250              1453              36.325\n",
       "2          3    490   12.250              1943              48.575\n",
       "3          0    487   12.175              2430              60.750\n",
       "4          4    383    9.575              2813              70.325\n",
       "5          5    273    6.825              3086              77.150\n",
       "6          6    220    5.500              3306              82.650\n",
       "7          7    167    4.175              3473              86.825\n",
       "8          8    111    2.775              3584              89.600\n",
       "9          9    100    2.500              3684              92.100\n",
       "10        10     76    1.900              3760              94.000\n",
       "11        12     53    1.325              3813              95.325\n",
       "12        11     48    1.200              3861              96.525\n",
       "13        13     28    0.700              3889              97.225\n",
       "14        15     24    0.600              3913              97.825\n",
       "15        14     24    0.600              3937              98.425\n",
       "16        16     15    0.375              3952              98.800\n",
       "17        17     11    0.275              3963              99.075\n",
       "18        20      7    0.175              3970              99.250\n",
       "19        19      7    0.175              3977              99.425\n",
       "20        18      7    0.175              3984              99.600\n",
       "21        21      5    0.125              3989              99.725\n",
       "22        26      2    0.050              3991              99.775\n",
       "23        24      2    0.050              3993              99.825\n",
       "24        23      2    0.050              3995              99.875\n",
       "25        22      2    0.050              3997              99.925\n",
       "26        31      1    0.025              3998              99.950\n",
       "27        29      1    0.025              3999              99.975\n",
       "28        27      1    0.025              4000             100.000"
      ]
     },
     "execution_count": 18,
     "metadata": {},
     "output_type": "execute_result"
    }
   ],
   "source": [
    "gym.stb.freq(['Lifetime'])"
   ]
  },
  {
   "cell_type": "code",
   "execution_count": 19,
   "metadata": {},
   "outputs": [
    {
     "data": {
      "text/plain": [
       "count    4000.000000\n",
       "mean        1.767052\n",
       "std         1.052906\n",
       "min         0.000000\n",
       "25%         0.963003\n",
       "50%         1.719574\n",
       "75%         2.510336\n",
       "max         6.146783\n",
       "Name: Avg_class_frequency_current_month, dtype: float64"
      ]
     },
     "execution_count": 19,
     "metadata": {},
     "output_type": "execute_result"
    }
   ],
   "source": [
    "gym.Avg_class_frequency_current_month.describe()"
   ]
  },
  {
   "cell_type": "markdown",
   "metadata": {},
   "source": [
    "Most of our customers come to the gym between 1-2 times a week during their subscription lifetime.\n"
   ]
  },
  {
   "cell_type": "code",
   "execution_count": 20,
   "metadata": {},
   "outputs": [
    {
     "data": {
      "text/plain": [
       "count    4000.000000\n",
       "mean        0.265250\n",
       "std         0.441521\n",
       "min         0.000000\n",
       "25%         0.000000\n",
       "50%         0.000000\n",
       "75%         1.000000\n",
       "max         1.000000\n",
       "Name: Churn, dtype: float64"
      ]
     },
     "execution_count": 20,
     "metadata": {},
     "output_type": "execute_result"
    }
   ],
   "source": [
    "gym.Churn.describe()"
   ]
  },
  {
   "cell_type": "code",
   "execution_count": 21,
   "metadata": {},
   "outputs": [
    {
     "data": {
      "text/html": [
       "<div>\n",
       "<style scoped>\n",
       "    .dataframe tbody tr th:only-of-type {\n",
       "        vertical-align: middle;\n",
       "    }\n",
       "\n",
       "    .dataframe tbody tr th {\n",
       "        vertical-align: top;\n",
       "    }\n",
       "\n",
       "    .dataframe thead th {\n",
       "        text-align: right;\n",
       "    }\n",
       "</style>\n",
       "<table border=\"1\" class=\"dataframe\">\n",
       "  <thead>\n",
       "    <tr style=\"text-align: right;\">\n",
       "      <th></th>\n",
       "      <th>Churn</th>\n",
       "      <th>count</th>\n",
       "      <th>percent</th>\n",
       "      <th>cumulative_count</th>\n",
       "      <th>cumulative_percent</th>\n",
       "    </tr>\n",
       "  </thead>\n",
       "  <tbody>\n",
       "    <tr>\n",
       "      <th>0</th>\n",
       "      <td>0</td>\n",
       "      <td>2939</td>\n",
       "      <td>73.475</td>\n",
       "      <td>2939</td>\n",
       "      <td>73.475</td>\n",
       "    </tr>\n",
       "    <tr>\n",
       "      <th>1</th>\n",
       "      <td>1</td>\n",
       "      <td>1061</td>\n",
       "      <td>26.525</td>\n",
       "      <td>4000</td>\n",
       "      <td>100.000</td>\n",
       "    </tr>\n",
       "  </tbody>\n",
       "</table>\n",
       "</div>"
      ],
      "text/plain": [
       "   Churn  count  percent  cumulative_count  cumulative_percent\n",
       "0      0   2939   73.475              2939              73.475\n",
       "1      1   1061   26.525              4000             100.000"
      ]
     },
     "execution_count": 21,
     "metadata": {},
     "output_type": "execute_result"
    }
   ],
   "source": [
    "gym.stb.freq(['Churn'])"
   ]
  },
  {
   "cell_type": "markdown",
   "metadata": {},
   "source": [
    "26% of our customers leave the gym."
   ]
  },
  {
   "cell_type": "markdown",
   "metadata": {},
   "source": [
    "# Step 2. Carry out exploratory data analysis (EDA)\n"
   ]
  },
  {
   "cell_type": "markdown",
   "metadata": {},
   "source": [
    "**Look at the dataset: does it contain any missing features? Study the mean values and standard deviation (use the describe() method).**"
   ]
  },
  {
   "cell_type": "code",
   "execution_count": 22,
   "metadata": {},
   "outputs": [
    {
     "data": {
      "text/html": [
       "<div>\n",
       "<style scoped>\n",
       "    .dataframe tbody tr th:only-of-type {\n",
       "        vertical-align: middle;\n",
       "    }\n",
       "\n",
       "    .dataframe tbody tr th {\n",
       "        vertical-align: top;\n",
       "    }\n",
       "\n",
       "    .dataframe thead th {\n",
       "        text-align: right;\n",
       "    }\n",
       "</style>\n",
       "<table border=\"1\" class=\"dataframe\">\n",
       "  <thead>\n",
       "    <tr style=\"text-align: right;\">\n",
       "      <th></th>\n",
       "      <th>gender</th>\n",
       "      <th>Near_Location</th>\n",
       "      <th>Partner</th>\n",
       "      <th>Promo_friends</th>\n",
       "      <th>Phone</th>\n",
       "      <th>Contract_period</th>\n",
       "      <th>Group_visits</th>\n",
       "      <th>Age</th>\n",
       "      <th>Avg_additional_charges_total</th>\n",
       "      <th>Month_to_end_contract</th>\n",
       "      <th>Lifetime</th>\n",
       "      <th>Avg_class_frequency_total</th>\n",
       "      <th>Avg_class_frequency_current_month</th>\n",
       "      <th>Churn</th>\n",
       "    </tr>\n",
       "  </thead>\n",
       "  <tbody>\n",
       "    <tr>\n",
       "      <th>count</th>\n",
       "      <td>4000.000000</td>\n",
       "      <td>4000.000000</td>\n",
       "      <td>4000.000000</td>\n",
       "      <td>4000.000000</td>\n",
       "      <td>4000.000000</td>\n",
       "      <td>4000.000000</td>\n",
       "      <td>4000.000000</td>\n",
       "      <td>4000.000000</td>\n",
       "      <td>4000.000000</td>\n",
       "      <td>4000.000000</td>\n",
       "      <td>4000.000000</td>\n",
       "      <td>4000.000000</td>\n",
       "      <td>4000.000000</td>\n",
       "      <td>4000.000000</td>\n",
       "    </tr>\n",
       "    <tr>\n",
       "      <th>mean</th>\n",
       "      <td>0.510250</td>\n",
       "      <td>0.845250</td>\n",
       "      <td>0.486750</td>\n",
       "      <td>0.308500</td>\n",
       "      <td>0.903500</td>\n",
       "      <td>4.681250</td>\n",
       "      <td>0.412250</td>\n",
       "      <td>29.184250</td>\n",
       "      <td>146.943728</td>\n",
       "      <td>4.322750</td>\n",
       "      <td>3.724750</td>\n",
       "      <td>1.879020</td>\n",
       "      <td>1.767052</td>\n",
       "      <td>0.265250</td>\n",
       "    </tr>\n",
       "    <tr>\n",
       "      <th>std</th>\n",
       "      <td>0.499957</td>\n",
       "      <td>0.361711</td>\n",
       "      <td>0.499887</td>\n",
       "      <td>0.461932</td>\n",
       "      <td>0.295313</td>\n",
       "      <td>4.549706</td>\n",
       "      <td>0.492301</td>\n",
       "      <td>3.258367</td>\n",
       "      <td>96.355602</td>\n",
       "      <td>4.191297</td>\n",
       "      <td>3.749267</td>\n",
       "      <td>0.972245</td>\n",
       "      <td>1.052906</td>\n",
       "      <td>0.441521</td>\n",
       "    </tr>\n",
       "    <tr>\n",
       "      <th>min</th>\n",
       "      <td>0.000000</td>\n",
       "      <td>0.000000</td>\n",
       "      <td>0.000000</td>\n",
       "      <td>0.000000</td>\n",
       "      <td>0.000000</td>\n",
       "      <td>1.000000</td>\n",
       "      <td>0.000000</td>\n",
       "      <td>18.000000</td>\n",
       "      <td>0.148205</td>\n",
       "      <td>1.000000</td>\n",
       "      <td>0.000000</td>\n",
       "      <td>0.000000</td>\n",
       "      <td>0.000000</td>\n",
       "      <td>0.000000</td>\n",
       "    </tr>\n",
       "    <tr>\n",
       "      <th>25%</th>\n",
       "      <td>0.000000</td>\n",
       "      <td>1.000000</td>\n",
       "      <td>0.000000</td>\n",
       "      <td>0.000000</td>\n",
       "      <td>1.000000</td>\n",
       "      <td>1.000000</td>\n",
       "      <td>0.000000</td>\n",
       "      <td>27.000000</td>\n",
       "      <td>68.868830</td>\n",
       "      <td>1.000000</td>\n",
       "      <td>1.000000</td>\n",
       "      <td>1.180875</td>\n",
       "      <td>0.963003</td>\n",
       "      <td>0.000000</td>\n",
       "    </tr>\n",
       "    <tr>\n",
       "      <th>50%</th>\n",
       "      <td>1.000000</td>\n",
       "      <td>1.000000</td>\n",
       "      <td>0.000000</td>\n",
       "      <td>0.000000</td>\n",
       "      <td>1.000000</td>\n",
       "      <td>1.000000</td>\n",
       "      <td>0.000000</td>\n",
       "      <td>29.000000</td>\n",
       "      <td>136.220159</td>\n",
       "      <td>1.000000</td>\n",
       "      <td>3.000000</td>\n",
       "      <td>1.832768</td>\n",
       "      <td>1.719574</td>\n",
       "      <td>0.000000</td>\n",
       "    </tr>\n",
       "    <tr>\n",
       "      <th>75%</th>\n",
       "      <td>1.000000</td>\n",
       "      <td>1.000000</td>\n",
       "      <td>1.000000</td>\n",
       "      <td>1.000000</td>\n",
       "      <td>1.000000</td>\n",
       "      <td>6.000000</td>\n",
       "      <td>1.000000</td>\n",
       "      <td>31.000000</td>\n",
       "      <td>210.949625</td>\n",
       "      <td>6.000000</td>\n",
       "      <td>5.000000</td>\n",
       "      <td>2.536078</td>\n",
       "      <td>2.510336</td>\n",
       "      <td>1.000000</td>\n",
       "    </tr>\n",
       "    <tr>\n",
       "      <th>max</th>\n",
       "      <td>1.000000</td>\n",
       "      <td>1.000000</td>\n",
       "      <td>1.000000</td>\n",
       "      <td>1.000000</td>\n",
       "      <td>1.000000</td>\n",
       "      <td>12.000000</td>\n",
       "      <td>1.000000</td>\n",
       "      <td>41.000000</td>\n",
       "      <td>552.590740</td>\n",
       "      <td>12.000000</td>\n",
       "      <td>31.000000</td>\n",
       "      <td>6.023668</td>\n",
       "      <td>6.146783</td>\n",
       "      <td>1.000000</td>\n",
       "    </tr>\n",
       "  </tbody>\n",
       "</table>\n",
       "</div>"
      ],
      "text/plain": [
       "            gender  Near_Location      Partner  Promo_friends        Phone  \\\n",
       "count  4000.000000    4000.000000  4000.000000    4000.000000  4000.000000   \n",
       "mean      0.510250       0.845250     0.486750       0.308500     0.903500   \n",
       "std       0.499957       0.361711     0.499887       0.461932     0.295313   \n",
       "min       0.000000       0.000000     0.000000       0.000000     0.000000   \n",
       "25%       0.000000       1.000000     0.000000       0.000000     1.000000   \n",
       "50%       1.000000       1.000000     0.000000       0.000000     1.000000   \n",
       "75%       1.000000       1.000000     1.000000       1.000000     1.000000   \n",
       "max       1.000000       1.000000     1.000000       1.000000     1.000000   \n",
       "\n",
       "       Contract_period  Group_visits          Age  \\\n",
       "count      4000.000000   4000.000000  4000.000000   \n",
       "mean          4.681250      0.412250    29.184250   \n",
       "std           4.549706      0.492301     3.258367   \n",
       "min           1.000000      0.000000    18.000000   \n",
       "25%           1.000000      0.000000    27.000000   \n",
       "50%           1.000000      0.000000    29.000000   \n",
       "75%           6.000000      1.000000    31.000000   \n",
       "max          12.000000      1.000000    41.000000   \n",
       "\n",
       "       Avg_additional_charges_total  Month_to_end_contract     Lifetime  \\\n",
       "count                   4000.000000            4000.000000  4000.000000   \n",
       "mean                     146.943728               4.322750     3.724750   \n",
       "std                       96.355602               4.191297     3.749267   \n",
       "min                        0.148205               1.000000     0.000000   \n",
       "25%                       68.868830               1.000000     1.000000   \n",
       "50%                      136.220159               1.000000     3.000000   \n",
       "75%                      210.949625               6.000000     5.000000   \n",
       "max                      552.590740              12.000000    31.000000   \n",
       "\n",
       "       Avg_class_frequency_total  Avg_class_frequency_current_month  \\\n",
       "count                4000.000000                        4000.000000   \n",
       "mean                    1.879020                           1.767052   \n",
       "std                     0.972245                           1.052906   \n",
       "min                     0.000000                           0.000000   \n",
       "25%                     1.180875                           0.963003   \n",
       "50%                     1.832768                           1.719574   \n",
       "75%                     2.536078                           2.510336   \n",
       "max                     6.023668                           6.146783   \n",
       "\n",
       "             Churn  \n",
       "count  4000.000000  \n",
       "mean      0.265250  \n",
       "std       0.441521  \n",
       "min       0.000000  \n",
       "25%       0.000000  \n",
       "50%       0.000000  \n",
       "75%       1.000000  \n",
       "max       1.000000  "
      ]
     },
     "execution_count": 22,
     "metadata": {},
     "output_type": "execute_result"
    }
   ],
   "source": [
    "gym.describe()"
   ]
  },
  {
   "cell_type": "markdown",
   "metadata": {},
   "source": [
    "There are a lot of 0's in our data. This is because many columns are based on a 0-1 value.\n",
    "Gender has a mean of 0.510250 an std of 0.499957. they are very close but of course that they are not identical.\n",
    "Near_Location: mean of 0.845250 and std of 0.361711.\n",
    "Partner: mean of 0.486750 and std of 0.499887. they are very close but of course that they are not identical.\n",
    "Promo_friends: mean of 0.308500 and std of 0.461932.\n",
    "Phone: mean of 0.903500 and std of 0.295313.\n",
    "Contract_period: 4.681250 and 4.549706.\n",
    "Group_visits: 0.412250 and 0.492301\n",
    "Group_visits: 0.412250 and 0.492301\n",
    "Age: 29.976523 and 3.009933.\n",
    "Avg_additional_charges_total: 158.445715 and 99.801599.\n",
    "Month_to_end_contract: 5.283089 and 4.363522.\n",
    "Lifetime: 4.711807 and 3.874780.\n",
    "Avg_class_frequency_total: 2.024876 and 1.016006.\n",
    "Avg_class_frequency_current_month: 2.027882 and 1.018994"
   ]
  },
  {
   "cell_type": "markdown",
   "metadata": {},
   "source": [
    "**Look at the mean feature values in two groups: for those who left (churn) and for those who stayed (use the groupby() method).**"
   ]
  },
  {
   "cell_type": "code",
   "execution_count": 23,
   "metadata": {},
   "outputs": [],
   "source": [
    "gym_left= gym[gym['Churn'] == 1]\n",
    "gym_stayed= gym[gym['Churn'] == 0]"
   ]
  },
  {
   "cell_type": "code",
   "execution_count": 24,
   "metadata": {},
   "outputs": [
    {
     "data": {
      "text/html": [
       "<div>\n",
       "<style scoped>\n",
       "    .dataframe tbody tr th:only-of-type {\n",
       "        vertical-align: middle;\n",
       "    }\n",
       "\n",
       "    .dataframe tbody tr th {\n",
       "        vertical-align: top;\n",
       "    }\n",
       "\n",
       "    .dataframe thead th {\n",
       "        text-align: right;\n",
       "    }\n",
       "</style>\n",
       "<table border=\"1\" class=\"dataframe\">\n",
       "  <thead>\n",
       "    <tr style=\"text-align: right;\">\n",
       "      <th></th>\n",
       "      <th>gender</th>\n",
       "      <th>Near_Location</th>\n",
       "      <th>Partner</th>\n",
       "      <th>Promo_friends</th>\n",
       "      <th>Phone</th>\n",
       "      <th>Contract_period</th>\n",
       "      <th>Group_visits</th>\n",
       "      <th>Age</th>\n",
       "      <th>Avg_additional_charges_total</th>\n",
       "      <th>Month_to_end_contract</th>\n",
       "      <th>Lifetime</th>\n",
       "      <th>Avg_class_frequency_total</th>\n",
       "      <th>Avg_class_frequency_current_month</th>\n",
       "    </tr>\n",
       "    <tr>\n",
       "      <th>Churn</th>\n",
       "      <th></th>\n",
       "      <th></th>\n",
       "      <th></th>\n",
       "      <th></th>\n",
       "      <th></th>\n",
       "      <th></th>\n",
       "      <th></th>\n",
       "      <th></th>\n",
       "      <th></th>\n",
       "      <th></th>\n",
       "      <th></th>\n",
       "      <th></th>\n",
       "      <th></th>\n",
       "    </tr>\n",
       "  </thead>\n",
       "  <tbody>\n",
       "    <tr>\n",
       "      <th>0</th>\n",
       "      <td>0.510037</td>\n",
       "      <td>0.873086</td>\n",
       "      <td>0.534195</td>\n",
       "      <td>0.353522</td>\n",
       "      <td>0.903709</td>\n",
       "      <td>5.747193</td>\n",
       "      <td>0.464103</td>\n",
       "      <td>29.976523</td>\n",
       "      <td>158.445715</td>\n",
       "      <td>5.283089</td>\n",
       "      <td>4.711807</td>\n",
       "      <td>2.024876</td>\n",
       "      <td>2.027882</td>\n",
       "    </tr>\n",
       "    <tr>\n",
       "      <th>1</th>\n",
       "      <td>0.510839</td>\n",
       "      <td>0.768143</td>\n",
       "      <td>0.355325</td>\n",
       "      <td>0.183789</td>\n",
       "      <td>0.902922</td>\n",
       "      <td>1.728558</td>\n",
       "      <td>0.268615</td>\n",
       "      <td>26.989632</td>\n",
       "      <td>115.082899</td>\n",
       "      <td>1.662582</td>\n",
       "      <td>0.990575</td>\n",
       "      <td>1.474995</td>\n",
       "      <td>1.044546</td>\n",
       "    </tr>\n",
       "  </tbody>\n",
       "</table>\n",
       "</div>"
      ],
      "text/plain": [
       "         gender  Near_Location   Partner  Promo_friends     Phone  \\\n",
       "Churn                                                               \n",
       "0      0.510037       0.873086  0.534195       0.353522  0.903709   \n",
       "1      0.510839       0.768143  0.355325       0.183789  0.902922   \n",
       "\n",
       "       Contract_period  Group_visits        Age  Avg_additional_charges_total  \\\n",
       "Churn                                                                           \n",
       "0             5.747193      0.464103  29.976523                    158.445715   \n",
       "1             1.728558      0.268615  26.989632                    115.082899   \n",
       "\n",
       "       Month_to_end_contract  Lifetime  Avg_class_frequency_total  \\\n",
       "Churn                                                               \n",
       "0                   5.283089  4.711807                   2.024876   \n",
       "1                   1.662582  0.990575                   1.474995   \n",
       "\n",
       "       Avg_class_frequency_current_month  \n",
       "Churn                                     \n",
       "0                               2.027882  \n",
       "1                               1.044546  "
      ]
     },
     "execution_count": 24,
     "metadata": {},
     "output_type": "execute_result"
    }
   ],
   "source": [
    "gym_by_churn_mean = gym.groupby(['Churn']).mean()\n",
    "gym_by_churn_mean"
   ]
  },
  {
   "cell_type": "markdown",
   "metadata": {},
   "source": [
    "From the mean of the Avg_additional_charges_total, we sow a mean of 158 for those who stayed and 115 for those who left.\n",
    "The month-to-end mean was 1.66 for those who left and 5.28 for those who stayed.\n",
    "The lifetime mean was 4.71 months for those who stayed and 0.99 for those who left.\n",
    "Also, the mean of Avg_class_frequency_total and Avg_class_frequency_total was higher for customers who stayed."
   ]
  },
  {
   "cell_type": "markdown",
   "metadata": {},
   "source": [
    "**Plot bar histograms and feature distributions for those who left (churn) and those who stayed.**"
   ]
  },
  {
   "cell_type": "code",
   "execution_count": 25,
   "metadata": {},
   "outputs": [
    {
     "data": {
      "image/png": "[encoded data removed]",
      "text/plain": [
       "<Figure size 720x432 with 1 Axes>"
      ]
     },
     "metadata": {
      "needs_background": "light"
     },
     "output_type": "display_data"
    }
   ],
   "source": [
    "plt.figure(figsize=(10, 6))\n",
    "gym_left['gender'].plot(kind='hist', alpha=0.5, bins=30)\n",
    "gym_stayed['gender'].plot(kind='hist', alpha=0.5, bins=30)\n",
    "plt.title('gender')\n",
    "plt.legend(['left', 'stayed'])\n",
    "\n",
    "plt.show()"
   ]
  },
  {
   "cell_type": "markdown",
   "metadata": {},
   "source": [
    "Much more customers stayed in our data. There is a slight edge to the customer in gender 1.\n"
   ]
  },
  {
   "cell_type": "code",
   "execution_count": 25,
   "metadata": {},
   "outputs": [
    {
     "data": {
      "image/png": "[encoded data removed]",
      "text/plain": [
       "<Figure size 720x432 with 1 Axes>"
      ]
     },
     "metadata": {
      "needs_background": "light"
     },
     "output_type": "display_data"
    }
   ],
   "source": [
    "plt.figure(figsize=(10, 6))\n",
    "gym_left['Near_Location'].plot(kind='hist', alpha=0.5, bins=30)\n",
    "gym_stayed['Near_Location'].plot(kind='hist', alpha=0.5, bins=30)\n",
    "plt.title('customers near the gym')\n",
    "plt.legend(['left', 'Stayed'])\n",
    "\n",
    "plt.show()"
   ]
  },
  {
   "cell_type": "markdown",
   "metadata": {},
   "source": [
    "There are much more customers in the GYM near the location.\n"
   ]
  },
  {
   "cell_type": "code",
   "execution_count": 26,
   "metadata": {},
   "outputs": [
    {
     "data": {
      "image/png": "[encoded data removed]",
      "text/plain": [
       "<Figure size 720x432 with 1 Axes>"
      ]
     },
     "metadata": {
      "needs_background": "light"
     },
     "output_type": "display_data"
    }
   ],
   "source": [
    "plt.figure(figsize=(10, 6))\n",
    "gym_left['Partner'].plot(kind='hist', alpha=0.5, bins=30)\n",
    "gym_stayed['Partner'].plot(kind='hist', alpha=0.5, bins=30)\n",
    "plt.title('Partners')\n",
    "plt.legend(['left', 'Stayed'])\n",
    "\n",
    "plt.show()"
   ]
  },
  {
   "cell_type": "markdown",
   "metadata": {},
   "source": [
    "from the people who stayed more people, customers."
   ]
  },
  {
   "cell_type": "code",
   "execution_count": 27,
   "metadata": {},
   "outputs": [
    {
     "data": {
      "image/png": "[encoded data removed]",
      "text/plain": [
       "<Figure size 720x432 with 1 Axes>"
      ]
     },
     "metadata": {
      "needs_background": "light"
     },
     "output_type": "display_data"
    }
   ],
   "source": [
    "plt.figure(figsize=(10, 6))\n",
    "gym_left['Promo_friends'].plot(kind='hist', alpha=0.5, bins=30)\n",
    "gym_stayed['Promo_friends'].plot(kind='hist', alpha=0.5, bins=30)\n",
    "plt.title('Customers that came through Promo friends')\n",
    "plt.legend(['left', 'Stayed'])\n",
    "\n",
    "plt.show()"
   ]
  },
  {
   "cell_type": "markdown",
   "metadata": {},
   "source": [
    "Much more customers didn't come to the gym through promo friends.\n"
   ]
  },
  {
   "cell_type": "code",
   "execution_count": 28,
   "metadata": {},
   "outputs": [
    {
     "data": {
      "image/png": "[encoded data removed]",
      "text/plain": [
       "<Figure size 720x432 with 1 Axes>"
      ]
     },
     "metadata": {
      "needs_background": "light"
     },
     "output_type": "display_data"
    }
   ],
   "source": [
    "plt.figure(figsize=(10, 6))\n",
    "gym_left['Phone'].plot(kind='hist', alpha=0.5, bins=30)\n",
    "gym_stayed['Phone'].plot(kind='hist', alpha=0.5, bins=30)\n",
    "plt.title('Phone')\n",
    "plt.legend(['left', 'Stayed'])\n",
    "\n",
    "plt.show()"
   ]
  },
  {
   "cell_type": "markdown",
   "metadata": {},
   "source": [
    "We dont have all the phone numbers of our customers; this is crucial!"
   ]
  },
  {
   "cell_type": "code",
   "execution_count": 29,
   "metadata": {},
   "outputs": [
    {
     "data": {
      "image/png": "[encoded data removed]",
      "text/plain": [
       "<Figure size 720x432 with 1 Axes>"
      ]
     },
     "metadata": {
      "needs_background": "light"
     },
     "output_type": "display_data"
    }
   ],
   "source": [
    "plt.figure(figsize=(10, 6))\n",
    "gym_left['Contract_period'].plot(kind='hist', alpha=0.5, bins=30)\n",
    "gym_stayed['Contract_period'].plot(kind='hist', alpha=0.5, bins=30)\n",
    "plt.title('Contract period')\n",
    "plt.legend(['left', 'Stayed'])\n",
    "\n",
    "plt.show()"
   ]
  },
  {
   "cell_type": "markdown",
   "metadata": {},
   "source": [
    "From the people who left, a considerable number of customers sign a month-to-month contract. That is a huge red flag.\n",
    "Far more customers signed 6-month and 12-month contracts from the customers who stayed. \n"
   ]
  },
  {
   "cell_type": "code",
   "execution_count": 30,
   "metadata": {},
   "outputs": [
    {
     "data": {
      "image/png": "[encoded data removed]",
      "text/plain": [
       "<Figure size 720x432 with 1 Axes>"
      ]
     },
     "metadata": {
      "needs_background": "light"
     },
     "output_type": "display_data"
    }
   ],
   "source": [
    "plt.figure(figsize=(10, 6))\n",
    "gym_left['Group_visits'].plot(kind='hist', alpha=0.5, bins=30)\n",
    "gym_stayed['Group_visits'].plot(kind='hist', alpha=0.5, bins=30)\n",
    "plt.title('Group visits')\n",
    "plt.legend(['left', 'Stayed'])\n",
    "\n",
    "plt.show()"
   ]
  },
  {
   "cell_type": "markdown",
   "metadata": {},
   "source": [
    "Far more people sign for group training from the people who stayed."
   ]
  },
  {
   "cell_type": "code",
   "execution_count": 31,
   "metadata": {},
   "outputs": [
    {
     "data": {
      "image/png": "[encoded data removed]",
      "text/plain": [
       "<Figure size 720x432 with 1 Axes>"
      ]
     },
     "metadata": {
      "needs_background": "light"
     },
     "output_type": "display_data"
    }
   ],
   "source": [
    "plt.figure(figsize=(10, 6))\n",
    "gym_left['Age'].plot(kind='hist', alpha=0.5, bins=30)\n",
    "gym_stayed['Age'].plot(kind='hist', alpha=0.5, bins=30)\n",
    "plt.title('Age')\n",
    "plt.legend(['left', 'Stayed'])\n",
    "\n",
    "plt.show()"
   ]
  },
  {
   "cell_type": "markdown",
   "metadata": {},
   "source": [
    "The majority of customer that comes to the gym is between 25 to 35.\n"
   ]
  },
  {
   "cell_type": "code",
   "execution_count": 33,
   "metadata": {},
   "outputs": [
    {
     "data": {
      "image/png": "[encoded data removed]",
      "text/plain": [
       "<Figure size 720x432 with 1 Axes>"
      ]
     },
     "metadata": {
      "needs_background": "light"
     },
     "output_type": "display_data"
    }
   ],
   "source": [
    "plt.figure(figsize=(10, 6))\n",
    "gym_left['Avg_additional_charges_total'].plot(kind='hist', alpha=0.5, bins=30)\n",
    "gym_stayed['Avg_additional_charges_total'].plot(kind='hist', alpha=0.5, bins=30)\n",
    "plt.title('Avg additional charges total')\n",
    "plt.legend(['left', 'Stayed'])\n",
    "\n",
    "plt.show()"
   ]
  },
  {
   "cell_type": "code",
   "execution_count": 34,
   "metadata": {},
   "outputs": [
    {
     "data": {
      "text/plain": [
       "103.81468566076916"
      ]
     },
     "execution_count": 34,
     "metadata": {},
     "output_type": "execute_result"
    }
   ],
   "source": [
    "gym_left.Avg_additional_charges_total.median()"
   ]
  },
  {
   "cell_type": "code",
   "execution_count": 35,
   "metadata": {},
   "outputs": [
    {
     "data": {
      "text/plain": [
       "149.88117082862337"
      ]
     },
     "execution_count": 35,
     "metadata": {},
     "output_type": "execute_result"
    }
   ],
   "source": [
    "gym_stayed.Avg_additional_charges_total.median()"
   ]
  },
  {
   "cell_type": "markdown",
   "metadata": {},
   "source": [
    "The distribution for the Avg_additional_charges_total is skewed to the left in both groups so that we will take the mean.\n",
    "From the people who left, most of the people spent 103, and from gym_stayed 150."
   ]
  },
  {
   "cell_type": "code",
   "execution_count": 36,
   "metadata": {},
   "outputs": [
    {
     "data": {
      "image/png": "[encoded data removed]",
      "text/plain": [
       "<Figure size 720x432 with 1 Axes>"
      ]
     },
     "metadata": {
      "needs_background": "light"
     },
     "output_type": "display_data"
    }
   ],
   "source": [
    "plt.figure(figsize=(10, 6))\n",
    "gym_left['Month_to_end_contract'].plot(kind='hist', alpha=0.5, bins=30)\n",
    "gym_stayed['Month_to_end_contract'].plot(kind='hist', alpha=0.5, bins=30)\n",
    "plt.title('Month to end contract')\n",
    "plt.legend(['left', 'Stayed'])\n",
    "\n",
    "plt.show()"
   ]
  },
  {
   "cell_type": "code",
   "execution_count": 37,
   "metadata": {},
   "outputs": [
    {
     "data": {
      "text/plain": [
       "1.0"
      ]
     },
     "execution_count": 37,
     "metadata": {},
     "output_type": "execute_result"
    }
   ],
   "source": [
    "np.percentile(gym_left.Month_to_end_contract, 88)"
   ]
  },
  {
   "cell_type": "markdown",
   "metadata": {},
   "source": [
    "The people who left the majority had just one month to their contract in the gym. (88%).\n",
    "From the people who stayed, the data is much more spread."
   ]
  },
  {
   "cell_type": "code",
   "execution_count": 40,
   "metadata": {},
   "outputs": [
    {
     "data": {
      "image/png": "[encoded data removed]",
      "text/plain": [
       "<Figure size 720x432 with 1 Axes>"
      ]
     },
     "metadata": {
      "needs_background": "light"
     },
     "output_type": "display_data"
    }
   ],
   "source": [
    "plt.figure(figsize=(10, 6))\n",
    "gym_left['Lifetime'].plot(kind='hist', alpha=0.5, bins=30)\n",
    "gym_stayed['Lifetime'].plot(kind='hist', alpha=0.5, bins=30)\n",
    "plt.title('Lifetime')\n",
    "plt.legend(['left', 'Stayed'])\n",
    "\n",
    "plt.show()"
   ]
  },
  {
   "cell_type": "markdown",
   "metadata": {},
   "source": [
    "The lifetime for people who stayed is much higher.\n"
   ]
  },
  {
   "cell_type": "code",
   "execution_count": 41,
   "metadata": {},
   "outputs": [
    {
     "data": {
      "image/png": "[encoded data removed]",
      "text/plain": [
       "<Figure size 720x432 with 1 Axes>"
      ]
     },
     "metadata": {
      "needs_background": "light"
     },
     "output_type": "display_data"
    }
   ],
   "source": [
    "plt.figure(figsize=(10, 6))\n",
    "gym_left['Avg_class_frequency_total'].plot(kind='hist', alpha=0.5, bins=30)\n",
    "gym_stayed['Avg_class_frequency_total'].plot(kind='hist', alpha=0.5, bins=30)\n",
    "plt.title('Avg class frequency total')\n",
    "plt.legend(['left', 'Stayed'])\n",
    "\n",
    "plt.show()"
   ]
  },
  {
   "cell_type": "markdown",
   "metadata": {},
   "source": [
    "Most of the people who left come 1 - 2 days a week to the gym.\n",
    "Most customers come 1 - 3  days a week from the people who stayed."
   ]
  },
  {
   "cell_type": "code",
   "execution_count": 42,
   "metadata": {},
   "outputs": [
    {
     "data": {
      "image/png": "[encoded data removed]",
      "text/plain": [
       "<Figure size 720x432 with 1 Axes>"
      ]
     },
     "metadata": {
      "needs_background": "light"
     },
     "output_type": "display_data"
    }
   ],
   "source": [
    "plt.figure(figsize=(10, 6))\n",
    "gym_left['Avg_class_frequency_current_month'].plot(kind='hist', alpha=0.5, bins=30)\n",
    "gym_stayed['Avg_class_frequency_current_month'].plot(kind='hist', alpha=0.5, bins=30)\n",
    "plt.title('Avg class frequency current month')\n",
    "plt.legend(['left', 'Stayed'])\n",
    "\n",
    "plt.show()"
   ]
  },
  {
   "cell_type": "markdown",
   "metadata": {},
   "source": [
    "People who stayed in the gym lately visited around 1-3 times."
   ]
  },
  {
   "cell_type": "markdown",
   "metadata": {},
   "source": [
    "**Build a correlation matrix and display it.**"
   ]
  },
  {
   "cell_type": "code",
   "execution_count": 43,
   "metadata": {},
   "outputs": [
    {
     "data": {
      "image/png": "[encoded data removed]",
      "text/plain": [
       "<Figure size 1080x2160 with 2 Axes>"
      ]
     },
     "metadata": {
      "needs_background": "light"
     },
     "output_type": "display_data"
    }
   ],
   "source": [
    "plt.figure(figsize=(15,30))\n",
    "cm = gym.corr()\n",
    "sns.heatmap(cm, annot = True, square=True)\n",
    "plt.show()"
   ]
  },
  {
   "cell_type": "markdown",
   "metadata": {},
   "source": [
    "This correlation heatmap shows a correlation of 0.97 with the contract period and the month-to-month contract. And a correlation of  0.95 between avg class frequency total and avg class frequency in the current month."
   ]
  },
  {
   "cell_type": "markdown",
   "metadata": {},
   "source": [
    "# Step 3. Build a model to predict user churn"
   ]
  },
  {
   "cell_type": "markdown",
   "metadata": {},
   "source": [
    "Build a binary classification model for customers where the target feature is the user's leaving next month."
   ]
  },
  {
   "cell_type": "markdown",
   "metadata": {},
   "source": [
    "**Evaluate accuracy, precision, and recall for both models using the validation data. Use them to compare the models. Which model gave better results?**"
   ]
  },
  {
   "cell_type": "code",
   "execution_count": 44,
   "metadata": {},
   "outputs": [
    {
     "data": {
      "text/html": [
       "<div>\n",
       "<style scoped>\n",
       "    .dataframe tbody tr th:only-of-type {\n",
       "        vertical-align: middle;\n",
       "    }\n",
       "\n",
       "    .dataframe tbody tr th {\n",
       "        vertical-align: top;\n",
       "    }\n",
       "\n",
       "    .dataframe thead th {\n",
       "        text-align: right;\n",
       "    }\n",
       "</style>\n",
       "<table border=\"1\" class=\"dataframe\">\n",
       "  <thead>\n",
       "    <tr style=\"text-align: right;\">\n",
       "      <th></th>\n",
       "      <th>gender</th>\n",
       "      <th>Near_Location</th>\n",
       "      <th>Partner</th>\n",
       "      <th>Promo_friends</th>\n",
       "      <th>Phone</th>\n",
       "      <th>Contract_period</th>\n",
       "      <th>Group_visits</th>\n",
       "      <th>Age</th>\n",
       "      <th>Avg_additional_charges_total</th>\n",
       "      <th>Month_to_end_contract</th>\n",
       "      <th>Lifetime</th>\n",
       "      <th>Avg_class_frequency_total</th>\n",
       "      <th>Avg_class_frequency_current_month</th>\n",
       "      <th>Churn</th>\n",
       "    </tr>\n",
       "  </thead>\n",
       "  <tbody>\n",
       "    <tr>\n",
       "      <th>0</th>\n",
       "      <td>1</td>\n",
       "      <td>1</td>\n",
       "      <td>1</td>\n",
       "      <td>1</td>\n",
       "      <td>0</td>\n",
       "      <td>6</td>\n",
       "      <td>1</td>\n",
       "      <td>29</td>\n",
       "      <td>14.227470</td>\n",
       "      <td>5.0</td>\n",
       "      <td>3</td>\n",
       "      <td>0.020398</td>\n",
       "      <td>0.000000</td>\n",
       "      <td>0</td>\n",
       "    </tr>\n",
       "    <tr>\n",
       "      <th>1</th>\n",
       "      <td>0</td>\n",
       "      <td>1</td>\n",
       "      <td>0</td>\n",
       "      <td>0</td>\n",
       "      <td>1</td>\n",
       "      <td>12</td>\n",
       "      <td>1</td>\n",
       "      <td>31</td>\n",
       "      <td>113.202938</td>\n",
       "      <td>12.0</td>\n",
       "      <td>7</td>\n",
       "      <td>1.922936</td>\n",
       "      <td>1.910244</td>\n",
       "      <td>0</td>\n",
       "    </tr>\n",
       "    <tr>\n",
       "      <th>2</th>\n",
       "      <td>0</td>\n",
       "      <td>1</td>\n",
       "      <td>1</td>\n",
       "      <td>0</td>\n",
       "      <td>1</td>\n",
       "      <td>1</td>\n",
       "      <td>0</td>\n",
       "      <td>28</td>\n",
       "      <td>129.448479</td>\n",
       "      <td>1.0</td>\n",
       "      <td>2</td>\n",
       "      <td>1.859098</td>\n",
       "      <td>1.736502</td>\n",
       "      <td>0</td>\n",
       "    </tr>\n",
       "    <tr>\n",
       "      <th>3</th>\n",
       "      <td>0</td>\n",
       "      <td>1</td>\n",
       "      <td>1</td>\n",
       "      <td>1</td>\n",
       "      <td>1</td>\n",
       "      <td>12</td>\n",
       "      <td>1</td>\n",
       "      <td>33</td>\n",
       "      <td>62.669863</td>\n",
       "      <td>12.0</td>\n",
       "      <td>2</td>\n",
       "      <td>3.205633</td>\n",
       "      <td>3.357215</td>\n",
       "      <td>0</td>\n",
       "    </tr>\n",
       "    <tr>\n",
       "      <th>4</th>\n",
       "      <td>1</td>\n",
       "      <td>1</td>\n",
       "      <td>1</td>\n",
       "      <td>1</td>\n",
       "      <td>1</td>\n",
       "      <td>1</td>\n",
       "      <td>0</td>\n",
       "      <td>26</td>\n",
       "      <td>198.362265</td>\n",
       "      <td>1.0</td>\n",
       "      <td>3</td>\n",
       "      <td>1.113884</td>\n",
       "      <td>1.120078</td>\n",
       "      <td>0</td>\n",
       "    </tr>\n",
       "  </tbody>\n",
       "</table>\n",
       "</div>"
      ],
      "text/plain": [
       "   gender  Near_Location  Partner  Promo_friends  Phone  Contract_period  \\\n",
       "0       1              1        1              1      0                6   \n",
       "1       0              1        0              0      1               12   \n",
       "2       0              1        1              0      1                1   \n",
       "3       0              1        1              1      1               12   \n",
       "4       1              1        1              1      1                1   \n",
       "\n",
       "   Group_visits  Age  Avg_additional_charges_total  Month_to_end_contract  \\\n",
       "0             1   29                     14.227470                    5.0   \n",
       "1             1   31                    113.202938                   12.0   \n",
       "2             0   28                    129.448479                    1.0   \n",
       "3             1   33                     62.669863                   12.0   \n",
       "4             0   26                    198.362265                    1.0   \n",
       "\n",
       "   Lifetime  Avg_class_frequency_total  Avg_class_frequency_current_month  \\\n",
       "0         3                   0.020398                           0.000000   \n",
       "1         7                   1.922936                           1.910244   \n",
       "2         2                   1.859098                           1.736502   \n",
       "3         2                   3.205633                           3.357215   \n",
       "4         3                   1.113884                           1.120078   \n",
       "\n",
       "   Churn  \n",
       "0      0  \n",
       "1      0  \n",
       "2      0  \n",
       "3      0  \n",
       "4      0  "
      ]
     },
     "execution_count": 44,
     "metadata": {},
     "output_type": "execute_result"
    }
   ],
   "source": [
    "gym.head()"
   ]
  },
  {
   "cell_type": "markdown",
   "metadata": {},
   "source": [
    "**Train the model on the train set with two methods:\n",
    "logistic regression\n",
    "random forest**"
   ]
  },
  {
   "cell_type": "code",
   "execution_count": 45,
   "metadata": {},
   "outputs": [],
   "source": [
    "X = gym.drop('Churn', axis = 1)\n",
    "y = gym['Churn']"
   ]
  },
  {
   "cell_type": "markdown",
   "metadata": {},
   "source": [
    "**Divide the data into train and validation sets using the train_test_split() function.**"
   ]
  },
  {
   "cell_type": "code",
   "execution_count": 46,
   "metadata": {},
   "outputs": [],
   "source": [
    "X_train, X_test, y_train, y_test = train_test_split(X, y, test_size=0.2, random_state=0)"
   ]
  },
  {
   "cell_type": "code",
   "execution_count": 47,
   "metadata": {},
   "outputs": [],
   "source": [
    "model_1 = LogisticRegression()"
   ]
  },
  {
   "cell_type": "code",
   "execution_count": 48,
   "metadata": {},
   "outputs": [
    {
     "name": "stderr",
     "output_type": "stream",
     "text": [
      "/opt/conda/lib/python3.9/site-packages/sklearn/linear_model/_logistic.py:763: ConvergenceWarning: lbfgs failed to converge (status=1):\n",
      "STOP: TOTAL NO. of ITERATIONS REACHED LIMIT.\n",
      "\n",
      "Increase the number of iterations (max_iter) or scale the data as shown in:\n",
      "    https://scikit-learn.org/stable/modules/preprocessing.html\n",
      "Please also refer to the documentation for alternative solver options:\n",
      "    https://scikit-learn.org/stable/modules/linear_model.html#logistic-regression\n",
      "  n_iter_i = _check_optimize_result(\n"
     ]
    },
    {
     "data": {
      "text/plain": [
       "LogisticRegression()"
      ]
     },
     "execution_count": 48,
     "metadata": {},
     "output_type": "execute_result"
    }
   ],
   "source": [
    "model_1.fit(X_train, y_train)"
   ]
  },
  {
   "cell_type": "code",
   "execution_count": 49,
   "metadata": {},
   "outputs": [],
   "source": [
    "probabilities = model_1.predict_proba(X_test)[:,1]"
   ]
  },
  {
   "cell_type": "code",
   "execution_count": 50,
   "metadata": {},
   "outputs": [],
   "source": [
    "predictions = model_1.predict(X_test)"
   ]
  },
  {
   "cell_type": "code",
   "execution_count": 51,
   "metadata": {},
   "outputs": [
    {
     "name": "stdout",
     "output_type": "stream",
     "text": [
      "Accuracy: 0.90875\n",
      "Precision: 0.90875\n",
      "Recall: 0.90875\n",
      "F1: 0.90875\n"
     ]
    }
   ],
   "source": [
    "print('Accuracy: {:.5f}'.format(accuracy_score(y_test, predictions)))\n",
    "print('Precision: {:.5f}'.format(precision_score(y_test, predictions, average='micro')))\n",
    "print('Recall: {:.5f}'.format(recall_score(y_test, predictions, average='micro')))\n",
    "print('F1: {:.5f}'.format(f1_score(y_test, predictions, average='micro')))"
   ]
  },
  {
   "cell_type": "code",
   "execution_count": 52,
   "metadata": {},
   "outputs": [
    {
     "data": {
      "text/plain": [
       "1.8175"
      ]
     },
     "execution_count": 52,
     "metadata": {},
     "output_type": "execute_result"
    }
   ],
   "source": [
    "LogisticRegression_Accu__Prec=accuracy_score(y_test, predictions) + precision_score(y_test, predictions, average='micro')\n",
    "LogisticRegression_Accu__Prec"
   ]
  },
  {
   "cell_type": "code",
   "execution_count": 53,
   "metadata": {},
   "outputs": [],
   "source": [
    "model_2 = RandomForestClassifier()"
   ]
  },
  {
   "cell_type": "code",
   "execution_count": 54,
   "metadata": {},
   "outputs": [
    {
     "data": {
      "text/plain": [
       "RandomForestClassifier()"
      ]
     },
     "execution_count": 54,
     "metadata": {},
     "output_type": "execute_result"
    }
   ],
   "source": [
    "model_2.fit(X_train, y_train)"
   ]
  },
  {
   "cell_type": "code",
   "execution_count": 55,
   "metadata": {},
   "outputs": [],
   "source": [
    "predictions_2 = model_2.predict(X_test)"
   ]
  },
  {
   "cell_type": "code",
   "execution_count": 56,
   "metadata": {},
   "outputs": [
    {
     "name": "stdout",
     "output_type": "stream",
     "text": [
      "Accuracy: 0.91500\n",
      "Precision: 0.91500\n",
      "Recall: 0.91500\n",
      "F1: 0.91500\n"
     ]
    }
   ],
   "source": [
    "print('Accuracy: {:.5f}'.format(accuracy_score(y_test, predictions_2)))\n",
    "print('Precision: {:.5f}'.format(precision_score(y_test, predictions_2, average='micro')))\n",
    "print('Recall: {:.5f}'.format(recall_score(y_test, predictions_2, average='micro')))\n",
    "print('F1: {:.5f}'.format(f1_score(y_test, predictions_2, average='micro')))"
   ]
  },
  {
   "cell_type": "code",
   "execution_count": 57,
   "metadata": {},
   "outputs": [
    {
     "data": {
      "text/plain": [
       "1.83"
      ]
     },
     "execution_count": 57,
     "metadata": {},
     "output_type": "execute_result"
    }
   ],
   "source": [
    "RandomForestClassifier_Accu__Prec=accuracy_score(y_test, predictions_2) + precision_score(y_test, predictions_2, average='micro')\n",
    "RandomForestClassifier_Accu__Prec"
   ]
  },
  {
   "cell_type": "code",
   "execution_count": 58,
   "metadata": {},
   "outputs": [
    {
     "name": "stdout",
     "output_type": "stream",
     "text": [
      "RandomForestClassifier model is the winner\n"
     ]
    }
   ],
   "source": [
    "if LogisticRegression_Accu__Prec > RandomForestClassifier_Accu__Prec:\n",
    "    print('LogisticRegression model is the winner')\n",
    "else:\n",
    "    print('RandomForestClassifier model is the winner')"
   ]
  },
  {
   "cell_type": "markdown",
   "metadata": {},
   "source": [
    "Precision talks about how precise/accurate, so this is a crucial score. And Accuracy is to be ensuring that the information is correct and without any mistake. So a high score is also critical."
   ]
  },
  {
   "cell_type": "markdown",
   "metadata": {},
   "source": [
    "<div class=\"alert alert-block alert-success\">\n",
    "<b>Reviewer's comment</b> <a class=\"tocSkip\"></a>\n",
    "\n",
    "Good job!\n",
    "</div>"
   ]
  },
  {
   "cell_type": "markdown",
   "metadata": {},
   "source": [
    "# Step 4. Create user clusters"
   ]
  },
  {
   "cell_type": "markdown",
   "metadata": {},
   "source": [
    "Set aside the column with data on churn and identify object (user) clusters:"
   ]
  },
  {
   "cell_type": "markdown",
   "metadata": {},
   "source": [
    "**- Standardize the data.**\n",
    "\n",
    "**- Use the linkage() function to build a matrix of distances based on the standardized feature matrix and plot a dendrogram. Note: rendering the dendrogram may take time! Use the resulting graph to estimate the number of clusters you can single out.**"
   ]
  },
  {
   "cell_type": "code",
   "execution_count": 59,
   "metadata": {},
   "outputs": [],
   "source": [
    "# standardize the data\n",
    "sc = StandardScaler()\n",
    "x_sc = sc.fit_transform(gym)"
   ]
  },
  {
   "cell_type": "code",
   "execution_count": 60,
   "metadata": {},
   "outputs": [],
   "source": [
    "linked = linkage(x_sc, method = 'ward')"
   ]
  },
  {
   "cell_type": "code",
   "execution_count": 61,
   "metadata": {},
   "outputs": [
    {
     "data": {
      "image/png": "[encoded data removed]",
      "text/plain": [
       "<Figure size 1080x720 with 1 Axes>"
      ]
     },
     "metadata": {
      "needs_background": "light"
     },
     "output_type": "display_data"
    }
   ],
   "source": [
    "plt.figure(figsize=(15, 10))  \n",
    "dendrogram(linked, orientation='top')\n",
    "plt.title('Hierarchical clustering for GYM')\n",
    "plt.show() "
   ]
  },
  {
   "cell_type": "markdown",
   "metadata": {},
   "source": [
    "**Train the clustering model with the K-means algorithm and predict customer clusters. (Let the number of clusters be n=5, so that it'll be easier to compare your results with those of other students. However, in real life, no one will give you such hints, so you'll have to decide based on the graph from the previous step.)**"
   ]
  },
  {
   "cell_type": "code",
   "execution_count": 62,
   "metadata": {},
   "outputs": [],
   "source": [
    "# define the k_means model with 5 clusters\n",
    "km = KMeans(n_clusters = 5, random_state=0)\n",
    "# predict the clusters for observations (the algorithm assigns them a number from 0 to 4)\n",
    "labels = km.fit_predict(x_sc)"
   ]
  },
  {
   "cell_type": "markdown",
   "metadata": {},
   "source": [
    "**Look at the mean feature values for clusters. Does anything catch your eye?**"
   ]
  },
  {
   "cell_type": "code",
   "execution_count": 63,
   "metadata": {},
   "outputs": [],
   "source": [
    "gym['cluster_km'] = labels"
   ]
  },
  {
   "cell_type": "markdown",
   "metadata": {},
   "source": [
    "**Look at the mean feature values for clusters. Does anything catch your eye?**"
   ]
  },
  {
   "cell_type": "code",
   "execution_count": 64,
   "metadata": {},
   "outputs": [
    {
     "data": {
      "text/html": [
       "<div>\n",
       "<style scoped>\n",
       "    .dataframe tbody tr th:only-of-type {\n",
       "        vertical-align: middle;\n",
       "    }\n",
       "\n",
       "    .dataframe tbody tr th {\n",
       "        vertical-align: top;\n",
       "    }\n",
       "\n",
       "    .dataframe thead th {\n",
       "        text-align: right;\n",
       "    }\n",
       "</style>\n",
       "<table border=\"1\" class=\"dataframe\">\n",
       "  <thead>\n",
       "    <tr style=\"text-align: right;\">\n",
       "      <th></th>\n",
       "      <th>gender</th>\n",
       "      <th>Near_Location</th>\n",
       "      <th>Partner</th>\n",
       "      <th>Promo_friends</th>\n",
       "      <th>Phone</th>\n",
       "      <th>Contract_period</th>\n",
       "      <th>Group_visits</th>\n",
       "      <th>Age</th>\n",
       "      <th>Avg_additional_charges_total</th>\n",
       "      <th>Month_to_end_contract</th>\n",
       "      <th>Lifetime</th>\n",
       "      <th>Avg_class_frequency_total</th>\n",
       "      <th>Avg_class_frequency_current_month</th>\n",
       "      <th>Churn</th>\n",
       "    </tr>\n",
       "    <tr>\n",
       "      <th>cluster_km</th>\n",
       "      <th></th>\n",
       "      <th></th>\n",
       "      <th></th>\n",
       "      <th></th>\n",
       "      <th></th>\n",
       "      <th></th>\n",
       "      <th></th>\n",
       "      <th></th>\n",
       "      <th></th>\n",
       "      <th></th>\n",
       "      <th></th>\n",
       "      <th></th>\n",
       "      <th></th>\n",
       "      <th></th>\n",
       "    </tr>\n",
       "  </thead>\n",
       "  <tbody>\n",
       "    <tr>\n",
       "      <th>0</th>\n",
       "      <td>0.503676</td>\n",
       "      <td>0.000000</td>\n",
       "      <td>0.459559</td>\n",
       "      <td>0.075368</td>\n",
       "      <td>0.917279</td>\n",
       "      <td>2.069853</td>\n",
       "      <td>0.211397</td>\n",
       "      <td>28.522059</td>\n",
       "      <td>132.741216</td>\n",
       "      <td>1.950368</td>\n",
       "      <td>2.757353</td>\n",
       "      <td>1.706629</td>\n",
       "      <td>1.515890</td>\n",
       "      <td>0.450368</td>\n",
       "    </tr>\n",
       "    <tr>\n",
       "      <th>1</th>\n",
       "      <td>0.492829</td>\n",
       "      <td>0.936115</td>\n",
       "      <td>0.764016</td>\n",
       "      <td>0.534550</td>\n",
       "      <td>0.919166</td>\n",
       "      <td>10.447197</td>\n",
       "      <td>0.516297</td>\n",
       "      <td>29.962190</td>\n",
       "      <td>161.853561</td>\n",
       "      <td>9.477184</td>\n",
       "      <td>4.833116</td>\n",
       "      <td>2.788103</td>\n",
       "      <td>2.786919</td>\n",
       "      <td>0.007823</td>\n",
       "    </tr>\n",
       "    <tr>\n",
       "      <th>2</th>\n",
       "      <td>0.507917</td>\n",
       "      <td>1.000000</td>\n",
       "      <td>0.323995</td>\n",
       "      <td>0.213155</td>\n",
       "      <td>0.903776</td>\n",
       "      <td>1.546894</td>\n",
       "      <td>0.287454</td>\n",
       "      <td>26.926918</td>\n",
       "      <td>113.173051</td>\n",
       "      <td>1.500609</td>\n",
       "      <td>1.031669</td>\n",
       "      <td>1.449720</td>\n",
       "      <td>1.037592</td>\n",
       "      <td>0.961023</td>\n",
       "    </tr>\n",
       "    <tr>\n",
       "      <th>3</th>\n",
       "      <td>0.521186</td>\n",
       "      <td>0.996610</td>\n",
       "      <td>0.282203</td>\n",
       "      <td>0.208475</td>\n",
       "      <td>0.904237</td>\n",
       "      <td>1.882203</td>\n",
       "      <td>0.452542</td>\n",
       "      <td>30.237288</td>\n",
       "      <td>157.988625</td>\n",
       "      <td>1.794915</td>\n",
       "      <td>4.923729</td>\n",
       "      <td>2.203432</td>\n",
       "      <td>2.207359</td>\n",
       "      <td>0.003390</td>\n",
       "    </tr>\n",
       "    <tr>\n",
       "      <th>4</th>\n",
       "      <td>0.518895</td>\n",
       "      <td>0.968023</td>\n",
       "      <td>0.744186</td>\n",
       "      <td>0.526163</td>\n",
       "      <td>0.873547</td>\n",
       "      <td>8.859012</td>\n",
       "      <td>0.534884</td>\n",
       "      <td>29.728198</td>\n",
       "      <td>162.907495</td>\n",
       "      <td>8.155523</td>\n",
       "      <td>4.411337</td>\n",
       "      <td>0.957744</td>\n",
       "      <td>0.943967</td>\n",
       "      <td>0.024709</td>\n",
       "    </tr>\n",
       "  </tbody>\n",
       "</table>\n",
       "</div>"
      ],
      "text/plain": [
       "              gender  Near_Location   Partner  Promo_friends     Phone  \\\n",
       "cluster_km                                                               \n",
       "0           0.503676       0.000000  0.459559       0.075368  0.917279   \n",
       "1           0.492829       0.936115  0.764016       0.534550  0.919166   \n",
       "2           0.507917       1.000000  0.323995       0.213155  0.903776   \n",
       "3           0.521186       0.996610  0.282203       0.208475  0.904237   \n",
       "4           0.518895       0.968023  0.744186       0.526163  0.873547   \n",
       "\n",
       "            Contract_period  Group_visits        Age  \\\n",
       "cluster_km                                             \n",
       "0                  2.069853      0.211397  28.522059   \n",
       "1                 10.447197      0.516297  29.962190   \n",
       "2                  1.546894      0.287454  26.926918   \n",
       "3                  1.882203      0.452542  30.237288   \n",
       "4                  8.859012      0.534884  29.728198   \n",
       "\n",
       "            Avg_additional_charges_total  Month_to_end_contract  Lifetime  \\\n",
       "cluster_km                                                                  \n",
       "0                             132.741216               1.950368  2.757353   \n",
       "1                             161.853561               9.477184  4.833116   \n",
       "2                             113.173051               1.500609  1.031669   \n",
       "3                             157.988625               1.794915  4.923729   \n",
       "4                             162.907495               8.155523  4.411337   \n",
       "\n",
       "            Avg_class_frequency_total  Avg_class_frequency_current_month  \\\n",
       "cluster_km                                                                 \n",
       "0                            1.706629                           1.515890   \n",
       "1                            2.788103                           2.786919   \n",
       "2                            1.449720                           1.037592   \n",
       "3                            2.203432                           2.207359   \n",
       "4                            0.957744                           0.943967   \n",
       "\n",
       "               Churn  \n",
       "cluster_km            \n",
       "0           0.450368  \n",
       "1           0.007823  \n",
       "2           0.961023  \n",
       "3           0.003390  \n",
       "4           0.024709  "
      ]
     },
     "execution_count": 64,
     "metadata": {},
     "output_type": "execute_result"
    }
   ],
   "source": [
    "feature_mean_for_clusters = gym.groupby(['cluster_km']).mean()\n",
    "feature_mean_for_clusters"
   ]
  },
  {
   "cell_type": "markdown",
   "metadata": {},
   "source": [
    "The mean churm for cluster 2 is very high, 0.961. also, their lifetime is the lowest - 1.03. "
   ]
  },
  {
   "cell_type": "markdown",
   "metadata": {},
   "source": [
    "<div class=\"alert alert-block alert-success\">\n",
    "<b>Reviewer's comment</b> <a class=\"tocSkip\"></a>\n",
    "\n",
    "Well done!\n",
    "</div>"
   ]
  },
  {
   "cell_type": "markdown",
   "metadata": {},
   "source": [
    "**Plot distributions of features for the clusters. Do you notice anything?**"
   ]
  },
  {
   "cell_type": "code",
   "execution_count": 65,
   "metadata": {},
   "outputs": [],
   "source": [
    "def show_clusters_on_scatterplot(df, x_name,y_name, cluster_name):\n",
    "    plt.figure(figsize = (10,10))\n",
    "    sns.scatterplot(x=df[x_name], y=df[y_name],\n",
    "          hue = df[cluster_name], palette = 'Paired'\n",
    "       )\n",
    "    plt.title('{} vs {}'.format(x_name, y_name))\n",
    "plt.show()    "
   ]
  },
  {
   "cell_type": "code",
   "execution_count": 66,
   "metadata": {},
   "outputs": [],
   "source": [
    "def show_clusters_on_barplot(df, x_name,y_name, cluster_name):\n",
    "    plt.figure(figsize = (10,10))\n",
    "    sns.barplot(x=df[x_name], y=df[y_name],\n",
    "          hue = df[cluster_name], palette = 'Paired'\n",
    "       )\n",
    "    plt.title('{} vs {}'.format(x_name, y_name))\n",
    "plt.show()    "
   ]
  },
  {
   "cell_type": "code",
   "execution_count": 67,
   "metadata": {},
   "outputs": [
    {
     "data": {
      "image/png": "[encoded data removed]",
      "text/plain": [
       "<Figure size 720x720 with 1 Axes>"
      ]
     },
     "metadata": {
      "needs_background": "light"
     },
     "output_type": "display_data"
    }
   ],
   "source": [
    "show_clusters_on_barplot(gym, 'Churn','Lifetime', 'cluster_km')"
   ]
  },
  {
   "cell_type": "markdown",
   "metadata": {},
   "source": [
    "cluster 4 prefom well in terms of the proportion of churm."
   ]
  },
  {
   "cell_type": "code",
   "execution_count": 68,
   "metadata": {},
   "outputs": [
    {
     "data": {
      "image/png": "[encoded data removed]",
      "text/plain": [
       "<Figure size 720x720 with 1 Axes>"
      ]
     },
     "metadata": {
      "needs_background": "light"
     },
     "output_type": "display_data"
    }
   ],
   "source": [
    "show_clusters_on_barplot(gym, 'gender','Lifetime', 'cluster_km')"
   ]
  },
  {
   "cell_type": "markdown",
   "metadata": {},
   "source": [
    "Clusters from 1, 3, and 4 have a good lifetime.\n",
    "Cluster 2 doesn't have a good lifetime."
   ]
  },
  {
   "cell_type": "code",
   "execution_count": 69,
   "metadata": {},
   "outputs": [
    {
     "data": {
      "image/png": "[encoded data removed]",
      "text/plain": [
       "<Figure size 720x720 with 1 Axes>"
      ]
     },
     "metadata": {
      "needs_background": "light"
     },
     "output_type": "display_data"
    }
   ],
   "source": [
    "show_clusters_on_barplot(gym, 'Contract_period','Lifetime', 'cluster_km')"
   ]
  },
  {
   "cell_type": "markdown",
   "metadata": {},
   "source": [
    "Most of the customers from cluster 2 don't sign up for a 12-month contract."
   ]
  },
  {
   "cell_type": "markdown",
   "metadata": {},
   "source": [
    "**Calculate the churn rate for each cluster (use the groupby() method). Do they differ in terms of churn rate? Which clusters are prone to leaving, and which are loyal?**"
   ]
  },
  {
   "cell_type": "code",
   "execution_count": 70,
   "metadata": {},
   "outputs": [
    {
     "data": {
      "text/html": [
       "<div>\n",
       "<style scoped>\n",
       "    .dataframe tbody tr th:only-of-type {\n",
       "        vertical-align: middle;\n",
       "    }\n",
       "\n",
       "    .dataframe tbody tr th {\n",
       "        vertical-align: top;\n",
       "    }\n",
       "\n",
       "    .dataframe thead th {\n",
       "        text-align: right;\n",
       "    }\n",
       "</style>\n",
       "<table border=\"1\" class=\"dataframe\">\n",
       "  <thead>\n",
       "    <tr style=\"text-align: right;\">\n",
       "      <th></th>\n",
       "      <th>cluster_km</th>\n",
       "      <th>Churn</th>\n",
       "    </tr>\n",
       "  </thead>\n",
       "  <tbody>\n",
       "    <tr>\n",
       "      <th>0</th>\n",
       "      <td>0</td>\n",
       "      <td>0.13600</td>\n",
       "    </tr>\n",
       "    <tr>\n",
       "      <th>1</th>\n",
       "      <td>1</td>\n",
       "      <td>0.19175</td>\n",
       "    </tr>\n",
       "    <tr>\n",
       "      <th>2</th>\n",
       "      <td>2</td>\n",
       "      <td>0.20525</td>\n",
       "    </tr>\n",
       "    <tr>\n",
       "      <th>3</th>\n",
       "      <td>3</td>\n",
       "      <td>0.29500</td>\n",
       "    </tr>\n",
       "    <tr>\n",
       "      <th>4</th>\n",
       "      <td>4</td>\n",
       "      <td>0.17200</td>\n",
       "    </tr>\n",
       "  </tbody>\n",
       "</table>\n",
       "</div>"
      ],
      "text/plain": [
       "   cluster_km    Churn\n",
       "0           0  0.13600\n",
       "1           1  0.19175\n",
       "2           2  0.20525\n",
       "3           3  0.29500\n",
       "4           4  0.17200"
      ]
     },
     "execution_count": 70,
     "metadata": {},
     "output_type": "execute_result"
    }
   ],
   "source": [
    "churn_rate =(gym.groupby(['cluster_km'])['Churn'].count() / len(gym)).reset_index()\n",
    "churn_rate"
   ]
  },
  {
   "cell_type": "markdown",
   "metadata": {},
   "source": [
    "Cluster 3 has the highest churn rate. Cluster 0 has the lowest churn rate. "
   ]
  },
  {
   "cell_type": "markdown",
   "metadata": {},
   "source": [
    "# Step 5. Come up with conclusions and basic recommendations on working with customers"
   ]
  },
  {
   "cell_type": "markdown",
   "metadata": {},
   "source": [
    "Draw conclusions and formulate recommendations regarding the strategy for customer interaction and retention.\n",
    "You don't need to go into detail. Three or four essential principles and examples of their implementation in the form of specific marketing steps will do.\n"
   ]
  },
  {
   "cell_type": "markdown",
   "metadata": {},
   "source": [
    "**We should try to attract people to sign a long contract to increase retention. We can use a special offer for this.**\n",
    "\n",
    "**We should encourage customers to sign up for a session group because when people connect socially, they will come to the gym more frequently, which will be an essential part of their lives.**\n",
    "\n",
    "**We can send SMS and offer to the customer in clusters with a higher churn rate.**"
   ]
  }
 ],
 "metadata": {
  "ExecuteTimeLog": [
   {
    "duration": 3862,
    "start_time": "2022-03-23T20:09:53.250Z"
   },
   {
    "duration": 1393,
    "start_time": "2022-03-23T20:11:21.091Z"
   },
   {
    "duration": 250,
    "start_time": "2022-03-23T20:12:24.836Z"
   },
   {
    "duration": 16,
    "start_time": "2022-03-23T20:12:35.629Z"
   },
   {
    "duration": 13,
    "start_time": "2022-03-23T20:18:56.180Z"
   },
   {
    "duration": 93,
    "start_time": "2022-03-23T20:20:31.780Z"
   },
   {
    "duration": 17,
    "start_time": "2022-03-23T20:21:01.540Z"
   },
   {
    "duration": 16,
    "start_time": "2022-03-23T20:21:35.514Z"
   },
   {
    "duration": 16,
    "start_time": "2022-03-23T20:22:01.450Z"
   },
   {
    "duration": 14,
    "start_time": "2022-03-23T20:24:24.812Z"
   },
   {
    "duration": 14,
    "start_time": "2022-03-23T20:24:31.499Z"
   },
   {
    "duration": 15,
    "start_time": "2022-03-23T20:24:43.339Z"
   },
   {
    "duration": 17,
    "start_time": "2022-03-23T20:24:45.861Z"
   },
   {
    "duration": 19,
    "start_time": "2022-03-23T20:26:09.123Z"
   },
   {
    "duration": 8,
    "start_time": "2022-03-23T20:26:31.043Z"
   },
   {
    "duration": 8,
    "start_time": "2022-03-23T20:27:39.092Z"
   },
   {
    "duration": 10,
    "start_time": "2022-03-23T20:29:06.891Z"
   },
   {
    "duration": 10,
    "start_time": "2022-03-23T20:29:27.437Z"
   },
   {
    "duration": 8,
    "start_time": "2022-03-23T20:29:48.021Z"
   },
   {
    "duration": 8,
    "start_time": "2022-03-23T20:29:59.372Z"
   },
   {
    "duration": 17,
    "start_time": "2022-03-23T20:30:40.586Z"
   },
   {
    "duration": 19,
    "start_time": "2022-03-23T20:31:09.118Z"
   },
   {
    "duration": 22,
    "start_time": "2022-03-23T20:32:06.167Z"
   },
   {
    "duration": 14,
    "start_time": "2022-03-23T20:32:45.941Z"
   },
   {
    "duration": 10,
    "start_time": "2022-03-23T20:58:24.156Z"
   },
   {
    "duration": 43,
    "start_time": "2022-03-23T20:58:30.899Z"
   },
   {
    "duration": 5,
    "start_time": "2022-03-23T21:02:37.683Z"
   },
   {
    "duration": 6,
    "start_time": "2022-03-23T21:02:40.139Z"
   },
   {
    "duration": 41,
    "start_time": "2022-03-23T21:04:26.541Z"
   },
   {
    "duration": 40,
    "start_time": "2022-03-23T21:04:39.658Z"
   },
   {
    "duration": 123,
    "start_time": "2022-03-23T21:11:01.632Z"
   },
   {
    "duration": 114,
    "start_time": "2022-03-23T21:16:26.341Z"
   },
   {
    "duration": 123,
    "start_time": "2022-03-23T21:16:48.083Z"
   },
   {
    "duration": 149,
    "start_time": "2022-03-23T21:17:13.998Z"
   },
   {
    "duration": 99099,
    "start_time": "2022-03-24T11:44:25.763Z"
   },
   {
    "duration": 464,
    "start_time": "2022-03-24T11:46:04.864Z"
   },
   {
    "duration": 16,
    "start_time": "2022-03-24T11:46:12.014Z"
   },
   {
    "duration": 19,
    "start_time": "2022-03-24T11:46:18.523Z"
   },
   {
    "duration": 12,
    "start_time": "2022-03-24T11:46:20.613Z"
   },
   {
    "duration": 11,
    "start_time": "2022-03-24T11:46:22.170Z"
   },
   {
    "duration": 11,
    "start_time": "2022-03-24T11:46:24.156Z"
   },
   {
    "duration": 10,
    "start_time": "2022-03-24T11:46:25.131Z"
   },
   {
    "duration": 99355,
    "start_time": "2022-03-24T11:46:38.794Z"
   },
   {
    "duration": 0,
    "start_time": "2022-03-24T11:48:18.175Z"
   },
   {
    "duration": 0,
    "start_time": "2022-03-24T11:48:18.179Z"
   },
   {
    "duration": 0,
    "start_time": "2022-03-24T11:48:18.181Z"
   },
   {
    "duration": 0,
    "start_time": "2022-03-24T11:48:18.183Z"
   },
   {
    "duration": 0,
    "start_time": "2022-03-24T11:48:18.184Z"
   },
   {
    "duration": 0,
    "start_time": "2022-03-24T11:48:18.185Z"
   },
   {
    "duration": 0,
    "start_time": "2022-03-24T11:48:18.187Z"
   },
   {
    "duration": 0,
    "start_time": "2022-03-24T11:48:18.188Z"
   },
   {
    "duration": 0,
    "start_time": "2022-03-24T11:48:18.189Z"
   },
   {
    "duration": 0,
    "start_time": "2022-03-24T11:48:18.190Z"
   },
   {
    "duration": 0,
    "start_time": "2022-03-24T11:48:18.192Z"
   },
   {
    "duration": 0,
    "start_time": "2022-03-24T11:48:18.193Z"
   },
   {
    "duration": 0,
    "start_time": "2022-03-24T11:48:18.194Z"
   },
   {
    "duration": 0,
    "start_time": "2022-03-24T11:48:18.196Z"
   },
   {
    "duration": 0,
    "start_time": "2022-03-24T11:48:18.197Z"
   },
   {
    "duration": 0,
    "start_time": "2022-03-24T11:48:18.198Z"
   },
   {
    "duration": 0,
    "start_time": "2022-03-24T11:48:18.234Z"
   },
   {
    "duration": 0,
    "start_time": "2022-03-24T11:48:18.236Z"
   },
   {
    "duration": 0,
    "start_time": "2022-03-24T11:48:18.237Z"
   },
   {
    "duration": 0,
    "start_time": "2022-03-24T11:48:18.238Z"
   },
   {
    "duration": 0,
    "start_time": "2022-03-24T11:48:18.238Z"
   },
   {
    "duration": 0,
    "start_time": "2022-03-24T11:48:18.239Z"
   },
   {
    "duration": 0,
    "start_time": "2022-03-24T11:48:18.240Z"
   },
   {
    "duration": 0,
    "start_time": "2022-03-24T11:48:18.240Z"
   },
   {
    "duration": 64843,
    "start_time": "2022-03-24T12:24:20.456Z"
   },
   {
    "duration": 1092,
    "start_time": "2022-03-24T12:25:25.301Z"
   },
   {
    "duration": 23,
    "start_time": "2022-03-24T12:25:26.395Z"
   },
   {
    "duration": 25,
    "start_time": "2022-03-24T12:25:26.420Z"
   },
   {
    "duration": 28,
    "start_time": "2022-03-24T12:25:26.447Z"
   },
   {
    "duration": 17,
    "start_time": "2022-03-24T12:25:26.477Z"
   },
   {
    "duration": 14,
    "start_time": "2022-03-24T12:25:26.495Z"
   },
   {
    "duration": 25,
    "start_time": "2022-03-24T12:25:26.510Z"
   },
   {
    "duration": 17,
    "start_time": "2022-03-24T12:25:26.538Z"
   },
   {
    "duration": 18,
    "start_time": "2022-03-24T12:25:26.632Z"
   },
   {
    "duration": 19,
    "start_time": "2022-03-24T12:25:26.792Z"
   },
   {
    "duration": 29,
    "start_time": "2022-03-24T12:25:26.954Z"
   },
   {
    "duration": 9,
    "start_time": "2022-03-24T12:25:27.142Z"
   },
   {
    "duration": 9,
    "start_time": "2022-03-24T12:25:32.248Z"
   },
   {
    "duration": 21,
    "start_time": "2022-03-24T12:25:33.033Z"
   },
   {
    "duration": 7,
    "start_time": "2022-03-24T12:25:33.553Z"
   },
   {
    "duration": 28,
    "start_time": "2022-03-24T12:25:34.246Z"
   },
   {
    "duration": 10,
    "start_time": "2022-03-24T12:25:34.888Z"
   },
   {
    "duration": 8,
    "start_time": "2022-03-24T12:25:35.563Z"
   },
   {
    "duration": 9,
    "start_time": "2022-03-24T12:25:35.992Z"
   },
   {
    "duration": 14,
    "start_time": "2022-03-24T12:25:36.704Z"
   },
   {
    "duration": 44,
    "start_time": "2022-03-24T12:25:38.500Z"
   },
   {
    "duration": 6,
    "start_time": "2022-03-24T12:25:41.071Z"
   },
   {
    "duration": 40,
    "start_time": "2022-03-24T12:25:43.040Z"
   },
   {
    "duration": 57,
    "start_time": "2022-03-24T12:25:44.368Z"
   },
   {
    "duration": 106,
    "start_time": "2022-03-24T12:33:52.911Z"
   },
   {
    "duration": 123,
    "start_time": "2022-03-24T12:34:15.004Z"
   },
   {
    "duration": 148,
    "start_time": "2022-03-24T12:35:03.554Z"
   },
   {
    "duration": 261,
    "start_time": "2022-03-24T12:37:44.716Z"
   },
   {
    "duration": 194,
    "start_time": "2022-03-24T12:38:08.600Z"
   },
   {
    "duration": 205,
    "start_time": "2022-03-24T12:38:25.929Z"
   },
   {
    "duration": 212,
    "start_time": "2022-03-24T12:40:03.049Z"
   },
   {
    "duration": 4,
    "start_time": "2022-03-24T12:41:05.200Z"
   },
   {
    "duration": 3,
    "start_time": "2022-03-24T12:46:31.115Z"
   },
   {
    "duration": 5,
    "start_time": "2022-03-24T12:46:46.850Z"
   },
   {
    "duration": 968,
    "start_time": "2022-03-24T13:57:45.780Z"
   },
   {
    "duration": 11,
    "start_time": "2022-03-24T13:58:38.479Z"
   },
   {
    "duration": 1157,
    "start_time": "2022-03-24T13:58:53.389Z"
   },
   {
    "duration": 130,
    "start_time": "2022-03-24T14:00:28.787Z"
   },
   {
    "duration": 1283,
    "start_time": "2022-03-24T14:01:24.340Z"
   },
   {
    "duration": 122,
    "start_time": "2022-03-24T14:03:23.399Z"
   },
   {
    "duration": 120,
    "start_time": "2022-03-24T14:03:48.279Z"
   },
   {
    "duration": 1476,
    "start_time": "2022-03-24T14:04:16.169Z"
   },
   {
    "duration": 116,
    "start_time": "2022-03-24T14:04:35.368Z"
   },
   {
    "duration": 114,
    "start_time": "2022-03-24T14:04:43.969Z"
   },
   {
    "duration": 101,
    "start_time": "2022-03-24T14:05:30.818Z"
   },
   {
    "duration": 100112,
    "start_time": "2022-03-24T14:06:19.397Z"
   },
   {
    "duration": 0,
    "start_time": "2022-03-24T14:07:59.665Z"
   },
   {
    "duration": 96,
    "start_time": "2022-03-24T14:08:19.690Z"
   },
   {
    "duration": 18425,
    "start_time": "2022-03-24T14:09:10.879Z"
   },
   {
    "duration": 105,
    "start_time": "2022-03-24T14:09:37.079Z"
   },
   {
    "duration": 85366,
    "start_time": "2022-03-24T14:11:40.991Z"
   },
   {
    "duration": 17381,
    "start_time": "2022-03-24T14:13:06.359Z"
   },
   {
    "duration": 33007,
    "start_time": "2022-03-24T14:13:23.743Z"
   },
   {
    "duration": 6,
    "start_time": "2022-03-24T14:13:56.753Z"
   },
   {
    "duration": 35,
    "start_time": "2022-03-24T14:13:56.761Z"
   },
   {
    "duration": 17,
    "start_time": "2022-03-24T14:13:56.798Z"
   },
   {
    "duration": 14,
    "start_time": "2022-03-24T14:13:56.817Z"
   },
   {
    "duration": 173,
    "start_time": "2022-03-24T14:13:56.833Z"
   },
   {
    "duration": 13,
    "start_time": "2022-03-24T14:13:57.008Z"
   },
   {
    "duration": 18,
    "start_time": "2022-03-24T14:13:57.034Z"
   },
   {
    "duration": 44,
    "start_time": "2022-03-24T14:13:57.053Z"
   },
   {
    "duration": 18,
    "start_time": "2022-03-24T14:14:17.260Z"
   },
   {
    "duration": 15,
    "start_time": "2022-03-24T14:14:18.331Z"
   },
   {
    "duration": 17,
    "start_time": "2022-03-24T14:14:19.200Z"
   },
   {
    "duration": 8,
    "start_time": "2022-03-24T14:14:19.690Z"
   },
   {
    "duration": 8,
    "start_time": "2022-03-24T14:14:20.153Z"
   },
   {
    "duration": 15,
    "start_time": "2022-03-24T14:14:20.519Z"
   },
   {
    "duration": 8,
    "start_time": "2022-03-24T14:14:20.689Z"
   },
   {
    "duration": 16,
    "start_time": "2022-03-24T14:14:20.869Z"
   },
   {
    "duration": 7,
    "start_time": "2022-03-24T14:14:21.047Z"
   },
   {
    "duration": 10,
    "start_time": "2022-03-24T14:14:21.526Z"
   },
   {
    "duration": 9,
    "start_time": "2022-03-24T14:14:21.699Z"
   },
   {
    "duration": 18,
    "start_time": "2022-03-24T14:14:21.859Z"
   },
   {
    "duration": 44,
    "start_time": "2022-03-24T14:14:23.109Z"
   },
   {
    "duration": 5,
    "start_time": "2022-03-24T14:14:24.540Z"
   },
   {
    "duration": 42,
    "start_time": "2022-03-24T14:14:25.320Z"
   },
   {
    "duration": 41,
    "start_time": "2022-03-24T14:14:26.108Z"
   },
   {
    "duration": 200,
    "start_time": "2022-03-24T14:14:29.110Z"
   },
   {
    "duration": 4,
    "start_time": "2022-03-24T14:14:32.370Z"
   },
   {
    "duration": 3,
    "start_time": "2022-03-24T14:14:33.290Z"
   },
   {
    "duration": 4,
    "start_time": "2022-03-24T14:14:37.310Z"
   },
   {
    "duration": 98,
    "start_time": "2022-03-24T14:14:44.390Z"
   },
   {
    "duration": 97,
    "start_time": "2022-03-24T14:18:22.349Z"
   },
   {
    "duration": 95,
    "start_time": "2022-03-24T14:18:34.808Z"
   },
   {
    "duration": 4149,
    "start_time": "2022-03-24T14:19:07.088Z"
   },
   {
    "duration": 1185,
    "start_time": "2022-03-24T14:19:29.998Z"
   },
   {
    "duration": 131,
    "start_time": "2022-03-24T14:19:53.778Z"
   },
   {
    "duration": 169,
    "start_time": "2022-03-24T14:20:00.030Z"
   },
   {
    "duration": 1291,
    "start_time": "2022-03-24T14:20:07.269Z"
   },
   {
    "duration": 114,
    "start_time": "2022-03-24T14:21:41.160Z"
   },
   {
    "duration": 1815,
    "start_time": "2022-03-24T14:23:45.930Z"
   },
   {
    "duration": 1318,
    "start_time": "2022-03-24T14:24:13.439Z"
   },
   {
    "duration": 1444,
    "start_time": "2022-03-24T14:25:40.560Z"
   },
   {
    "duration": 1484,
    "start_time": "2022-03-24T14:25:58.939Z"
   },
   {
    "duration": 1282,
    "start_time": "2022-03-24T14:26:25.590Z"
   },
   {
    "duration": 1655,
    "start_time": "2022-03-24T14:27:15.100Z"
   },
   {
    "duration": 1187,
    "start_time": "2022-03-24T14:35:59.385Z"
   },
   {
    "duration": 1455,
    "start_time": "2022-03-24T14:36:37.240Z"
   },
   {
    "duration": 1570,
    "start_time": "2022-03-24T14:37:00.981Z"
   },
   {
    "duration": 1256,
    "start_time": "2022-03-24T14:39:23.180Z"
   },
   {
    "duration": 16,
    "start_time": "2022-03-24T14:44:48.219Z"
   },
   {
    "duration": 4,
    "start_time": "2022-03-24T14:45:10.400Z"
   },
   {
    "duration": 12,
    "start_time": "2022-03-24T14:45:16.701Z"
   },
   {
    "duration": 13,
    "start_time": "2022-03-24T14:45:33.749Z"
   },
   {
    "duration": 349,
    "start_time": "2022-03-24T14:56:50.950Z"
   },
   {
    "duration": 5,
    "start_time": "2022-03-24T14:59:24.199Z"
   },
   {
    "duration": 16,
    "start_time": "2022-03-24T14:59:24.969Z"
   },
   {
    "duration": 4,
    "start_time": "2022-03-24T15:00:25.260Z"
   },
   {
    "duration": 5,
    "start_time": "2022-03-24T15:01:02.477Z"
   },
   {
    "duration": 9,
    "start_time": "2022-03-24T15:02:04.430Z"
   },
   {
    "duration": 3,
    "start_time": "2022-03-24T15:03:42.910Z"
   },
   {
    "duration": 5,
    "start_time": "2022-03-24T15:10:18.418Z"
   },
   {
    "duration": 9,
    "start_time": "2022-03-24T15:10:20.670Z"
   },
   {
    "duration": 22,
    "start_time": "2022-03-24T15:10:22.799Z"
   },
   {
    "duration": 3,
    "start_time": "2022-03-24T15:11:42.219Z"
   },
   {
    "duration": 3,
    "start_time": "2022-03-24T15:12:33.650Z"
   },
   {
    "duration": 3,
    "start_time": "2022-03-24T15:12:49.060Z"
   },
   {
    "duration": 125,
    "start_time": "2022-03-24T15:13:12.158Z"
   },
   {
    "duration": 4,
    "start_time": "2022-03-24T15:14:55.908Z"
   },
   {
    "duration": 130,
    "start_time": "2022-03-24T15:14:56.209Z"
   },
   {
    "duration": 3,
    "start_time": "2022-03-24T15:16:46.801Z"
   },
   {
    "duration": 4,
    "start_time": "2022-03-24T15:16:48.390Z"
   },
   {
    "duration": 6,
    "start_time": "2022-03-24T15:16:48.999Z"
   },
   {
    "duration": 8,
    "start_time": "2022-03-24T15:16:49.459Z"
   },
   {
    "duration": 2,
    "start_time": "2022-03-24T15:16:50.648Z"
   },
   {
    "duration": 3,
    "start_time": "2022-03-24T15:16:51.590Z"
   },
   {
    "duration": 4,
    "start_time": "2022-03-24T15:16:52.388Z"
   },
   {
    "duration": 137,
    "start_time": "2022-03-24T15:16:53.029Z"
   },
   {
    "duration": 7,
    "start_time": "2022-03-24T15:18:36.110Z"
   },
   {
    "duration": 7,
    "start_time": "2022-03-24T15:19:22.089Z"
   },
   {
    "duration": 8,
    "start_time": "2022-03-24T15:19:26.129Z"
   },
   {
    "duration": 14,
    "start_time": "2022-03-24T15:19:29.279Z"
   },
   {
    "duration": 3,
    "start_time": "2022-03-24T15:19:34.746Z"
   },
   {
    "duration": 5,
    "start_time": "2022-03-24T15:19:35.698Z"
   },
   {
    "duration": 5,
    "start_time": "2022-03-24T15:19:36.499Z"
   },
   {
    "duration": 9,
    "start_time": "2022-03-24T15:19:36.910Z"
   },
   {
    "duration": 3,
    "start_time": "2022-03-24T15:19:37.858Z"
   },
   {
    "duration": 3,
    "start_time": "2022-03-24T15:19:38.730Z"
   },
   {
    "duration": 4,
    "start_time": "2022-03-24T15:19:39.180Z"
   },
   {
    "duration": 6459,
    "start_time": "2022-03-24T15:19:40.490Z"
   },
   {
    "duration": 3,
    "start_time": "2022-03-24T15:28:29.380Z"
   },
   {
    "duration": 4,
    "start_time": "2022-03-24T15:41:12.501Z"
   },
   {
    "duration": 6,
    "start_time": "2022-03-24T15:41:20.080Z"
   },
   {
    "duration": 9,
    "start_time": "2022-03-24T15:42:20.942Z"
   },
   {
    "duration": 3,
    "start_time": "2022-03-24T15:42:22.672Z"
   },
   {
    "duration": 4,
    "start_time": "2022-03-24T15:43:00.182Z"
   },
   {
    "duration": 5,
    "start_time": "2022-03-24T15:43:02.072Z"
   },
   {
    "duration": 9,
    "start_time": "2022-03-24T15:43:39.492Z"
   },
   {
    "duration": 3,
    "start_time": "2022-03-24T15:43:52.491Z"
   },
   {
    "duration": 3,
    "start_time": "2022-03-24T15:44:31.792Z"
   },
   {
    "duration": 3,
    "start_time": "2022-03-24T15:44:32.952Z"
   },
   {
    "duration": 9,
    "start_time": "2022-03-24T15:45:31.701Z"
   },
   {
    "duration": 3,
    "start_time": "2022-03-24T15:45:55.776Z"
   },
   {
    "duration": 8,
    "start_time": "2022-03-24T15:46:07.231Z"
   },
   {
    "duration": 2,
    "start_time": "2022-03-24T15:48:06.293Z"
   },
   {
    "duration": 12,
    "start_time": "2022-03-24T15:48:10.382Z"
   },
   {
    "duration": 5,
    "start_time": "2022-03-24T15:49:34.850Z"
   },
   {
    "duration": 6,
    "start_time": "2022-03-24T15:49:37.210Z"
   },
   {
    "duration": 13,
    "start_time": "2022-03-24T15:49:37.822Z"
   },
   {
    "duration": 8,
    "start_time": "2022-03-24T15:49:57.522Z"
   },
   {
    "duration": 11,
    "start_time": "2022-03-24T15:49:58.413Z"
   },
   {
    "duration": 11,
    "start_time": "2022-03-24T15:50:27.792Z"
   },
   {
    "duration": 11,
    "start_time": "2022-03-24T15:51:04.712Z"
   },
   {
    "duration": 5,
    "start_time": "2022-03-24T15:51:27.179Z"
   },
   {
    "duration": 5,
    "start_time": "2022-03-24T15:51:31.542Z"
   },
   {
    "duration": 3,
    "start_time": "2022-03-24T15:51:41.666Z"
   },
   {
    "duration": 3,
    "start_time": "2022-03-24T15:51:50.074Z"
   },
   {
    "duration": 3854,
    "start_time": "2022-03-24T15:51:57.279Z"
   },
   {
    "duration": 6,
    "start_time": "2022-03-24T15:52:18.032Z"
   },
   {
    "duration": 5,
    "start_time": "2022-03-24T15:52:25.861Z"
   },
   {
    "duration": 18,
    "start_time": "2022-03-24T15:52:34.352Z"
   },
   {
    "duration": 3,
    "start_time": "2022-03-24T15:52:40.571Z"
   },
   {
    "duration": 4,
    "start_time": "2022-03-24T15:52:42.361Z"
   },
   {
    "duration": 6,
    "start_time": "2022-03-24T15:52:42.531Z"
   },
   {
    "duration": 3,
    "start_time": "2022-03-24T15:52:42.701Z"
   },
   {
    "duration": 3686,
    "start_time": "2022-03-24T15:52:42.851Z"
   },
   {
    "duration": 97,
    "start_time": "2022-03-24T15:52:46.540Z"
   },
   {
    "duration": 4,
    "start_time": "2022-03-24T15:52:48.393Z"
   },
   {
    "duration": 18,
    "start_time": "2022-03-24T15:52:48.995Z"
   },
   {
    "duration": 4033,
    "start_time": "2022-03-24T15:53:45.400Z"
   },
   {
    "duration": 5,
    "start_time": "2022-03-24T15:54:13.030Z"
   },
   {
    "duration": 4,
    "start_time": "2022-03-24T15:54:13.863Z"
   },
   {
    "duration": 15,
    "start_time": "2022-03-24T15:54:17.403Z"
   },
   {
    "duration": 49149,
    "start_time": "2022-03-24T15:54:48.692Z"
   },
   {
    "duration": 32970,
    "start_time": "2022-03-24T15:55:37.844Z"
   },
   {
    "duration": 17380,
    "start_time": "2022-03-24T15:56:10.816Z"
   },
   {
    "duration": 3,
    "start_time": "2022-03-24T15:56:28.198Z"
   },
   {
    "duration": 17,
    "start_time": "2022-03-24T15:56:36.965Z"
   },
   {
    "duration": 17,
    "start_time": "2022-03-24T15:56:37.793Z"
   },
   {
    "duration": 16,
    "start_time": "2022-03-24T15:56:38.273Z"
   },
   {
    "duration": 20,
    "start_time": "2022-03-24T15:56:39.091Z"
   },
   {
    "duration": 15,
    "start_time": "2022-03-24T15:56:39.873Z"
   },
   {
    "duration": 14,
    "start_time": "2022-03-24T15:56:41.185Z"
   },
   {
    "duration": 13,
    "start_time": "2022-03-24T15:56:41.330Z"
   },
   {
    "duration": 13,
    "start_time": "2022-03-24T15:56:41.479Z"
   },
   {
    "duration": 15,
    "start_time": "2022-03-24T15:56:41.642Z"
   },
   {
    "duration": 18,
    "start_time": "2022-03-24T15:56:41.798Z"
   },
   {
    "duration": 10,
    "start_time": "2022-03-24T15:56:41.961Z"
   },
   {
    "duration": 8,
    "start_time": "2022-03-24T15:56:42.121Z"
   },
   {
    "duration": 15,
    "start_time": "2022-03-24T15:56:42.272Z"
   },
   {
    "duration": 8,
    "start_time": "2022-03-24T15:56:42.441Z"
   },
   {
    "duration": 18,
    "start_time": "2022-03-24T15:56:42.651Z"
   },
   {
    "duration": 11,
    "start_time": "2022-03-24T15:56:42.782Z"
   },
   {
    "duration": 9,
    "start_time": "2022-03-24T15:56:42.952Z"
   },
   {
    "duration": 10,
    "start_time": "2022-03-24T15:56:43.130Z"
   },
   {
    "duration": 14,
    "start_time": "2022-03-24T15:56:43.291Z"
   },
   {
    "duration": 62,
    "start_time": "2022-03-24T15:56:43.833Z"
   },
   {
    "duration": 5,
    "start_time": "2022-03-24T15:56:44.782Z"
   },
   {
    "duration": 53,
    "start_time": "2022-03-24T15:56:44.931Z"
   },
   {
    "duration": 39,
    "start_time": "2022-03-24T15:56:45.251Z"
   },
   {
    "duration": 3,
    "start_time": "2022-03-24T15:56:46.592Z"
   },
   {
    "duration": 5,
    "start_time": "2022-03-24T15:56:47.141Z"
   },
   {
    "duration": 1788,
    "start_time": "2022-03-24T15:56:48.198Z"
   },
   {
    "duration": 1765,
    "start_time": "2022-03-24T15:56:49.988Z"
   },
   {
    "duration": 1371,
    "start_time": "2022-03-24T15:56:54.722Z"
   },
   {
    "duration": 1276,
    "start_time": "2022-03-24T15:56:58.243Z"
   },
   {
    "duration": 12,
    "start_time": "2022-03-24T15:57:07.041Z"
   },
   {
    "duration": 4,
    "start_time": "2022-03-24T15:57:18.350Z"
   },
   {
    "duration": 7,
    "start_time": "2022-03-24T15:57:19.254Z"
   },
   {
    "duration": 12,
    "start_time": "2022-03-24T15:57:20.292Z"
   },
   {
    "duration": 3,
    "start_time": "2022-03-24T15:57:21.176Z"
   },
   {
    "duration": 5,
    "start_time": "2022-03-24T15:57:24.142Z"
   },
   {
    "duration": 5,
    "start_time": "2022-03-24T15:57:25.023Z"
   },
   {
    "duration": 3,
    "start_time": "2022-03-24T15:57:25.792Z"
   },
   {
    "duration": 15,
    "start_time": "2022-03-24T15:57:26.719Z"
   },
   {
    "duration": 3,
    "start_time": "2022-03-24T15:58:24.602Z"
   },
   {
    "duration": 6,
    "start_time": "2022-03-24T15:58:26.553Z"
   },
   {
    "duration": 2,
    "start_time": "2022-03-24T15:58:28.702Z"
   },
   {
    "duration": 4059,
    "start_time": "2022-03-24T15:58:29.882Z"
   },
   {
    "duration": 4143,
    "start_time": "2022-03-24T15:58:47.595Z"
   },
   {
    "duration": 5,
    "start_time": "2022-03-24T15:58:55.002Z"
   },
   {
    "duration": 5,
    "start_time": "2022-03-24T15:58:57.061Z"
   },
   {
    "duration": 16,
    "start_time": "2022-03-24T15:58:58.181Z"
   },
   {
    "duration": 11,
    "start_time": "2022-03-24T16:03:52.853Z"
   },
   {
    "duration": 9,
    "start_time": "2022-03-24T16:04:30.744Z"
   },
   {
    "duration": 185,
    "start_time": "2022-03-24T16:05:21.323Z"
   },
   {
    "duration": 11,
    "start_time": "2022-03-24T16:05:28.762Z"
   },
   {
    "duration": 12,
    "start_time": "2022-03-24T16:05:59.423Z"
   },
   {
    "duration": 11,
    "start_time": "2022-03-24T16:06:19.934Z"
   },
   {
    "duration": 9,
    "start_time": "2022-03-24T16:06:29.783Z"
   },
   {
    "duration": 3,
    "start_time": "2022-03-24T16:08:49.951Z"
   },
   {
    "duration": 550,
    "start_time": "2022-03-24T16:09:06.683Z"
   },
   {
    "duration": 9,
    "start_time": "2022-03-24T16:09:27.694Z"
   },
   {
    "duration": 18,
    "start_time": "2022-03-24T16:09:48.403Z"
   },
   {
    "duration": 18,
    "start_time": "2022-03-24T16:10:12.223Z"
   },
   {
    "duration": 14,
    "start_time": "2022-03-24T16:10:40.074Z"
   },
   {
    "duration": 13,
    "start_time": "2022-03-24T16:11:07.343Z"
   },
   {
    "duration": 15,
    "start_time": "2022-03-24T16:13:55.346Z"
   },
   {
    "duration": 3,
    "start_time": "2022-03-24T16:16:18.264Z"
   },
   {
    "duration": 3,
    "start_time": "2022-03-24T16:16:25.484Z"
   },
   {
    "duration": 325,
    "start_time": "2022-03-24T16:16:27.394Z"
   },
   {
    "duration": 30,
    "start_time": "2022-03-24T16:16:30.264Z"
   },
   {
    "duration": 10,
    "start_time": "2022-03-24T16:17:05.924Z"
   },
   {
    "duration": 16,
    "start_time": "2022-03-24T16:17:19.983Z"
   },
   {
    "duration": 10,
    "start_time": "2022-03-24T16:17:48.532Z"
   },
   {
    "duration": 3,
    "start_time": "2022-03-24T16:43:11.315Z"
   },
   {
    "duration": 7,
    "start_time": "2022-03-24T16:44:33.529Z"
   },
   {
    "duration": 975,
    "start_time": "2022-03-24T16:45:06.219Z"
   },
   {
    "duration": 100752,
    "start_time": "2022-03-24T16:45:40.568Z"
   },
   {
    "duration": 11,
    "start_time": "2022-03-24T16:49:00.658Z"
   },
   {
    "duration": 19,
    "start_time": "2022-03-24T16:49:31.319Z"
   },
   {
    "duration": 1458,
    "start_time": "2022-03-24T16:49:32.778Z"
   },
   {
    "duration": 4,
    "start_time": "2022-03-24T16:53:03.307Z"
   },
   {
    "duration": 12,
    "start_time": "2022-03-24T16:53:13.317Z"
   },
   {
    "duration": 4,
    "start_time": "2022-03-24T16:54:52.071Z"
   },
   {
    "duration": 5,
    "start_time": "2022-03-24T16:56:51.840Z"
   },
   {
    "duration": 11,
    "start_time": "2022-03-24T16:58:20.749Z"
   },
   {
    "duration": 375,
    "start_time": "2022-03-24T16:58:30.329Z"
   },
   {
    "duration": 375,
    "start_time": "2022-03-24T16:58:55.809Z"
   },
   {
    "duration": 400,
    "start_time": "2022-03-24T16:59:27.958Z"
   },
   {
    "duration": 577,
    "start_time": "2022-03-24T17:02:06.173Z"
   },
   {
    "duration": 401,
    "start_time": "2022-03-24T17:02:50.569Z"
   },
   {
    "duration": 342,
    "start_time": "2022-03-24T17:04:07.258Z"
   },
   {
    "duration": 362,
    "start_time": "2022-03-24T17:05:40.002Z"
   },
   {
    "duration": 423,
    "start_time": "2022-03-24T17:06:03.442Z"
   },
   {
    "duration": 368,
    "start_time": "2022-03-24T17:06:40.138Z"
   },
   {
    "duration": 2831,
    "start_time": "2022-03-24T19:11:54.972Z"
   },
   {
    "duration": 2713,
    "start_time": "2022-03-24T19:11:57.806Z"
   },
   {
    "duration": 2307,
    "start_time": "2022-03-24T19:12:00.521Z"
   },
   {
    "duration": 7844,
    "start_time": "2022-03-24T19:13:43.701Z"
   },
   {
    "duration": 1343,
    "start_time": "2022-03-24T19:14:24.650Z"
   },
   {
    "duration": 115,
    "start_time": "2022-03-24T19:14:33.802Z"
   },
   {
    "duration": 14,
    "start_time": "2022-03-24T19:14:35.064Z"
   },
   {
    "duration": 11,
    "start_time": "2022-03-24T19:14:35.823Z"
   },
   {
    "duration": 15,
    "start_time": "2022-03-24T19:14:36.133Z"
   },
   {
    "duration": 12,
    "start_time": "2022-03-24T19:14:36.464Z"
   },
   {
    "duration": 13,
    "start_time": "2022-03-24T19:14:36.662Z"
   },
   {
    "duration": 12,
    "start_time": "2022-03-24T19:14:36.817Z"
   },
   {
    "duration": 13,
    "start_time": "2022-03-24T19:14:37.501Z"
   },
   {
    "duration": 13,
    "start_time": "2022-03-24T19:14:37.622Z"
   },
   {
    "duration": 15,
    "start_time": "2022-03-24T19:14:37.766Z"
   },
   {
    "duration": 8,
    "start_time": "2022-03-24T19:14:37.918Z"
   },
   {
    "duration": 7,
    "start_time": "2022-03-24T19:14:38.120Z"
   },
   {
    "duration": 15,
    "start_time": "2022-03-24T19:14:38.873Z"
   },
   {
    "duration": 7,
    "start_time": "2022-03-24T19:14:38.990Z"
   },
   {
    "duration": 15,
    "start_time": "2022-03-24T19:14:39.152Z"
   },
   {
    "duration": 7,
    "start_time": "2022-03-24T19:14:39.310Z"
   },
   {
    "duration": 7,
    "start_time": "2022-03-24T19:14:39.473Z"
   },
   {
    "duration": 6,
    "start_time": "2022-03-24T19:14:39.633Z"
   },
   {
    "duration": 12,
    "start_time": "2022-03-24T19:14:39.777Z"
   },
   {
    "duration": 40,
    "start_time": "2022-03-24T19:14:40.282Z"
   },
   {
    "duration": 5,
    "start_time": "2022-03-24T19:14:40.782Z"
   },
   {
    "duration": 40,
    "start_time": "2022-03-24T19:14:40.951Z"
   },
   {
    "duration": 38,
    "start_time": "2022-03-24T19:14:41.493Z"
   },
   {
    "duration": 2,
    "start_time": "2022-03-24T19:14:42.024Z"
   },
   {
    "duration": 4,
    "start_time": "2022-03-24T19:14:42.382Z"
   },
   {
    "duration": 1210,
    "start_time": "2022-03-24T19:14:42.543Z"
   },
   {
    "duration": 1301,
    "start_time": "2022-03-24T19:14:43.755Z"
   },
   {
    "duration": 1313,
    "start_time": "2022-03-24T19:14:45.058Z"
   },
   {
    "duration": 1283,
    "start_time": "2022-03-24T19:14:46.381Z"
   },
   {
    "duration": 10,
    "start_time": "2022-03-24T19:14:53.611Z"
   },
   {
    "duration": 391,
    "start_time": "2022-03-24T19:14:53.911Z"
   },
   {
    "duration": 3,
    "start_time": "2022-03-24T19:14:54.304Z"
   },
   {
    "duration": 5,
    "start_time": "2022-03-24T19:14:54.553Z"
   },
   {
    "duration": 2,
    "start_time": "2022-03-24T19:14:54.713Z"
   },
   {
    "duration": 2588,
    "start_time": "2022-03-24T19:14:55.593Z"
   },
   {
    "duration": 5,
    "start_time": "2022-03-24T19:15:03.461Z"
   },
   {
    "duration": 5,
    "start_time": "2022-03-24T19:15:03.852Z"
   },
   {
    "duration": 9,
    "start_time": "2022-03-24T19:15:04.493Z"
   },
   {
    "duration": 3,
    "start_time": "2022-03-24T19:15:05.871Z"
   },
   {
    "duration": 321,
    "start_time": "2022-03-24T19:15:06.332Z"
   },
   {
    "duration": 31,
    "start_time": "2022-03-24T19:15:06.822Z"
   },
   {
    "duration": 9,
    "start_time": "2022-03-24T19:15:07.252Z"
   },
   {
    "duration": 3,
    "start_time": "2022-03-24T19:15:31.138Z"
   },
   {
    "duration": 7,
    "start_time": "2022-03-24T19:15:32.052Z"
   },
   {
    "duration": 466,
    "start_time": "2022-03-24T19:15:32.821Z"
   },
   {
    "duration": 97134,
    "start_time": "2022-03-24T19:15:33.532Z"
   },
   {
    "duration": 26,
    "start_time": "2022-03-24T19:17:10.668Z"
   },
   {
    "duration": 1391,
    "start_time": "2022-03-24T19:18:06.693Z"
   },
   {
    "duration": 5,
    "start_time": "2022-03-24T19:18:09.954Z"
   },
   {
    "duration": 15,
    "start_time": "2022-03-24T19:18:14.783Z"
   },
   {
    "duration": 4,
    "start_time": "2022-03-24T19:18:36.634Z"
   },
   {
    "duration": 6,
    "start_time": "2022-03-24T19:19:11.422Z"
   },
   {
    "duration": 5,
    "start_time": "2022-03-24T19:19:39.412Z"
   },
   {
    "duration": 3,
    "start_time": "2022-03-24T19:19:45.882Z"
   },
   {
    "duration": 3,
    "start_time": "2022-03-24T19:20:26.724Z"
   },
   {
    "duration": 659,
    "start_time": "2022-03-24T19:20:31.184Z"
   },
   {
    "duration": 512,
    "start_time": "2022-03-24T19:21:22.303Z"
   },
   {
    "duration": 544,
    "start_time": "2022-03-24T19:21:52.953Z"
   },
   {
    "duration": 512,
    "start_time": "2022-03-24T19:22:25.035Z"
   },
   {
    "duration": 104,
    "start_time": "2022-03-24T19:22:46.893Z"
   },
   {
    "duration": 17,
    "start_time": "2022-03-24T19:23:01.544Z"
   },
   {
    "duration": 6,
    "start_time": "2022-03-24T19:24:49.661Z"
   },
   {
    "duration": 538,
    "start_time": "2022-03-24T19:27:03.891Z"
   },
   {
    "duration": 552,
    "start_time": "2022-03-24T19:27:21.591Z"
   },
   {
    "duration": 9,
    "start_time": "2022-03-24T19:28:28.063Z"
   },
   {
    "duration": 2603,
    "start_time": "2022-03-25T06:19:01.067Z"
   },
   {
    "duration": 54857,
    "start_time": "2022-03-25T06:19:06.230Z"
   },
   {
    "duration": 1363,
    "start_time": "2022-03-25T06:20:08.418Z"
   },
   {
    "duration": 22,
    "start_time": "2022-03-25T06:20:11.770Z"
   },
   {
    "duration": 18,
    "start_time": "2022-03-25T06:20:12.979Z"
   },
   {
    "duration": 13,
    "start_time": "2022-03-25T06:20:17.660Z"
   },
   {
    "duration": 16,
    "start_time": "2022-03-25T06:20:19.798Z"
   },
   {
    "duration": 15,
    "start_time": "2022-03-25T06:20:23.299Z"
   },
   {
    "duration": 13,
    "start_time": "2022-03-25T06:20:25.711Z"
   },
   {
    "duration": 14,
    "start_time": "2022-03-25T06:20:26.490Z"
   },
   {
    "duration": 15,
    "start_time": "2022-03-25T06:20:28.381Z"
   },
   {
    "duration": 15,
    "start_time": "2022-03-25T06:20:30.471Z"
   },
   {
    "duration": 17,
    "start_time": "2022-03-25T06:20:31.870Z"
   },
   {
    "duration": 8,
    "start_time": "2022-03-25T06:20:33.070Z"
   },
   {
    "duration": 7,
    "start_time": "2022-03-25T06:20:34.310Z"
   },
   {
    "duration": 17,
    "start_time": "2022-03-25T06:20:35.290Z"
   },
   {
    "duration": 7,
    "start_time": "2022-03-25T06:20:36.051Z"
   },
   {
    "duration": 17,
    "start_time": "2022-03-25T06:20:36.629Z"
   },
   {
    "duration": 8,
    "start_time": "2022-03-25T06:20:37.320Z"
   },
   {
    "duration": 8,
    "start_time": "2022-03-25T06:20:37.780Z"
   },
   {
    "duration": 8,
    "start_time": "2022-03-25T06:20:38.450Z"
   },
   {
    "duration": 15,
    "start_time": "2022-03-25T06:20:39.089Z"
   },
   {
    "duration": 45,
    "start_time": "2022-03-25T06:20:46.270Z"
   },
   {
    "duration": 5,
    "start_time": "2022-03-25T06:21:16.549Z"
   },
   {
    "duration": 6,
    "start_time": "2022-03-25T06:23:58.589Z"
   },
   {
    "duration": 7,
    "start_time": "2022-03-25T06:24:24.911Z"
   },
   {
    "duration": 7,
    "start_time": "2022-03-25T06:24:50.689Z"
   },
   {
    "duration": 7,
    "start_time": "2022-03-25T06:25:37.217Z"
   },
   {
    "duration": 6,
    "start_time": "2022-03-25T06:28:05.350Z"
   },
   {
    "duration": 6,
    "start_time": "2022-03-25T06:28:58.376Z"
   },
   {
    "duration": 45,
    "start_time": "2022-03-25T06:30:32.467Z"
   },
   {
    "duration": 45,
    "start_time": "2022-03-25T06:30:33.449Z"
   },
   {
    "duration": 3,
    "start_time": "2022-03-25T06:30:35.050Z"
   },
   {
    "duration": 4,
    "start_time": "2022-03-25T06:30:35.797Z"
   },
   {
    "duration": 1532,
    "start_time": "2022-03-25T06:30:36.609Z"
   },
   {
    "duration": 1592,
    "start_time": "2022-03-25T06:30:38.143Z"
   },
   {
    "duration": 1504,
    "start_time": "2022-03-25T06:30:41.308Z"
   },
   {
    "duration": 1561,
    "start_time": "2022-03-25T06:30:45.379Z"
   },
   {
    "duration": 13,
    "start_time": "2022-03-25T06:30:52.009Z"
   },
   {
    "duration": 268,
    "start_time": "2022-03-25T06:30:55.540Z"
   },
   {
    "duration": 4,
    "start_time": "2022-03-25T06:31:25.710Z"
   },
   {
    "duration": 5,
    "start_time": "2022-03-25T06:31:30.677Z"
   },
   {
    "duration": 2,
    "start_time": "2022-03-25T06:31:33.009Z"
   },
   {
    "duration": 981,
    "start_time": "2022-03-25T06:31:39.130Z"
   },
   {
    "duration": 5,
    "start_time": "2022-03-25T06:31:43.779Z"
   },
   {
    "duration": 9,
    "start_time": "2022-03-25T06:31:44.829Z"
   },
   {
    "duration": 9,
    "start_time": "2022-03-25T06:31:46.440Z"
   },
   {
    "duration": 2,
    "start_time": "2022-03-25T06:31:55.320Z"
   },
   {
    "duration": 325,
    "start_time": "2022-03-25T06:31:59.168Z"
   },
   {
    "duration": 28,
    "start_time": "2022-03-25T06:32:05.577Z"
   },
   {
    "duration": 9,
    "start_time": "2022-03-25T06:32:08.059Z"
   },
   {
    "duration": 3,
    "start_time": "2022-03-25T06:33:01.210Z"
   },
   {
    "duration": 9,
    "start_time": "2022-03-25T06:33:02.865Z"
   },
   {
    "duration": 526,
    "start_time": "2022-03-25T06:33:15.540Z"
   },
   {
    "duration": 112431,
    "start_time": "2022-03-25T06:33:17.378Z"
   },
   {
    "duration": 19,
    "start_time": "2022-03-25T06:36:09.971Z"
   },
   {
    "duration": 1658,
    "start_time": "2022-03-25T06:36:30.351Z"
   },
   {
    "duration": 3,
    "start_time": "2022-03-25T06:36:40.091Z"
   },
   {
    "duration": 12,
    "start_time": "2022-03-25T06:36:40.851Z"
   },
   {
    "duration": 18,
    "start_time": "2022-03-25T06:37:39.162Z"
   },
   {
    "duration": 18,
    "start_time": "2022-03-25T06:38:28.661Z"
   },
   {
    "duration": 6,
    "start_time": "2022-03-25T06:38:31.951Z"
   },
   {
    "duration": 19,
    "start_time": "2022-03-25T06:40:54.610Z"
   },
   {
    "duration": 6,
    "start_time": "2022-03-25T06:43:12.252Z"
   },
   {
    "duration": 3,
    "start_time": "2022-03-25T06:43:26.741Z"
   },
   {
    "duration": 1172,
    "start_time": "2022-03-25T06:43:38.031Z"
   },
   {
    "duration": 598,
    "start_time": "2022-03-25T06:44:12.682Z"
   },
   {
    "duration": 696,
    "start_time": "2022-03-25T06:44:26.085Z"
   },
   {
    "duration": 547,
    "start_time": "2022-03-25T06:44:46.325Z"
   },
   {
    "duration": 4,
    "start_time": "2022-03-25T06:44:58.012Z"
   },
   {
    "duration": 566,
    "start_time": "2022-03-25T06:44:59.012Z"
   },
   {
    "duration": 561,
    "start_time": "2022-03-25T06:45:08.631Z"
   },
   {
    "duration": 617,
    "start_time": "2022-03-25T06:45:10.761Z"
   },
   {
    "duration": 584,
    "start_time": "2022-03-25T06:45:15.012Z"
   },
   {
    "duration": 13,
    "start_time": "2022-03-25T06:46:49.912Z"
   },
   {
    "duration": 12,
    "start_time": "2022-03-25T06:47:20.173Z"
   },
   {
    "duration": 3,
    "start_time": "2022-03-25T06:50:39.723Z"
   },
   {
    "duration": 9,
    "start_time": "2022-03-25T06:50:54.973Z"
   },
   {
    "duration": 6,
    "start_time": "2022-03-25T06:52:02.173Z"
   },
   {
    "duration": 10,
    "start_time": "2022-03-25T06:53:16.503Z"
   },
   {
    "duration": 4523,
    "start_time": "2022-03-25T08:45:15.304Z"
   },
   {
    "duration": 14348,
    "start_time": "2022-03-25T08:45:22.041Z"
   },
   {
    "duration": 2426,
    "start_time": "2022-03-25T08:53:32.140Z"
   },
   {
    "duration": 20,
    "start_time": "2022-03-25T08:53:38.547Z"
   },
   {
    "duration": 24,
    "start_time": "2022-03-25T08:53:43.827Z"
   },
   {
    "duration": 146,
    "start_time": "2022-03-25T08:54:38.558Z"
   },
   {
    "duration": 20,
    "start_time": "2022-03-25T08:54:47.909Z"
   },
   {
    "duration": 19,
    "start_time": "2022-03-25T08:54:50.619Z"
   },
   {
    "duration": 19,
    "start_time": "2022-03-25T08:55:39.304Z"
   },
   {
    "duration": 25,
    "start_time": "2022-03-25T08:59:55.720Z"
   },
   {
    "duration": 34,
    "start_time": "2022-03-25T09:02:01.552Z"
   },
   {
    "duration": 23,
    "start_time": "2022-03-25T09:10:06.371Z"
   },
   {
    "duration": 26,
    "start_time": "2022-03-25T09:14:28.000Z"
   },
   {
    "duration": 28,
    "start_time": "2022-03-25T09:16:05.592Z"
   },
   {
    "duration": 3812,
    "start_time": "2022-03-25T10:52:31.785Z"
   },
   {
    "duration": 16700,
    "start_time": "2022-03-25T10:52:43.094Z"
   },
   {
    "duration": 9,
    "start_time": "2022-03-25T10:53:01.392Z"
   },
   {
    "duration": 23,
    "start_time": "2022-03-25T10:53:04.414Z"
   },
   {
    "duration": 24,
    "start_time": "2022-03-25T10:53:04.743Z"
   },
   {
    "duration": 18,
    "start_time": "2022-03-25T10:53:05.874Z"
   },
   {
    "duration": 23,
    "start_time": "2022-03-25T10:53:07.423Z"
   },
   {
    "duration": 21,
    "start_time": "2022-03-25T10:53:08.345Z"
   },
   {
    "duration": 22,
    "start_time": "2022-03-25T10:53:09.265Z"
   },
   {
    "duration": 26,
    "start_time": "2022-03-25T10:53:11.825Z"
   },
   {
    "duration": 21,
    "start_time": "2022-03-25T10:53:13.394Z"
   },
   {
    "duration": 22,
    "start_time": "2022-03-25T10:53:21.626Z"
   },
   {
    "duration": 26,
    "start_time": "2022-03-25T10:56:36.585Z"
   },
   {
    "duration": 16,
    "start_time": "2022-03-25T10:59:18.106Z"
   },
   {
    "duration": 16,
    "start_time": "2022-03-25T11:01:15.866Z"
   },
   {
    "duration": 316,
    "start_time": "2022-03-25T11:02:48.344Z"
   },
   {
    "duration": 257,
    "start_time": "2022-03-25T11:03:02.618Z"
   },
   {
    "duration": 26,
    "start_time": "2022-03-25T11:05:21.894Z"
   },
   {
    "duration": 11,
    "start_time": "2022-03-25T11:07:36.556Z"
   },
   {
    "duration": 27,
    "start_time": "2022-03-25T11:07:38.145Z"
   },
   {
    "duration": 191,
    "start_time": "2022-03-25T11:10:28.193Z"
   },
   {
    "duration": 5,
    "start_time": "2022-03-25T11:27:04.025Z"
   },
   {
    "duration": 7,
    "start_time": "2022-03-25T11:27:19.095Z"
   },
   {
    "duration": 150,
    "start_time": "2022-03-25T11:35:25.764Z"
   },
   {
    "duration": 283,
    "start_time": "2022-03-25T11:35:41.575Z"
   },
   {
    "duration": 13,
    "start_time": "2022-03-25T11:35:59.553Z"
   },
   {
    "duration": 11,
    "start_time": "2022-03-25T11:39:08.886Z"
   },
   {
    "duration": 4,
    "start_time": "2022-03-25T11:39:14.266Z"
   },
   {
    "duration": 6,
    "start_time": "2022-03-25T11:39:15.646Z"
   },
   {
    "duration": 4,
    "start_time": "2022-03-25T11:43:43.853Z"
   },
   {
    "duration": 6,
    "start_time": "2022-03-25T11:43:45.750Z"
   },
   {
    "duration": 166,
    "start_time": "2022-03-25T11:43:48.337Z"
   },
   {
    "duration": 7,
    "start_time": "2022-03-25T11:44:21.384Z"
   },
   {
    "duration": 9,
    "start_time": "2022-03-25T11:44:21.755Z"
   },
   {
    "duration": 10,
    "start_time": "2022-03-25T11:44:22.584Z"
   },
   {
    "duration": 13,
    "start_time": "2022-03-25T11:44:23.102Z"
   },
   {
    "duration": 10,
    "start_time": "2022-03-25T11:44:23.445Z"
   },
   {
    "duration": 203,
    "start_time": "2022-03-25T11:44:24.165Z"
   },
   {
    "duration": 91,
    "start_time": "2022-03-25T11:44:25.616Z"
   },
   {
    "duration": 5,
    "start_time": "2022-03-25T11:44:28.016Z"
   },
   {
    "duration": 8,
    "start_time": "2022-03-25T11:44:28.434Z"
   },
   {
    "duration": 2741,
    "start_time": "2022-03-25T11:44:29.386Z"
   },
   {
    "duration": 3056,
    "start_time": "2022-03-25T11:44:32.131Z"
   },
   {
    "duration": 4311,
    "start_time": "2022-03-25T12:50:56.741Z"
   },
   {
    "duration": 11905,
    "start_time": "2022-03-25T12:51:01.055Z"
   },
   {
    "duration": 8,
    "start_time": "2022-03-25T12:51:12.963Z"
   },
   {
    "duration": 28,
    "start_time": "2022-03-25T12:51:17.949Z"
   },
   {
    "duration": 20,
    "start_time": "2022-03-25T12:51:18.168Z"
   },
   {
    "duration": 23,
    "start_time": "2022-03-25T12:51:18.728Z"
   },
   {
    "duration": 31,
    "start_time": "2022-03-25T12:51:19.319Z"
   },
   {
    "duration": 28,
    "start_time": "2022-03-25T12:51:19.650Z"
   },
   {
    "duration": 31,
    "start_time": "2022-03-25T12:51:20.026Z"
   },
   {
    "duration": 27,
    "start_time": "2022-03-25T12:51:20.400Z"
   },
   {
    "duration": 29,
    "start_time": "2022-03-25T12:51:20.780Z"
   },
   {
    "duration": 27,
    "start_time": "2022-03-25T12:51:21.141Z"
   },
   {
    "duration": 25,
    "start_time": "2022-03-25T12:51:21.501Z"
   },
   {
    "duration": 11,
    "start_time": "2022-03-25T12:51:22.112Z"
   },
   {
    "duration": 12,
    "start_time": "2022-03-25T12:51:23.480Z"
   },
   {
    "duration": 202,
    "start_time": "2022-03-25T12:51:23.680Z"
   },
   {
    "duration": 35,
    "start_time": "2022-03-25T12:51:24.341Z"
   },
   {
    "duration": 12,
    "start_time": "2022-03-25T12:51:24.490Z"
   },
   {
    "duration": 26,
    "start_time": "2022-03-25T12:51:24.896Z"
   },
   {
    "duration": 11,
    "start_time": "2022-03-25T12:51:26.496Z"
   },
   {
    "duration": 11,
    "start_time": "2022-03-25T12:51:27.200Z"
   },
   {
    "duration": 22,
    "start_time": "2022-03-25T12:51:27.419Z"
   },
   {
    "duration": 69,
    "start_time": "2022-03-25T12:51:30.749Z"
   },
   {
    "duration": 10,
    "start_time": "2022-03-25T12:51:33.448Z"
   },
   {
    "duration": 9,
    "start_time": "2022-03-25T12:51:33.849Z"
   },
   {
    "duration": 10,
    "start_time": "2022-03-25T12:51:35.552Z"
   },
   {
    "duration": 6,
    "start_time": "2022-03-25T12:53:46.021Z"
   },
   {
    "duration": 66,
    "start_time": "2022-03-25T13:03:03.559Z"
   },
   {
    "duration": 24,
    "start_time": "2022-03-25T13:04:21.972Z"
   },
   {
    "duration": 25,
    "start_time": "2022-03-25T13:05:06.960Z"
   },
   {
    "duration": 5,
    "start_time": "2022-03-25T13:17:35.001Z"
   },
   {
    "duration": 7,
    "start_time": "2022-03-25T13:17:35.800Z"
   },
   {
    "duration": 2555,
    "start_time": "2022-03-25T13:17:37.212Z"
   },
   {
    "duration": 2512,
    "start_time": "2022-03-25T13:35:50.932Z"
   },
   {
    "duration": 19,
    "start_time": "2022-03-25T13:42:47.140Z"
   },
   {
    "duration": 6,
    "start_time": "2022-03-25T13:42:47.891Z"
   },
   {
    "duration": 7,
    "start_time": "2022-03-25T13:42:48.727Z"
   },
   {
    "duration": 1112,
    "start_time": "2022-03-25T13:42:49.135Z"
   },
   {
    "duration": 841,
    "start_time": "2022-03-25T13:42:50.250Z"
   },
   {
    "duration": 101,
    "start_time": "2022-03-25T13:42:51.094Z"
   },
   {
    "duration": 106,
    "start_time": "2022-03-25T13:42:51.284Z"
   },
   {
    "duration": 103,
    "start_time": "2022-03-25T13:42:51.485Z"
   },
   {
    "duration": 4,
    "start_time": "2022-03-25T13:42:52.760Z"
   },
   {
    "duration": 442,
    "start_time": "2022-03-25T13:42:53.180Z"
   },
   {
    "duration": 36,
    "start_time": "2022-03-25T13:42:53.691Z"
   },
   {
    "duration": 14,
    "start_time": "2022-03-25T13:42:54.579Z"
   },
   {
    "duration": 3,
    "start_time": "2022-03-25T13:43:12.061Z"
   },
   {
    "duration": 453,
    "start_time": "2022-03-25T13:43:12.350Z"
   },
   {
    "duration": 35,
    "start_time": "2022-03-25T13:43:12.806Z"
   },
   {
    "duration": 14,
    "start_time": "2022-03-25T13:43:12.843Z"
   },
   {
    "duration": 13,
    "start_time": "2022-03-25T13:43:40.420Z"
   },
   {
    "duration": 5,
    "start_time": "2022-03-25T13:43:45.791Z"
   },
   {
    "duration": 467,
    "start_time": "2022-03-25T13:43:45.927Z"
   },
   {
    "duration": 36,
    "start_time": "2022-03-25T13:43:46.398Z"
   },
   {
    "duration": 17,
    "start_time": "2022-03-25T13:43:46.820Z"
   },
   {
    "duration": 6,
    "start_time": "2022-03-25T13:46:05.579Z"
   },
   {
    "duration": 9,
    "start_time": "2022-03-25T13:46:19.402Z"
   },
   {
    "duration": 739,
    "start_time": "2022-03-25T13:46:20.909Z"
   },
   {
    "duration": 156243,
    "start_time": "2022-03-25T13:46:26.439Z"
   },
   {
    "duration": 12483,
    "start_time": "2022-03-25T14:04:46.502Z"
   },
   {
    "duration": 6,
    "start_time": "2022-03-25T14:05:14.806Z"
   },
   {
    "duration": 4035,
    "start_time": "2022-03-25T14:05:18.006Z"
   },
   {
    "duration": 21,
    "start_time": "2022-03-25T14:05:22.045Z"
   },
   {
    "duration": 38,
    "start_time": "2022-03-25T14:05:22.069Z"
   },
   {
    "duration": 25,
    "start_time": "2022-03-25T14:05:22.112Z"
   },
   {
    "duration": 43,
    "start_time": "2022-03-25T14:05:22.139Z"
   },
   {
    "duration": 20,
    "start_time": "2022-03-25T14:05:22.185Z"
   },
   {
    "duration": 22,
    "start_time": "2022-03-25T14:05:26.254Z"
   },
   {
    "duration": 20,
    "start_time": "2022-03-25T14:05:26.595Z"
   },
   {
    "duration": 20,
    "start_time": "2022-03-25T14:05:26.974Z"
   },
   {
    "duration": 24,
    "start_time": "2022-03-25T14:05:27.497Z"
   },
   {
    "duration": 12,
    "start_time": "2022-03-25T14:05:27.846Z"
   },
   {
    "duration": 10,
    "start_time": "2022-03-25T14:05:28.378Z"
   },
   {
    "duration": 186,
    "start_time": "2022-03-25T14:05:28.588Z"
   },
   {
    "duration": 26,
    "start_time": "2022-03-25T14:05:28.927Z"
   },
   {
    "duration": 11,
    "start_time": "2022-03-25T14:05:29.126Z"
   },
   {
    "duration": 27,
    "start_time": "2022-03-25T14:05:29.506Z"
   },
   {
    "duration": 11,
    "start_time": "2022-03-25T14:05:29.648Z"
   },
   {
    "duration": 11,
    "start_time": "2022-03-25T14:05:30.059Z"
   },
   {
    "duration": 23,
    "start_time": "2022-03-25T14:05:30.267Z"
   },
   {
    "duration": 63,
    "start_time": "2022-03-25T14:05:31.455Z"
   },
   {
    "duration": 8,
    "start_time": "2022-03-25T14:05:32.278Z"
   },
   {
    "duration": 28,
    "start_time": "2022-03-25T14:05:32.455Z"
   },
   {
    "duration": 24,
    "start_time": "2022-03-25T14:05:32.654Z"
   },
   {
    "duration": 5,
    "start_time": "2022-03-25T14:05:33.496Z"
   },
   {
    "duration": 6,
    "start_time": "2022-03-25T14:05:33.739Z"
   },
   {
    "duration": 2630,
    "start_time": "2022-03-25T14:05:34.087Z"
   },
   {
    "duration": 2446,
    "start_time": "2022-03-25T14:05:36.720Z"
   },
   {
    "duration": 2580,
    "start_time": "2022-03-25T14:05:45.738Z"
   },
   {
    "duration": 18,
    "start_time": "2022-03-25T14:05:52.185Z"
   },
   {
    "duration": 6,
    "start_time": "2022-03-25T14:05:52.587Z"
   },
   {
    "duration": 9,
    "start_time": "2022-03-25T14:05:53.607Z"
   },
   {
    "duration": 4,
    "start_time": "2022-03-25T14:05:54.095Z"
   },
   {
    "duration": 475,
    "start_time": "2022-03-25T14:05:54.415Z"
   },
   {
    "duration": 9,
    "start_time": "2022-03-25T14:05:54.982Z"
   },
   {
    "duration": 11,
    "start_time": "2022-03-25T14:05:57.847Z"
   },
   {
    "duration": 13,
    "start_time": "2022-03-25T14:05:58.015Z"
   },
   {
    "duration": 4,
    "start_time": "2022-03-25T14:05:59.827Z"
   },
   {
    "duration": 448,
    "start_time": "2022-03-25T14:06:00.007Z"
   },
   {
    "duration": 51,
    "start_time": "2022-03-25T14:06:00.458Z"
   },
   {
    "duration": 17,
    "start_time": "2022-03-25T14:06:00.512Z"
   },
   {
    "duration": 14,
    "start_time": "2022-03-25T14:07:17.286Z"
   },
   {
    "duration": 11,
    "start_time": "2022-03-25T14:07:35.159Z"
   },
   {
    "duration": 781,
    "start_time": "2022-03-25T14:07:35.558Z"
   },
   {
    "duration": 162446,
    "start_time": "2022-03-25T14:07:36.439Z"
   },
   {
    "duration": 1913,
    "start_time": "2022-03-25T14:10:38.578Z"
   },
   {
    "duration": 5,
    "start_time": "2022-03-25T14:11:46.345Z"
   },
   {
    "duration": 2014,
    "start_time": "2022-03-25T14:11:47.375Z"
   },
   {
    "duration": 4,
    "start_time": "2022-03-25T14:11:58.111Z"
   },
   {
    "duration": 26,
    "start_time": "2022-03-25T14:12:04.298Z"
   },
   {
    "duration": 6,
    "start_time": "2022-03-25T14:17:27.220Z"
   },
   {
    "duration": 828,
    "start_time": "2022-03-25T14:17:33.006Z"
   },
   {
    "duration": 778,
    "start_time": "2022-03-25T14:19:51.177Z"
   },
   {
    "duration": 830,
    "start_time": "2022-03-25T14:22:01.947Z"
   },
   {
    "duration": 789,
    "start_time": "2022-03-25T14:22:23.336Z"
   },
   {
    "duration": 13,
    "start_time": "2022-03-25T14:23:43.239Z"
   },
   {
    "duration": 744,
    "start_time": "2022-03-25T14:32:54.975Z"
   },
   {
    "duration": 748,
    "start_time": "2022-03-25T14:33:40.407Z"
   },
   {
    "duration": 753,
    "start_time": "2022-03-25T14:33:54.849Z"
   },
   {
    "duration": 19,
    "start_time": "2022-03-25T14:36:34.359Z"
   },
   {
    "duration": 16,
    "start_time": "2022-03-25T14:36:40.678Z"
   },
   {
    "duration": 781,
    "start_time": "2022-03-25T14:37:13.447Z"
   },
   {
    "duration": 2997,
    "start_time": "2022-03-26T09:19:54.538Z"
   },
   {
    "duration": 1835,
    "start_time": "2022-03-26T09:19:57.537Z"
   },
   {
    "duration": 147,
    "start_time": "2022-03-26T09:19:59.375Z"
   },
   {
    "duration": 18,
    "start_time": "2022-03-26T09:19:59.525Z"
   },
   {
    "duration": 10,
    "start_time": "2022-03-26T09:19:59.545Z"
   },
   {
    "duration": 14,
    "start_time": "2022-03-26T09:19:59.557Z"
   },
   {
    "duration": 11,
    "start_time": "2022-03-26T09:19:59.572Z"
   },
   {
    "duration": 11,
    "start_time": "2022-03-26T09:19:59.585Z"
   },
   {
    "duration": 12,
    "start_time": "2022-03-26T09:19:59.597Z"
   },
   {
    "duration": 12,
    "start_time": "2022-03-26T09:19:59.611Z"
   },
   {
    "duration": 16,
    "start_time": "2022-03-26T09:19:59.625Z"
   },
   {
    "duration": 51,
    "start_time": "2022-03-26T09:19:59.642Z"
   },
   {
    "duration": 8,
    "start_time": "2022-03-26T09:19:59.694Z"
   },
   {
    "duration": 7,
    "start_time": "2022-03-26T09:19:59.703Z"
   },
   {
    "duration": 129,
    "start_time": "2022-03-26T09:19:59.711Z"
   },
   {
    "duration": 15,
    "start_time": "2022-03-26T09:19:59.841Z"
   },
   {
    "duration": 6,
    "start_time": "2022-03-26T09:19:59.857Z"
   },
   {
    "duration": 29,
    "start_time": "2022-03-26T09:19:59.864Z"
   },
   {
    "duration": 7,
    "start_time": "2022-03-26T09:19:59.894Z"
   },
   {
    "duration": 7,
    "start_time": "2022-03-26T09:19:59.902Z"
   },
   {
    "duration": 12,
    "start_time": "2022-03-26T09:19:59.910Z"
   },
   {
    "duration": 67,
    "start_time": "2022-03-26T09:19:59.924Z"
   },
   {
    "duration": 5,
    "start_time": "2022-03-26T09:19:59.993Z"
   },
   {
    "duration": 19,
    "start_time": "2022-03-26T09:20:00.000Z"
   },
   {
    "duration": 13,
    "start_time": "2022-03-26T09:20:00.021Z"
   },
   {
    "duration": 2,
    "start_time": "2022-03-26T09:20:00.036Z"
   },
   {
    "duration": 11,
    "start_time": "2022-03-26T09:20:00.040Z"
   },
   {
    "duration": 1608,
    "start_time": "2022-03-26T09:20:00.054Z"
   },
   {
    "duration": 1403,
    "start_time": "2022-03-26T09:20:01.664Z"
   },
   {
    "duration": 1491,
    "start_time": "2022-03-26T09:20:03.068Z"
   },
   {
    "duration": 21,
    "start_time": "2022-03-26T09:20:04.561Z"
   },
   {
    "duration": 10,
    "start_time": "2022-03-26T09:20:04.584Z"
   },
   {
    "duration": 10,
    "start_time": "2022-03-26T09:20:04.596Z"
   },
   {
    "duration": 19,
    "start_time": "2022-03-26T09:20:04.608Z"
   },
   {
    "duration": 554,
    "start_time": "2022-03-26T09:20:04.629Z"
   },
   {
    "duration": 7,
    "start_time": "2022-03-26T09:20:05.185Z"
   },
   {
    "duration": 187,
    "start_time": "2022-03-26T09:20:05.195Z"
   },
   {
    "duration": 98,
    "start_time": "2022-03-26T09:20:05.384Z"
   },
   {
    "duration": 23,
    "start_time": "2022-03-26T09:20:05.484Z"
   },
   {
    "duration": 460,
    "start_time": "2022-03-26T09:20:05.509Z"
   },
   {
    "duration": 32,
    "start_time": "2022-03-26T09:20:05.971Z"
   },
   {
    "duration": 11,
    "start_time": "2022-03-26T09:20:06.004Z"
   },
   {
    "duration": 17,
    "start_time": "2022-03-26T09:20:06.017Z"
   },
   {
    "duration": 890,
    "start_time": "2022-03-26T09:20:06.036Z"
   },
   {
    "duration": 106086,
    "start_time": "2022-03-26T09:20:06.928Z"
   },
   {
    "duration": 1765,
    "start_time": "2022-03-26T09:21:53.016Z"
   },
   {
    "duration": 4,
    "start_time": "2022-03-26T09:21:54.784Z"
   },
   {
    "duration": 113,
    "start_time": "2022-03-26T09:21:54.790Z"
   },
   {
    "duration": 4,
    "start_time": "2022-03-26T09:21:54.905Z"
   },
   {
    "duration": 585,
    "start_time": "2022-03-26T09:21:54.911Z"
   },
   {
    "duration": 537,
    "start_time": "2022-03-26T09:21:55.498Z"
   },
   {
    "duration": 12,
    "start_time": "2022-03-26T09:21:56.037Z"
   },
   {
    "duration": 665,
    "start_time": "2022-03-26T09:21:56.051Z"
   },
   {
    "duration": 18,
    "start_time": "2022-03-26T09:21:56.718Z"
   },
   {
    "duration": 14,
    "start_time": "2022-03-26T09:32:49.892Z"
   },
   {
    "duration": 178,
    "start_time": "2022-03-26T09:49:19.073Z"
   },
   {
    "duration": 47,
    "start_time": "2022-03-26T21:35:58.887Z"
   },
   {
    "duration": 100106,
    "start_time": "2022-03-26T22:05:53.443Z"
   },
   {
    "duration": 1448,
    "start_time": "2022-03-26T22:07:33.552Z"
   },
   {
    "duration": 18,
    "start_time": "2022-03-26T22:07:35.001Z"
   },
   {
    "duration": 19,
    "start_time": "2022-03-26T22:07:35.021Z"
   },
   {
    "duration": 12,
    "start_time": "2022-03-26T22:07:44.147Z"
   },
   {
    "duration": 15,
    "start_time": "2022-03-26T22:07:45.141Z"
   },
   {
    "duration": 15,
    "start_time": "2022-03-26T22:07:45.428Z"
   },
   {
    "duration": 13,
    "start_time": "2022-03-26T22:07:45.748Z"
   },
   {
    "duration": 14,
    "start_time": "2022-03-26T22:07:46.699Z"
   },
   {
    "duration": 12,
    "start_time": "2022-03-26T22:07:47.383Z"
   },
   {
    "duration": 13,
    "start_time": "2022-03-26T22:07:47.693Z"
   },
   {
    "duration": 16,
    "start_time": "2022-03-26T22:07:48.713Z"
   },
   {
    "duration": 8,
    "start_time": "2022-03-26T22:07:49.373Z"
   },
   {
    "duration": 7,
    "start_time": "2022-03-26T22:07:50.269Z"
   },
   {
    "duration": 115,
    "start_time": "2022-03-26T22:08:04.380Z"
   },
   {
    "duration": 20,
    "start_time": "2022-03-26T22:08:05.923Z"
   },
   {
    "duration": 8,
    "start_time": "2022-03-26T22:08:06.842Z"
   },
   {
    "duration": 17,
    "start_time": "2022-03-26T22:08:08.513Z"
   },
   {
    "duration": 7,
    "start_time": "2022-03-26T22:08:11.603Z"
   },
   {
    "duration": 7,
    "start_time": "2022-03-26T22:08:13.707Z"
   },
   {
    "duration": 14,
    "start_time": "2022-03-26T22:08:55.083Z"
   },
   {
    "duration": 42,
    "start_time": "2022-03-26T22:09:03.792Z"
   },
   {
    "duration": 5,
    "start_time": "2022-03-26T22:10:46.068Z"
   },
   {
    "duration": 14,
    "start_time": "2022-03-26T22:10:46.621Z"
   },
   {
    "duration": 15,
    "start_time": "2022-03-26T22:10:47.543Z"
   },
   {
    "duration": 16,
    "start_time": "2022-03-26T22:12:53.234Z"
   },
   {
    "duration": 77,
    "start_time": "2022-03-26T22:13:48.553Z"
   },
   {
    "duration": 3,
    "start_time": "2022-03-26T22:13:56.861Z"
   },
   {
    "duration": 4,
    "start_time": "2022-03-26T22:13:57.901Z"
   },
   {
    "duration": 13,
    "start_time": "2022-03-26T22:13:58.948Z"
   },
   {
    "duration": 14,
    "start_time": "2022-03-26T22:16:12.781Z"
   },
   {
    "duration": 1665,
    "start_time": "2022-03-26T22:20:37.661Z"
   },
   {
    "duration": 1660,
    "start_time": "2022-03-26T22:21:18.877Z"
   },
   {
    "duration": 1842,
    "start_time": "2022-03-26T22:24:34.584Z"
   },
   {
    "duration": 1924,
    "start_time": "2022-03-26T22:24:57.677Z"
   },
   {
    "duration": 1793,
    "start_time": "2022-03-26T22:29:03.554Z"
   },
   {
    "duration": 263,
    "start_time": "2022-03-26T22:33:32.841Z"
   },
   {
    "duration": 370,
    "start_time": "2022-03-26T22:34:21.340Z"
   },
   {
    "duration": 352,
    "start_time": "2022-03-26T22:35:24.069Z"
   },
   {
    "duration": 368,
    "start_time": "2022-03-26T22:36:27.197Z"
   },
   {
    "duration": 9,
    "start_time": "2022-03-26T22:36:58.574Z"
   },
   {
    "duration": 404,
    "start_time": "2022-03-26T22:37:05.792Z"
   },
   {
    "duration": 542,
    "start_time": "2022-03-26T22:39:16.204Z"
   },
   {
    "duration": 16,
    "start_time": "2022-03-26T22:39:48.714Z"
   },
   {
    "duration": 16,
    "start_time": "2022-03-26T22:39:59.988Z"
   },
   {
    "duration": 3,
    "start_time": "2022-03-26T22:40:29.162Z"
   },
   {
    "duration": 2,
    "start_time": "2022-03-26T22:40:42.744Z"
   },
   {
    "duration": 5,
    "start_time": "2022-03-26T22:40:47.517Z"
   },
   {
    "duration": 6,
    "start_time": "2022-03-26T22:40:57.820Z"
   },
   {
    "duration": 571,
    "start_time": "2022-03-26T22:41:14.398Z"
   },
   {
    "duration": 559,
    "start_time": "2022-03-26T22:41:16.701Z"
   },
   {
    "duration": 1696,
    "start_time": "2022-03-26T22:46:56.789Z"
   },
   {
    "duration": 129,
    "start_time": "2022-03-26T22:56:46.309Z"
   },
   {
    "duration": 98,
    "start_time": "2022-03-26T22:56:56.814Z"
   },
   {
    "duration": 95,
    "start_time": "2022-03-26T22:57:40.114Z"
   },
   {
    "duration": 100,
    "start_time": "2022-03-26T22:58:09.164Z"
   },
   {
    "duration": 1607,
    "start_time": "2022-03-26T22:58:21.694Z"
   },
   {
    "duration": 9,
    "start_time": "2022-03-26T23:00:07.677Z"
   },
   {
    "duration": 111,
    "start_time": "2022-03-26T23:00:17.404Z"
   },
   {
    "duration": 49274,
    "start_time": "2022-03-26T23:05:27.171Z"
   },
   {
    "duration": 5,
    "start_time": "2022-03-26T23:06:16.448Z"
   },
   {
    "duration": 20,
    "start_time": "2022-03-26T23:06:16.454Z"
   },
   {
    "duration": 13,
    "start_time": "2022-03-26T23:06:16.476Z"
   },
   {
    "duration": 13,
    "start_time": "2022-03-26T23:06:16.490Z"
   },
   {
    "duration": 20,
    "start_time": "2022-03-26T23:06:16.504Z"
   },
   {
    "duration": 18,
    "start_time": "2022-03-26T23:06:16.525Z"
   },
   {
    "duration": 13,
    "start_time": "2022-03-26T23:06:16.545Z"
   },
   {
    "duration": 13,
    "start_time": "2022-03-26T23:06:16.560Z"
   },
   {
    "duration": 13,
    "start_time": "2022-03-26T23:06:25.301Z"
   },
   {
    "duration": 13,
    "start_time": "2022-03-26T23:06:26.308Z"
   },
   {
    "duration": 16,
    "start_time": "2022-03-26T23:06:26.731Z"
   },
   {
    "duration": 8,
    "start_time": "2022-03-26T23:06:27.508Z"
   },
   {
    "duration": 9,
    "start_time": "2022-03-26T23:06:27.812Z"
   },
   {
    "duration": 114,
    "start_time": "2022-03-26T23:06:27.988Z"
   },
   {
    "duration": 16,
    "start_time": "2022-03-26T23:06:28.339Z"
   },
   {
    "duration": 8,
    "start_time": "2022-03-26T23:06:28.499Z"
   },
   {
    "duration": 18,
    "start_time": "2022-03-26T23:06:29.091Z"
   },
   {
    "duration": 8,
    "start_time": "2022-03-26T23:06:29.221Z"
   },
   {
    "duration": 9,
    "start_time": "2022-03-26T23:06:30.556Z"
   },
   {
    "duration": 14,
    "start_time": "2022-03-26T23:06:30.708Z"
   },
   {
    "duration": 40,
    "start_time": "2022-03-26T23:06:33.860Z"
   },
   {
    "duration": 16,
    "start_time": "2022-03-26T23:06:34.831Z"
   },
   {
    "duration": 3,
    "start_time": "2022-03-26T23:07:09.209Z"
   },
   {
    "duration": 5,
    "start_time": "2022-03-26T23:07:09.763Z"
   },
   {
    "duration": 123,
    "start_time": "2022-03-26T23:07:15.925Z"
   },
   {
    "duration": 47,
    "start_time": "2022-03-26T23:11:13.133Z"
   },
   {
    "duration": 100014,
    "start_time": "2022-03-26T23:11:22.213Z"
   },
   {
    "duration": 1456,
    "start_time": "2022-03-26T23:13:02.230Z"
   },
   {
    "duration": 23,
    "start_time": "2022-03-26T23:13:03.688Z"
   },
   {
    "duration": 16,
    "start_time": "2022-03-26T23:13:03.713Z"
   },
   {
    "duration": 11,
    "start_time": "2022-03-26T23:13:03.732Z"
   },
   {
    "duration": 14,
    "start_time": "2022-03-26T23:13:03.745Z"
   },
   {
    "duration": 13,
    "start_time": "2022-03-26T23:13:03.760Z"
   },
   {
    "duration": 20,
    "start_time": "2022-03-26T23:13:03.774Z"
   },
   {
    "duration": 39,
    "start_time": "2022-03-26T23:13:03.795Z"
   },
   {
    "duration": 18,
    "start_time": "2022-03-26T23:13:03.836Z"
   },
   {
    "duration": 18,
    "start_time": "2022-03-26T23:13:03.856Z"
   },
   {
    "duration": 20,
    "start_time": "2022-03-26T23:13:03.875Z"
   },
   {
    "duration": 8,
    "start_time": "2022-03-26T23:13:03.896Z"
   },
   {
    "duration": 27,
    "start_time": "2022-03-26T23:13:03.906Z"
   },
   {
    "duration": 122,
    "start_time": "2022-03-26T23:13:03.936Z"
   },
   {
    "duration": 17,
    "start_time": "2022-03-26T23:13:04.060Z"
   },
   {
    "duration": 6,
    "start_time": "2022-03-26T23:13:04.079Z"
   },
   {
    "duration": 19,
    "start_time": "2022-03-26T23:13:04.087Z"
   },
   {
    "duration": 32,
    "start_time": "2022-03-26T23:13:04.107Z"
   },
   {
    "duration": 10,
    "start_time": "2022-03-26T23:13:04.141Z"
   },
   {
    "duration": 20,
    "start_time": "2022-03-26T23:13:04.152Z"
   },
   {
    "duration": 62,
    "start_time": "2022-03-26T23:13:04.174Z"
   },
   {
    "duration": 15,
    "start_time": "2022-03-26T23:13:04.237Z"
   },
   {
    "duration": 4056,
    "start_time": "2022-03-27T01:38:29.936Z"
   },
   {
    "duration": 2416,
    "start_time": "2022-03-27T01:38:39.957Z"
   },
   {
    "duration": 132,
    "start_time": "2022-03-27T01:38:50.326Z"
   },
   {
    "duration": 23,
    "start_time": "2022-03-27T01:38:51.346Z"
   },
   {
    "duration": 22,
    "start_time": "2022-03-27T01:38:52.573Z"
   },
   {
    "duration": 23,
    "start_time": "2022-03-27T01:38:54.926Z"
   },
   {
    "duration": 19,
    "start_time": "2022-03-27T01:39:15.714Z"
   },
   {
    "duration": 21,
    "start_time": "2022-03-27T01:39:16.736Z"
   },
   {
    "duration": 21,
    "start_time": "2022-03-27T01:39:18.613Z"
   },
   {
    "duration": 19,
    "start_time": "2022-03-27T01:39:19.846Z"
   },
   {
    "duration": 20,
    "start_time": "2022-03-27T01:39:21.150Z"
   },
   {
    "duration": 26,
    "start_time": "2022-03-27T01:39:22.155Z"
   },
   {
    "duration": 11,
    "start_time": "2022-03-27T01:39:23.356Z"
   },
   {
    "duration": 11,
    "start_time": "2022-03-27T01:39:24.404Z"
   },
   {
    "duration": 195,
    "start_time": "2022-03-27T01:39:24.585Z"
   },
   {
    "duration": 24,
    "start_time": "2022-03-27T01:39:27.459Z"
   },
   {
    "duration": 11,
    "start_time": "2022-03-27T01:39:28.725Z"
   },
   {
    "duration": 25,
    "start_time": "2022-03-27T01:39:29.974Z"
   },
   {
    "duration": 11,
    "start_time": "2022-03-27T01:39:30.886Z"
   },
   {
    "duration": 11,
    "start_time": "2022-03-27T01:39:31.716Z"
   },
   {
    "duration": 20,
    "start_time": "2022-03-27T01:39:32.683Z"
   },
   {
    "duration": 63,
    "start_time": "2022-03-27T01:39:43.945Z"
   },
   {
    "duration": 7,
    "start_time": "2022-03-27T01:40:07.566Z"
   },
   {
    "duration": 23,
    "start_time": "2022-03-27T01:40:18.475Z"
   },
   {
    "duration": 989,
    "start_time": "2022-03-27T01:41:12.988Z"
   },
   {
    "duration": 821,
    "start_time": "2022-03-27T01:41:56.975Z"
   },
   {
    "duration": 733,
    "start_time": "2022-03-27T01:42:17.514Z"
   },
   {
    "duration": 783,
    "start_time": "2022-03-27T01:42:46.572Z"
   },
   {
    "duration": 830,
    "start_time": "2022-03-27T01:43:13.524Z"
   },
   {
    "duration": 780,
    "start_time": "2022-03-27T01:43:36.364Z"
   },
   {
    "duration": 786,
    "start_time": "2022-03-27T01:44:09.646Z"
   },
   {
    "duration": 908,
    "start_time": "2022-03-27T01:44:36.858Z"
   },
   {
    "duration": 897,
    "start_time": "2022-03-27T01:45:10.364Z"
   },
   {
    "duration": 981,
    "start_time": "2022-03-27T01:46:26.994Z"
   },
   {
    "duration": 764,
    "start_time": "2022-03-27T01:46:47.745Z"
   },
   {
    "duration": 462,
    "start_time": "2022-03-27T01:48:44.537Z"
   },
   {
    "duration": 958,
    "start_time": "2022-03-27T01:48:58.196Z"
   },
   {
    "duration": 1009,
    "start_time": "2022-03-27T01:49:19.074Z"
   },
   {
    "duration": 876,
    "start_time": "2022-03-27T01:49:35.625Z"
   },
   {
    "duration": 2242,
    "start_time": "2022-03-27T01:51:40.825Z"
   },
   {
    "duration": 18,
    "start_time": "2022-03-27T01:51:53.393Z"
   },
   {
    "duration": 5,
    "start_time": "2022-03-27T01:51:55.308Z"
   },
   {
    "duration": 8,
    "start_time": "2022-03-27T01:51:56.908Z"
   },
   {
    "duration": 4,
    "start_time": "2022-03-27T01:51:57.095Z"
   },
   {
    "duration": 1098,
    "start_time": "2022-03-27T01:51:57.253Z"
   },
   {
    "duration": 12,
    "start_time": "2022-03-27T01:51:59.345Z"
   },
   {
    "duration": 9,
    "start_time": "2022-03-27T01:51:59.793Z"
   },
   {
    "duration": 14,
    "start_time": "2022-03-27T01:52:00.876Z"
   },
   {
    "duration": 3,
    "start_time": "2022-03-27T01:52:02.043Z"
   },
   {
    "duration": 436,
    "start_time": "2022-03-27T01:52:02.193Z"
   },
   {
    "duration": 34,
    "start_time": "2022-03-27T01:52:02.725Z"
   },
   {
    "duration": 4,
    "start_time": "2022-03-27T01:55:40.533Z"
   },
   {
    "duration": 4,
    "start_time": "2022-03-27T01:56:02.707Z"
   },
   {
    "duration": 431,
    "start_time": "2022-03-27T01:56:03.668Z"
   },
   {
    "duration": 35,
    "start_time": "2022-03-27T01:56:06.755Z"
   },
   {
    "duration": 13,
    "start_time": "2022-03-27T01:56:08.935Z"
   },
   {
    "duration": 4,
    "start_time": "2022-03-27T01:56:53.957Z"
   },
   {
    "duration": 5,
    "start_time": "2022-03-27T02:00:08.283Z"
   },
   {
    "duration": 9,
    "start_time": "2022-03-27T02:08:48.773Z"
   },
   {
    "duration": 8,
    "start_time": "2022-03-27T02:08:55.934Z"
   },
   {
    "duration": 5,
    "start_time": "2022-03-27T02:09:11.075Z"
   },
   {
    "duration": 10,
    "start_time": "2022-03-27T02:23:16.061Z"
   },
   {
    "duration": 775,
    "start_time": "2022-03-27T02:23:16.614Z"
   },
   {
    "duration": 155503,
    "start_time": "2022-03-27T02:23:17.592Z"
   },
   {
    "duration": 6,
    "start_time": "2022-03-27T02:29:03.724Z"
   },
   {
    "duration": 3222,
    "start_time": "2022-03-27T02:29:06.671Z"
   },
   {
    "duration": 1896,
    "start_time": "2022-03-27T02:29:35.553Z"
   },
   {
    "duration": 5,
    "start_time": "2022-03-27T02:29:38.951Z"
   },
   {
    "duration": 28,
    "start_time": "2022-03-27T02:29:40.024Z"
   },
   {
    "duration": 5,
    "start_time": "2022-03-27T02:29:41.963Z"
   },
   {
    "duration": 741,
    "start_time": "2022-03-27T02:29:42.597Z"
   },
   {
    "duration": 5,
    "start_time": "2022-03-27T02:30:58.304Z"
   },
   {
    "duration": 5,
    "start_time": "2022-03-27T02:31:27.064Z"
   },
   {
    "duration": 6,
    "start_time": "2022-03-27T02:31:36.964Z"
   },
   {
    "duration": 5,
    "start_time": "2022-03-27T02:31:39.274Z"
   },
   {
    "duration": 616,
    "start_time": "2022-03-27T02:31:54.096Z"
   },
   {
    "duration": 636,
    "start_time": "2022-03-27T02:33:54.862Z"
   },
   {
    "duration": 753,
    "start_time": "2022-03-27T02:34:32.433Z"
   },
   {
    "duration": 614,
    "start_time": "2022-03-27T02:34:48.753Z"
   },
   {
    "duration": 605,
    "start_time": "2022-03-27T02:36:42.344Z"
   },
   {
    "duration": 1929,
    "start_time": "2022-03-27T02:37:46.176Z"
   },
   {
    "duration": 596,
    "start_time": "2022-03-27T02:38:21.990Z"
   },
   {
    "duration": 605,
    "start_time": "2022-03-27T02:38:35.358Z"
   },
   {
    "duration": 524,
    "start_time": "2022-03-27T02:39:36.123Z"
   },
   {
    "duration": 3558,
    "start_time": "2022-03-27T02:39:54.664Z"
   },
   {
    "duration": 3479,
    "start_time": "2022-03-27T02:40:17.304Z"
   },
   {
    "duration": 511,
    "start_time": "2022-03-27T02:40:38.235Z"
   },
   {
    "duration": 14,
    "start_time": "2022-03-27T02:47:51.427Z"
   },
   {
    "duration": 3675,
    "start_time": "2022-03-27T02:48:34.475Z"
   },
   {
    "duration": 1981,
    "start_time": "2022-03-27T02:48:40.997Z"
   },
   {
    "duration": 37,
    "start_time": "2022-03-27T02:48:42.980Z"
   },
   {
    "duration": 24,
    "start_time": "2022-03-27T02:48:46.809Z"
   },
   {
    "duration": 17,
    "start_time": "2022-03-27T02:48:47.138Z"
   },
   {
    "duration": 25,
    "start_time": "2022-03-27T02:48:48.107Z"
   },
   {
    "duration": 20,
    "start_time": "2022-03-27T02:48:48.508Z"
   },
   {
    "duration": 21,
    "start_time": "2022-03-27T02:48:49.347Z"
   },
   {
    "duration": 21,
    "start_time": "2022-03-27T02:48:50.068Z"
   },
   {
    "duration": 23,
    "start_time": "2022-03-27T02:48:50.928Z"
   },
   {
    "duration": 20,
    "start_time": "2022-03-27T02:48:51.756Z"
   },
   {
    "duration": 24,
    "start_time": "2022-03-27T02:48:52.107Z"
   },
   {
    "duration": 11,
    "start_time": "2022-03-27T02:48:53.372Z"
   },
   {
    "duration": 12,
    "start_time": "2022-03-27T02:48:53.655Z"
   },
   {
    "duration": 182,
    "start_time": "2022-03-27T02:48:53.855Z"
   },
   {
    "duration": 24,
    "start_time": "2022-03-27T02:48:55.082Z"
   },
   {
    "duration": 10,
    "start_time": "2022-03-27T02:48:55.268Z"
   },
   {
    "duration": 26,
    "start_time": "2022-03-27T02:48:55.836Z"
   },
   {
    "duration": 12,
    "start_time": "2022-03-27T02:48:55.995Z"
   },
   {
    "duration": 11,
    "start_time": "2022-03-27T02:48:57.048Z"
   },
   {
    "duration": 22,
    "start_time": "2022-03-27T02:48:57.245Z"
   },
   {
    "duration": 65,
    "start_time": "2022-03-27T02:49:14.595Z"
   },
   {
    "duration": 8,
    "start_time": "2022-03-27T02:49:20.528Z"
   },
   {
    "duration": 23,
    "start_time": "2022-03-27T02:49:21.708Z"
   },
   {
    "duration": 78,
    "start_time": "2022-03-28T00:16:21.203Z"
   },
   {
    "duration": 4156,
    "start_time": "2022-03-28T00:16:41.104Z"
   },
   {
    "duration": 2326,
    "start_time": "2022-03-28T00:16:48.274Z"
   },
   {
    "duration": 66,
    "start_time": "2022-03-28T00:16:56.915Z"
   },
   {
    "duration": 26,
    "start_time": "2022-03-28T00:16:57.735Z"
   },
   {
    "duration": 19,
    "start_time": "2022-03-28T00:16:59.392Z"
   },
   {
    "duration": 25,
    "start_time": "2022-03-28T00:17:00.235Z"
   },
   {
    "duration": 20,
    "start_time": "2022-03-28T00:17:00.965Z"
   },
   {
    "duration": 22,
    "start_time": "2022-03-28T00:17:01.624Z"
   },
   {
    "duration": 22,
    "start_time": "2022-03-28T00:17:02.674Z"
   },
   {
    "duration": 21,
    "start_time": "2022-03-28T00:17:03.781Z"
   },
   {
    "duration": 22,
    "start_time": "2022-03-28T00:17:04.818Z"
   },
   {
    "duration": 47,
    "start_time": "2022-03-28T00:17:04.843Z"
   },
   {
    "duration": 11,
    "start_time": "2022-03-28T00:17:04.893Z"
   },
   {
    "duration": 12,
    "start_time": "2022-03-28T00:17:05.173Z"
   },
   {
    "duration": 211,
    "start_time": "2022-03-28T00:17:05.362Z"
   },
   {
    "duration": 25,
    "start_time": "2022-03-28T00:17:05.644Z"
   },
   {
    "duration": 11,
    "start_time": "2022-03-28T00:17:06.034Z"
   },
   {
    "duration": 28,
    "start_time": "2022-03-28T00:17:06.684Z"
   },
   {
    "duration": 11,
    "start_time": "2022-03-28T00:17:06.834Z"
   },
   {
    "duration": 11,
    "start_time": "2022-03-28T00:17:07.634Z"
   },
   {
    "duration": 23,
    "start_time": "2022-03-28T00:17:22.722Z"
   },
   {
    "duration": 68,
    "start_time": "2022-03-28T00:17:25.885Z"
   },
   {
    "duration": 6,
    "start_time": "2022-03-28T00:17:30.803Z"
   },
   {
    "duration": 24,
    "start_time": "2022-03-28T00:17:32.522Z"
   },
   {
    "duration": 853,
    "start_time": "2022-03-28T00:17:38.323Z"
   },
   {
    "duration": 875,
    "start_time": "2022-03-28T00:18:17.974Z"
   },
   {
    "duration": 877,
    "start_time": "2022-03-28T00:23:08.824Z"
   },
   {
    "duration": 865,
    "start_time": "2022-03-28T00:25:06.563Z"
   },
   {
    "duration": 801,
    "start_time": "2022-03-28T00:28:47.704Z"
   },
   {
    "duration": 783,
    "start_time": "2022-03-28T00:31:38.694Z"
   },
   {
    "duration": 778,
    "start_time": "2022-03-28T00:34:31.243Z"
   },
   {
    "duration": 948,
    "start_time": "2022-03-28T00:45:54.113Z"
   },
   {
    "duration": 900,
    "start_time": "2022-03-28T00:50:30.964Z"
   },
   {
    "duration": 7,
    "start_time": "2022-03-28T00:55:19.454Z"
   },
   {
    "duration": 7,
    "start_time": "2022-03-28T00:58:49.135Z"
   },
   {
    "duration": 7,
    "start_time": "2022-03-28T01:00:01.765Z"
   },
   {
    "duration": 7,
    "start_time": "2022-03-28T01:00:09.735Z"
   },
   {
    "duration": 850,
    "start_time": "2022-03-28T01:04:43.886Z"
   },
   {
    "duration": 117,
    "start_time": "2022-03-28T01:17:38.746Z"
   },
   {
    "duration": 6,
    "start_time": "2022-03-28T01:18:04.626Z"
   },
   {
    "duration": 15,
    "start_time": "2022-03-28T01:18:20.557Z"
   },
   {
    "duration": 108,
    "start_time": "2022-03-28T01:18:34.327Z"
   },
   {
    "duration": 7,
    "start_time": "2022-03-28T01:19:05.686Z"
   },
   {
    "duration": 765,
    "start_time": "2022-03-28T01:21:24.855Z"
   },
   {
    "duration": 113,
    "start_time": "2022-03-28T01:23:14.555Z"
   },
   {
    "duration": 7,
    "start_time": "2022-03-28T01:23:27.797Z"
   },
   {
    "duration": 7,
    "start_time": "2022-03-28T01:23:34.725Z"
   },
   {
    "duration": 7,
    "start_time": "2022-03-28T01:23:40.845Z"
   },
   {
    "duration": 7,
    "start_time": "2022-03-28T01:23:45.545Z"
   },
   {
    "duration": 6,
    "start_time": "2022-03-28T01:23:55.087Z"
   },
   {
    "duration": 7,
    "start_time": "2022-03-28T01:24:01.767Z"
   },
   {
    "duration": 6,
    "start_time": "2022-03-28T01:24:09.357Z"
   },
   {
    "duration": 6,
    "start_time": "2022-03-28T01:24:15.377Z"
   },
   {
    "duration": 934,
    "start_time": "2022-03-28T01:26:41.687Z"
   },
   {
    "duration": 3653,
    "start_time": "2022-03-28T02:20:44.786Z"
   },
   {
    "duration": 6,
    "start_time": "2022-03-28T02:20:50.458Z"
   },
   {
    "duration": 26,
    "start_time": "2022-03-28T02:20:52.058Z"
   },
   {
    "duration": 21,
    "start_time": "2022-03-28T02:20:52.218Z"
   },
   {
    "duration": 17,
    "start_time": "2022-03-28T02:20:52.579Z"
   },
   {
    "duration": 21,
    "start_time": "2022-03-28T02:20:54.467Z"
   },
   {
    "duration": 22,
    "start_time": "2022-03-28T02:20:54.811Z"
   },
   {
    "duration": 23,
    "start_time": "2022-03-28T02:20:55.178Z"
   },
   {
    "duration": 26,
    "start_time": "2022-03-28T02:20:55.531Z"
   },
   {
    "duration": 20,
    "start_time": "2022-03-28T02:20:55.906Z"
   },
   {
    "duration": 22,
    "start_time": "2022-03-28T02:20:56.256Z"
   },
   {
    "duration": 25,
    "start_time": "2022-03-28T02:20:56.634Z"
   },
   {
    "duration": 12,
    "start_time": "2022-03-28T02:20:57.002Z"
   },
   {
    "duration": 12,
    "start_time": "2022-03-28T02:20:57.417Z"
   },
   {
    "duration": 184,
    "start_time": "2022-03-28T02:20:57.608Z"
   },
   {
    "duration": 26,
    "start_time": "2022-03-28T02:20:58.028Z"
   },
   {
    "duration": 12,
    "start_time": "2022-03-28T02:20:58.262Z"
   },
   {
    "duration": 28,
    "start_time": "2022-03-28T02:20:58.643Z"
   },
   {
    "duration": 12,
    "start_time": "2022-03-28T02:20:58.866Z"
   },
   {
    "duration": 10,
    "start_time": "2022-03-28T02:20:59.258Z"
   },
   {
    "duration": 20,
    "start_time": "2022-03-28T02:20:59.463Z"
   },
   {
    "duration": 211,
    "start_time": "2022-03-28T02:21:00.626Z"
   },
   {
    "duration": 8,
    "start_time": "2022-03-28T02:21:01.515Z"
   },
   {
    "duration": 26,
    "start_time": "2022-03-28T02:21:01.738Z"
   },
   {
    "duration": 896,
    "start_time": "2022-03-28T02:21:02.900Z"
   },
   {
    "duration": 823,
    "start_time": "2022-03-28T02:21:04.519Z"
   },
   {
    "duration": 838,
    "start_time": "2022-03-28T02:21:06.171Z"
   },
   {
    "duration": 891,
    "start_time": "2022-03-28T02:21:07.506Z"
   },
   {
    "duration": 800,
    "start_time": "2022-03-28T02:21:08.399Z"
   },
   {
    "duration": 930,
    "start_time": "2022-03-28T02:21:10.618Z"
   },
   {
    "duration": 876,
    "start_time": "2022-03-28T02:21:16.662Z"
   },
   {
    "duration": 943,
    "start_time": "2022-03-28T02:21:19.659Z"
   },
   {
    "duration": 908,
    "start_time": "2022-03-28T02:21:26.121Z"
   },
   {
    "duration": 7,
    "start_time": "2022-03-28T02:21:30.662Z"
   },
   {
    "duration": 7,
    "start_time": "2022-03-28T02:21:31.666Z"
   },
   {
    "duration": 855,
    "start_time": "2022-03-28T02:21:38.306Z"
   },
   {
    "duration": 7,
    "start_time": "2022-03-28T02:21:40.218Z"
   },
   {
    "duration": 1028,
    "start_time": "2022-03-28T02:21:44.804Z"
   },
   {
    "duration": 1023,
    "start_time": "2022-03-28T02:21:51.321Z"
   },
   {
    "duration": 2351,
    "start_time": "2022-03-28T02:25:37.756Z"
   },
   {
    "duration": 21,
    "start_time": "2022-03-28T02:25:46.560Z"
   },
   {
    "duration": 6,
    "start_time": "2022-03-28T02:25:47.834Z"
   },
   {
    "duration": 8,
    "start_time": "2022-03-28T02:25:49.098Z"
   },
   {
    "duration": 4,
    "start_time": "2022-03-28T02:25:49.621Z"
   },
   {
    "duration": 922,
    "start_time": "2022-03-28T02:25:50.066Z"
   },
   {
    "duration": 87,
    "start_time": "2022-03-28T02:25:51.000Z"
   },
   {
    "duration": 7,
    "start_time": "2022-03-28T02:25:51.962Z"
   },
   {
    "duration": 15,
    "start_time": "2022-03-28T02:25:52.760Z"
   },
   {
    "duration": 9,
    "start_time": "2022-03-28T02:25:54.218Z"
   },
   {
    "duration": 4,
    "start_time": "2022-03-28T02:25:54.634Z"
   },
   {
    "duration": 463,
    "start_time": "2022-03-28T02:25:55.273Z"
   },
   {
    "duration": 49,
    "start_time": "2022-03-28T02:25:55.741Z"
   },
   {
    "duration": 13,
    "start_time": "2022-03-28T02:25:58.779Z"
   },
   {
    "duration": 10,
    "start_time": "2022-03-28T02:26:01.898Z"
   },
   {
    "duration": 11,
    "start_time": "2022-03-28T02:27:33.081Z"
   },
   {
    "duration": 819,
    "start_time": "2022-03-28T02:27:33.906Z"
   },
   {
    "duration": 161838,
    "start_time": "2022-03-28T02:27:41.267Z"
   },
   {
    "duration": 1972,
    "start_time": "2022-03-28T02:30:30.912Z"
   },
   {
    "duration": 5,
    "start_time": "2022-03-28T02:30:35.721Z"
   },
   {
    "duration": 27,
    "start_time": "2022-03-28T02:30:37.026Z"
   },
   {
    "duration": 6,
    "start_time": "2022-03-28T02:30:45.402Z"
   },
   {
    "duration": 5,
    "start_time": "2022-03-28T02:30:45.551Z"
   },
   {
    "duration": 649,
    "start_time": "2022-03-28T02:30:50.146Z"
   },
   {
    "duration": 791,
    "start_time": "2022-03-28T02:33:42.323Z"
   },
   {
    "duration": 631,
    "start_time": "2022-03-28T02:36:37.702Z"
   },
   {
    "duration": 23,
    "start_time": "2022-03-28T02:38:35.872Z"
   },
   {
    "duration": 13,
    "start_time": "2022-03-28T02:38:44.866Z"
   },
   {
    "duration": 3112,
    "start_time": "2022-03-28T16:12:20.431Z"
   },
   {
    "duration": 1789,
    "start_time": "2022-03-28T16:12:23.546Z"
   },
   {
    "duration": 33,
    "start_time": "2022-03-28T16:12:25.337Z"
   },
   {
    "duration": 17,
    "start_time": "2022-03-28T16:12:25.373Z"
   },
   {
    "duration": 11,
    "start_time": "2022-03-28T16:12:25.392Z"
   },
   {
    "duration": 19,
    "start_time": "2022-03-28T16:12:25.405Z"
   },
   {
    "duration": 19,
    "start_time": "2022-03-28T16:12:25.425Z"
   },
   {
    "duration": 25,
    "start_time": "2022-03-28T16:12:25.445Z"
   },
   {
    "duration": 16,
    "start_time": "2022-03-28T16:12:25.472Z"
   },
   {
    "duration": 14,
    "start_time": "2022-03-28T16:12:25.491Z"
   },
   {
    "duration": 37,
    "start_time": "2022-03-28T16:12:25.506Z"
   },
   {
    "duration": 23,
    "start_time": "2022-03-28T16:12:25.545Z"
   },
   {
    "duration": 8,
    "start_time": "2022-03-28T16:12:25.570Z"
   },
   {
    "duration": 8,
    "start_time": "2022-03-28T16:12:25.580Z"
   },
   {
    "duration": 164,
    "start_time": "2022-03-28T16:12:25.590Z"
   },
   {
    "duration": 18,
    "start_time": "2022-03-28T16:12:25.756Z"
   },
   {
    "duration": 13,
    "start_time": "2022-03-28T16:12:25.776Z"
   },
   {
    "duration": 18,
    "start_time": "2022-03-28T16:12:25.791Z"
   },
   {
    "duration": 9,
    "start_time": "2022-03-28T16:12:25.831Z"
   },
   {
    "duration": 8,
    "start_time": "2022-03-28T16:12:25.842Z"
   },
   {
    "duration": 15,
    "start_time": "2022-03-28T16:12:25.852Z"
   },
   {
    "duration": 73,
    "start_time": "2022-03-28T16:12:25.869Z"
   },
   {
    "duration": 6,
    "start_time": "2022-03-28T16:12:25.943Z"
   },
   {
    "duration": 21,
    "start_time": "2022-03-28T16:12:25.950Z"
   },
   {
    "duration": 702,
    "start_time": "2022-03-28T16:12:25.972Z"
   },
   {
    "duration": 720,
    "start_time": "2022-03-28T16:12:26.676Z"
   },
   {
    "duration": 640,
    "start_time": "2022-03-28T16:12:27.397Z"
   },
   {
    "duration": 585,
    "start_time": "2022-03-28T16:12:28.042Z"
   },
   {
    "duration": 595,
    "start_time": "2022-03-28T16:12:28.632Z"
   },
   {
    "duration": 592,
    "start_time": "2022-03-28T16:12:29.228Z"
   },
   {
    "duration": 631,
    "start_time": "2022-03-28T16:12:29.821Z"
   },
   {
    "duration": 756,
    "start_time": "2022-03-28T16:12:30.454Z"
   },
   {
    "duration": 638,
    "start_time": "2022-03-28T16:12:31.212Z"
   },
   {
    "duration": 5,
    "start_time": "2022-03-28T16:12:31.852Z"
   },
   {
    "duration": 17,
    "start_time": "2022-03-28T16:12:31.859Z"
   },
   {
    "duration": 644,
    "start_time": "2022-03-28T16:12:31.878Z"
   },
   {
    "duration": 10,
    "start_time": "2022-03-28T16:12:32.523Z"
   },
   {
    "duration": 703,
    "start_time": "2022-03-28T16:12:32.535Z"
   },
   {
    "duration": 623,
    "start_time": "2022-03-28T16:12:33.240Z"
   },
   {
    "duration": 705,
    "start_time": "2022-03-28T16:12:33.865Z"
   },
   {
    "duration": 1696,
    "start_time": "2022-03-28T16:12:34.572Z"
   },
   {
    "duration": 14,
    "start_time": "2022-03-28T16:12:36.271Z"
   },
   {
    "duration": 42,
    "start_time": "2022-03-28T16:12:36.287Z"
   },
   {
    "duration": 28,
    "start_time": "2022-03-28T16:12:36.330Z"
   },
   {
    "duration": 15,
    "start_time": "2022-03-28T16:12:36.360Z"
   },
   {
    "duration": 1057,
    "start_time": "2022-03-28T16:12:36.377Z"
   },
   {
    "duration": 97,
    "start_time": "2022-03-28T16:12:37.436Z"
   },
   {
    "duration": 104,
    "start_time": "2022-03-28T16:12:37.541Z"
   },
   {
    "duration": 109,
    "start_time": "2022-03-28T16:12:37.733Z"
   },
   {
    "duration": 7,
    "start_time": "2022-03-28T16:12:37.844Z"
   },
   {
    "duration": 7,
    "start_time": "2022-03-28T16:12:37.852Z"
   },
   {
    "duration": 368,
    "start_time": "2022-03-28T16:12:37.861Z"
   },
   {
    "duration": 30,
    "start_time": "2022-03-28T16:12:38.231Z"
   },
   {
    "duration": 10,
    "start_time": "2022-03-28T16:12:38.262Z"
   },
   {
    "duration": 7,
    "start_time": "2022-03-28T16:12:38.273Z"
   },
   {
    "duration": 6,
    "start_time": "2022-03-28T16:12:38.281Z"
   },
   {
    "duration": 10,
    "start_time": "2022-03-28T16:12:38.288Z"
   },
   {
    "duration": 574,
    "start_time": "2022-03-28T16:12:38.300Z"
   },
   {
    "duration": 123484,
    "start_time": "2022-03-28T16:12:38.876Z"
   },
   {
    "duration": 1771,
    "start_time": "2022-03-28T16:14:42.362Z"
   },
   {
    "duration": 4,
    "start_time": "2022-03-28T16:14:44.136Z"
   },
   {
    "duration": 27,
    "start_time": "2022-03-28T16:14:44.232Z"
   },
   {
    "duration": 4,
    "start_time": "2022-03-28T16:14:44.261Z"
   },
   {
    "duration": 7,
    "start_time": "2022-03-28T16:14:44.267Z"
   },
   {
    "duration": 459,
    "start_time": "2022-03-28T16:14:44.276Z"
   },
   {
    "duration": 448,
    "start_time": "2022-03-28T16:14:44.737Z"
   },
   {
    "duration": 532,
    "start_time": "2022-03-28T16:14:45.188Z"
   },
   {
    "duration": 16,
    "start_time": "2022-03-28T16:14:45.722Z"
   },
   {
    "duration": 21,
    "start_time": "2022-03-28T16:16:33.308Z"
   },
   {
    "duration": 6,
    "start_time": "2022-03-28T16:16:38.304Z"
   },
   {
    "duration": 6,
    "start_time": "2022-03-28T16:16:47.104Z"
   },
   {
    "duration": 594,
    "start_time": "2022-03-28T16:17:05.347Z"
   },
   {
    "duration": 598,
    "start_time": "2022-03-28T16:18:59.539Z"
   },
   {
    "duration": 838,
    "start_time": "2022-03-28T16:19:14.593Z"
   },
   {
    "duration": 604,
    "start_time": "2022-03-28T16:20:02.139Z"
   },
   {
    "duration": 312,
    "start_time": "2022-03-28T16:20:06.593Z"
   },
   {
    "duration": 18,
    "start_time": "2022-03-28T16:21:07.381Z"
   },
   {
    "duration": 1237,
    "start_time": "2022-03-28T16:21:37.298Z"
   },
   {
    "duration": 603,
    "start_time": "2022-03-28T16:22:00.329Z"
   },
   {
    "duration": 9,
    "start_time": "2022-03-28T16:23:51.030Z"
   },
   {
    "duration": 565,
    "start_time": "2022-03-28T16:24:19.952Z"
   },
   {
    "duration": 721,
    "start_time": "2022-03-28T16:25:39.147Z"
   },
   {
    "duration": 121,
    "start_time": "2022-03-28T16:29:42.506Z"
   },
   {
    "duration": 12,
    "start_time": "2022-03-28T16:30:52.799Z"
   },
   {
    "duration": 12,
    "start_time": "2022-03-28T16:31:09.962Z"
   },
   {
    "duration": 299,
    "start_time": "2022-03-28T16:31:52.055Z"
   },
   {
    "duration": 659,
    "start_time": "2022-03-28T16:32:06.280Z"
   },
   {
    "duration": 751,
    "start_time": "2022-03-28T16:32:35.276Z"
   },
   {
    "duration": 270,
    "start_time": "2022-03-28T16:40:42.181Z"
   },
   {
    "duration": 271,
    "start_time": "2022-03-28T16:40:57.285Z"
   },
   {
    "duration": 276,
    "start_time": "2022-03-28T16:41:50.744Z"
   },
   {
    "duration": 297,
    "start_time": "2022-03-28T16:42:30.951Z"
   },
   {
    "duration": 100421,
    "start_time": "2022-03-28T16:45:38.488Z"
   },
   {
    "duration": 1660,
    "start_time": "2022-03-28T16:47:18.913Z"
   },
   {
    "duration": 23,
    "start_time": "2022-03-28T16:47:20.575Z"
   },
   {
    "duration": 17,
    "start_time": "2022-03-28T16:47:20.600Z"
   },
   {
    "duration": 18,
    "start_time": "2022-03-28T16:47:20.619Z"
   },
   {
    "duration": 16,
    "start_time": "2022-03-28T16:47:20.639Z"
   },
   {
    "duration": 15,
    "start_time": "2022-03-28T16:47:20.657Z"
   },
   {
    "duration": 17,
    "start_time": "2022-03-28T16:47:20.674Z"
   },
   {
    "duration": 44,
    "start_time": "2022-03-28T16:47:20.693Z"
   },
   {
    "duration": 16,
    "start_time": "2022-03-28T16:47:20.739Z"
   },
   {
    "duration": 17,
    "start_time": "2022-03-28T16:47:20.756Z"
   },
   {
    "duration": 19,
    "start_time": "2022-03-28T16:47:20.775Z"
   },
   {
    "duration": 37,
    "start_time": "2022-03-28T16:47:20.796Z"
   },
   {
    "duration": 8,
    "start_time": "2022-03-28T16:47:20.836Z"
   },
   {
    "duration": 146,
    "start_time": "2022-03-28T16:47:20.846Z"
   },
   {
    "duration": 19,
    "start_time": "2022-03-28T16:47:20.993Z"
   },
   {
    "duration": 24,
    "start_time": "2022-03-28T16:47:21.014Z"
   },
   {
    "duration": 22,
    "start_time": "2022-03-28T16:47:21.040Z"
   },
   {
    "duration": 11,
    "start_time": "2022-03-28T16:47:21.064Z"
   },
   {
    "duration": 8,
    "start_time": "2022-03-28T16:47:21.077Z"
   },
   {
    "duration": 45,
    "start_time": "2022-03-28T16:47:21.087Z"
   },
   {
    "duration": 46,
    "start_time": "2022-03-28T16:47:21.134Z"
   },
   {
    "duration": 5,
    "start_time": "2022-03-28T16:47:21.182Z"
   },
   {
    "duration": 19,
    "start_time": "2022-03-28T16:47:21.189Z"
   },
   {
    "duration": 304,
    "start_time": "2022-03-28T16:47:21.209Z"
   },
   {
    "duration": 691,
    "start_time": "2022-03-28T16:47:21.514Z"
   },
   {
    "duration": 616,
    "start_time": "2022-03-28T16:47:22.207Z"
   },
   {
    "duration": 623,
    "start_time": "2022-03-28T16:47:22.824Z"
   },
   {
    "duration": 578,
    "start_time": "2022-03-28T16:47:23.449Z"
   },
   {
    "duration": 609,
    "start_time": "2022-03-28T16:47:24.028Z"
   },
   {
    "duration": 583,
    "start_time": "2022-03-28T16:47:24.639Z"
   },
   {
    "duration": 732,
    "start_time": "2022-03-28T16:47:25.224Z"
   },
   {
    "duration": 669,
    "start_time": "2022-03-28T16:47:25.958Z"
   },
   {
    "duration": 620,
    "start_time": "2022-03-28T16:47:26.631Z"
   },
   {
    "duration": 6,
    "start_time": "2022-03-28T16:47:27.253Z"
   },
   {
    "duration": 13,
    "start_time": "2022-03-28T16:47:27.261Z"
   },
   {
    "duration": 663,
    "start_time": "2022-03-28T16:47:27.276Z"
   },
   {
    "duration": 5,
    "start_time": "2022-03-28T16:47:27.941Z"
   },
   {
    "duration": 760,
    "start_time": "2022-03-28T16:47:27.948Z"
   },
   {
    "duration": 763,
    "start_time": "2022-03-28T16:47:28.710Z"
   },
   {
    "duration": 686,
    "start_time": "2022-03-28T16:47:29.478Z"
   },
   {
    "duration": 1690,
    "start_time": "2022-03-28T16:47:30.166Z"
   },
   {
    "duration": 13,
    "start_time": "2022-03-28T16:47:31.858Z"
   },
   {
    "duration": 30,
    "start_time": "2022-03-28T16:47:31.873Z"
   },
   {
    "duration": 31,
    "start_time": "2022-03-28T16:47:31.905Z"
   },
   {
    "duration": 34,
    "start_time": "2022-03-28T16:47:31.938Z"
   },
   {
    "duration": 960,
    "start_time": "2022-03-28T16:47:31.974Z"
   },
   {
    "duration": 96,
    "start_time": "2022-03-28T16:47:32.937Z"
   },
   {
    "duration": 101,
    "start_time": "2022-03-28T16:47:33.036Z"
   },
   {
    "duration": 193,
    "start_time": "2022-03-28T16:47:33.140Z"
   },
   {
    "duration": 7,
    "start_time": "2022-03-28T16:47:33.335Z"
   },
   {
    "duration": 4,
    "start_time": "2022-03-28T16:47:33.344Z"
   },
   {
    "duration": 362,
    "start_time": "2022-03-28T16:47:33.349Z"
   },
   {
    "duration": 43,
    "start_time": "2022-03-28T16:47:33.713Z"
   },
   {
    "duration": 10,
    "start_time": "2022-03-28T16:47:33.757Z"
   },
   {
    "duration": 7,
    "start_time": "2022-03-28T16:47:33.768Z"
   },
   {
    "duration": 5,
    "start_time": "2022-03-28T16:47:33.776Z"
   },
   {
    "duration": 11,
    "start_time": "2022-03-28T16:47:33.782Z"
   },
   {
    "duration": 609,
    "start_time": "2022-03-28T16:47:33.795Z"
   },
   {
    "duration": 120950,
    "start_time": "2022-03-28T16:47:34.405Z"
   },
   {
    "duration": 1778,
    "start_time": "2022-03-28T16:49:35.357Z"
   },
   {
    "duration": 94,
    "start_time": "2022-03-28T16:49:37.138Z"
   },
   {
    "duration": 22,
    "start_time": "2022-03-28T16:49:37.234Z"
   },
   {
    "duration": 10,
    "start_time": "2022-03-28T16:49:37.258Z"
   },
   {
    "duration": 25,
    "start_time": "2022-03-28T16:49:37.270Z"
   },
   {
    "duration": 442,
    "start_time": "2022-03-28T16:49:37.297Z"
   },
   {
    "duration": 647,
    "start_time": "2022-03-28T16:49:37.740Z"
   },
   {
    "duration": 509,
    "start_time": "2022-03-28T16:49:38.389Z"
   },
   {
    "duration": 10,
    "start_time": "2022-03-28T16:49:38.900Z"
   },
   {
    "duration": 3018,
    "start_time": "2022-03-28T22:22:31.632Z"
   },
   {
    "duration": 2360,
    "start_time": "2022-03-28T22:22:46.282Z"
   },
   {
    "duration": 23,
    "start_time": "2022-03-28T22:22:53.093Z"
   },
   {
    "duration": 22,
    "start_time": "2022-03-28T22:22:54.202Z"
   },
   {
    "duration": 15,
    "start_time": "2022-03-28T22:22:55.593Z"
   },
   {
    "duration": 19,
    "start_time": "2022-03-28T22:22:56.762Z"
   },
   {
    "duration": 15,
    "start_time": "2022-03-28T22:22:57.932Z"
   },
   {
    "duration": 15,
    "start_time": "2022-03-28T22:22:59.652Z"
   },
   {
    "duration": 14,
    "start_time": "2022-03-28T22:23:00.692Z"
   },
   {
    "duration": 14,
    "start_time": "2022-03-28T22:23:02.342Z"
   },
   {
    "duration": 22,
    "start_time": "2022-03-28T22:23:03.652Z"
   },
   {
    "duration": 17,
    "start_time": "2022-03-28T22:23:04.912Z"
   },
   {
    "duration": 10,
    "start_time": "2022-03-28T22:23:08.052Z"
   },
   {
    "duration": 10,
    "start_time": "2022-03-28T22:23:08.432Z"
   },
   {
    "duration": 184,
    "start_time": "2022-03-28T22:23:09.470Z"
   },
   {
    "duration": 22,
    "start_time": "2022-03-28T22:23:11.433Z"
   },
   {
    "duration": 8,
    "start_time": "2022-03-28T22:23:11.952Z"
   },
   {
    "duration": 17,
    "start_time": "2022-03-28T22:23:13.412Z"
   },
   {
    "duration": 10,
    "start_time": "2022-03-28T22:23:14.773Z"
   },
   {
    "duration": 9,
    "start_time": "2022-03-28T22:23:15.712Z"
   },
   {
    "duration": 15,
    "start_time": "2022-03-28T22:23:15.961Z"
   },
   {
    "duration": 53,
    "start_time": "2022-03-28T22:23:19.272Z"
   },
   {
    "duration": 6,
    "start_time": "2022-03-28T22:23:23.032Z"
   },
   {
    "duration": 16,
    "start_time": "2022-03-28T22:23:23.692Z"
   },
   {
    "duration": 227,
    "start_time": "2022-03-28T22:28:32.758Z"
   },
   {
    "duration": 298,
    "start_time": "2022-03-28T22:29:41.654Z"
   },
   {
    "duration": 234,
    "start_time": "2022-03-28T22:32:01.278Z"
   },
   {
    "duration": 212,
    "start_time": "2022-03-28T22:33:55.492Z"
   },
   {
    "duration": 205,
    "start_time": "2022-03-28T22:34:52.148Z"
   },
   {
    "duration": 220,
    "start_time": "2022-03-28T22:35:52.148Z"
   },
   {
    "duration": 219,
    "start_time": "2022-03-28T22:36:41.412Z"
   },
   {
    "duration": 308,
    "start_time": "2022-03-28T22:37:48.788Z"
   },
   {
    "duration": 207,
    "start_time": "2022-03-28T22:38:24.328Z"
   },
   {
    "duration": 5,
    "start_time": "2022-03-28T22:38:25.538Z"
   },
   {
    "duration": 5,
    "start_time": "2022-03-28T22:38:26.098Z"
   },
   {
    "duration": 237,
    "start_time": "2022-03-28T22:38:58.008Z"
   },
   {
    "duration": 7,
    "start_time": "2022-03-28T22:39:08.888Z"
   },
   {
    "duration": 923,
    "start_time": "2022-03-28T22:39:43.536Z"
   },
   {
    "duration": 707,
    "start_time": "2022-03-28T22:39:44.461Z"
   },
   {
    "duration": 221,
    "start_time": "2022-03-28T22:40:17.138Z"
   },
   {
    "duration": 219,
    "start_time": "2022-03-28T22:40:54.695Z"
   },
   {
    "duration": 216,
    "start_time": "2022-03-28T22:41:46.829Z"
   },
   {
    "duration": 1443,
    "start_time": "2022-03-28T22:42:17.159Z"
   },
   {
    "duration": 12,
    "start_time": "2022-03-28T22:42:29.332Z"
   },
   {
    "duration": 4,
    "start_time": "2022-03-28T22:42:33.868Z"
   },
   {
    "duration": 6,
    "start_time": "2022-03-28T22:42:34.798Z"
   },
   {
    "duration": 3,
    "start_time": "2022-03-28T22:42:34.958Z"
   },
   {
    "duration": 652,
    "start_time": "2022-03-28T22:42:35.158Z"
   },
   {
    "duration": 7,
    "start_time": "2022-03-28T22:42:35.903Z"
   },
   {
    "duration": 7,
    "start_time": "2022-03-28T22:42:36.003Z"
   },
   {
    "duration": 98,
    "start_time": "2022-03-28T22:42:36.104Z"
   },
   {
    "duration": 6,
    "start_time": "2022-03-28T22:42:36.204Z"
   },
   {
    "duration": 3,
    "start_time": "2022-03-28T22:42:36.212Z"
   },
   {
    "duration": 330,
    "start_time": "2022-03-28T22:42:36.217Z"
   },
   {
    "duration": 24,
    "start_time": "2022-03-28T22:42:37.492Z"
   },
   {
    "duration": 9,
    "start_time": "2022-03-28T22:42:37.626Z"
   },
   {
    "duration": 7,
    "start_time": "2022-03-28T22:42:37.788Z"
   },
   {
    "duration": 3,
    "start_time": "2022-03-28T22:42:38.738Z"
   },
   {
    "duration": 7,
    "start_time": "2022-03-28T22:42:46.869Z"
   },
   {
    "duration": 516,
    "start_time": "2022-03-28T22:42:47.799Z"
   },
   {
    "duration": 96286,
    "start_time": "2022-03-28T22:42:48.317Z"
   },
   {
    "duration": 1303,
    "start_time": "2022-03-28T22:45:58.906Z"
   },
   {
    "duration": 3,
    "start_time": "2022-03-28T22:46:03.508Z"
   },
   {
    "duration": 19,
    "start_time": "2022-03-28T22:46:04.816Z"
   },
   {
    "duration": 3,
    "start_time": "2022-03-28T22:46:06.419Z"
   },
   {
    "duration": 4,
    "start_time": "2022-03-28T22:46:06.598Z"
   },
   {
    "duration": 373,
    "start_time": "2022-03-28T22:46:06.788Z"
   },
   {
    "duration": 378,
    "start_time": "2022-03-28T22:46:08.238Z"
   },
   {
    "duration": 446,
    "start_time": "2022-03-28T22:46:08.908Z"
   },
   {
    "duration": 10,
    "start_time": "2022-03-28T22:46:10.358Z"
   }
  ],
  "kernelspec": {
   "display_name": "Python 3",
   "language": "python",
   "name": "python3"
  },
  "language_info": {
   "codemirror_mode": {
    "name": "ipython",
    "version": 3
   },
   "file_extension": ".py",
   "mimetype": "text/x-python",
   "name": "python",
   "nbconvert_exporter": "python",
   "pygments_lexer": "ipython3",
   "version": "3.8.8"
  },
  "toc": {
   "base_numbering": 1,
   "nav_menu": {},
   "number_sections": true,
   "sideBar": true,
   "skip_h1_title": true,
   "title_cell": "Table of Contents",
   "title_sidebar": "Contents",
   "toc_cell": false,
   "toc_position": {},
   "toc_section_display": true,
   "toc_window_display": false
  }
 },
 "nbformat": 4,
 "nbformat_minor": 2
}
