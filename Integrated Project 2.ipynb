{
 "cells": [
  {
   "cell_type": "markdown",
   "metadata": {},
   "source": [
    "# Integrated Project 2"
   ]
  },
  {
   "cell_type": "markdown",
   "metadata": {},
   "source": [
    "**Project Description**\n",
    "\n",
    "\n",
    "You work at a startup that sells food products. You need to investigate user behavior for the company's app.\n",
    "\n",
    "\n",
    "- First study the sales funnel. Find out how users reach the purchase stage. How many users actually make it to this stage? How many get stuck at previous stages? Which stages in particular?\n",
    "\n",
    "\n",
    "- Then look at the results of an A/A/B test. (Read on for more information about A/A/B testing.) The designers would like to change the fonts for the entire app, but the managers are afraid the users might find the new design intimidating. They decide to make a decision based on the results of an A/A/B test.\n",
    "\n",
    "\n",
    "- The users are split into three groups: two control groups get the old fonts and one test group gets the new ones. Find out which set of fonts produces better results.\n",
    "\n",
    "\n",
    "- Creating two A groups has certain advantages. We can make it a principle that we will only be confident in the accuracy of our testing when the two control groups are similar. If there are significant differences between the A groups, this can help us uncover factors that may be distorting the results. Comparing control groups also tells us how much time and data we'll need when running further tests.\n",
    "\n",
    "\n",
    "- You'll be using the same dataset for general analytics and for A/A/B analysis. In real projects, experiments are constantly being conducted. Analysts study the quality of an app using general data, without paying attention to whether users are participating in experiments."
   ]
  },
  {
   "cell_type": "markdown",
   "metadata": {},
   "source": [
    "**Description of the data**\n",
    "\n",
    "\n",
    "Each log entry is a user action or an event.\n",
    "\n",
    "\n",
    "- EventName — event name\n",
    "\n",
    "\n",
    "- DeviceIDHash — unique user identifier\n",
    "\n",
    "\n",
    "- EventTimestamp — event time\n",
    "\n",
    "\n",
    "- ExpId — experiment number: 246 and 247 are the control groups, 248 is the test group\n",
    "\n",
    "\n",
    "**Instructions for completing the project**\n",
    "\n",
    "\n",
    "**Step 1. Open the data file and read the general information**\n",
    "\n",
    "\n",
    "File path: /datasets/logs_exp_us.csv Download dataset\n",
    "\n",
    "\n",
    "**Step 2. Prepare the data for analysis**\n",
    "\n",
    "\n",
    "- Rename the columns in a way that's convenient for you\n",
    "\n",
    "\n",
    "- Check for missing values and data types. Correct the data if needed\n",
    "\n",
    "\n",
    "- Add a date and time column and a separate column for dates\n",
    "\n",
    "\n",
    "**Step 3. Study and check the data**\n",
    "\n",
    "\n",
    "- How many events are in the logs?\n",
    "\n",
    "\n",
    "- How many users are in the logs?\n",
    "\n",
    "\n",
    "- What's the average number of events per user?\n",
    "\n",
    "\n",
    "- What period of time does the data cover? Find the maximum and the minimum date. Plot a histogram by date and time. Can you be sure that you have equally complete data for the entire period? Older events could end up in some users' logs for technical reasons, and this could skew the overall picture. Find the moment at which the data starts to be complete and ignore the earlier section. What period does the data actually represent?\n",
    "\n",
    "\n",
    "- Did you lose many events and users when excluding the older data?\n",
    "\n",
    "\n",
    "- Make sure you have users from all three experimental groups.\n",
    "\n",
    "\n",
    "**Step 4. Study the event funnel**\n",
    "\n",
    "\n",
    "- See what events are in the logs and their frequency of occurrence. Sort them by frequency.\n",
    "\n",
    "\n",
    "- Find the number of users who performed each of these actions. Sort the events by the number of users. Calculate the proportion of users who performed the action at least once.\n",
    "\n",
    "\n",
    "- In what order do you think the actions took place. Are all of them part of a single sequence? You don't need to take them into account when calculating the funnel.\n",
    "\n",
    "\n",
    "- Use the event funnel to find the share of users that proceed from each stage to the next. (For instance, for the sequence of events A → B → C, calculate the ratio of users at stage B to the number of users at stage A and the ratio of users at stage C to the number at stage B.)\n",
    "\n",
    "\n",
    "- At what stage do you lose the most users?\n",
    "\n",
    "\n",
    "- What share of users make the entire journey from their first event to payment?\n",
    "\n",
    "\n",
    "**Step 5. Study the results of the experiment**\n",
    "\n",
    "\n",
    "- How many users are there in each group?\n",
    "\n",
    "\n",
    "- We have two control groups in the A/A test, where we check our mechanisms and calculations. See if there is a statistically significant difference between samples 246 and 247.\n",
    "\n",
    "\n",
    "- Select the most popular event. In each of the control groups, find the number of users who performed this action. Find their share. Check whether the difference between the groups is statistically significant. Repeat the procedure for all other events (it will save time if you create a special function for this test). Can you confirm that the groups were split properly?\n",
    "\n",
    "\n",
    "- Do the same thing for the group with altered fonts. Compare the results with those of each of the control groups for each event in isolation. Compare the results with the combined results for the control groups. What conclusions can you draw from the experiment?\n",
    "\n",
    "\n",
    "- What significance level have you set to test the statistical hypotheses mentioned above? Calculate how many statistical hypothesis tests you carried out. With a statistical significance level of 0.1, one in 10 results could be false. What should the significance level be? If you want to change it, run through the previous steps again and check your conclusions."
   ]
  },
  {
   "cell_type": "markdown",
   "metadata": {},
   "source": [
    "# Step 1. Open the data file and read the general information"
   ]
  },
  {
   "cell_type": "markdown",
   "metadata": {},
   "source": [
    "Let's import the libraries that we need to start our research.\n"
   ]
  },
  {
   "cell_type": "code",
   "execution_count": null,
   "metadata": {},
   "outputs": [],
   "source": [
    "#!pip install -q plotly==5.5.0"
   ]
  },
  {
   "cell_type": "code",
   "execution_count": null,
   "metadata": {},
   "outputs": [],
   "source": [
    "#pip install -U sidetable"
   ]
  },
  {
   "cell_type": "code",
   "execution_count": null,
   "metadata": {},
   "outputs": [],
   "source": [
    "import math\n",
    "from scipy import stats\n",
    "import pandas as pd\n",
    "import datetime\n",
    "from datetime import datetime\n",
    "import sidetable\n",
    "import seaborn as sns\n",
    "from matplotlib import pyplot as plt\n",
    "import numpy as np\n",
    "import plotly.express as px\n",
    "import plotly.graph_objects as go\n",
    "import warnings"
   ]
  },
  {
   "cell_type": "markdown",
   "metadata": {},
   "source": [
    "Let's read the data and study the general information."
   ]
  },
  {
   "cell_type": "code",
   "execution_count": null,
   "metadata": {},
   "outputs": [],
   "source": [
    "data = pd.read_csv('/datasets/logs_exp_us.csv')"
   ]
  },
  {
   "cell_type": "markdown",
   "metadata": {},
   "source": [
    "# Step 2. Prepare the data for analysis\n"
   ]
  },
  {
   "cell_type": "code",
   "execution_count": null,
   "metadata": {},
   "outputs": [],
   "source": [
    "data.head()"
   ]
  },
  {
   "cell_type": "markdown",
   "metadata": {},
   "source": [
    "We see from the head that we need to separate the columns."
   ]
  },
  {
   "cell_type": "markdown",
   "metadata": {},
   "source": [
    "**Rename the columns in a way that's convenient for you**"
   ]
  },
  {
   "cell_type": "code",
   "execution_count": null,
   "metadata": {},
   "outputs": [],
   "source": [
    "data = pd.read_csv('/datasets/logs_exp_us.csv', sep='\\t')\n",
    "data.columns =['event_name','user_id','timestamp','experiment_id']"
   ]
  },
  {
   "cell_type": "code",
   "execution_count": null,
   "metadata": {},
   "outputs": [],
   "source": [
    "data.head()"
   ]
  },
  {
   "cell_type": "code",
   "execution_count": null,
   "metadata": {},
   "outputs": [],
   "source": [
    "data.shape"
   ]
  },
  {
   "cell_type": "markdown",
   "metadata": {},
   "source": [
    "We have 244126 rows with four columns.\n"
   ]
  },
  {
   "cell_type": "code",
   "execution_count": null,
   "metadata": {},
   "outputs": [],
   "source": [
    "data.info()"
   ]
  },
  {
   "cell_type": "markdown",
   "metadata": {},
   "source": [
    "Look like we dont have missing values, but we need to change data types.\n"
   ]
  },
  {
   "cell_type": "code",
   "execution_count": null,
   "metadata": {},
   "outputs": [],
   "source": [
    "data.stb.missing()"
   ]
  },
  {
   "cell_type": "markdown",
   "metadata": {},
   "source": [
    "No missing values.\n"
   ]
  },
  {
   "cell_type": "markdown",
   "metadata": {},
   "source": [
    "Let's change the data type of the timestamp column.\n"
   ]
  },
  {
   "cell_type": "code",
   "execution_count": null,
   "metadata": {},
   "outputs": [],
   "source": [
    "data['timestamp']=data['timestamp'].apply(lambda x:datetime.fromtimestamp(x))\n",
    "data.head()"
   ]
  },
  {
   "cell_type": "markdown",
   "metadata": {},
   "source": [
    "Let's look at duplicated values."
   ]
  },
  {
   "cell_type": "code",
   "execution_count": null,
   "metadata": {},
   "outputs": [],
   "source": [
    "data.duplicated().sum()"
   ]
  },
  {
   "cell_type": "markdown",
   "metadata": {},
   "source": [
    "There are 413 duplicated rows in our data.\n"
   ]
  },
  {
   "cell_type": "code",
   "execution_count": null,
   "metadata": {},
   "outputs": [],
   "source": [
    "data.loc[data.duplicated(keep=False), :]"
   ]
  },
  {
   "cell_type": "markdown",
   "metadata": {},
   "source": [
    "It seems like some of the events for the same users appear twice.\n"
   ]
  },
  {
   "cell_type": "markdown",
   "metadata": {},
   "source": [
    "Le's dive deeper into this problem."
   ]
  },
  {
   "cell_type": "code",
   "execution_count": null,
   "metadata": {},
   "outputs": [],
   "source": [
    "for i in data[data.duplicated()].columns:\n",
    "    print(i,':', data[data.duplicated()][i].nunique())"
   ]
  },
  {
   "cell_type": "markdown",
   "metadata": {},
   "source": [
    "Look like we have duplicated values in all five events, in 237 ids which is a lot, and at different times."
   ]
  },
  {
   "cell_type": "code",
   "execution_count": null,
   "metadata": {},
   "outputs": [],
   "source": [
    "data[data.duplicated()]['timestamp'].dt.date.unique()"
   ]
  },
  {
   "cell_type": "markdown",
   "metadata": {},
   "source": [
    "The duplicated values appear from the 30th of month 7 to the 6th of month 8.\n",
    "it can happen due to a technical problem. We will notify the data engineer and our colleges about this."
   ]
  },
  {
   "cell_type": "markdown",
   "metadata": {},
   "source": [
    "For now, we will drop the duplicated values."
   ]
  },
  {
   "cell_type": "code",
   "execution_count": null,
   "metadata": {},
   "outputs": [],
   "source": [
    "data=data.drop_duplicates()"
   ]
  },
  {
   "cell_type": "code",
   "execution_count": null,
   "metadata": {},
   "outputs": [],
   "source": [
    "data.shape"
   ]
  },
  {
   "cell_type": "markdown",
   "metadata": {},
   "source": [
    "There are no duplicated values.\n"
   ]
  },
  {
   "cell_type": "markdown",
   "metadata": {},
   "source": [
    "Find out how users reach the purchase stage. How many users actually make it to this stage? How many get stuck at previous stages? Which stages in particular?"
   ]
  },
  {
   "cell_type": "markdown",
   "metadata": {},
   "source": [
    "Let's look at the event names."
   ]
  },
  {
   "cell_type": "code",
   "execution_count": null,
   "metadata": {},
   "outputs": [],
   "source": [
    "data.stb.freq(['event_name'])"
   ]
  },
  {
   "cell_type": "markdown",
   "metadata": {},
   "source": [
    "34,118 reach the purchase stage.\n",
    "42,668 reach the add to cart stage."
   ]
  },
  {
   "cell_type": "code",
   "execution_count": null,
   "metadata": {},
   "outputs": [],
   "source": [
    "42668 - 34118"
   ]
  },
  {
   "cell_type": "markdown",
   "metadata": {},
   "source": [
    "8,550 got stuck in the previous step."
   ]
  },
  {
   "cell_type": "markdown",
   "metadata": {},
   "source": [
    "# Step 3. Study and check the data"
   ]
  },
  {
   "cell_type": "markdown",
   "metadata": {},
   "source": [
    "**How many events are in the logs?**"
   ]
  },
  {
   "cell_type": "code",
   "execution_count": null,
   "metadata": {},
   "outputs": [],
   "source": [
    "data['event_name'].nunique()"
   ]
  },
  {
   "cell_type": "markdown",
   "metadata": {},
   "source": [
    "we have 5 events."
   ]
  },
  {
   "cell_type": "markdown",
   "metadata": {},
   "source": [
    "**How many users are in the logs?**"
   ]
  },
  {
   "cell_type": "code",
   "execution_count": null,
   "metadata": {},
   "outputs": [],
   "source": [
    "data['user_id'].nunique()"
   ]
  },
  {
   "cell_type": "markdown",
   "metadata": {},
   "source": [
    "7551 users."
   ]
  },
  {
   "cell_type": "markdown",
   "metadata": {},
   "source": [
    "**What's the average number of events per user?**"
   ]
  },
  {
   "cell_type": "code",
   "execution_count": null,
   "metadata": {},
   "outputs": [],
   "source": [
    "data.groupby(['user_id'])['event_name'].count().mean()"
   ]
  },
  {
   "cell_type": "markdown",
   "metadata": {},
   "source": [
    "the avg. number of events per user is 32.275"
   ]
  },
  {
   "cell_type": "markdown",
   "metadata": {},
   "source": [
    "**What period of time does the data cover? Find the maximum and the minimum date. Plot a histogram by date and time. Can you be sure that you have equally complete data for the entire period?** \n"
   ]
  },
  {
   "cell_type": "markdown",
   "metadata": {},
   "source": [
    "Let's look at the daily activity "
   ]
  },
  {
   "cell_type": "code",
   "execution_count": null,
   "metadata": {},
   "outputs": [],
   "source": [
    "fig = px.histogram(data, x=\"timestamp\")\n",
    "fig.show()"
   ]
  },
  {
   "cell_type": "code",
   "execution_count": null,
   "metadata": {},
   "outputs": [],
   "source": [
    "data['timestamp'].min()"
   ]
  },
  {
   "cell_type": "code",
   "execution_count": null,
   "metadata": {},
   "outputs": [],
   "source": [
    "data['timestamp'].max()"
   ]
  },
  {
   "cell_type": "markdown",
   "metadata": {},
   "source": [
    "we can see that most of the actions happened during the day.\n",
    "Those big fall downs are just the activity during the night.\n",
    "the data cover dates between 2019-07-25 04:43:36 to 2019-08-07 21:15:17.\n",
    "We can say that the experiment started on Aug 1.\n",
    "We can't be sure about the data before Aug 1, so we will move forward with Aug 1."
   ]
  },
  {
   "cell_type": "markdown",
   "metadata": {},
   "source": [
    "**Older events could end up in some users' logs for technical reasons, and this could skew the overall picture. Find the moment at which the data starts to be complete and ignore the earlier section. What period does the data actually represent?**"
   ]
  },
  {
   "cell_type": "markdown",
   "metadata": {},
   "source": [
    "Let's cut the data and save it on a new data frame."
   ]
  },
  {
   "cell_type": "code",
   "execution_count": null,
   "metadata": {},
   "outputs": [],
   "source": [
    "data_new = data.query('timestamp >= \"2019-08-01\"')"
   ]
  },
  {
   "cell_type": "code",
   "execution_count": null,
   "metadata": {},
   "outputs": [],
   "source": [
    "fig = px.histogram(data_new, x=\"timestamp\")\n",
    "fig.show()"
   ]
  },
  {
   "cell_type": "markdown",
   "metadata": {},
   "source": [
    "That looks much better."
   ]
  },
  {
   "cell_type": "markdown",
   "metadata": {},
   "source": [
    "**Did you lose many events and users when excluding the older data?\n",
    "Make sure you have users from all three experimental groups.**"
   ]
  },
  {
   "cell_type": "code",
   "execution_count": null,
   "metadata": {},
   "outputs": [],
   "source": [
    "data_new['event_name'].value_counts()"
   ]
  },
  {
   "cell_type": "code",
   "execution_count": null,
   "metadata": {},
   "outputs": [],
   "source": [
    "data['event_name'].value_counts()"
   ]
  },
  {
   "cell_type": "code",
   "execution_count": null,
   "metadata": {},
   "outputs": [],
   "source": [
    "event_lose= data['event_name'].value_counts() - data_new['event_name'].value_counts()\n",
    "event_lose"
   ]
  },
  {
   "cell_type": "markdown",
   "metadata": {},
   "source": [
    "We did lose some events but compared it to the amount of data; it is not a lot."
   ]
  },
  {
   "cell_type": "markdown",
   "metadata": {},
   "source": [
    "Let's see how many users we lose."
   ]
  },
  {
   "cell_type": "code",
   "execution_count": null,
   "metadata": {},
   "outputs": [],
   "source": [
    "data['user_id'].nunique()"
   ]
  },
  {
   "cell_type": "code",
   "execution_count": null,
   "metadata": {},
   "outputs": [],
   "source": [
    "user_lose=data['user_id'].nunique()-data_new['user_id'].nunique()\n",
    "user_lose"
   ]
  },
  {
   "cell_type": "markdown",
   "metadata": {},
   "source": [
    "It looks like we lost 17 users, which is not a lot compared to the number of unique users in our experiment."
   ]
  },
  {
   "cell_type": "markdown",
   "metadata": {},
   "source": [
    "# Step 4. Study the event funnel"
   ]
  },
  {
   "cell_type": "markdown",
   "metadata": {},
   "source": [
    "**See what events are in the logs and their frequency of occurrence. Sort them by frequency.**"
   ]
  },
  {
   "cell_type": "code",
   "execution_count": null,
   "metadata": {},
   "outputs": [],
   "source": [
    "data_events=data_new.groupby(['event_name'])['user_id'].count().sort_values(ascending=False).reset_index()\n",
    "data_events"
   ]
  },
  {
   "cell_type": "markdown",
   "metadata": {},
   "source": [
    "MainScreenAppear is First place, OffersScreenAppear second place, CartScreenAppear is third place, PaymentScreenSuccessful is fourth, and Tutorial is in place 5.\n",
    "It seems like the event funnel is going down in users logically until our primary goal is a purchase. The Tutorial is part of the primary funnel."
   ]
  },
  {
   "cell_type": "markdown",
   "metadata": {},
   "source": [
    "**Find the number of users who performed each of these actions. Sort the events by the number of users. Calculate the proportion of users who performed the action at least once.**"
   ]
  },
  {
   "cell_type": "code",
   "execution_count": null,
   "metadata": {},
   "outputs": [],
   "source": [
    "proportion=data_new.groupby(['event_name'])['user_id'].nunique().sort_values(ascending=False).reset_index()\n",
    "proportion"
   ]
  },
  {
   "cell_type": "markdown",
   "metadata": {},
   "source": [
    "The amount of user action follows the logical funnel.\n"
   ]
  },
  {
   "cell_type": "code",
   "execution_count": null,
   "metadata": {},
   "outputs": [],
   "source": [
    "proportion['prc']=proportion['user_id']/data.user_id.nunique()\n",
    "proportion"
   ]
  },
  {
   "cell_type": "code",
   "execution_count": null,
   "metadata": {},
   "outputs": [],
   "source": [
    "proportion['prc']=proportion['prc'].sort_values(ascending=False)"
   ]
  },
  {
   "cell_type": "code",
   "execution_count": null,
   "metadata": {},
   "outputs": [],
   "source": [
    "data_new.groupby(['event_name'])['user_id'].nunique().sort_values(ascending=False)/data.user_id.nunique()\n"
   ]
  },
  {
   "cell_type": "code",
   "execution_count": null,
   "metadata": {},
   "outputs": [],
   "source": [
    "fig=px.funnel(proportion,x='prc',y='event_name',color='event_name')\n",
    "fig.show()"
   ]
  },
  {
   "cell_type": "markdown",
   "metadata": {},
   "source": [
    "**In what order do you think the actions took place. Are all of them part of a single sequence? You don't need to take them into account when calculating the funnel.**"
   ]
  },
  {
   "cell_type": "markdown",
   "metadata": {},
   "source": [
    "It seems like the Funnel of users moves from the main screen to the offer to add to the cart and then the purchase screen. The tutorial event is not a primary part of this Funnel."
   ]
  },
  {
   "cell_type": "code",
   "execution_count": null,
   "metadata": {},
   "outputs": [],
   "source": [
    "sorted_data=data_new[data_new['event_name']!='Tutorial'].sort_values(by=['user_id','timestamp'])"
   ]
  },
  {
   "cell_type": "code",
   "execution_count": null,
   "metadata": {},
   "outputs": [],
   "source": [
    "sorted_data.sample()"
   ]
  },
  {
   "cell_type": "markdown",
   "metadata": {},
   "source": [
    "Users usually start their customer journey on the main screen. This very much makes sense.\n"
   ]
  },
  {
   "cell_type": "markdown",
   "metadata": {},
   "source": [
    "Let's look at the customer journey of one of our users.\n"
   ]
  },
  {
   "cell_type": "code",
   "execution_count": null,
   "metadata": {},
   "outputs": [],
   "source": [
    "sorted_data[sorted_data.user_id==8619840625096464102]"
   ]
  },
  {
   "cell_type": "code",
   "execution_count": null,
   "metadata": {},
   "outputs": [],
   "source": [
    "def sequence(user):\n",
    "    sorted_user=sorted_data[sorted_data['user_id']==user].sort_values(by=['user_id','timestamp'])\n",
    "    return sorted_user['event_name'].drop_duplicates().to_list()"
   ]
  },
  {
   "cell_type": "code",
   "execution_count": null,
   "metadata": {},
   "outputs": [],
   "source": [
    "sequence(8619840625096464102)"
   ]
  },
  {
   "cell_type": "markdown",
   "metadata": {},
   "source": [
    "It looks like this user starts his journey on the main screen, and he moves right to the cart page and does not look at the offer screen, which means that users can skip steps in the Funnel all their way to the purchase stage."
   ]
  },
  {
   "cell_type": "markdown",
   "metadata": {},
   "source": [
    "Let's create a path for all our users in our data."
   ]
  },
  {
   "cell_type": "code",
   "execution_count": null,
   "metadata": {},
   "outputs": [],
   "source": [
    "sequence_empty=[]\n",
    "for i in sorted_data.user_id.unique():\n",
    "    sequence_empty.append([i,sequence(i)])"
   ]
  },
  {
   "cell_type": "code",
   "execution_count": null,
   "metadata": {},
   "outputs": [],
   "source": [
    "path_data=pd.DataFrame(sequence_empty,columns=['user','path'])\n",
    "path_data"
   ]
  },
  {
   "cell_type": "code",
   "execution_count": null,
   "metadata": {},
   "outputs": [],
   "source": [
    "path_data['path'].value_counts()"
   ]
  },
  {
   "cell_type": "markdown",
   "metadata": {},
   "source": [
    "The most common path for the users is to leave after visiting the main page."
   ]
  },
  {
   "cell_type": "markdown",
   "metadata": {},
   "source": [
    "**Use the event funnel to find the share of users that proceed from each stage to the next. (For instance, for the sequence of events A → B → C, calculate the ratio of users at stage B to the number of users at stage A and the ratio of users at stage C to the number at stage B.)**"
   ]
  },
  {
   "cell_type": "code",
   "execution_count": null,
   "metadata": {},
   "outputs": [],
   "source": [
    "data_new=data_new[data_new['event_name'] != 'Tutorial']"
   ]
  },
  {
   "cell_type": "code",
   "execution_count": null,
   "metadata": {},
   "outputs": [],
   "source": [
    "funnel_shift=data_new.groupby(['event_name'])['user_id'].nunique().sort_values(ascending=False).reset_index()\n",
    "funnel_shift"
   ]
  },
  {
   "cell_type": "code",
   "execution_count": null,
   "metadata": {},
   "outputs": [],
   "source": [
    "funnel_shift['perc_ch']=funnel_shift['user_id'].pct_change()\n",
    "funnel_shift"
   ]
  },
  {
   "cell_type": "markdown",
   "metadata": {},
   "source": [
    "**At what stage do you lose the most users?\n",
    "What share of users make the entire journey from their first event to payment?**"
   ]
  },
  {
   "cell_type": "markdown",
   "metadata": {},
   "source": [
    "Look like the majority of users leave after looking on the main screen.(38%)\n",
    "Look like we lost 61.9% of users until we got to the payment stage."
   ]
  },
  {
   "cell_type": "code",
   "execution_count": null,
   "metadata": {},
   "outputs": [],
   "source": [
    "funnel_by_groups=[]\n",
    "for i in data_new.experiment_id.unique():\n",
    "    group=data_new[data_new.experiment_id==i].groupby(['event_name','experiment_id'])['user_id'].nunique().reset_index().sort_values(by='user_id',ascending=False)\n",
    "    display(group)\n",
    "    funnel_by_groups.append(group)\n",
    "    "
   ]
  },
  {
   "cell_type": "code",
   "execution_count": null,
   "metadata": {},
   "outputs": [],
   "source": [
    "funnel_by_groups=pd.concat(funnel_by_groups)\n",
    "funnel_by_groups"
   ]
  },
  {
   "cell_type": "code",
   "execution_count": null,
   "metadata": {},
   "outputs": [],
   "source": [
    "fig=px.funnel(funnel_by_groups,x='user_id',y='event_name',color='experiment_id')\n",
    "fig.show()"
   ]
  },
  {
   "cell_type": "markdown",
   "metadata": {},
   "source": [
    "# **Step 5. Study the results of the experiment**\n"
   ]
  },
  {
   "cell_type": "markdown",
   "metadata": {},
   "source": [
    "<li>How many users are there in each group?\n",
    "<li>We have two control groups in the A/A test, where we check our mechanisms and calculations. \n",
    "See if there is a statistically significant difference between samples 246 and 247: \n",
    "   <li> Select the most popular event. In each of the control groups, find the number of users who performed this action. \n",
    "Find their share. Check whether the difference between the groups is statistically significant. Repeat the procedure for all other events (it will save time if you create a special function for this test). Can you confirm that the groups were split properly? (A/A) 246 vs 247\n",
    "<li>Do the same thing for the group with altered fonts. (A/B) \n",
    "    \n",
    " Compare the results with those of each of the control groups for each event in isolation. (247 vs 248 and 246 vs 248)\n",
    "    \n",
    "    \n",
    "    \n",
    "    \n",
    "    Compare the results with the combined results for the control groups.(247+246 vs 248)\n",
    "    What conclusions can you draw from the experiment?\n",
    "<li>What significance level have you set to test the statistical hypotheses mentioned above? Calculate how many statistical hypothesis tests you carried out. With a statistical significance level of 0.1, one in 10 results could be false. What should the significance level be? If you want to change it, run through the previous steps again and check your conclusions."
   ]
  },
  {
   "cell_type": "markdown",
   "metadata": {},
   "source": [
    "### **How many users are there in each group?**"
   ]
  },
  {
   "cell_type": "code",
   "execution_count": null,
   "metadata": {},
   "outputs": [],
   "source": [
    "data_new.groupby(['experiment_id'])['user_id'].nunique()"
   ]
  },
  {
   "cell_type": "markdown",
   "metadata": {},
   "source": [
    "There are 2489 in the first control group.\n",
    "There are 2520 in the second control group.\n",
    "There are 2542 in the experiment group.\n",
    "Let's check if we have a user id in both groups."
   ]
  },
  {
   "cell_type": "code",
   "execution_count": null,
   "metadata": {},
   "outputs": [],
   "source": [
    "data_new.groupby(['user_id'])['experiment_id'].nunique().reset_index().query('experiment_id>1')"
   ]
  },
  {
   "cell_type": "markdown",
   "metadata": {},
   "source": [
    "**We have two control groups in the A/A test, where we check our mechanisms and calculations. \n",
    "See if there is a statistically significant difference between samples 246 and 247:** "
   ]
  },
  {
   "cell_type": "markdown",
   "metadata": {},
   "source": [
    "requirements for proprotion test:\n",
    "   <li> The sampling method is simple random sampling.\n",
    "  <li> Each sample point can result in just two possible outcomes. We call one of these outcomes a success and the other, a failure.\n",
    "  <li> The sample includes at least 10 successes and 10 failures.\n",
    "  <li> The population size is at least 20 times as big as the sample size."
   ]
  },
  {
   "cell_type": "code",
   "execution_count": null,
   "metadata": {},
   "outputs": [],
   "source": [
    "from scipy import stats as st\n",
    "import numpy as np\n",
    "import math as mth\n",
    "alpha = .05 # significance level\n",
    "\n",
    "successes = np.array([78, 120])\n",
    "trials = np.array([830, 909])\n",
    "\n",
    "# success proportion in the first group:\n",
    "p1 = successes[0]/trials[0]\n",
    "\n",
    "# success proportion in the second group:\n",
    "p2 = successes[1]/trials[1]\n",
    "\n",
    "# success proportion in the combined dataset:\n",
    "p_combined = (successes[0] + successes[1]) / (trials[0] + trials[1])\n",
    "\n",
    "# the difference between the datasets' proportions\n",
    "difference = p1 - p2\n",
    "# calculating the statistic in standard deviations of the standard normal distribution\n",
    "#z_value = difference / mth.sqrt(p_combined * (1 - p_combined) * (1/trials[0] + 1/trials[1]))\n",
    "\n",
    "# setting up the standard normal distribution (mean 0, standard deviation 1)\n",
    "distr = st.norm(0, 1)\n",
    "# calculating the statistic in standard deviations of the standard normal distribution\n",
    "z_value = difference / mth.sqrt(p_combined * (1 - p_combined) * (1/trials[0] + 1/trials[1]))\n",
    "\n",
    "# setting up the standard normal distribution (mean 0, standard deviation 1)\n",
    "distr = st.norm(0, 1) \n",
    "\n",
    "p_value = (1 - distr.cdf(abs(z_value))) * 2\n",
    "\n",
    "print('p-value: ', p_value)\n",
    "\n",
    "if (p_value < alpha):\n",
    "    print(\"Rejecting the null hypothesis: there is a significant difference between the proportions\")\n",
    "else:\n",
    "    print(\"Failed to reject the null hypothesis: there is no reason to consider the proportions different\")"
   ]
  },
  {
   "cell_type": "code",
   "execution_count": null,
   "metadata": {},
   "outputs": [],
   "source": [
    "test_1=data_new[data_new.experiment_id==246]['user_id'].unique()\n",
    "test_2=data_new[data_new.experiment_id==247]['user_id'].unique()\n",
    "control=data_new[data_new.experiment_id==248]['user_id'].unique()\n"
   ]
  },
  {
   "cell_type": "markdown",
   "metadata": {},
   "source": [
    "Suppose, in the middle of the project you get a pivot like the one below and you need to compare the 'conversion' of two test groups for different events. So you need to check whether two test groups are significantly different in each event."
   ]
  },
  {
   "cell_type": "code",
   "execution_count": null,
   "metadata": {},
   "outputs": [],
   "source": [
    "pivot=data_new.pivot_table(index='event_name', columns='experiment_id',values='user_id',aggfunc='nunique').reset_index()"
   ]
  },
  {
   "cell_type": "code",
   "execution_count": null,
   "metadata": {},
   "outputs": [],
   "source": [
    "pivot"
   ]
  },
  {
   "cell_type": "code",
   "execution_count": null,
   "metadata": {},
   "outputs": [],
   "source": [
    "pivot[pivot.event_name=='CartScreenAppear'][246].iloc[0]"
   ]
  },
  {
   "cell_type": "markdown",
   "metadata": {},
   "source": [
    "Now we have lists with our users from each group and we can use it in calculation of our proportions) "
   ]
  },
  {
   "cell_type": "markdown",
   "metadata": {},
   "source": [
    "We can access this value of success directly from our pivot table)"
   ]
  },
  {
   "cell_type": "code",
   "execution_count": null,
   "metadata": {},
   "outputs": [],
   "source": [
    "def check_hypothesis(group1,group2,event,alpha=0.05):\n",
    "    success1=pivot[pivot.event_name==event][group1].iloc[0]\n",
    "    success2=pivot[pivot.event_name==event][group2].iloc[0]\n",
    "    \n",
    "    trials1=data_new[data_new.experiment_id==group1]['user_id'].nunique()\n",
    "    trials2=data_new[data_new.experiment_id==group2]['user_id'].nunique()\n",
    "    \n",
    "    \n",
    "    # success proportion in the first group:\n",
    "    p1 = success1/trials1\n",
    "\n",
    "    # success proportion in the second group:\n",
    "    p2 = success2/trials2\n",
    "\n",
    "    # success proportion in the combined dataset:\n",
    "    p_combined = (success1 + success2) / (trials1 + trials2)\n",
    "\n",
    "    # the difference between the datasets' proportions\n",
    "    difference = p1 - p2\n",
    "    # calculating the statistic in standard deviations of the standard normal distribution\n",
    "    z_value = difference / mth.sqrt(p_combined * (1 - p_combined) * (1/trials1 + 1/trials2))\n",
    "\n",
    "    # setting up the standard normal distribution (mean 0, standard deviation 1)\n",
    "    distr = st.norm(0, 1)\n",
    "    # calculating the statistic in standard deviations of the standard normal distribution\n",
    "\n",
    "\n",
    "    p_value = (1 - distr.cdf(abs(z_value))) * 2\n",
    "\n",
    "    print('p-value: ', p_value)\n",
    "\n",
    "    if (p_value < alpha):\n",
    "        print(\"Rejecting the null hypothesis for\", event,\"and groups\", group1,group2)\n",
    "    else:\n",
    "        print(\"Failed to reject the null hypothesis for\",event,\"and groups\", group1,group2 )\n",
    "    "
   ]
  },
  {
   "cell_type": "code",
   "execution_count": null,
   "metadata": {},
   "outputs": [],
   "source": [
    "check_hypothesis(246,247,'CartScreenAppear',alpha=0.05)"
   ]
  },
  {
   "cell_type": "markdown",
   "metadata": {},
   "source": [
    "What are we actually checking? Whether there is a statistical difference in conversion aka proportion - \"Is the share of users (from all users in the test) that had \"CartScreenAppear of one test group is statistically different from another?\""
   ]
  },
  {
   "cell_type": "code",
   "execution_count": null,
   "metadata": {},
   "outputs": [],
   "source": [
    "for i in pivot.event_name.unique():\n",
    "    check_hypothesis(246,247,i,alpha=0.05)"
   ]
  },
  {
   "cell_type": "markdown",
   "metadata": {},
   "source": [
    "Thus, knowing the event name and the name of the group, we can access any value of success from our pivot table for any event. Keep in mind that value of trials will always be the same - the number of users in the groups)"
   ]
  },
  {
   "cell_type": "markdown",
   "metadata": {},
   "source": [
    "nowwe can say that the split was done correctlly becuase we failed to reject the null hypothesis for our control group."
   ]
  },
  {
   "cell_type": "markdown",
   "metadata": {},
   "source": [
    "**Do the same thing for the group with altered fonts. (A/B)\n",
    "Compare the results with those of each of the control groups for each event in isolation. (247 vs 248 and 246 vs 248)**"
   ]
  },
  {
   "cell_type": "code",
   "execution_count": null,
   "metadata": {},
   "outputs": [],
   "source": [
    "for i in pivot.event_name.unique():\n",
    "    check_hypothesis(247,248,i,alpha=0.05)"
   ]
  },
  {
   "cell_type": "code",
   "execution_count": null,
   "metadata": {},
   "outputs": [],
   "source": [
    "for i in pivot.event_name.unique():\n",
    "    check_hypothesis(246,248,i,alpha=0.05)"
   ]
  },
  {
   "cell_type": "markdown",
   "metadata": {},
   "source": [
    "we Failed to reject the null hypothesis in all events of the groups."
   ]
  },
  {
   "cell_type": "markdown",
   "metadata": {},
   "source": [
    "**Compare the results with the combined results for the control groups.(247+246 vs 248)\n",
    "What conclusions can you draw from the experiment?**"
   ]
  },
  {
   "cell_type": "code",
   "execution_count": null,
   "metadata": {},
   "outputs": [],
   "source": [
    "pivot"
   ]
  },
  {
   "cell_type": "code",
   "execution_count": null,
   "metadata": {},
   "outputs": [],
   "source": [
    "pivot.columns"
   ]
  },
  {
   "cell_type": "code",
   "execution_count": null,
   "metadata": {},
   "outputs": [],
   "source": [
    "pivot.columns = ['event_name', 'control_1', 'control_2', 'test']"
   ]
  },
  {
   "cell_type": "code",
   "execution_count": null,
   "metadata": {},
   "outputs": [],
   "source": [
    "pivot['combined_control'] = pivot['control_1'] + pivot['control_2']\n",
    "pivot"
   ]
  },
  {
   "cell_type": "code",
   "execution_count": null,
   "metadata": {},
   "outputs": [],
   "source": [
    "from scipy.stats import levene"
   ]
  },
  {
   "cell_type": "code",
   "execution_count": null,
   "metadata": {},
   "outputs": [],
   "source": [
    "levene(pivot['combined_control'], pivot['test'])"
   ]
  },
  {
   "cell_type": "code",
   "execution_count": null,
   "metadata": {},
   "outputs": [],
   "source": [
    "Levene_pvalue = 0.48668816154181105"
   ]
  },
  {
   "cell_type": "code",
   "execution_count": null,
   "metadata": {},
   "outputs": [],
   "source": [
    "Levene_alpha = 0.05\n",
    "\n",
    "if (Levene_pvalue < Levene_alpha):\n",
    "    print(\"Rejecting the null hypothesis\")\n",
    "else:\n",
    "    print(\"Failed to reject the null hypothesis\")"
   ]
  },
  {
   "cell_type": "markdown",
   "metadata": {},
   "source": [
    "We can also see it visually through a histogram."
   ]
  },
  {
   "cell_type": "code",
   "execution_count": null,
   "metadata": {},
   "outputs": [],
   "source": [
    "pivot.hist('combined_control', bins=100)\n",
    "pivot.hist('test', bins=100)\n",
    "plt.show()"
   ]
  },
  {
   "cell_type": "markdown",
   "metadata": {},
   "source": [
    "As we can see, the numbers are higher for each event in the combined_control, but the data distribution is almost identical."
   ]
  },
  {
   "cell_type": "markdown",
   "metadata": {},
   "source": [
    "**What significance level have you set to test the statistical hypotheses mentioned above? Calculate how many statistical hypothesis tests you carried out. With a statistical significance level of 0.1, one in 10 results could be false. What should the significance level be? If you want to change it, run through the previous steps again and check your conclusions.**"
   ]
  },
  {
   "cell_type": "markdown",
   "metadata": {},
   "source": [
    "Let's see how many tests we did:\n",
    "247 vs. 248,\n",
    "246 vs. 248\n",
    "And 247_246 vs. 248.\n",
    "In each group, we did four tests (without the Tutorial), but on the 247_246 vs. 248, we did just 1. so should be 13 tests in total."
   ]
  },
  {
   "cell_type": "code",
   "execution_count": null,
   "metadata": {},
   "outputs": [],
   "source": [
    "corrected_alpha=0.05/13\n",
    "corrected_alpha"
   ]
  },
  {
   "cell_type": "markdown",
   "metadata": {},
   "source": [
    "our corrected alpha should be - 0.0038461538461538464"
   ]
  },
  {
   "cell_type": "markdown",
   "metadata": {},
   "source": [
    "# General conclusion"
   ]
  },
  {
   "cell_type": "markdown",
   "metadata": {},
   "source": [
    "**First, we load the data and import all the libraries.**\n",
    "\n",
    "\n",
    "**Prepare our data for analysis:**\n",
    "\n",
    "\n",
    "- we change the names of the column for a better understanding.\n",
    "- We explored our data and looked at missing values.\n",
    "- We understood that we may have duplicated values due to a technical problem.\n",
    "- We drop those duplicated values.\n",
    "- We find that 34,118 reach the purchase stage. Forty-two thousand six hundred sixty-eight advances the add to cart stage.\n",
    "\n",
    "\n",
    "**study and check the data:**\n",
    "\n",
    "\n",
    "- We find that we have five events and 7551 customers in our experiment.\n",
    "- The avg. number of events per user is 32.275.\n",
    "- We noticed that we had some inconsistent data before aug one, so we deleted it to move forward with data from Aug 1 and after it.\n",
    "\n",
    "\n",
    "**study the event funnel:**\n",
    "\n",
    "\n",
    "- We find that the Funnel of users moves from the main screen to the offer to add to the cart and then the purchase screen. The tutorial event is not a primary part of this Funnel.\n",
    "\n",
    "- We find that The most common path for the users is to leave after visiting the main page.\n",
    "\n",
    "- we find that most users leave after looking on the main screen. (38%) We lost 61.9% of users until we got to the payment stage.\n",
    "\n",
    "\n",
    "- study the results of the experiments:\n",
    "\n",
    "\n",
    "- We find that there are 2489 in the first control group.\n",
    "- There are 2520 in the second control group.\n",
    "- There are 2542 in the experiment group.\n",
    "\n",
    "- We rejected the null hypothesis and found a significant difference between the proportions of groups 246 and 247.\n",
    "\n",
    "\n",
    "- We failed to reject the null hypothesis that there is a significant difference in the conversion of each event between groups 246 and 247.\n",
    "\n",
    "\n",
    "- We failed to reject the null hypothesis that there is a significant difference in the conversion of each event between groups 247 and 248.\n",
    "\n",
    "\n",
    "- We failed to reject the null hypothesis that there is a significant difference in the conversion of each event between groups 246 and 248.\n",
    "\n",
    "\n",
    "- We combined the results of the two control groups, and we look if there is a statistical difference in conversion between the test group and  Failed to reject the null hypothesis.\n",
    "\n",
    "\n",
    "- We also look visually at the distribution of the groups and see that they are almost identical.\n",
    "\n",
    "\n",
    "- We used the Bonferroni correction approach to find the corrected alpha and find that it should be 0.0038461538461538464.\n",
    "\n",
    "**The conclusion is that those changes that we made didn't affect much of the results, and the company should start running another test instead.**\n",
    "\n",
    "\n"
   ]
  }
 ],
 "metadata": {
  "ExecuteTimeLog": [
   {
    "duration": 10746,
    "start_time": "2022-02-25T04:44:14.699Z"
   },
   {
    "duration": 3731,
    "start_time": "2022-02-25T05:14:48.175Z"
   },
   {
    "duration": 6759,
    "start_time": "2022-02-25T05:15:24.404Z"
   },
   {
    "duration": 2656,
    "start_time": "2022-02-25T05:15:48.284Z"
   },
   {
    "duration": 1512,
    "start_time": "2022-02-25T05:16:14.893Z"
   },
   {
    "duration": 343,
    "start_time": "2022-02-25T05:17:18.825Z"
   },
   {
    "duration": 14,
    "start_time": "2022-02-25T05:18:47.223Z"
   },
   {
    "duration": 350,
    "start_time": "2022-02-25T05:23:55.093Z"
   },
   {
    "duration": 9,
    "start_time": "2022-02-25T05:24:05.193Z"
   },
   {
    "duration": 333,
    "start_time": "2022-02-25T05:24:11.355Z"
   },
   {
    "duration": 10,
    "start_time": "2022-02-25T05:24:12.964Z"
   },
   {
    "duration": 89,
    "start_time": "2022-02-25T05:24:52.243Z"
   },
   {
    "duration": 10,
    "start_time": "2022-02-25T05:24:55.982Z"
   },
   {
    "duration": 323,
    "start_time": "2022-02-25T05:26:04.333Z"
   },
   {
    "duration": 9,
    "start_time": "2022-02-25T05:26:05.921Z"
   },
   {
    "duration": 9,
    "start_time": "2022-02-25T05:26:34.783Z"
   },
   {
    "duration": 100,
    "start_time": "2022-02-25T05:26:49.833Z"
   },
   {
    "duration": 164,
    "start_time": "2022-02-25T05:28:52.913Z"
   },
   {
    "duration": 9,
    "start_time": "2022-02-25T05:28:55.345Z"
   },
   {
    "duration": 161,
    "start_time": "2022-02-25T05:29:41.303Z"
   },
   {
    "duration": 8,
    "start_time": "2022-02-25T05:29:42.446Z"
   },
   {
    "duration": 5356,
    "start_time": "2022-02-25T05:31:21.627Z"
   },
   {
    "duration": 5,
    "start_time": "2022-02-25T05:31:31.296Z"
   },
   {
    "duration": 341,
    "start_time": "2022-02-25T05:31:35.326Z"
   },
   {
    "duration": 9,
    "start_time": "2022-02-25T05:31:36.257Z"
   },
   {
    "duration": 173,
    "start_time": "2022-02-25T05:31:44.896Z"
   },
   {
    "duration": 9,
    "start_time": "2022-02-25T05:31:45.926Z"
   },
   {
    "duration": 3682,
    "start_time": "2022-02-25T05:35:14.637Z"
   },
   {
    "duration": 4075,
    "start_time": "2022-02-25T05:37:53.875Z"
   },
   {
    "duration": 14,
    "start_time": "2022-02-25T05:38:30.616Z"
   },
   {
    "duration": 10,
    "start_time": "2022-02-25T05:38:54.617Z"
   },
   {
    "duration": 5398,
    "start_time": "2022-02-25T05:45:32.676Z"
   },
   {
    "duration": 1833,
    "start_time": "2022-02-25T05:45:44.552Z"
   },
   {
    "duration": 450,
    "start_time": "2022-02-25T05:45:48.514Z"
   },
   {
    "duration": 12,
    "start_time": "2022-02-25T05:45:55.386Z"
   },
   {
    "duration": 183,
    "start_time": "2022-02-25T05:46:02.740Z"
   },
   {
    "duration": 11,
    "start_time": "2022-02-25T05:46:03.818Z"
   },
   {
    "duration": 5,
    "start_time": "2022-02-25T06:01:12.544Z"
   },
   {
    "duration": 29,
    "start_time": "2022-02-25T06:02:34.494Z"
   },
   {
    "duration": 44,
    "start_time": "2022-02-25T06:04:33.781Z"
   },
   {
    "duration": 77,
    "start_time": "2022-02-25T06:06:37.906Z"
   },
   {
    "duration": 428,
    "start_time": "2022-02-25T06:12:31.253Z"
   },
   {
    "duration": 92,
    "start_time": "2022-02-25T06:12:53.404Z"
   },
   {
    "duration": 112,
    "start_time": "2022-02-25T06:14:35.241Z"
   },
   {
    "duration": 90,
    "start_time": "2022-02-25T06:19:57.906Z"
   },
   {
    "duration": 6,
    "start_time": "2022-02-25T06:20:06.376Z"
   },
   {
    "duration": 4,
    "start_time": "2022-02-25T06:46:27.426Z"
   },
   {
    "duration": 354,
    "start_time": "2022-02-25T06:46:32.780Z"
   },
   {
    "duration": 9,
    "start_time": "2022-02-25T06:46:35.851Z"
   },
   {
    "duration": 170,
    "start_time": "2022-02-25T06:46:38.973Z"
   },
   {
    "duration": 11,
    "start_time": "2022-02-25T06:46:41.508Z"
   },
   {
    "duration": 6,
    "start_time": "2022-02-25T06:46:43.935Z"
   },
   {
    "duration": 34,
    "start_time": "2022-02-25T06:46:45.902Z"
   },
   {
    "duration": 42,
    "start_time": "2022-02-25T06:46:49.140Z"
   },
   {
    "duration": 74,
    "start_time": "2022-02-25T06:46:51.680Z"
   },
   {
    "duration": 109,
    "start_time": "2022-02-25T06:46:53.073Z"
   },
   {
    "duration": 77,
    "start_time": "2022-02-25T06:46:55.731Z"
   },
   {
    "duration": 6,
    "start_time": "2022-02-25T06:46:57.832Z"
   },
   {
    "duration": 3576,
    "start_time": "2022-02-25T07:11:42.012Z"
   },
   {
    "duration": 5,
    "start_time": "2022-02-25T07:11:47.944Z"
   },
   {
    "duration": 420,
    "start_time": "2022-02-25T07:11:50.305Z"
   },
   {
    "duration": 10,
    "start_time": "2022-02-25T07:11:52.119Z"
   },
   {
    "duration": 171,
    "start_time": "2022-02-25T07:11:53.604Z"
   },
   {
    "duration": 11,
    "start_time": "2022-02-25T07:11:54.046Z"
   },
   {
    "duration": 6,
    "start_time": "2022-02-25T07:11:54.756Z"
   },
   {
    "duration": 28,
    "start_time": "2022-02-25T07:11:56.056Z"
   },
   {
    "duration": 46,
    "start_time": "2022-02-25T07:11:57.456Z"
   },
   {
    "duration": 80,
    "start_time": "2022-02-25T07:11:58.797Z"
   },
   {
    "duration": 108,
    "start_time": "2022-02-25T07:12:00.177Z"
   },
   {
    "duration": 87,
    "start_time": "2022-02-25T07:12:01.874Z"
   },
   {
    "duration": 4,
    "start_time": "2022-02-25T07:12:04.097Z"
   },
   {
    "duration": 269,
    "start_time": "2022-02-25T07:13:20.797Z"
   },
   {
    "duration": 47,
    "start_time": "2022-02-25T07:20:38.025Z"
   },
   {
    "duration": 5,
    "start_time": "2022-02-25T07:27:57.273Z"
   },
   {
    "duration": 3474,
    "start_time": "2022-02-25T07:49:05.192Z"
   },
   {
    "duration": 5,
    "start_time": "2022-02-25T07:49:11.746Z"
   },
   {
    "duration": 342,
    "start_time": "2022-02-25T07:49:13.061Z"
   },
   {
    "duration": 12,
    "start_time": "2022-02-25T07:49:14.742Z"
   },
   {
    "duration": 182,
    "start_time": "2022-02-25T07:49:17.395Z"
   },
   {
    "duration": 11,
    "start_time": "2022-02-25T07:49:18.394Z"
   },
   {
    "duration": 6,
    "start_time": "2022-02-25T07:49:19.175Z"
   },
   {
    "duration": 27,
    "start_time": "2022-02-25T07:49:20.556Z"
   },
   {
    "duration": 39,
    "start_time": "2022-02-25T07:49:21.786Z"
   },
   {
    "duration": 257,
    "start_time": "2022-02-25T07:49:23.265Z"
   },
   {
    "duration": 88,
    "start_time": "2022-02-25T07:49:26.894Z"
   },
   {
    "duration": 108,
    "start_time": "2022-02-25T07:49:39.614Z"
   },
   {
    "duration": 438,
    "start_time": "2022-02-25T07:52:35.296Z"
   },
   {
    "duration": 84,
    "start_time": "2022-02-25T07:56:51.306Z"
   },
   {
    "duration": 85,
    "start_time": "2022-02-25T08:02:07.846Z"
   },
   {
    "duration": 6,
    "start_time": "2022-02-25T08:02:09.366Z"
   },
   {
    "duration": 66,
    "start_time": "2022-02-25T08:02:18.686Z"
   },
   {
    "duration": 6,
    "start_time": "2022-02-25T08:02:21.504Z"
   },
   {
    "duration": 7,
    "start_time": "2022-02-25T08:03:39.495Z"
   },
   {
    "duration": 287,
    "start_time": "2022-02-25T08:05:56.655Z"
   },
   {
    "duration": 29,
    "start_time": "2022-02-25T08:07:50.676Z"
   },
   {
    "duration": 11,
    "start_time": "2022-02-25T08:09:02.136Z"
   },
   {
    "duration": 34,
    "start_time": "2022-02-25T08:11:03.286Z"
   },
   {
    "duration": 2570,
    "start_time": "2022-02-25T08:38:11.456Z"
   },
   {
    "duration": 975,
    "start_time": "2022-02-25T08:38:24.318Z"
   },
   {
    "duration": 2581,
    "start_time": "2022-02-25T08:40:13.698Z"
   },
   {
    "duration": 14,
    "start_time": "2022-02-25T09:01:21.478Z"
   },
   {
    "duration": 1469,
    "start_time": "2022-02-25T09:04:43.327Z"
   },
   {
    "duration": 947,
    "start_time": "2022-02-25T09:05:11.208Z"
   },
   {
    "duration": 307,
    "start_time": "2022-02-25T09:13:51.449Z"
   },
   {
    "duration": 371,
    "start_time": "2022-02-25T09:15:17.828Z"
   },
   {
    "duration": 6,
    "start_time": "2022-02-25T09:16:01.667Z"
   },
   {
    "duration": 1209,
    "start_time": "2022-02-25T09:24:17.768Z"
   },
   {
    "duration": 15268,
    "start_time": "2022-02-25T09:24:44.648Z"
   },
   {
    "duration": 3305,
    "start_time": "2022-02-25T09:25:16.038Z"
   },
   {
    "duration": 1290,
    "start_time": "2022-02-25T09:25:26.848Z"
   },
   {
    "duration": 5,
    "start_time": "2022-02-25T09:27:09.645Z"
   },
   {
    "duration": 1236,
    "start_time": "2022-02-25T09:27:11.878Z"
   },
   {
    "duration": 1142,
    "start_time": "2022-02-25T09:27:50.356Z"
   },
   {
    "duration": 293,
    "start_time": "2022-02-25T09:32:40.778Z"
   },
   {
    "duration": 3454,
    "start_time": "2022-02-25T09:33:22.447Z"
   },
   {
    "duration": 417,
    "start_time": "2022-02-25T09:33:30.028Z"
   },
   {
    "duration": 1752,
    "start_time": "2022-02-26T13:30:45.574Z"
   },
   {
    "duration": 20781,
    "start_time": "2022-02-26T13:30:53.987Z"
   },
   {
    "duration": 10819,
    "start_time": "2022-02-26T13:31:42.880Z"
   },
   {
    "duration": 450,
    "start_time": "2022-02-26T13:31:53.703Z"
   },
   {
    "duration": 323,
    "start_time": "2022-02-26T13:32:05.891Z"
   },
   {
    "duration": 14,
    "start_time": "2022-02-26T13:32:14.949Z"
   },
   {
    "duration": 153,
    "start_time": "2022-02-26T13:32:16.101Z"
   },
   {
    "duration": 10,
    "start_time": "2022-02-26T13:32:16.297Z"
   },
   {
    "duration": 5,
    "start_time": "2022-02-26T13:32:16.598Z"
   },
   {
    "duration": 20,
    "start_time": "2022-02-26T13:32:16.980Z"
   },
   {
    "duration": 42,
    "start_time": "2022-02-26T13:32:17.510Z"
   },
   {
    "duration": 240,
    "start_time": "2022-02-26T13:32:18.091Z"
   },
   {
    "duration": 82,
    "start_time": "2022-02-26T13:32:18.540Z"
   },
   {
    "duration": 798,
    "start_time": "2022-02-26T13:32:18.910Z"
   },
   {
    "duration": 837,
    "start_time": "2022-02-26T13:32:19.710Z"
   },
   {
    "duration": 88,
    "start_time": "2022-02-26T13:32:20.550Z"
   },
   {
    "duration": 99,
    "start_time": "2022-02-26T13:32:22.092Z"
   },
   {
    "duration": 6,
    "start_time": "2022-02-26T13:32:22.194Z"
   },
   {
    "duration": 45,
    "start_time": "2022-02-26T13:32:23.390Z"
   },
   {
    "duration": 5,
    "start_time": "2022-02-26T13:32:24.368Z"
   },
   {
    "duration": 22,
    "start_time": "2022-02-26T13:32:26.089Z"
   },
   {
    "duration": 8,
    "start_time": "2022-02-26T13:32:28.090Z"
   },
   {
    "duration": 25,
    "start_time": "2022-02-26T13:32:30.751Z"
   },
   {
    "duration": 75,
    "start_time": "2022-02-26T13:33:12.553Z"
   },
   {
    "duration": 11412,
    "start_time": "2022-02-26T13:33:30.510Z"
   },
   {
    "duration": 10811,
    "start_time": "2022-02-26T13:34:01.271Z"
   },
   {
    "duration": 6,
    "start_time": "2022-02-26T13:51:54.501Z"
   },
   {
    "duration": 6,
    "start_time": "2022-02-26T13:52:05.920Z"
   },
   {
    "duration": 18,
    "start_time": "2022-02-26T14:22:15.447Z"
   },
   {
    "duration": 10553,
    "start_time": "2022-02-26T14:22:24.168Z"
   },
   {
    "duration": 31,
    "start_time": "2022-02-26T14:31:22.797Z"
   },
   {
    "duration": 31,
    "start_time": "2022-02-26T14:31:37.357Z"
   },
   {
    "duration": 51,
    "start_time": "2022-02-26T14:32:43.797Z"
   },
   {
    "duration": 58,
    "start_time": "2022-02-26T14:32:52.960Z"
   },
   {
    "duration": 31,
    "start_time": "2022-02-26T14:33:27.049Z"
   },
   {
    "duration": 21,
    "start_time": "2022-02-26T14:36:09.889Z"
   },
   {
    "duration": 8,
    "start_time": "2022-02-26T14:37:06.511Z"
   },
   {
    "duration": 5,
    "start_time": "2022-02-26T14:38:20.798Z"
   },
   {
    "duration": 7,
    "start_time": "2022-02-26T14:38:44.800Z"
   },
   {
    "duration": 9,
    "start_time": "2022-02-26T14:39:02.490Z"
   },
   {
    "duration": 382,
    "start_time": "2022-02-26T15:11:42.964Z"
   },
   {
    "duration": 27,
    "start_time": "2022-02-26T15:11:59.444Z"
   },
   {
    "duration": 252,
    "start_time": "2022-02-26T15:23:29.982Z"
   },
   {
    "duration": 62,
    "start_time": "2022-02-26T15:23:40.882Z"
   },
   {
    "duration": 25,
    "start_time": "2022-02-26T15:25:16.883Z"
   },
   {
    "duration": 33,
    "start_time": "2022-02-26T15:25:25.334Z"
   },
   {
    "duration": 343,
    "start_time": "2022-02-26T15:52:38.384Z"
   },
   {
    "duration": 70,
    "start_time": "2022-02-26T15:53:01.731Z"
   },
   {
    "duration": 229,
    "start_time": "2022-02-26T16:16:56.363Z"
   },
   {
    "duration": 37,
    "start_time": "2022-02-26T16:17:33.613Z"
   },
   {
    "duration": 59,
    "start_time": "2022-02-26T16:17:39.862Z"
   },
   {
    "duration": 59,
    "start_time": "2022-02-26T16:17:49.672Z"
   },
   {
    "duration": 155,
    "start_time": "2022-02-26T16:18:03.414Z"
   },
   {
    "duration": 20,
    "start_time": "2022-02-26T16:18:24.524Z"
   },
   {
    "duration": 19,
    "start_time": "2022-02-26T16:25:49.550Z"
   },
   {
    "duration": 4,
    "start_time": "2022-02-26T16:31:17.275Z"
   },
   {
    "duration": 11,
    "start_time": "2022-02-26T16:31:20.265Z"
   },
   {
    "duration": 33230,
    "start_time": "2022-02-26T16:32:33.623Z"
   },
   {
    "duration": 20,
    "start_time": "2022-02-26T16:33:52.654Z"
   },
   {
    "duration": 20,
    "start_time": "2022-02-26T16:34:59.214Z"
   },
   {
    "duration": 212,
    "start_time": "2022-02-26T16:41:30.683Z"
   },
   {
    "duration": 221,
    "start_time": "2022-02-26T16:41:56.323Z"
   },
   {
    "duration": 64,
    "start_time": "2022-02-26T16:42:11.205Z"
   },
   {
    "duration": 12,
    "start_time": "2022-02-26T16:49:09.574Z"
   },
   {
    "duration": 105,
    "start_time": "2022-02-26T16:55:03.445Z"
   },
   {
    "duration": 350,
    "start_time": "2022-02-26T16:55:20.104Z"
   },
   {
    "duration": 3,
    "start_time": "2022-02-26T16:56:02.385Z"
   },
   {
    "duration": 426,
    "start_time": "2022-02-26T16:56:04.674Z"
   },
   {
    "duration": 228,
    "start_time": "2022-02-26T16:59:26.954Z"
   },
   {
    "duration": 11,
    "start_time": "2022-02-26T17:01:07.616Z"
   },
   {
    "duration": 90,
    "start_time": "2022-02-26T17:01:12.916Z"
   },
   {
    "duration": 13269,
    "start_time": "2022-02-26T21:23:03.597Z"
   },
   {
    "duration": 7723,
    "start_time": "2022-02-26T21:23:23.317Z"
   },
   {
    "duration": 1327,
    "start_time": "2022-02-26T21:23:51.543Z"
   },
   {
    "duration": 269,
    "start_time": "2022-02-26T21:23:57.246Z"
   },
   {
    "duration": 10,
    "start_time": "2022-02-26T21:23:58.886Z"
   },
   {
    "duration": 148,
    "start_time": "2022-02-26T21:24:01.947Z"
   },
   {
    "duration": 8,
    "start_time": "2022-02-26T21:24:02.098Z"
   },
   {
    "duration": 6,
    "start_time": "2022-02-26T21:24:02.883Z"
   },
   {
    "duration": 24,
    "start_time": "2022-02-26T21:24:03.215Z"
   },
   {
    "duration": 35,
    "start_time": "2022-02-26T21:24:03.566Z"
   },
   {
    "duration": 171,
    "start_time": "2022-02-26T21:24:04.096Z"
   },
   {
    "duration": 65,
    "start_time": "2022-02-26T21:24:04.495Z"
   },
   {
    "duration": 76,
    "start_time": "2022-02-26T21:24:05.267Z"
   },
   {
    "duration": 300,
    "start_time": "2022-02-26T21:24:06.407Z"
   },
   {
    "duration": 64,
    "start_time": "2022-02-26T21:24:07.313Z"
   },
   {
    "duration": 72,
    "start_time": "2022-02-26T21:24:08.522Z"
   },
   {
    "duration": 5,
    "start_time": "2022-02-26T21:24:11.158Z"
   },
   {
    "duration": 34,
    "start_time": "2022-02-26T21:24:19.239Z"
   },
   {
    "duration": 5,
    "start_time": "2022-02-26T21:24:19.276Z"
   },
   {
    "duration": 21,
    "start_time": "2022-02-26T21:24:25.094Z"
   },
   {
    "duration": 10,
    "start_time": "2022-02-26T21:24:27.415Z"
   },
   {
    "duration": 27,
    "start_time": "2022-02-26T21:24:28.636Z"
   },
   {
    "duration": 7346,
    "start_time": "2022-02-26T21:24:29.873Z"
   },
   {
    "duration": 6,
    "start_time": "2022-02-26T21:24:37.221Z"
   },
   {
    "duration": 8,
    "start_time": "2022-02-26T21:24:37.229Z"
   },
   {
    "duration": 15,
    "start_time": "2022-02-26T21:24:47.075Z"
   },
   {
    "duration": 6430,
    "start_time": "2022-02-26T21:24:48.006Z"
   },
   {
    "duration": 17,
    "start_time": "2022-02-26T21:25:06.595Z"
   },
   {
    "duration": 19,
    "start_time": "2022-02-26T21:25:07.366Z"
   },
   {
    "duration": 30,
    "start_time": "2022-02-26T21:25:08.036Z"
   },
   {
    "duration": 7,
    "start_time": "2022-02-26T21:25:09.888Z"
   },
   {
    "duration": 9,
    "start_time": "2022-02-26T21:25:10.522Z"
   },
   {
    "duration": 27,
    "start_time": "2022-02-26T21:25:12.586Z"
   },
   {
    "duration": 54,
    "start_time": "2022-02-26T21:25:14.137Z"
   },
   {
    "duration": 56,
    "start_time": "2022-02-26T21:25:15.243Z"
   },
   {
    "duration": 110,
    "start_time": "2022-02-26T21:25:17.286Z"
   },
   {
    "duration": 14,
    "start_time": "2022-02-26T21:25:18.023Z"
   },
   {
    "duration": 17,
    "start_time": "2022-02-26T21:25:19.592Z"
   },
   {
    "duration": 3,
    "start_time": "2022-02-26T21:25:20.261Z"
   },
   {
    "duration": 8,
    "start_time": "2022-02-26T21:25:20.775Z"
   },
   {
    "duration": 13823,
    "start_time": "2022-02-26T21:25:22.595Z"
   },
   {
    "duration": 16,
    "start_time": "2022-02-26T21:27:18.587Z"
   },
   {
    "duration": 1003,
    "start_time": "2022-02-26T21:27:18.606Z"
   },
   {
    "duration": 86,
    "start_time": "2022-02-26T21:27:26.765Z"
   },
   {
    "duration": 9,
    "start_time": "2022-02-26T21:27:27.556Z"
   },
   {
    "duration": 93,
    "start_time": "2022-02-26T21:27:32.026Z"
   },
   {
    "duration": 10,
    "start_time": "2022-02-26T21:27:53.766Z"
   },
   {
    "duration": 63,
    "start_time": "2022-02-26T21:27:55.056Z"
   },
   {
    "duration": 34,
    "start_time": "2022-02-26T21:33:42.865Z"
   },
   {
    "duration": 62,
    "start_time": "2022-02-26T21:35:23.687Z"
   },
   {
    "duration": 261,
    "start_time": "2022-02-26T22:27:42.557Z"
   },
   {
    "duration": 9,
    "start_time": "2022-02-26T22:28:29.156Z"
   },
   {
    "duration": 206,
    "start_time": "2022-02-26T22:32:10.911Z"
   },
   {
    "duration": 33,
    "start_time": "2022-02-26T22:35:00.196Z"
   },
   {
    "duration": 43,
    "start_time": "2022-02-26T22:35:03.817Z"
   },
   {
    "duration": 21,
    "start_time": "2022-02-26T22:35:16.237Z"
   },
   {
    "duration": 202,
    "start_time": "2022-02-26T22:35:39.894Z"
   },
   {
    "duration": 72,
    "start_time": "2022-02-26T22:35:49.156Z"
   },
   {
    "duration": 8,
    "start_time": "2022-02-26T22:36:00.107Z"
   },
   {
    "duration": 6,
    "start_time": "2022-02-26T22:36:09.937Z"
   },
   {
    "duration": 7,
    "start_time": "2022-02-26T22:36:36.697Z"
   },
   {
    "duration": 447,
    "start_time": "2022-02-26T22:36:46.887Z"
   },
   {
    "duration": 6,
    "start_time": "2022-02-26T22:37:22.097Z"
   },
   {
    "duration": 414,
    "start_time": "2022-02-26T22:37:24.807Z"
   },
   {
    "duration": 6,
    "start_time": "2022-02-26T22:37:51.087Z"
   },
   {
    "duration": 385,
    "start_time": "2022-02-26T22:37:52.647Z"
   },
   {
    "duration": 22159,
    "start_time": "2022-02-26T23:47:50.190Z"
   },
   {
    "duration": 11737,
    "start_time": "2022-02-26T23:48:12.352Z"
   },
   {
    "duration": 2019,
    "start_time": "2022-02-26T23:48:27.532Z"
   },
   {
    "duration": 350,
    "start_time": "2022-02-26T23:48:46.048Z"
   },
   {
    "duration": 16,
    "start_time": "2022-02-26T23:48:48.099Z"
   },
   {
    "duration": 185,
    "start_time": "2022-02-26T23:48:48.781Z"
   },
   {
    "duration": 12,
    "start_time": "2022-02-26T23:48:48.977Z"
   },
   {
    "duration": 5,
    "start_time": "2022-02-26T23:48:49.188Z"
   },
   {
    "duration": 28,
    "start_time": "2022-02-26T23:48:49.548Z"
   },
   {
    "duration": 44,
    "start_time": "2022-02-26T23:48:50.470Z"
   },
   {
    "duration": 241,
    "start_time": "2022-02-26T23:48:51.839Z"
   },
   {
    "duration": 93,
    "start_time": "2022-02-26T23:48:52.801Z"
   },
   {
    "duration": 123,
    "start_time": "2022-02-26T23:48:54.051Z"
   },
   {
    "duration": 442,
    "start_time": "2022-02-26T23:48:55.920Z"
   },
   {
    "duration": 92,
    "start_time": "2022-02-26T23:48:57.718Z"
   },
   {
    "duration": 110,
    "start_time": "2022-02-26T23:49:00.329Z"
   },
   {
    "duration": 5,
    "start_time": "2022-02-26T23:49:00.670Z"
   },
   {
    "duration": 46,
    "start_time": "2022-02-26T23:49:02.001Z"
   },
   {
    "duration": 5,
    "start_time": "2022-02-26T23:49:02.890Z"
   },
   {
    "duration": 31,
    "start_time": "2022-02-26T23:49:04.430Z"
   },
   {
    "duration": 13,
    "start_time": "2022-02-26T23:49:06.088Z"
   },
   {
    "duration": 34,
    "start_time": "2022-02-26T23:49:07.052Z"
   },
   {
    "duration": 11807,
    "start_time": "2022-02-26T23:49:08.950Z"
   },
   {
    "duration": 8,
    "start_time": "2022-02-26T23:49:20.772Z"
   },
   {
    "duration": 7,
    "start_time": "2022-02-26T23:49:29.648Z"
   },
   {
    "duration": 19,
    "start_time": "2022-02-26T23:49:32.171Z"
   },
   {
    "duration": 11241,
    "start_time": "2022-02-26T23:49:33.150Z"
   },
   {
    "duration": 39,
    "start_time": "2022-02-26T23:50:06.321Z"
   },
   {
    "duration": 23,
    "start_time": "2022-02-26T23:50:10.621Z"
   },
   {
    "duration": 65,
    "start_time": "2022-02-26T23:50:11.321Z"
   },
   {
    "duration": 11,
    "start_time": "2022-02-26T23:50:12.811Z"
   },
   {
    "duration": 14,
    "start_time": "2022-02-26T23:50:13.461Z"
   },
   {
    "duration": 39,
    "start_time": "2022-02-26T23:50:16.011Z"
   },
   {
    "duration": 105,
    "start_time": "2022-02-26T23:50:17.471Z"
   },
   {
    "duration": 71,
    "start_time": "2022-02-26T23:50:19.680Z"
   },
   {
    "duration": 199,
    "start_time": "2022-02-26T23:50:21.471Z"
   },
   {
    "duration": 18,
    "start_time": "2022-02-26T23:50:22.371Z"
   },
   {
    "duration": 23,
    "start_time": "2022-02-26T23:50:23.981Z"
   },
   {
    "duration": 5,
    "start_time": "2022-02-26T23:50:24.821Z"
   },
   {
    "duration": 11,
    "start_time": "2022-02-26T23:50:25.710Z"
   },
   {
    "duration": 21252,
    "start_time": "2022-02-26T23:50:27.621Z"
   },
   {
    "duration": 23,
    "start_time": "2022-02-26T23:50:48.876Z"
   },
   {
    "duration": 1270,
    "start_time": "2022-02-26T23:50:48.902Z"
   },
   {
    "duration": 74,
    "start_time": "2022-02-26T23:50:53.179Z"
   },
   {
    "duration": 13,
    "start_time": "2022-02-26T23:50:53.921Z"
   },
   {
    "duration": 119,
    "start_time": "2022-02-26T23:50:55.531Z"
   },
   {
    "duration": 12,
    "start_time": "2022-02-26T23:50:56.510Z"
   },
   {
    "duration": 89,
    "start_time": "2022-02-26T23:50:57.790Z"
   },
   {
    "duration": 41,
    "start_time": "2022-02-26T23:51:04.861Z"
   },
   {
    "duration": 54,
    "start_time": "2022-02-26T23:51:05.991Z"
   },
   {
    "duration": 13,
    "start_time": "2022-02-26T23:51:07.779Z"
   },
   {
    "duration": 253,
    "start_time": "2022-02-26T23:51:10.000Z"
   },
   {
    "duration": 26,
    "start_time": "2022-02-26T23:51:41.381Z"
   },
   {
    "duration": 96,
    "start_time": "2022-02-26T23:51:45.791Z"
   },
   {
    "duration": 10,
    "start_time": "2022-02-26T23:51:47.382Z"
   },
   {
    "duration": 8,
    "start_time": "2022-02-26T23:51:52.080Z"
   },
   {
    "duration": 8,
    "start_time": "2022-02-26T23:52:08.590Z"
   },
   {
    "duration": 23,
    "start_time": "2022-02-26T23:52:09.832Z"
   },
   {
    "duration": 94,
    "start_time": "2022-02-26T23:52:30.510Z"
   },
   {
    "duration": 51026,
    "start_time": "2022-02-27T23:38:33.566Z"
   },
   {
    "duration": 7324,
    "start_time": "2022-02-27T23:42:15.813Z"
   },
   {
    "duration": 38200,
    "start_time": "2022-02-27T23:42:25.183Z"
   },
   {
    "duration": 310,
    "start_time": "2022-02-27T23:43:11.402Z"
   },
   {
    "duration": 2148,
    "start_time": "2022-02-27T23:43:14.893Z"
   },
   {
    "duration": 10,
    "start_time": "2022-02-27T23:43:19.322Z"
   },
   {
    "duration": 136,
    "start_time": "2022-02-27T23:43:20.422Z"
   },
   {
    "duration": 8,
    "start_time": "2022-02-27T23:43:20.571Z"
   },
   {
    "duration": 5,
    "start_time": "2022-02-27T23:43:20.963Z"
   },
   {
    "duration": 17,
    "start_time": "2022-02-27T23:43:21.373Z"
   },
   {
    "duration": 34,
    "start_time": "2022-02-27T23:43:22.313Z"
   },
   {
    "duration": 158,
    "start_time": "2022-02-27T23:43:22.853Z"
   },
   {
    "duration": 57,
    "start_time": "2022-02-27T23:43:23.232Z"
   },
   {
    "duration": 62,
    "start_time": "2022-02-27T23:43:23.591Z"
   },
   {
    "duration": 273,
    "start_time": "2022-02-27T23:43:24.173Z"
   },
   {
    "duration": 60,
    "start_time": "2022-02-27T23:43:25.303Z"
   },
   {
    "duration": 73,
    "start_time": "2022-02-27T23:43:27.511Z"
   },
   {
    "duration": 4,
    "start_time": "2022-02-27T23:43:27.892Z"
   },
   {
    "duration": 34,
    "start_time": "2022-02-27T23:43:29.321Z"
   },
   {
    "duration": 4,
    "start_time": "2022-02-27T23:43:29.973Z"
   },
   {
    "duration": 17,
    "start_time": "2022-02-27T23:43:32.212Z"
   },
   {
    "duration": 7,
    "start_time": "2022-02-27T23:43:33.373Z"
   },
   {
    "duration": 21,
    "start_time": "2022-02-27T23:43:35.063Z"
   },
   {
    "duration": 7171,
    "start_time": "2022-02-27T23:43:37.313Z"
   },
   {
    "duration": 5,
    "start_time": "2022-02-27T23:43:44.486Z"
   },
   {
    "duration": 7,
    "start_time": "2022-02-27T23:43:44.494Z"
   },
   {
    "duration": 14,
    "start_time": "2022-02-27T23:43:44.502Z"
   },
   {
    "duration": 7097,
    "start_time": "2022-02-27T23:43:44.518Z"
   },
   {
    "duration": 63,
    "start_time": "2022-02-27T23:43:51.617Z"
   },
   {
    "duration": 25,
    "start_time": "2022-02-27T23:43:51.682Z"
   },
   {
    "duration": 100,
    "start_time": "2022-02-27T23:43:51.709Z"
   },
   {
    "duration": 7,
    "start_time": "2022-02-27T23:44:16.533Z"
   },
   {
    "duration": 9,
    "start_time": "2022-02-27T23:44:29.402Z"
   },
   {
    "duration": 25,
    "start_time": "2022-02-27T23:44:44.982Z"
   },
   {
    "duration": 46,
    "start_time": "2022-02-27T23:44:46.972Z"
   },
   {
    "duration": 55,
    "start_time": "2022-02-27T23:44:47.995Z"
   },
   {
    "duration": 410,
    "start_time": "2022-02-27T23:48:44.452Z"
   },
   {
    "duration": 52,
    "start_time": "2022-02-27T23:49:46.082Z"
   },
   {
    "duration": 51,
    "start_time": "2022-02-27T23:49:52.642Z"
   },
   {
    "duration": 274,
    "start_time": "2022-02-27T23:52:09.012Z"
   },
   {
    "duration": 6,
    "start_time": "2022-02-27T23:52:19.323Z"
   },
   {
    "duration": 11,
    "start_time": "2022-02-27T23:52:37.343Z"
   },
   {
    "duration": 309,
    "start_time": "2022-02-27T23:52:58.182Z"
   },
   {
    "duration": 48,
    "start_time": "2022-02-27T23:53:06.575Z"
   },
   {
    "duration": 68,
    "start_time": "2022-02-27T23:55:01.082Z"
   },
   {
    "duration": 4,
    "start_time": "2022-02-27T23:56:25.763Z"
   },
   {
    "duration": 61,
    "start_time": "2022-02-27T23:56:31.142Z"
   },
   {
    "duration": 111,
    "start_time": "2022-02-27T23:57:42.543Z"
   },
   {
    "duration": 14,
    "start_time": "2022-02-27T23:57:43.263Z"
   },
   {
    "duration": 13,
    "start_time": "2022-02-27T23:57:47.921Z"
   },
   {
    "duration": 3,
    "start_time": "2022-02-27T23:57:48.077Z"
   },
   {
    "duration": 8,
    "start_time": "2022-02-27T23:57:51.012Z"
   },
   {
    "duration": 23910,
    "start_time": "2022-02-27T23:57:51.622Z"
   },
   {
    "duration": 15,
    "start_time": "2022-02-27T23:58:15.534Z"
   },
   {
    "duration": 27,
    "start_time": "2022-02-27T23:58:15.551Z"
   },
   {
    "duration": 21,
    "start_time": "2022-02-27T23:59:06.722Z"
   },
   {
    "duration": 53,
    "start_time": "2022-02-27T23:59:08.113Z"
   },
   {
    "duration": 9,
    "start_time": "2022-02-27T23:59:09.543Z"
   },
   {
    "duration": 82,
    "start_time": "2022-02-27T23:59:12.402Z"
   },
   {
    "duration": 9,
    "start_time": "2022-02-27T23:59:12.882Z"
   },
   {
    "duration": 61,
    "start_time": "2022-02-27T23:59:13.921Z"
   },
   {
    "duration": 33,
    "start_time": "2022-02-27T23:59:26.613Z"
   },
   {
    "duration": 39,
    "start_time": "2022-02-27T23:59:27.202Z"
   },
   {
    "duration": 9,
    "start_time": "2022-02-27T23:59:27.994Z"
   },
   {
    "duration": 21,
    "start_time": "2022-02-27T23:59:28.163Z"
   },
   {
    "duration": 209,
    "start_time": "2022-02-27T23:59:28.771Z"
   },
   {
    "duration": 7,
    "start_time": "2022-02-27T23:59:28.982Z"
   },
   {
    "duration": 6,
    "start_time": "2022-02-27T23:59:29.120Z"
   },
   {
    "duration": 5,
    "start_time": "2022-02-27T23:59:30.404Z"
   },
   {
    "duration": 17,
    "start_time": "2022-02-27T23:59:31.653Z"
   },
   {
    "duration": 58,
    "start_time": "2022-02-27T23:59:32.733Z"
   },
   {
    "duration": 18894,
    "start_time": "2022-03-16T18:29:14.842Z"
   },
   {
    "duration": 6883,
    "start_time": "2022-03-16T18:29:38.224Z"
   },
   {
    "duration": 1299,
    "start_time": "2022-03-16T18:29:45.109Z"
   },
   {
    "duration": 231,
    "start_time": "2022-03-16T18:29:47.044Z"
   },
   {
    "duration": 8,
    "start_time": "2022-03-16T18:29:48.813Z"
   },
   {
    "duration": 123,
    "start_time": "2022-03-16T18:29:49.924Z"
   },
   {
    "duration": 7,
    "start_time": "2022-03-16T18:29:52.353Z"
   },
   {
    "duration": 4,
    "start_time": "2022-03-16T18:29:52.764Z"
   },
   {
    "duration": 18,
    "start_time": "2022-03-16T18:29:54.914Z"
   },
   {
    "duration": 30,
    "start_time": "2022-03-16T18:29:56.364Z"
   },
   {
    "duration": 142,
    "start_time": "2022-03-16T18:29:58.494Z"
   },
   {
    "duration": 46,
    "start_time": "2022-03-16T18:30:07.544Z"
   },
   {
    "duration": 60,
    "start_time": "2022-03-16T18:30:10.884Z"
   },
   {
    "duration": 232,
    "start_time": "2022-03-16T18:30:17.596Z"
   },
   {
    "duration": 53,
    "start_time": "2022-03-16T18:30:39.443Z"
   },
   {
    "duration": 63,
    "start_time": "2022-03-16T18:30:42.304Z"
   },
   {
    "duration": 3,
    "start_time": "2022-03-16T18:30:44.044Z"
   },
   {
    "duration": 28,
    "start_time": "2022-03-16T18:31:03.270Z"
   },
   {
    "duration": 3,
    "start_time": "2022-03-16T18:31:06.551Z"
   },
   {
    "duration": 16,
    "start_time": "2022-03-16T18:31:12.482Z"
   },
   {
    "duration": 7,
    "start_time": "2022-03-16T18:31:15.402Z"
   },
   {
    "duration": 22,
    "start_time": "2022-03-16T18:31:18.514Z"
   },
   {
    "duration": 6476,
    "start_time": "2022-03-16T18:31:27.374Z"
   },
   {
    "duration": 5,
    "start_time": "2022-03-16T18:31:40.520Z"
   },
   {
    "duration": 5,
    "start_time": "2022-03-16T18:31:45.304Z"
   },
   {
    "duration": 11,
    "start_time": "2022-03-16T18:31:53.134Z"
   },
   {
    "duration": 5689,
    "start_time": "2022-03-16T18:31:53.743Z"
   },
   {
    "duration": 15,
    "start_time": "2022-03-16T18:32:19.404Z"
   },
   {
    "duration": 15,
    "start_time": "2022-03-16T18:32:19.831Z"
   },
   {
    "duration": 26,
    "start_time": "2022-03-16T18:32:20.564Z"
   },
   {
    "duration": 5,
    "start_time": "2022-03-16T18:32:23.103Z"
   },
   {
    "duration": 8,
    "start_time": "2022-03-16T18:32:23.583Z"
   },
   {
    "duration": 24,
    "start_time": "2022-03-16T18:32:26.164Z"
   },
   {
    "duration": 47,
    "start_time": "2022-03-16T18:32:27.844Z"
   },
   {
    "duration": 10,
    "start_time": "2022-03-16T18:32:28.714Z"
   },
   {
    "duration": 3,
    "start_time": "2022-03-16T18:32:28.924Z"
   },
   {
    "duration": 49,
    "start_time": "2022-03-16T18:32:29.444Z"
   },
   {
    "duration": 59,
    "start_time": "2022-03-16T18:32:34.633Z"
   },
   {
    "duration": 46,
    "start_time": "2022-03-16T18:33:33.551Z"
   },
   {
    "duration": 50,
    "start_time": "2022-03-16T18:33:36.254Z"
   },
   {
    "duration": 46,
    "start_time": "2022-03-16T18:33:49.295Z"
   },
   {
    "duration": 50,
    "start_time": "2022-03-16T18:33:50.404Z"
   },
   {
    "duration": 96,
    "start_time": "2022-03-16T18:34:00.733Z"
   },
   {
    "duration": 13,
    "start_time": "2022-03-16T18:36:20.667Z"
   },
   {
    "duration": 10,
    "start_time": "2022-03-16T18:36:38.734Z"
   },
   {
    "duration": 3,
    "start_time": "2022-03-16T18:36:42.894Z"
   },
   {
    "duration": 7,
    "start_time": "2022-03-16T18:37:00.562Z"
   },
   {
    "duration": 12307,
    "start_time": "2022-03-16T18:37:06.084Z"
   },
   {
    "duration": 18,
    "start_time": "2022-03-16T18:37:18.392Z"
   },
   {
    "duration": 1611,
    "start_time": "2022-03-16T18:37:18.412Z"
   },
   {
    "duration": 1441,
    "start_time": "2022-03-16T18:37:27.206Z"
   },
   {
    "duration": 20,
    "start_time": "2022-03-16T18:37:34.152Z"
   },
   {
    "duration": 47,
    "start_time": "2022-03-16T18:37:36.311Z"
   },
   {
    "duration": 8,
    "start_time": "2022-03-16T18:37:37.475Z"
   },
   {
    "duration": 71,
    "start_time": "2022-03-16T18:37:39.663Z"
   },
   {
    "duration": 8,
    "start_time": "2022-03-16T18:37:40.094Z"
   },
   {
    "duration": 46,
    "start_time": "2022-03-16T18:37:40.783Z"
   },
   {
    "duration": 28,
    "start_time": "2022-03-16T18:47:28.164Z"
   },
   {
    "duration": 35,
    "start_time": "2022-03-16T18:47:30.124Z"
   },
   {
    "duration": 7,
    "start_time": "2022-03-16T19:03:19.468Z"
   },
   {
    "duration": 17,
    "start_time": "2022-03-16T19:03:26.071Z"
   },
   {
    "duration": 60,
    "start_time": "2022-03-16T19:03:41.244Z"
   },
   {
    "duration": 6,
    "start_time": "2022-03-16T19:04:09.444Z"
   },
   {
    "duration": 6,
    "start_time": "2022-03-16T19:04:41.271Z"
   },
   {
    "duration": 5,
    "start_time": "2022-03-16T19:06:54.414Z"
   },
   {
    "duration": 15,
    "start_time": "2022-03-16T19:07:35.794Z"
   },
   {
    "duration": 46,
    "start_time": "2022-03-16T19:10:33.385Z"
   },
   {
    "duration": 44,
    "start_time": "2022-03-16T19:14:52.974Z"
   },
   {
    "duration": 46,
    "start_time": "2022-03-16T19:15:25.255Z"
   },
   {
    "duration": 6,
    "start_time": "2022-03-16T19:28:03.354Z"
   },
   {
    "duration": 3708,
    "start_time": "2022-03-16T19:29:32.255Z"
   },
   {
    "duration": -662,
    "start_time": "2022-03-16T19:29:36.627Z"
   },
   {
    "duration": 6,
    "start_time": "2022-03-16T19:30:02.504Z"
   },
   {
    "duration": 3006,
    "start_time": "2022-03-16T19:40:28.094Z"
   },
   {
    "duration": 9,
    "start_time": "2022-03-16T19:42:09.683Z"
   },
   {
    "duration": 10,
    "start_time": "2022-03-16T19:49:13.397Z"
   },
   {
    "duration": 95,
    "start_time": "2022-03-16T19:56:38.544Z"
   },
   {
    "duration": 4041,
    "start_time": "2022-03-16T21:01:12.594Z"
   },
   {
    "duration": 3836,
    "start_time": "2022-03-16T21:02:26.550Z"
   },
   {
    "duration": 308,
    "start_time": "2022-03-16T21:03:03.013Z"
   },
   {
    "duration": 4,
    "start_time": "2022-03-16T21:03:09.673Z"
   },
   {
    "duration": 3810,
    "start_time": "2022-03-16T21:05:21.305Z"
   },
   {
    "duration": 4,
    "start_time": "2022-03-16T21:06:54.381Z"
   },
   {
    "duration": 3,
    "start_time": "2022-03-16T21:08:57.030Z"
   },
   {
    "duration": 6,
    "start_time": "2022-03-16T21:09:08.762Z"
   },
   {
    "duration": 4,
    "start_time": "2022-03-16T21:09:36.291Z"
   },
   {
    "duration": 7,
    "start_time": "2022-03-16T21:09:48.073Z"
   },
   {
    "duration": 332,
    "start_time": "2022-03-16T21:10:34.402Z"
   },
   {
    "duration": 5,
    "start_time": "2022-03-16T21:13:09.318Z"
   },
   {
    "duration": 478,
    "start_time": "2022-03-16T21:14:03.411Z"
   },
   {
    "duration": 397,
    "start_time": "2022-03-16T21:16:59.722Z"
   },
   {
    "duration": 16,
    "start_time": "2022-03-16T21:17:12.613Z"
   },
   {
    "duration": 5,
    "start_time": "2022-03-16T21:18:01.711Z"
   },
   {
    "duration": 4,
    "start_time": "2022-03-16T21:18:47.701Z"
   },
   {
    "duration": 398,
    "start_time": "2022-03-16T21:19:38.852Z"
   },
   {
    "duration": 7,
    "start_time": "2022-03-16T21:25:55.714Z"
   },
   {
    "duration": 2134,
    "start_time": "2022-03-16T22:52:54.194Z"
   },
   {
    "duration": 2352,
    "start_time": "2022-03-16T22:52:56.330Z"
   },
   {
    "duration": 3,
    "start_time": "2022-03-16T22:52:58.684Z"
   },
   {
    "duration": 221,
    "start_time": "2022-03-16T22:53:03.104Z"
   },
   {
    "duration": 6,
    "start_time": "2022-03-16T22:53:03.514Z"
   },
   {
    "duration": 112,
    "start_time": "2022-03-16T22:53:04.684Z"
   },
   {
    "duration": 6,
    "start_time": "2022-03-16T22:53:05.024Z"
   },
   {
    "duration": 4,
    "start_time": "2022-03-16T22:53:05.223Z"
   },
   {
    "duration": 19,
    "start_time": "2022-03-16T22:53:05.634Z"
   },
   {
    "duration": 29,
    "start_time": "2022-03-16T22:53:06.024Z"
   },
   {
    "duration": 140,
    "start_time": "2022-03-16T22:53:06.784Z"
   },
   {
    "duration": 41,
    "start_time": "2022-03-16T22:53:07.244Z"
   },
   {
    "duration": 47,
    "start_time": "2022-03-16T22:53:07.524Z"
   },
   {
    "duration": 180,
    "start_time": "2022-03-16T22:53:08.134Z"
   },
   {
    "duration": 40,
    "start_time": "2022-03-16T22:53:08.524Z"
   },
   {
    "duration": 41,
    "start_time": "2022-03-16T22:53:09.384Z"
   },
   {
    "duration": 4,
    "start_time": "2022-03-16T22:53:09.553Z"
   },
   {
    "duration": 26,
    "start_time": "2022-03-16T22:53:10.334Z"
   },
   {
    "duration": 3,
    "start_time": "2022-03-16T22:53:11.444Z"
   },
   {
    "duration": 16,
    "start_time": "2022-03-16T22:53:12.444Z"
   },
   {
    "duration": 6,
    "start_time": "2022-03-16T22:53:13.013Z"
   },
   {
    "duration": 18,
    "start_time": "2022-03-16T22:53:13.561Z"
   },
   {
    "duration": 5765,
    "start_time": "2022-03-16T22:53:14.564Z"
   },
   {
    "duration": 9,
    "start_time": "2022-03-16T22:53:20.332Z"
   },
   {
    "duration": 4,
    "start_time": "2022-03-16T22:53:20.342Z"
   },
   {
    "duration": 11,
    "start_time": "2022-03-16T22:53:27.255Z"
   },
   {
    "duration": 5815,
    "start_time": "2022-03-16T22:53:27.944Z"
   },
   {
    "duration": 41,
    "start_time": "2022-03-16T22:53:33.763Z"
   },
   {
    "duration": 15,
    "start_time": "2022-03-16T22:54:14.364Z"
   },
   {
    "duration": 28,
    "start_time": "2022-03-16T22:54:14.843Z"
   },
   {
    "duration": 6,
    "start_time": "2022-03-16T22:54:15.474Z"
   },
   {
    "duration": 7,
    "start_time": "2022-03-16T22:54:15.664Z"
   },
   {
    "duration": 22,
    "start_time": "2022-03-16T22:54:17.154Z"
   },
   {
    "duration": 46,
    "start_time": "2022-03-16T22:54:17.744Z"
   },
   {
    "duration": 10,
    "start_time": "2022-03-16T22:54:18.194Z"
   },
   {
    "duration": 4,
    "start_time": "2022-03-16T22:54:18.412Z"
   },
   {
    "duration": 47,
    "start_time": "2022-03-16T22:54:18.620Z"
   },
   {
    "duration": 52,
    "start_time": "2022-03-16T22:54:18.854Z"
   },
   {
    "duration": 103,
    "start_time": "2022-03-16T22:54:22.144Z"
   },
   {
    "duration": 12,
    "start_time": "2022-03-16T22:54:23.306Z"
   },
   {
    "duration": 12,
    "start_time": "2022-03-16T22:54:24.514Z"
   },
   {
    "duration": 3,
    "start_time": "2022-03-16T22:54:25.014Z"
   },
   {
    "duration": 6,
    "start_time": "2022-03-16T22:54:25.804Z"
   },
   {
    "duration": 11988,
    "start_time": "2022-03-16T22:54:26.754Z"
   },
   {
    "duration": 18,
    "start_time": "2022-03-16T22:54:38.744Z"
   },
   {
    "duration": 1990,
    "start_time": "2022-03-16T22:54:38.802Z"
   },
   {
    "duration": 21,
    "start_time": "2022-03-16T22:54:40.794Z"
   },
   {
    "duration": 46,
    "start_time": "2022-03-16T22:54:40.816Z"
   },
   {
    "duration": 7,
    "start_time": "2022-03-16T22:54:40.864Z"
   },
   {
    "duration": 73,
    "start_time": "2022-03-16T22:54:40.872Z"
   },
   {
    "duration": 7,
    "start_time": "2022-03-16T22:54:40.947Z"
   },
   {
    "duration": 290,
    "start_time": "2022-03-16T22:54:40.956Z"
   },
   {
    "duration": 27,
    "start_time": "2022-03-16T22:54:54.853Z"
   },
   {
    "duration": 33,
    "start_time": "2022-03-16T22:54:55.894Z"
   },
   {
    "duration": 8,
    "start_time": "2022-03-16T22:55:00.624Z"
   },
   {
    "duration": 341,
    "start_time": "2022-03-16T22:55:01.904Z"
   },
   {
    "duration": 16,
    "start_time": "2022-03-16T22:55:11.584Z"
   },
   {
    "duration": 59,
    "start_time": "2022-03-16T22:55:13.519Z"
   },
   {
    "duration": 6,
    "start_time": "2022-03-16T22:55:14.224Z"
   },
   {
    "duration": 5,
    "start_time": "2022-03-16T22:55:15.113Z"
   },
   {
    "duration": 5,
    "start_time": "2022-03-16T22:55:18.164Z"
   },
   {
    "duration": 15,
    "start_time": "2022-03-16T22:55:20.014Z"
   },
   {
    "duration": 42,
    "start_time": "2022-03-16T22:55:21.094Z"
   },
   {
    "duration": 44,
    "start_time": "2022-03-16T22:55:27.144Z"
   },
   {
    "duration": 43,
    "start_time": "2022-03-16T22:55:27.493Z"
   },
   {
    "duration": 6,
    "start_time": "2022-03-16T22:55:29.094Z"
   },
   {
    "duration": 8,
    "start_time": "2022-03-16T22:55:29.643Z"
   },
   {
    "duration": 4,
    "start_time": "2022-03-16T22:55:30.084Z"
   },
   {
    "duration": 3,
    "start_time": "2022-03-16T22:55:30.444Z"
   },
   {
    "duration": 6,
    "start_time": "2022-03-16T22:55:30.714Z"
   },
   {
    "duration": 3,
    "start_time": "2022-03-16T22:55:30.954Z"
   },
   {
    "duration": 7,
    "start_time": "2022-03-16T22:55:31.114Z"
   },
   {
    "duration": 6,
    "start_time": "2022-03-16T22:55:31.524Z"
   },
   {
    "duration": 3,
    "start_time": "2022-03-16T22:56:43.763Z"
   },
   {
    "duration": 5,
    "start_time": "2022-03-16T22:56:53.414Z"
   },
   {
    "duration": 4078,
    "start_time": "2022-03-16T22:57:43.638Z"
   },
   {
    "duration": 77098,
    "start_time": "2022-03-17T09:42:23.840Z"
   },
   {
    "duration": 21913,
    "start_time": "2022-03-17T09:51:13.932Z"
   },
   {
    "duration": 33675,
    "start_time": "2022-03-17T09:51:35.847Z"
   },
   {
    "duration": 1397,
    "start_time": "2022-03-17T09:54:08.531Z"
   },
   {
    "duration": 925,
    "start_time": "2022-03-17T09:54:12.765Z"
   },
   {
    "duration": 12,
    "start_time": "2022-03-17T09:54:14.775Z"
   },
   {
    "duration": 156,
    "start_time": "2022-03-17T09:54:16.215Z"
   },
   {
    "duration": 7,
    "start_time": "2022-03-17T09:54:16.794Z"
   },
   {
    "duration": 4,
    "start_time": "2022-03-17T09:54:17.290Z"
   },
   {
    "duration": 24,
    "start_time": "2022-03-17T09:54:18.412Z"
   },
   {
    "duration": 53,
    "start_time": "2022-03-17T09:54:19.156Z"
   },
   {
    "duration": 156,
    "start_time": "2022-03-17T09:54:20.376Z"
   },
   {
    "duration": 66,
    "start_time": "2022-03-17T09:54:31.413Z"
   },
   {
    "duration": 76,
    "start_time": "2022-03-17T09:54:31.755Z"
   },
   {
    "duration": 310,
    "start_time": "2022-03-17T09:54:32.695Z"
   },
   {
    "duration": 66,
    "start_time": "2022-03-17T09:54:33.374Z"
   },
   {
    "duration": 74,
    "start_time": "2022-03-17T09:54:35.692Z"
   },
   {
    "duration": 4,
    "start_time": "2022-03-17T09:54:36.535Z"
   },
   {
    "duration": 35,
    "start_time": "2022-03-17T09:54:38.058Z"
   },
   {
    "duration": 4,
    "start_time": "2022-03-17T09:54:39.134Z"
   },
   {
    "duration": 31,
    "start_time": "2022-03-17T09:54:40.476Z"
   },
   {
    "duration": 10,
    "start_time": "2022-03-17T09:54:41.175Z"
   },
   {
    "duration": 21,
    "start_time": "2022-03-17T09:54:42.035Z"
   },
   {
    "duration": 6141,
    "start_time": "2022-03-17T09:54:43.086Z"
   },
   {
    "duration": 6,
    "start_time": "2022-03-17T09:55:01.901Z"
   },
   {
    "duration": 5,
    "start_time": "2022-03-17T09:55:02.306Z"
   },
   {
    "duration": 16,
    "start_time": "2022-03-17T09:55:03.626Z"
   },
   {
    "duration": 5682,
    "start_time": "2022-03-17T09:55:04.331Z"
   },
   {
    "duration": 26,
    "start_time": "2022-03-17T09:55:16.355Z"
   },
   {
    "duration": 25,
    "start_time": "2022-03-17T09:55:16.537Z"
   },
   {
    "duration": 45,
    "start_time": "2022-03-17T09:55:17.066Z"
   },
   {
    "duration": 7,
    "start_time": "2022-03-17T09:55:17.935Z"
   },
   {
    "duration": 12,
    "start_time": "2022-03-17T09:55:18.087Z"
   },
   {
    "duration": 27,
    "start_time": "2022-03-17T09:55:23.265Z"
   },
   {
    "duration": 54,
    "start_time": "2022-03-17T09:55:24.285Z"
   },
   {
    "duration": 14,
    "start_time": "2022-03-17T09:55:25.146Z"
   },
   {
    "duration": 4,
    "start_time": "2022-03-17T09:55:25.393Z"
   },
   {
    "duration": 55,
    "start_time": "2022-03-17T09:55:25.935Z"
   },
   {
    "duration": 67,
    "start_time": "2022-03-17T09:55:27.314Z"
   },
   {
    "duration": 112,
    "start_time": "2022-03-17T09:55:30.775Z"
   },
   {
    "duration": 14,
    "start_time": "2022-03-17T09:55:31.786Z"
   },
   {
    "duration": 14,
    "start_time": "2022-03-17T09:55:32.627Z"
   },
   {
    "duration": 4,
    "start_time": "2022-03-17T09:55:32.770Z"
   },
   {
    "duration": 8,
    "start_time": "2022-03-17T09:55:33.375Z"
   },
   {
    "duration": 15354,
    "start_time": "2022-03-17T09:55:34.894Z"
   },
   {
    "duration": 15,
    "start_time": "2022-03-17T09:55:50.250Z"
   },
   {
    "duration": 900,
    "start_time": "2022-03-17T09:55:50.267Z"
   },
   {
    "duration": 24,
    "start_time": "2022-03-17T09:55:56.265Z"
   },
   {
    "duration": 54,
    "start_time": "2022-03-17T09:55:57.055Z"
   },
   {
    "duration": 9,
    "start_time": "2022-03-17T09:55:57.214Z"
   },
   {
    "duration": 87,
    "start_time": "2022-03-17T09:55:57.774Z"
   },
   {
    "duration": 10,
    "start_time": "2022-03-17T09:55:58.225Z"
   },
   {
    "duration": 54,
    "start_time": "2022-03-17T09:55:58.387Z"
   },
   {
    "duration": 35,
    "start_time": "2022-03-17T09:55:59.745Z"
   },
   {
    "duration": 40,
    "start_time": "2022-03-17T09:56:00.936Z"
   },
   {
    "duration": 9,
    "start_time": "2022-03-17T09:56:04.866Z"
   },
   {
    "duration": 20,
    "start_time": "2022-03-17T09:56:05.396Z"
   },
   {
    "duration": 68,
    "start_time": "2022-03-17T09:56:06.226Z"
   },
   {
    "duration": 8,
    "start_time": "2022-03-17T09:56:06.747Z"
   },
   {
    "duration": 5,
    "start_time": "2022-03-17T09:56:07.295Z"
   },
   {
    "duration": 6,
    "start_time": "2022-03-17T09:56:10.036Z"
   },
   {
    "duration": 19,
    "start_time": "2022-03-17T09:56:11.816Z"
   },
   {
    "duration": 57,
    "start_time": "2022-03-17T09:56:12.814Z"
   },
   {
    "duration": 56,
    "start_time": "2022-03-17T09:56:16.352Z"
   },
   {
    "duration": 56,
    "start_time": "2022-03-17T09:56:17.324Z"
   },
   {
    "duration": 8,
    "start_time": "2022-03-17T09:56:35.009Z"
   },
   {
    "duration": 4,
    "start_time": "2022-03-17T10:03:23.310Z"
   },
   {
    "duration": 3,
    "start_time": "2022-03-17T10:05:03.346Z"
   },
   {
    "duration": 7,
    "start_time": "2022-03-17T10:05:15.638Z"
   },
   {
    "duration": 8,
    "start_time": "2022-03-17T10:07:36.756Z"
   },
   {
    "duration": 9,
    "start_time": "2022-03-17T10:11:12.847Z"
   },
   {
    "duration": 1082,
    "start_time": "2022-03-17T10:13:07.268Z"
   },
   {
    "duration": 15,
    "start_time": "2022-03-17T10:15:25.817Z"
   },
   {
    "duration": 8,
    "start_time": "2022-03-17T10:15:33.017Z"
   },
   {
    "duration": 9,
    "start_time": "2022-03-17T10:21:46.976Z"
   },
   {
    "duration": 9,
    "start_time": "2022-03-17T10:22:46.176Z"
   },
   {
    "duration": 13,
    "start_time": "2022-03-17T10:24:16.877Z"
   },
   {
    "duration": 18,
    "start_time": "2022-03-17T10:24:45.537Z"
   },
   {
    "duration": 14,
    "start_time": "2022-03-17T10:24:55.056Z"
   },
   {
    "duration": 15,
    "start_time": "2022-03-17T10:25:11.507Z"
   },
   {
    "duration": 16,
    "start_time": "2022-03-17T10:25:38.215Z"
   },
   {
    "duration": 120,
    "start_time": "2022-03-17T10:25:52.736Z"
   },
   {
    "duration": 42,
    "start_time": "2022-03-17T10:26:23.637Z"
   },
   {
    "duration": 49,
    "start_time": "2022-03-17T10:26:31.597Z"
   },
   {
    "duration": 5,
    "start_time": "2022-03-17T10:32:16.825Z"
   },
   {
    "duration": 5,
    "start_time": "2022-03-17T10:33:49.118Z"
   },
   {
    "duration": 3,
    "start_time": "2022-03-17T10:36:24.639Z"
   },
   {
    "duration": 16,
    "start_time": "2022-03-17T10:37:03.408Z"
   },
   {
    "duration": 4,
    "start_time": "2022-03-17T10:37:31.007Z"
   },
   {
    "duration": 4,
    "start_time": "2022-03-17T10:37:41.387Z"
   },
   {
    "duration": 3,
    "start_time": "2022-03-17T10:37:47.317Z"
   },
   {
    "duration": 6,
    "start_time": "2022-03-17T10:37:48.017Z"
   },
   {
    "duration": 2,
    "start_time": "2022-03-17T10:38:43.598Z"
   },
   {
    "duration": 5,
    "start_time": "2022-03-17T10:39:22.657Z"
   },
   {
    "duration": 109204,
    "start_time": "2022-03-17T17:07:31.255Z"
   },
   {
    "duration": 99303,
    "start_time": "2022-03-17T17:09:28.653Z"
   },
   {
    "duration": 870,
    "start_time": "2022-03-17T17:12:05.676Z"
   },
   {
    "duration": 0,
    "start_time": "2022-03-17T17:12:06.548Z"
   },
   {
    "duration": 0,
    "start_time": "2022-03-17T17:12:06.550Z"
   },
   {
    "duration": 471,
    "start_time": "2022-03-17T17:12:06.824Z"
   },
   {
    "duration": 16,
    "start_time": "2022-03-17T17:12:07.296Z"
   },
   {
    "duration": 6,
    "start_time": "2022-03-17T17:12:07.313Z"
   },
   {
    "duration": 22,
    "start_time": "2022-03-17T17:12:07.545Z"
   },
   {
    "duration": 11,
    "start_time": "2022-03-17T17:12:07.905Z"
   },
   {
    "duration": 161,
    "start_time": "2022-03-17T17:12:08.465Z"
   },
   {
    "duration": 66,
    "start_time": "2022-03-17T17:12:08.834Z"
   },
   {
    "duration": 77,
    "start_time": "2022-03-17T17:12:13.595Z"
   },
   {
    "duration": 306,
    "start_time": "2022-03-17T17:12:14.174Z"
   },
   {
    "duration": 65,
    "start_time": "2022-03-17T17:12:14.514Z"
   },
   {
    "duration": 79,
    "start_time": "2022-03-17T17:12:15.315Z"
   },
   {
    "duration": 4,
    "start_time": "2022-03-17T17:12:15.434Z"
   },
   {
    "duration": 10,
    "start_time": "2022-03-17T17:12:16.205Z"
   },
   {
    "duration": 4,
    "start_time": "2022-03-17T17:12:16.524Z"
   },
   {
    "duration": 32,
    "start_time": "2022-03-17T17:12:20.700Z"
   },
   {
    "duration": 10,
    "start_time": "2022-03-17T17:12:21.207Z"
   },
   {
    "duration": 20,
    "start_time": "2022-03-17T17:12:21.792Z"
   },
   {
    "duration": 9,
    "start_time": "2022-03-17T17:12:22.667Z"
   },
   {
    "duration": 5,
    "start_time": "2022-03-17T17:12:22.871Z"
   },
   {
    "duration": 5,
    "start_time": "2022-03-17T17:12:23.074Z"
   },
   {
    "duration": 17,
    "start_time": "2022-03-17T17:12:23.825Z"
   },
   {
    "duration": 9,
    "start_time": "2022-03-17T17:12:25.474Z"
   },
   {
    "duration": 47,
    "start_time": "2022-03-17T17:12:28.044Z"
   },
   {
    "duration": 47,
    "start_time": "2022-03-17T17:12:28.208Z"
   },
   {
    "duration": 52,
    "start_time": "2022-03-17T17:12:29.054Z"
   },
   {
    "duration": 12,
    "start_time": "2022-03-17T17:12:29.597Z"
   },
   {
    "duration": 13,
    "start_time": "2022-03-17T17:12:30.009Z"
   },
   {
    "duration": 26,
    "start_time": "2022-03-17T17:12:32.443Z"
   },
   {
    "duration": 59,
    "start_time": "2022-03-17T17:12:33.004Z"
   },
   {
    "duration": 12,
    "start_time": "2022-03-17T17:12:33.345Z"
   },
   {
    "duration": 4,
    "start_time": "2022-03-17T17:12:33.520Z"
   },
   {
    "duration": 51,
    "start_time": "2022-03-17T17:12:33.715Z"
   },
   {
    "duration": 9,
    "start_time": "2022-03-17T17:12:33.904Z"
   },
   {
    "duration": 126,
    "start_time": "2022-03-17T17:12:36.876Z"
   },
   {
    "duration": 13,
    "start_time": "2022-03-17T17:12:37.005Z"
   },
   {
    "duration": 13,
    "start_time": "2022-03-17T17:12:37.574Z"
   },
   {
    "duration": 3,
    "start_time": "2022-03-17T17:12:37.712Z"
   },
   {
    "duration": 8,
    "start_time": "2022-03-17T17:12:38.085Z"
   },
   {
    "duration": 14976,
    "start_time": "2022-03-17T17:12:40.304Z"
   },
   {
    "duration": 14,
    "start_time": "2022-03-17T17:12:55.282Z"
   },
   {
    "duration": 788,
    "start_time": "2022-03-17T17:12:55.297Z"
   },
   {
    "duration": 23,
    "start_time": "2022-03-17T17:12:59.466Z"
   },
   {
    "duration": 52,
    "start_time": "2022-03-17T17:12:59.614Z"
   },
   {
    "duration": 9,
    "start_time": "2022-03-17T17:12:59.805Z"
   },
   {
    "duration": 86,
    "start_time": "2022-03-17T17:13:00.316Z"
   },
   {
    "duration": 9,
    "start_time": "2022-03-17T17:13:00.526Z"
   },
   {
    "duration": 8,
    "start_time": "2022-03-17T17:13:00.668Z"
   },
   {
    "duration": 42,
    "start_time": "2022-03-17T17:13:03.355Z"
   },
   {
    "duration": 39,
    "start_time": "2022-03-17T17:13:03.674Z"
   },
   {
    "duration": 12,
    "start_time": "2022-03-17T17:13:04.243Z"
   },
   {
    "duration": 21,
    "start_time": "2022-03-17T17:13:06.415Z"
   },
   {
    "duration": 74,
    "start_time": "2022-03-17T17:13:06.724Z"
   },
   {
    "duration": 8,
    "start_time": "2022-03-17T17:13:06.892Z"
   },
   {
    "duration": 5,
    "start_time": "2022-03-17T17:13:07.063Z"
   },
   {
    "duration": 5,
    "start_time": "2022-03-17T17:13:07.617Z"
   },
   {
    "duration": 18,
    "start_time": "2022-03-17T17:13:08.426Z"
   },
   {
    "duration": 57,
    "start_time": "2022-03-17T17:13:08.744Z"
   },
   {
    "duration": 61,
    "start_time": "2022-03-17T17:13:10.015Z"
   },
   {
    "duration": 54,
    "start_time": "2022-03-17T17:13:10.155Z"
   },
   {
    "duration": 7,
    "start_time": "2022-03-17T17:13:11.044Z"
   },
   {
    "duration": 4,
    "start_time": "2022-03-17T17:13:25.890Z"
   },
   {
    "duration": 6,
    "start_time": "2022-03-17T17:13:25.897Z"
   },
   {
    "duration": 11,
    "start_time": "2022-03-17T17:13:25.904Z"
   },
   {
    "duration": 11,
    "start_time": "2022-03-17T17:13:25.917Z"
   },
   {
    "duration": 9,
    "start_time": "2022-03-17T17:13:25.931Z"
   },
   {
    "duration": 5,
    "start_time": "2022-03-17T17:14:44.295Z"
   },
   {
    "duration": 3,
    "start_time": "2022-03-17T17:14:48.044Z"
   },
   {
    "duration": 3,
    "start_time": "2022-03-17T17:14:54.160Z"
   },
   {
    "duration": 6,
    "start_time": "2022-03-17T17:14:55.044Z"
   },
   {
    "duration": 2,
    "start_time": "2022-03-17T17:14:59.643Z"
   },
   {
    "duration": 6,
    "start_time": "2022-03-17T17:15:00.674Z"
   },
   {
    "duration": 5,
    "start_time": "2022-03-17T17:15:58.765Z"
   },
   {
    "duration": 5,
    "start_time": "2022-03-17T17:16:00.005Z"
   },
   {
    "duration": 4,
    "start_time": "2022-03-17T17:16:01.215Z"
   },
   {
    "duration": 5,
    "start_time": "2022-03-17T17:16:02.096Z"
   },
   {
    "duration": 4,
    "start_time": "2022-03-17T17:16:05.054Z"
   },
   {
    "duration": 4,
    "start_time": "2022-03-17T17:16:05.653Z"
   },
   {
    "duration": 4,
    "start_time": "2022-03-17T17:16:51.774Z"
   },
   {
    "duration": 4,
    "start_time": "2022-03-17T17:16:55.806Z"
   },
   {
    "duration": 117,
    "start_time": "2022-03-17T17:17:30.406Z"
   },
   {
    "duration": 118,
    "start_time": "2022-03-17T17:17:38.835Z"
   },
   {
    "duration": 557,
    "start_time": "2022-03-17T17:17:43.425Z"
   },
   {
    "duration": 8,
    "start_time": "2022-03-17T17:17:50.246Z"
   },
   {
    "duration": 5,
    "start_time": "2022-03-17T17:17:54.664Z"
   },
   {
    "duration": 4,
    "start_time": "2022-03-17T17:17:54.984Z"
   },
   {
    "duration": 2,
    "start_time": "2022-03-17T17:17:55.332Z"
   },
   {
    "duration": 5,
    "start_time": "2022-03-17T17:17:55.674Z"
   },
   {
    "duration": 3,
    "start_time": "2022-03-17T17:17:56.073Z"
   },
   {
    "duration": 4,
    "start_time": "2022-03-17T17:17:56.234Z"
   },
   {
    "duration": 16306,
    "start_time": "2022-03-22T20:10:16.915Z"
   },
   {
    "duration": 11894,
    "start_time": "2022-03-22T20:10:51.226Z"
   },
   {
    "duration": 4206,
    "start_time": "2022-03-22T20:11:05.481Z"
   },
   {
    "duration": 2018,
    "start_time": "2022-03-22T20:11:14.576Z"
   },
   {
    "duration": 641,
    "start_time": "2022-03-22T20:11:19.583Z"
   },
   {
    "duration": 25,
    "start_time": "2022-03-22T20:11:20.961Z"
   },
   {
    "duration": 251,
    "start_time": "2022-03-22T20:11:22.965Z"
   },
   {
    "duration": 14,
    "start_time": "2022-03-22T20:11:23.705Z"
   },
   {
    "duration": 7,
    "start_time": "2022-03-22T20:11:24.105Z"
   },
   {
    "duration": 40,
    "start_time": "2022-03-22T20:11:24.810Z"
   },
   {
    "duration": 65,
    "start_time": "2022-03-22T20:11:25.596Z"
   },
   {
    "duration": 383,
    "start_time": "2022-03-22T20:11:26.505Z"
   },
   {
    "duration": 105,
    "start_time": "2022-03-22T20:11:27.095Z"
   },
   {
    "duration": 129,
    "start_time": "2022-03-22T20:11:27.484Z"
   },
   {
    "duration": 448,
    "start_time": "2022-03-22T20:11:28.106Z"
   },
   {
    "duration": 117,
    "start_time": "2022-03-22T20:11:28.570Z"
   },
   {
    "duration": 109,
    "start_time": "2022-03-22T20:11:29.255Z"
   },
   {
    "duration": 6,
    "start_time": "2022-03-22T20:11:29.435Z"
   },
   {
    "duration": 48,
    "start_time": "2022-03-22T20:11:30.206Z"
   },
   {
    "duration": 6,
    "start_time": "2022-03-22T20:11:30.495Z"
   },
   {
    "duration": 44,
    "start_time": "2022-03-22T20:11:31.411Z"
   },
   {
    "duration": 14,
    "start_time": "2022-03-22T20:11:31.925Z"
   },
   {
    "duration": 27,
    "start_time": "2022-03-22T20:11:32.485Z"
   },
   {
    "duration": 10955,
    "start_time": "2022-03-22T20:11:33.416Z"
   },
   {
    "duration": 8,
    "start_time": "2022-03-22T20:11:44.373Z"
   },
   {
    "duration": 7,
    "start_time": "2022-03-22T20:11:58.536Z"
   },
   {
    "duration": 19,
    "start_time": "2022-03-22T20:11:59.885Z"
   },
   {
    "duration": 10390,
    "start_time": "2022-03-22T20:12:00.244Z"
   },
   {
    "duration": 66,
    "start_time": "2022-03-22T20:12:10.637Z"
   },
   {
    "duration": 34,
    "start_time": "2022-03-22T20:12:10.705Z"
   },
   {
    "duration": 74,
    "start_time": "2022-03-22T20:12:10.742Z"
   },
   {
    "duration": 10,
    "start_time": "2022-03-22T20:14:03.703Z"
   },
   {
    "duration": 14,
    "start_time": "2022-03-22T20:14:04.392Z"
   },
   {
    "duration": 36,
    "start_time": "2022-03-22T20:14:07.205Z"
   },
   {
    "duration": 73,
    "start_time": "2022-03-22T20:14:09.066Z"
   },
   {
    "duration": 17,
    "start_time": "2022-03-22T20:14:10.345Z"
   },
   {
    "duration": 7,
    "start_time": "2022-03-22T20:14:11.104Z"
   },
   {
    "duration": 110,
    "start_time": "2022-03-22T20:14:11.536Z"
   },
   {
    "duration": 126,
    "start_time": "2022-03-22T20:14:12.335Z"
   },
   {
    "duration": 215,
    "start_time": "2022-03-22T20:14:17.895Z"
   },
   {
    "duration": 25,
    "start_time": "2022-03-22T20:14:18.364Z"
   },
   {
    "duration": 19,
    "start_time": "2022-03-22T20:14:19.286Z"
   },
   {
    "duration": 4,
    "start_time": "2022-03-22T20:14:19.551Z"
   },
   {
    "duration": 11,
    "start_time": "2022-03-22T20:14:20.085Z"
   },
   {
    "duration": 26077,
    "start_time": "2022-03-22T20:14:20.595Z"
   },
   {
    "duration": 26,
    "start_time": "2022-03-22T20:14:46.675Z"
   },
   {
    "duration": 1159,
    "start_time": "2022-03-22T20:14:46.704Z"
   },
   {
    "duration": 44,
    "start_time": "2022-03-22T20:14:47.866Z"
   },
   {
    "duration": 95,
    "start_time": "2022-03-22T20:14:47.912Z"
   },
   {
    "duration": 20,
    "start_time": "2022-03-22T20:16:46.758Z"
   },
   {
    "duration": 137,
    "start_time": "2022-03-22T20:16:49.815Z"
   },
   {
    "duration": 14,
    "start_time": "2022-03-22T20:16:50.946Z"
   },
   {
    "duration": 93,
    "start_time": "2022-03-22T20:16:51.535Z"
   },
   {
    "duration": 46,
    "start_time": "2022-03-22T20:16:55.630Z"
   },
   {
    "duration": 52,
    "start_time": "2022-03-22T20:16:56.689Z"
   },
   {
    "duration": 13,
    "start_time": "2022-03-22T20:16:58.156Z"
   },
   {
    "duration": 27,
    "start_time": "2022-03-22T20:16:58.833Z"
   },
   {
    "duration": 101,
    "start_time": "2022-03-22T20:17:00.259Z"
   },
   {
    "duration": 10,
    "start_time": "2022-03-22T20:17:00.803Z"
   },
   {
    "duration": 8,
    "start_time": "2022-03-22T20:17:01.186Z"
   },
   {
    "duration": 18,
    "start_time": "2022-03-22T20:17:02.060Z"
   },
   {
    "duration": 31,
    "start_time": "2022-03-22T20:17:03.386Z"
   },
   {
    "duration": 84,
    "start_time": "2022-03-22T20:17:04.275Z"
   },
   {
    "duration": 83,
    "start_time": "2022-03-22T20:17:06.424Z"
   },
   {
    "duration": 86,
    "start_time": "2022-03-22T20:17:06.865Z"
   },
   {
    "duration": 10,
    "start_time": "2022-03-22T20:17:08.055Z"
   },
   {
    "duration": 7,
    "start_time": "2022-03-22T20:17:08.252Z"
   },
   {
    "duration": 5,
    "start_time": "2022-03-22T20:17:08.576Z"
   },
   {
    "duration": 11,
    "start_time": "2022-03-22T20:17:08.886Z"
   },
   {
    "duration": 6,
    "start_time": "2022-03-22T20:17:09.665Z"
   },
   {
    "duration": 7,
    "start_time": "2022-03-22T20:17:09.805Z"
   },
   {
    "duration": 7,
    "start_time": "2022-03-22T20:17:09.975Z"
   },
   {
    "duration": 8,
    "start_time": "2022-03-22T20:17:10.424Z"
   },
   {
    "duration": 4,
    "start_time": "2022-03-22T20:17:10.776Z"
   },
   {
    "duration": 8,
    "start_time": "2022-03-22T20:17:11.145Z"
   },
   {
    "duration": 1065,
    "start_time": "2022-03-22T20:28:49.378Z"
   },
   {
    "duration": 1053,
    "start_time": "2022-03-22T20:29:25.073Z"
   },
   {
    "duration": 1045,
    "start_time": "2022-03-22T20:29:31.055Z"
   },
   {
    "duration": 16785,
    "start_time": "2022-03-24T10:47:26.343Z"
   },
   {
    "duration": 4465,
    "start_time": "2022-03-24T10:47:43.131Z"
   },
   {
    "duration": 1900,
    "start_time": "2022-03-24T10:47:47.599Z"
   },
   {
    "duration": 606,
    "start_time": "2022-03-24T10:47:49.502Z"
   },
   {
    "duration": 20,
    "start_time": "2022-03-24T10:47:50.111Z"
   },
   {
    "duration": 305,
    "start_time": "2022-03-24T10:47:50.133Z"
   },
   {
    "duration": 14,
    "start_time": "2022-03-24T10:47:50.441Z"
   },
   {
    "duration": 11,
    "start_time": "2022-03-24T10:47:50.457Z"
   },
   {
    "duration": 28,
    "start_time": "2022-03-24T10:47:50.485Z"
   },
   {
    "duration": 68,
    "start_time": "2022-03-24T10:47:50.518Z"
   },
   {
    "duration": 246,
    "start_time": "2022-03-24T10:47:50.588Z"
   },
   {
    "duration": 105,
    "start_time": "2022-03-24T10:47:50.836Z"
   },
   {
    "duration": 134,
    "start_time": "2022-03-24T10:47:50.943Z"
   },
   {
    "duration": 444,
    "start_time": "2022-03-24T10:47:51.079Z"
   },
   {
    "duration": 108,
    "start_time": "2022-03-24T10:47:51.525Z"
   },
   {
    "duration": 113,
    "start_time": "2022-03-24T10:47:51.635Z"
   },
   {
    "duration": 5,
    "start_time": "2022-03-24T10:47:51.751Z"
   },
   {
    "duration": 65,
    "start_time": "2022-03-24T10:47:51.758Z"
   },
   {
    "duration": 5,
    "start_time": "2022-03-24T10:47:51.825Z"
   },
   {
    "duration": 66,
    "start_time": "2022-03-24T10:47:51.832Z"
   },
   {
    "duration": 11,
    "start_time": "2022-03-24T10:47:51.900Z"
   },
   {
    "duration": 25,
    "start_time": "2022-03-24T10:47:51.914Z"
   },
   {
    "duration": 10765,
    "start_time": "2022-03-24T10:47:51.941Z"
   },
   {
    "duration": 9,
    "start_time": "2022-03-24T10:48:02.710Z"
   },
   {
    "duration": 13,
    "start_time": "2022-03-24T10:48:02.722Z"
   },
   {
    "duration": 17,
    "start_time": "2022-03-24T10:48:02.785Z"
   },
   {
    "duration": 17911,
    "start_time": "2022-03-24T10:48:02.805Z"
   },
   {
    "duration": 92,
    "start_time": "2022-03-24T10:48:20.726Z"
   },
   {
    "duration": 163,
    "start_time": "2022-03-24T10:48:20.821Z"
   },
   {
    "duration": 200,
    "start_time": "2022-03-24T10:48:20.987Z"
   },
   {
    "duration": 15,
    "start_time": "2022-03-24T10:48:21.189Z"
   },
   {
    "duration": 76,
    "start_time": "2022-03-24T10:48:21.207Z"
   },
   {
    "duration": 100,
    "start_time": "2022-03-24T10:48:21.286Z"
   },
   {
    "duration": 128,
    "start_time": "2022-03-24T10:48:21.388Z"
   },
   {
    "duration": 18,
    "start_time": "2022-03-24T10:48:21.518Z"
   },
   {
    "duration": 6,
    "start_time": "2022-03-24T10:48:21.538Z"
   },
   {
    "duration": 116,
    "start_time": "2022-03-24T10:48:21.546Z"
   },
   {
    "duration": 179,
    "start_time": "2022-03-24T10:48:21.666Z"
   },
   {
    "duration": 184,
    "start_time": "2022-03-24T10:48:21.847Z"
   },
   {
    "duration": 19,
    "start_time": "2022-03-24T10:48:22.034Z"
   },
   {
    "duration": 42,
    "start_time": "2022-03-24T10:48:22.056Z"
   },
   {
    "duration": 5,
    "start_time": "2022-03-24T10:48:22.101Z"
   },
   {
    "duration": 15,
    "start_time": "2022-03-24T10:48:22.109Z"
   },
   {
    "duration": 32816,
    "start_time": "2022-03-24T10:48:22.128Z"
   },
   {
    "duration": 23,
    "start_time": "2022-03-24T10:48:54.947Z"
   },
   {
    "duration": 882,
    "start_time": "2022-03-24T10:48:54.985Z"
   },
   {
    "duration": 31,
    "start_time": "2022-03-24T10:48:55.870Z"
   },
   {
    "duration": 92,
    "start_time": "2022-03-24T10:48:55.903Z"
   },
   {
    "duration": 14,
    "start_time": "2022-03-24T10:48:55.997Z"
   },
   {
    "duration": 169,
    "start_time": "2022-03-24T10:48:56.015Z"
   },
   {
    "duration": 14,
    "start_time": "2022-03-24T10:48:56.186Z"
   },
   {
    "duration": 100,
    "start_time": "2022-03-24T10:48:56.202Z"
   },
   {
    "duration": 40,
    "start_time": "2022-03-24T10:48:56.304Z"
   },
   {
    "duration": 88,
    "start_time": "2022-03-24T10:48:56.346Z"
   },
   {
    "duration": 18,
    "start_time": "2022-03-24T10:48:56.437Z"
   },
   {
    "duration": 44,
    "start_time": "2022-03-24T10:48:56.458Z"
   },
   {
    "duration": 109,
    "start_time": "2022-03-24T10:48:56.504Z"
   },
   {
    "duration": 11,
    "start_time": "2022-03-24T10:48:56.616Z"
   },
   {
    "duration": 8,
    "start_time": "2022-03-24T10:48:56.630Z"
   },
   {
    "duration": 10,
    "start_time": "2022-03-24T10:48:56.641Z"
   },
   {
    "duration": 27,
    "start_time": "2022-03-24T10:48:56.685Z"
   },
   {
    "duration": 104,
    "start_time": "2022-03-24T10:48:56.715Z"
   },
   {
    "duration": 94,
    "start_time": "2022-03-24T10:48:56.821Z"
   },
   {
    "duration": 101,
    "start_time": "2022-03-24T10:48:56.918Z"
   },
   {
    "duration": 11,
    "start_time": "2022-03-24T10:48:57.021Z"
   },
   {
    "duration": 78,
    "start_time": "2022-03-24T10:48:57.035Z"
   },
   {
    "duration": 6,
    "start_time": "2022-03-24T10:48:57.115Z"
   },
   {
    "duration": 18,
    "start_time": "2022-03-24T10:48:57.123Z"
   },
   {
    "duration": 8,
    "start_time": "2022-03-24T10:48:57.144Z"
   },
   {
    "duration": 17,
    "start_time": "2022-03-24T10:48:57.154Z"
   },
   {
    "duration": 0,
    "start_time": "2022-03-24T10:48:57.173Z"
   },
   {
    "duration": 0,
    "start_time": "2022-03-24T10:48:57.175Z"
   },
   {
    "duration": 0,
    "start_time": "2022-03-24T10:48:57.177Z"
   },
   {
    "duration": 99022,
    "start_time": "2022-03-26T21:45:04.741Z"
   },
   {
    "duration": 98913,
    "start_time": "2022-03-26T21:46:43.766Z"
   },
   {
    "duration": 824,
    "start_time": "2022-03-26T21:48:22.681Z"
   },
   {
    "duration": 11,
    "start_time": "2022-03-26T21:50:09.881Z"
   },
   {
    "duration": 100146,
    "start_time": "2022-03-26T21:50:30.837Z"
   },
   {
    "duration": 590,
    "start_time": "2022-03-26T21:52:10.985Z"
   },
   {
    "duration": 791,
    "start_time": "2022-03-26T21:52:11.577Z"
   },
   {
    "duration": 11,
    "start_time": "2022-03-26T21:52:12.371Z"
   },
   {
    "duration": 157,
    "start_time": "2022-03-26T21:52:12.383Z"
   },
   {
    "duration": 8,
    "start_time": "2022-03-26T21:52:12.542Z"
   },
   {
    "duration": 5,
    "start_time": "2022-03-26T21:52:12.552Z"
   },
   {
    "duration": 21,
    "start_time": "2022-03-26T21:52:12.559Z"
   },
   {
    "duration": 57,
    "start_time": "2022-03-26T21:52:12.584Z"
   },
   {
    "duration": 161,
    "start_time": "2022-03-26T21:52:12.642Z"
   },
   {
    "duration": 86,
    "start_time": "2022-03-26T21:52:12.805Z"
   },
   {
    "duration": 82,
    "start_time": "2022-03-26T21:52:12.892Z"
   },
   {
    "duration": 317,
    "start_time": "2022-03-26T21:52:12.976Z"
   },
   {
    "duration": 74,
    "start_time": "2022-03-26T21:52:13.295Z"
   },
   {
    "duration": 80,
    "start_time": "2022-03-26T21:52:13.371Z"
   },
   {
    "duration": 4,
    "start_time": "2022-03-26T21:52:13.453Z"
   },
   {
    "duration": 33,
    "start_time": "2022-03-26T21:52:13.458Z"
   },
   {
    "duration": 3,
    "start_time": "2022-03-26T21:52:13.493Z"
   },
   {
    "duration": 54,
    "start_time": "2022-03-26T21:52:13.498Z"
   },
   {
    "duration": 10,
    "start_time": "2022-03-26T21:52:13.553Z"
   },
   {
    "duration": 25,
    "start_time": "2022-03-26T21:52:13.564Z"
   },
   {
    "duration": 5775,
    "start_time": "2022-03-26T21:52:13.591Z"
   },
   {
    "duration": 5,
    "start_time": "2022-03-26T21:52:19.368Z"
   },
   {
    "duration": 7,
    "start_time": "2022-03-26T21:52:19.374Z"
   },
   {
    "duration": 52,
    "start_time": "2022-03-26T21:52:19.383Z"
   },
   {
    "duration": 5550,
    "start_time": "2022-03-26T21:52:19.436Z"
   },
   {
    "duration": 53,
    "start_time": "2022-03-26T21:52:24.990Z"
   },
   {
    "duration": 28,
    "start_time": "2022-03-26T21:52:25.045Z"
   },
   {
    "duration": 95,
    "start_time": "2022-03-26T21:52:25.074Z"
   },
   {
    "duration": 7,
    "start_time": "2022-03-26T21:52:25.171Z"
   },
   {
    "duration": 62,
    "start_time": "2022-03-26T21:52:25.179Z"
   },
   {
    "duration": 24,
    "start_time": "2022-03-26T21:52:25.243Z"
   },
   {
    "duration": 102,
    "start_time": "2022-03-26T21:52:25.269Z"
   },
   {
    "duration": 61,
    "start_time": "2022-03-26T21:52:25.373Z"
   },
   {
    "duration": 3,
    "start_time": "2022-03-26T21:52:25.436Z"
   },
   {
    "duration": 107,
    "start_time": "2022-03-26T21:52:25.441Z"
   },
   {
    "duration": 79,
    "start_time": "2022-03-26T21:52:25.549Z"
   },
   {
    "duration": 94,
    "start_time": "2022-03-26T21:52:25.629Z"
   },
   {
    "duration": 19,
    "start_time": "2022-03-26T21:52:25.724Z"
   },
   {
    "duration": 12,
    "start_time": "2022-03-26T21:52:25.744Z"
   },
   {
    "duration": 3,
    "start_time": "2022-03-26T21:52:25.758Z"
   },
   {
    "duration": 11,
    "start_time": "2022-03-26T21:52:25.762Z"
   },
   {
    "duration": 14442,
    "start_time": "2022-03-26T21:52:25.774Z"
   },
   {
    "duration": 18,
    "start_time": "2022-03-26T21:52:40.217Z"
   },
   {
    "duration": 719,
    "start_time": "2022-03-26T21:52:40.237Z"
   },
   {
    "duration": 19,
    "start_time": "2022-03-26T21:52:40.957Z"
   },
   {
    "duration": 51,
    "start_time": "2022-03-26T21:52:40.978Z"
   },
   {
    "duration": 8,
    "start_time": "2022-03-26T21:52:41.031Z"
   },
   {
    "duration": 96,
    "start_time": "2022-03-26T21:52:41.040Z"
   },
   {
    "duration": 9,
    "start_time": "2022-03-26T21:52:41.137Z"
   },
   {
    "duration": 48,
    "start_time": "2022-03-26T21:52:41.147Z"
   },
   {
    "duration": 46,
    "start_time": "2022-03-26T21:52:41.196Z"
   },
   {
    "duration": 39,
    "start_time": "2022-03-26T21:52:41.244Z"
   },
   {
    "duration": 8,
    "start_time": "2022-03-26T21:52:41.285Z"
   },
   {
    "duration": 40,
    "start_time": "2022-03-26T21:52:41.295Z"
   },
   {
    "duration": 64,
    "start_time": "2022-03-26T21:52:41.337Z"
   },
   {
    "duration": 7,
    "start_time": "2022-03-26T21:52:41.402Z"
   },
   {
    "duration": 26,
    "start_time": "2022-03-26T21:52:41.411Z"
   },
   {
    "duration": 5,
    "start_time": "2022-03-26T21:52:41.439Z"
   },
   {
    "duration": 21,
    "start_time": "2022-03-26T21:52:41.446Z"
   },
   {
    "duration": 71,
    "start_time": "2022-03-26T21:52:41.468Z"
   },
   {
    "duration": 53,
    "start_time": "2022-03-26T21:55:52.006Z"
   },
   {
    "duration": 48,
    "start_time": "2022-03-26T21:55:58.566Z"
   },
   {
    "duration": 7,
    "start_time": "2022-03-26T21:56:00.629Z"
   },
   {
    "duration": 4,
    "start_time": "2022-03-26T21:56:02.078Z"
   },
   {
    "duration": 3,
    "start_time": "2022-03-26T21:56:02.229Z"
   },
   {
    "duration": 9,
    "start_time": "2022-03-26T21:56:02.420Z"
   },
   {
    "duration": 1468,
    "start_time": "2022-03-27T12:40:11.194Z"
   },
   {
    "duration": 39523,
    "start_time": "2022-03-27T21:14:01.118Z"
   },
   {
    "duration": 50864,
    "start_time": "2022-03-27T21:14:40.643Z"
   },
   {
    "duration": 1469,
    "start_time": "2022-03-27T21:15:31.509Z"
   },
   {
    "duration": 368,
    "start_time": "2022-03-27T21:15:32.980Z"
   },
   {
    "duration": 10,
    "start_time": "2022-03-27T21:15:33.350Z"
   },
   {
    "duration": 145,
    "start_time": "2022-03-27T21:15:33.362Z"
   },
   {
    "duration": 7,
    "start_time": "2022-03-27T21:15:33.509Z"
   },
   {
    "duration": 6,
    "start_time": "2022-03-27T21:15:33.517Z"
   },
   {
    "duration": 21,
    "start_time": "2022-03-27T21:15:33.524Z"
   },
   {
    "duration": 31,
    "start_time": "2022-03-27T21:15:33.548Z"
   },
   {
    "duration": 174,
    "start_time": "2022-03-27T21:15:33.581Z"
   },
   {
    "duration": 69,
    "start_time": "2022-03-27T21:15:33.757Z"
   },
   {
    "duration": 70,
    "start_time": "2022-03-27T21:15:33.828Z"
   },
   {
    "duration": 311,
    "start_time": "2022-03-27T21:15:33.909Z"
   },
   {
    "duration": 66,
    "start_time": "2022-03-27T21:15:34.221Z"
   },
   {
    "duration": 85,
    "start_time": "2022-03-27T21:15:34.289Z"
   },
   {
    "duration": 3,
    "start_time": "2022-03-27T21:15:34.376Z"
   },
   {
    "duration": 48,
    "start_time": "2022-03-27T21:15:34.381Z"
   },
   {
    "duration": 3,
    "start_time": "2022-03-27T21:15:34.431Z"
   },
   {
    "duration": 35,
    "start_time": "2022-03-27T21:15:34.436Z"
   },
   {
    "duration": 9,
    "start_time": "2022-03-27T21:15:34.472Z"
   },
   {
    "duration": 36,
    "start_time": "2022-03-27T21:15:34.483Z"
   },
   {
    "duration": 6126,
    "start_time": "2022-03-27T21:15:34.520Z"
   },
   {
    "duration": 6,
    "start_time": "2022-03-27T21:15:40.648Z"
   },
   {
    "duration": 6,
    "start_time": "2022-03-27T21:15:40.655Z"
   },
   {
    "duration": 55,
    "start_time": "2022-03-27T21:15:40.663Z"
   },
   {
    "duration": 5925,
    "start_time": "2022-03-27T21:15:40.720Z"
   },
   {
    "duration": 61,
    "start_time": "2022-03-27T21:15:46.649Z"
   },
   {
    "duration": 25,
    "start_time": "2022-03-27T21:15:46.712Z"
   },
   {
    "duration": 100,
    "start_time": "2022-03-27T21:15:46.738Z"
   },
   {
    "duration": 8,
    "start_time": "2022-03-27T21:15:46.840Z"
   },
   {
    "duration": 64,
    "start_time": "2022-03-27T21:15:46.849Z"
   },
   {
    "duration": 26,
    "start_time": "2022-03-27T21:15:46.915Z"
   },
   {
    "duration": 108,
    "start_time": "2022-03-27T21:15:46.942Z"
   },
   {
    "duration": 67,
    "start_time": "2022-03-27T21:15:47.052Z"
   },
   {
    "duration": 3,
    "start_time": "2022-03-27T21:15:47.121Z"
   },
   {
    "duration": 58,
    "start_time": "2022-03-27T21:15:47.125Z"
   },
   {
    "duration": 97,
    "start_time": "2022-03-27T21:15:47.184Z"
   },
   {
    "duration": 100,
    "start_time": "2022-03-27T21:15:47.282Z"
   },
   {
    "duration": 14,
    "start_time": "2022-03-27T21:15:47.384Z"
   },
   {
    "duration": 19,
    "start_time": "2022-03-27T21:15:47.400Z"
   },
   {
    "duration": 3,
    "start_time": "2022-03-27T21:15:47.421Z"
   },
   {
    "duration": 8,
    "start_time": "2022-03-27T21:15:47.426Z"
   },
   {
    "duration": 15636,
    "start_time": "2022-03-27T21:15:47.436Z"
   },
   {
    "duration": 16,
    "start_time": "2022-03-27T21:16:03.074Z"
   },
   {
    "duration": 507,
    "start_time": "2022-03-27T21:16:03.092Z"
   },
   {
    "duration": 21,
    "start_time": "2022-03-27T21:16:03.601Z"
   },
   {
    "duration": 54,
    "start_time": "2022-03-27T21:16:03.623Z"
   },
   {
    "duration": 9,
    "start_time": "2022-03-27T21:16:03.679Z"
   },
   {
    "duration": 84,
    "start_time": "2022-03-27T21:16:03.709Z"
   },
   {
    "duration": 21,
    "start_time": "2022-03-27T21:16:03.795Z"
   },
   {
    "duration": 56,
    "start_time": "2022-03-27T21:16:03.818Z"
   },
   {
    "duration": 45,
    "start_time": "2022-03-27T21:16:03.875Z"
   },
   {
    "duration": 39,
    "start_time": "2022-03-27T21:16:03.922Z"
   },
   {
    "duration": 8,
    "start_time": "2022-03-27T21:16:03.962Z"
   },
   {
    "duration": 39,
    "start_time": "2022-03-27T21:16:03.972Z"
   },
   {
    "duration": 69,
    "start_time": "2022-03-27T21:16:04.013Z"
   },
   {
    "duration": 7,
    "start_time": "2022-03-27T21:16:04.083Z"
   },
   {
    "duration": 21,
    "start_time": "2022-03-27T21:16:04.091Z"
   },
   {
    "duration": 7,
    "start_time": "2022-03-27T21:16:04.114Z"
   },
   {
    "duration": 29,
    "start_time": "2022-03-27T21:16:04.123Z"
   },
   {
    "duration": 67,
    "start_time": "2022-03-27T21:16:04.154Z"
   },
   {
    "duration": 52,
    "start_time": "2022-03-27T21:16:04.222Z"
   },
   {
    "duration": 70,
    "start_time": "2022-03-27T21:16:04.275Z"
   },
   {
    "duration": 6,
    "start_time": "2022-03-27T21:16:04.347Z"
   },
   {
    "duration": 20,
    "start_time": "2022-03-27T21:16:04.355Z"
   },
   {
    "duration": 7,
    "start_time": "2022-03-27T21:16:04.376Z"
   },
   {
    "duration": 18,
    "start_time": "2022-03-27T21:16:04.385Z"
   },
   {
    "duration": 7,
    "start_time": "2022-03-27T21:16:04.404Z"
   },
   {
    "duration": 13,
    "start_time": "2022-03-27T21:16:04.413Z"
   },
   {
    "duration": 4,
    "start_time": "2022-03-27T21:16:04.428Z"
   },
   {
    "duration": 13,
    "start_time": "2022-03-27T21:16:04.436Z"
   },
   {
    "duration": 481,
    "start_time": "2022-03-27T21:16:23.402Z"
   },
   {
    "duration": 4,
    "start_time": "2022-03-27T21:17:06.918Z"
   },
   {
    "duration": 74,
    "start_time": "2022-03-27T21:17:24.184Z"
   },
   {
    "duration": 9694,
    "start_time": "2022-03-28T13:52:12.527Z"
   },
   {
    "duration": 2705,
    "start_time": "2022-03-28T13:52:22.223Z"
   },
   {
    "duration": 1428,
    "start_time": "2022-03-28T13:52:24.931Z"
   },
   {
    "duration": 260,
    "start_time": "2022-03-28T13:52:26.361Z"
   },
   {
    "duration": 10,
    "start_time": "2022-03-28T13:52:26.623Z"
   },
   {
    "duration": 149,
    "start_time": "2022-03-28T13:52:26.635Z"
   },
   {
    "duration": 7,
    "start_time": "2022-03-28T13:52:26.786Z"
   },
   {
    "duration": 13,
    "start_time": "2022-03-28T13:52:26.795Z"
   },
   {
    "duration": 29,
    "start_time": "2022-03-28T13:52:26.810Z"
   },
   {
    "duration": 40,
    "start_time": "2022-03-28T13:52:26.842Z"
   },
   {
    "duration": 148,
    "start_time": "2022-03-28T13:52:26.883Z"
   },
   {
    "duration": 65,
    "start_time": "2022-03-28T13:52:27.033Z"
   },
   {
    "duration": 72,
    "start_time": "2022-03-28T13:52:27.100Z"
   },
   {
    "duration": 282,
    "start_time": "2022-03-28T13:52:27.173Z"
   },
   {
    "duration": 64,
    "start_time": "2022-03-28T13:52:27.457Z"
   },
   {
    "duration": 83,
    "start_time": "2022-03-28T13:52:27.523Z"
   },
   {
    "duration": 3,
    "start_time": "2022-03-28T13:52:27.608Z"
   },
   {
    "duration": 36,
    "start_time": "2022-03-28T13:52:27.613Z"
   },
   {
    "duration": 3,
    "start_time": "2022-03-28T13:52:27.651Z"
   },
   {
    "duration": 32,
    "start_time": "2022-03-28T13:52:27.663Z"
   },
   {
    "duration": 9,
    "start_time": "2022-03-28T13:52:27.697Z"
   },
   {
    "duration": 29,
    "start_time": "2022-03-28T13:52:27.707Z"
   },
   {
    "duration": 5991,
    "start_time": "2022-03-28T13:52:27.762Z"
   },
   {
    "duration": 12,
    "start_time": "2022-03-28T13:52:33.755Z"
   },
   {
    "duration": 6,
    "start_time": "2022-03-28T13:52:33.769Z"
   },
   {
    "duration": 12,
    "start_time": "2022-03-28T13:52:33.776Z"
   },
   {
    "duration": 5766,
    "start_time": "2022-03-28T13:52:33.790Z"
   },
   {
    "duration": 24,
    "start_time": "2022-03-28T13:52:39.562Z"
   },
   {
    "duration": 84,
    "start_time": "2022-03-28T13:52:39.588Z"
   },
   {
    "duration": 97,
    "start_time": "2022-03-28T13:52:39.673Z"
   },
   {
    "duration": 7,
    "start_time": "2022-03-28T13:52:39.772Z"
   },
   {
    "duration": 10,
    "start_time": "2022-03-28T13:52:39.780Z"
   },
   {
    "duration": 81,
    "start_time": "2022-03-28T13:52:39.791Z"
   },
   {
    "duration": 105,
    "start_time": "2022-03-28T13:52:39.873Z"
   },
   {
    "duration": 11,
    "start_time": "2022-03-28T13:52:39.979Z"
   },
   {
    "duration": 3,
    "start_time": "2022-03-28T13:52:39.991Z"
   },
   {
    "duration": 97,
    "start_time": "2022-03-28T13:52:39.996Z"
   },
   {
    "duration": 68,
    "start_time": "2022-03-28T13:52:40.095Z"
   },
   {
    "duration": 100,
    "start_time": "2022-03-28T13:52:40.164Z"
   },
   {
    "duration": 13,
    "start_time": "2022-03-28T13:52:40.266Z"
   },
   {
    "duration": 15,
    "start_time": "2022-03-28T13:52:40.281Z"
   },
   {
    "duration": 3,
    "start_time": "2022-03-28T13:52:40.297Z"
   },
   {
    "duration": 9,
    "start_time": "2022-03-28T13:52:40.301Z"
   },
   {
    "duration": 14222,
    "start_time": "2022-03-28T13:52:40.311Z"
   },
   {
    "duration": 14,
    "start_time": "2022-03-28T13:52:54.535Z"
   },
   {
    "duration": 1014,
    "start_time": "2022-03-28T13:52:54.562Z"
   },
   {
    "duration": 19,
    "start_time": "2022-03-28T13:52:55.578Z"
   },
   {
    "duration": 49,
    "start_time": "2022-03-28T13:52:55.599Z"
   },
   {
    "duration": 14,
    "start_time": "2022-03-28T13:52:55.650Z"
   },
   {
    "duration": 76,
    "start_time": "2022-03-28T13:52:55.665Z"
   },
   {
    "duration": 25,
    "start_time": "2022-03-28T13:52:55.742Z"
   },
   {
    "duration": 47,
    "start_time": "2022-03-28T13:52:55.768Z"
   },
   {
    "duration": 28,
    "start_time": "2022-03-28T13:52:55.817Z"
   },
   {
    "duration": 37,
    "start_time": "2022-03-28T13:52:55.863Z"
   },
   {
    "duration": 7,
    "start_time": "2022-03-28T13:52:55.901Z"
   },
   {
    "duration": 28,
    "start_time": "2022-03-28T13:52:55.910Z"
   },
   {
    "duration": 70,
    "start_time": "2022-03-28T13:52:55.940Z"
   },
   {
    "duration": 7,
    "start_time": "2022-03-28T13:52:56.012Z"
   },
   {
    "duration": 14,
    "start_time": "2022-03-28T13:52:56.020Z"
   },
   {
    "duration": 19,
    "start_time": "2022-03-28T13:52:56.035Z"
   },
   {
    "duration": 37,
    "start_time": "2022-03-28T13:52:56.056Z"
   },
   {
    "duration": 52,
    "start_time": "2022-03-28T13:52:56.095Z"
   },
   {
    "duration": 47,
    "start_time": "2022-03-28T13:52:56.148Z"
   },
   {
    "duration": 47,
    "start_time": "2022-03-28T13:52:56.197Z"
   },
   {
    "duration": 19,
    "start_time": "2022-03-28T13:52:56.245Z"
   },
   {
    "duration": 9,
    "start_time": "2022-03-28T13:52:56.265Z"
   },
   {
    "duration": 24,
    "start_time": "2022-03-28T13:52:56.276Z"
   },
   {
    "duration": 19,
    "start_time": "2022-03-28T13:52:56.301Z"
   },
   {
    "duration": 10,
    "start_time": "2022-03-28T13:52:56.323Z"
   },
   {
    "duration": 25,
    "start_time": "2022-03-28T13:52:56.335Z"
   },
   {
    "duration": 4,
    "start_time": "2022-03-28T13:52:56.362Z"
   },
   {
    "duration": 17,
    "start_time": "2022-03-28T13:52:56.368Z"
   },
   {
    "duration": 618,
    "start_time": "2022-03-28T13:52:56.387Z"
   },
   {
    "duration": 5,
    "start_time": "2022-03-28T13:52:57.007Z"
   }
  ],
  "kernelspec": {
   "display_name": "Python 3",
   "language": "python",
   "name": "python3"
  },
  "language_info": {
   "codemirror_mode": {
    "name": "ipython",
    "version": 3
   },
   "file_extension": ".py",
   "mimetype": "text/x-python",
   "name": "python",
   "nbconvert_exporter": "python",
   "pygments_lexer": "ipython3",
   "version": "3.8.8"
  },
  "toc": {
   "base_numbering": 1,
   "nav_menu": {},
   "number_sections": true,
   "sideBar": true,
   "skip_h1_title": true,
   "title_cell": "Table of Contents",
   "title_sidebar": "Contents",
   "toc_cell": false,
   "toc_position": {},
   "toc_section_display": true,
   "toc_window_display": true
  }
 },
 "nbformat": 4,
 "nbformat_minor": 2
}
