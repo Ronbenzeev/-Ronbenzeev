{
 "cells": [
  {
   "cell_type": "markdown",
   "metadata": {},
   "source": [
    "# Online store ICE project."
   ]
  },
  {
   "cell_type": "markdown",
   "metadata": {},
   "source": [
    "We are working for an online store that sells video games worldwide. We are planning an advertising campaign for 2017, and for that, we are ready to analyze a dataset from  The Entertainment Software Rating Board (ESRB).\n",
    "\n",
    "\n",
    "The project aims to identify patterns that determine whether a game succeeds or not. This will allow us to spot potential big winners and plan advertising campaigns.\n",
    "\n",
    "Step 1: Open the data file and study the general information.\n",
    "\n",
    "Step 2: Prepare the data.\n",
    "\n",
    "Step 3: Analyze the data.\n",
    "\n",
    "Step 4: Create a user profile for each region.\n",
    "\n",
    "Step 5: Test the hypotheses.\n",
    "\n",
    "Step 6: Write a general conclusion."
   ]
  },
  {
   "cell_type": "markdown",
   "metadata": {},
   "source": [
    "# Step 1: Open the data file and study the general information."
   ]
  },
  {
   "cell_type": "markdown",
   "metadata": {},
   "source": [
    "Let's import the tools that we will use in this project."
   ]
  },
  {
   "cell_type": "code",
   "execution_count": 528,
   "metadata": {},
   "outputs": [
    {
     "name": "stdout",
     "output_type": "stream",
     "text": [
      "Defaulting to user installation because normal site-packages is not writeable\n",
      "Requirement already up-to-date: sidetable in /home/jovyan/.local/lib/python3.7/site-packages (0.9.0)\n",
      "Requirement already satisfied, skipping upgrade: pandas>=1.0 in /home/jovyan/.local/lib/python3.7/site-packages (from sidetable) (1.3.5)\n",
      "Requirement already satisfied, skipping upgrade: python-dateutil>=2.7.3 in /opt/conda/lib/python3.7/site-packages (from pandas>=1.0->sidetable) (2.8.1)\n",
      "Requirement already satisfied, skipping upgrade: pytz>=2017.3 in /opt/conda/lib/python3.7/site-packages (from pandas>=1.0->sidetable) (2021.1)\n",
      "Requirement already satisfied, skipping upgrade: numpy>=1.17.3; platform_machine != \"aarch64\" and platform_machine != \"arm64\" and python_version < \"3.10\" in /opt/conda/lib/python3.7/site-packages (from pandas>=1.0->sidetable) (1.19.5)\n",
      "Requirement already satisfied, skipping upgrade: six>=1.5 in /opt/conda/lib/python3.7/site-packages (from python-dateutil>=2.7.3->pandas>=1.0->sidetable) (1.15.0)\n",
      "Note: you may need to restart the kernel to use updated packages.\n"
     ]
    }
   ],
   "source": [
    "pip install -U sidetable"
   ]
  },
  {
   "cell_type": "code",
   "execution_count": 529,
   "metadata": {},
   "outputs": [],
   "source": [
    "import pandas as pd\n",
    "import sidetable\n",
    "import numpy as np\n",
    "import warnings"
   ]
  },
  {
   "cell_type": "markdown",
   "metadata": {},
   "source": [
    "Let's read the data."
   ]
  },
  {
   "cell_type": "code",
   "execution_count": 530,
   "metadata": {},
   "outputs": [],
   "source": [
    "data = pd.read_csv('/datasets/games.csv')"
   ]
  },
  {
   "cell_type": "markdown",
   "metadata": {},
   "source": [
    "Let's study the data at first glance."
   ]
  },
  {
   "cell_type": "code",
   "execution_count": 531,
   "metadata": {},
   "outputs": [
    {
     "name": "stdout",
     "output_type": "stream",
     "text": [
      "<class 'pandas.core.frame.DataFrame'>\n",
      "RangeIndex: 16715 entries, 0 to 16714\n",
      "Data columns (total 11 columns):\n",
      " #   Column           Non-Null Count  Dtype  \n",
      "---  ------           --------------  -----  \n",
      " 0   Name             16713 non-null  object \n",
      " 1   Platform         16715 non-null  object \n",
      " 2   Year_of_Release  16446 non-null  float64\n",
      " 3   Genre            16713 non-null  object \n",
      " 4   NA_sales         16715 non-null  float64\n",
      " 5   EU_sales         16715 non-null  float64\n",
      " 6   JP_sales         16715 non-null  float64\n",
      " 7   Other_sales      16715 non-null  float64\n",
      " 8   Critic_Score     8137 non-null   float64\n",
      " 9   User_Score       10014 non-null  object \n",
      " 10  Rating           9949 non-null   object \n",
      "dtypes: float64(6), object(5)\n",
      "memory usage: 1.4+ MB\n"
     ]
    }
   ],
   "source": [
    "data.info()"
   ]
  },
  {
   "cell_type": "markdown",
   "metadata": {},
   "source": [
    "We can see two missing values in the name and the genre.\n",
    "Also, we have missing values in rating, user_score, and critic score."
   ]
  },
  {
   "cell_type": "code",
   "execution_count": 532,
   "metadata": {},
   "outputs": [
    {
     "data": {
      "text/html": [
       "<style type=\"text/css\">\n",
       "</style>\n",
       "<table id=\"T_a0fee_\">\n",
       "  <thead>\n",
       "    <tr>\n",
       "      <th class=\"blank level0\" >&nbsp;</th>\n",
       "      <th class=\"col_heading level0 col0\" >missing</th>\n",
       "      <th class=\"col_heading level0 col1\" >total</th>\n",
       "      <th class=\"col_heading level0 col2\" >percent</th>\n",
       "    </tr>\n",
       "  </thead>\n",
       "  <tbody>\n",
       "    <tr>\n",
       "      <th id=\"T_a0fee_level0_row0\" class=\"row_heading level0 row0\" >Critic_Score</th>\n",
       "      <td id=\"T_a0fee_row0_col0\" class=\"data row0 col0\" >8,578</td>\n",
       "      <td id=\"T_a0fee_row0_col1\" class=\"data row0 col1\" >16,715</td>\n",
       "      <td id=\"T_a0fee_row0_col2\" class=\"data row0 col2\" >51.32%</td>\n",
       "    </tr>\n",
       "    <tr>\n",
       "      <th id=\"T_a0fee_level0_row1\" class=\"row_heading level0 row1\" >Rating</th>\n",
       "      <td id=\"T_a0fee_row1_col0\" class=\"data row1 col0\" >6,766</td>\n",
       "      <td id=\"T_a0fee_row1_col1\" class=\"data row1 col1\" >16,715</td>\n",
       "      <td id=\"T_a0fee_row1_col2\" class=\"data row1 col2\" >40.48%</td>\n",
       "    </tr>\n",
       "    <tr>\n",
       "      <th id=\"T_a0fee_level0_row2\" class=\"row_heading level0 row2\" >User_Score</th>\n",
       "      <td id=\"T_a0fee_row2_col0\" class=\"data row2 col0\" >6,701</td>\n",
       "      <td id=\"T_a0fee_row2_col1\" class=\"data row2 col1\" >16,715</td>\n",
       "      <td id=\"T_a0fee_row2_col2\" class=\"data row2 col2\" >40.09%</td>\n",
       "    </tr>\n",
       "    <tr>\n",
       "      <th id=\"T_a0fee_level0_row3\" class=\"row_heading level0 row3\" >Year_of_Release</th>\n",
       "      <td id=\"T_a0fee_row3_col0\" class=\"data row3 col0\" >269</td>\n",
       "      <td id=\"T_a0fee_row3_col1\" class=\"data row3 col1\" >16,715</td>\n",
       "      <td id=\"T_a0fee_row3_col2\" class=\"data row3 col2\" >1.61%</td>\n",
       "    </tr>\n",
       "    <tr>\n",
       "      <th id=\"T_a0fee_level0_row4\" class=\"row_heading level0 row4\" >Name</th>\n",
       "      <td id=\"T_a0fee_row4_col0\" class=\"data row4 col0\" >2</td>\n",
       "      <td id=\"T_a0fee_row4_col1\" class=\"data row4 col1\" >16,715</td>\n",
       "      <td id=\"T_a0fee_row4_col2\" class=\"data row4 col2\" >0.01%</td>\n",
       "    </tr>\n",
       "    <tr>\n",
       "      <th id=\"T_a0fee_level0_row5\" class=\"row_heading level0 row5\" >Genre</th>\n",
       "      <td id=\"T_a0fee_row5_col0\" class=\"data row5 col0\" >2</td>\n",
       "      <td id=\"T_a0fee_row5_col1\" class=\"data row5 col1\" >16,715</td>\n",
       "      <td id=\"T_a0fee_row5_col2\" class=\"data row5 col2\" >0.01%</td>\n",
       "    </tr>\n",
       "    <tr>\n",
       "      <th id=\"T_a0fee_level0_row6\" class=\"row_heading level0 row6\" >Platform</th>\n",
       "      <td id=\"T_a0fee_row6_col0\" class=\"data row6 col0\" >0</td>\n",
       "      <td id=\"T_a0fee_row6_col1\" class=\"data row6 col1\" >16,715</td>\n",
       "      <td id=\"T_a0fee_row6_col2\" class=\"data row6 col2\" >0.00%</td>\n",
       "    </tr>\n",
       "    <tr>\n",
       "      <th id=\"T_a0fee_level0_row7\" class=\"row_heading level0 row7\" >NA_sales</th>\n",
       "      <td id=\"T_a0fee_row7_col0\" class=\"data row7 col0\" >0</td>\n",
       "      <td id=\"T_a0fee_row7_col1\" class=\"data row7 col1\" >16,715</td>\n",
       "      <td id=\"T_a0fee_row7_col2\" class=\"data row7 col2\" >0.00%</td>\n",
       "    </tr>\n",
       "    <tr>\n",
       "      <th id=\"T_a0fee_level0_row8\" class=\"row_heading level0 row8\" >EU_sales</th>\n",
       "      <td id=\"T_a0fee_row8_col0\" class=\"data row8 col0\" >0</td>\n",
       "      <td id=\"T_a0fee_row8_col1\" class=\"data row8 col1\" >16,715</td>\n",
       "      <td id=\"T_a0fee_row8_col2\" class=\"data row8 col2\" >0.00%</td>\n",
       "    </tr>\n",
       "    <tr>\n",
       "      <th id=\"T_a0fee_level0_row9\" class=\"row_heading level0 row9\" >JP_sales</th>\n",
       "      <td id=\"T_a0fee_row9_col0\" class=\"data row9 col0\" >0</td>\n",
       "      <td id=\"T_a0fee_row9_col1\" class=\"data row9 col1\" >16,715</td>\n",
       "      <td id=\"T_a0fee_row9_col2\" class=\"data row9 col2\" >0.00%</td>\n",
       "    </tr>\n",
       "    <tr>\n",
       "      <th id=\"T_a0fee_level0_row10\" class=\"row_heading level0 row10\" >Other_sales</th>\n",
       "      <td id=\"T_a0fee_row10_col0\" class=\"data row10 col0\" >0</td>\n",
       "      <td id=\"T_a0fee_row10_col1\" class=\"data row10 col1\" >16,715</td>\n",
       "      <td id=\"T_a0fee_row10_col2\" class=\"data row10 col2\" >0.00%</td>\n",
       "    </tr>\n",
       "  </tbody>\n",
       "</table>\n"
      ],
      "text/plain": [
       "<pandas.io.formats.style.Styler at 0x7fcec33c6a50>"
      ]
     },
     "execution_count": 532,
     "metadata": {},
     "output_type": "execute_result"
    }
   ],
   "source": [
    "data.stb.missing(style=True)"
   ]
  },
  {
   "cell_type": "markdown",
   "metadata": {},
   "source": [
    "With the Sitetable library, we can see the missing values better in the info method."
   ]
  },
  {
   "cell_type": "markdown",
   "metadata": {},
   "source": [
    "Now we can see many missing values in critic score, rating, and user score.\n",
    "Half of those columns are missing."
   ]
  },
  {
   "cell_type": "code",
   "execution_count": 533,
   "metadata": {},
   "outputs": [
    {
     "data": {
      "text/html": [
       "<div>\n",
       "<style scoped>\n",
       "    .dataframe tbody tr th:only-of-type {\n",
       "        vertical-align: middle;\n",
       "    }\n",
       "\n",
       "    .dataframe tbody tr th {\n",
       "        vertical-align: top;\n",
       "    }\n",
       "\n",
       "    .dataframe thead th {\n",
       "        text-align: right;\n",
       "    }\n",
       "</style>\n",
       "<table border=\"1\" class=\"dataframe\">\n",
       "  <thead>\n",
       "    <tr style=\"text-align: right;\">\n",
       "      <th></th>\n",
       "      <th>Name</th>\n",
       "      <th>Platform</th>\n",
       "      <th>Year_of_Release</th>\n",
       "      <th>Genre</th>\n",
       "      <th>NA_sales</th>\n",
       "      <th>EU_sales</th>\n",
       "      <th>JP_sales</th>\n",
       "      <th>Other_sales</th>\n",
       "      <th>Critic_Score</th>\n",
       "      <th>User_Score</th>\n",
       "      <th>Rating</th>\n",
       "    </tr>\n",
       "  </thead>\n",
       "  <tbody>\n",
       "    <tr>\n",
       "      <th>0</th>\n",
       "      <td>Wii Sports</td>\n",
       "      <td>Wii</td>\n",
       "      <td>2006.0</td>\n",
       "      <td>Sports</td>\n",
       "      <td>41.36</td>\n",
       "      <td>28.96</td>\n",
       "      <td>3.77</td>\n",
       "      <td>8.45</td>\n",
       "      <td>76.0</td>\n",
       "      <td>8</td>\n",
       "      <td>E</td>\n",
       "    </tr>\n",
       "    <tr>\n",
       "      <th>1</th>\n",
       "      <td>Super Mario Bros.</td>\n",
       "      <td>NES</td>\n",
       "      <td>1985.0</td>\n",
       "      <td>Platform</td>\n",
       "      <td>29.08</td>\n",
       "      <td>3.58</td>\n",
       "      <td>6.81</td>\n",
       "      <td>0.77</td>\n",
       "      <td>NaN</td>\n",
       "      <td>NaN</td>\n",
       "      <td>NaN</td>\n",
       "    </tr>\n",
       "    <tr>\n",
       "      <th>2</th>\n",
       "      <td>Mario Kart Wii</td>\n",
       "      <td>Wii</td>\n",
       "      <td>2008.0</td>\n",
       "      <td>Racing</td>\n",
       "      <td>15.68</td>\n",
       "      <td>12.76</td>\n",
       "      <td>3.79</td>\n",
       "      <td>3.29</td>\n",
       "      <td>82.0</td>\n",
       "      <td>8.3</td>\n",
       "      <td>E</td>\n",
       "    </tr>\n",
       "    <tr>\n",
       "      <th>3</th>\n",
       "      <td>Wii Sports Resort</td>\n",
       "      <td>Wii</td>\n",
       "      <td>2009.0</td>\n",
       "      <td>Sports</td>\n",
       "      <td>15.61</td>\n",
       "      <td>10.93</td>\n",
       "      <td>3.28</td>\n",
       "      <td>2.95</td>\n",
       "      <td>80.0</td>\n",
       "      <td>8</td>\n",
       "      <td>E</td>\n",
       "    </tr>\n",
       "    <tr>\n",
       "      <th>4</th>\n",
       "      <td>Pokemon Red/Pokemon Blue</td>\n",
       "      <td>GB</td>\n",
       "      <td>1996.0</td>\n",
       "      <td>Role-Playing</td>\n",
       "      <td>11.27</td>\n",
       "      <td>8.89</td>\n",
       "      <td>10.22</td>\n",
       "      <td>1.00</td>\n",
       "      <td>NaN</td>\n",
       "      <td>NaN</td>\n",
       "      <td>NaN</td>\n",
       "    </tr>\n",
       "  </tbody>\n",
       "</table>\n",
       "</div>"
      ],
      "text/plain": [
       "                       Name Platform  Year_of_Release         Genre  NA_sales  \\\n",
       "0                Wii Sports      Wii           2006.0        Sports     41.36   \n",
       "1         Super Mario Bros.      NES           1985.0      Platform     29.08   \n",
       "2            Mario Kart Wii      Wii           2008.0        Racing     15.68   \n",
       "3         Wii Sports Resort      Wii           2009.0        Sports     15.61   \n",
       "4  Pokemon Red/Pokemon Blue       GB           1996.0  Role-Playing     11.27   \n",
       "\n",
       "   EU_sales  JP_sales  Other_sales  Critic_Score User_Score Rating  \n",
       "0     28.96      3.77         8.45          76.0          8      E  \n",
       "1      3.58      6.81         0.77           NaN        NaN    NaN  \n",
       "2     12.76      3.79         3.29          82.0        8.3      E  \n",
       "3     10.93      3.28         2.95          80.0          8      E  \n",
       "4      8.89     10.22         1.00           NaN        NaN    NaN  "
      ]
     },
     "execution_count": 533,
     "metadata": {},
     "output_type": "execute_result"
    }
   ],
   "source": [
    "data.head()"
   ]
  },
  {
   "cell_type": "code",
   "execution_count": 534,
   "metadata": {},
   "outputs": [
    {
     "data": {
      "text/html": [
       "<div>\n",
       "<style scoped>\n",
       "    .dataframe tbody tr th:only-of-type {\n",
       "        vertical-align: middle;\n",
       "    }\n",
       "\n",
       "    .dataframe tbody tr th {\n",
       "        vertical-align: top;\n",
       "    }\n",
       "\n",
       "    .dataframe thead th {\n",
       "        text-align: right;\n",
       "    }\n",
       "</style>\n",
       "<table border=\"1\" class=\"dataframe\">\n",
       "  <thead>\n",
       "    <tr style=\"text-align: right;\">\n",
       "      <th></th>\n",
       "      <th>Name</th>\n",
       "      <th>Platform</th>\n",
       "      <th>Year_of_Release</th>\n",
       "      <th>Genre</th>\n",
       "      <th>NA_sales</th>\n",
       "      <th>EU_sales</th>\n",
       "      <th>JP_sales</th>\n",
       "      <th>Other_sales</th>\n",
       "      <th>Critic_Score</th>\n",
       "      <th>User_Score</th>\n",
       "      <th>Rating</th>\n",
       "    </tr>\n",
       "  </thead>\n",
       "  <tbody>\n",
       "    <tr>\n",
       "      <th>16710</th>\n",
       "      <td>Samurai Warriors: Sanada Maru</td>\n",
       "      <td>PS3</td>\n",
       "      <td>2016.0</td>\n",
       "      <td>Action</td>\n",
       "      <td>0.00</td>\n",
       "      <td>0.00</td>\n",
       "      <td>0.01</td>\n",
       "      <td>0.0</td>\n",
       "      <td>NaN</td>\n",
       "      <td>NaN</td>\n",
       "      <td>NaN</td>\n",
       "    </tr>\n",
       "    <tr>\n",
       "      <th>16711</th>\n",
       "      <td>LMA Manager 2007</td>\n",
       "      <td>X360</td>\n",
       "      <td>2006.0</td>\n",
       "      <td>Sports</td>\n",
       "      <td>0.00</td>\n",
       "      <td>0.01</td>\n",
       "      <td>0.00</td>\n",
       "      <td>0.0</td>\n",
       "      <td>NaN</td>\n",
       "      <td>NaN</td>\n",
       "      <td>NaN</td>\n",
       "    </tr>\n",
       "    <tr>\n",
       "      <th>16712</th>\n",
       "      <td>Haitaka no Psychedelica</td>\n",
       "      <td>PSV</td>\n",
       "      <td>2016.0</td>\n",
       "      <td>Adventure</td>\n",
       "      <td>0.00</td>\n",
       "      <td>0.00</td>\n",
       "      <td>0.01</td>\n",
       "      <td>0.0</td>\n",
       "      <td>NaN</td>\n",
       "      <td>NaN</td>\n",
       "      <td>NaN</td>\n",
       "    </tr>\n",
       "    <tr>\n",
       "      <th>16713</th>\n",
       "      <td>Spirits &amp; Spells</td>\n",
       "      <td>GBA</td>\n",
       "      <td>2003.0</td>\n",
       "      <td>Platform</td>\n",
       "      <td>0.01</td>\n",
       "      <td>0.00</td>\n",
       "      <td>0.00</td>\n",
       "      <td>0.0</td>\n",
       "      <td>NaN</td>\n",
       "      <td>NaN</td>\n",
       "      <td>NaN</td>\n",
       "    </tr>\n",
       "    <tr>\n",
       "      <th>16714</th>\n",
       "      <td>Winning Post 8 2016</td>\n",
       "      <td>PSV</td>\n",
       "      <td>2016.0</td>\n",
       "      <td>Simulation</td>\n",
       "      <td>0.00</td>\n",
       "      <td>0.00</td>\n",
       "      <td>0.01</td>\n",
       "      <td>0.0</td>\n",
       "      <td>NaN</td>\n",
       "      <td>NaN</td>\n",
       "      <td>NaN</td>\n",
       "    </tr>\n",
       "  </tbody>\n",
       "</table>\n",
       "</div>"
      ],
      "text/plain": [
       "                                Name Platform  Year_of_Release       Genre  \\\n",
       "16710  Samurai Warriors: Sanada Maru      PS3           2016.0      Action   \n",
       "16711               LMA Manager 2007     X360           2006.0      Sports   \n",
       "16712        Haitaka no Psychedelica      PSV           2016.0   Adventure   \n",
       "16713               Spirits & Spells      GBA           2003.0    Platform   \n",
       "16714            Winning Post 8 2016      PSV           2016.0  Simulation   \n",
       "\n",
       "       NA_sales  EU_sales  JP_sales  Other_sales  Critic_Score User_Score  \\\n",
       "16710      0.00      0.00      0.01          0.0           NaN        NaN   \n",
       "16711      0.00      0.01      0.00          0.0           NaN        NaN   \n",
       "16712      0.00      0.00      0.01          0.0           NaN        NaN   \n",
       "16713      0.01      0.00      0.00          0.0           NaN        NaN   \n",
       "16714      0.00      0.00      0.01          0.0           NaN        NaN   \n",
       "\n",
       "      Rating  \n",
       "16710    NaN  \n",
       "16711    NaN  \n",
       "16712    NaN  \n",
       "16713    NaN  \n",
       "16714    NaN  "
      ]
     },
     "execution_count": 534,
     "metadata": {},
     "output_type": "execute_result"
    }
   ],
   "source": [
    "data.tail()"
   ]
  },
  {
   "cell_type": "code",
   "execution_count": 535,
   "metadata": {},
   "outputs": [
    {
     "data": {
      "text/html": [
       "<div>\n",
       "<style scoped>\n",
       "    .dataframe tbody tr th:only-of-type {\n",
       "        vertical-align: middle;\n",
       "    }\n",
       "\n",
       "    .dataframe tbody tr th {\n",
       "        vertical-align: top;\n",
       "    }\n",
       "\n",
       "    .dataframe thead th {\n",
       "        text-align: right;\n",
       "    }\n",
       "</style>\n",
       "<table border=\"1\" class=\"dataframe\">\n",
       "  <thead>\n",
       "    <tr style=\"text-align: right;\">\n",
       "      <th></th>\n",
       "      <th>Name</th>\n",
       "      <th>Platform</th>\n",
       "      <th>Year_of_Release</th>\n",
       "      <th>Genre</th>\n",
       "      <th>NA_sales</th>\n",
       "      <th>EU_sales</th>\n",
       "      <th>JP_sales</th>\n",
       "      <th>Other_sales</th>\n",
       "      <th>Critic_Score</th>\n",
       "      <th>User_Score</th>\n",
       "      <th>Rating</th>\n",
       "    </tr>\n",
       "  </thead>\n",
       "  <tbody>\n",
       "    <tr>\n",
       "      <th>2341</th>\n",
       "      <td>Call of Duty: World at War</td>\n",
       "      <td>DS</td>\n",
       "      <td>2008.0</td>\n",
       "      <td>Shooter</td>\n",
       "      <td>0.56</td>\n",
       "      <td>0.25</td>\n",
       "      <td>0.00</td>\n",
       "      <td>0.08</td>\n",
       "      <td>75.0</td>\n",
       "      <td>7.8</td>\n",
       "      <td>T</td>\n",
       "    </tr>\n",
       "    <tr>\n",
       "      <th>9824</th>\n",
       "      <td>NPPL: Championship Paintball 2009</td>\n",
       "      <td>X360</td>\n",
       "      <td>2008.0</td>\n",
       "      <td>Shooter</td>\n",
       "      <td>0.10</td>\n",
       "      <td>0.01</td>\n",
       "      <td>0.00</td>\n",
       "      <td>0.01</td>\n",
       "      <td>44.0</td>\n",
       "      <td>7.3</td>\n",
       "      <td>E10+</td>\n",
       "    </tr>\n",
       "    <tr>\n",
       "      <th>7303</th>\n",
       "      <td>Transformers: Dark of the Moon</td>\n",
       "      <td>3DS</td>\n",
       "      <td>2011.0</td>\n",
       "      <td>Action</td>\n",
       "      <td>0.16</td>\n",
       "      <td>0.04</td>\n",
       "      <td>0.00</td>\n",
       "      <td>0.02</td>\n",
       "      <td>NaN</td>\n",
       "      <td>NaN</td>\n",
       "      <td>NaN</td>\n",
       "    </tr>\n",
       "    <tr>\n",
       "      <th>2362</th>\n",
       "      <td>NBA 2K6</td>\n",
       "      <td>PS2</td>\n",
       "      <td>2005.0</td>\n",
       "      <td>Action</td>\n",
       "      <td>0.43</td>\n",
       "      <td>0.34</td>\n",
       "      <td>0.00</td>\n",
       "      <td>0.11</td>\n",
       "      <td>84.0</td>\n",
       "      <td>8.3</td>\n",
       "      <td>E</td>\n",
       "    </tr>\n",
       "    <tr>\n",
       "      <th>4818</th>\n",
       "      <td>LEGO Harry Potter: Years 5-7</td>\n",
       "      <td>3DS</td>\n",
       "      <td>NaN</td>\n",
       "      <td>Action</td>\n",
       "      <td>0.18</td>\n",
       "      <td>0.19</td>\n",
       "      <td>0.00</td>\n",
       "      <td>0.03</td>\n",
       "      <td>71.0</td>\n",
       "      <td>6.5</td>\n",
       "      <td>E10+</td>\n",
       "    </tr>\n",
       "    <tr>\n",
       "      <th>14116</th>\n",
       "      <td>Sega Arcade Gallery</td>\n",
       "      <td>GBA</td>\n",
       "      <td>2003.0</td>\n",
       "      <td>Misc</td>\n",
       "      <td>0.03</td>\n",
       "      <td>0.01</td>\n",
       "      <td>0.00</td>\n",
       "      <td>0.00</td>\n",
       "      <td>70.0</td>\n",
       "      <td>tbd</td>\n",
       "      <td>E</td>\n",
       "    </tr>\n",
       "    <tr>\n",
       "      <th>3538</th>\n",
       "      <td>Disney Universe</td>\n",
       "      <td>X360</td>\n",
       "      <td>2011.0</td>\n",
       "      <td>Action</td>\n",
       "      <td>0.37</td>\n",
       "      <td>0.14</td>\n",
       "      <td>0.00</td>\n",
       "      <td>0.05</td>\n",
       "      <td>66.0</td>\n",
       "      <td>5.3</td>\n",
       "      <td>E10+</td>\n",
       "    </tr>\n",
       "    <tr>\n",
       "      <th>1773</th>\n",
       "      <td>Dragon Quest I &amp; II</td>\n",
       "      <td>SNES</td>\n",
       "      <td>1993.0</td>\n",
       "      <td>Role-Playing</td>\n",
       "      <td>0.00</td>\n",
       "      <td>0.00</td>\n",
       "      <td>1.15</td>\n",
       "      <td>0.00</td>\n",
       "      <td>NaN</td>\n",
       "      <td>NaN</td>\n",
       "      <td>NaN</td>\n",
       "    </tr>\n",
       "    <tr>\n",
       "      <th>8836</th>\n",
       "      <td>Pokémon: Johto Photo Finish: Game Boy Advance ...</td>\n",
       "      <td>GBA</td>\n",
       "      <td>2004.0</td>\n",
       "      <td>Misc</td>\n",
       "      <td>0.11</td>\n",
       "      <td>0.04</td>\n",
       "      <td>0.00</td>\n",
       "      <td>0.00</td>\n",
       "      <td>NaN</td>\n",
       "      <td>NaN</td>\n",
       "      <td>NaN</td>\n",
       "    </tr>\n",
       "    <tr>\n",
       "      <th>9696</th>\n",
       "      <td>NHL 2002</td>\n",
       "      <td>GBA</td>\n",
       "      <td>2002.0</td>\n",
       "      <td>Sports</td>\n",
       "      <td>0.09</td>\n",
       "      <td>0.03</td>\n",
       "      <td>0.00</td>\n",
       "      <td>0.00</td>\n",
       "      <td>NaN</td>\n",
       "      <td>tbd</td>\n",
       "      <td>E</td>\n",
       "    </tr>\n",
       "  </tbody>\n",
       "</table>\n",
       "</div>"
      ],
      "text/plain": [
       "                                                    Name Platform  \\\n",
       "2341                          Call of Duty: World at War       DS   \n",
       "9824                   NPPL: Championship Paintball 2009     X360   \n",
       "7303                      Transformers: Dark of the Moon      3DS   \n",
       "2362                                             NBA 2K6      PS2   \n",
       "4818                        LEGO Harry Potter: Years 5-7      3DS   \n",
       "14116                                Sega Arcade Gallery      GBA   \n",
       "3538                                     Disney Universe     X360   \n",
       "1773                                 Dragon Quest I & II     SNES   \n",
       "8836   Pokémon: Johto Photo Finish: Game Boy Advance ...      GBA   \n",
       "9696                                            NHL 2002      GBA   \n",
       "\n",
       "       Year_of_Release         Genre  NA_sales  EU_sales  JP_sales  \\\n",
       "2341            2008.0       Shooter      0.56      0.25      0.00   \n",
       "9824            2008.0       Shooter      0.10      0.01      0.00   \n",
       "7303            2011.0        Action      0.16      0.04      0.00   \n",
       "2362            2005.0        Action      0.43      0.34      0.00   \n",
       "4818               NaN        Action      0.18      0.19      0.00   \n",
       "14116           2003.0          Misc      0.03      0.01      0.00   \n",
       "3538            2011.0        Action      0.37      0.14      0.00   \n",
       "1773            1993.0  Role-Playing      0.00      0.00      1.15   \n",
       "8836            2004.0          Misc      0.11      0.04      0.00   \n",
       "9696            2002.0        Sports      0.09      0.03      0.00   \n",
       "\n",
       "       Other_sales  Critic_Score User_Score Rating  \n",
       "2341          0.08          75.0        7.8      T  \n",
       "9824          0.01          44.0        7.3   E10+  \n",
       "7303          0.02           NaN        NaN    NaN  \n",
       "2362          0.11          84.0        8.3      E  \n",
       "4818          0.03          71.0        6.5   E10+  \n",
       "14116         0.00          70.0        tbd      E  \n",
       "3538          0.05          66.0        5.3   E10+  \n",
       "1773          0.00           NaN        NaN    NaN  \n",
       "8836          0.00           NaN        NaN    NaN  \n",
       "9696          0.00           NaN        tbd      E  "
      ]
     },
     "execution_count": 535,
     "metadata": {},
     "output_type": "execute_result"
    }
   ],
   "source": [
    "data.sample(10)"
   ]
  },
  {
   "cell_type": "markdown",
   "metadata": {},
   "source": [
    "When we look at the first five rows of data, it seems fine.\n",
    "When we look at the last rows, it doesn't look good.\n",
    "If we look at a sample from the data, we can see a lot of missing values, and 0's on our data."
   ]
  },
  {
   "cell_type": "markdown",
   "metadata": {},
   "source": [
    "Let's look at the describe method to see what scale our score measures."
   ]
  },
  {
   "cell_type": "code",
   "execution_count": 536,
   "metadata": {},
   "outputs": [
    {
     "data": {
      "text/html": [
       "<div>\n",
       "<style scoped>\n",
       "    .dataframe tbody tr th:only-of-type {\n",
       "        vertical-align: middle;\n",
       "    }\n",
       "\n",
       "    .dataframe tbody tr th {\n",
       "        vertical-align: top;\n",
       "    }\n",
       "\n",
       "    .dataframe thead th {\n",
       "        text-align: right;\n",
       "    }\n",
       "</style>\n",
       "<table border=\"1\" class=\"dataframe\">\n",
       "  <thead>\n",
       "    <tr style=\"text-align: right;\">\n",
       "      <th></th>\n",
       "      <th>Year_of_Release</th>\n",
       "      <th>NA_sales</th>\n",
       "      <th>EU_sales</th>\n",
       "      <th>JP_sales</th>\n",
       "      <th>Other_sales</th>\n",
       "      <th>Critic_Score</th>\n",
       "    </tr>\n",
       "  </thead>\n",
       "  <tbody>\n",
       "    <tr>\n",
       "      <th>count</th>\n",
       "      <td>16446.000000</td>\n",
       "      <td>16715.000000</td>\n",
       "      <td>16715.000000</td>\n",
       "      <td>16715.000000</td>\n",
       "      <td>16715.000000</td>\n",
       "      <td>8137.000000</td>\n",
       "    </tr>\n",
       "    <tr>\n",
       "      <th>mean</th>\n",
       "      <td>2006.484616</td>\n",
       "      <td>0.263377</td>\n",
       "      <td>0.145060</td>\n",
       "      <td>0.077617</td>\n",
       "      <td>0.047342</td>\n",
       "      <td>68.967679</td>\n",
       "    </tr>\n",
       "    <tr>\n",
       "      <th>std</th>\n",
       "      <td>5.877050</td>\n",
       "      <td>0.813604</td>\n",
       "      <td>0.503339</td>\n",
       "      <td>0.308853</td>\n",
       "      <td>0.186731</td>\n",
       "      <td>13.938165</td>\n",
       "    </tr>\n",
       "    <tr>\n",
       "      <th>min</th>\n",
       "      <td>1980.000000</td>\n",
       "      <td>0.000000</td>\n",
       "      <td>0.000000</td>\n",
       "      <td>0.000000</td>\n",
       "      <td>0.000000</td>\n",
       "      <td>13.000000</td>\n",
       "    </tr>\n",
       "    <tr>\n",
       "      <th>25%</th>\n",
       "      <td>2003.000000</td>\n",
       "      <td>0.000000</td>\n",
       "      <td>0.000000</td>\n",
       "      <td>0.000000</td>\n",
       "      <td>0.000000</td>\n",
       "      <td>60.000000</td>\n",
       "    </tr>\n",
       "    <tr>\n",
       "      <th>50%</th>\n",
       "      <td>2007.000000</td>\n",
       "      <td>0.080000</td>\n",
       "      <td>0.020000</td>\n",
       "      <td>0.000000</td>\n",
       "      <td>0.010000</td>\n",
       "      <td>71.000000</td>\n",
       "    </tr>\n",
       "    <tr>\n",
       "      <th>75%</th>\n",
       "      <td>2010.000000</td>\n",
       "      <td>0.240000</td>\n",
       "      <td>0.110000</td>\n",
       "      <td>0.040000</td>\n",
       "      <td>0.030000</td>\n",
       "      <td>79.000000</td>\n",
       "    </tr>\n",
       "    <tr>\n",
       "      <th>max</th>\n",
       "      <td>2016.000000</td>\n",
       "      <td>41.360000</td>\n",
       "      <td>28.960000</td>\n",
       "      <td>10.220000</td>\n",
       "      <td>10.570000</td>\n",
       "      <td>98.000000</td>\n",
       "    </tr>\n",
       "  </tbody>\n",
       "</table>\n",
       "</div>"
      ],
      "text/plain": [
       "       Year_of_Release      NA_sales      EU_sales      JP_sales  \\\n",
       "count     16446.000000  16715.000000  16715.000000  16715.000000   \n",
       "mean       2006.484616      0.263377      0.145060      0.077617   \n",
       "std           5.877050      0.813604      0.503339      0.308853   \n",
       "min        1980.000000      0.000000      0.000000      0.000000   \n",
       "25%        2003.000000      0.000000      0.000000      0.000000   \n",
       "50%        2007.000000      0.080000      0.020000      0.000000   \n",
       "75%        2010.000000      0.240000      0.110000      0.040000   \n",
       "max        2016.000000     41.360000     28.960000     10.220000   \n",
       "\n",
       "        Other_sales  Critic_Score  \n",
       "count  16715.000000   8137.000000  \n",
       "mean       0.047342     68.967679  \n",
       "std        0.186731     13.938165  \n",
       "min        0.000000     13.000000  \n",
       "25%        0.000000     60.000000  \n",
       "50%        0.010000     71.000000  \n",
       "75%        0.030000     79.000000  \n",
       "max       10.570000     98.000000  "
      ]
     },
     "execution_count": 536,
     "metadata": {},
     "output_type": "execute_result"
    }
   ],
   "source": [
    "data.describe()"
   ]
  },
  {
   "cell_type": "markdown",
   "metadata": {},
   "source": [
    "Critic score is measured on a scale of zero to 100 scale.\n",
    "When we look closely at the described method, we dont see user_score.\n",
    "This is because, in default, the describe method includes only numeric parameters.\n",
    "What is means is that the user score is not numeric.\n",
    "Let's use describe method and include objects."
   ]
  },
  {
   "cell_type": "code",
   "execution_count": 537,
   "metadata": {},
   "outputs": [
    {
     "data": {
      "text/html": [
       "<div>\n",
       "<style scoped>\n",
       "    .dataframe tbody tr th:only-of-type {\n",
       "        vertical-align: middle;\n",
       "    }\n",
       "\n",
       "    .dataframe tbody tr th {\n",
       "        vertical-align: top;\n",
       "    }\n",
       "\n",
       "    .dataframe thead th {\n",
       "        text-align: right;\n",
       "    }\n",
       "</style>\n",
       "<table border=\"1\" class=\"dataframe\">\n",
       "  <thead>\n",
       "    <tr style=\"text-align: right;\">\n",
       "      <th></th>\n",
       "      <th>Name</th>\n",
       "      <th>Platform</th>\n",
       "      <th>Genre</th>\n",
       "      <th>User_Score</th>\n",
       "      <th>Rating</th>\n",
       "    </tr>\n",
       "  </thead>\n",
       "  <tbody>\n",
       "    <tr>\n",
       "      <th>count</th>\n",
       "      <td>16713</td>\n",
       "      <td>16715</td>\n",
       "      <td>16713</td>\n",
       "      <td>10014</td>\n",
       "      <td>9949</td>\n",
       "    </tr>\n",
       "    <tr>\n",
       "      <th>unique</th>\n",
       "      <td>11559</td>\n",
       "      <td>31</td>\n",
       "      <td>12</td>\n",
       "      <td>96</td>\n",
       "      <td>8</td>\n",
       "    </tr>\n",
       "    <tr>\n",
       "      <th>top</th>\n",
       "      <td>Need for Speed: Most Wanted</td>\n",
       "      <td>PS2</td>\n",
       "      <td>Action</td>\n",
       "      <td>tbd</td>\n",
       "      <td>E</td>\n",
       "    </tr>\n",
       "    <tr>\n",
       "      <th>freq</th>\n",
       "      <td>12</td>\n",
       "      <td>2161</td>\n",
       "      <td>3369</td>\n",
       "      <td>2424</td>\n",
       "      <td>3990</td>\n",
       "    </tr>\n",
       "  </tbody>\n",
       "</table>\n",
       "</div>"
      ],
      "text/plain": [
       "                               Name Platform   Genre User_Score Rating\n",
       "count                         16713    16715   16713      10014   9949\n",
       "unique                        11559       31      12         96      8\n",
       "top     Need for Speed: Most Wanted      PS2  Action        tbd      E\n",
       "freq                             12     2161    3369       2424   3990"
      ]
     },
     "execution_count": 537,
     "metadata": {},
     "output_type": "execute_result"
    }
   ],
   "source": [
    "data.describe(include='object')"
   ]
  },
  {
   "cell_type": "markdown",
   "metadata": {},
   "source": [
    "From the describe method that includes objects, we can see that we have one platform, 12 genres, and tons of games—almost every row (name column is unique.)\n",
    "for the user_score, we have nine unique scores, but the most common one is \"TBD\" (to be determined)\n",
    "That is why user_score is a categorical column.\n",
    "We can see that the most common game is \"Need for speed\".\n",
    "the most common platform is \"PS2.\"\n",
    "The most common genre is \"Action.\""
   ]
  },
  {
   "cell_type": "code",
   "execution_count": 538,
   "metadata": {},
   "outputs": [
    {
     "data": {
      "text/html": [
       "<style type=\"text/css\">\n",
       "</style>\n",
       "<table id=\"T_84b73_\">\n",
       "  <thead>\n",
       "    <tr>\n",
       "      <th class=\"blank level0\" >&nbsp;</th>\n",
       "      <th class=\"col_heading level0 col0\" >Platform</th>\n",
       "      <th class=\"col_heading level0 col1\" >count</th>\n",
       "      <th class=\"col_heading level0 col2\" >percent</th>\n",
       "    </tr>\n",
       "  </thead>\n",
       "  <tbody>\n",
       "    <tr>\n",
       "      <th id=\"T_84b73_level0_row0\" class=\"row_heading level0 row0\" >0</th>\n",
       "      <td id=\"T_84b73_row0_col0\" class=\"data row0 col0\" >PS2</td>\n",
       "      <td id=\"T_84b73_row0_col1\" class=\"data row0 col1\" >2,161</td>\n",
       "      <td id=\"T_84b73_row0_col2\" class=\"data row0 col2\" >12.93%</td>\n",
       "    </tr>\n",
       "    <tr>\n",
       "      <th id=\"T_84b73_level0_row1\" class=\"row_heading level0 row1\" >1</th>\n",
       "      <td id=\"T_84b73_row1_col0\" class=\"data row1 col0\" >DS</td>\n",
       "      <td id=\"T_84b73_row1_col1\" class=\"data row1 col1\" >2,151</td>\n",
       "      <td id=\"T_84b73_row1_col2\" class=\"data row1 col2\" >12.87%</td>\n",
       "    </tr>\n",
       "    <tr>\n",
       "      <th id=\"T_84b73_level0_row2\" class=\"row_heading level0 row2\" >2</th>\n",
       "      <td id=\"T_84b73_row2_col0\" class=\"data row2 col0\" >PS3</td>\n",
       "      <td id=\"T_84b73_row2_col1\" class=\"data row2 col1\" >1,331</td>\n",
       "      <td id=\"T_84b73_row2_col2\" class=\"data row2 col2\" >7.96%</td>\n",
       "    </tr>\n",
       "    <tr>\n",
       "      <th id=\"T_84b73_level0_row3\" class=\"row_heading level0 row3\" >3</th>\n",
       "      <td id=\"T_84b73_row3_col0\" class=\"data row3 col0\" >Wii</td>\n",
       "      <td id=\"T_84b73_row3_col1\" class=\"data row3 col1\" >1,320</td>\n",
       "      <td id=\"T_84b73_row3_col2\" class=\"data row3 col2\" >7.90%</td>\n",
       "    </tr>\n",
       "    <tr>\n",
       "      <th id=\"T_84b73_level0_row4\" class=\"row_heading level0 row4\" >4</th>\n",
       "      <td id=\"T_84b73_row4_col0\" class=\"data row4 col0\" >X360</td>\n",
       "      <td id=\"T_84b73_row4_col1\" class=\"data row4 col1\" >1,262</td>\n",
       "      <td id=\"T_84b73_row4_col2\" class=\"data row4 col2\" >7.55%</td>\n",
       "    </tr>\n",
       "    <tr>\n",
       "      <th id=\"T_84b73_level0_row5\" class=\"row_heading level0 row5\" >5</th>\n",
       "      <td id=\"T_84b73_row5_col0\" class=\"data row5 col0\" >PSP</td>\n",
       "      <td id=\"T_84b73_row5_col1\" class=\"data row5 col1\" >1,209</td>\n",
       "      <td id=\"T_84b73_row5_col2\" class=\"data row5 col2\" >7.23%</td>\n",
       "    </tr>\n",
       "    <tr>\n",
       "      <th id=\"T_84b73_level0_row6\" class=\"row_heading level0 row6\" >6</th>\n",
       "      <td id=\"T_84b73_row6_col0\" class=\"data row6 col0\" >PS</td>\n",
       "      <td id=\"T_84b73_row6_col1\" class=\"data row6 col1\" >1,197</td>\n",
       "      <td id=\"T_84b73_row6_col2\" class=\"data row6 col2\" >7.16%</td>\n",
       "    </tr>\n",
       "    <tr>\n",
       "      <th id=\"T_84b73_level0_row7\" class=\"row_heading level0 row7\" >7</th>\n",
       "      <td id=\"T_84b73_row7_col0\" class=\"data row7 col0\" >PC</td>\n",
       "      <td id=\"T_84b73_row7_col1\" class=\"data row7 col1\" >974</td>\n",
       "      <td id=\"T_84b73_row7_col2\" class=\"data row7 col2\" >5.83%</td>\n",
       "    </tr>\n",
       "    <tr>\n",
       "      <th id=\"T_84b73_level0_row8\" class=\"row_heading level0 row8\" >8</th>\n",
       "      <td id=\"T_84b73_row8_col0\" class=\"data row8 col0\" >XB</td>\n",
       "      <td id=\"T_84b73_row8_col1\" class=\"data row8 col1\" >824</td>\n",
       "      <td id=\"T_84b73_row8_col2\" class=\"data row8 col2\" >4.93%</td>\n",
       "    </tr>\n",
       "    <tr>\n",
       "      <th id=\"T_84b73_level0_row9\" class=\"row_heading level0 row9\" >9</th>\n",
       "      <td id=\"T_84b73_row9_col0\" class=\"data row9 col0\" >GBA</td>\n",
       "      <td id=\"T_84b73_row9_col1\" class=\"data row9 col1\" >822</td>\n",
       "      <td id=\"T_84b73_row9_col2\" class=\"data row9 col2\" >4.92%</td>\n",
       "    </tr>\n",
       "    <tr>\n",
       "      <th id=\"T_84b73_level0_row10\" class=\"row_heading level0 row10\" >10</th>\n",
       "      <td id=\"T_84b73_row10_col0\" class=\"data row10 col0\" >GC</td>\n",
       "      <td id=\"T_84b73_row10_col1\" class=\"data row10 col1\" >556</td>\n",
       "      <td id=\"T_84b73_row10_col2\" class=\"data row10 col2\" >3.33%</td>\n",
       "    </tr>\n",
       "    <tr>\n",
       "      <th id=\"T_84b73_level0_row11\" class=\"row_heading level0 row11\" >11</th>\n",
       "      <td id=\"T_84b73_row11_col0\" class=\"data row11 col0\" >3DS</td>\n",
       "      <td id=\"T_84b73_row11_col1\" class=\"data row11 col1\" >520</td>\n",
       "      <td id=\"T_84b73_row11_col2\" class=\"data row11 col2\" >3.11%</td>\n",
       "    </tr>\n",
       "    <tr>\n",
       "      <th id=\"T_84b73_level0_row12\" class=\"row_heading level0 row12\" >12</th>\n",
       "      <td id=\"T_84b73_row12_col0\" class=\"data row12 col0\" >PSV</td>\n",
       "      <td id=\"T_84b73_row12_col1\" class=\"data row12 col1\" >430</td>\n",
       "      <td id=\"T_84b73_row12_col2\" class=\"data row12 col2\" >2.57%</td>\n",
       "    </tr>\n",
       "    <tr>\n",
       "      <th id=\"T_84b73_level0_row13\" class=\"row_heading level0 row13\" >13</th>\n",
       "      <td id=\"T_84b73_row13_col0\" class=\"data row13 col0\" >PS4</td>\n",
       "      <td id=\"T_84b73_row13_col1\" class=\"data row13 col1\" >392</td>\n",
       "      <td id=\"T_84b73_row13_col2\" class=\"data row13 col2\" >2.35%</td>\n",
       "    </tr>\n",
       "    <tr>\n",
       "      <th id=\"T_84b73_level0_row14\" class=\"row_heading level0 row14\" >14</th>\n",
       "      <td id=\"T_84b73_row14_col0\" class=\"data row14 col0\" >N64</td>\n",
       "      <td id=\"T_84b73_row14_col1\" class=\"data row14 col1\" >319</td>\n",
       "      <td id=\"T_84b73_row14_col2\" class=\"data row14 col2\" >1.91%</td>\n",
       "    </tr>\n",
       "    <tr>\n",
       "      <th id=\"T_84b73_level0_row15\" class=\"row_heading level0 row15\" >15</th>\n",
       "      <td id=\"T_84b73_row15_col0\" class=\"data row15 col0\" >XOne</td>\n",
       "      <td id=\"T_84b73_row15_col1\" class=\"data row15 col1\" >247</td>\n",
       "      <td id=\"T_84b73_row15_col2\" class=\"data row15 col2\" >1.48%</td>\n",
       "    </tr>\n",
       "    <tr>\n",
       "      <th id=\"T_84b73_level0_row16\" class=\"row_heading level0 row16\" >16</th>\n",
       "      <td id=\"T_84b73_row16_col0\" class=\"data row16 col0\" >SNES</td>\n",
       "      <td id=\"T_84b73_row16_col1\" class=\"data row16 col1\" >239</td>\n",
       "      <td id=\"T_84b73_row16_col2\" class=\"data row16 col2\" >1.43%</td>\n",
       "    </tr>\n",
       "    <tr>\n",
       "      <th id=\"T_84b73_level0_row17\" class=\"row_heading level0 row17\" >17</th>\n",
       "      <td id=\"T_84b73_row17_col0\" class=\"data row17 col0\" >SAT</td>\n",
       "      <td id=\"T_84b73_row17_col1\" class=\"data row17 col1\" >173</td>\n",
       "      <td id=\"T_84b73_row17_col2\" class=\"data row17 col2\" >1.03%</td>\n",
       "    </tr>\n",
       "    <tr>\n",
       "      <th id=\"T_84b73_level0_row18\" class=\"row_heading level0 row18\" >18</th>\n",
       "      <td id=\"T_84b73_row18_col0\" class=\"data row18 col0\" >WiiU</td>\n",
       "      <td id=\"T_84b73_row18_col1\" class=\"data row18 col1\" >147</td>\n",
       "      <td id=\"T_84b73_row18_col2\" class=\"data row18 col2\" >0.88%</td>\n",
       "    </tr>\n",
       "    <tr>\n",
       "      <th id=\"T_84b73_level0_row19\" class=\"row_heading level0 row19\" >19</th>\n",
       "      <td id=\"T_84b73_row19_col0\" class=\"data row19 col0\" >2600</td>\n",
       "      <td id=\"T_84b73_row19_col1\" class=\"data row19 col1\" >133</td>\n",
       "      <td id=\"T_84b73_row19_col2\" class=\"data row19 col2\" >0.80%</td>\n",
       "    </tr>\n",
       "    <tr>\n",
       "      <th id=\"T_84b73_level0_row20\" class=\"row_heading level0 row20\" >20</th>\n",
       "      <td id=\"T_84b73_row20_col0\" class=\"data row20 col0\" >NES</td>\n",
       "      <td id=\"T_84b73_row20_col1\" class=\"data row20 col1\" >98</td>\n",
       "      <td id=\"T_84b73_row20_col2\" class=\"data row20 col2\" >0.59%</td>\n",
       "    </tr>\n",
       "    <tr>\n",
       "      <th id=\"T_84b73_level0_row21\" class=\"row_heading level0 row21\" >21</th>\n",
       "      <td id=\"T_84b73_row21_col0\" class=\"data row21 col0\" >GB</td>\n",
       "      <td id=\"T_84b73_row21_col1\" class=\"data row21 col1\" >98</td>\n",
       "      <td id=\"T_84b73_row21_col2\" class=\"data row21 col2\" >0.59%</td>\n",
       "    </tr>\n",
       "    <tr>\n",
       "      <th id=\"T_84b73_level0_row22\" class=\"row_heading level0 row22\" >22</th>\n",
       "      <td id=\"T_84b73_row22_col0\" class=\"data row22 col0\" >DC</td>\n",
       "      <td id=\"T_84b73_row22_col1\" class=\"data row22 col1\" >52</td>\n",
       "      <td id=\"T_84b73_row22_col2\" class=\"data row22 col2\" >0.31%</td>\n",
       "    </tr>\n",
       "    <tr>\n",
       "      <th id=\"T_84b73_level0_row23\" class=\"row_heading level0 row23\" >23</th>\n",
       "      <td id=\"T_84b73_row23_col0\" class=\"data row23 col0\" >GEN</td>\n",
       "      <td id=\"T_84b73_row23_col1\" class=\"data row23 col1\" >29</td>\n",
       "      <td id=\"T_84b73_row23_col2\" class=\"data row23 col2\" >0.17%</td>\n",
       "    </tr>\n",
       "    <tr>\n",
       "      <th id=\"T_84b73_level0_row24\" class=\"row_heading level0 row24\" >24</th>\n",
       "      <td id=\"T_84b73_row24_col0\" class=\"data row24 col0\" >NG</td>\n",
       "      <td id=\"T_84b73_row24_col1\" class=\"data row24 col1\" >12</td>\n",
       "      <td id=\"T_84b73_row24_col2\" class=\"data row24 col2\" >0.07%</td>\n",
       "    </tr>\n",
       "    <tr>\n",
       "      <th id=\"T_84b73_level0_row25\" class=\"row_heading level0 row25\" >25</th>\n",
       "      <td id=\"T_84b73_row25_col0\" class=\"data row25 col0\" >WS</td>\n",
       "      <td id=\"T_84b73_row25_col1\" class=\"data row25 col1\" >6</td>\n",
       "      <td id=\"T_84b73_row25_col2\" class=\"data row25 col2\" >0.04%</td>\n",
       "    </tr>\n",
       "    <tr>\n",
       "      <th id=\"T_84b73_level0_row26\" class=\"row_heading level0 row26\" >26</th>\n",
       "      <td id=\"T_84b73_row26_col0\" class=\"data row26 col0\" >SCD</td>\n",
       "      <td id=\"T_84b73_row26_col1\" class=\"data row26 col1\" >6</td>\n",
       "      <td id=\"T_84b73_row26_col2\" class=\"data row26 col2\" >0.04%</td>\n",
       "    </tr>\n",
       "    <tr>\n",
       "      <th id=\"T_84b73_level0_row27\" class=\"row_heading level0 row27\" >27</th>\n",
       "      <td id=\"T_84b73_row27_col0\" class=\"data row27 col0\" >3DO</td>\n",
       "      <td id=\"T_84b73_row27_col1\" class=\"data row27 col1\" >3</td>\n",
       "      <td id=\"T_84b73_row27_col2\" class=\"data row27 col2\" >0.02%</td>\n",
       "    </tr>\n",
       "    <tr>\n",
       "      <th id=\"T_84b73_level0_row28\" class=\"row_heading level0 row28\" >28</th>\n",
       "      <td id=\"T_84b73_row28_col0\" class=\"data row28 col0\" >TG16</td>\n",
       "      <td id=\"T_84b73_row28_col1\" class=\"data row28 col1\" >2</td>\n",
       "      <td id=\"T_84b73_row28_col2\" class=\"data row28 col2\" >0.01%</td>\n",
       "    </tr>\n",
       "    <tr>\n",
       "      <th id=\"T_84b73_level0_row29\" class=\"row_heading level0 row29\" >29</th>\n",
       "      <td id=\"T_84b73_row29_col0\" class=\"data row29 col0\" >PCFX</td>\n",
       "      <td id=\"T_84b73_row29_col1\" class=\"data row29 col1\" >1</td>\n",
       "      <td id=\"T_84b73_row29_col2\" class=\"data row29 col2\" >0.01%</td>\n",
       "    </tr>\n",
       "    <tr>\n",
       "      <th id=\"T_84b73_level0_row30\" class=\"row_heading level0 row30\" >30</th>\n",
       "      <td id=\"T_84b73_row30_col0\" class=\"data row30 col0\" >GG</td>\n",
       "      <td id=\"T_84b73_row30_col1\" class=\"data row30 col1\" >1</td>\n",
       "      <td id=\"T_84b73_row30_col2\" class=\"data row30 col2\" >0.01%</td>\n",
       "    </tr>\n",
       "  </tbody>\n",
       "</table>\n"
      ],
      "text/plain": [
       "<pandas.io.formats.style.Styler at 0x7fcec346ec90>"
      ]
     },
     "execution_count": 538,
     "metadata": {},
     "output_type": "execute_result"
    }
   ],
   "source": [
    "data.stb.freq(['Platform'], style=True, cum_cols=False)"
   ]
  },
  {
   "cell_type": "markdown",
   "metadata": {},
   "source": [
    "We can see that ps2 and DS are the most used platforms."
   ]
  },
  {
   "cell_type": "code",
   "execution_count": 539,
   "metadata": {},
   "outputs": [
    {
     "data": {
      "text/html": [
       "<style type=\"text/css\">\n",
       "</style>\n",
       "<table id=\"T_d0f4d_\">\n",
       "  <thead>\n",
       "    <tr>\n",
       "      <th class=\"blank level0\" >&nbsp;</th>\n",
       "      <th class=\"col_heading level0 col0\" >Genre</th>\n",
       "      <th class=\"col_heading level0 col1\" >count</th>\n",
       "      <th class=\"col_heading level0 col2\" >percent</th>\n",
       "    </tr>\n",
       "  </thead>\n",
       "  <tbody>\n",
       "    <tr>\n",
       "      <th id=\"T_d0f4d_level0_row0\" class=\"row_heading level0 row0\" >0</th>\n",
       "      <td id=\"T_d0f4d_row0_col0\" class=\"data row0 col0\" >Action</td>\n",
       "      <td id=\"T_d0f4d_row0_col1\" class=\"data row0 col1\" >3,369</td>\n",
       "      <td id=\"T_d0f4d_row0_col2\" class=\"data row0 col2\" >20.16%</td>\n",
       "    </tr>\n",
       "    <tr>\n",
       "      <th id=\"T_d0f4d_level0_row1\" class=\"row_heading level0 row1\" >1</th>\n",
       "      <td id=\"T_d0f4d_row1_col0\" class=\"data row1 col0\" >Sports</td>\n",
       "      <td id=\"T_d0f4d_row1_col1\" class=\"data row1 col1\" >2,348</td>\n",
       "      <td id=\"T_d0f4d_row1_col2\" class=\"data row1 col2\" >14.05%</td>\n",
       "    </tr>\n",
       "    <tr>\n",
       "      <th id=\"T_d0f4d_level0_row2\" class=\"row_heading level0 row2\" >2</th>\n",
       "      <td id=\"T_d0f4d_row2_col0\" class=\"data row2 col0\" >Misc</td>\n",
       "      <td id=\"T_d0f4d_row2_col1\" class=\"data row2 col1\" >1,750</td>\n",
       "      <td id=\"T_d0f4d_row2_col2\" class=\"data row2 col2\" >10.47%</td>\n",
       "    </tr>\n",
       "    <tr>\n",
       "      <th id=\"T_d0f4d_level0_row3\" class=\"row_heading level0 row3\" >3</th>\n",
       "      <td id=\"T_d0f4d_row3_col0\" class=\"data row3 col0\" >Role-Playing</td>\n",
       "      <td id=\"T_d0f4d_row3_col1\" class=\"data row3 col1\" >1,498</td>\n",
       "      <td id=\"T_d0f4d_row3_col2\" class=\"data row3 col2\" >8.96%</td>\n",
       "    </tr>\n",
       "    <tr>\n",
       "      <th id=\"T_d0f4d_level0_row4\" class=\"row_heading level0 row4\" >4</th>\n",
       "      <td id=\"T_d0f4d_row4_col0\" class=\"data row4 col0\" >Shooter</td>\n",
       "      <td id=\"T_d0f4d_row4_col1\" class=\"data row4 col1\" >1,323</td>\n",
       "      <td id=\"T_d0f4d_row4_col2\" class=\"data row4 col2\" >7.92%</td>\n",
       "    </tr>\n",
       "    <tr>\n",
       "      <th id=\"T_d0f4d_level0_row5\" class=\"row_heading level0 row5\" >5</th>\n",
       "      <td id=\"T_d0f4d_row5_col0\" class=\"data row5 col0\" >Adventure</td>\n",
       "      <td id=\"T_d0f4d_row5_col1\" class=\"data row5 col1\" >1,303</td>\n",
       "      <td id=\"T_d0f4d_row5_col2\" class=\"data row5 col2\" >7.80%</td>\n",
       "    </tr>\n",
       "    <tr>\n",
       "      <th id=\"T_d0f4d_level0_row6\" class=\"row_heading level0 row6\" >6</th>\n",
       "      <td id=\"T_d0f4d_row6_col0\" class=\"data row6 col0\" >Racing</td>\n",
       "      <td id=\"T_d0f4d_row6_col1\" class=\"data row6 col1\" >1,249</td>\n",
       "      <td id=\"T_d0f4d_row6_col2\" class=\"data row6 col2\" >7.47%</td>\n",
       "    </tr>\n",
       "    <tr>\n",
       "      <th id=\"T_d0f4d_level0_row7\" class=\"row_heading level0 row7\" >7</th>\n",
       "      <td id=\"T_d0f4d_row7_col0\" class=\"data row7 col0\" >Platform</td>\n",
       "      <td id=\"T_d0f4d_row7_col1\" class=\"data row7 col1\" >888</td>\n",
       "      <td id=\"T_d0f4d_row7_col2\" class=\"data row7 col2\" >5.31%</td>\n",
       "    </tr>\n",
       "    <tr>\n",
       "      <th id=\"T_d0f4d_level0_row8\" class=\"row_heading level0 row8\" >8</th>\n",
       "      <td id=\"T_d0f4d_row8_col0\" class=\"data row8 col0\" >Simulation</td>\n",
       "      <td id=\"T_d0f4d_row8_col1\" class=\"data row8 col1\" >873</td>\n",
       "      <td id=\"T_d0f4d_row8_col2\" class=\"data row8 col2\" >5.22%</td>\n",
       "    </tr>\n",
       "    <tr>\n",
       "      <th id=\"T_d0f4d_level0_row9\" class=\"row_heading level0 row9\" >9</th>\n",
       "      <td id=\"T_d0f4d_row9_col0\" class=\"data row9 col0\" >Fighting</td>\n",
       "      <td id=\"T_d0f4d_row9_col1\" class=\"data row9 col1\" >849</td>\n",
       "      <td id=\"T_d0f4d_row9_col2\" class=\"data row9 col2\" >5.08%</td>\n",
       "    </tr>\n",
       "    <tr>\n",
       "      <th id=\"T_d0f4d_level0_row10\" class=\"row_heading level0 row10\" >10</th>\n",
       "      <td id=\"T_d0f4d_row10_col0\" class=\"data row10 col0\" >Strategy</td>\n",
       "      <td id=\"T_d0f4d_row10_col1\" class=\"data row10 col1\" >683</td>\n",
       "      <td id=\"T_d0f4d_row10_col2\" class=\"data row10 col2\" >4.09%</td>\n",
       "    </tr>\n",
       "    <tr>\n",
       "      <th id=\"T_d0f4d_level0_row11\" class=\"row_heading level0 row11\" >11</th>\n",
       "      <td id=\"T_d0f4d_row11_col0\" class=\"data row11 col0\" >Puzzle</td>\n",
       "      <td id=\"T_d0f4d_row11_col1\" class=\"data row11 col1\" >580</td>\n",
       "      <td id=\"T_d0f4d_row11_col2\" class=\"data row11 col2\" >3.47%</td>\n",
       "    </tr>\n",
       "  </tbody>\n",
       "</table>\n"
      ],
      "text/plain": [
       "<pandas.io.formats.style.Styler at 0x7fcec328db90>"
      ]
     },
     "execution_count": 539,
     "metadata": {},
     "output_type": "execute_result"
    }
   ],
   "source": [
    "data.stb.freq(['Genre'], style=True, cum_cols=False)"
   ]
  },
  {
   "cell_type": "markdown",
   "metadata": {},
   "source": [
    "We can see that the most popular genre are Action, Sports, and Misc."
   ]
  },
  {
   "cell_type": "code",
   "execution_count": 540,
   "metadata": {},
   "outputs": [
    {
     "data": {
      "text/html": [
       "<style type=\"text/css\">\n",
       "</style>\n",
       "<table id=\"T_a9a3b_\">\n",
       "  <thead>\n",
       "    <tr>\n",
       "      <th class=\"blank level0\" >&nbsp;</th>\n",
       "      <th class=\"col_heading level0 col0\" >Rating</th>\n",
       "      <th class=\"col_heading level0 col1\" >count</th>\n",
       "      <th class=\"col_heading level0 col2\" >percent</th>\n",
       "    </tr>\n",
       "  </thead>\n",
       "  <tbody>\n",
       "    <tr>\n",
       "      <th id=\"T_a9a3b_level0_row0\" class=\"row_heading level0 row0\" >0</th>\n",
       "      <td id=\"T_a9a3b_row0_col0\" class=\"data row0 col0\" >E</td>\n",
       "      <td id=\"T_a9a3b_row0_col1\" class=\"data row0 col1\" >3,990</td>\n",
       "      <td id=\"T_a9a3b_row0_col2\" class=\"data row0 col2\" >40.10%</td>\n",
       "    </tr>\n",
       "    <tr>\n",
       "      <th id=\"T_a9a3b_level0_row1\" class=\"row_heading level0 row1\" >1</th>\n",
       "      <td id=\"T_a9a3b_row1_col0\" class=\"data row1 col0\" >T</td>\n",
       "      <td id=\"T_a9a3b_row1_col1\" class=\"data row1 col1\" >2,961</td>\n",
       "      <td id=\"T_a9a3b_row1_col2\" class=\"data row1 col2\" >29.76%</td>\n",
       "    </tr>\n",
       "    <tr>\n",
       "      <th id=\"T_a9a3b_level0_row2\" class=\"row_heading level0 row2\" >2</th>\n",
       "      <td id=\"T_a9a3b_row2_col0\" class=\"data row2 col0\" >M</td>\n",
       "      <td id=\"T_a9a3b_row2_col1\" class=\"data row2 col1\" >1,563</td>\n",
       "      <td id=\"T_a9a3b_row2_col2\" class=\"data row2 col2\" >15.71%</td>\n",
       "    </tr>\n",
       "    <tr>\n",
       "      <th id=\"T_a9a3b_level0_row3\" class=\"row_heading level0 row3\" >3</th>\n",
       "      <td id=\"T_a9a3b_row3_col0\" class=\"data row3 col0\" >E10+</td>\n",
       "      <td id=\"T_a9a3b_row3_col1\" class=\"data row3 col1\" >1,420</td>\n",
       "      <td id=\"T_a9a3b_row3_col2\" class=\"data row3 col2\" >14.27%</td>\n",
       "    </tr>\n",
       "    <tr>\n",
       "      <th id=\"T_a9a3b_level0_row4\" class=\"row_heading level0 row4\" >4</th>\n",
       "      <td id=\"T_a9a3b_row4_col0\" class=\"data row4 col0\" >EC</td>\n",
       "      <td id=\"T_a9a3b_row4_col1\" class=\"data row4 col1\" >8</td>\n",
       "      <td id=\"T_a9a3b_row4_col2\" class=\"data row4 col2\" >0.08%</td>\n",
       "    </tr>\n",
       "    <tr>\n",
       "      <th id=\"T_a9a3b_level0_row5\" class=\"row_heading level0 row5\" >5</th>\n",
       "      <td id=\"T_a9a3b_row5_col0\" class=\"data row5 col0\" >RP</td>\n",
       "      <td id=\"T_a9a3b_row5_col1\" class=\"data row5 col1\" >3</td>\n",
       "      <td id=\"T_a9a3b_row5_col2\" class=\"data row5 col2\" >0.03%</td>\n",
       "    </tr>\n",
       "    <tr>\n",
       "      <th id=\"T_a9a3b_level0_row6\" class=\"row_heading level0 row6\" >6</th>\n",
       "      <td id=\"T_a9a3b_row6_col0\" class=\"data row6 col0\" >K-A</td>\n",
       "      <td id=\"T_a9a3b_row6_col1\" class=\"data row6 col1\" >3</td>\n",
       "      <td id=\"T_a9a3b_row6_col2\" class=\"data row6 col2\" >0.03%</td>\n",
       "    </tr>\n",
       "    <tr>\n",
       "      <th id=\"T_a9a3b_level0_row7\" class=\"row_heading level0 row7\" >7</th>\n",
       "      <td id=\"T_a9a3b_row7_col0\" class=\"data row7 col0\" >AO</td>\n",
       "      <td id=\"T_a9a3b_row7_col1\" class=\"data row7 col1\" >1</td>\n",
       "      <td id=\"T_a9a3b_row7_col2\" class=\"data row7 col2\" >0.01%</td>\n",
       "    </tr>\n",
       "  </tbody>\n",
       "</table>\n"
      ],
      "text/plain": [
       "<pandas.io.formats.style.Styler at 0x7fcf2bd9a210>"
      ]
     },
     "execution_count": 540,
     "metadata": {},
     "output_type": "execute_result"
    }
   ],
   "source": [
    "data.stb.freq(['Rating'], style=True, cum_cols=False)"
   ]
  },
  {
   "cell_type": "markdown",
   "metadata": {},
   "source": [
    "We can see that the most dominant Rating in the data is E, T, and M.\n",
    "The other Rating is less than 1%."
   ]
  },
  {
   "cell_type": "markdown",
   "metadata": {},
   "source": [
    "Let's see the top 5 games by sals in north America."
   ]
  },
  {
   "cell_type": "code",
   "execution_count": 541,
   "metadata": {},
   "outputs": [
    {
     "data": {
      "text/html": [
       "<div>\n",
       "<style scoped>\n",
       "    .dataframe tbody tr th:only-of-type {\n",
       "        vertical-align: middle;\n",
       "    }\n",
       "\n",
       "    .dataframe tbody tr th {\n",
       "        vertical-align: top;\n",
       "    }\n",
       "\n",
       "    .dataframe thead th {\n",
       "        text-align: right;\n",
       "    }\n",
       "</style>\n",
       "<table border=\"1\" class=\"dataframe\">\n",
       "  <thead>\n",
       "    <tr style=\"text-align: right;\">\n",
       "      <th></th>\n",
       "      <th>Name</th>\n",
       "      <th>Platform</th>\n",
       "      <th>Year_of_Release</th>\n",
       "      <th>Genre</th>\n",
       "      <th>NA_sales</th>\n",
       "      <th>EU_sales</th>\n",
       "      <th>JP_sales</th>\n",
       "      <th>Other_sales</th>\n",
       "      <th>Critic_Score</th>\n",
       "      <th>User_Score</th>\n",
       "      <th>Rating</th>\n",
       "    </tr>\n",
       "  </thead>\n",
       "  <tbody>\n",
       "    <tr>\n",
       "      <th>0</th>\n",
       "      <td>Wii Sports</td>\n",
       "      <td>Wii</td>\n",
       "      <td>2006.0</td>\n",
       "      <td>Sports</td>\n",
       "      <td>41.36</td>\n",
       "      <td>28.96</td>\n",
       "      <td>3.77</td>\n",
       "      <td>8.45</td>\n",
       "      <td>76.0</td>\n",
       "      <td>8</td>\n",
       "      <td>E</td>\n",
       "    </tr>\n",
       "    <tr>\n",
       "      <th>1</th>\n",
       "      <td>Super Mario Bros.</td>\n",
       "      <td>NES</td>\n",
       "      <td>1985.0</td>\n",
       "      <td>Platform</td>\n",
       "      <td>29.08</td>\n",
       "      <td>3.58</td>\n",
       "      <td>6.81</td>\n",
       "      <td>0.77</td>\n",
       "      <td>NaN</td>\n",
       "      <td>NaN</td>\n",
       "      <td>NaN</td>\n",
       "    </tr>\n",
       "    <tr>\n",
       "      <th>9</th>\n",
       "      <td>Duck Hunt</td>\n",
       "      <td>NES</td>\n",
       "      <td>1984.0</td>\n",
       "      <td>Shooter</td>\n",
       "      <td>26.93</td>\n",
       "      <td>0.63</td>\n",
       "      <td>0.28</td>\n",
       "      <td>0.47</td>\n",
       "      <td>NaN</td>\n",
       "      <td>NaN</td>\n",
       "      <td>NaN</td>\n",
       "    </tr>\n",
       "    <tr>\n",
       "      <th>5</th>\n",
       "      <td>Tetris</td>\n",
       "      <td>GB</td>\n",
       "      <td>1989.0</td>\n",
       "      <td>Puzzle</td>\n",
       "      <td>23.20</td>\n",
       "      <td>2.26</td>\n",
       "      <td>4.22</td>\n",
       "      <td>0.58</td>\n",
       "      <td>NaN</td>\n",
       "      <td>NaN</td>\n",
       "      <td>NaN</td>\n",
       "    </tr>\n",
       "    <tr>\n",
       "      <th>2</th>\n",
       "      <td>Mario Kart Wii</td>\n",
       "      <td>Wii</td>\n",
       "      <td>2008.0</td>\n",
       "      <td>Racing</td>\n",
       "      <td>15.68</td>\n",
       "      <td>12.76</td>\n",
       "      <td>3.79</td>\n",
       "      <td>3.29</td>\n",
       "      <td>82.0</td>\n",
       "      <td>8.3</td>\n",
       "      <td>E</td>\n",
       "    </tr>\n",
       "  </tbody>\n",
       "</table>\n",
       "</div>"
      ],
      "text/plain": [
       "                Name Platform  Year_of_Release     Genre  NA_sales  EU_sales  \\\n",
       "0         Wii Sports      Wii           2006.0    Sports     41.36     28.96   \n",
       "1  Super Mario Bros.      NES           1985.0  Platform     29.08      3.58   \n",
       "9          Duck Hunt      NES           1984.0   Shooter     26.93      0.63   \n",
       "5             Tetris       GB           1989.0    Puzzle     23.20      2.26   \n",
       "2     Mario Kart Wii      Wii           2008.0    Racing     15.68     12.76   \n",
       "\n",
       "   JP_sales  Other_sales  Critic_Score User_Score Rating  \n",
       "0      3.77         8.45          76.0          8      E  \n",
       "1      6.81         0.77           NaN        NaN    NaN  \n",
       "9      0.28         0.47           NaN        NaN    NaN  \n",
       "5      4.22         0.58           NaN        NaN    NaN  \n",
       "2      3.79         3.29          82.0        8.3      E  "
      ]
     },
     "execution_count": 541,
     "metadata": {},
     "output_type": "execute_result"
    }
   ],
   "source": [
    "data.nlargest(5,['NA_sales'])"
   ]
  },
  {
   "cell_type": "markdown",
   "metadata": {},
   "source": [
    "For North American sales, the top games are Wii Sports, Super Mario Bros, Duck Hunt, Tetris, and Mario Kart Wii."
   ]
  },
  {
   "cell_type": "code",
   "execution_count": 542,
   "metadata": {},
   "outputs": [
    {
     "data": {
      "text/html": [
       "<div>\n",
       "<style scoped>\n",
       "    .dataframe tbody tr th:only-of-type {\n",
       "        vertical-align: middle;\n",
       "    }\n",
       "\n",
       "    .dataframe tbody tr th {\n",
       "        vertical-align: top;\n",
       "    }\n",
       "\n",
       "    .dataframe thead th {\n",
       "        text-align: right;\n",
       "    }\n",
       "</style>\n",
       "<table border=\"1\" class=\"dataframe\">\n",
       "  <thead>\n",
       "    <tr style=\"text-align: right;\">\n",
       "      <th></th>\n",
       "      <th>Name</th>\n",
       "      <th>Platform</th>\n",
       "      <th>Year_of_Release</th>\n",
       "      <th>Genre</th>\n",
       "      <th>NA_sales</th>\n",
       "      <th>EU_sales</th>\n",
       "      <th>JP_sales</th>\n",
       "      <th>Other_sales</th>\n",
       "      <th>Critic_Score</th>\n",
       "      <th>User_Score</th>\n",
       "      <th>Rating</th>\n",
       "    </tr>\n",
       "  </thead>\n",
       "  <tbody>\n",
       "    <tr>\n",
       "      <th>0</th>\n",
       "      <td>Wii Sports</td>\n",
       "      <td>Wii</td>\n",
       "      <td>2006.0</td>\n",
       "      <td>Sports</td>\n",
       "      <td>41.36</td>\n",
       "      <td>28.96</td>\n",
       "      <td>3.77</td>\n",
       "      <td>8.45</td>\n",
       "      <td>76.0</td>\n",
       "      <td>8</td>\n",
       "      <td>E</td>\n",
       "    </tr>\n",
       "    <tr>\n",
       "      <th>2</th>\n",
       "      <td>Mario Kart Wii</td>\n",
       "      <td>Wii</td>\n",
       "      <td>2008.0</td>\n",
       "      <td>Racing</td>\n",
       "      <td>15.68</td>\n",
       "      <td>12.76</td>\n",
       "      <td>3.79</td>\n",
       "      <td>3.29</td>\n",
       "      <td>82.0</td>\n",
       "      <td>8.3</td>\n",
       "      <td>E</td>\n",
       "    </tr>\n",
       "    <tr>\n",
       "      <th>10</th>\n",
       "      <td>Nintendogs</td>\n",
       "      <td>DS</td>\n",
       "      <td>2005.0</td>\n",
       "      <td>Simulation</td>\n",
       "      <td>9.05</td>\n",
       "      <td>10.95</td>\n",
       "      <td>1.93</td>\n",
       "      <td>2.74</td>\n",
       "      <td>NaN</td>\n",
       "      <td>NaN</td>\n",
       "      <td>NaN</td>\n",
       "    </tr>\n",
       "    <tr>\n",
       "      <th>3</th>\n",
       "      <td>Wii Sports Resort</td>\n",
       "      <td>Wii</td>\n",
       "      <td>2009.0</td>\n",
       "      <td>Sports</td>\n",
       "      <td>15.61</td>\n",
       "      <td>10.93</td>\n",
       "      <td>3.28</td>\n",
       "      <td>2.95</td>\n",
       "      <td>80.0</td>\n",
       "      <td>8</td>\n",
       "      <td>E</td>\n",
       "    </tr>\n",
       "    <tr>\n",
       "      <th>19</th>\n",
       "      <td>Brain Age: Train Your Brain in Minutes a Day</td>\n",
       "      <td>DS</td>\n",
       "      <td>2005.0</td>\n",
       "      <td>Misc</td>\n",
       "      <td>4.74</td>\n",
       "      <td>9.20</td>\n",
       "      <td>4.16</td>\n",
       "      <td>2.04</td>\n",
       "      <td>77.0</td>\n",
       "      <td>7.9</td>\n",
       "      <td>E</td>\n",
       "    </tr>\n",
       "  </tbody>\n",
       "</table>\n",
       "</div>"
      ],
      "text/plain": [
       "                                            Name Platform  Year_of_Release  \\\n",
       "0                                     Wii Sports      Wii           2006.0   \n",
       "2                                 Mario Kart Wii      Wii           2008.0   \n",
       "10                                    Nintendogs       DS           2005.0   \n",
       "3                              Wii Sports Resort      Wii           2009.0   \n",
       "19  Brain Age: Train Your Brain in Minutes a Day       DS           2005.0   \n",
       "\n",
       "         Genre  NA_sales  EU_sales  JP_sales  Other_sales  Critic_Score  \\\n",
       "0       Sports     41.36     28.96      3.77         8.45          76.0   \n",
       "2       Racing     15.68     12.76      3.79         3.29          82.0   \n",
       "10  Simulation      9.05     10.95      1.93         2.74           NaN   \n",
       "3       Sports     15.61     10.93      3.28         2.95          80.0   \n",
       "19        Misc      4.74      9.20      4.16         2.04          77.0   \n",
       "\n",
       "   User_Score Rating  \n",
       "0           8      E  \n",
       "2         8.3      E  \n",
       "10        NaN    NaN  \n",
       "3           8      E  \n",
       "19        7.9      E  "
      ]
     },
     "execution_count": 542,
     "metadata": {},
     "output_type": "execute_result"
    }
   ],
   "source": [
    "data.nlargest(5, ['EU_sales'])"
   ]
  },
  {
   "cell_type": "markdown",
   "metadata": {},
   "source": [
    "For Europe sales, the top games are Wii Sports, Mario Kart Wii, Nintendogs, Wii Sports Resort, Brain Age: Train Your Brain in Minutes a Day."
   ]
  },
  {
   "cell_type": "code",
   "execution_count": 543,
   "metadata": {},
   "outputs": [
    {
     "data": {
      "text/html": [
       "<div>\n",
       "<style scoped>\n",
       "    .dataframe tbody tr th:only-of-type {\n",
       "        vertical-align: middle;\n",
       "    }\n",
       "\n",
       "    .dataframe tbody tr th {\n",
       "        vertical-align: top;\n",
       "    }\n",
       "\n",
       "    .dataframe thead th {\n",
       "        text-align: right;\n",
       "    }\n",
       "</style>\n",
       "<table border=\"1\" class=\"dataframe\">\n",
       "  <thead>\n",
       "    <tr style=\"text-align: right;\">\n",
       "      <th></th>\n",
       "      <th>Name</th>\n",
       "      <th>Platform</th>\n",
       "      <th>Year_of_Release</th>\n",
       "      <th>Genre</th>\n",
       "      <th>NA_sales</th>\n",
       "      <th>EU_sales</th>\n",
       "      <th>JP_sales</th>\n",
       "      <th>Other_sales</th>\n",
       "      <th>Critic_Score</th>\n",
       "      <th>User_Score</th>\n",
       "      <th>Rating</th>\n",
       "    </tr>\n",
       "  </thead>\n",
       "  <tbody>\n",
       "    <tr>\n",
       "      <th>4</th>\n",
       "      <td>Pokemon Red/Pokemon Blue</td>\n",
       "      <td>GB</td>\n",
       "      <td>1996.0</td>\n",
       "      <td>Role-Playing</td>\n",
       "      <td>11.27</td>\n",
       "      <td>8.89</td>\n",
       "      <td>10.22</td>\n",
       "      <td>1.00</td>\n",
       "      <td>NaN</td>\n",
       "      <td>NaN</td>\n",
       "      <td>NaN</td>\n",
       "    </tr>\n",
       "    <tr>\n",
       "      <th>12</th>\n",
       "      <td>Pokemon Gold/Pokemon Silver</td>\n",
       "      <td>GB</td>\n",
       "      <td>1999.0</td>\n",
       "      <td>Role-Playing</td>\n",
       "      <td>9.00</td>\n",
       "      <td>6.18</td>\n",
       "      <td>7.20</td>\n",
       "      <td>0.71</td>\n",
       "      <td>NaN</td>\n",
       "      <td>NaN</td>\n",
       "      <td>NaN</td>\n",
       "    </tr>\n",
       "    <tr>\n",
       "      <th>1</th>\n",
       "      <td>Super Mario Bros.</td>\n",
       "      <td>NES</td>\n",
       "      <td>1985.0</td>\n",
       "      <td>Platform</td>\n",
       "      <td>29.08</td>\n",
       "      <td>3.58</td>\n",
       "      <td>6.81</td>\n",
       "      <td>0.77</td>\n",
       "      <td>NaN</td>\n",
       "      <td>NaN</td>\n",
       "      <td>NaN</td>\n",
       "    </tr>\n",
       "    <tr>\n",
       "      <th>6</th>\n",
       "      <td>New Super Mario Bros.</td>\n",
       "      <td>DS</td>\n",
       "      <td>2006.0</td>\n",
       "      <td>Platform</td>\n",
       "      <td>11.28</td>\n",
       "      <td>9.14</td>\n",
       "      <td>6.50</td>\n",
       "      <td>2.88</td>\n",
       "      <td>89.0</td>\n",
       "      <td>8.5</td>\n",
       "      <td>E</td>\n",
       "    </tr>\n",
       "    <tr>\n",
       "      <th>20</th>\n",
       "      <td>Pokemon Diamond/Pokemon Pearl</td>\n",
       "      <td>DS</td>\n",
       "      <td>2006.0</td>\n",
       "      <td>Role-Playing</td>\n",
       "      <td>6.38</td>\n",
       "      <td>4.46</td>\n",
       "      <td>6.04</td>\n",
       "      <td>1.36</td>\n",
       "      <td>NaN</td>\n",
       "      <td>NaN</td>\n",
       "      <td>NaN</td>\n",
       "    </tr>\n",
       "  </tbody>\n",
       "</table>\n",
       "</div>"
      ],
      "text/plain": [
       "                             Name Platform  Year_of_Release         Genre  \\\n",
       "4        Pokemon Red/Pokemon Blue       GB           1996.0  Role-Playing   \n",
       "12    Pokemon Gold/Pokemon Silver       GB           1999.0  Role-Playing   \n",
       "1               Super Mario Bros.      NES           1985.0      Platform   \n",
       "6           New Super Mario Bros.       DS           2006.0      Platform   \n",
       "20  Pokemon Diamond/Pokemon Pearl       DS           2006.0  Role-Playing   \n",
       "\n",
       "    NA_sales  EU_sales  JP_sales  Other_sales  Critic_Score User_Score Rating  \n",
       "4      11.27      8.89     10.22         1.00           NaN        NaN    NaN  \n",
       "12      9.00      6.18      7.20         0.71           NaN        NaN    NaN  \n",
       "1      29.08      3.58      6.81         0.77           NaN        NaN    NaN  \n",
       "6      11.28      9.14      6.50         2.88          89.0        8.5      E  \n",
       "20      6.38      4.46      6.04         1.36           NaN        NaN    NaN  "
      ]
     },
     "execution_count": 543,
     "metadata": {},
     "output_type": "execute_result"
    }
   ],
   "source": [
    "data.nlargest(5, ['JP_sales'])"
   ]
  },
  {
   "cell_type": "markdown",
   "metadata": {},
   "source": [
    "The top games for Japan are Pokemon Red/Pokemon Blue, Pokemon Gold/Pokemon Silver, Super Mario Bros., New Super Mario Bros., Pokemon Diamond/Pokemon Pearl."
   ]
  },
  {
   "cell_type": "markdown",
   "metadata": {},
   "source": [
    "# Step 2. Prepare the data"
   ]
  },
  {
   "cell_type": "code",
   "execution_count": 544,
   "metadata": {},
   "outputs": [
    {
     "data": {
      "text/plain": [
       "Index(['Name', 'Platform', 'Year_of_Release', 'Genre', 'NA_sales', 'EU_sales',\n",
       "       'JP_sales', 'Other_sales', 'Critic_Score', 'User_Score', 'Rating'],\n",
       "      dtype='object')"
      ]
     },
     "execution_count": 544,
     "metadata": {},
     "output_type": "execute_result"
    }
   ],
   "source": [
    "data.columns"
   ]
  },
  {
   "cell_type": "markdown",
   "metadata": {},
   "source": [
    "Let's change all the headings of the columns to lower case.\n"
   ]
  },
  {
   "cell_type": "code",
   "execution_count": 545,
   "metadata": {},
   "outputs": [],
   "source": [
    "data.columns = data.columns.str.lower()"
   ]
  },
  {
   "cell_type": "code",
   "execution_count": 546,
   "metadata": {},
   "outputs": [
    {
     "data": {
      "text/plain": [
       "Index(['name', 'platform', 'year_of_release', 'genre', 'na_sales', 'eu_sales',\n",
       "       'jp_sales', 'other_sales', 'critic_score', 'user_score', 'rating'],\n",
       "      dtype='object')"
      ]
     },
     "execution_count": 546,
     "metadata": {},
     "output_type": "execute_result"
    }
   ],
   "source": [
    "data.columns"
   ]
  },
  {
   "cell_type": "code",
   "execution_count": 547,
   "metadata": {},
   "outputs": [
    {
     "data": {
      "text/html": [
       "<div>\n",
       "<style scoped>\n",
       "    .dataframe tbody tr th:only-of-type {\n",
       "        vertical-align: middle;\n",
       "    }\n",
       "\n",
       "    .dataframe tbody tr th {\n",
       "        vertical-align: top;\n",
       "    }\n",
       "\n",
       "    .dataframe thead th {\n",
       "        text-align: right;\n",
       "    }\n",
       "</style>\n",
       "<table border=\"1\" class=\"dataframe\">\n",
       "  <thead>\n",
       "    <tr style=\"text-align: right;\">\n",
       "      <th></th>\n",
       "      <th>name</th>\n",
       "      <th>platform</th>\n",
       "      <th>year_of_release</th>\n",
       "      <th>genre</th>\n",
       "      <th>na_sales</th>\n",
       "      <th>eu_sales</th>\n",
       "      <th>jp_sales</th>\n",
       "      <th>other_sales</th>\n",
       "      <th>critic_score</th>\n",
       "      <th>user_score</th>\n",
       "      <th>rating</th>\n",
       "    </tr>\n",
       "  </thead>\n",
       "  <tbody>\n",
       "    <tr>\n",
       "      <th>0</th>\n",
       "      <td>Wii Sports</td>\n",
       "      <td>Wii</td>\n",
       "      <td>2006.0</td>\n",
       "      <td>Sports</td>\n",
       "      <td>41.36</td>\n",
       "      <td>28.96</td>\n",
       "      <td>3.77</td>\n",
       "      <td>8.45</td>\n",
       "      <td>76.0</td>\n",
       "      <td>8</td>\n",
       "      <td>E</td>\n",
       "    </tr>\n",
       "    <tr>\n",
       "      <th>1</th>\n",
       "      <td>Super Mario Bros.</td>\n",
       "      <td>NES</td>\n",
       "      <td>1985.0</td>\n",
       "      <td>Platform</td>\n",
       "      <td>29.08</td>\n",
       "      <td>3.58</td>\n",
       "      <td>6.81</td>\n",
       "      <td>0.77</td>\n",
       "      <td>NaN</td>\n",
       "      <td>NaN</td>\n",
       "      <td>NaN</td>\n",
       "    </tr>\n",
       "    <tr>\n",
       "      <th>2</th>\n",
       "      <td>Mario Kart Wii</td>\n",
       "      <td>Wii</td>\n",
       "      <td>2008.0</td>\n",
       "      <td>Racing</td>\n",
       "      <td>15.68</td>\n",
       "      <td>12.76</td>\n",
       "      <td>3.79</td>\n",
       "      <td>3.29</td>\n",
       "      <td>82.0</td>\n",
       "      <td>8.3</td>\n",
       "      <td>E</td>\n",
       "    </tr>\n",
       "    <tr>\n",
       "      <th>3</th>\n",
       "      <td>Wii Sports Resort</td>\n",
       "      <td>Wii</td>\n",
       "      <td>2009.0</td>\n",
       "      <td>Sports</td>\n",
       "      <td>15.61</td>\n",
       "      <td>10.93</td>\n",
       "      <td>3.28</td>\n",
       "      <td>2.95</td>\n",
       "      <td>80.0</td>\n",
       "      <td>8</td>\n",
       "      <td>E</td>\n",
       "    </tr>\n",
       "    <tr>\n",
       "      <th>4</th>\n",
       "      <td>Pokemon Red/Pokemon Blue</td>\n",
       "      <td>GB</td>\n",
       "      <td>1996.0</td>\n",
       "      <td>Role-Playing</td>\n",
       "      <td>11.27</td>\n",
       "      <td>8.89</td>\n",
       "      <td>10.22</td>\n",
       "      <td>1.00</td>\n",
       "      <td>NaN</td>\n",
       "      <td>NaN</td>\n",
       "      <td>NaN</td>\n",
       "    </tr>\n",
       "  </tbody>\n",
       "</table>\n",
       "</div>"
      ],
      "text/plain": [
       "                       name platform  year_of_release         genre  na_sales  \\\n",
       "0                Wii Sports      Wii           2006.0        Sports     41.36   \n",
       "1         Super Mario Bros.      NES           1985.0      Platform     29.08   \n",
       "2            Mario Kart Wii      Wii           2008.0        Racing     15.68   \n",
       "3         Wii Sports Resort      Wii           2009.0        Sports     15.61   \n",
       "4  Pokemon Red/Pokemon Blue       GB           1996.0  Role-Playing     11.27   \n",
       "\n",
       "   eu_sales  jp_sales  other_sales  critic_score user_score rating  \n",
       "0     28.96      3.77         8.45          76.0          8      E  \n",
       "1      3.58      6.81         0.77           NaN        NaN    NaN  \n",
       "2     12.76      3.79         3.29          82.0        8.3      E  \n",
       "3     10.93      3.28         2.95          80.0          8      E  \n",
       "4      8.89     10.22         1.00           NaN        NaN    NaN  "
      ]
     },
     "execution_count": 547,
     "metadata": {},
     "output_type": "execute_result"
    }
   ],
   "source": [
    "data.head()"
   ]
  },
  {
   "cell_type": "markdown",
   "metadata": {},
   "source": [
    "Now all columns are lowercase.\n"
   ]
  },
  {
   "cell_type": "code",
   "execution_count": 548,
   "metadata": {},
   "outputs": [
    {
     "name": "stdout",
     "output_type": "stream",
     "text": [
      "<class 'pandas.core.frame.DataFrame'>\n",
      "RangeIndex: 16715 entries, 0 to 16714\n",
      "Data columns (total 11 columns):\n",
      " #   Column           Non-Null Count  Dtype  \n",
      "---  ------           --------------  -----  \n",
      " 0   name             16713 non-null  object \n",
      " 1   platform         16715 non-null  object \n",
      " 2   year_of_release  16446 non-null  float64\n",
      " 3   genre            16713 non-null  object \n",
      " 4   na_sales         16715 non-null  float64\n",
      " 5   eu_sales         16715 non-null  float64\n",
      " 6   jp_sales         16715 non-null  float64\n",
      " 7   other_sales      16715 non-null  float64\n",
      " 8   critic_score     8137 non-null   float64\n",
      " 9   user_score       10014 non-null  object \n",
      " 10  rating           9949 non-null   object \n",
      "dtypes: float64(6), object(5)\n",
      "memory usage: 1.4+ MB\n"
     ]
    }
   ],
   "source": [
    "data.info()"
   ]
  },
  {
   "cell_type": "code",
   "execution_count": 549,
   "metadata": {},
   "outputs": [
    {
     "data": {
      "text/html": [
       "<div>\n",
       "<style scoped>\n",
       "    .dataframe tbody tr th:only-of-type {\n",
       "        vertical-align: middle;\n",
       "    }\n",
       "\n",
       "    .dataframe tbody tr th {\n",
       "        vertical-align: top;\n",
       "    }\n",
       "\n",
       "    .dataframe thead th {\n",
       "        text-align: right;\n",
       "    }\n",
       "</style>\n",
       "<table border=\"1\" class=\"dataframe\">\n",
       "  <thead>\n",
       "    <tr style=\"text-align: right;\">\n",
       "      <th></th>\n",
       "      <th>name</th>\n",
       "      <th>platform</th>\n",
       "      <th>year_of_release</th>\n",
       "      <th>genre</th>\n",
       "      <th>na_sales</th>\n",
       "      <th>eu_sales</th>\n",
       "      <th>jp_sales</th>\n",
       "      <th>other_sales</th>\n",
       "      <th>critic_score</th>\n",
       "      <th>user_score</th>\n",
       "      <th>rating</th>\n",
       "    </tr>\n",
       "  </thead>\n",
       "  <tbody>\n",
       "    <tr>\n",
       "      <th>659</th>\n",
       "      <td>NaN</td>\n",
       "      <td>GEN</td>\n",
       "      <td>1993.0</td>\n",
       "      <td>NaN</td>\n",
       "      <td>1.78</td>\n",
       "      <td>0.53</td>\n",
       "      <td>0.00</td>\n",
       "      <td>0.08</td>\n",
       "      <td>NaN</td>\n",
       "      <td>NaN</td>\n",
       "      <td>NaN</td>\n",
       "    </tr>\n",
       "    <tr>\n",
       "      <th>14244</th>\n",
       "      <td>NaN</td>\n",
       "      <td>GEN</td>\n",
       "      <td>1993.0</td>\n",
       "      <td>NaN</td>\n",
       "      <td>0.00</td>\n",
       "      <td>0.00</td>\n",
       "      <td>0.03</td>\n",
       "      <td>0.00</td>\n",
       "      <td>NaN</td>\n",
       "      <td>NaN</td>\n",
       "      <td>NaN</td>\n",
       "    </tr>\n",
       "  </tbody>\n",
       "</table>\n",
       "</div>"
      ],
      "text/plain": [
       "      name platform  year_of_release genre  na_sales  eu_sales  jp_sales  \\\n",
       "659    NaN      GEN           1993.0   NaN      1.78      0.53      0.00   \n",
       "14244  NaN      GEN           1993.0   NaN      0.00      0.00      0.03   \n",
       "\n",
       "       other_sales  critic_score user_score rating  \n",
       "659           0.08           NaN        NaN    NaN  \n",
       "14244         0.00           NaN        NaN    NaN  "
      ]
     },
     "execution_count": 549,
     "metadata": {},
     "output_type": "execute_result"
    }
   ],
   "source": [
    "data[data.name.isnull()]"
   ]
  },
  {
   "cell_type": "markdown",
   "metadata": {},
   "source": [
    "With the missing values in the Name and genre column, we can remove them because these are just two rows, and there is no significant amount of data in other columns in this row."
   ]
  },
  {
   "cell_type": "code",
   "execution_count": 550,
   "metadata": {},
   "outputs": [],
   "source": [
    "data = data.dropna(subset=['name'])"
   ]
  },
  {
   "cell_type": "code",
   "execution_count": 551,
   "metadata": {},
   "outputs": [
    {
     "data": {
      "text/html": [
       "<div>\n",
       "<style scoped>\n",
       "    .dataframe tbody tr th:only-of-type {\n",
       "        vertical-align: middle;\n",
       "    }\n",
       "\n",
       "    .dataframe tbody tr th {\n",
       "        vertical-align: top;\n",
       "    }\n",
       "\n",
       "    .dataframe thead th {\n",
       "        text-align: right;\n",
       "    }\n",
       "</style>\n",
       "<table border=\"1\" class=\"dataframe\">\n",
       "  <thead>\n",
       "    <tr style=\"text-align: right;\">\n",
       "      <th></th>\n",
       "      <th>name</th>\n",
       "      <th>platform</th>\n",
       "      <th>year_of_release</th>\n",
       "      <th>genre</th>\n",
       "      <th>na_sales</th>\n",
       "      <th>eu_sales</th>\n",
       "      <th>jp_sales</th>\n",
       "      <th>other_sales</th>\n",
       "      <th>critic_score</th>\n",
       "      <th>user_score</th>\n",
       "      <th>rating</th>\n",
       "    </tr>\n",
       "  </thead>\n",
       "  <tbody>\n",
       "  </tbody>\n",
       "</table>\n",
       "</div>"
      ],
      "text/plain": [
       "Empty DataFrame\n",
       "Columns: [name, platform, year_of_release, genre, na_sales, eu_sales, jp_sales, other_sales, critic_score, user_score, rating]\n",
       "Index: []"
      ]
     },
     "execution_count": 551,
     "metadata": {},
     "output_type": "execute_result"
    }
   ],
   "source": [
    "data[data.name.isnull()]"
   ]
  },
  {
   "cell_type": "code",
   "execution_count": 552,
   "metadata": {},
   "outputs": [
    {
     "data": {
      "text/html": [
       "<div>\n",
       "<style scoped>\n",
       "    .dataframe tbody tr th:only-of-type {\n",
       "        vertical-align: middle;\n",
       "    }\n",
       "\n",
       "    .dataframe tbody tr th {\n",
       "        vertical-align: top;\n",
       "    }\n",
       "\n",
       "    .dataframe thead th {\n",
       "        text-align: right;\n",
       "    }\n",
       "</style>\n",
       "<table border=\"1\" class=\"dataframe\">\n",
       "  <thead>\n",
       "    <tr style=\"text-align: right;\">\n",
       "      <th></th>\n",
       "      <th>name</th>\n",
       "      <th>platform</th>\n",
       "      <th>year_of_release</th>\n",
       "      <th>genre</th>\n",
       "      <th>na_sales</th>\n",
       "      <th>eu_sales</th>\n",
       "      <th>jp_sales</th>\n",
       "      <th>other_sales</th>\n",
       "      <th>critic_score</th>\n",
       "      <th>user_score</th>\n",
       "      <th>rating</th>\n",
       "    </tr>\n",
       "  </thead>\n",
       "  <tbody>\n",
       "  </tbody>\n",
       "</table>\n",
       "</div>"
      ],
      "text/plain": [
       "Empty DataFrame\n",
       "Columns: [name, platform, year_of_release, genre, na_sales, eu_sales, jp_sales, other_sales, critic_score, user_score, rating]\n",
       "Index: []"
      ]
     },
     "execution_count": 552,
     "metadata": {},
     "output_type": "execute_result"
    }
   ],
   "source": [
    "data[data.genre.isnull()]"
   ]
  },
  {
   "cell_type": "markdown",
   "metadata": {},
   "source": [
    "we need to look at the missing values that we have once again."
   ]
  },
  {
   "cell_type": "code",
   "execution_count": 553,
   "metadata": {},
   "outputs": [
    {
     "data": {
      "text/html": [
       "<div>\n",
       "<style scoped>\n",
       "    .dataframe tbody tr th:only-of-type {\n",
       "        vertical-align: middle;\n",
       "    }\n",
       "\n",
       "    .dataframe tbody tr th {\n",
       "        vertical-align: top;\n",
       "    }\n",
       "\n",
       "    .dataframe thead th {\n",
       "        text-align: right;\n",
       "    }\n",
       "</style>\n",
       "<table border=\"1\" class=\"dataframe\">\n",
       "  <thead>\n",
       "    <tr style=\"text-align: right;\">\n",
       "      <th></th>\n",
       "      <th>missing</th>\n",
       "      <th>total</th>\n",
       "      <th>percent</th>\n",
       "    </tr>\n",
       "  </thead>\n",
       "  <tbody>\n",
       "    <tr>\n",
       "      <th>critic_score</th>\n",
       "      <td>8576</td>\n",
       "      <td>16713</td>\n",
       "      <td>51.313349</td>\n",
       "    </tr>\n",
       "    <tr>\n",
       "      <th>rating</th>\n",
       "      <td>6764</td>\n",
       "      <td>16713</td>\n",
       "      <td>40.471489</td>\n",
       "    </tr>\n",
       "    <tr>\n",
       "      <th>user_score</th>\n",
       "      <td>6699</td>\n",
       "      <td>16713</td>\n",
       "      <td>40.082570</td>\n",
       "    </tr>\n",
       "    <tr>\n",
       "      <th>year_of_release</th>\n",
       "      <td>269</td>\n",
       "      <td>16713</td>\n",
       "      <td>1.609526</td>\n",
       "    </tr>\n",
       "    <tr>\n",
       "      <th>name</th>\n",
       "      <td>0</td>\n",
       "      <td>16713</td>\n",
       "      <td>0.000000</td>\n",
       "    </tr>\n",
       "    <tr>\n",
       "      <th>platform</th>\n",
       "      <td>0</td>\n",
       "      <td>16713</td>\n",
       "      <td>0.000000</td>\n",
       "    </tr>\n",
       "    <tr>\n",
       "      <th>genre</th>\n",
       "      <td>0</td>\n",
       "      <td>16713</td>\n",
       "      <td>0.000000</td>\n",
       "    </tr>\n",
       "    <tr>\n",
       "      <th>na_sales</th>\n",
       "      <td>0</td>\n",
       "      <td>16713</td>\n",
       "      <td>0.000000</td>\n",
       "    </tr>\n",
       "    <tr>\n",
       "      <th>eu_sales</th>\n",
       "      <td>0</td>\n",
       "      <td>16713</td>\n",
       "      <td>0.000000</td>\n",
       "    </tr>\n",
       "    <tr>\n",
       "      <th>jp_sales</th>\n",
       "      <td>0</td>\n",
       "      <td>16713</td>\n",
       "      <td>0.000000</td>\n",
       "    </tr>\n",
       "    <tr>\n",
       "      <th>other_sales</th>\n",
       "      <td>0</td>\n",
       "      <td>16713</td>\n",
       "      <td>0.000000</td>\n",
       "    </tr>\n",
       "  </tbody>\n",
       "</table>\n",
       "</div>"
      ],
      "text/plain": [
       "                 missing  total    percent\n",
       "critic_score        8576  16713  51.313349\n",
       "rating              6764  16713  40.471489\n",
       "user_score          6699  16713  40.082570\n",
       "year_of_release      269  16713   1.609526\n",
       "name                   0  16713   0.000000\n",
       "platform               0  16713   0.000000\n",
       "genre                  0  16713   0.000000\n",
       "na_sales               0  16713   0.000000\n",
       "eu_sales               0  16713   0.000000\n",
       "jp_sales               0  16713   0.000000\n",
       "other_sales            0  16713   0.000000"
      ]
     },
     "execution_count": 553,
     "metadata": {},
     "output_type": "execute_result"
    }
   ],
   "source": [
    "data.stb.missing()"
   ]
  },
  {
   "cell_type": "markdown",
   "metadata": {},
   "source": [
    "year_of_release has 269 missing rows. From a logical point of view, we can say that the year of release is influenced by the time the platform release a specific game.\n",
    "Let's fill the missing values in this column by the median year_of_release of the platform."
   ]
  },
  {
   "cell_type": "code",
   "execution_count": 555,
   "metadata": {},
   "outputs": [],
   "source": [
    "data['year_of_release'] = data['year_of_release'].fillna(data.groupby(['platform'])['year_of_release'].transform('median'))\n",
    "warnings.filterwarnings(\"ignore\")"
   ]
  },
  {
   "cell_type": "code",
   "execution_count": 556,
   "metadata": {},
   "outputs": [
    {
     "data": {
      "text/html": [
       "<div>\n",
       "<style scoped>\n",
       "    .dataframe tbody tr th:only-of-type {\n",
       "        vertical-align: middle;\n",
       "    }\n",
       "\n",
       "    .dataframe tbody tr th {\n",
       "        vertical-align: top;\n",
       "    }\n",
       "\n",
       "    .dataframe thead th {\n",
       "        text-align: right;\n",
       "    }\n",
       "</style>\n",
       "<table border=\"1\" class=\"dataframe\">\n",
       "  <thead>\n",
       "    <tr style=\"text-align: right;\">\n",
       "      <th></th>\n",
       "      <th>missing</th>\n",
       "      <th>total</th>\n",
       "      <th>percent</th>\n",
       "    </tr>\n",
       "  </thead>\n",
       "  <tbody>\n",
       "    <tr>\n",
       "      <th>critic_score</th>\n",
       "      <td>8576</td>\n",
       "      <td>16713</td>\n",
       "      <td>51.313349</td>\n",
       "    </tr>\n",
       "    <tr>\n",
       "      <th>rating</th>\n",
       "      <td>6764</td>\n",
       "      <td>16713</td>\n",
       "      <td>40.471489</td>\n",
       "    </tr>\n",
       "    <tr>\n",
       "      <th>user_score</th>\n",
       "      <td>6699</td>\n",
       "      <td>16713</td>\n",
       "      <td>40.082570</td>\n",
       "    </tr>\n",
       "    <tr>\n",
       "      <th>name</th>\n",
       "      <td>0</td>\n",
       "      <td>16713</td>\n",
       "      <td>0.000000</td>\n",
       "    </tr>\n",
       "    <tr>\n",
       "      <th>platform</th>\n",
       "      <td>0</td>\n",
       "      <td>16713</td>\n",
       "      <td>0.000000</td>\n",
       "    </tr>\n",
       "    <tr>\n",
       "      <th>year_of_release</th>\n",
       "      <td>0</td>\n",
       "      <td>16713</td>\n",
       "      <td>0.000000</td>\n",
       "    </tr>\n",
       "    <tr>\n",
       "      <th>genre</th>\n",
       "      <td>0</td>\n",
       "      <td>16713</td>\n",
       "      <td>0.000000</td>\n",
       "    </tr>\n",
       "    <tr>\n",
       "      <th>na_sales</th>\n",
       "      <td>0</td>\n",
       "      <td>16713</td>\n",
       "      <td>0.000000</td>\n",
       "    </tr>\n",
       "    <tr>\n",
       "      <th>eu_sales</th>\n",
       "      <td>0</td>\n",
       "      <td>16713</td>\n",
       "      <td>0.000000</td>\n",
       "    </tr>\n",
       "    <tr>\n",
       "      <th>jp_sales</th>\n",
       "      <td>0</td>\n",
       "      <td>16713</td>\n",
       "      <td>0.000000</td>\n",
       "    </tr>\n",
       "    <tr>\n",
       "      <th>other_sales</th>\n",
       "      <td>0</td>\n",
       "      <td>16713</td>\n",
       "      <td>0.000000</td>\n",
       "    </tr>\n",
       "  </tbody>\n",
       "</table>\n",
       "</div>"
      ],
      "text/plain": [
       "                 missing  total    percent\n",
       "critic_score        8576  16713  51.313349\n",
       "rating              6764  16713  40.471489\n",
       "user_score          6699  16713  40.082570\n",
       "name                   0  16713   0.000000\n",
       "platform               0  16713   0.000000\n",
       "year_of_release        0  16713   0.000000\n",
       "genre                  0  16713   0.000000\n",
       "na_sales               0  16713   0.000000\n",
       "eu_sales               0  16713   0.000000\n",
       "jp_sales               0  16713   0.000000\n",
       "other_sales            0  16713   0.000000"
      ]
     },
     "execution_count": 556,
     "metadata": {},
     "output_type": "execute_result"
    }
   ],
   "source": [
    "data.stb.missing()"
   ]
  },
  {
   "cell_type": "markdown",
   "metadata": {},
   "source": [
    "There are no missing values in the year of release."
   ]
  },
  {
   "cell_type": "code",
   "execution_count": 557,
   "metadata": {},
   "outputs": [
    {
     "name": "stdout",
     "output_type": "stream",
     "text": [
      "<class 'pandas.core.frame.DataFrame'>\n",
      "Int64Index: 16713 entries, 0 to 16714\n",
      "Data columns (total 11 columns):\n",
      " #   Column           Non-Null Count  Dtype  \n",
      "---  ------           --------------  -----  \n",
      " 0   name             16713 non-null  object \n",
      " 1   platform         16713 non-null  object \n",
      " 2   year_of_release  16713 non-null  float64\n",
      " 3   genre            16713 non-null  object \n",
      " 4   na_sales         16713 non-null  float64\n",
      " 5   eu_sales         16713 non-null  float64\n",
      " 6   jp_sales         16713 non-null  float64\n",
      " 7   other_sales      16713 non-null  float64\n",
      " 8   critic_score     8137 non-null   float64\n",
      " 9   user_score       10014 non-null  object \n",
      " 10  rating           9949 non-null   object \n",
      "dtypes: float64(6), object(5)\n",
      "memory usage: 1.5+ MB\n"
     ]
    }
   ],
   "source": [
    "data.info()"
   ]
  },
  {
   "cell_type": "markdown",
   "metadata": {},
   "source": [
    "Let's change the data type of year of release columns to an integer data type."
   ]
  },
  {
   "cell_type": "code",
   "execution_count": 558,
   "metadata": {},
   "outputs": [],
   "source": [
    "data['year_of_release'] = data['year_of_release'].astype('int')"
   ]
  },
  {
   "cell_type": "code",
   "execution_count": 559,
   "metadata": {},
   "outputs": [
    {
     "name": "stdout",
     "output_type": "stream",
     "text": [
      "<class 'pandas.core.frame.DataFrame'>\n",
      "Int64Index: 16713 entries, 0 to 16714\n",
      "Data columns (total 11 columns):\n",
      " #   Column           Non-Null Count  Dtype  \n",
      "---  ------           --------------  -----  \n",
      " 0   name             16713 non-null  object \n",
      " 1   platform         16713 non-null  object \n",
      " 2   year_of_release  16713 non-null  int64  \n",
      " 3   genre            16713 non-null  object \n",
      " 4   na_sales         16713 non-null  float64\n",
      " 5   eu_sales         16713 non-null  float64\n",
      " 6   jp_sales         16713 non-null  float64\n",
      " 7   other_sales      16713 non-null  float64\n",
      " 8   critic_score     8137 non-null   float64\n",
      " 9   user_score       10014 non-null  object \n",
      " 10  rating           9949 non-null   object \n",
      "dtypes: float64(5), int64(1), object(5)\n",
      "memory usage: 1.5+ MB\n"
     ]
    }
   ],
   "source": [
    "data.info()"
   ]
  },
  {
   "cell_type": "code",
   "execution_count": 560,
   "metadata": {},
   "outputs": [
    {
     "data": {
      "text/html": [
       "<div>\n",
       "<style scoped>\n",
       "    .dataframe tbody tr th:only-of-type {\n",
       "        vertical-align: middle;\n",
       "    }\n",
       "\n",
       "    .dataframe tbody tr th {\n",
       "        vertical-align: top;\n",
       "    }\n",
       "\n",
       "    .dataframe thead th {\n",
       "        text-align: right;\n",
       "    }\n",
       "</style>\n",
       "<table border=\"1\" class=\"dataframe\">\n",
       "  <thead>\n",
       "    <tr style=\"text-align: right;\">\n",
       "      <th></th>\n",
       "      <th>name</th>\n",
       "      <th>platform</th>\n",
       "      <th>year_of_release</th>\n",
       "      <th>genre</th>\n",
       "      <th>na_sales</th>\n",
       "      <th>eu_sales</th>\n",
       "      <th>jp_sales</th>\n",
       "      <th>other_sales</th>\n",
       "      <th>critic_score</th>\n",
       "      <th>user_score</th>\n",
       "      <th>rating</th>\n",
       "    </tr>\n",
       "  </thead>\n",
       "  <tbody>\n",
       "    <tr>\n",
       "      <th>0</th>\n",
       "      <td>Wii Sports</td>\n",
       "      <td>Wii</td>\n",
       "      <td>2006</td>\n",
       "      <td>Sports</td>\n",
       "      <td>41.36</td>\n",
       "      <td>28.96</td>\n",
       "      <td>3.77</td>\n",
       "      <td>8.45</td>\n",
       "      <td>76.0</td>\n",
       "      <td>8</td>\n",
       "      <td>E</td>\n",
       "    </tr>\n",
       "    <tr>\n",
       "      <th>1</th>\n",
       "      <td>Super Mario Bros.</td>\n",
       "      <td>NES</td>\n",
       "      <td>1985</td>\n",
       "      <td>Platform</td>\n",
       "      <td>29.08</td>\n",
       "      <td>3.58</td>\n",
       "      <td>6.81</td>\n",
       "      <td>0.77</td>\n",
       "      <td>NaN</td>\n",
       "      <td>NaN</td>\n",
       "      <td>NaN</td>\n",
       "    </tr>\n",
       "    <tr>\n",
       "      <th>2</th>\n",
       "      <td>Mario Kart Wii</td>\n",
       "      <td>Wii</td>\n",
       "      <td>2008</td>\n",
       "      <td>Racing</td>\n",
       "      <td>15.68</td>\n",
       "      <td>12.76</td>\n",
       "      <td>3.79</td>\n",
       "      <td>3.29</td>\n",
       "      <td>82.0</td>\n",
       "      <td>8.3</td>\n",
       "      <td>E</td>\n",
       "    </tr>\n",
       "    <tr>\n",
       "      <th>3</th>\n",
       "      <td>Wii Sports Resort</td>\n",
       "      <td>Wii</td>\n",
       "      <td>2009</td>\n",
       "      <td>Sports</td>\n",
       "      <td>15.61</td>\n",
       "      <td>10.93</td>\n",
       "      <td>3.28</td>\n",
       "      <td>2.95</td>\n",
       "      <td>80.0</td>\n",
       "      <td>8</td>\n",
       "      <td>E</td>\n",
       "    </tr>\n",
       "    <tr>\n",
       "      <th>4</th>\n",
       "      <td>Pokemon Red/Pokemon Blue</td>\n",
       "      <td>GB</td>\n",
       "      <td>1996</td>\n",
       "      <td>Role-Playing</td>\n",
       "      <td>11.27</td>\n",
       "      <td>8.89</td>\n",
       "      <td>10.22</td>\n",
       "      <td>1.00</td>\n",
       "      <td>NaN</td>\n",
       "      <td>NaN</td>\n",
       "      <td>NaN</td>\n",
       "    </tr>\n",
       "  </tbody>\n",
       "</table>\n",
       "</div>"
      ],
      "text/plain": [
       "                       name platform  year_of_release         genre  na_sales  \\\n",
       "0                Wii Sports      Wii             2006        Sports     41.36   \n",
       "1         Super Mario Bros.      NES             1985      Platform     29.08   \n",
       "2            Mario Kart Wii      Wii             2008        Racing     15.68   \n",
       "3         Wii Sports Resort      Wii             2009        Sports     15.61   \n",
       "4  Pokemon Red/Pokemon Blue       GB             1996  Role-Playing     11.27   \n",
       "\n",
       "   eu_sales  jp_sales  other_sales  critic_score user_score rating  \n",
       "0     28.96      3.77         8.45          76.0          8      E  \n",
       "1      3.58      6.81         0.77           NaN        NaN    NaN  \n",
       "2     12.76      3.79         3.29          82.0        8.3      E  \n",
       "3     10.93      3.28         2.95          80.0          8      E  \n",
       "4      8.89     10.22         1.00           NaN        NaN    NaN  "
      ]
     },
     "execution_count": 560,
     "metadata": {},
     "output_type": "execute_result"
    }
   ],
   "source": [
    "data.head()"
   ]
  },
  {
   "cell_type": "code",
   "execution_count": 561,
   "metadata": {},
   "outputs": [
    {
     "data": {
      "text/html": [
       "<div>\n",
       "<style scoped>\n",
       "    .dataframe tbody tr th:only-of-type {\n",
       "        vertical-align: middle;\n",
       "    }\n",
       "\n",
       "    .dataframe tbody tr th {\n",
       "        vertical-align: top;\n",
       "    }\n",
       "\n",
       "    .dataframe thead th {\n",
       "        text-align: right;\n",
       "    }\n",
       "</style>\n",
       "<table border=\"1\" class=\"dataframe\">\n",
       "  <thead>\n",
       "    <tr style=\"text-align: right;\">\n",
       "      <th></th>\n",
       "      <th>missing</th>\n",
       "      <th>total</th>\n",
       "      <th>percent</th>\n",
       "    </tr>\n",
       "  </thead>\n",
       "  <tbody>\n",
       "    <tr>\n",
       "      <th>critic_score</th>\n",
       "      <td>8576</td>\n",
       "      <td>16713</td>\n",
       "      <td>51.313349</td>\n",
       "    </tr>\n",
       "    <tr>\n",
       "      <th>rating</th>\n",
       "      <td>6764</td>\n",
       "      <td>16713</td>\n",
       "      <td>40.471489</td>\n",
       "    </tr>\n",
       "    <tr>\n",
       "      <th>user_score</th>\n",
       "      <td>6699</td>\n",
       "      <td>16713</td>\n",
       "      <td>40.082570</td>\n",
       "    </tr>\n",
       "    <tr>\n",
       "      <th>name</th>\n",
       "      <td>0</td>\n",
       "      <td>16713</td>\n",
       "      <td>0.000000</td>\n",
       "    </tr>\n",
       "    <tr>\n",
       "      <th>platform</th>\n",
       "      <td>0</td>\n",
       "      <td>16713</td>\n",
       "      <td>0.000000</td>\n",
       "    </tr>\n",
       "    <tr>\n",
       "      <th>year_of_release</th>\n",
       "      <td>0</td>\n",
       "      <td>16713</td>\n",
       "      <td>0.000000</td>\n",
       "    </tr>\n",
       "    <tr>\n",
       "      <th>genre</th>\n",
       "      <td>0</td>\n",
       "      <td>16713</td>\n",
       "      <td>0.000000</td>\n",
       "    </tr>\n",
       "    <tr>\n",
       "      <th>na_sales</th>\n",
       "      <td>0</td>\n",
       "      <td>16713</td>\n",
       "      <td>0.000000</td>\n",
       "    </tr>\n",
       "    <tr>\n",
       "      <th>eu_sales</th>\n",
       "      <td>0</td>\n",
       "      <td>16713</td>\n",
       "      <td>0.000000</td>\n",
       "    </tr>\n",
       "    <tr>\n",
       "      <th>jp_sales</th>\n",
       "      <td>0</td>\n",
       "      <td>16713</td>\n",
       "      <td>0.000000</td>\n",
       "    </tr>\n",
       "    <tr>\n",
       "      <th>other_sales</th>\n",
       "      <td>0</td>\n",
       "      <td>16713</td>\n",
       "      <td>0.000000</td>\n",
       "    </tr>\n",
       "  </tbody>\n",
       "</table>\n",
       "</div>"
      ],
      "text/plain": [
       "                 missing  total    percent\n",
       "critic_score        8576  16713  51.313349\n",
       "rating              6764  16713  40.471489\n",
       "user_score          6699  16713  40.082570\n",
       "name                   0  16713   0.000000\n",
       "platform               0  16713   0.000000\n",
       "year_of_release        0  16713   0.000000\n",
       "genre                  0  16713   0.000000\n",
       "na_sales               0  16713   0.000000\n",
       "eu_sales               0  16713   0.000000\n",
       "jp_sales               0  16713   0.000000\n",
       "other_sales            0  16713   0.000000"
      ]
     },
     "execution_count": 561,
     "metadata": {},
     "output_type": "execute_result"
    }
   ],
   "source": [
    "data.stb.missing()"
   ]
  },
  {
   "cell_type": "markdown",
   "metadata": {},
   "source": [
    "Let's focus on the TBD value in the user_score column. If the TBD means \"to be determined,\" that means that maybe it means that this is a new game and the user still gives this game a score. So if tbd means new games, the year f release needs to be high relative to the data at hand. Let's look at the TBD rows and year of release column."
   ]
  },
  {
   "cell_type": "code",
   "execution_count": 562,
   "metadata": {},
   "outputs": [
    {
     "data": {
      "text/plain": [
       "2009    422\n",
       "2008    338\n",
       "2010    332\n",
       "2011    217\n",
       "2002    192\n",
       "2007    192\n",
       "2005    125\n",
       "2006    124\n",
       "2004    111\n",
       "2003    102\n",
       "2001     82\n",
       "2000     43\n",
       "2015     38\n",
       "2016     34\n",
       "2012     24\n",
       "2014     21\n",
       "2013     17\n",
       "1999      8\n",
       "1998      1\n",
       "1997      1\n",
       "Name: year_of_release, dtype: int64"
      ]
     },
     "execution_count": 562,
     "metadata": {},
     "output_type": "execute_result"
    }
   ],
   "source": [
    "data[data.user_score == 'tbd']['year_of_release'].value_counts()"
   ]
  },
  {
   "cell_type": "markdown",
   "metadata": {},
   "source": [
    "We were wrong in our small assumption, and there are many different years with tbd values. So we cannot use this data in our analysis. And in the next step, when we need to calculate the user_score, we will replace this with a numeric number of -1."
   ]
  },
  {
   "cell_type": "code",
   "execution_count": 563,
   "metadata": {},
   "outputs": [
    {
     "data": {
      "text/html": [
       "<div>\n",
       "<style scoped>\n",
       "    .dataframe tbody tr th:only-of-type {\n",
       "        vertical-align: middle;\n",
       "    }\n",
       "\n",
       "    .dataframe tbody tr th {\n",
       "        vertical-align: top;\n",
       "    }\n",
       "\n",
       "    .dataframe thead th {\n",
       "        text-align: right;\n",
       "    }\n",
       "</style>\n",
       "<table border=\"1\" class=\"dataframe\">\n",
       "  <thead>\n",
       "    <tr style=\"text-align: right;\">\n",
       "      <th></th>\n",
       "      <th>user_score</th>\n",
       "      <th>count</th>\n",
       "      <th>percent</th>\n",
       "      <th>cumulative_count</th>\n",
       "      <th>cumulative_percent</th>\n",
       "    </tr>\n",
       "  </thead>\n",
       "  <tbody>\n",
       "    <tr>\n",
       "      <th>0</th>\n",
       "      <td>tbd</td>\n",
       "      <td>2424</td>\n",
       "      <td>24.206111</td>\n",
       "      <td>2424</td>\n",
       "      <td>24.206111</td>\n",
       "    </tr>\n",
       "    <tr>\n",
       "      <th>1</th>\n",
       "      <td>7.8</td>\n",
       "      <td>324</td>\n",
       "      <td>3.235470</td>\n",
       "      <td>2748</td>\n",
       "      <td>27.441582</td>\n",
       "    </tr>\n",
       "    <tr>\n",
       "      <th>2</th>\n",
       "      <td>8</td>\n",
       "      <td>290</td>\n",
       "      <td>2.895946</td>\n",
       "      <td>3038</td>\n",
       "      <td>30.337527</td>\n",
       "    </tr>\n",
       "    <tr>\n",
       "      <th>3</th>\n",
       "      <td>8.2</td>\n",
       "      <td>282</td>\n",
       "      <td>2.816058</td>\n",
       "      <td>3320</td>\n",
       "      <td>33.153585</td>\n",
       "    </tr>\n",
       "    <tr>\n",
       "      <th>4</th>\n",
       "      <td>8.3</td>\n",
       "      <td>254</td>\n",
       "      <td>2.536449</td>\n",
       "      <td>3574</td>\n",
       "      <td>35.690034</td>\n",
       "    </tr>\n",
       "    <tr>\n",
       "      <th>...</th>\n",
       "      <td>...</td>\n",
       "      <td>...</td>\n",
       "      <td>...</td>\n",
       "      <td>...</td>\n",
       "      <td>...</td>\n",
       "    </tr>\n",
       "    <tr>\n",
       "      <th>91</th>\n",
       "      <td>0.5</td>\n",
       "      <td>2</td>\n",
       "      <td>0.019972</td>\n",
       "      <td>10008</td>\n",
       "      <td>99.940084</td>\n",
       "    </tr>\n",
       "    <tr>\n",
       "      <th>92</th>\n",
       "      <td>0.3</td>\n",
       "      <td>2</td>\n",
       "      <td>0.019972</td>\n",
       "      <td>10010</td>\n",
       "      <td>99.960056</td>\n",
       "    </tr>\n",
       "    <tr>\n",
       "      <th>93</th>\n",
       "      <td>0.2</td>\n",
       "      <td>2</td>\n",
       "      <td>0.019972</td>\n",
       "      <td>10012</td>\n",
       "      <td>99.980028</td>\n",
       "    </tr>\n",
       "    <tr>\n",
       "      <th>94</th>\n",
       "      <td>9.7</td>\n",
       "      <td>1</td>\n",
       "      <td>0.009986</td>\n",
       "      <td>10013</td>\n",
       "      <td>99.990014</td>\n",
       "    </tr>\n",
       "    <tr>\n",
       "      <th>95</th>\n",
       "      <td>0</td>\n",
       "      <td>1</td>\n",
       "      <td>0.009986</td>\n",
       "      <td>10014</td>\n",
       "      <td>100.000000</td>\n",
       "    </tr>\n",
       "  </tbody>\n",
       "</table>\n",
       "<p>96 rows × 5 columns</p>\n",
       "</div>"
      ],
      "text/plain": [
       "   user_score  count    percent  cumulative_count  cumulative_percent\n",
       "0         tbd   2424  24.206111              2424           24.206111\n",
       "1         7.8    324   3.235470              2748           27.441582\n",
       "2           8    290   2.895946              3038           30.337527\n",
       "3         8.2    282   2.816058              3320           33.153585\n",
       "4         8.3    254   2.536449              3574           35.690034\n",
       "..        ...    ...        ...               ...                 ...\n",
       "91        0.5      2   0.019972             10008           99.940084\n",
       "92        0.3      2   0.019972             10010           99.960056\n",
       "93        0.2      2   0.019972             10012           99.980028\n",
       "94        9.7      1   0.009986             10013           99.990014\n",
       "95          0      1   0.009986             10014          100.000000\n",
       "\n",
       "[96 rows x 5 columns]"
      ]
     },
     "execution_count": 563,
     "metadata": {},
     "output_type": "execute_result"
    }
   ],
   "source": [
    "data.stb.freq(['user_score'])"
   ]
  },
  {
   "cell_type": "code",
   "execution_count": 564,
   "metadata": {},
   "outputs": [
    {
     "name": "stdout",
     "output_type": "stream",
     "text": [
      "<class 'pandas.core.frame.DataFrame'>\n",
      "Int64Index: 16713 entries, 0 to 16714\n",
      "Data columns (total 11 columns):\n",
      " #   Column           Non-Null Count  Dtype  \n",
      "---  ------           --------------  -----  \n",
      " 0   name             16713 non-null  object \n",
      " 1   platform         16713 non-null  object \n",
      " 2   year_of_release  16713 non-null  int64  \n",
      " 3   genre            16713 non-null  object \n",
      " 4   na_sales         16713 non-null  float64\n",
      " 5   eu_sales         16713 non-null  float64\n",
      " 6   jp_sales         16713 non-null  float64\n",
      " 7   other_sales      16713 non-null  float64\n",
      " 8   critic_score     8137 non-null   float64\n",
      " 9   user_score       10014 non-null  object \n",
      " 10  rating           9949 non-null   object \n",
      "dtypes: float64(5), int64(1), object(5)\n",
      "memory usage: 1.5+ MB\n"
     ]
    }
   ],
   "source": [
    "data.info()"
   ]
  },
  {
   "cell_type": "code",
   "execution_count": 565,
   "metadata": {},
   "outputs": [],
   "source": [
    "data['user_score'] = data['user_score'].replace(['tbd'], -1)"
   ]
  },
  {
   "cell_type": "code",
   "execution_count": 566,
   "metadata": {},
   "outputs": [
    {
     "data": {
      "text/plain": [
       "Series([], dtype: int64)"
      ]
     },
     "execution_count": 566,
     "metadata": {},
     "output_type": "execute_result"
    }
   ],
   "source": [
    "data[data.user_score == 'tbd'].value_counts()"
   ]
  },
  {
   "cell_type": "code",
   "execution_count": 567,
   "metadata": {},
   "outputs": [
    {
     "data": {
      "text/html": [
       "<div>\n",
       "<style scoped>\n",
       "    .dataframe tbody tr th:only-of-type {\n",
       "        vertical-align: middle;\n",
       "    }\n",
       "\n",
       "    .dataframe tbody tr th {\n",
       "        vertical-align: top;\n",
       "    }\n",
       "\n",
       "    .dataframe thead th {\n",
       "        text-align: right;\n",
       "    }\n",
       "</style>\n",
       "<table border=\"1\" class=\"dataframe\">\n",
       "  <thead>\n",
       "    <tr style=\"text-align: right;\">\n",
       "      <th></th>\n",
       "      <th>name</th>\n",
       "      <th>platform</th>\n",
       "      <th>genre</th>\n",
       "      <th>user_score</th>\n",
       "      <th>rating</th>\n",
       "    </tr>\n",
       "  </thead>\n",
       "  <tbody>\n",
       "    <tr>\n",
       "      <th>count</th>\n",
       "      <td>16713</td>\n",
       "      <td>16713</td>\n",
       "      <td>16713</td>\n",
       "      <td>10014</td>\n",
       "      <td>9949</td>\n",
       "    </tr>\n",
       "    <tr>\n",
       "      <th>unique</th>\n",
       "      <td>11559</td>\n",
       "      <td>31</td>\n",
       "      <td>12</td>\n",
       "      <td>96</td>\n",
       "      <td>8</td>\n",
       "    </tr>\n",
       "    <tr>\n",
       "      <th>top</th>\n",
       "      <td>Need for Speed: Most Wanted</td>\n",
       "      <td>PS2</td>\n",
       "      <td>Action</td>\n",
       "      <td>-1</td>\n",
       "      <td>E</td>\n",
       "    </tr>\n",
       "    <tr>\n",
       "      <th>freq</th>\n",
       "      <td>12</td>\n",
       "      <td>2161</td>\n",
       "      <td>3369</td>\n",
       "      <td>2424</td>\n",
       "      <td>3990</td>\n",
       "    </tr>\n",
       "  </tbody>\n",
       "</table>\n",
       "</div>"
      ],
      "text/plain": [
       "                               name platform   genre  user_score rating\n",
       "count                         16713    16713   16713       10014   9949\n",
       "unique                        11559       31      12          96      8\n",
       "top     Need for Speed: Most Wanted      PS2  Action          -1      E\n",
       "freq                             12     2161    3369        2424   3990"
      ]
     },
     "execution_count": 567,
     "metadata": {},
     "output_type": "execute_result"
    }
   ],
   "source": [
    "data.describe(include='object')"
   ]
  },
  {
   "cell_type": "code",
   "execution_count": 568,
   "metadata": {},
   "outputs": [
    {
     "data": {
      "text/html": [
       "<div>\n",
       "<style scoped>\n",
       "    .dataframe tbody tr th:only-of-type {\n",
       "        vertical-align: middle;\n",
       "    }\n",
       "\n",
       "    .dataframe tbody tr th {\n",
       "        vertical-align: top;\n",
       "    }\n",
       "\n",
       "    .dataframe thead th {\n",
       "        text-align: right;\n",
       "    }\n",
       "</style>\n",
       "<table border=\"1\" class=\"dataframe\">\n",
       "  <thead>\n",
       "    <tr style=\"text-align: right;\">\n",
       "      <th></th>\n",
       "      <th>user_score</th>\n",
       "      <th>count</th>\n",
       "      <th>percent</th>\n",
       "      <th>cumulative_count</th>\n",
       "      <th>cumulative_percent</th>\n",
       "    </tr>\n",
       "  </thead>\n",
       "  <tbody>\n",
       "    <tr>\n",
       "      <th>0</th>\n",
       "      <td>-1</td>\n",
       "      <td>2424</td>\n",
       "      <td>24.206111</td>\n",
       "      <td>2424</td>\n",
       "      <td>24.206111</td>\n",
       "    </tr>\n",
       "    <tr>\n",
       "      <th>1</th>\n",
       "      <td>7.8</td>\n",
       "      <td>324</td>\n",
       "      <td>3.235470</td>\n",
       "      <td>2748</td>\n",
       "      <td>27.441582</td>\n",
       "    </tr>\n",
       "    <tr>\n",
       "      <th>2</th>\n",
       "      <td>8</td>\n",
       "      <td>290</td>\n",
       "      <td>2.895946</td>\n",
       "      <td>3038</td>\n",
       "      <td>30.337527</td>\n",
       "    </tr>\n",
       "    <tr>\n",
       "      <th>3</th>\n",
       "      <td>8.2</td>\n",
       "      <td>282</td>\n",
       "      <td>2.816058</td>\n",
       "      <td>3320</td>\n",
       "      <td>33.153585</td>\n",
       "    </tr>\n",
       "    <tr>\n",
       "      <th>4</th>\n",
       "      <td>8.3</td>\n",
       "      <td>254</td>\n",
       "      <td>2.536449</td>\n",
       "      <td>3574</td>\n",
       "      <td>35.690034</td>\n",
       "    </tr>\n",
       "    <tr>\n",
       "      <th>...</th>\n",
       "      <td>...</td>\n",
       "      <td>...</td>\n",
       "      <td>...</td>\n",
       "      <td>...</td>\n",
       "      <td>...</td>\n",
       "    </tr>\n",
       "    <tr>\n",
       "      <th>91</th>\n",
       "      <td>0.5</td>\n",
       "      <td>2</td>\n",
       "      <td>0.019972</td>\n",
       "      <td>10008</td>\n",
       "      <td>99.940084</td>\n",
       "    </tr>\n",
       "    <tr>\n",
       "      <th>92</th>\n",
       "      <td>0.3</td>\n",
       "      <td>2</td>\n",
       "      <td>0.019972</td>\n",
       "      <td>10010</td>\n",
       "      <td>99.960056</td>\n",
       "    </tr>\n",
       "    <tr>\n",
       "      <th>93</th>\n",
       "      <td>0.2</td>\n",
       "      <td>2</td>\n",
       "      <td>0.019972</td>\n",
       "      <td>10012</td>\n",
       "      <td>99.980028</td>\n",
       "    </tr>\n",
       "    <tr>\n",
       "      <th>94</th>\n",
       "      <td>9.7</td>\n",
       "      <td>1</td>\n",
       "      <td>0.009986</td>\n",
       "      <td>10013</td>\n",
       "      <td>99.990014</td>\n",
       "    </tr>\n",
       "    <tr>\n",
       "      <th>95</th>\n",
       "      <td>0</td>\n",
       "      <td>1</td>\n",
       "      <td>0.009986</td>\n",
       "      <td>10014</td>\n",
       "      <td>100.000000</td>\n",
       "    </tr>\n",
       "  </tbody>\n",
       "</table>\n",
       "<p>96 rows × 5 columns</p>\n",
       "</div>"
      ],
      "text/plain": [
       "   user_score  count    percent  cumulative_count  cumulative_percent\n",
       "0          -1   2424  24.206111              2424           24.206111\n",
       "1         7.8    324   3.235470              2748           27.441582\n",
       "2           8    290   2.895946              3038           30.337527\n",
       "3         8.2    282   2.816058              3320           33.153585\n",
       "4         8.3    254   2.536449              3574           35.690034\n",
       "..        ...    ...        ...               ...                 ...\n",
       "91        0.5      2   0.019972             10008           99.940084\n",
       "92        0.3      2   0.019972             10010           99.960056\n",
       "93        0.2      2   0.019972             10012           99.980028\n",
       "94        9.7      1   0.009986             10013           99.990014\n",
       "95          0      1   0.009986             10014          100.000000\n",
       "\n",
       "[96 rows x 5 columns]"
      ]
     },
     "execution_count": 568,
     "metadata": {},
     "output_type": "execute_result"
    }
   ],
   "source": [
    "data.stb.freq(['user_score'])"
   ]
  },
  {
   "cell_type": "code",
   "execution_count": 569,
   "metadata": {},
   "outputs": [
    {
     "data": {
      "text/plain": [
       "-1     2424\n",
       "7.8     324\n",
       "8       290\n",
       "8.2     282\n",
       "8.3     254\n",
       "       ... \n",
       "1.1       2\n",
       "1.9       2\n",
       "9.6       2\n",
       "0         1\n",
       "9.7       1\n",
       "Name: user_score, Length: 96, dtype: int64"
      ]
     },
     "execution_count": 569,
     "metadata": {},
     "output_type": "execute_result"
    }
   ],
   "source": [
    "data['user_score'].value_counts()"
   ]
  },
  {
   "cell_type": "code",
   "execution_count": 570,
   "metadata": {},
   "outputs": [
    {
     "name": "stdout",
     "output_type": "stream",
     "text": [
      "<class 'pandas.core.frame.DataFrame'>\n",
      "Int64Index: 16713 entries, 0 to 16714\n",
      "Data columns (total 11 columns):\n",
      " #   Column           Non-Null Count  Dtype  \n",
      "---  ------           --------------  -----  \n",
      " 0   name             16713 non-null  object \n",
      " 1   platform         16713 non-null  object \n",
      " 2   year_of_release  16713 non-null  int64  \n",
      " 3   genre            16713 non-null  object \n",
      " 4   na_sales         16713 non-null  float64\n",
      " 5   eu_sales         16713 non-null  float64\n",
      " 6   jp_sales         16713 non-null  float64\n",
      " 7   other_sales      16713 non-null  float64\n",
      " 8   critic_score     8137 non-null   float64\n",
      " 9   user_score       10014 non-null  object \n",
      " 10  rating           9949 non-null   object \n",
      "dtypes: float64(5), int64(1), object(5)\n",
      "memory usage: 1.5+ MB\n"
     ]
    }
   ],
   "source": [
    "data.info()"
   ]
  },
  {
   "cell_type": "markdown",
   "metadata": {},
   "source": [
    "there is no TBD in the data now"
   ]
  },
  {
   "cell_type": "markdown",
   "metadata": {},
   "source": [
    "Let's Calculate the total sales (the sum of sales in all regions) for each game and put these values in a separate column."
   ]
  },
  {
   "cell_type": "code",
   "execution_count": 571,
   "metadata": {},
   "outputs": [
    {
     "data": {
      "text/html": [
       "<div>\n",
       "<style scoped>\n",
       "    .dataframe tbody tr th:only-of-type {\n",
       "        vertical-align: middle;\n",
       "    }\n",
       "\n",
       "    .dataframe tbody tr th {\n",
       "        vertical-align: top;\n",
       "    }\n",
       "\n",
       "    .dataframe thead th {\n",
       "        text-align: right;\n",
       "    }\n",
       "</style>\n",
       "<table border=\"1\" class=\"dataframe\">\n",
       "  <thead>\n",
       "    <tr style=\"text-align: right;\">\n",
       "      <th></th>\n",
       "      <th>name</th>\n",
       "      <th>platform</th>\n",
       "      <th>year_of_release</th>\n",
       "      <th>genre</th>\n",
       "      <th>na_sales</th>\n",
       "      <th>eu_sales</th>\n",
       "      <th>jp_sales</th>\n",
       "      <th>other_sales</th>\n",
       "      <th>critic_score</th>\n",
       "      <th>user_score</th>\n",
       "      <th>rating</th>\n",
       "    </tr>\n",
       "  </thead>\n",
       "  <tbody>\n",
       "    <tr>\n",
       "      <th>0</th>\n",
       "      <td>Wii Sports</td>\n",
       "      <td>Wii</td>\n",
       "      <td>2006</td>\n",
       "      <td>Sports</td>\n",
       "      <td>41.36</td>\n",
       "      <td>28.96</td>\n",
       "      <td>3.77</td>\n",
       "      <td>8.45</td>\n",
       "      <td>76.0</td>\n",
       "      <td>8</td>\n",
       "      <td>E</td>\n",
       "    </tr>\n",
       "    <tr>\n",
       "      <th>1</th>\n",
       "      <td>Super Mario Bros.</td>\n",
       "      <td>NES</td>\n",
       "      <td>1985</td>\n",
       "      <td>Platform</td>\n",
       "      <td>29.08</td>\n",
       "      <td>3.58</td>\n",
       "      <td>6.81</td>\n",
       "      <td>0.77</td>\n",
       "      <td>NaN</td>\n",
       "      <td>NaN</td>\n",
       "      <td>NaN</td>\n",
       "    </tr>\n",
       "    <tr>\n",
       "      <th>2</th>\n",
       "      <td>Mario Kart Wii</td>\n",
       "      <td>Wii</td>\n",
       "      <td>2008</td>\n",
       "      <td>Racing</td>\n",
       "      <td>15.68</td>\n",
       "      <td>12.76</td>\n",
       "      <td>3.79</td>\n",
       "      <td>3.29</td>\n",
       "      <td>82.0</td>\n",
       "      <td>8.3</td>\n",
       "      <td>E</td>\n",
       "    </tr>\n",
       "    <tr>\n",
       "      <th>3</th>\n",
       "      <td>Wii Sports Resort</td>\n",
       "      <td>Wii</td>\n",
       "      <td>2009</td>\n",
       "      <td>Sports</td>\n",
       "      <td>15.61</td>\n",
       "      <td>10.93</td>\n",
       "      <td>3.28</td>\n",
       "      <td>2.95</td>\n",
       "      <td>80.0</td>\n",
       "      <td>8</td>\n",
       "      <td>E</td>\n",
       "    </tr>\n",
       "    <tr>\n",
       "      <th>4</th>\n",
       "      <td>Pokemon Red/Pokemon Blue</td>\n",
       "      <td>GB</td>\n",
       "      <td>1996</td>\n",
       "      <td>Role-Playing</td>\n",
       "      <td>11.27</td>\n",
       "      <td>8.89</td>\n",
       "      <td>10.22</td>\n",
       "      <td>1.00</td>\n",
       "      <td>NaN</td>\n",
       "      <td>NaN</td>\n",
       "      <td>NaN</td>\n",
       "    </tr>\n",
       "  </tbody>\n",
       "</table>\n",
       "</div>"
      ],
      "text/plain": [
       "                       name platform  year_of_release         genre  na_sales  \\\n",
       "0                Wii Sports      Wii             2006        Sports     41.36   \n",
       "1         Super Mario Bros.      NES             1985      Platform     29.08   \n",
       "2            Mario Kart Wii      Wii             2008        Racing     15.68   \n",
       "3         Wii Sports Resort      Wii             2009        Sports     15.61   \n",
       "4  Pokemon Red/Pokemon Blue       GB             1996  Role-Playing     11.27   \n",
       "\n",
       "   eu_sales  jp_sales  other_sales  critic_score user_score rating  \n",
       "0     28.96      3.77         8.45          76.0          8      E  \n",
       "1      3.58      6.81         0.77           NaN        NaN    NaN  \n",
       "2     12.76      3.79         3.29          82.0        8.3      E  \n",
       "3     10.93      3.28         2.95          80.0          8      E  \n",
       "4      8.89     10.22         1.00           NaN        NaN    NaN  "
      ]
     },
     "execution_count": 571,
     "metadata": {},
     "output_type": "execute_result"
    }
   ],
   "source": [
    "data.head()"
   ]
  },
  {
   "cell_type": "code",
   "execution_count": 572,
   "metadata": {},
   "outputs": [
    {
     "data": {
      "text/html": [
       "<div>\n",
       "<style scoped>\n",
       "    .dataframe tbody tr th:only-of-type {\n",
       "        vertical-align: middle;\n",
       "    }\n",
       "\n",
       "    .dataframe tbody tr th {\n",
       "        vertical-align: top;\n",
       "    }\n",
       "\n",
       "    .dataframe thead th {\n",
       "        text-align: right;\n",
       "    }\n",
       "</style>\n",
       "<table border=\"1\" class=\"dataframe\">\n",
       "  <thead>\n",
       "    <tr style=\"text-align: right;\">\n",
       "      <th></th>\n",
       "      <th>name</th>\n",
       "      <th>platform</th>\n",
       "      <th>year_of_release</th>\n",
       "      <th>genre</th>\n",
       "      <th>na_sales</th>\n",
       "      <th>eu_sales</th>\n",
       "      <th>jp_sales</th>\n",
       "      <th>other_sales</th>\n",
       "      <th>critic_score</th>\n",
       "      <th>user_score</th>\n",
       "      <th>rating</th>\n",
       "      <th>total_sales</th>\n",
       "    </tr>\n",
       "  </thead>\n",
       "  <tbody>\n",
       "    <tr>\n",
       "      <th>0</th>\n",
       "      <td>Wii Sports</td>\n",
       "      <td>Wii</td>\n",
       "      <td>2006</td>\n",
       "      <td>Sports</td>\n",
       "      <td>41.36</td>\n",
       "      <td>28.96</td>\n",
       "      <td>3.77</td>\n",
       "      <td>8.45</td>\n",
       "      <td>76.0</td>\n",
       "      <td>8</td>\n",
       "      <td>E</td>\n",
       "      <td>82.54</td>\n",
       "    </tr>\n",
       "    <tr>\n",
       "      <th>1</th>\n",
       "      <td>Super Mario Bros.</td>\n",
       "      <td>NES</td>\n",
       "      <td>1985</td>\n",
       "      <td>Platform</td>\n",
       "      <td>29.08</td>\n",
       "      <td>3.58</td>\n",
       "      <td>6.81</td>\n",
       "      <td>0.77</td>\n",
       "      <td>NaN</td>\n",
       "      <td>NaN</td>\n",
       "      <td>NaN</td>\n",
       "      <td>40.24</td>\n",
       "    </tr>\n",
       "    <tr>\n",
       "      <th>2</th>\n",
       "      <td>Mario Kart Wii</td>\n",
       "      <td>Wii</td>\n",
       "      <td>2008</td>\n",
       "      <td>Racing</td>\n",
       "      <td>15.68</td>\n",
       "      <td>12.76</td>\n",
       "      <td>3.79</td>\n",
       "      <td>3.29</td>\n",
       "      <td>82.0</td>\n",
       "      <td>8.3</td>\n",
       "      <td>E</td>\n",
       "      <td>35.52</td>\n",
       "    </tr>\n",
       "    <tr>\n",
       "      <th>3</th>\n",
       "      <td>Wii Sports Resort</td>\n",
       "      <td>Wii</td>\n",
       "      <td>2009</td>\n",
       "      <td>Sports</td>\n",
       "      <td>15.61</td>\n",
       "      <td>10.93</td>\n",
       "      <td>3.28</td>\n",
       "      <td>2.95</td>\n",
       "      <td>80.0</td>\n",
       "      <td>8</td>\n",
       "      <td>E</td>\n",
       "      <td>32.77</td>\n",
       "    </tr>\n",
       "    <tr>\n",
       "      <th>4</th>\n",
       "      <td>Pokemon Red/Pokemon Blue</td>\n",
       "      <td>GB</td>\n",
       "      <td>1996</td>\n",
       "      <td>Role-Playing</td>\n",
       "      <td>11.27</td>\n",
       "      <td>8.89</td>\n",
       "      <td>10.22</td>\n",
       "      <td>1.00</td>\n",
       "      <td>NaN</td>\n",
       "      <td>NaN</td>\n",
       "      <td>NaN</td>\n",
       "      <td>31.38</td>\n",
       "    </tr>\n",
       "    <tr>\n",
       "      <th>...</th>\n",
       "      <td>...</td>\n",
       "      <td>...</td>\n",
       "      <td>...</td>\n",
       "      <td>...</td>\n",
       "      <td>...</td>\n",
       "      <td>...</td>\n",
       "      <td>...</td>\n",
       "      <td>...</td>\n",
       "      <td>...</td>\n",
       "      <td>...</td>\n",
       "      <td>...</td>\n",
       "      <td>...</td>\n",
       "    </tr>\n",
       "    <tr>\n",
       "      <th>16710</th>\n",
       "      <td>Samurai Warriors: Sanada Maru</td>\n",
       "      <td>PS3</td>\n",
       "      <td>2016</td>\n",
       "      <td>Action</td>\n",
       "      <td>0.00</td>\n",
       "      <td>0.00</td>\n",
       "      <td>0.01</td>\n",
       "      <td>0.00</td>\n",
       "      <td>NaN</td>\n",
       "      <td>NaN</td>\n",
       "      <td>NaN</td>\n",
       "      <td>0.01</td>\n",
       "    </tr>\n",
       "    <tr>\n",
       "      <th>16711</th>\n",
       "      <td>LMA Manager 2007</td>\n",
       "      <td>X360</td>\n",
       "      <td>2006</td>\n",
       "      <td>Sports</td>\n",
       "      <td>0.00</td>\n",
       "      <td>0.01</td>\n",
       "      <td>0.00</td>\n",
       "      <td>0.00</td>\n",
       "      <td>NaN</td>\n",
       "      <td>NaN</td>\n",
       "      <td>NaN</td>\n",
       "      <td>0.01</td>\n",
       "    </tr>\n",
       "    <tr>\n",
       "      <th>16712</th>\n",
       "      <td>Haitaka no Psychedelica</td>\n",
       "      <td>PSV</td>\n",
       "      <td>2016</td>\n",
       "      <td>Adventure</td>\n",
       "      <td>0.00</td>\n",
       "      <td>0.00</td>\n",
       "      <td>0.01</td>\n",
       "      <td>0.00</td>\n",
       "      <td>NaN</td>\n",
       "      <td>NaN</td>\n",
       "      <td>NaN</td>\n",
       "      <td>0.01</td>\n",
       "    </tr>\n",
       "    <tr>\n",
       "      <th>16713</th>\n",
       "      <td>Spirits &amp; Spells</td>\n",
       "      <td>GBA</td>\n",
       "      <td>2003</td>\n",
       "      <td>Platform</td>\n",
       "      <td>0.01</td>\n",
       "      <td>0.00</td>\n",
       "      <td>0.00</td>\n",
       "      <td>0.00</td>\n",
       "      <td>NaN</td>\n",
       "      <td>NaN</td>\n",
       "      <td>NaN</td>\n",
       "      <td>0.01</td>\n",
       "    </tr>\n",
       "    <tr>\n",
       "      <th>16714</th>\n",
       "      <td>Winning Post 8 2016</td>\n",
       "      <td>PSV</td>\n",
       "      <td>2016</td>\n",
       "      <td>Simulation</td>\n",
       "      <td>0.00</td>\n",
       "      <td>0.00</td>\n",
       "      <td>0.01</td>\n",
       "      <td>0.00</td>\n",
       "      <td>NaN</td>\n",
       "      <td>NaN</td>\n",
       "      <td>NaN</td>\n",
       "      <td>0.01</td>\n",
       "    </tr>\n",
       "  </tbody>\n",
       "</table>\n",
       "<p>16713 rows × 12 columns</p>\n",
       "</div>"
      ],
      "text/plain": [
       "                                name platform  year_of_release         genre  \\\n",
       "0                         Wii Sports      Wii             2006        Sports   \n",
       "1                  Super Mario Bros.      NES             1985      Platform   \n",
       "2                     Mario Kart Wii      Wii             2008        Racing   \n",
       "3                  Wii Sports Resort      Wii             2009        Sports   \n",
       "4           Pokemon Red/Pokemon Blue       GB             1996  Role-Playing   \n",
       "...                              ...      ...              ...           ...   \n",
       "16710  Samurai Warriors: Sanada Maru      PS3             2016        Action   \n",
       "16711               LMA Manager 2007     X360             2006        Sports   \n",
       "16712        Haitaka no Psychedelica      PSV             2016     Adventure   \n",
       "16713               Spirits & Spells      GBA             2003      Platform   \n",
       "16714            Winning Post 8 2016      PSV             2016    Simulation   \n",
       "\n",
       "       na_sales  eu_sales  jp_sales  other_sales  critic_score user_score  \\\n",
       "0         41.36     28.96      3.77         8.45          76.0          8   \n",
       "1         29.08      3.58      6.81         0.77           NaN        NaN   \n",
       "2         15.68     12.76      3.79         3.29          82.0        8.3   \n",
       "3         15.61     10.93      3.28         2.95          80.0          8   \n",
       "4         11.27      8.89     10.22         1.00           NaN        NaN   \n",
       "...         ...       ...       ...          ...           ...        ...   \n",
       "16710      0.00      0.00      0.01         0.00           NaN        NaN   \n",
       "16711      0.00      0.01      0.00         0.00           NaN        NaN   \n",
       "16712      0.00      0.00      0.01         0.00           NaN        NaN   \n",
       "16713      0.01      0.00      0.00         0.00           NaN        NaN   \n",
       "16714      0.00      0.00      0.01         0.00           NaN        NaN   \n",
       "\n",
       "      rating  total_sales  \n",
       "0          E        82.54  \n",
       "1        NaN        40.24  \n",
       "2          E        35.52  \n",
       "3          E        32.77  \n",
       "4        NaN        31.38  \n",
       "...      ...          ...  \n",
       "16710    NaN         0.01  \n",
       "16711    NaN         0.01  \n",
       "16712    NaN         0.01  \n",
       "16713    NaN         0.01  \n",
       "16714    NaN         0.01  \n",
       "\n",
       "[16713 rows x 12 columns]"
      ]
     },
     "execution_count": 572,
     "metadata": {},
     "output_type": "execute_result"
    }
   ],
   "source": [
    "data['total_sales'] = data[['na_sales', 'eu_sales', 'jp_sales', 'other_sales']].sum(axis=1)\n",
    "data"
   ]
  },
  {
   "cell_type": "markdown",
   "metadata": {},
   "source": [
    " With the missing values in critic_score, user_score, Rating, there are so many missing values in those columns.\n",
    "Maybe those are new games; we also have to consider that not everybody leaves a review and rate a game after he plays it, even if he enjoys it.\n",
    "We also can't just remove these rows from the data because it is almost half of the data.\n",
    "\n",
    "From a logical point of view, there is a relationship between those three columns.\n",
    "We can assume that the critic score is professional people criticizing the game, which comes before user_score(the gamer who scores the game).\n",
    "There is an almost identical amount of missing values with Rating and user score, but Rating he's a little bit less missing values, and we can assume that it comes after the user_score score a game.\n",
    "Let's fill the values of those columns by the median of each other.\n"
   ]
  },
  {
   "cell_type": "code",
   "execution_count": 573,
   "metadata": {},
   "outputs": [
    {
     "data": {
      "text/html": [
       "<div>\n",
       "<style scoped>\n",
       "    .dataframe tbody tr th:only-of-type {\n",
       "        vertical-align: middle;\n",
       "    }\n",
       "\n",
       "    .dataframe tbody tr th {\n",
       "        vertical-align: top;\n",
       "    }\n",
       "\n",
       "    .dataframe thead th {\n",
       "        text-align: right;\n",
       "    }\n",
       "</style>\n",
       "<table border=\"1\" class=\"dataframe\">\n",
       "  <thead>\n",
       "    <tr style=\"text-align: right;\">\n",
       "      <th></th>\n",
       "      <th>missing</th>\n",
       "      <th>total</th>\n",
       "      <th>percent</th>\n",
       "    </tr>\n",
       "  </thead>\n",
       "  <tbody>\n",
       "    <tr>\n",
       "      <th>critic_score</th>\n",
       "      <td>8576</td>\n",
       "      <td>16713</td>\n",
       "      <td>51.313349</td>\n",
       "    </tr>\n",
       "    <tr>\n",
       "      <th>rating</th>\n",
       "      <td>6764</td>\n",
       "      <td>16713</td>\n",
       "      <td>40.471489</td>\n",
       "    </tr>\n",
       "    <tr>\n",
       "      <th>user_score</th>\n",
       "      <td>6699</td>\n",
       "      <td>16713</td>\n",
       "      <td>40.082570</td>\n",
       "    </tr>\n",
       "    <tr>\n",
       "      <th>name</th>\n",
       "      <td>0</td>\n",
       "      <td>16713</td>\n",
       "      <td>0.000000</td>\n",
       "    </tr>\n",
       "    <tr>\n",
       "      <th>platform</th>\n",
       "      <td>0</td>\n",
       "      <td>16713</td>\n",
       "      <td>0.000000</td>\n",
       "    </tr>\n",
       "    <tr>\n",
       "      <th>year_of_release</th>\n",
       "      <td>0</td>\n",
       "      <td>16713</td>\n",
       "      <td>0.000000</td>\n",
       "    </tr>\n",
       "    <tr>\n",
       "      <th>genre</th>\n",
       "      <td>0</td>\n",
       "      <td>16713</td>\n",
       "      <td>0.000000</td>\n",
       "    </tr>\n",
       "    <tr>\n",
       "      <th>na_sales</th>\n",
       "      <td>0</td>\n",
       "      <td>16713</td>\n",
       "      <td>0.000000</td>\n",
       "    </tr>\n",
       "    <tr>\n",
       "      <th>eu_sales</th>\n",
       "      <td>0</td>\n",
       "      <td>16713</td>\n",
       "      <td>0.000000</td>\n",
       "    </tr>\n",
       "    <tr>\n",
       "      <th>jp_sales</th>\n",
       "      <td>0</td>\n",
       "      <td>16713</td>\n",
       "      <td>0.000000</td>\n",
       "    </tr>\n",
       "    <tr>\n",
       "      <th>other_sales</th>\n",
       "      <td>0</td>\n",
       "      <td>16713</td>\n",
       "      <td>0.000000</td>\n",
       "    </tr>\n",
       "    <tr>\n",
       "      <th>total_sales</th>\n",
       "      <td>0</td>\n",
       "      <td>16713</td>\n",
       "      <td>0.000000</td>\n",
       "    </tr>\n",
       "  </tbody>\n",
       "</table>\n",
       "</div>"
      ],
      "text/plain": [
       "                 missing  total    percent\n",
       "critic_score        8576  16713  51.313349\n",
       "rating              6764  16713  40.471489\n",
       "user_score          6699  16713  40.082570\n",
       "name                   0  16713   0.000000\n",
       "platform               0  16713   0.000000\n",
       "year_of_release        0  16713   0.000000\n",
       "genre                  0  16713   0.000000\n",
       "na_sales               0  16713   0.000000\n",
       "eu_sales               0  16713   0.000000\n",
       "jp_sales               0  16713   0.000000\n",
       "other_sales            0  16713   0.000000\n",
       "total_sales            0  16713   0.000000"
      ]
     },
     "execution_count": 573,
     "metadata": {},
     "output_type": "execute_result"
    }
   ],
   "source": [
    "data.stb.missing()"
   ]
  },
  {
   "cell_type": "code",
   "execution_count": 574,
   "metadata": {},
   "outputs": [],
   "source": [
    "data['user_score'] = data['user_score'].fillna(data.groupby(['rating', 'critic_score'])['user_score'].transform('median'))"
   ]
  },
  {
   "cell_type": "code",
   "execution_count": 575,
   "metadata": {},
   "outputs": [
    {
     "data": {
      "text/html": [
       "<div>\n",
       "<style scoped>\n",
       "    .dataframe tbody tr th:only-of-type {\n",
       "        vertical-align: middle;\n",
       "    }\n",
       "\n",
       "    .dataframe tbody tr th {\n",
       "        vertical-align: top;\n",
       "    }\n",
       "\n",
       "    .dataframe thead th {\n",
       "        text-align: right;\n",
       "    }\n",
       "</style>\n",
       "<table border=\"1\" class=\"dataframe\">\n",
       "  <thead>\n",
       "    <tr style=\"text-align: right;\">\n",
       "      <th></th>\n",
       "      <th>missing</th>\n",
       "      <th>total</th>\n",
       "      <th>percent</th>\n",
       "    </tr>\n",
       "  </thead>\n",
       "  <tbody>\n",
       "    <tr>\n",
       "      <th>critic_score</th>\n",
       "      <td>8576</td>\n",
       "      <td>16713</td>\n",
       "      <td>51.313349</td>\n",
       "    </tr>\n",
       "    <tr>\n",
       "      <th>rating</th>\n",
       "      <td>6764</td>\n",
       "      <td>16713</td>\n",
       "      <td>40.471489</td>\n",
       "    </tr>\n",
       "    <tr>\n",
       "      <th>user_score</th>\n",
       "      <td>6671</td>\n",
       "      <td>16713</td>\n",
       "      <td>39.915036</td>\n",
       "    </tr>\n",
       "    <tr>\n",
       "      <th>name</th>\n",
       "      <td>0</td>\n",
       "      <td>16713</td>\n",
       "      <td>0.000000</td>\n",
       "    </tr>\n",
       "    <tr>\n",
       "      <th>platform</th>\n",
       "      <td>0</td>\n",
       "      <td>16713</td>\n",
       "      <td>0.000000</td>\n",
       "    </tr>\n",
       "    <tr>\n",
       "      <th>year_of_release</th>\n",
       "      <td>0</td>\n",
       "      <td>16713</td>\n",
       "      <td>0.000000</td>\n",
       "    </tr>\n",
       "    <tr>\n",
       "      <th>genre</th>\n",
       "      <td>0</td>\n",
       "      <td>16713</td>\n",
       "      <td>0.000000</td>\n",
       "    </tr>\n",
       "    <tr>\n",
       "      <th>na_sales</th>\n",
       "      <td>0</td>\n",
       "      <td>16713</td>\n",
       "      <td>0.000000</td>\n",
       "    </tr>\n",
       "    <tr>\n",
       "      <th>eu_sales</th>\n",
       "      <td>0</td>\n",
       "      <td>16713</td>\n",
       "      <td>0.000000</td>\n",
       "    </tr>\n",
       "    <tr>\n",
       "      <th>jp_sales</th>\n",
       "      <td>0</td>\n",
       "      <td>16713</td>\n",
       "      <td>0.000000</td>\n",
       "    </tr>\n",
       "    <tr>\n",
       "      <th>other_sales</th>\n",
       "      <td>0</td>\n",
       "      <td>16713</td>\n",
       "      <td>0.000000</td>\n",
       "    </tr>\n",
       "    <tr>\n",
       "      <th>total_sales</th>\n",
       "      <td>0</td>\n",
       "      <td>16713</td>\n",
       "      <td>0.000000</td>\n",
       "    </tr>\n",
       "  </tbody>\n",
       "</table>\n",
       "</div>"
      ],
      "text/plain": [
       "                 missing  total    percent\n",
       "critic_score        8576  16713  51.313349\n",
       "rating              6764  16713  40.471489\n",
       "user_score          6671  16713  39.915036\n",
       "name                   0  16713   0.000000\n",
       "platform               0  16713   0.000000\n",
       "year_of_release        0  16713   0.000000\n",
       "genre                  0  16713   0.000000\n",
       "na_sales               0  16713   0.000000\n",
       "eu_sales               0  16713   0.000000\n",
       "jp_sales               0  16713   0.000000\n",
       "other_sales            0  16713   0.000000\n",
       "total_sales            0  16713   0.000000"
      ]
     },
     "execution_count": 575,
     "metadata": {},
     "output_type": "execute_result"
    }
   ],
   "source": [
    "data.stb.missing()"
   ]
  },
  {
   "cell_type": "code",
   "execution_count": 576,
   "metadata": {},
   "outputs": [],
   "source": [
    "data['critic_score'] = data['critic_score'].fillna(data.groupby(['user_score', 'rating'])['critic_score'].transform('median'))"
   ]
  },
  {
   "cell_type": "code",
   "execution_count": 577,
   "metadata": {},
   "outputs": [
    {
     "data": {
      "text/html": [
       "<div>\n",
       "<style scoped>\n",
       "    .dataframe tbody tr th:only-of-type {\n",
       "        vertical-align: middle;\n",
       "    }\n",
       "\n",
       "    .dataframe tbody tr th {\n",
       "        vertical-align: top;\n",
       "    }\n",
       "\n",
       "    .dataframe thead th {\n",
       "        text-align: right;\n",
       "    }\n",
       "</style>\n",
       "<table border=\"1\" class=\"dataframe\">\n",
       "  <thead>\n",
       "    <tr style=\"text-align: right;\">\n",
       "      <th></th>\n",
       "      <th>missing</th>\n",
       "      <th>total</th>\n",
       "      <th>percent</th>\n",
       "    </tr>\n",
       "  </thead>\n",
       "  <tbody>\n",
       "    <tr>\n",
       "      <th>rating</th>\n",
       "      <td>6764</td>\n",
       "      <td>16713</td>\n",
       "      <td>40.471489</td>\n",
       "    </tr>\n",
       "    <tr>\n",
       "      <th>critic_score</th>\n",
       "      <td>6753</td>\n",
       "      <td>16713</td>\n",
       "      <td>40.405672</td>\n",
       "    </tr>\n",
       "    <tr>\n",
       "      <th>user_score</th>\n",
       "      <td>6671</td>\n",
       "      <td>16713</td>\n",
       "      <td>39.915036</td>\n",
       "    </tr>\n",
       "    <tr>\n",
       "      <th>name</th>\n",
       "      <td>0</td>\n",
       "      <td>16713</td>\n",
       "      <td>0.000000</td>\n",
       "    </tr>\n",
       "    <tr>\n",
       "      <th>platform</th>\n",
       "      <td>0</td>\n",
       "      <td>16713</td>\n",
       "      <td>0.000000</td>\n",
       "    </tr>\n",
       "    <tr>\n",
       "      <th>year_of_release</th>\n",
       "      <td>0</td>\n",
       "      <td>16713</td>\n",
       "      <td>0.000000</td>\n",
       "    </tr>\n",
       "    <tr>\n",
       "      <th>genre</th>\n",
       "      <td>0</td>\n",
       "      <td>16713</td>\n",
       "      <td>0.000000</td>\n",
       "    </tr>\n",
       "    <tr>\n",
       "      <th>na_sales</th>\n",
       "      <td>0</td>\n",
       "      <td>16713</td>\n",
       "      <td>0.000000</td>\n",
       "    </tr>\n",
       "    <tr>\n",
       "      <th>eu_sales</th>\n",
       "      <td>0</td>\n",
       "      <td>16713</td>\n",
       "      <td>0.000000</td>\n",
       "    </tr>\n",
       "    <tr>\n",
       "      <th>jp_sales</th>\n",
       "      <td>0</td>\n",
       "      <td>16713</td>\n",
       "      <td>0.000000</td>\n",
       "    </tr>\n",
       "    <tr>\n",
       "      <th>other_sales</th>\n",
       "      <td>0</td>\n",
       "      <td>16713</td>\n",
       "      <td>0.000000</td>\n",
       "    </tr>\n",
       "    <tr>\n",
       "      <th>total_sales</th>\n",
       "      <td>0</td>\n",
       "      <td>16713</td>\n",
       "      <td>0.000000</td>\n",
       "    </tr>\n",
       "  </tbody>\n",
       "</table>\n",
       "</div>"
      ],
      "text/plain": [
       "                 missing  total    percent\n",
       "rating              6764  16713  40.471489\n",
       "critic_score        6753  16713  40.405672\n",
       "user_score          6671  16713  39.915036\n",
       "name                   0  16713   0.000000\n",
       "platform               0  16713   0.000000\n",
       "year_of_release        0  16713   0.000000\n",
       "genre                  0  16713   0.000000\n",
       "na_sales               0  16713   0.000000\n",
       "eu_sales               0  16713   0.000000\n",
       "jp_sales               0  16713   0.000000\n",
       "other_sales            0  16713   0.000000\n",
       "total_sales            0  16713   0.000000"
      ]
     },
     "execution_count": 577,
     "metadata": {},
     "output_type": "execute_result"
    }
   ],
   "source": [
    "data.stb.missing()"
   ]
  },
  {
   "cell_type": "markdown",
   "metadata": {},
   "source": [
    "We lower the number of missing values in critic_score by 10%. But there are still a large number of missing values."
   ]
  },
  {
   "cell_type": "markdown",
   "metadata": {},
   "source": [
    "Maybe we can use platforms as an anchor to fill those columns by the median Rating, critic_score, user_score of each platform."
   ]
  },
  {
   "cell_type": "code",
   "execution_count": 578,
   "metadata": {},
   "outputs": [],
   "source": [
    "data['critic_score'] = data['critic_score'].fillna(data.groupby(['platform'])['critic_score'].transform('median'))"
   ]
  },
  {
   "cell_type": "code",
   "execution_count": 579,
   "metadata": {},
   "outputs": [
    {
     "data": {
      "text/html": [
       "<div>\n",
       "<style scoped>\n",
       "    .dataframe tbody tr th:only-of-type {\n",
       "        vertical-align: middle;\n",
       "    }\n",
       "\n",
       "    .dataframe tbody tr th {\n",
       "        vertical-align: top;\n",
       "    }\n",
       "\n",
       "    .dataframe thead th {\n",
       "        text-align: right;\n",
       "    }\n",
       "</style>\n",
       "<table border=\"1\" class=\"dataframe\">\n",
       "  <thead>\n",
       "    <tr style=\"text-align: right;\">\n",
       "      <th></th>\n",
       "      <th>missing</th>\n",
       "      <th>total</th>\n",
       "      <th>percent</th>\n",
       "    </tr>\n",
       "  </thead>\n",
       "  <tbody>\n",
       "    <tr>\n",
       "      <th>rating</th>\n",
       "      <td>6764</td>\n",
       "      <td>16713</td>\n",
       "      <td>40.471489</td>\n",
       "    </tr>\n",
       "    <tr>\n",
       "      <th>user_score</th>\n",
       "      <td>6671</td>\n",
       "      <td>16713</td>\n",
       "      <td>39.915036</td>\n",
       "    </tr>\n",
       "    <tr>\n",
       "      <th>critic_score</th>\n",
       "      <td>1118</td>\n",
       "      <td>16713</td>\n",
       "      <td>6.689403</td>\n",
       "    </tr>\n",
       "    <tr>\n",
       "      <th>name</th>\n",
       "      <td>0</td>\n",
       "      <td>16713</td>\n",
       "      <td>0.000000</td>\n",
       "    </tr>\n",
       "    <tr>\n",
       "      <th>platform</th>\n",
       "      <td>0</td>\n",
       "      <td>16713</td>\n",
       "      <td>0.000000</td>\n",
       "    </tr>\n",
       "    <tr>\n",
       "      <th>year_of_release</th>\n",
       "      <td>0</td>\n",
       "      <td>16713</td>\n",
       "      <td>0.000000</td>\n",
       "    </tr>\n",
       "    <tr>\n",
       "      <th>genre</th>\n",
       "      <td>0</td>\n",
       "      <td>16713</td>\n",
       "      <td>0.000000</td>\n",
       "    </tr>\n",
       "    <tr>\n",
       "      <th>na_sales</th>\n",
       "      <td>0</td>\n",
       "      <td>16713</td>\n",
       "      <td>0.000000</td>\n",
       "    </tr>\n",
       "    <tr>\n",
       "      <th>eu_sales</th>\n",
       "      <td>0</td>\n",
       "      <td>16713</td>\n",
       "      <td>0.000000</td>\n",
       "    </tr>\n",
       "    <tr>\n",
       "      <th>jp_sales</th>\n",
       "      <td>0</td>\n",
       "      <td>16713</td>\n",
       "      <td>0.000000</td>\n",
       "    </tr>\n",
       "    <tr>\n",
       "      <th>other_sales</th>\n",
       "      <td>0</td>\n",
       "      <td>16713</td>\n",
       "      <td>0.000000</td>\n",
       "    </tr>\n",
       "    <tr>\n",
       "      <th>total_sales</th>\n",
       "      <td>0</td>\n",
       "      <td>16713</td>\n",
       "      <td>0.000000</td>\n",
       "    </tr>\n",
       "  </tbody>\n",
       "</table>\n",
       "</div>"
      ],
      "text/plain": [
       "                 missing  total    percent\n",
       "rating              6764  16713  40.471489\n",
       "user_score          6671  16713  39.915036\n",
       "critic_score        1118  16713   6.689403\n",
       "name                   0  16713   0.000000\n",
       "platform               0  16713   0.000000\n",
       "year_of_release        0  16713   0.000000\n",
       "genre                  0  16713   0.000000\n",
       "na_sales               0  16713   0.000000\n",
       "eu_sales               0  16713   0.000000\n",
       "jp_sales               0  16713   0.000000\n",
       "other_sales            0  16713   0.000000\n",
       "total_sales            0  16713   0.000000"
      ]
     },
     "execution_count": 579,
     "metadata": {},
     "output_type": "execute_result"
    }
   ],
   "source": [
    "data.stb.missing()"
   ]
  },
  {
   "cell_type": "code",
   "execution_count": 580,
   "metadata": {},
   "outputs": [],
   "source": [
    "data['user_score'] = data['user_score'].fillna(data.groupby(['platform'])['user_score'].transform('median'))"
   ]
  },
  {
   "cell_type": "code",
   "execution_count": 581,
   "metadata": {},
   "outputs": [
    {
     "data": {
      "text/html": [
       "<div>\n",
       "<style scoped>\n",
       "    .dataframe tbody tr th:only-of-type {\n",
       "        vertical-align: middle;\n",
       "    }\n",
       "\n",
       "    .dataframe tbody tr th {\n",
       "        vertical-align: top;\n",
       "    }\n",
       "\n",
       "    .dataframe thead th {\n",
       "        text-align: right;\n",
       "    }\n",
       "</style>\n",
       "<table border=\"1\" class=\"dataframe\">\n",
       "  <thead>\n",
       "    <tr style=\"text-align: right;\">\n",
       "      <th></th>\n",
       "      <th>missing</th>\n",
       "      <th>total</th>\n",
       "      <th>percent</th>\n",
       "    </tr>\n",
       "  </thead>\n",
       "  <tbody>\n",
       "    <tr>\n",
       "      <th>rating</th>\n",
       "      <td>6764</td>\n",
       "      <td>16713</td>\n",
       "      <td>40.471489</td>\n",
       "    </tr>\n",
       "    <tr>\n",
       "      <th>critic_score</th>\n",
       "      <td>1118</td>\n",
       "      <td>16713</td>\n",
       "      <td>6.689403</td>\n",
       "    </tr>\n",
       "    <tr>\n",
       "      <th>user_score</th>\n",
       "      <td>1118</td>\n",
       "      <td>16713</td>\n",
       "      <td>6.689403</td>\n",
       "    </tr>\n",
       "    <tr>\n",
       "      <th>name</th>\n",
       "      <td>0</td>\n",
       "      <td>16713</td>\n",
       "      <td>0.000000</td>\n",
       "    </tr>\n",
       "    <tr>\n",
       "      <th>platform</th>\n",
       "      <td>0</td>\n",
       "      <td>16713</td>\n",
       "      <td>0.000000</td>\n",
       "    </tr>\n",
       "    <tr>\n",
       "      <th>year_of_release</th>\n",
       "      <td>0</td>\n",
       "      <td>16713</td>\n",
       "      <td>0.000000</td>\n",
       "    </tr>\n",
       "    <tr>\n",
       "      <th>genre</th>\n",
       "      <td>0</td>\n",
       "      <td>16713</td>\n",
       "      <td>0.000000</td>\n",
       "    </tr>\n",
       "    <tr>\n",
       "      <th>na_sales</th>\n",
       "      <td>0</td>\n",
       "      <td>16713</td>\n",
       "      <td>0.000000</td>\n",
       "    </tr>\n",
       "    <tr>\n",
       "      <th>eu_sales</th>\n",
       "      <td>0</td>\n",
       "      <td>16713</td>\n",
       "      <td>0.000000</td>\n",
       "    </tr>\n",
       "    <tr>\n",
       "      <th>jp_sales</th>\n",
       "      <td>0</td>\n",
       "      <td>16713</td>\n",
       "      <td>0.000000</td>\n",
       "    </tr>\n",
       "    <tr>\n",
       "      <th>other_sales</th>\n",
       "      <td>0</td>\n",
       "      <td>16713</td>\n",
       "      <td>0.000000</td>\n",
       "    </tr>\n",
       "    <tr>\n",
       "      <th>total_sales</th>\n",
       "      <td>0</td>\n",
       "      <td>16713</td>\n",
       "      <td>0.000000</td>\n",
       "    </tr>\n",
       "  </tbody>\n",
       "</table>\n",
       "</div>"
      ],
      "text/plain": [
       "                 missing  total    percent\n",
       "rating              6764  16713  40.471489\n",
       "critic_score        1118  16713   6.689403\n",
       "user_score          1118  16713   6.689403\n",
       "name                   0  16713   0.000000\n",
       "platform               0  16713   0.000000\n",
       "year_of_release        0  16713   0.000000\n",
       "genre                  0  16713   0.000000\n",
       "na_sales               0  16713   0.000000\n",
       "eu_sales               0  16713   0.000000\n",
       "jp_sales               0  16713   0.000000\n",
       "other_sales            0  16713   0.000000\n",
       "total_sales            0  16713   0.000000"
      ]
     },
     "execution_count": 581,
     "metadata": {},
     "output_type": "execute_result"
    }
   ],
   "source": [
    "data.stb.missing()"
   ]
  },
  {
   "cell_type": "markdown",
   "metadata": {},
   "source": [
    "More than 5% of the total column of critic_score and user_score is still missing, so we cannot drop those values. Let's fill those values with a -2."
   ]
  },
  {
   "cell_type": "code",
   "execution_count": 582,
   "metadata": {},
   "outputs": [],
   "source": [
    "data['critic_score'] = data['critic_score'].fillna(-2)"
   ]
  },
  {
   "cell_type": "code",
   "execution_count": 583,
   "metadata": {},
   "outputs": [
    {
     "data": {
      "text/html": [
       "<div>\n",
       "<style scoped>\n",
       "    .dataframe tbody tr th:only-of-type {\n",
       "        vertical-align: middle;\n",
       "    }\n",
       "\n",
       "    .dataframe tbody tr th {\n",
       "        vertical-align: top;\n",
       "    }\n",
       "\n",
       "    .dataframe thead th {\n",
       "        text-align: right;\n",
       "    }\n",
       "</style>\n",
       "<table border=\"1\" class=\"dataframe\">\n",
       "  <thead>\n",
       "    <tr style=\"text-align: right;\">\n",
       "      <th></th>\n",
       "      <th>critic_score</th>\n",
       "      <th>count</th>\n",
       "      <th>percent</th>\n",
       "      <th>cumulative_count</th>\n",
       "      <th>cumulative_percent</th>\n",
       "    </tr>\n",
       "  </thead>\n",
       "  <tbody>\n",
       "    <tr>\n",
       "      <th>0</th>\n",
       "      <td>62.0</td>\n",
       "      <td>2314</td>\n",
       "      <td>13.845509</td>\n",
       "      <td>2314</td>\n",
       "      <td>13.845509</td>\n",
       "    </tr>\n",
       "    <tr>\n",
       "      <th>1</th>\n",
       "      <td>73.0</td>\n",
       "      <td>1362</td>\n",
       "      <td>8.149345</td>\n",
       "      <td>3676</td>\n",
       "      <td>21.994854</td>\n",
       "    </tr>\n",
       "    <tr>\n",
       "      <th>2</th>\n",
       "      <td>69.0</td>\n",
       "      <td>1125</td>\n",
       "      <td>6.731287</td>\n",
       "      <td>4801</td>\n",
       "      <td>28.726141</td>\n",
       "    </tr>\n",
       "    <tr>\n",
       "      <th>3</th>\n",
       "      <td>-2.0</td>\n",
       "      <td>1118</td>\n",
       "      <td>6.689403</td>\n",
       "      <td>5919</td>\n",
       "      <td>35.415545</td>\n",
       "    </tr>\n",
       "    <tr>\n",
       "      <th>4</th>\n",
       "      <td>71.0</td>\n",
       "      <td>983</td>\n",
       "      <td>5.881649</td>\n",
       "      <td>6902</td>\n",
       "      <td>41.297194</td>\n",
       "    </tr>\n",
       "    <tr>\n",
       "      <th>...</th>\n",
       "      <td>...</td>\n",
       "      <td>...</td>\n",
       "      <td>...</td>\n",
       "      <td>...</td>\n",
       "      <td>...</td>\n",
       "    </tr>\n",
       "    <tr>\n",
       "      <th>109</th>\n",
       "      <td>41.5</td>\n",
       "      <td>1</td>\n",
       "      <td>0.005983</td>\n",
       "      <td>16709</td>\n",
       "      <td>99.976067</td>\n",
       "    </tr>\n",
       "    <tr>\n",
       "      <th>110</th>\n",
       "      <td>22.0</td>\n",
       "      <td>1</td>\n",
       "      <td>0.005983</td>\n",
       "      <td>16710</td>\n",
       "      <td>99.982050</td>\n",
       "    </tr>\n",
       "    <tr>\n",
       "      <th>111</th>\n",
       "      <td>21.0</td>\n",
       "      <td>1</td>\n",
       "      <td>0.005983</td>\n",
       "      <td>16711</td>\n",
       "      <td>99.988033</td>\n",
       "    </tr>\n",
       "    <tr>\n",
       "      <th>112</th>\n",
       "      <td>17.0</td>\n",
       "      <td>1</td>\n",
       "      <td>0.005983</td>\n",
       "      <td>16712</td>\n",
       "      <td>99.994017</td>\n",
       "    </tr>\n",
       "    <tr>\n",
       "      <th>113</th>\n",
       "      <td>13.0</td>\n",
       "      <td>1</td>\n",
       "      <td>0.005983</td>\n",
       "      <td>16713</td>\n",
       "      <td>100.000000</td>\n",
       "    </tr>\n",
       "  </tbody>\n",
       "</table>\n",
       "<p>114 rows × 5 columns</p>\n",
       "</div>"
      ],
      "text/plain": [
       "     critic_score  count    percent  cumulative_count  cumulative_percent\n",
       "0            62.0   2314  13.845509              2314           13.845509\n",
       "1            73.0   1362   8.149345              3676           21.994854\n",
       "2            69.0   1125   6.731287              4801           28.726141\n",
       "3            -2.0   1118   6.689403              5919           35.415545\n",
       "4            71.0    983   5.881649              6902           41.297194\n",
       "..            ...    ...        ...               ...                 ...\n",
       "109          41.5      1   0.005983             16709           99.976067\n",
       "110          22.0      1   0.005983             16710           99.982050\n",
       "111          21.0      1   0.005983             16711           99.988033\n",
       "112          17.0      1   0.005983             16712           99.994017\n",
       "113          13.0      1   0.005983             16713          100.000000\n",
       "\n",
       "[114 rows x 5 columns]"
      ]
     },
     "execution_count": 583,
     "metadata": {},
     "output_type": "execute_result"
    }
   ],
   "source": [
    "data.stb.freq(['critic_score'])"
   ]
  },
  {
   "cell_type": "code",
   "execution_count": 584,
   "metadata": {},
   "outputs": [],
   "source": [
    "data['user_score'] = data['user_score'].fillna(-2) "
   ]
  },
  {
   "cell_type": "code",
   "execution_count": 585,
   "metadata": {},
   "outputs": [
    {
     "data": {
      "text/html": [
       "<div>\n",
       "<style scoped>\n",
       "    .dataframe tbody tr th:only-of-type {\n",
       "        vertical-align: middle;\n",
       "    }\n",
       "\n",
       "    .dataframe tbody tr th {\n",
       "        vertical-align: top;\n",
       "    }\n",
       "\n",
       "    .dataframe thead th {\n",
       "        text-align: right;\n",
       "    }\n",
       "</style>\n",
       "<table border=\"1\" class=\"dataframe\">\n",
       "  <thead>\n",
       "    <tr style=\"text-align: right;\">\n",
       "      <th></th>\n",
       "      <th>user_score</th>\n",
       "      <th>count</th>\n",
       "      <th>percent</th>\n",
       "      <th>cumulative_count</th>\n",
       "      <th>cumulative_percent</th>\n",
       "    </tr>\n",
       "  </thead>\n",
       "  <tbody>\n",
       "    <tr>\n",
       "      <th>0</th>\n",
       "      <td>-1.0</td>\n",
       "      <td>3601</td>\n",
       "      <td>21.546102</td>\n",
       "      <td>3601</td>\n",
       "      <td>21.546102</td>\n",
       "    </tr>\n",
       "    <tr>\n",
       "      <th>1</th>\n",
       "      <td>-2</td>\n",
       "      <td>1118</td>\n",
       "      <td>6.689403</td>\n",
       "      <td>4719</td>\n",
       "      <td>28.235505</td>\n",
       "    </tr>\n",
       "    <tr>\n",
       "      <th>2</th>\n",
       "      <td>7.8</td>\n",
       "      <td>983</td>\n",
       "      <td>5.881649</td>\n",
       "      <td>5702</td>\n",
       "      <td>34.117154</td>\n",
       "    </tr>\n",
       "    <tr>\n",
       "      <th>3</th>\n",
       "      <td>7.7</td>\n",
       "      <td>680</td>\n",
       "      <td>4.068689</td>\n",
       "      <td>6382</td>\n",
       "      <td>38.185843</td>\n",
       "    </tr>\n",
       "    <tr>\n",
       "      <th>4</th>\n",
       "      <td>7.1</td>\n",
       "      <td>665</td>\n",
       "      <td>3.978939</td>\n",
       "      <td>7047</td>\n",
       "      <td>42.164782</td>\n",
       "    </tr>\n",
       "    <tr>\n",
       "      <th>...</th>\n",
       "      <td>...</td>\n",
       "      <td>...</td>\n",
       "      <td>...</td>\n",
       "      <td>...</td>\n",
       "      <td>...</td>\n",
       "    </tr>\n",
       "    <tr>\n",
       "      <th>119</th>\n",
       "      <td>5.4</td>\n",
       "      <td>1</td>\n",
       "      <td>0.005983</td>\n",
       "      <td>16709</td>\n",
       "      <td>99.976067</td>\n",
       "    </tr>\n",
       "    <tr>\n",
       "      <th>120</th>\n",
       "      <td>4.9</td>\n",
       "      <td>1</td>\n",
       "      <td>0.005983</td>\n",
       "      <td>16710</td>\n",
       "      <td>99.982050</td>\n",
       "    </tr>\n",
       "    <tr>\n",
       "      <th>121</th>\n",
       "      <td>4.3</td>\n",
       "      <td>1</td>\n",
       "      <td>0.005983</td>\n",
       "      <td>16711</td>\n",
       "      <td>99.988033</td>\n",
       "    </tr>\n",
       "    <tr>\n",
       "      <th>122</th>\n",
       "      <td>4.2</td>\n",
       "      <td>1</td>\n",
       "      <td>0.005983</td>\n",
       "      <td>16712</td>\n",
       "      <td>99.994017</td>\n",
       "    </tr>\n",
       "    <tr>\n",
       "      <th>123</th>\n",
       "      <td>4.05</td>\n",
       "      <td>1</td>\n",
       "      <td>0.005983</td>\n",
       "      <td>16713</td>\n",
       "      <td>100.000000</td>\n",
       "    </tr>\n",
       "  </tbody>\n",
       "</table>\n",
       "<p>124 rows × 5 columns</p>\n",
       "</div>"
      ],
      "text/plain": [
       "    user_score  count    percent  cumulative_count  cumulative_percent\n",
       "0         -1.0   3601  21.546102              3601           21.546102\n",
       "1           -2   1118   6.689403              4719           28.235505\n",
       "2          7.8    983   5.881649              5702           34.117154\n",
       "3          7.7    680   4.068689              6382           38.185843\n",
       "4          7.1    665   3.978939              7047           42.164782\n",
       "..         ...    ...        ...               ...                 ...\n",
       "119        5.4      1   0.005983             16709           99.976067\n",
       "120        4.9      1   0.005983             16710           99.982050\n",
       "121        4.3      1   0.005983             16711           99.988033\n",
       "122        4.2      1   0.005983             16712           99.994017\n",
       "123       4.05      1   0.005983             16713          100.000000\n",
       "\n",
       "[124 rows x 5 columns]"
      ]
     },
     "execution_count": 585,
     "metadata": {},
     "output_type": "execute_result"
    }
   ],
   "source": [
    "data.stb.freq(['user_score'])"
   ]
  },
  {
   "cell_type": "code",
   "execution_count": 586,
   "metadata": {},
   "outputs": [
    {
     "data": {
      "text/html": [
       "<div>\n",
       "<style scoped>\n",
       "    .dataframe tbody tr th:only-of-type {\n",
       "        vertical-align: middle;\n",
       "    }\n",
       "\n",
       "    .dataframe tbody tr th {\n",
       "        vertical-align: top;\n",
       "    }\n",
       "\n",
       "    .dataframe thead th {\n",
       "        text-align: right;\n",
       "    }\n",
       "</style>\n",
       "<table border=\"1\" class=\"dataframe\">\n",
       "  <thead>\n",
       "    <tr style=\"text-align: right;\">\n",
       "      <th></th>\n",
       "      <th>missing</th>\n",
       "      <th>total</th>\n",
       "      <th>percent</th>\n",
       "    </tr>\n",
       "  </thead>\n",
       "  <tbody>\n",
       "    <tr>\n",
       "      <th>rating</th>\n",
       "      <td>6764</td>\n",
       "      <td>16713</td>\n",
       "      <td>40.471489</td>\n",
       "    </tr>\n",
       "    <tr>\n",
       "      <th>name</th>\n",
       "      <td>0</td>\n",
       "      <td>16713</td>\n",
       "      <td>0.000000</td>\n",
       "    </tr>\n",
       "    <tr>\n",
       "      <th>platform</th>\n",
       "      <td>0</td>\n",
       "      <td>16713</td>\n",
       "      <td>0.000000</td>\n",
       "    </tr>\n",
       "    <tr>\n",
       "      <th>year_of_release</th>\n",
       "      <td>0</td>\n",
       "      <td>16713</td>\n",
       "      <td>0.000000</td>\n",
       "    </tr>\n",
       "    <tr>\n",
       "      <th>genre</th>\n",
       "      <td>0</td>\n",
       "      <td>16713</td>\n",
       "      <td>0.000000</td>\n",
       "    </tr>\n",
       "    <tr>\n",
       "      <th>na_sales</th>\n",
       "      <td>0</td>\n",
       "      <td>16713</td>\n",
       "      <td>0.000000</td>\n",
       "    </tr>\n",
       "    <tr>\n",
       "      <th>eu_sales</th>\n",
       "      <td>0</td>\n",
       "      <td>16713</td>\n",
       "      <td>0.000000</td>\n",
       "    </tr>\n",
       "    <tr>\n",
       "      <th>jp_sales</th>\n",
       "      <td>0</td>\n",
       "      <td>16713</td>\n",
       "      <td>0.000000</td>\n",
       "    </tr>\n",
       "    <tr>\n",
       "      <th>other_sales</th>\n",
       "      <td>0</td>\n",
       "      <td>16713</td>\n",
       "      <td>0.000000</td>\n",
       "    </tr>\n",
       "    <tr>\n",
       "      <th>critic_score</th>\n",
       "      <td>0</td>\n",
       "      <td>16713</td>\n",
       "      <td>0.000000</td>\n",
       "    </tr>\n",
       "    <tr>\n",
       "      <th>user_score</th>\n",
       "      <td>0</td>\n",
       "      <td>16713</td>\n",
       "      <td>0.000000</td>\n",
       "    </tr>\n",
       "    <tr>\n",
       "      <th>total_sales</th>\n",
       "      <td>0</td>\n",
       "      <td>16713</td>\n",
       "      <td>0.000000</td>\n",
       "    </tr>\n",
       "  </tbody>\n",
       "</table>\n",
       "</div>"
      ],
      "text/plain": [
       "                 missing  total    percent\n",
       "rating              6764  16713  40.471489\n",
       "name                   0  16713   0.000000\n",
       "platform               0  16713   0.000000\n",
       "year_of_release        0  16713   0.000000\n",
       "genre                  0  16713   0.000000\n",
       "na_sales               0  16713   0.000000\n",
       "eu_sales               0  16713   0.000000\n",
       "jp_sales               0  16713   0.000000\n",
       "other_sales            0  16713   0.000000\n",
       "critic_score           0  16713   0.000000\n",
       "user_score             0  16713   0.000000\n",
       "total_sales            0  16713   0.000000"
      ]
     },
     "execution_count": 586,
     "metadata": {},
     "output_type": "execute_result"
    }
   ],
   "source": [
    "data.stb.missing()"
   ]
  },
  {
   "cell_type": "markdown",
   "metadata": {},
   "source": [
    "There are no missing values in critic_score and  user_score."
   ]
  },
  {
   "cell_type": "code",
   "execution_count": 587,
   "metadata": {},
   "outputs": [
    {
     "data": {
      "text/plain": [
       "E       3990\n",
       "T       2961\n",
       "M       1563\n",
       "E10+    1420\n",
       "EC         8\n",
       "K-A        3\n",
       "RP         3\n",
       "AO         1\n",
       "Name: rating, dtype: int64"
      ]
     },
     "execution_count": 587,
     "metadata": {},
     "output_type": "execute_result"
    }
   ],
   "source": [
    "data['rating'].value_counts()"
   ]
  },
  {
   "cell_type": "markdown",
   "metadata": {},
   "source": [
    "I can't see a creative way to fill the Rating column.\n",
    "We will fill them with a \"N/A\" value. "
   ]
  },
  {
   "cell_type": "code",
   "execution_count": 588,
   "metadata": {},
   "outputs": [],
   "source": [
    "data['rating'] = data['rating'].fillna(\"N/A\")"
   ]
  },
  {
   "cell_type": "code",
   "execution_count": 589,
   "metadata": {},
   "outputs": [
    {
     "data": {
      "text/plain": [
       "N/A     6764\n",
       "E       3990\n",
       "T       2961\n",
       "M       1563\n",
       "E10+    1420\n",
       "EC         8\n",
       "K-A        3\n",
       "RP         3\n",
       "AO         1\n",
       "Name: rating, dtype: int64"
      ]
     },
     "execution_count": 589,
     "metadata": {},
     "output_type": "execute_result"
    }
   ],
   "source": [
    "data['rating'].value_counts()"
   ]
  },
  {
   "cell_type": "code",
   "execution_count": 590,
   "metadata": {},
   "outputs": [
    {
     "data": {
      "text/html": [
       "<div>\n",
       "<style scoped>\n",
       "    .dataframe tbody tr th:only-of-type {\n",
       "        vertical-align: middle;\n",
       "    }\n",
       "\n",
       "    .dataframe tbody tr th {\n",
       "        vertical-align: top;\n",
       "    }\n",
       "\n",
       "    .dataframe thead th {\n",
       "        text-align: right;\n",
       "    }\n",
       "</style>\n",
       "<table border=\"1\" class=\"dataframe\">\n",
       "  <thead>\n",
       "    <tr style=\"text-align: right;\">\n",
       "      <th></th>\n",
       "      <th>missing</th>\n",
       "      <th>total</th>\n",
       "      <th>percent</th>\n",
       "    </tr>\n",
       "  </thead>\n",
       "  <tbody>\n",
       "    <tr>\n",
       "      <th>name</th>\n",
       "      <td>0</td>\n",
       "      <td>16713</td>\n",
       "      <td>0.0</td>\n",
       "    </tr>\n",
       "    <tr>\n",
       "      <th>platform</th>\n",
       "      <td>0</td>\n",
       "      <td>16713</td>\n",
       "      <td>0.0</td>\n",
       "    </tr>\n",
       "    <tr>\n",
       "      <th>year_of_release</th>\n",
       "      <td>0</td>\n",
       "      <td>16713</td>\n",
       "      <td>0.0</td>\n",
       "    </tr>\n",
       "    <tr>\n",
       "      <th>genre</th>\n",
       "      <td>0</td>\n",
       "      <td>16713</td>\n",
       "      <td>0.0</td>\n",
       "    </tr>\n",
       "    <tr>\n",
       "      <th>na_sales</th>\n",
       "      <td>0</td>\n",
       "      <td>16713</td>\n",
       "      <td>0.0</td>\n",
       "    </tr>\n",
       "    <tr>\n",
       "      <th>eu_sales</th>\n",
       "      <td>0</td>\n",
       "      <td>16713</td>\n",
       "      <td>0.0</td>\n",
       "    </tr>\n",
       "    <tr>\n",
       "      <th>jp_sales</th>\n",
       "      <td>0</td>\n",
       "      <td>16713</td>\n",
       "      <td>0.0</td>\n",
       "    </tr>\n",
       "    <tr>\n",
       "      <th>other_sales</th>\n",
       "      <td>0</td>\n",
       "      <td>16713</td>\n",
       "      <td>0.0</td>\n",
       "    </tr>\n",
       "    <tr>\n",
       "      <th>critic_score</th>\n",
       "      <td>0</td>\n",
       "      <td>16713</td>\n",
       "      <td>0.0</td>\n",
       "    </tr>\n",
       "    <tr>\n",
       "      <th>user_score</th>\n",
       "      <td>0</td>\n",
       "      <td>16713</td>\n",
       "      <td>0.0</td>\n",
       "    </tr>\n",
       "    <tr>\n",
       "      <th>rating</th>\n",
       "      <td>0</td>\n",
       "      <td>16713</td>\n",
       "      <td>0.0</td>\n",
       "    </tr>\n",
       "    <tr>\n",
       "      <th>total_sales</th>\n",
       "      <td>0</td>\n",
       "      <td>16713</td>\n",
       "      <td>0.0</td>\n",
       "    </tr>\n",
       "  </tbody>\n",
       "</table>\n",
       "</div>"
      ],
      "text/plain": [
       "                 missing  total  percent\n",
       "name                   0  16713      0.0\n",
       "platform               0  16713      0.0\n",
       "year_of_release        0  16713      0.0\n",
       "genre                  0  16713      0.0\n",
       "na_sales               0  16713      0.0\n",
       "eu_sales               0  16713      0.0\n",
       "jp_sales               0  16713      0.0\n",
       "other_sales            0  16713      0.0\n",
       "critic_score           0  16713      0.0\n",
       "user_score             0  16713      0.0\n",
       "rating                 0  16713      0.0\n",
       "total_sales            0  16713      0.0"
      ]
     },
     "execution_count": 590,
     "metadata": {},
     "output_type": "execute_result"
    }
   ],
   "source": [
    "data.stb.missing()"
   ]
  },
  {
   "cell_type": "markdown",
   "metadata": {},
   "source": [
    "There are no missing values in the data."
   ]
  },
  {
   "cell_type": "code",
   "execution_count": 591,
   "metadata": {},
   "outputs": [
    {
     "data": {
      "text/html": [
       "<div>\n",
       "<style scoped>\n",
       "    .dataframe tbody tr th:only-of-type {\n",
       "        vertical-align: middle;\n",
       "    }\n",
       "\n",
       "    .dataframe tbody tr th {\n",
       "        vertical-align: top;\n",
       "    }\n",
       "\n",
       "    .dataframe thead th {\n",
       "        text-align: right;\n",
       "    }\n",
       "</style>\n",
       "<table border=\"1\" class=\"dataframe\">\n",
       "  <thead>\n",
       "    <tr style=\"text-align: right;\">\n",
       "      <th></th>\n",
       "      <th>name</th>\n",
       "      <th>platform</th>\n",
       "      <th>year_of_release</th>\n",
       "      <th>genre</th>\n",
       "      <th>na_sales</th>\n",
       "      <th>eu_sales</th>\n",
       "      <th>jp_sales</th>\n",
       "      <th>other_sales</th>\n",
       "      <th>critic_score</th>\n",
       "      <th>user_score</th>\n",
       "      <th>rating</th>\n",
       "      <th>total_sales</th>\n",
       "    </tr>\n",
       "  </thead>\n",
       "  <tbody>\n",
       "    <tr>\n",
       "      <th>0</th>\n",
       "      <td>Wii Sports</td>\n",
       "      <td>Wii</td>\n",
       "      <td>2006</td>\n",
       "      <td>Sports</td>\n",
       "      <td>41.36</td>\n",
       "      <td>28.96</td>\n",
       "      <td>3.77</td>\n",
       "      <td>8.45</td>\n",
       "      <td>76.0</td>\n",
       "      <td>8</td>\n",
       "      <td>E</td>\n",
       "      <td>82.54</td>\n",
       "    </tr>\n",
       "    <tr>\n",
       "      <th>1</th>\n",
       "      <td>Super Mario Bros.</td>\n",
       "      <td>NES</td>\n",
       "      <td>1985</td>\n",
       "      <td>Platform</td>\n",
       "      <td>29.08</td>\n",
       "      <td>3.58</td>\n",
       "      <td>6.81</td>\n",
       "      <td>0.77</td>\n",
       "      <td>-2.0</td>\n",
       "      <td>-2</td>\n",
       "      <td>N/A</td>\n",
       "      <td>40.24</td>\n",
       "    </tr>\n",
       "    <tr>\n",
       "      <th>2</th>\n",
       "      <td>Mario Kart Wii</td>\n",
       "      <td>Wii</td>\n",
       "      <td>2008</td>\n",
       "      <td>Racing</td>\n",
       "      <td>15.68</td>\n",
       "      <td>12.76</td>\n",
       "      <td>3.79</td>\n",
       "      <td>3.29</td>\n",
       "      <td>82.0</td>\n",
       "      <td>8.3</td>\n",
       "      <td>E</td>\n",
       "      <td>35.52</td>\n",
       "    </tr>\n",
       "    <tr>\n",
       "      <th>3</th>\n",
       "      <td>Wii Sports Resort</td>\n",
       "      <td>Wii</td>\n",
       "      <td>2009</td>\n",
       "      <td>Sports</td>\n",
       "      <td>15.61</td>\n",
       "      <td>10.93</td>\n",
       "      <td>3.28</td>\n",
       "      <td>2.95</td>\n",
       "      <td>80.0</td>\n",
       "      <td>8</td>\n",
       "      <td>E</td>\n",
       "      <td>32.77</td>\n",
       "    </tr>\n",
       "    <tr>\n",
       "      <th>4</th>\n",
       "      <td>Pokemon Red/Pokemon Blue</td>\n",
       "      <td>GB</td>\n",
       "      <td>1996</td>\n",
       "      <td>Role-Playing</td>\n",
       "      <td>11.27</td>\n",
       "      <td>8.89</td>\n",
       "      <td>10.22</td>\n",
       "      <td>1.00</td>\n",
       "      <td>-2.0</td>\n",
       "      <td>-2</td>\n",
       "      <td>N/A</td>\n",
       "      <td>31.38</td>\n",
       "    </tr>\n",
       "  </tbody>\n",
       "</table>\n",
       "</div>"
      ],
      "text/plain": [
       "                       name platform  year_of_release         genre  na_sales  \\\n",
       "0                Wii Sports      Wii             2006        Sports     41.36   \n",
       "1         Super Mario Bros.      NES             1985      Platform     29.08   \n",
       "2            Mario Kart Wii      Wii             2008        Racing     15.68   \n",
       "3         Wii Sports Resort      Wii             2009        Sports     15.61   \n",
       "4  Pokemon Red/Pokemon Blue       GB             1996  Role-Playing     11.27   \n",
       "\n",
       "   eu_sales  jp_sales  other_sales  critic_score user_score rating  \\\n",
       "0     28.96      3.77         8.45          76.0          8      E   \n",
       "1      3.58      6.81         0.77          -2.0         -2    N/A   \n",
       "2     12.76      3.79         3.29          82.0        8.3      E   \n",
       "3     10.93      3.28         2.95          80.0          8      E   \n",
       "4      8.89     10.22         1.00          -2.0         -2    N/A   \n",
       "\n",
       "   total_sales  \n",
       "0        82.54  \n",
       "1        40.24  \n",
       "2        35.52  \n",
       "3        32.77  \n",
       "4        31.38  "
      ]
     },
     "execution_count": 591,
     "metadata": {},
     "output_type": "execute_result"
    }
   ],
   "source": [
    "data.head()"
   ]
  },
  {
   "cell_type": "code",
   "execution_count": null,
   "metadata": {},
   "outputs": [],
   "source": []
  },
  {
   "cell_type": "markdown",
   "metadata": {},
   "source": [
    "Let's look at duplicated values in each column."
   ]
  },
  {
   "cell_type": "code",
   "execution_count": 592,
   "metadata": {},
   "outputs": [
    {
     "data": {
      "text/plain": [
       "5154"
      ]
     },
     "execution_count": 592,
     "metadata": {},
     "output_type": "execute_result"
    }
   ],
   "source": [
    "data['name'].duplicated().sum()"
   ]
  },
  {
   "cell_type": "markdown",
   "metadata": {},
   "source": [
    "There are duplicated games for each platform."
   ]
  },
  {
   "cell_type": "code",
   "execution_count": 593,
   "metadata": {},
   "outputs": [
    {
     "data": {
      "text/plain": [
       "16682"
      ]
     },
     "execution_count": 593,
     "metadata": {},
     "output_type": "execute_result"
    }
   ],
   "source": [
    "data['platform'].duplicated().sum()"
   ]
  },
  {
   "cell_type": "markdown",
   "metadata": {},
   "source": [
    "The same platform creates games every year; that's ok."
   ]
  },
  {
   "cell_type": "code",
   "execution_count": 594,
   "metadata": {},
   "outputs": [
    {
     "data": {
      "text/plain": [
       "16676"
      ]
     },
     "execution_count": 594,
     "metadata": {},
     "output_type": "execute_result"
    }
   ],
   "source": [
    "data['year_of_release'].duplicated().sum()"
   ]
  },
  {
   "cell_type": "markdown",
   "metadata": {},
   "source": [
    "Multiple platforms release games in the same year. That ok."
   ]
  },
  {
   "cell_type": "code",
   "execution_count": 595,
   "metadata": {},
   "outputs": [
    {
     "data": {
      "text/plain": [
       "16701"
      ]
     },
     "execution_count": 595,
     "metadata": {},
     "output_type": "execute_result"
    }
   ],
   "source": [
    "data['genre'].duplicated().sum()"
   ]
  },
  {
   "cell_type": "markdown",
   "metadata": {},
   "source": [
    "There are lots of games in each genre, that's ok."
   ]
  },
  {
   "cell_type": "code",
   "execution_count": 596,
   "metadata": {},
   "outputs": [
    {
     "data": {
      "text/plain": [
       "16311"
      ]
     },
     "execution_count": 596,
     "metadata": {},
     "output_type": "execute_result"
    }
   ],
   "source": [
    "data['na_sales'].duplicated().sum()"
   ]
  },
  {
   "cell_type": "code",
   "execution_count": 597,
   "metadata": {},
   "outputs": [
    {
     "data": {
      "text/plain": [
       "16406"
      ]
     },
     "execution_count": 597,
     "metadata": {},
     "output_type": "execute_result"
    }
   ],
   "source": [
    "data['eu_sales'].duplicated().sum()"
   ]
  },
  {
   "cell_type": "code",
   "execution_count": 598,
   "metadata": {},
   "outputs": [
    {
     "data": {
      "text/plain": [
       "16469"
      ]
     },
     "execution_count": 598,
     "metadata": {},
     "output_type": "execute_result"
    }
   ],
   "source": [
    "data['jp_sales'].duplicated().sum()"
   ]
  },
  {
   "cell_type": "code",
   "execution_count": 599,
   "metadata": {},
   "outputs": [
    {
     "data": {
      "text/plain": [
       "16558"
      ]
     },
     "execution_count": 599,
     "metadata": {},
     "output_type": "execute_result"
    }
   ],
   "source": [
    "data['other_sales'].duplicated().sum()"
   ]
  },
  {
   "cell_type": "markdown",
   "metadata": {},
   "source": [
    "There is a lot of 0's sales for each region."
   ]
  },
  {
   "cell_type": "code",
   "execution_count": 600,
   "metadata": {},
   "outputs": [
    {
     "data": {
      "text/plain": [
       "16589"
      ]
     },
     "execution_count": 600,
     "metadata": {},
     "output_type": "execute_result"
    }
   ],
   "source": [
    "data['user_score'].duplicated().sum()"
   ]
  },
  {
   "cell_type": "code",
   "execution_count": 601,
   "metadata": {},
   "outputs": [
    {
     "data": {
      "text/plain": [
       "16599"
      ]
     },
     "execution_count": 601,
     "metadata": {},
     "output_type": "execute_result"
    }
   ],
   "source": [
    "data['critic_score'].duplicated().sum()"
   ]
  },
  {
   "cell_type": "code",
   "execution_count": 602,
   "metadata": {},
   "outputs": [
    {
     "data": {
      "text/plain": [
       "16704"
      ]
     },
     "execution_count": 602,
     "metadata": {},
     "output_type": "execute_result"
    }
   ],
   "source": [
    "data['rating'].duplicated().sum()"
   ]
  },
  {
   "cell_type": "markdown",
   "metadata": {},
   "source": [
    "There are the Same Rating, critic_score, user_score for different games."
   ]
  },
  {
   "cell_type": "code",
   "execution_count": 603,
   "metadata": {},
   "outputs": [
    {
     "data": {
      "text/plain": [
       "15706"
      ]
     },
     "execution_count": 603,
     "metadata": {},
     "output_type": "execute_result"
    }
   ],
   "source": [
    "data['total_sales'].duplicated().sum()"
   ]
  },
  {
   "cell_type": "markdown",
   "metadata": {},
   "source": [
    "0 total sales"
   ]
  },
  {
   "cell_type": "code",
   "execution_count": 604,
   "metadata": {},
   "outputs": [
    {
     "name": "stdout",
     "output_type": "stream",
     "text": [
      "<class 'pandas.core.frame.DataFrame'>\n",
      "Int64Index: 16713 entries, 0 to 16714\n",
      "Data columns (total 12 columns):\n",
      " #   Column           Non-Null Count  Dtype  \n",
      "---  ------           --------------  -----  \n",
      " 0   name             16713 non-null  object \n",
      " 1   platform         16713 non-null  object \n",
      " 2   year_of_release  16713 non-null  int64  \n",
      " 3   genre            16713 non-null  object \n",
      " 4   na_sales         16713 non-null  float64\n",
      " 5   eu_sales         16713 non-null  float64\n",
      " 6   jp_sales         16713 non-null  float64\n",
      " 7   other_sales      16713 non-null  float64\n",
      " 8   critic_score     16713 non-null  float64\n",
      " 9   user_score       16713 non-null  object \n",
      " 10  rating           16713 non-null  object \n",
      " 11  total_sales      16713 non-null  float64\n",
      "dtypes: float64(6), int64(1), object(5)\n",
      "memory usage: 1.7+ MB\n"
     ]
    }
   ],
   "source": [
    "data.info()"
   ]
  },
  {
   "cell_type": "code",
   "execution_count": 605,
   "metadata": {},
   "outputs": [
    {
     "data": {
      "text/plain": [
       "-1.00    3601\n",
       "-2.00    1118\n",
       " 7.80     983\n",
       " 7.70     680\n",
       " 7.10     665\n",
       "         ... \n",
       " 4.30       1\n",
       " 6.10       1\n",
       " 4.20       1\n",
       " 4.05       1\n",
       " 5.40       1\n",
       "Name: user_score, Length: 124, dtype: int64"
      ]
     },
     "execution_count": 605,
     "metadata": {},
     "output_type": "execute_result"
    }
   ],
   "source": [
    "data.user_score.value_counts()"
   ]
  },
  {
   "cell_type": "markdown",
   "metadata": {},
   "source": [
    "It's better to convert user_score to float."
   ]
  },
  {
   "cell_type": "code",
   "execution_count": 606,
   "metadata": {},
   "outputs": [],
   "source": [
    "data['user_score'] = data['user_score'].astype('float')"
   ]
  },
  {
   "cell_type": "code",
   "execution_count": 607,
   "metadata": {},
   "outputs": [
    {
     "data": {
      "text/plain": [
       "-1.00    3601\n",
       " 7.80    1307\n",
       "-2.00    1118\n",
       " 7.70     920\n",
       " 7.10     845\n",
       "         ... \n",
       " 1.90       2\n",
       " 4.05       1\n",
       " 0.00       1\n",
       " 7.05       1\n",
       " 9.70       1\n",
       "Name: user_score, Length: 100, dtype: int64"
      ]
     },
     "execution_count": 607,
     "metadata": {},
     "output_type": "execute_result"
    }
   ],
   "source": [
    "data.user_score.value_counts()"
   ]
  },
  {
   "cell_type": "code",
   "execution_count": 608,
   "metadata": {},
   "outputs": [
    {
     "name": "stdout",
     "output_type": "stream",
     "text": [
      "<class 'pandas.core.frame.DataFrame'>\n",
      "Int64Index: 16713 entries, 0 to 16714\n",
      "Data columns (total 12 columns):\n",
      " #   Column           Non-Null Count  Dtype  \n",
      "---  ------           --------------  -----  \n",
      " 0   name             16713 non-null  object \n",
      " 1   platform         16713 non-null  object \n",
      " 2   year_of_release  16713 non-null  int64  \n",
      " 3   genre            16713 non-null  object \n",
      " 4   na_sales         16713 non-null  float64\n",
      " 5   eu_sales         16713 non-null  float64\n",
      " 6   jp_sales         16713 non-null  float64\n",
      " 7   other_sales      16713 non-null  float64\n",
      " 8   critic_score     16713 non-null  float64\n",
      " 9   user_score       16713 non-null  float64\n",
      " 10  rating           16713 non-null  object \n",
      " 11  total_sales      16713 non-null  float64\n",
      "dtypes: float64(7), int64(1), object(4)\n",
      "memory usage: 1.7+ MB\n"
     ]
    }
   ],
   "source": [
    "data.info()"
   ]
  },
  {
   "cell_type": "markdown",
   "metadata": {},
   "source": [
    "# Step 3. Analyze the data\n"
   ]
  },
  {
   "cell_type": "markdown",
   "metadata": {},
   "source": [
    "Let's Look at how many games were released in different years. Is the data for every period significant?\n",
    " "
   ]
  },
  {
   "cell_type": "markdown",
   "metadata": {},
   "source": [
    "First, we will import the required libraries for the analysis."
   ]
  },
  {
   "cell_type": "code",
   "execution_count": 609,
   "metadata": {},
   "outputs": [],
   "source": [
    "import seaborn as sns\n",
    "import matplotlib.pyplot as plt\n",
    "import matplotlib as mpl"
   ]
  },
  {
   "cell_type": "code",
   "execution_count": 610,
   "metadata": {},
   "outputs": [],
   "source": [
    "game_released_per_year=data[['year_of_release', 'name']].groupby(['year_of_release']).count().sort_values(by='year_of_release').reset_index()"
   ]
  },
  {
   "cell_type": "code",
   "execution_count": 611,
   "metadata": {},
   "outputs": [
    {
     "data": {
      "text/html": [
       "<div>\n",
       "<style scoped>\n",
       "    .dataframe tbody tr th:only-of-type {\n",
       "        vertical-align: middle;\n",
       "    }\n",
       "\n",
       "    .dataframe tbody tr th {\n",
       "        vertical-align: top;\n",
       "    }\n",
       "\n",
       "    .dataframe thead th {\n",
       "        text-align: right;\n",
       "    }\n",
       "</style>\n",
       "<table border=\"1\" class=\"dataframe\">\n",
       "  <thead>\n",
       "    <tr style=\"text-align: right;\">\n",
       "      <th></th>\n",
       "      <th>year_of_release</th>\n",
       "      <th>name</th>\n",
       "    </tr>\n",
       "  </thead>\n",
       "  <tbody>\n",
       "    <tr>\n",
       "      <th>0</th>\n",
       "      <td>1980</td>\n",
       "      <td>9</td>\n",
       "    </tr>\n",
       "    <tr>\n",
       "      <th>1</th>\n",
       "      <td>1981</td>\n",
       "      <td>46</td>\n",
       "    </tr>\n",
       "    <tr>\n",
       "      <th>2</th>\n",
       "      <td>1982</td>\n",
       "      <td>53</td>\n",
       "    </tr>\n",
       "    <tr>\n",
       "      <th>3</th>\n",
       "      <td>1983</td>\n",
       "      <td>17</td>\n",
       "    </tr>\n",
       "    <tr>\n",
       "      <th>4</th>\n",
       "      <td>1984</td>\n",
       "      <td>14</td>\n",
       "    </tr>\n",
       "    <tr>\n",
       "      <th>5</th>\n",
       "      <td>1985</td>\n",
       "      <td>14</td>\n",
       "    </tr>\n",
       "    <tr>\n",
       "      <th>6</th>\n",
       "      <td>1986</td>\n",
       "      <td>21</td>\n",
       "    </tr>\n",
       "    <tr>\n",
       "      <th>7</th>\n",
       "      <td>1987</td>\n",
       "      <td>16</td>\n",
       "    </tr>\n",
       "    <tr>\n",
       "      <th>8</th>\n",
       "      <td>1988</td>\n",
       "      <td>15</td>\n",
       "    </tr>\n",
       "    <tr>\n",
       "      <th>9</th>\n",
       "      <td>1989</td>\n",
       "      <td>17</td>\n",
       "    </tr>\n",
       "    <tr>\n",
       "      <th>10</th>\n",
       "      <td>1990</td>\n",
       "      <td>16</td>\n",
       "    </tr>\n",
       "    <tr>\n",
       "      <th>11</th>\n",
       "      <td>1991</td>\n",
       "      <td>41</td>\n",
       "    </tr>\n",
       "    <tr>\n",
       "      <th>12</th>\n",
       "      <td>1992</td>\n",
       "      <td>43</td>\n",
       "    </tr>\n",
       "    <tr>\n",
       "      <th>13</th>\n",
       "      <td>1993</td>\n",
       "      <td>60</td>\n",
       "    </tr>\n",
       "    <tr>\n",
       "      <th>14</th>\n",
       "      <td>1994</td>\n",
       "      <td>121</td>\n",
       "    </tr>\n",
       "    <tr>\n",
       "      <th>15</th>\n",
       "      <td>1995</td>\n",
       "      <td>219</td>\n",
       "    </tr>\n",
       "    <tr>\n",
       "      <th>16</th>\n",
       "      <td>1996</td>\n",
       "      <td>263</td>\n",
       "    </tr>\n",
       "    <tr>\n",
       "      <th>17</th>\n",
       "      <td>1997</td>\n",
       "      <td>290</td>\n",
       "    </tr>\n",
       "    <tr>\n",
       "      <th>18</th>\n",
       "      <td>1998</td>\n",
       "      <td>386</td>\n",
       "    </tr>\n",
       "    <tr>\n",
       "      <th>19</th>\n",
       "      <td>1999</td>\n",
       "      <td>341</td>\n",
       "    </tr>\n",
       "    <tr>\n",
       "      <th>20</th>\n",
       "      <td>2000</td>\n",
       "      <td>350</td>\n",
       "    </tr>\n",
       "    <tr>\n",
       "      <th>21</th>\n",
       "      <td>2001</td>\n",
       "      <td>482</td>\n",
       "    </tr>\n",
       "    <tr>\n",
       "      <th>22</th>\n",
       "      <td>2002</td>\n",
       "      <td>829</td>\n",
       "    </tr>\n",
       "    <tr>\n",
       "      <th>23</th>\n",
       "      <td>2003</td>\n",
       "      <td>800</td>\n",
       "    </tr>\n",
       "    <tr>\n",
       "      <th>24</th>\n",
       "      <td>2004</td>\n",
       "      <td>783</td>\n",
       "    </tr>\n",
       "    <tr>\n",
       "      <th>25</th>\n",
       "      <td>2005</td>\n",
       "      <td>973</td>\n",
       "    </tr>\n",
       "    <tr>\n",
       "      <th>26</th>\n",
       "      <td>2006</td>\n",
       "      <td>1006</td>\n",
       "    </tr>\n",
       "    <tr>\n",
       "      <th>27</th>\n",
       "      <td>2007</td>\n",
       "      <td>1197</td>\n",
       "    </tr>\n",
       "    <tr>\n",
       "      <th>28</th>\n",
       "      <td>2008</td>\n",
       "      <td>1457</td>\n",
       "    </tr>\n",
       "    <tr>\n",
       "      <th>29</th>\n",
       "      <td>2009</td>\n",
       "      <td>1476</td>\n",
       "    </tr>\n",
       "    <tr>\n",
       "      <th>30</th>\n",
       "      <td>2010</td>\n",
       "      <td>1302</td>\n",
       "    </tr>\n",
       "    <tr>\n",
       "      <th>31</th>\n",
       "      <td>2011</td>\n",
       "      <td>1161</td>\n",
       "    </tr>\n",
       "    <tr>\n",
       "      <th>32</th>\n",
       "      <td>2012</td>\n",
       "      <td>653</td>\n",
       "    </tr>\n",
       "    <tr>\n",
       "      <th>33</th>\n",
       "      <td>2013</td>\n",
       "      <td>552</td>\n",
       "    </tr>\n",
       "    <tr>\n",
       "      <th>34</th>\n",
       "      <td>2014</td>\n",
       "      <td>582</td>\n",
       "    </tr>\n",
       "    <tr>\n",
       "      <th>35</th>\n",
       "      <td>2015</td>\n",
       "      <td>606</td>\n",
       "    </tr>\n",
       "    <tr>\n",
       "      <th>36</th>\n",
       "      <td>2016</td>\n",
       "      <td>502</td>\n",
       "    </tr>\n",
       "  </tbody>\n",
       "</table>\n",
       "</div>"
      ],
      "text/plain": [
       "    year_of_release  name\n",
       "0              1980     9\n",
       "1              1981    46\n",
       "2              1982    53\n",
       "3              1983    17\n",
       "4              1984    14\n",
       "5              1985    14\n",
       "6              1986    21\n",
       "7              1987    16\n",
       "8              1988    15\n",
       "9              1989    17\n",
       "10             1990    16\n",
       "11             1991    41\n",
       "12             1992    43\n",
       "13             1993    60\n",
       "14             1994   121\n",
       "15             1995   219\n",
       "16             1996   263\n",
       "17             1997   290\n",
       "18             1998   386\n",
       "19             1999   341\n",
       "20             2000   350\n",
       "21             2001   482\n",
       "22             2002   829\n",
       "23             2003   800\n",
       "24             2004   783\n",
       "25             2005   973\n",
       "26             2006  1006\n",
       "27             2007  1197\n",
       "28             2008  1457\n",
       "29             2009  1476\n",
       "30             2010  1302\n",
       "31             2011  1161\n",
       "32             2012   653\n",
       "33             2013   552\n",
       "34             2014   582\n",
       "35             2015   606\n",
       "36             2016   502"
      ]
     },
     "execution_count": 611,
     "metadata": {},
     "output_type": "execute_result"
    }
   ],
   "source": [
    "game_released_per_year"
   ]
  },
  {
   "cell_type": "markdown",
   "metadata": {},
   "source": [
    "Let's build a Lolipop chart to visualize the data."
   ]
  },
  {
   "cell_type": "code",
   "execution_count": 612,
   "metadata": {},
   "outputs": [
    {
     "data": {
      "image/png": "[encoded data removed]",
      "text/plain": [
       "<Figure size 1224x720 with 1 Axes>"
      ]
     },
     "metadata": {
      "needs_background": "light"
     },
     "output_type": "display_data"
    }
   ],
   "source": [
    "fig,ax= plt.subplots(figsize=(17, 10))\n",
    "ax.vlines(x=game_released_per_year.year_of_release, ymin=0, ymax=game_released_per_year.name, color='purple', alpha=0.7, linewidth=2)\n",
    "ax.scatter(x=game_released_per_year.year_of_release, y=game_released_per_year.name, s=75, color='black', alpha=0.7)\n",
    "\n",
    "ax.set_title('Lollypop for released games', fontdict={'size':15})\n",
    "ax.set_ylabel('Number of games')\n",
    "ax.set_xlabel('Years')\n",
    "ax.set_xticks(game_released_per_year.year_of_release)\n",
    "ax.set_xticklabels(game_released_per_year.year_of_release, rotation=90)\n",
    "\n",
    "for row in game_released_per_year.itertuples():\n",
    "    ax.text(row.year_of_release, row.name+30, s=round(row.name,2))\n",
    "plt.show()"
   ]
  },
  {
   "cell_type": "markdown",
   "metadata": {},
   "source": [
    "<div class=\"alert alert-warning\">\n",
    "<b>Reviewer's comment</b>\n",
    "<p>Looks good, except the x-axis should be integer, but hopefully you will correct it in the previous part.</p>\n",
    "</div>"
   ]
  },
  {
   "cell_type": "markdown",
   "metadata": {},
   "source": [
    "We can see from the graph that as years go by, more games are released. From 1994 to 2011, there was a growth in the game release, and from 2012 there was a decrease in the game released."
   ]
  },
  {
   "cell_type": "markdown",
   "metadata": {},
   "source": [
    "Let's Look at how sales varied from platform to platform. Choose the platforms with the greatest total sales and build a distribution based on data for each year."
   ]
  },
  {
   "cell_type": "code",
   "execution_count": 613,
   "metadata": {},
   "outputs": [
    {
     "data": {
      "text/html": [
       "<div>\n",
       "<style scoped>\n",
       "    .dataframe tbody tr th:only-of-type {\n",
       "        vertical-align: middle;\n",
       "    }\n",
       "\n",
       "    .dataframe tbody tr th {\n",
       "        vertical-align: top;\n",
       "    }\n",
       "\n",
       "    .dataframe thead th {\n",
       "        text-align: right;\n",
       "    }\n",
       "</style>\n",
       "<table border=\"1\" class=\"dataframe\">\n",
       "  <thead>\n",
       "    <tr style=\"text-align: right;\">\n",
       "      <th></th>\n",
       "      <th>platform</th>\n",
       "      <th>total_sales</th>\n",
       "    </tr>\n",
       "  </thead>\n",
       "  <tbody>\n",
       "    <tr>\n",
       "      <th>0</th>\n",
       "      <td>PCFX</td>\n",
       "      <td>0.03</td>\n",
       "    </tr>\n",
       "    <tr>\n",
       "      <th>1</th>\n",
       "      <td>GG</td>\n",
       "      <td>0.04</td>\n",
       "    </tr>\n",
       "    <tr>\n",
       "      <th>2</th>\n",
       "      <td>3DO</td>\n",
       "      <td>0.10</td>\n",
       "    </tr>\n",
       "    <tr>\n",
       "      <th>3</th>\n",
       "      <td>TG16</td>\n",
       "      <td>0.16</td>\n",
       "    </tr>\n",
       "    <tr>\n",
       "      <th>4</th>\n",
       "      <td>WS</td>\n",
       "      <td>1.42</td>\n",
       "    </tr>\n",
       "    <tr>\n",
       "      <th>5</th>\n",
       "      <td>NG</td>\n",
       "      <td>1.44</td>\n",
       "    </tr>\n",
       "    <tr>\n",
       "      <th>6</th>\n",
       "      <td>SCD</td>\n",
       "      <td>1.86</td>\n",
       "    </tr>\n",
       "    <tr>\n",
       "      <th>7</th>\n",
       "      <td>DC</td>\n",
       "      <td>15.95</td>\n",
       "    </tr>\n",
       "    <tr>\n",
       "      <th>8</th>\n",
       "      <td>GEN</td>\n",
       "      <td>28.35</td>\n",
       "    </tr>\n",
       "    <tr>\n",
       "      <th>9</th>\n",
       "      <td>SAT</td>\n",
       "      <td>33.59</td>\n",
       "    </tr>\n",
       "    <tr>\n",
       "      <th>10</th>\n",
       "      <td>PSV</td>\n",
       "      <td>54.07</td>\n",
       "    </tr>\n",
       "    <tr>\n",
       "      <th>11</th>\n",
       "      <td>WiiU</td>\n",
       "      <td>82.19</td>\n",
       "    </tr>\n",
       "    <tr>\n",
       "      <th>12</th>\n",
       "      <td>2600</td>\n",
       "      <td>96.98</td>\n",
       "    </tr>\n",
       "    <tr>\n",
       "      <th>13</th>\n",
       "      <td>XOne</td>\n",
       "      <td>159.32</td>\n",
       "    </tr>\n",
       "    <tr>\n",
       "      <th>14</th>\n",
       "      <td>GC</td>\n",
       "      <td>198.93</td>\n",
       "    </tr>\n",
       "    <tr>\n",
       "      <th>15</th>\n",
       "      <td>SNES</td>\n",
       "      <td>200.04</td>\n",
       "    </tr>\n",
       "    <tr>\n",
       "      <th>16</th>\n",
       "      <td>N64</td>\n",
       "      <td>218.68</td>\n",
       "    </tr>\n",
       "    <tr>\n",
       "      <th>17</th>\n",
       "      <td>NES</td>\n",
       "      <td>251.05</td>\n",
       "    </tr>\n",
       "    <tr>\n",
       "      <th>18</th>\n",
       "      <td>GB</td>\n",
       "      <td>255.46</td>\n",
       "    </tr>\n",
       "    <tr>\n",
       "      <th>19</th>\n",
       "      <td>XB</td>\n",
       "      <td>257.74</td>\n",
       "    </tr>\n",
       "    <tr>\n",
       "      <th>20</th>\n",
       "      <td>3DS</td>\n",
       "      <td>259.00</td>\n",
       "    </tr>\n",
       "    <tr>\n",
       "      <th>21</th>\n",
       "      <td>PC</td>\n",
       "      <td>259.52</td>\n",
       "    </tr>\n",
       "    <tr>\n",
       "      <th>22</th>\n",
       "      <td>PSP</td>\n",
       "      <td>294.05</td>\n",
       "    </tr>\n",
       "    <tr>\n",
       "      <th>23</th>\n",
       "      <td>PS4</td>\n",
       "      <td>314.14</td>\n",
       "    </tr>\n",
       "    <tr>\n",
       "      <th>24</th>\n",
       "      <td>GBA</td>\n",
       "      <td>317.85</td>\n",
       "    </tr>\n",
       "    <tr>\n",
       "      <th>25</th>\n",
       "      <td>PS</td>\n",
       "      <td>730.86</td>\n",
       "    </tr>\n",
       "    <tr>\n",
       "      <th>26</th>\n",
       "      <td>DS</td>\n",
       "      <td>806.12</td>\n",
       "    </tr>\n",
       "    <tr>\n",
       "      <th>27</th>\n",
       "      <td>Wii</td>\n",
       "      <td>907.51</td>\n",
       "    </tr>\n",
       "    <tr>\n",
       "      <th>28</th>\n",
       "      <td>PS3</td>\n",
       "      <td>939.65</td>\n",
       "    </tr>\n",
       "    <tr>\n",
       "      <th>29</th>\n",
       "      <td>X360</td>\n",
       "      <td>971.42</td>\n",
       "    </tr>\n",
       "    <tr>\n",
       "      <th>30</th>\n",
       "      <td>PS2</td>\n",
       "      <td>1255.77</td>\n",
       "    </tr>\n",
       "  </tbody>\n",
       "</table>\n",
       "</div>"
      ],
      "text/plain": [
       "   platform  total_sales\n",
       "0      PCFX         0.03\n",
       "1        GG         0.04\n",
       "2       3DO         0.10\n",
       "3      TG16         0.16\n",
       "4        WS         1.42\n",
       "5        NG         1.44\n",
       "6       SCD         1.86\n",
       "7        DC        15.95\n",
       "8       GEN        28.35\n",
       "9       SAT        33.59\n",
       "10      PSV        54.07\n",
       "11     WiiU        82.19\n",
       "12     2600        96.98\n",
       "13     XOne       159.32\n",
       "14       GC       198.93\n",
       "15     SNES       200.04\n",
       "16      N64       218.68\n",
       "17      NES       251.05\n",
       "18       GB       255.46\n",
       "19       XB       257.74\n",
       "20      3DS       259.00\n",
       "21       PC       259.52\n",
       "22      PSP       294.05\n",
       "23      PS4       314.14\n",
       "24      GBA       317.85\n",
       "25       PS       730.86\n",
       "26       DS       806.12\n",
       "27      Wii       907.51\n",
       "28      PS3       939.65\n",
       "29     X360       971.42\n",
       "30      PS2      1255.77"
      ]
     },
     "execution_count": 613,
     "metadata": {},
     "output_type": "execute_result"
    }
   ],
   "source": [
    "total_slaes_per_platform = data[['platform', 'total_sales']].groupby(['platform']).sum().sort_values(by='total_sales').reset_index()\n",
    "total_slaes_per_platform"
   ]
  },
  {
   "cell_type": "markdown",
   "metadata": {},
   "source": [
    "The PS2, X360, and PS3 are the leading platforms for sales.\n",
    "We can see that the variation in our data is pretty various.\n",
    "Let's create a column for the Z score for every platform."
   ]
  },
  {
   "cell_type": "code",
   "execution_count": 614,
   "metadata": {},
   "outputs": [
    {
     "data": {
      "text/html": [
       "<div>\n",
       "<style scoped>\n",
       "    .dataframe tbody tr th:only-of-type {\n",
       "        vertical-align: middle;\n",
       "    }\n",
       "\n",
       "    .dataframe tbody tr th {\n",
       "        vertical-align: top;\n",
       "    }\n",
       "\n",
       "    .dataframe thead th {\n",
       "        text-align: right;\n",
       "    }\n",
       "</style>\n",
       "<table border=\"1\" class=\"dataframe\">\n",
       "  <thead>\n",
       "    <tr style=\"text-align: right;\">\n",
       "      <th></th>\n",
       "      <th>platform</th>\n",
       "      <th>total_sales</th>\n",
       "      <th>sales_z</th>\n",
       "    </tr>\n",
       "  </thead>\n",
       "  <tbody>\n",
       "    <tr>\n",
       "      <th>0</th>\n",
       "      <td>PCFX</td>\n",
       "      <td>0.03</td>\n",
       "      <td>-0.795701</td>\n",
       "    </tr>\n",
       "    <tr>\n",
       "      <th>1</th>\n",
       "      <td>GG</td>\n",
       "      <td>0.04</td>\n",
       "      <td>-0.785701</td>\n",
       "    </tr>\n",
       "    <tr>\n",
       "      <th>2</th>\n",
       "      <td>3DO</td>\n",
       "      <td>0.10</td>\n",
       "      <td>-0.725701</td>\n",
       "    </tr>\n",
       "    <tr>\n",
       "      <th>3</th>\n",
       "      <td>TG16</td>\n",
       "      <td>0.16</td>\n",
       "      <td>-0.665701</td>\n",
       "    </tr>\n",
       "    <tr>\n",
       "      <th>4</th>\n",
       "      <td>WS</td>\n",
       "      <td>1.42</td>\n",
       "      <td>0.594299</td>\n",
       "    </tr>\n",
       "    <tr>\n",
       "      <th>5</th>\n",
       "      <td>NG</td>\n",
       "      <td>1.44</td>\n",
       "      <td>0.614299</td>\n",
       "    </tr>\n",
       "    <tr>\n",
       "      <th>6</th>\n",
       "      <td>SCD</td>\n",
       "      <td>1.86</td>\n",
       "      <td>1.034299</td>\n",
       "    </tr>\n",
       "    <tr>\n",
       "      <th>7</th>\n",
       "      <td>DC</td>\n",
       "      <td>15.95</td>\n",
       "      <td>15.124299</td>\n",
       "    </tr>\n",
       "    <tr>\n",
       "      <th>8</th>\n",
       "      <td>GEN</td>\n",
       "      <td>28.35</td>\n",
       "      <td>27.524299</td>\n",
       "    </tr>\n",
       "    <tr>\n",
       "      <th>9</th>\n",
       "      <td>SAT</td>\n",
       "      <td>33.59</td>\n",
       "      <td>32.764299</td>\n",
       "    </tr>\n",
       "    <tr>\n",
       "      <th>10</th>\n",
       "      <td>PSV</td>\n",
       "      <td>54.07</td>\n",
       "      <td>53.244299</td>\n",
       "    </tr>\n",
       "    <tr>\n",
       "      <th>11</th>\n",
       "      <td>WiiU</td>\n",
       "      <td>82.19</td>\n",
       "      <td>81.364299</td>\n",
       "    </tr>\n",
       "    <tr>\n",
       "      <th>12</th>\n",
       "      <td>2600</td>\n",
       "      <td>96.98</td>\n",
       "      <td>96.154299</td>\n",
       "    </tr>\n",
       "    <tr>\n",
       "      <th>13</th>\n",
       "      <td>XOne</td>\n",
       "      <td>159.32</td>\n",
       "      <td>158.494299</td>\n",
       "    </tr>\n",
       "    <tr>\n",
       "      <th>14</th>\n",
       "      <td>GC</td>\n",
       "      <td>198.93</td>\n",
       "      <td>198.104299</td>\n",
       "    </tr>\n",
       "    <tr>\n",
       "      <th>15</th>\n",
       "      <td>SNES</td>\n",
       "      <td>200.04</td>\n",
       "      <td>199.214299</td>\n",
       "    </tr>\n",
       "    <tr>\n",
       "      <th>16</th>\n",
       "      <td>N64</td>\n",
       "      <td>218.68</td>\n",
       "      <td>217.854299</td>\n",
       "    </tr>\n",
       "    <tr>\n",
       "      <th>17</th>\n",
       "      <td>NES</td>\n",
       "      <td>251.05</td>\n",
       "      <td>250.224299</td>\n",
       "    </tr>\n",
       "    <tr>\n",
       "      <th>18</th>\n",
       "      <td>GB</td>\n",
       "      <td>255.46</td>\n",
       "      <td>254.634299</td>\n",
       "    </tr>\n",
       "    <tr>\n",
       "      <th>19</th>\n",
       "      <td>XB</td>\n",
       "      <td>257.74</td>\n",
       "      <td>256.914299</td>\n",
       "    </tr>\n",
       "    <tr>\n",
       "      <th>20</th>\n",
       "      <td>3DS</td>\n",
       "      <td>259.00</td>\n",
       "      <td>258.174299</td>\n",
       "    </tr>\n",
       "    <tr>\n",
       "      <th>21</th>\n",
       "      <td>PC</td>\n",
       "      <td>259.52</td>\n",
       "      <td>258.694299</td>\n",
       "    </tr>\n",
       "    <tr>\n",
       "      <th>22</th>\n",
       "      <td>PSP</td>\n",
       "      <td>294.05</td>\n",
       "      <td>293.224299</td>\n",
       "    </tr>\n",
       "    <tr>\n",
       "      <th>23</th>\n",
       "      <td>PS4</td>\n",
       "      <td>314.14</td>\n",
       "      <td>313.314299</td>\n",
       "    </tr>\n",
       "    <tr>\n",
       "      <th>24</th>\n",
       "      <td>GBA</td>\n",
       "      <td>317.85</td>\n",
       "      <td>317.024299</td>\n",
       "    </tr>\n",
       "    <tr>\n",
       "      <th>25</th>\n",
       "      <td>PS</td>\n",
       "      <td>730.86</td>\n",
       "      <td>730.034299</td>\n",
       "    </tr>\n",
       "    <tr>\n",
       "      <th>26</th>\n",
       "      <td>DS</td>\n",
       "      <td>806.12</td>\n",
       "      <td>805.294299</td>\n",
       "    </tr>\n",
       "    <tr>\n",
       "      <th>27</th>\n",
       "      <td>Wii</td>\n",
       "      <td>907.51</td>\n",
       "      <td>906.684299</td>\n",
       "    </tr>\n",
       "    <tr>\n",
       "      <th>28</th>\n",
       "      <td>PS3</td>\n",
       "      <td>939.65</td>\n",
       "      <td>938.824299</td>\n",
       "    </tr>\n",
       "    <tr>\n",
       "      <th>29</th>\n",
       "      <td>X360</td>\n",
       "      <td>971.42</td>\n",
       "      <td>970.594299</td>\n",
       "    </tr>\n",
       "    <tr>\n",
       "      <th>30</th>\n",
       "      <td>PS2</td>\n",
       "      <td>1255.77</td>\n",
       "      <td>1254.944299</td>\n",
       "    </tr>\n",
       "  </tbody>\n",
       "</table>\n",
       "</div>"
      ],
      "text/plain": [
       "   platform  total_sales      sales_z\n",
       "0      PCFX         0.03    -0.795701\n",
       "1        GG         0.04    -0.785701\n",
       "2       3DO         0.10    -0.725701\n",
       "3      TG16         0.16    -0.665701\n",
       "4        WS         1.42     0.594299\n",
       "5        NG         1.44     0.614299\n",
       "6       SCD         1.86     1.034299\n",
       "7        DC        15.95    15.124299\n",
       "8       GEN        28.35    27.524299\n",
       "9       SAT        33.59    32.764299\n",
       "10      PSV        54.07    53.244299\n",
       "11     WiiU        82.19    81.364299\n",
       "12     2600        96.98    96.154299\n",
       "13     XOne       159.32   158.494299\n",
       "14       GC       198.93   198.104299\n",
       "15     SNES       200.04   199.214299\n",
       "16      N64       218.68   217.854299\n",
       "17      NES       251.05   250.224299\n",
       "18       GB       255.46   254.634299\n",
       "19       XB       257.74   256.914299\n",
       "20      3DS       259.00   258.174299\n",
       "21       PC       259.52   258.694299\n",
       "22      PSP       294.05   293.224299\n",
       "23      PS4       314.14   313.314299\n",
       "24      GBA       317.85   317.024299\n",
       "25       PS       730.86   730.034299\n",
       "26       DS       806.12   805.294299\n",
       "27      Wii       907.51   906.684299\n",
       "28      PS3       939.65   938.824299\n",
       "29     X360       971.42   970.594299\n",
       "30      PS2      1255.77  1254.944299"
      ]
     },
     "execution_count": 614,
     "metadata": {},
     "output_type": "execute_result"
    }
   ],
   "source": [
    "total_slaes_per_platform['sales_z']= (total_slaes_per_platform['total_sales']-total_slaes_per_platform['total_sales'].mean() / total_slaes_per_platform['total_sales'].std())\n",
    "total_slaes_per_platform"
   ]
  },
  {
   "cell_type": "markdown",
   "metadata": {},
   "source": [
    "In the sales_z column, we can see how much each platform differs from the middle."
   ]
  },
  {
   "cell_type": "markdown",
   "metadata": {},
   "source": [
    "Let's create a green color that tells us the platforms above the middle and a red color that tells us the platforms below the middle."
   ]
  },
  {
   "cell_type": "code",
   "execution_count": 615,
   "metadata": {},
   "outputs": [
    {
     "data": {
      "text/html": [
       "<div>\n",
       "<style scoped>\n",
       "    .dataframe tbody tr th:only-of-type {\n",
       "        vertical-align: middle;\n",
       "    }\n",
       "\n",
       "    .dataframe tbody tr th {\n",
       "        vertical-align: top;\n",
       "    }\n",
       "\n",
       "    .dataframe thead th {\n",
       "        text-align: right;\n",
       "    }\n",
       "</style>\n",
       "<table border=\"1\" class=\"dataframe\">\n",
       "  <thead>\n",
       "    <tr style=\"text-align: right;\">\n",
       "      <th></th>\n",
       "      <th>platform</th>\n",
       "      <th>total_sales</th>\n",
       "      <th>sales_z</th>\n",
       "      <th>color</th>\n",
       "    </tr>\n",
       "  </thead>\n",
       "  <tbody>\n",
       "    <tr>\n",
       "      <th>0</th>\n",
       "      <td>PCFX</td>\n",
       "      <td>0.03</td>\n",
       "      <td>-0.795701</td>\n",
       "      <td>red</td>\n",
       "    </tr>\n",
       "    <tr>\n",
       "      <th>1</th>\n",
       "      <td>GG</td>\n",
       "      <td>0.04</td>\n",
       "      <td>-0.785701</td>\n",
       "      <td>red</td>\n",
       "    </tr>\n",
       "    <tr>\n",
       "      <th>2</th>\n",
       "      <td>3DO</td>\n",
       "      <td>0.10</td>\n",
       "      <td>-0.725701</td>\n",
       "      <td>red</td>\n",
       "    </tr>\n",
       "    <tr>\n",
       "      <th>3</th>\n",
       "      <td>TG16</td>\n",
       "      <td>0.16</td>\n",
       "      <td>-0.665701</td>\n",
       "      <td>red</td>\n",
       "    </tr>\n",
       "    <tr>\n",
       "      <th>4</th>\n",
       "      <td>WS</td>\n",
       "      <td>1.42</td>\n",
       "      <td>0.594299</td>\n",
       "      <td>green</td>\n",
       "    </tr>\n",
       "    <tr>\n",
       "      <th>5</th>\n",
       "      <td>NG</td>\n",
       "      <td>1.44</td>\n",
       "      <td>0.614299</td>\n",
       "      <td>green</td>\n",
       "    </tr>\n",
       "    <tr>\n",
       "      <th>6</th>\n",
       "      <td>SCD</td>\n",
       "      <td>1.86</td>\n",
       "      <td>1.034299</td>\n",
       "      <td>green</td>\n",
       "    </tr>\n",
       "    <tr>\n",
       "      <th>7</th>\n",
       "      <td>DC</td>\n",
       "      <td>15.95</td>\n",
       "      <td>15.124299</td>\n",
       "      <td>green</td>\n",
       "    </tr>\n",
       "    <tr>\n",
       "      <th>8</th>\n",
       "      <td>GEN</td>\n",
       "      <td>28.35</td>\n",
       "      <td>27.524299</td>\n",
       "      <td>green</td>\n",
       "    </tr>\n",
       "    <tr>\n",
       "      <th>9</th>\n",
       "      <td>SAT</td>\n",
       "      <td>33.59</td>\n",
       "      <td>32.764299</td>\n",
       "      <td>green</td>\n",
       "    </tr>\n",
       "    <tr>\n",
       "      <th>10</th>\n",
       "      <td>PSV</td>\n",
       "      <td>54.07</td>\n",
       "      <td>53.244299</td>\n",
       "      <td>green</td>\n",
       "    </tr>\n",
       "    <tr>\n",
       "      <th>11</th>\n",
       "      <td>WiiU</td>\n",
       "      <td>82.19</td>\n",
       "      <td>81.364299</td>\n",
       "      <td>green</td>\n",
       "    </tr>\n",
       "    <tr>\n",
       "      <th>12</th>\n",
       "      <td>2600</td>\n",
       "      <td>96.98</td>\n",
       "      <td>96.154299</td>\n",
       "      <td>green</td>\n",
       "    </tr>\n",
       "    <tr>\n",
       "      <th>13</th>\n",
       "      <td>XOne</td>\n",
       "      <td>159.32</td>\n",
       "      <td>158.494299</td>\n",
       "      <td>green</td>\n",
       "    </tr>\n",
       "    <tr>\n",
       "      <th>14</th>\n",
       "      <td>GC</td>\n",
       "      <td>198.93</td>\n",
       "      <td>198.104299</td>\n",
       "      <td>green</td>\n",
       "    </tr>\n",
       "    <tr>\n",
       "      <th>15</th>\n",
       "      <td>SNES</td>\n",
       "      <td>200.04</td>\n",
       "      <td>199.214299</td>\n",
       "      <td>green</td>\n",
       "    </tr>\n",
       "    <tr>\n",
       "      <th>16</th>\n",
       "      <td>N64</td>\n",
       "      <td>218.68</td>\n",
       "      <td>217.854299</td>\n",
       "      <td>green</td>\n",
       "    </tr>\n",
       "    <tr>\n",
       "      <th>17</th>\n",
       "      <td>NES</td>\n",
       "      <td>251.05</td>\n",
       "      <td>250.224299</td>\n",
       "      <td>green</td>\n",
       "    </tr>\n",
       "    <tr>\n",
       "      <th>18</th>\n",
       "      <td>GB</td>\n",
       "      <td>255.46</td>\n",
       "      <td>254.634299</td>\n",
       "      <td>green</td>\n",
       "    </tr>\n",
       "    <tr>\n",
       "      <th>19</th>\n",
       "      <td>XB</td>\n",
       "      <td>257.74</td>\n",
       "      <td>256.914299</td>\n",
       "      <td>green</td>\n",
       "    </tr>\n",
       "    <tr>\n",
       "      <th>20</th>\n",
       "      <td>3DS</td>\n",
       "      <td>259.00</td>\n",
       "      <td>258.174299</td>\n",
       "      <td>green</td>\n",
       "    </tr>\n",
       "    <tr>\n",
       "      <th>21</th>\n",
       "      <td>PC</td>\n",
       "      <td>259.52</td>\n",
       "      <td>258.694299</td>\n",
       "      <td>green</td>\n",
       "    </tr>\n",
       "    <tr>\n",
       "      <th>22</th>\n",
       "      <td>PSP</td>\n",
       "      <td>294.05</td>\n",
       "      <td>293.224299</td>\n",
       "      <td>green</td>\n",
       "    </tr>\n",
       "    <tr>\n",
       "      <th>23</th>\n",
       "      <td>PS4</td>\n",
       "      <td>314.14</td>\n",
       "      <td>313.314299</td>\n",
       "      <td>green</td>\n",
       "    </tr>\n",
       "    <tr>\n",
       "      <th>24</th>\n",
       "      <td>GBA</td>\n",
       "      <td>317.85</td>\n",
       "      <td>317.024299</td>\n",
       "      <td>green</td>\n",
       "    </tr>\n",
       "    <tr>\n",
       "      <th>25</th>\n",
       "      <td>PS</td>\n",
       "      <td>730.86</td>\n",
       "      <td>730.034299</td>\n",
       "      <td>green</td>\n",
       "    </tr>\n",
       "    <tr>\n",
       "      <th>26</th>\n",
       "      <td>DS</td>\n",
       "      <td>806.12</td>\n",
       "      <td>805.294299</td>\n",
       "      <td>green</td>\n",
       "    </tr>\n",
       "    <tr>\n",
       "      <th>27</th>\n",
       "      <td>Wii</td>\n",
       "      <td>907.51</td>\n",
       "      <td>906.684299</td>\n",
       "      <td>green</td>\n",
       "    </tr>\n",
       "    <tr>\n",
       "      <th>28</th>\n",
       "      <td>PS3</td>\n",
       "      <td>939.65</td>\n",
       "      <td>938.824299</td>\n",
       "      <td>green</td>\n",
       "    </tr>\n",
       "    <tr>\n",
       "      <th>29</th>\n",
       "      <td>X360</td>\n",
       "      <td>971.42</td>\n",
       "      <td>970.594299</td>\n",
       "      <td>green</td>\n",
       "    </tr>\n",
       "    <tr>\n",
       "      <th>30</th>\n",
       "      <td>PS2</td>\n",
       "      <td>1255.77</td>\n",
       "      <td>1254.944299</td>\n",
       "      <td>green</td>\n",
       "    </tr>\n",
       "  </tbody>\n",
       "</table>\n",
       "</div>"
      ],
      "text/plain": [
       "   platform  total_sales      sales_z  color\n",
       "0      PCFX         0.03    -0.795701    red\n",
       "1        GG         0.04    -0.785701    red\n",
       "2       3DO         0.10    -0.725701    red\n",
       "3      TG16         0.16    -0.665701    red\n",
       "4        WS         1.42     0.594299  green\n",
       "5        NG         1.44     0.614299  green\n",
       "6       SCD         1.86     1.034299  green\n",
       "7        DC        15.95    15.124299  green\n",
       "8       GEN        28.35    27.524299  green\n",
       "9       SAT        33.59    32.764299  green\n",
       "10      PSV        54.07    53.244299  green\n",
       "11     WiiU        82.19    81.364299  green\n",
       "12     2600        96.98    96.154299  green\n",
       "13     XOne       159.32   158.494299  green\n",
       "14       GC       198.93   198.104299  green\n",
       "15     SNES       200.04   199.214299  green\n",
       "16      N64       218.68   217.854299  green\n",
       "17      NES       251.05   250.224299  green\n",
       "18       GB       255.46   254.634299  green\n",
       "19       XB       257.74   256.914299  green\n",
       "20      3DS       259.00   258.174299  green\n",
       "21       PC       259.52   258.694299  green\n",
       "22      PSP       294.05   293.224299  green\n",
       "23      PS4       314.14   313.314299  green\n",
       "24      GBA       317.85   317.024299  green\n",
       "25       PS       730.86   730.034299  green\n",
       "26       DS       806.12   805.294299  green\n",
       "27      Wii       907.51   906.684299  green\n",
       "28      PS3       939.65   938.824299  green\n",
       "29     X360       971.42   970.594299  green\n",
       "30      PS2      1255.77  1254.944299  green"
      ]
     },
     "execution_count": 615,
     "metadata": {},
     "output_type": "execute_result"
    }
   ],
   "source": [
    "total_slaes_per_platform['color']=['red' if x<0 else 'green' for x in total_slaes_per_platform['sales_z']]\n",
    "total_slaes_per_platform"
   ]
  },
  {
   "cell_type": "code",
   "execution_count": 616,
   "metadata": {},
   "outputs": [
    {
     "data": {
      "image/png": "[encoded data removed]",
      "text/plain": [
       "<Figure size 1008x720 with 1 Axes>"
      ]
     },
     "metadata": {
      "needs_background": "light"
     },
     "output_type": "display_data"
    }
   ],
   "source": [
    "fig,ax= plt.subplots(figsize=(14, 10))\n",
    "ax.hlines(y=total_slaes_per_platform.platform, xmax=total_slaes_per_platform.sales_z, xmin=0, color=total_slaes_per_platform.color, alpha=0.5, linewidth=10)\n",
    "ax.set_title('Platforms above / below mean', fontdict={'size':18})\n",
    "ax.set_ylabel('Platforms', fontsize=15, color='blue')\n",
    "plt.show()"
   ]
  },
  {
   "cell_type": "markdown",
   "metadata": {},
   "source": [
    "We can see that most of the platforms are above the mean.\n",
    "There are four platforms below the mean, but it is hard to see their red color because the difference from the middle is minor."
   ]
  },
  {
   "cell_type": "markdown",
   "metadata": {},
   "source": [
    "Choose the platforms with the greatest total sales and build a distribution based on data for each year"
   ]
  },
  {
   "cell_type": "markdown",
   "metadata": {},
   "source": [
    "The most powerful sales platforms are PS2, X360, PS3, Wii, DS, and PS. Let's build for them a distribution based on games released per year."
   ]
  },
  {
   "cell_type": "code",
   "execution_count": 617,
   "metadata": {},
   "outputs": [
    {
     "data": {
      "image/png": "[encoded data removed]",
      "text/plain": [
       "<Figure size 1224x720 with 1 Axes>"
      ]
     },
     "metadata": {
      "needs_background": "light"
     },
     "output_type": "display_data"
    }
   ],
   "source": [
    "PS2_platform = data.query('platform == \"PS2\"')\n",
    "\n",
    "PS2_released_per_year=PS2_platform[['year_of_release', 'name']].groupby(['year_of_release']).count().sort_values(by='year_of_release').reset_index()\n",
    "\n",
    "fig,ax= plt.subplots(figsize=(17, 10))\n",
    "ax.vlines(x=PS2_released_per_year.year_of_release, ymin=0, ymax=PS2_released_per_year.name, color='purple', alpha=0.7, linewidth=2)\n",
    "ax.scatter(x=PS2_released_per_year.year_of_release, y=PS2_released_per_year.name, s=75, color='black', alpha=0.7)\n",
    "\n",
    "ax.set_title('Lollypop PS2', fontdict={'size':15})\n",
    "ax.set_ylabel('Number of games')\n",
    "ax.set_xlabel('Years')\n",
    "ax.set_xticks(PS2_released_per_year.year_of_release)\n",
    "ax.set_xticklabels(PS2_released_per_year.year_of_release, rotation=90)\n",
    "\n",
    "\n",
    "\n",
    "for row in PS2_released_per_year.itertuples():\n",
    "    ax.text(row.year_of_release, row.name+8, s=round(row.name,2))\n",
    "plt.show()"
   ]
  },
  {
   "cell_type": "code",
   "execution_count": 618,
   "metadata": {},
   "outputs": [
    {
     "data": {
      "text/plain": [
       "2161"
      ]
     },
     "execution_count": 618,
     "metadata": {},
     "output_type": "execute_result"
    }
   ],
   "source": [
    "PS2_released_per_year['name'].sum()"
   ]
  },
  {
   "cell_type": "markdown",
   "metadata": {},
   "source": [
    "PS2 is the leading platform in terms of sales. The emergence of this platform started in 2000, and their peak years are between 2002 and 2006.\n",
    "In 2007 they slowly started to decrease in the game release.\n",
    "The total number of games for this platform is 2161."
   ]
  },
  {
   "cell_type": "code",
   "execution_count": 619,
   "metadata": {},
   "outputs": [
    {
     "data": {
      "image/png": "[encoded data removed]",
      "text/plain": [
       "<Figure size 1224x720 with 1 Axes>"
      ]
     },
     "metadata": {
      "needs_background": "light"
     },
     "output_type": "display_data"
    }
   ],
   "source": [
    "X360_platform = data.query('platform == \"X360\"')\n",
    "\n",
    "X360_released_per_year=X360_platform[['year_of_release', 'name']].groupby(['year_of_release']).count().sort_values(by='year_of_release').reset_index()\n",
    "\n",
    "fig,ax= plt.subplots(figsize=(17, 10))\n",
    "ax.vlines(x=X360_released_per_year.year_of_release, ymin=0, ymax=X360_released_per_year.name, color='purple', alpha=0.7, linewidth=2)\n",
    "ax.scatter(x=X360_released_per_year.year_of_release, y=X360_released_per_year.name, s=75, color='black', alpha=0.7)\n",
    "\n",
    "ax.set_title('Lollypop X360', fontdict={'size':15})\n",
    "ax.set_ylabel('Number of games')\n",
    "ax.set_xlabel('Years')\n",
    "ax.set_xticks(X360_released_per_year.year_of_release)\n",
    "ax.set_xticklabels(X360_released_per_year.year_of_release, rotation=90)\n",
    "\n",
    "for row in X360_released_per_year.itertuples():\n",
    "    ax.text(row.year_of_release, row.name+8, s=round(row.name,2))\n",
    "plt.show()"
   ]
  },
  {
   "cell_type": "code",
   "execution_count": 620,
   "metadata": {},
   "outputs": [
    {
     "data": {
      "text/plain": [
       "1262"
      ]
     },
     "execution_count": 620,
     "metadata": {},
     "output_type": "execute_result"
    }
   ],
   "source": [
    "X360_released_per_year['name'].sum()"
   ]
  },
  {
   "cell_type": "markdown",
   "metadata": {},
   "source": [
    "X360 started to create games in 2005, and 2010 came to its full potential.\n",
    "They stayed at their peak between 2010 to 2011.\n",
    "In 2013 they started to decrease in the game released. The total game release for X360 is 1262 games.\n"
   ]
  },
  {
   "cell_type": "code",
   "execution_count": 621,
   "metadata": {},
   "outputs": [
    {
     "data": {
      "image/png": "[encoded data removed]",
      "text/plain": [
       "<Figure size 1224x720 with 1 Axes>"
      ]
     },
     "metadata": {
      "needs_background": "light"
     },
     "output_type": "display_data"
    }
   ],
   "source": [
    "PS3_platform = data.query('platform == \"PS3\"')\n",
    "\n",
    "PS3_released_per_year=PS3_platform[['year_of_release', 'name']].groupby(['year_of_release']).count().sort_values(by='year_of_release').reset_index()\n",
    "\n",
    "fig,ax= plt.subplots(figsize=(17, 10))\n",
    "ax.vlines(x=PS3_released_per_year.year_of_release, ymin=0, ymax=PS3_released_per_year.name, color='purple', alpha=0.7, linewidth=2)\n",
    "ax.scatter(x=PS3_released_per_year.year_of_release, y=PS3_released_per_year.name, s=75, color='black', alpha=0.7)\n",
    "\n",
    "ax.set_title('Lollypop PS3', fontdict={'size':15})\n",
    "ax.set_ylabel('Number of games')\n",
    "ax.set_xlabel('Years')\n",
    "ax.set_xticks(PS3_released_per_year.year_of_release)\n",
    "ax.set_xticklabels(PS3_released_per_year.year_of_release, rotation=90)\n",
    "\n",
    "for row in PS3_released_per_year.itertuples():\n",
    "    ax.text(row.year_of_release, row.name+8, s=round(row.name,2))\n",
    "plt.show()"
   ]
  },
  {
   "cell_type": "code",
   "execution_count": 622,
   "metadata": {},
   "outputs": [
    {
     "data": {
      "text/plain": [
       "1331"
      ]
     },
     "execution_count": 622,
     "metadata": {},
     "output_type": "execute_result"
    }
   ],
   "source": [
    "PS3_released_per_year['name'].sum()"
   ]
  },
  {
   "cell_type": "markdown",
   "metadata": {},
   "source": [
    "PS3 started to release games in 2006. They peaked in 2011 with 240 games per year and then decreased in 2012. they created 1331 games over the years 2006 - 2016."
   ]
  },
  {
   "cell_type": "code",
   "execution_count": 623,
   "metadata": {},
   "outputs": [
    {
     "data": {
      "image/png": "[encoded data removed]",
      "text/plain": [
       "<Figure size 1224x720 with 1 Axes>"
      ]
     },
     "metadata": {
      "needs_background": "light"
     },
     "output_type": "display_data"
    }
   ],
   "source": [
    "Wii_platform = data.query('platform == \"Wii\"')\n",
    "Wii_released_per_year=Wii_platform[['year_of_release', 'name']].groupby(['year_of_release']).count().sort_values(by='year_of_release').reset_index()\n",
    "fig,ax= plt.subplots(figsize=(17, 10))\n",
    "ax.vlines(x=Wii_released_per_year.year_of_release, ymin=0, ymax=Wii_released_per_year.name, color='purple', alpha=0.7, linewidth=2)\n",
    "ax.scatter(x=Wii_released_per_year.year_of_release, y=Wii_released_per_year.name, s=75, color='black', alpha=0.7)\n",
    "\n",
    "ax.set_title('Lollypop Wii', fontdict={'size':15})\n",
    "ax.set_ylabel('Number of games')\n",
    "ax.set_xlabel('Years')\n",
    "ax.set_xticks(Wii_released_per_year.year_of_release)\n",
    "ax.set_xticklabels(Wii_released_per_year.year_of_release, rotation=90)\n",
    "\n",
    "for row in Wii_released_per_year.itertuples():\n",
    "    ax.text(row.year_of_release, row.name+8, s=round(row.name,2))\n",
    "plt.show()"
   ]
  },
  {
   "cell_type": "code",
   "execution_count": 624,
   "metadata": {},
   "outputs": [
    {
     "data": {
      "text/plain": [
       "1320"
      ]
     },
     "execution_count": 624,
     "metadata": {},
     "output_type": "execute_result"
    }
   ],
   "source": [
    "Wii_released_per_year['name'].sum()"
   ]
  },
  {
   "cell_type": "markdown",
   "metadata": {},
   "source": [
    "Wii started to release games in 2006.\n",
    "In 2009 they were at their peak, and in 2011 they began to decrease in-game released per year. They released a total game of 1320."
   ]
  },
  {
   "cell_type": "code",
   "execution_count": 625,
   "metadata": {},
   "outputs": [
    {
     "data": {
      "image/png": "[encoded data removed]",
      "text/plain": [
       "<Figure size 1224x720 with 1 Axes>"
      ]
     },
     "metadata": {
      "needs_background": "light"
     },
     "output_type": "display_data"
    }
   ],
   "source": [
    "DS_platform = data.query('platform == \"DS\"')\n",
    "DS_released_per_year=DS_platform[['year_of_release', 'name']].groupby(['year_of_release']).count().sort_values(by='year_of_release').reset_index()\n",
    "fig,ax= plt.subplots(figsize=(17, 10))\n",
    "ax.vlines(x=DS_released_per_year.year_of_release, ymin=0, ymax=DS_released_per_year.name, color='purple', alpha=0.7, linewidth=2)\n",
    "ax.scatter(x=DS_released_per_year.year_of_release, y=DS_released_per_year.name, s=75, color='black', alpha=0.7)\n",
    "\n",
    "ax.set_title('Lollypop DS', fontdict={'size':15})\n",
    "ax.set_ylabel('Number of games')\n",
    "ax.set_xlabel('Years')\n",
    "ax.set_xticks(DS_released_per_year.year_of_release)\n",
    "ax.set_xticklabels(DS_released_per_year.year_of_release, rotation=90)\n",
    "\n",
    "for row in DS_released_per_year.itertuples():\n",
    "    ax.text(row.year_of_release, row.name+8, s=round(row.name,2))\n",
    "plt.show()"
   ]
  },
  {
   "cell_type": "code",
   "execution_count": 626,
   "metadata": {},
   "outputs": [
    {
     "data": {
      "text/plain": [
       "2151"
      ]
     },
     "execution_count": 626,
     "metadata": {},
     "output_type": "execute_result"
    }
   ],
   "source": [
    "DS_released_per_year['name'].sum()"
   ]
  },
  {
   "cell_type": "markdown",
   "metadata": {},
   "source": [
    "DS began to release games in 2004. they had a 1-year peak in 2008 and then decreased in 2009. they have a total game release of 2151 games."
   ]
  },
  {
   "cell_type": "code",
   "execution_count": 627,
   "metadata": {},
   "outputs": [
    {
     "data": {
      "image/png": "[encoded data removed]",
      "text/plain": [
       "<Figure size 1224x720 with 1 Axes>"
      ]
     },
     "metadata": {
      "needs_background": "light"
     },
     "output_type": "display_data"
    }
   ],
   "source": [
    "PS_platform = data.query('platform == \"PS\"')\n",
    "PS_released_per_year=PS_platform[['year_of_release', 'name']].groupby(['year_of_release']).count().sort_values(by='year_of_release').reset_index()\n",
    "fig,ax= plt.subplots(figsize=(17, 10))\n",
    "ax.vlines(x=PS_released_per_year.year_of_release, ymin=0, ymax=PS_released_per_year.name, color='purple', alpha=0.7, linewidth=2)\n",
    "ax.scatter(x=PS_released_per_year.year_of_release, y=PS_released_per_year.name, s=75, color='black', alpha=0.7)\n",
    "\n",
    "ax.set_title('Lollypop PS', fontdict={'size':15})\n",
    "ax.set_ylabel('Number of games')\n",
    "ax.set_xlabel('Years')\n",
    "ax.set_xticks(PS_released_per_year.year_of_release)\n",
    "ax.set_xticklabels(PS_released_per_year.year_of_release, rotation=90)\n",
    "\n",
    "for row in PS_released_per_year.itertuples():\n",
    "    ax.text(row.year_of_release, row.name+8, s=round(row.name,2))\n",
    "plt.show()"
   ]
  },
  {
   "cell_type": "code",
   "execution_count": 628,
   "metadata": {},
   "outputs": [
    {
     "data": {
      "text/plain": [
       "1197"
      ]
     },
     "execution_count": 628,
     "metadata": {},
     "output_type": "execute_result"
    }
   ],
   "source": [
    "PS_released_per_year['name'].sum()"
   ]
  },
  {
   "cell_type": "markdown",
   "metadata": {},
   "source": [
    "PS started to release games in 1994 they reach their peak in 1998 and then decreased from 1999 to 2003.\n",
    "They released a total of 1197 games."
   ]
  },
  {
   "cell_type": "markdown",
   "metadata": {},
   "source": [
    "Let's Find platforms that used to be popular but now have zero sales. How long does it generally take for new platforms to appear and old ones to fade?"
   ]
  },
  {
   "cell_type": "markdown",
   "metadata": {},
   "source": [
    "Let's create a pivot table for the total sales of each platform each year."
   ]
  },
  {
   "cell_type": "code",
   "execution_count": 629,
   "metadata": {},
   "outputs": [
    {
     "data": {
      "text/html": [
       "<div>\n",
       "<style scoped>\n",
       "    .dataframe tbody tr th:only-of-type {\n",
       "        vertical-align: middle;\n",
       "    }\n",
       "\n",
       "    .dataframe tbody tr th {\n",
       "        vertical-align: top;\n",
       "    }\n",
       "\n",
       "    .dataframe thead th {\n",
       "        text-align: right;\n",
       "    }\n",
       "</style>\n",
       "<table border=\"1\" class=\"dataframe\">\n",
       "  <thead>\n",
       "    <tr style=\"text-align: right;\">\n",
       "      <th>platform</th>\n",
       "      <th>2600</th>\n",
       "      <th>3DO</th>\n",
       "      <th>3DS</th>\n",
       "      <th>DC</th>\n",
       "      <th>DS</th>\n",
       "      <th>GB</th>\n",
       "      <th>GBA</th>\n",
       "      <th>GC</th>\n",
       "      <th>GEN</th>\n",
       "      <th>GG</th>\n",
       "      <th>...</th>\n",
       "      <th>SAT</th>\n",
       "      <th>SCD</th>\n",
       "      <th>SNES</th>\n",
       "      <th>TG16</th>\n",
       "      <th>WS</th>\n",
       "      <th>Wii</th>\n",
       "      <th>WiiU</th>\n",
       "      <th>X360</th>\n",
       "      <th>XB</th>\n",
       "      <th>XOne</th>\n",
       "    </tr>\n",
       "    <tr>\n",
       "      <th>year_of_release</th>\n",
       "      <th></th>\n",
       "      <th></th>\n",
       "      <th></th>\n",
       "      <th></th>\n",
       "      <th></th>\n",
       "      <th></th>\n",
       "      <th></th>\n",
       "      <th></th>\n",
       "      <th></th>\n",
       "      <th></th>\n",
       "      <th></th>\n",
       "      <th></th>\n",
       "      <th></th>\n",
       "      <th></th>\n",
       "      <th></th>\n",
       "      <th></th>\n",
       "      <th></th>\n",
       "      <th></th>\n",
       "      <th></th>\n",
       "      <th></th>\n",
       "      <th></th>\n",
       "    </tr>\n",
       "  </thead>\n",
       "  <tbody>\n",
       "    <tr>\n",
       "      <th>2012</th>\n",
       "      <td>0.0</td>\n",
       "      <td>0.0</td>\n",
       "      <td>51.36</td>\n",
       "      <td>0.0</td>\n",
       "      <td>11.01</td>\n",
       "      <td>0.0</td>\n",
       "      <td>0.0</td>\n",
       "      <td>0.0</td>\n",
       "      <td>0.0</td>\n",
       "      <td>0.0</td>\n",
       "      <td>...</td>\n",
       "      <td>0.0</td>\n",
       "      <td>0.0</td>\n",
       "      <td>0.0</td>\n",
       "      <td>0.0</td>\n",
       "      <td>0.0</td>\n",
       "      <td>21.71</td>\n",
       "      <td>17.56</td>\n",
       "      <td>99.74</td>\n",
       "      <td>0.0</td>\n",
       "      <td>0.00</td>\n",
       "    </tr>\n",
       "    <tr>\n",
       "      <th>2013</th>\n",
       "      <td>0.0</td>\n",
       "      <td>0.0</td>\n",
       "      <td>57.76</td>\n",
       "      <td>0.0</td>\n",
       "      <td>1.54</td>\n",
       "      <td>0.0</td>\n",
       "      <td>0.0</td>\n",
       "      <td>0.0</td>\n",
       "      <td>0.0</td>\n",
       "      <td>0.0</td>\n",
       "      <td>...</td>\n",
       "      <td>0.0</td>\n",
       "      <td>0.0</td>\n",
       "      <td>0.0</td>\n",
       "      <td>0.0</td>\n",
       "      <td>0.0</td>\n",
       "      <td>8.59</td>\n",
       "      <td>21.65</td>\n",
       "      <td>88.58</td>\n",
       "      <td>0.0</td>\n",
       "      <td>18.96</td>\n",
       "    </tr>\n",
       "    <tr>\n",
       "      <th>2014</th>\n",
       "      <td>0.0</td>\n",
       "      <td>0.0</td>\n",
       "      <td>43.76</td>\n",
       "      <td>0.0</td>\n",
       "      <td>0.00</td>\n",
       "      <td>0.0</td>\n",
       "      <td>0.0</td>\n",
       "      <td>0.0</td>\n",
       "      <td>0.0</td>\n",
       "      <td>0.0</td>\n",
       "      <td>...</td>\n",
       "      <td>0.0</td>\n",
       "      <td>0.0</td>\n",
       "      <td>0.0</td>\n",
       "      <td>0.0</td>\n",
       "      <td>0.0</td>\n",
       "      <td>3.75</td>\n",
       "      <td>22.03</td>\n",
       "      <td>34.74</td>\n",
       "      <td>0.0</td>\n",
       "      <td>54.07</td>\n",
       "    </tr>\n",
       "    <tr>\n",
       "      <th>2015</th>\n",
       "      <td>0.0</td>\n",
       "      <td>0.0</td>\n",
       "      <td>27.78</td>\n",
       "      <td>0.0</td>\n",
       "      <td>0.00</td>\n",
       "      <td>0.0</td>\n",
       "      <td>0.0</td>\n",
       "      <td>0.0</td>\n",
       "      <td>0.0</td>\n",
       "      <td>0.0</td>\n",
       "      <td>...</td>\n",
       "      <td>0.0</td>\n",
       "      <td>0.0</td>\n",
       "      <td>0.0</td>\n",
       "      <td>0.0</td>\n",
       "      <td>0.0</td>\n",
       "      <td>1.14</td>\n",
       "      <td>16.35</td>\n",
       "      <td>11.96</td>\n",
       "      <td>0.0</td>\n",
       "      <td>60.14</td>\n",
       "    </tr>\n",
       "    <tr>\n",
       "      <th>2016</th>\n",
       "      <td>0.0</td>\n",
       "      <td>0.0</td>\n",
       "      <td>15.14</td>\n",
       "      <td>0.0</td>\n",
       "      <td>0.00</td>\n",
       "      <td>0.0</td>\n",
       "      <td>0.0</td>\n",
       "      <td>0.0</td>\n",
       "      <td>0.0</td>\n",
       "      <td>0.0</td>\n",
       "      <td>...</td>\n",
       "      <td>0.0</td>\n",
       "      <td>0.0</td>\n",
       "      <td>0.0</td>\n",
       "      <td>0.0</td>\n",
       "      <td>0.0</td>\n",
       "      <td>0.18</td>\n",
       "      <td>4.60</td>\n",
       "      <td>1.52</td>\n",
       "      <td>0.0</td>\n",
       "      <td>26.15</td>\n",
       "    </tr>\n",
       "  </tbody>\n",
       "</table>\n",
       "<p>5 rows × 31 columns</p>\n",
       "</div>"
      ],
      "text/plain": [
       "platform         2600  3DO    3DS   DC     DS   GB  GBA   GC  GEN   GG  ...  \\\n",
       "year_of_release                                                         ...   \n",
       "2012              0.0  0.0  51.36  0.0  11.01  0.0  0.0  0.0  0.0  0.0  ...   \n",
       "2013              0.0  0.0  57.76  0.0   1.54  0.0  0.0  0.0  0.0  0.0  ...   \n",
       "2014              0.0  0.0  43.76  0.0   0.00  0.0  0.0  0.0  0.0  0.0  ...   \n",
       "2015              0.0  0.0  27.78  0.0   0.00  0.0  0.0  0.0  0.0  0.0  ...   \n",
       "2016              0.0  0.0  15.14  0.0   0.00  0.0  0.0  0.0  0.0  0.0  ...   \n",
       "\n",
       "platform         SAT  SCD  SNES  TG16   WS    Wii   WiiU   X360   XB   XOne  \n",
       "year_of_release                                                              \n",
       "2012             0.0  0.0   0.0   0.0  0.0  21.71  17.56  99.74  0.0   0.00  \n",
       "2013             0.0  0.0   0.0   0.0  0.0   8.59  21.65  88.58  0.0  18.96  \n",
       "2014             0.0  0.0   0.0   0.0  0.0   3.75  22.03  34.74  0.0  54.07  \n",
       "2015             0.0  0.0   0.0   0.0  0.0   1.14  16.35  11.96  0.0  60.14  \n",
       "2016             0.0  0.0   0.0   0.0  0.0   0.18   4.60   1.52  0.0  26.15  \n",
       "\n",
       "[5 rows x 31 columns]"
      ]
     },
     "execution_count": 629,
     "metadata": {},
     "output_type": "execute_result"
    }
   ],
   "source": [
    "platform_sales_per_year = pd.pivot_table(data, index= 'year_of_release', columns='platform', values='total_sales', aggfunc='sum', fill_value=0)\n",
    "platform_sales_per_year.tail()"
   ]
  },
  {
   "cell_type": "code",
   "execution_count": 630,
   "metadata": {},
   "outputs": [
    {
     "data": {
      "text/html": [
       "<div>\n",
       "<style scoped>\n",
       "    .dataframe tbody tr th:only-of-type {\n",
       "        vertical-align: middle;\n",
       "    }\n",
       "\n",
       "    .dataframe tbody tr th {\n",
       "        vertical-align: top;\n",
       "    }\n",
       "\n",
       "    .dataframe thead th {\n",
       "        text-align: right;\n",
       "    }\n",
       "</style>\n",
       "<table border=\"1\" class=\"dataframe\">\n",
       "  <thead>\n",
       "    <tr style=\"text-align: right;\">\n",
       "      <th>year_of_release</th>\n",
       "      <th>1980</th>\n",
       "      <th>1981</th>\n",
       "      <th>1982</th>\n",
       "      <th>1983</th>\n",
       "      <th>1984</th>\n",
       "      <th>1985</th>\n",
       "      <th>1986</th>\n",
       "      <th>1987</th>\n",
       "      <th>1988</th>\n",
       "      <th>1989</th>\n",
       "      <th>...</th>\n",
       "      <th>2007</th>\n",
       "      <th>2008</th>\n",
       "      <th>2009</th>\n",
       "      <th>2010</th>\n",
       "      <th>2011</th>\n",
       "      <th>2012</th>\n",
       "      <th>2013</th>\n",
       "      <th>2014</th>\n",
       "      <th>2015</th>\n",
       "      <th>2016</th>\n",
       "    </tr>\n",
       "    <tr>\n",
       "      <th>platform</th>\n",
       "      <th></th>\n",
       "      <th></th>\n",
       "      <th></th>\n",
       "      <th></th>\n",
       "      <th></th>\n",
       "      <th></th>\n",
       "      <th></th>\n",
       "      <th></th>\n",
       "      <th></th>\n",
       "      <th></th>\n",
       "      <th></th>\n",
       "      <th></th>\n",
       "      <th></th>\n",
       "      <th></th>\n",
       "      <th></th>\n",
       "      <th></th>\n",
       "      <th></th>\n",
       "      <th></th>\n",
       "      <th></th>\n",
       "      <th></th>\n",
       "      <th></th>\n",
       "    </tr>\n",
       "  </thead>\n",
       "  <tbody>\n",
       "    <tr>\n",
       "      <th>2600</th>\n",
       "      <td>NaN</td>\n",
       "      <td>24.3</td>\n",
       "      <td>3.7</td>\n",
       "      <td>-33.54</td>\n",
       "      <td>-5.57</td>\n",
       "      <td>0.18</td>\n",
       "      <td>0.22</td>\n",
       "      <td>1.27</td>\n",
       "      <td>-1.20</td>\n",
       "      <td>-0.11</td>\n",
       "      <td>...</td>\n",
       "      <td>0.00</td>\n",
       "      <td>0.00</td>\n",
       "      <td>0.00</td>\n",
       "      <td>0.00</td>\n",
       "      <td>0.00</td>\n",
       "      <td>0.00</td>\n",
       "      <td>0.00</td>\n",
       "      <td>0.00</td>\n",
       "      <td>0.00</td>\n",
       "      <td>0.00</td>\n",
       "    </tr>\n",
       "    <tr>\n",
       "      <th>3DO</th>\n",
       "      <td>NaN</td>\n",
       "      <td>0.0</td>\n",
       "      <td>0.0</td>\n",
       "      <td>0.00</td>\n",
       "      <td>0.00</td>\n",
       "      <td>0.00</td>\n",
       "      <td>0.00</td>\n",
       "      <td>0.00</td>\n",
       "      <td>0.00</td>\n",
       "      <td>0.00</td>\n",
       "      <td>...</td>\n",
       "      <td>0.00</td>\n",
       "      <td>0.00</td>\n",
       "      <td>0.00</td>\n",
       "      <td>0.00</td>\n",
       "      <td>0.00</td>\n",
       "      <td>0.00</td>\n",
       "      <td>0.00</td>\n",
       "      <td>0.00</td>\n",
       "      <td>0.00</td>\n",
       "      <td>0.00</td>\n",
       "    </tr>\n",
       "    <tr>\n",
       "      <th>3DS</th>\n",
       "      <td>NaN</td>\n",
       "      <td>0.0</td>\n",
       "      <td>0.0</td>\n",
       "      <td>0.00</td>\n",
       "      <td>0.00</td>\n",
       "      <td>0.00</td>\n",
       "      <td>0.00</td>\n",
       "      <td>0.00</td>\n",
       "      <td>0.00</td>\n",
       "      <td>0.00</td>\n",
       "      <td>...</td>\n",
       "      <td>0.00</td>\n",
       "      <td>0.00</td>\n",
       "      <td>0.00</td>\n",
       "      <td>0.00</td>\n",
       "      <td>63.20</td>\n",
       "      <td>-11.84</td>\n",
       "      <td>6.40</td>\n",
       "      <td>-14.00</td>\n",
       "      <td>-15.98</td>\n",
       "      <td>-12.64</td>\n",
       "    </tr>\n",
       "    <tr>\n",
       "      <th>DC</th>\n",
       "      <td>NaN</td>\n",
       "      <td>0.0</td>\n",
       "      <td>0.0</td>\n",
       "      <td>0.00</td>\n",
       "      <td>0.00</td>\n",
       "      <td>0.00</td>\n",
       "      <td>0.00</td>\n",
       "      <td>0.00</td>\n",
       "      <td>0.00</td>\n",
       "      <td>0.00</td>\n",
       "      <td>...</td>\n",
       "      <td>0.02</td>\n",
       "      <td>0.02</td>\n",
       "      <td>-0.04</td>\n",
       "      <td>0.00</td>\n",
       "      <td>0.00</td>\n",
       "      <td>0.00</td>\n",
       "      <td>0.00</td>\n",
       "      <td>0.00</td>\n",
       "      <td>0.00</td>\n",
       "      <td>0.00</td>\n",
       "    </tr>\n",
       "    <tr>\n",
       "      <th>DS</th>\n",
       "      <td>NaN</td>\n",
       "      <td>0.0</td>\n",
       "      <td>0.0</td>\n",
       "      <td>0.00</td>\n",
       "      <td>0.00</td>\n",
       "      <td>0.02</td>\n",
       "      <td>-0.02</td>\n",
       "      <td>0.00</td>\n",
       "      <td>0.00</td>\n",
       "      <td>0.00</td>\n",
       "      <td>...</td>\n",
       "      <td>27.13</td>\n",
       "      <td>1.71</td>\n",
       "      <td>-29.11</td>\n",
       "      <td>-34.52</td>\n",
       "      <td>-58.84</td>\n",
       "      <td>-15.17</td>\n",
       "      <td>-9.47</td>\n",
       "      <td>-1.54</td>\n",
       "      <td>0.00</td>\n",
       "      <td>0.00</td>\n",
       "    </tr>\n",
       "    <tr>\n",
       "      <th>GB</th>\n",
       "      <td>NaN</td>\n",
       "      <td>0.0</td>\n",
       "      <td>0.0</td>\n",
       "      <td>0.00</td>\n",
       "      <td>0.00</td>\n",
       "      <td>0.00</td>\n",
       "      <td>0.00</td>\n",
       "      <td>0.00</td>\n",
       "      <td>1.43</td>\n",
       "      <td>63.54</td>\n",
       "      <td>...</td>\n",
       "      <td>0.00</td>\n",
       "      <td>0.00</td>\n",
       "      <td>0.00</td>\n",
       "      <td>0.00</td>\n",
       "      <td>0.00</td>\n",
       "      <td>0.00</td>\n",
       "      <td>0.00</td>\n",
       "      <td>0.00</td>\n",
       "      <td>0.00</td>\n",
       "      <td>0.00</td>\n",
       "    </tr>\n",
       "    <tr>\n",
       "      <th>GBA</th>\n",
       "      <td>NaN</td>\n",
       "      <td>0.0</td>\n",
       "      <td>0.0</td>\n",
       "      <td>0.00</td>\n",
       "      <td>0.00</td>\n",
       "      <td>0.00</td>\n",
       "      <td>0.00</td>\n",
       "      <td>0.00</td>\n",
       "      <td>0.00</td>\n",
       "      <td>0.00</td>\n",
       "      <td>...</td>\n",
       "      <td>-1.88</td>\n",
       "      <td>-3.40</td>\n",
       "      <td>0.00</td>\n",
       "      <td>0.00</td>\n",
       "      <td>0.00</td>\n",
       "      <td>0.00</td>\n",
       "      <td>0.00</td>\n",
       "      <td>0.00</td>\n",
       "      <td>0.00</td>\n",
       "      <td>0.00</td>\n",
       "    </tr>\n",
       "    <tr>\n",
       "      <th>GC</th>\n",
       "      <td>NaN</td>\n",
       "      <td>0.0</td>\n",
       "      <td>0.0</td>\n",
       "      <td>0.00</td>\n",
       "      <td>0.00</td>\n",
       "      <td>0.00</td>\n",
       "      <td>0.00</td>\n",
       "      <td>0.00</td>\n",
       "      <td>0.00</td>\n",
       "      <td>0.00</td>\n",
       "      <td>...</td>\n",
       "      <td>-10.99</td>\n",
       "      <td>-0.27</td>\n",
       "      <td>0.00</td>\n",
       "      <td>0.00</td>\n",
       "      <td>0.00</td>\n",
       "      <td>0.00</td>\n",
       "      <td>0.00</td>\n",
       "      <td>0.00</td>\n",
       "      <td>0.00</td>\n",
       "      <td>0.00</td>\n",
       "    </tr>\n",
       "    <tr>\n",
       "      <th>GEN</th>\n",
       "      <td>NaN</td>\n",
       "      <td>0.0</td>\n",
       "      <td>0.0</td>\n",
       "      <td>0.00</td>\n",
       "      <td>0.00</td>\n",
       "      <td>0.00</td>\n",
       "      <td>0.00</td>\n",
       "      <td>0.00</td>\n",
       "      <td>0.00</td>\n",
       "      <td>0.00</td>\n",
       "      <td>...</td>\n",
       "      <td>0.00</td>\n",
       "      <td>0.00</td>\n",
       "      <td>0.00</td>\n",
       "      <td>0.00</td>\n",
       "      <td>0.00</td>\n",
       "      <td>0.00</td>\n",
       "      <td>0.00</td>\n",
       "      <td>0.00</td>\n",
       "      <td>0.00</td>\n",
       "      <td>0.00</td>\n",
       "    </tr>\n",
       "    <tr>\n",
       "      <th>GG</th>\n",
       "      <td>NaN</td>\n",
       "      <td>0.0</td>\n",
       "      <td>0.0</td>\n",
       "      <td>0.00</td>\n",
       "      <td>0.00</td>\n",
       "      <td>0.00</td>\n",
       "      <td>0.00</td>\n",
       "      <td>0.00</td>\n",
       "      <td>0.00</td>\n",
       "      <td>0.00</td>\n",
       "      <td>...</td>\n",
       "      <td>0.00</td>\n",
       "      <td>0.00</td>\n",
       "      <td>0.00</td>\n",
       "      <td>0.00</td>\n",
       "      <td>0.00</td>\n",
       "      <td>0.00</td>\n",
       "      <td>0.00</td>\n",
       "      <td>0.00</td>\n",
       "      <td>0.00</td>\n",
       "      <td>0.00</td>\n",
       "    </tr>\n",
       "    <tr>\n",
       "      <th>N64</th>\n",
       "      <td>NaN</td>\n",
       "      <td>0.0</td>\n",
       "      <td>0.0</td>\n",
       "      <td>0.00</td>\n",
       "      <td>0.00</td>\n",
       "      <td>0.00</td>\n",
       "      <td>0.00</td>\n",
       "      <td>0.00</td>\n",
       "      <td>0.00</td>\n",
       "      <td>0.00</td>\n",
       "      <td>...</td>\n",
       "      <td>0.00</td>\n",
       "      <td>0.00</td>\n",
       "      <td>0.00</td>\n",
       "      <td>0.00</td>\n",
       "      <td>0.00</td>\n",
       "      <td>0.00</td>\n",
       "      <td>0.00</td>\n",
       "      <td>0.00</td>\n",
       "      <td>0.00</td>\n",
       "      <td>0.00</td>\n",
       "    </tr>\n",
       "    <tr>\n",
       "      <th>NES</th>\n",
       "      <td>NaN</td>\n",
       "      <td>0.0</td>\n",
       "      <td>0.0</td>\n",
       "      <td>10.96</td>\n",
       "      <td>39.12</td>\n",
       "      <td>3.36</td>\n",
       "      <td>-17.03</td>\n",
       "      <td>-16.65</td>\n",
       "      <td>25.25</td>\n",
       "      <td>-37.16</td>\n",
       "      <td>...</td>\n",
       "      <td>0.00</td>\n",
       "      <td>0.00</td>\n",
       "      <td>0.00</td>\n",
       "      <td>0.00</td>\n",
       "      <td>0.00</td>\n",
       "      <td>0.00</td>\n",
       "      <td>0.00</td>\n",
       "      <td>0.00</td>\n",
       "      <td>0.00</td>\n",
       "      <td>0.00</td>\n",
       "    </tr>\n",
       "    <tr>\n",
       "      <th>NG</th>\n",
       "      <td>NaN</td>\n",
       "      <td>0.0</td>\n",
       "      <td>0.0</td>\n",
       "      <td>0.00</td>\n",
       "      <td>0.00</td>\n",
       "      <td>0.00</td>\n",
       "      <td>0.00</td>\n",
       "      <td>0.00</td>\n",
       "      <td>0.00</td>\n",
       "      <td>0.00</td>\n",
       "      <td>...</td>\n",
       "      <td>0.00</td>\n",
       "      <td>0.00</td>\n",
       "      <td>0.00</td>\n",
       "      <td>0.00</td>\n",
       "      <td>0.00</td>\n",
       "      <td>0.00</td>\n",
       "      <td>0.00</td>\n",
       "      <td>0.00</td>\n",
       "      <td>0.00</td>\n",
       "      <td>0.00</td>\n",
       "    </tr>\n",
       "    <tr>\n",
       "      <th>PC</th>\n",
       "      <td>NaN</td>\n",
       "      <td>0.0</td>\n",
       "      <td>0.0</td>\n",
       "      <td>0.00</td>\n",
       "      <td>0.00</td>\n",
       "      <td>0.04</td>\n",
       "      <td>-0.04</td>\n",
       "      <td>0.00</td>\n",
       "      <td>0.03</td>\n",
       "      <td>-0.03</td>\n",
       "      <td>...</td>\n",
       "      <td>6.43</td>\n",
       "      <td>3.14</td>\n",
       "      <td>4.49</td>\n",
       "      <td>11.13</td>\n",
       "      <td>6.99</td>\n",
       "      <td>-11.81</td>\n",
       "      <td>-10.84</td>\n",
       "      <td>0.90</td>\n",
       "      <td>-4.76</td>\n",
       "      <td>-3.27</td>\n",
       "    </tr>\n",
       "    <tr>\n",
       "      <th>PCFX</th>\n",
       "      <td>NaN</td>\n",
       "      <td>0.0</td>\n",
       "      <td>0.0</td>\n",
       "      <td>0.00</td>\n",
       "      <td>0.00</td>\n",
       "      <td>0.00</td>\n",
       "      <td>0.00</td>\n",
       "      <td>0.00</td>\n",
       "      <td>0.00</td>\n",
       "      <td>0.00</td>\n",
       "      <td>...</td>\n",
       "      <td>0.00</td>\n",
       "      <td>0.00</td>\n",
       "      <td>0.00</td>\n",
       "      <td>0.00</td>\n",
       "      <td>0.00</td>\n",
       "      <td>0.00</td>\n",
       "      <td>0.00</td>\n",
       "      <td>0.00</td>\n",
       "      <td>0.00</td>\n",
       "      <td>0.00</td>\n",
       "    </tr>\n",
       "    <tr>\n",
       "      <th>PS</th>\n",
       "      <td>NaN</td>\n",
       "      <td>0.0</td>\n",
       "      <td>0.0</td>\n",
       "      <td>0.00</td>\n",
       "      <td>0.00</td>\n",
       "      <td>0.00</td>\n",
       "      <td>0.00</td>\n",
       "      <td>0.00</td>\n",
       "      <td>0.00</td>\n",
       "      <td>0.00</td>\n",
       "      <td>...</td>\n",
       "      <td>0.00</td>\n",
       "      <td>0.00</td>\n",
       "      <td>0.00</td>\n",
       "      <td>0.00</td>\n",
       "      <td>0.00</td>\n",
       "      <td>0.00</td>\n",
       "      <td>0.00</td>\n",
       "      <td>0.00</td>\n",
       "      <td>0.00</td>\n",
       "      <td>0.00</td>\n",
       "    </tr>\n",
       "    <tr>\n",
       "      <th>PS2</th>\n",
       "      <td>NaN</td>\n",
       "      <td>0.0</td>\n",
       "      <td>0.0</td>\n",
       "      <td>0.00</td>\n",
       "      <td>0.00</td>\n",
       "      <td>0.00</td>\n",
       "      <td>0.00</td>\n",
       "      <td>0.00</td>\n",
       "      <td>0.00</td>\n",
       "      <td>0.00</td>\n",
       "      <td>...</td>\n",
       "      <td>-27.43</td>\n",
       "      <td>-22.09</td>\n",
       "      <td>-27.50</td>\n",
       "      <td>-20.76</td>\n",
       "      <td>-5.19</td>\n",
       "      <td>-0.45</td>\n",
       "      <td>0.00</td>\n",
       "      <td>0.00</td>\n",
       "      <td>0.00</td>\n",
       "      <td>0.00</td>\n",
       "    </tr>\n",
       "    <tr>\n",
       "      <th>PS3</th>\n",
       "      <td>NaN</td>\n",
       "      <td>0.0</td>\n",
       "      <td>0.0</td>\n",
       "      <td>0.00</td>\n",
       "      <td>0.00</td>\n",
       "      <td>0.00</td>\n",
       "      <td>0.00</td>\n",
       "      <td>0.00</td>\n",
       "      <td>0.00</td>\n",
       "      <td>0.00</td>\n",
       "      <td>...</td>\n",
       "      <td>52.23</td>\n",
       "      <td>45.33</td>\n",
       "      <td>12.41</td>\n",
       "      <td>11.24</td>\n",
       "      <td>22.92</td>\n",
       "      <td>-57.73</td>\n",
       "      <td>5.89</td>\n",
       "      <td>-65.49</td>\n",
       "      <td>-30.94</td>\n",
       "      <td>-13.22</td>\n",
       "    </tr>\n",
       "    <tr>\n",
       "      <th>PS4</th>\n",
       "      <td>NaN</td>\n",
       "      <td>0.0</td>\n",
       "      <td>0.0</td>\n",
       "      <td>0.00</td>\n",
       "      <td>0.00</td>\n",
       "      <td>0.00</td>\n",
       "      <td>0.00</td>\n",
       "      <td>0.00</td>\n",
       "      <td>0.00</td>\n",
       "      <td>0.00</td>\n",
       "      <td>...</td>\n",
       "      <td>0.00</td>\n",
       "      <td>0.00</td>\n",
       "      <td>0.00</td>\n",
       "      <td>0.00</td>\n",
       "      <td>0.00</td>\n",
       "      <td>0.00</td>\n",
       "      <td>25.99</td>\n",
       "      <td>74.01</td>\n",
       "      <td>18.90</td>\n",
       "      <td>-49.65</td>\n",
       "    </tr>\n",
       "    <tr>\n",
       "      <th>PSP</th>\n",
       "      <td>NaN</td>\n",
       "      <td>0.0</td>\n",
       "      <td>0.0</td>\n",
       "      <td>0.00</td>\n",
       "      <td>0.00</td>\n",
       "      <td>0.00</td>\n",
       "      <td>0.00</td>\n",
       "      <td>0.00</td>\n",
       "      <td>0.00</td>\n",
       "      <td>0.00</td>\n",
       "      <td>...</td>\n",
       "      <td>-8.39</td>\n",
       "      <td>-12.38</td>\n",
       "      <td>7.75</td>\n",
       "      <td>-7.26</td>\n",
       "      <td>-17.22</td>\n",
       "      <td>-10.13</td>\n",
       "      <td>-4.55</td>\n",
       "      <td>-2.90</td>\n",
       "      <td>-0.12</td>\n",
       "      <td>-0.12</td>\n",
       "    </tr>\n",
       "    <tr>\n",
       "      <th>PSV</th>\n",
       "      <td>NaN</td>\n",
       "      <td>0.0</td>\n",
       "      <td>0.0</td>\n",
       "      <td>0.00</td>\n",
       "      <td>0.00</td>\n",
       "      <td>0.00</td>\n",
       "      <td>0.00</td>\n",
       "      <td>0.00</td>\n",
       "      <td>0.00</td>\n",
       "      <td>0.00</td>\n",
       "      <td>...</td>\n",
       "      <td>0.00</td>\n",
       "      <td>0.00</td>\n",
       "      <td>0.00</td>\n",
       "      <td>0.00</td>\n",
       "      <td>4.63</td>\n",
       "      <td>11.56</td>\n",
       "      <td>-5.60</td>\n",
       "      <td>1.57</td>\n",
       "      <td>-5.91</td>\n",
       "      <td>-2.00</td>\n",
       "    </tr>\n",
       "    <tr>\n",
       "      <th>SAT</th>\n",
       "      <td>NaN</td>\n",
       "      <td>0.0</td>\n",
       "      <td>0.0</td>\n",
       "      <td>0.00</td>\n",
       "      <td>0.00</td>\n",
       "      <td>0.00</td>\n",
       "      <td>0.00</td>\n",
       "      <td>0.00</td>\n",
       "      <td>0.00</td>\n",
       "      <td>0.00</td>\n",
       "      <td>...</td>\n",
       "      <td>0.00</td>\n",
       "      <td>0.00</td>\n",
       "      <td>0.00</td>\n",
       "      <td>0.00</td>\n",
       "      <td>0.00</td>\n",
       "      <td>0.00</td>\n",
       "      <td>0.00</td>\n",
       "      <td>0.00</td>\n",
       "      <td>0.00</td>\n",
       "      <td>0.00</td>\n",
       "    </tr>\n",
       "    <tr>\n",
       "      <th>SCD</th>\n",
       "      <td>NaN</td>\n",
       "      <td>0.0</td>\n",
       "      <td>0.0</td>\n",
       "      <td>0.00</td>\n",
       "      <td>0.00</td>\n",
       "      <td>0.00</td>\n",
       "      <td>0.00</td>\n",
       "      <td>0.00</td>\n",
       "      <td>0.00</td>\n",
       "      <td>0.00</td>\n",
       "      <td>...</td>\n",
       "      <td>0.00</td>\n",
       "      <td>0.00</td>\n",
       "      <td>0.00</td>\n",
       "      <td>0.00</td>\n",
       "      <td>0.00</td>\n",
       "      <td>0.00</td>\n",
       "      <td>0.00</td>\n",
       "      <td>0.00</td>\n",
       "      <td>0.00</td>\n",
       "      <td>0.00</td>\n",
       "    </tr>\n",
       "    <tr>\n",
       "      <th>SNES</th>\n",
       "      <td>NaN</td>\n",
       "      <td>0.0</td>\n",
       "      <td>0.0</td>\n",
       "      <td>0.00</td>\n",
       "      <td>0.00</td>\n",
       "      <td>0.00</td>\n",
       "      <td>0.00</td>\n",
       "      <td>0.00</td>\n",
       "      <td>0.00</td>\n",
       "      <td>0.00</td>\n",
       "      <td>...</td>\n",
       "      <td>0.00</td>\n",
       "      <td>0.00</td>\n",
       "      <td>0.00</td>\n",
       "      <td>0.00</td>\n",
       "      <td>0.00</td>\n",
       "      <td>0.00</td>\n",
       "      <td>0.00</td>\n",
       "      <td>0.00</td>\n",
       "      <td>0.00</td>\n",
       "      <td>0.00</td>\n",
       "    </tr>\n",
       "    <tr>\n",
       "      <th>TG16</th>\n",
       "      <td>NaN</td>\n",
       "      <td>0.0</td>\n",
       "      <td>0.0</td>\n",
       "      <td>0.00</td>\n",
       "      <td>0.00</td>\n",
       "      <td>0.00</td>\n",
       "      <td>0.00</td>\n",
       "      <td>0.00</td>\n",
       "      <td>0.00</td>\n",
       "      <td>0.00</td>\n",
       "      <td>...</td>\n",
       "      <td>0.00</td>\n",
       "      <td>0.00</td>\n",
       "      <td>0.00</td>\n",
       "      <td>0.00</td>\n",
       "      <td>0.00</td>\n",
       "      <td>0.00</td>\n",
       "      <td>0.00</td>\n",
       "      <td>0.00</td>\n",
       "      <td>0.00</td>\n",
       "      <td>0.00</td>\n",
       "    </tr>\n",
       "    <tr>\n",
       "      <th>WS</th>\n",
       "      <td>NaN</td>\n",
       "      <td>0.0</td>\n",
       "      <td>0.0</td>\n",
       "      <td>0.00</td>\n",
       "      <td>0.00</td>\n",
       "      <td>0.00</td>\n",
       "      <td>0.00</td>\n",
       "      <td>0.00</td>\n",
       "      <td>0.00</td>\n",
       "      <td>0.00</td>\n",
       "      <td>...</td>\n",
       "      <td>0.00</td>\n",
       "      <td>0.00</td>\n",
       "      <td>0.00</td>\n",
       "      <td>0.00</td>\n",
       "      <td>0.00</td>\n",
       "      <td>0.00</td>\n",
       "      <td>0.00</td>\n",
       "      <td>0.00</td>\n",
       "      <td>0.00</td>\n",
       "      <td>0.00</td>\n",
       "    </tr>\n",
       "    <tr>\n",
       "      <th>Wii</th>\n",
       "      <td>NaN</td>\n",
       "      <td>0.0</td>\n",
       "      <td>0.0</td>\n",
       "      <td>0.00</td>\n",
       "      <td>0.00</td>\n",
       "      <td>0.00</td>\n",
       "      <td>0.00</td>\n",
       "      <td>0.00</td>\n",
       "      <td>0.00</td>\n",
       "      <td>0.00</td>\n",
       "      <td>...</td>\n",
       "      <td>15.62</td>\n",
       "      <td>18.55</td>\n",
       "      <td>51.98</td>\n",
       "      <td>-95.35</td>\n",
       "      <td>-68.30</td>\n",
       "      <td>-37.94</td>\n",
       "      <td>-13.12</td>\n",
       "      <td>-4.84</td>\n",
       "      <td>-2.61</td>\n",
       "      <td>-0.96</td>\n",
       "    </tr>\n",
       "    <tr>\n",
       "      <th>WiiU</th>\n",
       "      <td>NaN</td>\n",
       "      <td>0.0</td>\n",
       "      <td>0.0</td>\n",
       "      <td>0.00</td>\n",
       "      <td>0.00</td>\n",
       "      <td>0.00</td>\n",
       "      <td>0.00</td>\n",
       "      <td>0.00</td>\n",
       "      <td>0.00</td>\n",
       "      <td>0.00</td>\n",
       "      <td>...</td>\n",
       "      <td>0.00</td>\n",
       "      <td>0.00</td>\n",
       "      <td>0.00</td>\n",
       "      <td>0.00</td>\n",
       "      <td>0.00</td>\n",
       "      <td>17.56</td>\n",
       "      <td>4.09</td>\n",
       "      <td>0.38</td>\n",
       "      <td>-5.68</td>\n",
       "      <td>-11.75</td>\n",
       "    </tr>\n",
       "    <tr>\n",
       "      <th>X360</th>\n",
       "      <td>NaN</td>\n",
       "      <td>0.0</td>\n",
       "      <td>0.0</td>\n",
       "      <td>0.00</td>\n",
       "      <td>0.00</td>\n",
       "      <td>0.00</td>\n",
       "      <td>0.00</td>\n",
       "      <td>0.00</td>\n",
       "      <td>0.00</td>\n",
       "      <td>0.00</td>\n",
       "      <td>...</td>\n",
       "      <td>43.79</td>\n",
       "      <td>39.85</td>\n",
       "      <td>-14.97</td>\n",
       "      <td>59.92</td>\n",
       "      <td>-36.37</td>\n",
       "      <td>-44.10</td>\n",
       "      <td>-11.16</td>\n",
       "      <td>-53.84</td>\n",
       "      <td>-22.78</td>\n",
       "      <td>-10.44</td>\n",
       "    </tr>\n",
       "    <tr>\n",
       "      <th>XB</th>\n",
       "      <td>NaN</td>\n",
       "      <td>0.0</td>\n",
       "      <td>0.0</td>\n",
       "      <td>0.00</td>\n",
       "      <td>0.00</td>\n",
       "      <td>0.00</td>\n",
       "      <td>0.00</td>\n",
       "      <td>0.00</td>\n",
       "      <td>0.00</td>\n",
       "      <td>0.00</td>\n",
       "      <td>...</td>\n",
       "      <td>-9.49</td>\n",
       "      <td>-0.37</td>\n",
       "      <td>-0.18</td>\n",
       "      <td>0.00</td>\n",
       "      <td>0.00</td>\n",
       "      <td>0.00</td>\n",
       "      <td>0.00</td>\n",
       "      <td>0.00</td>\n",
       "      <td>0.00</td>\n",
       "      <td>0.00</td>\n",
       "    </tr>\n",
       "    <tr>\n",
       "      <th>XOne</th>\n",
       "      <td>NaN</td>\n",
       "      <td>0.0</td>\n",
       "      <td>0.0</td>\n",
       "      <td>0.00</td>\n",
       "      <td>0.00</td>\n",
       "      <td>0.00</td>\n",
       "      <td>0.00</td>\n",
       "      <td>0.00</td>\n",
       "      <td>0.00</td>\n",
       "      <td>0.00</td>\n",
       "      <td>...</td>\n",
       "      <td>0.00</td>\n",
       "      <td>0.00</td>\n",
       "      <td>0.00</td>\n",
       "      <td>0.00</td>\n",
       "      <td>0.00</td>\n",
       "      <td>0.00</td>\n",
       "      <td>18.96</td>\n",
       "      <td>35.11</td>\n",
       "      <td>6.07</td>\n",
       "      <td>-33.99</td>\n",
       "    </tr>\n",
       "  </tbody>\n",
       "</table>\n",
       "<p>31 rows × 37 columns</p>\n",
       "</div>"
      ],
      "text/plain": [
       "year_of_release  1980  1981  1982   1983   1984  1985   1986   1987   1988  \\\n",
       "platform                                                                     \n",
       "2600              NaN  24.3   3.7 -33.54  -5.57  0.18   0.22   1.27  -1.20   \n",
       "3DO               NaN   0.0   0.0   0.00   0.00  0.00   0.00   0.00   0.00   \n",
       "3DS               NaN   0.0   0.0   0.00   0.00  0.00   0.00   0.00   0.00   \n",
       "DC                NaN   0.0   0.0   0.00   0.00  0.00   0.00   0.00   0.00   \n",
       "DS                NaN   0.0   0.0   0.00   0.00  0.02  -0.02   0.00   0.00   \n",
       "GB                NaN   0.0   0.0   0.00   0.00  0.00   0.00   0.00   1.43   \n",
       "GBA               NaN   0.0   0.0   0.00   0.00  0.00   0.00   0.00   0.00   \n",
       "GC                NaN   0.0   0.0   0.00   0.00  0.00   0.00   0.00   0.00   \n",
       "GEN               NaN   0.0   0.0   0.00   0.00  0.00   0.00   0.00   0.00   \n",
       "GG                NaN   0.0   0.0   0.00   0.00  0.00   0.00   0.00   0.00   \n",
       "N64               NaN   0.0   0.0   0.00   0.00  0.00   0.00   0.00   0.00   \n",
       "NES               NaN   0.0   0.0  10.96  39.12  3.36 -17.03 -16.65  25.25   \n",
       "NG                NaN   0.0   0.0   0.00   0.00  0.00   0.00   0.00   0.00   \n",
       "PC                NaN   0.0   0.0   0.00   0.00  0.04  -0.04   0.00   0.03   \n",
       "PCFX              NaN   0.0   0.0   0.00   0.00  0.00   0.00   0.00   0.00   \n",
       "PS                NaN   0.0   0.0   0.00   0.00  0.00   0.00   0.00   0.00   \n",
       "PS2               NaN   0.0   0.0   0.00   0.00  0.00   0.00   0.00   0.00   \n",
       "PS3               NaN   0.0   0.0   0.00   0.00  0.00   0.00   0.00   0.00   \n",
       "PS4               NaN   0.0   0.0   0.00   0.00  0.00   0.00   0.00   0.00   \n",
       "PSP               NaN   0.0   0.0   0.00   0.00  0.00   0.00   0.00   0.00   \n",
       "PSV               NaN   0.0   0.0   0.00   0.00  0.00   0.00   0.00   0.00   \n",
       "SAT               NaN   0.0   0.0   0.00   0.00  0.00   0.00   0.00   0.00   \n",
       "SCD               NaN   0.0   0.0   0.00   0.00  0.00   0.00   0.00   0.00   \n",
       "SNES              NaN   0.0   0.0   0.00   0.00  0.00   0.00   0.00   0.00   \n",
       "TG16              NaN   0.0   0.0   0.00   0.00  0.00   0.00   0.00   0.00   \n",
       "WS                NaN   0.0   0.0   0.00   0.00  0.00   0.00   0.00   0.00   \n",
       "Wii               NaN   0.0   0.0   0.00   0.00  0.00   0.00   0.00   0.00   \n",
       "WiiU              NaN   0.0   0.0   0.00   0.00  0.00   0.00   0.00   0.00   \n",
       "X360              NaN   0.0   0.0   0.00   0.00  0.00   0.00   0.00   0.00   \n",
       "XB                NaN   0.0   0.0   0.00   0.00  0.00   0.00   0.00   0.00   \n",
       "XOne              NaN   0.0   0.0   0.00   0.00  0.00   0.00   0.00   0.00   \n",
       "\n",
       "year_of_release   1989  ...   2007   2008   2009   2010   2011   2012   2013  \\\n",
       "platform                ...                                                    \n",
       "2600             -0.11  ...   0.00   0.00   0.00   0.00   0.00   0.00   0.00   \n",
       "3DO               0.00  ...   0.00   0.00   0.00   0.00   0.00   0.00   0.00   \n",
       "3DS               0.00  ...   0.00   0.00   0.00   0.00  63.20 -11.84   6.40   \n",
       "DC                0.00  ...   0.02   0.02  -0.04   0.00   0.00   0.00   0.00   \n",
       "DS                0.00  ...  27.13   1.71 -29.11 -34.52 -58.84 -15.17  -9.47   \n",
       "GB               63.54  ...   0.00   0.00   0.00   0.00   0.00   0.00   0.00   \n",
       "GBA               0.00  ...  -1.88  -3.40   0.00   0.00   0.00   0.00   0.00   \n",
       "GC                0.00  ... -10.99  -0.27   0.00   0.00   0.00   0.00   0.00   \n",
       "GEN               0.00  ...   0.00   0.00   0.00   0.00   0.00   0.00   0.00   \n",
       "GG                0.00  ...   0.00   0.00   0.00   0.00   0.00   0.00   0.00   \n",
       "N64               0.00  ...   0.00   0.00   0.00   0.00   0.00   0.00   0.00   \n",
       "NES             -37.16  ...   0.00   0.00   0.00   0.00   0.00   0.00   0.00   \n",
       "NG                0.00  ...   0.00   0.00   0.00   0.00   0.00   0.00   0.00   \n",
       "PC               -0.03  ...   6.43   3.14   4.49  11.13   6.99 -11.81 -10.84   \n",
       "PCFX              0.00  ...   0.00   0.00   0.00   0.00   0.00   0.00   0.00   \n",
       "PS                0.00  ...   0.00   0.00   0.00   0.00   0.00   0.00   0.00   \n",
       "PS2               0.00  ... -27.43 -22.09 -27.50 -20.76  -5.19  -0.45   0.00   \n",
       "PS3               0.00  ...  52.23  45.33  12.41  11.24  22.92 -57.73   5.89   \n",
       "PS4               0.00  ...   0.00   0.00   0.00   0.00   0.00   0.00  25.99   \n",
       "PSP               0.00  ...  -8.39 -12.38   7.75  -7.26 -17.22 -10.13  -4.55   \n",
       "PSV               0.00  ...   0.00   0.00   0.00   0.00   4.63  11.56  -5.60   \n",
       "SAT               0.00  ...   0.00   0.00   0.00   0.00   0.00   0.00   0.00   \n",
       "SCD               0.00  ...   0.00   0.00   0.00   0.00   0.00   0.00   0.00   \n",
       "SNES              0.00  ...   0.00   0.00   0.00   0.00   0.00   0.00   0.00   \n",
       "TG16              0.00  ...   0.00   0.00   0.00   0.00   0.00   0.00   0.00   \n",
       "WS                0.00  ...   0.00   0.00   0.00   0.00   0.00   0.00   0.00   \n",
       "Wii               0.00  ...  15.62  18.55  51.98 -95.35 -68.30 -37.94 -13.12   \n",
       "WiiU              0.00  ...   0.00   0.00   0.00   0.00   0.00  17.56   4.09   \n",
       "X360              0.00  ...  43.79  39.85 -14.97  59.92 -36.37 -44.10 -11.16   \n",
       "XB                0.00  ...  -9.49  -0.37  -0.18   0.00   0.00   0.00   0.00   \n",
       "XOne              0.00  ...   0.00   0.00   0.00   0.00   0.00   0.00  18.96   \n",
       "\n",
       "year_of_release   2014   2015   2016  \n",
       "platform                              \n",
       "2600              0.00   0.00   0.00  \n",
       "3DO               0.00   0.00   0.00  \n",
       "3DS             -14.00 -15.98 -12.64  \n",
       "DC                0.00   0.00   0.00  \n",
       "DS               -1.54   0.00   0.00  \n",
       "GB                0.00   0.00   0.00  \n",
       "GBA               0.00   0.00   0.00  \n",
       "GC                0.00   0.00   0.00  \n",
       "GEN               0.00   0.00   0.00  \n",
       "GG                0.00   0.00   0.00  \n",
       "N64               0.00   0.00   0.00  \n",
       "NES               0.00   0.00   0.00  \n",
       "NG                0.00   0.00   0.00  \n",
       "PC                0.90  -4.76  -3.27  \n",
       "PCFX              0.00   0.00   0.00  \n",
       "PS                0.00   0.00   0.00  \n",
       "PS2               0.00   0.00   0.00  \n",
       "PS3             -65.49 -30.94 -13.22  \n",
       "PS4              74.01  18.90 -49.65  \n",
       "PSP              -2.90  -0.12  -0.12  \n",
       "PSV               1.57  -5.91  -2.00  \n",
       "SAT               0.00   0.00   0.00  \n",
       "SCD               0.00   0.00   0.00  \n",
       "SNES              0.00   0.00   0.00  \n",
       "TG16              0.00   0.00   0.00  \n",
       "WS                0.00   0.00   0.00  \n",
       "Wii              -4.84  -2.61  -0.96  \n",
       "WiiU              0.38  -5.68 -11.75  \n",
       "X360            -53.84 -22.78 -10.44  \n",
       "XB                0.00   0.00   0.00  \n",
       "XOne             35.11   6.07 -33.99  \n",
       "\n",
       "[31 rows x 37 columns]"
      ]
     },
     "execution_count": 630,
     "metadata": {},
     "output_type": "execute_result"
    }
   ],
   "source": [
    "dynamics_0=(platform_sales_per_year-platform_sales_per_year.shift(+1)).T\n",
    "dynamics_0"
   ]
  },
  {
   "cell_type": "markdown",
   "metadata": {},
   "source": [
    "It is tough to read a pivot table like this. Let's create a heatmap to show the emerging and decrease of each platform in terms of sales."
   ]
  },
  {
   "cell_type": "code",
   "execution_count": 631,
   "metadata": {},
   "outputs": [
    {
     "data": {
      "image/png": "[encoded data removed]",
      "text/plain": [
       "<Figure size 936x648 with 2 Axes>"
      ]
     },
     "metadata": {
      "needs_background": "light"
     },
     "output_type": "display_data"
    }
   ],
   "source": [
    "plt.figure(figsize=(13,9))\n",
    "sns.heatmap(dynamics_0, center=0)\n",
    "plt.title('Platform growth and decreasing heatmap.', fontdict={'size':15})\n",
    "plt.ylabel('Platform')\n",
    "plt.xlabel('Years')\n",
    "plt.show()"
   ]
  },
  {
   "cell_type": "markdown",
   "metadata": {},
   "source": [
    "We see that, in general, its take 3-4 year for a platform to emerge and fade away."
   ]
  },
  {
   "cell_type": "markdown",
   "metadata": {},
   "source": [
    "Let't Determine what period you should take data for"
   ]
  },
  {
   "cell_type": "code",
   "execution_count": 632,
   "metadata": {},
   "outputs": [
    {
     "data": {
      "text/html": [
       "<div>\n",
       "<style scoped>\n",
       "    .dataframe tbody tr th:only-of-type {\n",
       "        vertical-align: middle;\n",
       "    }\n",
       "\n",
       "    .dataframe tbody tr th {\n",
       "        vertical-align: top;\n",
       "    }\n",
       "\n",
       "    .dataframe thead th {\n",
       "        text-align: right;\n",
       "    }\n",
       "</style>\n",
       "<table border=\"1\" class=\"dataframe\">\n",
       "  <thead>\n",
       "    <tr style=\"text-align: right;\">\n",
       "      <th></th>\n",
       "      <th>name</th>\n",
       "      <th>platform</th>\n",
       "      <th>year_of_release</th>\n",
       "      <th>genre</th>\n",
       "      <th>na_sales</th>\n",
       "      <th>eu_sales</th>\n",
       "      <th>jp_sales</th>\n",
       "      <th>other_sales</th>\n",
       "      <th>critic_score</th>\n",
       "      <th>user_score</th>\n",
       "      <th>rating</th>\n",
       "      <th>total_sales</th>\n",
       "    </tr>\n",
       "  </thead>\n",
       "  <tbody>\n",
       "    <tr>\n",
       "      <th>16</th>\n",
       "      <td>Grand Theft Auto V</td>\n",
       "      <td>PS3</td>\n",
       "      <td>2013</td>\n",
       "      <td>Action</td>\n",
       "      <td>7.02</td>\n",
       "      <td>9.09</td>\n",
       "      <td>0.98</td>\n",
       "      <td>3.96</td>\n",
       "      <td>97.0</td>\n",
       "      <td>8.2</td>\n",
       "      <td>M</td>\n",
       "      <td>21.05</td>\n",
       "    </tr>\n",
       "    <tr>\n",
       "      <th>23</th>\n",
       "      <td>Grand Theft Auto V</td>\n",
       "      <td>X360</td>\n",
       "      <td>2013</td>\n",
       "      <td>Action</td>\n",
       "      <td>9.66</td>\n",
       "      <td>5.14</td>\n",
       "      <td>0.06</td>\n",
       "      <td>1.41</td>\n",
       "      <td>97.0</td>\n",
       "      <td>8.1</td>\n",
       "      <td>M</td>\n",
       "      <td>16.27</td>\n",
       "    </tr>\n",
       "    <tr>\n",
       "      <th>31</th>\n",
       "      <td>Call of Duty: Black Ops 3</td>\n",
       "      <td>PS4</td>\n",
       "      <td>2015</td>\n",
       "      <td>Shooter</td>\n",
       "      <td>6.03</td>\n",
       "      <td>5.86</td>\n",
       "      <td>0.36</td>\n",
       "      <td>2.38</td>\n",
       "      <td>73.0</td>\n",
       "      <td>7.0</td>\n",
       "      <td>N/A</td>\n",
       "      <td>14.63</td>\n",
       "    </tr>\n",
       "    <tr>\n",
       "      <th>33</th>\n",
       "      <td>Pokemon X/Pokemon Y</td>\n",
       "      <td>3DS</td>\n",
       "      <td>2013</td>\n",
       "      <td>Role-Playing</td>\n",
       "      <td>5.28</td>\n",
       "      <td>4.19</td>\n",
       "      <td>4.35</td>\n",
       "      <td>0.78</td>\n",
       "      <td>64.0</td>\n",
       "      <td>6.3</td>\n",
       "      <td>N/A</td>\n",
       "      <td>14.60</td>\n",
       "    </tr>\n",
       "    <tr>\n",
       "      <th>34</th>\n",
       "      <td>Call of Duty: Black Ops II</td>\n",
       "      <td>PS3</td>\n",
       "      <td>2012</td>\n",
       "      <td>Shooter</td>\n",
       "      <td>4.99</td>\n",
       "      <td>5.73</td>\n",
       "      <td>0.65</td>\n",
       "      <td>2.42</td>\n",
       "      <td>83.0</td>\n",
       "      <td>5.3</td>\n",
       "      <td>M</td>\n",
       "      <td>13.79</td>\n",
       "    </tr>\n",
       "    <tr>\n",
       "      <th>...</th>\n",
       "      <td>...</td>\n",
       "      <td>...</td>\n",
       "      <td>...</td>\n",
       "      <td>...</td>\n",
       "      <td>...</td>\n",
       "      <td>...</td>\n",
       "      <td>...</td>\n",
       "      <td>...</td>\n",
       "      <td>...</td>\n",
       "      <td>...</td>\n",
       "      <td>...</td>\n",
       "      <td>...</td>\n",
       "    </tr>\n",
       "    <tr>\n",
       "      <th>16703</th>\n",
       "      <td>Strawberry Nauts</td>\n",
       "      <td>PSV</td>\n",
       "      <td>2016</td>\n",
       "      <td>Adventure</td>\n",
       "      <td>0.00</td>\n",
       "      <td>0.00</td>\n",
       "      <td>0.01</td>\n",
       "      <td>0.00</td>\n",
       "      <td>71.0</td>\n",
       "      <td>7.5</td>\n",
       "      <td>N/A</td>\n",
       "      <td>0.01</td>\n",
       "    </tr>\n",
       "    <tr>\n",
       "      <th>16707</th>\n",
       "      <td>Aiyoku no Eustia</td>\n",
       "      <td>PSV</td>\n",
       "      <td>2014</td>\n",
       "      <td>Misc</td>\n",
       "      <td>0.00</td>\n",
       "      <td>0.00</td>\n",
       "      <td>0.01</td>\n",
       "      <td>0.00</td>\n",
       "      <td>71.0</td>\n",
       "      <td>7.5</td>\n",
       "      <td>N/A</td>\n",
       "      <td>0.01</td>\n",
       "    </tr>\n",
       "    <tr>\n",
       "      <th>16710</th>\n",
       "      <td>Samurai Warriors: Sanada Maru</td>\n",
       "      <td>PS3</td>\n",
       "      <td>2016</td>\n",
       "      <td>Action</td>\n",
       "      <td>0.00</td>\n",
       "      <td>0.00</td>\n",
       "      <td>0.01</td>\n",
       "      <td>0.00</td>\n",
       "      <td>71.0</td>\n",
       "      <td>6.9</td>\n",
       "      <td>N/A</td>\n",
       "      <td>0.01</td>\n",
       "    </tr>\n",
       "    <tr>\n",
       "      <th>16712</th>\n",
       "      <td>Haitaka no Psychedelica</td>\n",
       "      <td>PSV</td>\n",
       "      <td>2016</td>\n",
       "      <td>Adventure</td>\n",
       "      <td>0.00</td>\n",
       "      <td>0.00</td>\n",
       "      <td>0.01</td>\n",
       "      <td>0.00</td>\n",
       "      <td>71.0</td>\n",
       "      <td>7.5</td>\n",
       "      <td>N/A</td>\n",
       "      <td>0.01</td>\n",
       "    </tr>\n",
       "    <tr>\n",
       "      <th>16714</th>\n",
       "      <td>Winning Post 8 2016</td>\n",
       "      <td>PSV</td>\n",
       "      <td>2016</td>\n",
       "      <td>Simulation</td>\n",
       "      <td>0.00</td>\n",
       "      <td>0.00</td>\n",
       "      <td>0.01</td>\n",
       "      <td>0.00</td>\n",
       "      <td>71.0</td>\n",
       "      <td>7.5</td>\n",
       "      <td>N/A</td>\n",
       "      <td>0.01</td>\n",
       "    </tr>\n",
       "  </tbody>\n",
       "</table>\n",
       "<p>2895 rows × 12 columns</p>\n",
       "</div>"
      ],
      "text/plain": [
       "                                name platform  year_of_release         genre  \\\n",
       "16                Grand Theft Auto V      PS3             2013        Action   \n",
       "23                Grand Theft Auto V     X360             2013        Action   \n",
       "31         Call of Duty: Black Ops 3      PS4             2015       Shooter   \n",
       "33               Pokemon X/Pokemon Y      3DS             2013  Role-Playing   \n",
       "34        Call of Duty: Black Ops II      PS3             2012       Shooter   \n",
       "...                              ...      ...              ...           ...   \n",
       "16703               Strawberry Nauts      PSV             2016     Adventure   \n",
       "16707               Aiyoku no Eustia      PSV             2014          Misc   \n",
       "16710  Samurai Warriors: Sanada Maru      PS3             2016        Action   \n",
       "16712        Haitaka no Psychedelica      PSV             2016     Adventure   \n",
       "16714            Winning Post 8 2016      PSV             2016    Simulation   \n",
       "\n",
       "       na_sales  eu_sales  jp_sales  other_sales  critic_score  user_score  \\\n",
       "16         7.02      9.09      0.98         3.96          97.0         8.2   \n",
       "23         9.66      5.14      0.06         1.41          97.0         8.1   \n",
       "31         6.03      5.86      0.36         2.38          73.0         7.0   \n",
       "33         5.28      4.19      4.35         0.78          64.0         6.3   \n",
       "34         4.99      5.73      0.65         2.42          83.0         5.3   \n",
       "...         ...       ...       ...          ...           ...         ...   \n",
       "16703      0.00      0.00      0.01         0.00          71.0         7.5   \n",
       "16707      0.00      0.00      0.01         0.00          71.0         7.5   \n",
       "16710      0.00      0.00      0.01         0.00          71.0         6.9   \n",
       "16712      0.00      0.00      0.01         0.00          71.0         7.5   \n",
       "16714      0.00      0.00      0.01         0.00          71.0         7.5   \n",
       "\n",
       "      rating  total_sales  \n",
       "16         M        21.05  \n",
       "23         M        16.27  \n",
       "31       N/A        14.63  \n",
       "33       N/A        14.60  \n",
       "34         M        13.79  \n",
       "...      ...          ...  \n",
       "16703    N/A         0.01  \n",
       "16707    N/A         0.01  \n",
       "16710    N/A         0.01  \n",
       "16712    N/A         0.01  \n",
       "16714    N/A         0.01  \n",
       "\n",
       "[2895 rows x 12 columns]"
      ]
     },
     "execution_count": 632,
     "metadata": {},
     "output_type": "execute_result"
    }
   ],
   "source": [
    "new_data=data[data.year_of_release>=2012]\n",
    "new_data"
   ]
  },
  {
   "cell_type": "markdown",
   "metadata": {},
   "source": [
    "Let's determine Which platforms are leading in sales? Which ones are growing or shrinking? And we will Select several potentially profitable platforms."
   ]
  },
  {
   "cell_type": "code",
   "execution_count": 633,
   "metadata": {},
   "outputs": [
    {
     "data": {
      "text/html": [
       "<div>\n",
       "<style scoped>\n",
       "    .dataframe tbody tr th:only-of-type {\n",
       "        vertical-align: middle;\n",
       "    }\n",
       "\n",
       "    .dataframe tbody tr th {\n",
       "        vertical-align: top;\n",
       "    }\n",
       "\n",
       "    .dataframe thead th {\n",
       "        text-align: right;\n",
       "    }\n",
       "</style>\n",
       "<table border=\"1\" class=\"dataframe\">\n",
       "  <thead>\n",
       "    <tr style=\"text-align: right;\">\n",
       "      <th>platform</th>\n",
       "      <th>3DS</th>\n",
       "      <th>DS</th>\n",
       "      <th>PC</th>\n",
       "      <th>PS3</th>\n",
       "      <th>PS4</th>\n",
       "      <th>PSP</th>\n",
       "      <th>PSV</th>\n",
       "      <th>Wii</th>\n",
       "      <th>WiiU</th>\n",
       "      <th>X360</th>\n",
       "      <th>XOne</th>\n",
       "    </tr>\n",
       "    <tr>\n",
       "      <th>year_of_release</th>\n",
       "      <th></th>\n",
       "      <th></th>\n",
       "      <th></th>\n",
       "      <th></th>\n",
       "      <th></th>\n",
       "      <th></th>\n",
       "      <th></th>\n",
       "      <th></th>\n",
       "      <th></th>\n",
       "      <th></th>\n",
       "      <th></th>\n",
       "    </tr>\n",
       "  </thead>\n",
       "  <tbody>\n",
       "    <tr>\n",
       "      <th>2012</th>\n",
       "      <td>51.36</td>\n",
       "      <td>11.01</td>\n",
       "      <td>23.22</td>\n",
       "      <td>107.36</td>\n",
       "      <td>0.00</td>\n",
       "      <td>7.69</td>\n",
       "      <td>16.19</td>\n",
       "      <td>21.71</td>\n",
       "      <td>17.56</td>\n",
       "      <td>99.74</td>\n",
       "      <td>0.00</td>\n",
       "    </tr>\n",
       "    <tr>\n",
       "      <th>2013</th>\n",
       "      <td>57.76</td>\n",
       "      <td>1.54</td>\n",
       "      <td>12.38</td>\n",
       "      <td>113.25</td>\n",
       "      <td>25.99</td>\n",
       "      <td>3.14</td>\n",
       "      <td>10.59</td>\n",
       "      <td>8.59</td>\n",
       "      <td>21.65</td>\n",
       "      <td>88.58</td>\n",
       "      <td>18.96</td>\n",
       "    </tr>\n",
       "    <tr>\n",
       "      <th>2014</th>\n",
       "      <td>43.76</td>\n",
       "      <td>0.00</td>\n",
       "      <td>13.28</td>\n",
       "      <td>47.76</td>\n",
       "      <td>100.00</td>\n",
       "      <td>0.24</td>\n",
       "      <td>12.16</td>\n",
       "      <td>3.75</td>\n",
       "      <td>22.03</td>\n",
       "      <td>34.74</td>\n",
       "      <td>54.07</td>\n",
       "    </tr>\n",
       "    <tr>\n",
       "      <th>2015</th>\n",
       "      <td>27.78</td>\n",
       "      <td>0.00</td>\n",
       "      <td>8.52</td>\n",
       "      <td>16.82</td>\n",
       "      <td>118.90</td>\n",
       "      <td>0.12</td>\n",
       "      <td>6.25</td>\n",
       "      <td>1.14</td>\n",
       "      <td>16.35</td>\n",
       "      <td>11.96</td>\n",
       "      <td>60.14</td>\n",
       "    </tr>\n",
       "    <tr>\n",
       "      <th>2016</th>\n",
       "      <td>15.14</td>\n",
       "      <td>0.00</td>\n",
       "      <td>5.25</td>\n",
       "      <td>3.60</td>\n",
       "      <td>69.25</td>\n",
       "      <td>0.00</td>\n",
       "      <td>4.25</td>\n",
       "      <td>0.18</td>\n",
       "      <td>4.60</td>\n",
       "      <td>1.52</td>\n",
       "      <td>26.15</td>\n",
       "    </tr>\n",
       "  </tbody>\n",
       "</table>\n",
       "</div>"
      ],
      "text/plain": [
       "platform           3DS     DS     PC     PS3     PS4   PSP    PSV    Wii  \\\n",
       "year_of_release                                                            \n",
       "2012             51.36  11.01  23.22  107.36    0.00  7.69  16.19  21.71   \n",
       "2013             57.76   1.54  12.38  113.25   25.99  3.14  10.59   8.59   \n",
       "2014             43.76   0.00  13.28   47.76  100.00  0.24  12.16   3.75   \n",
       "2015             27.78   0.00   8.52   16.82  118.90  0.12   6.25   1.14   \n",
       "2016             15.14   0.00   5.25    3.60   69.25  0.00   4.25   0.18   \n",
       "\n",
       "platform          WiiU   X360   XOne  \n",
       "year_of_release                       \n",
       "2012             17.56  99.74   0.00  \n",
       "2013             21.65  88.58  18.96  \n",
       "2014             22.03  34.74  54.07  \n",
       "2015             16.35  11.96  60.14  \n",
       "2016              4.60   1.52  26.15  "
      ]
     },
     "execution_count": 633,
     "metadata": {},
     "output_type": "execute_result"
    }
   ],
   "source": [
    "leading_sales = pd.pivot_table(new_data, index= 'year_of_release', columns='platform', values='total_sales', aggfunc='sum', fill_value=0)\n",
    "leading_sales.tail()"
   ]
  },
  {
   "cell_type": "code",
   "execution_count": 634,
   "metadata": {},
   "outputs": [
    {
     "data": {
      "text/html": [
       "<div>\n",
       "<style scoped>\n",
       "    .dataframe tbody tr th:only-of-type {\n",
       "        vertical-align: middle;\n",
       "    }\n",
       "\n",
       "    .dataframe tbody tr th {\n",
       "        vertical-align: top;\n",
       "    }\n",
       "\n",
       "    .dataframe thead th {\n",
       "        text-align: right;\n",
       "    }\n",
       "</style>\n",
       "<table border=\"1\" class=\"dataframe\">\n",
       "  <thead>\n",
       "    <tr style=\"text-align: right;\">\n",
       "      <th>year_of_release</th>\n",
       "      <th>2012</th>\n",
       "      <th>2013</th>\n",
       "      <th>2014</th>\n",
       "      <th>2015</th>\n",
       "      <th>2016</th>\n",
       "    </tr>\n",
       "    <tr>\n",
       "      <th>platform</th>\n",
       "      <th></th>\n",
       "      <th></th>\n",
       "      <th></th>\n",
       "      <th></th>\n",
       "      <th></th>\n",
       "    </tr>\n",
       "  </thead>\n",
       "  <tbody>\n",
       "    <tr>\n",
       "      <th>3DS</th>\n",
       "      <td>NaN</td>\n",
       "      <td>6.40</td>\n",
       "      <td>-14.00</td>\n",
       "      <td>-15.98</td>\n",
       "      <td>-12.64</td>\n",
       "    </tr>\n",
       "    <tr>\n",
       "      <th>DS</th>\n",
       "      <td>NaN</td>\n",
       "      <td>-9.47</td>\n",
       "      <td>-1.54</td>\n",
       "      <td>0.00</td>\n",
       "      <td>0.00</td>\n",
       "    </tr>\n",
       "    <tr>\n",
       "      <th>PC</th>\n",
       "      <td>NaN</td>\n",
       "      <td>-10.84</td>\n",
       "      <td>0.90</td>\n",
       "      <td>-4.76</td>\n",
       "      <td>-3.27</td>\n",
       "    </tr>\n",
       "    <tr>\n",
       "      <th>PS3</th>\n",
       "      <td>NaN</td>\n",
       "      <td>5.89</td>\n",
       "      <td>-65.49</td>\n",
       "      <td>-30.94</td>\n",
       "      <td>-13.22</td>\n",
       "    </tr>\n",
       "    <tr>\n",
       "      <th>PS4</th>\n",
       "      <td>NaN</td>\n",
       "      <td>25.99</td>\n",
       "      <td>74.01</td>\n",
       "      <td>18.90</td>\n",
       "      <td>-49.65</td>\n",
       "    </tr>\n",
       "    <tr>\n",
       "      <th>PSP</th>\n",
       "      <td>NaN</td>\n",
       "      <td>-4.55</td>\n",
       "      <td>-2.90</td>\n",
       "      <td>-0.12</td>\n",
       "      <td>-0.12</td>\n",
       "    </tr>\n",
       "    <tr>\n",
       "      <th>PSV</th>\n",
       "      <td>NaN</td>\n",
       "      <td>-5.60</td>\n",
       "      <td>1.57</td>\n",
       "      <td>-5.91</td>\n",
       "      <td>-2.00</td>\n",
       "    </tr>\n",
       "    <tr>\n",
       "      <th>Wii</th>\n",
       "      <td>NaN</td>\n",
       "      <td>-13.12</td>\n",
       "      <td>-4.84</td>\n",
       "      <td>-2.61</td>\n",
       "      <td>-0.96</td>\n",
       "    </tr>\n",
       "    <tr>\n",
       "      <th>WiiU</th>\n",
       "      <td>NaN</td>\n",
       "      <td>4.09</td>\n",
       "      <td>0.38</td>\n",
       "      <td>-5.68</td>\n",
       "      <td>-11.75</td>\n",
       "    </tr>\n",
       "    <tr>\n",
       "      <th>X360</th>\n",
       "      <td>NaN</td>\n",
       "      <td>-11.16</td>\n",
       "      <td>-53.84</td>\n",
       "      <td>-22.78</td>\n",
       "      <td>-10.44</td>\n",
       "    </tr>\n",
       "    <tr>\n",
       "      <th>XOne</th>\n",
       "      <td>NaN</td>\n",
       "      <td>18.96</td>\n",
       "      <td>35.11</td>\n",
       "      <td>6.07</td>\n",
       "      <td>-33.99</td>\n",
       "    </tr>\n",
       "  </tbody>\n",
       "</table>\n",
       "</div>"
      ],
      "text/plain": [
       "year_of_release  2012   2013   2014   2015   2016\n",
       "platform                                         \n",
       "3DS               NaN   6.40 -14.00 -15.98 -12.64\n",
       "DS                NaN  -9.47  -1.54   0.00   0.00\n",
       "PC                NaN -10.84   0.90  -4.76  -3.27\n",
       "PS3               NaN   5.89 -65.49 -30.94 -13.22\n",
       "PS4               NaN  25.99  74.01  18.90 -49.65\n",
       "PSP               NaN  -4.55  -2.90  -0.12  -0.12\n",
       "PSV               NaN  -5.60   1.57  -5.91  -2.00\n",
       "Wii               NaN -13.12  -4.84  -2.61  -0.96\n",
       "WiiU              NaN   4.09   0.38  -5.68 -11.75\n",
       "X360              NaN -11.16 -53.84 -22.78 -10.44\n",
       "XOne              NaN  18.96  35.11   6.07 -33.99"
      ]
     },
     "execution_count": 634,
     "metadata": {},
     "output_type": "execute_result"
    }
   ],
   "source": [
    "dynamics=(leading_sales-leading_sales.shift(+1)).T\n",
    "dynamics"
   ]
  },
  {
   "cell_type": "markdown",
   "metadata": {},
   "source": [
    "We will use the exact heatmap visualization for this."
   ]
  },
  {
   "cell_type": "code",
   "execution_count": 635,
   "metadata": {},
   "outputs": [
    {
     "data": {
      "image/png": "[encoded data removed]",
      "text/plain": [
       "<Figure size 936x648 with 2 Axes>"
      ]
     },
     "metadata": {
      "needs_background": "light"
     },
     "output_type": "display_data"
    }
   ],
   "source": [
    "plt.figure(figsize=(13,9))\n",
    "sns.heatmap(dynamics, center=0)\n",
    "plt.title('Platform growth and decreasing heatmap 2012 - 2017', fontdict={'size':15})\n",
    "plt.ylabel('Platform')\n",
    "plt.xlabel('Years')\n",
    "plt.show()"
   ]
  },
  {
   "cell_type": "markdown",
   "metadata": {},
   "source": [
    "In this visualization, we see which platform is growing and decreasing.\n",
    "\n",
    "\n",
    "- For example, ps3 dropped in 2013 but slowly increased in 2016.\n",
    "- 3ds are decreasing slowly.\n",
    "- x360 decrease in 2130 - 2014 then increases in 2015 - 2016.\n",
    "- XOne had good years in 2013  - 2014 but decreased in 2015 - 2016.\n",
    "\n",
    "\n",
    "Generally, most platforms are decreasing, but we will consider those mentioned above as the successful platform of 2013 - 2017."
   ]
  },
  {
   "cell_type": "code",
   "execution_count": 636,
   "metadata": {},
   "outputs": [
    {
     "data": {
      "text/html": [
       "<div>\n",
       "<style scoped>\n",
       "    .dataframe tbody tr th:only-of-type {\n",
       "        vertical-align: middle;\n",
       "    }\n",
       "\n",
       "    .dataframe tbody tr th {\n",
       "        vertical-align: top;\n",
       "    }\n",
       "\n",
       "    .dataframe thead th {\n",
       "        text-align: right;\n",
       "    }\n",
       "</style>\n",
       "<table border=\"1\" class=\"dataframe\">\n",
       "  <thead>\n",
       "    <tr style=\"text-align: right;\">\n",
       "      <th></th>\n",
       "      <th>name</th>\n",
       "      <th>platform</th>\n",
       "      <th>year_of_release</th>\n",
       "      <th>genre</th>\n",
       "      <th>na_sales</th>\n",
       "      <th>eu_sales</th>\n",
       "      <th>jp_sales</th>\n",
       "      <th>other_sales</th>\n",
       "      <th>critic_score</th>\n",
       "      <th>user_score</th>\n",
       "      <th>rating</th>\n",
       "      <th>total_sales</th>\n",
       "    </tr>\n",
       "  </thead>\n",
       "  <tbody>\n",
       "    <tr>\n",
       "      <th>14</th>\n",
       "      <td>Kinect Adventures!</td>\n",
       "      <td>X360</td>\n",
       "      <td>2010</td>\n",
       "      <td>Misc</td>\n",
       "      <td>15.00</td>\n",
       "      <td>4.89</td>\n",
       "      <td>0.24</td>\n",
       "      <td>1.69</td>\n",
       "      <td>61.0</td>\n",
       "      <td>6.3</td>\n",
       "      <td>E</td>\n",
       "      <td>21.82</td>\n",
       "    </tr>\n",
       "    <tr>\n",
       "      <th>16</th>\n",
       "      <td>Grand Theft Auto V</td>\n",
       "      <td>PS3</td>\n",
       "      <td>2013</td>\n",
       "      <td>Action</td>\n",
       "      <td>7.02</td>\n",
       "      <td>9.09</td>\n",
       "      <td>0.98</td>\n",
       "      <td>3.96</td>\n",
       "      <td>97.0</td>\n",
       "      <td>8.2</td>\n",
       "      <td>M</td>\n",
       "      <td>21.05</td>\n",
       "    </tr>\n",
       "    <tr>\n",
       "      <th>23</th>\n",
       "      <td>Grand Theft Auto V</td>\n",
       "      <td>X360</td>\n",
       "      <td>2013</td>\n",
       "      <td>Action</td>\n",
       "      <td>9.66</td>\n",
       "      <td>5.14</td>\n",
       "      <td>0.06</td>\n",
       "      <td>1.41</td>\n",
       "      <td>97.0</td>\n",
       "      <td>8.1</td>\n",
       "      <td>M</td>\n",
       "      <td>16.27</td>\n",
       "    </tr>\n",
       "    <tr>\n",
       "      <th>29</th>\n",
       "      <td>Call of Duty: Modern Warfare 3</td>\n",
       "      <td>X360</td>\n",
       "      <td>2011</td>\n",
       "      <td>Shooter</td>\n",
       "      <td>9.04</td>\n",
       "      <td>4.24</td>\n",
       "      <td>0.13</td>\n",
       "      <td>1.32</td>\n",
       "      <td>88.0</td>\n",
       "      <td>3.4</td>\n",
       "      <td>M</td>\n",
       "      <td>14.73</td>\n",
       "    </tr>\n",
       "    <tr>\n",
       "      <th>31</th>\n",
       "      <td>Call of Duty: Black Ops 3</td>\n",
       "      <td>PS4</td>\n",
       "      <td>2015</td>\n",
       "      <td>Shooter</td>\n",
       "      <td>6.03</td>\n",
       "      <td>5.86</td>\n",
       "      <td>0.36</td>\n",
       "      <td>2.38</td>\n",
       "      <td>73.0</td>\n",
       "      <td>7.0</td>\n",
       "      <td>N/A</td>\n",
       "      <td>14.63</td>\n",
       "    </tr>\n",
       "    <tr>\n",
       "      <th>...</th>\n",
       "      <td>...</td>\n",
       "      <td>...</td>\n",
       "      <td>...</td>\n",
       "      <td>...</td>\n",
       "      <td>...</td>\n",
       "      <td>...</td>\n",
       "      <td>...</td>\n",
       "      <td>...</td>\n",
       "      <td>...</td>\n",
       "      <td>...</td>\n",
       "      <td>...</td>\n",
       "      <td>...</td>\n",
       "    </tr>\n",
       "    <tr>\n",
       "      <th>16677</th>\n",
       "      <td>Aikatsu Stars! My Special Appeal</td>\n",
       "      <td>3DS</td>\n",
       "      <td>2016</td>\n",
       "      <td>Action</td>\n",
       "      <td>0.00</td>\n",
       "      <td>0.00</td>\n",
       "      <td>0.01</td>\n",
       "      <td>0.00</td>\n",
       "      <td>64.0</td>\n",
       "      <td>6.3</td>\n",
       "      <td>N/A</td>\n",
       "      <td>0.01</td>\n",
       "    </tr>\n",
       "    <tr>\n",
       "      <th>16688</th>\n",
       "      <td>Outdoors Unleashed: Africa 3D</td>\n",
       "      <td>3DS</td>\n",
       "      <td>2011</td>\n",
       "      <td>Sports</td>\n",
       "      <td>0.01</td>\n",
       "      <td>0.00</td>\n",
       "      <td>0.00</td>\n",
       "      <td>0.00</td>\n",
       "      <td>61.5</td>\n",
       "      <td>-1.0</td>\n",
       "      <td>T</td>\n",
       "      <td>0.01</td>\n",
       "    </tr>\n",
       "    <tr>\n",
       "      <th>16691</th>\n",
       "      <td>Dynasty Warriors: Eiketsuden</td>\n",
       "      <td>PS3</td>\n",
       "      <td>2016</td>\n",
       "      <td>Action</td>\n",
       "      <td>0.00</td>\n",
       "      <td>0.00</td>\n",
       "      <td>0.01</td>\n",
       "      <td>0.00</td>\n",
       "      <td>71.0</td>\n",
       "      <td>6.9</td>\n",
       "      <td>N/A</td>\n",
       "      <td>0.01</td>\n",
       "    </tr>\n",
       "    <tr>\n",
       "      <th>16710</th>\n",
       "      <td>Samurai Warriors: Sanada Maru</td>\n",
       "      <td>PS3</td>\n",
       "      <td>2016</td>\n",
       "      <td>Action</td>\n",
       "      <td>0.00</td>\n",
       "      <td>0.00</td>\n",
       "      <td>0.01</td>\n",
       "      <td>0.00</td>\n",
       "      <td>71.0</td>\n",
       "      <td>6.9</td>\n",
       "      <td>N/A</td>\n",
       "      <td>0.01</td>\n",
       "    </tr>\n",
       "    <tr>\n",
       "      <th>16711</th>\n",
       "      <td>LMA Manager 2007</td>\n",
       "      <td>X360</td>\n",
       "      <td>2006</td>\n",
       "      <td>Sports</td>\n",
       "      <td>0.00</td>\n",
       "      <td>0.01</td>\n",
       "      <td>0.00</td>\n",
       "      <td>0.00</td>\n",
       "      <td>69.0</td>\n",
       "      <td>6.9</td>\n",
       "      <td>N/A</td>\n",
       "      <td>0.01</td>\n",
       "    </tr>\n",
       "  </tbody>\n",
       "</table>\n",
       "<p>3752 rows × 12 columns</p>\n",
       "</div>"
      ],
      "text/plain": [
       "                                   name platform  year_of_release    genre  \\\n",
       "14                   Kinect Adventures!     X360             2010     Misc   \n",
       "16                   Grand Theft Auto V      PS3             2013   Action   \n",
       "23                   Grand Theft Auto V     X360             2013   Action   \n",
       "29       Call of Duty: Modern Warfare 3     X360             2011  Shooter   \n",
       "31            Call of Duty: Black Ops 3      PS4             2015  Shooter   \n",
       "...                                 ...      ...              ...      ...   \n",
       "16677  Aikatsu Stars! My Special Appeal      3DS             2016   Action   \n",
       "16688     Outdoors Unleashed: Africa 3D      3DS             2011   Sports   \n",
       "16691      Dynasty Warriors: Eiketsuden      PS3             2016   Action   \n",
       "16710     Samurai Warriors: Sanada Maru      PS3             2016   Action   \n",
       "16711                  LMA Manager 2007     X360             2006   Sports   \n",
       "\n",
       "       na_sales  eu_sales  jp_sales  other_sales  critic_score  user_score  \\\n",
       "14        15.00      4.89      0.24         1.69          61.0         6.3   \n",
       "16         7.02      9.09      0.98         3.96          97.0         8.2   \n",
       "23         9.66      5.14      0.06         1.41          97.0         8.1   \n",
       "29         9.04      4.24      0.13         1.32          88.0         3.4   \n",
       "31         6.03      5.86      0.36         2.38          73.0         7.0   \n",
       "...         ...       ...       ...          ...           ...         ...   \n",
       "16677      0.00      0.00      0.01         0.00          64.0         6.3   \n",
       "16688      0.01      0.00      0.00         0.00          61.5        -1.0   \n",
       "16691      0.00      0.00      0.01         0.00          71.0         6.9   \n",
       "16710      0.00      0.00      0.01         0.00          71.0         6.9   \n",
       "16711      0.00      0.01      0.00         0.00          69.0         6.9   \n",
       "\n",
       "      rating  total_sales  \n",
       "14         E        21.82  \n",
       "16         M        21.05  \n",
       "23         M        16.27  \n",
       "29         M        14.73  \n",
       "31       N/A        14.63  \n",
       "...      ...          ...  \n",
       "16677    N/A         0.01  \n",
       "16688      T         0.01  \n",
       "16691    N/A         0.01  \n",
       "16710    N/A         0.01  \n",
       "16711    N/A         0.01  \n",
       "\n",
       "[3752 rows x 12 columns]"
      ]
     },
     "execution_count": 636,
     "metadata": {},
     "output_type": "execute_result"
    }
   ],
   "source": [
    "new_data = data.loc[data['platform'].isin(['XOne', 'X360', 'PS3', 'PS4', '3DS'])]\n",
    "new_data"
   ]
  },
  {
   "cell_type": "markdown",
   "metadata": {},
   "source": [
    "Let's Build a box plot for the global sales of all games, broken down by platform. Are the differences in sales significant? What about average sales on various platforms? Describe your findings."
   ]
  },
  {
   "cell_type": "code",
   "execution_count": 637,
   "metadata": {},
   "outputs": [
    {
     "data": {
      "text/html": [
       "<div>\n",
       "<style scoped>\n",
       "    .dataframe tbody tr th:only-of-type {\n",
       "        vertical-align: middle;\n",
       "    }\n",
       "\n",
       "    .dataframe tbody tr th {\n",
       "        vertical-align: top;\n",
       "    }\n",
       "\n",
       "    .dataframe thead th {\n",
       "        text-align: right;\n",
       "    }\n",
       "</style>\n",
       "<table border=\"1\" class=\"dataframe\">\n",
       "  <thead>\n",
       "    <tr style=\"text-align: right;\">\n",
       "      <th></th>\n",
       "      <th>platform</th>\n",
       "      <th>year_of_release</th>\n",
       "      <th>total_sales</th>\n",
       "    </tr>\n",
       "  </thead>\n",
       "  <tbody>\n",
       "    <tr>\n",
       "      <th>26</th>\n",
       "      <td>X360</td>\n",
       "      <td>2010</td>\n",
       "      <td>180.21</td>\n",
       "    </tr>\n",
       "    <tr>\n",
       "      <th>11</th>\n",
       "      <td>PS3</td>\n",
       "      <td>2011</td>\n",
       "      <td>165.09</td>\n",
       "    </tr>\n",
       "    <tr>\n",
       "      <th>27</th>\n",
       "      <td>X360</td>\n",
       "      <td>2011</td>\n",
       "      <td>143.84</td>\n",
       "    </tr>\n",
       "    <tr>\n",
       "      <th>10</th>\n",
       "      <td>PS3</td>\n",
       "      <td>2010</td>\n",
       "      <td>142.17</td>\n",
       "    </tr>\n",
       "    <tr>\n",
       "      <th>24</th>\n",
       "      <td>X360</td>\n",
       "      <td>2008</td>\n",
       "      <td>135.26</td>\n",
       "    </tr>\n",
       "    <tr>\n",
       "      <th>9</th>\n",
       "      <td>PS3</td>\n",
       "      <td>2009</td>\n",
       "      <td>130.93</td>\n",
       "    </tr>\n",
       "    <tr>\n",
       "      <th>25</th>\n",
       "      <td>X360</td>\n",
       "      <td>2009</td>\n",
       "      <td>120.29</td>\n",
       "    </tr>\n",
       "    <tr>\n",
       "      <th>19</th>\n",
       "      <td>PS4</td>\n",
       "      <td>2015</td>\n",
       "      <td>118.90</td>\n",
       "    </tr>\n",
       "    <tr>\n",
       "      <th>8</th>\n",
       "      <td>PS3</td>\n",
       "      <td>2008</td>\n",
       "      <td>118.52</td>\n",
       "    </tr>\n",
       "    <tr>\n",
       "      <th>13</th>\n",
       "      <td>PS3</td>\n",
       "      <td>2013</td>\n",
       "      <td>113.25</td>\n",
       "    </tr>\n",
       "    <tr>\n",
       "      <th>12</th>\n",
       "      <td>PS3</td>\n",
       "      <td>2012</td>\n",
       "      <td>107.36</td>\n",
       "    </tr>\n",
       "    <tr>\n",
       "      <th>18</th>\n",
       "      <td>PS4</td>\n",
       "      <td>2014</td>\n",
       "      <td>100.00</td>\n",
       "    </tr>\n",
       "    <tr>\n",
       "      <th>28</th>\n",
       "      <td>X360</td>\n",
       "      <td>2012</td>\n",
       "      <td>99.74</td>\n",
       "    </tr>\n",
       "    <tr>\n",
       "      <th>23</th>\n",
       "      <td>X360</td>\n",
       "      <td>2007</td>\n",
       "      <td>95.41</td>\n",
       "    </tr>\n",
       "    <tr>\n",
       "      <th>29</th>\n",
       "      <td>X360</td>\n",
       "      <td>2013</td>\n",
       "      <td>88.58</td>\n",
       "    </tr>\n",
       "    <tr>\n",
       "      <th>7</th>\n",
       "      <td>PS3</td>\n",
       "      <td>2007</td>\n",
       "      <td>73.19</td>\n",
       "    </tr>\n",
       "    <tr>\n",
       "      <th>20</th>\n",
       "      <td>PS4</td>\n",
       "      <td>2016</td>\n",
       "      <td>69.25</td>\n",
       "    </tr>\n",
       "    <tr>\n",
       "      <th>0</th>\n",
       "      <td>3DS</td>\n",
       "      <td>2011</td>\n",
       "      <td>63.20</td>\n",
       "    </tr>\n",
       "    <tr>\n",
       "      <th>35</th>\n",
       "      <td>XOne</td>\n",
       "      <td>2015</td>\n",
       "      <td>60.14</td>\n",
       "    </tr>\n",
       "    <tr>\n",
       "      <th>2</th>\n",
       "      <td>3DS</td>\n",
       "      <td>2013</td>\n",
       "      <td>57.76</td>\n",
       "    </tr>\n",
       "    <tr>\n",
       "      <th>34</th>\n",
       "      <td>XOne</td>\n",
       "      <td>2014</td>\n",
       "      <td>54.07</td>\n",
       "    </tr>\n",
       "    <tr>\n",
       "      <th>22</th>\n",
       "      <td>X360</td>\n",
       "      <td>2006</td>\n",
       "      <td>51.62</td>\n",
       "    </tr>\n",
       "    <tr>\n",
       "      <th>1</th>\n",
       "      <td>3DS</td>\n",
       "      <td>2012</td>\n",
       "      <td>51.36</td>\n",
       "    </tr>\n",
       "    <tr>\n",
       "      <th>14</th>\n",
       "      <td>PS3</td>\n",
       "      <td>2014</td>\n",
       "      <td>47.76</td>\n",
       "    </tr>\n",
       "    <tr>\n",
       "      <th>3</th>\n",
       "      <td>3DS</td>\n",
       "      <td>2014</td>\n",
       "      <td>43.76</td>\n",
       "    </tr>\n",
       "    <tr>\n",
       "      <th>30</th>\n",
       "      <td>X360</td>\n",
       "      <td>2014</td>\n",
       "      <td>34.74</td>\n",
       "    </tr>\n",
       "    <tr>\n",
       "      <th>4</th>\n",
       "      <td>3DS</td>\n",
       "      <td>2015</td>\n",
       "      <td>27.78</td>\n",
       "    </tr>\n",
       "    <tr>\n",
       "      <th>36</th>\n",
       "      <td>XOne</td>\n",
       "      <td>2016</td>\n",
       "      <td>26.15</td>\n",
       "    </tr>\n",
       "    <tr>\n",
       "      <th>17</th>\n",
       "      <td>PS4</td>\n",
       "      <td>2013</td>\n",
       "      <td>25.99</td>\n",
       "    </tr>\n",
       "    <tr>\n",
       "      <th>6</th>\n",
       "      <td>PS3</td>\n",
       "      <td>2006</td>\n",
       "      <td>20.96</td>\n",
       "    </tr>\n",
       "    <tr>\n",
       "      <th>33</th>\n",
       "      <td>XOne</td>\n",
       "      <td>2013</td>\n",
       "      <td>18.96</td>\n",
       "    </tr>\n",
       "    <tr>\n",
       "      <th>15</th>\n",
       "      <td>PS3</td>\n",
       "      <td>2015</td>\n",
       "      <td>16.82</td>\n",
       "    </tr>\n",
       "    <tr>\n",
       "      <th>5</th>\n",
       "      <td>3DS</td>\n",
       "      <td>2016</td>\n",
       "      <td>15.14</td>\n",
       "    </tr>\n",
       "    <tr>\n",
       "      <th>31</th>\n",
       "      <td>X360</td>\n",
       "      <td>2015</td>\n",
       "      <td>11.96</td>\n",
       "    </tr>\n",
       "    <tr>\n",
       "      <th>21</th>\n",
       "      <td>X360</td>\n",
       "      <td>2005</td>\n",
       "      <td>8.25</td>\n",
       "    </tr>\n",
       "    <tr>\n",
       "      <th>16</th>\n",
       "      <td>PS3</td>\n",
       "      <td>2016</td>\n",
       "      <td>3.60</td>\n",
       "    </tr>\n",
       "    <tr>\n",
       "      <th>32</th>\n",
       "      <td>X360</td>\n",
       "      <td>2016</td>\n",
       "      <td>1.52</td>\n",
       "    </tr>\n",
       "  </tbody>\n",
       "</table>\n",
       "</div>"
      ],
      "text/plain": [
       "   platform  year_of_release  total_sales\n",
       "26     X360             2010       180.21\n",
       "11      PS3             2011       165.09\n",
       "27     X360             2011       143.84\n",
       "10      PS3             2010       142.17\n",
       "24     X360             2008       135.26\n",
       "9       PS3             2009       130.93\n",
       "25     X360             2009       120.29\n",
       "19      PS4             2015       118.90\n",
       "8       PS3             2008       118.52\n",
       "13      PS3             2013       113.25\n",
       "12      PS3             2012       107.36\n",
       "18      PS4             2014       100.00\n",
       "28     X360             2012        99.74\n",
       "23     X360             2007        95.41\n",
       "29     X360             2013        88.58\n",
       "7       PS3             2007        73.19\n",
       "20      PS4             2016        69.25\n",
       "0       3DS             2011        63.20\n",
       "35     XOne             2015        60.14\n",
       "2       3DS             2013        57.76\n",
       "34     XOne             2014        54.07\n",
       "22     X360             2006        51.62\n",
       "1       3DS             2012        51.36\n",
       "14      PS3             2014        47.76\n",
       "3       3DS             2014        43.76\n",
       "30     X360             2014        34.74\n",
       "4       3DS             2015        27.78\n",
       "36     XOne             2016        26.15\n",
       "17      PS4             2013        25.99\n",
       "6       PS3             2006        20.96\n",
       "33     XOne             2013        18.96\n",
       "15      PS3             2015        16.82\n",
       "5       3DS             2016        15.14\n",
       "31     X360             2015        11.96\n",
       "21     X360             2005         8.25\n",
       "16      PS3             2016         3.60\n",
       "32     X360             2016         1.52"
      ]
     },
     "execution_count": 637,
     "metadata": {},
     "output_type": "execute_result"
    }
   ],
   "source": [
    "grouped = new_data.groupby(['platform', 'year_of_release'])['total_sales'].sum().reset_index().sort_values(by='total_sales', ascending=False)\n",
    "grouped"
   ]
  },
  {
   "cell_type": "code",
   "execution_count": 638,
   "metadata": {},
   "outputs": [],
   "source": [
    "order= new_data['platform']"
   ]
  },
  {
   "cell_type": "code",
   "execution_count": 639,
   "metadata": {},
   "outputs": [
    {
     "data": {
      "image/png": "[encoded data removed]",
      "text/plain": [
       "<Figure size 936x720 with 1 Axes>"
      ]
     },
     "metadata": {
      "needs_background": "light"
     },
     "output_type": "display_data"
    }
   ],
   "source": [
    "plt.figure(figsize=(13,10))\n",
    "sns.boxplot(x='platform', y='total_sales', data=grouped)\n",
    "plt.title('Sales significants between platforms.', fontdict={'size':15})\n",
    "plt.ylabel('Sales')\n",
    "plt.xlabel('Platform')\n",
    "plt.show()"
   ]
  },
  {
   "cell_type": "markdown",
   "metadata": {},
   "source": [
    "The difference in sales on the leading platform is significant.\n",
    "We can see that x360, ps3 got way more sales than 3ds, ps4 and xone.\n",
    "The mean in x360, ps3, ps4 is less significant but also various.\n",
    "3ds and XOne mean is also less significant but various."
   ]
  },
  {
   "cell_type": "markdown",
   "metadata": {},
   "source": [
    "Take a look at the general distribution of games by genre. What can we say about the most profitable genres? Can you generalize about genres with high and low sales?"
   ]
  },
  {
   "cell_type": "code",
   "execution_count": 640,
   "metadata": {},
   "outputs": [
    {
     "data": {
      "text/html": [
       "<div>\n",
       "<style scoped>\n",
       "    .dataframe tbody tr th:only-of-type {\n",
       "        vertical-align: middle;\n",
       "    }\n",
       "\n",
       "    .dataframe tbody tr th {\n",
       "        vertical-align: top;\n",
       "    }\n",
       "\n",
       "    .dataframe thead th {\n",
       "        text-align: right;\n",
       "    }\n",
       "</style>\n",
       "<table border=\"1\" class=\"dataframe\">\n",
       "  <thead>\n",
       "    <tr style=\"text-align: right;\">\n",
       "      <th></th>\n",
       "      <th>genre</th>\n",
       "      <th>name</th>\n",
       "    </tr>\n",
       "  </thead>\n",
       "  <tbody>\n",
       "    <tr>\n",
       "      <th>0</th>\n",
       "      <td>Puzzle</td>\n",
       "      <td>31</td>\n",
       "    </tr>\n",
       "    <tr>\n",
       "      <th>1</th>\n",
       "      <td>Strategy</td>\n",
       "      <td>76</td>\n",
       "    </tr>\n",
       "    <tr>\n",
       "      <th>2</th>\n",
       "      <td>Platform</td>\n",
       "      <td>107</td>\n",
       "    </tr>\n",
       "    <tr>\n",
       "      <th>3</th>\n",
       "      <td>Simulation</td>\n",
       "      <td>112</td>\n",
       "    </tr>\n",
       "    <tr>\n",
       "      <th>4</th>\n",
       "      <td>Fighting</td>\n",
       "      <td>180</td>\n",
       "    </tr>\n",
       "    <tr>\n",
       "      <th>5</th>\n",
       "      <td>Adventure</td>\n",
       "      <td>202</td>\n",
       "    </tr>\n",
       "    <tr>\n",
       "      <th>6</th>\n",
       "      <td>Racing</td>\n",
       "      <td>246</td>\n",
       "    </tr>\n",
       "    <tr>\n",
       "      <th>7</th>\n",
       "      <td>Misc</td>\n",
       "      <td>345</td>\n",
       "    </tr>\n",
       "    <tr>\n",
       "      <th>8</th>\n",
       "      <td>Role-Playing</td>\n",
       "      <td>347</td>\n",
       "    </tr>\n",
       "    <tr>\n",
       "      <th>9</th>\n",
       "      <td>Shooter</td>\n",
       "      <td>445</td>\n",
       "    </tr>\n",
       "    <tr>\n",
       "      <th>10</th>\n",
       "      <td>Sports</td>\n",
       "      <td>541</td>\n",
       "    </tr>\n",
       "    <tr>\n",
       "      <th>11</th>\n",
       "      <td>Action</td>\n",
       "      <td>1120</td>\n",
       "    </tr>\n",
       "  </tbody>\n",
       "</table>\n",
       "</div>"
      ],
      "text/plain": [
       "           genre  name\n",
       "0         Puzzle    31\n",
       "1       Strategy    76\n",
       "2       Platform   107\n",
       "3     Simulation   112\n",
       "4       Fighting   180\n",
       "5      Adventure   202\n",
       "6         Racing   246\n",
       "7           Misc   345\n",
       "8   Role-Playing   347\n",
       "9        Shooter   445\n",
       "10        Sports   541\n",
       "11        Action  1120"
      ]
     },
     "execution_count": 640,
     "metadata": {},
     "output_type": "execute_result"
    }
   ],
   "source": [
    "total_game_per_genre = new_data[['genre', 'name']].groupby(['genre']).count().sort_values(by='name', ascending=True).reset_index()\n",
    "total_game_per_genre"
   ]
  },
  {
   "cell_type": "code",
   "execution_count": 641,
   "metadata": {},
   "outputs": [
    {
     "data": {
      "image/png": "[encoded data removed]",
      "text/plain": [
       "<Figure size 1008x720 with 1 Axes>"
      ]
     },
     "metadata": {
      "needs_background": "light"
     },
     "output_type": "display_data"
    }
   ],
   "source": [
    "plt.figure(figsize=(14, 10))\n",
    "plt.hlines(y=total_game_per_genre.genre, xmax=total_game_per_genre.name, xmin=0, alpha=0.5, linewidth=10)\n",
    "plt.title('Total games per genre')\n",
    "plt.xlabel('Games')\n",
    "plt.ylabel('Genre')\n",
    "plt.show()"
   ]
  },
  {
   "cell_type": "markdown",
   "metadata": {},
   "source": [
    "If we look at the number of games per genre, the leading genre is Action, Sport, and Shooter."
   ]
  },
  {
   "cell_type": "code",
   "execution_count": 642,
   "metadata": {},
   "outputs": [],
   "source": [
    "sales_by_genre = new_data[['genre', 'total_sales']].groupby(['genre']).sum().sort_values(by='total_sales', ascending=True).reset_index()\n"
   ]
  },
  {
   "cell_type": "code",
   "execution_count": 643,
   "metadata": {},
   "outputs": [
    {
     "data": {
      "image/png": "[encoded data removed]",
      "text/plain": [
       "<Figure size 1008x720 with 1 Axes>"
      ]
     },
     "metadata": {
      "needs_background": "light"
     },
     "output_type": "display_data"
    }
   ],
   "source": [
    "plt.figure(figsize=(14, 10))\n",
    "plt.hlines(y=sales_by_genre.genre, xmax=sales_by_genre.total_sales, xmin=0, alpha=0.5, linewidth=10)\n",
    "plt.title('Total Sales per genre')\n",
    "plt.xlabel('Sales')\n",
    "plt.ylabel('Genre')\n",
    "plt.show()"
   ]
  },
  {
   "cell_type": "markdown",
   "metadata": {},
   "source": [
    "Looking at the top genres in terms of sales, we have Action, Shooter, and Sport at the top.\n",
    "\n",
    "We see a correlation between the number of games and the total sales, but we have some surprises here.\n",
    "For example, the Sports Genre generated more games than the shooter, but the shooter genre outperformed the sports genre in terms of sales."
   ]
  },
  {
   "cell_type": "markdown",
   "metadata": {},
   "source": [
    "# Step 4. Create a user profile for each region\n"
   ]
  },
  {
   "cell_type": "markdown",
   "metadata": {},
   "source": [
    "For each region (NA, EU, JP), determine The top five platforms. Then, describe variations in their market shares from region to region."
   ]
  },
  {
   "cell_type": "code",
   "execution_count": 644,
   "metadata": {},
   "outputs": [
    {
     "data": {
      "text/html": [
       "<div>\n",
       "<style scoped>\n",
       "    .dataframe tbody tr th:only-of-type {\n",
       "        vertical-align: middle;\n",
       "    }\n",
       "\n",
       "    .dataframe tbody tr th {\n",
       "        vertical-align: top;\n",
       "    }\n",
       "\n",
       "    .dataframe thead th {\n",
       "        text-align: right;\n",
       "    }\n",
       "</style>\n",
       "<table border=\"1\" class=\"dataframe\">\n",
       "  <thead>\n",
       "    <tr style=\"text-align: right;\">\n",
       "      <th></th>\n",
       "      <th>platform</th>\n",
       "      <th>na_sales</th>\n",
       "    </tr>\n",
       "  </thead>\n",
       "  <tbody>\n",
       "    <tr>\n",
       "      <th>3</th>\n",
       "      <td>X360</td>\n",
       "      <td>602.47</td>\n",
       "    </tr>\n",
       "    <tr>\n",
       "      <th>1</th>\n",
       "      <td>PS3</td>\n",
       "      <td>393.49</td>\n",
       "    </tr>\n",
       "    <tr>\n",
       "      <th>2</th>\n",
       "      <td>PS4</td>\n",
       "      <td>108.74</td>\n",
       "    </tr>\n",
       "    <tr>\n",
       "      <th>4</th>\n",
       "      <td>XOne</td>\n",
       "      <td>93.12</td>\n",
       "    </tr>\n",
       "    <tr>\n",
       "      <th>0</th>\n",
       "      <td>3DS</td>\n",
       "      <td>83.49</td>\n",
       "    </tr>\n",
       "  </tbody>\n",
       "</table>\n",
       "</div>"
      ],
      "text/plain": [
       "  platform  na_sales\n",
       "3     X360    602.47\n",
       "1      PS3    393.49\n",
       "2      PS4    108.74\n",
       "4     XOne     93.12\n",
       "0      3DS     83.49"
      ]
     },
     "execution_count": 644,
     "metadata": {},
     "output_type": "execute_result"
    }
   ],
   "source": [
    "top_5_na = new_data.groupby(['platform'])['na_sales'].sum().reset_index().sort_values(by='na_sales', ascending=False).head()\n",
    "top_5_na"
   ]
  },
  {
   "cell_type": "code",
   "execution_count": 645,
   "metadata": {},
   "outputs": [
    {
     "data": {
      "text/plain": [
       "1281.3100000000002"
      ]
     },
     "execution_count": 645,
     "metadata": {},
     "output_type": "execute_result"
    }
   ],
   "source": [
    "top_5_na['na_sales'].sum()"
   ]
  },
  {
   "cell_type": "markdown",
   "metadata": {},
   "source": [
    "The five dominant platforms in north America are  X360, PS3, PS4, XOne, 3DS. with a total of 1.281 billion."
   ]
  },
  {
   "cell_type": "code",
   "execution_count": 646,
   "metadata": {},
   "outputs": [
    {
     "data": {
      "text/html": [
       "<div>\n",
       "<style scoped>\n",
       "    .dataframe tbody tr th:only-of-type {\n",
       "        vertical-align: middle;\n",
       "    }\n",
       "\n",
       "    .dataframe tbody tr th {\n",
       "        vertical-align: top;\n",
       "    }\n",
       "\n",
       "    .dataframe thead th {\n",
       "        text-align: right;\n",
       "    }\n",
       "</style>\n",
       "<table border=\"1\" class=\"dataframe\">\n",
       "  <thead>\n",
       "    <tr style=\"text-align: right;\">\n",
       "      <th></th>\n",
       "      <th>platform</th>\n",
       "      <th>eu_sales</th>\n",
       "    </tr>\n",
       "  </thead>\n",
       "  <tbody>\n",
       "    <tr>\n",
       "      <th>1</th>\n",
       "      <td>PS3</td>\n",
       "      <td>330.29</td>\n",
       "    </tr>\n",
       "    <tr>\n",
       "      <th>3</th>\n",
       "      <td>X360</td>\n",
       "      <td>270.76</td>\n",
       "    </tr>\n",
       "    <tr>\n",
       "      <th>2</th>\n",
       "      <td>PS4</td>\n",
       "      <td>141.09</td>\n",
       "    </tr>\n",
       "    <tr>\n",
       "      <th>0</th>\n",
       "      <td>3DS</td>\n",
       "      <td>61.48</td>\n",
       "    </tr>\n",
       "    <tr>\n",
       "      <th>4</th>\n",
       "      <td>XOne</td>\n",
       "      <td>51.59</td>\n",
       "    </tr>\n",
       "  </tbody>\n",
       "</table>\n",
       "</div>"
      ],
      "text/plain": [
       "  platform  eu_sales\n",
       "1      PS3    330.29\n",
       "3     X360    270.76\n",
       "2      PS4    141.09\n",
       "0      3DS     61.48\n",
       "4     XOne     51.59"
      ]
     },
     "execution_count": 646,
     "metadata": {},
     "output_type": "execute_result"
    }
   ],
   "source": [
    "top_5_eu =  new_data.groupby(['platform'])['eu_sales'].sum().reset_index().sort_values(by='eu_sales', ascending=False).head()\n",
    "top_5_eu"
   ]
  },
  {
   "cell_type": "code",
   "execution_count": 647,
   "metadata": {},
   "outputs": [
    {
     "data": {
      "text/plain": [
       "855.21"
      ]
     },
     "execution_count": 647,
     "metadata": {},
     "output_type": "execute_result"
    }
   ],
   "source": [
    "top_5_eu['eu_sales'].sum()"
   ]
  },
  {
   "cell_type": "markdown",
   "metadata": {},
   "source": [
    "The five dominant platforms in Europe are  PS3, X360, PS4, Wii, 3DS. with a total sales of 855 million."
   ]
  },
  {
   "cell_type": "code",
   "execution_count": 648,
   "metadata": {},
   "outputs": [
    {
     "data": {
      "text/html": [
       "<div>\n",
       "<style scoped>\n",
       "    .dataframe tbody tr th:only-of-type {\n",
       "        vertical-align: middle;\n",
       "    }\n",
       "\n",
       "    .dataframe tbody tr th {\n",
       "        vertical-align: top;\n",
       "    }\n",
       "\n",
       "    .dataframe thead th {\n",
       "        text-align: right;\n",
       "    }\n",
       "</style>\n",
       "<table border=\"1\" class=\"dataframe\">\n",
       "  <thead>\n",
       "    <tr style=\"text-align: right;\">\n",
       "      <th></th>\n",
       "      <th>platform</th>\n",
       "      <th>jp_sales</th>\n",
       "    </tr>\n",
       "  </thead>\n",
       "  <tbody>\n",
       "    <tr>\n",
       "      <th>0</th>\n",
       "      <td>3DS</td>\n",
       "      <td>100.67</td>\n",
       "    </tr>\n",
       "    <tr>\n",
       "      <th>1</th>\n",
       "      <td>PS3</td>\n",
       "      <td>80.19</td>\n",
       "    </tr>\n",
       "    <tr>\n",
       "      <th>2</th>\n",
       "      <td>PS4</td>\n",
       "      <td>15.96</td>\n",
       "    </tr>\n",
       "    <tr>\n",
       "      <th>3</th>\n",
       "      <td>X360</td>\n",
       "      <td>12.43</td>\n",
       "    </tr>\n",
       "    <tr>\n",
       "      <th>4</th>\n",
       "      <td>XOne</td>\n",
       "      <td>0.34</td>\n",
       "    </tr>\n",
       "  </tbody>\n",
       "</table>\n",
       "</div>"
      ],
      "text/plain": [
       "  platform  jp_sales\n",
       "0      3DS    100.67\n",
       "1      PS3     80.19\n",
       "2      PS4     15.96\n",
       "3     X360     12.43\n",
       "4     XOne      0.34"
      ]
     },
     "execution_count": 648,
     "metadata": {},
     "output_type": "execute_result"
    }
   ],
   "source": [
    "top_5_jp = new_data.groupby(['platform'])['jp_sales'].sum().reset_index().sort_values(by='jp_sales', ascending=False).head()\n",
    "top_5_jp"
   ]
  },
  {
   "cell_type": "code",
   "execution_count": 649,
   "metadata": {},
   "outputs": [
    {
     "data": {
      "text/plain": [
       "209.59000000000003"
      ]
     },
     "execution_count": 649,
     "metadata": {},
     "output_type": "execute_result"
    }
   ],
   "source": [
    "top_5_jp['jp_sales'].sum()"
   ]
  },
  {
   "cell_type": "markdown",
   "metadata": {},
   "source": [
    "The five dominant platforms in Japan are  3DS, PS3, PS4, X360, XOne, with a total sales of 209 million."
   ]
  },
  {
   "cell_type": "markdown",
   "metadata": {},
   "source": [
    "We can see pretty much the same platform dominate in those markets."
   ]
  },
  {
   "cell_type": "markdown",
   "metadata": {},
   "source": [
    "For each region (NA, EU, JP), determine The top five genres. Explain the difference."
   ]
  },
  {
   "cell_type": "code",
   "execution_count": 650,
   "metadata": {},
   "outputs": [
    {
     "data": {
      "text/html": [
       "<div>\n",
       "<style scoped>\n",
       "    .dataframe tbody tr th:only-of-type {\n",
       "        vertical-align: middle;\n",
       "    }\n",
       "\n",
       "    .dataframe tbody tr th {\n",
       "        vertical-align: top;\n",
       "    }\n",
       "\n",
       "    .dataframe thead th {\n",
       "        text-align: right;\n",
       "    }\n",
       "</style>\n",
       "<table border=\"1\" class=\"dataframe\">\n",
       "  <thead>\n",
       "    <tr style=\"text-align: right;\">\n",
       "      <th></th>\n",
       "      <th>name</th>\n",
       "      <th>platform</th>\n",
       "      <th>year_of_release</th>\n",
       "      <th>genre</th>\n",
       "      <th>na_sales</th>\n",
       "      <th>eu_sales</th>\n",
       "      <th>jp_sales</th>\n",
       "      <th>other_sales</th>\n",
       "      <th>critic_score</th>\n",
       "      <th>user_score</th>\n",
       "      <th>rating</th>\n",
       "      <th>total_sales</th>\n",
       "    </tr>\n",
       "  </thead>\n",
       "  <tbody>\n",
       "    <tr>\n",
       "      <th>14</th>\n",
       "      <td>Kinect Adventures!</td>\n",
       "      <td>X360</td>\n",
       "      <td>2010</td>\n",
       "      <td>Misc</td>\n",
       "      <td>15.0</td>\n",
       "      <td>4.89</td>\n",
       "      <td>0.24</td>\n",
       "      <td>1.69</td>\n",
       "      <td>61.0</td>\n",
       "      <td>6.3</td>\n",
       "      <td>E</td>\n",
       "      <td>21.82</td>\n",
       "    </tr>\n",
       "  </tbody>\n",
       "</table>\n",
       "</div>"
      ],
      "text/plain": [
       "                  name platform  year_of_release genre  na_sales  eu_sales  \\\n",
       "14  Kinect Adventures!     X360             2010  Misc      15.0      4.89   \n",
       "\n",
       "    jp_sales  other_sales  critic_score  user_score rating  total_sales  \n",
       "14      0.24         1.69          61.0         6.3      E        21.82  "
      ]
     },
     "execution_count": 650,
     "metadata": {},
     "output_type": "execute_result"
    }
   ],
   "source": [
    "new_data.head(1)"
   ]
  },
  {
   "cell_type": "code",
   "execution_count": 651,
   "metadata": {},
   "outputs": [
    {
     "data": {
      "text/html": [
       "<div>\n",
       "<style scoped>\n",
       "    .dataframe tbody tr th:only-of-type {\n",
       "        vertical-align: middle;\n",
       "    }\n",
       "\n",
       "    .dataframe tbody tr th {\n",
       "        vertical-align: top;\n",
       "    }\n",
       "\n",
       "    .dataframe thead th {\n",
       "        text-align: right;\n",
       "    }\n",
       "</style>\n",
       "<table border=\"1\" class=\"dataframe\">\n",
       "  <thead>\n",
       "    <tr style=\"text-align: right;\">\n",
       "      <th></th>\n",
       "      <th>genre</th>\n",
       "      <th>na_sales</th>\n",
       "    </tr>\n",
       "  </thead>\n",
       "  <tbody>\n",
       "    <tr>\n",
       "      <th>0</th>\n",
       "      <td>Action</td>\n",
       "      <td>337.13</td>\n",
       "    </tr>\n",
       "    <tr>\n",
       "      <th>8</th>\n",
       "      <td>Shooter</td>\n",
       "      <td>326.72</td>\n",
       "    </tr>\n",
       "    <tr>\n",
       "      <th>10</th>\n",
       "      <td>Sports</td>\n",
       "      <td>187.96</td>\n",
       "    </tr>\n",
       "    <tr>\n",
       "      <th>7</th>\n",
       "      <td>Role-Playing</td>\n",
       "      <td>113.93</td>\n",
       "    </tr>\n",
       "    <tr>\n",
       "      <th>3</th>\n",
       "      <td>Misc</td>\n",
       "      <td>96.94</td>\n",
       "    </tr>\n",
       "  </tbody>\n",
       "</table>\n",
       "</div>"
      ],
      "text/plain": [
       "           genre  na_sales\n",
       "0         Action    337.13\n",
       "8        Shooter    326.72\n",
       "10        Sports    187.96\n",
       "7   Role-Playing    113.93\n",
       "3           Misc     96.94"
      ]
     },
     "execution_count": 651,
     "metadata": {},
     "output_type": "execute_result"
    }
   ],
   "source": [
    "top_5_na_gn = new_data.groupby(['genre'])['na_sales'].sum().reset_index().sort_values(by='na_sales', ascending=False).head()\n",
    "top_5_na_gn"
   ]
  },
  {
   "cell_type": "code",
   "execution_count": 652,
   "metadata": {},
   "outputs": [
    {
     "data": {
      "text/html": [
       "<div>\n",
       "<style scoped>\n",
       "    .dataframe tbody tr th:only-of-type {\n",
       "        vertical-align: middle;\n",
       "    }\n",
       "\n",
       "    .dataframe tbody tr th {\n",
       "        vertical-align: top;\n",
       "    }\n",
       "\n",
       "    .dataframe thead th {\n",
       "        text-align: right;\n",
       "    }\n",
       "</style>\n",
       "<table border=\"1\" class=\"dataframe\">\n",
       "  <thead>\n",
       "    <tr style=\"text-align: right;\">\n",
       "      <th></th>\n",
       "      <th>genre</th>\n",
       "      <th>eu_sales</th>\n",
       "    </tr>\n",
       "  </thead>\n",
       "  <tbody>\n",
       "    <tr>\n",
       "      <th>0</th>\n",
       "      <td>Action</td>\n",
       "      <td>247.72</td>\n",
       "    </tr>\n",
       "    <tr>\n",
       "      <th>8</th>\n",
       "      <td>Shooter</td>\n",
       "      <td>204.53</td>\n",
       "    </tr>\n",
       "    <tr>\n",
       "      <th>10</th>\n",
       "      <td>Sports</td>\n",
       "      <td>119.87</td>\n",
       "    </tr>\n",
       "    <tr>\n",
       "      <th>6</th>\n",
       "      <td>Racing</td>\n",
       "      <td>74.62</td>\n",
       "    </tr>\n",
       "    <tr>\n",
       "      <th>7</th>\n",
       "      <td>Role-Playing</td>\n",
       "      <td>66.61</td>\n",
       "    </tr>\n",
       "  </tbody>\n",
       "</table>\n",
       "</div>"
      ],
      "text/plain": [
       "           genre  eu_sales\n",
       "0         Action    247.72\n",
       "8        Shooter    204.53\n",
       "10        Sports    119.87\n",
       "6         Racing     74.62\n",
       "7   Role-Playing     66.61"
      ]
     },
     "execution_count": 652,
     "metadata": {},
     "output_type": "execute_result"
    }
   ],
   "source": [
    "top_5_eu_gn = new_data.groupby(['genre'])['eu_sales'].sum().reset_index().sort_values(by='eu_sales', ascending=False).head()\n",
    "top_5_eu_gn"
   ]
  },
  {
   "cell_type": "code",
   "execution_count": 653,
   "metadata": {},
   "outputs": [
    {
     "data": {
      "text/html": [
       "<div>\n",
       "<style scoped>\n",
       "    .dataframe tbody tr th:only-of-type {\n",
       "        vertical-align: middle;\n",
       "    }\n",
       "\n",
       "    .dataframe tbody tr th {\n",
       "        vertical-align: top;\n",
       "    }\n",
       "\n",
       "    .dataframe thead th {\n",
       "        text-align: right;\n",
       "    }\n",
       "</style>\n",
       "<table border=\"1\" class=\"dataframe\">\n",
       "  <thead>\n",
       "    <tr style=\"text-align: right;\">\n",
       "      <th></th>\n",
       "      <th>genre</th>\n",
       "      <th>jp_sales</th>\n",
       "    </tr>\n",
       "  </thead>\n",
       "  <tbody>\n",
       "    <tr>\n",
       "      <th>7</th>\n",
       "      <td>Role-Playing</td>\n",
       "      <td>65.01</td>\n",
       "    </tr>\n",
       "    <tr>\n",
       "      <th>0</th>\n",
       "      <td>Action</td>\n",
       "      <td>61.03</td>\n",
       "    </tr>\n",
       "    <tr>\n",
       "      <th>8</th>\n",
       "      <td>Shooter</td>\n",
       "      <td>15.08</td>\n",
       "    </tr>\n",
       "    <tr>\n",
       "      <th>9</th>\n",
       "      <td>Simulation</td>\n",
       "      <td>12.54</td>\n",
       "    </tr>\n",
       "    <tr>\n",
       "      <th>2</th>\n",
       "      <td>Fighting</td>\n",
       "      <td>11.50</td>\n",
       "    </tr>\n",
       "  </tbody>\n",
       "</table>\n",
       "</div>"
      ],
      "text/plain": [
       "          genre  jp_sales\n",
       "7  Role-Playing     65.01\n",
       "0        Action     61.03\n",
       "8       Shooter     15.08\n",
       "9    Simulation     12.54\n",
       "2      Fighting     11.50"
      ]
     },
     "execution_count": 653,
     "metadata": {},
     "output_type": "execute_result"
    }
   ],
   "source": [
    "top_5_jp_gn = new_data.groupby(['genre'])['jp_sales'].sum().reset_index().sort_values(by='jp_sales', ascending=False).head()\n",
    "top_5_jp_gn"
   ]
  },
  {
   "cell_type": "markdown",
   "metadata": {},
   "source": [
    "North America and Europe-dominated genres are almost the same. Still, the 4th dominant genre in NA is \"Role-Playing,\" and in EU is \"Racing.\" if we look at JP, the most dominant genre is \"Role-Playing.\"\n",
    "Action and Shooter came second and third; wail Fighting closed the top five."
   ]
  },
  {
   "cell_type": "markdown",
   "metadata": {},
   "source": [
    "Ratings are determined by the Entertainment Software Rating Board (ESRB). The ESRB is a self-regulatory body that independently applies and enforces ratings, advertising guidelines, and online privacy principles adopted by the industry."
   ]
  },
  {
   "cell_type": "markdown",
   "metadata": {},
   "source": [
    "Do ESRB ratings affect sales in individual regions?"
   ]
  },
  {
   "cell_type": "code",
   "execution_count": 654,
   "metadata": {},
   "outputs": [
    {
     "data": {
      "text/html": [
       "<div>\n",
       "<style scoped>\n",
       "    .dataframe tbody tr th:only-of-type {\n",
       "        vertical-align: middle;\n",
       "    }\n",
       "\n",
       "    .dataframe tbody tr th {\n",
       "        vertical-align: top;\n",
       "    }\n",
       "\n",
       "    .dataframe thead th {\n",
       "        text-align: right;\n",
       "    }\n",
       "</style>\n",
       "<table border=\"1\" class=\"dataframe\">\n",
       "  <thead>\n",
       "    <tr style=\"text-align: right;\">\n",
       "      <th></th>\n",
       "      <th>rating</th>\n",
       "      <th>na_sales</th>\n",
       "    </tr>\n",
       "  </thead>\n",
       "  <tbody>\n",
       "    <tr>\n",
       "      <th>2</th>\n",
       "      <td>M</td>\n",
       "      <td>0.727155</td>\n",
       "    </tr>\n",
       "    <tr>\n",
       "      <th>0</th>\n",
       "      <td>E</td>\n",
       "      <td>0.387180</td>\n",
       "    </tr>\n",
       "    <tr>\n",
       "      <th>4</th>\n",
       "      <td>T</td>\n",
       "      <td>0.301209</td>\n",
       "    </tr>\n",
       "    <tr>\n",
       "      <th>1</th>\n",
       "      <td>E10+</td>\n",
       "      <td>0.276615</td>\n",
       "    </tr>\n",
       "    <tr>\n",
       "      <th>3</th>\n",
       "      <td>N/A</td>\n",
       "      <td>0.116932</td>\n",
       "    </tr>\n",
       "  </tbody>\n",
       "</table>\n",
       "</div>"
      ],
      "text/plain": [
       "  rating  na_sales\n",
       "2      M  0.727155\n",
       "0      E  0.387180\n",
       "4      T  0.301209\n",
       "1   E10+  0.276615\n",
       "3    N/A  0.116932"
      ]
     },
     "execution_count": 654,
     "metadata": {},
     "output_type": "execute_result"
    }
   ],
   "source": [
    "rating_sales_na = new_data.groupby(['rating'])['na_sales'].mean().reset_index().sort_values(by='na_sales', ascending=False).head()\n",
    "rating_sales_na"
   ]
  },
  {
   "cell_type": "code",
   "execution_count": 655,
   "metadata": {},
   "outputs": [
    {
     "data": {
      "text/html": [
       "<div>\n",
       "<style scoped>\n",
       "    .dataframe tbody tr th:only-of-type {\n",
       "        vertical-align: middle;\n",
       "    }\n",
       "\n",
       "    .dataframe tbody tr th {\n",
       "        vertical-align: top;\n",
       "    }\n",
       "\n",
       "    .dataframe thead th {\n",
       "        text-align: right;\n",
       "    }\n",
       "</style>\n",
       "<table border=\"1\" class=\"dataframe\">\n",
       "  <thead>\n",
       "    <tr style=\"text-align: right;\">\n",
       "      <th></th>\n",
       "      <th>rating</th>\n",
       "      <th>eu_sales</th>\n",
       "    </tr>\n",
       "  </thead>\n",
       "  <tbody>\n",
       "    <tr>\n",
       "      <th>2</th>\n",
       "      <td>M</td>\n",
       "      <td>0.476388</td>\n",
       "    </tr>\n",
       "    <tr>\n",
       "      <th>0</th>\n",
       "      <td>E</td>\n",
       "      <td>0.273513</td>\n",
       "    </tr>\n",
       "    <tr>\n",
       "      <th>4</th>\n",
       "      <td>T</td>\n",
       "      <td>0.170153</td>\n",
       "    </tr>\n",
       "    <tr>\n",
       "      <th>1</th>\n",
       "      <td>E10+</td>\n",
       "      <td>0.159077</td>\n",
       "    </tr>\n",
       "    <tr>\n",
       "      <th>3</th>\n",
       "      <td>N/A</td>\n",
       "      <td>0.110083</td>\n",
       "    </tr>\n",
       "  </tbody>\n",
       "</table>\n",
       "</div>"
      ],
      "text/plain": [
       "  rating  eu_sales\n",
       "2      M  0.476388\n",
       "0      E  0.273513\n",
       "4      T  0.170153\n",
       "1   E10+  0.159077\n",
       "3    N/A  0.110083"
      ]
     },
     "execution_count": 655,
     "metadata": {},
     "output_type": "execute_result"
    }
   ],
   "source": [
    "rating_sales_eu = new_data.groupby(['rating'])['eu_sales'].mean().reset_index().sort_values(by='eu_sales', ascending=False).head()\n",
    "rating_sales_eu"
   ]
  },
  {
   "cell_type": "code",
   "execution_count": 656,
   "metadata": {},
   "outputs": [
    {
     "data": {
      "text/html": [
       "<div>\n",
       "<style scoped>\n",
       "    .dataframe tbody tr th:only-of-type {\n",
       "        vertical-align: middle;\n",
       "    }\n",
       "\n",
       "    .dataframe tbody tr th {\n",
       "        vertical-align: top;\n",
       "    }\n",
       "\n",
       "    .dataframe thead th {\n",
       "        text-align: right;\n",
       "    }\n",
       "</style>\n",
       "<table border=\"1\" class=\"dataframe\">\n",
       "  <thead>\n",
       "    <tr style=\"text-align: right;\">\n",
       "      <th></th>\n",
       "      <th>rating</th>\n",
       "      <th>jp_sales</th>\n",
       "    </tr>\n",
       "  </thead>\n",
       "  <tbody>\n",
       "    <tr>\n",
       "      <th>3</th>\n",
       "      <td>N/A</td>\n",
       "      <td>0.088082</td>\n",
       "    </tr>\n",
       "    <tr>\n",
       "      <th>2</th>\n",
       "      <td>M</td>\n",
       "      <td>0.052036</td>\n",
       "    </tr>\n",
       "    <tr>\n",
       "      <th>0</th>\n",
       "      <td>E</td>\n",
       "      <td>0.048891</td>\n",
       "    </tr>\n",
       "    <tr>\n",
       "      <th>4</th>\n",
       "      <td>T</td>\n",
       "      <td>0.045915</td>\n",
       "    </tr>\n",
       "    <tr>\n",
       "      <th>1</th>\n",
       "      <td>E10+</td>\n",
       "      <td>0.014044</td>\n",
       "    </tr>\n",
       "  </tbody>\n",
       "</table>\n",
       "</div>"
      ],
      "text/plain": [
       "  rating  jp_sales\n",
       "3    N/A  0.088082\n",
       "2      M  0.052036\n",
       "0      E  0.048891\n",
       "4      T  0.045915\n",
       "1   E10+  0.014044"
      ]
     },
     "execution_count": 656,
     "metadata": {},
     "output_type": "execute_result"
    }
   ],
   "source": [
    "rating_sales_jp = new_data.groupby(['rating'])['jp_sales'].mean().reset_index().sort_values(by='jp_sales', ascending=False).head()\n",
    "rating_sales_jp"
   ]
  },
  {
   "cell_type": "markdown",
   "metadata": {},
   "source": [
    "Suppose we look at the avg. Sales per Rating in NA and EU it is identical. But in JP, the Rating does affect the avg sales, and we see \"N/A\" at the 1st place, \"M\" at the 2nd place, \"E\" at the 3rd, and \"T\" at the 4th."
   ]
  },
  {
   "cell_type": "markdown",
   "metadata": {},
   "source": [
    "# Step 5. Test the following hypotheses:\n"
   ]
  },
  {
   "cell_type": "markdown",
   "metadata": {},
   "source": [
    "H0: The null hypothesis in the first question is that Average user ratings of the Xbox One and PC platforms differ.\n",
    "\n",
    "H1:The alternative hypothesis is that The Average user ratings of the Xbox One and PC platforms are the same."
   ]
  },
  {
   "cell_type": "markdown",
   "metadata": {},
   "source": [
    "Let's create two variables: one that slices the user_score of the Xbox one and the PC."
   ]
  },
  {
   "cell_type": "code",
   "execution_count": 657,
   "metadata": {},
   "outputs": [
    {
     "data": {
      "text/html": [
       "<div>\n",
       "<style scoped>\n",
       "    .dataframe tbody tr th:only-of-type {\n",
       "        vertical-align: middle;\n",
       "    }\n",
       "\n",
       "    .dataframe tbody tr th {\n",
       "        vertical-align: top;\n",
       "    }\n",
       "\n",
       "    .dataframe thead th {\n",
       "        text-align: right;\n",
       "    }\n",
       "</style>\n",
       "<table border=\"1\" class=\"dataframe\">\n",
       "  <thead>\n",
       "    <tr style=\"text-align: right;\">\n",
       "      <th></th>\n",
       "      <th>user_score</th>\n",
       "    </tr>\n",
       "  </thead>\n",
       "  <tbody>\n",
       "    <tr>\n",
       "      <th>99</th>\n",
       "      <td>6.6</td>\n",
       "    </tr>\n",
       "    <tr>\n",
       "      <th>165</th>\n",
       "      <td>7.9</td>\n",
       "    </tr>\n",
       "    <tr>\n",
       "      <th>179</th>\n",
       "      <td>5.4</td>\n",
       "    </tr>\n",
       "    <tr>\n",
       "      <th>242</th>\n",
       "      <td>6.4</td>\n",
       "    </tr>\n",
       "    <tr>\n",
       "      <th>270</th>\n",
       "      <td>6.2</td>\n",
       "    </tr>\n",
       "  </tbody>\n",
       "</table>\n",
       "</div>"
      ],
      "text/plain": [
       "     user_score\n",
       "99          6.6\n",
       "165         7.9\n",
       "179         5.4\n",
       "242         6.4\n",
       "270         6.2"
      ]
     },
     "execution_count": 657,
     "metadata": {},
     "output_type": "execute_result"
    }
   ],
   "source": [
    "Xbox_rating = data.query('platform == \"XOne\"')['user_score']\n",
    "Xbox_rating = pd.DataFrame(Xbox_rating)\n",
    "Xbox_rating.head()"
   ]
  },
  {
   "cell_type": "code",
   "execution_count": 658,
   "metadata": {},
   "outputs": [
    {
     "data": {
      "text/html": [
       "<div>\n",
       "<style scoped>\n",
       "    .dataframe tbody tr th:only-of-type {\n",
       "        vertical-align: middle;\n",
       "    }\n",
       "\n",
       "    .dataframe tbody tr th {\n",
       "        vertical-align: top;\n",
       "    }\n",
       "\n",
       "    .dataframe thead th {\n",
       "        text-align: right;\n",
       "    }\n",
       "</style>\n",
       "<table border=\"1\" class=\"dataframe\">\n",
       "  <thead>\n",
       "    <tr style=\"text-align: right;\">\n",
       "      <th></th>\n",
       "      <th>missing</th>\n",
       "      <th>total</th>\n",
       "      <th>percent</th>\n",
       "    </tr>\n",
       "  </thead>\n",
       "  <tbody>\n",
       "    <tr>\n",
       "      <th>user_score</th>\n",
       "      <td>0</td>\n",
       "      <td>247</td>\n",
       "      <td>0.0</td>\n",
       "    </tr>\n",
       "  </tbody>\n",
       "</table>\n",
       "</div>"
      ],
      "text/plain": [
       "            missing  total  percent\n",
       "user_score        0    247      0.0"
      ]
     },
     "execution_count": 658,
     "metadata": {},
     "output_type": "execute_result"
    }
   ],
   "source": [
    "Xbox_rating.stb.missing()"
   ]
  },
  {
   "cell_type": "code",
   "execution_count": 659,
   "metadata": {},
   "outputs": [
    {
     "name": "stdout",
     "output_type": "stream",
     "text": [
      "<class 'pandas.core.frame.DataFrame'>\n",
      "Int64Index: 247 entries, 99 to 16672\n",
      "Data columns (total 1 columns):\n",
      " #   Column      Non-Null Count  Dtype  \n",
      "---  ------      --------------  -----  \n",
      " 0   user_score  247 non-null    float64\n",
      "dtypes: float64(1)\n",
      "memory usage: 3.9 KB\n"
     ]
    }
   ],
   "source": [
    "Xbox_rating.info()"
   ]
  },
  {
   "cell_type": "code",
   "execution_count": 660,
   "metadata": {},
   "outputs": [
    {
     "data": {
      "text/html": [
       "<div>\n",
       "<style scoped>\n",
       "    .dataframe tbody tr th:only-of-type {\n",
       "        vertical-align: middle;\n",
       "    }\n",
       "\n",
       "    .dataframe tbody tr th {\n",
       "        vertical-align: top;\n",
       "    }\n",
       "\n",
       "    .dataframe thead th {\n",
       "        text-align: right;\n",
       "    }\n",
       "</style>\n",
       "<table border=\"1\" class=\"dataframe\">\n",
       "  <thead>\n",
       "    <tr style=\"text-align: right;\">\n",
       "      <th></th>\n",
       "      <th>user_score</th>\n",
       "    </tr>\n",
       "  </thead>\n",
       "  <tbody>\n",
       "    <tr>\n",
       "      <th>85</th>\n",
       "      <td>7.6</td>\n",
       "    </tr>\n",
       "    <tr>\n",
       "      <th>138</th>\n",
       "      <td>7.3</td>\n",
       "    </tr>\n",
       "    <tr>\n",
       "      <th>192</th>\n",
       "      <td>4.0</td>\n",
       "    </tr>\n",
       "    <tr>\n",
       "      <th>195</th>\n",
       "      <td>7.4</td>\n",
       "    </tr>\n",
       "    <tr>\n",
       "      <th>218</th>\n",
       "      <td>8.2</td>\n",
       "    </tr>\n",
       "  </tbody>\n",
       "</table>\n",
       "</div>"
      ],
      "text/plain": [
       "     user_score\n",
       "85          7.6\n",
       "138         7.3\n",
       "192         4.0\n",
       "195         7.4\n",
       "218         8.2"
      ]
     },
     "execution_count": 660,
     "metadata": {},
     "output_type": "execute_result"
    }
   ],
   "source": [
    "pc_rating = data.query('platform == \"PC\"')['user_score']\n",
    "pc_rating = pd.DataFrame(pc_rating)\n",
    "pc_rating.head()"
   ]
  },
  {
   "cell_type": "code",
   "execution_count": 661,
   "metadata": {},
   "outputs": [
    {
     "data": {
      "text/html": [
       "<div>\n",
       "<style scoped>\n",
       "    .dataframe tbody tr th:only-of-type {\n",
       "        vertical-align: middle;\n",
       "    }\n",
       "\n",
       "    .dataframe tbody tr th {\n",
       "        vertical-align: top;\n",
       "    }\n",
       "\n",
       "    .dataframe thead th {\n",
       "        text-align: right;\n",
       "    }\n",
       "</style>\n",
       "<table border=\"1\" class=\"dataframe\">\n",
       "  <thead>\n",
       "    <tr style=\"text-align: right;\">\n",
       "      <th></th>\n",
       "      <th>missing</th>\n",
       "      <th>total</th>\n",
       "      <th>percent</th>\n",
       "    </tr>\n",
       "  </thead>\n",
       "  <tbody>\n",
       "    <tr>\n",
       "      <th>user_score</th>\n",
       "      <td>0</td>\n",
       "      <td>974</td>\n",
       "      <td>0.0</td>\n",
       "    </tr>\n",
       "  </tbody>\n",
       "</table>\n",
       "</div>"
      ],
      "text/plain": [
       "            missing  total  percent\n",
       "user_score        0    974      0.0"
      ]
     },
     "execution_count": 661,
     "metadata": {},
     "output_type": "execute_result"
    }
   ],
   "source": [
    "pc_rating.stb.missing()"
   ]
  },
  {
   "cell_type": "code",
   "execution_count": 662,
   "metadata": {},
   "outputs": [
    {
     "name": "stdout",
     "output_type": "stream",
     "text": [
      "<class 'pandas.core.frame.DataFrame'>\n",
      "Int64Index: 974 entries, 85 to 16705\n",
      "Data columns (total 1 columns):\n",
      " #   Column      Non-Null Count  Dtype  \n",
      "---  ------      --------------  -----  \n",
      " 0   user_score  974 non-null    float64\n",
      "dtypes: float64(1)\n",
      "memory usage: 15.2 KB\n"
     ]
    }
   ],
   "source": [
    "pc_rating.info()"
   ]
  },
  {
   "cell_type": "code",
   "execution_count": 663,
   "metadata": {},
   "outputs": [],
   "source": [
    "Xbox_rating = Xbox_rating['user_score']"
   ]
  },
  {
   "cell_type": "code",
   "execution_count": 664,
   "metadata": {},
   "outputs": [],
   "source": [
    "pc_rating = pc_rating['user_score']"
   ]
  },
  {
   "cell_type": "markdown",
   "metadata": {},
   "source": [
    "Let's use the Levene library to find if the variance is equal between the two samples or not."
   ]
  },
  {
   "cell_type": "markdown",
   "metadata": {},
   "source": [
    "We will need to choose a significant level to be the threshold that determines when we will reject the null hypothesis. Our significant level will be 0.05 percent."
   ]
  },
  {
   "cell_type": "code",
   "execution_count": 665,
   "metadata": {},
   "outputs": [],
   "source": [
    "from scipy.stats import levene"
   ]
  },
  {
   "cell_type": "code",
   "execution_count": 666,
   "metadata": {},
   "outputs": [
    {
     "data": {
      "text/plain": [
       "LeveneResult(statistic=6.687504632942618, pvalue=0.009824227908481939)"
      ]
     },
     "execution_count": 666,
     "metadata": {},
     "output_type": "execute_result"
    }
   ],
   "source": [
    "levene(Xbox_rating, pc_rating, center='mean')"
   ]
  },
  {
   "cell_type": "markdown",
   "metadata": {},
   "source": [
    "pvalue=0.009 is below 0.05, we will consider the variances not equal."
   ]
  },
  {
   "cell_type": "markdown",
   "metadata": {},
   "source": [
    "Now let's do an independent t-test with the two variables and the equal_var=True because of the Levene test results."
   ]
  },
  {
   "cell_type": "code",
   "execution_count": 667,
   "metadata": {},
   "outputs": [],
   "source": [
    "from scipy.stats import ttest_ind"
   ]
  },
  {
   "cell_type": "code",
   "execution_count": 668,
   "metadata": {},
   "outputs": [
    {
     "name": "stdout",
     "output_type": "stream",
     "text": [
      "p-value: 0.0004355853543232719\n",
      "We reject the null hypothesis\n"
     ]
    }
   ],
   "source": [
    "alpha = 0.05 # set a critical statistical significance level\n",
    "\n",
    "results = ttest_ind(Xbox_rating, pc_rating, equal_var=False) # test the hypothesis that the means of the two independent populations are equal\n",
    "\n",
    "print('p-value:', results.pvalue)# print the p-value you get\n",
    "\n",
    "if results.pvalue < alpha: #compare the p-value you get with the significance level:\n",
    "    print(\"We reject the null hypothesis\")\n",
    "else:\n",
    "    print(\"We can't reject the null hypothesis\")"
   ]
  },
  {
   "cell_type": "markdown",
   "metadata": {},
   "source": [
    "We reject the null hypothesis, which means that The Average user ratings of the Xbox One and PC platforms are the same."
   ]
  },
  {
   "cell_type": "markdown",
   "metadata": {},
   "source": [
    "H0: The null hypothesis in the second question is that Average user ratings for the Action and Sports genres are not different.\n",
    "\n",
    "H1:The alternative hypothesis is that The Average user ratings for the Action and Sports genres are different."
   ]
  },
  {
   "cell_type": "markdown",
   "metadata": {},
   "source": [
    "Let's create two variables that slice the user_score of the Action and the Sports genre."
   ]
  },
  {
   "cell_type": "code",
   "execution_count": 669,
   "metadata": {},
   "outputs": [
    {
     "data": {
      "text/html": [
       "<div>\n",
       "<style scoped>\n",
       "    .dataframe tbody tr th:only-of-type {\n",
       "        vertical-align: middle;\n",
       "    }\n",
       "\n",
       "    .dataframe tbody tr th {\n",
       "        vertical-align: top;\n",
       "    }\n",
       "\n",
       "    .dataframe thead th {\n",
       "        text-align: right;\n",
       "    }\n",
       "</style>\n",
       "<table border=\"1\" class=\"dataframe\">\n",
       "  <thead>\n",
       "    <tr style=\"text-align: right;\">\n",
       "      <th></th>\n",
       "      <th>name</th>\n",
       "      <th>platform</th>\n",
       "      <th>year_of_release</th>\n",
       "      <th>genre</th>\n",
       "      <th>na_sales</th>\n",
       "      <th>eu_sales</th>\n",
       "      <th>jp_sales</th>\n",
       "      <th>other_sales</th>\n",
       "      <th>critic_score</th>\n",
       "      <th>user_score</th>\n",
       "      <th>rating</th>\n",
       "      <th>total_sales</th>\n",
       "    </tr>\n",
       "  </thead>\n",
       "  <tbody>\n",
       "    <tr>\n",
       "      <th>0</th>\n",
       "      <td>Wii Sports</td>\n",
       "      <td>Wii</td>\n",
       "      <td>2006</td>\n",
       "      <td>Sports</td>\n",
       "      <td>41.36</td>\n",
       "      <td>28.96</td>\n",
       "      <td>3.77</td>\n",
       "      <td>8.45</td>\n",
       "      <td>76.0</td>\n",
       "      <td>8.0</td>\n",
       "      <td>E</td>\n",
       "      <td>82.54</td>\n",
       "    </tr>\n",
       "    <tr>\n",
       "      <th>1</th>\n",
       "      <td>Super Mario Bros.</td>\n",
       "      <td>NES</td>\n",
       "      <td>1985</td>\n",
       "      <td>Platform</td>\n",
       "      <td>29.08</td>\n",
       "      <td>3.58</td>\n",
       "      <td>6.81</td>\n",
       "      <td>0.77</td>\n",
       "      <td>-2.0</td>\n",
       "      <td>-2.0</td>\n",
       "      <td>N/A</td>\n",
       "      <td>40.24</td>\n",
       "    </tr>\n",
       "    <tr>\n",
       "      <th>2</th>\n",
       "      <td>Mario Kart Wii</td>\n",
       "      <td>Wii</td>\n",
       "      <td>2008</td>\n",
       "      <td>Racing</td>\n",
       "      <td>15.68</td>\n",
       "      <td>12.76</td>\n",
       "      <td>3.79</td>\n",
       "      <td>3.29</td>\n",
       "      <td>82.0</td>\n",
       "      <td>8.3</td>\n",
       "      <td>E</td>\n",
       "      <td>35.52</td>\n",
       "    </tr>\n",
       "    <tr>\n",
       "      <th>3</th>\n",
       "      <td>Wii Sports Resort</td>\n",
       "      <td>Wii</td>\n",
       "      <td>2009</td>\n",
       "      <td>Sports</td>\n",
       "      <td>15.61</td>\n",
       "      <td>10.93</td>\n",
       "      <td>3.28</td>\n",
       "      <td>2.95</td>\n",
       "      <td>80.0</td>\n",
       "      <td>8.0</td>\n",
       "      <td>E</td>\n",
       "      <td>32.77</td>\n",
       "    </tr>\n",
       "    <tr>\n",
       "      <th>4</th>\n",
       "      <td>Pokemon Red/Pokemon Blue</td>\n",
       "      <td>GB</td>\n",
       "      <td>1996</td>\n",
       "      <td>Role-Playing</td>\n",
       "      <td>11.27</td>\n",
       "      <td>8.89</td>\n",
       "      <td>10.22</td>\n",
       "      <td>1.00</td>\n",
       "      <td>-2.0</td>\n",
       "      <td>-2.0</td>\n",
       "      <td>N/A</td>\n",
       "      <td>31.38</td>\n",
       "    </tr>\n",
       "  </tbody>\n",
       "</table>\n",
       "</div>"
      ],
      "text/plain": [
       "                       name platform  year_of_release         genre  na_sales  \\\n",
       "0                Wii Sports      Wii             2006        Sports     41.36   \n",
       "1         Super Mario Bros.      NES             1985      Platform     29.08   \n",
       "2            Mario Kart Wii      Wii             2008        Racing     15.68   \n",
       "3         Wii Sports Resort      Wii             2009        Sports     15.61   \n",
       "4  Pokemon Red/Pokemon Blue       GB             1996  Role-Playing     11.27   \n",
       "\n",
       "   eu_sales  jp_sales  other_sales  critic_score  user_score rating  \\\n",
       "0     28.96      3.77         8.45          76.0         8.0      E   \n",
       "1      3.58      6.81         0.77          -2.0        -2.0    N/A   \n",
       "2     12.76      3.79         3.29          82.0         8.3      E   \n",
       "3     10.93      3.28         2.95          80.0         8.0      E   \n",
       "4      8.89     10.22         1.00          -2.0        -2.0    N/A   \n",
       "\n",
       "   total_sales  \n",
       "0        82.54  \n",
       "1        40.24  \n",
       "2        35.52  \n",
       "3        32.77  \n",
       "4        31.38  "
      ]
     },
     "execution_count": 669,
     "metadata": {},
     "output_type": "execute_result"
    }
   ],
   "source": [
    "data.head()"
   ]
  },
  {
   "cell_type": "code",
   "execution_count": 670,
   "metadata": {},
   "outputs": [
    {
     "data": {
      "text/plain": [
       "Action          3369\n",
       "Sports          2348\n",
       "Misc            1750\n",
       "Role-Playing    1498\n",
       "Shooter         1323\n",
       "Adventure       1303\n",
       "Racing          1249\n",
       "Platform         888\n",
       "Simulation       873\n",
       "Fighting         849\n",
       "Strategy         683\n",
       "Puzzle           580\n",
       "Name: genre, dtype: int64"
      ]
     },
     "execution_count": 670,
     "metadata": {},
     "output_type": "execute_result"
    }
   ],
   "source": [
    "data['genre'].value_counts()"
   ]
  },
  {
   "cell_type": "code",
   "execution_count": 671,
   "metadata": {},
   "outputs": [
    {
     "data": {
      "text/html": [
       "<div>\n",
       "<style scoped>\n",
       "    .dataframe tbody tr th:only-of-type {\n",
       "        vertical-align: middle;\n",
       "    }\n",
       "\n",
       "    .dataframe tbody tr th {\n",
       "        vertical-align: top;\n",
       "    }\n",
       "\n",
       "    .dataframe thead th {\n",
       "        text-align: right;\n",
       "    }\n",
       "</style>\n",
       "<table border=\"1\" class=\"dataframe\">\n",
       "  <thead>\n",
       "    <tr style=\"text-align: right;\">\n",
       "      <th></th>\n",
       "      <th>user_score</th>\n",
       "    </tr>\n",
       "  </thead>\n",
       "  <tbody>\n",
       "    <tr>\n",
       "      <th>16</th>\n",
       "      <td>8.2</td>\n",
       "    </tr>\n",
       "    <tr>\n",
       "      <th>17</th>\n",
       "      <td>9.0</td>\n",
       "    </tr>\n",
       "    <tr>\n",
       "      <th>23</th>\n",
       "      <td>8.1</td>\n",
       "    </tr>\n",
       "    <tr>\n",
       "      <th>24</th>\n",
       "      <td>8.7</td>\n",
       "    </tr>\n",
       "    <tr>\n",
       "      <th>38</th>\n",
       "      <td>8.5</td>\n",
       "    </tr>\n",
       "  </tbody>\n",
       "</table>\n",
       "</div>"
      ],
      "text/plain": [
       "    user_score\n",
       "16         8.2\n",
       "17         9.0\n",
       "23         8.1\n",
       "24         8.7\n",
       "38         8.5"
      ]
     },
     "execution_count": 671,
     "metadata": {},
     "output_type": "execute_result"
    }
   ],
   "source": [
    "action_rating = data.query(\"genre == 'Action'\")['user_score']\n",
    "action_rating = pd.DataFrame(action_rating)\n",
    "action_rating.head()"
   ]
  },
  {
   "cell_type": "code",
   "execution_count": 672,
   "metadata": {},
   "outputs": [
    {
     "data": {
      "text/html": [
       "<div>\n",
       "<style scoped>\n",
       "    .dataframe tbody tr th:only-of-type {\n",
       "        vertical-align: middle;\n",
       "    }\n",
       "\n",
       "    .dataframe tbody tr th {\n",
       "        vertical-align: top;\n",
       "    }\n",
       "\n",
       "    .dataframe thead th {\n",
       "        text-align: right;\n",
       "    }\n",
       "</style>\n",
       "<table border=\"1\" class=\"dataframe\">\n",
       "  <thead>\n",
       "    <tr style=\"text-align: right;\">\n",
       "      <th></th>\n",
       "      <th>missing</th>\n",
       "      <th>total</th>\n",
       "      <th>percent</th>\n",
       "    </tr>\n",
       "  </thead>\n",
       "  <tbody>\n",
       "    <tr>\n",
       "      <th>user_score</th>\n",
       "      <td>0</td>\n",
       "      <td>3369</td>\n",
       "      <td>0.0</td>\n",
       "    </tr>\n",
       "  </tbody>\n",
       "</table>\n",
       "</div>"
      ],
      "text/plain": [
       "            missing  total  percent\n",
       "user_score        0   3369      0.0"
      ]
     },
     "execution_count": 672,
     "metadata": {},
     "output_type": "execute_result"
    }
   ],
   "source": [
    "action_rating.stb.missing()"
   ]
  },
  {
   "cell_type": "code",
   "execution_count": 673,
   "metadata": {},
   "outputs": [
    {
     "name": "stdout",
     "output_type": "stream",
     "text": [
      "<class 'pandas.core.frame.DataFrame'>\n",
      "Int64Index: 3369 entries, 16 to 16710\n",
      "Data columns (total 1 columns):\n",
      " #   Column      Non-Null Count  Dtype  \n",
      "---  ------      --------------  -----  \n",
      " 0   user_score  3369 non-null   float64\n",
      "dtypes: float64(1)\n",
      "memory usage: 52.6 KB\n"
     ]
    }
   ],
   "source": [
    "action_rating.info()"
   ]
  },
  {
   "cell_type": "code",
   "execution_count": 674,
   "metadata": {},
   "outputs": [],
   "source": [
    "action_rating = action_rating['user_score']"
   ]
  },
  {
   "cell_type": "code",
   "execution_count": 675,
   "metadata": {},
   "outputs": [
    {
     "data": {
      "text/html": [
       "<div>\n",
       "<style scoped>\n",
       "    .dataframe tbody tr th:only-of-type {\n",
       "        vertical-align: middle;\n",
       "    }\n",
       "\n",
       "    .dataframe tbody tr th {\n",
       "        vertical-align: top;\n",
       "    }\n",
       "\n",
       "    .dataframe thead th {\n",
       "        text-align: right;\n",
       "    }\n",
       "</style>\n",
       "<table border=\"1\" class=\"dataframe\">\n",
       "  <thead>\n",
       "    <tr style=\"text-align: right;\">\n",
       "      <th></th>\n",
       "      <th>user_score</th>\n",
       "    </tr>\n",
       "  </thead>\n",
       "  <tbody>\n",
       "    <tr>\n",
       "      <th>0</th>\n",
       "      <td>8.0</td>\n",
       "    </tr>\n",
       "    <tr>\n",
       "      <th>3</th>\n",
       "      <td>8.0</td>\n",
       "    </tr>\n",
       "    <tr>\n",
       "      <th>13</th>\n",
       "      <td>7.7</td>\n",
       "    </tr>\n",
       "    <tr>\n",
       "      <th>15</th>\n",
       "      <td>7.4</td>\n",
       "    </tr>\n",
       "    <tr>\n",
       "      <th>77</th>\n",
       "      <td>4.3</td>\n",
       "    </tr>\n",
       "  </tbody>\n",
       "</table>\n",
       "</div>"
      ],
      "text/plain": [
       "    user_score\n",
       "0          8.0\n",
       "3          8.0\n",
       "13         7.7\n",
       "15         7.4\n",
       "77         4.3"
      ]
     },
     "execution_count": 675,
     "metadata": {},
     "output_type": "execute_result"
    }
   ],
   "source": [
    "sport_rating = data.query(\"genre == 'Sports'\")['user_score']\n",
    "sport_rating = pd.DataFrame(sport_rating)\n",
    "sport_rating.head()"
   ]
  },
  {
   "cell_type": "code",
   "execution_count": 676,
   "metadata": {},
   "outputs": [
    {
     "data": {
      "text/html": [
       "<div>\n",
       "<style scoped>\n",
       "    .dataframe tbody tr th:only-of-type {\n",
       "        vertical-align: middle;\n",
       "    }\n",
       "\n",
       "    .dataframe tbody tr th {\n",
       "        vertical-align: top;\n",
       "    }\n",
       "\n",
       "    .dataframe thead th {\n",
       "        text-align: right;\n",
       "    }\n",
       "</style>\n",
       "<table border=\"1\" class=\"dataframe\">\n",
       "  <thead>\n",
       "    <tr style=\"text-align: right;\">\n",
       "      <th></th>\n",
       "      <th>missing</th>\n",
       "      <th>total</th>\n",
       "      <th>percent</th>\n",
       "    </tr>\n",
       "  </thead>\n",
       "  <tbody>\n",
       "    <tr>\n",
       "      <th>user_score</th>\n",
       "      <td>0</td>\n",
       "      <td>2348</td>\n",
       "      <td>0.0</td>\n",
       "    </tr>\n",
       "  </tbody>\n",
       "</table>\n",
       "</div>"
      ],
      "text/plain": [
       "            missing  total  percent\n",
       "user_score        0   2348      0.0"
      ]
     },
     "execution_count": 676,
     "metadata": {},
     "output_type": "execute_result"
    }
   ],
   "source": [
    "sport_rating.stb.missing()"
   ]
  },
  {
   "cell_type": "code",
   "execution_count": 677,
   "metadata": {},
   "outputs": [
    {
     "name": "stdout",
     "output_type": "stream",
     "text": [
      "<class 'pandas.core.frame.DataFrame'>\n",
      "Int64Index: 2348 entries, 0 to 16711\n",
      "Data columns (total 1 columns):\n",
      " #   Column      Non-Null Count  Dtype  \n",
      "---  ------      --------------  -----  \n",
      " 0   user_score  2348 non-null   float64\n",
      "dtypes: float64(1)\n",
      "memory usage: 36.7 KB\n"
     ]
    }
   ],
   "source": [
    "sport_rating.info()"
   ]
  },
  {
   "cell_type": "code",
   "execution_count": 678,
   "metadata": {},
   "outputs": [],
   "source": [
    "sport_rating = sport_rating['user_score']"
   ]
  },
  {
   "cell_type": "markdown",
   "metadata": {},
   "source": [
    "Our significant level will be 0.05 percent."
   ]
  },
  {
   "cell_type": "code",
   "execution_count": 679,
   "metadata": {},
   "outputs": [],
   "source": [
    "from scipy.stats import levene"
   ]
  },
  {
   "cell_type": "code",
   "execution_count": 680,
   "metadata": {},
   "outputs": [
    {
     "data": {
      "text/plain": [
       "LeveneResult(statistic=168.79303902665401, pvalue=4.6766354399412925e-38)"
      ]
     },
     "execution_count": 680,
     "metadata": {},
     "output_type": "execute_result"
    }
   ],
   "source": [
    "levene(action_rating, sport_rating, center='mean')"
   ]
  },
  {
   "cell_type": "markdown",
   "metadata": {},
   "source": [
    "pvalue=4.676 is above 0.05, we will consider the variances equal."
   ]
  },
  {
   "cell_type": "markdown",
   "metadata": {},
   "source": [
    "Now let's do an independent t-test with the two variables and the equal_var=True because of the Levene test results."
   ]
  },
  {
   "cell_type": "code",
   "execution_count": 681,
   "metadata": {},
   "outputs": [
    {
     "name": "stdout",
     "output_type": "stream",
     "text": [
      "p-value: 4.733376390750224e-14\n",
      "We reject the null hypothesis\n"
     ]
    }
   ],
   "source": [
    "alpha = 0.05 # set a critical statistical significance level\n",
    "\n",
    "results = ttest_ind(action_rating, sport_rating, equal_var=True) # test the hypothesis that the means of the two independent populations are equal\n",
    "\n",
    "print('p-value:', results.pvalue)# print the p-value you get\n",
    "\n",
    "if results.pvalue < alpha: #compare the p-value you get with the significance level:\n",
    "    print(\"We reject the null hypothesis\")\n",
    "else:\n",
    "    print(\"We can't reject the null hypothesis\")"
   ]
  },
  {
   "cell_type": "markdown",
   "metadata": {},
   "source": [
    "We reject the null hypothesis This means that we reject the possibility that the Average user ratings for the Action and Sports genres are the same."
   ]
  },
  {
   "cell_type": "markdown",
   "metadata": {},
   "source": [
    "# Step 6. Write a general conclusion\n"
   ]
  },
  {
   "cell_type": "markdown",
   "metadata": {},
   "source": [
    "We have come a long way since we started the investigation."
   ]
  },
  {
   "cell_type": "markdown",
   "metadata": {},
   "source": [
    "1) Open the data file and study the general information\n",
    "\n",
    "We began by studying the data, and from this phase, we gathered valuable information:\n",
    "\n",
    "- The most common game in our data is \"Need for Speed: Most Wanted.\" We can use this information to create content and target gamers' audiance.\n",
    "\n",
    "\n",
    "- the most common platform in the data is \"PS2.\"\n",
    "\n",
    "\n",
    "- The most common genre is \"Action.\"\n",
    "\n",
    "\n",
    "- ps2 and DS are the most used platforms.\n",
    "\n",
    "\n",
    "- The most popular genre are Action, Sports, and Misc.\n",
    "\n",
    "\n",
    "- For North American sales, the top games are Wii Sports, Super Mario Bros, Duck Hunt, Tetris, and Mario Kart Wii. This information is crucial to connect the market of North America.\n",
    "\n",
    "\n",
    "- For Europe sales, the top games are Wii Sports, Mario Kart Wii, Nintendogs, Wii Sports Resort, Brain Age: Train Your Brain in Minutes a Day. This information is crucial to connect the market of Europe.\n",
    "\n",
    "\n",
    "- The top games for Japan by sales are Pokemon Red/Pokemon Blue, Pokemon Gold/Pokemon Silver, Super Mario Bros., New Super Mario Bros., Pokemon Diamond/Pokemon Pearl.\n",
    "\n",
    "2) Prepare the data\n",
    "\n",
    "After we learned the general data and gathered essential information, we cleaned the data.\n",
    "\n",
    "3) Analyze the data\n",
    "\n",
    "After cleaning the data, we start analyzing and learning more about our data.\n",
    "We analyze the data and gather the following insights:\n",
    "\n",
    "\n",
    "- From 1994 to 2011, there was a growth in the game release, and from 2012 there was a decrease in the game released. \n",
    "\n",
    "\n",
    "- The PS2, X360, and PS3 are the leading platforms for sales.\n",
    "\n",
    "\n",
    "- We find that, in general, its take 3-4 year for a platform to emerge and fade away.\n",
    "\n",
    "\n",
    "- We choose a successful platform: XOne, X360, PS3, PS4, 3DS.\n",
    "\n",
    "\n",
    "- If we look at the number of games per genre, the leading genre is Action, Sport, and Shooter.\n",
    "\n",
    "\n",
    "- Looking at the top genres in terms of sales, we have Action, Shooter, and Sport at the top.\n",
    "\n",
    "- We see a correlation between the number of games and the total sales, but we have some surprises here. For example, the Sports Genre generated more games than the Shooter, but the shooter genre outperformed the sports genre in terms of sales.\n",
    "\n",
    "4) Create a user profile for each region\n",
    "\n",
    "- The five dominant platforms in north America are X360, PS3, PS4, XOne, 3DS., with a total of 1.281 billion.\n",
    "\n",
    "\n",
    "- The five dominant platforms in Europe are  PS3, X360, PS4, Wii, 3DS., with a total sales of 855 million.\n",
    "\n",
    "\n",
    "- The five dominant platforms in Japan are  3DS, PS3, PS4, X360, XOne, with a total sales of 209 million.\n",
    "\n",
    "\n",
    "- North America and Europe-dominated genres are almost the same. Still, the 4th dominant genre in NA is \"Role-Playing,\" and in EU is \"Racing.\" if we look at JP, the most dominant genre is \"Role-Playing.\" Action and Shooter came second and third; wail Fighting closed the top five.\n",
    "\n",
    "\n",
    "5) Test hypotheses\n",
    "\n",
    "- After analyzing the data, we hypothesize that Average user ratings of the Xbox One and PC platforms are the same.\n",
    "\n",
    "\n",
    "- We check the hypothesis with our data and find enough confidence to say that the belief is true.\n",
    "\n",
    "\n",
    "- We also hypothesized that Average user ratings for the Action and Sports genres are different. Again, we check our data and find enough confidence to say that the belief is true.\n"
   ]
  }
 ],
 "metadata": {
  "ExecuteTimeLog": [
   {
    "duration": 565,
    "start_time": "2021-12-23T19:09:23.759Z"
   },
   {
    "duration": 3,
    "start_time": "2021-12-23T19:09:26.640Z"
   },
   {
    "duration": 40,
    "start_time": "2021-12-23T19:10:01.459Z"
   },
   {
    "duration": 11,
    "start_time": "2021-12-23T19:10:23.637Z"
   },
   {
    "duration": 9,
    "start_time": "2021-12-23T19:10:56.677Z"
   },
   {
    "duration": 39,
    "start_time": "2021-12-23T19:11:09.079Z"
   },
   {
    "duration": 40,
    "start_time": "2021-12-23T19:11:22.869Z"
   },
   {
    "duration": 12,
    "start_time": "2021-12-23T19:11:36.979Z"
   },
   {
    "duration": 850,
    "start_time": "2022-01-16T14:14:36.060Z"
   },
   {
    "duration": 50,
    "start_time": "2022-01-16T14:14:36.913Z"
   },
   {
    "duration": 36,
    "start_time": "2022-01-16T14:14:36.966Z"
   },
   {
    "duration": 14,
    "start_time": "2022-01-16T14:14:37.662Z"
   },
   {
    "duration": 1631,
    "start_time": "2022-01-16T14:26:44.807Z"
   },
   {
    "duration": 695,
    "start_time": "2022-01-16T14:27:45.159Z"
   },
   {
    "duration": 402,
    "start_time": "2022-01-16T14:27:58.180Z"
   },
   {
    "duration": 1678,
    "start_time": "2022-01-16T14:28:33.907Z"
   },
   {
    "duration": 3834,
    "start_time": "2022-01-16T14:28:45.714Z"
   },
   {
    "duration": 4264,
    "start_time": "2022-01-16T14:28:58.229Z"
   },
   {
    "duration": 7,
    "start_time": "2022-01-16T14:29:02.497Z"
   },
   {
    "duration": 51,
    "start_time": "2022-01-16T14:29:08.457Z"
   },
   {
    "duration": 49,
    "start_time": "2022-01-16T14:29:32.899Z"
   },
   {
    "duration": 19,
    "start_time": "2022-01-16T14:29:55.699Z"
   },
   {
    "duration": 16,
    "start_time": "2022-01-16T14:30:06.758Z"
   },
   {
    "duration": 5137,
    "start_time": "2022-01-16T14:38:13.069Z"
   },
   {
    "duration": 4,
    "start_time": "2022-01-16T14:38:20.563Z"
   },
   {
    "duration": 54,
    "start_time": "2022-01-16T14:38:26.364Z"
   },
   {
    "duration": 20,
    "start_time": "2022-01-16T14:38:28.962Z"
   },
   {
    "duration": 23,
    "start_time": "2022-01-16T14:38:32.033Z"
   },
   {
    "duration": 47,
    "start_time": "2022-01-16T15:00:08.056Z"
   },
   {
    "duration": 34,
    "start_time": "2022-01-16T15:00:28.198Z"
   },
   {
    "duration": 7,
    "start_time": "2022-01-16T15:10:11.720Z"
   },
   {
    "duration": 19,
    "start_time": "2022-01-16T15:10:34.518Z"
   },
   {
    "duration": 9753,
    "start_time": "2022-01-16T15:40:42.659Z"
   },
   {
    "duration": 9440,
    "start_time": "2022-01-16T15:41:43.761Z"
   },
   {
    "duration": 10,
    "start_time": "2022-01-16T15:44:27.217Z"
   },
   {
    "duration": 11,
    "start_time": "2022-01-16T15:44:41.999Z"
   },
   {
    "duration": 9,
    "start_time": "2022-01-16T15:44:43.437Z"
   },
   {
    "duration": 19,
    "start_time": "2022-01-16T15:44:56.601Z"
   },
   {
    "duration": 418,
    "start_time": "2022-01-16T15:46:12.970Z"
   },
   {
    "duration": 374,
    "start_time": "2022-01-16T15:46:50.450Z"
   },
   {
    "duration": 781,
    "start_time": "2022-01-16T15:47:51.814Z"
   },
   {
    "duration": 518,
    "start_time": "2022-01-16T15:48:01.270Z"
   },
   {
    "duration": 17,
    "start_time": "2022-01-16T15:49:45.328Z"
   },
   {
    "duration": 11,
    "start_time": "2022-01-16T15:49:53.077Z"
   },
   {
    "duration": 15,
    "start_time": "2022-01-16T15:49:54.998Z"
   },
   {
    "duration": 396,
    "start_time": "2022-01-16T15:52:25.708Z"
   },
   {
    "duration": 2660,
    "start_time": "2022-01-16T15:52:46.769Z"
   },
   {
    "duration": 2392,
    "start_time": "2022-01-16T15:53:44.100Z"
   },
   {
    "duration": 4111,
    "start_time": "2022-01-16T15:54:03.583Z"
   },
   {
    "duration": 4,
    "start_time": "2022-01-16T15:54:08.374Z"
   },
   {
    "duration": 75,
    "start_time": "2022-01-16T15:54:09.139Z"
   },
   {
    "duration": 24,
    "start_time": "2022-01-16T15:54:09.937Z"
   },
   {
    "duration": 14,
    "start_time": "2022-01-16T15:54:10.656Z"
   },
   {
    "duration": 44,
    "start_time": "2022-01-16T15:54:11.709Z"
   },
   {
    "duration": 27,
    "start_time": "2022-01-16T15:54:12.219Z"
   },
   {
    "duration": 18,
    "start_time": "2022-01-16T15:54:17.239Z"
   },
   {
    "duration": 19,
    "start_time": "2022-01-16T15:54:21.399Z"
   },
   {
    "duration": 2730,
    "start_time": "2022-01-16T15:54:26.589Z"
   },
   {
    "duration": 5,
    "start_time": "2022-01-16T15:54:57.677Z"
   },
   {
    "duration": 69,
    "start_time": "2022-01-16T15:54:58.267Z"
   },
   {
    "duration": 20,
    "start_time": "2022-01-16T15:54:58.593Z"
   },
   {
    "duration": 14,
    "start_time": "2022-01-16T15:54:58.718Z"
   },
   {
    "duration": 44,
    "start_time": "2022-01-16T15:54:59.649Z"
   },
   {
    "duration": 29,
    "start_time": "2022-01-16T15:55:00.109Z"
   },
   {
    "duration": 7,
    "start_time": "2022-01-16T15:55:06.368Z"
   },
   {
    "duration": 25,
    "start_time": "2022-01-16T15:55:07.150Z"
   },
   {
    "duration": 2436,
    "start_time": "2022-01-16T15:55:10.530Z"
   },
   {
    "duration": 10,
    "start_time": "2022-01-16T15:59:41.200Z"
   },
   {
    "duration": 14,
    "start_time": "2022-01-16T15:59:53.780Z"
   },
   {
    "duration": 19,
    "start_time": "2022-01-16T16:00:11.931Z"
   },
   {
    "duration": 19,
    "start_time": "2022-01-16T16:00:39.667Z"
   },
   {
    "duration": 390,
    "start_time": "2022-01-16T16:01:18.421Z"
   },
   {
    "duration": 10,
    "start_time": "2022-01-16T16:02:01.372Z"
   },
   {
    "duration": 14,
    "start_time": "2022-01-16T16:02:04.300Z"
   },
   {
    "duration": 19,
    "start_time": "2022-01-16T16:02:05.127Z"
   },
   {
    "duration": 14,
    "start_time": "2022-01-16T16:02:28.030Z"
   },
   {
    "duration": 5,
    "start_time": "2022-01-16T16:02:47.335Z"
   },
   {
    "duration": 7,
    "start_time": "2022-01-16T16:06:12.511Z"
   },
   {
    "duration": 20,
    "start_time": "2022-01-16T16:06:23.309Z"
   },
   {
    "duration": 15,
    "start_time": "2022-01-16T16:06:44.069Z"
   },
   {
    "duration": 45,
    "start_time": "2022-01-16T16:30:06.777Z"
   },
   {
    "duration": 27,
    "start_time": "2022-01-16T16:30:09.837Z"
   },
   {
    "duration": 6,
    "start_time": "2022-01-16T16:30:11.938Z"
   },
   {
    "duration": 19,
    "start_time": "2022-01-16T16:30:12.269Z"
   },
   {
    "duration": 29,
    "start_time": "2022-01-16T16:31:32.163Z"
   },
   {
    "duration": 5,
    "start_time": "2022-01-16T16:31:34.606Z"
   },
   {
    "duration": 19,
    "start_time": "2022-01-16T16:31:40.930Z"
   },
   {
    "duration": 7479,
    "start_time": "2022-01-17T16:19:47.331Z"
   },
   {
    "duration": 475,
    "start_time": "2022-01-17T16:19:59.544Z"
   },
   {
    "duration": 36,
    "start_time": "2022-01-17T16:20:07.674Z"
   },
   {
    "duration": 19,
    "start_time": "2022-01-17T16:20:10.094Z"
   },
   {
    "duration": 14,
    "start_time": "2022-01-17T16:20:16.225Z"
   },
   {
    "duration": 12,
    "start_time": "2022-01-17T16:20:52.695Z"
   },
   {
    "duration": 11,
    "start_time": "2022-01-17T16:26:12.147Z"
   },
   {
    "duration": 14,
    "start_time": "2022-01-17T16:26:30.755Z"
   },
   {
    "duration": 25,
    "start_time": "2022-01-17T17:07:17.138Z"
   },
   {
    "duration": 23,
    "start_time": "2022-01-17T17:11:28.970Z"
   },
   {
    "duration": 264,
    "start_time": "2022-01-18T12:32:51.102Z"
   },
   {
    "duration": -710,
    "start_time": "2022-01-18T12:32:52.078Z"
   },
   {
    "duration": 99692,
    "start_time": "2022-01-18T12:34:44.395Z"
   },
   {
    "duration": 11792,
    "start_time": "2022-01-18T16:21:15.751Z"
   },
   {
    "duration": 763,
    "start_time": "2022-01-18T16:21:27.547Z"
   },
   {
    "duration": 53,
    "start_time": "2022-01-18T16:21:31.092Z"
   },
   {
    "duration": 33,
    "start_time": "2022-01-18T16:21:32.701Z"
   },
   {
    "duration": 25,
    "start_time": "2022-01-18T16:21:36.370Z"
   },
   {
    "duration": 25,
    "start_time": "2022-01-18T16:21:42.911Z"
   },
   {
    "duration": 19,
    "start_time": "2022-01-18T16:21:49.332Z"
   },
   {
    "duration": 44,
    "start_time": "2022-01-18T16:22:01.970Z"
   },
   {
    "duration": 60,
    "start_time": "2022-01-18T16:22:31.101Z"
   },
   {
    "duration": 1039,
    "start_time": "2022-01-18T16:25:45.042Z"
   },
   {
    "duration": 81,
    "start_time": "2022-01-18T16:36:07.181Z"
   },
   {
    "duration": 22,
    "start_time": "2022-01-18T16:42:11.228Z"
   },
   {
    "duration": 927,
    "start_time": "2022-01-18T16:42:50.483Z"
   },
   {
    "duration": 20,
    "start_time": "2022-01-18T16:43:19.411Z"
   },
   {
    "duration": 36,
    "start_time": "2022-01-18T16:46:07.399Z"
   },
   {
    "duration": 25,
    "start_time": "2022-01-18T16:46:13.802Z"
   },
   {
    "duration": 11690,
    "start_time": "2022-01-20T04:33:03.117Z"
   },
   {
    "duration": 622,
    "start_time": "2022-01-20T04:33:25.188Z"
   },
   {
    "duration": 48,
    "start_time": "2022-01-20T04:33:27.687Z"
   },
   {
    "duration": 33,
    "start_time": "2022-01-20T04:33:30.847Z"
   },
   {
    "duration": 20,
    "start_time": "2022-01-20T04:33:32.247Z"
   },
   {
    "duration": 23,
    "start_time": "2022-01-20T04:33:35.508Z"
   },
   {
    "duration": 19,
    "start_time": "2022-01-20T04:33:39.418Z"
   },
   {
    "duration": 39,
    "start_time": "2022-01-20T04:33:41.398Z"
   },
   {
    "duration": 37,
    "start_time": "2022-01-20T04:34:03.177Z"
   },
   {
    "duration": 1069,
    "start_time": "2022-01-20T04:34:03.968Z"
   },
   {
    "duration": 4087,
    "start_time": "2022-01-20T04:38:10.277Z"
   },
   {
    "duration": 4,
    "start_time": "2022-01-20T04:41:15.488Z"
   },
   {
    "duration": 51,
    "start_time": "2022-01-20T04:41:29.652Z"
   },
   {
    "duration": 83,
    "start_time": "2022-01-20T04:45:36.459Z"
   },
   {
    "duration": 7414,
    "start_time": "2022-01-20T05:59:41.856Z"
   },
   {
    "duration": 466,
    "start_time": "2022-01-20T06:00:07.175Z"
   },
   {
    "duration": 40,
    "start_time": "2022-01-20T06:00:10.036Z"
   },
   {
    "duration": 14,
    "start_time": "2022-01-20T06:00:12.724Z"
   },
   {
    "duration": 41,
    "start_time": "2022-01-20T06:05:01.346Z"
   },
   {
    "duration": 14,
    "start_time": "2022-01-20T06:05:01.604Z"
   },
   {
    "duration": 25,
    "start_time": "2022-01-20T06:05:02.034Z"
   },
   {
    "duration": 14,
    "start_time": "2022-01-20T06:05:02.705Z"
   },
   {
    "duration": 17,
    "start_time": "2022-01-20T06:05:03.256Z"
   },
   {
    "duration": 14,
    "start_time": "2022-01-20T06:05:03.931Z"
   },
   {
    "duration": 27,
    "start_time": "2022-01-20T06:05:05.746Z"
   },
   {
    "duration": 28,
    "start_time": "2022-01-20T06:05:07.466Z"
   },
   {
    "duration": 760,
    "start_time": "2022-01-20T06:05:08.085Z"
   },
   {
    "duration": 70,
    "start_time": "2022-01-20T06:06:08.624Z"
   },
   {
    "duration": 14,
    "start_time": "2022-01-20T06:14:00.002Z"
   },
   {
    "duration": 16,
    "start_time": "2022-01-20T06:14:21.880Z"
   },
   {
    "duration": 12,
    "start_time": "2022-01-20T06:14:40.800Z"
   },
   {
    "duration": 13,
    "start_time": "2022-01-20T06:25:07.611Z"
   },
   {
    "duration": 12,
    "start_time": "2022-01-20T06:25:09.621Z"
   },
   {
    "duration": 11,
    "start_time": "2022-01-20T06:25:10.781Z"
   },
   {
    "duration": 26,
    "start_time": "2022-01-20T06:26:51.039Z"
   },
   {
    "duration": 134,
    "start_time": "2022-01-20T06:30:55.502Z"
   },
   {
    "duration": 24,
    "start_time": "2022-01-20T06:30:56.762Z"
   },
   {
    "duration": 26,
    "start_time": "2022-01-20T06:38:27.581Z"
   },
   {
    "duration": 18,
    "start_time": "2022-01-20T06:53:01.851Z"
   },
   {
    "duration": 15,
    "start_time": "2022-01-20T06:53:44.320Z"
   },
   {
    "duration": 10953,
    "start_time": "2022-01-21T09:28:20.814Z"
   },
   {
    "duration": 612,
    "start_time": "2022-01-21T09:28:39.912Z"
   },
   {
    "duration": 47,
    "start_time": "2022-01-21T09:28:40.527Z"
   },
   {
    "duration": 20,
    "start_time": "2022-01-21T09:28:40.822Z"
   },
   {
    "duration": 1027,
    "start_time": "2022-01-21T09:28:42.092Z"
   },
   {
    "duration": 22,
    "start_time": "2022-01-21T09:28:43.182Z"
   },
   {
    "duration": 21,
    "start_time": "2022-01-21T09:28:43.352Z"
   },
   {
    "duration": 18,
    "start_time": "2022-01-21T09:28:44.091Z"
   },
   {
    "duration": 92,
    "start_time": "2022-01-21T09:28:45.546Z"
   },
   {
    "duration": 39,
    "start_time": "2022-01-21T09:28:57.042Z"
   },
   {
    "duration": 40,
    "start_time": "2022-01-21T09:29:00.272Z"
   },
   {
    "duration": 21,
    "start_time": "2022-01-21T09:29:02.382Z"
   },
   {
    "duration": 24,
    "start_time": "2022-01-21T09:30:41.028Z"
   },
   {
    "duration": 21,
    "start_time": "2022-01-21T09:31:59.873Z"
   },
   {
    "duration": 377,
    "start_time": "2022-01-21T09:34:04.272Z"
   },
   {
    "duration": 23,
    "start_time": "2022-01-21T09:34:24.791Z"
   },
   {
    "duration": 20,
    "start_time": "2022-01-21T09:35:08.392Z"
   },
   {
    "duration": 23,
    "start_time": "2022-01-21T09:41:23.713Z"
   },
   {
    "duration": 22,
    "start_time": "2022-01-21T09:43:04.968Z"
   },
   {
    "duration": 23,
    "start_time": "2022-01-21T09:46:21.446Z"
   },
   {
    "duration": 22,
    "start_time": "2022-01-21T09:46:43.102Z"
   },
   {
    "duration": 24,
    "start_time": "2022-01-21T09:56:51.514Z"
   },
   {
    "duration": 272,
    "start_time": "2022-01-21T09:57:17.504Z"
   },
   {
    "duration": 23,
    "start_time": "2022-01-21T09:58:31.862Z"
   },
   {
    "duration": 13,
    "start_time": "2022-01-21T10:07:40.124Z"
   },
   {
    "duration": 271,
    "start_time": "2022-01-21T10:08:32.344Z"
   },
   {
    "duration": 15,
    "start_time": "2022-01-21T10:08:40.054Z"
   },
   {
    "duration": 37,
    "start_time": "2022-01-21T10:24:36.564Z"
   },
   {
    "duration": 12,
    "start_time": "2022-01-21T10:25:39.602Z"
   },
   {
    "duration": 20,
    "start_time": "2022-01-21T10:34:11.434Z"
   },
   {
    "duration": 19,
    "start_time": "2022-01-21T10:34:11.595Z"
   },
   {
    "duration": 25,
    "start_time": "2022-01-21T10:34:11.753Z"
   },
   {
    "duration": 3607,
    "start_time": "2022-01-21T12:32:59.034Z"
   },
   {
    "duration": 5,
    "start_time": "2022-01-21T12:33:05.668Z"
   },
   {
    "duration": 50,
    "start_time": "2022-01-21T12:33:07.786Z"
   },
   {
    "duration": 20,
    "start_time": "2022-01-21T12:33:08.595Z"
   },
   {
    "duration": 25,
    "start_time": "2022-01-21T12:33:10.547Z"
   },
   {
    "duration": 21,
    "start_time": "2022-01-21T12:33:20.117Z"
   },
   {
    "duration": 19,
    "start_time": "2022-01-21T12:33:23.625Z"
   },
   {
    "duration": 29,
    "start_time": "2022-01-21T12:33:37.874Z"
   },
   {
    "duration": 42,
    "start_time": "2022-01-21T12:33:43.587Z"
   },
   {
    "duration": 41,
    "start_time": "2022-01-21T12:33:56.256Z"
   },
   {
    "duration": 22,
    "start_time": "2022-01-21T12:34:07.276Z"
   },
   {
    "duration": 19,
    "start_time": "2022-01-21T12:34:16.394Z"
   },
   {
    "duration": 20,
    "start_time": "2022-01-21T12:34:22.309Z"
   },
   {
    "duration": 24,
    "start_time": "2022-01-21T12:34:41.466Z"
   },
   {
    "duration": 25,
    "start_time": "2022-01-21T12:35:21.986Z"
   },
   {
    "duration": 23,
    "start_time": "2022-01-21T12:35:26.426Z"
   },
   {
    "duration": 5,
    "start_time": "2022-01-21T12:38:03.546Z"
   },
   {
    "duration": 5,
    "start_time": "2022-01-21T12:38:47.406Z"
   },
   {
    "duration": 4,
    "start_time": "2022-01-21T12:38:58.166Z"
   },
   {
    "duration": 7,
    "start_time": "2022-01-21T12:39:00.947Z"
   },
   {
    "duration": 23,
    "start_time": "2022-01-21T12:39:17.728Z"
   },
   {
    "duration": 18,
    "start_time": "2022-01-21T12:41:39.578Z"
   },
   {
    "duration": 87,
    "start_time": "2022-01-21T12:42:47.192Z"
   },
   {
    "duration": 313,
    "start_time": "2022-01-21T12:44:02.325Z"
   },
   {
    "duration": 15,
    "start_time": "2022-01-21T12:46:09.126Z"
   },
   {
    "duration": 6,
    "start_time": "2022-01-21T12:47:49.396Z"
   },
   {
    "duration": 31,
    "start_time": "2022-01-21T12:51:42.048Z"
   },
   {
    "duration": 19,
    "start_time": "2022-01-21T12:57:31.977Z"
   },
   {
    "duration": 32,
    "start_time": "2022-01-21T12:58:32.917Z"
   },
   {
    "duration": 5,
    "start_time": "2022-01-21T12:59:49.046Z"
   },
   {
    "duration": 7,
    "start_time": "2022-01-21T13:00:01.166Z"
   },
   {
    "duration": 279,
    "start_time": "2022-01-21T13:00:27.737Z"
   },
   {
    "duration": 4,
    "start_time": "2022-01-21T13:00:35.337Z"
   },
   {
    "duration": 7,
    "start_time": "2022-01-21T13:00:39.014Z"
   },
   {
    "duration": 7,
    "start_time": "2022-01-21T13:01:25.954Z"
   },
   {
    "duration": 7,
    "start_time": "2022-01-21T13:01:31.646Z"
   },
   {
    "duration": 19,
    "start_time": "2022-01-21T13:01:41.546Z"
   },
   {
    "duration": 3602,
    "start_time": "2022-01-21T13:04:23.570Z"
   },
   {
    "duration": 4,
    "start_time": "2022-01-21T13:04:29.579Z"
   },
   {
    "duration": 53,
    "start_time": "2022-01-21T13:04:30.868Z"
   },
   {
    "duration": 20,
    "start_time": "2022-01-21T13:04:31.780Z"
   },
   {
    "duration": 26,
    "start_time": "2022-01-21T13:04:32.699Z"
   },
   {
    "duration": 20,
    "start_time": "2022-01-21T13:04:33.179Z"
   },
   {
    "duration": 19,
    "start_time": "2022-01-21T13:04:33.318Z"
   },
   {
    "duration": 24,
    "start_time": "2022-01-21T13:04:33.487Z"
   },
   {
    "duration": 38,
    "start_time": "2022-01-21T13:04:33.950Z"
   },
   {
    "duration": 38,
    "start_time": "2022-01-21T13:04:34.429Z"
   },
   {
    "duration": 21,
    "start_time": "2022-01-21T13:04:34.737Z"
   },
   {
    "duration": 21,
    "start_time": "2022-01-21T13:04:35.048Z"
   },
   {
    "duration": 19,
    "start_time": "2022-01-21T13:04:35.380Z"
   },
   {
    "duration": 24,
    "start_time": "2022-01-21T13:04:36.090Z"
   },
   {
    "duration": 23,
    "start_time": "2022-01-21T13:04:36.419Z"
   },
   {
    "duration": 23,
    "start_time": "2022-01-21T13:04:36.967Z"
   },
   {
    "duration": 6,
    "start_time": "2022-01-21T13:04:40.539Z"
   },
   {
    "duration": 4,
    "start_time": "2022-01-21T13:04:42.030Z"
   },
   {
    "duration": 6,
    "start_time": "2022-01-21T13:04:42.509Z"
   },
   {
    "duration": 20,
    "start_time": "2022-01-21T13:04:44.630Z"
   },
   {
    "duration": 18,
    "start_time": "2022-01-21T13:04:49.997Z"
   },
   {
    "duration": 5,
    "start_time": "2022-01-21T13:06:17.309Z"
   },
   {
    "duration": 17,
    "start_time": "2022-01-21T13:06:25.368Z"
   },
   {
    "duration": 21,
    "start_time": "2022-01-21T13:06:47.438Z"
   },
   {
    "duration": 5,
    "start_time": "2022-01-21T13:12:37.980Z"
   },
   {
    "duration": 19,
    "start_time": "2022-01-21T13:12:41.828Z"
   },
   {
    "duration": 4,
    "start_time": "2022-01-21T13:13:53.149Z"
   },
   {
    "duration": 4,
    "start_time": "2022-01-21T13:13:54.049Z"
   },
   {
    "duration": 4,
    "start_time": "2022-01-21T13:13:54.819Z"
   },
   {
    "duration": 4,
    "start_time": "2022-01-21T13:13:56.870Z"
   },
   {
    "duration": 20,
    "start_time": "2022-01-21T13:14:18.299Z"
   },
   {
    "duration": 20,
    "start_time": "2022-01-21T13:15:14.099Z"
   },
   {
    "duration": 5,
    "start_time": "2022-01-21T13:15:15.290Z"
   },
   {
    "duration": 7,
    "start_time": "2022-01-21T13:15:15.997Z"
   },
   {
    "duration": 5,
    "start_time": "2022-01-21T13:15:16.691Z"
   },
   {
    "duration": 6,
    "start_time": "2022-01-21T13:15:17.630Z"
   },
   {
    "duration": 21,
    "start_time": "2022-01-21T13:15:25.779Z"
   },
   {
    "duration": 26,
    "start_time": "2022-01-21T13:27:29.960Z"
   },
   {
    "duration": 10,
    "start_time": "2022-01-21T13:29:30.189Z"
   },
   {
    "duration": 285,
    "start_time": "2022-01-21T13:29:48.150Z"
   },
   {
    "duration": 8,
    "start_time": "2022-01-21T13:29:55.049Z"
   },
   {
    "duration": 289,
    "start_time": "2022-01-21T13:40:56.479Z"
   },
   {
    "duration": 29,
    "start_time": "2022-01-21T13:53:33.729Z"
   },
   {
    "duration": 17,
    "start_time": "2022-01-21T13:53:45.769Z"
   },
   {
    "duration": 26,
    "start_time": "2022-01-21T13:54:06.552Z"
   },
   {
    "duration": 29,
    "start_time": "2022-01-21T13:54:15.447Z"
   },
   {
    "duration": 27,
    "start_time": "2022-01-21T13:54:16.107Z"
   },
   {
    "duration": 19,
    "start_time": "2022-01-21T13:55:40.849Z"
   },
   {
    "duration": 29,
    "start_time": "2022-01-21T13:58:38.310Z"
   },
   {
    "duration": 27,
    "start_time": "2022-01-21T13:58:45.251Z"
   },
   {
    "duration": 7,
    "start_time": "2022-01-21T14:00:34.355Z"
   },
   {
    "duration": 16,
    "start_time": "2022-01-21T14:00:38.488Z"
   },
   {
    "duration": 6,
    "start_time": "2022-01-21T14:02:02.879Z"
   },
   {
    "duration": 13,
    "start_time": "2022-01-21T14:02:03.298Z"
   },
   {
    "duration": 18,
    "start_time": "2022-01-21T14:02:07.853Z"
   },
   {
    "duration": 978,
    "start_time": "2022-01-21T14:13:31.284Z"
   },
   {
    "duration": 298,
    "start_time": "2022-01-21T14:16:03.871Z"
   },
   {
    "duration": 280,
    "start_time": "2022-01-21T14:16:30.053Z"
   },
   {
    "duration": 3482,
    "start_time": "2022-01-21T14:17:05.821Z"
   },
   {
    "duration": 4,
    "start_time": "2022-01-21T14:17:09.307Z"
   },
   {
    "duration": 49,
    "start_time": "2022-01-21T14:17:10.644Z"
   },
   {
    "duration": 23,
    "start_time": "2022-01-21T14:17:11.729Z"
   },
   {
    "duration": 28,
    "start_time": "2022-01-21T14:17:12.003Z"
   },
   {
    "duration": 21,
    "start_time": "2022-01-21T14:17:13.487Z"
   },
   {
    "duration": 20,
    "start_time": "2022-01-21T14:17:13.703Z"
   },
   {
    "duration": 25,
    "start_time": "2022-01-21T14:17:13.932Z"
   },
   {
    "duration": 38,
    "start_time": "2022-01-21T14:17:14.552Z"
   },
   {
    "duration": 39,
    "start_time": "2022-01-21T14:17:14.912Z"
   },
   {
    "duration": 21,
    "start_time": "2022-01-21T14:17:15.636Z"
   },
   {
    "duration": 28,
    "start_time": "2022-01-21T14:17:15.993Z"
   },
   {
    "duration": 18,
    "start_time": "2022-01-21T14:17:16.354Z"
   },
   {
    "duration": 23,
    "start_time": "2022-01-21T14:17:19.064Z"
   },
   {
    "duration": 22,
    "start_time": "2022-01-21T14:17:19.373Z"
   },
   {
    "duration": 23,
    "start_time": "2022-01-21T14:17:19.724Z"
   },
   {
    "duration": 6,
    "start_time": "2022-01-21T14:17:20.208Z"
   },
   {
    "duration": 5,
    "start_time": "2022-01-21T14:17:20.706Z"
   },
   {
    "duration": 7,
    "start_time": "2022-01-21T14:17:23.103Z"
   },
   {
    "duration": 20,
    "start_time": "2022-01-21T14:17:24.483Z"
   },
   {
    "duration": 19,
    "start_time": "2022-01-21T14:17:26.644Z"
   },
   {
    "duration": 5,
    "start_time": "2022-01-21T14:17:29.341Z"
   },
   {
    "duration": 5,
    "start_time": "2022-01-21T14:17:29.648Z"
   },
   {
    "duration": 5,
    "start_time": "2022-01-21T14:17:30.045Z"
   },
   {
    "duration": 5,
    "start_time": "2022-01-21T14:17:30.425Z"
   },
   {
    "duration": 20,
    "start_time": "2022-01-21T14:17:32.461Z"
   },
   {
    "duration": 5,
    "start_time": "2022-01-21T14:17:36.140Z"
   },
   {
    "duration": 5,
    "start_time": "2022-01-21T14:17:36.423Z"
   },
   {
    "duration": 6,
    "start_time": "2022-01-21T14:17:37.025Z"
   },
   {
    "duration": 6,
    "start_time": "2022-01-21T14:17:37.403Z"
   },
   {
    "duration": 18,
    "start_time": "2022-01-21T14:17:38.779Z"
   },
   {
    "duration": 6,
    "start_time": "2022-01-21T14:19:38.658Z"
   },
   {
    "duration": 31,
    "start_time": "2022-01-21T14:19:45.114Z"
   },
   {
    "duration": 26,
    "start_time": "2022-01-21T14:20:27.825Z"
   },
   {
    "duration": 1211,
    "start_time": "2022-01-21T14:20:31.606Z"
   },
   {
    "duration": 11,
    "start_time": "2022-01-21T14:21:08.668Z"
   },
   {
    "duration": 13,
    "start_time": "2022-01-21T14:21:11.754Z"
   },
   {
    "duration": 16,
    "start_time": "2022-01-21T14:21:15.566Z"
   },
   {
    "duration": 5,
    "start_time": "2022-01-21T14:21:16.627Z"
   },
   {
    "duration": 19,
    "start_time": "2022-01-21T14:24:29.123Z"
   },
   {
    "duration": 8,
    "start_time": "2022-01-21T14:30:48.693Z"
   },
   {
    "duration": 18,
    "start_time": "2022-01-21T14:31:01.961Z"
   },
   {
    "duration": 284,
    "start_time": "2022-01-21T14:34:50.365Z"
   },
   {
    "duration": 18,
    "start_time": "2022-01-21T14:34:52.623Z"
   },
   {
    "duration": 273,
    "start_time": "2022-01-21T14:35:24.596Z"
   },
   {
    "duration": 8,
    "start_time": "2022-01-21T14:35:39.260Z"
   },
   {
    "duration": 16,
    "start_time": "2022-01-21T14:35:40.837Z"
   },
   {
    "duration": 7,
    "start_time": "2022-01-21T14:36:46.478Z"
   },
   {
    "duration": 17,
    "start_time": "2022-01-21T14:36:47.114Z"
   },
   {
    "duration": 281,
    "start_time": "2022-01-21T14:38:02.191Z"
   },
   {
    "duration": 10,
    "start_time": "2022-01-21T14:38:31.767Z"
   },
   {
    "duration": 13,
    "start_time": "2022-01-21T14:38:33.325Z"
   },
   {
    "duration": 14,
    "start_time": "2022-01-21T14:38:52.703Z"
   },
   {
    "duration": 27,
    "start_time": "2022-01-21T14:39:14.287Z"
   },
   {
    "duration": 337,
    "start_time": "2022-01-21T15:06:44.872Z"
   },
   {
    "duration": 283,
    "start_time": "2022-01-21T15:06:57.420Z"
   },
   {
    "duration": 40,
    "start_time": "2022-01-21T15:07:13.693Z"
   },
   {
    "duration": 3621,
    "start_time": "2022-01-21T15:07:26.963Z"
   },
   {
    "duration": 10,
    "start_time": "2022-01-21T15:07:48.432Z"
   },
   {
    "duration": 10,
    "start_time": "2022-01-21T15:07:55.382Z"
   },
   {
    "duration": 16,
    "start_time": "2022-01-21T15:09:10.722Z"
   },
   {
    "duration": 284,
    "start_time": "2022-01-21T15:09:39.012Z"
   },
   {
    "duration": 9,
    "start_time": "2022-01-21T15:10:02.873Z"
   },
   {
    "duration": 17,
    "start_time": "2022-01-21T15:10:29.501Z"
   },
   {
    "duration": 7,
    "start_time": "2022-01-21T15:10:34.403Z"
   },
   {
    "duration": 3629,
    "start_time": "2022-01-21T15:11:08.188Z"
   },
   {
    "duration": 4,
    "start_time": "2022-01-21T15:11:11.845Z"
   },
   {
    "duration": 50,
    "start_time": "2022-01-21T15:11:13.288Z"
   },
   {
    "duration": 22,
    "start_time": "2022-01-21T15:11:13.702Z"
   },
   {
    "duration": 26,
    "start_time": "2022-01-21T15:11:14.057Z"
   },
   {
    "duration": 21,
    "start_time": "2022-01-21T15:11:14.617Z"
   },
   {
    "duration": 19,
    "start_time": "2022-01-21T15:11:14.791Z"
   },
   {
    "duration": 27,
    "start_time": "2022-01-21T15:11:14.989Z"
   },
   {
    "duration": 40,
    "start_time": "2022-01-21T15:11:15.547Z"
   },
   {
    "duration": 40,
    "start_time": "2022-01-21T15:11:15.898Z"
   },
   {
    "duration": 22,
    "start_time": "2022-01-21T15:11:16.257Z"
   },
   {
    "duration": 20,
    "start_time": "2022-01-21T15:11:16.637Z"
   },
   {
    "duration": 20,
    "start_time": "2022-01-21T15:11:17.018Z"
   },
   {
    "duration": 23,
    "start_time": "2022-01-21T15:11:17.858Z"
   },
   {
    "duration": 21,
    "start_time": "2022-01-21T15:11:18.508Z"
   },
   {
    "duration": 25,
    "start_time": "2022-01-21T15:11:19.038Z"
   },
   {
    "duration": 5,
    "start_time": "2022-01-21T15:11:21.038Z"
   },
   {
    "duration": 5,
    "start_time": "2022-01-21T15:11:22.227Z"
   },
   {
    "duration": 6,
    "start_time": "2022-01-21T15:11:22.707Z"
   },
   {
    "duration": 20,
    "start_time": "2022-01-21T15:11:23.758Z"
   },
   {
    "duration": 18,
    "start_time": "2022-01-21T15:11:28.808Z"
   },
   {
    "duration": 5,
    "start_time": "2022-01-21T15:11:31.496Z"
   },
   {
    "duration": 5,
    "start_time": "2022-01-21T15:11:31.677Z"
   },
   {
    "duration": 5,
    "start_time": "2022-01-21T15:11:31.867Z"
   },
   {
    "duration": 6,
    "start_time": "2022-01-21T15:11:32.007Z"
   },
   {
    "duration": 20,
    "start_time": "2022-01-21T15:11:32.916Z"
   },
   {
    "duration": 5,
    "start_time": "2022-01-21T15:11:36.527Z"
   },
   {
    "duration": 6,
    "start_time": "2022-01-21T15:11:36.921Z"
   },
   {
    "duration": 6,
    "start_time": "2022-01-21T15:11:37.255Z"
   },
   {
    "duration": 6,
    "start_time": "2022-01-21T15:11:38.839Z"
   },
   {
    "duration": 18,
    "start_time": "2022-01-21T15:11:40.118Z"
   },
   {
    "duration": 17,
    "start_time": "2022-01-21T15:11:58.325Z"
   },
   {
    "duration": 10,
    "start_time": "2022-01-21T15:12:01.309Z"
   },
   {
    "duration": 13,
    "start_time": "2022-01-21T15:15:08.677Z"
   },
   {
    "duration": 13,
    "start_time": "2022-01-21T15:15:24.396Z"
   },
   {
    "duration": 12,
    "start_time": "2022-01-21T15:15:53.008Z"
   },
   {
    "duration": 28,
    "start_time": "2022-01-21T15:16:26.629Z"
   },
   {
    "duration": 8,
    "start_time": "2022-01-21T15:18:04.618Z"
   },
   {
    "duration": 9,
    "start_time": "2022-01-21T15:18:25.466Z"
   },
   {
    "duration": 10,
    "start_time": "2022-01-21T15:18:47.078Z"
   },
   {
    "duration": 9,
    "start_time": "2022-01-21T15:19:28.777Z"
   },
   {
    "duration": 9,
    "start_time": "2022-01-21T15:20:09.918Z"
   },
   {
    "duration": 40,
    "start_time": "2022-01-21T15:20:12.588Z"
   },
   {
    "duration": 13,
    "start_time": "2022-01-21T15:20:51.687Z"
   },
   {
    "duration": 37,
    "start_time": "2022-01-21T15:20:59.535Z"
   },
   {
    "duration": 18,
    "start_time": "2022-01-21T15:25:06.893Z"
   },
   {
    "duration": 8,
    "start_time": "2022-01-21T15:26:04.567Z"
   },
   {
    "duration": 34,
    "start_time": "2022-01-21T15:26:19.567Z"
   },
   {
    "duration": 32,
    "start_time": "2022-01-21T17:13:15.711Z"
   },
   {
    "duration": 11648,
    "start_time": "2022-01-24T13:05:49.304Z"
   },
   {
    "duration": 676,
    "start_time": "2022-01-24T13:06:00.955Z"
   },
   {
    "duration": 48,
    "start_time": "2022-01-24T13:06:01.634Z"
   },
   {
    "duration": 20,
    "start_time": "2022-01-24T13:06:05.703Z"
   },
   {
    "duration": 1138,
    "start_time": "2022-01-24T13:06:06.995Z"
   },
   {
    "duration": 36,
    "start_time": "2022-01-24T13:06:08.135Z"
   },
   {
    "duration": 21,
    "start_time": "2022-01-24T13:06:08.175Z"
   },
   {
    "duration": 26,
    "start_time": "2022-01-24T13:06:08.199Z"
   },
   {
    "duration": 38,
    "start_time": "2022-01-24T13:06:08.494Z"
   },
   {
    "duration": 39,
    "start_time": "2022-01-24T13:06:08.872Z"
   },
   {
    "duration": 22,
    "start_time": "2022-01-24T13:06:09.325Z"
   },
   {
    "duration": 20,
    "start_time": "2022-01-24T13:06:10.765Z"
   },
   {
    "duration": 22,
    "start_time": "2022-01-24T13:06:12.105Z"
   },
   {
    "duration": 22,
    "start_time": "2022-01-24T13:06:14.716Z"
   },
   {
    "duration": 24,
    "start_time": "2022-01-24T13:06:15.108Z"
   },
   {
    "duration": 22,
    "start_time": "2022-01-24T13:06:16.549Z"
   },
   {
    "duration": 6,
    "start_time": "2022-01-24T13:06:18.688Z"
   },
   {
    "duration": 5,
    "start_time": "2022-01-24T13:06:19.370Z"
   },
   {
    "duration": 5,
    "start_time": "2022-01-24T13:06:19.600Z"
   },
   {
    "duration": 22,
    "start_time": "2022-01-24T13:06:19.832Z"
   },
   {
    "duration": 19,
    "start_time": "2022-01-24T13:06:21.905Z"
   },
   {
    "duration": 4,
    "start_time": "2022-01-24T13:06:22.633Z"
   },
   {
    "duration": 5,
    "start_time": "2022-01-24T13:06:22.854Z"
   },
   {
    "duration": 4,
    "start_time": "2022-01-24T13:06:23.062Z"
   },
   {
    "duration": 5,
    "start_time": "2022-01-24T13:06:23.244Z"
   },
   {
    "duration": 21,
    "start_time": "2022-01-24T13:06:23.454Z"
   },
   {
    "duration": 5,
    "start_time": "2022-01-24T13:06:23.962Z"
   },
   {
    "duration": 5,
    "start_time": "2022-01-24T13:06:24.665Z"
   },
   {
    "duration": 5,
    "start_time": "2022-01-24T13:06:24.843Z"
   },
   {
    "duration": 5,
    "start_time": "2022-01-24T13:06:25.034Z"
   },
   {
    "duration": 20,
    "start_time": "2022-01-24T13:06:25.256Z"
   },
   {
    "duration": 18,
    "start_time": "2022-01-24T13:06:25.443Z"
   },
   {
    "duration": 11,
    "start_time": "2022-01-24T13:06:27.345Z"
   },
   {
    "duration": 207,
    "start_time": "2022-01-24T13:06:27.625Z"
   },
   {
    "duration": 12,
    "start_time": "2022-01-24T13:06:28.136Z"
   },
   {
    "duration": 11,
    "start_time": "2022-01-24T13:06:32.054Z"
   },
   {
    "duration": 8,
    "start_time": "2022-01-24T13:06:45.714Z"
   },
   {
    "duration": 19,
    "start_time": "2022-01-24T13:06:46.195Z"
   },
   {
    "duration": 36,
    "start_time": "2022-01-24T13:06:49.095Z"
   },
   {
    "duration": 18,
    "start_time": "2022-01-24T13:06:51.624Z"
   },
   {
    "duration": 28,
    "start_time": "2022-01-24T13:07:01.980Z"
   },
   {
    "duration": 539,
    "start_time": "2022-01-24T13:12:18.136Z"
   },
   {
    "duration": 11,
    "start_time": "2022-01-24T13:14:54.029Z"
   },
   {
    "duration": 14,
    "start_time": "2022-01-24T13:15:00.204Z"
   },
   {
    "duration": 101,
    "start_time": "2022-01-24T13:24:34.554Z"
   },
   {
    "duration": 534,
    "start_time": "2022-01-24T13:25:53.014Z"
   },
   {
    "duration": 317,
    "start_time": "2022-01-24T13:26:19.164Z"
   },
   {
    "duration": 781,
    "start_time": "2022-01-24T13:26:40.584Z"
   },
   {
    "duration": 309,
    "start_time": "2022-01-24T13:30:09.425Z"
   },
   {
    "duration": 797,
    "start_time": "2022-01-24T13:31:27.270Z"
   },
   {
    "duration": 280,
    "start_time": "2022-01-24T13:31:49.565Z"
   },
   {
    "duration": 1184,
    "start_time": "2022-01-24T13:34:10.775Z"
   },
   {
    "duration": 647,
    "start_time": "2022-01-24T13:34:48.678Z"
   },
   {
    "duration": 630,
    "start_time": "2022-01-24T13:35:16.219Z"
   },
   {
    "duration": 615,
    "start_time": "2022-01-24T13:35:23.240Z"
   },
   {
    "duration": 613,
    "start_time": "2022-01-24T13:42:01.374Z"
   },
   {
    "duration": 904,
    "start_time": "2022-01-24T13:45:38.042Z"
   },
   {
    "duration": 606,
    "start_time": "2022-01-24T13:45:43.572Z"
   },
   {
    "duration": 645,
    "start_time": "2022-01-24T13:46:23.070Z"
   },
   {
    "duration": 1175,
    "start_time": "2022-01-24T13:47:24.832Z"
   },
   {
    "duration": 1113,
    "start_time": "2022-01-24T13:49:15.454Z"
   },
   {
    "duration": 869,
    "start_time": "2022-01-24T13:50:46.786Z"
   },
   {
    "duration": 1080,
    "start_time": "2022-01-24T13:56:24.156Z"
   },
   {
    "duration": 1069,
    "start_time": "2022-01-24T13:57:33.863Z"
   },
   {
    "duration": 4,
    "start_time": "2022-01-24T14:15:26.184Z"
   },
   {
    "duration": 11,
    "start_time": "2022-01-24T14:15:27.593Z"
   },
   {
    "duration": 13,
    "start_time": "2022-01-24T14:15:31.234Z"
   },
   {
    "duration": 1031,
    "start_time": "2022-01-24T14:15:35.207Z"
   },
   {
    "duration": 19,
    "start_time": "2022-01-24T14:19:00.794Z"
   },
   {
    "duration": 3572,
    "start_time": "2022-01-24T14:21:31.194Z"
   },
   {
    "duration": 4,
    "start_time": "2022-01-24T14:21:37.573Z"
   },
   {
    "duration": 50,
    "start_time": "2022-01-24T14:21:38.726Z"
   },
   {
    "duration": 21,
    "start_time": "2022-01-24T14:21:39.455Z"
   },
   {
    "duration": 27,
    "start_time": "2022-01-24T14:21:40.193Z"
   },
   {
    "duration": 21,
    "start_time": "2022-01-24T14:21:41.196Z"
   },
   {
    "duration": 19,
    "start_time": "2022-01-24T14:21:41.393Z"
   },
   {
    "duration": 25,
    "start_time": "2022-01-24T14:21:41.545Z"
   },
   {
    "duration": 39,
    "start_time": "2022-01-24T14:21:42.054Z"
   },
   {
    "duration": 41,
    "start_time": "2022-01-24T14:21:42.395Z"
   },
   {
    "duration": 31,
    "start_time": "2022-01-24T14:21:43.086Z"
   },
   {
    "duration": 20,
    "start_time": "2022-01-24T14:21:43.471Z"
   },
   {
    "duration": 19,
    "start_time": "2022-01-24T14:21:43.991Z"
   },
   {
    "duration": 23,
    "start_time": "2022-01-24T14:21:46.214Z"
   },
   {
    "duration": 24,
    "start_time": "2022-01-24T14:21:47.875Z"
   },
   {
    "duration": 24,
    "start_time": "2022-01-24T14:21:50.765Z"
   },
   {
    "duration": 6,
    "start_time": "2022-01-24T14:21:52.803Z"
   },
   {
    "duration": 5,
    "start_time": "2022-01-24T14:21:55.266Z"
   },
   {
    "duration": 6,
    "start_time": "2022-01-24T14:21:55.915Z"
   },
   {
    "duration": 20,
    "start_time": "2022-01-24T14:21:56.964Z"
   },
   {
    "duration": 26,
    "start_time": "2022-01-24T14:22:00.477Z"
   },
   {
    "duration": 21,
    "start_time": "2022-01-24T14:22:38.385Z"
   },
   {
    "duration": 10,
    "start_time": "2022-01-24T14:22:44.686Z"
   },
   {
    "duration": 13,
    "start_time": "2022-01-24T14:22:45.545Z"
   },
   {
    "duration": 13,
    "start_time": "2022-01-24T14:22:46.576Z"
   },
   {
    "duration": 11,
    "start_time": "2022-01-24T14:22:59.336Z"
   },
   {
    "duration": 9,
    "start_time": "2022-01-24T14:23:01.366Z"
   },
   {
    "duration": 13,
    "start_time": "2022-01-24T14:23:01.955Z"
   },
   {
    "duration": 38,
    "start_time": "2022-01-24T14:23:02.866Z"
   },
   {
    "duration": 20,
    "start_time": "2022-01-24T14:23:12.499Z"
   },
   {
    "duration": 35,
    "start_time": "2022-01-24T14:23:14.479Z"
   },
   {
    "duration": 4,
    "start_time": "2022-01-24T14:23:25.836Z"
   },
   {
    "duration": 11,
    "start_time": "2022-01-24T14:23:26.396Z"
   },
   {
    "duration": 14,
    "start_time": "2022-01-24T14:23:29.576Z"
   },
   {
    "duration": 1067,
    "start_time": "2022-01-24T14:23:37.693Z"
   },
   {
    "duration": 21,
    "start_time": "2022-01-24T14:23:45.106Z"
   },
   {
    "duration": 17,
    "start_time": "2022-01-24T14:54:15.599Z"
   },
   {
    "duration": 354,
    "start_time": "2022-01-24T14:56:20.106Z"
   },
   {
    "duration": 20,
    "start_time": "2022-01-24T14:56:57.566Z"
   },
   {
    "duration": 3928,
    "start_time": "2022-01-24T15:43:21.144Z"
   },
   {
    "duration": 4,
    "start_time": "2022-01-24T15:43:28.947Z"
   },
   {
    "duration": 51,
    "start_time": "2022-01-24T15:43:30.569Z"
   },
   {
    "duration": 22,
    "start_time": "2022-01-24T15:43:30.948Z"
   },
   {
    "duration": 41,
    "start_time": "2022-01-24T15:43:31.279Z"
   },
   {
    "duration": 20,
    "start_time": "2022-01-24T15:43:31.973Z"
   },
   {
    "duration": 21,
    "start_time": "2022-01-24T15:43:32.153Z"
   },
   {
    "duration": 27,
    "start_time": "2022-01-24T15:43:32.332Z"
   },
   {
    "duration": 43,
    "start_time": "2022-01-24T15:43:32.837Z"
   },
   {
    "duration": 39,
    "start_time": "2022-01-24T15:43:33.203Z"
   },
   {
    "duration": 21,
    "start_time": "2022-01-24T15:43:33.556Z"
   },
   {
    "duration": 29,
    "start_time": "2022-01-24T15:43:33.917Z"
   },
   {
    "duration": 20,
    "start_time": "2022-01-24T15:43:34.246Z"
   },
   {
    "duration": 23,
    "start_time": "2022-01-24T15:43:35.026Z"
   },
   {
    "duration": 23,
    "start_time": "2022-01-24T15:43:35.528Z"
   },
   {
    "duration": 22,
    "start_time": "2022-01-24T15:43:35.928Z"
   },
   {
    "duration": 6,
    "start_time": "2022-01-24T15:43:36.497Z"
   },
   {
    "duration": 4,
    "start_time": "2022-01-24T15:43:37.205Z"
   },
   {
    "duration": 6,
    "start_time": "2022-01-24T15:43:38.328Z"
   },
   {
    "duration": 21,
    "start_time": "2022-01-24T15:43:38.526Z"
   },
   {
    "duration": 20,
    "start_time": "2022-01-24T15:43:39.048Z"
   },
   {
    "duration": 20,
    "start_time": "2022-01-24T15:43:39.208Z"
   },
   {
    "duration": 10,
    "start_time": "2022-01-24T15:43:39.798Z"
   },
   {
    "duration": 15,
    "start_time": "2022-01-24T15:43:39.988Z"
   },
   {
    "duration": 13,
    "start_time": "2022-01-24T15:43:40.178Z"
   },
   {
    "duration": 12,
    "start_time": "2022-01-24T15:43:41.226Z"
   },
   {
    "duration": 8,
    "start_time": "2022-01-24T15:43:41.609Z"
   },
   {
    "duration": 15,
    "start_time": "2022-01-24T15:43:41.793Z"
   },
   {
    "duration": 35,
    "start_time": "2022-01-24T15:43:41.988Z"
   },
   {
    "duration": 21,
    "start_time": "2022-01-24T15:43:42.569Z"
   },
   {
    "duration": 36,
    "start_time": "2022-01-24T15:43:42.775Z"
   },
   {
    "duration": 4,
    "start_time": "2022-01-24T15:43:44.446Z"
   },
   {
    "duration": 12,
    "start_time": "2022-01-24T15:43:44.736Z"
   },
   {
    "duration": 14,
    "start_time": "2022-01-24T15:43:44.899Z"
   },
   {
    "duration": 1505,
    "start_time": "2022-01-24T15:43:45.789Z"
   },
   {
    "duration": 27,
    "start_time": "2022-01-24T15:43:47.298Z"
   },
   {
    "duration": 28,
    "start_time": "2022-01-24T15:43:49.036Z"
   },
   {
    "duration": 19,
    "start_time": "2022-01-24T15:46:15.408Z"
   },
   {
    "duration": 29,
    "start_time": "2022-01-24T15:46:41.106Z"
   },
   {
    "duration": 5,
    "start_time": "2022-01-24T15:54:27.398Z"
   },
   {
    "duration": 19,
    "start_time": "2022-01-24T15:54:40.448Z"
   },
   {
    "duration": 19,
    "start_time": "2022-01-24T15:55:06.128Z"
   },
   {
    "duration": 518,
    "start_time": "2022-01-24T15:59:28.309Z"
   },
   {
    "duration": 18,
    "start_time": "2022-01-24T16:29:27.728Z"
   },
   {
    "duration": 300,
    "start_time": "2022-01-24T16:29:59.377Z"
   },
   {
    "duration": 159,
    "start_time": "2022-01-24T16:31:00.420Z"
   },
   {
    "duration": 300,
    "start_time": "2022-01-24T16:32:49.528Z"
   },
   {
    "duration": 79,
    "start_time": "2022-01-24T16:33:00.049Z"
   },
   {
    "duration": 294,
    "start_time": "2022-01-24T16:33:49.451Z"
   },
   {
    "duration": 19,
    "start_time": "2022-01-24T16:34:18.299Z"
   },
   {
    "duration": 71,
    "start_time": "2022-01-24T16:35:56.618Z"
   },
   {
    "duration": 17,
    "start_time": "2022-01-24T16:36:04.192Z"
   },
   {
    "duration": 349,
    "start_time": "2022-01-24T16:37:01.075Z"
   },
   {
    "duration": 897,
    "start_time": "2022-01-24T16:39:44.937Z"
   },
   {
    "duration": 3,
    "start_time": "2022-01-24T16:40:38.818Z"
   },
   {
    "duration": 309,
    "start_time": "2022-01-24T16:43:12.364Z"
   },
   {
    "duration": 293,
    "start_time": "2022-01-24T16:43:49.625Z"
   },
   {
    "duration": 20,
    "start_time": "2022-01-24T16:44:05.786Z"
   },
   {
    "duration": 93,
    "start_time": "2022-01-24T16:44:17.646Z"
   },
   {
    "duration": 42,
    "start_time": "2022-01-24T16:45:54.069Z"
   },
   {
    "duration": 357,
    "start_time": "2022-01-24T16:46:03.709Z"
   },
   {
    "duration": 326,
    "start_time": "2022-01-24T16:48:26.682Z"
   },
   {
    "duration": 294,
    "start_time": "2022-01-24T16:48:43.466Z"
   },
   {
    "duration": 18,
    "start_time": "2022-01-24T16:49:01.146Z"
   },
   {
    "duration": 11,
    "start_time": "2022-01-24T16:52:02.111Z"
   },
   {
    "duration": 24,
    "start_time": "2022-01-24T16:52:20.678Z"
   },
   {
    "duration": 18,
    "start_time": "2022-01-24T16:53:03.639Z"
   },
   {
    "duration": 22,
    "start_time": "2022-01-24T16:53:34.488Z"
   },
   {
    "duration": 21,
    "start_time": "2022-01-24T16:54:05.649Z"
   },
   {
    "duration": 302,
    "start_time": "2022-01-24T16:55:18.768Z"
   },
   {
    "duration": 32,
    "start_time": "2022-01-24T16:55:31.349Z"
   },
   {
    "duration": 24,
    "start_time": "2022-01-24T16:56:38.618Z"
   },
   {
    "duration": 5,
    "start_time": "2022-01-24T17:03:10.096Z"
   },
   {
    "duration": 20,
    "start_time": "2022-01-24T17:03:19.976Z"
   },
   {
    "duration": 2870,
    "start_time": "2022-01-24T17:05:42.748Z"
   },
   {
    "duration": 298,
    "start_time": "2022-01-24T17:07:46.028Z"
   },
   {
    "duration": 314,
    "start_time": "2022-01-24T17:07:53.619Z"
   },
   {
    "duration": 318,
    "start_time": "2022-01-24T17:11:38.836Z"
   },
   {
    "duration": 291,
    "start_time": "2022-01-24T17:11:48.169Z"
   },
   {
    "duration": 22,
    "start_time": "2022-01-24T17:12:05.986Z"
   },
   {
    "duration": 19,
    "start_time": "2022-01-24T17:12:51.388Z"
   },
   {
    "duration": 25,
    "start_time": "2022-01-24T17:14:03.857Z"
   },
   {
    "duration": 24,
    "start_time": "2022-01-24T17:14:20.510Z"
   },
   {
    "duration": 22,
    "start_time": "2022-01-24T17:14:28.240Z"
   },
   {
    "duration": 23,
    "start_time": "2022-01-24T17:14:49.676Z"
   },
   {
    "duration": 26,
    "start_time": "2022-01-24T18:09:18.735Z"
   },
   {
    "duration": 26,
    "start_time": "2022-01-24T18:09:42.958Z"
   },
   {
    "duration": 28,
    "start_time": "2022-01-24T18:10:08.488Z"
   },
   {
    "duration": 106,
    "start_time": "2022-01-24T18:11:06.347Z"
   },
   {
    "duration": 10,
    "start_time": "2022-01-24T18:11:21.668Z"
   },
   {
    "duration": 27,
    "start_time": "2022-01-24T18:11:53.867Z"
   },
   {
    "duration": 14,
    "start_time": "2022-01-24T18:13:47.137Z"
   },
   {
    "duration": 14,
    "start_time": "2022-01-24T18:13:54.437Z"
   },
   {
    "duration": 10,
    "start_time": "2022-01-24T18:14:05.117Z"
   },
   {
    "duration": 8,
    "start_time": "2022-01-24T18:14:06.987Z"
   },
   {
    "duration": 14,
    "start_time": "2022-01-24T18:14:08.798Z"
   },
   {
    "duration": 37,
    "start_time": "2022-01-24T18:14:11.938Z"
   },
   {
    "duration": 14,
    "start_time": "2022-01-24T18:15:47.828Z"
   },
   {
    "duration": 9,
    "start_time": "2022-01-24T18:15:48.958Z"
   },
   {
    "duration": 8,
    "start_time": "2022-01-24T18:15:49.275Z"
   },
   {
    "duration": 14,
    "start_time": "2022-01-24T18:15:49.419Z"
   },
   {
    "duration": 35,
    "start_time": "2022-01-24T18:15:49.605Z"
   },
   {
    "duration": 21,
    "start_time": "2022-01-24T18:15:50.248Z"
   },
   {
    "duration": 33,
    "start_time": "2022-01-24T18:15:50.388Z"
   },
   {
    "duration": 4,
    "start_time": "2022-01-24T18:15:51.075Z"
   },
   {
    "duration": 11,
    "start_time": "2022-01-24T18:15:51.238Z"
   },
   {
    "duration": 14,
    "start_time": "2022-01-24T18:15:51.777Z"
   },
   {
    "duration": 1012,
    "start_time": "2022-01-24T18:15:52.120Z"
   },
   {
    "duration": 36,
    "start_time": "2022-01-24T18:15:53.135Z"
   },
   {
    "duration": 17,
    "start_time": "2022-01-24T18:15:53.897Z"
   },
   {
    "duration": 18,
    "start_time": "2022-01-24T18:15:54.895Z"
   },
   {
    "duration": 546,
    "start_time": "2022-01-24T18:15:55.023Z"
   },
   {
    "duration": 18,
    "start_time": "2022-01-24T18:15:55.908Z"
   },
   {
    "duration": 391,
    "start_time": "2022-01-24T18:16:36.578Z"
   },
   {
    "duration": 298,
    "start_time": "2022-01-24T18:17:34.585Z"
   },
   {
    "duration": 464,
    "start_time": "2022-01-24T18:20:12.588Z"
   },
   {
    "duration": 10,
    "start_time": "2022-01-24T18:22:37.957Z"
   },
   {
    "duration": 17,
    "start_time": "2022-01-24T18:23:25.856Z"
   },
   {
    "duration": 24,
    "start_time": "2022-01-24T18:23:46.758Z"
   },
   {
    "duration": 445,
    "start_time": "2022-01-24T18:24:12.688Z"
   },
   {
    "duration": 107,
    "start_time": "2022-01-24T18:26:17.128Z"
   },
   {
    "duration": 21,
    "start_time": "2022-01-24T18:27:35.377Z"
   },
   {
    "duration": 113,
    "start_time": "2022-01-24T18:27:42.778Z"
   },
   {
    "duration": 77,
    "start_time": "2022-01-24T18:28:01.807Z"
   },
   {
    "duration": 82,
    "start_time": "2022-01-24T18:28:14.978Z"
   },
   {
    "duration": 87,
    "start_time": "2022-01-24T18:29:39.538Z"
   },
   {
    "duration": 117,
    "start_time": "2022-01-24T18:30:09.578Z"
   },
   {
    "duration": 313,
    "start_time": "2022-01-24T18:31:07.846Z"
   },
   {
    "duration": 5549,
    "start_time": "2022-01-24T18:32:30.139Z"
   },
   {
    "duration": 3559,
    "start_time": "2022-01-24T19:31:34.982Z"
   },
   {
    "duration": 4,
    "start_time": "2022-01-24T19:31:40.104Z"
   },
   {
    "duration": 47,
    "start_time": "2022-01-24T19:31:40.513Z"
   },
   {
    "duration": 20,
    "start_time": "2022-01-24T19:31:40.863Z"
   },
   {
    "duration": 30,
    "start_time": "2022-01-24T19:31:41.272Z"
   },
   {
    "duration": 21,
    "start_time": "2022-01-24T19:31:41.811Z"
   },
   {
    "duration": 21,
    "start_time": "2022-01-24T19:31:41.997Z"
   },
   {
    "duration": 27,
    "start_time": "2022-01-24T19:31:42.153Z"
   },
   {
    "duration": 40,
    "start_time": "2022-01-24T19:31:42.651Z"
   },
   {
    "duration": 37,
    "start_time": "2022-01-24T19:31:43.172Z"
   },
   {
    "duration": 20,
    "start_time": "2022-01-24T19:31:43.523Z"
   },
   {
    "duration": 22,
    "start_time": "2022-01-24T19:31:43.870Z"
   },
   {
    "duration": 20,
    "start_time": "2022-01-24T19:31:44.194Z"
   },
   {
    "duration": 25,
    "start_time": "2022-01-24T19:31:44.693Z"
   },
   {
    "duration": 30,
    "start_time": "2022-01-24T19:31:45.042Z"
   },
   {
    "duration": 22,
    "start_time": "2022-01-24T19:31:45.383Z"
   },
   {
    "duration": 5,
    "start_time": "2022-01-24T19:31:46.445Z"
   },
   {
    "duration": 4,
    "start_time": "2022-01-24T19:31:46.911Z"
   },
   {
    "duration": 6,
    "start_time": "2022-01-24T19:31:47.080Z"
   },
   {
    "duration": 26,
    "start_time": "2022-01-24T19:31:47.290Z"
   },
   {
    "duration": 18,
    "start_time": "2022-01-24T19:31:47.610Z"
   },
   {
    "duration": 21,
    "start_time": "2022-01-24T19:31:47.788Z"
   },
   {
    "duration": 9,
    "start_time": "2022-01-24T19:31:48.202Z"
   },
   {
    "duration": 14,
    "start_time": "2022-01-24T19:31:48.426Z"
   },
   {
    "duration": 12,
    "start_time": "2022-01-24T19:31:48.614Z"
   },
   {
    "duration": 17,
    "start_time": "2022-01-24T19:31:53.649Z"
   },
   {
    "duration": 12,
    "start_time": "2022-01-24T19:31:56.442Z"
   },
   {
    "duration": 7,
    "start_time": "2022-01-24T19:31:58.574Z"
   },
   {
    "duration": 14,
    "start_time": "2022-01-24T19:31:59.072Z"
   },
   {
    "duration": 36,
    "start_time": "2022-01-24T19:32:01.153Z"
   },
   {
    "duration": 21,
    "start_time": "2022-01-24T19:32:02.616Z"
   },
   {
    "duration": 39,
    "start_time": "2022-01-24T19:32:04.013Z"
   },
   {
    "duration": 4,
    "start_time": "2022-01-24T19:32:08.503Z"
   },
   {
    "duration": 11,
    "start_time": "2022-01-24T19:32:08.992Z"
   },
   {
    "duration": 13,
    "start_time": "2022-01-24T19:32:09.662Z"
   },
   {
    "duration": 1065,
    "start_time": "2022-01-24T19:32:10.850Z"
   },
   {
    "duration": 21,
    "start_time": "2022-01-24T19:32:12.052Z"
   },
   {
    "duration": 17,
    "start_time": "2022-01-24T19:32:14.155Z"
   },
   {
    "duration": 17,
    "start_time": "2022-01-24T19:32:19.713Z"
   },
   {
    "duration": 524,
    "start_time": "2022-01-24T19:32:24.199Z"
   },
   {
    "duration": 113,
    "start_time": "2022-01-24T19:32:26.800Z"
   },
   {
    "duration": 57,
    "start_time": "2022-01-24T19:49:31.237Z"
   },
   {
    "duration": 297,
    "start_time": "2022-01-24T19:51:53.362Z"
   },
   {
    "duration": 320,
    "start_time": "2022-01-24T19:52:18.568Z"
   },
   {
    "duration": 288,
    "start_time": "2022-01-24T19:52:54.570Z"
   },
   {
    "duration": 297,
    "start_time": "2022-01-24T19:53:10.993Z"
   },
   {
    "duration": 434,
    "start_time": "2022-01-24T19:53:35.674Z"
   },
   {
    "duration": 320,
    "start_time": "2022-01-24T19:53:53.463Z"
   },
   {
    "duration": 17,
    "start_time": "2022-01-24T19:56:01.277Z"
   },
   {
    "duration": 38,
    "start_time": "2022-01-24T19:56:09.583Z"
   },
   {
    "duration": 74,
    "start_time": "2022-01-24T19:56:56.326Z"
   },
   {
    "duration": 72,
    "start_time": "2022-01-24T19:57:37.044Z"
   },
   {
    "duration": 959,
    "start_time": "2022-01-24T19:58:06.343Z"
   },
   {
    "duration": 12,
    "start_time": "2022-01-24T20:05:14.844Z"
   },
   {
    "duration": 12,
    "start_time": "2022-01-24T20:06:00.173Z"
   },
   {
    "duration": 21,
    "start_time": "2022-01-24T20:06:10.680Z"
   },
   {
    "duration": 23,
    "start_time": "2022-01-24T20:06:26.243Z"
   },
   {
    "duration": 18,
    "start_time": "2022-01-24T20:09:42.200Z"
   },
   {
    "duration": 20,
    "start_time": "2022-01-24T20:10:21.661Z"
   },
   {
    "duration": 58,
    "start_time": "2022-01-24T20:10:31.482Z"
   },
   {
    "duration": 471,
    "start_time": "2022-01-24T20:12:11.280Z"
   },
   {
    "duration": 7390,
    "start_time": "2022-01-24T20:12:35.934Z"
   },
   {
    "duration": 71,
    "start_time": "2022-01-24T20:13:33.566Z"
   },
   {
    "duration": 5038,
    "start_time": "2022-01-24T20:13:36.800Z"
   },
   {
    "duration": 23,
    "start_time": "2022-01-24T20:15:12.568Z"
   },
   {
    "duration": 48,
    "start_time": "2022-01-24T20:15:36.662Z"
   },
   {
    "duration": 827,
    "start_time": "2022-01-24T20:15:41.033Z"
   },
   {
    "duration": 2178,
    "start_time": "2022-01-24T20:18:50.050Z"
   },
   {
    "duration": 279,
    "start_time": "2022-01-24T20:19:38.788Z"
   },
   {
    "duration": 283,
    "start_time": "2022-01-24T20:21:07.824Z"
   },
   {
    "duration": 49,
    "start_time": "2022-01-24T20:21:24.595Z"
   },
   {
    "duration": 36,
    "start_time": "2022-01-24T20:22:48.025Z"
   },
   {
    "duration": 10526,
    "start_time": "2022-01-25T04:02:29.694Z"
   },
   {
    "duration": 656,
    "start_time": "2022-01-25T04:02:40.445Z"
   },
   {
    "duration": 47,
    "start_time": "2022-01-25T04:02:42.753Z"
   },
   {
    "duration": 20,
    "start_time": "2022-01-25T04:02:44.935Z"
   },
   {
    "duration": 1011,
    "start_time": "2022-01-25T04:02:46.936Z"
   },
   {
    "duration": 24,
    "start_time": "2022-01-25T04:02:49.865Z"
   },
   {
    "duration": 21,
    "start_time": "2022-01-25T04:02:50.945Z"
   },
   {
    "duration": 27,
    "start_time": "2022-01-25T04:02:51.963Z"
   },
   {
    "duration": 39,
    "start_time": "2022-01-25T04:02:55.795Z"
   },
   {
    "duration": 41,
    "start_time": "2022-01-25T04:02:57.904Z"
   },
   {
    "duration": 23,
    "start_time": "2022-01-25T04:03:00.566Z"
   },
   {
    "duration": 21,
    "start_time": "2022-01-25T04:03:02.724Z"
   },
   {
    "duration": 20,
    "start_time": "2022-01-25T04:03:04.254Z"
   },
   {
    "duration": 24,
    "start_time": "2022-01-25T04:03:06.226Z"
   },
   {
    "duration": 25,
    "start_time": "2022-01-25T04:03:08.533Z"
   },
   {
    "duration": 25,
    "start_time": "2022-01-25T04:03:09.955Z"
   },
   {
    "duration": 6,
    "start_time": "2022-01-25T04:03:11.706Z"
   },
   {
    "duration": 5,
    "start_time": "2022-01-25T04:03:12.975Z"
   },
   {
    "duration": 7,
    "start_time": "2022-01-25T04:03:13.655Z"
   },
   {
    "duration": 20,
    "start_time": "2022-01-25T04:03:14.416Z"
   },
   {
    "duration": 20,
    "start_time": "2022-01-25T04:03:15.725Z"
   },
   {
    "duration": 20,
    "start_time": "2022-01-25T04:03:16.806Z"
   },
   {
    "duration": 11,
    "start_time": "2022-01-25T04:03:18.384Z"
   },
   {
    "duration": 13,
    "start_time": "2022-01-25T04:03:19.204Z"
   },
   {
    "duration": 12,
    "start_time": "2022-01-25T04:03:20.034Z"
   },
   {
    "duration": 1354,
    "start_time": "2022-01-25T04:03:25.385Z"
   },
   {
    "duration": 12,
    "start_time": "2022-01-25T04:03:27.375Z"
   },
   {
    "duration": 8,
    "start_time": "2022-01-25T04:03:30.035Z"
   },
   {
    "duration": 13,
    "start_time": "2022-01-25T04:03:31.016Z"
   },
   {
    "duration": 36,
    "start_time": "2022-01-25T04:03:31.805Z"
   },
   {
    "duration": 20,
    "start_time": "2022-01-25T04:03:34.465Z"
   },
   {
    "duration": 32,
    "start_time": "2022-01-25T04:03:35.336Z"
   },
   {
    "duration": 561,
    "start_time": "2022-01-25T04:03:40.715Z"
   },
   {
    "duration": 12,
    "start_time": "2022-01-25T04:03:41.555Z"
   },
   {
    "duration": 15,
    "start_time": "2022-01-25T04:03:42.125Z"
   },
   {
    "duration": 1002,
    "start_time": "2022-01-25T04:03:44.726Z"
   },
   {
    "duration": 21,
    "start_time": "2022-01-25T04:03:49.435Z"
   },
   {
    "duration": 17,
    "start_time": "2022-01-25T04:03:50.935Z"
   },
   {
    "duration": 19,
    "start_time": "2022-01-25T04:03:53.616Z"
   },
   {
    "duration": 551,
    "start_time": "2022-01-25T04:03:54.946Z"
   },
   {
    "duration": 22,
    "start_time": "2022-01-25T04:04:00.826Z"
   },
   {
    "duration": 40,
    "start_time": "2022-01-25T04:04:04.904Z"
   },
   {
    "duration": 905,
    "start_time": "2022-01-25T04:04:06.276Z"
   },
   {
    "duration": 32,
    "start_time": "2022-01-25T04:07:29.075Z"
   },
   {
    "duration": 32,
    "start_time": "2022-01-25T04:07:38.596Z"
   },
   {
    "duration": 18,
    "start_time": "2022-01-25T04:13:20.986Z"
   },
   {
    "duration": 91,
    "start_time": "2022-01-25T04:14:00.935Z"
   },
   {
    "duration": 99,
    "start_time": "2022-01-25T04:14:57.845Z"
   },
   {
    "duration": 342,
    "start_time": "2022-01-25T04:15:03.965Z"
   },
   {
    "duration": 102,
    "start_time": "2022-01-25T04:15:12.843Z"
   },
   {
    "duration": 55,
    "start_time": "2022-01-25T04:15:54.483Z"
   },
   {
    "duration": 3736,
    "start_time": "2022-01-25T04:31:23.673Z"
   },
   {
    "duration": 5,
    "start_time": "2022-01-25T04:32:59.103Z"
   },
   {
    "duration": 50,
    "start_time": "2022-01-25T04:33:00.712Z"
   },
   {
    "duration": 20,
    "start_time": "2022-01-25T04:33:03.393Z"
   },
   {
    "duration": 30,
    "start_time": "2022-01-25T04:33:05.113Z"
   },
   {
    "duration": 21,
    "start_time": "2022-01-25T04:33:07.283Z"
   },
   {
    "duration": 20,
    "start_time": "2022-01-25T04:33:07.953Z"
   },
   {
    "duration": 25,
    "start_time": "2022-01-25T04:33:08.783Z"
   },
   {
    "duration": 39,
    "start_time": "2022-01-25T04:33:09.482Z"
   },
   {
    "duration": 37,
    "start_time": "2022-01-25T04:33:10.830Z"
   },
   {
    "duration": 21,
    "start_time": "2022-01-25T04:33:11.814Z"
   },
   {
    "duration": 22,
    "start_time": "2022-01-25T04:33:12.192Z"
   },
   {
    "duration": 21,
    "start_time": "2022-01-25T04:33:17.218Z"
   },
   {
    "duration": 24,
    "start_time": "2022-01-25T04:33:17.403Z"
   },
   {
    "duration": 24,
    "start_time": "2022-01-25T04:33:18.393Z"
   },
   {
    "duration": 23,
    "start_time": "2022-01-25T04:33:19.704Z"
   },
   {
    "duration": 6,
    "start_time": "2022-01-25T04:33:22.301Z"
   },
   {
    "duration": 10,
    "start_time": "2022-01-25T04:33:25.167Z"
   },
   {
    "duration": 5,
    "start_time": "2022-01-25T04:33:25.512Z"
   },
   {
    "duration": 19,
    "start_time": "2022-01-25T04:33:25.702Z"
   },
   {
    "duration": 19,
    "start_time": "2022-01-25T04:33:26.062Z"
   },
   {
    "duration": 19,
    "start_time": "2022-01-25T04:33:26.232Z"
   },
   {
    "duration": 10,
    "start_time": "2022-01-25T04:33:26.572Z"
   },
   {
    "duration": 12,
    "start_time": "2022-01-25T04:33:26.742Z"
   },
   {
    "duration": 12,
    "start_time": "2022-01-25T04:33:26.902Z"
   },
   {
    "duration": 291,
    "start_time": "2022-01-25T04:33:32.633Z"
   },
   {
    "duration": 23,
    "start_time": "2022-01-25T04:33:51.474Z"
   },
   {
    "duration": 12,
    "start_time": "2022-01-25T04:34:00.232Z"
   },
   {
    "duration": 9,
    "start_time": "2022-01-25T04:34:01.933Z"
   },
   {
    "duration": 15,
    "start_time": "2022-01-25T04:34:02.523Z"
   },
   {
    "duration": 37,
    "start_time": "2022-01-25T04:34:03.103Z"
   },
   {
    "duration": 21,
    "start_time": "2022-01-25T04:34:09.590Z"
   },
   {
    "duration": 33,
    "start_time": "2022-01-25T04:34:10.595Z"
   },
   {
    "duration": 4,
    "start_time": "2022-01-25T04:34:14.553Z"
   },
   {
    "duration": 11,
    "start_time": "2022-01-25T04:34:15.643Z"
   },
   {
    "duration": 14,
    "start_time": "2022-01-25T04:34:16.442Z"
   },
   {
    "duration": 1070,
    "start_time": "2022-01-25T04:34:17.961Z"
   },
   {
    "duration": 23,
    "start_time": "2022-01-25T04:34:20.612Z"
   },
   {
    "duration": 19,
    "start_time": "2022-01-25T04:34:22.023Z"
   },
   {
    "duration": 18,
    "start_time": "2022-01-25T04:34:24.752Z"
   },
   {
    "duration": 521,
    "start_time": "2022-01-25T04:34:25.393Z"
   },
   {
    "duration": 22,
    "start_time": "2022-01-25T04:34:38.194Z"
   },
   {
    "duration": 44,
    "start_time": "2022-01-25T04:35:11.219Z"
   },
   {
    "duration": 104,
    "start_time": "2022-01-25T04:35:52.153Z"
   },
   {
    "duration": 57,
    "start_time": "2022-01-25T04:36:13.204Z"
   },
   {
    "duration": 5103,
    "start_time": "2022-01-25T04:36:20.204Z"
   },
   {
    "duration": 32,
    "start_time": "2022-01-25T04:37:26.332Z"
   },
   {
    "duration": 58,
    "start_time": "2022-01-25T04:37:30.103Z"
   },
   {
    "duration": 36,
    "start_time": "2022-01-25T04:40:36.493Z"
   },
   {
    "duration": 84,
    "start_time": "2022-01-25T04:41:18.294Z"
   },
   {
    "duration": 86,
    "start_time": "2022-01-25T04:41:48.393Z"
   },
   {
    "duration": 56,
    "start_time": "2022-01-25T04:42:34.213Z"
   },
   {
    "duration": 104,
    "start_time": "2022-01-25T04:43:23.592Z"
   },
   {
    "duration": 92,
    "start_time": "2022-01-25T04:43:35.584Z"
   },
   {
    "duration": 90,
    "start_time": "2022-01-25T04:43:51.514Z"
   },
   {
    "duration": 77,
    "start_time": "2022-01-25T04:44:11.634Z"
   },
   {
    "duration": 75,
    "start_time": "2022-01-25T04:45:16.924Z"
   },
   {
    "duration": 34,
    "start_time": "2022-01-25T04:46:51.843Z"
   },
   {
    "duration": 56,
    "start_time": "2022-01-25T04:47:03.892Z"
   },
   {
    "duration": 3545,
    "start_time": "2022-01-25T05:51:09.301Z"
   },
   {
    "duration": 4,
    "start_time": "2022-01-25T05:51:18.462Z"
   },
   {
    "duration": 51,
    "start_time": "2022-01-25T05:51:22.642Z"
   },
   {
    "duration": 21,
    "start_time": "2022-01-25T05:51:25.223Z"
   },
   {
    "duration": 26,
    "start_time": "2022-01-25T05:51:54.473Z"
   },
   {
    "duration": 20,
    "start_time": "2022-01-25T05:51:57.693Z"
   },
   {
    "duration": 20,
    "start_time": "2022-01-25T05:51:57.942Z"
   },
   {
    "duration": 24,
    "start_time": "2022-01-25T05:51:58.240Z"
   },
   {
    "duration": 39,
    "start_time": "2022-01-25T05:51:59.133Z"
   },
   {
    "duration": 37,
    "start_time": "2022-01-25T05:52:01.174Z"
   },
   {
    "duration": 22,
    "start_time": "2022-01-25T05:52:04.773Z"
   },
   {
    "duration": 20,
    "start_time": "2022-01-25T05:52:06.763Z"
   },
   {
    "duration": 20,
    "start_time": "2022-01-25T05:52:08.434Z"
   },
   {
    "duration": 23,
    "start_time": "2022-01-25T05:52:11.763Z"
   },
   {
    "duration": 24,
    "start_time": "2022-01-25T05:52:12.172Z"
   },
   {
    "duration": 23,
    "start_time": "2022-01-25T05:52:13.402Z"
   },
   {
    "duration": 6,
    "start_time": "2022-01-25T05:52:14.903Z"
   },
   {
    "duration": 5,
    "start_time": "2022-01-25T05:52:15.382Z"
   },
   {
    "duration": 7,
    "start_time": "2022-01-25T05:52:15.682Z"
   },
   {
    "duration": 19,
    "start_time": "2022-01-25T05:52:15.932Z"
   },
   {
    "duration": 20,
    "start_time": "2022-01-25T05:52:16.473Z"
   },
   {
    "duration": 21,
    "start_time": "2022-01-25T05:52:16.912Z"
   },
   {
    "duration": 14,
    "start_time": "2022-01-25T05:52:17.563Z"
   },
   {
    "duration": 14,
    "start_time": "2022-01-25T05:52:17.742Z"
   },
   {
    "duration": 13,
    "start_time": "2022-01-25T05:52:18.142Z"
   },
   {
    "duration": 22,
    "start_time": "2022-01-25T05:52:19.343Z"
   },
   {
    "duration": 11,
    "start_time": "2022-01-25T05:52:19.951Z"
   },
   {
    "duration": 8,
    "start_time": "2022-01-25T05:52:20.669Z"
   },
   {
    "duration": 15,
    "start_time": "2022-01-25T05:52:20.832Z"
   },
   {
    "duration": 38,
    "start_time": "2022-01-25T05:52:21.052Z"
   },
   {
    "duration": 22,
    "start_time": "2022-01-25T05:52:22.389Z"
   },
   {
    "duration": 39,
    "start_time": "2022-01-25T05:52:22.528Z"
   },
   {
    "duration": 4,
    "start_time": "2022-01-25T05:52:23.532Z"
   },
   {
    "duration": 11,
    "start_time": "2022-01-25T05:52:25.551Z"
   },
   {
    "duration": 13,
    "start_time": "2022-01-25T05:52:26.374Z"
   },
   {
    "duration": 1014,
    "start_time": "2022-01-25T05:52:27.493Z"
   },
   {
    "duration": 21,
    "start_time": "2022-01-25T05:52:29.052Z"
   },
   {
    "duration": 18,
    "start_time": "2022-01-25T05:52:32.214Z"
   },
   {
    "duration": 19,
    "start_time": "2022-01-25T05:52:35.582Z"
   },
   {
    "duration": 537,
    "start_time": "2022-01-25T05:52:35.762Z"
   },
   {
    "duration": 56,
    "start_time": "2022-01-25T05:52:36.951Z"
   },
   {
    "duration": 5257,
    "start_time": "2022-01-25T05:52:59.830Z"
   },
   {
    "duration": 33,
    "start_time": "2022-01-25T05:53:08.503Z"
   },
   {
    "duration": 53,
    "start_time": "2022-01-25T05:53:16.833Z"
   },
   {
    "duration": 51,
    "start_time": "2022-01-25T05:53:19.573Z"
   },
   {
    "duration": 6,
    "start_time": "2022-01-25T05:53:22.603Z"
   },
   {
    "duration": 740,
    "start_time": "2022-01-25T05:55:35.983Z"
   },
   {
    "duration": 743,
    "start_time": "2022-01-25T05:55:45.594Z"
   },
   {
    "duration": 2645,
    "start_time": "2022-01-25T06:25:33.210Z"
   },
   {
    "duration": 7,
    "start_time": "2022-01-25T06:26:11.513Z"
   },
   {
    "duration": 14,
    "start_time": "2022-01-25T06:26:30.333Z"
   },
   {
    "duration": 245,
    "start_time": "2022-01-25T06:30:17.713Z"
   },
   {
    "duration": 6,
    "start_time": "2022-01-25T06:30:56.209Z"
   },
   {
    "duration": 15,
    "start_time": "2022-01-25T06:31:04.911Z"
   },
   {
    "duration": 14,
    "start_time": "2022-01-25T06:31:49.602Z"
   },
   {
    "duration": 13,
    "start_time": "2022-01-25T06:36:31.132Z"
   },
   {
    "duration": 37,
    "start_time": "2022-01-25T06:37:18.332Z"
   },
   {
    "duration": 426,
    "start_time": "2022-01-25T06:37:57.192Z"
   },
   {
    "duration": 34,
    "start_time": "2022-01-25T06:39:58.102Z"
   },
   {
    "duration": 34,
    "start_time": "2022-01-25T06:40:44.392Z"
   },
   {
    "duration": 37,
    "start_time": "2022-01-25T06:41:25.122Z"
   },
   {
    "duration": 39,
    "start_time": "2022-01-25T06:45:41.761Z"
   },
   {
    "duration": 20,
    "start_time": "2022-01-25T06:47:27.569Z"
   },
   {
    "duration": 32,
    "start_time": "2022-01-25T06:47:41.699Z"
   },
   {
    "duration": 309,
    "start_time": "2022-01-25T06:50:20.988Z"
   },
   {
    "duration": 657,
    "start_time": "2022-01-25T06:51:15.360Z"
   },
   {
    "duration": 4,
    "start_time": "2022-01-25T06:56:39.102Z"
   },
   {
    "duration": 3929,
    "start_time": "2022-01-25T07:46:42.034Z"
   },
   {
    "duration": 674,
    "start_time": "2022-01-25T07:46:48.968Z"
   },
   {
    "duration": 50,
    "start_time": "2022-01-25T07:46:49.930Z"
   },
   {
    "duration": 20,
    "start_time": "2022-01-25T07:46:54.408Z"
   },
   {
    "duration": 1081,
    "start_time": "2022-01-25T07:46:55.960Z"
   },
   {
    "duration": 21,
    "start_time": "2022-01-25T07:46:59.299Z"
   },
   {
    "duration": 20,
    "start_time": "2022-01-25T07:47:00.210Z"
   },
   {
    "duration": 25,
    "start_time": "2022-01-25T07:47:01.130Z"
   },
   {
    "duration": 46,
    "start_time": "2022-01-25T07:47:03.319Z"
   },
   {
    "duration": 38,
    "start_time": "2022-01-25T07:47:04.561Z"
   },
   {
    "duration": 33,
    "start_time": "2022-01-25T07:47:05.820Z"
   },
   {
    "duration": 22,
    "start_time": "2022-01-25T07:47:06.989Z"
   },
   {
    "duration": 20,
    "start_time": "2022-01-25T07:47:07.680Z"
   },
   {
    "duration": 23,
    "start_time": "2022-01-25T07:47:08.669Z"
   },
   {
    "duration": 21,
    "start_time": "2022-01-25T07:47:09.029Z"
   },
   {
    "duration": 23,
    "start_time": "2022-01-25T07:47:12.074Z"
   },
   {
    "duration": 5,
    "start_time": "2022-01-25T07:47:15.360Z"
   },
   {
    "duration": 4,
    "start_time": "2022-01-25T07:47:16.790Z"
   },
   {
    "duration": 6,
    "start_time": "2022-01-25T07:47:17.349Z"
   },
   {
    "duration": 21,
    "start_time": "2022-01-25T07:47:18.330Z"
   },
   {
    "duration": 18,
    "start_time": "2022-01-25T07:47:23.440Z"
   },
   {
    "duration": 20,
    "start_time": "2022-01-25T07:47:23.887Z"
   },
   {
    "duration": 10,
    "start_time": "2022-01-25T07:47:25.170Z"
   },
   {
    "duration": 14,
    "start_time": "2022-01-25T07:47:25.439Z"
   },
   {
    "duration": 13,
    "start_time": "2022-01-25T07:47:25.889Z"
   },
   {
    "duration": 23,
    "start_time": "2022-01-25T07:47:29.800Z"
   },
   {
    "duration": 11,
    "start_time": "2022-01-25T07:47:30.950Z"
   },
   {
    "duration": 10,
    "start_time": "2022-01-25T07:47:34.110Z"
   },
   {
    "duration": 14,
    "start_time": "2022-01-25T07:47:35.330Z"
   },
   {
    "duration": 36,
    "start_time": "2022-01-25T07:47:36.720Z"
   },
   {
    "duration": 20,
    "start_time": "2022-01-25T07:47:38.480Z"
   },
   {
    "duration": 32,
    "start_time": "2022-01-25T07:47:39.360Z"
   },
   {
    "duration": 565,
    "start_time": "2022-01-25T07:47:42.180Z"
   },
   {
    "duration": 12,
    "start_time": "2022-01-25T07:47:43.930Z"
   },
   {
    "duration": 14,
    "start_time": "2022-01-25T07:47:44.610Z"
   },
   {
    "duration": 1002,
    "start_time": "2022-01-25T07:47:46.397Z"
   },
   {
    "duration": 22,
    "start_time": "2022-01-25T07:47:49.280Z"
   },
   {
    "duration": 17,
    "start_time": "2022-01-25T07:47:50.728Z"
   },
   {
    "duration": 18,
    "start_time": "2022-01-25T07:47:52.880Z"
   },
   {
    "duration": 527,
    "start_time": "2022-01-25T07:47:54.007Z"
   },
   {
    "duration": 609,
    "start_time": "2022-01-25T07:48:11.750Z"
   },
   {
    "duration": 58,
    "start_time": "2022-01-25T07:48:24.682Z"
   },
   {
    "duration": 6564,
    "start_time": "2022-01-25T07:48:30.760Z"
   },
   {
    "duration": 5751,
    "start_time": "2022-01-25T07:48:47.350Z"
   },
   {
    "duration": 33,
    "start_time": "2022-01-25T07:48:57.350Z"
   },
   {
    "duration": 61,
    "start_time": "2022-01-25T07:49:02.690Z"
   },
   {
    "duration": 61,
    "start_time": "2022-01-25T07:49:05.501Z"
   },
   {
    "duration": 755,
    "start_time": "2022-01-25T07:49:09.630Z"
   },
   {
    "duration": 722,
    "start_time": "2022-01-25T07:49:25.998Z"
   },
   {
    "duration": 43,
    "start_time": "2022-01-25T07:49:41.685Z"
   },
   {
    "duration": 30,
    "start_time": "2022-01-25T07:49:47.790Z"
   },
   {
    "duration": 3,
    "start_time": "2022-01-25T07:49:51.109Z"
   },
   {
    "duration": 554,
    "start_time": "2022-01-25T07:49:53.250Z"
   },
   {
    "duration": 723,
    "start_time": "2022-01-25T07:52:28.590Z"
   },
   {
    "duration": 530,
    "start_time": "2022-01-25T07:53:19.920Z"
   },
   {
    "duration": 30,
    "start_time": "2022-01-25T07:54:09.786Z"
   },
   {
    "duration": 3,
    "start_time": "2022-01-25T07:54:12.980Z"
   },
   {
    "duration": 610,
    "start_time": "2022-01-25T07:54:13.680Z"
   },
   {
    "duration": 20,
    "start_time": "2022-01-25T07:55:00.780Z"
   },
   {
    "duration": 4,
    "start_time": "2022-01-25T07:55:05.539Z"
   },
   {
    "duration": 612,
    "start_time": "2022-01-25T07:55:06.129Z"
   },
   {
    "duration": 21,
    "start_time": "2022-01-25T07:55:44.480Z"
   },
   {
    "duration": 4,
    "start_time": "2022-01-25T07:55:48.738Z"
   },
   {
    "duration": 680,
    "start_time": "2022-01-25T07:55:50.480Z"
   },
   {
    "duration": 676,
    "start_time": "2022-01-25T07:56:09.872Z"
   },
   {
    "duration": 30,
    "start_time": "2022-01-25T07:57:20.959Z"
   },
   {
    "duration": 4,
    "start_time": "2022-01-25T07:57:24.538Z"
   },
   {
    "duration": 610,
    "start_time": "2022-01-25T07:57:25.230Z"
   },
   {
    "duration": 23,
    "start_time": "2022-01-25T07:59:13.651Z"
   },
   {
    "duration": 4,
    "start_time": "2022-01-25T07:59:15.077Z"
   },
   {
    "duration": 549,
    "start_time": "2022-01-25T07:59:16.220Z"
   },
   {
    "duration": 45,
    "start_time": "2022-01-25T08:09:57.038Z"
   },
   {
    "duration": 18,
    "start_time": "2022-01-25T08:10:17.330Z"
   },
   {
    "duration": 18,
    "start_time": "2022-01-25T08:11:31.199Z"
   },
   {
    "duration": 440,
    "start_time": "2022-01-25T08:12:35.599Z"
   },
   {
    "duration": 424,
    "start_time": "2022-01-25T08:14:11.137Z"
   },
   {
    "duration": 22,
    "start_time": "2022-01-25T08:14:27.578Z"
   },
   {
    "duration": 17,
    "start_time": "2022-01-25T08:14:46.109Z"
   },
   {
    "duration": 424,
    "start_time": "2022-01-25T08:14:50.309Z"
   },
   {
    "duration": 17,
    "start_time": "2022-01-25T08:15:09.770Z"
   },
   {
    "duration": 446,
    "start_time": "2022-01-25T08:15:12.030Z"
   },
   {
    "duration": 87,
    "start_time": "2022-01-25T08:19:42.852Z"
   },
   {
    "duration": 1296,
    "start_time": "2022-01-25T08:20:00.799Z"
   },
   {
    "duration": 3405,
    "start_time": "2022-01-25T08:20:45.930Z"
   },
   {
    "duration": 20,
    "start_time": "2022-01-25T08:22:50.809Z"
   },
   {
    "duration": 540,
    "start_time": "2022-01-25T08:22:57.368Z"
   },
   {
    "duration": 18,
    "start_time": "2022-01-25T08:25:20.685Z"
   },
   {
    "duration": 445,
    "start_time": "2022-01-25T08:25:30.485Z"
   },
   {
    "duration": 447,
    "start_time": "2022-01-25T08:26:08.844Z"
   },
   {
    "duration": 11,
    "start_time": "2022-01-25T08:28:49.465Z"
   },
   {
    "duration": 57,
    "start_time": "2022-01-25T09:17:07.606Z"
   },
   {
    "duration": 283,
    "start_time": "2022-01-25T09:19:20.500Z"
   },
   {
    "duration": 59,
    "start_time": "2022-01-25T09:19:30.749Z"
   },
   {
    "duration": 76,
    "start_time": "2022-01-25T09:19:31.858Z"
   },
   {
    "duration": 1346,
    "start_time": "2022-01-25T09:20:17.252Z"
   },
   {
    "duration": 35,
    "start_time": "2022-01-25T09:25:55.380Z"
   },
   {
    "duration": 53,
    "start_time": "2022-01-25T09:26:07.536Z"
   },
   {
    "duration": 51,
    "start_time": "2022-01-25T09:26:11.108Z"
   },
   {
    "duration": 733,
    "start_time": "2022-01-25T09:27:10.745Z"
   },
   {
    "duration": 36,
    "start_time": "2022-01-25T09:27:27.045Z"
   },
   {
    "duration": 22,
    "start_time": "2022-01-25T09:27:29.396Z"
   },
   {
    "duration": 4,
    "start_time": "2022-01-25T09:27:30.366Z"
   },
   {
    "duration": 576,
    "start_time": "2022-01-25T09:27:31.454Z"
   },
   {
    "duration": 16,
    "start_time": "2022-01-25T09:27:34.056Z"
   },
   {
    "duration": 446,
    "start_time": "2022-01-25T09:27:34.744Z"
   },
   {
    "duration": 11,
    "start_time": "2022-01-25T09:27:36.115Z"
   },
   {
    "duration": 431,
    "start_time": "2022-01-25T09:27:36.696Z"
   },
   {
    "duration": 12169,
    "start_time": "2022-01-26T11:00:30.078Z"
   },
   {
    "duration": 667,
    "start_time": "2022-01-26T11:01:47.886Z"
   },
   {
    "duration": 50,
    "start_time": "2022-01-26T11:01:49.054Z"
   },
   {
    "duration": 18,
    "start_time": "2022-01-26T11:01:50.251Z"
   },
   {
    "duration": 1091,
    "start_time": "2022-01-26T11:01:51.857Z"
   },
   {
    "duration": 22,
    "start_time": "2022-01-26T11:01:53.265Z"
   },
   {
    "duration": 20,
    "start_time": "2022-01-26T11:01:53.786Z"
   },
   {
    "duration": 26,
    "start_time": "2022-01-26T11:01:54.331Z"
   },
   {
    "duration": 40,
    "start_time": "2022-01-26T11:01:55.725Z"
   },
   {
    "duration": 39,
    "start_time": "2022-01-26T11:01:56.845Z"
   },
   {
    "duration": 23,
    "start_time": "2022-01-26T11:01:57.668Z"
   },
   {
    "duration": 19,
    "start_time": "2022-01-26T11:01:58.440Z"
   },
   {
    "duration": 20,
    "start_time": "2022-01-26T11:01:59.366Z"
   },
   {
    "duration": 25,
    "start_time": "2022-01-26T11:02:00.728Z"
   },
   {
    "duration": 24,
    "start_time": "2022-01-26T11:02:03.385Z"
   },
   {
    "duration": 24,
    "start_time": "2022-01-26T11:02:05.267Z"
   },
   {
    "duration": 7,
    "start_time": "2022-01-26T11:02:06.197Z"
   },
   {
    "duration": 4,
    "start_time": "2022-01-26T11:02:07.556Z"
   },
   {
    "duration": 6,
    "start_time": "2022-01-26T11:02:11.617Z"
   },
   {
    "duration": 20,
    "start_time": "2022-01-26T11:02:11.937Z"
   },
   {
    "duration": 18,
    "start_time": "2022-01-26T11:02:12.648Z"
   },
   {
    "duration": 19,
    "start_time": "2022-01-26T11:02:12.853Z"
   },
   {
    "duration": 10,
    "start_time": "2022-01-26T11:02:13.221Z"
   },
   {
    "duration": 13,
    "start_time": "2022-01-26T11:02:13.406Z"
   },
   {
    "duration": 13,
    "start_time": "2022-01-26T11:02:13.598Z"
   },
   {
    "duration": 22,
    "start_time": "2022-01-26T11:02:14.584Z"
   },
   {
    "duration": 11,
    "start_time": "2022-01-26T11:02:14.977Z"
   },
   {
    "duration": 8,
    "start_time": "2022-01-26T11:02:15.378Z"
   },
   {
    "duration": 14,
    "start_time": "2022-01-26T11:02:15.578Z"
   },
   {
    "duration": 37,
    "start_time": "2022-01-26T11:02:15.759Z"
   },
   {
    "duration": 21,
    "start_time": "2022-01-26T11:02:16.336Z"
   },
   {
    "duration": 34,
    "start_time": "2022-01-26T11:02:16.519Z"
   },
   {
    "duration": 618,
    "start_time": "2022-01-26T11:02:17.297Z"
   },
   {
    "duration": 11,
    "start_time": "2022-01-26T11:02:17.918Z"
   },
   {
    "duration": 14,
    "start_time": "2022-01-26T11:02:17.933Z"
   },
   {
    "duration": 1110,
    "start_time": "2022-01-26T11:02:18.317Z"
   },
   {
    "duration": 21,
    "start_time": "2022-01-26T11:02:19.429Z"
   },
   {
    "duration": 30,
    "start_time": "2022-01-26T11:02:19.453Z"
   },
   {
    "duration": 19,
    "start_time": "2022-01-26T11:02:19.935Z"
   },
   {
    "duration": 639,
    "start_time": "2022-01-26T11:02:20.112Z"
   },
   {
    "duration": 58,
    "start_time": "2022-01-26T11:02:20.853Z"
   },
   {
    "duration": 77,
    "start_time": "2022-01-26T11:02:21.066Z"
   },
   {
    "duration": 1334,
    "start_time": "2022-01-26T11:02:21.257Z"
   },
   {
    "duration": 33,
    "start_time": "2022-01-26T11:02:22.594Z"
   },
   {
    "duration": 84,
    "start_time": "2022-01-26T11:02:22.630Z"
   },
   {
    "duration": 72,
    "start_time": "2022-01-26T11:02:22.717Z"
   },
   {
    "duration": 773,
    "start_time": "2022-01-26T11:02:24.104Z"
   },
   {
    "duration": 36,
    "start_time": "2022-01-26T11:02:24.880Z"
   },
   {
    "duration": 21,
    "start_time": "2022-01-26T11:02:24.918Z"
   },
   {
    "duration": 3,
    "start_time": "2022-01-26T11:02:24.970Z"
   },
   {
    "duration": 689,
    "start_time": "2022-01-26T11:02:24.976Z"
   },
   {
    "duration": 18,
    "start_time": "2022-01-26T11:02:34.767Z"
   },
   {
    "duration": 515,
    "start_time": "2022-01-26T11:02:35.730Z"
   },
   {
    "duration": 12,
    "start_time": "2022-01-26T11:02:37.396Z"
   },
   {
    "duration": 448,
    "start_time": "2022-01-26T11:02:37.917Z"
   },
   {
    "duration": 440,
    "start_time": "2022-01-26T11:07:41.398Z"
   },
   {
    "duration": 16,
    "start_time": "2022-01-26T11:07:50.476Z"
   },
   {
    "duration": 15,
    "start_time": "2022-01-26T11:08:06.687Z"
   },
   {
    "duration": 20,
    "start_time": "2022-01-26T11:12:14.527Z"
   },
   {
    "duration": 16,
    "start_time": "2022-01-26T11:14:16.025Z"
   },
   {
    "duration": 16,
    "start_time": "2022-01-26T11:24:24.488Z"
   },
   {
    "duration": 15,
    "start_time": "2022-01-26T11:26:14.847Z"
   },
   {
    "duration": 15,
    "start_time": "2022-01-26T11:29:29.166Z"
   },
   {
    "duration": 8,
    "start_time": "2022-01-26T11:36:00.547Z"
   },
   {
    "duration": 125,
    "start_time": "2022-01-26T11:41:13.416Z"
   },
   {
    "duration": 6,
    "start_time": "2022-01-26T11:43:31.127Z"
   },
   {
    "duration": 523,
    "start_time": "2022-01-26T11:51:33.436Z"
   },
   {
    "duration": 566,
    "start_time": "2022-01-26T11:51:46.146Z"
   },
   {
    "duration": 418,
    "start_time": "2022-01-26T11:56:01.757Z"
   },
   {
    "duration": 310,
    "start_time": "2022-01-26T11:56:37.071Z"
   },
   {
    "duration": 301,
    "start_time": "2022-01-26T11:56:55.798Z"
   },
   {
    "duration": 5,
    "start_time": "2022-01-26T11:59:01.836Z"
   },
   {
    "duration": 6,
    "start_time": "2022-01-26T11:59:10.117Z"
   },
   {
    "duration": 6,
    "start_time": "2022-01-26T11:59:50.039Z"
   },
   {
    "duration": 6,
    "start_time": "2022-01-26T12:00:22.326Z"
   },
   {
    "duration": 6,
    "start_time": "2022-01-26T12:01:30.510Z"
   },
   {
    "duration": 297,
    "start_time": "2022-01-26T12:05:21.926Z"
   },
   {
    "duration": 11,
    "start_time": "2022-01-26T12:05:31.435Z"
   },
   {
    "duration": 15,
    "start_time": "2022-01-26T12:05:44.789Z"
   },
   {
    "duration": 6,
    "start_time": "2022-01-26T12:05:51.617Z"
   },
   {
    "duration": 6,
    "start_time": "2022-01-26T12:07:29.185Z"
   },
   {
    "duration": 6,
    "start_time": "2022-01-26T12:08:08.688Z"
   },
   {
    "duration": 6,
    "start_time": "2022-01-26T12:08:39.318Z"
   },
   {
    "duration": 19,
    "start_time": "2022-01-26T12:20:39.636Z"
   },
   {
    "duration": 15,
    "start_time": "2022-01-26T12:21:19.236Z"
   },
   {
    "duration": 15,
    "start_time": "2022-01-26T12:22:01.766Z"
   },
   {
    "duration": 14,
    "start_time": "2022-01-26T12:22:59.126Z"
   },
   {
    "duration": 5034,
    "start_time": "2022-01-26T15:01:23.768Z"
   },
   {
    "duration": 4,
    "start_time": "2022-01-26T15:01:33.888Z"
   },
   {
    "duration": 52,
    "start_time": "2022-01-26T15:01:35.918Z"
   },
   {
    "duration": 20,
    "start_time": "2022-01-26T15:01:37.108Z"
   },
   {
    "duration": 26,
    "start_time": "2022-01-26T15:01:37.688Z"
   },
   {
    "duration": 20,
    "start_time": "2022-01-26T15:01:38.176Z"
   },
   {
    "duration": 20,
    "start_time": "2022-01-26T15:01:38.371Z"
   },
   {
    "duration": 25,
    "start_time": "2022-01-26T15:01:38.530Z"
   },
   {
    "duration": 40,
    "start_time": "2022-01-26T15:01:39.096Z"
   },
   {
    "duration": 37,
    "start_time": "2022-01-26T15:01:39.611Z"
   },
   {
    "duration": 25,
    "start_time": "2022-01-26T15:01:39.953Z"
   },
   {
    "duration": 19,
    "start_time": "2022-01-26T15:01:40.310Z"
   },
   {
    "duration": 23,
    "start_time": "2022-01-26T15:01:40.717Z"
   },
   {
    "duration": 22,
    "start_time": "2022-01-26T15:01:41.231Z"
   },
   {
    "duration": 22,
    "start_time": "2022-01-26T15:01:41.638Z"
   },
   {
    "duration": 23,
    "start_time": "2022-01-26T15:01:41.951Z"
   },
   {
    "duration": 5,
    "start_time": "2022-01-26T15:01:42.490Z"
   },
   {
    "duration": 4,
    "start_time": "2022-01-26T15:01:42.862Z"
   },
   {
    "duration": 6,
    "start_time": "2022-01-26T15:01:43.029Z"
   },
   {
    "duration": 32,
    "start_time": "2022-01-26T15:01:43.221Z"
   },
   {
    "duration": 23,
    "start_time": "2022-01-26T15:01:43.620Z"
   },
   {
    "duration": 20,
    "start_time": "2022-01-26T15:01:43.801Z"
   },
   {
    "duration": 10,
    "start_time": "2022-01-26T15:01:44.227Z"
   },
   {
    "duration": 13,
    "start_time": "2022-01-26T15:01:44.360Z"
   },
   {
    "duration": 13,
    "start_time": "2022-01-26T15:01:44.560Z"
   },
   {
    "duration": 35,
    "start_time": "2022-01-26T15:01:45.461Z"
   },
   {
    "duration": 13,
    "start_time": "2022-01-26T15:01:45.820Z"
   },
   {
    "duration": 9,
    "start_time": "2022-01-26T15:01:46.198Z"
   },
   {
    "duration": 13,
    "start_time": "2022-01-26T15:01:46.378Z"
   },
   {
    "duration": 35,
    "start_time": "2022-01-26T15:01:46.570Z"
   },
   {
    "duration": 28,
    "start_time": "2022-01-26T15:01:47.139Z"
   },
   {
    "duration": 42,
    "start_time": "2022-01-26T15:01:47.310Z"
   },
   {
    "duration": 4,
    "start_time": "2022-01-26T15:01:48.260Z"
   },
   {
    "duration": 13,
    "start_time": "2022-01-26T15:01:48.450Z"
   },
   {
    "duration": 14,
    "start_time": "2022-01-26T15:01:48.630Z"
   },
   {
    "duration": 1159,
    "start_time": "2022-01-26T15:01:49.063Z"
   },
   {
    "duration": 20,
    "start_time": "2022-01-26T15:01:50.225Z"
   },
   {
    "duration": 19,
    "start_time": "2022-01-26T15:01:50.329Z"
   },
   {
    "duration": 29,
    "start_time": "2022-01-26T15:01:50.961Z"
   },
   {
    "duration": 849,
    "start_time": "2022-01-26T15:01:51.159Z"
   },
   {
    "duration": 58,
    "start_time": "2022-01-26T15:01:52.101Z"
   },
   {
    "duration": 76,
    "start_time": "2022-01-26T15:01:52.311Z"
   },
   {
    "duration": 1291,
    "start_time": "2022-01-26T15:01:52.513Z"
   },
   {
    "duration": 33,
    "start_time": "2022-01-26T15:01:55.906Z"
   },
   {
    "duration": 56,
    "start_time": "2022-01-26T15:01:56.737Z"
   },
   {
    "duration": 81,
    "start_time": "2022-01-26T15:01:56.934Z"
   },
   {
    "duration": 855,
    "start_time": "2022-01-26T15:01:58.364Z"
   },
   {
    "duration": 36,
    "start_time": "2022-01-26T15:02:04.161Z"
   },
   {
    "duration": 31,
    "start_time": "2022-01-26T15:02:04.511Z"
   },
   {
    "duration": 4,
    "start_time": "2022-01-26T15:02:04.944Z"
   },
   {
    "duration": 589,
    "start_time": "2022-01-26T15:02:05.470Z"
   },
   {
    "duration": 17,
    "start_time": "2022-01-26T15:02:08.170Z"
   },
   {
    "duration": 587,
    "start_time": "2022-01-26T15:02:08.340Z"
   },
   {
    "duration": 13,
    "start_time": "2022-01-26T15:02:09.939Z"
   },
   {
    "duration": 649,
    "start_time": "2022-01-26T15:02:10.227Z"
   },
   {
    "duration": 17,
    "start_time": "2022-01-26T15:02:12.463Z"
   },
   {
    "duration": 6,
    "start_time": "2022-01-26T15:02:35.750Z"
   },
   {
    "duration": 22,
    "start_time": "2022-01-26T15:02:43.470Z"
   },
   {
    "duration": 6,
    "start_time": "2022-01-26T15:02:44.420Z"
   },
   {
    "duration": 15,
    "start_time": "2022-01-26T15:02:45.930Z"
   },
   {
    "duration": 6,
    "start_time": "2022-01-26T15:02:51.030Z"
   },
   {
    "duration": 23,
    "start_time": "2022-01-26T15:02:51.871Z"
   },
   {
    "duration": 21,
    "start_time": "2022-01-26T15:02:52.089Z"
   },
   {
    "duration": 16,
    "start_time": "2022-01-26T15:02:52.460Z"
   },
   {
    "duration": 18,
    "start_time": "2022-01-26T15:02:52.688Z"
   },
   {
    "duration": 17,
    "start_time": "2022-01-26T15:07:48.188Z"
   },
   {
    "duration": 17,
    "start_time": "2022-01-26T15:08:12.346Z"
   },
   {
    "duration": 16,
    "start_time": "2022-01-26T15:09:09.170Z"
   },
   {
    "duration": 17,
    "start_time": "2022-01-26T15:19:07.041Z"
   },
   {
    "duration": 335,
    "start_time": "2022-01-26T15:20:37.111Z"
   },
   {
    "duration": 15,
    "start_time": "2022-01-26T15:20:45.941Z"
   },
   {
    "duration": 18,
    "start_time": "2022-01-26T15:21:16.201Z"
   },
   {
    "duration": 265,
    "start_time": "2022-01-26T16:39:57.995Z"
   },
   {
    "duration": 289,
    "start_time": "2022-01-26T16:40:07.400Z"
   },
   {
    "duration": 4,
    "start_time": "2022-01-26T16:40:39.156Z"
   },
   {
    "duration": 285,
    "start_time": "2022-01-26T16:40:55.344Z"
   },
   {
    "duration": 110,
    "start_time": "2022-01-26T16:41:12.164Z"
   },
   {
    "duration": 84,
    "start_time": "2022-01-26T16:41:31.832Z"
   },
   {
    "duration": 3,
    "start_time": "2022-01-26T16:41:42.843Z"
   },
   {
    "duration": 274,
    "start_time": "2022-01-26T16:41:50.758Z"
   },
   {
    "duration": 96,
    "start_time": "2022-01-26T16:41:59.654Z"
   },
   {
    "duration": 10583,
    "start_time": "2022-01-27T09:25:57.586Z"
   },
   {
    "duration": 758,
    "start_time": "2022-01-27T09:26:11.512Z"
   },
   {
    "duration": 48,
    "start_time": "2022-01-27T09:26:13.004Z"
   },
   {
    "duration": 18,
    "start_time": "2022-01-27T09:26:14.970Z"
   },
   {
    "duration": 1034,
    "start_time": "2022-01-27T09:26:16.588Z"
   },
   {
    "duration": 22,
    "start_time": "2022-01-27T09:26:18.127Z"
   },
   {
    "duration": 20,
    "start_time": "2022-01-27T09:26:18.760Z"
   },
   {
    "duration": 24,
    "start_time": "2022-01-27T09:26:19.324Z"
   },
   {
    "duration": 39,
    "start_time": "2022-01-27T09:26:24.364Z"
   },
   {
    "duration": 39,
    "start_time": "2022-01-27T09:26:29.087Z"
   },
   {
    "duration": 22,
    "start_time": "2022-01-27T09:26:30.809Z"
   },
   {
    "duration": 20,
    "start_time": "2022-01-27T09:26:31.871Z"
   },
   {
    "duration": 19,
    "start_time": "2022-01-27T09:26:33.272Z"
   },
   {
    "duration": 23,
    "start_time": "2022-01-27T09:26:35.070Z"
   },
   {
    "duration": 22,
    "start_time": "2022-01-27T09:26:36.405Z"
   },
   {
    "duration": 32,
    "start_time": "2022-01-27T09:26:37.446Z"
   },
   {
    "duration": 7,
    "start_time": "2022-01-27T09:26:40.486Z"
   },
   {
    "duration": 5,
    "start_time": "2022-01-27T09:26:42.192Z"
   },
   {
    "duration": 6,
    "start_time": "2022-01-27T09:26:48.107Z"
   },
   {
    "duration": 20,
    "start_time": "2022-01-27T09:26:54.292Z"
   },
   {
    "duration": 20,
    "start_time": "2022-01-27T09:26:58.164Z"
   },
   {
    "duration": 21,
    "start_time": "2022-01-27T09:26:58.832Z"
   },
   {
    "duration": 13,
    "start_time": "2022-01-27T09:26:59.529Z"
   },
   {
    "duration": 15,
    "start_time": "2022-01-27T09:27:00.220Z"
   },
   {
    "duration": 14,
    "start_time": "2022-01-27T09:27:00.429Z"
   },
   {
    "duration": 22,
    "start_time": "2022-01-27T09:27:04.790Z"
   },
   {
    "duration": 12,
    "start_time": "2022-01-27T09:27:05.626Z"
   },
   {
    "duration": 8,
    "start_time": "2022-01-27T09:27:06.317Z"
   },
   {
    "duration": 13,
    "start_time": "2022-01-27T09:27:06.509Z"
   },
   {
    "duration": 44,
    "start_time": "2022-01-27T09:27:06.700Z"
   },
   {
    "duration": 21,
    "start_time": "2022-01-27T09:27:07.405Z"
   },
   {
    "duration": 33,
    "start_time": "2022-01-27T09:27:07.595Z"
   },
   {
    "duration": 575,
    "start_time": "2022-01-27T09:27:08.386Z"
   },
   {
    "duration": 13,
    "start_time": "2022-01-27T09:27:08.964Z"
   },
   {
    "duration": 15,
    "start_time": "2022-01-27T09:27:09.301Z"
   },
   {
    "duration": 1059,
    "start_time": "2022-01-27T09:27:09.710Z"
   },
   {
    "duration": 20,
    "start_time": "2022-01-27T09:27:10.772Z"
   },
   {
    "duration": 15,
    "start_time": "2022-01-27T09:27:10.795Z"
   },
   {
    "duration": 17,
    "start_time": "2022-01-27T09:27:11.579Z"
   },
   {
    "duration": 525,
    "start_time": "2022-01-27T09:27:11.799Z"
   },
   {
    "duration": 67,
    "start_time": "2022-01-27T09:27:12.980Z"
   },
   {
    "duration": 146,
    "start_time": "2022-01-27T09:27:13.049Z"
   },
   {
    "duration": 1218,
    "start_time": "2022-01-27T09:27:13.198Z"
   },
   {
    "duration": 49,
    "start_time": "2022-01-27T09:27:14.419Z"
   },
   {
    "duration": 50,
    "start_time": "2022-01-27T09:27:14.472Z"
   },
   {
    "duration": 70,
    "start_time": "2022-01-27T09:27:14.525Z"
   },
   {
    "duration": 712,
    "start_time": "2022-01-27T09:27:14.769Z"
   },
   {
    "duration": 35,
    "start_time": "2022-01-27T09:27:15.484Z"
   },
   {
    "duration": 22,
    "start_time": "2022-01-27T09:27:15.895Z"
   },
   {
    "duration": 4,
    "start_time": "2022-01-27T09:27:16.140Z"
   },
   {
    "duration": 584,
    "start_time": "2022-01-27T09:27:16.341Z"
   },
   {
    "duration": 17,
    "start_time": "2022-01-27T09:27:20.323Z"
   },
   {
    "duration": 428,
    "start_time": "2022-01-27T09:27:27.981Z"
   },
   {
    "duration": 11,
    "start_time": "2022-01-27T09:27:31.316Z"
   },
   {
    "duration": 438,
    "start_time": "2022-01-27T09:27:31.789Z"
   },
   {
    "duration": 15,
    "start_time": "2022-01-27T09:27:35.802Z"
   },
   {
    "duration": 6,
    "start_time": "2022-01-27T09:27:36.309Z"
   },
   {
    "duration": 16,
    "start_time": "2022-01-27T09:27:38.597Z"
   },
   {
    "duration": 6,
    "start_time": "2022-01-27T09:27:39.028Z"
   },
   {
    "duration": 15,
    "start_time": "2022-01-27T09:27:39.956Z"
   },
   {
    "duration": 6,
    "start_time": "2022-01-27T09:27:40.262Z"
   },
   {
    "duration": 18,
    "start_time": "2022-01-27T09:27:41.628Z"
   },
   {
    "duration": 19,
    "start_time": "2022-01-27T09:27:41.981Z"
   },
   {
    "duration": 15,
    "start_time": "2022-01-27T09:27:42.240Z"
   },
   {
    "duration": 14,
    "start_time": "2022-01-27T09:27:42.501Z"
   },
   {
    "duration": 14,
    "start_time": "2022-01-27T09:27:43.558Z"
   },
   {
    "duration": 15,
    "start_time": "2022-01-27T09:27:43.910Z"
   },
   {
    "duration": 16,
    "start_time": "2022-01-27T09:27:44.268Z"
   },
   {
    "duration": 9,
    "start_time": "2022-01-27T09:38:33.380Z"
   },
   {
    "duration": 22,
    "start_time": "2022-01-27T09:39:43.758Z"
   },
   {
    "duration": 9,
    "start_time": "2022-01-27T09:40:49.378Z"
   },
   {
    "duration": 15,
    "start_time": "2022-01-27T09:40:56.078Z"
   },
   {
    "duration": 11,
    "start_time": "2022-01-27T09:48:29.716Z"
   },
   {
    "duration": 12,
    "start_time": "2022-01-27T09:50:21.687Z"
   },
   {
    "duration": 477,
    "start_time": "2022-01-27T09:51:14.070Z"
   },
   {
    "duration": 12,
    "start_time": "2022-01-27T09:53:09.082Z"
   },
   {
    "duration": 13,
    "start_time": "2022-01-27T09:55:17.495Z"
   },
   {
    "duration": 8,
    "start_time": "2022-01-27T09:55:32.501Z"
   },
   {
    "duration": 7,
    "start_time": "2022-01-27T09:55:40.276Z"
   },
   {
    "duration": 8,
    "start_time": "2022-01-27T09:56:20.369Z"
   },
   {
    "duration": 8,
    "start_time": "2022-01-27T09:56:20.824Z"
   },
   {
    "duration": 3,
    "start_time": "2022-01-27T09:56:44.115Z"
   },
   {
    "duration": 504,
    "start_time": "2022-01-27T09:57:05.532Z"
   },
   {
    "duration": 95,
    "start_time": "2022-01-27T09:57:36.893Z"
   },
   {
    "duration": 3,
    "start_time": "2022-01-27T09:57:47.218Z"
   },
   {
    "duration": 912,
    "start_time": "2022-01-27T09:57:51.113Z"
   },
   {
    "duration": 309,
    "start_time": "2022-01-27T09:59:14.269Z"
   },
   {
    "duration": 13,
    "start_time": "2022-01-27T10:02:04.153Z"
   },
   {
    "duration": 5,
    "start_time": "2022-01-27T10:02:19.722Z"
   },
   {
    "duration": 16,
    "start_time": "2022-01-27T10:03:00.147Z"
   },
   {
    "duration": 13,
    "start_time": "2022-01-27T10:03:55.605Z"
   },
   {
    "duration": 19,
    "start_time": "2022-01-27T10:04:03.423Z"
   },
   {
    "duration": 13,
    "start_time": "2022-01-27T10:04:21.427Z"
   },
   {
    "duration": 10,
    "start_time": "2022-01-27T10:05:17.260Z"
   },
   {
    "duration": 17,
    "start_time": "2022-01-27T10:05:35.076Z"
   },
   {
    "duration": 17,
    "start_time": "2022-01-27T10:06:33.729Z"
   },
   {
    "duration": 6,
    "start_time": "2022-01-27T10:09:05.924Z"
   },
   {
    "duration": 17,
    "start_time": "2022-01-27T10:09:13.720Z"
   },
   {
    "duration": 13,
    "start_time": "2022-01-27T10:10:16.513Z"
   },
   {
    "duration": 1043,
    "start_time": "2022-01-27T10:12:39.272Z"
   },
   {
    "duration": 1219,
    "start_time": "2022-01-27T10:13:08.430Z"
   },
   {
    "duration": 5,
    "start_time": "2022-01-27T10:13:39.304Z"
   },
   {
    "duration": 361,
    "start_time": "2022-01-27T10:14:22.478Z"
   },
   {
    "duration": 12,
    "start_time": "2022-01-27T10:16:01.828Z"
   },
   {
    "duration": 7,
    "start_time": "2022-01-27T10:17:01.963Z"
   },
   {
    "duration": 20,
    "start_time": "2022-01-27T10:17:16.228Z"
   },
   {
    "duration": 14,
    "start_time": "2022-01-27T10:17:48.219Z"
   },
   {
    "duration": 1735,
    "start_time": "2022-01-27T10:25:49.594Z"
   },
   {
    "duration": 5,
    "start_time": "2022-01-27T10:26:10.521Z"
   },
   {
    "duration": 12,
    "start_time": "2022-01-27T10:26:13.664Z"
   },
   {
    "duration": 13,
    "start_time": "2022-01-27T10:27:32.454Z"
   },
   {
    "duration": 4,
    "start_time": "2022-01-27T10:28:32.860Z"
   },
   {
    "duration": 335,
    "start_time": "2022-01-27T10:28:36.967Z"
   },
   {
    "duration": 9,
    "start_time": "2022-01-27T10:29:36.128Z"
   },
   {
    "duration": 3,
    "start_time": "2022-01-27T10:30:49.998Z"
   },
   {
    "duration": 8,
    "start_time": "2022-01-27T10:31:37.139Z"
   },
   {
    "duration": 4,
    "start_time": "2022-01-27T10:45:56.943Z"
   },
   {
    "duration": 4,
    "start_time": "2022-01-27T10:46:20.964Z"
   },
   {
    "duration": 8,
    "start_time": "2022-01-27T10:47:01.593Z"
   },
   {
    "duration": 8,
    "start_time": "2022-01-27T10:47:27.085Z"
   },
   {
    "duration": 300,
    "start_time": "2022-01-27T10:49:01.431Z"
   },
   {
    "duration": 424,
    "start_time": "2022-01-27T10:49:52.244Z"
   },
   {
    "duration": 10,
    "start_time": "2022-01-27T10:50:02.129Z"
   },
   {
    "duration": 10,
    "start_time": "2022-01-27T11:16:27.733Z"
   },
   {
    "duration": 24,
    "start_time": "2022-01-27T11:16:56.254Z"
   },
   {
    "duration": 10,
    "start_time": "2022-01-27T11:17:14.079Z"
   },
   {
    "duration": 9,
    "start_time": "2022-01-27T11:17:52.130Z"
   },
   {
    "duration": 11,
    "start_time": "2022-01-27T11:18:35.556Z"
   },
   {
    "duration": 14,
    "start_time": "2022-01-27T11:19:10.001Z"
   },
   {
    "duration": 16,
    "start_time": "2022-01-27T11:19:26.886Z"
   },
   {
    "duration": 6,
    "start_time": "2022-01-27T11:19:59.834Z"
   },
   {
    "duration": 16,
    "start_time": "2022-01-27T11:20:02.058Z"
   },
   {
    "duration": 14,
    "start_time": "2022-01-27T11:20:32.109Z"
   },
   {
    "duration": 4,
    "start_time": "2022-01-27T11:21:09.420Z"
   },
   {
    "duration": 13,
    "start_time": "2022-01-27T11:21:12.448Z"
   },
   {
    "duration": 4,
    "start_time": "2022-01-27T11:22:02.869Z"
   },
   {
    "duration": 3711,
    "start_time": "2022-01-27T11:24:07.465Z"
   },
   {
    "duration": 4,
    "start_time": "2022-01-27T11:24:13.677Z"
   },
   {
    "duration": 50,
    "start_time": "2022-01-27T11:24:16.057Z"
   },
   {
    "duration": 26,
    "start_time": "2022-01-27T11:24:17.140Z"
   },
   {
    "duration": 28,
    "start_time": "2022-01-27T11:24:18.461Z"
   },
   {
    "duration": 23,
    "start_time": "2022-01-27T11:24:20.222Z"
   },
   {
    "duration": 22,
    "start_time": "2022-01-27T11:24:20.981Z"
   },
   {
    "duration": 26,
    "start_time": "2022-01-27T11:24:21.837Z"
   },
   {
    "duration": 40,
    "start_time": "2022-01-27T11:24:24.313Z"
   },
   {
    "duration": 39,
    "start_time": "2022-01-27T11:24:24.693Z"
   },
   {
    "duration": 22,
    "start_time": "2022-01-27T11:24:25.017Z"
   },
   {
    "duration": 21,
    "start_time": "2022-01-27T11:24:26.436Z"
   },
   {
    "duration": 18,
    "start_time": "2022-01-27T11:24:26.460Z"
   },
   {
    "duration": 23,
    "start_time": "2022-01-27T11:24:26.481Z"
   },
   {
    "duration": 24,
    "start_time": "2022-01-27T11:24:26.654Z"
   },
   {
    "duration": 29,
    "start_time": "2022-01-27T11:24:27.037Z"
   },
   {
    "duration": 5,
    "start_time": "2022-01-27T11:24:27.580Z"
   },
   {
    "duration": 4,
    "start_time": "2022-01-27T11:24:27.946Z"
   },
   {
    "duration": 6,
    "start_time": "2022-01-27T11:24:28.126Z"
   },
   {
    "duration": 25,
    "start_time": "2022-01-27T11:24:28.292Z"
   },
   {
    "duration": 21,
    "start_time": "2022-01-27T11:24:28.672Z"
   },
   {
    "duration": 25,
    "start_time": "2022-01-27T11:24:28.864Z"
   },
   {
    "duration": 10,
    "start_time": "2022-01-27T11:24:29.417Z"
   },
   {
    "duration": 13,
    "start_time": "2022-01-27T11:24:29.606Z"
   },
   {
    "duration": 14,
    "start_time": "2022-01-27T11:24:29.792Z"
   },
   {
    "duration": 31,
    "start_time": "2022-01-27T11:24:30.636Z"
   },
   {
    "duration": 14,
    "start_time": "2022-01-27T11:24:30.984Z"
   },
   {
    "duration": 8,
    "start_time": "2022-01-27T11:24:31.308Z"
   },
   {
    "duration": 14,
    "start_time": "2022-01-27T11:24:31.480Z"
   },
   {
    "duration": 37,
    "start_time": "2022-01-27T11:24:31.652Z"
   },
   {
    "duration": 20,
    "start_time": "2022-01-27T11:24:32.162Z"
   },
   {
    "duration": 37,
    "start_time": "2022-01-27T11:24:32.323Z"
   },
   {
    "duration": 4,
    "start_time": "2022-01-27T11:24:33.026Z"
   },
   {
    "duration": 12,
    "start_time": "2022-01-27T11:24:33.217Z"
   },
   {
    "duration": 15,
    "start_time": "2022-01-27T11:24:33.370Z"
   },
   {
    "duration": 1103,
    "start_time": "2022-01-27T11:24:33.836Z"
   },
   {
    "duration": 21,
    "start_time": "2022-01-27T11:24:34.950Z"
   },
   {
    "duration": 18,
    "start_time": "2022-01-27T11:24:34.974Z"
   },
   {
    "duration": 19,
    "start_time": "2022-01-27T11:24:35.356Z"
   },
   {
    "duration": 573,
    "start_time": "2022-01-27T11:24:35.564Z"
   },
   {
    "duration": 61,
    "start_time": "2022-01-27T11:24:36.159Z"
   },
   {
    "duration": 79,
    "start_time": "2022-01-27T11:24:36.342Z"
   },
   {
    "duration": 1226,
    "start_time": "2022-01-27T11:24:36.548Z"
   },
   {
    "duration": 35,
    "start_time": "2022-01-27T11:24:37.777Z"
   },
   {
    "duration": 79,
    "start_time": "2022-01-27T11:24:37.815Z"
   },
   {
    "duration": 66,
    "start_time": "2022-01-27T11:24:37.897Z"
   },
   {
    "duration": 876,
    "start_time": "2022-01-27T11:24:38.115Z"
   },
   {
    "duration": 55,
    "start_time": "2022-01-27T11:24:38.993Z"
   },
   {
    "duration": 21,
    "start_time": "2022-01-27T11:24:39.051Z"
   },
   {
    "duration": 4,
    "start_time": "2022-01-27T11:24:39.231Z"
   },
   {
    "duration": 687,
    "start_time": "2022-01-27T11:24:39.428Z"
   },
   {
    "duration": 17,
    "start_time": "2022-01-27T11:24:40.606Z"
   },
   {
    "duration": 474,
    "start_time": "2022-01-27T11:24:40.842Z"
   },
   {
    "duration": 12,
    "start_time": "2022-01-27T11:24:41.319Z"
   },
   {
    "duration": 447,
    "start_time": "2022-01-27T11:24:41.392Z"
   },
   {
    "duration": 16,
    "start_time": "2022-01-27T11:24:42.153Z"
   },
   {
    "duration": 7,
    "start_time": "2022-01-27T11:24:42.337Z"
   },
   {
    "duration": 16,
    "start_time": "2022-01-27T11:24:42.724Z"
   },
   {
    "duration": 6,
    "start_time": "2022-01-27T11:24:42.972Z"
   },
   {
    "duration": 17,
    "start_time": "2022-01-27T11:24:43.309Z"
   },
   {
    "duration": 6,
    "start_time": "2022-01-27T11:24:43.472Z"
   },
   {
    "duration": 18,
    "start_time": "2022-01-27T11:24:44.214Z"
   },
   {
    "duration": 15,
    "start_time": "2022-01-27T11:24:44.404Z"
   },
   {
    "duration": 15,
    "start_time": "2022-01-27T11:24:44.590Z"
   },
   {
    "duration": 15,
    "start_time": "2022-01-27T11:24:44.778Z"
   },
   {
    "duration": 18,
    "start_time": "2022-01-27T11:24:45.400Z"
   },
   {
    "duration": 15,
    "start_time": "2022-01-27T11:24:45.741Z"
   },
   {
    "duration": 15,
    "start_time": "2022-01-27T11:24:45.779Z"
   },
   {
    "duration": 15,
    "start_time": "2022-01-27T11:24:46.693Z"
   },
   {
    "duration": 17,
    "start_time": "2022-01-27T11:24:47.324Z"
   },
   {
    "duration": 6,
    "start_time": "2022-01-27T11:24:47.601Z"
   },
   {
    "duration": 16,
    "start_time": "2022-01-27T11:24:48.074Z"
   },
   {
    "duration": 13,
    "start_time": "2022-01-27T11:24:48.212Z"
   },
   {
    "duration": 5,
    "start_time": "2022-01-27T11:24:48.389Z"
   },
   {
    "duration": 13,
    "start_time": "2022-01-27T11:24:48.561Z"
   },
   {
    "duration": 14,
    "start_time": "2022-01-27T11:24:48.742Z"
   },
   {
    "duration": 17,
    "start_time": "2022-01-27T11:24:48.914Z"
   },
   {
    "duration": 8,
    "start_time": "2022-01-27T11:24:49.122Z"
   },
   {
    "duration": 17,
    "start_time": "2022-01-27T11:24:49.312Z"
   },
   {
    "duration": 12,
    "start_time": "2022-01-27T11:24:49.505Z"
   },
   {
    "duration": 5,
    "start_time": "2022-01-27T11:24:49.676Z"
   },
   {
    "duration": 12,
    "start_time": "2022-01-27T11:24:49.854Z"
   },
   {
    "duration": 4,
    "start_time": "2022-01-27T11:24:50.070Z"
   },
   {
    "duration": 4,
    "start_time": "2022-01-27T11:24:50.903Z"
   },
   {
    "duration": 4,
    "start_time": "2022-01-27T11:24:51.999Z"
   },
   {
    "duration": 7,
    "start_time": "2022-01-27T11:24:52.172Z"
   },
   {
    "duration": 3,
    "start_time": "2022-01-27T11:24:52.764Z"
   },
   {
    "duration": 7,
    "start_time": "2022-01-27T11:24:53.305Z"
   },
   {
    "duration": 22,
    "start_time": "2022-01-27T11:24:55.506Z"
   },
   {
    "duration": 16,
    "start_time": "2022-01-27T11:24:59.840Z"
   },
   {
    "duration": 17,
    "start_time": "2022-01-27T11:25:03.668Z"
   },
   {
    "duration": 7,
    "start_time": "2022-01-27T11:25:05.713Z"
   },
   {
    "duration": 19,
    "start_time": "2022-01-27T11:25:06.749Z"
   },
   {
    "duration": 417,
    "start_time": "2022-01-27T11:26:03.078Z"
   },
   {
    "duration": 8,
    "start_time": "2022-01-27T11:26:08.456Z"
   },
   {
    "duration": 15,
    "start_time": "2022-01-27T11:26:23.402Z"
   },
   {
    "duration": 19,
    "start_time": "2022-01-27T11:26:26.264Z"
   },
   {
    "duration": 6,
    "start_time": "2022-01-27T11:26:29.798Z"
   },
   {
    "duration": 19,
    "start_time": "2022-01-27T11:26:32.273Z"
   },
   {
    "duration": 14,
    "start_time": "2022-01-27T11:26:38.909Z"
   },
   {
    "duration": 5,
    "start_time": "2022-01-27T11:26:41.165Z"
   },
   {
    "duration": 12,
    "start_time": "2022-01-27T11:26:44.188Z"
   },
   {
    "duration": 3,
    "start_time": "2022-01-27T11:26:51.456Z"
   },
   {
    "duration": 14,
    "start_time": "2022-01-27T11:28:44.925Z"
   },
   {
    "duration": 17,
    "start_time": "2022-01-27T11:28:58.550Z"
   },
   {
    "duration": 6,
    "start_time": "2022-01-27T11:29:23.134Z"
   },
   {
    "duration": 19,
    "start_time": "2022-01-27T11:29:25.434Z"
   },
   {
    "duration": 13,
    "start_time": "2022-01-27T11:29:35.926Z"
   },
   {
    "duration": 4,
    "start_time": "2022-01-27T11:30:10.092Z"
   },
   {
    "duration": 13,
    "start_time": "2022-01-27T11:30:20.352Z"
   },
   {
    "duration": 4,
    "start_time": "2022-01-27T11:31:13.372Z"
   },
   {
    "duration": 351,
    "start_time": "2022-01-27T11:32:00.058Z"
   },
   {
    "duration": 4,
    "start_time": "2022-01-27T11:32:43.535Z"
   },
   {
    "duration": 3,
    "start_time": "2022-01-27T11:32:43.978Z"
   },
   {
    "duration": 8,
    "start_time": "2022-01-27T11:32:44.584Z"
   },
   {
    "duration": 4,
    "start_time": "2022-01-27T11:33:50.878Z"
   },
   {
    "duration": 6,
    "start_time": "2022-01-27T11:33:51.292Z"
   },
   {
    "duration": 6,
    "start_time": "2022-01-27T11:35:18.189Z"
   },
   {
    "duration": 4,
    "start_time": "2022-01-27T11:36:34.162Z"
   },
   {
    "duration": 3109,
    "start_time": "2022-01-27T11:36:36.329Z"
   },
   {
    "duration": -523,
    "start_time": "2022-01-27T11:36:39.964Z"
   },
   {
    "duration": 2778,
    "start_time": "2022-01-27T11:36:56.254Z"
   },
   {
    "duration": 9,
    "start_time": "2022-01-27T11:37:22.421Z"
   },
   {
    "duration": 2792,
    "start_time": "2022-01-27T11:37:37.337Z"
   },
   {
    "duration": 3401,
    "start_time": "2022-01-27T11:38:13.098Z"
   },
   {
    "duration": 4,
    "start_time": "2022-01-27T11:38:16.502Z"
   },
   {
    "duration": 51,
    "start_time": "2022-01-27T11:38:16.509Z"
   },
   {
    "duration": 19,
    "start_time": "2022-01-27T11:38:16.563Z"
   },
   {
    "duration": 24,
    "start_time": "2022-01-27T11:38:16.585Z"
   },
   {
    "duration": 45,
    "start_time": "2022-01-27T11:38:16.612Z"
   },
   {
    "duration": 20,
    "start_time": "2022-01-27T11:38:16.659Z"
   },
   {
    "duration": 28,
    "start_time": "2022-01-27T11:38:16.683Z"
   },
   {
    "duration": 41,
    "start_time": "2022-01-27T11:38:21.540Z"
   },
   {
    "duration": 39,
    "start_time": "2022-01-27T11:38:21.849Z"
   },
   {
    "duration": 23,
    "start_time": "2022-01-27T11:38:22.518Z"
   },
   {
    "duration": 21,
    "start_time": "2022-01-27T11:38:22.543Z"
   },
   {
    "duration": 20,
    "start_time": "2022-01-27T11:38:22.879Z"
   },
   {
    "duration": 23,
    "start_time": "2022-01-27T11:38:23.340Z"
   },
   {
    "duration": 25,
    "start_time": "2022-01-27T11:38:23.810Z"
   },
   {
    "duration": 25,
    "start_time": "2022-01-27T11:38:24.199Z"
   },
   {
    "duration": 6,
    "start_time": "2022-01-27T11:38:25.008Z"
   },
   {
    "duration": 14,
    "start_time": "2022-01-27T11:38:25.016Z"
   },
   {
    "duration": 6,
    "start_time": "2022-01-27T11:38:25.058Z"
   },
   {
    "duration": 21,
    "start_time": "2022-01-27T11:38:25.638Z"
   },
   {
    "duration": 20,
    "start_time": "2022-01-27T11:38:25.662Z"
   },
   {
    "duration": 21,
    "start_time": "2022-01-27T11:38:25.730Z"
   },
   {
    "duration": 10,
    "start_time": "2022-01-27T11:38:26.051Z"
   },
   {
    "duration": 18,
    "start_time": "2022-01-27T11:38:26.765Z"
   },
   {
    "duration": 17,
    "start_time": "2022-01-27T11:38:26.786Z"
   },
   {
    "duration": 22,
    "start_time": "2022-01-27T11:38:27.250Z"
   },
   {
    "duration": 12,
    "start_time": "2022-01-27T11:38:27.560Z"
   },
   {
    "duration": 8,
    "start_time": "2022-01-27T11:38:27.890Z"
   },
   {
    "duration": 14,
    "start_time": "2022-01-27T11:38:28.100Z"
   },
   {
    "duration": 34,
    "start_time": "2022-01-27T11:38:28.230Z"
   },
   {
    "duration": 21,
    "start_time": "2022-01-27T11:38:28.781Z"
   },
   {
    "duration": 34,
    "start_time": "2022-01-27T11:38:29.000Z"
   },
   {
    "duration": 3,
    "start_time": "2022-01-27T11:38:29.730Z"
   },
   {
    "duration": 11,
    "start_time": "2022-01-27T11:38:29.920Z"
   },
   {
    "duration": 15,
    "start_time": "2022-01-27T11:38:30.059Z"
   },
   {
    "duration": 1114,
    "start_time": "2022-01-27T11:38:30.440Z"
   },
   {
    "duration": 20,
    "start_time": "2022-01-27T11:38:31.557Z"
   },
   {
    "duration": 17,
    "start_time": "2022-01-27T11:38:31.580Z"
   },
   {
    "duration": 20,
    "start_time": "2022-01-27T11:38:32.248Z"
   },
   {
    "duration": 566,
    "start_time": "2022-01-27T11:38:32.271Z"
   },
   {
    "duration": 69,
    "start_time": "2022-01-27T11:38:32.839Z"
   },
   {
    "duration": 75,
    "start_time": "2022-01-27T11:38:33.060Z"
   },
   {
    "duration": 1360,
    "start_time": "2022-01-27T11:38:33.300Z"
   },
   {
    "duration": 34,
    "start_time": "2022-01-27T11:38:34.663Z"
   },
   {
    "duration": 59,
    "start_time": "2022-01-27T11:38:34.809Z"
   },
   {
    "duration": 51,
    "start_time": "2022-01-27T11:38:35.190Z"
   },
   {
    "duration": 751,
    "start_time": "2022-01-27T11:38:35.590Z"
   },
   {
    "duration": 35,
    "start_time": "2022-01-27T11:38:36.344Z"
   },
   {
    "duration": 20,
    "start_time": "2022-01-27T11:38:36.509Z"
   },
   {
    "duration": 4,
    "start_time": "2022-01-27T11:38:36.629Z"
   },
   {
    "duration": 586,
    "start_time": "2022-01-27T11:38:36.800Z"
   },
   {
    "duration": 17,
    "start_time": "2022-01-27T11:38:38.020Z"
   },
   {
    "duration": 580,
    "start_time": "2022-01-27T11:38:38.219Z"
   },
   {
    "duration": 13,
    "start_time": "2022-01-27T11:38:38.802Z"
   },
   {
    "duration": 498,
    "start_time": "2022-01-27T11:38:38.818Z"
   },
   {
    "duration": 16,
    "start_time": "2022-01-27T11:38:39.489Z"
   },
   {
    "duration": 6,
    "start_time": "2022-01-27T11:38:39.699Z"
   },
   {
    "duration": 14,
    "start_time": "2022-01-27T11:38:40.019Z"
   },
   {
    "duration": 6,
    "start_time": "2022-01-27T11:38:40.259Z"
   },
   {
    "duration": 16,
    "start_time": "2022-01-27T11:38:41.269Z"
   },
   {
    "duration": 7,
    "start_time": "2022-01-27T11:38:41.409Z"
   },
   {
    "duration": 23,
    "start_time": "2022-01-27T11:38:42.180Z"
   },
   {
    "duration": 14,
    "start_time": "2022-01-27T11:38:42.433Z"
   },
   {
    "duration": 16,
    "start_time": "2022-01-27T11:38:42.570Z"
   },
   {
    "duration": 16,
    "start_time": "2022-01-27T11:38:43.448Z"
   },
   {
    "duration": 14,
    "start_time": "2022-01-27T11:38:43.467Z"
   },
   {
    "duration": 16,
    "start_time": "2022-01-27T11:38:43.877Z"
   },
   {
    "duration": 19,
    "start_time": "2022-01-27T11:38:43.895Z"
   },
   {
    "duration": 15,
    "start_time": "2022-01-27T11:38:46.149Z"
   },
   {
    "duration": 17,
    "start_time": "2022-01-27T11:38:46.290Z"
   },
   {
    "duration": 5,
    "start_time": "2022-01-27T11:38:46.800Z"
   },
   {
    "duration": 18,
    "start_time": "2022-01-27T11:38:47.030Z"
   },
   {
    "duration": 13,
    "start_time": "2022-01-27T11:38:48.896Z"
   },
   {
    "duration": 9,
    "start_time": "2022-01-27T11:38:48.913Z"
   },
   {
    "duration": 12,
    "start_time": "2022-01-27T11:38:51.199Z"
   },
   {
    "duration": 18,
    "start_time": "2022-01-27T11:38:53.293Z"
   },
   {
    "duration": 19,
    "start_time": "2022-01-27T11:38:53.315Z"
   },
   {
    "duration": 6,
    "start_time": "2022-01-27T11:38:53.341Z"
   },
   {
    "duration": 20,
    "start_time": "2022-01-27T11:38:53.500Z"
   },
   {
    "duration": 13,
    "start_time": "2022-01-27T11:38:53.699Z"
   },
   {
    "duration": 6,
    "start_time": "2022-01-27T11:39:04.268Z"
   },
   {
    "duration": 17,
    "start_time": "2022-01-27T11:39:04.277Z"
   },
   {
    "duration": 4,
    "start_time": "2022-01-27T11:39:04.377Z"
   },
   {
    "duration": 15,
    "start_time": "2022-01-27T11:39:04.384Z"
   },
   {
    "duration": 6,
    "start_time": "2022-01-27T11:39:04.403Z"
   },
   {
    "duration": 13,
    "start_time": "2022-01-27T11:39:04.414Z"
   },
   {
    "duration": 7,
    "start_time": "2022-01-27T11:39:04.430Z"
   },
   {
    "duration": 8,
    "start_time": "2022-01-27T11:39:04.478Z"
   },
   {
    "duration": 31,
    "start_time": "2022-01-27T11:39:04.488Z"
   },
   {
    "duration": 11,
    "start_time": "2022-01-27T11:39:04.523Z"
   },
   {
    "duration": 18,
    "start_time": "2022-01-27T11:39:04.536Z"
   },
   {
    "duration": 16,
    "start_time": "2022-01-27T11:39:04.557Z"
   },
   {
    "duration": 8,
    "start_time": "2022-01-27T11:39:04.575Z"
   },
   {
    "duration": 24,
    "start_time": "2022-01-27T11:39:04.585Z"
   },
   {
    "duration": 37,
    "start_time": "2022-01-27T11:39:04.612Z"
   },
   {
    "duration": 5,
    "start_time": "2022-01-27T11:39:04.654Z"
   },
   {
    "duration": 13,
    "start_time": "2022-01-27T11:39:18.268Z"
   },
   {
    "duration": 5,
    "start_time": "2022-01-27T11:39:44.160Z"
   },
   {
    "duration": 2932,
    "start_time": "2022-01-27T11:40:03.470Z"
   },
   {
    "duration": 3471,
    "start_time": "2022-01-27T12:08:23.361Z"
   },
   {
    "duration": 5,
    "start_time": "2022-01-27T12:08:26.835Z"
   },
   {
    "duration": 52,
    "start_time": "2022-01-27T12:08:26.843Z"
   },
   {
    "duration": 20,
    "start_time": "2022-01-27T12:08:26.897Z"
   },
   {
    "duration": 33,
    "start_time": "2022-01-27T12:08:26.920Z"
   },
   {
    "duration": 20,
    "start_time": "2022-01-27T12:08:26.956Z"
   },
   {
    "duration": 23,
    "start_time": "2022-01-27T12:08:26.979Z"
   },
   {
    "duration": 54,
    "start_time": "2022-01-27T12:08:27.005Z"
   },
   {
    "duration": 40,
    "start_time": "2022-01-27T12:08:27.062Z"
   },
   {
    "duration": 66,
    "start_time": "2022-01-27T12:08:27.104Z"
   },
   {
    "duration": 22,
    "start_time": "2022-01-27T12:08:27.351Z"
   },
   {
    "duration": 20,
    "start_time": "2022-01-27T12:08:28.133Z"
   },
   {
    "duration": 21,
    "start_time": "2022-01-27T12:08:29.944Z"
   },
   {
    "duration": 34,
    "start_time": "2022-01-27T12:08:31.406Z"
   },
   {
    "duration": 30,
    "start_time": "2022-01-27T12:08:33.632Z"
   },
   {
    "duration": 24,
    "start_time": "2022-01-27T12:08:35.441Z"
   },
   {
    "duration": 6,
    "start_time": "2022-01-27T12:08:37.052Z"
   },
   {
    "duration": 5,
    "start_time": "2022-01-27T12:08:38.389Z"
   },
   {
    "duration": 6,
    "start_time": "2022-01-27T12:08:38.931Z"
   },
   {
    "duration": 20,
    "start_time": "2022-01-27T12:08:39.286Z"
   },
   {
    "duration": 19,
    "start_time": "2022-01-27T12:08:40.634Z"
   },
   {
    "duration": 21,
    "start_time": "2022-01-27T12:08:40.991Z"
   },
   {
    "duration": 9,
    "start_time": "2022-01-27T12:08:41.327Z"
   },
   {
    "duration": 15,
    "start_time": "2022-01-27T12:08:41.866Z"
   },
   {
    "duration": 13,
    "start_time": "2022-01-27T12:08:41.995Z"
   },
   {
    "duration": 26,
    "start_time": "2022-01-27T12:08:45.723Z"
   },
   {
    "duration": 12,
    "start_time": "2022-01-27T12:08:46.979Z"
   },
   {
    "duration": 9,
    "start_time": "2022-01-27T12:08:48.381Z"
   },
   {
    "duration": 16,
    "start_time": "2022-01-27T12:08:48.559Z"
   },
   {
    "duration": 37,
    "start_time": "2022-01-27T12:08:48.727Z"
   },
   {
    "duration": 21,
    "start_time": "2022-01-27T12:08:49.282Z"
   },
   {
    "duration": 37,
    "start_time": "2022-01-27T12:08:49.438Z"
   },
   {
    "duration": 3,
    "start_time": "2022-01-27T12:08:50.144Z"
   },
   {
    "duration": 12,
    "start_time": "2022-01-27T12:08:50.269Z"
   },
   {
    "duration": 14,
    "start_time": "2022-01-27T12:08:50.460Z"
   },
   {
    "duration": 1088,
    "start_time": "2022-01-27T12:08:50.856Z"
   },
   {
    "duration": 21,
    "start_time": "2022-01-27T12:08:51.949Z"
   },
   {
    "duration": 17,
    "start_time": "2022-01-27T12:08:51.973Z"
   },
   {
    "duration": 19,
    "start_time": "2022-01-27T12:08:52.305Z"
   },
   {
    "duration": 522,
    "start_time": "2022-01-27T12:08:52.488Z"
   },
   {
    "duration": 56,
    "start_time": "2022-01-27T12:08:53.260Z"
   },
   {
    "duration": 76,
    "start_time": "2022-01-27T12:08:53.441Z"
   },
   {
    "duration": 1416,
    "start_time": "2022-01-27T12:08:53.642Z"
   },
   {
    "duration": 34,
    "start_time": "2022-01-27T12:08:55.061Z"
   },
   {
    "duration": 79,
    "start_time": "2022-01-27T12:08:55.098Z"
   },
   {
    "duration": 50,
    "start_time": "2022-01-27T12:08:56.831Z"
   },
   {
    "duration": 815,
    "start_time": "2022-01-27T12:08:56.885Z"
   },
   {
    "duration": 49,
    "start_time": "2022-01-27T12:08:57.703Z"
   },
   {
    "duration": 22,
    "start_time": "2022-01-27T12:08:57.755Z"
   },
   {
    "duration": 4,
    "start_time": "2022-01-27T12:08:57.779Z"
   },
   {
    "duration": 593,
    "start_time": "2022-01-27T12:08:57.786Z"
   },
   {
    "duration": 17,
    "start_time": "2022-01-27T12:08:58.693Z"
   },
   {
    "duration": 465,
    "start_time": "2022-01-27T12:08:59.329Z"
   },
   {
    "duration": 10,
    "start_time": "2022-01-27T12:08:59.804Z"
   },
   {
    "duration": 431,
    "start_time": "2022-01-27T12:09:00.072Z"
   },
   {
    "duration": 15,
    "start_time": "2022-01-27T12:09:02.420Z"
   },
   {
    "duration": 7,
    "start_time": "2022-01-27T12:09:02.665Z"
   },
   {
    "duration": 15,
    "start_time": "2022-01-27T12:09:02.994Z"
   },
   {
    "duration": 7,
    "start_time": "2022-01-27T12:09:03.228Z"
   },
   {
    "duration": 15,
    "start_time": "2022-01-27T12:09:03.575Z"
   },
   {
    "duration": 8,
    "start_time": "2022-01-27T12:09:03.745Z"
   },
   {
    "duration": 19,
    "start_time": "2022-01-27T12:09:04.718Z"
   },
   {
    "duration": 14,
    "start_time": "2022-01-27T12:09:08.033Z"
   },
   {
    "duration": 146,
    "start_time": "2022-01-27T12:09:08.050Z"
   },
   {
    "duration": 14,
    "start_time": "2022-01-27T12:09:08.199Z"
   },
   {
    "duration": 39,
    "start_time": "2022-01-27T12:09:08.215Z"
   },
   {
    "duration": 14,
    "start_time": "2022-01-27T12:09:08.324Z"
   },
   {
    "duration": 15,
    "start_time": "2022-01-27T12:09:08.566Z"
   },
   {
    "duration": 15,
    "start_time": "2022-01-27T12:09:11.395Z"
   },
   {
    "duration": 18,
    "start_time": "2022-01-27T12:09:11.763Z"
   },
   {
    "duration": 6,
    "start_time": "2022-01-27T12:09:11.955Z"
   },
   {
    "duration": 17,
    "start_time": "2022-01-27T12:09:12.669Z"
   },
   {
    "duration": 14,
    "start_time": "2022-01-27T12:09:12.824Z"
   },
   {
    "duration": 6,
    "start_time": "2022-01-27T12:09:13.015Z"
   },
   {
    "duration": 12,
    "start_time": "2022-01-27T12:09:13.405Z"
   },
   {
    "duration": 16,
    "start_time": "2022-01-27T12:09:14.026Z"
   },
   {
    "duration": 18,
    "start_time": "2022-01-27T12:09:14.194Z"
   },
   {
    "duration": 7,
    "start_time": "2022-01-27T12:09:14.365Z"
   },
   {
    "duration": 18,
    "start_time": "2022-01-27T12:09:14.790Z"
   },
   {
    "duration": 13,
    "start_time": "2022-01-27T12:09:14.925Z"
   },
   {
    "duration": 6,
    "start_time": "2022-01-27T12:09:15.067Z"
   },
   {
    "duration": 17,
    "start_time": "2022-01-27T12:09:15.610Z"
   },
   {
    "duration": 3,
    "start_time": "2022-01-27T12:09:15.757Z"
   },
   {
    "duration": 4,
    "start_time": "2022-01-27T12:09:18.094Z"
   },
   {
    "duration": 4,
    "start_time": "2022-01-27T12:09:18.729Z"
   },
   {
    "duration": 8,
    "start_time": "2022-01-27T12:09:19.169Z"
   },
   {
    "duration": 4,
    "start_time": "2022-01-27T12:09:26.433Z"
   },
   {
    "duration": 8,
    "start_time": "2022-01-27T12:09:27.117Z"
   },
   {
    "duration": 21,
    "start_time": "2022-01-27T12:09:36.815Z"
   },
   {
    "duration": 9,
    "start_time": "2022-01-27T12:09:38.766Z"
   },
   {
    "duration": 14,
    "start_time": "2022-01-27T12:09:40.765Z"
   },
   {
    "duration": 17,
    "start_time": "2022-01-27T12:09:41.707Z"
   },
   {
    "duration": 6,
    "start_time": "2022-01-27T12:09:42.526Z"
   },
   {
    "duration": 19,
    "start_time": "2022-01-27T12:09:43.568Z"
   },
   {
    "duration": 17,
    "start_time": "2022-01-27T12:09:45.656Z"
   },
   {
    "duration": 5,
    "start_time": "2022-01-27T12:09:45.882Z"
   },
   {
    "duration": 13,
    "start_time": "2022-01-27T12:09:48.873Z"
   },
   {
    "duration": 6,
    "start_time": "2022-01-27T12:09:49.755Z"
   },
   {
    "duration": 19,
    "start_time": "2022-01-27T12:09:50.383Z"
   },
   {
    "duration": 22,
    "start_time": "2022-01-27T12:09:53.136Z"
   },
   {
    "duration": 6,
    "start_time": "2022-01-27T12:09:57.375Z"
   },
   {
    "duration": 17,
    "start_time": "2022-01-27T12:09:57.872Z"
   },
   {
    "duration": 12,
    "start_time": "2022-01-27T12:09:59.299Z"
   },
   {
    "duration": 4,
    "start_time": "2022-01-27T12:10:05.054Z"
   },
   {
    "duration": 19,
    "start_time": "2022-01-27T12:10:08.749Z"
   },
   {
    "duration": 5,
    "start_time": "2022-01-27T12:10:32.742Z"
   },
   {
    "duration": 4,
    "start_time": "2022-01-27T12:10:45.173Z"
   },
   {
    "duration": 7,
    "start_time": "2022-01-27T12:10:45.905Z"
   },
   {
    "duration": 7,
    "start_time": "2022-01-27T12:11:39.989Z"
   },
   {
    "duration": 8,
    "start_time": "2022-01-27T12:11:54.007Z"
   },
   {
    "duration": 294,
    "start_time": "2022-01-27T12:12:11.850Z"
   },
   {
    "duration": 7,
    "start_time": "2022-01-27T12:12:44.862Z"
   },
   {
    "duration": 7240,
    "start_time": "2022-01-27T17:07:39.478Z"
   },
   {
    "duration": 410,
    "start_time": "2022-01-27T17:07:46.720Z"
   },
   {
    "duration": 37,
    "start_time": "2022-01-27T17:07:47.132Z"
   },
   {
    "duration": 12,
    "start_time": "2022-01-27T17:07:50.229Z"
   },
   {
    "duration": 686,
    "start_time": "2022-01-27T17:07:53.794Z"
   },
   {
    "duration": 13,
    "start_time": "2022-01-27T17:07:58.409Z"
   },
   {
    "duration": 12,
    "start_time": "2022-01-27T17:07:59.844Z"
   },
   {
    "duration": 14,
    "start_time": "2022-01-27T17:08:00.675Z"
   },
   {
    "duration": 24,
    "start_time": "2022-01-27T17:08:12.253Z"
   },
   {
    "duration": 23,
    "start_time": "2022-01-27T17:08:20.421Z"
   },
   {
    "duration": 131416,
    "start_time": "2022-01-28T22:19:42.582Z"
   },
   {
    "duration": 671,
    "start_time": "2022-01-28T22:21:54.001Z"
   },
   {
    "duration": 41,
    "start_time": "2022-01-28T22:21:54.675Z"
   },
   {
    "duration": 25,
    "start_time": "2022-01-28T22:21:54.719Z"
   },
   {
    "duration": 99145,
    "start_time": "2022-01-28T22:21:54.746Z"
   },
   {
    "duration": 39,
    "start_time": "2022-01-28T22:23:33.894Z"
   },
   {
    "duration": 30,
    "start_time": "2022-01-28T22:23:33.936Z"
   },
   {
    "duration": 24,
    "start_time": "2022-01-28T22:23:33.969Z"
   },
   {
    "duration": 65,
    "start_time": "2022-01-28T22:23:33.997Z"
   },
   {
    "duration": 37,
    "start_time": "2022-01-28T22:23:34.065Z"
   },
   {
    "duration": 44,
    "start_time": "2022-01-28T22:23:34.105Z"
   },
   {
    "duration": 18,
    "start_time": "2022-01-28T22:23:34.151Z"
   },
   {
    "duration": 16,
    "start_time": "2022-01-28T22:23:34.171Z"
   },
   {
    "duration": 62,
    "start_time": "2022-01-28T22:23:34.189Z"
   },
   {
    "duration": 23,
    "start_time": "2022-01-28T22:23:34.253Z"
   },
   {
    "duration": 62,
    "start_time": "2022-01-28T22:23:34.279Z"
   },
   {
    "duration": 5,
    "start_time": "2022-01-28T22:23:34.344Z"
   },
   {
    "duration": 6,
    "start_time": "2022-01-28T22:23:34.351Z"
   },
   {
    "duration": 8,
    "start_time": "2022-01-28T22:23:34.360Z"
   },
   {
    "duration": 19,
    "start_time": "2022-01-28T22:23:34.371Z"
   },
   {
    "duration": 55,
    "start_time": "2022-01-28T22:23:34.392Z"
   },
   {
    "duration": 19,
    "start_time": "2022-01-28T22:23:34.449Z"
   },
   {
    "duration": 11,
    "start_time": "2022-01-28T22:23:34.470Z"
   },
   {
    "duration": 48,
    "start_time": "2022-01-28T22:23:34.483Z"
   },
   {
    "duration": 13,
    "start_time": "2022-01-28T22:23:34.535Z"
   },
   {
    "duration": 23,
    "start_time": "2022-01-28T22:23:34.550Z"
   },
   {
    "duration": 11,
    "start_time": "2022-01-28T22:23:34.579Z"
   },
   {
    "duration": 50,
    "start_time": "2022-01-28T22:23:34.594Z"
   },
   {
    "duration": 13,
    "start_time": "2022-01-28T22:23:34.646Z"
   },
   {
    "duration": 37,
    "start_time": "2022-01-28T22:23:34.661Z"
   },
   {
    "duration": 23,
    "start_time": "2022-01-28T22:23:34.730Z"
   },
   {
    "duration": 33,
    "start_time": "2022-01-28T22:23:34.756Z"
   },
   {
    "duration": 560,
    "start_time": "2022-01-28T22:23:34.791Z"
   },
   {
    "duration": 11,
    "start_time": "2022-01-28T22:23:35.353Z"
   },
   {
    "duration": 14,
    "start_time": "2022-01-28T22:23:35.366Z"
   },
   {
    "duration": 1221,
    "start_time": "2022-01-28T22:23:35.382Z"
   },
   {
    "duration": 38,
    "start_time": "2022-01-28T22:23:36.605Z"
   },
   {
    "duration": 16,
    "start_time": "2022-01-28T22:23:36.645Z"
   },
   {
    "duration": 18,
    "start_time": "2022-01-28T22:23:36.664Z"
   },
   {
    "duration": 595,
    "start_time": "2022-01-28T22:23:36.684Z"
   },
   {
    "duration": 74,
    "start_time": "2022-01-28T22:23:37.281Z"
   },
   {
    "duration": 165,
    "start_time": "2022-01-28T22:23:37.358Z"
   },
   {
    "duration": 1243,
    "start_time": "2022-01-28T22:23:37.527Z"
   },
   {
    "duration": 34,
    "start_time": "2022-01-28T22:23:38.772Z"
   },
   {
    "duration": 57,
    "start_time": "2022-01-28T22:23:38.825Z"
   },
   {
    "duration": 78,
    "start_time": "2022-01-28T22:23:38.884Z"
   },
   {
    "duration": 899,
    "start_time": "2022-01-28T22:23:38.964Z"
   },
   {
    "duration": 33,
    "start_time": "2022-01-28T22:23:39.865Z"
   },
   {
    "duration": 42,
    "start_time": "2022-01-28T22:23:39.901Z"
   },
   {
    "duration": 3,
    "start_time": "2022-01-28T22:23:39.945Z"
   },
   {
    "duration": 624,
    "start_time": "2022-01-28T22:23:39.950Z"
   },
   {
    "duration": 17,
    "start_time": "2022-01-28T22:23:40.576Z"
   },
   {
    "duration": 496,
    "start_time": "2022-01-28T22:23:40.595Z"
   },
   {
    "duration": 10,
    "start_time": "2022-01-28T22:23:41.093Z"
   },
   {
    "duration": 485,
    "start_time": "2022-01-28T22:23:41.105Z"
   },
   {
    "duration": 16,
    "start_time": "2022-01-28T22:23:41.592Z"
   },
   {
    "duration": 6,
    "start_time": "2022-01-28T22:23:41.624Z"
   },
   {
    "duration": 28,
    "start_time": "2022-01-28T22:23:41.633Z"
   },
   {
    "duration": 6,
    "start_time": "2022-01-28T22:23:41.663Z"
   },
   {
    "duration": 15,
    "start_time": "2022-01-28T22:23:41.671Z"
   },
   {
    "duration": 8,
    "start_time": "2022-01-28T22:23:41.725Z"
   },
   {
    "duration": 23,
    "start_time": "2022-01-28T22:23:41.737Z"
   },
   {
    "duration": 15,
    "start_time": "2022-01-28T22:23:41.762Z"
   },
   {
    "duration": 53,
    "start_time": "2022-01-28T22:23:41.780Z"
   },
   {
    "duration": 15,
    "start_time": "2022-01-28T22:23:41.836Z"
   },
   {
    "duration": 14,
    "start_time": "2022-01-28T22:23:41.854Z"
   },
   {
    "duration": 13,
    "start_time": "2022-01-28T22:23:41.870Z"
   },
   {
    "duration": 60,
    "start_time": "2022-01-28T22:23:41.885Z"
   },
   {
    "duration": 14,
    "start_time": "2022-01-28T22:23:41.948Z"
   },
   {
    "duration": 15,
    "start_time": "2022-01-28T22:23:41.965Z"
   },
   {
    "duration": 42,
    "start_time": "2022-01-28T22:23:41.982Z"
   },
   {
    "duration": 29,
    "start_time": "2022-01-28T22:23:42.027Z"
   },
   {
    "duration": 12,
    "start_time": "2022-01-28T22:23:42.058Z"
   },
   {
    "duration": 8,
    "start_time": "2022-01-28T22:23:42.073Z"
   },
   {
    "duration": 11,
    "start_time": "2022-01-28T22:23:42.083Z"
   },
   {
    "duration": 18,
    "start_time": "2022-01-28T22:23:42.124Z"
   },
   {
    "duration": 16,
    "start_time": "2022-01-28T22:23:42.145Z"
   },
   {
    "duration": 6,
    "start_time": "2022-01-28T22:23:42.163Z"
   },
   {
    "duration": 60,
    "start_time": "2022-01-28T22:23:42.172Z"
   },
   {
    "duration": 14,
    "start_time": "2022-01-28T22:23:42.236Z"
   },
   {
    "duration": 5,
    "start_time": "2022-01-28T22:23:42.260Z"
   },
   {
    "duration": 14,
    "start_time": "2022-01-28T22:23:42.268Z"
   },
   {
    "duration": 40,
    "start_time": "2022-01-28T22:23:42.284Z"
   },
   {
    "duration": 16,
    "start_time": "2022-01-28T22:23:42.328Z"
   },
   {
    "duration": 6,
    "start_time": "2022-01-28T22:23:42.346Z"
   },
   {
    "duration": 8,
    "start_time": "2022-01-28T22:23:42.355Z"
   },
   {
    "duration": 4,
    "start_time": "2022-01-28T22:23:42.366Z"
   },
   {
    "duration": 54,
    "start_time": "2022-01-28T22:23:42.374Z"
   },
   {
    "duration": 26,
    "start_time": "2022-01-28T22:23:42.432Z"
   },
   {
    "duration": 9,
    "start_time": "2022-01-28T22:23:42.460Z"
   },
   {
    "duration": 14,
    "start_time": "2022-01-28T22:23:42.472Z"
   },
   {
    "duration": 56,
    "start_time": "2022-01-28T22:23:42.488Z"
   },
   {
    "duration": 5,
    "start_time": "2022-01-28T22:23:42.547Z"
   },
   {
    "duration": 17,
    "start_time": "2022-01-28T22:23:42.555Z"
   },
   {
    "duration": 54,
    "start_time": "2022-01-28T22:23:42.575Z"
   },
   {
    "duration": 15,
    "start_time": "2022-01-28T22:23:42.632Z"
   },
   {
    "duration": 15,
    "start_time": "2022-01-28T22:23:42.650Z"
   },
   {
    "duration": 6,
    "start_time": "2022-01-28T22:23:42.668Z"
   },
   {
    "duration": 18,
    "start_time": "2022-01-28T22:23:42.676Z"
   },
   {
    "duration": 49,
    "start_time": "2022-01-28T22:23:42.696Z"
   },
   {
    "duration": 6,
    "start_time": "2022-01-28T22:23:42.747Z"
   },
   {
    "duration": 22,
    "start_time": "2022-01-28T22:23:42.756Z"
   },
   {
    "duration": 22,
    "start_time": "2022-01-28T22:23:42.780Z"
   },
   {
    "duration": 22,
    "start_time": "2022-01-28T22:23:42.804Z"
   },
   {
    "duration": 29,
    "start_time": "2022-01-28T22:23:42.830Z"
   },
   {
    "duration": 10,
    "start_time": "2022-01-28T22:23:42.861Z"
   },
   {
    "duration": 9,
    "start_time": "2022-01-28T22:23:42.874Z"
   },
   {
    "duration": 15,
    "start_time": "2022-01-28T22:23:42.886Z"
   },
   {
    "duration": 21,
    "start_time": "2022-01-28T22:23:42.904Z"
   },
   {
    "duration": 29,
    "start_time": "2022-01-28T22:24:12.428Z"
   },
   {
    "duration": 23,
    "start_time": "2022-01-28T22:27:31.951Z"
   },
   {
    "duration": 22,
    "start_time": "2022-01-28T22:27:39.665Z"
   },
   {
    "duration": 14149,
    "start_time": "2022-01-29T09:19:09.749Z"
   },
   {
    "duration": 663,
    "start_time": "2022-01-29T09:19:23.901Z"
   },
   {
    "duration": 45,
    "start_time": "2022-01-29T09:19:24.566Z"
   },
   {
    "duration": 33,
    "start_time": "2022-01-29T09:19:24.613Z"
   },
   {
    "duration": 1621,
    "start_time": "2022-01-29T09:19:29.109Z"
   },
   {
    "duration": 22,
    "start_time": "2022-01-29T09:19:53.092Z"
   },
   {
    "duration": 31,
    "start_time": "2022-01-29T09:19:59.026Z"
   },
   {
    "duration": 26,
    "start_time": "2022-01-29T09:20:05.188Z"
   },
   {
    "duration": 53,
    "start_time": "2022-01-29T09:20:08.989Z"
   },
   {
    "duration": 39,
    "start_time": "2022-01-29T09:20:11.088Z"
   },
   {
    "duration": 28,
    "start_time": "2022-01-29T09:20:14.342Z"
   },
   {
    "duration": 22,
    "start_time": "2022-01-29T09:20:16.349Z"
   },
   {
    "duration": 20,
    "start_time": "2022-01-29T09:20:18.299Z"
   },
   {
    "duration": 25,
    "start_time": "2022-01-29T09:20:31.643Z"
   },
   {
    "duration": 33,
    "start_time": "2022-01-29T09:20:35.216Z"
   },
   {
    "duration": 31,
    "start_time": "2022-01-29T09:20:37.429Z"
   },
   {
    "duration": 7,
    "start_time": "2022-01-29T09:20:55.550Z"
   },
   {
    "duration": 4,
    "start_time": "2022-01-29T09:20:59.817Z"
   },
   {
    "duration": 5,
    "start_time": "2022-01-29T09:21:01.500Z"
   },
   {
    "duration": 27,
    "start_time": "2022-01-29T09:21:11.331Z"
   },
   {
    "duration": 18,
    "start_time": "2022-01-29T09:21:18.490Z"
   },
   {
    "duration": 19,
    "start_time": "2022-01-29T09:21:20.078Z"
   },
   {
    "duration": 9,
    "start_time": "2022-01-29T09:21:24.979Z"
   },
   {
    "duration": 18,
    "start_time": "2022-01-29T09:21:27.259Z"
   },
   {
    "duration": 16,
    "start_time": "2022-01-29T09:21:29.766Z"
   },
   {
    "duration": 40,
    "start_time": "2022-01-29T09:28:04.590Z"
   },
   {
    "duration": 25,
    "start_time": "2022-01-29T09:29:06.574Z"
   },
   {
    "duration": 12,
    "start_time": "2022-01-29T09:33:04.850Z"
   },
   {
    "duration": 39,
    "start_time": "2022-01-29T09:33:38.835Z"
   },
   {
    "duration": 18,
    "start_time": "2022-01-29T09:46:24.135Z"
   },
   {
    "duration": 25,
    "start_time": "2022-01-29T09:46:26.268Z"
   },
   {
    "duration": 273,
    "start_time": "2022-01-29T09:47:37.008Z"
   },
   {
    "duration": 10,
    "start_time": "2022-01-29T10:22:54.949Z"
   },
   {
    "duration": 16,
    "start_time": "2022-01-29T10:23:03.318Z"
   },
   {
    "duration": 44,
    "start_time": "2022-01-29T10:23:13.619Z"
   },
   {
    "duration": 413,
    "start_time": "2022-01-29T10:25:18.787Z"
   },
   {
    "duration": 322,
    "start_time": "2022-01-29T10:26:07.609Z"
   },
   {
    "duration": 19,
    "start_time": "2022-01-29T10:28:19.450Z"
   },
   {
    "duration": 8,
    "start_time": "2022-01-29T10:29:12.098Z"
   },
   {
    "duration": 17,
    "start_time": "2022-01-29T10:29:29.058Z"
   },
   {
    "duration": 5755,
    "start_time": "2022-01-29T10:40:44.050Z"
   },
   {
    "duration": 5,
    "start_time": "2022-01-29T10:40:49.808Z"
   },
   {
    "duration": 88,
    "start_time": "2022-01-29T10:40:49.816Z"
   },
   {
    "duration": 27,
    "start_time": "2022-01-29T10:40:49.908Z"
   },
   {
    "duration": 42,
    "start_time": "2022-01-29T10:40:50.547Z"
   },
   {
    "duration": 21,
    "start_time": "2022-01-29T10:40:53.658Z"
   },
   {
    "duration": 24,
    "start_time": "2022-01-29T10:40:54.249Z"
   },
   {
    "duration": 25,
    "start_time": "2022-01-29T10:40:54.756Z"
   },
   {
    "duration": 48,
    "start_time": "2022-01-29T10:40:56.550Z"
   },
   {
    "duration": 58,
    "start_time": "2022-01-29T10:40:57.081Z"
   },
   {
    "duration": 20,
    "start_time": "2022-01-29T10:41:00.482Z"
   },
   {
    "duration": 18,
    "start_time": "2022-01-29T10:41:02.671Z"
   },
   {
    "duration": 29,
    "start_time": "2022-01-29T10:41:03.991Z"
   },
   {
    "duration": 23,
    "start_time": "2022-01-29T10:41:05.372Z"
   },
   {
    "duration": 26,
    "start_time": "2022-01-29T10:41:05.710Z"
   },
   {
    "duration": 23,
    "start_time": "2022-01-29T10:41:06.160Z"
   },
   {
    "duration": 9,
    "start_time": "2022-01-29T10:41:07.739Z"
   },
   {
    "duration": 6,
    "start_time": "2022-01-29T10:41:08.139Z"
   },
   {
    "duration": 6,
    "start_time": "2022-01-29T10:41:09.002Z"
   },
   {
    "duration": 22,
    "start_time": "2022-01-29T10:41:10.257Z"
   },
   {
    "duration": 19,
    "start_time": "2022-01-29T10:41:11.899Z"
   },
   {
    "duration": 20,
    "start_time": "2022-01-29T10:41:12.281Z"
   },
   {
    "duration": 12,
    "start_time": "2022-01-29T10:41:13.451Z"
   },
   {
    "duration": 14,
    "start_time": "2022-01-29T10:41:14.291Z"
   },
   {
    "duration": 28,
    "start_time": "2022-01-29T10:41:14.530Z"
   },
   {
    "duration": 32,
    "start_time": "2022-01-29T10:41:16.301Z"
   },
   {
    "duration": 9,
    "start_time": "2022-01-29T10:41:18.001Z"
   },
   {
    "duration": 25,
    "start_time": "2022-01-29T10:41:19.752Z"
   },
   {
    "duration": 33,
    "start_time": "2022-01-29T10:43:15.112Z"
   },
   {
    "duration": 107,
    "start_time": "2022-01-29T10:52:48.082Z"
   },
   {
    "duration": 18,
    "start_time": "2022-01-29T10:54:20.262Z"
   },
   {
    "duration": 7,
    "start_time": "2022-01-29T10:54:31.598Z"
   },
   {
    "duration": 19,
    "start_time": "2022-01-29T10:54:35.555Z"
   },
   {
    "duration": 48,
    "start_time": "2022-01-29T10:54:37.202Z"
   },
   {
    "duration": 25,
    "start_time": "2022-01-29T10:54:49.981Z"
   },
   {
    "duration": 9,
    "start_time": "2022-01-29T10:55:00.211Z"
   },
   {
    "duration": 19,
    "start_time": "2022-01-29T10:55:02.982Z"
   },
   {
    "duration": 23,
    "start_time": "2022-01-29T10:55:43.151Z"
   },
   {
    "duration": 37,
    "start_time": "2022-01-29T10:55:44.754Z"
   },
   {
    "duration": 54,
    "start_time": "2022-01-29T10:56:03.521Z"
   },
   {
    "duration": 7184,
    "start_time": "2022-01-29T22:04:10.541Z"
   },
   {
    "duration": 440,
    "start_time": "2022-01-29T22:04:20.761Z"
   },
   {
    "duration": 37,
    "start_time": "2022-01-29T22:04:24.760Z"
   },
   {
    "duration": 13,
    "start_time": "2022-01-29T22:04:26.600Z"
   },
   {
    "duration": 789,
    "start_time": "2022-01-29T22:04:33.831Z"
   },
   {
    "duration": 13,
    "start_time": "2022-01-29T22:04:39.790Z"
   },
   {
    "duration": 12,
    "start_time": "2022-01-29T22:04:41.121Z"
   },
   {
    "duration": 14,
    "start_time": "2022-01-29T22:04:42.150Z"
   },
   {
    "duration": 24,
    "start_time": "2022-01-29T22:04:43.880Z"
   },
   {
    "duration": 23,
    "start_time": "2022-01-29T22:04:44.261Z"
   },
   {
    "duration": 14,
    "start_time": "2022-01-29T22:04:44.821Z"
   },
   {
    "duration": 12,
    "start_time": "2022-01-29T22:04:45.180Z"
   },
   {
    "duration": 12,
    "start_time": "2022-01-29T22:04:46.081Z"
   },
   {
    "duration": 14,
    "start_time": "2022-01-29T22:04:47.409Z"
   },
   {
    "duration": 14,
    "start_time": "2022-01-29T22:04:48.593Z"
   },
   {
    "duration": 14,
    "start_time": "2022-01-29T22:04:50.538Z"
   },
   {
    "duration": 4,
    "start_time": "2022-01-29T22:04:50.991Z"
   },
   {
    "duration": 3,
    "start_time": "2022-01-29T22:04:51.981Z"
   },
   {
    "duration": 4,
    "start_time": "2022-01-29T22:04:52.218Z"
   },
   {
    "duration": 12,
    "start_time": "2022-01-29T22:04:52.671Z"
   },
   {
    "duration": 15,
    "start_time": "2022-01-29T22:04:53.240Z"
   },
   {
    "duration": 12,
    "start_time": "2022-01-29T22:04:53.671Z"
   },
   {
    "duration": 8,
    "start_time": "2022-01-29T22:04:54.369Z"
   },
   {
    "duration": 12,
    "start_time": "2022-01-29T22:04:54.818Z"
   },
   {
    "duration": 11,
    "start_time": "2022-01-29T22:04:55.241Z"
   },
   {
    "duration": 17,
    "start_time": "2022-01-29T22:04:57.441Z"
   },
   {
    "duration": 6,
    "start_time": "2022-01-29T22:05:23.921Z"
   },
   {
    "duration": 17,
    "start_time": "2022-01-29T22:05:29.120Z"
   },
   {
    "duration": 7,
    "start_time": "2022-01-29T22:05:43.561Z"
   },
   {
    "duration": 16,
    "start_time": "2022-01-29T22:05:50.641Z"
   },
   {
    "duration": 12,
    "start_time": "2022-01-29T22:05:53.490Z"
   },
   {
    "duration": 5,
    "start_time": "2022-01-29T22:06:00.491Z"
   },
   {
    "duration": 8,
    "start_time": "2022-01-29T22:06:05.871Z"
   },
   {
    "duration": 22,
    "start_time": "2022-01-29T22:06:06.471Z"
   },
   {
    "duration": 14,
    "start_time": "2022-01-29T22:06:25.211Z"
   },
   {
    "duration": 6,
    "start_time": "2022-01-29T22:06:32.459Z"
   },
   {
    "duration": 13,
    "start_time": "2022-01-29T22:06:33.420Z"
   },
   {
    "duration": 12,
    "start_time": "2022-01-29T22:06:44.950Z"
   },
   {
    "duration": 19,
    "start_time": "2022-01-29T22:06:52.941Z"
   },
   {
    "duration": 11,
    "start_time": "2022-01-29T22:08:24.412Z"
   },
   {
    "duration": 12,
    "start_time": "2022-01-29T22:09:59.770Z"
   },
   {
    "duration": 4,
    "start_time": "2022-01-29T22:12:34.778Z"
   },
   {
    "duration": 12,
    "start_time": "2022-01-29T22:13:07.378Z"
   },
   {
    "duration": 12,
    "start_time": "2022-01-29T22:13:23.830Z"
   },
   {
    "duration": 32,
    "start_time": "2022-01-29T22:13:32.526Z"
   },
   {
    "duration": 26,
    "start_time": "2022-01-29T22:15:57.811Z"
   },
   {
    "duration": 450,
    "start_time": "2022-01-29T22:37:34.041Z"
   },
   {
    "duration": 8,
    "start_time": "2022-01-29T22:38:02.431Z"
   },
   {
    "duration": 17,
    "start_time": "2022-01-29T22:38:50.779Z"
   },
   {
    "duration": 7,
    "start_time": "2022-01-29T22:39:29.571Z"
   },
   {
    "duration": 16,
    "start_time": "2022-01-29T22:39:30.891Z"
   },
   {
    "duration": 6,
    "start_time": "2022-01-29T22:40:44.821Z"
   },
   {
    "duration": 17,
    "start_time": "2022-01-29T22:40:45.971Z"
   },
   {
    "duration": 8,
    "start_time": "2022-01-29T22:41:06.078Z"
   },
   {
    "duration": 18,
    "start_time": "2022-01-29T22:41:09.620Z"
   },
   {
    "duration": 6,
    "start_time": "2022-01-29T22:41:20.221Z"
   },
   {
    "duration": 17,
    "start_time": "2022-01-29T22:41:30.389Z"
   },
   {
    "duration": 8,
    "start_time": "2022-01-29T22:42:45.620Z"
   },
   {
    "duration": 18,
    "start_time": "2022-01-29T22:42:47.511Z"
   },
   {
    "duration": 7,
    "start_time": "2022-01-29T22:43:02.861Z"
   },
   {
    "duration": 17,
    "start_time": "2022-01-29T22:43:08.151Z"
   },
   {
    "duration": 2488,
    "start_time": "2022-01-29T22:43:54.098Z"
   },
   {
    "duration": 4,
    "start_time": "2022-01-29T22:43:56.588Z"
   },
   {
    "duration": 42,
    "start_time": "2022-01-29T22:43:56.593Z"
   },
   {
    "duration": 12,
    "start_time": "2022-01-29T22:44:00.428Z"
   },
   {
    "duration": 18,
    "start_time": "2022-01-29T22:44:00.757Z"
   },
   {
    "duration": 12,
    "start_time": "2022-01-29T22:44:01.418Z"
   },
   {
    "duration": 11,
    "start_time": "2022-01-29T22:44:01.588Z"
   },
   {
    "duration": 14,
    "start_time": "2022-01-29T22:44:01.749Z"
   },
   {
    "duration": 23,
    "start_time": "2022-01-29T22:44:02.237Z"
   },
   {
    "duration": 24,
    "start_time": "2022-01-29T22:44:02.557Z"
   },
   {
    "duration": 13,
    "start_time": "2022-01-29T22:44:03.038Z"
   },
   {
    "duration": 12,
    "start_time": "2022-01-29T22:44:03.358Z"
   },
   {
    "duration": 13,
    "start_time": "2022-01-29T22:44:03.697Z"
   },
   {
    "duration": 14,
    "start_time": "2022-01-29T22:44:04.217Z"
   },
   {
    "duration": 15,
    "start_time": "2022-01-29T22:44:04.535Z"
   },
   {
    "duration": 14,
    "start_time": "2022-01-29T22:44:04.887Z"
   },
   {
    "duration": 4,
    "start_time": "2022-01-29T22:44:05.597Z"
   },
   {
    "duration": 3,
    "start_time": "2022-01-29T22:44:05.967Z"
   },
   {
    "duration": 4,
    "start_time": "2022-01-29T22:44:06.127Z"
   },
   {
    "duration": 12,
    "start_time": "2022-01-29T22:44:06.478Z"
   },
   {
    "duration": 13,
    "start_time": "2022-01-29T22:44:06.845Z"
   },
   {
    "duration": 12,
    "start_time": "2022-01-29T22:44:06.990Z"
   },
   {
    "duration": 6,
    "start_time": "2022-01-29T22:44:07.359Z"
   },
   {
    "duration": 9,
    "start_time": "2022-01-29T22:44:07.508Z"
   },
   {
    "duration": 9,
    "start_time": "2022-01-29T22:44:07.737Z"
   },
   {
    "duration": 17,
    "start_time": "2022-01-29T22:44:08.218Z"
   },
   {
    "duration": 6,
    "start_time": "2022-01-29T22:44:08.587Z"
   },
   {
    "duration": 17,
    "start_time": "2022-01-29T22:44:08.797Z"
   },
   {
    "duration": 11,
    "start_time": "2022-01-29T22:44:09.678Z"
   },
   {
    "duration": 4,
    "start_time": "2022-01-29T22:44:10.258Z"
   },
   {
    "duration": 12,
    "start_time": "2022-01-29T22:44:10.405Z"
   },
   {
    "duration": 11,
    "start_time": "2022-01-29T22:44:10.588Z"
   },
   {
    "duration": 18,
    "start_time": "2022-01-29T22:44:11.027Z"
   },
   {
    "duration": 7,
    "start_time": "2022-01-29T22:44:11.808Z"
   },
   {
    "duration": 17,
    "start_time": "2022-01-29T22:44:11.958Z"
   },
   {
    "duration": 6,
    "start_time": "2022-01-29T22:44:12.838Z"
   },
   {
    "duration": 7,
    "start_time": "2022-01-29T22:44:13.907Z"
   },
   {
    "duration": 15,
    "start_time": "2022-01-29T22:44:14.506Z"
   },
   {
    "duration": 12,
    "start_time": "2022-01-29T22:44:14.642Z"
   },
   {
    "duration": 6,
    "start_time": "2022-01-29T22:44:14.997Z"
   },
   {
    "duration": 9,
    "start_time": "2022-01-29T22:44:15.207Z"
   },
   {
    "duration": 25,
    "start_time": "2022-01-29T22:44:15.438Z"
   },
   {
    "duration": 17,
    "start_time": "2022-01-29T22:44:15.589Z"
   },
   {
    "duration": 7,
    "start_time": "2022-01-29T22:44:15.807Z"
   },
   {
    "duration": 12,
    "start_time": "2022-01-29T22:44:16.677Z"
   },
   {
    "duration": 13,
    "start_time": "2022-01-29T22:44:17.427Z"
   },
   {
    "duration": 20,
    "start_time": "2022-01-29T22:44:17.617Z"
   },
   {
    "duration": 12,
    "start_time": "2022-01-29T22:45:10.038Z"
   },
   {
    "duration": 18,
    "start_time": "2022-01-29T22:45:11.778Z"
   },
   {
    "duration": 2618,
    "start_time": "2022-01-29T22:46:24.886Z"
   },
   {
    "duration": 3,
    "start_time": "2022-01-29T22:46:28.249Z"
   },
   {
    "duration": 38,
    "start_time": "2022-01-29T22:46:28.590Z"
   },
   {
    "duration": 13,
    "start_time": "2022-01-29T22:46:28.937Z"
   },
   {
    "duration": 16,
    "start_time": "2022-01-29T22:46:29.269Z"
   },
   {
    "duration": 12,
    "start_time": "2022-01-29T22:46:30.329Z"
   },
   {
    "duration": 12,
    "start_time": "2022-01-29T22:46:30.509Z"
   },
   {
    "duration": 15,
    "start_time": "2022-01-29T22:46:30.739Z"
   },
   {
    "duration": 24,
    "start_time": "2022-01-29T22:46:31.299Z"
   },
   {
    "duration": 24,
    "start_time": "2022-01-29T22:46:31.649Z"
   },
   {
    "duration": 13,
    "start_time": "2022-01-29T22:46:32.179Z"
   },
   {
    "duration": 11,
    "start_time": "2022-01-29T22:46:32.509Z"
   },
   {
    "duration": 12,
    "start_time": "2022-01-29T22:46:32.859Z"
   },
   {
    "duration": 13,
    "start_time": "2022-01-29T22:46:33.469Z"
   },
   {
    "duration": 13,
    "start_time": "2022-01-29T22:46:33.839Z"
   },
   {
    "duration": 14,
    "start_time": "2022-01-29T22:46:34.229Z"
   },
   {
    "duration": 4,
    "start_time": "2022-01-29T22:46:35.408Z"
   },
   {
    "duration": 3,
    "start_time": "2022-01-29T22:46:36.030Z"
   },
   {
    "duration": 3,
    "start_time": "2022-01-29T22:46:36.397Z"
   },
   {
    "duration": 11,
    "start_time": "2022-01-29T22:46:37.309Z"
   },
   {
    "duration": 13,
    "start_time": "2022-01-29T22:46:38.259Z"
   },
   {
    "duration": 13,
    "start_time": "2022-01-29T22:46:38.709Z"
   },
   {
    "duration": 7,
    "start_time": "2022-01-29T22:46:41.439Z"
   },
   {
    "duration": 8,
    "start_time": "2022-01-29T22:46:41.599Z"
   },
   {
    "duration": 8,
    "start_time": "2022-01-29T22:46:41.827Z"
   },
   {
    "duration": 17,
    "start_time": "2022-01-29T22:46:45.189Z"
   },
   {
    "duration": 7,
    "start_time": "2022-01-29T22:46:48.329Z"
   },
   {
    "duration": 17,
    "start_time": "2022-01-29T22:46:48.717Z"
   },
   {
    "duration": 12,
    "start_time": "2022-01-29T22:46:50.385Z"
   },
   {
    "duration": 5,
    "start_time": "2022-01-29T22:46:51.959Z"
   },
   {
    "duration": 13,
    "start_time": "2022-01-29T22:46:56.959Z"
   },
   {
    "duration": 11,
    "start_time": "2022-01-29T22:46:57.091Z"
   },
   {
    "duration": 17,
    "start_time": "2022-01-29T22:47:01.299Z"
   },
   {
    "duration": 2002,
    "start_time": "2022-01-29T22:47:57.587Z"
   },
   {
    "duration": 2485,
    "start_time": "2022-01-29T22:48:14.619Z"
   },
   {
    "duration": 17,
    "start_time": "2022-01-29T22:51:00.279Z"
   },
   {
    "duration": 17,
    "start_time": "2022-01-29T22:51:01.518Z"
   },
   {
    "duration": 7,
    "start_time": "2022-01-29T22:51:09.393Z"
   },
   {
    "duration": 15,
    "start_time": "2022-01-29T22:51:10.687Z"
   },
   {
    "duration": 11,
    "start_time": "2022-01-29T22:51:11.109Z"
   },
   {
    "duration": 5,
    "start_time": "2022-01-29T22:51:13.678Z"
   },
   {
    "duration": 9,
    "start_time": "2022-01-29T22:51:14.519Z"
   },
   {
    "duration": 23,
    "start_time": "2022-01-29T22:51:15.199Z"
   },
   {
    "duration": 16,
    "start_time": "2022-01-29T22:51:29.719Z"
   },
   {
    "duration": 6,
    "start_time": "2022-01-29T22:51:36.689Z"
   },
   {
    "duration": 12,
    "start_time": "2022-01-29T22:51:37.889Z"
   },
   {
    "duration": 11,
    "start_time": "2022-01-29T22:52:18.349Z"
   },
   {
    "duration": 22,
    "start_time": "2022-01-29T22:52:23.843Z"
   },
   {
    "duration": 18,
    "start_time": "2022-01-29T22:52:55.319Z"
   },
   {
    "duration": 2493,
    "start_time": "2022-01-29T22:53:48.090Z"
   },
   {
    "duration": 2,
    "start_time": "2022-01-29T22:53:50.586Z"
   },
   {
    "duration": 42,
    "start_time": "2022-01-29T22:53:50.590Z"
   },
   {
    "duration": 12,
    "start_time": "2022-01-29T22:53:50.633Z"
   },
   {
    "duration": 16,
    "start_time": "2022-01-29T22:53:50.647Z"
   },
   {
    "duration": 11,
    "start_time": "2022-01-29T22:53:50.664Z"
   },
   {
    "duration": 12,
    "start_time": "2022-01-29T22:53:50.677Z"
   },
   {
    "duration": 36,
    "start_time": "2022-01-29T22:53:50.691Z"
   },
   {
    "duration": 26,
    "start_time": "2022-01-29T22:53:50.728Z"
   },
   {
    "duration": 23,
    "start_time": "2022-01-29T22:53:50.896Z"
   },
   {
    "duration": 14,
    "start_time": "2022-01-29T22:53:51.430Z"
   },
   {
    "duration": 15,
    "start_time": "2022-01-29T22:53:51.720Z"
   },
   {
    "duration": 12,
    "start_time": "2022-01-29T22:53:52.042Z"
   },
   {
    "duration": 17,
    "start_time": "2022-01-29T22:53:52.540Z"
   },
   {
    "duration": 15,
    "start_time": "2022-01-29T22:53:52.868Z"
   },
   {
    "duration": 17,
    "start_time": "2022-01-29T22:53:53.758Z"
   },
   {
    "duration": 4,
    "start_time": "2022-01-29T22:53:55.510Z"
   },
   {
    "duration": 4,
    "start_time": "2022-01-29T22:53:56.510Z"
   },
   {
    "duration": 4,
    "start_time": "2022-01-29T22:53:57.470Z"
   },
   {
    "duration": 12,
    "start_time": "2022-01-29T22:54:00.798Z"
   },
   {
    "duration": 12,
    "start_time": "2022-01-29T22:54:04.170Z"
   },
   {
    "duration": 13,
    "start_time": "2022-01-29T22:54:07.788Z"
   },
   {
    "duration": 7,
    "start_time": "2022-01-29T22:54:08.720Z"
   },
   {
    "duration": 8,
    "start_time": "2022-01-29T22:54:08.880Z"
   },
   {
    "duration": 8,
    "start_time": "2022-01-29T22:54:09.480Z"
   },
   {
    "duration": 16,
    "start_time": "2022-01-29T22:54:18.090Z"
   },
   {
    "duration": 5,
    "start_time": "2022-01-29T22:54:23.890Z"
   },
   {
    "duration": 17,
    "start_time": "2022-01-29T22:54:27.570Z"
   },
   {
    "duration": 11,
    "start_time": "2022-01-29T22:54:32.821Z"
   },
   {
    "duration": 4,
    "start_time": "2022-01-29T22:54:38.110Z"
   },
   {
    "duration": 12,
    "start_time": "2022-01-29T22:54:41.118Z"
   },
   {
    "duration": 12,
    "start_time": "2022-01-29T22:56:34.550Z"
   },
   {
    "duration": 16,
    "start_time": "2022-01-29T22:56:50.208Z"
   },
   {
    "duration": 7,
    "start_time": "2022-01-29T22:57:03.640Z"
   },
   {
    "duration": 16,
    "start_time": "2022-01-29T22:57:11.090Z"
   },
   {
    "duration": 11,
    "start_time": "2022-01-29T22:57:17.690Z"
   },
   {
    "duration": 6,
    "start_time": "2022-01-29T22:57:41.510Z"
   },
   {
    "duration": 9,
    "start_time": "2022-01-29T22:57:45.609Z"
   },
   {
    "duration": 23,
    "start_time": "2022-01-29T22:57:58.091Z"
   },
   {
    "duration": 16,
    "start_time": "2022-01-29T22:58:00.200Z"
   },
   {
    "duration": 6,
    "start_time": "2022-01-29T22:58:06.400Z"
   },
   {
    "duration": 12,
    "start_time": "2022-01-29T22:58:12.538Z"
   },
   {
    "duration": 12,
    "start_time": "2022-01-29T22:58:14.840Z"
   },
   {
    "duration": 19,
    "start_time": "2022-01-29T22:58:16.531Z"
   },
   {
    "duration": 18,
    "start_time": "2022-01-29T22:59:09.010Z"
   },
   {
    "duration": 63,
    "start_time": "2022-01-29T22:59:12.059Z"
   },
   {
    "duration": 19,
    "start_time": "2022-01-29T22:59:26.440Z"
   },
   {
    "duration": 2027,
    "start_time": "2022-01-29T23:00:34.331Z"
   },
   {
    "duration": 2047,
    "start_time": "2022-01-29T23:01:12.560Z"
   },
   {
    "duration": 2120,
    "start_time": "2022-01-29T23:01:35.220Z"
   },
   {
    "duration": 8,
    "start_time": "2022-01-29T23:02:27.480Z"
   },
   {
    "duration": 17,
    "start_time": "2022-01-29T23:02:41.880Z"
   },
   {
    "duration": 106,
    "start_time": "2022-01-29T23:09:34.000Z"
   },
   {
    "duration": 6,
    "start_time": "2022-01-29T23:10:21.998Z"
   },
   {
    "duration": 18,
    "start_time": "2022-01-29T23:10:43.520Z"
   },
   {
    "duration": 18,
    "start_time": "2022-01-29T23:12:57.331Z"
   },
   {
    "duration": 17,
    "start_time": "2022-01-29T23:13:11.270Z"
   },
   {
    "duration": 2241,
    "start_time": "2022-01-29T23:15:08.020Z"
   },
   {
    "duration": 3287,
    "start_time": "2022-01-29T23:16:09.661Z"
   },
   {
    "duration": 2511,
    "start_time": "2022-01-29T23:17:15.401Z"
   },
   {
    "duration": 6,
    "start_time": "2022-01-29T23:17:55.268Z"
   },
   {
    "duration": 5,
    "start_time": "2022-01-29T23:24:34.700Z"
   },
   {
    "duration": 5,
    "start_time": "2022-01-29T23:24:39.241Z"
   },
   {
    "duration": 5,
    "start_time": "2022-01-29T23:24:53.110Z"
   },
   {
    "duration": 18,
    "start_time": "2022-01-29T23:25:24.440Z"
   },
   {
    "duration": 30,
    "start_time": "2022-01-29T23:28:42.230Z"
   },
   {
    "duration": 27,
    "start_time": "2022-01-29T23:28:50.640Z"
   },
   {
    "duration": 4,
    "start_time": "2022-01-29T23:31:02.628Z"
   },
   {
    "duration": 15,
    "start_time": "2022-01-29T23:31:40.150Z"
   },
   {
    "duration": 4,
    "start_time": "2022-01-29T23:32:52.070Z"
   },
   {
    "duration": 16,
    "start_time": "2022-01-29T23:33:22.308Z"
   },
   {
    "duration": 17,
    "start_time": "2022-01-29T23:34:12.320Z"
   },
   {
    "duration": 6,
    "start_time": "2022-01-29T23:35:42.920Z"
   },
   {
    "duration": 4,
    "start_time": "2022-01-29T23:35:47.220Z"
   },
   {
    "duration": 5,
    "start_time": "2022-01-29T23:35:48.068Z"
   },
   {
    "duration": 30,
    "start_time": "2022-01-29T23:35:50.871Z"
   },
   {
    "duration": 12,
    "start_time": "2022-01-29T23:41:43.680Z"
   },
   {
    "duration": 5,
    "start_time": "2022-01-29T23:44:39.550Z"
   },
   {
    "duration": 5,
    "start_time": "2022-01-29T23:45:34.041Z"
   },
   {
    "duration": 5,
    "start_time": "2022-01-29T23:49:47.978Z"
   },
   {
    "duration": 4,
    "start_time": "2022-01-29T23:49:58.560Z"
   },
   {
    "duration": 4510,
    "start_time": "2022-01-29T23:50:02.618Z"
   },
   {
    "duration": 4,
    "start_time": "2022-01-29T23:50:18.760Z"
   },
   {
    "duration": 5,
    "start_time": "2022-01-29T23:50:59.054Z"
   },
   {
    "duration": 4,
    "start_time": "2022-01-29T23:51:26.100Z"
   },
   {
    "duration": 4,
    "start_time": "2022-01-29T23:52:09.639Z"
   },
   {
    "duration": 4,
    "start_time": "2022-01-29T23:53:18.650Z"
   },
   {
    "duration": 4,
    "start_time": "2022-01-29T23:53:19.400Z"
   },
   {
    "duration": 5,
    "start_time": "2022-01-29T23:53:20.109Z"
   },
   {
    "duration": 4,
    "start_time": "2022-01-29T23:53:23.900Z"
   },
   {
    "duration": 18,
    "start_time": "2022-01-30T00:04:49.280Z"
   },
   {
    "duration": 19,
    "start_time": "2022-01-30T00:05:05.130Z"
   },
   {
    "duration": 118,
    "start_time": "2022-01-30T00:07:06.159Z"
   },
   {
    "duration": 5,
    "start_time": "2022-01-30T00:12:45.900Z"
   },
   {
    "duration": 4,
    "start_time": "2022-01-30T00:14:44.400Z"
   },
   {
    "duration": 5,
    "start_time": "2022-01-30T00:14:46.309Z"
   },
   {
    "duration": 18,
    "start_time": "2022-01-30T00:17:08.488Z"
   },
   {
    "duration": 12,
    "start_time": "2022-01-30T00:18:24.340Z"
   },
   {
    "duration": 7,
    "start_time": "2022-01-30T00:19:29.830Z"
   },
   {
    "duration": 19,
    "start_time": "2022-01-30T00:25:25.481Z"
   },
   {
    "duration": 335,
    "start_time": "2022-01-30T00:27:35.130Z"
   },
   {
    "duration": 374,
    "start_time": "2022-01-30T00:27:43.480Z"
   },
   {
    "duration": 20,
    "start_time": "2022-01-30T00:28:06.707Z"
   },
   {
    "duration": 20,
    "start_time": "2022-01-30T00:28:42.080Z"
   },
   {
    "duration": 5,
    "start_time": "2022-01-30T00:30:55.089Z"
   },
   {
    "duration": 20,
    "start_time": "2022-01-30T00:31:48.160Z"
   },
   {
    "duration": 12,
    "start_time": "2022-01-30T00:32:23.208Z"
   },
   {
    "duration": 6,
    "start_time": "2022-01-30T00:34:32.060Z"
   },
   {
    "duration": 6,
    "start_time": "2022-01-30T00:34:44.141Z"
   },
   {
    "duration": 11,
    "start_time": "2022-01-30T00:35:22.380Z"
   },
   {
    "duration": 10,
    "start_time": "2022-01-30T00:36:36.297Z"
   },
   {
    "duration": 386,
    "start_time": "2022-01-30T00:36:41.430Z"
   },
   {
    "duration": 8,
    "start_time": "2022-01-30T00:36:45.031Z"
   },
   {
    "duration": 6,
    "start_time": "2022-01-30T00:36:54.751Z"
   },
   {
    "duration": 660,
    "start_time": "2022-01-30T00:37:03.278Z"
   },
   {
    "duration": 13,
    "start_time": "2022-01-30T00:37:56.880Z"
   },
   {
    "duration": 11,
    "start_time": "2022-01-30T00:37:58.238Z"
   },
   {
    "duration": 12,
    "start_time": "2022-01-30T00:38:00.200Z"
   },
   {
    "duration": 662,
    "start_time": "2022-01-30T00:57:14.621Z"
   },
   {
    "duration": 560,
    "start_time": "2022-01-30T00:57:58.169Z"
   },
   {
    "duration": 291,
    "start_time": "2022-01-30T00:58:53.730Z"
   },
   {
    "duration": 417,
    "start_time": "2022-01-30T01:03:33.450Z"
   },
   {
    "duration": 410,
    "start_time": "2022-01-30T01:04:01.301Z"
   },
   {
    "duration": 276,
    "start_time": "2022-01-30T01:04:16.148Z"
   },
   {
    "duration": 653,
    "start_time": "2022-01-30T01:11:17.990Z"
   },
   {
    "duration": 673,
    "start_time": "2022-01-30T01:12:31.680Z"
   },
   {
    "duration": 331,
    "start_time": "2022-01-30T01:14:00.921Z"
   },
   {
    "duration": 558,
    "start_time": "2022-01-30T01:14:56.553Z"
   },
   {
    "duration": 555,
    "start_time": "2022-01-30T01:15:22.400Z"
   },
   {
    "duration": 568,
    "start_time": "2022-01-30T01:15:33.128Z"
   },
   {
    "duration": 318,
    "start_time": "2022-01-30T01:15:44.225Z"
   },
   {
    "duration": 567,
    "start_time": "2022-01-30T01:19:35.020Z"
   },
   {
    "duration": 283,
    "start_time": "2022-01-30T01:20:17.868Z"
   },
   {
    "duration": 606,
    "start_time": "2022-01-30T01:22:31.037Z"
   },
   {
    "duration": 286,
    "start_time": "2022-01-30T01:22:41.348Z"
   },
   {
    "duration": 461,
    "start_time": "2022-01-30T01:23:51.149Z"
   },
   {
    "duration": 298,
    "start_time": "2022-01-30T01:23:59.629Z"
   },
   {
    "duration": 368,
    "start_time": "2022-01-30T01:24:49.886Z"
   },
   {
    "duration": 293,
    "start_time": "2022-01-30T01:30:31.799Z"
   },
   {
    "duration": 580,
    "start_time": "2022-01-30T01:32:04.369Z"
   },
   {
    "duration": 512,
    "start_time": "2022-01-30T01:32:12.199Z"
   },
   {
    "duration": 725,
    "start_time": "2022-01-30T01:32:21.868Z"
   },
   {
    "duration": 344,
    "start_time": "2022-01-30T01:32:43.618Z"
   },
   {
    "duration": 295,
    "start_time": "2022-01-30T01:33:06.818Z"
   },
   {
    "duration": 6978,
    "start_time": "2022-01-30T17:46:28.820Z"
   },
   {
    "duration": 514,
    "start_time": "2022-01-30T17:49:50.546Z"
   },
   {
    "duration": 38,
    "start_time": "2022-01-30T17:49:51.574Z"
   },
   {
    "duration": 12,
    "start_time": "2022-01-30T17:49:52.660Z"
   },
   {
    "duration": 816,
    "start_time": "2022-01-30T17:49:53.606Z"
   },
   {
    "duration": 15,
    "start_time": "2022-01-30T17:49:54.773Z"
   },
   {
    "duration": 13,
    "start_time": "2022-01-30T17:49:55.018Z"
   },
   {
    "duration": 15,
    "start_time": "2022-01-30T17:49:59.101Z"
   },
   {
    "duration": 34,
    "start_time": "2022-01-30T17:50:00.379Z"
   },
   {
    "duration": 36,
    "start_time": "2022-01-30T17:50:00.799Z"
   },
   {
    "duration": 13,
    "start_time": "2022-01-30T17:50:03.516Z"
   },
   {
    "duration": 13,
    "start_time": "2022-01-30T17:50:05.007Z"
   },
   {
    "duration": 13,
    "start_time": "2022-01-30T17:50:05.469Z"
   },
   {
    "duration": 15,
    "start_time": "2022-01-30T17:50:23.002Z"
   },
   {
    "duration": 15,
    "start_time": "2022-01-30T17:50:25.244Z"
   },
   {
    "duration": 15,
    "start_time": "2022-01-30T17:50:25.761Z"
   },
   {
    "duration": 5,
    "start_time": "2022-01-30T17:50:27.717Z"
   },
   {
    "duration": 3,
    "start_time": "2022-01-30T17:50:28.677Z"
   },
   {
    "duration": 4,
    "start_time": "2022-01-30T17:50:28.958Z"
   },
   {
    "duration": 12,
    "start_time": "2022-01-30T17:50:29.404Z"
   },
   {
    "duration": 14,
    "start_time": "2022-01-30T17:50:30.284Z"
   },
   {
    "duration": 12,
    "start_time": "2022-01-30T17:50:31.055Z"
   },
   {
    "duration": 8,
    "start_time": "2022-01-30T17:50:47.341Z"
   },
   {
    "duration": 9,
    "start_time": "2022-01-30T17:50:47.863Z"
   },
   {
    "duration": 9,
    "start_time": "2022-01-30T17:50:48.179Z"
   },
   {
    "duration": 17,
    "start_time": "2022-01-30T17:50:49.542Z"
   },
   {
    "duration": 7,
    "start_time": "2022-01-30T17:50:52.847Z"
   },
   {
    "duration": 26,
    "start_time": "2022-01-30T17:50:53.630Z"
   },
   {
    "duration": 13,
    "start_time": "2022-01-30T17:50:54.414Z"
   },
   {
    "duration": 5,
    "start_time": "2022-01-30T17:50:55.726Z"
   },
   {
    "duration": 14,
    "start_time": "2022-01-30T17:50:56.157Z"
   },
   {
    "duration": 12,
    "start_time": "2022-01-30T17:50:56.961Z"
   },
   {
    "duration": 17,
    "start_time": "2022-01-30T17:50:57.784Z"
   },
   {
    "duration": 7,
    "start_time": "2022-01-30T17:51:01.303Z"
   },
   {
    "duration": 16,
    "start_time": "2022-01-30T17:51:03.454Z"
   },
   {
    "duration": 12,
    "start_time": "2022-01-30T17:51:03.736Z"
   },
   {
    "duration": 5,
    "start_time": "2022-01-30T17:51:04.466Z"
   },
   {
    "duration": 12,
    "start_time": "2022-01-30T17:51:04.952Z"
   },
   {
    "duration": 26,
    "start_time": "2022-01-30T17:51:05.622Z"
   },
   {
    "duration": 16,
    "start_time": "2022-01-30T17:51:07.785Z"
   },
   {
    "duration": 5,
    "start_time": "2022-01-30T17:51:07.802Z"
   },
   {
    "duration": 13,
    "start_time": "2022-01-30T17:51:08.348Z"
   },
   {
    "duration": 13,
    "start_time": "2022-01-30T17:51:10.894Z"
   },
   {
    "duration": 21,
    "start_time": "2022-01-30T17:51:11.157Z"
   },
   {
    "duration": 18,
    "start_time": "2022-01-30T17:51:13.337Z"
   },
   {
    "duration": 63,
    "start_time": "2022-01-30T17:51:14.160Z"
   },
   {
    "duration": 18,
    "start_time": "2022-01-30T17:51:15.409Z"
   },
   {
    "duration": 9,
    "start_time": "2022-01-30T17:51:16.353Z"
   },
   {
    "duration": 18,
    "start_time": "2022-01-30T17:51:17.305Z"
   },
   {
    "duration": 7,
    "start_time": "2022-01-30T17:51:21.688Z"
   },
   {
    "duration": 39,
    "start_time": "2022-01-30T17:51:24.503Z"
   },
   {
    "duration": 26,
    "start_time": "2022-01-30T17:51:27.062Z"
   },
   {
    "duration": 20,
    "start_time": "2022-01-30T17:51:28.709Z"
   },
   {
    "duration": 5,
    "start_time": "2022-01-30T17:51:33.022Z"
   },
   {
    "duration": 15,
    "start_time": "2022-01-30T17:51:35.110Z"
   },
   {
    "duration": 5,
    "start_time": "2022-01-30T17:51:36.122Z"
   },
   {
    "duration": 16,
    "start_time": "2022-01-30T17:51:36.943Z"
   },
   {
    "duration": 19,
    "start_time": "2022-01-30T17:51:37.888Z"
   },
   {
    "duration": 6,
    "start_time": "2022-01-30T17:51:42.094Z"
   },
   {
    "duration": 5,
    "start_time": "2022-01-30T17:51:43.440Z"
   },
   {
    "duration": 6,
    "start_time": "2022-01-30T17:51:44.861Z"
   },
   {
    "duration": 17,
    "start_time": "2022-01-30T17:51:46.599Z"
   },
   {
    "duration": 13,
    "start_time": "2022-01-30T17:51:55.829Z"
   },
   {
    "duration": 5,
    "start_time": "2022-01-30T17:51:58.452Z"
   },
   {
    "duration": 4,
    "start_time": "2022-01-30T17:51:59.191Z"
   },
   {
    "duration": 5,
    "start_time": "2022-01-30T17:51:59.677Z"
   },
   {
    "duration": 5,
    "start_time": "2022-01-30T17:52:00.164Z"
   },
   {
    "duration": 5,
    "start_time": "2022-01-30T17:52:00.771Z"
   },
   {
    "duration": 5,
    "start_time": "2022-01-30T17:52:01.055Z"
   },
   {
    "duration": 5,
    "start_time": "2022-01-30T17:52:02.277Z"
   },
   {
    "duration": 5,
    "start_time": "2022-01-30T17:52:03.201Z"
   },
   {
    "duration": 7,
    "start_time": "2022-01-30T17:52:04.998Z"
   },
   {
    "duration": 5,
    "start_time": "2022-01-30T17:52:08.415Z"
   },
   {
    "duration": 4,
    "start_time": "2022-01-30T17:52:09.439Z"
   },
   {
    "duration": 5,
    "start_time": "2022-01-30T17:52:30.662Z"
   },
   {
    "duration": 2871,
    "start_time": "2022-01-30T18:23:53.905Z"
   },
   {
    "duration": 3,
    "start_time": "2022-01-30T18:23:59.162Z"
   },
   {
    "duration": 39,
    "start_time": "2022-01-30T18:24:09.395Z"
   },
   {
    "duration": 14,
    "start_time": "2022-01-30T18:24:10.772Z"
   },
   {
    "duration": 17,
    "start_time": "2022-01-30T18:24:11.824Z"
   },
   {
    "duration": 13,
    "start_time": "2022-01-30T18:24:16.530Z"
   },
   {
    "duration": 15,
    "start_time": "2022-01-30T18:24:16.545Z"
   },
   {
    "duration": 15,
    "start_time": "2022-01-30T18:25:16.604Z"
   },
   {
    "duration": 25,
    "start_time": "2022-01-30T18:25:21.765Z"
   },
   {
    "duration": 15,
    "start_time": "2022-01-30T18:32:04.508Z"
   },
   {
    "duration": 23,
    "start_time": "2022-01-30T18:32:06.452Z"
   },
   {
    "duration": 25,
    "start_time": "2022-01-30T18:32:07.533Z"
   },
   {
    "duration": 14,
    "start_time": "2022-01-30T18:32:09.036Z"
   },
   {
    "duration": 14,
    "start_time": "2022-01-30T18:32:10.333Z"
   },
   {
    "duration": 13,
    "start_time": "2022-01-30T18:32:11.245Z"
   },
   {
    "duration": 15,
    "start_time": "2022-01-30T18:32:12.850Z"
   },
   {
    "duration": 14,
    "start_time": "2022-01-30T18:32:13.972Z"
   },
   {
    "duration": 13,
    "start_time": "2022-01-30T18:32:15.661Z"
   },
   {
    "duration": 4,
    "start_time": "2022-01-30T18:32:18.442Z"
   },
   {
    "duration": 3,
    "start_time": "2022-01-30T18:32:19.279Z"
   },
   {
    "duration": 4,
    "start_time": "2022-01-30T18:32:19.501Z"
   },
   {
    "duration": 12,
    "start_time": "2022-01-30T18:32:20.781Z"
   },
   {
    "duration": 12,
    "start_time": "2022-01-30T18:32:21.701Z"
   },
   {
    "duration": 15,
    "start_time": "2022-01-30T18:32:22.573Z"
   },
   {
    "duration": 7,
    "start_time": "2022-01-30T18:32:23.147Z"
   },
   {
    "duration": 9,
    "start_time": "2022-01-30T18:32:23.936Z"
   },
   {
    "duration": 8,
    "start_time": "2022-01-30T18:32:24.116Z"
   },
   {
    "duration": 18,
    "start_time": "2022-01-30T18:32:25.890Z"
   },
   {
    "duration": 7,
    "start_time": "2022-01-30T18:32:26.777Z"
   },
   {
    "duration": 17,
    "start_time": "2022-01-30T18:32:26.943Z"
   },
   {
    "duration": 13,
    "start_time": "2022-01-30T18:32:27.507Z"
   },
   {
    "duration": 4,
    "start_time": "2022-01-30T18:32:28.051Z"
   },
   {
    "duration": 12,
    "start_time": "2022-01-30T18:32:28.211Z"
   },
   {
    "duration": 11,
    "start_time": "2022-01-30T18:32:28.365Z"
   },
   {
    "duration": 17,
    "start_time": "2022-01-30T18:32:28.528Z"
   },
   {
    "duration": 7,
    "start_time": "2022-01-30T18:32:29.034Z"
   },
   {
    "duration": 16,
    "start_time": "2022-01-30T18:32:30.525Z"
   },
   {
    "duration": 11,
    "start_time": "2022-01-30T18:32:30.692Z"
   },
   {
    "duration": 6,
    "start_time": "2022-01-30T18:32:31.011Z"
   },
   {
    "duration": 9,
    "start_time": "2022-01-30T18:32:31.195Z"
   },
   {
    "duration": 28,
    "start_time": "2022-01-30T18:32:31.755Z"
   },
   {
    "duration": 16,
    "start_time": "2022-01-30T18:32:31.914Z"
   },
   {
    "duration": 6,
    "start_time": "2022-01-30T18:32:32.325Z"
   },
   {
    "duration": 13,
    "start_time": "2022-01-30T18:32:32.491Z"
   },
   {
    "duration": 12,
    "start_time": "2022-01-30T18:32:38.229Z"
   },
   {
    "duration": 20,
    "start_time": "2022-01-30T18:32:38.959Z"
   },
   {
    "duration": 18,
    "start_time": "2022-01-30T18:32:39.524Z"
   },
   {
    "duration": 62,
    "start_time": "2022-01-30T18:32:39.762Z"
   },
   {
    "duration": 17,
    "start_time": "2022-01-30T18:32:40.244Z"
   },
   {
    "duration": 8,
    "start_time": "2022-01-30T18:32:40.427Z"
   },
   {
    "duration": 17,
    "start_time": "2022-01-30T18:32:40.605Z"
   },
   {
    "duration": 6,
    "start_time": "2022-01-30T18:32:42.643Z"
   },
   {
    "duration": 18,
    "start_time": "2022-01-30T18:32:43.337Z"
   },
   {
    "duration": 19,
    "start_time": "2022-01-30T18:32:44.137Z"
   },
   {
    "duration": 18,
    "start_time": "2022-01-30T18:32:44.354Z"
   },
   {
    "duration": 4,
    "start_time": "2022-01-30T18:32:45.669Z"
   },
   {
    "duration": 16,
    "start_time": "2022-01-30T18:32:46.297Z"
   },
   {
    "duration": 5,
    "start_time": "2022-01-30T18:32:46.867Z"
   },
   {
    "duration": 17,
    "start_time": "2022-01-30T18:32:47.889Z"
   },
   {
    "duration": 18,
    "start_time": "2022-01-30T18:32:49.073Z"
   },
   {
    "duration": 6,
    "start_time": "2022-01-30T18:32:51.495Z"
   },
   {
    "duration": 4,
    "start_time": "2022-01-30T18:32:52.851Z"
   },
   {
    "duration": 6,
    "start_time": "2022-01-30T18:32:55.717Z"
   },
   {
    "duration": 20,
    "start_time": "2022-01-30T18:32:55.725Z"
   },
   {
    "duration": 12,
    "start_time": "2022-01-30T18:33:00.755Z"
   },
   {
    "duration": 5,
    "start_time": "2022-01-30T18:33:02.846Z"
   },
   {
    "duration": 4,
    "start_time": "2022-01-30T18:33:09.150Z"
   },
   {
    "duration": 5,
    "start_time": "2022-01-30T18:33:10.699Z"
   },
   {
    "duration": 4,
    "start_time": "2022-01-30T18:33:12.178Z"
   },
   {
    "duration": 4,
    "start_time": "2022-01-30T18:33:14.583Z"
   },
   {
    "duration": 5,
    "start_time": "2022-01-30T18:33:15.189Z"
   },
   {
    "duration": 5,
    "start_time": "2022-01-30T18:33:15.841Z"
   },
   {
    "duration": 5,
    "start_time": "2022-01-30T18:33:16.724Z"
   },
   {
    "duration": 6,
    "start_time": "2022-01-30T18:33:18.115Z"
   },
   {
    "duration": 5,
    "start_time": "2022-01-30T18:33:19.086Z"
   },
   {
    "duration": 5,
    "start_time": "2022-01-30T18:33:23.584Z"
   },
   {
    "duration": 5,
    "start_time": "2022-01-30T18:33:25.510Z"
   },
   {
    "duration": 12,
    "start_time": "2022-01-30T18:33:26.401Z"
   },
   {
    "duration": 7,
    "start_time": "2022-01-30T18:33:47.141Z"
   },
   {
    "duration": 5,
    "start_time": "2022-01-30T18:33:49.267Z"
   },
   {
    "duration": 7,
    "start_time": "2022-01-30T18:33:50.304Z"
   },
   {
    "duration": 11,
    "start_time": "2022-01-30T18:33:50.759Z"
   },
   {
    "duration": 382,
    "start_time": "2022-01-30T18:33:53.789Z"
   },
   {
    "duration": 8,
    "start_time": "2022-01-30T18:33:54.173Z"
   },
   {
    "duration": 6,
    "start_time": "2022-01-30T18:33:54.300Z"
   },
   {
    "duration": 683,
    "start_time": "2022-01-30T18:33:57.011Z"
   },
   {
    "duration": 15,
    "start_time": "2022-01-30T18:33:59.046Z"
   },
   {
    "duration": 11,
    "start_time": "2022-01-30T18:33:59.422Z"
   },
   {
    "duration": 11,
    "start_time": "2022-01-30T18:34:01.703Z"
   },
   {
    "duration": 360,
    "start_time": "2022-01-30T18:34:01.947Z"
   },
   {
    "duration": 32,
    "start_time": "2022-01-30T18:34:09.160Z"
   },
   {
    "duration": 46,
    "start_time": "2022-01-30T18:34:10.031Z"
   },
   {
    "duration": 296,
    "start_time": "2022-01-30T18:45:43.634Z"
   },
   {
    "duration": 39,
    "start_time": "2022-01-30T18:50:01.185Z"
   },
   {
    "duration": 46,
    "start_time": "2022-01-30T18:50:02.690Z"
   },
   {
    "duration": 717,
    "start_time": "2022-01-30T18:50:09.169Z"
   },
   {
    "duration": 10513,
    "start_time": "2022-01-31T01:11:35.199Z"
   },
   {
    "duration": 627,
    "start_time": "2022-01-31T01:26:04.249Z"
   },
   {
    "duration": 45,
    "start_time": "2022-01-31T01:26:05.499Z"
   },
   {
    "duration": 19,
    "start_time": "2022-01-31T01:26:07.756Z"
   },
   {
    "duration": 923,
    "start_time": "2022-01-31T01:26:11.388Z"
   },
   {
    "duration": 22,
    "start_time": "2022-01-31T01:27:33.999Z"
   },
   {
    "duration": 21,
    "start_time": "2022-01-31T01:27:34.978Z"
   },
   {
    "duration": 23,
    "start_time": "2022-01-31T01:27:37.168Z"
   },
   {
    "duration": 37,
    "start_time": "2022-01-31T01:27:38.479Z"
   },
   {
    "duration": 42,
    "start_time": "2022-01-31T01:27:38.889Z"
   },
   {
    "duration": 22,
    "start_time": "2022-01-31T01:27:40.244Z"
   },
   {
    "duration": 19,
    "start_time": "2022-01-31T01:27:40.869Z"
   },
   {
    "duration": 17,
    "start_time": "2022-01-31T01:27:41.437Z"
   },
   {
    "duration": 25,
    "start_time": "2022-01-31T01:27:42.217Z"
   },
   {
    "duration": 22,
    "start_time": "2022-01-31T01:27:42.647Z"
   },
   {
    "duration": 23,
    "start_time": "2022-01-31T01:27:43.019Z"
   },
   {
    "duration": 5,
    "start_time": "2022-01-31T01:27:43.726Z"
   },
   {
    "duration": 4,
    "start_time": "2022-01-31T01:27:44.103Z"
   },
   {
    "duration": 391,
    "start_time": "2022-01-31T01:27:44.322Z"
   },
   {
    "duration": 29,
    "start_time": "2022-01-31T01:27:45.057Z"
   },
   {
    "duration": 18,
    "start_time": "2022-01-31T01:27:45.444Z"
   },
   {
    "duration": 19,
    "start_time": "2022-01-31T01:27:45.669Z"
   },
   {
    "duration": 9,
    "start_time": "2022-01-31T01:27:46.055Z"
   },
   {
    "duration": 13,
    "start_time": "2022-01-31T01:27:46.214Z"
   },
   {
    "duration": 12,
    "start_time": "2022-01-31T01:27:46.400Z"
   },
   {
    "duration": 26,
    "start_time": "2022-01-31T01:27:46.986Z"
   },
   {
    "duration": 10,
    "start_time": "2022-01-31T01:27:47.402Z"
   },
   {
    "duration": 26,
    "start_time": "2022-01-31T01:27:47.594Z"
   },
   {
    "duration": 18,
    "start_time": "2022-01-31T01:27:47.993Z"
   },
   {
    "duration": 7,
    "start_time": "2022-01-31T01:27:48.405Z"
   },
   {
    "duration": 21,
    "start_time": "2022-01-31T01:27:48.631Z"
   },
   {
    "duration": 18,
    "start_time": "2022-01-31T01:27:48.779Z"
   },
   {
    "duration": 26,
    "start_time": "2022-01-31T01:27:49.146Z"
   },
   {
    "duration": 11,
    "start_time": "2022-01-31T01:27:49.767Z"
   },
   {
    "duration": 25,
    "start_time": "2022-01-31T01:27:50.148Z"
   },
   {
    "duration": 18,
    "start_time": "2022-01-31T01:27:50.408Z"
   },
   {
    "duration": 7,
    "start_time": "2022-01-31T01:27:50.837Z"
   },
   {
    "duration": 14,
    "start_time": "2022-01-31T01:27:51.048Z"
   },
   {
    "duration": 38,
    "start_time": "2022-01-31T01:27:51.278Z"
   },
   {
    "duration": 24,
    "start_time": "2022-01-31T01:27:51.464Z"
   },
   {
    "duration": 9,
    "start_time": "2022-01-31T01:27:51.638Z"
   },
   {
    "duration": 18,
    "start_time": "2022-01-31T01:27:51.858Z"
   },
   {
    "duration": 19,
    "start_time": "2022-01-31T01:27:52.749Z"
   },
   {
    "duration": 31,
    "start_time": "2022-01-31T01:27:53.149Z"
   },
   {
    "duration": 28,
    "start_time": "2022-01-31T01:27:54.152Z"
   },
   {
    "duration": 112,
    "start_time": "2022-01-31T01:27:54.583Z"
   },
   {
    "duration": 27,
    "start_time": "2022-01-31T01:27:55.876Z"
   },
   {
    "duration": 12,
    "start_time": "2022-01-31T01:27:56.218Z"
   },
   {
    "duration": 28,
    "start_time": "2022-01-31T01:27:56.969Z"
   },
   {
    "duration": 9,
    "start_time": "2022-01-31T01:27:58.269Z"
   },
   {
    "duration": 27,
    "start_time": "2022-01-31T01:27:58.508Z"
   },
   {
    "duration": 40,
    "start_time": "2022-01-31T01:27:59.468Z"
   },
   {
    "duration": 27,
    "start_time": "2022-01-31T01:28:00.524Z"
   },
   {
    "duration": 5,
    "start_time": "2022-01-31T01:28:01.698Z"
   },
   {
    "duration": 25,
    "start_time": "2022-01-31T01:28:01.912Z"
   },
   {
    "duration": 7,
    "start_time": "2022-01-31T01:28:02.712Z"
   },
   {
    "duration": 31,
    "start_time": "2022-01-31T01:28:03.045Z"
   },
   {
    "duration": 28,
    "start_time": "2022-01-31T01:28:04.178Z"
   },
   {
    "duration": 8,
    "start_time": "2022-01-31T01:28:05.269Z"
   },
   {
    "duration": 6,
    "start_time": "2022-01-31T01:28:06.017Z"
   },
   {
    "duration": 8,
    "start_time": "2022-01-31T01:28:06.158Z"
   },
   {
    "duration": 27,
    "start_time": "2022-01-31T01:28:06.378Z"
   },
   {
    "duration": 20,
    "start_time": "2022-01-31T01:28:07.189Z"
   },
   {
    "duration": 8,
    "start_time": "2022-01-31T01:28:07.589Z"
   },
   {
    "duration": 7,
    "start_time": "2022-01-31T01:28:08.817Z"
   },
   {
    "duration": 6,
    "start_time": "2022-01-31T01:28:12.739Z"
   },
   {
    "duration": 6,
    "start_time": "2022-01-31T01:28:13.141Z"
   },
   {
    "duration": 6,
    "start_time": "2022-01-31T01:28:17.665Z"
   },
   {
    "duration": 6,
    "start_time": "2022-01-31T01:28:18.556Z"
   },
   {
    "duration": 6,
    "start_time": "2022-01-31T01:28:18.779Z"
   },
   {
    "duration": 6,
    "start_time": "2022-01-31T01:28:18.990Z"
   },
   {
    "duration": 7,
    "start_time": "2022-01-31T01:28:19.649Z"
   },
   {
    "duration": 6,
    "start_time": "2022-01-31T01:28:20.104Z"
   },
   {
    "duration": 6,
    "start_time": "2022-01-31T01:28:20.330Z"
   },
   {
    "duration": 7,
    "start_time": "2022-01-31T01:28:20.737Z"
   },
   {
    "duration": 18,
    "start_time": "2022-01-31T01:28:21.519Z"
   },
   {
    "duration": 10,
    "start_time": "2022-01-31T01:28:22.347Z"
   },
   {
    "duration": 6,
    "start_time": "2022-01-31T01:28:23.189Z"
   },
   {
    "duration": 8,
    "start_time": "2022-01-31T01:28:23.378Z"
   },
   {
    "duration": 18,
    "start_time": "2022-01-31T01:28:24.364Z"
   },
   {
    "duration": 540,
    "start_time": "2022-01-31T01:28:26.439Z"
   },
   {
    "duration": 11,
    "start_time": "2022-01-31T01:28:26.982Z"
   },
   {
    "duration": 11,
    "start_time": "2022-01-31T01:28:27.589Z"
   },
   {
    "duration": 1094,
    "start_time": "2022-01-31T01:28:31.157Z"
   },
   {
    "duration": 21,
    "start_time": "2022-01-31T01:28:41.871Z"
   },
   {
    "duration": 18,
    "start_time": "2022-01-31T01:28:43.349Z"
   },
   {
    "duration": 17,
    "start_time": "2022-01-31T01:28:44.833Z"
   },
   {
    "duration": 532,
    "start_time": "2022-01-31T01:28:53.248Z"
   },
   {
    "duration": 7,
    "start_time": "2022-01-31T01:42:02.140Z"
   },
   {
    "duration": 21,
    "start_time": "2022-01-31T01:42:28.628Z"
   },
   {
    "duration": 8,
    "start_time": "2022-01-31T01:43:07.427Z"
   },
   {
    "duration": 11,
    "start_time": "2022-01-31T01:46:10.760Z"
   },
   {
    "duration": 17,
    "start_time": "2022-01-31T01:46:28.173Z"
   },
   {
    "duration": 79,
    "start_time": "2022-01-31T01:51:28.258Z"
   },
   {
    "duration": 35,
    "start_time": "2022-01-31T01:51:39.777Z"
   },
   {
    "duration": 8,
    "start_time": "2022-01-31T01:52:27.828Z"
   },
   {
    "duration": 9,
    "start_time": "2022-01-31T01:52:56.288Z"
   },
   {
    "duration": 16,
    "start_time": "2022-01-31T01:53:35.057Z"
   },
   {
    "duration": 8,
    "start_time": "2022-01-31T01:56:23.806Z"
   },
   {
    "duration": 10,
    "start_time": "2022-01-31T01:59:28.259Z"
   },
   {
    "duration": 15,
    "start_time": "2022-01-31T01:59:37.912Z"
   },
   {
    "duration": 498,
    "start_time": "2022-01-31T02:00:50.207Z"
   },
   {
    "duration": 685,
    "start_time": "2022-01-31T02:07:15.617Z"
   },
   {
    "duration": 683,
    "start_time": "2022-01-31T02:07:30.567Z"
   },
   {
    "duration": 1014,
    "start_time": "2022-01-31T02:07:51.718Z"
   },
   {
    "duration": 969,
    "start_time": "2022-01-31T02:08:36.871Z"
   },
   {
    "duration": 1017,
    "start_time": "2022-01-31T02:08:46.195Z"
   },
   {
    "duration": 619,
    "start_time": "2022-01-31T02:09:29.477Z"
   },
   {
    "duration": 639,
    "start_time": "2022-01-31T02:09:41.032Z"
   },
   {
    "duration": 621,
    "start_time": "2022-01-31T02:10:18.177Z"
   },
   {
    "duration": 8,
    "start_time": "2022-01-31T02:11:45.706Z"
   },
   {
    "duration": 16,
    "start_time": "2022-01-31T02:12:07.103Z"
   },
   {
    "duration": 640,
    "start_time": "2022-01-31T02:13:21.737Z"
   },
   {
    "duration": 788,
    "start_time": "2022-01-31T02:15:15.606Z"
   },
   {
    "duration": 648,
    "start_time": "2022-01-31T02:15:31.227Z"
   },
   {
    "duration": 681,
    "start_time": "2022-01-31T02:15:58.397Z"
   },
   {
    "duration": 10,
    "start_time": "2022-01-31T02:16:40.786Z"
   },
   {
    "duration": 11,
    "start_time": "2022-01-31T02:18:30.135Z"
   },
   {
    "duration": 613,
    "start_time": "2022-01-31T02:18:32.653Z"
   },
   {
    "duration": 7,
    "start_time": "2022-01-31T02:20:25.697Z"
   },
   {
    "duration": 11,
    "start_time": "2022-01-31T02:20:26.999Z"
   },
   {
    "duration": 624,
    "start_time": "2022-01-31T02:20:27.632Z"
   },
   {
    "duration": 671,
    "start_time": "2022-01-31T02:23:19.896Z"
   },
   {
    "duration": 610,
    "start_time": "2022-01-31T02:24:22.047Z"
   },
   {
    "duration": 622,
    "start_time": "2022-01-31T02:24:55.357Z"
   },
   {
    "duration": 640,
    "start_time": "2022-01-31T02:25:16.237Z"
   },
   {
    "duration": 1819,
    "start_time": "2022-01-31T02:33:09.247Z"
   },
   {
    "duration": 9,
    "start_time": "2022-01-31T02:33:29.597Z"
   },
   {
    "duration": 10,
    "start_time": "2022-01-31T02:34:35.867Z"
   },
   {
    "duration": 4,
    "start_time": "2022-01-31T02:35:27.407Z"
   },
   {
    "duration": 247,
    "start_time": "2022-01-31T02:36:03.677Z"
   },
   {
    "duration": 231,
    "start_time": "2022-01-31T02:36:22.416Z"
   },
   {
    "duration": 536,
    "start_time": "2022-01-31T02:36:38.119Z"
   },
   {
    "duration": 3110,
    "start_time": "2022-01-31T02:37:09.087Z"
   },
   {
    "duration": 11,
    "start_time": "2022-01-31T02:38:06.307Z"
   },
   {
    "duration": 18,
    "start_time": "2022-01-31T02:38:13.587Z"
   },
   {
    "duration": 22,
    "start_time": "2022-01-31T02:39:18.745Z"
   },
   {
    "duration": 3,
    "start_time": "2022-01-31T02:40:44.547Z"
   },
   {
    "duration": 2435,
    "start_time": "2022-01-31T02:40:56.537Z"
   },
   {
    "duration": 2534,
    "start_time": "2022-01-31T02:46:06.837Z"
   },
   {
    "duration": 2519,
    "start_time": "2022-01-31T02:47:04.197Z"
   },
   {
    "duration": 2682,
    "start_time": "2022-01-31T02:47:40.496Z"
   },
   {
    "duration": 2656,
    "start_time": "2022-01-31T02:49:14.576Z"
   },
   {
    "duration": 3252,
    "start_time": "2022-01-31T02:49:43.919Z"
   },
   {
    "duration": 2590,
    "start_time": "2022-01-31T02:50:11.385Z"
   },
   {
    "duration": 13,
    "start_time": "2022-01-31T02:51:19.654Z"
   },
   {
    "duration": 2693,
    "start_time": "2022-01-31T02:51:51.106Z"
   },
   {
    "duration": 2635,
    "start_time": "2022-01-31T02:53:32.676Z"
   },
   {
    "duration": 268,
    "start_time": "2022-01-31T03:04:31.857Z"
   },
   {
    "duration": 8,
    "start_time": "2022-01-31T03:18:16.437Z"
   },
   {
    "duration": 398,
    "start_time": "2022-01-31T03:23:21.027Z"
   },
   {
    "duration": 707,
    "start_time": "2022-01-31T03:23:46.625Z"
   },
   {
    "duration": 662,
    "start_time": "2022-01-31T03:24:54.008Z"
   },
   {
    "duration": 365,
    "start_time": "2022-01-31T03:25:35.627Z"
   },
   {
    "duration": 647,
    "start_time": "2022-01-31T03:27:40.767Z"
   },
   {
    "duration": 731,
    "start_time": "2022-01-31T03:34:48.607Z"
   },
   {
    "duration": 717,
    "start_time": "2022-01-31T03:36:17.766Z"
   },
   {
    "duration": 742,
    "start_time": "2022-01-31T03:39:30.726Z"
   },
   {
    "duration": 10,
    "start_time": "2022-01-31T03:46:30.836Z"
   },
   {
    "duration": 11565,
    "start_time": "2022-01-31T03:47:04.355Z"
   },
   {
    "duration": 13246,
    "start_time": "2022-02-01T14:24:10.044Z"
   },
   {
    "duration": 740,
    "start_time": "2022-02-01T14:24:23.292Z"
   },
   {
    "duration": 61,
    "start_time": "2022-02-01T14:24:24.035Z"
   },
   {
    "duration": 18,
    "start_time": "2022-02-01T14:24:24.099Z"
   },
   {
    "duration": 1361,
    "start_time": "2022-02-01T14:24:27.764Z"
   },
   {
    "duration": 25,
    "start_time": "2022-02-01T14:24:31.377Z"
   },
   {
    "duration": 32,
    "start_time": "2022-02-01T14:24:31.504Z"
   },
   {
    "duration": 34,
    "start_time": "2022-02-01T14:24:31.711Z"
   },
   {
    "duration": 64,
    "start_time": "2022-02-01T14:24:32.252Z"
   },
   {
    "duration": 38,
    "start_time": "2022-02-01T14:24:32.809Z"
   },
   {
    "duration": 21,
    "start_time": "2022-02-01T14:24:33.434Z"
   },
   {
    "duration": 20,
    "start_time": "2022-02-01T14:24:33.833Z"
   },
   {
    "duration": 20,
    "start_time": "2022-02-01T14:24:34.403Z"
   },
   {
    "duration": 24,
    "start_time": "2022-02-01T14:24:35.023Z"
   },
   {
    "duration": 29,
    "start_time": "2022-02-01T14:24:35.465Z"
   },
   {
    "duration": 36,
    "start_time": "2022-02-01T14:24:35.864Z"
   },
   {
    "duration": 6,
    "start_time": "2022-02-01T14:24:36.694Z"
   },
   {
    "duration": 4,
    "start_time": "2022-02-01T14:24:37.112Z"
   },
   {
    "duration": 6,
    "start_time": "2022-02-01T14:24:37.313Z"
   },
   {
    "duration": 33,
    "start_time": "2022-02-01T14:24:37.733Z"
   },
   {
    "duration": 28,
    "start_time": "2022-02-01T14:24:38.154Z"
   },
   {
    "duration": 28,
    "start_time": "2022-02-01T14:24:38.343Z"
   },
   {
    "duration": 12,
    "start_time": "2022-02-01T14:24:38.753Z"
   },
   {
    "duration": 18,
    "start_time": "2022-02-01T14:24:38.972Z"
   },
   {
    "duration": 16,
    "start_time": "2022-02-01T14:24:39.154Z"
   },
   {
    "duration": 27,
    "start_time": "2022-02-01T14:24:39.795Z"
   },
   {
    "duration": 10,
    "start_time": "2022-02-01T14:24:40.198Z"
   },
   {
    "duration": 31,
    "start_time": "2022-02-01T14:24:40.441Z"
   },
   {
    "duration": 36,
    "start_time": "2022-02-01T14:24:41.554Z"
   },
   {
    "duration": 6,
    "start_time": "2022-02-01T14:24:41.940Z"
   },
   {
    "duration": 19,
    "start_time": "2022-02-01T14:24:42.133Z"
   },
   {
    "duration": 33,
    "start_time": "2022-02-01T14:24:42.363Z"
   },
   {
    "duration": 38,
    "start_time": "2022-02-01T14:24:42.503Z"
   },
   {
    "duration": 16,
    "start_time": "2022-02-01T14:24:43.104Z"
   },
   {
    "duration": 27,
    "start_time": "2022-02-01T14:24:45.624Z"
   },
   {
    "duration": 33,
    "start_time": "2022-02-01T14:24:45.761Z"
   },
   {
    "duration": 9,
    "start_time": "2022-02-01T14:24:46.123Z"
   },
   {
    "duration": 17,
    "start_time": "2022-02-01T14:24:46.284Z"
   },
   {
    "duration": 54,
    "start_time": "2022-02-01T14:24:46.463Z"
   },
   {
    "duration": 32,
    "start_time": "2022-02-01T14:24:46.642Z"
   },
   {
    "duration": 9,
    "start_time": "2022-02-01T14:24:46.832Z"
   },
   {
    "duration": 22,
    "start_time": "2022-02-01T14:24:47.020Z"
   },
   {
    "duration": 22,
    "start_time": "2022-02-01T14:24:49.312Z"
   },
   {
    "duration": 50,
    "start_time": "2022-02-01T14:24:50.743Z"
   },
   {
    "duration": 39,
    "start_time": "2022-02-01T14:24:52.767Z"
   },
   {
    "duration": 145,
    "start_time": "2022-02-01T14:24:53.333Z"
   },
   {
    "duration": 29,
    "start_time": "2022-02-01T14:24:53.733Z"
   },
   {
    "duration": 21,
    "start_time": "2022-02-01T14:24:54.166Z"
   },
   {
    "duration": 29,
    "start_time": "2022-02-01T14:24:55.090Z"
   },
   {
    "duration": 16,
    "start_time": "2022-02-01T14:24:56.384Z"
   },
   {
    "duration": 38,
    "start_time": "2022-02-01T14:24:56.663Z"
   },
   {
    "duration": 29,
    "start_time": "2022-02-01T14:24:57.113Z"
   },
   {
    "duration": 28,
    "start_time": "2022-02-01T14:24:57.524Z"
   },
   {
    "duration": 6,
    "start_time": "2022-02-01T14:24:59.113Z"
   },
   {
    "duration": 24,
    "start_time": "2022-02-01T14:24:59.894Z"
   },
   {
    "duration": 6,
    "start_time": "2022-02-01T14:25:00.615Z"
   },
   {
    "duration": 69,
    "start_time": "2022-02-01T14:25:01.051Z"
   },
   {
    "duration": 105,
    "start_time": "2022-02-01T14:25:01.572Z"
   },
   {
    "duration": 9,
    "start_time": "2022-02-01T14:25:04.333Z"
   },
   {
    "duration": 8,
    "start_time": "2022-02-01T14:25:06.983Z"
   },
   {
    "duration": 8,
    "start_time": "2022-02-01T14:25:07.143Z"
   },
   {
    "duration": 41,
    "start_time": "2022-02-01T14:25:07.369Z"
   },
   {
    "duration": 25,
    "start_time": "2022-02-01T14:25:15.644Z"
   },
   {
    "duration": 9,
    "start_time": "2022-02-01T14:25:18.832Z"
   },
   {
    "duration": 7,
    "start_time": "2022-02-01T14:25:26.592Z"
   },
   {
    "duration": 6,
    "start_time": "2022-02-01T14:25:27.001Z"
   },
   {
    "duration": 8,
    "start_time": "2022-02-01T14:25:27.375Z"
   },
   {
    "duration": 7,
    "start_time": "2022-02-01T14:25:27.692Z"
   },
   {
    "duration": 19,
    "start_time": "2022-02-01T14:25:27.889Z"
   },
   {
    "duration": 11,
    "start_time": "2022-02-01T14:25:28.071Z"
   },
   {
    "duration": 8,
    "start_time": "2022-02-01T14:25:28.263Z"
   },
   {
    "duration": 9,
    "start_time": "2022-02-01T14:25:28.623Z"
   },
   {
    "duration": 7,
    "start_time": "2022-02-01T14:25:28.799Z"
   },
   {
    "duration": 7,
    "start_time": "2022-02-01T14:25:29.384Z"
   },
   {
    "duration": 11,
    "start_time": "2022-02-01T14:25:29.763Z"
   },
   {
    "duration": 28,
    "start_time": "2022-02-01T14:25:37.955Z"
   },
   {
    "duration": 15,
    "start_time": "2022-02-01T14:25:38.733Z"
   },
   {
    "duration": 17,
    "start_time": "2022-02-01T14:25:46.551Z"
   },
   {
    "duration": 9,
    "start_time": "2022-02-01T14:25:50.376Z"
   },
   {
    "duration": 22,
    "start_time": "2022-02-01T14:25:50.895Z"
   },
   {
    "duration": 625,
    "start_time": "2022-02-01T14:25:53.203Z"
   },
   {
    "duration": 11,
    "start_time": "2022-02-01T14:25:53.831Z"
   },
   {
    "duration": 18,
    "start_time": "2022-02-01T14:25:56.966Z"
   },
   {
    "duration": 1158,
    "start_time": "2022-02-01T14:25:57.552Z"
   },
   {
    "duration": 21,
    "start_time": "2022-02-01T14:26:08.791Z"
   },
   {
    "duration": 26,
    "start_time": "2022-02-01T14:26:15.062Z"
   },
   {
    "duration": 29,
    "start_time": "2022-02-01T14:26:17.823Z"
   },
   {
    "duration": 629,
    "start_time": "2022-02-01T14:26:30.043Z"
   },
   {
    "duration": 8286,
    "start_time": "2022-02-01T14:27:00.051Z"
   },
   {
    "duration": 982,
    "start_time": "2022-02-01T14:27:16.653Z"
   },
   {
    "duration": 424,
    "start_time": "2022-02-01T14:30:29.042Z"
   },
   {
    "duration": 7,
    "start_time": "2022-02-01T14:31:20.178Z"
   },
   {
    "duration": 710,
    "start_time": "2022-02-01T14:36:59.939Z"
   },
   {
    "duration": 6,
    "start_time": "2022-02-01T14:37:06.285Z"
   },
   {
    "duration": 4231,
    "start_time": "2022-02-01T15:25:45.575Z"
   },
   {
    "duration": 4,
    "start_time": "2022-02-01T15:25:50.204Z"
   },
   {
    "duration": 54,
    "start_time": "2022-02-01T15:25:52.645Z"
   },
   {
    "duration": 20,
    "start_time": "2022-02-01T15:25:53.475Z"
   },
   {
    "duration": 26,
    "start_time": "2022-02-01T15:25:54.335Z"
   },
   {
    "duration": 23,
    "start_time": "2022-02-01T15:25:55.065Z"
   },
   {
    "duration": 28,
    "start_time": "2022-02-01T15:25:55.244Z"
   },
   {
    "duration": 30,
    "start_time": "2022-02-01T15:25:55.454Z"
   },
   {
    "duration": 39,
    "start_time": "2022-02-01T15:25:56.015Z"
   },
   {
    "duration": 44,
    "start_time": "2022-02-01T15:25:56.376Z"
   },
   {
    "duration": 26,
    "start_time": "2022-02-01T15:25:56.966Z"
   },
   {
    "duration": 26,
    "start_time": "2022-02-01T15:25:57.354Z"
   },
   {
    "duration": 20,
    "start_time": "2022-02-01T15:25:57.724Z"
   },
   {
    "duration": 24,
    "start_time": "2022-02-01T15:25:58.307Z"
   },
   {
    "duration": 28,
    "start_time": "2022-02-01T15:25:58.765Z"
   },
   {
    "duration": 28,
    "start_time": "2022-02-01T15:25:59.134Z"
   },
   {
    "duration": 6,
    "start_time": "2022-02-01T15:25:59.901Z"
   },
   {
    "duration": 4,
    "start_time": "2022-02-01T15:26:00.284Z"
   },
   {
    "duration": 6,
    "start_time": "2022-02-01T15:26:00.484Z"
   },
   {
    "duration": 22,
    "start_time": "2022-02-01T15:26:00.894Z"
   },
   {
    "duration": 23,
    "start_time": "2022-02-01T15:26:01.275Z"
   },
   {
    "duration": 21,
    "start_time": "2022-02-01T15:26:01.484Z"
   },
   {
    "duration": 11,
    "start_time": "2022-02-01T15:26:01.873Z"
   },
   {
    "duration": 17,
    "start_time": "2022-02-01T15:26:02.074Z"
   },
   {
    "duration": 16,
    "start_time": "2022-02-01T15:26:02.268Z"
   },
   {
    "duration": 26,
    "start_time": "2022-02-01T15:26:02.885Z"
   },
   {
    "duration": 10,
    "start_time": "2022-02-01T15:26:03.274Z"
   },
   {
    "duration": 37,
    "start_time": "2022-02-01T15:26:05.856Z"
   },
   {
    "duration": 28,
    "start_time": "2022-02-01T15:26:06.257Z"
   },
   {
    "duration": 6,
    "start_time": "2022-02-01T15:26:06.634Z"
   },
   {
    "duration": 20,
    "start_time": "2022-02-01T15:26:06.822Z"
   },
   {
    "duration": 27,
    "start_time": "2022-02-01T15:26:07.015Z"
   },
   {
    "duration": 33,
    "start_time": "2022-02-01T15:26:07.222Z"
   },
   {
    "duration": 11,
    "start_time": "2022-02-01T15:26:07.813Z"
   },
   {
    "duration": 26,
    "start_time": "2022-02-01T15:26:08.164Z"
   },
   {
    "duration": 24,
    "start_time": "2022-02-01T15:26:08.365Z"
   },
   {
    "duration": 12,
    "start_time": "2022-02-01T15:26:08.754Z"
   },
   {
    "duration": 14,
    "start_time": "2022-02-01T15:26:08.945Z"
   },
   {
    "duration": 42,
    "start_time": "2022-02-01T15:26:09.185Z"
   },
   {
    "duration": 33,
    "start_time": "2022-02-01T15:26:09.384Z"
   },
   {
    "duration": 11,
    "start_time": "2022-02-01T15:26:09.576Z"
   },
   {
    "duration": 22,
    "start_time": "2022-02-01T15:26:09.803Z"
   },
   {
    "duration": 21,
    "start_time": "2022-02-01T15:26:10.366Z"
   },
   {
    "duration": 39,
    "start_time": "2022-02-01T15:26:10.566Z"
   },
   {
    "duration": 30,
    "start_time": "2022-02-01T15:26:10.993Z"
   },
   {
    "duration": 148,
    "start_time": "2022-02-01T15:26:11.229Z"
   },
   {
    "duration": 27,
    "start_time": "2022-02-01T15:26:11.404Z"
   },
   {
    "duration": 12,
    "start_time": "2022-02-01T15:26:11.624Z"
   },
   {
    "duration": 26,
    "start_time": "2022-02-01T15:26:12.576Z"
   },
   {
    "duration": 10,
    "start_time": "2022-02-01T15:26:13.365Z"
   },
   {
    "duration": 34,
    "start_time": "2022-02-01T15:26:13.544Z"
   },
   {
    "duration": 38,
    "start_time": "2022-02-01T15:26:13.833Z"
   },
   {
    "duration": 32,
    "start_time": "2022-02-01T15:26:13.934Z"
   },
   {
    "duration": 6,
    "start_time": "2022-02-01T15:26:14.695Z"
   },
   {
    "duration": 23,
    "start_time": "2022-02-01T15:26:14.914Z"
   },
   {
    "duration": 7,
    "start_time": "2022-02-01T15:26:15.277Z"
   },
   {
    "duration": 40,
    "start_time": "2022-02-01T15:26:15.424Z"
   },
   {
    "duration": 39,
    "start_time": "2022-02-01T15:26:15.684Z"
   },
   {
    "duration": 10,
    "start_time": "2022-02-01T15:26:16.325Z"
   },
   {
    "duration": 7,
    "start_time": "2022-02-01T15:26:16.754Z"
   },
   {
    "duration": 8,
    "start_time": "2022-02-01T15:26:16.894Z"
   },
   {
    "duration": 29,
    "start_time": "2022-02-01T15:26:17.124Z"
   },
   {
    "duration": 28,
    "start_time": "2022-02-01T15:26:17.804Z"
   },
   {
    "duration": 8,
    "start_time": "2022-02-01T15:26:18.104Z"
   },
   {
    "duration": 7,
    "start_time": "2022-02-01T15:26:18.475Z"
   },
   {
    "duration": 7,
    "start_time": "2022-02-01T15:26:18.884Z"
   },
   {
    "duration": 7,
    "start_time": "2022-02-01T15:26:19.685Z"
   },
   {
    "duration": 6,
    "start_time": "2022-02-01T15:26:19.984Z"
   },
   {
    "duration": 7,
    "start_time": "2022-02-01T15:26:20.194Z"
   },
   {
    "duration": 7,
    "start_time": "2022-02-01T15:26:20.475Z"
   },
   {
    "duration": 8,
    "start_time": "2022-02-01T15:26:20.615Z"
   },
   {
    "duration": 7,
    "start_time": "2022-02-01T15:26:21.052Z"
   },
   {
    "duration": 8,
    "start_time": "2022-02-01T15:26:21.245Z"
   },
   {
    "duration": 8,
    "start_time": "2022-02-01T15:26:21.425Z"
   },
   {
    "duration": 7,
    "start_time": "2022-02-01T15:26:21.845Z"
   },
   {
    "duration": 25,
    "start_time": "2022-02-01T15:26:22.426Z"
   },
   {
    "duration": 14,
    "start_time": "2022-02-01T15:26:22.694Z"
   },
   {
    "duration": 8,
    "start_time": "2022-02-01T15:26:49.396Z"
   },
   {
    "duration": 12,
    "start_time": "2022-02-01T15:26:50.377Z"
   },
   {
    "duration": 21,
    "start_time": "2022-02-01T15:26:53.095Z"
   },
   {
    "duration": 4,
    "start_time": "2022-02-01T15:27:07.844Z"
   },
   {
    "duration": 15,
    "start_time": "2022-02-01T15:27:08.386Z"
   },
   {
    "duration": 13,
    "start_time": "2022-02-01T15:27:09.169Z"
   },
   {
    "duration": 1094,
    "start_time": "2022-02-01T15:29:21.975Z"
   },
   {
    "duration": 23,
    "start_time": "2022-02-01T15:29:23.465Z"
   },
   {
    "duration": 17,
    "start_time": "2022-02-01T15:29:24.216Z"
   },
   {
    "duration": 18,
    "start_time": "2022-02-01T15:29:25.076Z"
   },
   {
    "duration": 572,
    "start_time": "2022-02-01T15:29:25.224Z"
   },
   {
    "duration": 693,
    "start_time": "2022-02-01T15:29:30.185Z"
   },
   {
    "duration": 6,
    "start_time": "2022-02-01T15:29:31.005Z"
   },
   {
    "duration": 724,
    "start_time": "2022-02-01T15:29:44.240Z"
   },
   {
    "duration": 10,
    "start_time": "2022-02-01T15:29:48.387Z"
   },
   {
    "duration": 775,
    "start_time": "2022-02-01T15:30:07.447Z"
   },
   {
    "duration": 741,
    "start_time": "2022-02-01T15:30:17.134Z"
   },
   {
    "duration": 680,
    "start_time": "2022-02-01T15:32:36.295Z"
   },
   {
    "duration": 9,
    "start_time": "2022-02-01T15:34:30.390Z"
   },
   {
    "duration": 823,
    "start_time": "2022-02-01T15:35:57.106Z"
   },
   {
    "duration": 7,
    "start_time": "2022-02-01T15:37:44.177Z"
   },
   {
    "duration": 681,
    "start_time": "2022-02-01T15:42:40.097Z"
   },
   {
    "duration": 7,
    "start_time": "2022-02-01T15:44:43.877Z"
   },
   {
    "duration": 6,
    "start_time": "2022-02-01T15:46:48.949Z"
   },
   {
    "duration": 88,
    "start_time": "2022-02-01T15:51:48.959Z"
   },
   {
    "duration": 96,
    "start_time": "2022-02-01T15:53:11.455Z"
   },
   {
    "duration": 1644,
    "start_time": "2022-02-01T15:53:13.882Z"
   },
   {
    "duration": 78,
    "start_time": "2022-02-01T16:01:29.394Z"
   },
   {
    "duration": 83,
    "start_time": "2022-02-01T16:01:32.536Z"
   },
   {
    "duration": 1366,
    "start_time": "2022-02-01T16:03:48.045Z"
   },
   {
    "duration": 393,
    "start_time": "2022-02-01T16:06:08.587Z"
   },
   {
    "duration": 1437,
    "start_time": "2022-02-01T16:06:22.294Z"
   },
   {
    "duration": 1444,
    "start_time": "2022-02-01T16:07:16.244Z"
   },
   {
    "duration": 513,
    "start_time": "2022-02-01T16:09:08.324Z"
   },
   {
    "duration": 612,
    "start_time": "2022-02-01T16:09:31.855Z"
   },
   {
    "duration": 1385,
    "start_time": "2022-02-01T16:09:54.903Z"
   },
   {
    "duration": 35,
    "start_time": "2022-02-01T16:10:00.895Z"
   },
   {
    "duration": 69,
    "start_time": "2022-02-01T16:10:23.995Z"
   },
   {
    "duration": 17,
    "start_time": "2022-02-01T16:10:29.634Z"
   },
   {
    "duration": 593,
    "start_time": "2022-02-01T16:10:43.133Z"
   },
   {
    "duration": 608,
    "start_time": "2022-02-01T16:11:57.223Z"
   },
   {
    "duration": 50,
    "start_time": "2022-02-01T16:12:19.653Z"
   },
   {
    "duration": 50,
    "start_time": "2022-02-01T16:12:24.935Z"
   },
   {
    "duration": 18,
    "start_time": "2022-02-01T16:12:25.805Z"
   },
   {
    "duration": 733,
    "start_time": "2022-02-01T16:12:27.245Z"
   },
   {
    "duration": 1394,
    "start_time": "2022-02-01T16:17:34.154Z"
   },
   {
    "duration": 1406,
    "start_time": "2022-02-01T16:18:00.088Z"
   },
   {
    "duration": 1444,
    "start_time": "2022-02-01T16:18:13.046Z"
   },
   {
    "duration": 1467,
    "start_time": "2022-02-01T16:18:39.395Z"
   },
   {
    "duration": 49,
    "start_time": "2022-02-01T16:18:51.754Z"
   },
   {
    "duration": 42,
    "start_time": "2022-02-01T16:19:10.187Z"
   },
   {
    "duration": 27,
    "start_time": "2022-02-01T16:19:12.935Z"
   },
   {
    "duration": 586,
    "start_time": "2022-02-01T16:19:21.855Z"
   },
   {
    "duration": 59,
    "start_time": "2022-02-01T16:37:53.537Z"
   },
   {
    "duration": 22,
    "start_time": "2022-02-01T16:38:16.827Z"
   },
   {
    "duration": 4,
    "start_time": "2022-02-01T16:38:27.391Z"
   },
   {
    "duration": 563,
    "start_time": "2022-02-01T16:38:28.178Z"
   },
   {
    "duration": 590,
    "start_time": "2022-02-01T16:40:01.717Z"
   },
   {
    "duration": 1333,
    "start_time": "2022-02-01T16:40:33.969Z"
   },
   {
    "duration": 1252,
    "start_time": "2022-02-01T16:40:44.817Z"
   },
   {
    "duration": 579,
    "start_time": "2022-02-01T16:41:00.457Z"
   },
   {
    "duration": 564,
    "start_time": "2022-02-01T16:43:57.980Z"
   },
   {
    "duration": 1625,
    "start_time": "2022-02-01T16:51:51.674Z"
   },
   {
    "duration": 1461,
    "start_time": "2022-02-01T16:52:02.589Z"
   },
   {
    "duration": 743,
    "start_time": "2022-02-01T16:53:11.923Z"
   },
   {
    "duration": 9765,
    "start_time": "2022-02-02T10:08:14.589Z"
   },
   {
    "duration": 684,
    "start_time": "2022-02-02T10:08:24.357Z"
   },
   {
    "duration": 57,
    "start_time": "2022-02-02T10:08:25.044Z"
   },
   {
    "duration": 23,
    "start_time": "2022-02-02T10:08:25.104Z"
   },
   {
    "duration": 885,
    "start_time": "2022-02-02T10:08:25.129Z"
   },
   {
    "duration": 19,
    "start_time": "2022-02-02T10:08:26.016Z"
   },
   {
    "duration": 24,
    "start_time": "2022-02-02T10:08:26.038Z"
   },
   {
    "duration": 48,
    "start_time": "2022-02-02T10:08:26.067Z"
   },
   {
    "duration": 41,
    "start_time": "2022-02-02T10:08:26.119Z"
   },
   {
    "duration": 29,
    "start_time": "2022-02-02T10:08:26.162Z"
   },
   {
    "duration": 22,
    "start_time": "2022-02-02T10:08:26.208Z"
   },
   {
    "duration": 21,
    "start_time": "2022-02-02T10:08:26.232Z"
   },
   {
    "duration": 20,
    "start_time": "2022-02-02T10:08:26.255Z"
   },
   {
    "duration": 54,
    "start_time": "2022-02-02T10:08:26.277Z"
   },
   {
    "duration": 16,
    "start_time": "2022-02-02T10:08:26.333Z"
   },
   {
    "duration": 23,
    "start_time": "2022-02-02T10:08:26.351Z"
   },
   {
    "duration": 9,
    "start_time": "2022-02-02T10:08:26.407Z"
   },
   {
    "duration": 16,
    "start_time": "2022-02-02T10:08:26.418Z"
   },
   {
    "duration": 8,
    "start_time": "2022-02-02T10:08:26.436Z"
   },
   {
    "duration": 20,
    "start_time": "2022-02-02T10:08:26.446Z"
   },
   {
    "duration": 17,
    "start_time": "2022-02-02T10:08:26.469Z"
   },
   {
    "duration": 41,
    "start_time": "2022-02-02T10:08:26.489Z"
   },
   {
    "duration": 9,
    "start_time": "2022-02-02T10:08:26.536Z"
   },
   {
    "duration": 14,
    "start_time": "2022-02-02T10:08:26.547Z"
   },
   {
    "duration": 16,
    "start_time": "2022-02-02T10:08:26.564Z"
   },
   {
    "duration": 42,
    "start_time": "2022-02-02T10:08:26.582Z"
   },
   {
    "duration": 11,
    "start_time": "2022-02-02T10:08:26.627Z"
   },
   {
    "duration": 21,
    "start_time": "2022-02-02T10:08:26.640Z"
   },
   {
    "duration": 47,
    "start_time": "2022-02-02T10:08:26.663Z"
   },
   {
    "duration": 5,
    "start_time": "2022-02-02T10:08:26.712Z"
   },
   {
    "duration": 24,
    "start_time": "2022-02-02T10:08:26.719Z"
   },
   {
    "duration": 21,
    "start_time": "2022-02-02T10:08:26.772Z"
   },
   {
    "duration": 30,
    "start_time": "2022-02-02T10:08:26.985Z"
   },
   {
    "duration": 9,
    "start_time": "2022-02-02T10:08:27.559Z"
   },
   {
    "duration": 22,
    "start_time": "2022-02-02T10:08:27.979Z"
   },
   {
    "duration": 16,
    "start_time": "2022-02-02T10:08:28.204Z"
   },
   {
    "duration": 6,
    "start_time": "2022-02-02T10:08:28.553Z"
   },
   {
    "duration": 15,
    "start_time": "2022-02-02T10:08:28.732Z"
   },
   {
    "duration": 44,
    "start_time": "2022-02-02T10:08:29.092Z"
   },
   {
    "duration": 22,
    "start_time": "2022-02-02T10:08:29.149Z"
   },
   {
    "duration": 7,
    "start_time": "2022-02-02T10:08:29.337Z"
   },
   {
    "duration": 20,
    "start_time": "2022-02-02T10:08:29.563Z"
   },
   {
    "duration": 24,
    "start_time": "2022-02-02T10:08:30.197Z"
   },
   {
    "duration": 24,
    "start_time": "2022-02-02T10:08:30.361Z"
   },
   {
    "duration": 21,
    "start_time": "2022-02-02T10:08:30.775Z"
   },
   {
    "duration": 85,
    "start_time": "2022-02-02T10:08:30.995Z"
   },
   {
    "duration": 22,
    "start_time": "2022-02-02T10:08:31.174Z"
   },
   {
    "duration": 10,
    "start_time": "2022-02-02T10:08:31.353Z"
   },
   {
    "duration": 22,
    "start_time": "2022-02-02T10:08:31.572Z"
   },
   {
    "duration": 9,
    "start_time": "2022-02-02T10:08:32.803Z"
   },
   {
    "duration": 23,
    "start_time": "2022-02-02T10:08:33.069Z"
   },
   {
    "duration": 23,
    "start_time": "2022-02-02T10:08:33.381Z"
   },
   {
    "duration": 31,
    "start_time": "2022-02-02T10:08:33.809Z"
   },
   {
    "duration": 6,
    "start_time": "2022-02-02T10:08:34.602Z"
   },
   {
    "duration": 21,
    "start_time": "2022-02-02T10:08:34.793Z"
   },
   {
    "duration": 6,
    "start_time": "2022-02-02T10:08:34.994Z"
   },
   {
    "duration": 24,
    "start_time": "2022-02-02T10:08:35.313Z"
   },
   {
    "duration": 22,
    "start_time": "2022-02-02T10:08:35.479Z"
   },
   {
    "duration": 8,
    "start_time": "2022-02-02T10:08:36.169Z"
   },
   {
    "duration": 6,
    "start_time": "2022-02-02T10:08:36.679Z"
   },
   {
    "duration": 6,
    "start_time": "2022-02-02T10:08:36.863Z"
   },
   {
    "duration": 22,
    "start_time": "2022-02-02T10:08:37.273Z"
   },
   {
    "duration": 15,
    "start_time": "2022-02-02T10:08:38.050Z"
   },
   {
    "duration": 7,
    "start_time": "2022-02-02T10:08:38.647Z"
   },
   {
    "duration": 6,
    "start_time": "2022-02-02T10:08:39.224Z"
   },
   {
    "duration": 5,
    "start_time": "2022-02-02T10:08:39.824Z"
   },
   {
    "duration": 6,
    "start_time": "2022-02-02T10:08:40.189Z"
   },
   {
    "duration": 8,
    "start_time": "2022-02-02T10:08:40.620Z"
   },
   {
    "duration": 7,
    "start_time": "2022-02-02T10:08:40.849Z"
   },
   {
    "duration": 8,
    "start_time": "2022-02-02T10:08:41.069Z"
   },
   {
    "duration": 9,
    "start_time": "2022-02-02T10:08:41.224Z"
   },
   {
    "duration": 6,
    "start_time": "2022-02-02T10:08:41.633Z"
   },
   {
    "duration": 6,
    "start_time": "2022-02-02T10:08:41.861Z"
   },
   {
    "duration": 6,
    "start_time": "2022-02-02T10:08:42.058Z"
   },
   {
    "duration": 6,
    "start_time": "2022-02-02T10:08:42.479Z"
   },
   {
    "duration": 16,
    "start_time": "2022-02-02T10:08:42.911Z"
   },
   {
    "duration": 8,
    "start_time": "2022-02-02T10:08:43.162Z"
   },
   {
    "duration": 11,
    "start_time": "2022-02-02T10:08:43.511Z"
   },
   {
    "duration": 8,
    "start_time": "2022-02-02T10:08:43.733Z"
   },
   {
    "duration": 14,
    "start_time": "2022-02-02T10:08:43.960Z"
   },
   {
    "duration": 499,
    "start_time": "2022-02-02T10:08:44.989Z"
   },
   {
    "duration": 18,
    "start_time": "2022-02-02T10:08:45.491Z"
   },
   {
    "duration": 16,
    "start_time": "2022-02-02T10:08:45.512Z"
   },
   {
    "duration": 1060,
    "start_time": "2022-02-02T10:08:45.795Z"
   },
   {
    "duration": 17,
    "start_time": "2022-02-02T10:08:47.082Z"
   },
   {
    "duration": 14,
    "start_time": "2022-02-02T10:08:49.923Z"
   },
   {
    "duration": 14,
    "start_time": "2022-02-02T10:08:51.251Z"
   },
   {
    "duration": 396,
    "start_time": "2022-02-02T10:08:51.681Z"
   },
   {
    "duration": 571,
    "start_time": "2022-02-02T10:09:02.562Z"
   },
   {
    "duration": 5,
    "start_time": "2022-02-02T10:09:03.384Z"
   },
   {
    "duration": 491,
    "start_time": "2022-02-02T10:09:08.952Z"
   },
   {
    "duration": 5,
    "start_time": "2022-02-02T10:09:09.583Z"
   },
   {
    "duration": 648,
    "start_time": "2022-02-02T10:09:14.859Z"
   },
   {
    "duration": 11,
    "start_time": "2022-02-02T10:09:15.510Z"
   },
   {
    "duration": 522,
    "start_time": "2022-02-02T10:09:15.802Z"
   },
   {
    "duration": 7,
    "start_time": "2022-02-02T10:09:16.326Z"
   },
   {
    "duration": 615,
    "start_time": "2022-02-02T10:09:16.831Z"
   },
   {
    "duration": 5,
    "start_time": "2022-02-02T10:09:17.448Z"
   },
   {
    "duration": 535,
    "start_time": "2022-02-02T10:09:22.380Z"
   },
   {
    "duration": 6,
    "start_time": "2022-02-02T10:09:23.370Z"
   },
   {
    "duration": 48,
    "start_time": "2022-02-02T10:09:25.493Z"
   },
   {
    "duration": 66,
    "start_time": "2022-02-02T10:09:25.879Z"
   },
   {
    "duration": 1223,
    "start_time": "2022-02-02T10:09:41.679Z"
   },
   {
    "duration": 35,
    "start_time": "2022-02-02T10:09:43.049Z"
   },
   {
    "duration": 28,
    "start_time": "2022-02-02T10:09:44.386Z"
   },
   {
    "duration": 21,
    "start_time": "2022-02-02T10:09:44.709Z"
   },
   {
    "duration": 485,
    "start_time": "2022-02-02T10:09:48.634Z"
   },
   {
    "duration": 25,
    "start_time": "2022-02-02T10:09:51.870Z"
   },
   {
    "duration": 26,
    "start_time": "2022-02-02T10:09:51.898Z"
   },
   {
    "duration": 3,
    "start_time": "2022-02-02T10:09:58.875Z"
   },
   {
    "duration": 493,
    "start_time": "2022-02-02T10:10:11.557Z"
   },
   {
    "duration": 13,
    "start_time": "2022-02-02T10:10:15.354Z"
   },
   {
    "duration": 319,
    "start_time": "2022-02-02T10:10:15.892Z"
   },
   {
    "duration": 15,
    "start_time": "2022-02-02T10:12:13.682Z"
   },
   {
    "duration": 369,
    "start_time": "2022-02-02T10:12:43.798Z"
   },
   {
    "duration": 14,
    "start_time": "2022-02-02T10:13:03.894Z"
   },
   {
    "duration": 405,
    "start_time": "2022-02-02T10:13:06.641Z"
   },
   {
    "duration": 15,
    "start_time": "2022-02-02T10:13:11.957Z"
   },
   {
    "duration": 20,
    "start_time": "2022-02-02T10:13:23.511Z"
   },
   {
    "duration": 13,
    "start_time": "2022-02-02T10:13:36.072Z"
   },
   {
    "duration": 307,
    "start_time": "2022-02-02T10:13:39.663Z"
   },
   {
    "duration": 9,
    "start_time": "2022-02-02T10:15:13.593Z"
   },
   {
    "duration": 302,
    "start_time": "2022-02-02T10:15:14.368Z"
   },
   {
    "duration": 618,
    "start_time": "2022-02-02T10:18:17.611Z"
   },
   {
    "duration": 452,
    "start_time": "2022-02-02T10:18:33.661Z"
   },
   {
    "duration": 322,
    "start_time": "2022-02-02T10:19:29.746Z"
   },
   {
    "duration": 309,
    "start_time": "2022-02-02T10:19:57.295Z"
   },
   {
    "duration": 11,
    "start_time": "2022-02-02T10:20:11.783Z"
   },
   {
    "duration": 423,
    "start_time": "2022-02-02T10:20:14.474Z"
   },
   {
    "duration": 13,
    "start_time": "2022-02-02T10:28:42.060Z"
   },
   {
    "duration": 14,
    "start_time": "2022-02-02T10:29:03.936Z"
   },
   {
    "duration": 6,
    "start_time": "2022-02-02T10:29:05.553Z"
   },
   {
    "duration": 14,
    "start_time": "2022-02-02T10:30:25.949Z"
   },
   {
    "duration": 15,
    "start_time": "2022-02-02T10:30:41.982Z"
   },
   {
    "duration": 5,
    "start_time": "2022-02-02T10:31:00.963Z"
   },
   {
    "duration": 12,
    "start_time": "2022-02-02T10:32:59.735Z"
   },
   {
    "duration": 14,
    "start_time": "2022-02-02T10:33:10.599Z"
   },
   {
    "duration": 5,
    "start_time": "2022-02-02T10:33:12.016Z"
   },
   {
    "duration": 13,
    "start_time": "2022-02-02T10:34:06.178Z"
   },
   {
    "duration": 4,
    "start_time": "2022-02-02T10:34:09.935Z"
   },
   {
    "duration": 12,
    "start_time": "2022-02-02T10:35:56.872Z"
   },
   {
    "duration": 12,
    "start_time": "2022-02-02T10:36:02.343Z"
   },
   {
    "duration": 11,
    "start_time": "2022-02-02T10:36:09.242Z"
   },
   {
    "duration": 18,
    "start_time": "2022-02-02T10:36:30.029Z"
   },
   {
    "duration": 15,
    "start_time": "2022-02-02T10:48:00.545Z"
   },
   {
    "duration": 17,
    "start_time": "2022-02-02T10:48:01.882Z"
   },
   {
    "duration": 12,
    "start_time": "2022-02-02T10:48:07.935Z"
   },
   {
    "duration": 13,
    "start_time": "2022-02-02T10:50:57.535Z"
   },
   {
    "duration": 13,
    "start_time": "2022-02-02T10:51:01.881Z"
   },
   {
    "duration": 18,
    "start_time": "2022-02-02T10:51:27.102Z"
   },
   {
    "duration": 13,
    "start_time": "2022-02-02T10:51:32.353Z"
   },
   {
    "duration": 14,
    "start_time": "2022-02-02T10:51:51.701Z"
   },
   {
    "duration": 13,
    "start_time": "2022-02-02T10:51:54.534Z"
   },
   {
    "duration": 10,
    "start_time": "2022-02-02T10:52:06.257Z"
   },
   {
    "duration": 2,
    "start_time": "2022-02-02T10:52:19.482Z"
   },
   {
    "duration": 3,
    "start_time": "2022-02-02T10:52:21.044Z"
   },
   {
    "duration": 2,
    "start_time": "2022-02-02T10:52:37.342Z"
   },
   {
    "duration": 6,
    "start_time": "2022-02-02T10:52:39.743Z"
   },
   {
    "duration": 3,
    "start_time": "2022-02-02T10:55:09.444Z"
   },
   {
    "duration": 11,
    "start_time": "2022-02-02T10:55:15.607Z"
   },
   {
    "duration": 17,
    "start_time": "2022-02-02T10:55:39.257Z"
   },
   {
    "duration": 7,
    "start_time": "2022-02-02T10:55:44.652Z"
   },
   {
    "duration": 12,
    "start_time": "2022-02-02T10:55:50.491Z"
   },
   {
    "duration": 14,
    "start_time": "2022-02-02T10:55:54.903Z"
   },
   {
    "duration": 10,
    "start_time": "2022-02-02T10:56:05.119Z"
   },
   {
    "duration": 5,
    "start_time": "2022-02-02T10:56:18.715Z"
   },
   {
    "duration": 15,
    "start_time": "2022-02-02T10:56:24.311Z"
   },
   {
    "duration": 13,
    "start_time": "2022-02-02T10:56:30.972Z"
   },
   {
    "duration": 17,
    "start_time": "2022-02-02T10:56:49.796Z"
   },
   {
    "duration": 13,
    "start_time": "2022-02-02T10:56:52.344Z"
   },
   {
    "duration": 10,
    "start_time": "2022-02-02T10:57:05.530Z"
   },
   {
    "duration": 3,
    "start_time": "2022-02-02T10:57:32.422Z"
   },
   {
    "duration": 264,
    "start_time": "2022-02-02T10:57:34.326Z"
   },
   {
    "duration": 2627,
    "start_time": "2022-02-02T10:58:16.981Z"
   },
   {
    "duration": 3069,
    "start_time": "2022-02-02T10:59:43.930Z"
   },
   {
    "duration": 3,
    "start_time": "2022-02-02T10:59:47.002Z"
   },
   {
    "duration": 82,
    "start_time": "2022-02-02T10:59:47.008Z"
   },
   {
    "duration": 23,
    "start_time": "2022-02-02T10:59:47.093Z"
   },
   {
    "duration": 23,
    "start_time": "2022-02-02T10:59:49.146Z"
   },
   {
    "duration": 16,
    "start_time": "2022-02-02T10:59:49.861Z"
   },
   {
    "duration": 15,
    "start_time": "2022-02-02T10:59:50.028Z"
   },
   {
    "duration": 20,
    "start_time": "2022-02-02T10:59:50.256Z"
   },
   {
    "duration": 32,
    "start_time": "2022-02-02T10:59:50.745Z"
   },
   {
    "duration": 34,
    "start_time": "2022-02-02T10:59:51.086Z"
   },
   {
    "duration": 16,
    "start_time": "2022-02-02T10:59:51.788Z"
   },
   {
    "duration": 17,
    "start_time": "2022-02-02T10:59:52.165Z"
   },
   {
    "duration": 15,
    "start_time": "2022-02-02T10:59:52.477Z"
   },
   {
    "duration": 18,
    "start_time": "2022-02-02T10:59:53.047Z"
   },
   {
    "duration": 18,
    "start_time": "2022-02-02T10:59:53.419Z"
   },
   {
    "duration": 17,
    "start_time": "2022-02-02T10:59:53.821Z"
   },
   {
    "duration": 10,
    "start_time": "2022-02-02T10:59:55.306Z"
   },
   {
    "duration": 5,
    "start_time": "2022-02-02T10:59:55.936Z"
   },
   {
    "duration": 9,
    "start_time": "2022-02-02T10:59:56.104Z"
   },
   {
    "duration": 15,
    "start_time": "2022-02-02T10:59:56.534Z"
   },
   {
    "duration": 16,
    "start_time": "2022-02-02T10:59:56.978Z"
   },
   {
    "duration": 22,
    "start_time": "2022-02-02T10:59:57.214Z"
   },
   {
    "duration": 9,
    "start_time": "2022-02-02T10:59:57.667Z"
   },
   {
    "duration": 14,
    "start_time": "2022-02-02T10:59:57.849Z"
   },
   {
    "duration": 16,
    "start_time": "2022-02-02T10:59:58.105Z"
   },
   {
    "duration": 30,
    "start_time": "2022-02-02T10:59:58.628Z"
   },
   {
    "duration": 9,
    "start_time": "2022-02-02T10:59:59.030Z"
   },
   {
    "duration": 22,
    "start_time": "2022-02-02T10:59:59.227Z"
   },
   {
    "duration": 15,
    "start_time": "2022-02-02T10:59:59.641Z"
   },
   {
    "duration": 6,
    "start_time": "2022-02-02T11:00:00.003Z"
   },
   {
    "duration": 17,
    "start_time": "2022-02-02T11:00:00.225Z"
   },
   {
    "duration": 15,
    "start_time": "2022-02-02T11:00:00.367Z"
   },
   {
    "duration": 26,
    "start_time": "2022-02-02T11:00:00.587Z"
   },
   {
    "duration": 9,
    "start_time": "2022-02-02T11:00:01.146Z"
   },
   {
    "duration": 25,
    "start_time": "2022-02-02T11:00:01.498Z"
   },
   {
    "duration": 162,
    "start_time": "2022-02-02T11:00:01.678Z"
   },
   {
    "duration": 8,
    "start_time": "2022-02-02T11:00:02.071Z"
   },
   {
    "duration": 11,
    "start_time": "2022-02-02T11:00:02.427Z"
   },
   {
    "duration": 45,
    "start_time": "2022-02-02T11:00:02.669Z"
   },
   {
    "duration": 27,
    "start_time": "2022-02-02T11:00:02.813Z"
   },
   {
    "duration": 8,
    "start_time": "2022-02-02T11:00:03.066Z"
   },
   {
    "duration": 16,
    "start_time": "2022-02-02T11:00:03.256Z"
   },
   {
    "duration": 21,
    "start_time": "2022-02-02T11:00:03.822Z"
   },
   {
    "duration": 35,
    "start_time": "2022-02-02T11:00:04.280Z"
   },
   {
    "duration": 26,
    "start_time": "2022-02-02T11:00:04.995Z"
   },
   {
    "duration": 86,
    "start_time": "2022-02-02T11:00:05.179Z"
   },
   {
    "duration": 31,
    "start_time": "2022-02-02T11:00:05.769Z"
   },
   {
    "duration": 13,
    "start_time": "2022-02-02T11:00:05.968Z"
   },
   {
    "duration": 33,
    "start_time": "2022-02-02T11:00:06.632Z"
   },
   {
    "duration": 10,
    "start_time": "2022-02-02T11:00:07.789Z"
   },
   {
    "duration": 29,
    "start_time": "2022-02-02T11:00:08.387Z"
   },
   {
    "duration": 26,
    "start_time": "2022-02-02T11:00:08.548Z"
   },
   {
    "duration": 23,
    "start_time": "2022-02-02T11:00:09.718Z"
   },
   {
    "duration": 5,
    "start_time": "2022-02-02T11:00:10.949Z"
   },
   {
    "duration": 20,
    "start_time": "2022-02-02T11:00:11.121Z"
   },
   {
    "duration": 6,
    "start_time": "2022-02-02T11:00:11.820Z"
   },
   {
    "duration": 21,
    "start_time": "2022-02-02T11:00:11.968Z"
   },
   {
    "duration": 22,
    "start_time": "2022-02-02T11:00:12.165Z"
   },
   {
    "duration": 9,
    "start_time": "2022-02-02T11:00:12.904Z"
   },
   {
    "duration": 6,
    "start_time": "2022-02-02T11:00:13.549Z"
   },
   {
    "duration": 7,
    "start_time": "2022-02-02T11:00:13.760Z"
   },
   {
    "duration": 31,
    "start_time": "2022-02-02T11:00:14.320Z"
   },
   {
    "duration": 24,
    "start_time": "2022-02-02T11:00:15.695Z"
   },
   {
    "duration": 7,
    "start_time": "2022-02-02T11:00:16.278Z"
   },
   {
    "duration": 6,
    "start_time": "2022-02-02T11:00:18.552Z"
   },
   {
    "duration": 6,
    "start_time": "2022-02-02T11:00:18.947Z"
   },
   {
    "duration": 5,
    "start_time": "2022-02-02T11:00:19.342Z"
   },
   {
    "duration": 6,
    "start_time": "2022-02-02T11:00:19.696Z"
   },
   {
    "duration": 5,
    "start_time": "2022-02-02T11:00:20.098Z"
   },
   {
    "duration": 6,
    "start_time": "2022-02-02T11:00:20.272Z"
   },
   {
    "duration": 5,
    "start_time": "2022-02-02T11:00:20.735Z"
   },
   {
    "duration": 6,
    "start_time": "2022-02-02T11:00:21.181Z"
   },
   {
    "duration": 6,
    "start_time": "2022-02-02T11:00:21.456Z"
   },
   {
    "duration": 7,
    "start_time": "2022-02-02T11:00:21.676Z"
   },
   {
    "duration": 6,
    "start_time": "2022-02-02T11:00:22.045Z"
   },
   {
    "duration": 22,
    "start_time": "2022-02-02T11:00:24.277Z"
   },
   {
    "duration": 10,
    "start_time": "2022-02-02T11:00:29.578Z"
   },
   {
    "duration": 8,
    "start_time": "2022-02-02T11:00:31.327Z"
   },
   {
    "duration": 10,
    "start_time": "2022-02-02T11:00:32.858Z"
   },
   {
    "duration": 16,
    "start_time": "2022-02-02T11:00:36.226Z"
   },
   {
    "duration": 3,
    "start_time": "2022-02-02T11:00:53.929Z"
   },
   {
    "duration": 10,
    "start_time": "2022-02-02T11:00:54.628Z"
   },
   {
    "duration": 8,
    "start_time": "2022-02-02T11:00:55.197Z"
   },
   {
    "duration": 831,
    "start_time": "2022-02-02T11:00:57.085Z"
   },
   {
    "duration": 16,
    "start_time": "2022-02-02T11:00:58.536Z"
   },
   {
    "duration": 15,
    "start_time": "2022-02-02T11:00:58.935Z"
   },
   {
    "duration": 20,
    "start_time": "2022-02-02T11:00:59.600Z"
   },
   {
    "duration": 398,
    "start_time": "2022-02-02T11:00:59.774Z"
   },
   {
    "duration": 627,
    "start_time": "2022-02-02T11:01:01.096Z"
   },
   {
    "duration": 8,
    "start_time": "2022-02-02T11:01:01.728Z"
   },
   {
    "duration": 567,
    "start_time": "2022-02-02T11:01:01.819Z"
   },
   {
    "duration": 5,
    "start_time": "2022-02-02T11:01:02.388Z"
   },
   {
    "duration": 642,
    "start_time": "2022-02-02T11:01:02.525Z"
   },
   {
    "duration": 6,
    "start_time": "2022-02-02T11:01:03.170Z"
   },
   {
    "duration": 675,
    "start_time": "2022-02-02T11:01:03.179Z"
   },
   {
    "duration": 5,
    "start_time": "2022-02-02T11:01:03.857Z"
   },
   {
    "duration": 671,
    "start_time": "2022-02-02T11:01:03.865Z"
   },
   {
    "duration": 5,
    "start_time": "2022-02-02T11:01:04.538Z"
   },
   {
    "duration": 634,
    "start_time": "2022-02-02T11:01:04.546Z"
   },
   {
    "duration": 5,
    "start_time": "2022-02-02T11:01:05.182Z"
   },
   {
    "duration": 62,
    "start_time": "2022-02-02T11:01:05.422Z"
   },
   {
    "duration": 58,
    "start_time": "2022-02-02T11:01:05.623Z"
   },
   {
    "duration": 1057,
    "start_time": "2022-02-02T11:01:06.247Z"
   },
   {
    "duration": 35,
    "start_time": "2022-02-02T11:01:07.308Z"
   },
   {
    "duration": 30,
    "start_time": "2022-02-02T11:01:07.683Z"
   },
   {
    "duration": 16,
    "start_time": "2022-02-02T11:01:07.896Z"
   },
   {
    "duration": 476,
    "start_time": "2022-02-02T11:01:08.287Z"
   },
   {
    "duration": 50,
    "start_time": "2022-02-02T11:01:08.766Z"
   },
   {
    "duration": 18,
    "start_time": "2022-02-02T11:01:09.086Z"
   },
   {
    "duration": 4,
    "start_time": "2022-02-02T11:01:09.275Z"
   },
   {
    "duration": 404,
    "start_time": "2022-02-02T11:01:09.478Z"
   },
   {
    "duration": 15,
    "start_time": "2022-02-02T11:01:10.246Z"
   },
   {
    "duration": 348,
    "start_time": "2022-02-02T11:01:10.488Z"
   },
   {
    "duration": 10,
    "start_time": "2022-02-02T11:01:11.460Z"
   },
   {
    "duration": 559,
    "start_time": "2022-02-02T11:01:11.949Z"
   },
   {
    "duration": 12,
    "start_time": "2022-02-02T11:01:13.766Z"
   },
   {
    "duration": 6,
    "start_time": "2022-02-02T11:01:14.013Z"
   },
   {
    "duration": 12,
    "start_time": "2022-02-02T11:01:14.359Z"
   },
   {
    "duration": 5,
    "start_time": "2022-02-02T11:01:14.557Z"
   },
   {
    "duration": 12,
    "start_time": "2022-02-02T11:01:14.967Z"
   },
   {
    "duration": 5,
    "start_time": "2022-02-02T11:01:15.458Z"
   },
   {
    "duration": 17,
    "start_time": "2022-02-02T11:01:17.298Z"
   },
   {
    "duration": 13,
    "start_time": "2022-02-02T11:01:17.489Z"
   },
   {
    "duration": 17,
    "start_time": "2022-02-02T11:01:17.948Z"
   },
   {
    "duration": 13,
    "start_time": "2022-02-02T11:01:18.187Z"
   },
   {
    "duration": 11,
    "start_time": "2022-02-02T11:01:19.483Z"
   },
   {
    "duration": 11,
    "start_time": "2022-02-02T11:01:20.076Z"
   },
   {
    "duration": 12,
    "start_time": "2022-02-02T11:01:20.245Z"
   },
   {
    "duration": 11,
    "start_time": "2022-02-02T11:01:29.977Z"
   },
   {
    "duration": 13,
    "start_time": "2022-02-02T11:01:35.640Z"
   },
   {
    "duration": 9,
    "start_time": "2022-02-02T11:01:36.526Z"
   },
   {
    "duration": 14,
    "start_time": "2022-02-02T11:01:38.069Z"
   },
   {
    "duration": 16,
    "start_time": "2022-02-02T11:01:41.115Z"
   },
   {
    "duration": 11,
    "start_time": "2022-02-02T11:01:42.601Z"
   },
   {
    "duration": 4,
    "start_time": "2022-02-02T11:01:45.989Z"
   },
   {
    "duration": 3,
    "start_time": "2022-02-02T11:01:46.477Z"
   },
   {
    "duration": 4,
    "start_time": "2022-02-02T11:01:51.148Z"
   },
   {
    "duration": 6,
    "start_time": "2022-02-02T11:01:51.678Z"
   },
   {
    "duration": 4,
    "start_time": "2022-02-02T11:02:01.628Z"
   },
   {
    "duration": 6,
    "start_time": "2022-02-02T11:02:02.269Z"
   },
   {
    "duration": 16,
    "start_time": "2022-02-02T11:02:40.655Z"
   },
   {
    "duration": 9,
    "start_time": "2022-02-02T11:02:41.517Z"
   },
   {
    "duration": 12,
    "start_time": "2022-02-02T11:02:42.986Z"
   },
   {
    "duration": 13,
    "start_time": "2022-02-02T11:02:45.492Z"
   },
   {
    "duration": 11,
    "start_time": "2022-02-02T11:02:46.555Z"
   },
   {
    "duration": 2904,
    "start_time": "2022-02-02T11:03:17.469Z"
   },
   {
    "duration": -192,
    "start_time": "2022-02-02T11:03:20.568Z"
   },
   {
    "duration": -202,
    "start_time": "2022-02-02T11:03:20.579Z"
   },
   {
    "duration": 3,
    "start_time": "2022-02-02T11:03:25.276Z"
   },
   {
    "duration": 5,
    "start_time": "2022-02-02T11:03:25.570Z"
   },
   {
    "duration": 16,
    "start_time": "2022-02-02T11:03:30.317Z"
   },
   {
    "duration": 8,
    "start_time": "2022-02-02T11:03:30.977Z"
   },
   {
    "duration": 13,
    "start_time": "2022-02-02T11:03:33.869Z"
   },
   {
    "duration": 14,
    "start_time": "2022-02-02T11:03:36.578Z"
   },
   {
    "duration": 11,
    "start_time": "2022-02-02T11:03:39.459Z"
   },
   {
    "duration": 2683,
    "start_time": "2022-02-02T11:05:03.743Z"
   },
   {
    "duration": 4,
    "start_time": "2022-02-02T11:05:06.429Z"
   },
   {
    "duration": 52,
    "start_time": "2022-02-02T11:05:06.436Z"
   },
   {
    "duration": 24,
    "start_time": "2022-02-02T11:05:06.490Z"
   },
   {
    "duration": 41,
    "start_time": "2022-02-02T11:05:06.516Z"
   },
   {
    "duration": 16,
    "start_time": "2022-02-02T11:05:06.559Z"
   },
   {
    "duration": 18,
    "start_time": "2022-02-02T11:05:06.576Z"
   },
   {
    "duration": 34,
    "start_time": "2022-02-02T11:05:06.596Z"
   },
   {
    "duration": 32,
    "start_time": "2022-02-02T11:05:07.149Z"
   },
   {
    "duration": 35,
    "start_time": "2022-02-02T11:05:07.518Z"
   },
   {
    "duration": 23,
    "start_time": "2022-02-02T11:05:08.057Z"
   },
   {
    "duration": 23,
    "start_time": "2022-02-02T11:05:08.411Z"
   },
   {
    "duration": 18,
    "start_time": "2022-02-02T11:05:08.817Z"
   },
   {
    "duration": 25,
    "start_time": "2022-02-02T11:05:09.416Z"
   },
   {
    "duration": 17,
    "start_time": "2022-02-02T11:05:10.267Z"
   },
   {
    "duration": 18,
    "start_time": "2022-02-02T11:05:10.638Z"
   },
   {
    "duration": 5,
    "start_time": "2022-02-02T11:05:11.627Z"
   },
   {
    "duration": 4,
    "start_time": "2022-02-02T11:05:12.056Z"
   },
   {
    "duration": 4,
    "start_time": "2022-02-02T11:05:12.255Z"
   },
   {
    "duration": 15,
    "start_time": "2022-02-02T11:05:13.138Z"
   },
   {
    "duration": 20,
    "start_time": "2022-02-02T11:05:13.507Z"
   },
   {
    "duration": 16,
    "start_time": "2022-02-02T11:05:13.682Z"
   },
   {
    "duration": 10,
    "start_time": "2022-02-02T11:05:14.098Z"
   },
   {
    "duration": 15,
    "start_time": "2022-02-02T11:05:14.297Z"
   },
   {
    "duration": 10,
    "start_time": "2022-02-02T11:05:14.494Z"
   },
   {
    "duration": 29,
    "start_time": "2022-02-02T11:05:15.039Z"
   },
   {
    "duration": 10,
    "start_time": "2022-02-02T11:05:15.468Z"
   },
   {
    "duration": 33,
    "start_time": "2022-02-02T11:05:15.667Z"
   },
   {
    "duration": 18,
    "start_time": "2022-02-02T11:05:16.058Z"
   },
   {
    "duration": 6,
    "start_time": "2022-02-02T11:05:16.447Z"
   },
   {
    "duration": 18,
    "start_time": "2022-02-02T11:05:16.647Z"
   },
   {
    "duration": 16,
    "start_time": "2022-02-02T11:05:16.858Z"
   },
   {
    "duration": 34,
    "start_time": "2022-02-02T11:05:17.057Z"
   },
   {
    "duration": 9,
    "start_time": "2022-02-02T11:05:17.687Z"
   },
   {
    "duration": 19,
    "start_time": "2022-02-02T11:05:18.139Z"
   },
   {
    "duration": 18,
    "start_time": "2022-02-02T11:05:18.304Z"
   },
   {
    "duration": 7,
    "start_time": "2022-02-02T11:05:18.711Z"
   },
   {
    "duration": 12,
    "start_time": "2022-02-02T11:05:18.927Z"
   },
   {
    "duration": 43,
    "start_time": "2022-02-02T11:05:19.094Z"
   },
   {
    "duration": 21,
    "start_time": "2022-02-02T11:05:19.298Z"
   },
   {
    "duration": 8,
    "start_time": "2022-02-02T11:05:19.527Z"
   },
   {
    "duration": 17,
    "start_time": "2022-02-02T11:05:19.715Z"
   },
   {
    "duration": 19,
    "start_time": "2022-02-02T11:05:20.287Z"
   },
   {
    "duration": 36,
    "start_time": "2022-02-02T11:05:20.451Z"
   },
   {
    "duration": 25,
    "start_time": "2022-02-02T11:05:20.879Z"
   },
   {
    "duration": 81,
    "start_time": "2022-02-02T11:05:21.151Z"
   },
   {
    "duration": 26,
    "start_time": "2022-02-02T11:05:21.287Z"
   },
   {
    "duration": 11,
    "start_time": "2022-02-02T11:05:21.548Z"
   },
   {
    "duration": 31,
    "start_time": "2022-02-02T11:05:21.678Z"
   },
   {
    "duration": 8,
    "start_time": "2022-02-02T11:05:22.320Z"
   },
   {
    "duration": 33,
    "start_time": "2022-02-02T11:05:22.547Z"
   },
   {
    "duration": 32,
    "start_time": "2022-02-02T11:05:22.729Z"
   },
   {
    "duration": 34,
    "start_time": "2022-02-02T11:05:22.969Z"
   },
   {
    "duration": 6,
    "start_time": "2022-02-02T11:05:23.365Z"
   },
   {
    "duration": 25,
    "start_time": "2022-02-02T11:05:23.587Z"
   },
   {
    "duration": 7,
    "start_time": "2022-02-02T11:05:23.763Z"
   },
   {
    "duration": 23,
    "start_time": "2022-02-02T11:05:24.005Z"
   },
   {
    "duration": 27,
    "start_time": "2022-02-02T11:05:24.197Z"
   },
   {
    "duration": 8,
    "start_time": "2022-02-02T11:05:24.605Z"
   },
   {
    "duration": 6,
    "start_time": "2022-02-02T11:05:24.997Z"
   },
   {
    "duration": 8,
    "start_time": "2022-02-02T11:05:25.211Z"
   },
   {
    "duration": 24,
    "start_time": "2022-02-02T11:05:25.375Z"
   },
   {
    "duration": 21,
    "start_time": "2022-02-02T11:05:25.949Z"
   },
   {
    "duration": 7,
    "start_time": "2022-02-02T11:05:26.326Z"
   },
   {
    "duration": 5,
    "start_time": "2022-02-02T11:05:26.730Z"
   },
   {
    "duration": 6,
    "start_time": "2022-02-02T11:05:27.147Z"
   },
   {
    "duration": 8,
    "start_time": "2022-02-02T11:05:27.559Z"
   },
   {
    "duration": 6,
    "start_time": "2022-02-02T11:05:27.971Z"
   },
   {
    "duration": 6,
    "start_time": "2022-02-02T11:05:28.257Z"
   },
   {
    "duration": 7,
    "start_time": "2022-02-02T11:05:28.787Z"
   },
   {
    "duration": 7,
    "start_time": "2022-02-02T11:05:29.007Z"
   },
   {
    "duration": 7,
    "start_time": "2022-02-02T11:05:29.367Z"
   },
   {
    "duration": 7,
    "start_time": "2022-02-02T11:05:29.577Z"
   },
   {
    "duration": 7,
    "start_time": "2022-02-02T11:05:29.748Z"
   },
   {
    "duration": 5,
    "start_time": "2022-02-02T11:05:30.127Z"
   },
   {
    "duration": 16,
    "start_time": "2022-02-02T11:05:30.533Z"
   },
   {
    "duration": 8,
    "start_time": "2022-02-02T11:05:30.698Z"
   },
   {
    "duration": 7,
    "start_time": "2022-02-02T11:05:31.097Z"
   },
   {
    "duration": 7,
    "start_time": "2022-02-02T11:05:31.326Z"
   },
   {
    "duration": 22,
    "start_time": "2022-02-02T11:05:31.496Z"
   },
   {
    "duration": 3,
    "start_time": "2022-02-02T11:05:32.540Z"
   },
   {
    "duration": 11,
    "start_time": "2022-02-02T11:05:32.727Z"
   },
   {
    "duration": 11,
    "start_time": "2022-02-02T11:05:32.918Z"
   },
   {
    "duration": 795,
    "start_time": "2022-02-02T11:05:33.329Z"
   },
   {
    "duration": 17,
    "start_time": "2022-02-02T11:05:34.140Z"
   },
   {
    "duration": 23,
    "start_time": "2022-02-02T11:05:34.611Z"
   },
   {
    "duration": 14,
    "start_time": "2022-02-02T11:05:35.190Z"
   },
   {
    "duration": 434,
    "start_time": "2022-02-02T11:05:35.443Z"
   },
   {
    "duration": 498,
    "start_time": "2022-02-02T11:05:36.650Z"
   },
   {
    "duration": 5,
    "start_time": "2022-02-02T11:05:37.151Z"
   },
   {
    "duration": 570,
    "start_time": "2022-02-02T11:05:37.277Z"
   },
   {
    "duration": 5,
    "start_time": "2022-02-02T11:05:37.850Z"
   },
   {
    "duration": 517,
    "start_time": "2022-02-02T11:05:37.962Z"
   },
   {
    "duration": 5,
    "start_time": "2022-02-02T11:05:38.481Z"
   },
   {
    "duration": 569,
    "start_time": "2022-02-02T11:05:38.653Z"
   },
   {
    "duration": 16,
    "start_time": "2022-02-02T11:05:39.232Z"
   },
   {
    "duration": 584,
    "start_time": "2022-02-02T11:05:39.347Z"
   },
   {
    "duration": 4,
    "start_time": "2022-02-02T11:05:39.934Z"
   },
   {
    "duration": 478,
    "start_time": "2022-02-02T11:05:40.039Z"
   },
   {
    "duration": 5,
    "start_time": "2022-02-02T11:05:40.520Z"
   },
   {
    "duration": 61,
    "start_time": "2022-02-02T11:05:41.148Z"
   },
   {
    "duration": 53,
    "start_time": "2022-02-02T11:05:41.355Z"
   },
   {
    "duration": 1075,
    "start_time": "2022-02-02T11:05:41.959Z"
   },
   {
    "duration": 23,
    "start_time": "2022-02-02T11:05:43.036Z"
   },
   {
    "duration": 34,
    "start_time": "2022-02-02T11:05:43.662Z"
   },
   {
    "duration": 19,
    "start_time": "2022-02-02T11:05:43.848Z"
   },
   {
    "duration": 467,
    "start_time": "2022-02-02T11:05:44.288Z"
   },
   {
    "duration": 25,
    "start_time": "2022-02-02T11:05:44.757Z"
   },
   {
    "duration": 15,
    "start_time": "2022-02-02T11:05:45.128Z"
   },
   {
    "duration": 4,
    "start_time": "2022-02-02T11:05:45.378Z"
   },
   {
    "duration": 374,
    "start_time": "2022-02-02T11:05:46.088Z"
   },
   {
    "duration": 18,
    "start_time": "2022-02-02T11:05:46.920Z"
   },
   {
    "duration": 353,
    "start_time": "2022-02-02T11:05:47.094Z"
   },
   {
    "duration": 9,
    "start_time": "2022-02-02T11:05:48.124Z"
   },
   {
    "duration": 333,
    "start_time": "2022-02-02T11:05:48.520Z"
   },
   {
    "duration": 12,
    "start_time": "2022-02-02T11:05:51.060Z"
   },
   {
    "duration": 5,
    "start_time": "2022-02-02T11:05:51.609Z"
   },
   {
    "duration": 15,
    "start_time": "2022-02-02T11:05:52.679Z"
   },
   {
    "duration": 5,
    "start_time": "2022-02-02T11:05:53.740Z"
   },
   {
    "duration": 15,
    "start_time": "2022-02-02T11:05:58.489Z"
   },
   {
    "duration": 6,
    "start_time": "2022-02-02T11:05:58.644Z"
   },
   {
    "duration": 14,
    "start_time": "2022-02-02T11:05:59.507Z"
   },
   {
    "duration": 14,
    "start_time": "2022-02-02T11:05:59.664Z"
   },
   {
    "duration": 16,
    "start_time": "2022-02-02T11:05:59.841Z"
   },
   {
    "duration": 13,
    "start_time": "2022-02-02T11:06:00.044Z"
   },
   {
    "duration": 13,
    "start_time": "2022-02-02T11:06:01.088Z"
   },
   {
    "duration": 12,
    "start_time": "2022-02-02T11:06:01.279Z"
   },
   {
    "duration": 12,
    "start_time": "2022-02-02T11:06:01.680Z"
   },
   {
    "duration": 12,
    "start_time": "2022-02-02T11:06:04.220Z"
   },
   {
    "duration": 14,
    "start_time": "2022-02-02T11:06:04.357Z"
   },
   {
    "duration": 11,
    "start_time": "2022-02-02T11:06:09.450Z"
   },
   {
    "duration": 13,
    "start_time": "2022-02-02T11:06:09.932Z"
   },
   {
    "duration": 13,
    "start_time": "2022-02-02T11:06:13.180Z"
   },
   {
    "duration": 10,
    "start_time": "2022-02-02T11:06:14.787Z"
   },
   {
    "duration": 3,
    "start_time": "2022-02-02T11:06:15.789Z"
   },
   {
    "duration": 3,
    "start_time": "2022-02-02T11:06:22.929Z"
   },
   {
    "duration": 3,
    "start_time": "2022-02-02T11:06:35.759Z"
   },
   {
    "duration": 6,
    "start_time": "2022-02-02T11:06:36.588Z"
   },
   {
    "duration": 4,
    "start_time": "2022-02-02T11:06:45.078Z"
   },
   {
    "duration": 6,
    "start_time": "2022-02-02T11:06:46.242Z"
   },
   {
    "duration": 21,
    "start_time": "2022-02-02T11:06:50.848Z"
   },
   {
    "duration": 8,
    "start_time": "2022-02-02T11:06:51.915Z"
   },
   {
    "duration": 13,
    "start_time": "2022-02-02T11:06:52.857Z"
   },
   {
    "duration": 14,
    "start_time": "2022-02-02T11:06:56.649Z"
   },
   {
    "duration": 10,
    "start_time": "2022-02-02T11:06:57.779Z"
   },
   {
    "duration": 3,
    "start_time": "2022-02-02T11:07:04.254Z"
   },
   {
    "duration": 19,
    "start_time": "2022-02-02T11:07:04.260Z"
   },
   {
    "duration": 12,
    "start_time": "2022-02-02T11:07:10.825Z"
   },
   {
    "duration": 9,
    "start_time": "2022-02-02T11:07:11.696Z"
   },
   {
    "duration": 3,
    "start_time": "2022-02-02T11:07:38.823Z"
   },
   {
    "duration": 3,
    "start_time": "2022-02-02T11:07:41.977Z"
   },
   {
    "duration": 6,
    "start_time": "2022-02-02T11:07:44.938Z"
   },
   {
    "duration": 6,
    "start_time": "2022-02-02T11:08:08.448Z"
   },
   {
    "duration": 17,
    "start_time": "2022-02-02T12:09:07.460Z"
   },
   {
    "duration": 3,
    "start_time": "2022-02-02T12:09:16.828Z"
   },
   {
    "duration": 331,
    "start_time": "2022-02-02T12:09:18.511Z"
   },
   {
    "duration": 13,
    "start_time": "2022-02-02T12:10:04.790Z"
   },
   {
    "duration": 295,
    "start_time": "2022-02-02T12:10:05.689Z"
   },
   {
    "duration": 8,
    "start_time": "2022-02-02T12:10:08.816Z"
   },
   {
    "duration": 310,
    "start_time": "2022-02-02T12:10:09.661Z"
   },
   {
    "duration": 11,
    "start_time": "2022-02-02T12:10:13.019Z"
   },
   {
    "duration": 5,
    "start_time": "2022-02-02T12:10:14.678Z"
   },
   {
    "duration": 12,
    "start_time": "2022-02-02T12:10:14.993Z"
   },
   {
    "duration": 5,
    "start_time": "2022-02-02T12:10:15.164Z"
   },
   {
    "duration": 12,
    "start_time": "2022-02-02T12:10:15.495Z"
   },
   {
    "duration": 5,
    "start_time": "2022-02-02T12:10:15.678Z"
   },
   {
    "duration": 13,
    "start_time": "2022-02-02T12:10:16.518Z"
   },
   {
    "duration": 12,
    "start_time": "2022-02-02T12:10:16.703Z"
   },
   {
    "duration": 11,
    "start_time": "2022-02-02T12:10:16.876Z"
   },
   {
    "duration": 20,
    "start_time": "2022-02-02T12:10:17.073Z"
   },
   {
    "duration": 12,
    "start_time": "2022-02-02T12:10:18.400Z"
   },
   {
    "duration": 11,
    "start_time": "2022-02-02T12:10:18.590Z"
   },
   {
    "duration": 12,
    "start_time": "2022-02-02T12:10:18.993Z"
   },
   {
    "duration": 12,
    "start_time": "2022-02-02T12:10:21.781Z"
   },
   {
    "duration": 13,
    "start_time": "2022-02-02T12:10:24.528Z"
   },
   {
    "duration": 9,
    "start_time": "2022-02-02T12:10:27.028Z"
   },
   {
    "duration": 12,
    "start_time": "2022-02-02T12:10:27.220Z"
   },
   {
    "duration": 12,
    "start_time": "2022-02-02T12:10:27.373Z"
   },
   {
    "duration": 9,
    "start_time": "2022-02-02T12:10:31.891Z"
   },
   {
    "duration": 3,
    "start_time": "2022-02-02T12:10:32.021Z"
   },
   {
    "duration": 4,
    "start_time": "2022-02-02T12:10:33.898Z"
   },
   {
    "duration": 3,
    "start_time": "2022-02-02T12:10:36.409Z"
   },
   {
    "duration": 5,
    "start_time": "2022-02-02T12:10:36.579Z"
   },
   {
    "duration": 3,
    "start_time": "2022-02-02T12:10:37.232Z"
   },
   {
    "duration": 6,
    "start_time": "2022-02-02T12:10:37.423Z"
   },
   {
    "duration": 15,
    "start_time": "2022-02-02T12:10:40.771Z"
   },
   {
    "duration": 7,
    "start_time": "2022-02-02T12:10:40.928Z"
   },
   {
    "duration": 11,
    "start_time": "2022-02-02T12:10:41.131Z"
   },
   {
    "duration": 13,
    "start_time": "2022-02-02T12:10:41.331Z"
   },
   {
    "duration": 10,
    "start_time": "2022-02-02T12:10:41.740Z"
   },
   {
    "duration": 3,
    "start_time": "2022-02-02T12:10:41.916Z"
   },
   {
    "duration": 12,
    "start_time": "2022-02-02T12:10:42.090Z"
   },
   {
    "duration": 13,
    "start_time": "2022-02-02T12:10:43.031Z"
   },
   {
    "duration": 12,
    "start_time": "2022-02-02T12:10:43.170Z"
   },
   {
    "duration": 3,
    "start_time": "2022-02-02T12:10:43.352Z"
   },
   {
    "duration": 3,
    "start_time": "2022-02-02T12:10:44.481Z"
   },
   {
    "duration": 7,
    "start_time": "2022-02-02T12:10:44.617Z"
   },
   {
    "duration": 6,
    "start_time": "2022-02-02T12:10:45.970Z"
   },
   {
    "duration": 2591,
    "start_time": "2022-02-02T12:16:52.141Z"
   },
   {
    "duration": 3,
    "start_time": "2022-02-02T12:17:08.509Z"
   },
   {
    "duration": 44,
    "start_time": "2022-02-02T12:17:15.410Z"
   },
   {
    "duration": 16,
    "start_time": "2022-02-02T12:17:16.831Z"
   },
   {
    "duration": 23,
    "start_time": "2022-02-02T12:17:20.022Z"
   },
   {
    "duration": 15,
    "start_time": "2022-02-02T12:17:24.629Z"
   },
   {
    "duration": 14,
    "start_time": "2022-02-02T12:17:26.880Z"
   },
   {
    "duration": 19,
    "start_time": "2022-02-02T12:17:28.639Z"
   },
   {
    "duration": 30,
    "start_time": "2022-02-02T12:17:48.652Z"
   },
   {
    "duration": 29,
    "start_time": "2022-02-02T12:17:49.829Z"
   },
   {
    "duration": 21,
    "start_time": "2022-02-02T12:18:20.112Z"
   },
   {
    "duration": 16,
    "start_time": "2022-02-02T12:18:23.680Z"
   },
   {
    "duration": 14,
    "start_time": "2022-02-02T12:18:25.200Z"
   },
   {
    "duration": 16,
    "start_time": "2022-02-02T12:18:34.339Z"
   },
   {
    "duration": 17,
    "start_time": "2022-02-02T12:18:35.731Z"
   },
   {
    "duration": 18,
    "start_time": "2022-02-02T12:18:36.886Z"
   },
   {
    "duration": 4,
    "start_time": "2022-02-02T12:18:39.350Z"
   },
   {
    "duration": 4,
    "start_time": "2022-02-02T12:18:42.931Z"
   },
   {
    "duration": 5,
    "start_time": "2022-02-02T12:18:43.280Z"
   },
   {
    "duration": 14,
    "start_time": "2022-02-02T12:18:44.280Z"
   },
   {
    "duration": 15,
    "start_time": "2022-02-02T12:18:50.817Z"
   },
   {
    "duration": 15,
    "start_time": "2022-02-02T12:18:53.807Z"
   },
   {
    "duration": 8,
    "start_time": "2022-02-02T12:18:55.819Z"
   },
   {
    "duration": 10,
    "start_time": "2022-02-02T12:18:56.210Z"
   },
   {
    "duration": 10,
    "start_time": "2022-02-02T12:18:58.781Z"
   },
   {
    "duration": 21,
    "start_time": "2022-02-02T12:19:07.380Z"
   },
   {
    "duration": 9,
    "start_time": "2022-02-02T12:19:32.001Z"
   },
   {
    "duration": 7,
    "start_time": "2022-02-02T12:19:35.226Z"
   },
   {
    "duration": 21,
    "start_time": "2022-02-02T12:19:39.151Z"
   },
   {
    "duration": 14,
    "start_time": "2022-02-02T12:19:48.340Z"
   },
   {
    "duration": 5,
    "start_time": "2022-02-02T12:19:52.901Z"
   },
   {
    "duration": 15,
    "start_time": "2022-02-02T12:19:58.361Z"
   },
   {
    "duration": 15,
    "start_time": "2022-02-02T12:20:25.816Z"
   },
   {
    "duration": 21,
    "start_time": "2022-02-02T12:20:29.330Z"
   },
   {
    "duration": 9,
    "start_time": "2022-02-02T12:20:34.060Z"
   },
   {
    "duration": 19,
    "start_time": "2022-02-02T12:20:34.920Z"
   },
   {
    "duration": 14,
    "start_time": "2022-02-02T12:20:35.370Z"
   },
   {
    "duration": 6,
    "start_time": "2022-02-02T12:20:36.841Z"
   },
   {
    "duration": 11,
    "start_time": "2022-02-02T12:20:37.989Z"
   },
   {
    "duration": 28,
    "start_time": "2022-02-02T12:20:38.821Z"
   },
   {
    "duration": 18,
    "start_time": "2022-02-02T12:20:39.599Z"
   },
   {
    "duration": 7,
    "start_time": "2022-02-02T12:20:40.480Z"
   },
   {
    "duration": 13,
    "start_time": "2022-02-02T12:20:41.606Z"
   },
   {
    "duration": 14,
    "start_time": "2022-02-02T12:20:59.461Z"
   },
   {
    "duration": 23,
    "start_time": "2022-02-02T12:21:00.922Z"
   },
   {
    "duration": 23,
    "start_time": "2022-02-02T12:21:08.590Z"
   },
   {
    "duration": 70,
    "start_time": "2022-02-02T12:21:11.299Z"
   },
   {
    "duration": 21,
    "start_time": "2022-02-02T12:21:13.641Z"
   },
   {
    "duration": 10,
    "start_time": "2022-02-02T12:21:16.281Z"
   },
   {
    "duration": 22,
    "start_time": "2022-02-02T12:21:18.661Z"
   },
   {
    "duration": 7,
    "start_time": "2022-02-02T12:21:23.261Z"
   },
   {
    "duration": 21,
    "start_time": "2022-02-02T12:21:29.810Z"
   },
   {
    "duration": 18,
    "start_time": "2022-02-02T12:21:30.702Z"
   },
   {
    "duration": 21,
    "start_time": "2022-02-02T12:21:33.312Z"
   },
   {
    "duration": 5,
    "start_time": "2022-02-02T12:21:36.451Z"
   },
   {
    "duration": 17,
    "start_time": "2022-02-02T12:21:38.697Z"
   },
   {
    "duration": 5,
    "start_time": "2022-02-02T12:21:39.720Z"
   },
   {
    "duration": 19,
    "start_time": "2022-02-02T12:21:43.151Z"
   },
   {
    "duration": 21,
    "start_time": "2022-02-02T12:21:43.541Z"
   },
   {
    "duration": 8,
    "start_time": "2022-02-02T12:21:46.871Z"
   },
   {
    "duration": 6,
    "start_time": "2022-02-02T12:21:49.640Z"
   },
   {
    "duration": 6,
    "start_time": "2022-02-02T12:21:51.471Z"
   },
   {
    "duration": 24,
    "start_time": "2022-02-02T12:21:55.673Z"
   },
   {
    "duration": 17,
    "start_time": "2022-02-02T12:22:03.031Z"
   },
   {
    "duration": 8,
    "start_time": "2022-02-02T12:22:03.910Z"
   },
   {
    "duration": 5,
    "start_time": "2022-02-02T12:22:04.951Z"
   },
   {
    "duration": 6,
    "start_time": "2022-02-02T12:22:06.021Z"
   },
   {
    "duration": 6,
    "start_time": "2022-02-02T12:22:06.930Z"
   },
   {
    "duration": 7,
    "start_time": "2022-02-02T12:22:07.678Z"
   },
   {
    "duration": 6,
    "start_time": "2022-02-02T12:22:08.100Z"
   },
   {
    "duration": 6,
    "start_time": "2022-02-02T12:22:08.370Z"
   },
   {
    "duration": 5,
    "start_time": "2022-02-02T12:22:08.536Z"
   },
   {
    "duration": 6,
    "start_time": "2022-02-02T12:22:08.880Z"
   },
   {
    "duration": 5,
    "start_time": "2022-02-02T12:22:11.101Z"
   },
   {
    "duration": 5,
    "start_time": "2022-02-02T12:22:11.258Z"
   },
   {
    "duration": 6,
    "start_time": "2022-02-02T12:22:12.651Z"
   },
   {
    "duration": 15,
    "start_time": "2022-02-02T12:22:13.581Z"
   },
   {
    "duration": 8,
    "start_time": "2022-02-02T12:22:17.578Z"
   },
   {
    "duration": 5,
    "start_time": "2022-02-02T12:22:17.890Z"
   },
   {
    "duration": 7,
    "start_time": "2022-02-02T12:22:19.011Z"
   },
   {
    "duration": 14,
    "start_time": "2022-02-02T12:22:19.160Z"
   },
   {
    "duration": 3,
    "start_time": "2022-02-02T12:22:39.331Z"
   },
   {
    "duration": 9,
    "start_time": "2022-02-02T12:22:40.071Z"
   },
   {
    "duration": 7,
    "start_time": "2022-02-02T12:22:41.321Z"
   },
   {
    "duration": 785,
    "start_time": "2022-02-02T12:22:48.883Z"
   },
   {
    "duration": 17,
    "start_time": "2022-02-02T12:23:31.331Z"
   },
   {
    "duration": 14,
    "start_time": "2022-02-02T12:23:47.679Z"
   },
   {
    "duration": 15,
    "start_time": "2022-02-02T12:23:54.390Z"
   },
   {
    "duration": 378,
    "start_time": "2022-02-02T12:24:01.021Z"
   },
   {
    "duration": 593,
    "start_time": "2022-02-02T12:24:06.222Z"
   },
   {
    "duration": 4,
    "start_time": "2022-02-02T12:24:25.440Z"
   },
   {
    "duration": 472,
    "start_time": "2022-02-02T12:24:26.922Z"
   },
   {
    "duration": 4,
    "start_time": "2022-02-02T12:24:27.481Z"
   },
   {
    "duration": 503,
    "start_time": "2022-02-02T12:24:32.770Z"
   },
   {
    "duration": 5,
    "start_time": "2022-02-02T12:24:33.276Z"
   },
   {
    "duration": 470,
    "start_time": "2022-02-02T12:24:34.041Z"
   },
   {
    "duration": 5,
    "start_time": "2022-02-02T12:24:34.570Z"
   },
   {
    "duration": 495,
    "start_time": "2022-02-02T12:24:35.000Z"
   },
   {
    "duration": 11,
    "start_time": "2022-02-02T12:24:35.498Z"
   },
   {
    "duration": 462,
    "start_time": "2022-02-02T12:24:35.941Z"
   },
   {
    "duration": 4,
    "start_time": "2022-02-02T12:24:36.408Z"
   },
   {
    "duration": 41,
    "start_time": "2022-02-02T12:24:40.961Z"
   },
   {
    "duration": 52,
    "start_time": "2022-02-02T12:24:41.079Z"
   },
   {
    "duration": 853,
    "start_time": "2022-02-02T12:24:54.379Z"
   },
   {
    "duration": 25,
    "start_time": "2022-02-02T12:25:45.408Z"
   },
   {
    "duration": 26,
    "start_time": "2022-02-02T12:25:57.830Z"
   },
   {
    "duration": 13,
    "start_time": "2022-02-02T12:26:00.899Z"
   },
   {
    "duration": 408,
    "start_time": "2022-02-02T12:26:03.940Z"
   },
   {
    "duration": 24,
    "start_time": "2022-02-02T12:27:34.887Z"
   },
   {
    "duration": 16,
    "start_time": "2022-02-02T12:27:45.530Z"
   },
   {
    "duration": 3,
    "start_time": "2022-02-02T12:27:53.940Z"
   },
   {
    "duration": 352,
    "start_time": "2022-02-02T12:27:54.600Z"
   },
   {
    "duration": 14,
    "start_time": "2022-02-02T12:28:29.579Z"
   },
   {
    "duration": 305,
    "start_time": "2022-02-02T12:28:30.728Z"
   },
   {
    "duration": 9,
    "start_time": "2022-02-02T12:29:02.439Z"
   },
   {
    "duration": 417,
    "start_time": "2022-02-02T12:29:03.440Z"
   },
   {
    "duration": 13,
    "start_time": "2022-02-02T12:30:02.271Z"
   },
   {
    "duration": 6,
    "start_time": "2022-02-02T12:30:10.091Z"
   },
   {
    "duration": 11,
    "start_time": "2022-02-02T12:30:26.300Z"
   },
   {
    "duration": 4,
    "start_time": "2022-02-02T12:30:29.110Z"
   },
   {
    "duration": 12,
    "start_time": "2022-02-02T12:30:46.440Z"
   },
   {
    "duration": 5,
    "start_time": "2022-02-02T12:30:49.516Z"
   },
   {
    "duration": 13,
    "start_time": "2022-02-02T12:31:20.639Z"
   },
   {
    "duration": 12,
    "start_time": "2022-02-02T12:31:21.451Z"
   },
   {
    "duration": 12,
    "start_time": "2022-02-02T12:31:23.000Z"
   },
   {
    "duration": 11,
    "start_time": "2022-02-02T12:31:23.469Z"
   },
   {
    "duration": 12,
    "start_time": "2022-02-02T12:32:02.769Z"
   },
   {
    "duration": 11,
    "start_time": "2022-02-02T12:32:03.349Z"
   },
   {
    "duration": 12,
    "start_time": "2022-02-02T12:32:03.800Z"
   },
   {
    "duration": 11,
    "start_time": "2022-02-02T12:32:44.527Z"
   },
   {
    "duration": 14,
    "start_time": "2022-02-02T12:32:45.052Z"
   },
   {
    "duration": 10,
    "start_time": "2022-02-02T12:32:45.470Z"
   },
   {
    "duration": 13,
    "start_time": "2022-02-02T12:32:46.030Z"
   },
   {
    "duration": 18,
    "start_time": "2022-02-02T12:32:49.809Z"
   },
   {
    "duration": 9,
    "start_time": "2022-02-02T12:32:50.559Z"
   },
   {
    "duration": 4,
    "start_time": "2022-02-02T12:32:51.168Z"
   },
   {
    "duration": 4,
    "start_time": "2022-02-02T12:32:51.708Z"
   },
   {
    "duration": 3,
    "start_time": "2022-02-02T12:32:58.550Z"
   },
   {
    "duration": 5,
    "start_time": "2022-02-02T12:32:59.740Z"
   },
   {
    "duration": 3,
    "start_time": "2022-02-02T12:33:03.780Z"
   },
   {
    "duration": 6,
    "start_time": "2022-02-02T12:33:04.098Z"
   },
   {
    "duration": 16,
    "start_time": "2022-02-02T12:33:13.320Z"
   },
   {
    "duration": 7,
    "start_time": "2022-02-02T12:33:13.940Z"
   },
   {
    "duration": 12,
    "start_time": "2022-02-02T12:33:14.129Z"
   },
   {
    "duration": 13,
    "start_time": "2022-02-02T12:33:14.292Z"
   },
   {
    "duration": 10,
    "start_time": "2022-02-02T12:33:14.628Z"
   },
   {
    "duration": 3,
    "start_time": "2022-02-02T12:33:14.781Z"
   },
   {
    "duration": 13,
    "start_time": "2022-02-02T12:33:17.129Z"
   },
   {
    "duration": 13,
    "start_time": "2022-02-02T12:33:17.268Z"
   },
   {
    "duration": 10,
    "start_time": "2022-02-02T12:33:17.455Z"
   },
   {
    "duration": 3,
    "start_time": "2022-02-02T12:33:17.572Z"
   },
   {
    "duration": 3,
    "start_time": "2022-02-02T12:33:20.657Z"
   },
   {
    "duration": 6,
    "start_time": "2022-02-02T12:33:21.208Z"
   },
   {
    "duration": 6,
    "start_time": "2022-02-02T12:33:22.210Z"
   },
   {
    "duration": 85,
    "start_time": "2022-02-02T12:41:52.340Z"
   }
  ],
  "kernelspec": {
   "display_name": "Python 3",
   "language": "python",
   "name": "python3"
  },
  "language_info": {
   "codemirror_mode": {
    "name": "ipython",
    "version": 3
   },
   "file_extension": ".py",
   "mimetype": "text/x-python",
   "name": "python",
   "nbconvert_exporter": "python",
   "pygments_lexer": "ipython3",
   "version": "3.8.8"
  },
  "toc": {
   "base_numbering": 1,
   "nav_menu": {},
   "number_sections": true,
   "sideBar": true,
   "skip_h1_title": true,
   "title_cell": "Table of Contents",
   "title_sidebar": "Contents",
   "toc_cell": false,
   "toc_position": {},
   "toc_section_display": true,
   "toc_window_display": false
  }
 },
 "nbformat": 4,
 "nbformat_minor": 2
}
